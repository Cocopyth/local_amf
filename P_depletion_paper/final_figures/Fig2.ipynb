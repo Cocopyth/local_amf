{
 "cells": [
  {
   "cell_type": "code",
   "execution_count": 1,
   "id": "0b1847a7-bb65-4a78-b416-6d429bd60c81",
   "metadata": {},
   "outputs": [
    {
     "name": "stderr",
     "output_type": "stream",
     "text": [
      "c:\\users\\coren\\documents\\phd\\code\\amftrack\\amftrack\\util\\dbx.py:3: TqdmExperimentalWarning: Using `tqdm.autonotebook.tqdm` in notebook mode. Use `tqdm.tqdm` instead to force console mode (e.g. in jupyter console)\n",
      "  from tqdm.autonotebook import tqdm\n"
     ]
    }
   ],
   "source": [
    "# import os\n",
    "import matplotlib.pyplot as plt\n",
    "import os\n",
    "import pandas as pd\n",
    "from amftrack.util.sys import get_analysis_folders,get_time_plate_info_from_analysis,get_time_hypha_info_from_analysis,get_global_hypha_info_from_analysis \n",
    "import numpy as np\n",
    "import imageio\n",
    "import os\n",
    "import cv2\n",
    "from scipy.interpolate import interp1d\n",
    "from scipy.optimize import curve_fit\n",
    "from amftrack.pipeline.final_analysis.density_wave import get_wave_fit, S, dS, wave, dwave\n",
    "import matplotlib.patches as mpatches\n",
    "from random import choice\n",
    "import matplotlib as mpl\n",
    "from amftrack.pipeline.final_analysis.density_wave import plot_single_plate,plot_single_plate_biovolume\n",
    "from amftrack.pipeline.final_analysis.hypha_speed_analysis import *\n",
    "from amftrack.util.plot import gridplot, make_stat\n",
    "from helper import *\n",
    "from load_dataframes import load_all\n",
    "from plates import plates,timestep\n",
    "%matplotlib widget\n",
    "%load_ext autoreload\n",
    "%autoreload 2\n",
    "from mpl_toolkits.axes_grid1.inset_locator import inset_axes\n",
    "import scipy\n",
    "import statsmodels.api as sm\n",
    "import hashlib\n",
    "from matplotlib.patches import Ellipse\n",
    "import logging\n",
    "plt.style.use('presentation.mplstyle')\n",
    "import seaborn as sns\n",
    "import matplotlib.pyplot as plt\n",
    "logging.getLogger().setLevel(logging.WARNING)"
   ]
  },
  {
   "cell_type": "code",
   "execution_count": 2,
   "id": "14a57a54-0989-48a2-82ce-a2ef63b064b3",
   "metadata": {},
   "outputs": [],
   "source": [
    "path_figure = r\"C:\\Users\\coren\\Documents\\PhD\\paper\\PandC\\Fig2\"\n"
   ]
  },
  {
   "cell_type": "code",
   "execution_count": 3,
   "id": "22096afe-582d-4e17-82c8-1c81afe8c295",
   "metadata": {},
   "outputs": [
    {
     "data": {
      "text/plain": [
       "'C:\\\\Users\\\\coren\\\\Documents\\\\PhD\\\\paper\\\\PandC\\\\Fig2'"
      ]
     },
     "execution_count": 3,
     "metadata": {},
     "output_type": "execute_result"
    }
   ],
   "source": [
    "path_figure"
   ]
  },
  {
   "cell_type": "code",
   "execution_count": 4,
   "id": "46e8a389-2e65-4fb2-8410-724164e6936b",
   "metadata": {
    "tags": []
   },
   "outputs": [
    {
     "name": "stderr",
     "output_type": "stream",
     "text": [
      "C:\\Users\\coren\\Documents\\PhD\\Code\\pycode\\P_depletion_paper\\final_figures\\load_dataframes.py:111: UserWarning: Parsing dates in DD/MM/YYYY format when dayfirst=False (the default) was specified. This may lead to inconsistently parsed dates! Specify a format to ensure consistent parsing.\n",
      "  df_sum['start'] = pd.to_datetime(df_sum['start'], errors='coerce')\n",
      "C:\\Users\\coren\\Documents\\PhD\\Code\\pycode\\P_depletion_paper\\final_figures\\load_dataframes.py:112: UserWarning: Parsing dates in DD/MM/YYYY format when dayfirst=False (the default) was specified. This may lead to inconsistently parsed dates! Specify a format to ensure consistent parsing.\n",
      "  df_sum['crossed']  = pd.to_datetime(df_sum['crossed'], errors='coerce')\n",
      "C:\\Users\\coren\\Documents\\PhD\\Code\\pycode\\P_depletion_paper\\final_figures\\load_dataframes.py:113: UserWarning: Parsing dates in DD/MM/YYYY format when dayfirst=False (the default) was specified. This may lead to inconsistently parsed dates! Specify a format to ensure consistent parsing.\n",
      "  df_sum['date_fungus']  = pd.to_datetime(df_sum['age fungus'], errors='coerce')\n",
      "C:\\Users\\coren\\anaconda3\\envs\\amftrack\\lib\\site-packages\\numpy\\lib\\nanfunctions.py:1217: RuntimeWarning: All-NaN slice encountered\n",
      "  r, k = function_base._ureduce(a, func=_nanmedian, axis=axis, out=out,\n",
      "C:\\Users\\coren\\anaconda3\\envs\\amftrack\\lib\\site-packages\\numpy\\lib\\nanfunctions.py:1215: RuntimeWarning: Mean of empty slice\n",
      "  return np.nanmean(a, axis, out=out, keepdims=keepdims)\n"
     ]
    }
   ],
   "source": [
    "df,final_data = load_all(plates)"
   ]
  },
  {
   "cell_type": "code",
   "execution_count": 5,
   "id": "c260495c-d9ac-48c0-b477-27ec4be4885b",
   "metadata": {},
   "outputs": [],
   "source": [
    "def calculate_derivative(df, column, new_column, window=1):\n",
    "    # Ensure the DataFrame is sorted by 'unique_id' and 'time_since_begin_h'\n",
    "    df.sort_values(by=['unique_id', 'time_since_begin_h'], inplace=True)\n",
    "    \n",
    "    # Calculate the time difference and value difference over the desired window\n",
    "    df['time_diff'] = df.groupby('unique_id')['time_since_begin_h'].transform(lambda x: x.diff(window)).fillna(0)\n",
    "    df['value_diff'] = df.groupby('unique_id')[column].transform(lambda x: x.diff(window)).fillna(0)\n",
    "\n",
    "    # Calculate the derivative (value difference divided by time difference)\n",
    "    # Be cautious about dividing by zero. If 'time_diff' is 0, set derivative to NaN or handle accordingly.\n",
    "    df[new_column] = df.apply(lambda x: x['value_diff'] / x['time_diff'] if x['time_diff'] != 0 else None, axis=1)\n",
    "\n",
    "    # Drop the helper columns\n",
    "    df.drop(['time_diff', 'value_diff'], axis=1, inplace=True)\n",
    "def calculate_integral(df, column, new_column):\n",
    "    # Calculate the time difference within each group\n",
    "    df.sort_values(by=['unique_id', 'time_since_begin_h'], inplace=True)\n",
    "    df['time_since_begin_hour'] = df['time_since_begin_h']\n",
    "    df['time_diff'] = df.groupby('unique_id')['time_since_begin_hour'].transform(lambda x: x.diff())\n",
    "\n",
    "    # Calculate the average length density within each group\n",
    "    df['avg_length_density'] = df.groupby('unique_id')[column].transform(lambda x: x.rolling(window=2).mean())\n",
    "\n",
    "    # Calculate the \"area\" (using Trapezoidal rule) for each pair of rows within each group\n",
    "    df['area'] = df['time_diff'] * df['avg_length_density']\n",
    "\n",
    "    # Perform the integration (cumulative sum of \"area\") within each group\n",
    "    df[new_column] = df.groupby('unique_id')['area'].transform(lambda x: x.cumsum())\n",
    "\n",
    "    # Drop the helper columns if needed\n",
    "    df.drop(['time_diff', 'avg_length_density', 'area'], axis=1, inplace=True)\n",
    "calculate_integral(final_data,f'tot_surface_area_study',f'integrated_SA')\n",
    "calculate_derivative(final_data,f'tot_biovolume_study',f'derivative_biovolume', window=5)\n",
    "calculate_derivative(final_data,f'tot_volume',f'derivative_tot_biovolume', window=5)\n",
    "calculate_derivative(final_data,f'tot_biovolume_study',f'derivative_biovolume_smooth', window=10)\n",
    "\n",
    "\n",
    "Vmax = 3e-9*25 #ugP/um2/hour\n",
    "density = 1e-6 #ug/um3\n",
    "dry_wet_ratio = 0.3\n",
    "carbon_ratio = 0.5\n",
    "carbon_ratio_spore = 0.5\n",
    "dry_wet_ratio_spore = 0.3\n",
    "density_spore = 1e-6\n",
    "respiration_ratio = 0.5\n",
    "final_data['P_rate'] =final_data['tot_surface_area_study']*Vmax\n",
    "final_data['C_rate'] = final_data['derivative_biovolume']*density*dry_wet_ratio*carbon_ratio/respiration_ratio\n",
    "final_data['totC_hypha'] = final_data['tot_biovolume_study']*density*dry_wet_ratio*carbon_ratio\n",
    "\n",
    "baseline = final_data[final_data['time_since_begin_h'] == 0]\n",
    "\n",
    "baseline_volume = baseline.groupby('unique_id')['spore_volume'].first()\n",
    "final_data['adjusted_spore_volume'] = final_data.groupby('unique_id')['spore_volume'].transform(lambda x: x - baseline_volume[x.name])\n",
    "\n",
    "final_data['tot_volume'] = final_data['adjusted_spore_volume']+final_data['tot_biovolume_study']\n",
    "final_data['totC_spore'] = final_data['adjusted_spore_volume']*density_spore*dry_wet_ratio_spore*carbon_ratio_spore\n",
    "\n",
    "#IMPORTANT MAKE A CHOICE WHETHER OR NOT TO INCLUDE SPORES\n",
    "final_data['totC_tot'] = final_data['totC_hypha'] + final_data['totC_spore']\n",
    "# final_data['totC_tot'] = final_data['totC_hypha']\n",
    "\n",
    "\n",
    "final_data = final_data.reset_index(drop=True)\n",
    "final_data_select = final_data.loc[final_data['time_since_begin_h_shifted']<=150]\n",
    "\n",
    "max_c_rate_time = final_data_select.loc[final_data_select.groupby('unique_id')['C_rate'].idxmax(), ['unique_id', 'time_since_begin_h_shifted']]\n",
    "\n",
    "# Step 2: Merge this information back to the original DataFrame\n",
    "final_data = final_data.merge(max_c_rate_time, on='unique_id', suffixes=('', '_max_c_rate'))"
   ]
  },
  {
   "cell_type": "code",
   "execution_count": 6,
   "id": "ff93d85a-aa28-4f82-9127-b8bab3f9cd3d",
   "metadata": {},
   "outputs": [
    {
     "data": {
      "text/plain": [
       "4.241150082346221e-06"
      ]
     },
     "execution_count": 6,
     "metadata": {},
     "output_type": "execute_result"
    }
   ],
   "source": [
    "import numpy as np\n",
    "density = 1e-6 #ug/um3\n",
    "dry_wet_ratio = 0.3\n",
    "carbon_ratio = 0.5\n",
    "density*dry_wet_ratio*carbon_ratio*np.pi*3**2"
   ]
  },
  {
   "cell_type": "code",
   "execution_count": 7,
   "id": "a4d6332f-e07f-4d52-a81d-55dcc577df41",
   "metadata": {},
   "outputs": [
    {
     "data": {
      "text/plain": [
       "<AxesSubplot: xlabel='time_since_begin_h_shifted', ylabel='hull_speed'>"
      ]
     },
     "execution_count": 7,
     "metadata": {},
     "output_type": "execute_result"
    },
    {
     "data": {
      "application/vnd.jupyter.widget-view+json": {
       "model_id": "66cdfaa361854f1baea115b002d33a46",
       "version_major": 2,
       "version_minor": 0
      },
      "image/png": "[encoded data removed]",
      "text/html": [
       "\n",
       "            <div style=\"display: inline-block;\">\n",
       "                <div class=\"jupyter-widgets widget-label\" style=\"text-align: center;\">\n",
       "                    Figure\n",
       "                </div>\n",
       "                <img src='data:image/png;base64,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' width=640.0/>\n",
       "            </div>\n",
       "        "
      ],
      "text/plain": [
       "Canvas(toolbar=Toolbar(toolitems=[('Home', 'Reset original view', 'home', 'home'), ('Back', 'Back to previous …"
      ]
     },
     "metadata": {},
     "output_type": "display_data"
    }
   ],
   "source": [
    "select = final_data[final_data['unique_id'] == 84_20220621]\n",
    "select = select[select['time_since_begin_h_shifted'] <= 200]\n",
    "\n",
    "fig,ax = plt.subplots()\n",
    "sns.scatterplot(data=select, x='time_since_begin_h_shifted', y='hull_speed', ax=ax, lw=1)\n",
    "# ax.vlines(select['time_since_begin_h_shifted_max_c_rate'].iloc[0],0,1e6,color= \"red\")"
   ]
  },
  {
   "cell_type": "code",
   "execution_count": 8,
   "id": "8160582d-8cdc-4aa9-a87d-c863dfd21969",
   "metadata": {},
   "outputs": [],
   "source": [
    "calculate_derivative(final_data,f'tot_surface_area_study',f'derivative_SA', window=5)\n",
    "calculate_derivative(final_data,f'totC_tot',f'derivative_C', window=5)\n",
    "\n",
    "calculate_derivative(final_data,f'area_sep_comp',f'derivative_area', window=5)\n",
    "final_data['instant_SA_dens'] = final_data['derivative_SA']/final_data['derivative_area']\n",
    "calculate_derivative(final_data,f'tot_biovolume_study',f'derivative_BV', window=5)\n",
    "final_data['instant_BV_dens'] = final_data['derivative_BV']/final_data['derivative_area']\n",
    "calculate_derivative(final_data,f'tot_length_study',f'derivative_L', window=5)\n",
    "final_data['instant_L_dens'] = final_data['derivative_L']/final_data['derivative_area']\n",
    "final_data['instant_C_dens'] = final_data['derivative_C']/final_data['derivative_area']\n",
    "\n",
    "final_data['instant_radius'] = final_data['instant_BV_dens']/final_data['instant_SA_dens']*2\n",
    "final_data['strain'] = final_data['strain'].replace(\"A5V\",\"A5\")\n"
   ]
  },
  {
   "cell_type": "code",
   "execution_count": 9,
   "id": "5e94a10f-410f-417d-a679-10ffa555dc5c",
   "metadata": {},
   "outputs": [],
   "source": [
    "df['FungalSide'] = df['FungalSide'].fillna(\"100P/100N/100C\")\n",
    "df['FungalSide'] = df['FungalSide'].replace(\"100P100N100C\",\"100P/100N/100C\")\n",
    "df['FungalSide'] = df['FungalSide'].replace(\"100P100N100C\",\"100P/100N/100C\")\n",
    "\n",
    "df['treatment'] = df['treatment'].replace(\"1P100N100C\",\"1P/100N/100C\")\n",
    "df['fungus'] = df['fungus'].replace(\"A5sp3\",\"A5\")\n",
    "df['fungus'] = df['fungus'].replace(\"A5V\",\"A5\")\n",
    "\n",
    "df['category_combination'] = df[['treatment', 'FungalSide',\"real_root\"]].apply(lambda x: '_'.join(x.astype(str)), axis=1)\n",
    "df['size_point'] = 20\n",
    "marker_symbols = {\n",
    "    \"C2\": 'circle',\n",
    "    \"A5\": 'square',\n",
    "    \"Agg\": 'diamond',\n",
    "    \"Clarum\": 'cross',\n",
    "    \"C3\": 'star',\n",
    "    \n",
    "    \n",
    "    # Add more mappings as needed\n",
    "}\n",
    "\n",
    "n_colors = len(df['fungus'].unique())\n",
    "\n",
    "palette = sns.color_palette(\"rainbow\", n_colors)\n",
    "strain_to_color = dict(zip(df['fungus'].unique(), palette))\n",
    "strain_to_color = {\"C2\": (0.17058823529411765, 0.4946558433997788, 0.9667184042691874),\n",
    " \"A5\": (0.16666666666666663, 0.8660254037844386, 0.8660254037844387),\n",
    " \"Agg\": (0.503921568627451, 0.9999810273487268, 0.7049255469061472),\n",
    " \"Clarum\": (0.8333333333333333, 0.8660254037844387, 0.5000000000000001),\n",
    " \"C3\": (1.0, 0.4946558433997788, 0.2558427775944356)}\n",
    "\n",
    "df['full_category_combination'] = df[['fungus','treatment', 'FungalSide',\"real_root\"]].apply(lambda x: '_'.join(x.astype(str)), axis=1)\n",
    "\n",
    "# Map the strain to the marker symbol in the DataFrame\n",
    "df['marker'] = df['fungus'].map(marker_symbols)\n"
   ]
  },
  {
   "cell_type": "code",
   "execution_count": 10,
   "id": "1ddb0300-037c-4aaa-ad51-247240a7bac9",
   "metadata": {},
   "outputs": [
    {
     "data": {
      "text/plain": [
       "array(['A5'], dtype=object)"
      ]
     },
     "execution_count": 10,
     "metadata": {},
     "output_type": "execute_result"
    }
   ],
   "source": [
    "select[select['strain']!=\"A5V \"]['strain'].unique()"
   ]
  },
  {
   "cell_type": "code",
   "execution_count": 16,
   "id": "0783c799-b4a2-4af7-92cf-f8bc3ef314f9",
   "metadata": {},
   "outputs": [
    {
     "name": "stdout",
     "output_type": "stream",
     "text": [
      "2024-04-02 22:07:55,930-[WARNING]- fontTools.subset:2983 -> meta NOT subset; don't know how to subset; dropped\n"
     ]
    },
    {
     "data": {
      "application/vnd.jupyter.widget-view+json": {
       "model_id": "842ea45614e34d378239cca7ee41f1f7",
       "version_major": 2,
       "version_minor": 0
      },
      "image/png": "[encoded data removed]",
      "text/html": [
       "\n",
       "            <div style=\"display: inline-block;\">\n",
       "                <div class=\"jupyter-widgets widget-label\" style=\"text-align: center;\">\n",
       "                    Figure\n",
       "                </div>\n",
       "                <img src='data:image/png;base64,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' width=149.6062992125984/>\n",
       "            </div>\n",
       "        "
      ],
      "text/plain": [
       "Canvas(toolbar=Toolbar(toolitems=[('Home', 'Reset original view', 'home', 'home'), ('Back', 'Back to previous …"
      ]
     },
     "metadata": {},
     "output_type": "display_data"
    }
   ],
   "source": [
    "plt.style.use('presentation.mplstyle')\n",
    "\n",
    "bin_size = 30\n",
    "cm = 1/2.54  # centimeters in inches\n",
    "select = final_data\n",
    "select = final_data.loc[final_data['hull_speed']>0].copy()\n",
    "select['hull_speed_binned'] = select['hull_speed'].astype(int)//bin_size*bin_size\n",
    "select= select[select['instant_C_dens']>0]\n",
    "select= select[select['instant_C_dens']<=0.025]\n",
    "select= select[select['real_root']==\"Carrot Toby\"]\n",
    "select= select[select['fungalC']==\"100P/100N/100C\"]\n",
    "select= select[select['strain']!=\"A5V \"]\n",
    "\n",
    "# select= select[select['strain']==\"C2\"]\n",
    "select = select[select['time_since_begin_h_shifted'] < select['time_since_begin_h_shifted_max_c_rate']+20]\n",
    "# select = select[select['time_hour_binned'] <= 50]\n",
    "# select = select[select['time_hour_binned'] >= 0]\n",
    "\n",
    "summary = select.groupby([\"strain\", 'time_hour_binned']).agg({\n",
    "    'hull_speed': 'median',\n",
    "    'instant_SA_dens': 'median',\n",
    "    'radius': 'median',\n",
    "    'instant_BV_dens': 'count',\n",
    "    'instant_L_dens': 'median',\n",
    "    'instant_C_dens': 'median',\n",
    "    \n",
    "}).rename(columns={'instant_BV_dens': 'count'})\n",
    "summary = summary[summary['count']>7]\n",
    "summary = summary.reset_index()\n",
    "fig,ax = plt.subplots(figsize = (3.8*cm,5.6*cm))\n",
    "\n",
    "sns.scatterplot(summary, x='hull_speed', y='instant_C_dens',hue=\"strain\",s=50,palette=strain_to_color,alpha = 0.6)\n",
    "sns.regplot(data=summary, x='hull_speed', y='instant_C_dens',scatter = False,color = \"black\")\n",
    "summary = select.groupby(\"strain\")[['hull_speed','hull_speed_binned','instant_SA_dens','radius','instant_BV_dens','instant_L_dens','instant_C_dens']].median()\n",
    "# sns.scatterplot(summary, x='hull_speed', y='instant_C_dens',hue=\"strain\",s=200,palette=strain_to_color)\n",
    "ax.legend('')\n",
    "summary['size_point'] = 20\n",
    "summary['fungus'] = summary.index\n",
    "ax.set_xlabel('$v_{wave}$ (um/h)')\n",
    "ax.set_ylabel('$d_{Carbon}$ ($\\mu g/mm^2$)')\n",
    "plt.legend().remove()\n",
    "# plt.tight_layout()\n",
    "\n",
    "plt.savefig(os.path.join(path_figure,'Figure2A.pdf'), transparent=True, bbox_inches='tight')\n"
   ]
  },
  {
   "cell_type": "code",
   "execution_count": 12,
   "id": "39e4d21f-fbf2-46fd-a671-3aaa6452e209",
   "metadata": {
    "tags": []
   },
   "outputs": [
    {
     "data": {
      "text/html": [
       "<div>\n",
       "<style scoped>\n",
       "    .dataframe tbody tr th:only-of-type {\n",
       "        vertical-align: middle;\n",
       "    }\n",
       "\n",
       "    .dataframe tbody tr th {\n",
       "        vertical-align: top;\n",
       "    }\n",
       "\n",
       "    .dataframe thead th {\n",
       "        text-align: right;\n",
       "    }\n",
       "</style>\n",
       "<table border=\"1\" class=\"dataframe\">\n",
       "  <thead>\n",
       "    <tr style=\"text-align: right;\">\n",
       "      <th></th>\n",
       "      <th></th>\n",
       "      <th>hull_speed</th>\n",
       "      <th>instant_SA_dens</th>\n",
       "      <th>radius</th>\n",
       "      <th>count</th>\n",
       "      <th>instant_L_dens</th>\n",
       "      <th>instant_C_dens</th>\n",
       "    </tr>\n",
       "    <tr>\n",
       "      <th>strain</th>\n",
       "      <th>time_hour_binned</th>\n",
       "      <th></th>\n",
       "      <th></th>\n",
       "      <th></th>\n",
       "      <th></th>\n",
       "      <th></th>\n",
       "      <th></th>\n",
       "    </tr>\n",
       "  </thead>\n",
       "  <tbody>\n",
       "    <tr>\n",
       "      <th rowspan=\"5\" valign=\"top\">A5</th>\n",
       "      <th>-30</th>\n",
       "      <td>234.657491</td>\n",
       "      <td>27013.542449</td>\n",
       "      <td>2.167435</td>\n",
       "      <td>9</td>\n",
       "      <td>1007.304243</td>\n",
       "      <td>0.004617</td>\n",
       "    </tr>\n",
       "    <tr>\n",
       "      <th>-20</th>\n",
       "      <td>232.294729</td>\n",
       "      <td>15034.920794</td>\n",
       "      <td>2.147137</td>\n",
       "      <td>11</td>\n",
       "      <td>841.617419</td>\n",
       "      <td>0.002588</td>\n",
       "    </tr>\n",
       "    <tr>\n",
       "      <th>-10</th>\n",
       "      <td>241.266815</td>\n",
       "      <td>15691.049012</td>\n",
       "      <td>2.294707</td>\n",
       "      <td>20</td>\n",
       "      <td>774.773176</td>\n",
       "      <td>0.003249</td>\n",
       "    </tr>\n",
       "    <tr>\n",
       "      <th>0</th>\n",
       "      <td>262.994865</td>\n",
       "      <td>19261.292216</td>\n",
       "      <td>2.272681</td>\n",
       "      <td>33</td>\n",
       "      <td>965.518149</td>\n",
       "      <td>0.004527</td>\n",
       "    </tr>\n",
       "    <tr>\n",
       "      <th>10</th>\n",
       "      <td>256.882451</td>\n",
       "      <td>15270.482370</td>\n",
       "      <td>2.221096</td>\n",
       "      <td>38</td>\n",
       "      <td>882.064258</td>\n",
       "      <td>0.003611</td>\n",
       "    </tr>\n",
       "    <tr>\n",
       "      <th>...</th>\n",
       "      <th>...</th>\n",
       "      <td>...</td>\n",
       "      <td>...</td>\n",
       "      <td>...</td>\n",
       "      <td>...</td>\n",
       "      <td>...</td>\n",
       "      <td>...</td>\n",
       "    </tr>\n",
       "    <tr>\n",
       "      <th rowspan=\"5\" valign=\"top\">Clarum</th>\n",
       "      <th>60</th>\n",
       "      <td>248.520743</td>\n",
       "      <td>18720.849159</td>\n",
       "      <td>2.077696</td>\n",
       "      <td>14</td>\n",
       "      <td>1119.434217</td>\n",
       "      <td>0.004480</td>\n",
       "    </tr>\n",
       "    <tr>\n",
       "      <th>70</th>\n",
       "      <td>243.483729</td>\n",
       "      <td>18980.321851</td>\n",
       "      <td>2.063873</td>\n",
       "      <td>20</td>\n",
       "      <td>1186.175253</td>\n",
       "      <td>0.004243</td>\n",
       "    </tr>\n",
       "    <tr>\n",
       "      <th>80</th>\n",
       "      <td>226.119706</td>\n",
       "      <td>19850.593537</td>\n",
       "      <td>2.058350</td>\n",
       "      <td>19</td>\n",
       "      <td>1105.256239</td>\n",
       "      <td>0.005475</td>\n",
       "    </tr>\n",
       "    <tr>\n",
       "      <th>90</th>\n",
       "      <td>249.859334</td>\n",
       "      <td>21406.775516</td>\n",
       "      <td>2.038468</td>\n",
       "      <td>18</td>\n",
       "      <td>1388.789974</td>\n",
       "      <td>0.006201</td>\n",
       "    </tr>\n",
       "    <tr>\n",
       "      <th>100</th>\n",
       "      <td>234.515519</td>\n",
       "      <td>19052.025800</td>\n",
       "      <td>2.026076</td>\n",
       "      <td>15</td>\n",
       "      <td>1167.950330</td>\n",
       "      <td>0.004662</td>\n",
       "    </tr>\n",
       "  </tbody>\n",
       "</table>\n",
       "<p>76 rows × 6 columns</p>\n",
       "</div>"
      ],
      "text/plain": [
       "                         hull_speed  instant_SA_dens    radius  count  \\\n",
       "strain time_hour_binned                                                 \n",
       "A5     -30               234.657491     27013.542449  2.167435      9   \n",
       "       -20               232.294729     15034.920794  2.147137     11   \n",
       "       -10               241.266815     15691.049012  2.294707     20   \n",
       "        0                262.994865     19261.292216  2.272681     33   \n",
       "        10               256.882451     15270.482370  2.221096     38   \n",
       "...                             ...              ...       ...    ...   \n",
       "Clarum  60               248.520743     18720.849159  2.077696     14   \n",
       "        70               243.483729     18980.321851  2.063873     20   \n",
       "        80               226.119706     19850.593537  2.058350     19   \n",
       "        90               249.859334     21406.775516  2.038468     18   \n",
       "        100              234.515519     19052.025800  2.026076     15   \n",
       "\n",
       "                         instant_L_dens  instant_C_dens  \n",
       "strain time_hour_binned                                  \n",
       "A5     -30                  1007.304243        0.004617  \n",
       "       -20                   841.617419        0.002588  \n",
       "       -10                   774.773176        0.003249  \n",
       "        0                    965.518149        0.004527  \n",
       "        10                   882.064258        0.003611  \n",
       "...                                 ...             ...  \n",
       "Clarum  60                  1119.434217        0.004480  \n",
       "        70                  1186.175253        0.004243  \n",
       "        80                  1105.256239        0.005475  \n",
       "        90                  1388.789974        0.006201  \n",
       "        100                 1167.950330        0.004662  \n",
       "\n",
       "[76 rows x 6 columns]"
      ]
     },
     "execution_count": 12,
     "metadata": {},
     "output_type": "execute_result"
    }
   ],
   "source": [
    "summary = select.groupby([\"strain\", 'time_hour_binned']).agg({\n",
    "    'hull_speed': 'median',\n",
    "    'instant_SA_dens': 'median',\n",
    "    'radius': 'median',\n",
    "    'instant_BV_dens': 'count',\n",
    "    'instant_L_dens': 'median',\n",
    "    'instant_C_dens': 'median',\n",
    "    \n",
    "}).rename(columns={'instant_BV_dens': 'count'})\n",
    "summary = summary[summary['count']>7]\n",
    "summary"
   ]
  },
  {
   "cell_type": "code",
   "execution_count": 13,
   "id": "ba2fa928-2133-491e-a422-56a8062c020b",
   "metadata": {},
   "outputs": [],
   "source": [
    "select = final_data[final_data['real_root']==\"Carrot Toby\"]\n",
    "select = select[select['time_since_begin_h_shifted'] < select['time_since_begin_h_shifted_max_c_rate']+20]\n",
    "select = select[select['C_rate'] >= 0]\n",
    "max_c_rate_time = select.loc[select.groupby('unique_id')['time_since_begin_h_shifted'].idxmax(), ['folder','unique_id','time_since_begin_h']]\n",
    "max_c_rate_time.to_csv('list_last_folder.csv')"
   ]
  },
  {
   "cell_type": "code",
   "execution_count": 18,
   "id": "8ad1ca99-10f1-47eb-8d36-648c96c7164d",
   "metadata": {},
   "outputs": [
    {
     "name": "stdout",
     "output_type": "stream",
     "text": [
      "2024-04-02 22:10:45,390-[WARNING]- fontTools.subset:2983 -> meta NOT subset; don't know how to subset; dropped\n"
     ]
    },
    {
     "data": {
      "application/vnd.jupyter.widget-view+json": {
       "model_id": "141cb622bde044eba7f551c54c302b0a",
       "version_major": 2,
       "version_minor": 0
      },
      "image/png": "[encoded data removed]",
      "text/html": [
       "\n",
       "            <div style=\"display: inline-block;\">\n",
       "                <div class=\"jupyter-widgets widget-label\" style=\"text-align: center;\">\n",
       "                    Figure\n",
       "                </div>\n",
       "                <img src='data:image/png;base64,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' width=149.6062992125984/>\n",
       "            </div>\n",
       "        "
      ],
      "text/plain": [
       "Canvas(toolbar=Toolbar(toolitems=[('Home', 'Reset original view', 'home', 'home'), ('Back', 'Back to previous …"
      ]
     },
     "metadata": {},
     "output_type": "display_data"
    }
   ],
   "source": [
    "import os\n",
    "import seaborn as sns\n",
    "import matplotlib.pyplot as plt\n",
    "\n",
    "# Assuming final_data is your DataFrame and it contains a 'unique_id' column\n",
    "# Group by 'time_hour_binned' and filter out groups with less than 3 unique IDs\n",
    "tmax = 150\n",
    "select = final_data[final_data['real_root']==\"Carrot Toby\"]\n",
    "select= select[select['fungalC']==\"100P/100N/100C\"]\n",
    "\n",
    "select = select[select['time_since_begin_h_shifted'] < select['time_since_begin_h_shifted_max_c_rate']+20]\n",
    "select = select[select['time_hour_binned'] <= 50]\n",
    "select = select[select['C_rate'] >= 0]\n",
    "select= select[select['strain']!=\"A5V \"]\n",
    "\n",
    "select = select.copy()\n",
    "select['time_reshift'] = select['time_hour_binned']+50\n",
    "\n",
    "\n",
    "\n",
    "grouped = select.groupby('time_hour_binned')\n",
    "filtered_groups = grouped.filter(lambda x: x['unique_id'].nunique() >= 7)\n",
    "\n",
    "# Now, use this filtered data for your plots\n",
    "fig,ax = plt.subplots(figsize = (3.8*cm,5.6*cm))\n",
    "sns.lineplot(data=filtered_groups, x='time_reshift', y='C_rate', hue='strain', ax=ax, palette=strain_to_color, lw=1)\n",
    "\n",
    "# Mean line plot\n",
    "sns.lineplot(data=filtered_groups, x='time_reshift', y='C_rate', ax=ax, color='black', estimator='mean', lw=3, ls=\"-\")\n",
    "\n",
    "ax.set_xlabel('t-t* (hour)')\n",
    "ax.set_ylabel('$\\Phi_C$ ($\\mu g/h$)')\n",
    "# ax.set_ylim(0)\n",
    "plt.legend().remove()\n",
    "# plt.tight_layout()\n",
    "# Save the figure\n",
    "plt.savefig(os.path.join(path_figure, 'Figure2B.pdf'), transparent=True, bbox_inches='tight')\n"
   ]
  },
  {
   "cell_type": "code",
   "execution_count": null,
   "id": "a3cd7dd1-a857-4ad6-b34f-da680cff2aa7",
   "metadata": {},
   "outputs": [],
   "source": []
  }
 ],
 "metadata": {
  "kernelspec": {
   "display_name": "Python 3 (ipykernel)",
   "language": "python",
   "name": "python3"
  },
  "language_info": {
   "codemirror_mode": {
    "name": "ipython",
    "version": 3
   },
   "file_extension": ".py",
   "mimetype": "text/x-python",
   "name": "python",
   "nbconvert_exporter": "python",
   "pygments_lexer": "ipython3",
   "version": "3.10.6"
  }
 },
 "nbformat": 4,
 "nbformat_minor": 5
}
