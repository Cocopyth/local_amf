{
 "cells": [
  {
   "cell_type": "code",
   "execution_count": 1,
   "id": "88220c9b-d582-42c5-ba3d-4a51f32874e2",
   "metadata": {
    "tags": []
   },
   "outputs": [
    {
     "name": "stderr",
     "output_type": "stream",
     "text": [
      "c:\\users\\coren\\documents\\phd\\code\\amftrack\\amftrack\\util\\dbx.py:3: TqdmExperimentalWarning: Using `tqdm.autonotebook.tqdm` in notebook mode. Use `tqdm.tqdm` instead to force console mode (e.g. in jupyter console)\n",
      "  from tqdm.autonotebook import tqdm\n"
     ]
    }
   ],
   "source": [
    "# import os\n",
    "import matplotlib.pyplot as plt\n",
    "import os\n",
    "import pandas as pd\n",
    "from amftrack.util.sys import get_analysis_folders,get_time_plate_info_from_analysis,get_time_hypha_info_from_analysis,get_global_hypha_info_from_analysis, get_time_plate_info_long_from_analysis\n",
    "import numpy as np\n",
    "import imageio\n",
    "import os\n",
    "import cv2\n",
    "from scipy.interpolate import interp1d\n",
    "from scipy.optimize import curve_fit\n",
    "from amftrack.pipeline.final_analysis.density_wave import get_wave_fit, S, dS, wave, dwave\n",
    "import matplotlib.patches as mpatches\n",
    "from random import choice\n",
    "import matplotlib as mpl\n",
    "from amftrack.pipeline.final_analysis.density_wave import plot_single_plate,plot_single_plate_biovolume\n",
    "from amftrack.pipeline.final_analysis.hypha_speed_analysis import *\n",
    "from amftrack.util.plot import gridplot, make_stat\n",
    "%store -r path_figure\n",
    "%matplotlib widget\n",
    "%load_ext autoreload\n",
    "%autoreload 2\n",
    "from mpl_toolkits.axes_grid1.inset_locator import inset_axes\n",
    "import scipy\n",
    "import statsmodels.api as sm\n",
    "import hashlib\n",
    "from matplotlib.patches import Ellipse\n",
    "import logging\n",
    "from helper import *\n",
    "from load_dataframes import load_all\n",
    "\n",
    "plt.style.use('presentation.mplstyle')\n",
    "logging.getLogger().setLevel(logging.WARNING)\n",
    "\n",
    "all_analysis_folders = get_analysis_folders()\n",
    "#for P\n",
    "plates = [\n",
    "\"416_20230705\",\n",
    "\"427_20230707\",\n",
    "\"420_20230705\",\n",
    "\"431_20230627\",\n",
    "\"474_20230807\",\n",
    "\"460_20230807\",\n",
    "\"464_20230807\",\n",
    "\"440_20230723\",\n",
    "\"436_20230717\",\n",
    "\"443_20230720\",\n",
    "\"439_20230804\",\n",
    "\"470_20230709\",\n",
    "'478_20230814', '468_20230809', '447_20230821', '487_20230922',\n",
    "       '492_20230901', '471_20230821', '486_20231009',\n",
    "       '494_20230908', '482_20230908', '495_20231013', '463_20231013',\n",
    "       '491_20231013', '481_20231005', '483_20231005',\n",
    "    '490_20231003',\n",
    "       '485_20230929',\n",
    "]\n",
    "analysis_folders = all_analysis_folders.loc[all_analysis_folders['unique_id'].isin(plates)]\n",
    "path_figure = r\"C:\\Users\\coren\\Documents\\PhD\\paper\\PandC\\Fig3\"\n"
   ]
  },
  {
   "cell_type": "code",
   "execution_count": 2,
   "id": "13a725a3-d66a-45d1-8054-f291759c0ff0",
   "metadata": {},
   "outputs": [
    {
     "data": {
      "text/plain": [
       "0.0036381599999999997"
      ]
     },
     "execution_count": 2,
     "metadata": {},
     "output_type": "execute_result"
    }
   ],
   "source": [
    "Vmax_schnepf = 3.26e-6 #umol/cm**2/s-1\n",
    "Vmax_schnepf *= 31 #ug/cm**2/s-1\n",
    "Vmax_schnepf *= 1e-2 #ug/mm**2/s-1\n",
    "Vmax_schnepf *= 3600 #ug/mm**2/h-1\n",
    "Vmax_schnepf"
   ]
  },
  {
   "cell_type": "code",
   "execution_count": 3,
   "id": "986351b8-85fd-4de3-ae1d-56f6d7f54313",
   "metadata": {},
   "outputs": [],
   "source": [
    "# folders,time_plate_info = get_time_plate_info_from_analysis(analysis_folders,False)\n",
    "folders,time_plate_info = get_time_plate_info_long_from_analysis(analysis_folders,False)\n",
    "time_plate_info['unique_id'] = time_plate_info['unique_id'].replace(47020230709,47020230802)\n",
    "time_plate_info=time_plate_info[time_plate_info['Plate']!=431]\n",
    "# time_plate_info['time_since_begin_hour'] = time_plate_info['time_since_begin_h'].dt.total_seconds() / 3600.0\n",
    "# time_plate_info['time_since_begin_hour'] = time_plate_info['time_since_begin_h']"
   ]
  },
  {
   "cell_type": "code",
   "execution_count": 4,
   "id": "e956c796-be74-4540-9725-2880279808ce",
   "metadata": {
    "tags": []
   },
   "outputs": [
    {
     "name": "stdout",
     "output_type": "stream",
     "text": [
      "Unique IDs with at least one NaN in specified columns: [47420230807]\n"
     ]
    }
   ],
   "source": [
    "import pandas as pd\n",
    "\n",
    "# Assuming df is your DataFrame\n",
    "columns_to_check = [f'SA_region_{i}' for i in range(18)] + [f'length_density_region_{i}' for i in range(18)]\n",
    "\n",
    "# Filter DataFrame rows where any of the specified columns have NaN values\n",
    "df_filtered = time_plate_info[time_plate_info[columns_to_check].isna().any(axis=1)]\n",
    "\n",
    "# Find the unique ids corresponding to those rows\n",
    "unique_ids_with_nans = df_filtered['unique_id'].unique()\n",
    "\n",
    "print(\"Unique IDs with at least one NaN in specified columns:\", unique_ids_with_nans)\n"
   ]
  },
  {
   "cell_type": "code",
   "execution_count": 5,
   "id": "b02afd26-fe26-49d0-8739-f6d04af720ca",
   "metadata": {
    "tags": []
   },
   "outputs": [
    {
     "data": {
      "text/plain": [
       "['431_20230627',\n",
       " '470_20230709',\n",
       " '495_20231013',\n",
       " '463_20231013',\n",
       " '491_20231013']"
      ]
     },
     "execution_count": 5,
     "metadata": {},
     "output_type": "execute_result"
    }
   ],
   "source": [
    "[plate for plate in plates if int(plate) not in time_plate_info['unique_id'].unique()]"
   ]
  },
  {
   "cell_type": "code",
   "execution_count": 6,
   "id": "d1094b26-5985-428b-ba25-d3a0015fc1d2",
   "metadata": {},
   "outputs": [],
   "source": [
    "def calculate_integral(df, column, new_column):\n",
    "    # Calculate the time difference within each group\n",
    "    df['time_since_begin_hour'] = df['time_since_begin_h'].dt.total_seconds() / 3600.0\n",
    "    df['time_diff'] = df.groupby('unique_id')['time_since_begin_hour'].transform(lambda x: x.diff())\n",
    "\n",
    "    # Calculate the average length density within each group\n",
    "    df['avg_length_density'] = df.groupby('unique_id')[column].transform(lambda x: x.rolling(window=2).mean())\n",
    "\n",
    "    # Calculate the \"area\" (using Trapezoidal rule) for each pair of rows within each group\n",
    "    df['area'] = df['time_diff'] * df['avg_length_density']\n",
    "\n",
    "    # Perform the integration (cumulative sum of \"area\") within each group\n",
    "    df[new_column] = df.groupby('unique_id')['area'].transform(lambda x: x.cumsum())\n",
    "\n",
    "    # Drop the helper columns if needed\n",
    "    df.drop(['time_diff', 'avg_length_density', 'area'], axis=1, inplace=True)"
   ]
  },
  {
   "cell_type": "code",
   "execution_count": 7,
   "id": "845230ad-50da-4c6b-ad06-af58362042d6",
   "metadata": {},
   "outputs": [],
   "source": [
    "for i in range(18):\n",
    "    calculate_integral(time_plate_info,f'SA_region_{i}',f'integrated_SA_{i}')\n",
    "for i in range(18):\n",
    "    calculate_integral(time_plate_info,f'length_density_region_{i}',f'integrated_L_{i}')\n"
   ]
  },
  {
   "cell_type": "code",
   "execution_count": 8,
   "id": "3ab7a576-7928-4eeb-85ac-f3f9ec6e4531",
   "metadata": {},
   "outputs": [],
   "source": [
    "coarse_to_basic_mapping = {\n",
    "    1: [1, 2],\n",
    "    2: [3, 8],\n",
    "    3: [4, 5],\n",
    "    4: [6, 7],\n",
    "    5: [9, 10],\n",
    "    6: [11, 12],\n",
    "    7: [13],\n",
    "    8: [14, 15],\n",
    "    9: [16, 17, 18]\n",
    "}\n",
    "\n",
    "# Mapping for \"simple\" to \"basic\"\n",
    "simple_to_basic_mapping = {\n",
    "    0: list(range(1, 11)),\n",
    "    1: list(range(11, 19))\n",
    "}\n",
    "sub_to_basic_mapping = {\n",
    "    0: list(range(1, 19)),\n",
    "}"
   ]
  },
  {
   "cell_type": "code",
   "execution_count": 9,
   "id": "d745bdf5-7036-4817-8169-0e1d613f5d51",
   "metadata": {
    "tags": []
   },
   "outputs": [
    {
     "name": "stdout",
     "output_type": "stream",
     "text": [
      "The autoreload extension is already loaded. To reload it, use:\n",
      "  %reload_ext autoreload\n"
     ]
    }
   ],
   "source": [
    "import pandas as pd\n",
    "import numpy as np\n",
    "import os\n",
    "import pandas as pd\n",
    "import matplotlib.pyplot as plt\n",
    "from helper import *\n",
    "from amftrack.notebooks.P_experiment.helper import get_polygons\n",
    "%load_ext autoreload\n",
    "%autoreload 2\n",
    "plt.style.use('presentation.mplstyle')\n",
    "\n",
    "%matplotlib widget\n",
    "C_max2 = 1.53\n",
    "\n",
    "def fit_function(x, C_max):\n",
    "    return 1+C_max * 1/x**(3/2)\n",
    "# Read the Excel file\n",
    "path = r'C:\\Users\\coren\\Documents\\PhD\\Pexperiment'\n",
    "path_excel = os.path.join(path,'summary.xlsx')\n",
    "df = pd.read_excel(path_excel)\n",
    "df['date_from_unique_id'] = pd.to_datetime(df['unique_id'].str.split('_').str[1], format='%Y%m%d')\n",
    "    \n",
    "# Convert 'day' column to datetime\n",
    "df['day_sample'] = pd.to_datetime(df['day_sample'], format='%Y%m%d')  # Update the format as necessary\n",
    "df['day_start'] = pd.to_datetime(df['start'], format='%Y%m%d')  # Update the format as necessary\n",
    "\n",
    "df['time_elapsed'] = df['day_sample'] - df['day_start']\n",
    "df['time_elapsed_day'] = df['time_elapsed'].dt.days\n",
    "df['time_since_crossing'] = df['day_sample'] - df['date_from_unique_id']\n",
    "df['t2 (day)'] = df['time_since_crossing'].dt.days\n",
    "df['t1 (day)'] = df['time_elapsed_day']-df['t2 (day)']\n",
    "df['treatment'] = df['treatment'].fillna('none')\n",
    "df['wet_weight_measured'] = df['wet weight']\n",
    "\n",
    "df['wet weight'] = df['wet weight']-df['lost weight']\n",
    "df['totP (ug)'] = df['totP (ug)'] * fit_function(df['totP (ug)'], C_max2)\n",
    "df['Sample_name'] = df['Sample_name'].str.replace('bottom','0')\n",
    "df['Sample_name'] = df['Sample_name'].str.replace('up','1')\n",
    "df['Sample_name'] = df['Sample_name'].str.replace('top','1')\n",
    "df['Sample_name'] = df['Sample_name'].str.replace('agar','0')\n",
    "\n",
    "\n",
    "\n",
    "df = df.loc[df['plate']!=487]\n",
    "df = df.loc[df['type'] == 'agar']\n",
    "df['pos'] = df['Sample_name'].str.split('-').str.get(1).astype(int)\n",
    "\n",
    "time_plate_info.sort_values(['unique_id', 'time_since_begin_h'], inplace=True)\n",
    "\n",
    "# Group by unique_id and take the last entry for each group\n",
    "last_values = time_plate_info.groupby('unique_id').last().reset_index()\n",
    "\n",
    "# Create a function to map 'pos' to the corresponding integrated_Ldens_i value\n",
    "def get_integrated_density(row):\n",
    "    unique_id = row['unique_id']\n",
    "    pos = row['pos']\n",
    "    arrangement = row['arrangement']\n",
    "    if arrangement == 'basic':\n",
    "        col_names = [f'integrated_SA_{pos-1}']\n",
    "    if arrangement == 'simple':\n",
    "        col_names = [f'integrated_SA_{basic_pos-1}' for basic_pos in simple_to_basic_mapping[pos]]\n",
    "    if arrangement == 'coarse':\n",
    "        col_names = [f'integrated_SA_{basic_pos-1}' for basic_pos in coarse_to_basic_mapping[pos]] \n",
    "    if arrangement == 'sub':\n",
    "        col_names = [f'integrated_SA_{basic_pos-1}' for basic_pos in sub_to_basic_mapping[pos]] \n",
    "    if not unique_id is np.nan:\n",
    "        last_value_row = last_values[last_values['unique_id'] == int(unique_id)]\n",
    "        return np.sum(last_value_row[col_names].values) if not last_value_row.empty else None\n",
    "    else:\n",
    "        return(None)\n",
    "df['integrated_SA'] = df.apply(get_integrated_density, axis=1)\n",
    "\n",
    "grouped = df.groupby(['plate', 'type', \"time_elapsed_day\", \"t1 (day)\", \"treatment\", 't2 (day)', \"arrangement\",\"day_start\"]).agg({\n",
    "    'totP (ug)': 'sum',\n",
    "    'wet weight': ['sum', 'median'],\n",
    "    \"wet_weight_measured\":\"sum\",\n",
    "    'dry weight': 'sum',\n",
    "    'integrated_SA':\"sum\"\n",
    "}).reset_index()\n",
    "\n",
    "# Rename columns\n",
    "grouped.columns = ['_'.join(col).strip() if col[0] == 'wet weight' else col[0] for col in grouped.columns]\n",
    "grouped = grouped.rename(columns={\n",
    "    'wet weight_sum': 'tot_wet_weight',\n",
    "    'wet weight_median': 'wet_weight_median'\n",
    "})\n",
    "grouped['C_P'] = grouped['totP (ug)'] / grouped['tot_wet_weight']\n",
    "grouped['P_content'] = grouped['totP (ug)'] / grouped['dry weight']/1e6\n",
    "\n",
    "df['C_P'] = df['totP (ug)'] / df['wet weight']\n",
    "df['P_content'] = df['totP (ug)'] / df['dry weight']/1e6\n",
    "# df = df[df['type'] != 'sub']\n",
    "\n",
    "grouped = grouped[grouped['plate']!=487]\n",
    "grouped = grouped[grouped['plate']!=431]\n",
    "\n"
   ]
  },
  {
   "cell_type": "code",
   "execution_count": 10,
   "id": "8bae0197-dcd3-4e9c-9f45-df71a6e38664",
   "metadata": {},
   "outputs": [],
   "source": [
    "df['integrated_SA_C']=df['integrated_SA']/df['wet weight']\n",
    "# grouped = dfgrouped = df.groupby(['plate', 'type',\"time_elapsed_day\",\"t1 (day)\",\"treatment\",'t2 (day)']).agg({'totP (ug)': 'sum', 'wet weight': 'sum','dry weight' : \"sum\",'integrated_SA':\"sum\"}).reset_index()\n",
    "grouped['C_P'] = grouped['totP (ug)'] / grouped['tot_wet_weight']\n",
    "grouped['P_content'] = grouped['totP (ug)'] / grouped['dry weight']/1e6\n",
    "grouped['integrated_SA_C']=grouped['integrated_SA']/grouped['tot_wet_weight']\n",
    "tot_weights = grouped[grouped['type'].isin([\"agartot\", \"rootagartot\"])].set_index(['plate', 'type'])['wet_weight_measured'].to_dict()\n",
    "\n",
    "# Function to determine the 'measured_tot_wet_weight' based on conditions\n",
    "def get_tot_weight(row):\n",
    "    if row['type'] == 'agar' and (row['plate'], 'agartot') in tot_weights:\n",
    "        return tot_weights[(row['plate'], 'agartot')]\n",
    "    elif row['type'] == 'rootagar' and (row['plate'], 'rootagartot') in tot_weights:\n",
    "        return tot_weights[(row['plate'], 'rootagartot')]\n",
    "    else:\n",
    "        return row['wet_weight_measured']\n",
    "\n",
    "# Apply the function to get 'measured_tot_wet_weight' column\n",
    "grouped['measured_tot_wet_weight'] = grouped.apply(get_tot_weight, axis=1)\n",
    "grouped= grouped[grouped['type'] != 'rootagartot']\n",
    "grouped= grouped[grouped['type'] != 'agartot']\n",
    "# Step 1: Identify plates that don't have any rows with type \"agartot\"\n",
    "plates_with_agartot = grouped[grouped['type'] == 'rootagartot']['plate'].unique()\n",
    "valid_plates = grouped[~grouped['plate'].isin(plates_with_agartot)]\n",
    "\n",
    "# Step 2: Compute the average \"wet weight\" for type 'agar' and 'rootagar'\n",
    "average_wet_weight_agar = valid_plates[valid_plates['type'] == 'agar']['measured_tot_wet_weight'].mean()\n",
    "average_wet_weight_rootagar = valid_plates[valid_plates['type'] == 'rootagar']['measured_tot_wet_weight'].mean()\n",
    "\n",
    "# Step 3: Replace rows in the 'average weight' column accordingly\n",
    "grouped['average weight'] = None  # Initialize column with None values\n",
    "grouped.loc[grouped['type'] == 'agar', 'average weight'] = average_wet_weight_agar\n",
    "grouped.loc[grouped['type'] == 'rootagar', 'average weight'] = average_wet_weight_rootagar\n",
    "grouped.loc[grouped['type'] == 'agar', 'fullP'] = grouped.loc[grouped['type'] == 'agar', 'measured_tot_wet_weight'] *grouped.loc[grouped['type'] == 'agar', 'C_P']\n",
    "grouped.loc[grouped['type'] == 'rootagar', 'fullP'] = grouped.loc[grouped['type'] == 'rootagar', 'measured_tot_wet_weight'] *grouped.loc[grouped['type'] == 'rootagar', 'C_P']\n",
    "grouped.loc[grouped['type'] == 'root', 'fullP'] = grouped.loc[grouped['type'] == 'root', 'totP (ug)']\n",
    "totP_theory = 100\n",
    "grouped['scaling_factor'] = totP_theory/grouped.groupby('plate')['fullP'].transform('sum')\n",
    "\n",
    "# Multiply 'fullP' by the scaling factor to get 'fullP_rescaled'\n",
    "grouped['fullP_rescaled'] = grouped['fullP'] * grouped['scaling_factor']"
   ]
  },
  {
   "cell_type": "code",
   "execution_count": 11,
   "id": "614fec00-cd79-41d6-aed1-d193f7b50bb4",
   "metadata": {},
   "outputs": [],
   "source": [
    "grouped_agar = grouped.copy()"
   ]
  },
  {
   "cell_type": "code",
   "execution_count": 12,
   "id": "41d7f68c-9d36-4621-8ca4-7bfe7512822d",
   "metadata": {
    "tags": []
   },
   "outputs": [
    {
     "name": "stdout",
     "output_type": "stream",
     "text": [
      "2024-01-25 19:51:57,544-[WARNING]- fontTools.subset:2983 -> meta NOT subset; don't know how to subset; dropped\n"
     ]
    },
    {
     "data": {
      "application/vnd.jupyter.widget-view+json": {
       "model_id": "35510e4c96824d0a941bec4193c2365f",
       "version_major": 2,
       "version_minor": 0
      },
      "image/png": "[encoded data removed]",
      "text/html": [
       "\n",
       "            <div style=\"display: inline-block;\">\n",
       "                <div class=\"jupyter-widgets widget-label\" style=\"text-align: center;\">\n",
       "                    Figure\n",
       "                </div>\n",
       "                <img src='data:image/png;base64,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' width=236.22047244094486/>\n",
       "            </div>\n",
       "        "
      ],
      "text/plain": [
       "Canvas(toolbar=Toolbar(toolitems=[('Home', 'Reset original view', 'home', 'home'), ('Back', 'Back to previous …"
      ]
     },
     "metadata": {},
     "output_type": "display_data"
    }
   ],
   "source": [
    "cm = 1/2.54  # centimeters in inches\n",
    "\n",
    "fig,ax = plt.subplots(figsize = (6*cm,4*cm))\n",
    "select = grouped_agar[grouped_agar['t2 (day)']<=9]\n",
    "select = select[select['treatment']=='100P']\n",
    "\n",
    "\n",
    "\n",
    "# sns.scatterplot(df,x = 'integrated_SA_C',y = 'C_P',ax = ax,hue =\"treatment\",s = 6)\n",
    "sns.scatterplot(select,x = 'integrated_SA_C',y = 'C_P',ax = ax,s=50)\n",
    "sns.regplot(select,x = 'integrated_SA_C',y = 'C_P',ax = ax,scatter = False)\n",
    "\n",
    "# ax.set_xscale('log')\n",
    "ax.set_ylim(1.8,4.3)\n",
    "plt.ylabel('[P] \\n ($\\mu g/mL$)')\n",
    "plt.xlabel('$\\int_0^{t_f} SA(t)dt$ \\n ($\\mu m^2h/mL$)')\n",
    "plt.savefig(os.path.join(path_figure,'Figure3A.pdf'), transparent=True, bbox_inches='tight')\n"
   ]
  },
  {
   "cell_type": "code",
   "execution_count": 13,
   "id": "b4d35f8c-4293-43cc-bec2-e5c35a6c0828",
   "metadata": {},
   "outputs": [],
   "source": [
    "slope, intercept, r_value, p_value, std_err = stats.linregress(select['integrated_SA_C'], select['C_P'])\n",
    "slope2, intercept, r_value, p_value, std_err = stats.linregress(select['integrated_SA'], select['fullP'])"
   ]
  },
  {
   "cell_type": "code",
   "execution_count": 14,
   "id": "f99ed538-e831-418a-862c-5a261c1a0a46",
   "metadata": {},
   "outputs": [
    {
     "data": {
      "text/plain": [
       "(-3.2554048752748486e-09, -3.3973588349543932e-09)"
      ]
     },
     "execution_count": 14,
     "metadata": {},
     "output_type": "execute_result"
    }
   ],
   "source": [
    "slope2,slope"
   ]
  },
  {
   "cell_type": "code",
   "execution_count": 15,
   "id": "737c36ea-04cf-4ce9-aa7e-58ad4026d37b",
   "metadata": {},
   "outputs": [
    {
     "data": {
      "text/plain": [
       "2.9715786346588478"
      ]
     },
     "execution_count": 15,
     "metadata": {},
     "output_type": "execute_result"
    }
   ],
   "source": [
    "std_err*1e6*24*365"
   ]
  },
  {
   "cell_type": "code",
   "execution_count": 16,
   "id": "cdbbf077-c979-408e-b8cd-d8782ec99511",
   "metadata": {},
   "outputs": [
    {
     "ename": "NameError",
     "evalue": "name 'gegeé' is not defined",
     "output_type": "error",
     "traceback": [
      "\u001b[1;31m---------------------------------------------------------------------------\u001b[0m",
      "\u001b[1;31mNameError\u001b[0m                                 Traceback (most recent call last)",
      "Input \u001b[1;32mIn [16]\u001b[0m, in \u001b[0;36m<cell line: 1>\u001b[1;34m()\u001b[0m\n\u001b[1;32m----> 1\u001b[0m \u001b[43mgegeé\u001b[49m\n",
      "\u001b[1;31mNameError\u001b[0m: name 'gegeé' is not defined"
     ]
    }
   ],
   "source": [
    "gegeé"
   ]
  },
  {
   "cell_type": "code",
   "execution_count": 24,
   "id": "ba473395-2ecc-4b77-9916-0c0454b2312d",
   "metadata": {},
   "outputs": [],
   "source": [
    "df = pd.read_excel(path_excel)\n",
    "df['date_from_unique_id'] = pd.to_datetime(df['unique_id'].str.split('_').str[1], format='%Y%m%d')\n",
    "    \n",
    "# Convert 'day' column to datetime\n",
    "df['day_sample'] = pd.to_datetime(df['day_sample'], format='%Y%m%d')  # Update the format as necessary\n",
    "df['day_start'] = pd.to_datetime(df['start'], format='%Y%m%d')  # Update the format as necessary\n",
    "\n",
    "df['time_elapsed'] = df['day_sample'] - df['day_start']\n",
    "df['time_elapsed_day'] = df['time_elapsed'].dt.days\n",
    "df['time_since_crossing'] = df['day_sample'] - df['date_from_unique_id']\n",
    "df['t2 (day)'] = df['time_since_crossing'].dt.days\n",
    "df['t1 (day)'] = df['time_elapsed_day']-df['t2 (day)']\n",
    "df['treatment'] = df['treatment'].fillna('none')\n",
    "df['wet_weight_measured'] = df['wet weight']\n",
    "\n",
    "df['wet weight'] = df['wet weight']-df['lost weight']\n",
    "df['totP (ug)'] = df['totP (ug)'] * fit_function(df['totP (ug)'], C_max2)\n",
    "\n",
    "grouped = df.groupby(['plate', 'type', \"time_elapsed_day\", \"t1 (day)\", \"treatment\", 't2 (day)', \"arrangement\",\"day_start\"]).agg({\n",
    "    'totP (ug)': 'sum',\n",
    "    'wet weight': ['sum', 'median'],\n",
    "    \"wet_weight_measured\":\"sum\",\n",
    "    'dry weight': 'sum'\n",
    "}).reset_index()\n",
    "\n",
    "# Rename columns\n",
    "grouped.columns = ['_'.join(col).strip() if col[0] == 'wet weight' else col[0] for col in grouped.columns]\n",
    "grouped = grouped.rename(columns={\n",
    "    'wet weight_sum': 'tot_wet_weight',\n",
    "    'wet weight_median': 'wet_weight_median'\n",
    "})\n",
    "grouped['C_P'] = grouped['totP (ug)'] / grouped['tot_wet_weight']\n",
    "grouped['P_content'] = grouped['totP (ug)'] / grouped['dry weight']/1e6\n",
    "\n",
    "df['C_P'] = df['totP (ug)'] / df['wet weight']\n",
    "df['P_content'] = df['totP (ug)'] / df['dry weight']/1e6\n",
    "tot_weights = grouped[grouped['type'].isin([\"agartot\", \"rootagartot\"])].set_index(['plate', 'type'])['wet_weight_measured'].to_dict()\n",
    "\n",
    "# Function to determine the 'measured_tot_wet_weight' based on conditions\n",
    "def get_tot_weight(row):\n",
    "    if row['type'] == 'agar' and (row['plate'], 'agartot') in tot_weights:\n",
    "        return tot_weights[(row['plate'], 'agartot')]\n",
    "    elif row['type'] == 'rootagar' and (row['plate'], 'rootagartot') in tot_weights:\n",
    "        return tot_weights[(row['plate'], 'rootagartot')]\n",
    "    else:\n",
    "        return row['wet_weight_measured']\n",
    "\n",
    "# Apply the function to get 'measured_tot_wet_weight' column\n",
    "grouped['measured_tot_wet_weight'] = grouped.apply(get_tot_weight, axis=1)\n",
    "# Step 1: Identify plates that don't have any rows with type \"agartot\"\n",
    "plates_with_agartot = grouped[grouped['type'] == 'rootagartot']['plate'].unique()\n",
    "valid_plates = grouped[~grouped['plate'].isin(plates_with_agartot)]\n",
    "\n",
    "# Step 2: Compute the average \"wet weight\" for type 'agar' and 'rootagar'\n",
    "average_wet_weight_agar = valid_plates[valid_plates['type'] == 'agar']['measured_tot_wet_weight'].mean()\n",
    "average_wet_weight_rootagar = valid_plates[valid_plates['type'] == 'rootagar']['measured_tot_wet_weight'].mean()\n",
    "\n",
    "# Step 3: Replace rows in the 'average weight' column accordingly\n",
    "grouped['average weight'] = None  # Initialize column with None values\n",
    "grouped.loc[grouped['type'] == 'agar', 'average weight'] = average_wet_weight_agar\n",
    "grouped.loc[grouped['type'] == 'rootagar', 'average weight'] = average_wet_weight_rootagar\n",
    "grouped.loc[grouped['type'] == 'agar', 'fullP'] = grouped.loc[grouped['type'] == 'agar', 'measured_tot_wet_weight'] *grouped.loc[grouped['type'] == 'agar', 'C_P']\n",
    "grouped.loc[grouped['type'] == 'rootagar', 'fullP'] = grouped.loc[grouped['type'] == 'rootagar', 'measured_tot_wet_weight'] *grouped.loc[grouped['type'] == 'rootagar', 'C_P']\n",
    "grouped.loc[grouped['type'] == 'root', 'fullP'] = grouped.loc[grouped['type'] == 'root', 'totP (ug)']\n",
    "totP_theory = 100\n",
    "grouped['scaling_factor'] = totP_theory/grouped.groupby('plate')['fullP'].transform('sum')\n",
    "\n",
    "# Multiply 'fullP' by the scaling factor to get 'fullP_rescaled'\n",
    "grouped['fullP_rescaled'] = grouped['fullP'] * grouped['scaling_factor']\n",
    "grouped = grouped.merge(grouped_agar[['plate','integrated_SA_C','integrated_SA']],how = \"left\",on='plate')"
   ]
  },
  {
   "cell_type": "code",
   "execution_count": 25,
   "id": "55341e0a-d96d-4229-bf70-baf351fa35e9",
   "metadata": {},
   "outputs": [
    {
     "data": {
      "text/plain": [
       "3.5714285714285716"
      ]
     },
     "execution_count": 25,
     "metadata": {},
     "output_type": "execute_result"
    }
   ],
   "source": [
    "100/28"
   ]
  },
  {
   "cell_type": "code",
   "execution_count": 30,
   "id": "c65ce388-e5f9-46d1-a5a1-b91a73f7c98c",
   "metadata": {},
   "outputs": [
    {
     "name": "stdout",
     "output_type": "stream",
     "text": [
      "2024-01-25 19:55:47,409-[WARNING]- fontTools.subset:2983 -> meta NOT subset; don't know how to subset; dropped\n"
     ]
    },
    {
     "data": {
      "application/vnd.jupyter.widget-view+json": {
       "model_id": "ed31d0a91d494b14b0ca130c057add34",
       "version_major": 2,
       "version_minor": 0
      },
      "image/png": "[encoded data removed]",
      "text/html": [
       "\n",
       "            <div style=\"display: inline-block;\">\n",
       "                <div class=\"jupyter-widgets widget-label\" style=\"text-align: center;\">\n",
       "                    Figure\n",
       "                </div>\n",
       "                <img src='data:image/png;base64,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' width=236.22047244094486/>\n",
       "            </div>\n",
       "        "
      ],
      "text/plain": [
       "Canvas(toolbar=Toolbar(toolitems=[('Home', 'Reset original view', 'home', 'home'), ('Back', 'Back to previous …"
      ]
     },
     "metadata": {},
     "output_type": "display_data"
    }
   ],
   "source": [
    "from matplotlib.lines import Line2D\n",
    "select= grouped[grouped['fullP']>0]\n",
    "select= select[select['treatment']=='100P']\n",
    "select = select[select['t2 (day)']<=9]\n",
    "select = select[select['plate']!=431]\n",
    "select = select[select['plate']!=487]\n",
    "column = 'integrated_SA'\n",
    "t2_values = select[column].unique()\n",
    "color_dict = {\n",
    "    'root': 'blue',\n",
    "    'agar': 'red',\n",
    "    'rootagar': 'green'\n",
    "}\n",
    "# Plotting\n",
    "fig,ax = plt.subplots(figsize = (6*cm,4*cm))\n",
    "# Unique categories in the hue column\n",
    "types = select['type'].unique()\n",
    "color_dict = {\n",
    "    'root': 'orange',\n",
    "    'agar': 'purple',\n",
    "    'rootagar': 'green'\n",
    "}\n",
    "\n",
    "# Iterate over each category\n",
    "for type_obj in types:\n",
    "    # Subset data for the category\n",
    "    subset = select[select['type'] == type_obj]\n",
    "\n",
    "    # Create a regplot for the subset\n",
    "    sns.regplot(x=subset[column], y=subset['fullP'], color = color_dict[type_obj],scatter_kws= {\"s\":50})\n",
    "\n",
    "# for t2 in sorted(t2_values):\n",
    "#     plate_data = select[select[column] == t2]\n",
    "#     for k,type_ in enumerate(['root', 'agar', 'rootagar']):\n",
    "#         value = plate_data[plate_data['type'] == type_]['fullP'].mean()\n",
    "#             # print(t2,plate_data[plate_data['type'] == type_]['plate'])\n",
    "#         ax.scatter(t2, value, color=color_dict[type_])\n",
    "#         # print(t2,value,plate_data)\n",
    "\n",
    "ax.set_ylabel('fullP Value')\n",
    "ax.set_xlabel('t2 Value')\n",
    "\n",
    "\n",
    "ax.set_ylabel('P mass (ug)')\n",
    "ax.set_xlabel('Time since crossing (day)')\n",
    "plt.ylabel('$m_P$ \\n ($\\mu g$)')\n",
    "plt.xlabel('$\\int_0^{t_f} SA(t)dt$ \\n ($\\mu m^2h$)')\n",
    "plt.savefig(os.path.join(path_figure,'Figure3B.pdf'), transparent=True, bbox_inches='tight')"
   ]
  },
  {
   "cell_type": "code",
   "execution_count": 31,
   "id": "5415abde-6347-48ee-a61f-b4b2e8864661",
   "metadata": {},
   "outputs": [
    {
     "data": {
      "text/plain": [
       "-3.2554048752748486e-09"
      ]
     },
     "execution_count": 31,
     "metadata": {},
     "output_type": "execute_result"
    }
   ],
   "source": [
    "subset = select[select['type'] == 'agar']\n",
    "\n",
    "slope2, intercept, r_value, p_value, std_err = stats.linregress(subset['integrated_SA'], subset['fullP'])\n",
    "slope2"
   ]
  },
  {
   "cell_type": "code",
   "execution_count": 18,
   "id": "eab5c4c1-e381-4a66-b432-c4bb77956fa9",
   "metadata": {
    "tags": []
   },
   "outputs": [
    {
     "name": "stderr",
     "output_type": "stream",
     "text": [
      "C:\\Users\\coren\\Documents\\PhD\\Code\\pycode\\P_depletion_paper\\final_figures\\load_dataframes.py:111: UserWarning: Parsing dates in DD/MM/YYYY format when dayfirst=False (the default) was specified. This may lead to inconsistently parsed dates! Specify a format to ensure consistent parsing.\n",
      "  df_sum['start'] = pd.to_datetime(df_sum['start'], errors='coerce')\n",
      "C:\\Users\\coren\\Documents\\PhD\\Code\\pycode\\P_depletion_paper\\final_figures\\load_dataframes.py:112: UserWarning: Parsing dates in DD/MM/YYYY format when dayfirst=False (the default) was specified. This may lead to inconsistently parsed dates! Specify a format to ensure consistent parsing.\n",
      "  df_sum['crossed']  = pd.to_datetime(df_sum['crossed'], errors='coerce')\n",
      "C:\\Users\\coren\\Documents\\PhD\\Code\\pycode\\P_depletion_paper\\final_figures\\load_dataframes.py:113: UserWarning: Parsing dates in DD/MM/YYYY format when dayfirst=False (the default) was specified. This may lead to inconsistently parsed dates! Specify a format to ensure consistent parsing.\n",
      "  df_sum['date_fungus']  = pd.to_datetime(df_sum['age fungus'], errors='coerce')\n",
      "C:\\Users\\coren\\anaconda3\\envs\\amftrack\\lib\\site-packages\\numpy\\lib\\nanfunctions.py:1217: RuntimeWarning: All-NaN slice encountered\n",
      "  r, k = function_base._ureduce(a, func=_nanmedian, axis=axis, out=out,\n",
      "C:\\Users\\coren\\anaconda3\\envs\\amftrack\\lib\\site-packages\\numpy\\lib\\nanfunctions.py:1215: RuntimeWarning: Mean of empty slice\n",
      "  return np.nanmean(a, axis, out=out, keepdims=keepdims)\n"
     ]
    }
   ],
   "source": [
    "from plates import plates,timestep\n",
    "\n",
    "df2,final_data = load_all(plates)"
   ]
  },
  {
   "cell_type": "code",
   "execution_count": 32,
   "id": "d05d0783-6180-476c-9f15-8dcacf37635b",
   "metadata": {},
   "outputs": [],
   "source": [
    "def calculate_derivative(df, column, new_column, window=1):\n",
    "    # Ensure the DataFrame is sorted by 'unique_id' and 'time_since_begin_h'\n",
    "    df.sort_values(by=['unique_id', 'time_since_begin_h'], inplace=True)\n",
    "    \n",
    "    # Calculate the time difference and value difference over the desired window\n",
    "    df['time_diff'] = df.groupby('unique_id')['time_since_begin_h'].transform(lambda x: x.diff(window)).fillna(0)\n",
    "    df['value_diff'] = df.groupby('unique_id')[column].transform(lambda x: x.diff(window)).fillna(0)\n",
    "\n",
    "    # Calculate the derivative (value difference divided by time difference)\n",
    "    # Be cautious about dividing by zero. If 'time_diff' is 0, set derivative to NaN or handle accordingly.\n",
    "    df[new_column] = df.apply(lambda x: x['value_diff'] / x['time_diff'] if x['time_diff'] != 0 else None, axis=1)\n",
    "\n",
    "    # Drop the helper columns\n",
    "    df.drop(['time_diff', 'value_diff'], axis=1, inplace=True)\n",
    "def calculate_integral(df, column, new_column):\n",
    "    # Calculate the time difference within each group\n",
    "    df.sort_values(by=['unique_id', 'time_since_begin_h'], inplace=True)\n",
    "    df['time_since_begin_hour'] = df['time_since_begin_h']\n",
    "    df['time_diff'] = df.groupby('unique_id')['time_since_begin_hour'].transform(lambda x: x.diff())\n",
    "\n",
    "    # Calculate the average length density within each group\n",
    "    df['avg_length_density'] = df.groupby('unique_id')[column].transform(lambda x: x.rolling(window=2).mean())\n",
    "\n",
    "    # Calculate the \"area\" (using Trapezoidal rule) for each pair of rows within each group\n",
    "    df['area'] = df['time_diff'] * df['avg_length_density']\n",
    "\n",
    "    # Perform the integration (cumulative sum of \"area\") within each group\n",
    "    df[new_column] = df.groupby('unique_id')['area'].transform(lambda x: x.cumsum())\n",
    "\n",
    "    # Drop the helper columns if needed\n",
    "    df.drop(['time_diff', 'avg_length_density', 'area'], axis=1, inplace=True)"
   ]
  },
  {
   "cell_type": "code",
   "execution_count": 33,
   "id": "ea3225be-5819-4ee1-a447-4de02eab9a6e",
   "metadata": {},
   "outputs": [],
   "source": [
    "Vmax = 3.8e-9 #ugP/um2/hour\n",
    "density = 1e-6 #ug/um3\n",
    "dry_wet_ratio = 0.3\n",
    "carbon_ratio = 0.5\n",
    "carbon_ratio_spore = 0.9\n",
    "dry_wet_ratio_spore = 0.9\n",
    "density_spore = 0.9e-6\n",
    "respiration_ratio = 0.5"
   ]
  },
  {
   "cell_type": "code",
   "execution_count": 34,
   "id": "571fb7d3-6294-4233-94fe-42785893d2b9",
   "metadata": {},
   "outputs": [],
   "source": [
    "baseline = final_data[final_data['time_since_begin_h'] == 0]\n",
    "\n",
    "# Step 2: Create a series with spore_volume at time_since_begin_h = 0 for each unique_id\n",
    "baseline_volume = baseline.groupby('unique_id')['spore_volume'].first()\n",
    "final_data['adjusted_spore_volume'] = final_data.groupby('unique_id')['spore_volume'].transform(lambda x: x - baseline_volume[x.name])\n",
    "\n",
    "final_data['totC_hypha'] = final_data['tot_biovolume_study']*density*dry_wet_ratio*carbon_ratio\n",
    "final_data['tot_volume'] = final_data['adjusted_spore_volume']+final_data['tot_biovolume_study']\n",
    "final_data['totC_spore'] = final_data['adjusted_spore_volume']*density_spore*dry_wet_ratio_spore*carbon_ratio_spore\n",
    "final_data['totC_tot'] = final_data['totC_hypha'] + final_data['totC_spore']\n",
    "calculate_integral(final_data,f'tot_surface_area_study',f'integrated_SA')"
   ]
  },
  {
   "cell_type": "code",
   "execution_count": 38,
   "id": "754b25f8-1460-4ab0-965d-de92473b1084",
   "metadata": {},
   "outputs": [],
   "source": [
    "final_data['absorbed_P'] = final_data['integrated_SA']*Vmax\n",
    "final_data['P_C_ratio'] = final_data['absorbed_P']/final_data['totC_tot']*100\n",
    "final_data = final_data.reset_index(drop=True)\n"
   ]
  },
  {
   "cell_type": "code",
   "execution_count": 40,
   "id": "5e64175c-b96e-477c-ae2a-b32db3934809",
   "metadata": {},
   "outputs": [
    {
     "name": "stdout",
     "output_type": "stream",
     "text": [
      "2024-01-25 20:03:52,529-[WARNING]- fontTools.subset:2983 -> meta NOT subset; don't know how to subset; dropped\n"
     ]
    },
    {
     "data": {
      "application/vnd.jupyter.widget-view+json": {
       "model_id": "f7ec66bbd16442a384a47556ce5f2e9e",
       "version_major": 2,
       "version_minor": 0
      },
      "image/png": "[encoded data removed]",
      "text/html": [
       "\n",
       "            <div style=\"display: inline-block;\">\n",
       "                <div class=\"jupyter-widgets widget-label\" style=\"text-align: center;\">\n",
       "                    Figure\n",
       "                </div>\n",
       "                <img src='data:image/png;base64,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' width=236.22047244094486/>\n",
       "            </div>\n",
       "        "
      ],
      "text/plain": [
       "Canvas(toolbar=Toolbar(toolitems=[('Home', 'Reset original view', 'home', 'home'), ('Back', 'Back to previous …"
      ]
     },
     "metadata": {},
     "output_type": "display_data"
    }
   ],
   "source": [
    "fig,ax = plt.subplots(figsize = (6*cm,4*cm))\n",
    "ax2 = ax.twinx()\n",
    "select = final_data\n",
    "select = final_data[final_data['real_root']==\"Carrot Toby\"]\n",
    "# select = select[select['time_since_begin_h_shifted'] < select['time_since_begin_h_shifted_max_c_rate']+20]\n",
    "select = select[select['time_hour_binned'] <= 50]\n",
    "select = select[select['time_hour_binned'] > -55]\n",
    "select = select[select['fungalC']=='100P/100N/100C']\n",
    "\n",
    "select = select[select['strain'] == \"C2\"]\n",
    "select = select.copy()\n",
    "select['time_reshift'] = select['time_hour_binned']+50\n",
    "\n",
    "\n",
    "\n",
    "grouped = select.groupby('time_hour_binned')\n",
    "filtered_groups = grouped.filter(lambda x: x['unique_id'].nunique() >= 7)\n",
    "\n",
    "sns.lineplot(data=filtered_groups,x='time_reshift',y='absorbed_P',estimator = \"mean\",color=\"blue\",ax = ax)\n",
    "sns.lineplot(data=filtered_groups,x='time_reshift',y='totC_tot',estimator = \"mean\",color=\"black\",ax=ax)\n",
    "sns.lineplot(data=filtered_groups,x='time_reshift',y='P_C_ratio',estimator = \"median\",color=\"grey\",ax = ax2)\n",
    "\n",
    "\n",
    "ax.set_yscale(\"log\")\n",
    "# ax2.set_yscale(\"log\")\n",
    "\n",
    "# ax.set_xlim(-100,500)\n",
    "ax2.set_ylim(0,100)\n",
    "\n",
    "ax.set_ylabel('m ($\\mu g$)')\n",
    "ax2.set_ylabel('$m_P/m_C$ (%)')\n",
    "\n",
    "ax.set_xlabel('t-t* (hour)')\n",
    "\n",
    "# ax.set_ylabel('C expenditure rate ($\\mu g/h$)')\n",
    "# ax.set_xlabel('P acquisition rate ($\\mu g/h$)')\n",
    "plt.savefig(os.path.join(path_figure,'Figure3C.pdf'), transparent=True, bbox_inches='tight')"
   ]
  },
  {
   "cell_type": "code",
   "execution_count": null,
   "id": "bc07f0bf-d414-4a81-89de-321ef375b23f",
   "metadata": {},
   "outputs": [],
   "source": [
    "fig, ax = plt.subplots()\n",
    "sns.scatterplot(data=filtered_groups,x='time_since_begin_h',y='integrated_SA')\n",
    "ax.scatter(select1['t2 (day)']*24,select1['integrated_SA'])"
   ]
  },
  {
   "cell_type": "code",
   "execution_count": null,
   "id": "b56a0c0d-3c01-48c2-a35b-ae1f6387d08f",
   "metadata": {},
   "outputs": [],
   "source": [
    "select = final_data\n",
    "select = final_data[final_data['real_root']==\"Carrot Toby\"]\n",
    "# select = select[select['time_since_begin_h_shifted'] < select['time_since_begin_h_shifted_max_c_rate']+20]\n",
    "select = select[select['time_hour_binned'] <= 50]\n",
    "select = select[select['time_hour_binned'] > -55]\n",
    "select = select[select['fungalC']=='100P/100N/100C']\n",
    "\n",
    "select = select[select['strain'] == \"C2\"]\n",
    "select = select.copy()\n",
    "select['time_reshift'] = select['time_hour_binned']+50\n",
    "\n",
    "\n",
    "\n",
    "grouped = select.groupby('time_hour_binned')\n",
    "filtered_groups = grouped.filter(lambda x: x['unique_id'].nunique() >= 7)"
   ]
  },
  {
   "cell_type": "code",
   "execution_count": null,
   "id": "8250db0e-7e9b-4d9d-ab01-3beb91b6e7ad",
   "metadata": {},
   "outputs": [],
   "source": [
    "select1 = grouped_agar[grouped_agar['t2 (day)']<=9]\n",
    "select1 = select1[select1['treatment']=='100P']"
   ]
  }
 ],
 "metadata": {
  "kernelspec": {
   "display_name": "Python 3 (ipykernel)",
   "language": "python",
   "name": "python3"
  },
  "language_info": {
   "codemirror_mode": {
    "name": "ipython",
    "version": 3
   },
   "file_extension": ".py",
   "mimetype": "text/x-python",
   "name": "python",
   "nbconvert_exporter": "python",
   "pygments_lexer": "ipython3",
   "version": "3.10.6"
  }
 },
 "nbformat": 4,
 "nbformat_minor": 5
}
