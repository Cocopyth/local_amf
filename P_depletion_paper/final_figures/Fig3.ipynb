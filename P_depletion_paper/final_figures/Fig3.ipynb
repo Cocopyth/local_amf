{
 "cells": [
  {
   "cell_type": "code",
   "execution_count": 1,
   "id": "88220c9b-d582-42c5-ba3d-4a51f32874e2",
   "metadata": {
    "tags": []
   },
   "outputs": [
    {
     "name": "stderr",
     "output_type": "stream",
     "text": [
      "c:\\users\\coren\\documents\\phd\\code\\amftrack\\amftrack\\util\\dbx.py:3: TqdmExperimentalWarning: Using `tqdm.autonotebook.tqdm` in notebook mode. Use `tqdm.tqdm` instead to force console mode (e.g. in jupyter console)\n",
      "  from tqdm.autonotebook import tqdm\n"
     ]
    }
   ],
   "source": [
    "# import os\n",
    "import matplotlib.pyplot as plt\n",
    "import os\n",
    "import pandas as pd\n",
    "from amftrack.util.sys import get_analysis_folders,get_time_plate_info_from_analysis,get_time_hypha_info_from_analysis,get_global_hypha_info_from_analysis, get_time_plate_info_long_from_analysis\n",
    "import numpy as np\n",
    "import imageio\n",
    "import os\n",
    "import cv2\n",
    "from scipy.interpolate import interp1d\n",
    "from scipy.optimize import curve_fit\n",
    "from amftrack.pipeline.final_analysis.density_wave import get_wave_fit, S, dS, wave, dwave\n",
    "import matplotlib.patches as mpatches\n",
    "from random import choice\n",
    "import matplotlib as mpl\n",
    "from amftrack.pipeline.final_analysis.density_wave import plot_single_plate,plot_single_plate_biovolume\n",
    "from amftrack.pipeline.final_analysis.hypha_speed_analysis import *\n",
    "from amftrack.util.plot import gridplot, make_stat\n",
    "%store -r path_figure\n",
    "%matplotlib widget\n",
    "%load_ext autoreload\n",
    "%autoreload 2\n",
    "from mpl_toolkits.axes_grid1.inset_locator import inset_axes\n",
    "import scipy\n",
    "import statsmodels.api as sm\n",
    "import hashlib\n",
    "from matplotlib.patches import Ellipse\n",
    "import logging\n",
    "from helper import *\n",
    "from load_dataframes import load_all\n",
    "\n",
    "plt.style.use('presentation.mplstyle')\n",
    "logging.getLogger().setLevel(logging.WARNING)\n",
    "\n",
    "all_analysis_folders = get_analysis_folders()\n",
    "#for P\n",
    "plates = [\n",
    "\"416_20230705\",\n",
    "\"427_20230707\",\n",
    "\"420_20230705\",\n",
    "\"431_20230627\",\n",
    "\"474_20230807\",\n",
    "\"460_20230807\",\n",
    "\"464_20230807\",\n",
    "\"440_20230723\",\n",
    "\"436_20230717\",\n",
    "\"443_20230720\",\n",
    "\"439_20230804\",\n",
    "\"470_20230709\",\n",
    "'478_20230814', '468_20230809', '447_20230821', '487_20230922',\n",
    "       '492_20230901', '471_20230821', '486_20231009',\n",
    "       '494_20230908', '482_20230908', '495_20231013', '463_20231013',\n",
    "       '491_20231013', '481_20231005', '483_20231005',\n",
    "    '490_20231003',\n",
    "       '485_20230929',\n",
    "]\n",
    "analysis_folders = all_analysis_folders.loc[all_analysis_folders['unique_id'].isin(plates)]\n",
    "path_figure = r\"C:\\Users\\coren\\Documents\\PhD\\paper\\PandC\\Fig3\"\n"
   ]
  },
  {
   "cell_type": "code",
   "execution_count": 2,
   "id": "13a725a3-d66a-45d1-8054-f291759c0ff0",
   "metadata": {},
   "outputs": [
    {
     "data": {
      "text/plain": [
       "0.0036381599999999997"
      ]
     },
     "execution_count": 2,
     "metadata": {},
     "output_type": "execute_result"
    }
   ],
   "source": [
    "Vmax_schnepf = 3.26e-6 #umol/cm**2/s-1\n",
    "Vmax_schnepf *= 31 #ug/cm**2/s-1\n",
    "Vmax_schnepf *= 1e-2 #ug/mm**2/s-1\n",
    "Vmax_schnepf *= 3600 #ug/mm**2/h-1\n",
    "Vmax_schnepf"
   ]
  },
  {
   "cell_type": "code",
   "execution_count": 3,
   "id": "986351b8-85fd-4de3-ae1d-56f6d7f54313",
   "metadata": {},
   "outputs": [],
   "source": [
    "# folders,time_plate_info = get_time_plate_info_from_analysis(analysis_folders,False)\n",
    "folders,time_plate_info = get_time_plate_info_long_from_analysis(analysis_folders,False)\n",
    "time_plate_info['unique_id'] = time_plate_info['unique_id'].replace(47020230709,47020230802)\n",
    "time_plate_info=time_plate_info[time_plate_info['Plate']!=431]\n",
    "# time_plate_info['time_since_begin_hour'] = time_plate_info['time_since_begin_h'].dt.total_seconds() / 3600.0\n",
    "# time_plate_info['time_since_begin_hour'] = time_plate_info['time_since_begin_h']"
   ]
  },
  {
   "cell_type": "code",
   "execution_count": 4,
   "id": "e956c796-be74-4540-9725-2880279808ce",
   "metadata": {
    "tags": []
   },
   "outputs": [
    {
     "name": "stdout",
     "output_type": "stream",
     "text": [
      "Unique IDs with at least one NaN in specified columns: [47420230807]\n"
     ]
    }
   ],
   "source": [
    "import pandas as pd\n",
    "\n",
    "# Assuming df is your DataFrame\n",
    "columns_to_check = [f'SA_region_{i}' for i in range(18)] + [f'length_density_region_{i}' for i in range(18)]\n",
    "\n",
    "# Filter DataFrame rows where any of the specified columns have NaN values\n",
    "df_filtered = time_plate_info[time_plate_info[columns_to_check].isna().any(axis=1)]\n",
    "\n",
    "# Find the unique ids corresponding to those rows\n",
    "unique_ids_with_nans = df_filtered['unique_id'].unique()\n",
    "\n",
    "print(\"Unique IDs with at least one NaN in specified columns:\", unique_ids_with_nans)\n"
   ]
  },
  {
   "cell_type": "code",
   "execution_count": 5,
   "id": "b02afd26-fe26-49d0-8739-f6d04af720ca",
   "metadata": {
    "tags": []
   },
   "outputs": [
    {
     "data": {
      "text/plain": [
       "['431_20230627',\n",
       " '470_20230709',\n",
       " '495_20231013',\n",
       " '463_20231013',\n",
       " '491_20231013']"
      ]
     },
     "execution_count": 5,
     "metadata": {},
     "output_type": "execute_result"
    }
   ],
   "source": [
    "[plate for plate in plates if int(plate) not in time_plate_info['unique_id'].unique()]"
   ]
  },
  {
   "cell_type": "code",
   "execution_count": 6,
   "id": "d1094b26-5985-428b-ba25-d3a0015fc1d2",
   "metadata": {},
   "outputs": [],
   "source": [
    "def calculate_integral(df, column, new_column):\n",
    "    # Calculate the time difference within each group\n",
    "    df['time_since_begin_hour'] = df['time_since_begin_h'].dt.total_seconds() / 3600.0\n",
    "    df['time_diff'] = df.groupby('unique_id')['time_since_begin_hour'].transform(lambda x: x.diff())\n",
    "\n",
    "    # Calculate the average length density within each group\n",
    "    df['avg_length_density'] = df.groupby('unique_id')[column].transform(lambda x: x.rolling(window=2).mean())\n",
    "\n",
    "    # Calculate the \"area\" (using Trapezoidal rule) for each pair of rows within each group\n",
    "    df['area'] = df['time_diff'] * df['avg_length_density']\n",
    "\n",
    "    # Perform the integration (cumulative sum of \"area\") within each group\n",
    "    df[new_column] = df.groupby('unique_id')['area'].transform(lambda x: x.cumsum())\n",
    "\n",
    "    # Drop the helper columns if needed\n",
    "    df.drop(['time_diff', 'avg_length_density', 'area'], axis=1, inplace=True)"
   ]
  },
  {
   "cell_type": "code",
   "execution_count": 7,
   "id": "845230ad-50da-4c6b-ad06-af58362042d6",
   "metadata": {},
   "outputs": [],
   "source": [
    "for i in range(18):\n",
    "    calculate_integral(time_plate_info,f'SA_region_{i}',f'integrated_SA_{i}')\n",
    "for i in range(18):\n",
    "    calculate_integral(time_plate_info,f'length_density_region_{i}',f'integrated_L_{i}')\n"
   ]
  },
  {
   "cell_type": "code",
   "execution_count": 8,
   "id": "3ab7a576-7928-4eeb-85ac-f3f9ec6e4531",
   "metadata": {},
   "outputs": [],
   "source": [
    "coarse_to_basic_mapping = {\n",
    "    1: [1, 2],\n",
    "    2: [3, 8],\n",
    "    3: [4, 5],\n",
    "    4: [6, 7],\n",
    "    5: [9, 10],\n",
    "    6: [11, 12],\n",
    "    7: [13],\n",
    "    8: [14, 15],\n",
    "    9: [16, 17, 18]\n",
    "}\n",
    "\n",
    "# Mapping for \"simple\" to \"basic\"\n",
    "simple_to_basic_mapping = {\n",
    "    0: list(range(1, 11)),\n",
    "    1: list(range(11, 19))\n",
    "}\n",
    "sub_to_basic_mapping = {\n",
    "    0: list(range(1, 19)),\n",
    "}"
   ]
  },
  {
   "cell_type": "code",
   "execution_count": 9,
   "id": "d745bdf5-7036-4817-8169-0e1d613f5d51",
   "metadata": {
    "tags": []
   },
   "outputs": [
    {
     "name": "stdout",
     "output_type": "stream",
     "text": [
      "The autoreload extension is already loaded. To reload it, use:\n",
      "  %reload_ext autoreload\n"
     ]
    }
   ],
   "source": [
    "import pandas as pd\n",
    "import numpy as np\n",
    "import os\n",
    "import pandas as pd\n",
    "import matplotlib.pyplot as plt\n",
    "from helper import *\n",
    "from amftrack.notebooks.P_experiment.helper import get_polygons\n",
    "%load_ext autoreload\n",
    "%autoreload 2\n",
    "plt.style.use('presentation.mplstyle')\n",
    "\n",
    "%matplotlib widget\n",
    "C_max2 = 1.53\n",
    "\n",
    "def fit_function(x, C_max):\n",
    "    return 1+C_max * 1/x**(3/2)\n",
    "# Read the Excel file\n",
    "path = r'C:\\Users\\coren\\Documents\\PhD\\Pexperiment'\n",
    "path_excel = os.path.join(path,'summary.xlsx')\n",
    "df = pd.read_excel(path_excel)\n",
    "df['date_from_unique_id'] = pd.to_datetime(df['unique_id'].str.split('_').str[1], format='%Y%m%d')\n",
    "    \n",
    "# Convert 'day' column to datetime\n",
    "df['day_sample'] = pd.to_datetime(df['day_sample'], format='%Y%m%d')  # Update the format as necessary\n",
    "df['day_start'] = pd.to_datetime(df['start'], format='%Y%m%d')  # Update the format as necessary\n",
    "\n",
    "df['time_elapsed'] = df['day_sample'] - df['day_start']\n",
    "df['time_elapsed_day'] = df['time_elapsed'].dt.days\n",
    "df['time_since_crossing'] = df['day_sample'] - df['date_from_unique_id']\n",
    "df['t2 (day)'] = df['time_since_crossing'].dt.days\n",
    "df['t1 (day)'] = df['time_elapsed_day']-df['t2 (day)']\n",
    "df['treatment'] = df['treatment'].fillna('none')\n",
    "df['wet_weight_measured'] = df['wet weight']\n",
    "\n",
    "df['wet weight'] = df['wet weight']-df['lost weight']\n",
    "df['totP (ug)'] = df['totP (ug)'] * fit_function(df['totP (ug)'], C_max2)\n",
    "df['Sample_name'] = df['Sample_name'].str.replace('bottom','0')\n",
    "df['Sample_name'] = df['Sample_name'].str.replace('up','1')\n",
    "df['Sample_name'] = df['Sample_name'].str.replace('top','1')\n",
    "df['Sample_name'] = df['Sample_name'].str.replace('agar','0')\n",
    "\n",
    "\n",
    "\n",
    "df = df.loc[df['plate']!=487]\n",
    "df = df.loc[df['type'] == 'agar']\n",
    "df['pos'] = df['Sample_name'].str.split('-').str.get(1).astype(int)\n",
    "\n",
    "time_plate_info.sort_values(['unique_id', 'time_since_begin_h'], inplace=True)\n",
    "\n",
    "# Group by unique_id and take the last entry for each group\n",
    "last_values = time_plate_info.groupby('unique_id').last().reset_index()\n",
    "\n",
    "# Create a function to map 'pos' to the corresponding integrated_Ldens_i value\n",
    "def get_integrated_density(row):\n",
    "    unique_id = row['unique_id']\n",
    "    pos = row['pos']\n",
    "    arrangement = row['arrangement']\n",
    "    if arrangement == 'basic':\n",
    "        col_names = [f'integrated_SA_{pos-1}']\n",
    "    if arrangement == 'simple':\n",
    "        col_names = [f'integrated_SA_{basic_pos-1}' for basic_pos in simple_to_basic_mapping[pos]]\n",
    "    if arrangement == 'coarse':\n",
    "        col_names = [f'integrated_SA_{basic_pos-1}' for basic_pos in coarse_to_basic_mapping[pos]] \n",
    "    if arrangement == 'sub':\n",
    "        col_names = [f'integrated_SA_{basic_pos-1}' for basic_pos in sub_to_basic_mapping[pos]] \n",
    "    if not unique_id is np.nan:\n",
    "        last_value_row = last_values[last_values['unique_id'] == int(unique_id)]\n",
    "        return np.sum(last_value_row[col_names].values) if not last_value_row.empty else None\n",
    "    else:\n",
    "        return(None)\n",
    "df['integrated_SA'] = df.apply(get_integrated_density, axis=1)\n",
    "\n",
    "grouped = df.groupby(['plate', 'type', \"time_elapsed_day\", \"t1 (day)\", \"treatment\", 't2 (day)', \"arrangement\",\"day_start\"]).agg({\n",
    "    'totP (ug)': 'sum',\n",
    "    'wet weight': ['sum', 'median'],\n",
    "    \"wet_weight_measured\":\"sum\",\n",
    "    'dry weight': 'sum',\n",
    "    'integrated_SA':\"sum\"\n",
    "}).reset_index()\n",
    "\n",
    "# Rename columns\n",
    "grouped.columns = ['_'.join(col).strip() if col[0] == 'wet weight' else col[0] for col in grouped.columns]\n",
    "grouped = grouped.rename(columns={\n",
    "    'wet weight_sum': 'tot_wet_weight',\n",
    "    'wet weight_median': 'wet_weight_median'\n",
    "})\n",
    "grouped['C_P'] = grouped['totP (ug)'] / grouped['tot_wet_weight']\n",
    "grouped['P_content'] = grouped['totP (ug)'] / grouped['dry weight']/1e6\n",
    "\n",
    "df['C_P'] = df['totP (ug)'] / df['wet weight']\n",
    "df['P_content'] = df['totP (ug)'] / df['dry weight']/1e6\n",
    "# df = df[df['type'] != 'sub']\n",
    "\n",
    "grouped = grouped[grouped['plate']!=487]\n",
    "grouped = grouped[grouped['plate']!=431]\n",
    "\n"
   ]
  },
  {
   "cell_type": "code",
   "execution_count": 10,
   "id": "8bae0197-dcd3-4e9c-9f45-df71a6e38664",
   "metadata": {},
   "outputs": [],
   "source": [
    "df['integrated_SA_C']=df['integrated_SA']/df['wet weight']\n",
    "# grouped = dfgrouped = df.groupby(['plate', 'type',\"time_elapsed_day\",\"t1 (day)\",\"treatment\",'t2 (day)']).agg({'totP (ug)': 'sum', 'wet weight': 'sum','dry weight' : \"sum\",'integrated_SA':\"sum\"}).reset_index()\n",
    "grouped['C_P'] = grouped['totP (ug)'] / grouped['tot_wet_weight']\n",
    "grouped['P_content'] = grouped['totP (ug)'] / grouped['dry weight']/1e6\n",
    "grouped['integrated_SA_C']=grouped['integrated_SA']/grouped['tot_wet_weight']\n",
    "tot_weights = grouped[grouped['type'].isin([\"agartot\", \"rootagartot\"])].set_index(['plate', 'type'])['wet_weight_measured'].to_dict()\n",
    "\n",
    "# Function to determine the 'measured_tot_wet_weight' based on conditions\n",
    "def get_tot_weight(row):\n",
    "    if row['type'] == 'agar' and (row['plate'], 'agartot') in tot_weights:\n",
    "        return tot_weights[(row['plate'], 'agartot')]\n",
    "    elif row['type'] == 'rootagar' and (row['plate'], 'rootagartot') in tot_weights:\n",
    "        return tot_weights[(row['plate'], 'rootagartot')]\n",
    "    else:\n",
    "        return row['wet_weight_measured']\n",
    "\n",
    "# Apply the function to get 'measured_tot_wet_weight' column\n",
    "grouped['measured_tot_wet_weight'] = grouped.apply(get_tot_weight, axis=1)\n",
    "grouped= grouped[grouped['type'] != 'rootagartot']\n",
    "grouped= grouped[grouped['type'] != 'agartot']\n",
    "# Step 1: Identify plates that don't have any rows with type \"agartot\"\n",
    "plates_with_agartot = grouped[grouped['type'] == 'rootagartot']['plate'].unique()\n",
    "valid_plates = grouped[~grouped['plate'].isin(plates_with_agartot)]\n",
    "\n",
    "# Step 2: Compute the average \"wet weight\" for type 'agar' and 'rootagar'\n",
    "average_wet_weight_agar = valid_plates[valid_plates['type'] == 'agar']['measured_tot_wet_weight'].mean()\n",
    "average_wet_weight_rootagar = valid_plates[valid_plates['type'] == 'rootagar']['measured_tot_wet_weight'].mean()\n",
    "\n",
    "# Step 3: Replace rows in the 'average weight' column accordingly\n",
    "grouped['average weight'] = None  # Initialize column with None values\n",
    "grouped.loc[grouped['type'] == 'agar', 'average weight'] = average_wet_weight_agar\n",
    "grouped.loc[grouped['type'] == 'rootagar', 'average weight'] = average_wet_weight_rootagar\n",
    "grouped.loc[grouped['type'] == 'agar', 'fullP'] = grouped.loc[grouped['type'] == 'agar', 'measured_tot_wet_weight'] *grouped.loc[grouped['type'] == 'agar', 'C_P']\n",
    "grouped.loc[grouped['type'] == 'rootagar', 'fullP'] = grouped.loc[grouped['type'] == 'rootagar', 'measured_tot_wet_weight'] *grouped.loc[grouped['type'] == 'rootagar', 'C_P']\n",
    "grouped.loc[grouped['type'] == 'root', 'fullP'] = grouped.loc[grouped['type'] == 'root', 'totP (ug)']\n",
    "totP_theory = 100\n",
    "grouped['scaling_factor'] = totP_theory/grouped.groupby('plate')['fullP'].transform('sum')\n",
    "\n",
    "# Multiply 'fullP' by the scaling factor to get 'fullP_rescaled'\n",
    "grouped['fullP_rescaled'] = grouped['fullP'] * grouped['scaling_factor']"
   ]
  },
  {
   "cell_type": "code",
   "execution_count": 11,
   "id": "614fec00-cd79-41d6-aed1-d193f7b50bb4",
   "metadata": {},
   "outputs": [],
   "source": [
    "grouped_agar = grouped.copy()"
   ]
  },
  {
   "cell_type": "code",
   "execution_count": 12,
   "id": "41d7f68c-9d36-4621-8ca4-7bfe7512822d",
   "metadata": {
    "tags": []
   },
   "outputs": [
    {
     "name": "stdout",
     "output_type": "stream",
     "text": [
      "2024-04-11 19:22:25,397-[WARNING]- fontTools.subset:2983 -> meta NOT subset; don't know how to subset; dropped\n"
     ]
    },
    {
     "data": {
      "application/vnd.jupyter.widget-view+json": {
       "model_id": "501228fdbd4c4fb9b0a684ba80b4c70f",
       "version_major": 2,
       "version_minor": 0
      },
      "image/png": "[encoded data removed]",
      "text/html": [
       "\n",
       "            <div style=\"display: inline-block;\">\n",
       "                <div class=\"jupyter-widgets widget-label\" style=\"text-align: center;\">\n",
       "                    Figure\n",
       "                </div>\n",
       "                <img src='data:image/png;base64,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' width=236.22047244094486/>\n",
       "            </div>\n",
       "        "
      ],
      "text/plain": [
       "Canvas(toolbar=Toolbar(toolitems=[('Home', 'Reset original view', 'home', 'home'), ('Back', 'Back to previous …"
      ]
     },
     "metadata": {},
     "output_type": "display_data"
    }
   ],
   "source": [
    "cm = 1/2.54  # centimeters in inches\n",
    "\n",
    "fig,ax = plt.subplots(figsize = (6*cm,4*cm))\n",
    "select = grouped_agar[grouped_agar['t2 (day)']<=9]\n",
    "select = select[select['treatment']=='100P']\n",
    "\n",
    "\n",
    "\n",
    "# sns.scatterplot(df,x = 'integrated_SA_C',y = 'C_P',ax = ax,hue =\"treatment\",s = 6)\n",
    "sns.scatterplot(select,x = 'integrated_SA_C',y = 'C_P',ax = ax,s=50)\n",
    "sns.regplot(select,x = 'integrated_SA_C',y = 'C_P',ax = ax,scatter = False)\n",
    "\n",
    "# ax.set_xscale('log')\n",
    "ax.set_ylim(1.8,4.3)\n",
    "plt.ylabel('[P] \\n ($\\mu g/mL$)')\n",
    "plt.xlabel('$\\int_0^{t_f} SA(t)dt$ \\n ($\\mu m^2h/mL$)')\n",
    "plt.savefig(os.path.join(path_figure,'Figure3A.pdf'), transparent=True, bbox_inches='tight')\n"
   ]
  },
  {
   "cell_type": "code",
   "execution_count": 13,
   "id": "b4d35f8c-4293-43cc-bec2-e5c35a6c0828",
   "metadata": {},
   "outputs": [],
   "source": [
    "slope, intercept, r_value, p_value, std_err = stats.linregress(select['integrated_SA_C'], select['C_P'])\n",
    "slope2, intercept, r_value, p_value, std_err = stats.linregress(select['integrated_SA'], select['fullP'])"
   ]
  },
  {
   "cell_type": "code",
   "execution_count": 14,
   "id": "f99ed538-e831-418a-862c-5a261c1a0a46",
   "metadata": {},
   "outputs": [
    {
     "data": {
      "text/plain": [
       "(-3.2554048752748486e-09, -3.3973588349543932e-09)"
      ]
     },
     "execution_count": 14,
     "metadata": {},
     "output_type": "execute_result"
    }
   ],
   "source": [
    "slope2,slope"
   ]
  },
  {
   "cell_type": "code",
   "execution_count": 15,
   "id": "737c36ea-04cf-4ce9-aa7e-58ad4026d37b",
   "metadata": {},
   "outputs": [
    {
     "data": {
      "text/plain": [
       "2.9715786346588478"
      ]
     },
     "execution_count": 15,
     "metadata": {},
     "output_type": "execute_result"
    }
   ],
   "source": [
    "std_err*1e6*24*365"
   ]
  },
  {
   "cell_type": "code",
   "execution_count": 16,
   "id": "ba473395-2ecc-4b77-9916-0c0454b2312d",
   "metadata": {},
   "outputs": [],
   "source": [
    "df = pd.read_excel(path_excel)\n",
    "df['date_from_unique_id'] = pd.to_datetime(df['unique_id'].str.split('_').str[1], format='%Y%m%d')\n",
    "    \n",
    "# Convert 'day' column to datetime\n",
    "df['day_sample'] = pd.to_datetime(df['day_sample'], format='%Y%m%d')  # Update the format as necessary\n",
    "df['day_start'] = pd.to_datetime(df['start'], format='%Y%m%d')  # Update the format as necessary\n",
    "\n",
    "df['time_elapsed'] = df['day_sample'] - df['day_start']\n",
    "df['time_elapsed_day'] = df['time_elapsed'].dt.days\n",
    "df['time_since_crossing'] = df['day_sample'] - df['date_from_unique_id']\n",
    "df['t2 (day)'] = df['time_since_crossing'].dt.days\n",
    "df['t1 (day)'] = df['time_elapsed_day']-df['t2 (day)']\n",
    "df['treatment'] = df['treatment'].fillna('none')\n",
    "df['wet_weight_measured'] = df['wet weight']\n",
    "\n",
    "df['wet weight'] = df['wet weight']-df['lost weight']\n",
    "df['totP (ug)'] = df['totP (ug)'] * fit_function(df['totP (ug)'], C_max2)\n",
    "\n",
    "grouped = df.groupby(['plate', 'type', \"time_elapsed_day\", \"t1 (day)\", \"treatment\", 't2 (day)', \"arrangement\",\"day_start\"]).agg({\n",
    "    'totP (ug)': 'sum',\n",
    "    'wet weight': ['sum', 'median'],\n",
    "    \"wet_weight_measured\":\"sum\",\n",
    "    'dry weight': 'sum'\n",
    "}).reset_index()\n",
    "\n",
    "# Rename columns\n",
    "grouped.columns = ['_'.join(col).strip() if col[0] == 'wet weight' else col[0] for col in grouped.columns]\n",
    "grouped = grouped.rename(columns={\n",
    "    'wet weight_sum': 'tot_wet_weight',\n",
    "    'wet weight_median': 'wet_weight_median'\n",
    "})\n",
    "grouped['C_P'] = grouped['totP (ug)'] / grouped['tot_wet_weight']\n",
    "grouped['P_content'] = grouped['totP (ug)'] / grouped['dry weight']/1e6\n",
    "\n",
    "df['C_P'] = df['totP (ug)'] / df['wet weight']\n",
    "df['P_content'] = df['totP (ug)'] / df['dry weight']/1e6\n",
    "tot_weights = grouped[grouped['type'].isin([\"agartot\", \"rootagartot\"])].set_index(['plate', 'type'])['wet_weight_measured'].to_dict()\n",
    "\n",
    "# Function to determine the 'measured_tot_wet_weight' based on conditions\n",
    "def get_tot_weight(row):\n",
    "    if row['type'] == 'agar' and (row['plate'], 'agartot') in tot_weights:\n",
    "        return tot_weights[(row['plate'], 'agartot')]\n",
    "    elif row['type'] == 'rootagar' and (row['plate'], 'rootagartot') in tot_weights:\n",
    "        return tot_weights[(row['plate'], 'rootagartot')]\n",
    "    else:\n",
    "        return row['wet_weight_measured']\n",
    "\n",
    "# Apply the function to get 'measured_tot_wet_weight' column\n",
    "grouped['measured_tot_wet_weight'] = grouped.apply(get_tot_weight, axis=1)\n",
    "# Step 1: Identify plates that don't have any rows with type \"agartot\"\n",
    "plates_with_agartot = grouped[grouped['type'] == 'rootagartot']['plate'].unique()\n",
    "valid_plates = grouped[~grouped['plate'].isin(plates_with_agartot)]\n",
    "\n",
    "# Step 2: Compute the average \"wet weight\" for type 'agar' and 'rootagar'\n",
    "average_wet_weight_agar = valid_plates[valid_plates['type'] == 'agar']['measured_tot_wet_weight'].mean()\n",
    "average_wet_weight_rootagar = valid_plates[valid_plates['type'] == 'rootagar']['measured_tot_wet_weight'].mean()\n",
    "\n",
    "# Step 3: Replace rows in the 'average weight' column accordingly\n",
    "grouped['average weight'] = None  # Initialize column with None values\n",
    "grouped.loc[grouped['type'] == 'agar', 'average weight'] = average_wet_weight_agar\n",
    "grouped.loc[grouped['type'] == 'rootagar', 'average weight'] = average_wet_weight_rootagar\n",
    "grouped.loc[grouped['type'] == 'agar', 'fullP'] = grouped.loc[grouped['type'] == 'agar', 'measured_tot_wet_weight'] *grouped.loc[grouped['type'] == 'agar', 'C_P']\n",
    "grouped.loc[grouped['type'] == 'rootagar', 'fullP'] = grouped.loc[grouped['type'] == 'rootagar', 'measured_tot_wet_weight'] *grouped.loc[grouped['type'] == 'rootagar', 'C_P']\n",
    "grouped.loc[grouped['type'] == 'root', 'fullP'] = grouped.loc[grouped['type'] == 'root', 'totP (ug)']\n",
    "totP_theory = 100\n",
    "grouped['scaling_factor'] = totP_theory/grouped.groupby('plate')['fullP'].transform('sum')\n",
    "\n",
    "# Multiply 'fullP' by the scaling factor to get 'fullP_rescaled'\n",
    "grouped['fullP_rescaled'] = grouped['fullP'] * grouped['scaling_factor']\n",
    "grouped = grouped.merge(grouped_agar[['plate','integrated_SA_C','integrated_SA']],how = \"left\",on='plate')"
   ]
  },
  {
   "cell_type": "code",
   "execution_count": 17,
   "id": "c65ce388-e5f9-46d1-a5a1-b91a73f7c98c",
   "metadata": {},
   "outputs": [
    {
     "name": "stdout",
     "output_type": "stream",
     "text": [
      "agar 0.910976268186197\n",
      "root 0.5127978721154758\n",
      "2024-04-11 19:22:29,694-[WARNING]- fontTools.subset:2983 -> meta NOT subset; don't know how to subset; dropped\n"
     ]
    },
    {
     "data": {
      "application/vnd.jupyter.widget-view+json": {
       "model_id": "54126bb9c8b54bc2825a92e8c17055ff",
       "version_major": 2,
       "version_minor": 0
      },
      "image/png": "[encoded data removed]",
      "text/html": [
       "\n",
       "            <div style=\"display: inline-block;\">\n",
       "                <div class=\"jupyter-widgets widget-label\" style=\"text-align: center;\">\n",
       "                    Figure\n",
       "                </div>\n",
       "                <img src='data:image/png;base64,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' width=149.6062992125984/>\n",
       "            </div>\n",
       "        "
      ],
      "text/plain": [
       "Canvas(toolbar=Toolbar(toolitems=[('Home', 'Reset original view', 'home', 'home'), ('Back', 'Back to previous …"
      ]
     },
     "metadata": {},
     "output_type": "display_data"
    }
   ],
   "source": [
    "from matplotlib.lines import Line2D\n",
    "select= grouped[grouped['fullP']>0]\n",
    "select= select[select['treatment']=='100P']\n",
    "select = select[select['t2 (day)']<=9]\n",
    "select = select[select['plate']!=431]\n",
    "select = select[select['plate']!=487]\n",
    "column = 'integrated_SA'\n",
    "t2_values = select[column].unique()\n",
    "color_dict = {\n",
    "    'root': 'blue',\n",
    "    'agar': 'red',\n",
    "    'rootagar': 'green'\n",
    "}\n",
    "# Plotting\n",
    "fig,ax = plt.subplots(figsize = (3.8*cm,5.6*cm))\n",
    "# Unique categories in the hue column\n",
    "types = select['type'].unique()\n",
    "color_dict = {\n",
    "    'root': 'orange',\n",
    "    'agar': 'purple',\n",
    "    'rootagar': 'green'\n",
    "}\n",
    "\n",
    "# Iterate over each category\n",
    "for type_obj in types:\n",
    "    # Subset data for the category\n",
    "    subset = select[select['type'] == type_obj]\n",
    "    if type_obj == \"rootagar\":\n",
    "        ax.scatter(subset[column], subset['fullP'], color=color_dict[type_obj], s=50)\n",
    "        line_style = {\"linestyle\": \"--\",\"linewidth\":4}  # Dashed line for 'rootagar'\n",
    "        mean_value = subset['fullP'].mean()\n",
    "        std_value = subset['fullP'].std()\n",
    "        xmin = np.min(subset[column])\n",
    "        xmax = np.max(subset[column])\n",
    "        ax.hlines(y=mean_value, xmin = xmin,xmax = xmax, color=color_dict[type_obj], linestyle='--', linewidth = 4)\n",
    "        ax.fill_between([xmin,xmax], mean_value - 2*std_value, mean_value + 2*std_value, color=color_dict[type_obj], alpha=0.2)\n",
    "    else:\n",
    "        line_style = {\"linewidth\":4}  # Default line style for other types\n",
    "\n",
    "    # Create a regplot for the subset with customized line style for 'rootagar'\n",
    "        sns.regplot(x=subset[column], y=subset['fullP'], color=color_dict[type_obj],\n",
    "                scatter_kws={\"s\": 50}, line_kws=line_style)\n",
    "        slope2, intercept, r_value, p_value, std_err = stats.linregress(subset[column], subset['fullP'])\n",
    "    \n",
    "        print(type_obj,r_value**2)\n",
    "# for t2 in sorted(t2_values):\n",
    "#     plate_data = select[select[column] == t2]\n",
    "#     for k,type_ in enumerate(['root', 'agar', 'rootagar']):\n",
    "#         value = plate_data[plate_data['type'] == type_]['fullP'].mean()\n",
    "#             # print(t2,plate_data[plate_data['type'] == type_]['plate'])\n",
    "#         ax.scatter(t2, value, color=color_dict[type_])\n",
    "#         # print(t2,value,plate_data)\n",
    "total = select.groupby(\"plate\")\n",
    "ax.scatter(total[column].mean(), total['fullP'].sum(), color=\"black\", s=50)\n",
    "mean_value = total['fullP'].sum().mean()\n",
    "std_value = total['fullP'].sum().std()\n",
    "ax.hlines(y=mean_value, xmin = np.min(total[column].mean()),xmax = np.max(total[column].mean()), color=\"black\", linestyle='--', linewidth = 4)\n",
    "ax.fill_between([xmin,xmax], mean_value - 2*std_value, mean_value + 2*std_value, color=\"black\", alpha=0.2)\n",
    "# sns.regplot(x=total[column].mean(), y=total['fullP'].sum(), color=\"black\",\n",
    "#                 scatter_kws={\"s\": 50}, line_kws=line_style)\n",
    "ax.set_ylabel('fullP Value')\n",
    "ax.set_xlabel('t2 Value')\n",
    "\n",
    "\n",
    "ax.set_ylabel('P mass (ug)')\n",
    "ax.set_xlabel('Time since crossing (day)')\n",
    "plt.ylabel('$m_P$ ($\\mu g$)')\n",
    "plt.xlabel('$\\int_0^{t_f} SA(t)dt$ ($\\mu m^2h$)')\n",
    "plt.savefig(os.path.join(path_figure,'Figure3B.pdf'), transparent=True, bbox_inches='tight')"
   ]
  },
  {
   "cell_type": "code",
   "execution_count": 23,
   "id": "3c0311a4-5398-433e-92f0-1a6a0eb4c181",
   "metadata": {},
   "outputs": [
    {
     "name": "stdout",
     "output_type": "stream",
     "text": [
      "agar 0.7155728225338454\n",
      "root 0.4487471204532693\n",
      "2024-04-11 19:27:04,370-[WARNING]- fontTools.subset:2983 -> meta NOT subset; don't know how to subset; dropped\n"
     ]
    },
    {
     "data": {
      "application/vnd.jupyter.widget-view+json": {
       "model_id": "87ef4c0d14514976b8849f0ca84a1134",
       "version_major": 2,
       "version_minor": 0
      },
      "image/png": "[encoded data removed]",
      "text/html": [
       "\n",
       "            <div style=\"display: inline-block;\">\n",
       "                <div class=\"jupyter-widgets widget-label\" style=\"text-align: center;\">\n",
       "                    Figure\n",
       "                </div>\n",
       "                <img src='data:image/png;base64,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' width=100.0/>\n",
       "            </div>\n",
       "        "
      ],
      "text/plain": [
       "Canvas(toolbar=Toolbar(toolitems=[('Home', 'Reset original view', 'home', 'home'), ('Back', 'Back to previous …"
      ]
     },
     "metadata": {},
     "output_type": "display_data"
    }
   ],
   "source": [
    "path_figure = r'C:\\\\Users\\\\coren\\\\AMOLF-SHIMIZU Dropbox\\\\HFSP_symbiotic-networks\\\\Article_TravellingWave\\\\Supplementary material\\\\extended_data_figures'\n",
    "plt.style.use('presentation2.mplstyle')\n",
    "\n",
    "from matplotlib.lines import Line2D\n",
    "select= grouped[grouped['fullP']>0]\n",
    "select= select[select['treatment']=='100P']\n",
    "select = select[select['t2 (day)']<=9]\n",
    "select = select[select['plate']!=431]\n",
    "select = select[select['plate']!=487]\n",
    "column = 't2 (day)'\n",
    "t2_values = select[column].unique()\n",
    "color_dict = {\n",
    "    'root': 'blue',\n",
    "    'agar': 'red',\n",
    "    'rootagar': 'green'\n",
    "}\n",
    "width = 1\n",
    "height = 1.5\n",
    "\n",
    "fig,ax = plt.subplots(figsize=(width,height))\n",
    "# Unique categories in the hue column\n",
    "types = select['type'].unique()\n",
    "color_dict = {\n",
    "    'root': 'orange',\n",
    "    'agar': 'purple',\n",
    "    'rootagar': 'green'\n",
    "}\n",
    "\n",
    "# Iterate over each category\n",
    "for type_obj in types:\n",
    "    # Subset data for the category\n",
    "    subset = select[select['type'] == type_obj]\n",
    "    if type_obj == \"rootagar\":\n",
    "        ax.scatter(subset[column], subset['fullP'], color=color_dict[type_obj], s=50)\n",
    "        line_style = {\"linestyle\": \"--\",\"linewidth\":4}  # Dashed line for 'rootagar'\n",
    "        mean_value = subset['fullP'].mean()\n",
    "        std_value = subset['fullP'].std()\n",
    "        xmin = np.min(subset[column])\n",
    "        xmax = np.max(subset[column])\n",
    "        ax.hlines(y=mean_value, xmin = xmin,xmax = xmax, color=color_dict[type_obj], linestyle='--', linewidth = 4)\n",
    "        ax.fill_between([xmin,xmax], mean_value - 2*std_value, mean_value + 2*std_value, color=color_dict[type_obj], alpha=0.2)\n",
    "    else:\n",
    "        line_style = {\"linewidth\":4}  # Default line style for other types\n",
    "\n",
    "    # Create a regplot for the subset with customized line style for 'rootagar'\n",
    "        sns.regplot(x=subset[column], y=subset['fullP'], color=color_dict[type_obj],\n",
    "                scatter_kws={\"s\": 50}, line_kws=line_style)\n",
    "        slope2, intercept, r_value, p_value, std_err = stats.linregress(subset[column], subset['fullP'])\n",
    "    \n",
    "        print(type_obj,r_value**2)\n",
    "# for t2 in sorted(t2_values):\n",
    "#     plate_data = select[select[column] == t2]\n",
    "#     for k,type_ in enumerate(['root', 'agar', 'rootagar']):\n",
    "#         value = plate_data[plate_data['type'] == type_]['fullP'].mean()\n",
    "#             # print(t2,plate_data[plate_data['type'] == type_]['plate'])\n",
    "#         ax.scatter(t2, value, color=color_dict[type_])\n",
    "#         # print(t2,value,plate_data)\n",
    "total = select.groupby(\"plate\")\n",
    "ax.scatter(total[column].mean(), total['fullP'].sum(), color=\"black\", s=50)\n",
    "mean_value = total['fullP'].sum().mean()\n",
    "std_value = total['fullP'].sum().std()\n",
    "ax.hlines(y=mean_value, xmin = np.min(total[column].mean()),xmax = np.max(total[column].mean()), color=\"black\", linestyle='--', linewidth = 4)\n",
    "ax.fill_between([xmin,xmax], mean_value - 2*std_value, mean_value + 2*std_value, color=\"black\", alpha=0.2)\n",
    "# sns.regplot(x=total[column].mean(), y=total['fullP'].sum(), color=\"black\",\n",
    "#                 scatter_kws={\"s\": 50}, line_kws=line_style)\n",
    "ax.set_ylabel('fullP Value')\n",
    "ax.set_xlabel('t2 Value')\n",
    "\n",
    "\n",
    "# ax.set_ylabel('P mass (ug)')\n",
    "ax.set_xlabel('t (day)')\n",
    "ax.set_ylabel('$m_P$ ($\\mu g$)')\n",
    "plt.savefig(os.path.join(path_figure,'Figure_rebutal_Pdeplete.pdf'), transparent=True, bbox_inches='tight')\n",
    "path_figure = r\"C:\\Users\\coren\\Documents\\PhD\\paper\\PandC\\Fig3\"\n",
    "plt.style.use('presentation.mplstyle')\n"
   ]
  },
  {
   "cell_type": "code",
   "execution_count": 19,
   "id": "7291543c-5aeb-4f15-ba95-c8a7321eaa4d",
   "metadata": {},
   "outputs": [
    {
     "ename": "NameError",
     "evalue": "name 'zegze' is not defined",
     "output_type": "error",
     "traceback": [
      "\u001b[1;31m---------------------------------------------------------------------------\u001b[0m",
      "\u001b[1;31mNameError\u001b[0m                                 Traceback (most recent call last)",
      "Input \u001b[1;32mIn [19]\u001b[0m, in \u001b[0;36m<cell line: 1>\u001b[1;34m()\u001b[0m\n\u001b[1;32m----> 1\u001b[0m \u001b[43mzegze\u001b[49m\n",
      "\u001b[1;31mNameError\u001b[0m: name 'zegze' is not defined"
     ]
    }
   ],
   "source": [
    "zegze"
   ]
  },
  {
   "cell_type": "code",
   "execution_count": null,
   "id": "5415abde-6347-48ee-a61f-b4b2e8864661",
   "metadata": {},
   "outputs": [],
   "source": [
    "subset = select[select['type'] == 'agar']\n",
    "\n",
    "slope2, intercept, r_value, p_value, std_err = stats.linregress(subset['integrated_SA'], subset['fullP'])\n",
    "slope2"
   ]
  },
  {
   "cell_type": "code",
   "execution_count": null,
   "id": "49caf662-c413-47e2-a3b9-7f44237f965e",
   "metadata": {},
   "outputs": [],
   "source": [
    "r_value**2"
   ]
  },
  {
   "cell_type": "code",
   "execution_count": null,
   "id": "eab5c4c1-e381-4a66-b432-c4bb77956fa9",
   "metadata": {
    "tags": []
   },
   "outputs": [],
   "source": [
    "from plates import plates,timestep\n",
    "\n",
    "df2,final_data = load_all(plates)"
   ]
  },
  {
   "cell_type": "code",
   "execution_count": null,
   "id": "d05d0783-6180-476c-9f15-8dcacf37635b",
   "metadata": {},
   "outputs": [],
   "source": [
    "def calculate_derivative(df, column, new_column, window=1):\n",
    "    # Ensure the DataFrame is sorted by 'unique_id' and 'time_since_begin_h'\n",
    "    df.sort_values(by=['unique_id', 'time_since_begin_h'], inplace=True)\n",
    "    \n",
    "    # Calculate the time difference and value difference over the desired window\n",
    "    df['time_diff'] = df.groupby('unique_id')['time_since_begin_h'].transform(lambda x: x.diff(window)).fillna(0)\n",
    "    df['value_diff'] = df.groupby('unique_id')[column].transform(lambda x: x.diff(window)).fillna(0)\n",
    "\n",
    "    # Calculate the derivative (value difference divided by time difference)\n",
    "    # Be cautious about dividing by zero. If 'time_diff' is 0, set derivative to NaN or handle accordingly.\n",
    "    df[new_column] = df.apply(lambda x: x['value_diff'] / x['time_diff'] if x['time_diff'] != 0 else None, axis=1)\n",
    "\n",
    "    # Drop the helper columns\n",
    "    df.drop(['time_diff', 'value_diff'], axis=1, inplace=True)\n",
    "def calculate_integral(df, column, new_column):\n",
    "    # Calculate the time difference within each group\n",
    "    df.sort_values(by=['unique_id', 'time_since_begin_h'], inplace=True)\n",
    "    df['time_since_begin_hour'] = df['time_since_begin_h']\n",
    "    df['time_diff'] = df.groupby('unique_id')['time_since_begin_hour'].transform(lambda x: x.diff())\n",
    "\n",
    "    # Calculate the average length density within each group\n",
    "    df['avg_length_density'] = df.groupby('unique_id')[column].transform(lambda x: x.rolling(window=2).mean())\n",
    "\n",
    "    # Calculate the \"area\" (using Trapezoidal rule) for each pair of rows within each group\n",
    "    df['area'] = df['time_diff'] * df['avg_length_density']\n",
    "\n",
    "    # Perform the integration (cumulative sum of \"area\") within each group\n",
    "    df[new_column] = df.groupby('unique_id')['area'].transform(lambda x: x.cumsum())\n",
    "\n",
    "    # Drop the helper columns if needed\n",
    "    df.drop(['time_diff', 'avg_length_density', 'area'], axis=1, inplace=True)"
   ]
  },
  {
   "cell_type": "code",
   "execution_count": null,
   "id": "ea3225be-5819-4ee1-a447-4de02eab9a6e",
   "metadata": {},
   "outputs": [],
   "source": [
    "Vmax = 3.8e-9 #ugP/um2/hour\n",
    "density = 1e-6 #ug/um3\n",
    "dry_wet_ratio = 0.3\n",
    "carbon_ratio = 0.5\n",
    "carbon_ratio_spore = 0.9\n",
    "dry_wet_ratio_spore = 0.9\n",
    "density_spore = 0.9e-6\n",
    "respiration_ratio = 0.5"
   ]
  },
  {
   "cell_type": "code",
   "execution_count": null,
   "id": "571fb7d3-6294-4233-94fe-42785893d2b9",
   "metadata": {},
   "outputs": [],
   "source": [
    "baseline = final_data[final_data['time_since_begin_h'] == 0]\n",
    "\n",
    "# Step 2: Create a series with spore_volume at time_since_begin_h = 0 for each unique_id\n",
    "baseline_volume = baseline.groupby('unique_id')['spore_volume'].first()\n",
    "final_data['adjusted_spore_volume'] = final_data.groupby('unique_id')['spore_volume'].transform(lambda x: x - baseline_volume[x.name])\n",
    "\n",
    "final_data['totC_hypha'] = final_data['tot_biovolume_study']*density*dry_wet_ratio*carbon_ratio\n",
    "final_data['tot_volume'] = final_data['adjusted_spore_volume']+final_data['tot_biovolume_study']\n",
    "final_data['totC_spore'] = final_data['adjusted_spore_volume']*density_spore*dry_wet_ratio_spore*carbon_ratio_spore\n",
    "final_data['totC_tot'] = final_data['totC_hypha'] + final_data['totC_spore']\n",
    "calculate_integral(final_data,f'tot_surface_area_study',f'integrated_SA')"
   ]
  },
  {
   "cell_type": "code",
   "execution_count": null,
   "id": "754b25f8-1460-4ab0-965d-de92473b1084",
   "metadata": {},
   "outputs": [],
   "source": [
    "final_data['absorbed_P'] = final_data['integrated_SA']*Vmax\n",
    "final_data['P_C_ratio'] = final_data['absorbed_P']/final_data['totC_tot']*100\n",
    "final_data = final_data.reset_index(drop=True)\n"
   ]
  },
  {
   "cell_type": "code",
   "execution_count": null,
   "id": "5e64175c-b96e-477c-ae2a-b32db3934809",
   "metadata": {},
   "outputs": [],
   "source": [
    "fig,ax = plt.subplots(figsize = (6*cm,4*cm))\n",
    "ax2 = ax.twinx()\n",
    "select = final_data\n",
    "select = final_data[final_data['real_root']==\"Carrot Toby\"]\n",
    "# select = select[select['time_since_begin_h_shifted'] < select['time_since_begin_h_shifted_max_c_rate']+20]\n",
    "select = select[select['time_hour_binned'] <= 50]\n",
    "select = select[select['time_hour_binned'] > -55]\n",
    "select = select[select['fungalC']=='100P/100N/100C']\n",
    "\n",
    "select = select[select['strain'] == \"C2\"]\n",
    "select = select.copy()\n",
    "select['time_reshift'] = select['time_hour_binned']+50\n",
    "\n",
    "\n",
    "\n",
    "grouped = select.groupby('time_hour_binned')\n",
    "filtered_groups = grouped.filter(lambda x: x['unique_id'].nunique() >= 7)\n",
    "\n",
    "sns.lineplot(data=filtered_groups,x='time_reshift',y='absorbed_P',estimator = \"mean\",color=\"blue\",ax = ax)\n",
    "sns.lineplot(data=filtered_groups,x='time_reshift',y='totC_tot',estimator = \"mean\",color=\"black\",ax=ax)\n",
    "sns.lineplot(data=filtered_groups,x='time_reshift',y='P_C_ratio',estimator = \"median\",color=\"grey\",ax = ax2)\n",
    "\n",
    "\n",
    "ax.set_yscale(\"log\")\n",
    "# ax2.set_yscale(\"log\")\n",
    "\n",
    "# ax.set_xlim(-100,500)\n",
    "ax2.set_ylim(0,100)\n",
    "\n",
    "ax.set_ylabel('m ($\\mu g$)')\n",
    "ax2.set_ylabel('$m_P/m_C$ (%)')\n",
    "\n",
    "ax.set_xlabel('t-t* (hour)')\n",
    "\n",
    "# ax.set_ylabel('C expenditure rate ($\\mu g/h$)')\n",
    "# ax.set_xlabel('P acquisition rate ($\\mu g/h$)')\n",
    "plt.savefig(os.path.join(path_figure,'Figure3C.pdf'), transparent=True, bbox_inches='tight')"
   ]
  },
  {
   "cell_type": "code",
   "execution_count": null,
   "id": "bc07f0bf-d414-4a81-89de-321ef375b23f",
   "metadata": {},
   "outputs": [],
   "source": [
    "fig, ax = plt.subplots()\n",
    "sns.scatterplot(data=filtered_groups,x='time_since_begin_h',y='integrated_SA')\n",
    "ax.scatter(select1['t2 (day)']*24,select1['integrated_SA'])"
   ]
  },
  {
   "cell_type": "code",
   "execution_count": null,
   "id": "b56a0c0d-3c01-48c2-a35b-ae1f6387d08f",
   "metadata": {},
   "outputs": [],
   "source": [
    "select = final_data\n",
    "select = final_data[final_data['real_root']==\"Carrot Toby\"]\n",
    "# select = select[select['time_since_begin_h_shifted'] < select['time_since_begin_h_shifted_max_c_rate']+20]\n",
    "select = select[select['time_hour_binned'] <= 50]\n",
    "select = select[select['time_hour_binned'] > -55]\n",
    "select = select[select['fungalC']=='100P/100N/100C']\n",
    "\n",
    "select = select[select['strain'] == \"C2\"]\n",
    "select = select.copy()\n",
    "select['time_reshift'] = select['time_hour_binned']+50\n",
    "\n",
    "\n",
    "\n",
    "grouped = select.groupby('time_hour_binned')\n",
    "filtered_groups = grouped.filter(lambda x: x['unique_id'].nunique() >= 7)"
   ]
  },
  {
   "cell_type": "code",
   "execution_count": null,
   "id": "8250db0e-7e9b-4d9d-ab01-3beb91b6e7ad",
   "metadata": {},
   "outputs": [],
   "source": [
    "select1 = grouped_agar[grouped_agar['t2 (day)']<=9]\n",
    "select1 = select1[select1['treatment']=='100P']"
   ]
  }
 ],
 "metadata": {
  "kernelspec": {
   "display_name": "Python 3 (ipykernel)",
   "language": "python",
   "name": "python3"
  },
  "language_info": {
   "codemirror_mode": {
    "name": "ipython",
    "version": 3
   },
   "file_extension": ".py",
   "mimetype": "text/x-python",
   "name": "python",
   "nbconvert_exporter": "python",
   "pygments_lexer": "ipython3",
   "version": "3.10.6"
  }
 },
 "nbformat": 4,
 "nbformat_minor": 5
}
