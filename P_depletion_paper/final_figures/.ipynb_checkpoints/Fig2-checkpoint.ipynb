{
 "cells": [
  {
   "cell_type": "code",
   "execution_count": 1,
   "id": "0b1847a7-bb65-4a78-b416-6d429bd60c81",
   "metadata": {},
   "outputs": [
    {
     "name": "stderr",
     "output_type": "stream",
     "text": [
      "c:\\users\\coren\\documents\\phd\\code\\amftrack\\amftrack\\util\\dbx.py:3: TqdmExperimentalWarning: Using `tqdm.autonotebook.tqdm` in notebook mode. Use `tqdm.tqdm` instead to force console mode (e.g. in jupyter console)\n",
      "  from tqdm.autonotebook import tqdm\n"
     ]
    }
   ],
   "source": [
    "# import os\n",
    "import matplotlib.pyplot as plt\n",
    "import os\n",
    "import pandas as pd\n",
    "from amftrack.util.sys import get_analysis_folders,get_time_plate_info_from_analysis,get_time_hypha_info_from_analysis,get_global_hypha_info_from_analysis \n",
    "import numpy as np\n",
    "import imageio\n",
    "import os\n",
    "import cv2\n",
    "from scipy.interpolate import interp1d\n",
    "from scipy.optimize import curve_fit\n",
    "from amftrack.pipeline.final_analysis.density_wave import get_wave_fit, S, dS, wave, dwave\n",
    "import matplotlib.patches as mpatches\n",
    "from random import choice\n",
    "import matplotlib as mpl\n",
    "from amftrack.pipeline.final_analysis.density_wave import plot_single_plate,plot_single_plate_biovolume\n",
    "from amftrack.pipeline.final_analysis.hypha_speed_analysis import *\n",
    "from amftrack.util.plot import gridplot, make_stat\n",
    "from helper import *\n",
    "from load_dataframes import load_all\n",
    "from plates import plates,timestep\n",
    "%matplotlib widget\n",
    "%load_ext autoreload\n",
    "%autoreload 2\n",
    "from mpl_toolkits.axes_grid1.inset_locator import inset_axes\n",
    "import scipy\n",
    "import statsmodels.api as sm\n",
    "import hashlib\n",
    "from matplotlib.patches import Ellipse\n",
    "import logging\n",
    "plt.style.use('presentation.mplstyle')\n",
    "import seaborn as sns\n",
    "import matplotlib.pyplot as plt\n",
    "logging.getLogger().setLevel(logging.WARNING)"
   ]
  },
  {
   "cell_type": "code",
   "execution_count": 2,
   "id": "14a57a54-0989-48a2-82ce-a2ef63b064b3",
   "metadata": {},
   "outputs": [],
   "source": [
    "path_figure = r\"C:\\Users\\coren\\Documents\\PhD\\paper\\PandC\\Fig2\"\n"
   ]
  },
  {
   "cell_type": "code",
   "execution_count": 3,
   "id": "22096afe-582d-4e17-82c8-1c81afe8c295",
   "metadata": {},
   "outputs": [
    {
     "data": {
      "text/plain": [
       "'C:\\\\Users\\\\coren\\\\Documents\\\\PhD\\\\paper\\\\PandC\\\\Fig2'"
      ]
     },
     "execution_count": 3,
     "metadata": {},
     "output_type": "execute_result"
    }
   ],
   "source": [
    "path_figure"
   ]
  },
  {
   "cell_type": "code",
   "execution_count": null,
   "id": "46e8a389-2e65-4fb2-8410-724164e6936b",
   "metadata": {
    "tags": []
   },
   "outputs": [],
   "source": [
    "df,final_data = load_all(plates)"
   ]
  },
  {
   "cell_type": "code",
   "execution_count": null,
   "id": "c260495c-d9ac-48c0-b477-27ec4be4885b",
   "metadata": {},
   "outputs": [],
   "source": [
    "def calculate_derivative(df, column, new_column, window=1):\n",
    "    # Ensure the DataFrame is sorted by 'unique_id' and 'time_since_begin_h'\n",
    "    df.sort_values(by=['unique_id', 'time_since_begin_h'], inplace=True)\n",
    "    \n",
    "    # Calculate the time difference and value difference over the desired window\n",
    "    df['time_diff'] = df.groupby('unique_id')['time_since_begin_h'].transform(lambda x: x.diff(window)).fillna(0)\n",
    "    df['value_diff'] = df.groupby('unique_id')[column].transform(lambda x: x.diff(window)).fillna(0)\n",
    "\n",
    "    # Calculate the derivative (value difference divided by time difference)\n",
    "    # Be cautious about dividing by zero. If 'time_diff' is 0, set derivative to NaN or handle accordingly.\n",
    "    df[new_column] = df.apply(lambda x: x['value_diff'] / x['time_diff'] if x['time_diff'] != 0 else None, axis=1)\n",
    "\n",
    "    # Drop the helper columns\n",
    "    df.drop(['time_diff', 'value_diff'], axis=1, inplace=True)\n",
    "def calculate_integral(df, column, new_column):\n",
    "    # Calculate the time difference within each group\n",
    "    df.sort_values(by=['unique_id', 'time_since_begin_h'], inplace=True)\n",
    "    df['time_since_begin_hour'] = df['time_since_begin_h']\n",
    "    df['time_diff'] = df.groupby('unique_id')['time_since_begin_hour'].transform(lambda x: x.diff())\n",
    "\n",
    "    # Calculate the average length density within each group\n",
    "    df['avg_length_density'] = df.groupby('unique_id')[column].transform(lambda x: x.rolling(window=2).mean())\n",
    "\n",
    "    # Calculate the \"area\" (using Trapezoidal rule) for each pair of rows within each group\n",
    "    df['area'] = df['time_diff'] * df['avg_length_density']\n",
    "\n",
    "    # Perform the integration (cumulative sum of \"area\") within each group\n",
    "    df[new_column] = df.groupby('unique_id')['area'].transform(lambda x: x.cumsum())\n",
    "\n",
    "    # Drop the helper columns if needed\n",
    "    df.drop(['time_diff', 'avg_length_density', 'area'], axis=1, inplace=True)\n",
    "calculate_integral(final_data,f'tot_surface_area_study',f'integrated_SA')\n",
    "calculate_derivative(final_data,f'tot_biovolume_study',f'derivative_biovolume', window=5)\n",
    "calculate_derivative(final_data,f'tot_volume',f'derivative_tot_biovolume', window=5)\n",
    "calculate_derivative(final_data,f'tot_biovolume_study',f'derivative_biovolume_smooth', window=10)\n",
    "\n",
    "\n",
    "Vmax = 3e-9*25 #ugP/um2/hour\n",
    "density = 1e-6 #ug/um3\n",
    "dry_wet_ratio = 0.3\n",
    "carbon_ratio = 0.5\n",
    "carbon_ratio_spore = 0.9\n",
    "dry_wet_ratio_spore = 0.9\n",
    "density_spore = 0.9e-6\n",
    "respiration_ratio = 0.5\n",
    "final_data['P_rate'] =final_data['tot_surface_area_study']*Vmax\n",
    "final_data['C_rate'] = final_data['derivative_biovolume']*density*dry_wet_ratio*carbon_ratio/respiration_ratio\n",
    "final_data['totC_hypha'] = final_data['tot_biovolume_study']*density*dry_wet_ratio*carbon_ratio\n",
    "final_data['tot_volume'] = final_data['spore_volume']+final_data['tot_biovolume_study']\n",
    "final_data['totC_spore'] = final_data['spore_volume']*density_spore*dry_wet_ratio_spore*carbon_ratio_spore\n",
    "\n",
    "#IMPORTANT MAKE A CHOICE WHETHER OR NOT TO INCLUDE SPORES\n",
    "final_data['totC_tot'] = final_data['totC_hypha'] + final_data['totC_spore']\n",
    "final_data['totC_tot'] = final_data['totC_hypha']\n",
    "\n",
    "\n",
    "final_data = final_data.reset_index(drop=True)\n",
    "final_data_select = final_data.loc[final_data['time_since_begin_h_shifted']<=150]\n",
    "\n",
    "max_c_rate_time = final_data_select.loc[final_data_select.groupby('unique_id')['C_rate'].idxmax(), ['unique_id', 'time_since_begin_h_shifted']]\n",
    "\n",
    "# Step 2: Merge this information back to the original DataFrame\n",
    "final_data = final_data.merge(max_c_rate_time, on='unique_id', suffixes=('', '_max_c_rate'))"
   ]
  },
  {
   "cell_type": "code",
   "execution_count": null,
   "id": "ff93d85a-aa28-4f82-9127-b8bab3f9cd3d",
   "metadata": {},
   "outputs": [],
   "source": [
    "import numpy as np\n",
    "density = 1e-6 #ug/um3\n",
    "dry_wet_ratio = 0.3\n",
    "carbon_ratio = 0.5\n",
    "density*dry_wet_ratio*carbon_ratio*np.pi*3**2"
   ]
  },
  {
   "cell_type": "code",
   "execution_count": null,
   "id": "a4d6332f-e07f-4d52-a81d-55dcc577df41",
   "metadata": {},
   "outputs": [],
   "source": [
    "select = final_data[final_data['unique_id'] == 84_20220621]\n",
    "select = select[select['time_since_begin_h_shifted'] <= 200]\n",
    "\n",
    "fig,ax = plt.subplots()\n",
    "sns.scatterplot(data=select, x='time_since_begin_h_shifted', y='hull_speed', ax=ax, lw=1)\n",
    "# ax.vlines(select['time_since_begin_h_shifted_max_c_rate'].iloc[0],0,1e6,color= \"red\")"
   ]
  },
  {
   "cell_type": "code",
   "execution_count": null,
   "id": "8160582d-8cdc-4aa9-a87d-c863dfd21969",
   "metadata": {},
   "outputs": [],
   "source": [
    "calculate_derivative(final_data,f'tot_surface_area_study',f'derivative_SA', window=5)\n",
    "calculate_derivative(final_data,f'totC_tot',f'derivative_C', window=5)\n",
    "\n",
    "calculate_derivative(final_data,f'area_sep_comp',f'derivative_area', window=5)\n",
    "final_data['instant_SA_dens'] = final_data['derivative_SA']/final_data['derivative_area']\n",
    "calculate_derivative(final_data,f'tot_biovolume_study',f'derivative_BV', window=5)\n",
    "final_data['instant_BV_dens'] = final_data['derivative_BV']/final_data['derivative_area']\n",
    "calculate_derivative(final_data,f'tot_length_study',f'derivative_L', window=5)\n",
    "final_data['instant_L_dens'] = final_data['derivative_L']/final_data['derivative_area']\n",
    "final_data['instant_C_dens'] = final_data['derivative_C']/final_data['derivative_area']\n",
    "\n",
    "final_data['instant_radius'] = final_data['instant_BV_dens']/final_data['instant_SA_dens']*2\n",
    "final_data['strain'] = final_data['strain'].replace(\"A5V\",\"A5\")\n"
   ]
  },
  {
   "cell_type": "code",
   "execution_count": null,
   "id": "5e94a10f-410f-417d-a679-10ffa555dc5c",
   "metadata": {},
   "outputs": [],
   "source": [
    "df['FungalSide'] = df['FungalSide'].fillna(\"100P/100N/100C\")\n",
    "df['FungalSide'] = df['FungalSide'].replace(\"100P100N100C\",\"100P/100N/100C\")\n",
    "df['FungalSide'] = df['FungalSide'].replace(\"100P100N100C\",\"100P/100N/100C\")\n",
    "\n",
    "df['treatment'] = df['treatment'].replace(\"1P100N100C\",\"1P/100N/100C\")\n",
    "df['fungus'] = df['fungus'].replace(\"A5sp3\",\"A5\")\n",
    "df['fungus'] = df['fungus'].replace(\"A5V\",\"A5\")\n",
    "\n",
    "df['category_combination'] = df[['treatment', 'FungalSide',\"real_root\"]].apply(lambda x: '_'.join(x.astype(str)), axis=1)\n",
    "df['size_point'] = 20\n",
    "marker_symbols = {\n",
    "    \"C2\": 'circle',\n",
    "    \"A5\": 'square',\n",
    "    \"Agg\": 'diamond',\n",
    "    \"Clarum\": 'cross',\n",
    "    \"C3\": 'star',\n",
    "    \n",
    "    \n",
    "    # Add more mappings as needed\n",
    "}\n",
    "\n",
    "n_colors = len(df['fungus'].unique())\n",
    "\n",
    "palette = sns.color_palette(\"rainbow\", n_colors)\n",
    "strain_to_color = dict(zip(df['fungus'].unique(), palette))\n",
    "strain_to_color = {\"C2\": (0.17058823529411765, 0.4946558433997788, 0.9667184042691874),\n",
    " \"A5\": (0.16666666666666663, 0.8660254037844386, 0.8660254037844387),\n",
    " \"Agg\": (0.503921568627451, 0.9999810273487268, 0.7049255469061472),\n",
    " \"Clarum\": (0.8333333333333333, 0.8660254037844387, 0.5000000000000001),\n",
    " \"C3\": (1.0, 0.4946558433997788, 0.2558427775944356)}\n",
    "\n",
    "df['full_category_combination'] = df[['fungus','treatment', 'FungalSide',\"real_root\"]].apply(lambda x: '_'.join(x.astype(str)), axis=1)\n",
    "\n",
    "# Map the strain to the marker symbol in the DataFrame\n",
    "df['marker'] = df['fungus'].map(marker_symbols)\n"
   ]
  },
  {
   "cell_type": "code",
   "execution_count": null,
   "id": "1ddb0300-037c-4aaa-ad51-247240a7bac9",
   "metadata": {},
   "outputs": [],
   "source": [
    "select[select['strain']!=\"A5V \"]['strain'].unique()"
   ]
  },
  {
   "cell_type": "code",
   "execution_count": null,
   "id": "0783c799-b4a2-4af7-92cf-f8bc3ef314f9",
   "metadata": {},
   "outputs": [],
   "source": [
    "plt.style.use('presentation.mplstyle')\n",
    "\n",
    "bin_size = 30\n",
    "cm = 1/2.54  # centimeters in inches\n",
    "select = final_data\n",
    "select = final_data.loc[final_data['hull_speed']>0].copy()\n",
    "select['hull_speed_binned'] = select['hull_speed'].astype(int)//bin_size*bin_size\n",
    "select= select[select['instant_C_dens']>0]\n",
    "select= select[select['instant_C_dens']<=0.025]\n",
    "select= select[select['real_root']==\"Carrot Toby\"]\n",
    "select= select[select['fungalC']==\"100P/100N/100C\"]\n",
    "select= select[select['strain']!=\"A5V \"]\n",
    "\n",
    "# select= select[select['strain']==\"C2\"]\n",
    "select = select[select['time_since_begin_h_shifted'] < select['time_since_begin_h_shifted_max_c_rate']+20]\n",
    "# select = select[select['time_hour_binned'] <= 50]\n",
    "# select = select[select['time_hour_binned'] >= 0]\n",
    "\n",
    "summary = select.groupby([\"strain\", 'time_hour_binned']).agg({\n",
    "    'hull_speed': 'median',\n",
    "    'instant_SA_dens': 'median',\n",
    "    'radius': 'median',\n",
    "    'instant_BV_dens': 'count',\n",
    "    'instant_L_dens': 'median',\n",
    "    'instant_C_dens': 'median',\n",
    "    \n",
    "}).rename(columns={'instant_BV_dens': 'count'})\n",
    "summary = summary[summary['count']>7]\n",
    "summary = summary.reset_index()\n",
    "fig,ax = plt.subplots(figsize = (3.8*cm,5.6*cm))\n",
    "\n",
    "sns.scatterplot(summary, x='hull_speed', y='instant_C_dens',hue=\"strain\",s=50,palette=strain_to_color,alpha = 0.4)\n",
    "sns.regplot(data=summary, x='hull_speed', y='instant_C_dens',scatter = False,color = \"black\")\n",
    "summary = select.groupby(\"strain\")[['hull_speed','hull_speed_binned','instant_SA_dens','radius','instant_BV_dens','instant_L_dens','instant_C_dens']].median()\n",
    "sns.scatterplot(summary, x='hull_speed', y='instant_C_dens',hue=\"strain\",s=200,palette=strain_to_color)\n",
    "ax.legend('')\n",
    "summary['size_point'] = 20\n",
    "summary['fungus'] = summary.index\n",
    "ax.set_xlabel('$v_{wave}$ (um/h)')\n",
    "ax.set_ylabel('$d_{Carbon}$ ($\\mu g/mm^2$)')\n",
    "plt.legend().remove()\n",
    "# plt.tight_layout()\n",
    "\n",
    "plt.savefig(os.path.join(path_figure,'Figure2A.pdf'), transparent=True, bbox_inches='tight')\n"
   ]
  },
  {
   "cell_type": "code",
   "execution_count": null,
   "id": "39e4d21f-fbf2-46fd-a671-3aaa6452e209",
   "metadata": {
    "tags": []
   },
   "outputs": [],
   "source": [
    "summary = select.groupby([\"strain\", 'time_hour_binned']).agg({\n",
    "    'hull_speed': 'median',\n",
    "    'instant_SA_dens': 'median',\n",
    "    'radius': 'median',\n",
    "    'instant_BV_dens': 'count',\n",
    "    'instant_L_dens': 'median',\n",
    "    'instant_C_dens': 'median',\n",
    "    \n",
    "}).rename(columns={'instant_BV_dens': 'count'})\n",
    "summary = summary[summary['count']>7]\n",
    "summary"
   ]
  },
  {
   "cell_type": "code",
   "execution_count": null,
   "id": "ba2fa928-2133-491e-a422-56a8062c020b",
   "metadata": {},
   "outputs": [],
   "source": [
    "select = final_data[final_data['real_root']==\"Carrot Toby\"]\n",
    "select = select[select['time_since_begin_h_shifted'] < select['time_since_begin_h_shifted_max_c_rate']+20]\n",
    "select = select[select['C_rate'] >= 0]\n",
    "max_c_rate_time = select.loc[select.groupby('unique_id')['time_since_begin_h_shifted'].idxmax(), ['folder','unique_id','time_since_begin_h']]\n",
    "max_c_rate_time.to_csv('list_last_folder.csv')"
   ]
  },
  {
   "cell_type": "code",
   "execution_count": null,
   "id": "8ad1ca99-10f1-47eb-8d36-648c96c7164d",
   "metadata": {},
   "outputs": [],
   "source": [
    "import os\n",
    "import seaborn as sns\n",
    "import matplotlib.pyplot as plt\n",
    "\n",
    "# Assuming final_data is your DataFrame and it contains a 'unique_id' column\n",
    "# Group by 'time_hour_binned' and filter out groups with less than 3 unique IDs\n",
    "tmax = 150\n",
    "select = final_data[final_data['real_root']==\"Carrot Toby\"]\n",
    "select= select[select['fungalC']==\"100P/100N/100C\"]\n",
    "\n",
    "select = select[select['time_since_begin_h_shifted'] < select['time_since_begin_h_shifted_max_c_rate']+20]\n",
    "select = select[select['time_hour_binned'] <= 50]\n",
    "select = select[select['C_rate'] >= 0]\n",
    "select= select[select['strain']!=\"A5V \"]\n",
    "\n",
    "select = select.copy()\n",
    "select['time_reshift'] = select['time_hour_binned']+50\n",
    "\n",
    "\n",
    "\n",
    "grouped = select.groupby('time_hour_binned')\n",
    "filtered_groups = grouped.filter(lambda x: x['unique_id'].nunique() >= 7)\n",
    "\n",
    "# Now, use this filtered data for your plots\n",
    "fig,ax = plt.subplots(figsize = (3.8*cm,5.6*cm))\n",
    "sns.lineplot(data=filtered_groups, x='time_reshift', y='C_rate', hue='strain', ax=ax, palette=strain_to_color, lw=1)\n",
    "\n",
    "# Mean line plot\n",
    "sns.lineplot(data=filtered_groups, x='time_reshift', y='C_rate', ax=ax, color='black', estimator='mean', lw=5, ls=\"-\")\n",
    "\n",
    "ax.set_xlabel('t-t* (hour)')\n",
    "ax.set_ylabel('$\\Phi_C$ ($\\mu g/h$)')\n",
    "# ax.set_ylim(0)\n",
    "plt.legend().remove()\n",
    "# plt.tight_layout()\n",
    "# Save the figure\n",
    "plt.savefig(os.path.join(path_figure, 'Figure2B.pdf'), transparent=True, bbox_inches='tight')\n"
   ]
  },
  {
   "cell_type": "code",
   "execution_count": null,
   "id": "a3cd7dd1-a857-4ad6-b34f-da680cff2aa7",
   "metadata": {},
   "outputs": [],
   "source": []
  }
 ],
 "metadata": {
  "kernelspec": {
   "display_name": "Python 3 (ipykernel)",
   "language": "python",
   "name": "python3"
  },
  "language_info": {
   "codemirror_mode": {
    "name": "ipython",
    "version": 3
   },
   "file_extension": ".py",
   "mimetype": "text/x-python",
   "name": "python",
   "nbconvert_exporter": "python",
   "pygments_lexer": "ipython3",
   "version": "3.10.6"
  }
 },
 "nbformat": 4,
 "nbformat_minor": 5
}
