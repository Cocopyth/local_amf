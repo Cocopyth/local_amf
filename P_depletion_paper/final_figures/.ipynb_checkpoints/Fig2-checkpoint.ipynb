{
 "cells": [
  {
   "cell_type": "code",
   "execution_count": 1,
   "id": "0b1847a7-bb65-4a78-b416-6d429bd60c81",
   "metadata": {},
   "outputs": [
    {
     "name": "stderr",
     "output_type": "stream",
     "text": [
      "c:\\users\\coren\\documents\\phd\\code\\amftrack\\amftrack\\util\\dbx.py:3: TqdmExperimentalWarning: Using `tqdm.autonotebook.tqdm` in notebook mode. Use `tqdm.tqdm` instead to force console mode (e.g. in jupyter console)\n",
      "  from tqdm.autonotebook import tqdm\n"
     ]
    }
   ],
   "source": [
    "# import os\n",
    "import matplotlib.pyplot as plt\n",
    "import os\n",
    "import pandas as pd\n",
    "from amftrack.util.sys import get_analysis_folders,get_time_plate_info_from_analysis,get_time_hypha_info_from_analysis,get_global_hypha_info_from_analysis \n",
    "import numpy as np\n",
    "import imageio\n",
    "import os\n",
    "import cv2\n",
    "from scipy.interpolate import interp1d\n",
    "from scipy.optimize import curve_fit\n",
    "from amftrack.pipeline.final_analysis.density_wave import get_wave_fit, S, dS, wave, dwave\n",
    "import matplotlib.patches as mpatches\n",
    "from random import choice\n",
    "import matplotlib as mpl\n",
    "from amftrack.pipeline.final_analysis.density_wave import plot_single_plate,plot_single_plate_biovolume\n",
    "from amftrack.pipeline.final_analysis.hypha_speed_analysis import *\n",
    "from amftrack.util.plot import gridplot, make_stat\n",
    "from helper import *\n",
    "from load_dataframes import load_all\n",
    "from plates import plates,timestep\n",
    "%matplotlib widget\n",
    "%load_ext autoreload\n",
    "%autoreload 2\n",
    "from mpl_toolkits.axes_grid1.inset_locator import inset_axes\n",
    "import scipy\n",
    "import statsmodels.api as sm\n",
    "import hashlib\n",
    "from matplotlib.patches import Ellipse\n",
    "import logging\n",
    "plt.style.use('presentation.mplstyle')\n",
    "import seaborn as sns\n",
    "import matplotlib.pyplot as plt\n",
    "logging.getLogger().setLevel(logging.WARNING)"
   ]
  },
  {
   "cell_type": "code",
   "execution_count": 2,
   "id": "14a57a54-0989-48a2-82ce-a2ef63b064b3",
   "metadata": {},
   "outputs": [],
   "source": [
    "path_figure = r\"C:\\Users\\coren\\Documents\\PhD\\paper\\PandC\\Fig2\"\n"
   ]
  },
  {
   "cell_type": "code",
   "execution_count": null,
   "id": "46e8a389-2e65-4fb2-8410-724164e6936b",
   "metadata": {
    "tags": []
   },
   "outputs": [],
   "source": [
    "df,final_data = load_all(plates)"
   ]
  },
  {
   "cell_type": "code",
   "execution_count": null,
   "id": "c260495c-d9ac-48c0-b477-27ec4be4885b",
   "metadata": {},
   "outputs": [],
   "source": [
    "def calculate_derivative(df, column, new_column, window=1):\n",
    "    # Ensure the DataFrame is sorted by 'unique_id' and 'time_since_begin_h'\n",
    "    df.sort_values(by=['unique_id', 'time_since_begin_h'], inplace=True)\n",
    "    \n",
    "    # Calculate the time difference and value difference over the desired window\n",
    "    df['time_diff'] = df.groupby('unique_id')['time_since_begin_h'].transform(lambda x: x.diff(window)).fillna(0)\n",
    "    df['value_diff'] = df.groupby('unique_id')[column].transform(lambda x: x.diff(window)).fillna(0)\n",
    "\n",
    "    # Calculate the derivative (value difference divided by time difference)\n",
    "    # Be cautious about dividing by zero. If 'time_diff' is 0, set derivative to NaN or handle accordingly.\n",
    "    df[new_column] = df.apply(lambda x: x['value_diff'] / x['time_diff'] if x['time_diff'] != 0 else None, axis=1)\n",
    "\n",
    "    # Drop the helper columns\n",
    "    df.drop(['time_diff', 'value_diff'], axis=1, inplace=True)\n",
    "def calculate_integral(df, column, new_column):\n",
    "    # Calculate the time difference within each group\n",
    "    df.sort_values(by=['unique_id', 'time_since_begin_h'], inplace=True)\n",
    "    df['time_since_begin_hour'] = df['time_since_begin_h']\n",
    "    df['time_diff'] = df.groupby('unique_id')['time_since_begin_hour'].transform(lambda x: x.diff())\n",
    "\n",
    "    # Calculate the average length density within each group\n",
    "    df['avg_length_density'] = df.groupby('unique_id')[column].transform(lambda x: x.rolling(window=2).mean())\n",
    "\n",
    "    # Calculate the \"area\" (using Trapezoidal rule) for each pair of rows within each group\n",
    "    df['area'] = df['time_diff'] * df['avg_length_density']\n",
    "\n",
    "    # Perform the integration (cumulative sum of \"area\") within each group\n",
    "    df[new_column] = df.groupby('unique_id')['area'].transform(lambda x: x.cumsum())\n",
    "\n",
    "    # Drop the helper columns if needed\n",
    "    df.drop(['time_diff', 'avg_length_density', 'area'], axis=1, inplace=True)\n",
    "calculate_integral(final_data,f'tot_surface_area_study',f'integrated_SA')\n",
    "calculate_derivative(final_data,f'tot_biovolume_study',f'derivative_biovolume', window=5)\n",
    "calculate_derivative(final_data,f'tot_volume',f'derivative_tot_biovolume', window=5)\n",
    "calculate_derivative(final_data,f'tot_biovolume_study',f'derivative_biovolume_smooth', window=10)\n",
    "\n",
    "\n",
    "Vmax = 3e-9*25 #ugP/um2/hour\n",
    "density = 1e-6 #ug/um3\n",
    "dry_wet_ratio = 0.3\n",
    "carbon_ratio = 0.5\n",
    "carbon_ratio_spore = 0.5\n",
    "dry_wet_ratio_spore = 0.3\n",
    "density_spore = 1e-6\n",
    "respiration_ratio = 0.5\n",
    "final_data['P_rate'] =final_data['tot_surface_area_study']*Vmax\n",
    "final_data['C_rate'] = final_data['derivative_biovolume']*density*dry_wet_ratio*carbon_ratio/respiration_ratio\n",
    "final_data['totC_hypha'] = final_data['tot_biovolume_study']*density*dry_wet_ratio*carbon_ratio\n",
    "\n",
    "baseline = final_data[final_data['time_since_begin_h'] == 0]\n",
    "\n",
    "baseline_volume = baseline.groupby('unique_id')['spore_volume'].first()\n",
    "final_data['adjusted_spore_volume'] = final_data.groupby('unique_id')['spore_volume'].transform(lambda x: x - baseline_volume[x.name])\n",
    "\n",
    "final_data['tot_volume'] = final_data['adjusted_spore_volume']+final_data['tot_biovolume_study']\n",
    "final_data['totC_spore'] = final_data['adjusted_spore_volume']*density_spore*dry_wet_ratio_spore*carbon_ratio_spore\n",
    "\n",
    "#IMPORTANT MAKE A CHOICE WHETHER OR NOT TO INCLUDE SPORES\n",
    "final_data['totC_tot'] = final_data['totC_hypha'] + np.maximum(final_data['totC_spore'],0)\n",
    "# final_data['totC_tot'] = final_data['totC_hypha']\n",
    "\n",
    "\n",
    "final_data = final_data.reset_index(drop=True)\n",
    "final_data_select = final_data.loc[final_data['time_since_begin_h_shifted']<=150]\n",
    "\n",
    "max_c_rate_time = final_data_select.loc[final_data_select.groupby('unique_id')['C_rate'].idxmax(), ['unique_id', 'time_since_begin_h_shifted']]\n",
    "\n",
    "# Step 2: Merge this information back to the original DataFrame\n",
    "final_data = final_data.merge(max_c_rate_time, on='unique_id', suffixes=('', '_max_c_rate'))"
   ]
  },
  {
   "cell_type": "code",
   "execution_count": null,
   "id": "ff93d85a-aa28-4f82-9127-b8bab3f9cd3d",
   "metadata": {},
   "outputs": [],
   "source": [
    "import numpy as np\n",
    "density = 1e-6 #ug/um3\n",
    "dry_wet_ratio = 0.21*1.1\n",
    "carbon_ratio = 0.5\n",
    "density*dry_wet_ratio*carbon_ratio*np.pi*3**2"
   ]
  },
  {
   "cell_type": "code",
   "execution_count": 133,
   "id": "a4d6332f-e07f-4d52-a81d-55dcc577df41",
   "metadata": {
    "collapsed": true,
    "jupyter": {
     "outputs_hidden": true
    },
    "tags": []
   },
   "outputs": [
    {
     "ename": "ValueError",
     "evalue": "Could not interpret value `instant_C_dens` for parameter `y`",
     "output_type": "error",
     "traceback": [
      "\u001b[1;31m---------------------------------------------------------------------------\u001b[0m",
      "\u001b[1;31mValueError\u001b[0m                                Traceback (most recent call last)",
      "Input \u001b[1;32mIn [133]\u001b[0m, in \u001b[0;36m<cell line: 5>\u001b[1;34m()\u001b[0m\n\u001b[0;32m      2\u001b[0m select \u001b[38;5;241m=\u001b[39m select[select[\u001b[38;5;124m'\u001b[39m\u001b[38;5;124mtime_since_begin_h_shifted\u001b[39m\u001b[38;5;124m'\u001b[39m] \u001b[38;5;241m<\u001b[39m\u001b[38;5;241m=\u001b[39m \u001b[38;5;241m200\u001b[39m]\n\u001b[0;32m      4\u001b[0m fig,ax \u001b[38;5;241m=\u001b[39m plt\u001b[38;5;241m.\u001b[39msubplots()\n\u001b[1;32m----> 5\u001b[0m \u001b[43msns\u001b[49m\u001b[38;5;241;43m.\u001b[39;49m\u001b[43mscatterplot\u001b[49m\u001b[43m(\u001b[49m\u001b[43mdata\u001b[49m\u001b[38;5;241;43m=\u001b[39;49m\u001b[43mselect\u001b[49m\u001b[43m,\u001b[49m\u001b[43m \u001b[49m\u001b[43mx\u001b[49m\u001b[38;5;241;43m=\u001b[39;49m\u001b[38;5;124;43m'\u001b[39;49m\u001b[38;5;124;43mtime_since_begin_h_shifted\u001b[39;49m\u001b[38;5;124;43m'\u001b[39;49m\u001b[43m,\u001b[49m\u001b[43m \u001b[49m\u001b[43my\u001b[49m\u001b[38;5;241;43m=\u001b[39;49m\u001b[38;5;124;43m'\u001b[39;49m\u001b[38;5;124;43minstant_C_dens\u001b[39;49m\u001b[38;5;124;43m'\u001b[39;49m\u001b[43m,\u001b[49m\u001b[43m \u001b[49m\u001b[43max\u001b[49m\u001b[38;5;241;43m=\u001b[39;49m\u001b[43max\u001b[49m\u001b[43m,\u001b[49m\u001b[43m \u001b[49m\u001b[43mlw\u001b[49m\u001b[38;5;241;43m=\u001b[39;49m\u001b[38;5;241;43m1\u001b[39;49m\u001b[43m,\u001b[49m\u001b[43ms\u001b[49m\u001b[43m \u001b[49m\u001b[38;5;241;43m=\u001b[39;49m\u001b[43m \u001b[49m\u001b[38;5;241;43m10\u001b[39;49m\u001b[43m)\u001b[49m\n",
      "File \u001b[1;32m~\\anaconda3\\envs\\amftrack\\lib\\site-packages\\seaborn\\relational.py:742\u001b[0m, in \u001b[0;36mscatterplot\u001b[1;34m(data, x, y, hue, size, style, palette, hue_order, hue_norm, sizes, size_order, size_norm, markers, style_order, legend, ax, **kwargs)\u001b[0m\n\u001b[0;32m    732\u001b[0m \u001b[38;5;28;01mdef\u001b[39;00m \u001b[38;5;21mscatterplot\u001b[39m(\n\u001b[0;32m    733\u001b[0m     data\u001b[38;5;241m=\u001b[39m\u001b[38;5;28;01mNone\u001b[39;00m, \u001b[38;5;241m*\u001b[39m,\n\u001b[0;32m    734\u001b[0m     x\u001b[38;5;241m=\u001b[39m\u001b[38;5;28;01mNone\u001b[39;00m, y\u001b[38;5;241m=\u001b[39m\u001b[38;5;28;01mNone\u001b[39;00m, hue\u001b[38;5;241m=\u001b[39m\u001b[38;5;28;01mNone\u001b[39;00m, size\u001b[38;5;241m=\u001b[39m\u001b[38;5;28;01mNone\u001b[39;00m, style\u001b[38;5;241m=\u001b[39m\u001b[38;5;28;01mNone\u001b[39;00m,\n\u001b[1;32m   (...)\u001b[0m\n\u001b[0;32m    738\u001b[0m     \u001b[38;5;241m*\u001b[39m\u001b[38;5;241m*\u001b[39mkwargs\n\u001b[0;32m    739\u001b[0m ):\n\u001b[0;32m    741\u001b[0m     variables \u001b[38;5;241m=\u001b[39m _ScatterPlotter\u001b[38;5;241m.\u001b[39mget_semantics(\u001b[38;5;28mlocals\u001b[39m())\n\u001b[1;32m--> 742\u001b[0m     p \u001b[38;5;241m=\u001b[39m \u001b[43m_ScatterPlotter\u001b[49m\u001b[43m(\u001b[49m\u001b[43mdata\u001b[49m\u001b[38;5;241;43m=\u001b[39;49m\u001b[43mdata\u001b[49m\u001b[43m,\u001b[49m\u001b[43m \u001b[49m\u001b[43mvariables\u001b[49m\u001b[38;5;241;43m=\u001b[39;49m\u001b[43mvariables\u001b[49m\u001b[43m,\u001b[49m\u001b[43m \u001b[49m\u001b[43mlegend\u001b[49m\u001b[38;5;241;43m=\u001b[39;49m\u001b[43mlegend\u001b[49m\u001b[43m)\u001b[49m\n\u001b[0;32m    744\u001b[0m     p\u001b[38;5;241m.\u001b[39mmap_hue(palette\u001b[38;5;241m=\u001b[39mpalette, order\u001b[38;5;241m=\u001b[39mhue_order, norm\u001b[38;5;241m=\u001b[39mhue_norm)\n\u001b[0;32m    745\u001b[0m     p\u001b[38;5;241m.\u001b[39mmap_size(sizes\u001b[38;5;241m=\u001b[39msizes, order\u001b[38;5;241m=\u001b[39msize_order, norm\u001b[38;5;241m=\u001b[39msize_norm)\n",
      "File \u001b[1;32m~\\anaconda3\\envs\\amftrack\\lib\\site-packages\\seaborn\\relational.py:538\u001b[0m, in \u001b[0;36m_ScatterPlotter.__init__\u001b[1;34m(self, data, variables, legend)\u001b[0m\n\u001b[0;32m    529\u001b[0m \u001b[38;5;28;01mdef\u001b[39;00m \u001b[38;5;21m__init__\u001b[39m(\u001b[38;5;28mself\u001b[39m, \u001b[38;5;241m*\u001b[39m, data\u001b[38;5;241m=\u001b[39m\u001b[38;5;28;01mNone\u001b[39;00m, variables\u001b[38;5;241m=\u001b[39m{}, legend\u001b[38;5;241m=\u001b[39m\u001b[38;5;28;01mNone\u001b[39;00m):\n\u001b[0;32m    530\u001b[0m \n\u001b[0;32m    531\u001b[0m     \u001b[38;5;66;03m# TODO this is messy, we want the mapping to be agnostic about\u001b[39;00m\n\u001b[0;32m    532\u001b[0m     \u001b[38;5;66;03m# the kind of plot to draw, but for the time being we need to set\u001b[39;00m\n\u001b[0;32m    533\u001b[0m     \u001b[38;5;66;03m# this information so the SizeMapping can use it\u001b[39;00m\n\u001b[0;32m    534\u001b[0m     \u001b[38;5;28mself\u001b[39m\u001b[38;5;241m.\u001b[39m_default_size_range \u001b[38;5;241m=\u001b[39m (\n\u001b[0;32m    535\u001b[0m         np\u001b[38;5;241m.\u001b[39mr_[\u001b[38;5;241m.5\u001b[39m, \u001b[38;5;241m2\u001b[39m] \u001b[38;5;241m*\u001b[39m np\u001b[38;5;241m.\u001b[39msquare(mpl\u001b[38;5;241m.\u001b[39mrcParams[\u001b[38;5;124m\"\u001b[39m\u001b[38;5;124mlines.markersize\u001b[39m\u001b[38;5;124m\"\u001b[39m])\n\u001b[0;32m    536\u001b[0m     )\n\u001b[1;32m--> 538\u001b[0m     \u001b[38;5;28;43msuper\u001b[39;49m\u001b[43m(\u001b[49m\u001b[43m)\u001b[49m\u001b[38;5;241;43m.\u001b[39;49m\u001b[38;5;21;43m__init__\u001b[39;49m\u001b[43m(\u001b[49m\u001b[43mdata\u001b[49m\u001b[38;5;241;43m=\u001b[39;49m\u001b[43mdata\u001b[49m\u001b[43m,\u001b[49m\u001b[43m \u001b[49m\u001b[43mvariables\u001b[49m\u001b[38;5;241;43m=\u001b[39;49m\u001b[43mvariables\u001b[49m\u001b[43m)\u001b[49m\n\u001b[0;32m    540\u001b[0m     \u001b[38;5;28mself\u001b[39m\u001b[38;5;241m.\u001b[39mlegend \u001b[38;5;241m=\u001b[39m legend\n",
      "File \u001b[1;32m~\\anaconda3\\envs\\amftrack\\lib\\site-packages\\seaborn\\_oldcore.py:640\u001b[0m, in \u001b[0;36mVectorPlotter.__init__\u001b[1;34m(self, data, variables)\u001b[0m\n\u001b[0;32m    635\u001b[0m \u001b[38;5;66;03m# var_ordered is relevant only for categorical axis variables, and may\u001b[39;00m\n\u001b[0;32m    636\u001b[0m \u001b[38;5;66;03m# be better handled by an internal axis information object that tracks\u001b[39;00m\n\u001b[0;32m    637\u001b[0m \u001b[38;5;66;03m# such information and is set up by the scale_* methods. The analogous\u001b[39;00m\n\u001b[0;32m    638\u001b[0m \u001b[38;5;66;03m# information for numeric axes would be information about log scales.\u001b[39;00m\n\u001b[0;32m    639\u001b[0m \u001b[38;5;28mself\u001b[39m\u001b[38;5;241m.\u001b[39m_var_ordered \u001b[38;5;241m=\u001b[39m {\u001b[38;5;124m\"\u001b[39m\u001b[38;5;124mx\u001b[39m\u001b[38;5;124m\"\u001b[39m: \u001b[38;5;28;01mFalse\u001b[39;00m, \u001b[38;5;124m\"\u001b[39m\u001b[38;5;124my\u001b[39m\u001b[38;5;124m\"\u001b[39m: \u001b[38;5;28;01mFalse\u001b[39;00m}  \u001b[38;5;66;03m# alt., used DefaultDict\u001b[39;00m\n\u001b[1;32m--> 640\u001b[0m \u001b[38;5;28;43mself\u001b[39;49m\u001b[38;5;241;43m.\u001b[39;49m\u001b[43massign_variables\u001b[49m\u001b[43m(\u001b[49m\u001b[43mdata\u001b[49m\u001b[43m,\u001b[49m\u001b[43m \u001b[49m\u001b[43mvariables\u001b[49m\u001b[43m)\u001b[49m\n\u001b[0;32m    642\u001b[0m \u001b[38;5;28;01mfor\u001b[39;00m var, \u001b[38;5;28mcls\u001b[39m \u001b[38;5;129;01min\u001b[39;00m \u001b[38;5;28mself\u001b[39m\u001b[38;5;241m.\u001b[39m_semantic_mappings\u001b[38;5;241m.\u001b[39mitems():\n\u001b[0;32m    643\u001b[0m \n\u001b[0;32m    644\u001b[0m     \u001b[38;5;66;03m# Create the mapping function\u001b[39;00m\n\u001b[0;32m    645\u001b[0m     map_func \u001b[38;5;241m=\u001b[39m partial(\u001b[38;5;28mcls\u001b[39m\u001b[38;5;241m.\u001b[39mmap, plotter\u001b[38;5;241m=\u001b[39m\u001b[38;5;28mself\u001b[39m)\n",
      "File \u001b[1;32m~\\anaconda3\\envs\\amftrack\\lib\\site-packages\\seaborn\\_oldcore.py:701\u001b[0m, in \u001b[0;36mVectorPlotter.assign_variables\u001b[1;34m(self, data, variables)\u001b[0m\n\u001b[0;32m    699\u001b[0m \u001b[38;5;28;01melse\u001b[39;00m:\n\u001b[0;32m    700\u001b[0m     \u001b[38;5;28mself\u001b[39m\u001b[38;5;241m.\u001b[39minput_format \u001b[38;5;241m=\u001b[39m \u001b[38;5;124m\"\u001b[39m\u001b[38;5;124mlong\u001b[39m\u001b[38;5;124m\"\u001b[39m\n\u001b[1;32m--> 701\u001b[0m     plot_data, variables \u001b[38;5;241m=\u001b[39m \u001b[38;5;28mself\u001b[39m\u001b[38;5;241m.\u001b[39m_assign_variables_longform(\n\u001b[0;32m    702\u001b[0m         data, \u001b[38;5;241m*\u001b[39m\u001b[38;5;241m*\u001b[39mvariables,\n\u001b[0;32m    703\u001b[0m     )\n\u001b[0;32m    705\u001b[0m \u001b[38;5;28mself\u001b[39m\u001b[38;5;241m.\u001b[39mplot_data \u001b[38;5;241m=\u001b[39m plot_data\n\u001b[0;32m    706\u001b[0m \u001b[38;5;28mself\u001b[39m\u001b[38;5;241m.\u001b[39mvariables \u001b[38;5;241m=\u001b[39m variables\n",
      "File \u001b[1;32m~\\anaconda3\\envs\\amftrack\\lib\\site-packages\\seaborn\\_oldcore.py:938\u001b[0m, in \u001b[0;36mVectorPlotter._assign_variables_longform\u001b[1;34m(self, data, **kwargs)\u001b[0m\n\u001b[0;32m    933\u001b[0m \u001b[38;5;28;01melif\u001b[39;00m \u001b[38;5;28misinstance\u001b[39m(val, (\u001b[38;5;28mstr\u001b[39m, \u001b[38;5;28mbytes\u001b[39m)):\n\u001b[0;32m    934\u001b[0m \n\u001b[0;32m    935\u001b[0m     \u001b[38;5;66;03m# This looks like a column name but we don't know what it means!\u001b[39;00m\n\u001b[0;32m    937\u001b[0m     err \u001b[38;5;241m=\u001b[39m \u001b[38;5;124mf\u001b[39m\u001b[38;5;124m\"\u001b[39m\u001b[38;5;124mCould not interpret value `\u001b[39m\u001b[38;5;132;01m{\u001b[39;00mval\u001b[38;5;132;01m}\u001b[39;00m\u001b[38;5;124m` for parameter `\u001b[39m\u001b[38;5;132;01m{\u001b[39;00mkey\u001b[38;5;132;01m}\u001b[39;00m\u001b[38;5;124m`\u001b[39m\u001b[38;5;124m\"\u001b[39m\n\u001b[1;32m--> 938\u001b[0m     \u001b[38;5;28;01mraise\u001b[39;00m \u001b[38;5;167;01mValueError\u001b[39;00m(err)\n\u001b[0;32m    940\u001b[0m \u001b[38;5;28;01melse\u001b[39;00m:\n\u001b[0;32m    941\u001b[0m \n\u001b[0;32m    942\u001b[0m     \u001b[38;5;66;03m# Otherwise, assume the value is itself data\u001b[39;00m\n\u001b[0;32m    943\u001b[0m \n\u001b[0;32m    944\u001b[0m     \u001b[38;5;66;03m# Raise when data object is present and a vector can't matched\u001b[39;00m\n\u001b[0;32m    945\u001b[0m     \u001b[38;5;28;01mif\u001b[39;00m \u001b[38;5;28misinstance\u001b[39m(data, pd\u001b[38;5;241m.\u001b[39mDataFrame) \u001b[38;5;129;01mand\u001b[39;00m \u001b[38;5;129;01mnot\u001b[39;00m \u001b[38;5;28misinstance\u001b[39m(val, pd\u001b[38;5;241m.\u001b[39mSeries):\n",
      "\u001b[1;31mValueError\u001b[0m: Could not interpret value `instant_C_dens` for parameter `y`"
     ]
    },
    {
     "data": {
      "application/vnd.jupyter.widget-view+json": {
       "model_id": "ba15a931484f4480ac64bcd57dfd3756",
       "version_major": 2,
       "version_minor": 0
      },
      "image/png": "[encoded data removed]",
      "text/html": [
       "\n",
       "            <div style=\"display: inline-block;\">\n",
       "                <div class=\"jupyter-widgets widget-label\" style=\"text-align: center;\">\n",
       "                    Figure\n",
       "                </div>\n",
       "                <img src='data:image/png;base64,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' width=640.0/>\n",
       "            </div>\n",
       "        "
      ],
      "text/plain": [
       "Canvas(toolbar=Toolbar(toolitems=[('Home', 'Reset original view', 'home', 'home'), ('Back', 'Back to previous …"
      ]
     },
     "metadata": {},
     "output_type": "display_data"
    }
   ],
   "source": [
    "# select = final_data[final_data['unique_id'] == 493_20240610]\n",
    "# select = select[select['time_since_begin_h_shifted'] <= 200]\n",
    "\n",
    "# fig,ax = plt.subplots()\n",
    "# sns.scatterplot(data=select, x='time_since_begin_h_shifted', y='instant_C_dens', ax=ax, lw=1,s = 10)\n",
    "# # ax.vlines(select['time_since_begin_h_shifted_max_c_rate'].iloc[0],0,1e6,color= \"red\")"
   ]
  },
  {
   "cell_type": "code",
   "execution_count": null,
   "id": "8160582d-8cdc-4aa9-a87d-c863dfd21969",
   "metadata": {},
   "outputs": [],
   "source": [
    "calculate_derivative(final_data,f'tot_surface_area_study',f'derivative_SA', window=5)\n",
    "calculate_derivative(final_data,f'totC_tot',f'derivative_C', window=5)\n",
    "\n",
    "calculate_derivative(final_data,f'area_sep_comp',f'derivative_area', window=5)\n",
    "final_data['instant_SA_dens'] = final_data['derivative_SA']/final_data['derivative_area']\n",
    "calculate_derivative(final_data,f'tot_biovolume_study',f'derivative_BV', window=5)\n",
    "final_data['instant_BV_dens'] = final_data['derivative_BV']/final_data['derivative_area']\n",
    "calculate_derivative(final_data,f'tot_length_study',f'derivative_L', window=5)\n",
    "final_data['instant_L_dens'] = final_data['derivative_L']/final_data['derivative_area']\n",
    "final_data['instant_C_dens'] = final_data['derivative_C']/final_data['derivative_area']\n",
    "\n",
    "final_data['instant_radius'] = final_data['instant_BV_dens']/final_data['instant_SA_dens']*2\n",
    "final_data['strain'] = final_data['strain'].replace(\"A5V\",\"A5\")\n"
   ]
  },
  {
   "cell_type": "code",
   "execution_count": 36,
   "id": "0058da94-df7a-4557-89f2-b1f9f020a348",
   "metadata": {},
   "outputs": [
    {
     "data": {
      "text/plain": [
       "array([\"'C2'\", \"'A5'\", \"'Agg'\", \"'Clarum'\", \"'C3'\", \"'A5V'\"], dtype=object)"
      ]
     },
     "execution_count": 36,
     "metadata": {},
     "output_type": "execute_result"
    }
   ],
   "source": [
    "df['strain'].unique()"
   ]
  },
  {
   "cell_type": "code",
   "execution_count": 111,
   "id": "2065b9e5-9eb8-41e0-b55e-a7e4c09bc263",
   "metadata": {},
   "outputs": [
    {
     "data": {
      "text/plain": [
       "array(['219_20230307', '229_20230330', '249_20230324', '241_20230403',\n",
       "       '493_20240610', '501_20240604'], dtype=object)"
      ]
     },
     "execution_count": 111,
     "metadata": {},
     "output_type": "execute_result"
    }
   ],
   "source": [
    "df[df['strain']==\"'C3'\"][\"unique_id\"].unique()"
   ]
  },
  {
   "cell_type": "code",
   "execution_count": null,
   "id": "5e94a10f-410f-417d-a679-10ffa555dc5c",
   "metadata": {},
   "outputs": [],
   "source": [
    "df['FungalSide'] = df['FungalSide'].fillna(\"100P/100N/100C\")\n",
    "df['FungalSide'] = df['FungalSide'].replace(\"100P100N100C\",\"100P/100N/100C\")\n",
    "df['FungalSide'] = df['FungalSide'].replace(\"100P100N100C\",\"100P/100N/100C\")\n",
    "\n",
    "df['treatment'] = df['treatment'].replace(\"1P100N100C\",\"1P/100N/100C\")\n",
    "df['fungus'] = df['fungus'].replace(\"A5sp3\",\"A5\")\n",
    "df['fungus'] = df['fungus'].replace(\"A5V\",\"A5\")\n",
    "\n",
    "df['category_combination'] = df[['treatment', 'FungalSide',\"real_root\"]].apply(lambda x: '_'.join(x.astype(str)), axis=1)\n",
    "df['size_point'] = 20\n",
    "marker_symbols = {\n",
    "    \"C2\": 'circle',\n",
    "    \"A5\": 'square',\n",
    "    \"Agg\": 'diamond',\n",
    "    \"Clarum\": 'cross',\n",
    "    \"C3\": 'star',\n",
    "    \n",
    "    \n",
    "    # Add more mappings as needed\n",
    "}\n",
    "\n",
    "n_colors = len(df['fungus'].unique())\n",
    "\n",
    "palette = sns.color_palette(\"rainbow\", n_colors)\n",
    "strain_to_color = dict(zip(df['fungus'].unique(), palette))\n",
    "strain_to_color = {\"C2\": (0.17058823529411765, 0.4946558433997788, 0.9667184042691874),\n",
    " \"A5\": (0.16666666666666663, 0.8660254037844386, 0.8660254037844387),\n",
    " \"Agg\": (0.503921568627451, 0.9999810273487268, 0.7049255469061472),\n",
    " \"Clarum\": (0.8333333333333333, 0.8660254037844387, 0.5000000000000001),\n",
    " \"C3\": (1.0, 0.4946558433997788, 0.2558427775944356)}\n",
    "\n",
    "df['full_category_combination'] = df[['fungus','treatment', 'FungalSide',\"real_root\"]].apply(lambda x: '_'.join(x.astype(str)), axis=1)\n",
    "\n",
    "# Map the strain to the marker symbol in the DataFrame\n",
    "df['marker'] = df['fungus'].map(marker_symbols)\n"
   ]
  },
  {
   "cell_type": "code",
   "execution_count": 146,
   "id": "1ddb0300-037c-4aaa-ad51-247240a7bac9",
   "metadata": {},
   "outputs": [
    {
     "data": {
      "text/plain": [
       "array([2.19202303e+10, 2.29202303e+10, 2.41202304e+10, 2.49202303e+10,\n",
       "       4.93202406e+10, 5.01202406e+10])"
      ]
     },
     "execution_count": 146,
     "metadata": {},
     "output_type": "execute_result"
    }
   ],
   "source": [
    "select[select['strain']==\"C3\"][\"unique_id\"].unique()"
   ]
  },
  {
   "cell_type": "code",
   "execution_count": null,
   "id": "0783c799-b4a2-4af7-92cf-f8bc3ef314f9",
   "metadata": {},
   "outputs": [],
   "source": [
    "plt.style.use('presentation.mplstyle')\n",
    "\n",
    "bin_size = 30\n",
    "cm = 1/2.54  # centimeters in inches\n",
    "select = final_data\n",
    "select = final_data.loc[final_data['hull_speed']>0].copy()\n",
    "select['hull_speed_binned'] = select['hull_speed'].astype(int)//bin_size*bin_size\n",
    "select= select[select['instant_C_dens']>0]\n",
    "select= select[select['instant_C_dens']<=0.025]\n",
    "select= select[select['real_root']==\"Carrot Toby\"]\n",
    "select= select[select['fungalC']==\"100P/100N/100C\"]\n",
    "select= select[select['strain']!=\"A5V \"]\n",
    "\n",
    "# select= select[select['strain']==\"C2\"]\n",
    "select = select[select['time_since_begin_h_shifted'] < select['time_since_begin_h_shifted_max_c_rate']+20]\n",
    "# select = select[select['time_hour_binned'] <= 50]\n",
    "# select = select[select['time_hour_binned'] >= 0]\n",
    "\n",
    "summary = select.groupby([\"strain\", 'time_hour_binned']).agg({\n",
    "    'hull_speed': 'median',\n",
    "    'instant_SA_dens': 'median',\n",
    "    'radius': 'median',\n",
    "    'instant_BV_dens': 'count',\n",
    "    'instant_L_dens': 'median',\n",
    "    'instant_C_dens': 'median',\n",
    "    \n",
    "}).rename(columns={'instant_BV_dens': 'count'})\n",
    "summary = summary[summary['count']>7]\n",
    "summary = summary.reset_index()\n",
    "fig,ax = plt.subplots(figsize = (3.8*cm,5.6*cm))\n",
    "\n",
    "sns.scatterplot(summary, x='hull_speed', y='instant_C_dens',hue=\"strain\",s=50,palette=strain_to_color,alpha = 0.6)\n",
    "sns.regplot(data=summary, x='hull_speed', y='instant_C_dens',scatter = False,color = \"black\")\n",
    "summary = select.groupby(\"strain\")[['hull_speed','hull_speed_binned','instant_SA_dens','radius','instant_BV_dens','instant_L_dens','instant_C_dens']].median()\n",
    "# sns.scatterplot(summary, x='hull_speed', y='instant_C_dens',hue=\"strain\",s=200,palette=strain_to_color)\n",
    "ax.legend('')\n",
    "summary['size_point'] = 20\n",
    "summary['fungus'] = summary.index\n",
    "ax.set_xlabel('$v_{wave}$ (um/h)')\n",
    "ax.set_ylabel('$d_{Carbon}$ ($\\mu g/mm^2$)')\n",
    "plt.legend().remove()\n",
    "# plt.tight_layout()\n",
    "\n",
    "plt.savefig(os.path.join(path_figure,'Figure2A.pdf'), transparent=True, bbox_inches='tight')\n"
   ]
  },
  {
   "cell_type": "code",
   "execution_count": 12,
   "id": "39e4d21f-fbf2-46fd-a671-3aaa6452e209",
   "metadata": {
    "tags": []
   },
   "outputs": [
    {
     "data": {
      "text/html": [
       "<div>\n",
       "<style scoped>\n",
       "    .dataframe tbody tr th:only-of-type {\n",
       "        vertical-align: middle;\n",
       "    }\n",
       "\n",
       "    .dataframe tbody tr th {\n",
       "        vertical-align: top;\n",
       "    }\n",
       "\n",
       "    .dataframe thead th {\n",
       "        text-align: right;\n",
       "    }\n",
       "</style>\n",
       "<table border=\"1\" class=\"dataframe\">\n",
       "  <thead>\n",
       "    <tr style=\"text-align: right;\">\n",
       "      <th></th>\n",
       "      <th></th>\n",
       "      <th>hull_speed</th>\n",
       "      <th>instant_SA_dens</th>\n",
       "      <th>radius</th>\n",
       "      <th>count</th>\n",
       "      <th>instant_L_dens</th>\n",
       "      <th>instant_C_dens</th>\n",
       "    </tr>\n",
       "    <tr>\n",
       "      <th>strain</th>\n",
       "      <th>time_hour_binned</th>\n",
       "      <th></th>\n",
       "      <th></th>\n",
       "      <th></th>\n",
       "      <th></th>\n",
       "      <th></th>\n",
       "      <th></th>\n",
       "    </tr>\n",
       "  </thead>\n",
       "  <tbody>\n",
       "    <tr>\n",
       "      <th rowspan=\"5\" valign=\"top\">A5</th>\n",
       "      <th>-30</th>\n",
       "      <td>234.657491</td>\n",
       "      <td>27013.542449</td>\n",
       "      <td>2.167435</td>\n",
       "      <td>9</td>\n",
       "      <td>1007.304243</td>\n",
       "      <td>0.004617</td>\n",
       "    </tr>\n",
       "    <tr>\n",
       "      <th>-20</th>\n",
       "      <td>232.294729</td>\n",
       "      <td>15034.920794</td>\n",
       "      <td>2.147137</td>\n",
       "      <td>11</td>\n",
       "      <td>841.617419</td>\n",
       "      <td>0.002588</td>\n",
       "    </tr>\n",
       "    <tr>\n",
       "      <th>-10</th>\n",
       "      <td>241.266815</td>\n",
       "      <td>15691.049012</td>\n",
       "      <td>2.294707</td>\n",
       "      <td>20</td>\n",
       "      <td>774.773176</td>\n",
       "      <td>0.003249</td>\n",
       "    </tr>\n",
       "    <tr>\n",
       "      <th>0</th>\n",
       "      <td>262.994865</td>\n",
       "      <td>19261.292216</td>\n",
       "      <td>2.272681</td>\n",
       "      <td>33</td>\n",
       "      <td>965.518149</td>\n",
       "      <td>0.004527</td>\n",
       "    </tr>\n",
       "    <tr>\n",
       "      <th>10</th>\n",
       "      <td>256.882451</td>\n",
       "      <td>15270.482370</td>\n",
       "      <td>2.221096</td>\n",
       "      <td>38</td>\n",
       "      <td>882.064258</td>\n",
       "      <td>0.003611</td>\n",
       "    </tr>\n",
       "    <tr>\n",
       "      <th>...</th>\n",
       "      <th>...</th>\n",
       "      <td>...</td>\n",
       "      <td>...</td>\n",
       "      <td>...</td>\n",
       "      <td>...</td>\n",
       "      <td>...</td>\n",
       "      <td>...</td>\n",
       "    </tr>\n",
       "    <tr>\n",
       "      <th rowspan=\"5\" valign=\"top\">Clarum</th>\n",
       "      <th>60</th>\n",
       "      <td>248.520743</td>\n",
       "      <td>18720.849159</td>\n",
       "      <td>2.077696</td>\n",
       "      <td>14</td>\n",
       "      <td>1119.434217</td>\n",
       "      <td>0.004480</td>\n",
       "    </tr>\n",
       "    <tr>\n",
       "      <th>70</th>\n",
       "      <td>243.483729</td>\n",
       "      <td>18980.321851</td>\n",
       "      <td>2.063873</td>\n",
       "      <td>20</td>\n",
       "      <td>1186.175253</td>\n",
       "      <td>0.004243</td>\n",
       "    </tr>\n",
       "    <tr>\n",
       "      <th>80</th>\n",
       "      <td>226.119706</td>\n",
       "      <td>19850.593537</td>\n",
       "      <td>2.058350</td>\n",
       "      <td>19</td>\n",
       "      <td>1105.256239</td>\n",
       "      <td>0.005475</td>\n",
       "    </tr>\n",
       "    <tr>\n",
       "      <th>90</th>\n",
       "      <td>249.859334</td>\n",
       "      <td>21406.775516</td>\n",
       "      <td>2.038468</td>\n",
       "      <td>18</td>\n",
       "      <td>1388.789974</td>\n",
       "      <td>0.006201</td>\n",
       "    </tr>\n",
       "    <tr>\n",
       "      <th>100</th>\n",
       "      <td>234.515519</td>\n",
       "      <td>19052.025800</td>\n",
       "      <td>2.026076</td>\n",
       "      <td>15</td>\n",
       "      <td>1167.950330</td>\n",
       "      <td>0.004662</td>\n",
       "    </tr>\n",
       "  </tbody>\n",
       "</table>\n",
       "<p>76 rows × 6 columns</p>\n",
       "</div>"
      ],
      "text/plain": [
       "                         hull_speed  instant_SA_dens    radius  count  \\\n",
       "strain time_hour_binned                                                 \n",
       "A5     -30               234.657491     27013.542449  2.167435      9   \n",
       "       -20               232.294729     15034.920794  2.147137     11   \n",
       "       -10               241.266815     15691.049012  2.294707     20   \n",
       "        0                262.994865     19261.292216  2.272681     33   \n",
       "        10               256.882451     15270.482370  2.221096     38   \n",
       "...                             ...              ...       ...    ...   \n",
       "Clarum  60               248.520743     18720.849159  2.077696     14   \n",
       "        70               243.483729     18980.321851  2.063873     20   \n",
       "        80               226.119706     19850.593537  2.058350     19   \n",
       "        90               249.859334     21406.775516  2.038468     18   \n",
       "        100              234.515519     19052.025800  2.026076     15   \n",
       "\n",
       "                         instant_L_dens  instant_C_dens  \n",
       "strain time_hour_binned                                  \n",
       "A5     -30                  1007.304243        0.004617  \n",
       "       -20                   841.617419        0.002588  \n",
       "       -10                   774.773176        0.003249  \n",
       "        0                    965.518149        0.004527  \n",
       "        10                   882.064258        0.003611  \n",
       "...                                 ...             ...  \n",
       "Clarum  60                  1119.434217        0.004480  \n",
       "        70                  1186.175253        0.004243  \n",
       "        80                  1105.256239        0.005475  \n",
       "        90                  1388.789974        0.006201  \n",
       "        100                 1167.950330        0.004662  \n",
       "\n",
       "[76 rows x 6 columns]"
      ]
     },
     "execution_count": 12,
     "metadata": {},
     "output_type": "execute_result"
    }
   ],
   "source": [
    "summary = select.groupby([\"strain\", 'time_hour_binned']).agg({\n",
    "    'hull_speed': 'median',\n",
    "    'instant_SA_dens': 'median',\n",
    "    'radius': 'median',\n",
    "    'instant_BV_dens': 'count',\n",
    "    'instant_L_dens': 'median',\n",
    "    'instant_C_dens': 'median',\n",
    "    \n",
    "}).rename(columns={'instant_BV_dens': 'count'})\n",
    "summary = summary[summary['count']>7]\n",
    "summary"
   ]
  },
  {
   "cell_type": "code",
   "execution_count": 13,
   "id": "ba2fa928-2133-491e-a422-56a8062c020b",
   "metadata": {},
   "outputs": [],
   "source": [
    "select = final_data[final_data['real_root']==\"Carrot Toby\"]\n",
    "select = select[select['time_since_begin_h_shifted'] < select['time_since_begin_h_shifted_max_c_rate']+20]\n",
    "select = select[select['C_rate'] >= 0]\n",
    "max_c_rate_time = select.loc[select.groupby('unique_id')['time_since_begin_h_shifted'].idxmax(), ['folder','unique_id','time_since_begin_h']]\n",
    "max_c_rate_time.to_csv('list_last_folder.csv')"
   ]
  },
  {
   "cell_type": "code",
   "execution_count": 18,
   "id": "8ad1ca99-10f1-47eb-8d36-648c96c7164d",
   "metadata": {},
   "outputs": [
    {
     "name": "stdout",
     "output_type": "stream",
     "text": [
      "2024-04-02 22:10:45,390-[WARNING]- fontTools.subset:2983 -> meta NOT subset; don't know how to subset; dropped\n"
     ]
    },
    {
     "data": {
      "application/vnd.jupyter.widget-view+json": {
       "model_id": "141cb622bde044eba7f551c54c302b0a",
       "version_major": 2,
       "version_minor": 0
      },
      "image/png": "[encoded data removed]",
      "text/html": [
       "\n",
       "            <div style=\"display: inline-block;\">\n",
       "                <div class=\"jupyter-widgets widget-label\" style=\"text-align: center;\">\n",
       "                    Figure\n",
       "                </div>\n",
       "                <img src='data:image/png;base64,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' width=149.6062992125984/>\n",
       "            </div>\n",
       "        "
      ],
      "text/plain": [
       "Canvas(toolbar=Toolbar(toolitems=[('Home', 'Reset original view', 'home', 'home'), ('Back', 'Back to previous …"
      ]
     },
     "metadata": {},
     "output_type": "display_data"
    }
   ],
   "source": [
    "import os\n",
    "import seaborn as sns\n",
    "import matplotlib.pyplot as plt\n",
    "\n",
    "# Assuming final_data is your DataFrame and it contains a 'unique_id' column\n",
    "# Group by 'time_hour_binned' and filter out groups with less than 3 unique IDs\n",
    "tmax = 150\n",
    "select = final_data[final_data['real_root']==\"Carrot Toby\"]\n",
    "select= select[select['fungalC']==\"100P/100N/100C\"]\n",
    "\n",
    "select = select[select['time_since_begin_h_shifted'] < select['time_since_begin_h_shifted_max_c_rate']+20]\n",
    "select = select[select['time_hour_binned'] <= 50]\n",
    "select = select[select['C_rate'] >= 0]\n",
    "select= select[select['strain']!=\"A5V \"]\n",
    "\n",
    "select = select.copy()\n",
    "select['time_reshift'] = select['time_hour_binned']+50\n",
    "\n",
    "\n",
    "\n",
    "grouped = select.groupby('time_hour_binned')\n",
    "filtered_groups = grouped.filter(lambda x: x['unique_id'].nunique() >= 7)\n",
    "\n",
    "# Now, use this filtered data for your plots\n",
    "fig,ax = plt.subplots(figsize = (3.8*cm,5.6*cm))\n",
    "sns.lineplot(data=filtered_groups, x='time_reshift', y='C_rate', hue='strain', ax=ax, palette=strain_to_color, lw=1)\n",
    "\n",
    "# Mean line plot\n",
    "sns.lineplot(data=filtered_groups, x='time_reshift', y='C_rate', ax=ax, color='black', estimator='mean', lw=3, ls=\"-\")\n",
    "\n",
    "ax.set_xlabel('t-t* (hour)')\n",
    "ax.set_ylabel('$\\Phi_C$ ($\\mu g/h$)')\n",
    "# ax.set_ylim(0)\n",
    "plt.legend().remove()\n",
    "# plt.tight_layout()\n",
    "# Save the figure\n",
    "plt.savefig(os.path.join(path_figure, 'Figure2B.pdf'), transparent=True, bbox_inches='tight')\n"
   ]
  },
  {
   "cell_type": "code",
   "execution_count": null,
   "id": "a3cd7dd1-a857-4ad6-b34f-da680cff2aa7",
   "metadata": {},
   "outputs": [],
   "source": []
  }
 ],
 "metadata": {
  "kernelspec": {
   "display_name": "Python 3 (ipykernel)",
   "language": "python",
   "name": "python3"
  },
  "language_info": {
   "codemirror_mode": {
    "name": "ipython",
    "version": 3
   },
   "file_extension": ".py",
   "mimetype": "text/x-python",
   "name": "python",
   "nbconvert_exporter": "python",
   "pygments_lexer": "ipython3",
   "version": "3.10.6"
  }
 },
 "nbformat": 4,
 "nbformat_minor": 5
}
