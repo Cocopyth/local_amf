{
 "cells": [
  {
   "cell_type": "code",
   "execution_count": 1,
   "id": "88220c9b-d582-42c5-ba3d-4a51f32874e2",
   "metadata": {
    "tags": []
   },
   "outputs": [
    {
     "name": "stderr",
     "output_type": "stream",
     "text": [
      "c:\\users\\coren\\documents\\phd\\code\\amftrack\\amftrack\\util\\dbx.py:3: TqdmExperimentalWarning: Using `tqdm.autonotebook.tqdm` in notebook mode. Use `tqdm.tqdm` instead to force console mode (e.g. in jupyter console)\n",
      "  from tqdm.autonotebook import tqdm\n"
     ]
    }
   ],
   "source": [
    "# import os\n",
    "import matplotlib.pyplot as plt\n",
    "import os\n",
    "import pandas as pd\n",
    "from amftrack.util.sys import get_analysis_folders,get_time_plate_info_from_analysis,get_time_hypha_info_from_analysis,get_global_hypha_info_from_analysis, get_time_plate_info_long_from_analysis\n",
    "import numpy as np\n",
    "import imageio\n",
    "import os\n",
    "import cv2\n",
    "from scipy.interpolate import interp1d\n",
    "from scipy.optimize import curve_fit\n",
    "from amftrack.pipeline.final_analysis.density_wave import get_wave_fit, S, dS, wave, dwave\n",
    "import matplotlib.patches as mpatches\n",
    "from random import choice\n",
    "import matplotlib as mpl\n",
    "from amftrack.pipeline.final_analysis.density_wave import plot_single_plate,plot_single_plate_biovolume\n",
    "from amftrack.pipeline.final_analysis.hypha_speed_analysis import *\n",
    "from amftrack.util.plot import gridplot, make_stat\n",
    "%store -r path_figure\n",
    "%matplotlib widget\n",
    "%load_ext autoreload\n",
    "%autoreload 2\n",
    "from mpl_toolkits.axes_grid1.inset_locator import inset_axes\n",
    "import scipy\n",
    "import statsmodels.api as sm\n",
    "import hashlib\n",
    "from matplotlib.patches import Ellipse\n",
    "import logging\n",
    "from helper import *\n",
    "from load_dataframes import load_all\n",
    "\n",
    "plt.style.use('presentation.mplstyle')\n",
    "logging.getLogger().setLevel(logging.WARNING)\n",
    "\n",
    "all_analysis_folders = get_analysis_folders()\n",
    "#for P\n",
    "plates = [\n",
    "\"416_20230705\",\n",
    "\"427_20230707\",\n",
    "\"420_20230705\",\n",
    "\"431_20230627\",\n",
    "\"474_20230807\",\n",
    "\"460_20230807\",\n",
    "\"464_20230807\",\n",
    "\"440_20230723\",\n",
    "\"436_20230717\",\n",
    "\"443_20230720\",\n",
    "\"439_20230804\",\n",
    "\"470_20230709\",\n",
    "'478_20230814', '468_20230809', '447_20230821', '487_20230922',\n",
    "       '492_20230901', '471_20230821', '486_20231009',\n",
    "       '494_20230908', '482_20230908', '495_20231013', '463_20231013',\n",
    "       '491_20231013', '481_20231005', '483_20231005',\n",
    "    '490_20231003',\n",
    "       '485_20230929',\n",
    "]\n",
    "analysis_folders = all_analysis_folders.loc[all_analysis_folders['unique_id'].isin(plates)]\n",
    "path_figure = r\"C:\\Users\\coren\\Documents\\PhD\\paper\\PandC\\Fig3\"\n"
   ]
  },
  {
   "cell_type": "code",
   "execution_count": 2,
   "id": "13a725a3-d66a-45d1-8054-f291759c0ff0",
   "metadata": {},
   "outputs": [
    {
     "data": {
      "text/plain": [
       "0.0036381599999999997"
      ]
     },
     "execution_count": 2,
     "metadata": {},
     "output_type": "execute_result"
    }
   ],
   "source": [
    "Vmax_schnepf = 3.26e-6 #umol/cm**2/s-1\n",
    "Vmax_schnepf *= 31 #ug/cm**2/s-1\n",
    "Vmax_schnepf *= 1e-2 #ug/mm**2/s-1\n",
    "Vmax_schnepf *= 3600 #ug/mm**2/h-1\n",
    "Vmax_schnepf"
   ]
  },
  {
   "cell_type": "code",
   "execution_count": 3,
   "id": "986351b8-85fd-4de3-ae1d-56f6d7f54313",
   "metadata": {},
   "outputs": [],
   "source": [
    "# folders,time_plate_info = get_time_plate_info_from_analysis(analysis_folders,False)\n",
    "folders,time_plate_info = get_time_plate_info_long_from_analysis(analysis_folders,False)\n",
    "time_plate_info['unique_id'] = time_plate_info['unique_id'].replace(47020230709,47020230802)\n",
    "time_plate_info=time_plate_info[time_plate_info['Plate']!=431]\n",
    "# time_plate_info['time_since_begin_hour'] = time_plate_info['time_since_begin_h'].dt.total_seconds() / 3600.0\n",
    "# time_plate_info['time_since_begin_hour'] = time_plate_info['time_since_begin_h']"
   ]
  },
  {
   "cell_type": "code",
   "execution_count": 4,
   "id": "e956c796-be74-4540-9725-2880279808ce",
   "metadata": {
    "tags": []
   },
   "outputs": [
    {
     "name": "stdout",
     "output_type": "stream",
     "text": [
      "Unique IDs with at least one NaN in specified columns: [47420230807]\n"
     ]
    }
   ],
   "source": [
    "import pandas as pd\n",
    "\n",
    "# Assuming df is your DataFrame\n",
    "columns_to_check = [f'SA_region_{i}' for i in range(18)] + [f'length_density_region_{i}' for i in range(18)]\n",
    "\n",
    "# Filter DataFrame rows where any of the specified columns have NaN values\n",
    "df_filtered = time_plate_info[time_plate_info[columns_to_check].isna().any(axis=1)]\n",
    "\n",
    "# Find the unique ids corresponding to those rows\n",
    "unique_ids_with_nans = df_filtered['unique_id'].unique()\n",
    "\n",
    "print(\"Unique IDs with at least one NaN in specified columns:\", unique_ids_with_nans)\n"
   ]
  },
  {
   "cell_type": "code",
   "execution_count": 5,
   "id": "b02afd26-fe26-49d0-8739-f6d04af720ca",
   "metadata": {
    "tags": []
   },
   "outputs": [
    {
     "data": {
      "text/plain": [
       "['431_20230627',\n",
       " '470_20230709',\n",
       " '495_20231013',\n",
       " '463_20231013',\n",
       " '491_20231013']"
      ]
     },
     "execution_count": 5,
     "metadata": {},
     "output_type": "execute_result"
    }
   ],
   "source": [
    "[plate for plate in plates if int(plate) not in time_plate_info['unique_id'].unique()]"
   ]
  },
  {
   "cell_type": "code",
   "execution_count": 6,
   "id": "d1094b26-5985-428b-ba25-d3a0015fc1d2",
   "metadata": {},
   "outputs": [],
   "source": [
    "def calculate_integral(df, column, new_column):\n",
    "    # Calculate the time difference within each group\n",
    "    df['time_since_begin_hour'] = df['time_since_begin_h'].dt.total_seconds() / 3600.0\n",
    "    df['time_diff'] = df.groupby('unique_id')['time_since_begin_hour'].transform(lambda x: x.diff())\n",
    "\n",
    "    # Calculate the average length density within each group\n",
    "    df['avg_length_density'] = df.groupby('unique_id')[column].transform(lambda x: x.rolling(window=2).mean())\n",
    "\n",
    "    # Calculate the \"area\" (using Trapezoidal rule) for each pair of rows within each group\n",
    "    df['area'] = df['time_diff'] * df['avg_length_density']\n",
    "\n",
    "    # Perform the integration (cumulative sum of \"area\") within each group\n",
    "    df[new_column] = df.groupby('unique_id')['area'].transform(lambda x: x.cumsum())\n",
    "\n",
    "    # Drop the helper columns if needed\n",
    "    df.drop(['time_diff', 'avg_length_density', 'area'], axis=1, inplace=True)"
   ]
  },
  {
   "cell_type": "code",
   "execution_count": 7,
   "id": "845230ad-50da-4c6b-ad06-af58362042d6",
   "metadata": {},
   "outputs": [],
   "source": [
    "for i in range(18):\n",
    "    calculate_integral(time_plate_info,f'SA_region_{i}',f'integrated_SA_{i}')\n",
    "for i in range(18):\n",
    "    calculate_integral(time_plate_info,f'length_density_region_{i}',f'integrated_L_{i}')\n"
   ]
  },
  {
   "cell_type": "code",
   "execution_count": 8,
   "id": "3ab7a576-7928-4eeb-85ac-f3f9ec6e4531",
   "metadata": {},
   "outputs": [],
   "source": [
    "coarse_to_basic_mapping = {\n",
    "    1: [1, 2],\n",
    "    2: [3, 8],\n",
    "    3: [4, 5],\n",
    "    4: [6, 7],\n",
    "    5: [9, 10],\n",
    "    6: [11, 12],\n",
    "    7: [13],\n",
    "    8: [14, 15],\n",
    "    9: [16, 17, 18]\n",
    "}\n",
    "\n",
    "# Mapping for \"simple\" to \"basic\"\n",
    "simple_to_basic_mapping = {\n",
    "    0: list(range(1, 11)),\n",
    "    1: list(range(11, 19))\n",
    "}\n",
    "sub_to_basic_mapping = {\n",
    "    0: list(range(1, 19)),\n",
    "}"
   ]
  },
  {
   "cell_type": "code",
   "execution_count": 9,
   "id": "d745bdf5-7036-4817-8169-0e1d613f5d51",
   "metadata": {
    "tags": []
   },
   "outputs": [
    {
     "name": "stdout",
     "output_type": "stream",
     "text": [
      "The autoreload extension is already loaded. To reload it, use:\n",
      "  %reload_ext autoreload\n"
     ]
    }
   ],
   "source": [
    "import pandas as pd\n",
    "import numpy as np\n",
    "import os\n",
    "import pandas as pd\n",
    "import matplotlib.pyplot as plt\n",
    "from helper import *\n",
    "from amftrack.notebooks.P_experiment.helper import get_polygons\n",
    "%load_ext autoreload\n",
    "%autoreload 2\n",
    "plt.style.use('presentation.mplstyle')\n",
    "\n",
    "%matplotlib widget\n",
    "C_max2 = 1.53\n",
    "\n",
    "def fit_function(x, C_max):\n",
    "    return 1+C_max * 1/x**(3/2)\n",
    "# Read the Excel file\n",
    "path = r'C:\\Users\\coren\\Documents\\PhD\\Pexperiment'\n",
    "path_excel = os.path.join(path,'summary.xlsx')\n",
    "df = pd.read_excel(path_excel)\n",
    "df['date_from_unique_id'] = pd.to_datetime(df['unique_id'].str.split('_').str[1], format='%Y%m%d')\n",
    "    \n",
    "# Convert 'day' column to datetime\n",
    "df['day_sample'] = pd.to_datetime(df['day_sample'], format='%Y%m%d')  # Update the format as necessary\n",
    "df['day_start'] = pd.to_datetime(df['start'], format='%Y%m%d')  # Update the format as necessary\n",
    "\n",
    "df['time_elapsed'] = df['day_sample'] - df['day_start']\n",
    "df['time_elapsed_day'] = df['time_elapsed'].dt.days\n",
    "df['time_since_crossing'] = df['day_sample'] - df['date_from_unique_id']\n",
    "df['t2 (day)'] = df['time_since_crossing'].dt.days\n",
    "df['t1 (day)'] = df['time_elapsed_day']-df['t2 (day)']\n",
    "df['treatment'] = df['treatment'].fillna('none')\n",
    "df['wet_weight_measured'] = df['wet weight']\n",
    "\n",
    "df['wet weight'] = df['wet weight']-df['lost weight']\n",
    "df['totP (ug)'] = df['totP (ug)'] * fit_function(df['totP (ug)'], C_max2)\n",
    "df['Sample_name'] = df['Sample_name'].str.replace('bottom','0')\n",
    "df['Sample_name'] = df['Sample_name'].str.replace('up','1')\n",
    "df['Sample_name'] = df['Sample_name'].str.replace('top','1')\n",
    "df['Sample_name'] = df['Sample_name'].str.replace('agar','0')\n",
    "\n",
    "\n",
    "\n",
    "df = df.loc[df['plate']!=487]\n",
    "df = df.loc[df['type'] == 'agar']\n",
    "df['pos'] = df['Sample_name'].str.split('-').str.get(1).astype(int)\n",
    "\n",
    "time_plate_info.sort_values(['unique_id', 'time_since_begin_h'], inplace=True)\n",
    "\n",
    "# Group by unique_id and take the last entry for each group\n",
    "last_values = time_plate_info.groupby('unique_id').last().reset_index()\n",
    "\n",
    "# Create a function to map 'pos' to the corresponding integrated_Ldens_i value\n",
    "def get_integrated_density(row):\n",
    "    unique_id = row['unique_id']\n",
    "    pos = row['pos']\n",
    "    arrangement = row['arrangement']\n",
    "    if arrangement == 'basic':\n",
    "        col_names = [f'integrated_SA_{pos-1}']\n",
    "    if arrangement == 'simple':\n",
    "        col_names = [f'integrated_SA_{basic_pos-1}' for basic_pos in simple_to_basic_mapping[pos]]\n",
    "    if arrangement == 'coarse':\n",
    "        col_names = [f'integrated_SA_{basic_pos-1}' for basic_pos in coarse_to_basic_mapping[pos]] \n",
    "    if arrangement == 'sub':\n",
    "        col_names = [f'integrated_SA_{basic_pos-1}' for basic_pos in sub_to_basic_mapping[pos]] \n",
    "    if not unique_id is np.nan:\n",
    "        last_value_row = last_values[last_values['unique_id'] == int(unique_id)]\n",
    "        return np.sum(last_value_row[col_names].values) if not last_value_row.empty else None\n",
    "    else:\n",
    "        return(None)\n",
    "df['integrated_SA'] = df.apply(get_integrated_density, axis=1)\n",
    "\n",
    "grouped = df.groupby(['plate', 'type', \"time_elapsed_day\", \"t1 (day)\", \"treatment\", 't2 (day)', \"arrangement\",\"day_start\"]).agg({\n",
    "    'totP (ug)': 'sum',\n",
    "    'wet weight': ['sum', 'median'],\n",
    "    \"wet_weight_measured\":\"sum\",\n",
    "    'dry weight': 'sum',\n",
    "    'integrated_SA':\"sum\"\n",
    "}).reset_index()\n",
    "\n",
    "# Rename columns\n",
    "grouped.columns = ['_'.join(col).strip() if col[0] == 'wet weight' else col[0] for col in grouped.columns]\n",
    "grouped = grouped.rename(columns={\n",
    "    'wet weight_sum': 'tot_wet_weight',\n",
    "    'wet weight_median': 'wet_weight_median'\n",
    "})\n",
    "grouped['C_P'] = grouped['totP (ug)'] / grouped['tot_wet_weight']\n",
    "grouped['P_content'] = grouped['totP (ug)'] / grouped['dry weight']/1e6\n",
    "\n",
    "df['C_P'] = df['totP (ug)'] / df['wet weight']\n",
    "df['P_content'] = df['totP (ug)'] / df['dry weight']/1e6\n",
    "# df = df[df['type'] != 'sub']\n",
    "\n",
    "grouped = grouped[grouped['plate']!=487]\n",
    "grouped = grouped[grouped['plate']!=431]\n",
    "\n"
   ]
  },
  {
   "cell_type": "code",
   "execution_count": 10,
   "id": "8bae0197-dcd3-4e9c-9f45-df71a6e38664",
   "metadata": {},
   "outputs": [],
   "source": [
    "df['integrated_SA_C']=df['integrated_SA']/df['wet weight']\n",
    "# grouped = dfgrouped = df.groupby(['plate', 'type',\"time_elapsed_day\",\"t1 (day)\",\"treatment\",'t2 (day)']).agg({'totP (ug)': 'sum', 'wet weight': 'sum','dry weight' : \"sum\",'integrated_SA':\"sum\"}).reset_index()\n",
    "grouped['C_P'] = grouped['totP (ug)'] / grouped['tot_wet_weight']\n",
    "grouped['P_content'] = grouped['totP (ug)'] / grouped['dry weight']/1e6\n",
    "grouped['integrated_SA_C']=grouped['integrated_SA']/grouped['tot_wet_weight']\n",
    "tot_weights = grouped[grouped['type'].isin([\"agartot\", \"rootagartot\"])].set_index(['plate', 'type'])['wet_weight_measured'].to_dict()\n",
    "\n",
    "# Function to determine the 'measured_tot_wet_weight' based on conditions\n",
    "def get_tot_weight(row):\n",
    "    if row['type'] == 'agar' and (row['plate'], 'agartot') in tot_weights:\n",
    "        return tot_weights[(row['plate'], 'agartot')]\n",
    "    elif row['type'] == 'rootagar' and (row['plate'], 'rootagartot') in tot_weights:\n",
    "        return tot_weights[(row['plate'], 'rootagartot')]\n",
    "    else:\n",
    "        return row['wet_weight_measured']\n",
    "\n",
    "# Apply the function to get 'measured_tot_wet_weight' column\n",
    "grouped['measured_tot_wet_weight'] = grouped.apply(get_tot_weight, axis=1)\n",
    "grouped= grouped[grouped['type'] != 'rootagartot']\n",
    "grouped= grouped[grouped['type'] != 'agartot']\n",
    "# Step 1: Identify plates that don't have any rows with type \"agartot\"\n",
    "plates_with_agartot = grouped[grouped['type'] == 'rootagartot']['plate'].unique()\n",
    "valid_plates = grouped[~grouped['plate'].isin(plates_with_agartot)]\n",
    "\n",
    "# Step 2: Compute the average \"wet weight\" for type 'agar' and 'rootagar'\n",
    "average_wet_weight_agar = valid_plates[valid_plates['type'] == 'agar']['measured_tot_wet_weight'].mean()\n",
    "average_wet_weight_rootagar = valid_plates[valid_plates['type'] == 'rootagar']['measured_tot_wet_weight'].mean()\n",
    "\n",
    "# Step 3: Replace rows in the 'average weight' column accordingly\n",
    "grouped['average weight'] = None  # Initialize column with None values\n",
    "grouped.loc[grouped['type'] == 'agar', 'average weight'] = average_wet_weight_agar\n",
    "grouped.loc[grouped['type'] == 'rootagar', 'average weight'] = average_wet_weight_rootagar\n",
    "grouped.loc[grouped['type'] == 'agar', 'fullP'] = grouped.loc[grouped['type'] == 'agar', 'measured_tot_wet_weight'] *grouped.loc[grouped['type'] == 'agar', 'C_P']\n",
    "grouped.loc[grouped['type'] == 'rootagar', 'fullP'] = grouped.loc[grouped['type'] == 'rootagar', 'measured_tot_wet_weight'] *grouped.loc[grouped['type'] == 'rootagar', 'C_P']\n",
    "grouped.loc[grouped['type'] == 'root', 'fullP'] = grouped.loc[grouped['type'] == 'root', 'totP (ug)']\n",
    "totP_theory = 100\n",
    "grouped['scaling_factor'] = totP_theory/grouped.groupby('plate')['fullP'].transform('sum')\n",
    "\n",
    "# Multiply 'fullP' by the scaling factor to get 'fullP_rescaled'\n",
    "grouped['fullP_rescaled'] = grouped['fullP'] * grouped['scaling_factor']"
   ]
  },
  {
   "cell_type": "code",
   "execution_count": 11,
   "id": "614fec00-cd79-41d6-aed1-d193f7b50bb4",
   "metadata": {},
   "outputs": [],
   "source": [
    "grouped_agar = grouped.copy()"
   ]
  },
  {
   "cell_type": "code",
   "execution_count": 12,
   "id": "41d7f68c-9d36-4621-8ca4-7bfe7512822d",
   "metadata": {
    "tags": []
   },
   "outputs": [
    {
     "name": "stdout",
     "output_type": "stream",
     "text": [
      "2024-03-30 19:10:00,783-[WARNING]- fontTools.subset:2983 -> meta NOT subset; don't know how to subset; dropped\n"
     ]
    },
    {
     "data": {
      "application/vnd.jupyter.widget-view+json": {
       "model_id": "2051382482e44e2da26a71fef2d6626a",
       "version_major": 2,
       "version_minor": 0
      },
      "image/png": "[encoded data removed]",
      "text/html": [
       "\n",
       "            <div style=\"display: inline-block;\">\n",
       "                <div class=\"jupyter-widgets widget-label\" style=\"text-align: center;\">\n",
       "                    Figure\n",
       "                </div>\n",
       "                <img src='data:image/png;base64,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' width=236.22047244094486/>\n",
       "            </div>\n",
       "        "
      ],
      "text/plain": [
       "Canvas(toolbar=Toolbar(toolitems=[('Home', 'Reset original view', 'home', 'home'), ('Back', 'Back to previous …"
      ]
     },
     "metadata": {},
     "output_type": "display_data"
    }
   ],
   "source": [
    "cm = 1/2.54  # centimeters in inches\n",
    "\n",
    "fig,ax = plt.subplots(figsize = (6*cm,4*cm))\n",
    "select = grouped_agar[grouped_agar['t2 (day)']<=9]\n",
    "select = select[select['treatment']=='100P']\n",
    "\n",
    "\n",
    "\n",
    "# sns.scatterplot(df,x = 'integrated_SA_C',y = 'C_P',ax = ax,hue =\"treatment\",s = 6)\n",
    "sns.scatterplot(select,x = 'integrated_SA_C',y = 'C_P',ax = ax,s=50)\n",
    "sns.regplot(select,x = 'integrated_SA_C',y = 'C_P',ax = ax,scatter = False)\n",
    "\n",
    "# ax.set_xscale('log')\n",
    "ax.set_ylim(1.8,4.3)\n",
    "plt.ylabel('[P] \\n ($\\mu g/mL$)')\n",
    "plt.xlabel('$\\int_0^{t_f} SA(t)dt$ \\n ($\\mu m^2h/mL$)')\n",
    "plt.savefig(os.path.join(path_figure,'Figure3A.pdf'), transparent=True, bbox_inches='tight')\n"
   ]
  },
  {
   "cell_type": "code",
   "execution_count": 13,
   "id": "b4d35f8c-4293-43cc-bec2-e5c35a6c0828",
   "metadata": {},
   "outputs": [],
   "source": [
    "slope, intercept, r_value, p_value, std_err = stats.linregress(select['integrated_SA_C'], select['C_P'])\n",
    "slope2, intercept, r_value, p_value, std_err = stats.linregress(select['integrated_SA'], select['fullP'])"
   ]
  },
  {
   "cell_type": "code",
   "execution_count": 14,
   "id": "f99ed538-e831-418a-862c-5a261c1a0a46",
   "metadata": {},
   "outputs": [
    {
     "data": {
      "text/plain": [
       "(-3.2554048752748486e-09, -3.3973588349543932e-09)"
      ]
     },
     "execution_count": 14,
     "metadata": {},
     "output_type": "execute_result"
    }
   ],
   "source": [
    "slope2,slope"
   ]
  },
  {
   "cell_type": "code",
   "execution_count": 15,
   "id": "737c36ea-04cf-4ce9-aa7e-58ad4026d37b",
   "metadata": {},
   "outputs": [
    {
     "data": {
      "text/plain": [
       "2.9715786346588478"
      ]
     },
     "execution_count": 15,
     "metadata": {},
     "output_type": "execute_result"
    }
   ],
   "source": [
    "std_err*1e6*24*365"
   ]
  },
  {
   "cell_type": "code",
   "execution_count": 28,
   "id": "ba473395-2ecc-4b77-9916-0c0454b2312d",
   "metadata": {},
   "outputs": [],
   "source": [
    "df = pd.read_excel(path_excel)\n",
    "df['date_from_unique_id'] = pd.to_datetime(df['unique_id'].str.split('_').str[1], format='%Y%m%d')\n",
    "    \n",
    "# Convert 'day' column to datetime\n",
    "df['day_sample'] = pd.to_datetime(df['day_sample'], format='%Y%m%d')  # Update the format as necessary\n",
    "df['day_start'] = pd.to_datetime(df['start'], format='%Y%m%d')  # Update the format as necessary\n",
    "\n",
    "df['time_elapsed'] = df['day_sample'] - df['day_start']\n",
    "df['time_elapsed_day'] = df['time_elapsed'].dt.days\n",
    "df['time_since_crossing'] = df['day_sample'] - df['date_from_unique_id']\n",
    "df['t2 (day)'] = df['time_since_crossing'].dt.days\n",
    "df['t1 (day)'] = df['time_elapsed_day']-df['t2 (day)']\n",
    "df['treatment'] = df['treatment'].fillna('none')\n",
    "df['wet_weight_measured'] = df['wet weight']\n",
    "\n",
    "df['wet weight'] = df['wet weight']-df['lost weight']\n",
    "df['totP (ug)'] = df['totP (ug)'] * fit_function(df['totP (ug)'], C_max2)\n",
    "\n",
    "grouped = df.groupby(['plate', 'type', \"time_elapsed_day\", \"t1 (day)\", \"treatment\", 't2 (day)', \"arrangement\",\"day_start\"]).agg({\n",
    "    'totP (ug)': 'sum',\n",
    "    'wet weight': ['sum', 'median'],\n",
    "    \"wet_weight_measured\":\"sum\",\n",
    "    'dry weight': 'sum'\n",
    "}).reset_index()\n",
    "\n",
    "# Rename columns\n",
    "grouped.columns = ['_'.join(col).strip() if col[0] == 'wet weight' else col[0] for col in grouped.columns]\n",
    "grouped = grouped.rename(columns={\n",
    "    'wet weight_sum': 'tot_wet_weight',\n",
    "    'wet weight_median': 'wet_weight_median'\n",
    "})\n",
    "grouped['C_P'] = grouped['totP (ug)'] / grouped['tot_wet_weight']\n",
    "grouped['P_content'] = grouped['totP (ug)'] / grouped['dry weight']/1e6\n",
    "\n",
    "df['C_P'] = df['totP (ug)'] / df['wet weight']\n",
    "df['P_content'] = df['totP (ug)'] / df['dry weight']/1e6\n",
    "tot_weights = grouped[grouped['type'].isin([\"agartot\", \"rootagartot\"])].set_index(['plate', 'type'])['wet_weight_measured'].to_dict()\n",
    "\n",
    "# Function to determine the 'measured_tot_wet_weight' based on conditions\n",
    "def get_tot_weight(row):\n",
    "    if row['type'] == 'agar' and (row['plate'], 'agartot') in tot_weights:\n",
    "        return tot_weights[(row['plate'], 'agartot')]\n",
    "    elif row['type'] == 'rootagar' and (row['plate'], 'rootagartot') in tot_weights:\n",
    "        return tot_weights[(row['plate'], 'rootagartot')]\n",
    "    else:\n",
    "        return row['wet_weight_measured']\n",
    "\n",
    "# Apply the function to get 'measured_tot_wet_weight' column\n",
    "grouped['measured_tot_wet_weight'] = grouped.apply(get_tot_weight, axis=1)\n",
    "# Step 1: Identify plates that don't have any rows with type \"agartot\"\n",
    "plates_with_agartot = grouped[grouped['type'] == 'rootagartot']['plate'].unique()\n",
    "valid_plates = grouped[~grouped['plate'].isin(plates_with_agartot)]\n",
    "\n",
    "# Step 2: Compute the average \"wet weight\" for type 'agar' and 'rootagar'\n",
    "average_wet_weight_agar = valid_plates[valid_plates['type'] == 'agar']['measured_tot_wet_weight'].mean()\n",
    "average_wet_weight_rootagar = valid_plates[valid_plates['type'] == 'rootagar']['measured_tot_wet_weight'].mean()\n",
    "\n",
    "# Step 3: Replace rows in the 'average weight' column accordingly\n",
    "grouped['average weight'] = None  # Initialize column with None values\n",
    "grouped.loc[grouped['type'] == 'agar', 'average weight'] = average_wet_weight_agar\n",
    "grouped.loc[grouped['type'] == 'rootagar', 'average weight'] = average_wet_weight_rootagar\n",
    "grouped.loc[grouped['type'] == 'agar', 'fullP'] = grouped.loc[grouped['type'] == 'agar', 'measured_tot_wet_weight'] *grouped.loc[grouped['type'] == 'agar', 'C_P']\n",
    "grouped.loc[grouped['type'] == 'rootagar', 'fullP'] = grouped.loc[grouped['type'] == 'rootagar', 'measured_tot_wet_weight'] *grouped.loc[grouped['type'] == 'rootagar', 'C_P']\n",
    "grouped.loc[grouped['type'] == 'root', 'fullP'] = grouped.loc[grouped['type'] == 'root', 'totP (ug)']\n",
    "totP_theory = 100\n",
    "grouped['scaling_factor'] = totP_theory/grouped.groupby('plate')['fullP'].transform('sum')\n",
    "\n",
    "# Multiply 'fullP' by the scaling factor to get 'fullP_rescaled'\n",
    "grouped['fullP_rescaled'] = grouped['fullP'] * grouped['scaling_factor']\n",
    "grouped = grouped.merge(grouped_agar[['plate','integrated_SA_C','integrated_SA']],how = \"left\",on='plate')"
   ]
  },
  {
   "cell_type": "code",
   "execution_count": 47,
   "id": "c65ce388-e5f9-46d1-a5a1-b91a73f7c98c",
   "metadata": {},
   "outputs": [
    {
     "name": "stdout",
     "output_type": "stream",
     "text": [
      "agar 0.910976268186197\n",
      "root 0.5127978721154758\n",
      "2024-03-30 21:40:36,165-[WARNING]- fontTools.subset:2983 -> meta NOT subset; don't know how to subset; dropped\n"
     ]
    },
    {
     "data": {
      "application/vnd.jupyter.widget-view+json": {
       "model_id": "8fb2f60879274c24b23645bee2df1b86",
       "version_major": 2,
       "version_minor": 0
      },
      "image/png": "[encoded data removed]",
      "text/html": [
       "\n",
       "            <div style=\"display: inline-block;\">\n",
       "                <div class=\"jupyter-widgets widget-label\" style=\"text-align: center;\">\n",
       "                    Figure\n",
       "                </div>\n",
       "                <img src='data:image/png;base64,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' width=149.6062992125984/>\n",
       "            </div>\n",
       "        "
      ],
      "text/plain": [
       "Canvas(toolbar=Toolbar(toolitems=[('Home', 'Reset original view', 'home', 'home'), ('Back', 'Back to previous …"
      ]
     },
     "metadata": {},
     "output_type": "display_data"
    }
   ],
   "source": [
    "from matplotlib.lines import Line2D\n",
    "select= grouped[grouped['fullP']>0]\n",
    "select= select[select['treatment']=='100P']\n",
    "select = select[select['t2 (day)']<=9]\n",
    "select = select[select['plate']!=431]\n",
    "select = select[select['plate']!=487]\n",
    "column = 'integrated_SA'\n",
    "t2_values = select[column].unique()\n",
    "color_dict = {\n",
    "    'root': 'blue',\n",
    "    'agar': 'red',\n",
    "    'rootagar': 'green'\n",
    "}\n",
    "# Plotting\n",
    "fig,ax = plt.subplots(figsize = (3.8*cm,5.6*cm))\n",
    "# Unique categories in the hue column\n",
    "types = select['type'].unique()\n",
    "color_dict = {\n",
    "    'root': 'orange',\n",
    "    'agar': 'purple',\n",
    "    'rootagar': 'green'\n",
    "}\n",
    "\n",
    "# Iterate over each category\n",
    "for type_obj in types:\n",
    "    # Subset data for the category\n",
    "    subset = select[select['type'] == type_obj]\n",
    "    if type_obj == \"rootagar\":\n",
    "        ax.scatter(subset[column], subset['fullP'], color=color_dict[type_obj], s=50)\n",
    "        line_style = {\"linestyle\": \"--\",\"linewidth\":4}  # Dashed line for 'rootagar'\n",
    "        mean_value = subset['fullP'].mean()\n",
    "        std_value = subset['fullP'].std()\n",
    "        xmin = np.min(subset[column])\n",
    "        xmax = np.max(subset[column])\n",
    "        ax.hlines(y=mean_value, xmin = xmin,xmax = xmax, color=color_dict[type_obj], linestyle='--', linewidth = 4)\n",
    "        ax.fill_between([xmin,xmax], mean_value - 2*std_value, mean_value + 2*std_value, color=color_dict[type_obj], alpha=0.2)\n",
    "    else:\n",
    "        line_style = {\"linewidth\":4}  # Default line style for other types\n",
    "\n",
    "    # Create a regplot for the subset with customized line style for 'rootagar'\n",
    "        sns.regplot(x=subset[column], y=subset['fullP'], color=color_dict[type_obj],\n",
    "                scatter_kws={\"s\": 50}, line_kws=line_style)\n",
    "        slope2, intercept, r_value, p_value, std_err = stats.linregress(subset[column], subset['fullP'])\n",
    "    \n",
    "        print(type_obj,r_value**2)\n",
    "# for t2 in sorted(t2_values):\n",
    "#     plate_data = select[select[column] == t2]\n",
    "#     for k,type_ in enumerate(['root', 'agar', 'rootagar']):\n",
    "#         value = plate_data[plate_data['type'] == type_]['fullP'].mean()\n",
    "#             # print(t2,plate_data[plate_data['type'] == type_]['plate'])\n",
    "#         ax.scatter(t2, value, color=color_dict[type_])\n",
    "#         # print(t2,value,plate_data)\n",
    "total = select.groupby(\"plate\")\n",
    "ax.scatter(total[column].mean(), total['fullP'].sum(), color=\"black\", s=50)\n",
    "mean_value = total['fullP'].sum().mean()\n",
    "std_value = total['fullP'].sum().std()\n",
    "ax.hlines(y=mean_value, xmin = np.min(total[column].mean()),xmax = np.max(total[column].mean()), color=\"black\", linestyle='--', linewidth = 4)\n",
    "ax.fill_between([xmin,xmax], mean_value - 2*std_value, mean_value + 2*std_value, color=\"black\", alpha=0.2)\n",
    "# sns.regplot(x=total[column].mean(), y=total['fullP'].sum(), color=\"black\",\n",
    "#                 scatter_kws={\"s\": 50}, line_kws=line_style)\n",
    "ax.set_ylabel('fullP Value')\n",
    "ax.set_xlabel('t2 Value')\n",
    "\n",
    "\n",
    "ax.set_ylabel('P mass (ug)')\n",
    "ax.set_xlabel('Time since crossing (day)')\n",
    "plt.ylabel('$m_P$ ($\\mu g$)')\n",
    "plt.xlabel('$\\int_0^{t_f} SA(t)dt$ ($\\mu m^2h$)')\n",
    "plt.savefig(os.path.join(path_figure,'Figure3B.pdf'), transparent=True, bbox_inches='tight')"
   ]
  },
  {
   "cell_type": "code",
   "execution_count": 30,
   "id": "5415abde-6347-48ee-a61f-b4b2e8864661",
   "metadata": {},
   "outputs": [
    {
     "data": {
      "text/plain": [
       "-3.2554048752748486e-09"
      ]
     },
     "execution_count": 30,
     "metadata": {},
     "output_type": "execute_result"
    }
   ],
   "source": [
    "subset = select[select['type'] == 'agar']\n",
    "\n",
    "slope2, intercept, r_value, p_value, std_err = stats.linregress(subset['integrated_SA'], subset['fullP'])\n",
    "slope2"
   ]
  },
  {
   "cell_type": "code",
   "execution_count": 32,
   "id": "49caf662-c413-47e2-a3b9-7f44237f965e",
   "metadata": {},
   "outputs": [
    {
     "data": {
      "text/plain": [
       "0.910976268186197"
      ]
     },
     "execution_count": 32,
     "metadata": {},
     "output_type": "execute_result"
    }
   ],
   "source": [
    "r_value**2"
   ]
  },
  {
   "cell_type": "code",
   "execution_count": 19,
   "id": "eab5c4c1-e381-4a66-b432-c4bb77956fa9",
   "metadata": {
    "tags": []
   },
   "outputs": [
    {
     "name": "stderr",
     "output_type": "stream",
     "text": [
      "C:\\Users\\coren\\Documents\\PhD\\Code\\pycode\\P_depletion_paper\\final_figures\\load_dataframes.py:111: UserWarning: Parsing dates in DD/MM/YYYY format when dayfirst=False (the default) was specified. This may lead to inconsistently parsed dates! Specify a format to ensure consistent parsing.\n",
      "  df_sum['start'] = pd.to_datetime(df_sum['start'], errors='coerce')\n",
      "C:\\Users\\coren\\Documents\\PhD\\Code\\pycode\\P_depletion_paper\\final_figures\\load_dataframes.py:112: UserWarning: Parsing dates in DD/MM/YYYY format when dayfirst=False (the default) was specified. This may lead to inconsistently parsed dates! Specify a format to ensure consistent parsing.\n",
      "  df_sum['crossed']  = pd.to_datetime(df_sum['crossed'], errors='coerce')\n",
      "C:\\Users\\coren\\Documents\\PhD\\Code\\pycode\\P_depletion_paper\\final_figures\\load_dataframes.py:113: UserWarning: Parsing dates in DD/MM/YYYY format when dayfirst=False (the default) was specified. This may lead to inconsistently parsed dates! Specify a format to ensure consistent parsing.\n",
      "  df_sum['date_fungus']  = pd.to_datetime(df_sum['age fungus'], errors='coerce')\n",
      "C:\\Users\\coren\\anaconda3\\envs\\amftrack\\lib\\site-packages\\numpy\\lib\\nanfunctions.py:1217: RuntimeWarning: All-NaN slice encountered\n",
      "  r, k = function_base._ureduce(a, func=_nanmedian, axis=axis, out=out,\n",
      "C:\\Users\\coren\\anaconda3\\envs\\amftrack\\lib\\site-packages\\numpy\\lib\\nanfunctions.py:1215: RuntimeWarning: Mean of empty slice\n",
      "  return np.nanmean(a, axis, out=out, keepdims=keepdims)\n"
     ]
    }
   ],
   "source": [
    "from plates import plates,timestep\n",
    "\n",
    "df2,final_data = load_all(plates)"
   ]
  },
  {
   "cell_type": "code",
   "execution_count": 20,
   "id": "d05d0783-6180-476c-9f15-8dcacf37635b",
   "metadata": {},
   "outputs": [],
   "source": [
    "def calculate_derivative(df, column, new_column, window=1):\n",
    "    # Ensure the DataFrame is sorted by 'unique_id' and 'time_since_begin_h'\n",
    "    df.sort_values(by=['unique_id', 'time_since_begin_h'], inplace=True)\n",
    "    \n",
    "    # Calculate the time difference and value difference over the desired window\n",
    "    df['time_diff'] = df.groupby('unique_id')['time_since_begin_h'].transform(lambda x: x.diff(window)).fillna(0)\n",
    "    df['value_diff'] = df.groupby('unique_id')[column].transform(lambda x: x.diff(window)).fillna(0)\n",
    "\n",
    "    # Calculate the derivative (value difference divided by time difference)\n",
    "    # Be cautious about dividing by zero. If 'time_diff' is 0, set derivative to NaN or handle accordingly.\n",
    "    df[new_column] = df.apply(lambda x: x['value_diff'] / x['time_diff'] if x['time_diff'] != 0 else None, axis=1)\n",
    "\n",
    "    # Drop the helper columns\n",
    "    df.drop(['time_diff', 'value_diff'], axis=1, inplace=True)\n",
    "def calculate_integral(df, column, new_column):\n",
    "    # Calculate the time difference within each group\n",
    "    df.sort_values(by=['unique_id', 'time_since_begin_h'], inplace=True)\n",
    "    df['time_since_begin_hour'] = df['time_since_begin_h']\n",
    "    df['time_diff'] = df.groupby('unique_id')['time_since_begin_hour'].transform(lambda x: x.diff())\n",
    "\n",
    "    # Calculate the average length density within each group\n",
    "    df['avg_length_density'] = df.groupby('unique_id')[column].transform(lambda x: x.rolling(window=2).mean())\n",
    "\n",
    "    # Calculate the \"area\" (using Trapezoidal rule) for each pair of rows within each group\n",
    "    df['area'] = df['time_diff'] * df['avg_length_density']\n",
    "\n",
    "    # Perform the integration (cumulative sum of \"area\") within each group\n",
    "    df[new_column] = df.groupby('unique_id')['area'].transform(lambda x: x.cumsum())\n",
    "\n",
    "    # Drop the helper columns if needed\n",
    "    df.drop(['time_diff', 'avg_length_density', 'area'], axis=1, inplace=True)"
   ]
  },
  {
   "cell_type": "code",
   "execution_count": 21,
   "id": "ea3225be-5819-4ee1-a447-4de02eab9a6e",
   "metadata": {},
   "outputs": [],
   "source": [
    "Vmax = 3.8e-9 #ugP/um2/hour\n",
    "density = 1e-6 #ug/um3\n",
    "dry_wet_ratio = 0.3\n",
    "carbon_ratio = 0.5\n",
    "carbon_ratio_spore = 0.9\n",
    "dry_wet_ratio_spore = 0.9\n",
    "density_spore = 0.9e-6\n",
    "respiration_ratio = 0.5"
   ]
  },
  {
   "cell_type": "code",
   "execution_count": 22,
   "id": "571fb7d3-6294-4233-94fe-42785893d2b9",
   "metadata": {},
   "outputs": [],
   "source": [
    "baseline = final_data[final_data['time_since_begin_h'] == 0]\n",
    "\n",
    "# Step 2: Create a series with spore_volume at time_since_begin_h = 0 for each unique_id\n",
    "baseline_volume = baseline.groupby('unique_id')['spore_volume'].first()\n",
    "final_data['adjusted_spore_volume'] = final_data.groupby('unique_id')['spore_volume'].transform(lambda x: x - baseline_volume[x.name])\n",
    "\n",
    "final_data['totC_hypha'] = final_data['tot_biovolume_study']*density*dry_wet_ratio*carbon_ratio\n",
    "final_data['tot_volume'] = final_data['adjusted_spore_volume']+final_data['tot_biovolume_study']\n",
    "final_data['totC_spore'] = final_data['adjusted_spore_volume']*density_spore*dry_wet_ratio_spore*carbon_ratio_spore\n",
    "final_data['totC_tot'] = final_data['totC_hypha'] + final_data['totC_spore']\n",
    "calculate_integral(final_data,f'tot_surface_area_study',f'integrated_SA')"
   ]
  },
  {
   "cell_type": "code",
   "execution_count": 23,
   "id": "754b25f8-1460-4ab0-965d-de92473b1084",
   "metadata": {},
   "outputs": [],
   "source": [
    "final_data['absorbed_P'] = final_data['integrated_SA']*Vmax\n",
    "final_data['P_C_ratio'] = final_data['absorbed_P']/final_data['totC_tot']*100\n",
    "final_data = final_data.reset_index(drop=True)\n"
   ]
  },
  {
   "cell_type": "code",
   "execution_count": 24,
   "id": "5e64175c-b96e-477c-ae2a-b32db3934809",
   "metadata": {},
   "outputs": [
    {
     "name": "stdout",
     "output_type": "stream",
     "text": [
      "2024-03-30 19:10:40,800-[WARNING]- fontTools.subset:2983 -> meta NOT subset; don't know how to subset; dropped\n"
     ]
    },
    {
     "data": {
      "application/vnd.jupyter.widget-view+json": {
       "model_id": "09d5a7514429446a8b818d91138d2186",
       "version_major": 2,
       "version_minor": 0
      },
      "image/png": "[encoded data removed]",
      "text/html": [
       "\n",
       "            <div style=\"display: inline-block;\">\n",
       "                <div class=\"jupyter-widgets widget-label\" style=\"text-align: center;\">\n",
       "                    Figure\n",
       "                </div>\n",
       "                <img src='data:image/png;base64,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' width=236.22047244094486/>\n",
       "            </div>\n",
       "        "
      ],
      "text/plain": [
       "Canvas(toolbar=Toolbar(toolitems=[('Home', 'Reset original view', 'home', 'home'), ('Back', 'Back to previous …"
      ]
     },
     "metadata": {},
     "output_type": "display_data"
    }
   ],
   "source": [
    "fig,ax = plt.subplots(figsize = (6*cm,4*cm))\n",
    "ax2 = ax.twinx()\n",
    "select = final_data\n",
    "select = final_data[final_data['real_root']==\"Carrot Toby\"]\n",
    "# select = select[select['time_since_begin_h_shifted'] < select['time_since_begin_h_shifted_max_c_rate']+20]\n",
    "select = select[select['time_hour_binned'] <= 50]\n",
    "select = select[select['time_hour_binned'] > -55]\n",
    "select = select[select['fungalC']=='100P/100N/100C']\n",
    "\n",
    "select = select[select['strain'] == \"C2\"]\n",
    "select = select.copy()\n",
    "select['time_reshift'] = select['time_hour_binned']+50\n",
    "\n",
    "\n",
    "\n",
    "grouped = select.groupby('time_hour_binned')\n",
    "filtered_groups = grouped.filter(lambda x: x['unique_id'].nunique() >= 7)\n",
    "\n",
    "sns.lineplot(data=filtered_groups,x='time_reshift',y='absorbed_P',estimator = \"mean\",color=\"blue\",ax = ax)\n",
    "sns.lineplot(data=filtered_groups,x='time_reshift',y='totC_tot',estimator = \"mean\",color=\"black\",ax=ax)\n",
    "sns.lineplot(data=filtered_groups,x='time_reshift',y='P_C_ratio',estimator = \"median\",color=\"grey\",ax = ax2)\n",
    "\n",
    "\n",
    "ax.set_yscale(\"log\")\n",
    "# ax2.set_yscale(\"log\")\n",
    "\n",
    "# ax.set_xlim(-100,500)\n",
    "ax2.set_ylim(0,100)\n",
    "\n",
    "ax.set_ylabel('m ($\\mu g$)')\n",
    "ax2.set_ylabel('$m_P/m_C$ (%)')\n",
    "\n",
    "ax.set_xlabel('t-t* (hour)')\n",
    "\n",
    "# ax.set_ylabel('C expenditure rate ($\\mu g/h$)')\n",
    "# ax.set_xlabel('P acquisition rate ($\\mu g/h$)')\n",
    "plt.savefig(os.path.join(path_figure,'Figure3C.pdf'), transparent=True, bbox_inches='tight')"
   ]
  },
  {
   "cell_type": "code",
   "execution_count": 25,
   "id": "bc07f0bf-d414-4a81-89de-321ef375b23f",
   "metadata": {},
   "outputs": [
    {
     "ename": "NameError",
     "evalue": "name 'select1' is not defined",
     "output_type": "error",
     "traceback": [
      "\u001b[1;31m---------------------------------------------------------------------------\u001b[0m",
      "\u001b[1;31mNameError\u001b[0m                                 Traceback (most recent call last)",
      "Input \u001b[1;32mIn [25]\u001b[0m, in \u001b[0;36m<cell line: 3>\u001b[1;34m()\u001b[0m\n\u001b[0;32m      1\u001b[0m fig, ax \u001b[38;5;241m=\u001b[39m plt\u001b[38;5;241m.\u001b[39msubplots()\n\u001b[0;32m      2\u001b[0m sns\u001b[38;5;241m.\u001b[39mscatterplot(data\u001b[38;5;241m=\u001b[39mfiltered_groups,x\u001b[38;5;241m=\u001b[39m\u001b[38;5;124m'\u001b[39m\u001b[38;5;124mtime_since_begin_h\u001b[39m\u001b[38;5;124m'\u001b[39m,y\u001b[38;5;241m=\u001b[39m\u001b[38;5;124m'\u001b[39m\u001b[38;5;124mintegrated_SA\u001b[39m\u001b[38;5;124m'\u001b[39m)\n\u001b[1;32m----> 3\u001b[0m ax\u001b[38;5;241m.\u001b[39mscatter(\u001b[43mselect1\u001b[49m[\u001b[38;5;124m'\u001b[39m\u001b[38;5;124mt2 (day)\u001b[39m\u001b[38;5;124m'\u001b[39m]\u001b[38;5;241m*\u001b[39m\u001b[38;5;241m24\u001b[39m,select1[\u001b[38;5;124m'\u001b[39m\u001b[38;5;124mintegrated_SA\u001b[39m\u001b[38;5;124m'\u001b[39m])\n",
      "\u001b[1;31mNameError\u001b[0m: name 'select1' is not defined"
     ]
    },
    {
     "data": {
      "application/vnd.jupyter.widget-view+json": {
       "model_id": "50706532c0964722b73250c62d31a7c4",
       "version_major": 2,
       "version_minor": 0
      },
      "image/png": "[encoded data removed]",
      "text/html": [
       "\n",
       "            <div style=\"display: inline-block;\">\n",
       "                <div class=\"jupyter-widgets widget-label\" style=\"text-align: center;\">\n",
       "                    Figure\n",
       "                </div>\n",
       "                <img src='data:image/png;base64,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' width=640.0/>\n",
       "            </div>\n",
       "        "
      ],
      "text/plain": [
       "Canvas(toolbar=Toolbar(toolitems=[('Home', 'Reset original view', 'home', 'home'), ('Back', 'Back to previous …"
      ]
     },
     "metadata": {},
     "output_type": "display_data"
    }
   ],
   "source": [
    "fig, ax = plt.subplots()\n",
    "sns.scatterplot(data=filtered_groups,x='time_since_begin_h',y='integrated_SA')\n",
    "ax.scatter(select1['t2 (day)']*24,select1['integrated_SA'])"
   ]
  },
  {
   "cell_type": "code",
   "execution_count": null,
   "id": "b56a0c0d-3c01-48c2-a35b-ae1f6387d08f",
   "metadata": {},
   "outputs": [],
   "source": [
    "select = final_data\n",
    "select = final_data[final_data['real_root']==\"Carrot Toby\"]\n",
    "# select = select[select['time_since_begin_h_shifted'] < select['time_since_begin_h_shifted_max_c_rate']+20]\n",
    "select = select[select['time_hour_binned'] <= 50]\n",
    "select = select[select['time_hour_binned'] > -55]\n",
    "select = select[select['fungalC']=='100P/100N/100C']\n",
    "\n",
    "select = select[select['strain'] == \"C2\"]\n",
    "select = select.copy()\n",
    "select['time_reshift'] = select['time_hour_binned']+50\n",
    "\n",
    "\n",
    "\n",
    "grouped = select.groupby('time_hour_binned')\n",
    "filtered_groups = grouped.filter(lambda x: x['unique_id'].nunique() >= 7)"
   ]
  },
  {
   "cell_type": "code",
   "execution_count": null,
   "id": "8250db0e-7e9b-4d9d-ab01-3beb91b6e7ad",
   "metadata": {},
   "outputs": [],
   "source": [
    "select1 = grouped_agar[grouped_agar['t2 (day)']<=9]\n",
    "select1 = select1[select1['treatment']=='100P']"
   ]
  }
 ],
 "metadata": {
  "kernelspec": {
   "display_name": "Python 3 (ipykernel)",
   "language": "python",
   "name": "python3"
  },
  "language_info": {
   "codemirror_mode": {
    "name": "ipython",
    "version": 3
   },
   "file_extension": ".py",
   "mimetype": "text/x-python",
   "name": "python",
   "nbconvert_exporter": "python",
   "pygments_lexer": "ipython3",
   "version": "3.10.6"
  }
 },
 "nbformat": 4,
 "nbformat_minor": 5
}
