{
 "cells": [
  {
   "cell_type": "code",
   "execution_count": 1,
   "id": "88220c9b-d582-42c5-ba3d-4a51f32874e2",
   "metadata": {
    "tags": []
   },
   "outputs": [
    {
     "name": "stderr",
     "output_type": "stream",
     "text": [
      "c:\\users\\coren\\documents\\phd\\code\\amftrack\\amftrack\\util\\dbx.py:3: TqdmExperimentalWarning: Using `tqdm.autonotebook.tqdm` in notebook mode. Use `tqdm.tqdm` instead to force console mode (e.g. in jupyter console)\n",
      "  from tqdm.autonotebook import tqdm\n"
     ]
    }
   ],
   "source": [
    "# import os\n",
    "import matplotlib.pyplot as plt\n",
    "import os\n",
    "import pandas as pd\n",
    "from amftrack.util.sys import get_analysis_folders,get_time_plate_info_from_analysis,get_time_hypha_info_from_analysis,get_global_hypha_info_from_analysis, get_time_plate_info_long_from_analysis\n",
    "import numpy as np\n",
    "import imageio\n",
    "import os\n",
    "import cv2\n",
    "from scipy.interpolate import interp1d\n",
    "from scipy.optimize import curve_fit\n",
    "from amftrack.pipeline.final_analysis.density_wave import get_wave_fit, S, dS, wave, dwave\n",
    "import matplotlib.patches as mpatches\n",
    "from random import choice\n",
    "import matplotlib as mpl\n",
    "from amftrack.pipeline.final_analysis.density_wave import plot_single_plate,plot_single_plate_biovolume\n",
    "from amftrack.pipeline.final_analysis.hypha_speed_analysis import *\n",
    "from amftrack.util.plot import gridplot, make_stat\n",
    "%store -r path_figure\n",
    "%matplotlib widget\n",
    "%load_ext autoreload\n",
    "%autoreload 2\n",
    "from mpl_toolkits.axes_grid1.inset_locator import inset_axes\n",
    "import scipy\n",
    "import statsmodels.api as sm\n",
    "import hashlib\n",
    "from matplotlib.patches import Ellipse\n",
    "import logging\n",
    "plt.style.use('presentation.mplstyle')\n",
    "logging.getLogger().setLevel(logging.WARNING)\n",
    "\n",
    "all_analysis_folders = get_analysis_folders()"
   ]
  },
  {
   "cell_type": "code",
   "execution_count": 5,
   "id": "00072036-adeb-4362-8345-7b613717e36e",
   "metadata": {},
   "outputs": [],
   "source": [
    "analysis_folders = all_analysis_folders[all_analysis_folders['medium'].isin([\"'1Myr'\"])]"
   ]
  },
  {
   "cell_type": "code",
   "execution_count": 10,
   "id": "96ed99de-a3ac-48fa-b299-1a83979fef70",
   "metadata": {},
   "outputs": [
    {
     "data": {
      "text/html": [
       "<div>\n",
       "<style scoped>\n",
       "    .dataframe tbody tr th:only-of-type {\n",
       "        vertical-align: middle;\n",
       "    }\n",
       "\n",
       "    .dataframe tbody tr th {\n",
       "        vertical-align: top;\n",
       "    }\n",
       "\n",
       "    .dataframe thead th {\n",
       "        text-align: right;\n",
       "    }\n",
       "</style>\n",
       "<table border=\"1\" class=\"dataframe\">\n",
       "  <thead>\n",
       "    <tr style=\"text-align: right;\">\n",
       "      <th></th>\n",
       "      <th>Plate</th>\n",
       "      <th>PrincePos</th>\n",
       "      <th>root</th>\n",
       "      <th>strain</th>\n",
       "      <th>medium</th>\n",
       "      <th>split</th>\n",
       "      <th>Pbait</th>\n",
       "      <th>CrossDate</th>\n",
       "      <th>Temperature</th>\n",
       "      <th>total_path</th>\n",
       "      <th>...</th>\n",
       "      <th>time_hypha</th>\n",
       "      <th>num_folders</th>\n",
       "      <th>/Img/TileConfiguration.txt.registered</th>\n",
       "      <th>/Analysis/skeleton_compressed.mat</th>\n",
       "      <th>/Analysis/skeleton_masked_compressed.mat</th>\n",
       "      <th>/Analysis/skeleton_pruned_compressed.mat</th>\n",
       "      <th>/Analysis/transform.mat</th>\n",
       "      <th>Temp</th>\n",
       "      <th>fungalC</th>\n",
       "      <th>unique_id</th>\n",
       "    </tr>\n",
       "  </thead>\n",
       "  <tbody>\n",
       "    <tr>\n",
       "      <th>244</th>\n",
       "      <td>55</td>\n",
       "      <td>15</td>\n",
       "      <td>'none'</td>\n",
       "      <td>'A5'</td>\n",
       "      <td>'1Myr'</td>\n",
       "      <td>'N'</td>\n",
       "      <td>'-'</td>\n",
       "      <td>20220310</td>\n",
       "      <td>25</td>\n",
       "      <td>C:\\Users\\coren\\AMOLF-SHIMIZU Dropbox\\DATA\\PRIN...</td>\n",
       "      <td>...</td>\n",
       "      <td>False</td>\n",
       "      <td>1</td>\n",
       "      <td>NaN</td>\n",
       "      <td>NaN</td>\n",
       "      <td>NaN</td>\n",
       "      <td>NaN</td>\n",
       "      <td>NaN</td>\n",
       "      <td>NaN</td>\n",
       "      <td>NaN</td>\n",
       "      <td>55_20220310</td>\n",
       "    </tr>\n",
       "    <tr>\n",
       "      <th>251</th>\n",
       "      <td>58</td>\n",
       "      <td>1</td>\n",
       "      <td>'-'</td>\n",
       "      <td>'A5'</td>\n",
       "      <td>'1Myr'</td>\n",
       "      <td>'N'</td>\n",
       "      <td>'-'</td>\n",
       "      <td>20220310</td>\n",
       "      <td>25</td>\n",
       "      <td>C:\\Users\\coren\\AMOLF-SHIMIZU Dropbox\\DATA\\PRIN...</td>\n",
       "      <td>...</td>\n",
       "      <td>False</td>\n",
       "      <td>1</td>\n",
       "      <td>NaN</td>\n",
       "      <td>NaN</td>\n",
       "      <td>NaN</td>\n",
       "      <td>NaN</td>\n",
       "      <td>NaN</td>\n",
       "      <td>NaN</td>\n",
       "      <td>NaN</td>\n",
       "      <td>58_20220310</td>\n",
       "    </tr>\n",
       "    <tr>\n",
       "      <th>260</th>\n",
       "      <td>60</td>\n",
       "      <td>1</td>\n",
       "      <td>'-'</td>\n",
       "      <td>'A5'</td>\n",
       "      <td>'1Myr'</td>\n",
       "      <td>'N'</td>\n",
       "      <td>'-'</td>\n",
       "      <td>20220310</td>\n",
       "      <td>25</td>\n",
       "      <td>C:\\Users\\coren\\AMOLF-SHIMIZU Dropbox\\DATA\\PRIN...</td>\n",
       "      <td>...</td>\n",
       "      <td>False</td>\n",
       "      <td>1</td>\n",
       "      <td>NaN</td>\n",
       "      <td>NaN</td>\n",
       "      <td>NaN</td>\n",
       "      <td>NaN</td>\n",
       "      <td>NaN</td>\n",
       "      <td>NaN</td>\n",
       "      <td>NaN</td>\n",
       "      <td>60_20220310</td>\n",
       "    </tr>\n",
       "  </tbody>\n",
       "</table>\n",
       "<p>3 rows × 22 columns</p>\n",
       "</div>"
      ],
      "text/plain": [
       "    Plate PrincePos    root strain  medium split Pbait CrossDate Temperature  \\\n",
       "244    55        15  'none'   'A5'  '1Myr'   'N'   '-'  20220310          25   \n",
       "251    58         1     '-'   'A5'  '1Myr'   'N'   '-'  20220310          25   \n",
       "260    60         1     '-'   'A5'  '1Myr'   'N'   '-'  20220310          25   \n",
       "\n",
       "                                            total_path  ... time_hypha  \\\n",
       "244  C:\\Users\\coren\\AMOLF-SHIMIZU Dropbox\\DATA\\PRIN...  ...      False   \n",
       "251  C:\\Users\\coren\\AMOLF-SHIMIZU Dropbox\\DATA\\PRIN...  ...      False   \n",
       "260  C:\\Users\\coren\\AMOLF-SHIMIZU Dropbox\\DATA\\PRIN...  ...      False   \n",
       "\n",
       "    num_folders /Img/TileConfiguration.txt.registered  \\\n",
       "244           1                                   NaN   \n",
       "251           1                                   NaN   \n",
       "260           1                                   NaN   \n",
       "\n",
       "    /Analysis/skeleton_compressed.mat  \\\n",
       "244                               NaN   \n",
       "251                               NaN   \n",
       "260                               NaN   \n",
       "\n",
       "    /Analysis/skeleton_masked_compressed.mat  \\\n",
       "244                                      NaN   \n",
       "251                                      NaN   \n",
       "260                                      NaN   \n",
       "\n",
       "    /Analysis/skeleton_pruned_compressed.mat /Analysis/transform.mat Temp  \\\n",
       "244                                      NaN                     NaN  NaN   \n",
       "251                                      NaN                     NaN  NaN   \n",
       "260                                      NaN                     NaN  NaN   \n",
       "\n",
       "    fungalC    unique_id  \n",
       "244     NaN  55_20220310  \n",
       "251     NaN  58_20220310  \n",
       "260     NaN  60_20220310  \n",
       "\n",
       "[3 rows x 22 columns]"
      ]
     },
     "execution_count": 10,
     "metadata": {},
     "output_type": "execute_result"
    }
   ],
   "source": [
    "analysis_folders"
   ]
  },
  {
   "cell_type": "code",
   "execution_count": 6,
   "id": "986351b8-85fd-4de3-ae1d-56f6d7f54313",
   "metadata": {},
   "outputs": [],
   "source": [
    "folders,time_plate_info = get_time_plate_info_from_analysis(analysis_folders,False)"
   ]
  },
  {
   "cell_type": "code",
   "execution_count": 8,
   "id": "83f696eb-7146-4ca0-ae17-b3e0177818af",
   "metadata": {},
   "outputs": [
    {
     "data": {
      "text/plain": [
       "0    2985.607089\n",
       "1    3461.620023\n",
       "2    2966.368279\n",
       "dtype: float64"
      ]
     },
     "execution_count": 8,
     "metadata": {},
     "output_type": "execute_result"
    }
   ],
   "source": [
    "time_plate_info['tot_length_study']/time_plate_info['area_sep_comp']"
   ]
  }
 ],
 "metadata": {
  "kernelspec": {
   "display_name": "Python 3 (ipykernel)",
   "language": "python",
   "name": "python3"
  },
  "language_info": {
   "codemirror_mode": {
    "name": "ipython",
    "version": 3
   },
   "file_extension": ".py",
   "mimetype": "text/x-python",
   "name": "python",
   "nbconvert_exporter": "python",
   "pygments_lexer": "ipython3",
   "version": "3.10.6"
  }
 },
 "nbformat": 4,
 "nbformat_minor": 5
}
