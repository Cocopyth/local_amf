{
 "cells": [
  {
   "cell_type": "code",
   "execution_count": 1,
   "id": "c7054f97-5e8e-46e4-a16e-f2aeca8b4add",
   "metadata": {},
   "outputs": [
    {
     "name": "stderr",
     "output_type": "stream",
     "text": [
      "c:\\users\\coren\\documents\\phd\\code\\amftrack\\amftrack\\util\\dbx.py:3: TqdmExperimentalWarning: Using `tqdm.autonotebook.tqdm` in notebook mode. Use `tqdm.tqdm` instead to force console mode (e.g. in jupyter console)\n",
      "  from tqdm.autonotebook import tqdm\n"
     ]
    }
   ],
   "source": [
    "# import os\n",
    "import matplotlib.pyplot as plt\n",
    "import os\n",
    "import pandas as pd\n",
    "from amftrack.util.sys import get_analysis_folders,get_time_plate_info_from_analysis,get_time_hypha_info_from_analysis,get_global_hypha_info_from_analysis \n",
    "import numpy as np\n",
    "import imageio\n",
    "import os\n",
    "import cv2\n",
    "from scipy.interpolate import interp1d\n",
    "from scipy.optimize import curve_fit\n",
    "from amftrack.pipeline.final_analysis.density_wave import get_wave_fit, S, dS, wave, dwave\n",
    "import matplotlib.patches as mpatches\n",
    "from random import choice\n",
    "import matplotlib as mpl\n",
    "from amftrack.pipeline.final_analysis.density_wave import plot_single_plate,plot_single_plate_biovolume\n",
    "from amftrack.pipeline.final_analysis.hypha_speed_analysis import *\n",
    "from amftrack.util.plot import gridplot, make_stat\n",
    "from helper import *\n",
    "from load_dataframes import load_all\n",
    "from plates import plates,timestep\n",
    "%matplotlib widget\n",
    "%load_ext autoreload\n",
    "%autoreload 2\n",
    "from mpl_toolkits.axes_grid1.inset_locator import inset_axes\n",
    "import scipy\n",
    "import statsmodels.api as sm\n",
    "import hashlib\n",
    "from matplotlib.patches import Ellipse\n",
    "import logging\n",
    "plt.style.use('presentation.mplstyle')\n",
    "import seaborn as sns\n",
    "import matplotlib.pyplot as plt\n",
    "logging.getLogger().setLevel(logging.WARNING)"
   ]
  },
  {
   "cell_type": "code",
   "execution_count": 2,
   "id": "5bfc4f9d-d249-44bb-81c0-29860fcc5408",
   "metadata": {
    "collapsed": true,
    "jupyter": {
     "outputs_hidden": true
    },
    "tags": []
   },
   "outputs": [
    {
     "name": "stderr",
     "output_type": "stream",
     "text": [
      "C:\\Users\\coren\\Documents\\PhD\\Code\\pycode\\P_depletion_paper\\final_figures\\load_dataframes.py:111: UserWarning: Parsing dates in DD/MM/YYYY format when dayfirst=False (the default) was specified. This may lead to inconsistently parsed dates! Specify a format to ensure consistent parsing.\n",
      "  df_sum['start'] = pd.to_datetime(df_sum['start'], errors='coerce')\n",
      "C:\\Users\\coren\\Documents\\PhD\\Code\\pycode\\P_depletion_paper\\final_figures\\load_dataframes.py:112: UserWarning: Parsing dates in DD/MM/YYYY format when dayfirst=False (the default) was specified. This may lead to inconsistently parsed dates! Specify a format to ensure consistent parsing.\n",
      "  df_sum['crossed']  = pd.to_datetime(df_sum['crossed'], errors='coerce')\n",
      "C:\\Users\\coren\\Documents\\PhD\\Code\\pycode\\P_depletion_paper\\final_figures\\load_dataframes.py:113: UserWarning: Parsing dates in DD/MM/YYYY format when dayfirst=False (the default) was specified. This may lead to inconsistently parsed dates! Specify a format to ensure consistent parsing.\n",
      "  df_sum['date_fungus']  = pd.to_datetime(df_sum['age fungus'], errors='coerce')\n",
      "C:\\Users\\coren\\anaconda3\\envs\\amftrack\\lib\\site-packages\\numpy\\lib\\nanfunctions.py:1217: RuntimeWarning: All-NaN slice encountered\n",
      "  r, k = function_base._ureduce(a, func=_nanmedian, axis=axis, out=out,\n",
      "C:\\Users\\coren\\anaconda3\\envs\\amftrack\\lib\\site-packages\\numpy\\lib\\nanfunctions.py:1215: RuntimeWarning: Mean of empty slice\n",
      "  return np.nanmean(a, axis, out=out, keepdims=keepdims)\n"
     ]
    }
   ],
   "source": [
    "df,final_data = load_all(plates)"
   ]
  },
  {
   "cell_type": "code",
   "execution_count": 3,
   "id": "e4149774-0f9f-4f8b-b6f7-3b23237a21c5",
   "metadata": {},
   "outputs": [],
   "source": [
    "def calculate_derivative(df, column, new_column, window=1):\n",
    "    # Ensure the DataFrame is sorted by 'unique_id' and 'time_since_begin_h'\n",
    "    df.sort_values(by=['unique_id', 'time_since_begin_h'], inplace=True)\n",
    "    \n",
    "    # Calculate the time difference and value difference over the desired window\n",
    "    df['time_diff'] = df.groupby('unique_id')['time_since_begin_h'].transform(lambda x: x.diff(window)).fillna(0)\n",
    "    df['value_diff'] = df.groupby('unique_id')[column].transform(lambda x: x.diff(window)).fillna(0)\n",
    "    df[new_column] = df.apply(lambda x: x['value_diff'] / x['time_diff'] if x['time_diff'] != 0 else None, axis=1)\n",
    "\n",
    "    # Drop the helper columns\n",
    "    df.drop(['time_diff', 'value_diff'], axis=1, inplace=True)\n",
    "    # Calculate calculate_derivative(final_data,f'tot_surface_area_study',f'derivative_SA', window=5)\n",
    "\n",
    "# the derivative (value difference divided by time difference)\n",
    "    # Be cautious about dividing by zero. If 'time_diff' is 0, set derivative to NaN or handle accordingly.\n",
    "\n",
    "def calculate_integral(df, column, new_column):\n",
    "    # Calculate the time difference within each group\n",
    "    df.sort_values(by=['unique_id', 'time_since_begin_h'], inplace=True)\n",
    "    df['time_since_begin_hour'] = df['time_since_begin_h']\n",
    "    df['time_diff'] = df.groupby('unique_id')['time_since_begin_hour'].transform(lambda x: x.diff())\n",
    "\n",
    "    # Calculate the average length density within each group\n",
    "    df['avg_length_density'] = df.groupby('unique_id')[column].transform(lambda x: x.rolling(window=2).mean())\n",
    "\n",
    "    # Calculate the \"area\" (using Trapezoidal rule) for each pair of rows within each group\n",
    "    df['area'] = df['time_diff'] * df['avg_length_density']\n",
    "\n",
    "    # Perform the integration (cumulative sum of \"area\") within each group\n",
    "    df[new_column] = df.groupby('unique_id')['area'].transform(lambda x: x.cumsum())\n",
    "\n",
    "    # Drop the helper columns if needed\n",
    "    df.drop(['time_diff', 'avg_length_density', 'area'], axis=1, inplace=True)\n",
    "calculate_integral(final_data,f'tot_surface_area_study',f'integrated_SA')\n",
    "calculate_derivative(final_data,f'tot_biovolume_study',f'derivative_biovolume', window=5)\n",
    "calculate_derivative(final_data,f'tot_volume',f'derivative_tot_biovolume', window=5)\n",
    "calculate_derivative(final_data,f'tot_biovolume_study',f'derivative_biovolume_smooth', window=10)\n",
    "\n",
    "\n",
    "Vmax = 3e-9*25 #ugP/um2/hour\n",
    "density = 1e-6 #ug/um3\n",
    "dry_wet_ratio = 0.3\n",
    "carbon_ratio = 0.5\n",
    "carbon_ratio_spore = 0.9\n",
    "dry_wet_ratio_spore = 0.9\n",
    "density_spore = 0.9e-6\n",
    "respiration_ratio = 0.5\n",
    "final_data['P_rate'] =final_data['tot_surface_area_study']*Vmax\n",
    "final_data['C_rate'] = final_data['derivative_biovolume']*density*dry_wet_ratio*carbon_ratio/respiration_ratio\n",
    "final_data['totC_hypha'] = final_data['tot_biovolume_study']*density*dry_wet_ratio*carbon_ratio\n",
    "final_data['tot_volume'] = final_data['spore_volume']+final_data['tot_biovolume_study']\n",
    "final_data['totC_spore'] = final_data['spore_volume']*density_spore*dry_wet_ratio_spore*carbon_ratio_spore\n",
    "final_data['totC_tot'] = final_data['totC_hypha'] + final_data['totC_spore']\n",
    "calculate_derivative(final_data,f'totC_tot',f'derivative_C', window=5)\n",
    "\n",
    "calculate_derivative(final_data,f'area_sep_comp',f'derivative_area', window=5)\n",
    "\n",
    "final_data = final_data.reset_index(drop=True)\n",
    "final_data_select = final_data.loc[final_data['time_since_begin_h_shifted']<=150]\n",
    "\n",
    "max_c_rate_time = final_data_select.loc[final_data_select.groupby('unique_id')['C_rate'].idxmax(), ['unique_id', 'time_since_begin_h_shifted']]\n",
    "\n",
    "# Step 2: Merge this information back to the original DataFrame\n",
    "final_data = final_data.merge(max_c_rate_time, on='unique_id', suffixes=('', '_max_c_rate'))"
   ]
  },
  {
   "cell_type": "code",
   "execution_count": 4,
   "id": "27ae61df-d155-43ad-a58b-410401b61905",
   "metadata": {},
   "outputs": [],
   "source": [
    "calculate_derivative(final_data,f'tot_surface_area_study',f'derivative_SA', window=5)\n",
    "calculate_derivative(final_data,f'totC_tot',f'derivative_C', window=5)\n",
    "\n",
    "calculate_derivative(final_data,f'area_sep_comp',f'derivative_area', window=5)\n",
    "final_data['instant_SA_dens'] = final_data['derivative_SA']/final_data['derivative_area']\n",
    "calculate_derivative(final_data,f'tot_biovolume_study',f'derivative_BV', window=5)\n",
    "final_data['instant_BV_dens'] = final_data['derivative_BV']/final_data['derivative_area']\n",
    "calculate_derivative(final_data,f'tot_length_study',f'derivative_L', window=5)\n",
    "final_data['instant_L_dens'] = final_data['derivative_L']/final_data['derivative_area']\n",
    "final_data['instant_C_dens'] = final_data['derivative_C']/final_data['derivative_area']\n",
    "\n",
    "final_data['instant_radius'] = final_data['instant_BV_dens']/final_data['instant_SA_dens']*2\n"
   ]
  },
  {
   "cell_type": "code",
   "execution_count": 5,
   "id": "3992bd6d-4836-4245-8df3-1aeeaf2966b6",
   "metadata": {},
   "outputs": [],
   "source": [
    "df['FungalSide'] = df['FungalSide'].fillna(\"100P/100N/100C\")\n",
    "df['FungalSide'] = df['FungalSide'].replace(\"100P100N100C\",\"100P/100N/100C\")\n",
    "df['FungalSide'] = df['FungalSide'].replace(\"100P100N100C\",\"100P/100N/100C\")\n",
    "\n",
    "df['treatment'] = df['treatment'].replace(\"1P100N100C\",\"1P/100N/100C\")\n",
    "df['fungus'] = df['fungus'].replace(\"A5sp3\",\"A5\")\n",
    "df['category_combination'] = df[['treatment', 'FungalSide',\"real_root\"]].apply(lambda x: '_'.join(x.astype(str)), axis=1)\n",
    "df['size_point'] = 20\n",
    "marker_symbols = {\n",
    "    \"C2\": 'circle',\n",
    "    \"A5\": 'square',\n",
    "    \"Agg\": 'diamond',\n",
    "    \"Clarum\": 'cross',\n",
    "    \"C3\": 'star',\n",
    "    \n",
    "    \n",
    "    # Add more mappings as needed\n",
    "}\n",
    "\n",
    "n_colors = len(df['fungus'].unique())\n",
    "\n",
    "palette = sns.color_palette(\"rainbow\", n_colors)\n",
    "strain_to_color = dict(zip(df['fungus'].unique(), palette))\n",
    "df['full_category_combination'] = df[['fungus','treatment', 'FungalSide',\"real_root\"]].apply(lambda x: '_'.join(x.astype(str)), axis=1)\n",
    "\n",
    "# Map the strain to the marker symbol in the DataFrame\n",
    "df['marker'] = df['fungus'].map(marker_symbols)\n"
   ]
  },
  {
   "cell_type": "code",
   "execution_count": 6,
   "id": "17a7a30b-3fe5-430e-8d2b-bd52fcd3fbb5",
   "metadata": {},
   "outputs": [],
   "source": [
    "final_data['strain'] = final_data['strain'].str.replace(\"'\",\"\")\n",
    "n_colors = len(df['strain'].unique())\n",
    "\n",
    "palette = sns.color_palette(\"rainbow\", n_colors)\n",
    "strain_to_color = dict(zip(final_data['strain'].unique(), palette))"
   ]
  },
  {
   "cell_type": "code",
   "execution_count": 7,
   "id": "1ba830a1-5d6e-40a7-a483-0164082a4465",
   "metadata": {},
   "outputs": [],
   "source": [
    "strain_to_color = {'C2': (0.17058823529411765, 0.4946558433997788, 0.9667184042691874),\n",
    " 'A5': (0.16666666666666663, 0.8660254037844386, 0.8660254037844387),\n",
    " 'Agg': (0.503921568627451, 0.9999810273487268, 0.7049255469061472),\n",
    " 'Clarum': (0.8333333333333333, 0.8660254037844387, 0.5000000000000001),\n",
    " 'C3': (1.0, 0.4946558433997788, 0.2558427775944356)}"
   ]
  },
  {
   "cell_type": "code",
   "execution_count": 8,
   "id": "15d9a311-3a7d-47e9-8213-c2e4e3180342",
   "metadata": {},
   "outputs": [
    {
     "name": "stdout",
     "output_type": "stream",
     "text": [
      "2024-03-07 09:06:39,092-[WARNING]- fontTools.subset:2983 -> meta NOT subset; don't know how to subset; dropped\n"
     ]
    },
    {
     "data": {
      "application/vnd.jupyter.widget-view+json": {
       "model_id": "4bd772ffd0ec4d2b94521fe9796e2f0d",
       "version_major": 2,
       "version_minor": 0
      },
      "image/png": "[encoded data removed]",
      "text/html": [
       "\n",
       "            <div style=\"display: inline-block;\">\n",
       "                <div class=\"jupyter-widgets widget-label\" style=\"text-align: center;\">\n",
       "                    Figure\n",
       "                </div>\n",
       "                <img src='data:image/png;base64,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' width=150.0/>\n",
       "            </div>\n",
       "        "
      ],
      "text/plain": [
       "Canvas(toolbar=Toolbar(toolitems=[('Home', 'Reset original view', 'home', 'home'), ('Back', 'Back to previous …"
      ]
     },
     "metadata": {},
     "output_type": "display_data"
    }
   ],
   "source": [
    "bin_size = 30\n",
    "cm = 1/2.54  # centimeters in inches\n",
    "select = final_data\n",
    "select = final_data.loc[final_data['hull_speed']>0].copy()\n",
    "select['hull_speed_binned'] = select['hull_speed'].astype(int)//bin_size*bin_size\n",
    "select= select[select['instant_C_dens']>0]\n",
    "select= select[select['instant_C_dens']<=0.025]\n",
    "# select= select[select['real_root']==\"Carrot Toby\"]\n",
    "select= select[select['real_root'].isin([\"Carrot Toby\",\"Carrot Vasilis\"])]\n",
    "select= select[select['strain'].isin([\"A5\",\"C2\"])]\n",
    "\n",
    "# select= select[select['fungalC']==\"100P/100N/100C\"]\n",
    "select['root_fungal_combo'] = select['real_root'] + '_' + select['fungalC']\n",
    "select = select[select['time_since_begin_h_shifted'] < select['time_since_begin_h_shifted_max_c_rate']+20]\n",
    "# select = select[select['time_hour_binned'] <= 50]\n",
    "# select = select[select['time_hour_binned'] >= 0]\n",
    "\n",
    "summary = select.groupby([\"strain\", 'time_hour_binned','real_root','fungalC','root_fungal_combo']).agg({\n",
    "    'hull_speed': 'median',\n",
    "    'instant_SA_dens': 'median',\n",
    "    'radius': 'median',\n",
    "    'instant_BV_dens': 'count',\n",
    "    'instant_L_dens': 'median',\n",
    "    'instant_C_dens': 'median',\n",
    "    \n",
    "}).rename(columns={'instant_BV_dens': 'count'})\n",
    "summary = summary[summary['count']>7]\n",
    "summary = summary.reset_index()\n",
    "fig,ax = plt.subplots(figsize = (1.5,1))\n",
    "\n",
    "# sns.regplot(data=summary, x='hull_speed', y='instant_L_dens',scatter = False,color = \"black\")\n",
    "summary = select.groupby([\"strain\",'real_root','fungalC','root_fungal_combo'])[['hull_speed','hull_speed_binned','instant_SA_dens','radius','instant_BV_dens','instant_L_dens','instant_C_dens']].median()\n",
    "sns.scatterplot(data=summary, x='hull_speed', y='instant_C_dens', \n",
    "                hue=\"strain\", style=\"root_fungal_combo\", s=200,palette=strain_to_color)\n",
    "# summary2 = select.groupby([\"strain\", 'time_hour_binned','root_fungal_combo','fungalC','real_root']).agg({\n",
    "#     'hull_speed': 'median',\n",
    "#     'instant_SA_dens': 'median',\n",
    "#     'radius': 'median',\n",
    "#     'instant_BV_dens': 'count',\n",
    "#     'instant_L_dens': 'median',\n",
    "#     'instant_C_dens': 'median',\n",
    "    \n",
    "# }).rename(columns={'instant_BV_dens': 'count'})\n",
    "# sns.scatterplot(data=summary2, x='hull_speed', y='instant_C_dens', \n",
    "#                 hue=\"strain\", style=\"root_fungal_combo\", s=50,alpha = 0.3)\n",
    "ax.legend('')\n",
    "summary['size_point'] = 20\n",
    "summary['fungus'] = summary.index\n",
    "ax.set_xlabel('$v_{wave}$ (um/h)')\n",
    "ax.set_ylabel('$d_{Carbon}$ \\n ($\\mu g/mm^2$)')\n",
    "plt.legend().remove()\n",
    "# plt.tight_layout()\n",
    "path_figure = r\"C:\\Users\\coren\\Documents\\PhD\\paper\\PandC\\FigS1\"\n",
    "ax.set_xlim(220,300)\n",
    "ax.set_ylim(0.003,0.012)\n",
    "\n",
    "plt.savefig(os.path.join(path_figure,'FigureA.pdf'), transparent=True, bbox_inches='tight')\n"
   ]
  },
  {
   "cell_type": "code",
   "execution_count": 9,
   "id": "aa809688-c867-43ee-99ec-10bff0ffee4c",
   "metadata": {},
   "outputs": [
    {
     "data": {
      "text/plain": [
       "array(['100P/100N/100C', '0P/100N/100C'], dtype=object)"
      ]
     },
     "execution_count": 9,
     "metadata": {},
     "output_type": "execute_result"
    }
   ],
   "source": [
    "select['fungalC'].unique()"
   ]
  },
  {
   "cell_type": "code",
   "execution_count": 10,
   "id": "9fea593b-8c92-4d1c-be94-b00d0379d646",
   "metadata": {},
   "outputs": [
    {
     "data": {
      "text/plain": [
       "array([4.68202308e+10, 4.71202308e+10])"
      ]
     },
     "execution_count": 10,
     "metadata": {},
     "output_type": "execute_result"
    }
   ],
   "source": [
    "select[select['fungalC']=='0P/100N/100C']['unique_id'].unique()"
   ]
  }
 ],
 "metadata": {
  "kernelspec": {
   "display_name": "Python 3 (ipykernel)",
   "language": "python",
   "name": "python3"
  },
  "language_info": {
   "codemirror_mode": {
    "name": "ipython",
    "version": 3
   },
   "file_extension": ".py",
   "mimetype": "text/x-python",
   "name": "python",
   "nbconvert_exporter": "python",
   "pygments_lexer": "ipython3",
   "version": "3.10.6"
  }
 },
 "nbformat": 4,
 "nbformat_minor": 5
}
