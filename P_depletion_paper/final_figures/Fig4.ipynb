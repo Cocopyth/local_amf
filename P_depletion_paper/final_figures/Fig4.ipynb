{
 "cells": [
  {
   "cell_type": "code",
   "execution_count": 1,
   "id": "92b6496e-73a4-4bfe-a888-402347449e29",
   "metadata": {},
   "outputs": [
    {
     "name": "stderr",
     "output_type": "stream",
     "text": [
      "c:\\users\\coren\\documents\\phd\\code\\amftrack\\amftrack\\util\\dbx.py:3: TqdmExperimentalWarning: Using `tqdm.autonotebook.tqdm` in notebook mode. Use `tqdm.tqdm` instead to force console mode (e.g. in jupyter console)\n",
      "  from tqdm.autonotebook import tqdm\n"
     ]
    }
   ],
   "source": [
    "# import os\n",
    "import matplotlib.pyplot as plt\n",
    "import os\n",
    "import pandas as pd\n",
    "from amftrack.util.sys import get_analysis_folders,get_time_plate_info_from_analysis,get_time_hypha_info_from_analysis,get_global_hypha_info_from_analysis \n",
    "import numpy as np\n",
    "import imageio\n",
    "import os\n",
    "import cv2\n",
    "from scipy.interpolate import interp1d\n",
    "from scipy.optimize import curve_fit\n",
    "from amftrack.pipeline.final_analysis.density_wave import get_wave_fit, S, dS, wave, dwave\n",
    "import matplotlib.patches as mpatches\n",
    "from random import choice\n",
    "import matplotlib as mpl\n",
    "from amftrack.pipeline.final_analysis.density_wave import plot_single_plate,plot_single_plate_biovolume\n",
    "from amftrack.pipeline.final_analysis.hypha_speed_analysis import *\n",
    "from amftrack.util.plot import gridplot, make_stat\n",
    "from helper import *\n",
    "from load_dataframes import load_all\n",
    "from plates import plates,timestep\n",
    "%store -r path_figure\n",
    "%matplotlib widget\n",
    "%load_ext autoreload\n",
    "%autoreload 2\n",
    "from mpl_toolkits.axes_grid1.inset_locator import inset_axes\n",
    "import scipy\n",
    "import statsmodels.api as sm\n",
    "import hashlib\n",
    "from matplotlib.patches import Ellipse\n",
    "import logging\n",
    "plt.style.use('presentation.mplstyle')\n",
    "logging.getLogger().setLevel(logging.WARNING)\n"
   ]
  },
  {
   "cell_type": "code",
   "execution_count": 5,
   "id": "fc63a48f-20aa-480e-abda-64a9c6713082",
   "metadata": {},
   "outputs": [],
   "source": [
    "path_figure = r\"C:\\Users\\coren\\Documents\\PhD\\paper\\PandC\\Fig4\"\n"
   ]
  },
  {
   "cell_type": "code",
   "execution_count": 3,
   "id": "25c97c6e-9f71-421a-8ef2-2c6c686efd54",
   "metadata": {
    "collapsed": true,
    "jupyter": {
     "outputs_hidden": true
    },
    "tags": []
   },
   "outputs": [
    {
     "name": "stderr",
     "output_type": "stream",
     "text": [
      "C:\\Users\\coren\\Documents\\PhD\\Code\\pycode\\P_depletion_paper\\final_figures\\load_dataframes.py:111: UserWarning: Parsing dates in DD/MM/YYYY format when dayfirst=False (the default) was specified. This may lead to inconsistently parsed dates! Specify a format to ensure consistent parsing.\n",
      "  df_sum['start'] = pd.to_datetime(df_sum['start'], errors='coerce')\n",
      "C:\\Users\\coren\\Documents\\PhD\\Code\\pycode\\P_depletion_paper\\final_figures\\load_dataframes.py:112: UserWarning: Parsing dates in DD/MM/YYYY format when dayfirst=False (the default) was specified. This may lead to inconsistently parsed dates! Specify a format to ensure consistent parsing.\n",
      "  df_sum['crossed']  = pd.to_datetime(df_sum['crossed'], errors='coerce')\n",
      "C:\\Users\\coren\\Documents\\PhD\\Code\\pycode\\P_depletion_paper\\final_figures\\load_dataframes.py:113: UserWarning: Parsing dates in DD/MM/YYYY format when dayfirst=False (the default) was specified. This may lead to inconsistently parsed dates! Specify a format to ensure consistent parsing.\n",
      "  df_sum['date_fungus']  = pd.to_datetime(df_sum['age fungus'], errors='coerce')\n",
      "C:\\Users\\coren\\anaconda3\\envs\\amftrack\\lib\\site-packages\\numpy\\lib\\nanfunctions.py:1215: RuntimeWarning: Mean of empty slice\n",
      "  return np.nanmean(a, axis, out=out, keepdims=keepdims)\n",
      "C:\\Users\\coren\\anaconda3\\envs\\amftrack\\lib\\site-packages\\numpy\\lib\\nanfunctions.py:1217: RuntimeWarning: All-NaN slice encountered\n",
      "  r, k = function_base._ureduce(a, func=_nanmedian, axis=axis, out=out,\n"
     ]
    }
   ],
   "source": [
    "df,final_data = load_all(plates)"
   ]
  },
  {
   "cell_type": "code",
   "execution_count": 4,
   "id": "cb61ea13-7636-4fd7-ba8a-105c4336be5b",
   "metadata": {
    "collapsed": true,
    "jupyter": {
     "outputs_hidden": true
    },
    "tags": []
   },
   "outputs": [
    {
     "ename": "FileNotFoundError",
     "evalue": "[Errno 2] No such file or directory: 'C:\\\\\\\\Users\\\\\\\\coren\\\\\\\\AMOLF-SHIMIZU Dropbox\\\\\\\\HFSP_symbiotic-networks\\\\\\\\Article_TravellingWave\\\\\\\\Supplementary material\\\\\\\\extended_data_figures\\\\Figure_rebutal_root.pdf'",
     "output_type": "error",
     "traceback": [
      "\u001b[1;31m---------------------------------------------------------------------------\u001b[0m",
      "\u001b[1;31mFileNotFoundError\u001b[0m                         Traceback (most recent call last)",
      "Input \u001b[1;32mIn [4]\u001b[0m, in \u001b[0;36m<cell line: 25>\u001b[1;34m()\u001b[0m\n\u001b[0;32m     23\u001b[0m ax\u001b[38;5;241m.\u001b[39mset_ylabel(\u001b[38;5;124m\"\u001b[39m\u001b[38;5;124msaturation density \u001b[39m\u001b[38;5;130;01m\\n\u001b[39;00m\u001b[38;5;124m ($\u001b[39m\u001b[38;5;124m\\\u001b[39m\u001b[38;5;124mmu m/mm^\u001b[39m\u001b[38;5;132;01m{2}\u001b[39;00m\u001b[38;5;124m$)\u001b[39m\u001b[38;5;124m\"\u001b[39m)\n\u001b[0;32m     24\u001b[0m ax\u001b[38;5;241m.\u001b[39mset_ylim(\u001b[38;5;241m0\u001b[39m,\u001b[38;5;241m4000\u001b[39m)\n\u001b[1;32m---> 25\u001b[0m \u001b[43mplt\u001b[49m\u001b[38;5;241;43m.\u001b[39;49m\u001b[43msavefig\u001b[49m\u001b[43m(\u001b[49m\u001b[43mos\u001b[49m\u001b[38;5;241;43m.\u001b[39;49m\u001b[43mpath\u001b[49m\u001b[38;5;241;43m.\u001b[39;49m\u001b[43mjoin\u001b[49m\u001b[43m(\u001b[49m\u001b[43mpath_figure\u001b[49m\u001b[43m,\u001b[49m\u001b[38;5;124;43m'\u001b[39;49m\u001b[38;5;124;43mFigure_rebutal_root.pdf\u001b[39;49m\u001b[38;5;124;43m'\u001b[39;49m\u001b[43m)\u001b[49m\u001b[43m,\u001b[49m\u001b[43m \u001b[49m\u001b[43mtransparent\u001b[49m\u001b[38;5;241;43m=\u001b[39;49m\u001b[38;5;28;43;01mTrue\u001b[39;49;00m\u001b[43m,\u001b[49m\u001b[43m \u001b[49m\u001b[43mbbox_inches\u001b[49m\u001b[38;5;241;43m=\u001b[39;49m\u001b[38;5;124;43m'\u001b[39;49m\u001b[38;5;124;43mtight\u001b[39;49m\u001b[38;5;124;43m'\u001b[39;49m\u001b[43m)\u001b[49m\n\u001b[0;32m     26\u001b[0m path_figure \u001b[38;5;241m=\u001b[39m \u001b[38;5;124mr\u001b[39m\u001b[38;5;124m\"\u001b[39m\u001b[38;5;124mC:\u001b[39m\u001b[38;5;124m\\\u001b[39m\u001b[38;5;124mUsers\u001b[39m\u001b[38;5;124m\\\u001b[39m\u001b[38;5;124mcoren\u001b[39m\u001b[38;5;124m\\\u001b[39m\u001b[38;5;124mDocuments\u001b[39m\u001b[38;5;124m\\\u001b[39m\u001b[38;5;124mPhD\u001b[39m\u001b[38;5;124m\\\u001b[39m\u001b[38;5;124mpaper\u001b[39m\u001b[38;5;124m\\\u001b[39m\u001b[38;5;124mPandC\u001b[39m\u001b[38;5;124m\\\u001b[39m\u001b[38;5;124mFig4\u001b[39m\u001b[38;5;124m\"\u001b[39m\n\u001b[0;32m     27\u001b[0m plt\u001b[38;5;241m.\u001b[39mstyle\u001b[38;5;241m.\u001b[39muse(\u001b[38;5;124m'\u001b[39m\u001b[38;5;124mpresentation.mplstyle\u001b[39m\u001b[38;5;124m'\u001b[39m)\n",
      "File \u001b[1;32m~\\anaconda3\\envs\\amftrack\\lib\\site-packages\\matplotlib\\pyplot.py:942\u001b[0m, in \u001b[0;36msavefig\u001b[1;34m(*args, **kwargs)\u001b[0m\n\u001b[0;32m    939\u001b[0m \u001b[38;5;129m@_copy_docstring_and_deprecators\u001b[39m(Figure\u001b[38;5;241m.\u001b[39msavefig)\n\u001b[0;32m    940\u001b[0m \u001b[38;5;28;01mdef\u001b[39;00m \u001b[38;5;21msavefig\u001b[39m(\u001b[38;5;241m*\u001b[39margs, \u001b[38;5;241m*\u001b[39m\u001b[38;5;241m*\u001b[39mkwargs):\n\u001b[0;32m    941\u001b[0m     fig \u001b[38;5;241m=\u001b[39m gcf()\n\u001b[1;32m--> 942\u001b[0m     res \u001b[38;5;241m=\u001b[39m fig\u001b[38;5;241m.\u001b[39msavefig(\u001b[38;5;241m*\u001b[39margs, \u001b[38;5;241m*\u001b[39m\u001b[38;5;241m*\u001b[39mkwargs)\n\u001b[0;32m    943\u001b[0m     fig\u001b[38;5;241m.\u001b[39mcanvas\u001b[38;5;241m.\u001b[39mdraw_idle()  \u001b[38;5;66;03m# Need this if 'transparent=True', to reset colors.\u001b[39;00m\n\u001b[0;32m    944\u001b[0m     \u001b[38;5;28;01mreturn\u001b[39;00m res\n",
      "File \u001b[1;32m~\\anaconda3\\envs\\amftrack\\lib\\site-packages\\matplotlib\\figure.py:3272\u001b[0m, in \u001b[0;36mFigure.savefig\u001b[1;34m(self, fname, transparent, **kwargs)\u001b[0m\n\u001b[0;32m   3268\u001b[0m     \u001b[38;5;28;01mfor\u001b[39;00m ax \u001b[38;5;129;01min\u001b[39;00m \u001b[38;5;28mself\u001b[39m\u001b[38;5;241m.\u001b[39maxes:\n\u001b[0;32m   3269\u001b[0m         stack\u001b[38;5;241m.\u001b[39menter_context(\n\u001b[0;32m   3270\u001b[0m             ax\u001b[38;5;241m.\u001b[39mpatch\u001b[38;5;241m.\u001b[39m_cm_set(facecolor\u001b[38;5;241m=\u001b[39m\u001b[38;5;124m'\u001b[39m\u001b[38;5;124mnone\u001b[39m\u001b[38;5;124m'\u001b[39m, edgecolor\u001b[38;5;241m=\u001b[39m\u001b[38;5;124m'\u001b[39m\u001b[38;5;124mnone\u001b[39m\u001b[38;5;124m'\u001b[39m))\n\u001b[1;32m-> 3272\u001b[0m \u001b[38;5;28mself\u001b[39m\u001b[38;5;241m.\u001b[39mcanvas\u001b[38;5;241m.\u001b[39mprint_figure(fname, \u001b[38;5;241m*\u001b[39m\u001b[38;5;241m*\u001b[39mkwargs)\n",
      "File \u001b[1;32m~\\anaconda3\\envs\\amftrack\\lib\\site-packages\\matplotlib\\backend_bases.py:2338\u001b[0m, in \u001b[0;36mFigureCanvasBase.print_figure\u001b[1;34m(self, filename, dpi, facecolor, edgecolor, orientation, format, bbox_inches, pad_inches, bbox_extra_artists, backend, **kwargs)\u001b[0m\n\u001b[0;32m   2334\u001b[0m \u001b[38;5;28;01mtry\u001b[39;00m:\n\u001b[0;32m   2335\u001b[0m     \u001b[38;5;66;03m# _get_renderer may change the figure dpi (as vector formats\u001b[39;00m\n\u001b[0;32m   2336\u001b[0m     \u001b[38;5;66;03m# force the figure dpi to 72), so we need to set it again here.\u001b[39;00m\n\u001b[0;32m   2337\u001b[0m     \u001b[38;5;28;01mwith\u001b[39;00m cbook\u001b[38;5;241m.\u001b[39m_setattr_cm(\u001b[38;5;28mself\u001b[39m\u001b[38;5;241m.\u001b[39mfigure, dpi\u001b[38;5;241m=\u001b[39mdpi):\n\u001b[1;32m-> 2338\u001b[0m         result \u001b[38;5;241m=\u001b[39m print_method(\n\u001b[0;32m   2339\u001b[0m             filename,\n\u001b[0;32m   2340\u001b[0m             facecolor\u001b[38;5;241m=\u001b[39mfacecolor,\n\u001b[0;32m   2341\u001b[0m             edgecolor\u001b[38;5;241m=\u001b[39medgecolor,\n\u001b[0;32m   2342\u001b[0m             orientation\u001b[38;5;241m=\u001b[39morientation,\n\u001b[0;32m   2343\u001b[0m             bbox_inches_restore\u001b[38;5;241m=\u001b[39m_bbox_inches_restore,\n\u001b[0;32m   2344\u001b[0m             \u001b[38;5;241m*\u001b[39m\u001b[38;5;241m*\u001b[39mkwargs)\n\u001b[0;32m   2345\u001b[0m \u001b[38;5;28;01mfinally\u001b[39;00m:\n\u001b[0;32m   2346\u001b[0m     \u001b[38;5;28;01mif\u001b[39;00m bbox_inches \u001b[38;5;129;01mand\u001b[39;00m restore_bbox:\n",
      "File \u001b[1;32m~\\anaconda3\\envs\\amftrack\\lib\\site-packages\\matplotlib\\backend_bases.py:2204\u001b[0m, in \u001b[0;36mFigureCanvasBase._switch_canvas_and_return_print_method.<locals>.<lambda>\u001b[1;34m(*args, **kwargs)\u001b[0m\n\u001b[0;32m   2200\u001b[0m     optional_kws \u001b[38;5;241m=\u001b[39m {  \u001b[38;5;66;03m# Passed by print_figure for other renderers.\u001b[39;00m\n\u001b[0;32m   2201\u001b[0m         \u001b[38;5;124m\"\u001b[39m\u001b[38;5;124mdpi\u001b[39m\u001b[38;5;124m\"\u001b[39m, \u001b[38;5;124m\"\u001b[39m\u001b[38;5;124mfacecolor\u001b[39m\u001b[38;5;124m\"\u001b[39m, \u001b[38;5;124m\"\u001b[39m\u001b[38;5;124medgecolor\u001b[39m\u001b[38;5;124m\"\u001b[39m, \u001b[38;5;124m\"\u001b[39m\u001b[38;5;124morientation\u001b[39m\u001b[38;5;124m\"\u001b[39m,\n\u001b[0;32m   2202\u001b[0m         \u001b[38;5;124m\"\u001b[39m\u001b[38;5;124mbbox_inches_restore\u001b[39m\u001b[38;5;124m\"\u001b[39m}\n\u001b[0;32m   2203\u001b[0m     skip \u001b[38;5;241m=\u001b[39m optional_kws \u001b[38;5;241m-\u001b[39m {\u001b[38;5;241m*\u001b[39minspect\u001b[38;5;241m.\u001b[39msignature(meth)\u001b[38;5;241m.\u001b[39mparameters}\n\u001b[1;32m-> 2204\u001b[0m     print_method \u001b[38;5;241m=\u001b[39m functools\u001b[38;5;241m.\u001b[39mwraps(meth)(\u001b[38;5;28;01mlambda\u001b[39;00m \u001b[38;5;241m*\u001b[39margs, \u001b[38;5;241m*\u001b[39m\u001b[38;5;241m*\u001b[39mkwargs: meth(\n\u001b[0;32m   2205\u001b[0m         \u001b[38;5;241m*\u001b[39margs, \u001b[38;5;241m*\u001b[39m\u001b[38;5;241m*\u001b[39m{k: v \u001b[38;5;28;01mfor\u001b[39;00m k, v \u001b[38;5;129;01min\u001b[39;00m kwargs\u001b[38;5;241m.\u001b[39mitems() \u001b[38;5;28;01mif\u001b[39;00m k \u001b[38;5;129;01mnot\u001b[39;00m \u001b[38;5;129;01min\u001b[39;00m skip}))\n\u001b[0;32m   2206\u001b[0m \u001b[38;5;28;01melse\u001b[39;00m:  \u001b[38;5;66;03m# Let third-parties do as they see fit.\u001b[39;00m\n\u001b[0;32m   2207\u001b[0m     print_method \u001b[38;5;241m=\u001b[39m meth\n",
      "File \u001b[1;32m~\\anaconda3\\envs\\amftrack\\lib\\site-packages\\matplotlib\\backends\\backend_pdf.py:2808\u001b[0m, in \u001b[0;36mFigureCanvasPdf.print_pdf\u001b[1;34m(self, filename, bbox_inches_restore, metadata)\u001b[0m\n\u001b[0;32m   2806\u001b[0m     file \u001b[38;5;241m=\u001b[39m filename\u001b[38;5;241m.\u001b[39m_file\n\u001b[0;32m   2807\u001b[0m \u001b[38;5;28;01melse\u001b[39;00m:\n\u001b[1;32m-> 2808\u001b[0m     file \u001b[38;5;241m=\u001b[39m \u001b[43mPdfFile\u001b[49m\u001b[43m(\u001b[49m\u001b[43mfilename\u001b[49m\u001b[43m,\u001b[49m\u001b[43m \u001b[49m\u001b[43mmetadata\u001b[49m\u001b[38;5;241;43m=\u001b[39;49m\u001b[43mmetadata\u001b[49m\u001b[43m)\u001b[49m\n\u001b[0;32m   2809\u001b[0m \u001b[38;5;28;01mtry\u001b[39;00m:\n\u001b[0;32m   2810\u001b[0m     file\u001b[38;5;241m.\u001b[39mnewPage(width, height)\n",
      "File \u001b[1;32m~\\anaconda3\\envs\\amftrack\\lib\\site-packages\\matplotlib\\backends\\backend_pdf.py:713\u001b[0m, in \u001b[0;36mPdfFile.__init__\u001b[1;34m(self, filename, metadata)\u001b[0m\n\u001b[0;32m    711\u001b[0m \u001b[38;5;28mself\u001b[39m\u001b[38;5;241m.\u001b[39moriginal_file_like \u001b[38;5;241m=\u001b[39m \u001b[38;5;28;01mNone\u001b[39;00m\n\u001b[0;32m    712\u001b[0m \u001b[38;5;28mself\u001b[39m\u001b[38;5;241m.\u001b[39mtell_base \u001b[38;5;241m=\u001b[39m \u001b[38;5;241m0\u001b[39m\n\u001b[1;32m--> 713\u001b[0m fh, opened \u001b[38;5;241m=\u001b[39m \u001b[43mcbook\u001b[49m\u001b[38;5;241;43m.\u001b[39;49m\u001b[43mto_filehandle\u001b[49m\u001b[43m(\u001b[49m\u001b[43mfilename\u001b[49m\u001b[43m,\u001b[49m\u001b[43m \u001b[49m\u001b[38;5;124;43m\"\u001b[39;49m\u001b[38;5;124;43mwb\u001b[39;49m\u001b[38;5;124;43m\"\u001b[39;49m\u001b[43m,\u001b[49m\u001b[43m \u001b[49m\u001b[43mreturn_opened\u001b[49m\u001b[38;5;241;43m=\u001b[39;49m\u001b[38;5;28;43;01mTrue\u001b[39;49;00m\u001b[43m)\u001b[49m\n\u001b[0;32m    714\u001b[0m \u001b[38;5;28;01mif\u001b[39;00m \u001b[38;5;129;01mnot\u001b[39;00m opened:\n\u001b[0;32m    715\u001b[0m     \u001b[38;5;28;01mtry\u001b[39;00m:\n",
      "File \u001b[1;32m~\\anaconda3\\envs\\amftrack\\lib\\site-packages\\matplotlib\\cbook\\__init__.py:492\u001b[0m, in \u001b[0;36mto_filehandle\u001b[1;34m(fname, flag, return_opened, encoding)\u001b[0m\n\u001b[0;32m    490\u001b[0m         fh \u001b[38;5;241m=\u001b[39m bz2\u001b[38;5;241m.\u001b[39mBZ2File(fname, flag)\n\u001b[0;32m    491\u001b[0m     \u001b[38;5;28;01melse\u001b[39;00m:\n\u001b[1;32m--> 492\u001b[0m         fh \u001b[38;5;241m=\u001b[39m \u001b[38;5;28;43mopen\u001b[39;49m\u001b[43m(\u001b[49m\u001b[43mfname\u001b[49m\u001b[43m,\u001b[49m\u001b[43m \u001b[49m\u001b[43mflag\u001b[49m\u001b[43m,\u001b[49m\u001b[43m \u001b[49m\u001b[43mencoding\u001b[49m\u001b[38;5;241;43m=\u001b[39;49m\u001b[43mencoding\u001b[49m\u001b[43m)\u001b[49m\n\u001b[0;32m    493\u001b[0m     opened \u001b[38;5;241m=\u001b[39m \u001b[38;5;28;01mTrue\u001b[39;00m\n\u001b[0;32m    494\u001b[0m \u001b[38;5;28;01melif\u001b[39;00m \u001b[38;5;28mhasattr\u001b[39m(fname, \u001b[38;5;124m'\u001b[39m\u001b[38;5;124mseek\u001b[39m\u001b[38;5;124m'\u001b[39m):\n",
      "\u001b[1;31mFileNotFoundError\u001b[0m: [Errno 2] No such file or directory: 'C:\\\\\\\\Users\\\\\\\\coren\\\\\\\\AMOLF-SHIMIZU Dropbox\\\\\\\\HFSP_symbiotic-networks\\\\\\\\Article_TravellingWave\\\\\\\\Supplementary material\\\\\\\\extended_data_figures\\\\Figure_rebutal_root.pdf'"
     ]
    },
    {
     "data": {
      "application/vnd.jupyter.widget-view+json": {
       "model_id": "07f1b2fe232541a183682fb4d4b0c3e2",
       "version_major": 2,
       "version_minor": 0
      },
      "image/png": "[encoded data removed]",
      "text/html": [
       "\n",
       "            <div style=\"display: inline-block;\">\n",
       "                <div class=\"jupyter-widgets widget-label\" style=\"text-align: center;\">\n",
       "                    Figure\n",
       "                </div>\n",
       "                <img src='data:image/png;base64,iVBORw0KGgoAAAANSUhEUgAAAJYAAABkCAYAAABkW8nwAAAAOXRFWHRTb2Z0d2FyZQBNYXRwbG90bGliIHZlcnNpb24zLjYuMCwgaHR0cHM6Ly9tYXRwbG90bGliLm9yZy89olMNAAAACXBIWXMAAA9hAAAPYQGoP6dpAAAOUklEQVR4nO2dfVBUV5qHH5puuvlGhCio2JoMSWCNCrE0wShqdiuOOsZJqaE2M4lVyiRWNqHcmBrBgFrlalK1Fbayxq8aMxmsCprKmEpiJamYkQEtTFwp1/hRA2EMXwqCxu6GoS8NffYPtltQPprue7tpPM8/2Le73/Me7++ee+97f+d0iBBCIJGojC7QCUjGJlJYEk2QwpJoghSWRBOksCSaIIUl0QQpLIkmSGFJNEE3d+5cFi1axNWrVwEoKCggKyuLV155BYCbN2+yePFisrKyOH78eCBzlQQRui+//JI9e/awe/du6uvrqa2t5fTp00RHR1NZWcn777/P5s2b+fbbbykuLg50vpIgQR8fH098fDw1NTVUVVWRlZUFwFNPPcWZM2c4d+4ceXl5mEwmYmJi+Pnnnxk3btw9gZxOJz/99BMGgwGTyYTRaPR3XyQqoSgKdrsdh8OB2WxGpxv5FZPe9Q8hBDabjaioKAAiIyNpb28fcNtAwrp27RoPPvigt32RjFIaGhqYPHnyiL/nFpZOpyMqKoqmpiYAOjo6iImJISoqio6ODvff6OjoAQO5tl++fJmEhAS/jFhWq5UpU6bQ0NBATEyM5u0FCn/3U1EU2traSEtLG3R/D4e+ra2NGzduYDabmT17NqWlpbz66qtUVFSwYsUKbt++TXl5OYsXL+bWrVvExcUNGCgkJASASZMm+W0nG41GioqKSExMHNOn3kD009WOa7+OmLlz54p58+aJmpoaIYQQ+fn54oknnhAvvviicDqdorW1VTz99NMiMzNTHDt2TAyGxWIRgLBYLIN+RhI8+Lo/Q4RQx49ltVqJjY3FYrGM6dPS/YKv+1MWSCWaIIUl0QQpLIkmSGFJNEEKS6IJUlijkIPnDgY6BZ+RwhplVF2v4ndf/I6q61WBTsUnpLBGGQfOHSA5OpkD5w4EOhWf0A//EYk/2bd8X6BTUAU5Ykk0QQpLogm6yspKpD1Zoja6nTt3Iu3JErXRdXZ2Eh8fT1pa2pD25Pnz5/ezJw+G1WpFURR/5S/RAEVRsFqtPsXQOZ1O9wsxAnvyYEyZMoVdu3b5lJQksOzatYspU6b4FKPfxbvLntzR0QHca092bRvKrtrQ0MCWLVt8SkoSWLZs2UJDQ4NPMXQmk4m2tjYuX77stidXVFQAUFFRQUZGBhkZGZSXl2O324e0JwPExMSMaZvw/YDRaPTZrKkvKipi+fLlhISEUFJSgtls5qGHHuLJJ58kNTWV+fPn8+ijj5KTk0NhYSFbt25VKX3JWGZUWZPtdjv19fUef15RFJqbm5k4caJ7lDz641HWPLRm0O+kpKRgMpm8yu9+wtf9Oaoe6dTX15Obm+v1921RNqoer+LY+8eIbh/4OvDAgQOkpqZ63YbEM0aVsFJSUjhwYOiHr31HpLq6Onbu3ElBQQFTp06l8GwhTU1N/CLnF+yYs2PQNiTaM6qEZTKZhhxNqq5XUXi2kF/O/iUZSRnu7VOnTiU1NZUltiWU/mupP1KVDENQPSscylIyVnxMY4WgElZmUiaNmxoHtJaMFR/TWGFUnQqHwjUiZSZn9jsNuhgrPqaxQtCMWJ6MSGPBKz5WCJoRa7gRabgRTeJf/CKslpYWLBaL6nHr6urcf/9w4w88EP4A7/zlnUFLDSMlNjaWCRMmqBKrL54UgvuWVQYqBHtCIIvBmlfeW1paeOE3v8XRpY6V5nrSdZKuJ6kSazgMYUYOl/xJdXFVV1cPWQh2FXoz/idj0EKvJ/hSDB71lXeLxYKjS6Fz+kKcplifYnXoG6mOL8Y6OYXJHUvB2Y1OacdpjAKdul3R2S3w979isVhUF9ZwheC7C713F4JH0k6g0FdWVpKXl0dERASHDh1i2rRpFBQUUFZWxmOPPcbevXu5efMmq1evRlEU8vPzWbZs2YgbcppicUYm+JRsq/EL9CKK5sgTxOmeIsJpxun9AR0whisEl6YOXOR1FYKDAd3WrVuDxpqcorxEXM/jGMQ42gxlActDMjw6QFVrspa06ctIUV5ixj+KSVFeGvD9+4FgKKvovbUmD7RyMvRe9BmNRtXNfv/Q/US98Y9EOM1EOM0jft8f+OPut/h/i9l3eR8JjgTS49NViX/33a8annd938VLfV05GXo970VFRWzbts2nxO6mzVCGQcTRZugdtdr0ZSR0Zw/6vr9paWnht795AaXLoVkbv/+v31P1eBX6Lj3rStcx6/wsVeIawwz8qeSwW1y7du1i+/btPsXUh4eHo9bKydDreU9MTHS/ds3Y0XXe9ilRc8dyYDkAHfrz1Ef+kciOOCK7J9/zPrT51BbcydfTGUcWiwWly8HLaTaSI3t8br8vXT3QZg/lcFwdicLAo7pwKuIsvDD3GqnOCJ9iX+sIZd/l6H53v1u2bGH9+vU+TajQ5+fnq2pNvtvz3tzcDED41XKvk7ybptRqwhQDt+2lPFDde5ekVX2rubmZGTNmePz55MgezNHqCgsglR6eJAlIIl/XxAT0lEW08S8hk1RvSxXPe1ZWFmfOnOm3cefOnf1eJyQk8M0333jVwMSJEwHonLYAZ3icVzHuZhIwyQLooSPtTn0rNHGZewTzFV3nbcKvlrvzH038hwZiUhvNC6Su0csZHudzHWswWo1fYBBxtMacJ1yZpWpsT29CXKfMax2hqrb/uf4mK7rHe7x9pLjyVXuScdA8hB6KiB5zQC7Y++I65e+7rF7FtvfRTiN/+eGBfo92BtvuCyM95Q9H0Aurt8zwQUDLDHDnlK/mxft/GhupJpTJs+r4d2Vyv+0NwnDPdm9wXbyrfcoPemE1Gz53/52u/FvA8nCdMtW8eM8VcXzOTXINcVQaWskJiQfgvf+/iCcUCFOnLbXrjkEvLD3RGMQ49AThQ8Nh+IhbTEDPf9PK11j5JxHOjJDwQKflEX4Tls6ufkUaZzfT2+bTEjcOdKHoOnvrV63hZ0jsnOdTaG/zVfPiPZcUcoF3DI2M0xvY232bNx1RqsUH9W82XGgurNjYWAxhRvj7XzWJb4uyUTe1d2bO+L/VAlD3eBXj/1br84WtIcxIbKxnVp/Y2FiMYQZVL97vEMcMoB0o1CC6MczgcT89xS9T7LV8hrb6+GqU8QohISH8atqvAChrKiN7UrbPTtKROki17Kc3fixPGaifo97oBzBhwgRNLL6Xbl3CEmfhz//8Z1bNW8XBcwfZkLlB9XY8Rat+uggqP1agE/CFI7VHCFPCOFJ7RE5YHWUEtbB2zNnBE5VPsGPOjn7Tw4LBrzQcwd6HMbNq8r7l+2jc1EhuZm7Qj1xjYfTVu1ZNbm5uZvfu3RQUFLityW+++SaVlZWcOHGCzZs3s2jRIlasWOGV590TRro+Vl8DnIuXT7w85DSwYFgfq+/om5mUycLohYFOacToXasmx8fHD2lNzsvL62dNHsxB6gvero/lcmP0nTbV3N5M7sF7Y42G9bGGO4A2pW5iU+omLt26xK+/+DV7HtsD9D+APCGQB9GosiZ7sj5WX+6eyBks62N5egBdSr8EiVB0ooh00u+xMw2HtwfRmLMmDzctaiD6PpEfbNrUaMPTA6jwbCFlTWUsmLuADc9u8GomtDcEhTVZci+eHkCBOlBUsSa/9dZbmlqTJcGHGtbkUbVqsmT04Ov+DOoCqWT0IoUl0QQpLIkmSGFJNEEKS6IJUlgSTZDCkmiCFJZEE6SwJJoghSXRBCksiSZ4LCxFUVi5ciVZWVkcPBjcfmyJ9ngsrKNHj/LMM89QUVHBxx9/jN1u1zIvSZDjsbBcKyfrdDpmzJjBlStXtMzLIxRFYdu2baqv7TTaCMZ+ejxhdSB7cl9c7pumpiYURfGLJ8tqtbJ9+3bWr18/pq06/u6noii0tfWug+Gtq8pjYblsyXDHstwXm80GQFpamleJ+IIvTsdgIhD9tNlsXq3r4LGwMjIyKC8vJz09nfPnz99j7E9OTqa2thaDwYDJZJIu0iBGURTsdjsOh4Pk5GSvYnjsILXb7eTk5NDY2Mi6devYuHGjVw1K7g9UsyZLJH2RBVKJJgStsI4cOaJarM8++8zneXRaoVY/X3vtNRYsWMDSpUt9nozqCUErrL1796oS58MPP+SNN97w+rZaa9To58WLF7HZbJSXl7N27VoOHz6sQmZD49fFbevq6sjJycFkMtHZ2clHH33E2bNneffddwkLC2P//v1cv36d4uJid2nj+PHjXLlyhY0bN9LT00NeXh5Wq5Xz589TUlLCJ598wqeffsoPP/zABx98QE1NDQkJCVy4cIHCwkJWrlzJ5s2b+f7770lISKCkpISIiDu/P5OUlMSePXs4ffr0mO1namqq+3cmHQ4HYWFhqvV1UIQfef3110VlZaXo6uoSjzzyiKitrRVZWVmiu7tbNDU1iTVr1oiTJ0+KtWvXCiGEyM3NFadPnxYrV64UdXV1wuFwiHnz5onu7m6xcOFCIYQQS5cuFTabTezYsUOcOnVKZGdni4sXL4r29naxaNEiUVVVJXJzc4UQQpSWlor33nvvnrxOnjwpioqKxnw/6+rqxJw5c0R7e7tqfR0Mv45Y1dXVZGRkYDAYmDVrFq2trdTU1LBkyRIA95H08MMPA72jSVdXFxaLxb0Ogdls5saNG+6Yy5Yt46uvvuK7775j69athIeHk57e+zt+oaGhVFdXU1ZWRnZ2Ng6Hg+zs7Puyn01NTaxatYpDhw4RGRmp9X+Bf0+F06ZN48KFC8yePZuLFy+SkJDAzJkz+frrr2ltbeXo0aMA9F2oBCA6Opr6+nqSk5P58ccfGT/+zm/IPPfcc2zYsAGz2UxISAidnZ3U1ta61wKdPn06zz77LG+//TanTp1yn3rup3729PTw/PPPs3//fmbOnKl5/wH+D9nOTi+zl4hDAAAAAElFTkSuQmCC' width=150.0/>\n",
       "            </div>\n",
       "        "
      ],
      "text/plain": [
       "Canvas(toolbar=Toolbar(toolitems=[('Home', 'Reset original view', 'home', 'home'), ('Back', 'Back to previous …"
      ]
     },
     "metadata": {},
     "output_type": "display_data"
    }
   ],
   "source": [
    "# plt.style.use('presentation2.mplstyle')\n",
    "\n",
    "# df['density_Lum'] = df['density_L'] *1000\n",
    "# path_figure = r'C:\\\\Users\\\\coren\\\\AMOLF-SHIMIZU Dropbox\\\\HFSP_symbiotic-networks\\\\Article_TravellingWave\\\\Supplementary material\\\\extended_data_figures'\n",
    "\n",
    "# width = 1.5\n",
    "# height = 1\n",
    "# flierprops = dict(markersize=1)\n",
    "# fig,ax = plt.subplots(figsize=(width,height))\n",
    "# select = df[df['real_root'].isin(['Carrot Vasilis','Carrot Toby'])]\n",
    "# select = select[select['fungalC'].isin([\"'100P100N'\",'100P100N'])]\n",
    "\n",
    "# select = select[select['strain']==\"'C2'\"]\n",
    "# # select= merged_df\n",
    "# sns.boxplot(select,x='real_root', y = \"density_Lum\", ax=ax, showfliers=False)\n",
    "# sns.stripplot(select,x='real_root', y = \"density_Lum\", ax=ax, color='green', marker='^',size = 2,)\n",
    "# ax.set_xticklabels(['genotype 1', 'genotype 2'])\n",
    "# ax.set_xlabel(\"Root genotype\")\n",
    "\n",
    "# # for index,row in select.iterrows():\n",
    "# #     ax.text(row['age'],row['speed'],row['unique_id'])\n",
    "# # ax.set_xlabel('')\n",
    "# ax.set_ylabel(\"saturation density \\n ($\\mu m/mm^{2}$)\")\n",
    "# ax.set_ylim(0,4000)\n",
    "# plt.savefig(os.path.join(path_figure,'Figure_rebutal_root.pdf'), transparent=True, bbox_inches='tight')\n",
    "# path_figure = r\"C:\\Users\\coren\\Documents\\PhD\\paper\\PandC\\Fig4\"\n",
    "# plt.style.use('presentation.mplstyle')\n"
   ]
  },
  {
   "cell_type": "code",
   "execution_count": null,
   "id": "82ac2cfa-2ec7-4fa2-9475-9d5db982eb42",
   "metadata": {},
   "outputs": [],
   "source": []
  },
  {
   "cell_type": "code",
   "execution_count": null,
   "id": "81d79220-e411-433f-bcfd-518e0e250a4b",
   "metadata": {
    "tags": []
   },
   "outputs": [],
   "source": [
    "# plt.style.use('presentation2.mplstyle')\n",
    "\n",
    "# df['density_Lum'] = df['density_L'] *1000\n",
    "# path_figure = r'C:\\\\Users\\\\coren\\\\AMOLF-SHIMIZU Dropbox\\\\HFSP_symbiotic-networks\\\\Article_TravellingWave\\\\Supplementary material\\\\extended_data_figures'\n",
    "\n",
    "# width = 1.5\n",
    "# height = 1\n",
    "# # flierprops = dict(markersize=1)\n",
    "# fig,ax = plt.subplots(figsize=(width,height))\n",
    "# select = df[df['real_root'].isin(['Carrot Vasilis','Carrot Toby'])]\n",
    "# select = select[select['fungalC'].isin([\"'100P100N'\",'100P100N'])]\n",
    "\n",
    "# select = select[select['strain']==\"'C2'\"]\n",
    "# # select= merged_df\n",
    "# sns.boxplot(select,x='real_root', y = \"speed\", ax=ax, showfliers=False)\n",
    "# sns.stripplot(select,x='real_root', y = \"speed\", ax=ax, color='green', marker='^',size = 2,)\n",
    "\n",
    "# # for index,row in select.iterrows():\n",
    "# #     ax.text(row['age'],row['speed'],row['unique_id'])\n",
    "# ax.set_xlabel('')\n",
    "# ax.set_ylabel(\"wave speed  \\n ($\\mu m$ $h^{-1}$)\")\n",
    "# # ax.set_ylim(0,4000)\n",
    "# plt.savefig(os.path.join(path_figure,'Figure_rebutal_root_speed.pdf'), transparent=True, bbox_inches='tight')\n",
    "# path_figure = r\"C:\\Users\\coren\\Documents\\PhD\\paper\\PandC\\Fig4\"\n",
    "# plt.style.use('presentation.mplstyle')\n"
   ]
  },
  {
   "cell_type": "code",
   "execution_count": 6,
   "id": "498b1aca-82c1-4c05-8d0e-6e00061effd8",
   "metadata": {},
   "outputs": [
    {
     "data": {
      "text/plain": [
       "<AxesSubplot: xlabel='Root genotype', ylabel='saturation density \\n ($\\\\mu m/mm^{2}$)'>"
      ]
     },
     "execution_count": 6,
     "metadata": {},
     "output_type": "execute_result"
    }
   ],
   "source": [
    "select = final_data[final_data['strain']=='A5']\n",
    "sns.scatterplot(data=select,x='time_since_begin_h',y='tot_length_study',hue = \"unique_id\")\n"
   ]
  },
  {
   "cell_type": "code",
   "execution_count": 7,
   "id": "ac8a2d98-bda8-4d4f-a955-51cad7fdb71a",
   "metadata": {},
   "outputs": [],
   "source": [
    "path_figure = r\"C:\\Users\\coren\\Documents\\PhD\\paper\\PandC\\Fig4\"\n",
    "\n",
    "Vmax = 3.3e-9 #ugP/um2/hour\n",
    "density = 1e-6 #ug/um3\n",
    "dry_wet_ratio = 0.21*1.1\n",
    "carbon_ratio = 0.5\n",
    "carbon_ratio_spore = 0.9\n",
    "dry_wet_ratio_spore = 0.9\n",
    "density_spore = 0.9e-6\n",
    "respiration_ratio = 0.5"
   ]
  },
  {
   "cell_type": "code",
   "execution_count": 8,
   "id": "21f71923-8fc2-4002-941e-fcfda8ff68aa",
   "metadata": {},
   "outputs": [],
   "source": [
    "def calculate_derivative(df, column, new_column, window=1):\n",
    "    # Ensure the DataFrame is sorted by 'unique_id' and 'time_since_begin_h'\n",
    "    df.sort_values(by=['unique_id', 'time_since_begin_h'], inplace=True)\n",
    "    \n",
    "    # Calculate the time difference and value difference over the desired window\n",
    "    df['time_diff'] = df.groupby('unique_id')['time_since_begin_h'].transform(lambda x: x.diff(window)).fillna(0)\n",
    "    df['value_diff'] = df.groupby('unique_id')[column].transform(lambda x: x.diff(window)).fillna(0)\n",
    "\n",
    "    # Calculate the derivative (value difference divided by time difference)\n",
    "    # Be cautious about dividing by zero. If 'time_diff' is 0, set derivative to NaN or handle accordingly.\n",
    "    df[new_column] = df.apply(lambda x: x['value_diff'] / x['time_diff'] if x['time_diff'] != 0 else None, axis=1)\n",
    "\n",
    "    # Drop the helper columns\n",
    "    df.drop(['time_diff', 'value_diff'], axis=1, inplace=True)\n",
    "def calculate_integral(df, column, new_column):\n",
    "    # Calculate the time difference within each group\n",
    "    df.sort_values(by=['unique_id', 'time_since_begin_h'], inplace=True)\n",
    "    df['time_since_begin_hour'] = df['time_since_begin_h']\n",
    "    df['time_diff'] = df.groupby('unique_id')['time_since_begin_hour'].transform(lambda x: x.diff())\n",
    "\n",
    "    # Calculate the average length density within each group\n",
    "    df['avg_length_density'] = df.groupby('unique_id')[column].transform(lambda x: x.rolling(window=2).mean())\n",
    "\n",
    "    # Calculate the \"area\" (using Trapezoidal rule) for each pair of rows within each group\n",
    "    df['area'] = df['time_diff'] * df['avg_length_density']\n",
    "\n",
    "    # Perform the integration (cumulative sum of \"area\") within each group\n",
    "    df[new_column] = df.groupby('unique_id')['area'].transform(lambda x: x.cumsum())\n",
    "\n",
    "    # Drop the helper columns if needed\n",
    "    df.drop(['time_diff', 'avg_length_density', 'area'], axis=1, inplace=True)\n",
    "baseline = final_data[final_data['time_since_begin_h'] == 0]\n",
    "\n",
    "# Step 2: Create a series with spore_volume at time_since_begin_h = 0 for each unique_id\n",
    "baseline_volume = baseline.groupby('unique_id')['spore_volume'].first()\n",
    "final_data['adjusted_spore_volume'] = final_data.groupby('unique_id')['spore_volume'].transform(lambda x: x - baseline_volume[x.name])\n",
    "\n",
    "final_data['totC_hypha'] = final_data['tot_biovolume_study']*density*dry_wet_ratio*carbon_ratio\n",
    "final_data['tot_volume'] = final_data['adjusted_spore_volume']+final_data['tot_biovolume_study']\n",
    "# final_data['tot_volume'] = final_data['adjusted_spore_volume']+final_data['tot_biovolume_study']\n",
    "\n",
    "final_data['totC_spore'] = final_data['adjusted_spore_volume']*density_spore*dry_wet_ratio_spore*carbon_ratio_spore\n",
    "final_data['totC_tot'] = final_data['totC_hypha'] + final_data['totC_spore']\n",
    "calculate_integral(final_data,f'tot_surface_area_study',f'integrated_SA')\n",
    "calculate_derivative(final_data,f'tot_volume',f'derivative_biovolume', window=5)\n",
    "calculate_derivative(final_data,f'derivative_biovolume',f'acceleration_biovolume', window=5)\n",
    "\n",
    "calculate_derivative(final_data,f'tot_volume',f'derivative_tot_biovolume', window=5)\n",
    "\n",
    "\n",
    "\n",
    "# Step 3: Subtract this baseline value from each row's spore_volume\n",
    "final_data['P_rate'] =final_data['tot_surface_area_study']*Vmax\n",
    "final_data['C_rate'] = final_data['derivative_biovolume']*density*dry_wet_ratio*carbon_ratio/respiration_ratio\n",
    "final_data['strain'] = final_data['strain'].replace(\"A5V \",\"A5\")\n",
    "\n",
    "\n",
    "tmax = 60\n",
    "final_data = final_data.reset_index(drop=True)\n",
    "\n",
    "select_data = final_data.loc[final_data['time_since_begin_h_shifted']<=tmax]\n",
    "select_data = select_data.loc[select_data['unique_id']!=44720230821] #gives error\n",
    "\n",
    "select_data = select_data.reset_index(drop=True)\n",
    "\n",
    "max_c_rate_time = select_data.loc[select_data.groupby('unique_id')['C_rate'].idxmax(), ['unique_id', 'time_since_begin_h_shifted']]\n",
    "\n",
    "# Step 2: Merge this information back to the original DataFrame\n",
    "select_data = select_data.merge(max_c_rate_time, on='unique_id', suffixes=('', '_max_c_rate'))\n",
    "num_bin =20\n",
    "select_data['cat_P_rate']= pd.cut(select_data['P_rate'],num_bin)\n",
    "def get_bin_midpoint(bin):\n",
    "    if pd.isna(bin):\n",
    "        return None\n",
    "    lower, upper = bin.left, bin.right\n",
    "    return (lower + upper) / 2\n",
    "\n",
    "select_data['cat_P_rate'] = select_data['cat_P_rate'].apply(get_bin_midpoint)\n",
    "select_data['rootXstrain'] = select_data['real_root']+'_'+select_data['strain']\n",
    "select_data['unique_id_str'] = select_data['unique_id'].astype(str)\n",
    "# Step 3: Filter rows where time_since_begin_h is less than the time at max C_rate\n",
    "# selected_data = final_data[final_data['time_since_begin_h'] < final_data['time_since_begin_h_max_c_rate']]"
   ]
  },
  {
   "cell_type": "code",
   "execution_count": 9,
   "id": "acb91730-e2ae-48a3-82b1-b032928d43a3",
   "metadata": {},
   "outputs": [],
   "source": [
    "# n_colors = len(df['fungus'].unique())\n",
    "\n",
    "# palette = sns.color_palette(\"rainbow\", n_colors)\n",
    "# strain_to_color = dict(zip(df['fungus'].unique(), palette))\n",
    "strain_to_color = {\"C2\": (0.17058823529411765, 0.4946558433997788, 0.9667184042691874),\n",
    " \"A5\": (0.16666666666666663, 0.8660254037844386, 0.8660254037844387),\n",
    " \"Agg\": (0.503921568627451, 0.9999810273487268, 0.7049255469061472),\n",
    " \"Clarum\": (0.8333333333333333, 0.8660254037844387, 0.5000000000000001),\n",
    " \"C3\": (1.0, 0.4946558433997788, 0.2558427775944356)}"
   ]
  },
  {
   "cell_type": "code",
   "execution_count": 10,
   "id": "fd418ac9-8816-478d-9720-939e92114e76",
   "metadata": {
    "tags": []
   },
   "outputs": [
    {
     "name": "stdout",
     "output_type": "stream",
     "text": [
      "2024-06-21 15:56:31,131-[WARNING]- fontTools.subset:2983 -> meta NOT subset; don't know how to subset; dropped\n"
     ]
    },
    {
     "data": {
      "application/vnd.jupyter.widget-view+json": {
       "model_id": "267acc1b49544f20a2dd29d55750490c",
       "version_major": 2,
       "version_minor": 0
      },
      "image/png": "[encoded data removed]",
      "text/html": [
       "\n",
       "            <div style=\"display: inline-block;\">\n",
       "                <div class=\"jupyter-widgets widget-label\" style=\"text-align: center;\">\n",
       "                    Figure\n",
       "                </div>\n",
       "                <img src='data:image/png;base64,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' width=196.85039370078738/>\n",
       "            </div>\n",
       "        "
      ],
      "text/plain": [
       "Canvas(toolbar=Toolbar(toolitems=[('Home', 'Reset original view', 'home', 'home'), ('Back', 'Back to previous …"
      ]
     },
     "metadata": {},
     "output_type": "display_data"
    }
   ],
   "source": [
    "cm = 1/2.54  # centimeters in inches\n",
    "fig,ax = plt.subplots(figsize = (5*cm,5*cm))\n",
    "\n",
    "select = select_data\n",
    "select = select_data[select_data['time_since_begin_h_shifted'] < select_data['time_since_begin_h_shifted_max_c_rate']]\n",
    "select = select[select['C_rate']>1e-2]\n",
    "select = select[select['P_rate']>5e-3]\n",
    "select = select[select['time_hour_binned'] <= 50]\n",
    "select = select[select['real_root']==\"Carrot Vasilis\"]\n",
    "select = select[select['strain']==\"C2\"]\n",
    "grouped = select.groupby('cat_P_rate')\n",
    "filtered_groups = grouped.filter(lambda x: x['unique_id'].nunique() >= 5)\n",
    "select = filtered_groups\n",
    "\n",
    "sns.scatterplot(data=select,x='P_rate',y='C_rate',hue=\"unique_id_str\",s= 20,alpha = 0.6,legend=False,palette = \"viridis\"\n",
    "                # palette=strain_to_color\n",
    "               )\n",
    "# sns.lineplot(data=select,x='cat_P_rate',y='C_rate',hue=\"unique_id_str\",alpha = 0.6,legend=False,\n",
    "#              palette = \"viridis\",\n",
    "#                 errorbar = None# palette=strain_to_color\n",
    "#                )\n",
    "line_style = {\"linewidth\":4}  # Default line style for other types\n",
    "\n",
    "sns.regplot(data=select,x='P_rate',y='C_rate',scatter=False,ci = None,color = 'black', line_kws=line_style)\n",
    "\n",
    "sns.lineplot(data=select,x='cat_P_rate',y='C_rate',estimator = \"mean\",color=\"red\",palette=strain_to_color,hue=\"strain\",linewidth = 4)\n",
    "ax.set_ylabel('$\\Phi_C$ \\n ($\\mu g/h$)')\n",
    "ax.set_xlabel('$\\Phi_P$ ($\\mu g/h$)')\n",
    "# ax.set_xscale(\"log\")\n",
    "# ax.set_yscale(\"log\")\n",
    "\n",
    "plt.legend().remove()\n",
    "\n",
    "plt.savefig(os.path.join(path_figure,'Figure4A.pdf'), transparent=True, bbox_inches='tight')\n"
   ]
  },
  {
   "cell_type": "code",
   "execution_count": 11,
   "id": "39349d4b-b3be-47b1-9943-2de344b1a8ba",
   "metadata": {},
   "outputs": [
    {
     "data": {
      "text/plain": [
       "2.514645334878642"
      ]
     },
     "execution_count": 11,
     "metadata": {},
     "output_type": "execute_result"
    }
   ],
   "source": [
    "from scipy.stats import linregress\n",
    "\n",
    "slope, intercept, r_value, p_value, std_err = linregress(select['P_rate'], select['C_rate'])\n",
    "\n",
    "slope"
   ]
  },
  {
   "cell_type": "code",
   "execution_count": 12,
   "id": "e4048657-487a-43f8-aebc-068c741ecba5",
   "metadata": {},
   "outputs": [
    {
     "data": {
      "text/plain": [
       "array(['C2'], dtype=object)"
      ]
     },
     "execution_count": 12,
     "metadata": {},
     "output_type": "execute_result"
    }
   ],
   "source": [
    "select['strain'].unique()"
   ]
  },
  {
   "cell_type": "code",
   "execution_count": 33,
   "id": "5ef31a86-765e-4dc0-b1e3-358afb57c88a",
   "metadata": {
    "tags": []
   },
   "outputs": [
    {
     "name": "stdout",
     "output_type": "stream",
     "text": [
      "Carrot Toby_Agg 4\n",
      "Carrot Toby_Clarum 4\n",
      "Carrot Toby_A5 9\n",
      "Carrot Vasilis_A5 6\n",
      "Carrot Vasilis_C2 11\n",
      "Carrot Toby_C2 18\n",
      "2024-06-21 16:12:10,138-[WARNING]- fontTools.subset:2983 -> meta NOT subset; don't know how to subset; dropped\n"
     ]
    },
    {
     "data": {
      "application/vnd.jupyter.widget-view+json": {
       "model_id": "199869ae6aee4a06a76094cd8ee50b09",
       "version_major": 2,
       "version_minor": 0
      },
      "image/png": "[encoded data removed]",
      "text/html": [
       "\n",
       "            <div style=\"display: inline-block;\">\n",
       "                <div class=\"jupyter-widgets widget-label\" style=\"text-align: center;\">\n",
       "                    Figure\n",
       "                </div>\n",
       "                <img src='data:image/png;base64,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' width=196.85039370078738/>\n",
       "            </div>\n",
       "        "
      ],
      "text/plain": [
       "Canvas(toolbar=Toolbar(toolitems=[('Home', 'Reset original view', 'home', 'home'), ('Back', 'Back to previous …"
      ]
     },
     "metadata": {},
     "output_type": "display_data"
    }
   ],
   "source": [
    "# n_colors = len(df['fungus'].unique())\n",
    "\n",
    "# palette = sns.color_palette(\"rainbow\", n_colors)\n",
    "# strain_to_color = dict(zip(df['fungus'].unique(), palette))\n",
    "linestyles = ['-',':']\n",
    "root_to_linestyle = {'Carrot Toby': linestyles[0], 'Carrot Vasilis': linestyles[1]}\n",
    "linewidths = [4,6]\n",
    "root_to_linewidth = {'Carrot Toby': linewidths[0], 'Carrot Vasilis': linewidths[1]}\n",
    "select = select_data\n",
    "select = select_data[select_data['time_since_begin_h_shifted'] < select_data['time_since_begin_h_shifted_max_c_rate']]\n",
    "# select = select[select['real_root']=='Carrot Toby']\n",
    "\n",
    "select = select[select['C_rate']>0]\n",
    "select = select[select['fungalC']=='100P/100N/100C']\n",
    "\n",
    "select = select[select['P_rate']<=1.5/22]\n",
    "select = select[select['P_rate']>0]\n",
    "select = select[select['strain']!='C3']\n",
    "\n",
    "# select = select[select['C_rate']>0.01]\n",
    "# select = select[select['P_rate']>0.1]\n",
    "\n",
    "# select = select[select['strain'].isin(['C2','A5','Agg','Clarum'])]\n",
    "select = select[select['real_root'].isin(['Carrot Toby','Carrot Vasilis'])]\n",
    "fig,ax = plt.subplots(figsize = (5*cm,5*cm))\n",
    "\n",
    "# Loop through each category and plot a regplot for each\n",
    "for category in select['rootXstrain'].unique():\n",
    "    subset = select[select['rootXstrain'] == category]\n",
    "    print(category,len(subset['unique_id'].unique()))\n",
    "    fungus = subset['strain'].iloc[0]\n",
    "    real_root = subset['real_root'].iloc[0]  # Extract real_root value from the subset\n",
    "    linestyle = root_to_linestyle[real_root]  # Get the linestyle based on real_root\n",
    "    linewidth = root_to_linewidth[real_root]  # Get the linestyle based on real_root\n",
    "    \n",
    "    grouped = subset.groupby('cat_P_rate')\n",
    "    mini = 2 if fungus!='C3' else 1 \n",
    "    filtered_groups = grouped.filter(lambda x: x['unique_id'].nunique() >= mini)\n",
    "    # sns.scatterplot(data=subset,x='P_rate',y='C_rate',size = 5,alpha = 0.3,legend=False,ax = ax,color=strain_to_color[fungus])\n",
    "    sns.regplot(data=filtered_groups,x='P_rate',y='C_rate',ax=ax,color=strain_to_color[fungus],line_kws={'linestyle' : linestyle,\"alpha\" : 0.7,\"linewidth\": linewidth},scatter = False)\n",
    "\n",
    "    # sns.lineplot(data=subset,x='cat_P_rate',y='C_rate',estimator = \"mean\",ax=ax,color=strain_to_color[fungus],linestyle = linestyle)\n",
    "ax.set_ylabel('$\\Phi_C$ \\n ($\\mu g/h$)')\n",
    "ax.set_xlabel('$\\Phi_P$ ($\\mu g/h$)')\n",
    "# ax.set_xscale('log')\n",
    "# ax.set_yscale('log')\n",
    "# ax.set_xlim(0,0.1)\n",
    "# ax.set_ylim(0,0.5)\n",
    "\n",
    "plt.savefig(os.path.join(path_figure,'Figure4B.pdf'), transparent=True, bbox_inches='tight')\n"
   ]
  },
  {
   "cell_type": "code",
   "execution_count": 26,
   "id": "f2cfafc1-e423-410f-8940-9f9fb0a48f38",
   "metadata": {},
   "outputs": [
    {
     "data": {
      "text/plain": [
       "1612    0.006045\n",
       "1613    0.006019\n",
       "1614    0.006411\n",
       "1615    0.007746\n",
       "1616    0.008476\n",
       "1617    0.008835\n",
       "1618    0.009671\n",
       "1619    0.010599\n",
       "1620    0.010716\n",
       "1621    0.010931\n",
       "1622    0.011670\n",
       "1623    0.012496\n",
       "1624    0.012990\n",
       "1625    0.013670\n",
       "1626    0.014232\n",
       "1627    0.015146\n",
       "1628    0.016509\n",
       "1629    0.016815\n",
       "1630    0.018399\n",
       "1631    0.019394\n",
       "1632    0.020201\n",
       "1633    0.020848\n",
       "1634    0.020521\n",
       "1635    0.021647\n",
       "1636    0.022460\n",
       "1643    0.007523\n",
       "1647    0.007714\n",
       "1648    0.008374\n",
       "1649    0.007986\n",
       "1650    0.008014\n",
       "1651    0.007846\n",
       "Name: P_rate, dtype: float64"
      ]
     },
     "execution_count": 26,
     "metadata": {},
     "output_type": "execute_result"
    }
   ],
   "source": [
    "subset['P_rate']"
   ]
  },
  {
   "cell_type": "code",
   "execution_count": 21,
   "id": "105244fc-d5e4-4c02-9dec-06db013806fc",
   "metadata": {},
   "outputs": [
    {
     "data": {
      "text/plain": [
       "(117371.9504810523, 1831904.156829576)"
      ]
     },
     "execution_count": 21,
     "metadata": {},
     "output_type": "execute_result"
    }
   ],
   "source": [
    "subset['tot_length_study'].iloc[0],subset['tot_surface_area_study'].iloc[0]"
   ]
  },
  {
   "cell_type": "code",
   "execution_count": 25,
   "id": "3c48f934-67db-4187-8a48-d9ef61324a9b",
   "metadata": {},
   "outputs": [
    {
     "data": {
      "text/plain": [
       "0.025148889014957796"
      ]
     },
     "execution_count": 25,
     "metadata": {},
     "output_type": "execute_result"
    }
   ],
   "source": [
    "404300 * np.pi*3*2*Vmax"
   ]
  },
  {
   "cell_type": "code",
   "execution_count": null,
   "id": "41cb3cf3-2552-4995-a36d-20d21b5e8b1c",
   "metadata": {},
   "outputs": [],
   "source": [
    "def zero_regplot(data, x, y, ax, label, scatter=True, n_boot=1000, color=None,linestyle=None):\n",
    "    # Extract x and y data\n",
    "    x_data = data[x]\n",
    "    y_data = data[y]\n",
    "\n",
    "    # Bootstrap resampling\n",
    "    bootstrapped_slopes = []\n",
    "    for _ in range(n_boot):\n",
    "        # Resample with replacement\n",
    "        resampled_indices = np.random.choice(range(len(x_data)), size=len(x_data), replace=True)\n",
    "        resampled_x = x_data.iloc[resampled_indices]\n",
    "        resampled_y = y_data.iloc[resampled_indices]\n",
    "\n",
    "        # Fit a line through the origin\n",
    "        slope = np.sum(resampled_x * resampled_y) / np.sum(resampled_x * resampled_x)\n",
    "        bootstrapped_slopes.append(slope)\n",
    "\n",
    "    # Calculate slope and confidence intervals\n",
    "    bootstrapped_slopes = np.array(bootstrapped_slopes)\n",
    "    slope_estimate = bootstrapped_slopes.mean()\n",
    "    ci_lower = np.nanpercentile(bootstrapped_slopes, 2.5)\n",
    "    ci_upper = np.nanpercentile(bootstrapped_slopes, 97.5)\n",
    "\n",
    "    # Create regression line\n",
    "    x_vals = x_data\n",
    "    y_vals = slope_estimate * x_vals\n",
    "    # Plot\n",
    "    if scatter:\n",
    "        ax.scatter(x_data, y_data, alpha=0.7,s=3,color=color)\n",
    "    ax.plot(x_vals, y_vals, color=color, label=f'{label} Slope: {slope_estimate:.2f}',linestyle=linestyle)\n",
    "    # print(ci_lower , ci_upper ,label)\n",
    "    ax.fill_between(x_vals, ci_lower * x_vals, ci_upper * x_vals, color=color, alpha=0.2)\n",
    "\n",
    "    # Set labels and legend\n",
    "    ax.set_xlabel(x)\n",
    "    ax.set_ylabel(y)\n",
    "    ax.legend()"
   ]
  },
  {
   "cell_type": "code",
   "execution_count": null,
   "id": "7f941959-f2d9-4db5-ab5c-c87316c2bee7",
   "metadata": {},
   "outputs": [],
   "source": [
    "from amftrack.util.sys import get_analysis_folders,get_time_plate_info_from_analysis,get_time_hypha_info_from_analysis,get_global_hypha_info_from_analysis, get_time_plate_info_long_from_analysis\n",
    "all_analysis_folders = get_analysis_folders()\n",
    "#for P\n",
    "plates = [\n",
    "\"416_20230705\",\n",
    "\"427_20230707\",\n",
    "\"420_20230705\",\n",
    "\"431_20230627\",\n",
    "\"474_20230807\",\n",
    "\"460_20230807\",\n",
    "\"464_20230807\",\n",
    "\"440_20230723\",\n",
    "\"436_20230717\",\n",
    "\"443_20230720\",\n",
    "\"439_20230804\",\n",
    "\"470_20230709\",\n",
    "'478_20230814', '468_20230809', '447_20230821', '487_20230922',\n",
    "       '492_20230901', '471_20230821', '486_20231009',\n",
    "       '494_20230908', '482_20230908', '495_20231013', '463_20231013',\n",
    "       '491_20231013', '481_20231005', '483_20231005',\n",
    "    '490_20231003',\n",
    "       '485_20230929',\n",
    "]\n",
    "plates += [\n",
    "\"503_20240129\",\n",
    "# \"507_20240202\",\n",
    "\"517_20240202\",\n",
    "\"518_20240212\",\n",
    "# \"527_20240126\",\n",
    "\"529_20240214\"\n",
    "]\n",
    "analysis_folders = all_analysis_folders.loc[all_analysis_folders['unique_id'].isin(plates)]\n",
    "folders,time_plate_info = get_time_plate_info_long_from_analysis(analysis_folders,False)\n",
    "def calculate_integral(df, column, new_column):\n",
    "    # Calculate the time difference within each group\n",
    "    df['time_since_begin_hour'] = df['time_since_begin_h'].dt.total_seconds() / 3600.0\n",
    "    df['time_diff'] = df.groupby('unique_id')['time_since_begin_hour'].transform(lambda x: x.diff())\n",
    "\n",
    "    # Calculate the average length density within each group\n",
    "    df['avg_length_density'] = df.groupby('unique_id')[column].transform(lambda x: x.rolling(window=2).mean())\n",
    "\n",
    "    # Calculate the \"area\" (using Trapezoidal rule) for each pair of rows within each group\n",
    "    df['area'] = df['time_diff'] * df['avg_length_density']\n",
    "\n",
    "    # Perform the integration (cumulative sum of \"area\") within each group\n",
    "    df[new_column] = df.groupby('unique_id')['area'].transform(lambda x: x.cumsum())\n",
    "\n",
    "    # Drop the helper columns if needed\n",
    "    df.drop(['time_diff', 'avg_length_density', 'area'], axis=1, inplace=True)\n",
    "for i in range(18):\n",
    "    calculate_integral(time_plate_info,f'SA_region_{i}',f'integrated_SA_{i}')\n",
    "for i in range(18):\n",
    "    calculate_integral(time_plate_info,f'length_density_region_{i}',f'integrated_L_{i}')\n"
   ]
  },
  {
   "cell_type": "code",
   "execution_count": null,
   "id": "796d30d9-673e-42da-b54f-b7173bccbc68",
   "metadata": {},
   "outputs": [],
   "source": [
    "analysis_folders"
   ]
  },
  {
   "cell_type": "code",
   "execution_count": null,
   "id": "f5dedaa0-0e24-41da-88e0-d4cd1c9adbf9",
   "metadata": {},
   "outputs": [],
   "source": [
    "C_max2 = 1.53\n",
    "\n",
    "def fit_function(x, C_max):\n",
    "    return 1+C_max * 1/x**(3/2)\n",
    "# Read the Excel file\n",
    "path = r'C:\\Users\\coren\\Documents\\PhD\\Pexperiment'\n",
    "path_excel = os.path.join(path,'summary.xlsx')\n",
    "df_P = pd.read_excel(path_excel)\n",
    "df_P['date_from_unique_id'] = pd.to_datetime(df_P['unique_id'].str.split('_').str[1], format='%Y%m%d')\n",
    "    \n",
    "# Convert 'day' column to datetime\n",
    "df_P['day_sample'] = pd.to_datetime(df_P['day_sample'], format='%Y%m%d')  # Update the format as necessary\n",
    "df_P['day_start'] = pd.to_datetime(df_P['start'], format='%Y%m%d')  # Update the format as necessary\n",
    "\n",
    "df_P['time_elapsed'] = df_P['day_sample'] - df_P['day_start']\n",
    "df_P['time_elapsed_day'] = df_P['time_elapsed'].dt.days\n",
    "df_P['time_since_crossing'] = df_P['day_sample'] - df_P['date_from_unique_id']\n",
    "df_P['t2 (day)'] = df_P['time_since_crossing'].dt.days\n",
    "df_P['t1 (day)'] = df_P['time_elapsed_day']-df_P['t2 (day)']\n",
    "df_P['treatment'] = df_P['treatment'].fillna('none')\n",
    "df_P['wet_weight_measured'] = df_P['wet weight']\n",
    "\n",
    "df_P['wet weight'] = df_P['wet weight']-df_P['lost weight']\n",
    "df_P['totP (ug)'] = df_P['totP (ug)'] * fit_function(df_P['totP (ug)'], C_max2)\n",
    "df_P['Sample_name'] = df_P['Sample_name'].str.replace('bottom','0')\n",
    "df_P['Sample_name'] = df_P['Sample_name'].str.replace('up','1')\n",
    "df_P['Sample_name'] = df_P['Sample_name'].str.replace('top','1')\n",
    "df_P['Sample_name'] = df_P['Sample_name'].str.replace('agar','0')\n",
    "\n",
    "\n",
    "\n",
    "df_P = df_P.loc[df_P['plate']!=487]\n",
    "df_P = df_P.loc[df_P['type'] == 'agar']\n",
    "df_P['pos'] = df_P['Sample_name'].str.split('-').str.get(1).astype(int)"
   ]
  },
  {
   "cell_type": "code",
   "execution_count": null,
   "id": "14fc65c9-0d83-4579-aa5b-418d2e12c40f",
   "metadata": {
    "tags": []
   },
   "outputs": [],
   "source": [
    "from plates import plates as plates2\n",
    "df_sum,smallP = load_all(plates2)\n",
    "smallP['time_since_begin_hour'] = smallP['time_since_begin_h'] / 3600.0\n"
   ]
  },
  {
   "cell_type": "code",
   "execution_count": null,
   "id": "3d7c744e-0aa2-41bf-8e4b-54ceb800280b",
   "metadata": {},
   "outputs": [],
   "source": [
    "def calculate_derivative(df, column, new_column, window=1):\n",
    "    # Ensure the DataFrame is sorted by 'unique_id' and 'time_since_begin_h'\n",
    "    df.sort_values(by=['unique_id', 'time_since_begin_h'], inplace=True)\n",
    "    \n",
    "    # Calculate the time difference and value difference over the desired window\n",
    "    df['time_diff'] = df.groupby('unique_id')['time_since_begin_h'].transform(lambda x: x.diff(window)).fillna(0)\n",
    "    df['value_diff'] = df.groupby('unique_id')[column].transform(lambda x: x.diff(window)).fillna(0)\n",
    "\n",
    "    # Calculate the derivative (value difference divided by time difference)\n",
    "    # Be cautious about dividing by zero. If 'time_diff' is 0, set derivative to NaN or handle accordingly.\n",
    "    df[new_column] = df.apply(lambda x: x['value_diff'] / x['time_diff'] if x['time_diff'] != 0 else None, axis=1)\n",
    "\n",
    "    # Drop the helper columns\n",
    "    df.drop(['time_diff', 'value_diff'], axis=1, inplace=True)\n",
    "def calculate_integral(df, column, new_column):\n",
    "    # Calculate the time difference within each group\n",
    "    df.sort_values(by=['unique_id', 'time_since_begin_h'], inplace=True)\n",
    "    df['time_since_begin_hour'] = df['time_since_begin_h']\n",
    "    df['time_diff'] = df.groupby('unique_id')['time_since_begin_hour'].transform(lambda x: x.diff())\n",
    "\n",
    "    # Calculate the average length density within each group\n",
    "    df['avg_length_density'] = df.groupby('unique_id')[column].transform(lambda x: x.rolling(window=2).mean())\n",
    "\n",
    "    # Calculate the \"area\" (using Trapezoidal rule) for each pair of rows within each group\n",
    "    df['area'] = df['time_diff'] * df['avg_length_density']\n",
    "\n",
    "    # Perform the integration (cumulative sum of \"area\") within each group\n",
    "    df[new_column] = df.groupby('unique_id')['area'].transform(lambda x: x.cumsum())\n",
    "\n",
    "    # Drop the helper columns if needed\n",
    "    df.drop(['time_diff', 'avg_length_density', 'area'], axis=1, inplace=True)\n",
    "final_data = smallP\n",
    "    \n",
    "calculate_integral(final_data,f'tot_surface_area_study',f'integrated_SA')\n",
    "calculate_derivative(final_data,f'tot_biovolume_study',f'derivative_biovolume', window=5)\n",
    "calculate_derivative(final_data,f'tot_volume',f'derivative_tot_biovolume', window=5)\n",
    "\n",
    "Vmax = 3e-9 #ugP/um2/hour\n",
    "density = 1e-6 #ug/um3\n",
    "dry_wet_ratio = 0.3\n",
    "carbon_ratio = 0.5\n",
    "carbon_ratio_spore = 0.9\n",
    "dry_wet_ratio_spore = 0.9\n",
    "density_spore = 0.9e-6\n",
    "respiration_ratio = 0.5\n",
    "final_data['P_rate'] =final_data['tot_surface_area_study']*Vmax\n",
    "final_data['C_rate'] = final_data['derivative_biovolume']*density*dry_wet_ratio*carbon_ratio/respiration_ratio\n",
    "final_data['totC_hypha'] = final_data['tot_biovolume_study']*density*dry_wet_ratio*carbon_ratio\n",
    "final_data['tot_volume'] = final_data['spore_volume']+final_data['tot_biovolume_study']\n",
    "final_data['totC_spore'] = final_data['spore_volume']*density_spore*dry_wet_ratio_spore*carbon_ratio_spore\n",
    "final_data['totC_tot'] = final_data['totC_hypha'] + final_data['totC_spore']\n",
    "\n",
    "final_data = final_data.reset_index(drop=True)\n",
    "final_data_select = final_data.loc[final_data['time_since_begin_h_shifted']<=150]\n",
    "\n",
    "max_c_rate_time = final_data_select.loc[final_data_select.groupby('unique_id')['C_rate'].idxmax(), ['unique_id', 'time_since_begin_h_shifted']]\n",
    "\n",
    "# Step 2: Merge this information back to the original DataFrame\n",
    "final_data = final_data.merge(max_c_rate_time, on='unique_id', suffixes=('', '_max_c_rate'))\n",
    "calculate_derivative(final_data,f'tot_surface_area_study',f'derivative_SA', window=5)\n",
    "calculate_derivative(final_data,f'totC_tot',f'derivative_C', window=5)\n",
    "\n",
    "calculate_derivative(final_data,f'area_sep_comp',f'derivative_area', window=5)\n",
    "final_data['instant_SA_dens'] = final_data['derivative_SA']/final_data['derivative_area']\n",
    "calculate_derivative(final_data,f'tot_biovolume_study',f'derivative_BV', window=5)\n",
    "final_data['instant_BV_dens'] = final_data['derivative_BV']/final_data['derivative_area']\n",
    "calculate_derivative(final_data,f'tot_length_study',f'derivative_L', window=5)\n",
    "final_data['instant_L_dens'] = final_data['derivative_L']/final_data['derivative_area']\n",
    "final_data['instant_C_dens'] = final_data['derivative_C']/final_data['derivative_area']\n",
    "\n",
    "final_data['instant_radius'] = final_data['instant_BV_dens']/final_data['instant_SA_dens']*2\n"
   ]
  },
  {
   "cell_type": "code",
   "execution_count": null,
   "id": "69619d8b-7a4b-4728-8ce2-67f2bcf16f47",
   "metadata": {
    "tags": []
   },
   "outputs": [],
   "source": [
    "selection = final_data[final_data['strain']==\"C2\"]\n",
    "selection = selection[selection['real_root']=='Carrot Vasilis']\n",
    "selection = selection[selection['treatment']==\"1P/100N/100C\"]\n",
    "# selection = selection[~selection['unique_id'].isin([468_20230809])]\n"
   ]
  },
  {
   "cell_type": "code",
   "execution_count": null,
   "id": "440eba6e-4929-4151-b514-4cc149ca2ab3",
   "metadata": {},
   "outputs": [],
   "source": [
    "cm = 1/2.54  # centimeters in inches\n",
    "\n",
    "# selection = df_sum[df_sum['FungalSide']=='0P/100N/100C']\n",
    "selection = final_data[final_data['strain']==\"C2\"]\n",
    "selection = selection[selection['real_root']=='Carrot Vasilis']\n",
    "selection = selection[selection['treatment']==\"1P/100N/100C\"]\n",
    "selection = selection[~selection['unique_id'].isin([468_20230809])]\n",
    "selection= selection[selection['instant_C_dens']>0]\n",
    "selection= selection[selection['instant_C_dens']<=0.025].copy()\n",
    "first_category = selection[\"fungalC\"].unique()[0]\n",
    "# first_category = selection[\"fungalC\"].unique()[1]\n",
    "\n",
    "palette = {category: \"blue\" if category == first_category else \"purple\" for category in selection[\"fungalC\"].unique()}\n",
    "fig,ax = plt.subplots(figsize = (5*cm,5*cm))\n",
    "sns.boxplot(data=selection, y=\"instant_C_dens\", x=\"fungalC\", palette=palette, showfliers=False)\n",
    "sns.stripplot(selection,y=\"instant_C_dens\",x = \"fungalC\",color= \"black\",size=1)\n",
    "ax.set_ylabel('$d_{Carbon}$ ($mm^3/mm^2$)')\n",
    "ax.set_xlabel('$C_{P,0,fungal}$')\n",
    "ax.set_xticklabels(['high', 'low'])\n",
    "plt.savefig(os.path.join(path_figure,'Figure4C.pdf'), transparent=True, bbox_inches='tight')\n",
    "\n",
    "# plt.tight_layout()"
   ]
  },
  {
   "cell_type": "code",
   "execution_count": null,
   "id": "60d1f256-14ca-4a86-97cc-e4a3f26bf276",
   "metadata": {},
   "outputs": [],
   "source": [
    "selection[[\"instant_L_dens\",\"fungalC\"]].to_csv('highlowP.csv')"
   ]
  },
  {
   "cell_type": "code",
   "execution_count": null,
   "id": "e3e10a3c-7d8a-4ae0-87b0-804405aedac1",
   "metadata": {
    "tags": []
   },
   "outputs": [],
   "source": [
    "merged_df = pd.merge(smallP, time_plate_info, on=['folder','unique_id','folder'], how='left')"
   ]
  },
  {
   "cell_type": "code",
   "execution_count": null,
   "id": "77bab2dc-762d-4e3c-bf0b-34a748824b05",
   "metadata": {},
   "outputs": [],
   "source": [
    "slope = -3.3973588349543932e-09"
   ]
  },
  {
   "cell_type": "code",
   "execution_count": null,
   "id": "d4642395-5619-4165-ad53-748159dd14dd",
   "metadata": {},
   "outputs": [],
   "source": [
    "unique_ids = merged_df['unique_id'].unique()\n",
    "unique_ids = ['471_20230821','474_20230807']\n",
    "unique_ids += [\n",
    "\"503_20240129\",\n",
    "# \"507_20240202\",\n",
    "\"517_20240202\",\n",
    "\"518_20240212\",\n",
    "# \"527_20240126\",\n",
    "\"529_20240214\"\n",
    "]\n",
    "fig,ax = plt.subplots()\n",
    "# Loop through each unique ID and plot the data\n",
    "maxCP = 0.5\n",
    "for unique_id in unique_ids:\n",
    "    # Filter the DataFrame for the current unique ID\n",
    "    df_subset = merged_df[merged_df['unique_id'] == int(unique_id)].copy()\n",
    "    # Extract the relevant columns\n",
    "    time_since_begin_h = df_subset['time_since_begin_h_shifted']\n",
    "    select = df_P[df_P['arrangement'] == 'basic']\n",
    "    \n",
    "    for i in range(18):\n",
    "        subselect = select[select['pos']==i+1]\n",
    "        C_P = maxCP+df_subset[f'integrated_SA_{i}']/np.mean(subselect['wet weight'])*slope\n",
    "        # rate_P =  (C_P>0)*(C_P/maxCP)*df_subset[f'SA_region_{i}']*Vmax\n",
    "        rate_P =  (C_P>0)*df_subset[f'SA_region_{i}']*Vmax\n",
    "        \n",
    "        df_subset.loc[df_subset['unique_id'] == int(unique_id), f'C_P_{i}'] = C_P\n",
    "        df_subset.loc[df_subset['unique_id'] == int(unique_id), f'P_rate_{i}'] =rate_P\n",
    "            # Create a plot for the current unique ID\n",
    "        ax.plot(time_since_begin_h, rate_P, label=f'ID {unique_id}')\n",
    "    p_rate_columns = [f'P_rate_{i}' for i in range(18)]\n",
    "    merged_df.loc[merged_df['unique_id'] == int(unique_id), 'sum_P_rate'] = df_subset[p_rate_columns].sum(axis=1)\n",
    "    ax.plot(time_since_begin_h, merged_df.loc[merged_df['unique_id'] == int(unique_id), 'sum_P_rate'], label=f'ID {unique_id}',color=\"black\")\n",
    "    \n",
    "# Identify overlapping columns, excluding the keys used for merging\n",
    "overlapping_columns = [col for col in merged_df.columns if col in final_data.columns and col not in ['folder', 'unique_id', 'time_since_begin_hour']]\n",
    "\n",
    "# Drop these columns from the right dataframe\n",
    "merged_df_dropped = merged_df.drop(columns=overlapping_columns)\n",
    "\n",
    "# Perform the merge\n",
    "select_data_merge = pd.merge(final_data, merged_df_dropped, on=['folder', 'unique_id', 'folder'], how='left')"
   ]
  },
  {
   "cell_type": "code",
   "execution_count": null,
   "id": "4e8aa686-7541-446f-9285-d45d34804f97",
   "metadata": {},
   "outputs": [],
   "source": [
    "n_colors = len(df_sum['fungus'].unique())\n",
    "\n",
    "palette = sns.color_palette(\"rainbow\", n_colors)\n",
    "strain_to_color = dict(zip(df_sum['fungus'].unique(), palette))\n",
    "linestyles = ['-',':']\n",
    "root_to_linestyle = {'Carrot Toby': linestyles[0], 'Carrot Vasilis': linestyles[1]}\n",
    "\n",
    "select = select_data_merge[select_data_merge['time_since_begin_h_shifted'] < select_data_merge['time_since_begin_h_shifted_max_c_rate']]\n",
    "# select = select[select['real_root']=='Carrot Toby']\n",
    "\n",
    "select = select[select['C_rate']>0]\n",
    "\n",
    "select = select[select['P_rate']<=0.1]\n",
    "select = select[select['P_rate']>0]\n",
    "# select = select[select['sum_P_rate']>0]\n",
    "\n",
    "# select = select[select['real_root']=='Carrot Toby']\n",
    "\n",
    "\n",
    "select = select[select['strain'].isin(['C2'])]\n",
    "select = select[select['real_root'].isin(['Carrot Vasilis'])]\n",
    "select = select[~select['unique_id'].isin([468_20230809])]\n",
    "\n",
    "\n",
    "\n",
    "\n",
    "fig,ax = plt.subplots(figsize = (5*cm,5*cm))\n",
    "# fig,ax = plt.subplots()\n",
    "\n",
    "# Loop through each category and plot a regplot for each\n",
    "for category in select['fungalC'].unique():\n",
    "    subset = select[select['fungalC'] == category]\n",
    "    fungus = subset['strain'].iloc[0]\n",
    "    real_root = subset['real_root'].iloc[0]  # Extract real_root value from the subset\n",
    "    linestyle = root_to_linestyle[real_root]  # Get the linestyle based on real_root\n",
    "    if category =='100P/100N/100C':\n",
    "        # zero_regplot(data=subset, x='P_rate', y='C_rate', ax=ax, label=category,scatter =True)\n",
    "        sns.regplot(data=subset, x='P_rate', y='C_rate', ax=ax, label=category,scatter =True,scatter_kws={\"s\":4})\n",
    "        \n",
    "    else:\n",
    "        # zero_regplot(data=subset, x='sum_P_rate', y='C_rate', ax=ax, label=category,scatter =True,color = \"purple\")\n",
    "        sns.regplot(data=subset, x='sum_P_rate', y='C_rate', ax=ax, label=category,scatter =True,scatter_kws={\"s\":4},color=\"purple\")\n",
    "\n",
    "ax.set_ylabel('$\\Phi_C$ ($\\mu g/h$)')\n",
    "ax.set_xlabel('$\\Phi_P$ ($\\mu g/h$)')\n",
    "\n",
    "plt.legend().remove()\n",
    "plt.savefig(os.path.join(path_figure,'Figure4D.pdf'), transparent=True, bbox_inches='tight')\n",
    "\n",
    "# plt.tight_layout()"
   ]
  },
  {
   "cell_type": "code",
   "execution_count": null,
   "id": "7a72dfa0-5551-43f3-8c1b-92a2615b65cc",
   "metadata": {},
   "outputs": [],
   "source": []
  },
  {
   "cell_type": "code",
   "execution_count": null,
   "id": "a0068067-c55b-477e-aeca-dd077f32a53f",
   "metadata": {},
   "outputs": [],
   "source": [
    "\n",
    "n_colors = len(df['fungus'].unique())\n",
    "\n",
    "palette = sns.color_palette(\"rainbow\", n_colors)\n",
    "strain_to_color = dict(zip(df['fungus'].unique(), palette))\n",
    "linestyles = ['-',':']\n",
    "root_to_linestyle = {'Carrot Toby': linestyles[0], 'Carrot Vasilis': linestyles[1]}\n",
    "\n",
    "select = select_data\n",
    "select = select_data[select_data['time_since_begin_h_shifted'] < select_data['time_since_begin_h_shifted_max_c_rate']]\n",
    "# select = select[select['real_root']=='Carrot Toby']\n",
    "\n",
    "select = select[select['C_rate']>0]\n",
    "\n",
    "select = select[select['P_rate']<=1.3]\n",
    "select = select[select['P_rate']>0.1]\n",
    "\n",
    "select = select[select['strain'].isin(['C2'])]\n",
    "select = select[select['real_root'].isin(['Carrot Vasilis'])]\n",
    "fig, ax = plt.subplots()\n",
    "\n",
    "# Loop through each category and plot a regplot for each\n",
    "for category in select['fungalC'].unique():\n",
    "    subset = select[select['fungalC'] == category]\n",
    "\n",
    "    # sns.scatterplot(data=subset,x='P_rate',y='C_rate',size = 5,alpha = 0.3,legend=False,ax = ax,color=strain_to_color[fungus])\n",
    "\n",
    "    sns.lineplot(data=subset,x='cat_P_rate',y='C_rate',estimator = \"mean\",ax=ax)\n",
    "ax.set_ylabel('C expenditure rate ($\\mu g/h$)')\n",
    "ax.set_xlabel('P provision rate ($\\mu g/h$)')\n",
    "# ax.set_xscale('log')\n",
    "# ax.set_yscale('log')\n",
    "# ax.set_ylim(0.02,0.5)\n",
    "plt.tight_layout()\n"
   ]
  },
  {
   "cell_type": "code",
   "execution_count": null,
   "id": "b48d396b-5fc9-4ac5-a6d2-82f641031798",
   "metadata": {},
   "outputs": [],
   "source": []
  },
  {
   "cell_type": "code",
   "execution_count": null,
   "id": "431d89ef-dbb4-4de2-b282-3b2d718105b2",
   "metadata": {
    "tags": []
   },
   "outputs": [],
   "source": [
    "\n",
    "select = select_data\n",
    "select = select_data[select_data['time_since_begin_h_shifted'] < select_data['time_since_begin_h_shifted_max_c_rate']]\n",
    "select = select[select['C_rate']>0]\n",
    "# select = select[select['P_rate']<=3]\n",
    "select = select[select['P_rate']>0]\n",
    "select = select[select['real_root']=='Carrot Toby']\n",
    "\n",
    "\n",
    "\n",
    "\n",
    "fig, ax = plt.subplots()\n",
    "\n",
    "# Loop through each category and plot a regplot for each\n",
    "for category in select['strain'].unique():\n",
    "    subset = select[select['strain'] == category]\n",
    "    grouped = subset.groupby('cat_P_rate')\n",
    "    filtered_groups = grouped.filter(lambda x: x['unique_id'].nunique() >= 2)\n",
    "\n",
    "    sns.lineplot(data=filtered_groups,x='cat_P_rate',y='C_rate',estimator = \"mean\",ax=ax)\n",
    "ax.set_ylabel('C expenditure rate ($\\mu g/h$)')\n",
    "ax.set_xlabel('P provision rate ($\\mu g/h$)')\n",
    "plt.tight_layout()\n"
   ]
  },
  {
   "cell_type": "code",
   "execution_count": null,
   "id": "1e4ff933-51bb-47a5-802d-995f144a43db",
   "metadata": {},
   "outputs": [],
   "source": [
    "n_colors = len(df['fungus'].unique())\n",
    "\n",
    "palette = sns.color_palette(\"rainbow\", n_colors)\n",
    "strain_to_color = dict(zip(df['fungus'].unique(), palette))\n",
    "linestyles = ['-',':']\n",
    "root_to_linestyle = {'Carrot Toby': linestyles[0], 'Carrot Vasilis': linestyles[1]}\n",
    "\n",
    "select = select_data\n",
    "select = select_data[select_data['time_since_begin_h_shifted'] < select_data['time_since_begin_h_shifted_max_c_rate']]\n",
    "# select = select[select['real_root']=='Carrot Toby']\n",
    "\n",
    "# select = select[select['C_rate']>0]\n",
    "select = select[select['fungalC']=='100P/100N/100C']\n",
    "\n",
    "select = select[select['P_rate']<=1.3]\n",
    "# select = select[select['P_rate']>0]\n",
    "\n",
    "# select = select[select['strain'].isin(['C2','A5','Agg','Clarum'])]\n",
    "select = select[select['real_root'].isin(['Carrot Toby','Carrot Vasilis'])]\n",
    "select = select[select['real_root'].isin(['Carrot Toby'])]\n",
    "\n",
    "fig, ax = plt.subplots()\n",
    "\n",
    "# Loop through each category and plot a regplot for each\n",
    "for category in select['rootXstrain'].unique():\n",
    "    subset = select[select['rootXstrain'] == category]\n",
    "    fungus = subset['strain'].iloc[0]\n",
    "    real_root = subset['real_root'].iloc[0]  # Extract real_root value from the subset\n",
    "    linestyle = root_to_linestyle[real_root]  # Get the linestyle based on real_root\n",
    "    grouped = subset.groupby('cat_P_rate')\n",
    "    filtered_groups = grouped.filter(lambda x: x['unique_id'].nunique() >= 2)\n",
    "    # sns.scatterplot(data=subset,x='P_rate',y='C_rate',size = 5,alpha = 0.3,legend=False,ax = ax,color=strain_to_color[fungus])\n",
    "\n",
    "    sns.lineplot(data=filtered_groups,x='cat_P_rate',y='C_rate',estimator = \"mean\",ax=ax,color=strain_to_color[fungus],linestyle = linestyle)\n",
    "    # sns.regplot(data=filtered_groups,x='cat_P_rate',y='C_rate',ax=ax,color=strain_to_color[fungus],ci = None,scatter = False)\n",
    "    \n",
    "ax.set_ylabel('C expenditure rate ($\\mu g/h$)')\n",
    "ax.set_xlabel('P provision rate ($\\mu g/h$)')\n",
    "# ax.set_xscale('log')\n",
    "# ax.set_yscale('log')\n",
    "# ax.set_ylim(0.02,0.5)\n",
    "plt.tight_layout()\n"
   ]
  },
  {
   "cell_type": "code",
   "execution_count": null,
   "id": "c6e7c7ec-46fb-4325-b905-b035d6982bb3",
   "metadata": {},
   "outputs": [],
   "source": [
    "n_colors = len(df['fungus'].unique())\n",
    "\n",
    "palette = sns.color_palette(\"rainbow\", n_colors)\n",
    "strain_to_color = dict(zip(df['fungus'].unique(), palette))\n",
    "linestyles = ['-',':']\n",
    "root_to_linestyle = {'Carrot Toby': linestyles[0], 'Carrot Vasilis': linestyles[1]}\n",
    "\n",
    "select = select_data\n",
    "select = select_data[select_data['time_since_begin_h_shifted'] < select_data['time_since_begin_h_shifted_max_c_rate']]\n",
    "# select = select[select['real_root']=='Carrot Toby']\n",
    "\n",
    "select = select[select['C_rate']>0]\n",
    "select = select[select['P_rate']<=1.5]\n",
    "select = select[select['P_rate']>0]\n",
    "select = select[select['strain'].isin(['C2','A5'])]\n",
    "select = select[select['real_root'].isin(['Carrot Toby','Carrot Vasilis'])]\n",
    "select = select[select['fungalC']=='100P/100N/100C']\n",
    "\n",
    "\n",
    "\n",
    "\n",
    "fig, ax = plt.subplots()\n",
    "\n",
    "# Loop through each category and plot a regplot for each\n",
    "for category in select['rootXstrain'].unique():\n",
    "    subset = select[select['rootXstrain'] == category]\n",
    "    fungus = subset['strain'].iloc[0]\n",
    "    real_root = subset['real_root'].iloc[0]  # Extract real_root value from the subset\n",
    "    linestyle = root_to_linestyle[real_root]  # Get the linestyle based on real_root\n",
    "    zero_regplot(data=subset, x='P_rate', y='C_rate', ax=ax, label=category,scatter =True,color=strain_to_color[fungus],linestyle = linestyle)\n",
    "\n",
    "# Setting labels and legend\n",
    "ax.set_ylabel('C expenditure rate ($\\mu g/h$)')\n",
    "ax.set_xlabel('P provision rate ($\\mu g/h$)')\n",
    "ax.legend(title='Real Root')\n",
    "\n",
    "plt.tight_layout()\n",
    "\n"
   ]
  },
  {
   "cell_type": "code",
   "execution_count": null,
   "id": "a6e88233-b9b7-4778-95a3-e6dd01ff1367",
   "metadata": {
    "tags": []
   },
   "outputs": [],
   "source": [
    "select['fungalC'].unique()"
   ]
  },
  {
   "cell_type": "code",
   "execution_count": null,
   "id": "94635d61-b64d-487c-8892-af39b2deb571",
   "metadata": {},
   "outputs": [],
   "source": [
    "\n",
    "select = select_data\n",
    "select = select_data[select_data['time_since_begin_h_shifted'] < select_data['time_since_begin_h_shifted_max_c_rate']]\n",
    "select = select[select['C_rate']>0]\n",
    "select = select[select['P_rate']<=3]\n",
    "select = select[select['P_rate']>0]\n",
    "select = select[select['real_root']=='Carrot Toby']\n",
    "\n",
    "\n",
    "\n",
    "\n",
    "fig, ax = plt.subplots()\n",
    "\n",
    "# Loop through each category and plot a regplot for each\n",
    "for category in select['strain'].unique():\n",
    "    subset = select[select['strain'] == category]\n",
    "\n",
    "    sns.scatterplot(data=subset,x='P_rate',y='C_rate',size = 5,alpha = 0.3,legend=False,ax = ax)\n",
    "\n",
    "    sns.lineplot(data=subset,x='cat_P_rate',y='C_rate',estimator = \"mean\",ax=ax)\n",
    "ax.set_ylabel('C expenditure rate ($\\mu g/h$)')\n",
    "ax.set_xlabel('P provision rate ($\\mu g/h$)')\n",
    "plt.tight_layout()\n"
   ]
  },
  {
   "cell_type": "code",
   "execution_count": null,
   "id": "0fa074bc-f83a-4dc2-86f4-9340f64d1a2a",
   "metadata": {},
   "outputs": [],
   "source": [
    "from scipy.stats import linregress\n",
    "\n",
    "\n",
    "slopes = []  # to store the slopes for each unique_id\n",
    "lengths = []\n",
    "for unique_id in df['unique_id']:\n",
    "    # Filter the data for the current unique_id\n",
    "    select = select_data[select_data['unique_id'] == int(unique_id)]\n",
    "    select = select[select['time_since_begin_h_shifted'] < select['time_since_begin_h_shifted_max_c_rate']]\n",
    "    select = select[select['C_rate']>0]\n",
    "    # Ensure there are enough data points for regression\n",
    "    if len(select) >= 10:\n",
    "        # Perform linear regression\n",
    "        result = linregress(select['P_rate'], select['C_rate'])\n",
    "        slopes.append(result.slope)\n",
    "    else:\n",
    "        slopes.append(None)  # or some placeholder if there's not enough data\n",
    "    lengths.append(len(select))\n",
    "# Add the slopes to the DataFrame\n",
    "df['slope'] = slopes\n",
    "df['lengths'] = lengths\n",
    "\n",
    "\n",
    "# Your plotting code remains as is, this is just for calculating the slopes\n"
   ]
  },
  {
   "cell_type": "code",
   "execution_count": null,
   "id": "706b873c-6ce8-4f8f-a7bd-e7a6ef4d9270",
   "metadata": {},
   "outputs": [],
   "source": [
    "df['size_point'] = 20\n",
    "marker_symbols = {\n",
    "    \"C2\": 'circle',\n",
    "    \"A5\": 'square',\n",
    "    \"Agg\": 'diamond',\n",
    "    \"Clarum\": 'cross',\n",
    "    \"C3\": 'star',\n",
    "    \n",
    "    \n",
    "    # Add more mappings as needed\n",
    "}\n",
    "\n",
    "# Map the strain to the marker symbol in the DataFrame\n",
    "df['marker'] = df['fungus'].map(marker_symbols)\n",
    "df['FungalSide'] = df['FungalSide'].fillna(\"100P/100N/100C\")\n",
    "df['FungalSide'] = df['FungalSide'].replace(\"100P100N100C\",\"100P/100N/100C\")\n",
    "df['FungalSide'] = df['FungalSide'].replace(\"100P100N100C\",\"100P/100N/100C\")\n",
    "\n",
    "df['treatment'] = df['treatment'].replace(\"1P100N100C\",\"1P/100N/100C\")\n",
    "df['fungus'] = df['fungus'].replace(\"A5sp3\",\"A5\")\n",
    "df['category_combination'] = df[['treatment', 'FungalSide',\"real_root\"]].apply(lambda x: '_'.join(x.astype(str)), axis=1)\n",
    "\n",
    "df['full_category_combination'] = df[['fungus','treatment', 'FungalSide',\"real_root\"]].apply(lambda x: '_'.join(x.astype(str)), axis=1)\n"
   ]
  },
  {
   "cell_type": "code",
   "execution_count": null,
   "id": "fbb14fc6-51f1-4e7e-b991-b0ffc9d9d5ef",
   "metadata": {},
   "outputs": [],
   "source": [
    "import scipy.stats as stats\n",
    "select= df[df['FungalSide']==\"100P/100N/100C\"]\n",
    "select= select[select['slope']>0]\n",
    "# select= select[select['real_root']!=\"Chicorium\"]\n",
    "# select= select[select['fungus']==\"C2\"]\n",
    "\n",
    "\n",
    "# Assuming 'select' is your filtered DataFrame\n",
    "kruskal_result = stats.kruskal(*[group[\"slope\"].values for name, group in select.groupby(\"real_root\")])\n",
    "\n",
    "print(f\"Kruskal-Wallis test result: H-statistic = {kruskal_result.statistic}, p-value = {kruskal_result.pvalue}\")\n"
   ]
  },
  {
   "cell_type": "code",
   "execution_count": null,
   "id": "dd3dfc34-cd03-4b12-92ec-92b03e90d91f",
   "metadata": {},
   "outputs": [],
   "source": [
    "from statsmodels.stats.multicomp import pairwise_tukeyhsd\n",
    "\n",
    "# Assuming 'select' is your DataFrame\n",
    "tukey_result = pairwise_tukeyhsd(endog=select['lengths'], groups=select['real_root'], alpha=0.05)\n",
    "print(tukey_result)\n"
   ]
  },
  {
   "cell_type": "code",
   "execution_count": null,
   "id": "e265c7a2-df2d-4869-946d-f037ca350625",
   "metadata": {},
   "outputs": [],
   "source": [
    "fig, ax = plt.subplots()\n",
    "select= df[df['FungalSide']==\"100P/100N/100C\"]\n",
    "# select= select[select['fungus']==\"C2\"]\n",
    "\n",
    "sns.boxplot(select,x = \"real_root\",y=\"slope\")\n",
    "ax.set_xticklabels(ax.get_xticklabels(), fontsize='small')  # You can adjust 'small' to a specific number if needed"
   ]
  },
  {
   "cell_type": "code",
   "execution_count": null,
   "id": "39399fa5-495b-4760-bb2d-e64c4675f293",
   "metadata": {},
   "outputs": [],
   "source": [
    "fig, ax = plt.subplots()\n",
    "select= df[df['FungalSide']==\"100P/100N/100C\"]\n",
    "# select= select[select['fungus']==\"C2\"]\n",
    "\n",
    "sns.boxplot(select,x = \"real_root\",y=\"lengths\")\n",
    "ax.set_xticklabels(ax.get_xticklabels(), fontsize='small')  # You can adjust 'small' to a specific number if needed"
   ]
  },
  {
   "cell_type": "code",
   "execution_count": null,
   "id": "ed421189-89f8-4b04-8ab2-4acfe2f3728b",
   "metadata": {},
   "outputs": [],
   "source": [
    "import plotly.express as px\n",
    "fig = px.scatter(df, x='speed', y='slope', color='category_combination',\n",
    "                 hover_data=['plate_id',\"fungus\"], size='size_point', symbol='fungus', symbol_map=marker_symbols)\n",
    "fig.update_layout(height=600)  # You can change these values as per your preference\n",
    "# Show the plot\n",
    "fig.show()"
   ]
  },
  {
   "cell_type": "code",
   "execution_count": null,
   "id": "a287fd2e-dda7-4516-bd23-07a2e94eaebd",
   "metadata": {},
   "outputs": [],
   "source": [
    "import plotly.express as px\n",
    "fig = px.scatter(df, x='age', y='slope', color='category_combination',\n",
    "                 hover_data=['plate_id',\"fungus\"], size='size_point', symbol='fungus', symbol_map=marker_symbols)\n",
    "fig.update_layout(height=600)  # You can change these values as per your preference\n",
    "# Show the plot\n",
    "fig.show()"
   ]
  },
  {
   "cell_type": "code",
   "execution_count": null,
   "id": "2fcd4950-ead6-49e3-a21e-e9457ac81b98",
   "metadata": {
    "tags": []
   },
   "outputs": [],
   "source": [
    "# fig, ax = plt.subplots()\n",
    "select = select_data\n",
    "select = select_data[select_data['time_since_begin_h_shifted'] < select_data['time_since_begin_h_shifted_max_c_rate']]\n",
    "select = select[select['C_rate']>0]\n",
    "\n",
    "counts = select.groupby(\"unique_id\").count()['C_rate']\n",
    "ids = counts[counts>10].index\n",
    "select = select[select['unique_id'].isin(ids)]\n",
    "\n",
    "g = sns.FacetGrid(select, col=\"unique_id\", col_wrap=5)\n",
    "g.map_dataframe(sns.regplot, x=\"P_rate\",y='C_rate')"
   ]
  },
  {
   "cell_type": "code",
   "execution_count": null,
   "id": "ddc9fd98-3547-4171-858b-3f835c4bb1e8",
   "metadata": {},
   "outputs": [],
   "source": [
    "from random import choice\n",
    "# select = select_data.loc[select_data['time_since_begin_h_shifted']<=tmax]\n",
    "select = select_data\n",
    "select = select_data[select_data['time_since_begin_h_shifted'] < select_data['time_since_begin_h_shifted_max_c_rate']]\n",
    "select = select[select['C_rate']>0]\n",
    "# select = select[select['acceleration_biovolume']>0]\n",
    "\n",
    "unique_id = choice(select['unique_id'].unique())\n",
    "unique_id = 531_20221222\n",
    "\n",
    "select = select[select['unique_id']==unique_id]\n",
    "fig, ax = plt.subplots()\n",
    "\n",
    "sns.scatterplot(data=select,x='time_since_begin_h_shifted',y='totC_spore',color=\"blue\")\n",
    "sns.scatterplot(data=select,x='time_since_begin_h_shifted',y='totC_hypha',color=\"red\")\n",
    "\n",
    "fig, ax = plt.subplots()\n",
    "\n",
    "sns.scatterplot(data=select,x='time_since_begin_h_shifted',y='C_rate',hue=\"unique_id\")\n",
    "ax.vlines(select[\"time_since_begin_h_shifted_max_c_rate\"].iloc[0],0,0.25)\n",
    "fig, ax = plt.subplots()\n",
    "\n",
    "sns.scatterplot(data=select,x='P_rate',y='C_rate')\n",
    "sns.regplot(data=select,x='P_rate',y='C_rate')"
   ]
  }
 ],
 "metadata": {
  "kernelspec": {
   "display_name": "Python 3 (ipykernel)",
   "language": "python",
   "name": "python3"
  },
  "language_info": {
   "codemirror_mode": {
    "name": "ipython",
    "version": 3
   },
   "file_extension": ".py",
   "mimetype": "text/x-python",
   "name": "python",
   "nbconvert_exporter": "python",
   "pygments_lexer": "ipython3",
   "version": "3.10.6"
  }
 },
 "nbformat": 4,
 "nbformat_minor": 5
}
