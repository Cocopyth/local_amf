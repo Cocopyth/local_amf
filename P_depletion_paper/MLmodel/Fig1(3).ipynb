{
 "cells": [
  {
   "cell_type": "code",
   "execution_count": 1,
   "id": "830276ab-fc6a-474d-959c-38d15d298383",
   "metadata": {
    "tags": []
   },
   "outputs": [
    {
     "name": "stderr",
     "output_type": "stream",
     "text": [
      "2024-07-10 17:30:46.383163: W tensorflow/stream_executor/platform/default/dso_loader.cc:64] Could not load dynamic library 'libcudart.so.11.0'; dlerror: libcudart.so.11.0: cannot open shared object file: No such file or directory\n",
      "2024-07-10 17:30:46.383844: I tensorflow/stream_executor/cuda/cudart_stub.cc:29] Ignore above cudart dlerror if you do not have a GPU set up on your machine.\n",
      "/home/cocopyth/AMFtrack/amftrack/util/dbx.py:3: TqdmExperimentalWarning: Using `tqdm.autonotebook.tqdm` in notebook mode. Use `tqdm.tqdm` instead to force console mode (e.g. in jupyter console)\n",
      "  from tqdm.autonotebook import tqdm\n",
      "2024-07-10 17:31:29.812052: W tensorflow/stream_executor/platform/default/dso_loader.cc:64] Could not load dynamic library 'libcuda.so.1'; dlerror: libcuda.so.1: cannot open shared object file: No such file or directory; LD_LIBRARY_PATH: /home/cocopyth/MasterThesis/ML/lib/python3.9/site-packages/cv2/../../lib64:\n",
      "2024-07-10 17:31:29.813680: W tensorflow/stream_executor/cuda/cuda_driver.cc:269] failed call to cuInit: UNKNOWN ERROR (303)\n",
      "2024-07-10 17:31:29.814145: I tensorflow/stream_executor/cuda/cuda_diagnostics.cc:156] kernel driver does not appear to be running on this host (DESKTOP-DUKJ0UH): /proc/driver/nvidia/version does not exist\n",
      "2024-07-10 17:31:29.821102: I tensorflow/core/platform/cpu_feature_guard.cc:151] This TensorFlow binary is optimized with oneAPI Deep Neural Network Library (oneDNN) to use the following CPU instructions in performance-critical operations:  AVX2 FMA\n",
      "To enable them in other operations, rebuild TensorFlow with the appropriate compiler flags.\n"
     ]
    }
   ],
   "source": [
    "import sys\n",
    "import matplotlib.pyplot as plt\n",
    "import numpy as np\n",
    "sys.path.append(\"/home/cocopyth/MasterThesis/src/\")\n",
    "from make_dataset import *\n",
    "from config import *\n",
    "from model import *\n",
    "from data_prepare import *\n",
    "from sklearn.metrics import mean_squared_error, r2_score\n"
   ]
  },
  {
   "cell_type": "code",
   "execution_count": 2,
   "id": "cbd2f8d3-54dd-447c-9ee6-21b7e80985ee",
   "metadata": {
    "tags": []
   },
   "outputs": [
    {
     "name": "stdout",
     "output_type": "stream",
     "text": [
      "Model: \"sequential\"\n",
      "_________________________________________________________________\n",
      " Layer (type)                Output Shape              Param #   \n",
      "=================================================================\n",
      " rescaling (Rescaling)       (None, 120, 1)            0         \n",
      "                                                                 \n",
      " conv_1 (Conv1D)             (None, 101, 128)          2688      \n",
      "                                                                 \n",
      " conv_2 (Conv1D)             (None, 91, 128)           180352    \n",
      "                                                                 \n",
      " batch_normalization (BatchN  (None, 91, 128)          512       \n",
      " ormalization)                                                   \n",
      "                                                                 \n",
      " dropout (Dropout)           (None, 91, 128)           0         \n",
      "                                                                 \n",
      " flatten (Flatten)           (None, 11648)             0         \n",
      "                                                                 \n",
      " dense_1 (Dense)             (None, 232)               2702568   \n",
      "                                                                 \n",
      " dropout_1 (Dropout)         (None, 232)               0         \n",
      "                                                                 \n",
      " output (Dense)              (None, 1)                 233       \n",
      "                                                                 \n",
      "=================================================================\n",
      "Total params: 2,886,353\n",
      "Trainable params: 2,886,097\n",
      "Non-trainable params: 256\n",
      "_________________________________________________________________\n"
     ]
    }
   ],
   "source": [
    "model_name_list = [\"bin2_BO_without_crop_best_model_val_version\"]\n",
    "crop_value = [120,100,80,120,100,80,100]\n",
    "model_list,learning_rate = load_model_list(model_name_list,model_path)\n",
    "new_model_list = []\n",
    "for index in range(len(model_list)):\n",
    "    config = model_list[index].get_config()\n",
    "    new_model = keras.Sequential().from_config(config)\n",
    "    new_model_list.append(new_model)"
   ]
  },
  {
   "cell_type": "code",
   "execution_count": 3,
   "id": "74fca874-1b77-453d-84d6-aa90940f8de4",
   "metadata": {},
   "outputs": [],
   "source": [
    "plate_ids = ['20230901_Plate310', '20230902_Plate310', '20230903_Plate310',\n",
    "       # '20230904_Plate310', '20230905_Plate310'\n",
    "            ]\n",
    "def load_datasets_antoine(list_ids):\n",
    "    Xs = []\n",
    "    ys = []\n",
    "    for plate_id in list_ids:\n",
    "        X_antoine = np.load(f\"{plate_id}_feature.npy\")\n",
    "        print(len(X_antoine))\n",
    "        y_antoine = np.expand_dims(np.load(f\"{plate_id}_label.npy\"),axis= 1)\n",
    "        Xs.append(X_antoine)\n",
    "        ys.append(y_antoine)\n",
    "    return(np.concatenate(Xs, axis=0),np.concatenate(ys, axis=0))"
   ]
  },
  {
   "cell_type": "code",
   "execution_count": 4,
   "id": "1de9d6cd-0335-439f-8db5-1ca0cd7bdb01",
   "metadata": {},
   "outputs": [
    {
     "name": "stdout",
     "output_type": "stream",
     "text": [
      "76\n",
      "278\n",
      "530\n"
     ]
    }
   ],
   "source": [
    "X_antoine1,y_antoine1 = load_datasets_antoine(plate_ids[:2])\n",
    "X_antoine2,y_antoine2 = load_datasets_antoine(plate_ids[2:])"
   ]
  },
  {
   "cell_type": "code",
   "execution_count": 5,
   "id": "be1c9c74-adf6-4f2d-b2ff-aebab3aa80b5",
   "metadata": {},
   "outputs": [
    {
     "name": "stdout",
     "output_type": "stream",
     "text": [
      "76\n",
      "278\n",
      "530\n"
     ]
    }
   ],
   "source": [
    "X_antoine1,y_antoine1 = load_datasets_antoine(plate_ids[:4])"
   ]
  },
  {
   "cell_type": "code",
   "execution_count": 22,
   "id": "05fc600d-84c0-47a8-93c8-36aa2d8176b6",
   "metadata": {},
   "outputs": [
    {
     "name": "stdout",
     "output_type": "stream",
     "text": [
      "[5.13661485]\n"
     ]
    },
    {
     "data": {
      "text/plain": [
       "[<matplotlib.lines.Line2D at 0x7f97715f7370>]"
      ]
     },
     "execution_count": 22,
     "metadata": {},
     "output_type": "execute_result"
    },
    {
     "data": {
      "image/png": "[encoded data removed]",
      "text/plain": [
       "<Figure size 640x480 with 1 Axes>"
      ]
     },
     "metadata": {},
     "output_type": "display_data"
    }
   ],
   "source": [
    "i = np.random.randint(0,len(y_antoine1))\n",
    "y_antoine1[i]\n",
    "print(y_antoine1[i])\n",
    "fig,ax = plt.subplots()\n",
    "ax.plot(X_antoine1[i])\n"
   ]
  },
  {
   "cell_type": "code",
   "execution_count": 9,
   "id": "6216aa05-8c4f-4423-a115-7246c09fa722",
   "metadata": {},
   "outputs": [
    {
     "data": {
      "text/plain": [
       "(array([  2.,  30.,  77., 115., 107., 194., 211., 110.,  28.,  10.]),\n",
       " array([1.05238331, 1.48639142, 1.92039954, 2.35440765, 2.78841577,\n",
       "        3.22242388, 3.65643199, 4.09044011, 4.52444822, 4.95845634,\n",
       "        5.39246445]),\n",
       " <BarContainer object of 10 artists>)"
      ]
     },
     "execution_count": 9,
     "metadata": {},
     "output_type": "execute_result"
    },
    {
     "data": {
      "image/png": "[encoded data removed]",
      "text/plain": [
       "<Figure size 640x480 with 1 Axes>"
      ]
     },
     "metadata": {},
     "output_type": "display_data"
    }
   ],
   "source": [
    "fig,ax = plt.subplots()\n",
    "ax.hist(y_antoine1.flatten()/2)"
   ]
  },
  {
   "cell_type": "code",
   "execution_count": 26,
   "id": "c501903f-1125-4bdd-a2e7-37dd7765778c",
   "metadata": {},
   "outputs": [
    {
     "name": "stdout",
     "output_type": "stream",
     "text": [
      "Linear Regression RMSE: 0.590618172972564\n",
      "Linear Regression R²: 0.24462611529876344\n"
     ]
    },
    {
     "data": {
      "text/plain": [
       "Text(0, 0.5, '$r_{predicted}$ ($\\\\mu m$)')"
      ]
     },
     "execution_count": 26,
     "metadata": {},
     "output_type": "execute_result"
    },
    {
     "data": {
      "image/png": "[encoded data removed]",
      "text/plain": [
       "<Figure size 204.724x204.724 with 1 Axes>"
      ]
     },
     "metadata": {},
     "output_type": "display_data"
    }
   ],
   "source": [
    "X_train, X_val, y_train, y_val = train_test_split(X_antoine1, y_antoine1, test_size=0.1, random_state=42)\n",
    "\n",
    "linear_model = LinearRegression()\n",
    "linear_model.fit(X_train, y_train)\n",
    "y_pred_linear = linear_model.predict(X_val)\n",
    "\n",
    "# Calculate metrics\n",
    "linear_rmse = np.sqrt(mean_squared_error(y_val/2, y_pred_linear/2))\n",
    "linear_r2 = r2_score(y_val/2, y_pred_linear/2)\n",
    "\n",
    "print(f\"Linear Regression RMSE: {linear_rmse}\")\n",
    "print(f\"Linear Regression R²: {linear_r2}\")\n",
    "y_predict = linear_model.predict(X_val)\n",
    "\n",
    "cm = 1/2.54  # centimeters in inches\n",
    "\n",
    "fig,ax = plt.subplots(figsize = (5.2*cm,5.2*cm))\n",
    "ax.scatter(y_val/2,y_predict/2,s=3,alpha = 0.5)\n",
    "ax.plot([np.min(y_val)/2,np.max(y_val)/2],[np.min(y_val)/2,np.max(y_val)/2],color=\"black\")\n",
    "ax.set_xlabel('$r_{real}$ ($\\mu m$)')\n",
    "ax.set_ylabel('$r_{predicted}$ ($\\mu m$)')"
   ]
  },
  {
   "cell_type": "code",
   "execution_count": 5,
   "id": "8b71427a-d044-47c8-9dac-84485cb66cd6",
   "metadata": {},
   "outputs": [
    {
     "name": "stderr",
     "output_type": "stream",
     "text": [
      "/home/cocopyth/MasterThesis/src/data_prepare.py:62: VisibleDeprecationWarning: Creating an ndarray from ragged nested sequences (which is a list-or-tuple of lists-or-tuples-or ndarrays with different lengths or shapes) is deprecated. If you meant to do this, you must specify 'dtype=object' when creating the ndarray.\n",
      "  X_train_list, y_train_list, X_test_list , y_test_list = np.array(X_train_list), np.array(y_train_list), np.array(X_test_list) , np.array(y_test_list)\n"
     ]
    }
   ],
   "source": [
    "data_list_k = [\"20230111_Plate521\",\"20230111_Plate493\",\"20230109_Plate521\",\"20221116_Plate21\"]\n",
    "data_list_f = [\"varying_lum_and_focus_train\",\"varying_lum_and_focus_test\"]\n",
    "X_train_k, y_train_k, X_test_k , y_test_k = combine_dataset(data_list_k,2)\n",
    "X_train_f, y_train_f, X_test_f , y_test_f = combine_dataset(data_list_f,1)\n",
    "X_train = np.concatenate([X_train_k,X_train_f], axis=0)\n",
    "X_test  = np.concatenate ([X_test_k ,X_test_f] , axis=0)\n",
    "y_train = np.concatenate([y_train_k,y_train_f], axis=0)\n",
    "y_test  = np.concatenate ([y_test_k ,y_test_f] , axis=0)\n",
    "X = np.concatenate([X_train,X_test,X_antoine1], axis=0)\n",
    "y = np.concatenate([y_train,y_test,y_antoine1], axis=0)\n",
    "# X = np.concatenate([X_train,X_test], axis=0)\n",
    "# y = np.concatenate([y_train,y_test], axis=0)\n",
    "data_list_test = [\"20230113_Plate521\"]\n",
    "X1, y1, X2 , y2 = combine_dataset(data_list_test,2)\n",
    "# data_list_f = [\"varying_lum_and_focus_test\"]\n",
    "# X1, y1, X2 , y2  = combine_dataset(data_list_f,1)\n",
    "\n",
    "X_test = np.concatenate([X_antoine2,X1,X2], axis=0)\n",
    "y_test = np.concatenate([y_antoine2,y1,y2], axis=0)\n",
    "# X_test = np.concatenate([X1,X2], axis=0)\n",
    "# y_test = np.concatenate([y1,y2], axis=0)\n",
    "y_test = y_test.reshape(y_test.shape[0],1)"
   ]
  },
  {
   "cell_type": "code",
   "execution_count": 6,
   "id": "f1b3f069-849d-4fc4-aa76-518d21183792",
   "metadata": {},
   "outputs": [],
   "source": [
    "X = X.astype(np.float64)\n",
    "y = y.astype(np.float64)\n",
    "X_train, X_val, y_train, y_val = train_test_split(X, y, test_size=0.1, random_state=42)\n",
    "# X_val, X_test, y_val, y_test = train_test_split(X_val, y_val, test_size=0.5, random_state=42)"
   ]
  },
  {
   "cell_type": "code",
   "execution_count": null,
   "id": "05646565-dc97-41b2-afb0-953ecc68fbcf",
   "metadata": {},
   "outputs": [],
   "source": []
  },
  {
   "cell_type": "code",
   "execution_count": 7,
   "id": "c0d83ebe-2b42-4888-ae2a-4b6fd068182e",
   "metadata": {},
   "outputs": [
    {
     "data": {
      "text/plain": [
       "3341"
      ]
     },
     "execution_count": 7,
     "metadata": {},
     "output_type": "execute_result"
    }
   ],
   "source": [
    "X_test = X_test.astype(np.float64)\n",
    "y_test = y_test.astype(np.float64)\n",
    "len(y)"
   ]
  },
  {
   "cell_type": "code",
   "execution_count": 8,
   "id": "80c95971-3d4a-4384-bf8e-cfc9fc6c81ec",
   "metadata": {
    "tags": []
   },
   "outputs": [
    {
     "data": {
      "text/plain": [
       "Text(0, 0.5, 'count')"
      ]
     },
     "execution_count": 8,
     "metadata": {},
     "output_type": "execute_result"
    },
    {
     "data": {
      "image/png": "[encoded data removed]",
      "text/plain": [
       "<Figure size 204.724x204.724 with 1 Axes>"
      ]
     },
     "metadata": {},
     "output_type": "display_data"
    },
    {
     "data": {
      "image/png": "[encoded data removed]",
      "text/plain": [
       "<Figure size 204.724x204.724 with 1 Axes>"
      ]
     },
     "metadata": {},
     "output_type": "display_data"
    }
   ],
   "source": [
    "path_figure = r\"/mnt/c/Users/coren/Documents/PhD/paper/PandC/Fig1\"\n",
    "\n",
    "cm = 1/2.54  # centimeters in inches\n",
    "\n",
    "fig,ax = plt.subplots(figsize = (5.2*cm,5.2*cm))\n",
    "ax.hist(y/2,20)\n",
    "ax.set_xlim(0,np.max(y/2))\n",
    "ax.set_xlabel('$r_{measured}$ ($\\mu m$)')\n",
    "ax.set_ylabel('count')\n",
    "# plt.savefig(os.path.join(path_figure,'train_valid_set_ditrib.pdf'), transparent=True, bbox_inches='tight')\n",
    "\n",
    "fig,ax = plt.subplots(figsize = (5.2*cm,5.2*cm))\n",
    "ax.hist(y_test/2,20)\n",
    "ax.set_xlim(0,np.max(y/2))\n",
    "ax.set_xlabel('$r_{measured}$ ($\\mu m$)')\n",
    "ax.set_ylabel('count')\n",
    "# plt.savefig(os.path.join(path_figure,'test_set_ditrib.pdf'), transparent=True, bbox_inches='tight')\n"
   ]
  },
  {
   "cell_type": "code",
   "execution_count": 9,
   "id": "f56808c6-c150-4807-a303-231bdf7f20a7",
   "metadata": {},
   "outputs": [
    {
     "data": {
      "text/plain": [
       "Text(0, 0.5, 'count')"
      ]
     },
     "execution_count": 9,
     "metadata": {},
     "output_type": "execute_result"
    },
    {
     "data": {
      "image/png": "[encoded data removed]",
      "text/plain": [
       "<Figure size 204.724x204.724 with 1 Axes>"
      ]
     },
     "metadata": {},
     "output_type": "display_data"
    }
   ],
   "source": [
    "counts, bin_edges = np.histogram(y, bins=20, density=True)\n",
    "bin_edges[0], bin_edges[-1] = -np.inf, np.inf  # To include all possible values\n",
    "\n",
    "# 2. Assign each y_test value to a bin\n",
    "y_test_bin_indices = np.digitize(y_test, bin_edges) - 1\n",
    "\n",
    "# 3. Calculate the proportion of counts for each bin in y\n",
    "total_count = np.sum(counts)\n",
    "proportions = counts / total_count\n",
    "\n",
    "# 4. Sample from y based on these proportions\n",
    "resampled_y_test = []\n",
    "resampled_X_test = []\n",
    "for i, proportion in enumerate(proportions):\n",
    "    bin_count = int(proportion * len(y_test))\n",
    "    bin_indices = np.where(y_test_bin_indices == i)[0]\n",
    "    if len(bin_indices) > 0:\n",
    "        chosen_indices = np.random.choice(bin_indices, bin_count, replace=True)\n",
    "        resampled_y_test.extend(y_test[chosen_indices])\n",
    "        resampled_X_test.extend(X_test[chosen_indices])\n",
    "\n",
    "resampled_y_test = np.array(resampled_y_test)\n",
    "resampled_X_test = np.array(resampled_X_test)\n",
    "\n",
    "resampled_y_test = np.array(resampled_y_test)\n",
    "fig,ax = plt.subplots(figsize = (5.2*cm,5.2*cm))\n",
    "ax.hist(resampled_y_test/2,20)\n",
    "ax.set_xlim(0,np.max(resampled_y_test/2))\n",
    "ax.set_xlabel('$r_{measured}$ ($\\mu m$)')\n",
    "ax.set_ylabel('count')\n",
    "# plt.savefig(os.path.join(path_figure,'test_set_ditrib.pdf'), transparent=True, bbox_inches='tight')\n"
   ]
  },
  {
   "cell_type": "code",
   "execution_count": 10,
   "id": "0a75937e-7529-4bdd-a8f9-d318d309677f",
   "metadata": {},
   "outputs": [
    {
     "data": {
      "text/plain": [
       "1.4701584701028498"
      ]
     },
     "execution_count": 10,
     "metadata": {},
     "output_type": "execute_result"
    }
   ],
   "source": [
    "linear_rmse = mean_squared_error(resampled_y_test/2, [np.mean(resampled_y_test)/2]*len(resampled_y_test))\n",
    "linear_rmse"
   ]
  },
  {
   "cell_type": "code",
   "execution_count": 11,
   "id": "2543e554-c6c9-4976-b7ac-f0cbe005bfe0",
   "metadata": {},
   "outputs": [
    {
     "name": "stdout",
     "output_type": "stream",
     "text": [
      "Linear Regression RMSE: 0.8024588235193718\n",
      "Linear Regression R²: 0.5619926854558438\n"
     ]
    },
    {
     "data": {
      "text/plain": [
       "Text(0, 0.5, '$r_{predicted}$ ($\\\\mu m$)')"
      ]
     },
     "execution_count": 11,
     "metadata": {},
     "output_type": "execute_result"
    },
    {
     "data": {
      "image/png": "[encoded data removed]",
      "text/plain": [
       "<Figure size 204.724x204.724 with 1 Axes>"
      ]
     },
     "metadata": {},
     "output_type": "display_data"
    }
   ],
   "source": [
    "X_train, X_val, y_train, y_val = train_test_split(X, y, test_size=0.1, random_state=42)\n",
    "\n",
    "linear_model = LinearRegression()\n",
    "linear_model.fit(X_train, y_train)\n",
    "y_pred_linear = linear_model.predict(resampled_X_test)\n",
    "\n",
    "# Calculate metrics\n",
    "linear_rmse = np.sqrt(mean_squared_error(resampled_y_test/2, y_pred_linear/2))\n",
    "linear_r2 = r2_score(resampled_y_test/2, y_pred_linear/2)\n",
    "\n",
    "print(f\"Linear Regression RMSE: {linear_rmse}\")\n",
    "print(f\"Linear Regression R²: {linear_r2}\")\n",
    "y_predict = linear_model.predict(resampled_X_test)\n",
    "\n",
    "cm = 1/2.54  # centimeters in inches\n",
    "\n",
    "fig,ax = plt.subplots(figsize = (5.2*cm,5.2*cm))\n",
    "ax.scatter(resampled_y_test/2,y_predict/2,s=3,alpha = 0.5)\n",
    "ax.plot([np.min(y_test)/2,np.max(y_test)/2],[np.min(y_test)/2,np.max(y_test)/2],color=\"black\")\n",
    "ax.set_xlabel('$r_{real}$ ($\\mu m$)')\n",
    "ax.set_ylabel('$r_{predicted}$ ($\\mu m$)')"
   ]
  },
  {
   "cell_type": "code",
   "execution_count": 12,
   "id": "c336162c-a79f-4afc-ae6e-731b43ef0330",
   "metadata": {},
   "outputs": [],
   "source": [
    "model = new_model_list[0]"
   ]
  },
  {
   "cell_type": "code",
   "execution_count": 13,
   "id": "872f9d19-8e9e-4260-a8af-e5d89d3a0875",
   "metadata": {},
   "outputs": [],
   "source": [
    "for layer in model.layers:\n",
    "    if hasattr(layer, 'kernel_initializer') and hasattr(layer, 'bias_initializer'):\n",
    "        layer.kernel_initializer = layer.kernel_initializer\n",
    "        layer.bias_initializer = layer.bias_initializer\n",
    "\n",
    "        if hasattr(layer, 'kernel'):\n",
    "            layer.kernel.assign(layer.kernel_initializer(shape=layer.kernel.shape))\n",
    "        if hasattr(layer, 'bias'):\n",
    "            layer.bias.assign(layer.bias_initializer(shape=layer.bias.shape))\n"
   ]
  },
  {
   "cell_type": "code",
   "execution_count": 14,
   "id": "74c1827e-8cda-49c6-9e86-6b22691b4dfa",
   "metadata": {
    "tags": []
   },
   "outputs": [
    {
     "name": "stdout",
     "output_type": "stream",
     "text": [
      "Model: \"sequential\"\n",
      "_________________________________________________________________\n",
      " Layer (type)                Output Shape              Param #   \n",
      "=================================================================\n",
      " rescaling (Rescaling)       (None, 120, 1)            0         \n",
      "                                                                 \n",
      " conv_1 (Conv1D)             (None, 101, 128)          2688      \n",
      "                                                                 \n",
      " conv_2 (Conv1D)             (None, 91, 128)           180352    \n",
      "                                                                 \n",
      " batch_normalization (BatchN  (None, 91, 128)          512       \n",
      " ormalization)                                                   \n",
      "                                                                 \n",
      " dropout (Dropout)           (None, 91, 128)           0         \n",
      "                                                                 \n",
      " flatten (Flatten)           (None, 11648)             0         \n",
      "                                                                 \n",
      " dense_1 (Dense)             (None, 232)               2702568   \n",
      "                                                                 \n",
      " dropout_1 (Dropout)         (None, 232)               0         \n",
      "                                                                 \n",
      " output (Dense)              (None, 1)                 233       \n",
      "                                                                 \n",
      "=================================================================\n",
      "Total params: 2,886,353\n",
      "Trainable params: 2,886,097\n",
      "Non-trainable params: 256\n",
      "_________________________________________________________________\n"
     ]
    }
   ],
   "source": [
    "model.summary()\n",
    "\n",
    "# # To get more detailed configuration of each layer\n",
    "# for layer in model.layers:\n",
    "#     print(layer.get_config())"
   ]
  },
  {
   "cell_type": "code",
   "execution_count": 16,
   "id": "f0710030-45ca-4d92-8f3f-c76f4b1c86a8",
   "metadata": {},
   "outputs": [
    {
     "data": {
      "text/plain": [
       "(726, 726)"
      ]
     },
     "execution_count": 16,
     "metadata": {},
     "output_type": "execute_result"
    }
   ],
   "source": [
    "len(X_test),len(y_test)"
   ]
  },
  {
   "cell_type": "code",
   "execution_count": 17,
   "id": "d2c3a4b9-33b1-4a9c-9746-6c1c89ab8758",
   "metadata": {
    "collapsed": true,
    "jupyter": {
     "outputs_hidden": true
    },
    "tags": []
   },
   "outputs": [
    {
     "name": "stdout",
     "output_type": "stream",
     "text": [
      "Epoch 1/120\n",
      "94/94 [==============================] - 8s 71ms/step - loss: 1434.6051 - mean_absolute_error: 24.9464 - val_loss: 3626.3750 - val_mean_absolute_error: 44.0525\n",
      "Epoch 2/120\n",
      "94/94 [==============================] - 7s 71ms/step - loss: 787.9048 - mean_absolute_error: 18.7646 - val_loss: 3268.1067 - val_mean_absolute_error: 41.2822\n",
      "Epoch 3/120\n",
      "94/94 [==============================] - 7s 70ms/step - loss: 694.2212 - mean_absolute_error: 17.5332 - val_loss: 2854.6917 - val_mean_absolute_error: 37.7067\n",
      "Epoch 4/120\n",
      "94/94 [==============================] - 6s 68ms/step - loss: 639.9557 - mean_absolute_error: 16.7216 - val_loss: 2359.4797 - val_mean_absolute_error: 33.1723\n",
      "Epoch 5/120\n",
      "94/94 [==============================] - 6s 68ms/step - loss: 605.8947 - mean_absolute_error: 16.0820 - val_loss: 1594.5032 - val_mean_absolute_error: 25.7697\n",
      "Epoch 6/120\n",
      "94/94 [==============================] - 6s 69ms/step - loss: 575.1125 - mean_absolute_error: 15.6950 - val_loss: 1012.1894 - val_mean_absolute_error: 18.9828\n",
      "Epoch 7/120\n",
      "94/94 [==============================] - 6s 69ms/step - loss: 558.0189 - mean_absolute_error: 15.2425 - val_loss: 711.0596 - val_mean_absolute_error: 15.8968\n",
      "Epoch 8/120\n",
      "94/94 [==============================] - 7s 72ms/step - loss: 537.5060 - mean_absolute_error: 15.0651 - val_loss: 609.5583 - val_mean_absolute_error: 14.8727\n",
      "Epoch 9/120\n",
      "94/94 [==============================] - 7s 72ms/step - loss: 526.7025 - mean_absolute_error: 14.7810 - val_loss: 584.3072 - val_mean_absolute_error: 14.9669\n",
      "Epoch 10/120\n",
      "94/94 [==============================] - 7s 74ms/step - loss: 532.0562 - mean_absolute_error: 14.8002 - val_loss: 584.4581 - val_mean_absolute_error: 15.1448\n",
      "Epoch 11/120\n",
      "94/94 [==============================] - 7s 69ms/step - loss: 506.3239 - mean_absolute_error: 14.4303 - val_loss: 569.3229 - val_mean_absolute_error: 15.0726\n",
      "Epoch 12/120\n",
      "94/94 [==============================] - 6s 69ms/step - loss: 505.6425 - mean_absolute_error: 14.3230 - val_loss: 572.3008 - val_mean_absolute_error: 14.3735\n",
      "Epoch 13/120\n",
      "94/94 [==============================] - 7s 74ms/step - loss: 505.1398 - mean_absolute_error: 14.3757 - val_loss: 564.6937 - val_mean_absolute_error: 16.1193\n",
      "Epoch 14/120\n",
      "94/94 [==============================] - 7s 75ms/step - loss: 482.5009 - mean_absolute_error: 13.8684 - val_loss: 568.5568 - val_mean_absolute_error: 15.5792\n",
      "Epoch 15/120\n",
      "94/94 [==============================] - 7s 72ms/step - loss: 491.5840 - mean_absolute_error: 14.1078 - val_loss: 519.8769 - val_mean_absolute_error: 14.2860\n",
      "Epoch 16/120\n",
      "94/94 [==============================] - 7s 75ms/step - loss: 466.5922 - mean_absolute_error: 13.8110 - val_loss: 528.5068 - val_mean_absolute_error: 14.1489\n",
      "Epoch 17/120\n",
      "94/94 [==============================] - 7s 76ms/step - loss: 476.8765 - mean_absolute_error: 13.7965 - val_loss: 532.5819 - val_mean_absolute_error: 13.9917\n",
      "Epoch 18/120\n",
      "94/94 [==============================] - 7s 72ms/step - loss: 478.3560 - mean_absolute_error: 13.9041 - val_loss: 513.1075 - val_mean_absolute_error: 14.3120\n",
      "Epoch 19/120\n",
      "94/94 [==============================] - 7s 74ms/step - loss: 455.6341 - mean_absolute_error: 13.4564 - val_loss: 494.9850 - val_mean_absolute_error: 13.7773\n",
      "Epoch 20/120\n",
      "94/94 [==============================] - 7s 79ms/step - loss: 448.5643 - mean_absolute_error: 13.2700 - val_loss: 490.7619 - val_mean_absolute_error: 13.9647\n",
      "Epoch 21/120\n",
      "94/94 [==============================] - 7s 77ms/step - loss: 448.4975 - mean_absolute_error: 13.4586 - val_loss: 492.5127 - val_mean_absolute_error: 13.3942\n",
      "Epoch 22/120\n",
      "94/94 [==============================] - 7s 79ms/step - loss: 464.8058 - mean_absolute_error: 13.5264 - val_loss: 520.4316 - val_mean_absolute_error: 13.4760\n",
      "Epoch 23/120\n",
      "94/94 [==============================] - 7s 74ms/step - loss: 455.5500 - mean_absolute_error: 13.4954 - val_loss: 491.2375 - val_mean_absolute_error: 13.1392\n",
      "Epoch 24/120\n",
      "94/94 [==============================] - 7s 76ms/step - loss: 455.2226 - mean_absolute_error: 13.4162 - val_loss: 498.4366 - val_mean_absolute_error: 13.1780\n",
      "Epoch 25/120\n",
      "94/94 [==============================] - 8s 81ms/step - loss: 450.5657 - mean_absolute_error: 13.2606 - val_loss: 474.9715 - val_mean_absolute_error: 13.3727\n",
      "Epoch 26/120\n",
      "94/94 [==============================] - 7s 79ms/step - loss: 433.0968 - mean_absolute_error: 13.2934 - val_loss: 481.6378 - val_mean_absolute_error: 13.7018\n",
      "Epoch 27/120\n",
      "94/94 [==============================] - 7s 75ms/step - loss: 433.4242 - mean_absolute_error: 13.0515 - val_loss: 469.0027 - val_mean_absolute_error: 13.0298\n",
      "Epoch 28/120\n",
      "94/94 [==============================] - 7s 79ms/step - loss: 441.6874 - mean_absolute_error: 13.2266 - val_loss: 458.0134 - val_mean_absolute_error: 13.2936\n",
      "Epoch 29/120\n",
      "94/94 [==============================] - 8s 80ms/step - loss: 439.9407 - mean_absolute_error: 13.1719 - val_loss: 472.2301 - val_mean_absolute_error: 13.4239\n",
      "Epoch 30/120\n",
      "94/94 [==============================] - 8s 81ms/step - loss: 422.2337 - mean_absolute_error: 12.9204 - val_loss: 469.1991 - val_mean_absolute_error: 13.5494\n",
      "Epoch 31/120\n",
      "94/94 [==============================] - 7s 79ms/step - loss: 418.2336 - mean_absolute_error: 12.9162 - val_loss: 483.3361 - val_mean_absolute_error: 14.2844\n",
      "Epoch 32/120\n",
      "94/94 [==============================] - 8s 81ms/step - loss: 420.1396 - mean_absolute_error: 12.7222 - val_loss: 542.9531 - val_mean_absolute_error: 13.6319\n",
      "Epoch 33/120\n",
      "94/94 [==============================] - 8s 83ms/step - loss: 431.5741 - mean_absolute_error: 13.0112 - val_loss: 445.1965 - val_mean_absolute_error: 13.1557\n",
      "Epoch 34/120\n",
      "94/94 [==============================] - 7s 77ms/step - loss: 403.1979 - mean_absolute_error: 12.4703 - val_loss: 447.7133 - val_mean_absolute_error: 12.8008\n",
      "Epoch 35/120\n",
      "94/94 [==============================] - 7s 69ms/step - loss: 405.0742 - mean_absolute_error: 12.6353 - val_loss: 468.3185 - val_mean_absolute_error: 12.9218\n",
      "Epoch 36/120\n",
      "94/94 [==============================] - 7s 73ms/step - loss: 404.7710 - mean_absolute_error: 12.5945 - val_loss: 464.8886 - val_mean_absolute_error: 14.1098\n",
      "Epoch 37/120\n",
      "94/94 [==============================] - 8s 81ms/step - loss: 402.9405 - mean_absolute_error: 12.5525 - val_loss: 438.3532 - val_mean_absolute_error: 12.9641\n",
      "Epoch 38/120\n",
      "94/94 [==============================] - 8s 82ms/step - loss: 412.7751 - mean_absolute_error: 12.6617 - val_loss: 456.6944 - val_mean_absolute_error: 12.4397\n",
      "Epoch 39/120\n",
      "94/94 [==============================] - 7s 70ms/step - loss: 406.3289 - mean_absolute_error: 12.5399 - val_loss: 438.3046 - val_mean_absolute_error: 13.1225\n",
      "Epoch 40/120\n",
      "94/94 [==============================] - 7s 72ms/step - loss: 403.6221 - mean_absolute_error: 12.5392 - val_loss: 430.6926 - val_mean_absolute_error: 13.0045\n",
      "Epoch 41/120\n",
      "94/94 [==============================] - 7s 69ms/step - loss: 395.0704 - mean_absolute_error: 12.4331 - val_loss: 477.4957 - val_mean_absolute_error: 13.9045\n",
      "Epoch 42/120\n",
      "94/94 [==============================] - 7s 71ms/step - loss: 398.1761 - mean_absolute_error: 12.4469 - val_loss: 421.8272 - val_mean_absolute_error: 12.3969\n",
      "Epoch 43/120\n",
      "94/94 [==============================] - 7s 71ms/step - loss: 398.4065 - mean_absolute_error: 12.2501 - val_loss: 425.2634 - val_mean_absolute_error: 12.4183\n",
      "Epoch 44/120\n",
      "94/94 [==============================] - 8s 82ms/step - loss: 388.2663 - mean_absolute_error: 12.3338 - val_loss: 423.7495 - val_mean_absolute_error: 12.7074\n",
      "Epoch 45/120\n",
      "94/94 [==============================] - 8s 83ms/step - loss: 395.9149 - mean_absolute_error: 12.3374 - val_loss: 457.7658 - val_mean_absolute_error: 12.3489\n",
      "Epoch 46/120\n",
      "94/94 [==============================] - 7s 78ms/step - loss: 370.7508 - mean_absolute_error: 11.9997 - val_loss: 426.8888 - val_mean_absolute_error: 12.0124\n",
      "Epoch 47/120\n",
      "94/94 [==============================] - 8s 90ms/step - loss: 377.7003 - mean_absolute_error: 12.2433 - val_loss: 429.9278 - val_mean_absolute_error: 12.6757\n",
      "Epoch 48/120\n",
      "94/94 [==============================] - 9s 94ms/step - loss: 371.8248 - mean_absolute_error: 12.0027 - val_loss: 421.9429 - val_mean_absolute_error: 12.7713\n",
      "Epoch 49/120\n",
      "94/94 [==============================] - 7s 73ms/step - loss: 380.6798 - mean_absolute_error: 12.1870 - val_loss: 417.3974 - val_mean_absolute_error: 11.9696\n",
      "Epoch 50/120\n",
      "94/94 [==============================] - 8s 86ms/step - loss: 366.8553 - mean_absolute_error: 12.0497 - val_loss: 439.6542 - val_mean_absolute_error: 12.6446\n",
      "Epoch 51/120\n",
      "94/94 [==============================] - 7s 76ms/step - loss: 368.6861 - mean_absolute_error: 12.1060 - val_loss: 424.7222 - val_mean_absolute_error: 12.7464\n",
      "Epoch 52/120\n",
      "94/94 [==============================] - 7s 72ms/step - loss: 371.8232 - mean_absolute_error: 12.1031 - val_loss: 409.4960 - val_mean_absolute_error: 12.1503\n",
      "Epoch 53/120\n",
      "94/94 [==============================] - 7s 76ms/step - loss: 367.5285 - mean_absolute_error: 11.8565 - val_loss: 457.8868 - val_mean_absolute_error: 12.3223\n",
      "Epoch 54/120\n",
      "94/94 [==============================] - 7s 71ms/step - loss: 369.1208 - mean_absolute_error: 12.0802 - val_loss: 423.0734 - val_mean_absolute_error: 12.5636\n",
      "Epoch 55/120\n",
      "94/94 [==============================] - 7s 74ms/step - loss: 355.5405 - mean_absolute_error: 11.7914 - val_loss: 411.9991 - val_mean_absolute_error: 11.9760\n",
      "Epoch 56/120\n",
      "94/94 [==============================] - 7s 69ms/step - loss: 360.8451 - mean_absolute_error: 11.7979 - val_loss: 417.5599 - val_mean_absolute_error: 12.4003\n",
      "Epoch 57/120\n",
      "94/94 [==============================] - 7s 78ms/step - loss: 347.2818 - mean_absolute_error: 11.6029 - val_loss: 431.4579 - val_mean_absolute_error: 12.6024\n",
      "Epoch 58/120\n",
      "94/94 [==============================] - 7s 80ms/step - loss: 360.5131 - mean_absolute_error: 11.7473 - val_loss: 429.4342 - val_mean_absolute_error: 12.0622\n",
      "Epoch 59/120\n",
      "94/94 [==============================] - 7s 74ms/step - loss: 345.8080 - mean_absolute_error: 11.5728 - val_loss: 413.2007 - val_mean_absolute_error: 11.7806\n",
      "Epoch 60/120\n",
      "94/94 [==============================] - 7s 76ms/step - loss: 338.9008 - mean_absolute_error: 11.3927 - val_loss: 410.5852 - val_mean_absolute_error: 12.2625\n",
      "Epoch 61/120\n",
      "94/94 [==============================] - 7s 75ms/step - loss: 339.6697 - mean_absolute_error: 11.4040 - val_loss: 415.5540 - val_mean_absolute_error: 12.0388\n",
      "Epoch 62/120\n",
      "94/94 [==============================] - 8s 82ms/step - loss: 342.1266 - mean_absolute_error: 11.3782 - val_loss: 407.5190 - val_mean_absolute_error: 11.7513\n",
      "Epoch 63/120\n",
      "94/94 [==============================] - 7s 78ms/step - loss: 341.9740 - mean_absolute_error: 11.4305 - val_loss: 416.2885 - val_mean_absolute_error: 11.8156\n",
      "Epoch 64/120\n",
      "94/94 [==============================] - 7s 76ms/step - loss: 325.8972 - mean_absolute_error: 11.3211 - val_loss: 420.0364 - val_mean_absolute_error: 12.0289\n",
      "Epoch 65/120\n",
      "94/94 [==============================] - 7s 70ms/step - loss: 336.4064 - mean_absolute_error: 11.3637 - val_loss: 421.8123 - val_mean_absolute_error: 12.1900\n",
      "Epoch 66/120\n",
      "94/94 [==============================] - 7s 73ms/step - loss: 338.9867 - mean_absolute_error: 11.4752 - val_loss: 444.3362 - val_mean_absolute_error: 13.5384\n",
      "Epoch 67/120\n",
      "94/94 [==============================] - 7s 71ms/step - loss: 335.8522 - mean_absolute_error: 11.3579 - val_loss: 393.7579 - val_mean_absolute_error: 12.0334\n",
      "Epoch 68/120\n",
      "94/94 [==============================] - 7s 72ms/step - loss: 319.5327 - mean_absolute_error: 11.1608 - val_loss: 428.0092 - val_mean_absolute_error: 11.9256\n",
      "Epoch 69/120\n",
      "94/94 [==============================] - 7s 71ms/step - loss: 328.8884 - mean_absolute_error: 11.3101 - val_loss: 380.8628 - val_mean_absolute_error: 11.6610\n",
      "Epoch 70/120\n",
      "94/94 [==============================] - 7s 76ms/step - loss: 308.4172 - mean_absolute_error: 10.8393 - val_loss: 388.0414 - val_mean_absolute_error: 11.7448\n",
      "Epoch 71/120\n",
      "94/94 [==============================] - 7s 71ms/step - loss: 322.1159 - mean_absolute_error: 11.1211 - val_loss: 392.1055 - val_mean_absolute_error: 11.8434\n",
      "Epoch 72/120\n",
      "94/94 [==============================] - 8s 80ms/step - loss: 315.3876 - mean_absolute_error: 10.9466 - val_loss: 407.2504 - val_mean_absolute_error: 11.6666\n",
      "Epoch 73/120\n",
      "94/94 [==============================] - 8s 88ms/step - loss: 318.1305 - mean_absolute_error: 11.0486 - val_loss: 404.2062 - val_mean_absolute_error: 12.4636\n",
      "Epoch 74/120\n",
      "94/94 [==============================] - 8s 82ms/step - loss: 323.9465 - mean_absolute_error: 11.2337 - val_loss: 386.9319 - val_mean_absolute_error: 11.4333\n",
      "Epoch 75/120\n",
      "94/94 [==============================] - 7s 79ms/step - loss: 305.5197 - mean_absolute_error: 10.8851 - val_loss: 384.2472 - val_mean_absolute_error: 11.2484\n",
      "Epoch 76/120\n",
      "94/94 [==============================] - 7s 71ms/step - loss: 321.5301 - mean_absolute_error: 11.1067 - val_loss: 375.2122 - val_mean_absolute_error: 11.4023\n",
      "Epoch 77/120\n",
      "94/94 [==============================] - 7s 73ms/step - loss: 295.5825 - mean_absolute_error: 10.8501 - val_loss: 382.0226 - val_mean_absolute_error: 11.7001\n",
      "Epoch 78/120\n",
      "94/94 [==============================] - 7s 78ms/step - loss: 310.2311 - mean_absolute_error: 10.8620 - val_loss: 374.5796 - val_mean_absolute_error: 11.5341\n",
      "Epoch 79/120\n",
      "94/94 [==============================] - 7s 71ms/step - loss: 305.4435 - mean_absolute_error: 10.9313 - val_loss: 389.1856 - val_mean_absolute_error: 11.4502\n",
      "Epoch 80/120\n",
      "94/94 [==============================] - 7s 71ms/step - loss: 308.1195 - mean_absolute_error: 10.9618 - val_loss: 367.7510 - val_mean_absolute_error: 11.4108\n",
      "Epoch 81/120\n",
      "94/94 [==============================] - 7s 71ms/step - loss: 291.6479 - mean_absolute_error: 10.8158 - val_loss: 387.1277 - val_mean_absolute_error: 11.8629\n",
      "Epoch 82/120\n",
      "94/94 [==============================] - 7s 71ms/step - loss: 297.7697 - mean_absolute_error: 10.7443 - val_loss: 375.8719 - val_mean_absolute_error: 11.3723\n",
      "Epoch 83/120\n",
      "94/94 [==============================] - 7s 71ms/step - loss: 287.2015 - mean_absolute_error: 10.5472 - val_loss: 372.4083 - val_mean_absolute_error: 11.5603\n",
      "Epoch 84/120\n",
      "94/94 [==============================] - 9s 95ms/step - loss: 278.7614 - mean_absolute_error: 10.3765 - val_loss: 371.5770 - val_mean_absolute_error: 11.7293\n",
      "Epoch 85/120\n",
      "94/94 [==============================] - 11s 116ms/step - loss: 292.9382 - mean_absolute_error: 10.7642 - val_loss: 412.4048 - val_mean_absolute_error: 12.6516\n",
      "Epoch 86/120\n",
      "94/94 [==============================] - 10s 101ms/step - loss: 302.0720 - mean_absolute_error: 10.8575 - val_loss: 381.9019 - val_mean_absolute_error: 11.2655\n",
      "Epoch 87/120\n",
      "94/94 [==============================] - 9s 96ms/step - loss: 280.3179 - mean_absolute_error: 10.4604 - val_loss: 367.2641 - val_mean_absolute_error: 11.0888\n",
      "Epoch 88/120\n",
      "94/94 [==============================] - 8s 89ms/step - loss: 290.7456 - mean_absolute_error: 10.7723 - val_loss: 382.5779 - val_mean_absolute_error: 11.7493\n",
      "Epoch 89/120\n",
      "94/94 [==============================] - 8s 84ms/step - loss: 274.8607 - mean_absolute_error: 10.4356 - val_loss: 396.4554 - val_mean_absolute_error: 11.9504\n",
      "Epoch 90/120\n",
      "94/94 [==============================] - 7s 76ms/step - loss: 290.2572 - mean_absolute_error: 10.5937 - val_loss: 395.4953 - val_mean_absolute_error: 11.3126\n",
      "Epoch 91/120\n",
      "94/94 [==============================] - 7s 72ms/step - loss: 286.6269 - mean_absolute_error: 10.5142 - val_loss: 384.5263 - val_mean_absolute_error: 11.7179\n",
      "Epoch 92/120\n",
      "94/94 [==============================] - 7s 75ms/step - loss: 288.8936 - mean_absolute_error: 10.7174 - val_loss: 380.9473 - val_mean_absolute_error: 12.1415\n",
      "Epoch 93/120\n",
      "94/94 [==============================] - 7s 73ms/step - loss: 276.7328 - mean_absolute_error: 10.2752 - val_loss: 374.0239 - val_mean_absolute_error: 11.6147\n",
      "Epoch 94/120\n",
      "94/94 [==============================] - 7s 72ms/step - loss: 275.3744 - mean_absolute_error: 10.3765 - val_loss: 364.6861 - val_mean_absolute_error: 11.6342\n",
      "Epoch 95/120\n",
      "94/94 [==============================] - 7s 72ms/step - loss: 265.1005 - mean_absolute_error: 10.2875 - val_loss: 386.1309 - val_mean_absolute_error: 11.7677\n",
      "Epoch 96/120\n",
      "94/94 [==============================] - 7s 79ms/step - loss: 280.5600 - mean_absolute_error: 10.4404 - val_loss: 398.4315 - val_mean_absolute_error: 12.4306\n",
      "Epoch 97/120\n",
      "94/94 [==============================] - 8s 85ms/step - loss: 272.8051 - mean_absolute_error: 10.3039 - val_loss: 372.7590 - val_mean_absolute_error: 11.1991\n",
      "Epoch 98/120\n",
      "94/94 [==============================] - 7s 78ms/step - loss: 265.3309 - mean_absolute_error: 10.1122 - val_loss: 384.9462 - val_mean_absolute_error: 12.2024\n",
      "Epoch 99/120\n",
      "94/94 [==============================] - 7s 79ms/step - loss: 267.5952 - mean_absolute_error: 10.3208 - val_loss: 358.8980 - val_mean_absolute_error: 11.6812\n",
      "Epoch 100/120\n",
      "94/94 [==============================] - 7s 75ms/step - loss: 271.7318 - mean_absolute_error: 10.4078 - val_loss: 374.1496 - val_mean_absolute_error: 11.3695\n",
      "Epoch 101/120\n",
      "94/94 [==============================] - 7s 73ms/step - loss: 258.1332 - mean_absolute_error: 9.9447 - val_loss: 373.7088 - val_mean_absolute_error: 11.2539\n",
      "Epoch 102/120\n",
      "94/94 [==============================] - 7s 79ms/step - loss: 267.8072 - mean_absolute_error: 10.2052 - val_loss: 371.8013 - val_mean_absolute_error: 11.2693\n",
      "Epoch 103/120\n",
      "94/94 [==============================] - 8s 82ms/step - loss: 252.9307 - mean_absolute_error: 9.8644 - val_loss: 377.9226 - val_mean_absolute_error: 11.7445\n",
      "Epoch 104/120\n",
      "94/94 [==============================] - 8s 90ms/step - loss: 253.4240 - mean_absolute_error: 9.9443 - val_loss: 361.9654 - val_mean_absolute_error: 11.1794\n",
      "Epoch 105/120\n",
      "94/94 [==============================] - 7s 77ms/step - loss: 257.2086 - mean_absolute_error: 9.9224 - val_loss: 377.3391 - val_mean_absolute_error: 11.5135\n",
      "Epoch 106/120\n",
      "94/94 [==============================] - 7s 77ms/step - loss: 247.4980 - mean_absolute_error: 9.9414 - val_loss: 367.8124 - val_mean_absolute_error: 11.2003\n",
      "Epoch 107/120\n",
      "94/94 [==============================] - 7s 70ms/step - loss: 254.4455 - mean_absolute_error: 10.0345 - val_loss: 367.2813 - val_mean_absolute_error: 11.2364\n",
      "Epoch 1/120\n",
      "24/24 [==============================] - 7s 254ms/step - loss: 235.4759 - mean_absolute_error: 9.5521 - val_loss: 359.1996 - val_mean_absolute_error: 11.1284\n",
      "Epoch 2/120\n",
      "24/24 [==============================] - 5s 210ms/step - loss: 235.5896 - mean_absolute_error: 9.4397 - val_loss: 357.4818 - val_mean_absolute_error: 11.0515\n",
      "Epoch 3/120\n",
      "24/24 [==============================] - 5s 222ms/step - loss: 226.9720 - mean_absolute_error: 9.3373 - val_loss: 356.9492 - val_mean_absolute_error: 11.0353\n",
      "Epoch 4/120\n",
      "24/24 [==============================] - 5s 222ms/step - loss: 224.4435 - mean_absolute_error: 9.3463 - val_loss: 356.1758 - val_mean_absolute_error: 11.0177\n",
      "Epoch 5/120\n",
      "24/24 [==============================] - 5s 212ms/step - loss: 223.0653 - mean_absolute_error: 9.2540 - val_loss: 356.6902 - val_mean_absolute_error: 11.0006\n",
      "Epoch 6/120\n",
      "24/24 [==============================] - 6s 239ms/step - loss: 223.5433 - mean_absolute_error: 9.1222 - val_loss: 355.0702 - val_mean_absolute_error: 10.9547\n",
      "Epoch 7/120\n",
      "24/24 [==============================] - 5s 199ms/step - loss: 224.7152 - mean_absolute_error: 9.2496 - val_loss: 356.1161 - val_mean_absolute_error: 11.0143\n",
      "Epoch 8/120\n",
      "24/24 [==============================] - 5s 190ms/step - loss: 217.5460 - mean_absolute_error: 9.3488 - val_loss: 355.0873 - val_mean_absolute_error: 10.9931\n",
      "Epoch 9/120\n",
      "24/24 [==============================] - 5s 222ms/step - loss: 217.2294 - mean_absolute_error: 9.2649 - val_loss: 354.0341 - val_mean_absolute_error: 10.9680\n",
      "Epoch 10/120\n",
      "24/24 [==============================] - 5s 196ms/step - loss: 229.7839 - mean_absolute_error: 9.3390 - val_loss: 356.8200 - val_mean_absolute_error: 10.9946\n",
      "Epoch 11/120\n",
      "24/24 [==============================] - 5s 201ms/step - loss: 229.1414 - mean_absolute_error: 9.3119 - val_loss: 355.3393 - val_mean_absolute_error: 10.9718\n",
      "Epoch 12/120\n",
      "24/24 [==============================] - 6s 232ms/step - loss: 214.2373 - mean_absolute_error: 9.1877 - val_loss: 358.3467 - val_mean_absolute_error: 11.0127\n",
      "Epoch 13/120\n",
      "24/24 [==============================] - 6s 256ms/step - loss: 214.8237 - mean_absolute_error: 9.1614 - val_loss: 356.7450 - val_mean_absolute_error: 10.9889\n",
      "Epoch 14/120\n",
      "24/24 [==============================] - 5s 229ms/step - loss: 217.9460 - mean_absolute_error: 9.1471 - val_loss: 355.5363 - val_mean_absolute_error: 10.9677\n",
      "Epoch 15/120\n",
      "24/24 [==============================] - 5s 220ms/step - loss: 220.4838 - mean_absolute_error: 9.1768 - val_loss: 355.2868 - val_mean_absolute_error: 10.9495\n",
      "Epoch 16/120\n",
      "24/24 [==============================] - 5s 210ms/step - loss: 228.4315 - mean_absolute_error: 9.3392 - val_loss: 357.0428 - val_mean_absolute_error: 10.9778\n",
      "Epoch 17/120\n",
      "24/24 [==============================] - 5s 218ms/step - loss: 211.8162 - mean_absolute_error: 9.0062 - val_loss: 355.5851 - val_mean_absolute_error: 10.9390\n",
      "Epoch 18/120\n",
      "24/24 [==============================] - 5s 195ms/step - loss: 221.0295 - mean_absolute_error: 9.1980 - val_loss: 354.2858 - val_mean_absolute_error: 10.9474\n",
      "Epoch 19/120\n",
      "24/24 [==============================] - 5s 217ms/step - loss: 216.0212 - mean_absolute_error: 9.1398 - val_loss: 356.0882 - val_mean_absolute_error: 10.9527\n",
      "Epoch 20/120\n",
      "24/24 [==============================] - 6s 259ms/step - loss: 224.5526 - mean_absolute_error: 9.2304 - val_loss: 359.0678 - val_mean_absolute_error: 11.0126\n",
      "Epoch 21/120\n",
      "24/24 [==============================] - 6s 249ms/step - loss: 218.2701 - mean_absolute_error: 9.1137 - val_loss: 356.7581 - val_mean_absolute_error: 10.9413\n",
      "Epoch 22/120\n",
      "24/24 [==============================] - 5s 216ms/step - loss: 228.5872 - mean_absolute_error: 9.4060 - val_loss: 357.9102 - val_mean_absolute_error: 10.9775\n",
      "Epoch 23/120\n",
      "24/24 [==============================] - 5s 198ms/step - loss: 215.8064 - mean_absolute_error: 9.0977 - val_loss: 357.3040 - val_mean_absolute_error: 10.9925\n",
      "Epoch 24/120\n",
      "24/24 [==============================] - 5s 198ms/step - loss: 221.5504 - mean_absolute_error: 9.2270 - val_loss: 357.2834 - val_mean_absolute_error: 10.9634\n",
      "Epoch 25/120\n",
      "24/24 [==============================] - 5s 223ms/step - loss: 214.4784 - mean_absolute_error: 9.0864 - val_loss: 356.2101 - val_mean_absolute_error: 10.9328\n",
      "Epoch 26/120\n",
      "24/24 [==============================] - 5s 227ms/step - loss: 220.9957 - mean_absolute_error: 9.1923 - val_loss: 357.1731 - val_mean_absolute_error: 10.9607\n",
      "Epoch 27/120\n",
      "24/24 [==============================] - 5s 214ms/step - loss: 217.9916 - mean_absolute_error: 9.2037 - val_loss: 358.0192 - val_mean_absolute_error: 11.0149\n",
      "Epoch 28/120\n",
      "24/24 [==============================] - 5s 213ms/step - loss: 222.9653 - mean_absolute_error: 9.1457 - val_loss: 358.1801 - val_mean_absolute_error: 11.0002\n",
      "Epoch 29/120\n",
      "24/24 [==============================] - 5s 210ms/step - loss: 221.6243 - mean_absolute_error: 9.2104 - val_loss: 356.4524 - val_mean_absolute_error: 11.0218\n",
      "Epoch 30/120\n",
      "24/24 [==============================] - 6s 235ms/step - loss: 217.6369 - mean_absolute_error: 9.1172 - val_loss: 355.9888 - val_mean_absolute_error: 11.0025\n",
      "Epoch 31/120\n",
      "24/24 [==============================] - 5s 214ms/step - loss: 213.9026 - mean_absolute_error: 9.0563 - val_loss: 355.0845 - val_mean_absolute_error: 10.9742\n",
      "Epoch 32/120\n",
      "24/24 [==============================] - 5s 211ms/step - loss: 214.8697 - mean_absolute_error: 9.1099 - val_loss: 356.8267 - val_mean_absolute_error: 11.0038\n",
      "Epoch 33/120\n",
      "24/24 [==============================] - 5s 194ms/step - loss: 217.1699 - mean_absolute_error: 9.1091 - val_loss: 357.5104 - val_mean_absolute_error: 11.0243\n",
      "Epoch 34/120\n",
      "24/24 [==============================] - 5s 197ms/step - loss: 212.8008 - mean_absolute_error: 9.1549 - val_loss: 354.9577 - val_mean_absolute_error: 10.9750\n",
      "Epoch 35/120\n",
      "24/24 [==============================] - 5s 193ms/step - loss: 209.2859 - mean_absolute_error: 9.0618 - val_loss: 354.9757 - val_mean_absolute_error: 10.9570\n",
      "Epoch 1/120\n",
      "24/24 [==============================] - 6s 208ms/step - loss: 216.9107 - mean_absolute_error: 9.0878 - val_loss: 355.2817 - val_mean_absolute_error: 10.9602\n",
      "Epoch 2/120\n",
      "24/24 [==============================] - 5s 201ms/step - loss: 211.4242 - mean_absolute_error: 9.0557 - val_loss: 355.2750 - val_mean_absolute_error: 10.9628\n",
      "Epoch 3/120\n",
      "24/24 [==============================] - 5s 218ms/step - loss: 219.2343 - mean_absolute_error: 9.1045 - val_loss: 354.9245 - val_mean_absolute_error: 10.9552\n",
      "Epoch 4/120\n",
      "24/24 [==============================] - 5s 207ms/step - loss: 216.6161 - mean_absolute_error: 9.0190 - val_loss: 354.9724 - val_mean_absolute_error: 10.9555\n",
      "Epoch 5/120\n",
      "24/24 [==============================] - 5s 194ms/step - loss: 210.6897 - mean_absolute_error: 9.1175 - val_loss: 354.8948 - val_mean_absolute_error: 10.9494\n",
      "Epoch 6/120\n",
      "24/24 [==============================] - 5s 192ms/step - loss: 222.9361 - mean_absolute_error: 9.1147 - val_loss: 354.9656 - val_mean_absolute_error: 10.9672\n",
      "Epoch 7/120\n",
      "24/24 [==============================] - 5s 195ms/step - loss: 224.4160 - mean_absolute_error: 9.1706 - val_loss: 355.2864 - val_mean_absolute_error: 10.9754\n",
      "Epoch 8/120\n",
      "24/24 [==============================] - 5s 213ms/step - loss: 215.7983 - mean_absolute_error: 9.0989 - val_loss: 355.2322 - val_mean_absolute_error: 10.9763\n",
      "Epoch 9/120\n",
      "24/24 [==============================] - 5s 197ms/step - loss: 219.5147 - mean_absolute_error: 9.0835 - val_loss: 355.3087 - val_mean_absolute_error: 10.9828\n",
      "Epoch 10/120\n",
      "24/24 [==============================] - 5s 201ms/step - loss: 221.6425 - mean_absolute_error: 9.2745 - val_loss: 355.3846 - val_mean_absolute_error: 10.9737\n",
      "Epoch 11/120\n",
      "24/24 [==============================] - 5s 192ms/step - loss: 213.0512 - mean_absolute_error: 9.0914 - val_loss: 355.3874 - val_mean_absolute_error: 10.9684\n",
      "Epoch 12/120\n",
      "24/24 [==============================] - 5s 194ms/step - loss: 216.6338 - mean_absolute_error: 9.1031 - val_loss: 355.2003 - val_mean_absolute_error: 10.9679\n",
      "Epoch 13/120\n",
      "24/24 [==============================] - 5s 190ms/step - loss: 211.4075 - mean_absolute_error: 8.8706 - val_loss: 355.4447 - val_mean_absolute_error: 10.9725\n",
      "Epoch 14/120\n",
      "24/24 [==============================] - 5s 197ms/step - loss: 225.1216 - mean_absolute_error: 9.2679 - val_loss: 355.2928 - val_mean_absolute_error: 10.9725\n",
      "Epoch 15/120\n",
      "24/24 [==============================] - 5s 191ms/step - loss: 218.4328 - mean_absolute_error: 9.2243 - val_loss: 355.5795 - val_mean_absolute_error: 10.9740\n"
     ]
    }
   ],
   "source": [
    "X_train, X_val, y_train, y_val = train_test_split(X, y, test_size=0.1, random_state=42)\n",
    "# X_val, X_test, y_val, y_test = train_test_split(X_val, y_val, test_size=0.5, random_state=42)\n",
    "train_feature = X_train\n",
    "train_label   = y_train**2\n",
    "val_feature  = X_val\n",
    "val_label    = y_val**2\n",
    "learning_rate_value=0.0001\n",
    "crop_size=120\n",
    "batch_size=32\n",
    "epochs=120\n",
    "model.compile(\n",
    "    optimizer=tf.keras.optimizers.Adam(learning_rate=learning_rate_value),\n",
    "    loss=\"mean_squared_error\",\n",
    "    metrics=\"mean_absolute_error\")\n",
    "history = model.fit(\n",
    "                x=data_preparation(train_feature,crop_size),\n",
    "                y=train_label,\n",
    "                epochs=epochs,\n",
    "                batch_size=batch_size,\n",
    "                verbose=1,\n",
    "                validation_data=(data_preparation(val_feature,crop_size), val_label),\n",
    "                callbacks=[tf.keras.callbacks.EarlyStopping(monitor=\"val_mean_absolute_error\",min_delta=1e-3,patience=20)])\n",
    "learning_rate_value=0.00001\n",
    "crop_size=120\n",
    "batch_size=128\n",
    "epochs=120\n",
    "model.compile(\n",
    "    optimizer=tf.keras.optimizers.Adam(learning_rate=learning_rate_value),\n",
    "    loss=\"mean_squared_error\",\n",
    "    metrics=\"mean_absolute_error\")\n",
    "history = model.fit(\n",
    "                x=data_preparation(train_feature,crop_size),\n",
    "                y=train_label,\n",
    "                epochs=epochs,\n",
    "                batch_size=batch_size,\n",
    "                verbose=1,\n",
    "                validation_data=(data_preparation(val_feature,crop_size), val_label),\n",
    "                callbacks=[tf.keras.callbacks.EarlyStopping(monitor=\"val_mean_absolute_error\",min_delta=1e-3,patience=10)])\n",
    "learning_rate_value=0.000001\n",
    "model.compile(\n",
    "    optimizer=tf.keras.optimizers.Adam(learning_rate=learning_rate_value),\n",
    "    loss=\"mean_squared_error\",\n",
    "    metrics=\"mean_absolute_error\")\n",
    "history = model.fit(\n",
    "                x=data_preparation(train_feature,crop_size),\n",
    "                y=train_label,\n",
    "                epochs=epochs,\n",
    "                batch_size=batch_size,\n",
    "                verbose=1,\n",
    "                validation_data=(data_preparation(val_feature,crop_size), val_label),\n",
    "                callbacks=[tf.keras.callbacks.EarlyStopping(monitor=\"val_mean_absolute_error\",min_delta=1e-3,patience=10)])"
   ]
  },
  {
   "cell_type": "code",
   "execution_count": 18,
   "id": "5bac682c-32ea-4fd3-b13c-402465211804",
   "metadata": {},
   "outputs": [
    {
     "name": "stderr",
     "output_type": "stream",
     "text": [
      "/tmp/ipykernel_5340/597065071.py:4: RuntimeWarning: invalid value encountered in sqrt\n",
      "  y_predict2 = np.sqrt(model.predict(X))\n",
      "/tmp/ipykernel_5340/597065071.py:5: RuntimeWarning: invalid value encountered in sqrt\n",
      "  y_predict3 = np.sqrt(model.predict(X_val))\n"
     ]
    }
   ],
   "source": [
    "plt.style.use('presentation.mplstyle')\n",
    "\n",
    "y_predict = np.sqrt(model.predict(X_test))\n",
    "y_predict2 = np.sqrt(model.predict(X))\n",
    "y_predict3 = np.sqrt(model.predict(X_val))\n",
    "for A in [y_predict,y_predict2,y_predict3]:\n",
    "    A[np.isnan(A)] = 0"
   ]
  },
  {
   "cell_type": "code",
   "execution_count": 19,
   "id": "6a865127-16ab-4ca6-8921-410c764cb5ed",
   "metadata": {},
   "outputs": [],
   "source": [
    "# y_test = np.sqrt(y_test)\n",
    "# y_val = np.sqrt(y_val)"
   ]
  },
  {
   "cell_type": "code",
   "execution_count": 20,
   "id": "3641fdbc-3dca-40cd-b31e-dce8b77f6410",
   "metadata": {
    "tags": []
   },
   "outputs": [
    {
     "name": "stdout",
     "output_type": "stream",
     "text": [
      "Group 1: RMSE = 1.0607136938195123\n",
      "Group 2: RMSE = 0.48591677792065335\n",
      "Group 3: RMSE = 0.8473649695154096\n",
      "Group 4: RMSE = 0.8674584834414131\n",
      "Group 5: RMSE = 0.3726487332770772\n",
      "Group 6: RMSE = 0.4935285386856907\n",
      "Group 7: RMSE = 0.6218112509557864\n",
      "Group 8: RMSE = 0.8525804549068143\n"
     ]
    },
    {
     "data": {
      "image/png": "[encoded data removed]",
      "text/plain": [
       "<Figure size 204.724x204.724 with 1 Axes>"
      ]
     },
     "metadata": {},
     "output_type": "display_data"
    }
   ],
   "source": [
    "y_predict4 = np.sqrt(model.predict(resampled_X_test))\n",
    "y_predict4[np.isnan(y_predict4)] = 10\n",
    "path_figure = r\"/mnt/c/Users/coren/Documents/PhD/paper/PandC/Fig1\"\n",
    "\n",
    "cm = 1/2.54  # centimeters in inches\n",
    "\n",
    "fig,ax = plt.subplots(figsize = (5.2*cm,5.2*cm))\n",
    "ax.scatter(resampled_y_test/2,y_predict4/2,s=3,alpha = 0.2)\n",
    "ax.plot([0,np.max(resampled_y_test)/2],[0,np.max(resampled_y_test)/2],color=\"black\")\n",
    "ax.set_xlabel('$r_{real}$ ($\\mu m$)',fontsize = 20)\n",
    "ax.set_ylabel('$r_{predicted}$ ($\\mu m$)',fontsize = 20)\n",
    "ax.tick_params(axis='x', labelsize=15)\n",
    "ax.tick_params(axis='y', labelsize=15)\n",
    "\n",
    "# plt.savefig(os.path.join(path_figure,'pred_GT.pdf'), transparent=True, bbox_inches='tight')\n",
    "\n",
    "import numpy as np\n",
    "\n",
    "# Assuming resampled_y_test and y_predict4 are defined as numpy arrays\n",
    "\n",
    "# Step 1: Determine the min and max of the predicted values to create intervals\n",
    "min_pred = np.min(y_predict4)\n",
    "max_pred = np.max(y_predict4)\n",
    "intervals = np.linspace(min_pred, max_pred, 9)  # Creates 6 intervals\n",
    "\n",
    "# Step 2 & 3: Assign to groups and compute RMSE for each group\n",
    "group_rmse = []\n",
    "for i in range(8):\n",
    "    # Identify the indices of the predictions that fall into the current interval\n",
    "    indices = np.where((y_predict4 >= intervals[i]) & (y_predict4 < intervals[i+1]))[0]\n",
    "    # Extract the real and predicted values for these indices\n",
    "    real_values = resampled_y_test[indices]\n",
    "    predicted_values = y_predict4[indices]\n",
    "    # Compute RMSE for this group\n",
    "    rmse = np.sqrt(np.mean((real_values - predicted_values) ** 2))\n",
    "    group_rmse.append(rmse)\n",
    "\n",
    "# group_rmse now contains the RMSE for each of the 6 groups\n",
    "\n",
    "# Optionally, print or return the RMSE values\n",
    "for i, rmse in enumerate(group_rmse, 1):\n",
    "    print(f\"Group {i}: RMSE = {rmse/2}\")\n",
    "# plt.savefig(os.path.join(path_figure,'pred_test.pdf'), transparent=True, bbox_inches='tight')\n"
   ]
  },
  {
   "cell_type": "code",
   "execution_count": 21,
   "id": "671e530d-9548-4500-9228-8965691f32c2",
   "metadata": {},
   "outputs": [
    {
     "data": {
      "text/plain": [
       "array([ 2.44393921,  4.08468568,  5.72543216,  7.36617863,  9.00692511,\n",
       "       10.64767158, 12.28841805, 13.92916453, 15.569911  ])"
      ]
     },
     "execution_count": 21,
     "metadata": {},
     "output_type": "execute_result"
    }
   ],
   "source": [
    "intervals"
   ]
  },
  {
   "cell_type": "code",
   "execution_count": 22,
   "id": "e388c094-40df-4821-911d-7e61b02d7afc",
   "metadata": {},
   "outputs": [],
   "source": [
    "np.save(\"intervals\",intervals)\n",
    "np.save(\"rmses\",group_rmse)"
   ]
  },
  {
   "cell_type": "code",
   "execution_count": 23,
   "id": "620ff591-0242-4b6a-8a2c-c13a3b4e425e",
   "metadata": {},
   "outputs": [
    {
     "data": {
      "text/plain": [
       "Text(0, 0.5, '$r_{predicted}$ ($\\\\mu m$)')"
      ]
     },
     "execution_count": 23,
     "metadata": {},
     "output_type": "execute_result"
    },
    {
     "data": {
      "image/png": "[encoded data removed]",
      "text/plain": [
       "<Figure size 204.724x204.724 with 1 Axes>"
      ]
     },
     "metadata": {},
     "output_type": "display_data"
    }
   ],
   "source": [
    "path_figure = r\"/mnt/c/Users/coren/Documents/PhD/paper/PandC/Fig1\"\n",
    "\n",
    "cm = 1/2.54  # centimeters in inches\n",
    "\n",
    "fig,ax = plt.subplots(figsize = (5.2*cm,5.2*cm))\n",
    "ax.scatter(y_val/2,y_predict3/2,s=3,alpha = 0.2)\n",
    "\n",
    "ax.plot([0,np.max(y_test)/2],[0,np.max(y_test)/2],color=\"black\")\n",
    "ax.set_xlabel('$r_{real}$ ($\\mu m$)')\n",
    "ax.set_ylabel('$r_{predicted}$ ($\\mu m$)')\n",
    "# ax.set_xlim()\n",
    "# ax.set_ylim()\n",
    "# plt.savefig(os.path.join(path_figure,'pred_GT.pdf'), transparent=True, bbox_inches='tight')\n"
   ]
  },
  {
   "cell_type": "code",
   "execution_count": 24,
   "id": "1de6e2fa-346d-434b-b3ef-f9f9c9e75327",
   "metadata": {},
   "outputs": [
    {
     "data": {
      "text/plain": [
       "Text(0, 0.5, '$r_{predicted}$ ($\\\\mu m$)')"
      ]
     },
     "execution_count": 24,
     "metadata": {},
     "output_type": "execute_result"
    },
    {
     "data": {
      "image/png": "[encoded data removed]",
      "text/plain": [
       "<Figure size 204.724x204.724 with 1 Axes>"
      ]
     },
     "metadata": {},
     "output_type": "display_data"
    }
   ],
   "source": [
    "path_figure = r\"/mnt/c/Users/coren/Documents/PhD/paper/PandC/Fig1\"\n",
    "\n",
    "cm = 1/2.54  # centimeters in inches\n",
    "\n",
    "fig,ax = plt.subplots(figsize = (5.2*cm,5.2*cm))\n",
    "ax.scatter(y_test/2,y_predict/2,s=3,alpha = 0.2)\n",
    "ax.plot([0,np.max(y_test)/2],[0,np.max(y_test)/2],color=\"black\")\n",
    "ax.set_xlabel('$r_{real}$ ($\\mu m$)')\n",
    "ax.set_ylabel('$r_{predicted}$ ($\\mu m$)')\n",
    "# ax.set_xlim()\n",
    "# ax.set_ylim()\n",
    "# plt.savefig(os.path.join(path_figure,'pred_GT.pdf'), transparent=True, bbox_inches='tight')\n"
   ]
  },
  {
   "cell_type": "code",
   "execution_count": 25,
   "id": "a799927a-e01a-4c27-8081-1fc5bbdf47fd",
   "metadata": {
    "tags": []
   },
   "outputs": [
    {
     "name": "stdout",
     "output_type": "stream",
     "text": [
      "2.13653132190183\n",
      "3.204796982852745\n",
      "4.27306264380366\n",
      "5.341328304754574\n",
      "6.409593965705489\n",
      "7.477859626656405\n"
     ]
    },
    {
     "data": {
      "text/plain": [
       "<matplotlib.collections.PolyCollection at 0x7f3bb4b6de50>"
      ]
     },
     "execution_count": 25,
     "metadata": {},
     "output_type": "execute_result"
    },
    {
     "data": {
      "image/png": "[encoded data removed]",
      "text/plain": [
       "<Figure size 204.724x204.724 with 1 Axes>"
      ]
     },
     "metadata": {},
     "output_type": "display_data"
    }
   ],
   "source": [
    "path_figure = r\"/mnt/c/Users/coren/Documents/PhD/paper/PandC/Fig1\"\n",
    "\n",
    "cm = 1/2.54  # centimeters in inches\n",
    "\n",
    "fig,ax = plt.subplots(figsize = (5.2*cm,5.2*cm))\n",
    "ax.scatter(resampled_y_test/2,y_predict4/2-resampled_y_test/2,s=3,alpha = 0.2)\n",
    "ax.hlines(0,0,8,color=\"black\",linestyle=\"dashed\")\n",
    "\n",
    "ax.set_xlabel('$r_{real}$ ($\\mu m$)')\n",
    "ax.set_ylabel('$r_{predicted}-r_{real}$ ($\\mu m$)')\n",
    "# ax.set_xlim()\n",
    "ax.set_ylim(-1*np.std(y),1*np.std(y))\n",
    "residuals = y_predict4/2 - resampled_y_test/2\n",
    "n=8\n",
    "\n",
    "# New code for evenly spaced groups\n",
    "min_y_test, max_y_test = np.min(y)/2, np.max(y)/2\n",
    "interval_length = (max_y_test - min_y_test) / n\n",
    "group_means = []\n",
    "group_stds = []  # For uncertainties\n",
    "\n",
    "for i in range(n):\n",
    "    start = min_y_test + i * interval_length\n",
    "    end = start + interval_length\n",
    "    indices = np.where((resampled_y_test/2 >= start) & (resampled_y_test/2 < end))\n",
    "    if len(indices[0])>2:\n",
    "        # mean_y_test = np.nanmean(y_test[indices] / 2)\n",
    "        mean_residual = np.nanmean(residuals[indices])\n",
    "        mean_y_test = (start+end)/2\n",
    "        mean_y_test = start\n",
    "        \n",
    "        std_residual = np.nanstd(residuals[indices])  # Standard deviation for uncertainty\n",
    "        group_means.append((mean_y_test, mean_residual))\n",
    "        group_stds.append(std_residual)\n",
    "        print(end)\n",
    "    # break\n",
    "group_means = np.array(group_means)\n",
    "# Plotting the mean\n",
    "ax.plot(group_means[:,0], group_means[:,1], color=\"red\", label='Mean Residual')\n",
    "\n",
    "# Adding shaded uncertainty areas\n",
    "ax.fill_between(group_means[:,0],group_means[:,1] - group_stds, group_means[:,1] + group_stds, \n",
    "                     color='red', alpha=0.2)\n",
    "# plt.savefig(os.path.join(path_figure,'residuals.pdf'), transparent=True, bbox_inches='tight')\n"
   ]
  },
  {
   "cell_type": "code",
   "execution_count": 26,
   "id": "f3b8addd-9447-41b0-9ab3-ef69200bdd34",
   "metadata": {
    "tags": []
   },
   "outputs": [
    {
     "data": {
      "text/plain": [
       "<matplotlib.collections.PolyCollection at 0x7f3bb4c9e7f0>"
      ]
     },
     "execution_count": 26,
     "metadata": {},
     "output_type": "execute_result"
    },
    {
     "data": {
      "image/png": "[encoded data removed]",
      "text/plain": [
       "<Figure size 204.724x204.724 with 1 Axes>"
      ]
     },
     "metadata": {},
     "output_type": "display_data"
    }
   ],
   "source": [
    "path_figure = r\"/mnt/c/Users/coren/Documents/PhD/paper/PandC/Fig1\"\n",
    "\n",
    "cm = 1/2.54  # centimeters in inches\n",
    "\n",
    "fig,ax = plt.subplots(figsize = (5.2*cm,5.2*cm))\n",
    "ax.scatter(y_val/2,y_predict3/2-y_val/2,s=3,alpha = 0.5)\n",
    "ax.hlines(0,0,8,color=\"black\",linestyle=\"dashed\")\n",
    "\n",
    "ax.set_xlabel('$r_{real}$ ($\\mu m$)')\n",
    "ax.set_ylabel('$r_{predicted}-r_{real}$ ($\\mu m$)')\n",
    "# ax.set_xlim()\n",
    "ax.set_ylim(-np.std(y),np.std(y))\n",
    "residuals = y_predict3/2 - y_val/2\n",
    "\n",
    "# New code for evenly spaced groups\n",
    "min_y_test, max_y_test = np.min(y)/2, np.max(y)/2\n",
    "n=8\n",
    "interval_length = (max_y_test - min_y_test) / n\n",
    "group_means = []\n",
    "group_stds = []  # For uncertainties\n",
    "\n",
    "for i in range(n):\n",
    "    start = min_y_test + i * interval_length\n",
    "    end = start + interval_length\n",
    "    indices = np.where((y_val/2 >= start) & (y_val/2 < end))\n",
    "    if start>0 and len(indices[0])>2:\n",
    "    \n",
    "        # mean_y_test = np.mean(y_val[indices] / 2)\n",
    "        mean_residual = np.nanmean(residuals[indices])\n",
    "        std_residual = np.nanstd(residuals[indices])  # Standard deviation for uncertainty\n",
    "        mean_y_test = (start+end)/2\n",
    "        mean_y_test = start\n",
    "\n",
    "        group_means.append((mean_y_test, mean_residual))\n",
    "        group_stds.append(std_residual)\n",
    "\n",
    "group_means = np.array(group_means)\n",
    "# Plotting the mean\n",
    "ax.plot(group_means[:,0], group_means[:,1], color=\"red\", label='Mean Residual')\n",
    "\n",
    "# Adding shaded uncertainty areas\n",
    "ax.fill_between(group_means[:,0],group_means[:,1] - group_stds, group_means[:,1] + group_stds, \n",
    "                     color='red', alpha=0.2)\n",
    "# plt.savefig(os.path.join(path_figure,'residuals_train.pdf'), transparent=True, bbox_inches='tight')\n"
   ]
  },
  {
   "cell_type": "code",
   "execution_count": 27,
   "id": "85c3448c-40ab-4e49-90e9-3d5043ad0d69",
   "metadata": {},
   "outputs": [
    {
     "data": {
      "text/plain": [
       "1357.1680263507906"
      ]
     },
     "execution_count": 27,
     "metadata": {},
     "output_type": "execute_result"
    }
   ],
   "source": [
    "1e3*3e-3*2*np.pi*3*24"
   ]
  },
  {
   "cell_type": "code",
   "execution_count": 28,
   "id": "99e5e919-6bee-4118-b6d6-ac05ba49175a",
   "metadata": {},
   "outputs": [
    {
     "name": "stderr",
     "output_type": "stream",
     "text": [
      "/tmp/ipykernel_5340/1549269936.py:1: RuntimeWarning: invalid value encountered in sqrt\n",
      "  y_predict = np.sqrt(model.predict(X_val))\n"
     ]
    },
    {
     "data": {
      "text/plain": [
       "(0.6573058348026408, 0.7891734746954766)"
      ]
     },
     "execution_count": 28,
     "metadata": {},
     "output_type": "execute_result"
    }
   ],
   "source": [
    "y_predict = np.sqrt(model.predict(X_val))\n",
    "y_predict[np.isnan(y_predict)] = np.nanmean(y_predict)\n",
    "mse = mean_squared_error(y_val/2, y_predict/2)\n",
    "np.sqrt(mse),r2_score(y_val, y_predict)"
   ]
  },
  {
   "cell_type": "code",
   "execution_count": 29,
   "id": "a8f4cc69-cc45-4105-9343-c060e7ac3501",
   "metadata": {},
   "outputs": [
    {
     "data": {
      "text/plain": [
       "(0.6420153689548425, 0.6294715266164717)"
      ]
     },
     "execution_count": 29,
     "metadata": {},
     "output_type": "execute_result"
    }
   ],
   "source": [
    "y_predict = np.sqrt(model.predict(X_test))\n",
    "y_predict[np.isnan(y_predict)] = np.nanmean(y_predict)\n",
    "mse = mean_squared_error(y_test/2, y_predict/2)\n",
    "np.sqrt(mse),r2_score(y_test, y_predict)"
   ]
  },
  {
   "cell_type": "code",
   "execution_count": 30,
   "id": "4a888ea1-f14d-4d2b-9601-0463e958664b",
   "metadata": {},
   "outputs": [
    {
     "data": {
      "text/plain": [
       "(0.7043335642897236, 0.6602714878183189)"
      ]
     },
     "execution_count": 30,
     "metadata": {},
     "output_type": "execute_result"
    }
   ],
   "source": [
    "y_predict = np.sqrt(model.predict(resampled_X_test))\n",
    "y_predict[np.isnan(y_predict)] = np.nanmean(y_predict)\n",
    "# y_predict[np.isnan(y_predict)] = 0\n",
    "\n",
    "mse = mean_squared_error(resampled_y_test/2, y_predict/2)\n",
    "np.sqrt(mse),r2_score(resampled_y_test, y_predict)"
   ]
  },
  {
   "cell_type": "code",
   "execution_count": 31,
   "id": "37ff47f8-886f-43a6-a724-ae82224205cb",
   "metadata": {},
   "outputs": [],
   "source": [
    "# model.save(r'C:\\Users\\coren\\Documents\\PhD\\Code\\AMFtrack\\amftrack\\ml\\models\\model_quadratic.h5')"
   ]
  },
  {
   "cell_type": "code",
   "execution_count": 32,
   "id": "edb72407-98b2-4b7b-8e5d-3c348a3e525c",
   "metadata": {},
   "outputs": [
    {
     "ename": "NameError",
     "evalue": "name 'zegijebije' is not defined",
     "output_type": "error",
     "traceback": [
      "\u001b[0;31m---------------------------------------------------------------------------\u001b[0m",
      "\u001b[0;31mNameError\u001b[0m                                 Traceback (most recent call last)",
      "Input \u001b[0;32mIn [32]\u001b[0m, in \u001b[0;36m<cell line: 1>\u001b[0;34m()\u001b[0m\n\u001b[0;32m----> 1\u001b[0m \u001b[43mzegijebije\u001b[49m\n",
      "\u001b[0;31mNameError\u001b[0m: name 'zegijebije' is not defined"
     ]
    }
   ],
   "source": [
    "zegijebije"
   ]
  },
  {
   "cell_type": "code",
   "execution_count": null,
   "id": "b8fa683f-fea3-41aa-9856-74f0ce78a391",
   "metadata": {
    "tags": []
   },
   "outputs": [],
   "source": [
    "from sklearn.model_selection import KFold\n",
    "import numpy as np\n",
    "import tensorflow as tf\n",
    "from tensorflow.keras import backend as K\n",
    "\n",
    "\n",
    "# Number of folds\n",
    "n_splits = 5\n",
    "kf = KFold(n_splits=n_splits, shuffle=True, random_state=42)\n",
    "\n",
    "# Lists to store metrics for each fold\n",
    "fold_rmse = []\n",
    "fold_r2 = []\n",
    "\n",
    "for train_index, test_index in kf.split(X):\n",
    "    # Splitting data into training and validation sets for the current fold\n",
    "    X_train, X_val = X[train_index], X[test_index]\n",
    "    y_train, y_val = y[train_index], y[test_index]\n",
    "    train_feature = X_train\n",
    "    train_label   = y_train\n",
    "    val_feature  = X_val\n",
    "    val_label    = y_val\n",
    "    # Assuming model and data_preparation are defined as per your code\n",
    "    # Resetting the model might be necessary depending on your setup\n",
    "    model = new_model_list[0]\n",
    "    for layer in model.layers:\n",
    "        if hasattr(layer, 'kernel_initializer') and hasattr(layer, 'bias_initializer'):\n",
    "            layer.kernel_initializer = layer.kernel_initializer\n",
    "            layer.bias_initializer = layer.bias_initializer\n",
    "\n",
    "        if hasattr(layer, 'kernel'):\n",
    "            layer.kernel.assign(layer.kernel_initializer(shape=layer.kernel.shape))\n",
    "        if hasattr(layer, 'bias'):\n",
    "            layer.bias.assign(layer.bias_initializer(shape=layer.bias.shape))\n",
    "\n",
    "    train_scheme(model,train_feature,train_label,val_feature,val_label)\n",
    "    # Evaluate the model\n",
    "    y_pred = model.predict(data_preparation(X_val, crop_size))\n",
    "    fold_rmse.append(np.sqrt(mean_squared_error(y_val/2, y_pred/2)))\n",
    "    fold_r2.append(r2_score(y_val/2, y_pred/2))\n",
    "\n",
    "# Calculate average metrics over all folds\n",
    "average_rmse = np.mean(fold_rmse)\n",
    "average_r2 = np.mean(fold_r2)\n",
    "\n",
    "print(f\"Average RMSE over {n_splits} folds: {average_rmse}\")\n",
    "print(f\"Average R2 over {n_splits} folds: {average_r2}\")\n"
   ]
  },
  {
   "cell_type": "code",
   "execution_count": null,
   "id": "c6127097-5c4e-4eac-818b-789305fb7502",
   "metadata": {},
   "outputs": [],
   "source": [
    "print(f\"Average RMSE over {n_splits} folds: {average_rmse}\")\n",
    "print(f\"Average R2 over {n_splits} folds: {average_r2}\")"
   ]
  },
  {
   "cell_type": "code",
   "execution_count": null,
   "id": "0c0a8d94-3058-4590-a29c-c74da2d50277",
   "metadata": {},
   "outputs": [],
   "source": [
    "def train_scheme(model,train_feature,train_label,val_feature,val_label):\n",
    "    learning_rate_value=0.0001\n",
    "    crop_size=120\n",
    "    batch_size=32\n",
    "    epochs=120\n",
    "    model.compile(\n",
    "        optimizer=tf.keras.optimizers.Adam(learning_rate=learning_rate_value),\n",
    "        loss=\"mean_squared_error\",\n",
    "        metrics=\"mean_absolute_error\")\n",
    "    history = model.fit(\n",
    "                    x=data_preparation(train_feature,crop_size),\n",
    "                    y=train_label,\n",
    "                    epochs=epochs,\n",
    "                    batch_size=batch_size,\n",
    "                    verbose=1,\n",
    "                    validation_data=(data_preparation(val_feature,crop_size), val_label),\n",
    "                    callbacks=[tf.keras.callbacks.EarlyStopping(monitor=\"val_mean_absolute_error\",min_delta=1e-3,patience=20)])\n",
    "    learning_rate_value=0.00001\n",
    "    crop_size=120\n",
    "    batch_size=32\n",
    "    epochs=120\n",
    "    model.compile(\n",
    "        optimizer=tf.keras.optimizers.Adam(learning_rate=learning_rate_value),\n",
    "        loss=\"mean_squared_error\",\n",
    "        metrics=\"mean_absolute_error\")\n",
    "    history = model.fit(\n",
    "                    x=data_preparation(train_feature,crop_size),\n",
    "                    y=train_label,\n",
    "                    epochs=epochs,\n",
    "                    batch_size=batch_size,\n",
    "                    verbose=1,\n",
    "                    validation_data=(data_preparation(val_feature,crop_size), val_label),\n",
    "                    callbacks=[tf.keras.callbacks.EarlyStopping(monitor=\"val_mean_absolute_error\",min_delta=1e-3,patience=10)])\n",
    "    learning_rate_value=0.000001\n",
    "    model.compile(\n",
    "        optimizer=tf.keras.optimizers.Adam(learning_rate=learning_rate_value),\n",
    "        loss=\"mean_squared_error\",\n",
    "        metrics=\"mean_absolute_error\")\n",
    "    history = model.fit(\n",
    "                    x=data_preparation(train_feature,crop_size),\n",
    "                    y=train_label,\n",
    "                    epochs=epochs,\n",
    "                    batch_size=batch_size,\n",
    "                    verbose=1,\n",
    "                    validation_data=(data_preparation(val_feature,crop_size), val_label),\n",
    "                    callbacks=[tf.keras.callbacks.EarlyStopping(monitor=\"val_mean_absolute_error\",min_delta=1e-3,patience=10)])\n"
   ]
  }
 ],
 "metadata": {
  "kernelspec": {
   "display_name": "Python 3 (ipykernel)",
   "language": "python",
   "name": "python3"
  },
  "language_info": {
   "codemirror_mode": {
    "name": "ipython",
    "version": 3
   },
   "file_extension": ".py",
   "mimetype": "text/x-python",
   "name": "python",
   "nbconvert_exporter": "python",
   "pygments_lexer": "ipython3",
   "version": "3.9.2"
  }
 },
 "nbformat": 4,
 "nbformat_minor": 5
}
