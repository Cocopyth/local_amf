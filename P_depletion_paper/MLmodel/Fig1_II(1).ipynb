{
 "cells": [
  {
   "cell_type": "code",
   "execution_count": 1,
   "id": "830276ab-fc6a-474d-959c-38d15d298383",
   "metadata": {
    "tags": []
   },
   "outputs": [
    {
     "name": "stderr",
     "output_type": "stream",
     "text": [
      "2024-01-18 16:19:19.020448: W tensorflow/stream_executor/platform/default/dso_loader.cc:64] Could not load dynamic library 'libcudart.so.11.0'; dlerror: libcudart.so.11.0: cannot open shared object file: No such file or directory\n",
      "2024-01-18 16:19:19.021145: I tensorflow/stream_executor/cuda/cudart_stub.cc:29] Ignore above cudart dlerror if you do not have a GPU set up on your machine.\n",
      "/home/cocopyth/AMFtrack/amftrack/util/dbx.py:3: TqdmExperimentalWarning: Using `tqdm.autonotebook.tqdm` in notebook mode. Use `tqdm.tqdm` instead to force console mode (e.g. in jupyter console)\n",
      "  from tqdm.autonotebook import tqdm\n",
      "2024-01-18 16:19:55.858169: W tensorflow/stream_executor/platform/default/dso_loader.cc:64] Could not load dynamic library 'libcuda.so.1'; dlerror: libcuda.so.1: cannot open shared object file: No such file or directory; LD_LIBRARY_PATH: /home/cocopyth/MasterThesis/ML/lib/python3.9/site-packages/cv2/../../lib64:\n",
      "2024-01-18 16:19:55.859890: W tensorflow/stream_executor/cuda/cuda_driver.cc:269] failed call to cuInit: UNKNOWN ERROR (303)\n",
      "2024-01-18 16:19:55.860179: I tensorflow/stream_executor/cuda/cuda_diagnostics.cc:156] kernel driver does not appear to be running on this host (DESKTOP-DUKJ0UH): /proc/driver/nvidia/version does not exist\n",
      "2024-01-18 16:19:55.867170: I tensorflow/core/platform/cpu_feature_guard.cc:151] This TensorFlow binary is optimized with oneAPI Deep Neural Network Library (oneDNN) to use the following CPU instructions in performance-critical operations:  AVX2 FMA\n",
      "To enable them in other operations, rebuild TensorFlow with the appropriate compiler flags.\n"
     ]
    }
   ],
   "source": [
    "import sys\n",
    "import matplotlib.pyplot as plt\n",
    "import numpy as np\n",
    "sys.path.append(\"/home/cocopyth/MasterThesis/src/\")\n",
    "from make_dataset import *\n",
    "from config import *\n",
    "from model import *\n",
    "from data_prepare import *"
   ]
  },
  {
   "cell_type": "code",
   "execution_count": 2,
   "id": "8b71427a-d044-47c8-9dac-84485cb66cd6",
   "metadata": {},
   "outputs": [
    {
     "name": "stderr",
     "output_type": "stream",
     "text": [
      "/home/cocopyth/MasterThesis/src/data_prepare.py:62: VisibleDeprecationWarning: Creating an ndarray from ragged nested sequences (which is a list-or-tuple of lists-or-tuples-or ndarrays with different lengths or shapes) is deprecated. If you meant to do this, you must specify 'dtype=object' when creating the ndarray.\n",
      "  X_train_list, y_train_list, X_test_list , y_test_list = np.array(X_train_list), np.array(y_train_list), np.array(X_test_list) , np.array(y_test_list)\n"
     ]
    }
   ],
   "source": [
    "data_list_k = [\"20221116_Plate21\",\"20230109_Plate521\",\"20230111_Plate521\",\"20230113_Plate521\",\"20230111_Plate493\"]\n",
    "data_list_f = [\"varying_lum_and_focus_train\",\"varying_lum_and_focus_test\"]\n",
    "X_train_k, y_train_k, X_test_k , y_test_k = combine_dataset(data_list_k,2)\n",
    "X_train_f, y_train_f, X_test_f , y_test_f = combine_dataset(data_list_f,1)\n",
    "X_train = np.concatenate([X_train_k,X_train_f], axis=0)\n",
    "X_test  = np.concatenate ([X_test_k ,X_test_f] , axis=0)\n",
    "y_train = np.concatenate([y_train_k,y_train_f], axis=0)\n",
    "y_test  = np.concatenate ([y_test_k ,y_test_f] , axis=0)\n",
    "X = np.concatenate([X_train,X_test], axis=0)\n",
    "y = np.concatenate([y_train,y_test], axis=0)"
   ]
  },
  {
   "cell_type": "code",
   "execution_count": 3,
   "id": "3eac9ebb-b2b0-4369-9acf-81a758db5014",
   "metadata": {},
   "outputs": [],
   "source": [
    "sorted_indices = np.argsort(list(y.flatten()))\n",
    "sorted_X = X[sorted_indices]\n",
    "sorted_y = y[sorted_indices]\n"
   ]
  },
  {
   "cell_type": "code",
   "execution_count": 4,
   "id": "a56262d3-e7e0-4a8c-b8ab-21621a4385d3",
   "metadata": {},
   "outputs": [],
   "source": [
    "path_figure = r\"/mnt/c/Users/coren/Documents/PhD/paper/PandC/Fig1\"\n"
   ]
  },
  {
   "cell_type": "code",
   "execution_count": 130,
   "id": "2d57d581-0d3f-4758-94b7-58a5b137c417",
   "metadata": {
    "collapsed": true,
    "jupyter": {
     "outputs_hidden": true
    },
    "tags": []
   },
   "outputs": [
    {
     "name": "stdout",
     "output_type": "stream",
     "text": [
      "2023-12-26 22:02:09,372-[INFO]- fontTools.subset:2835 -> maxp pruned\n",
      "2023-12-26 22:02:09,384-[INFO]- fontTools.subset:2835 -> cmap pruned\n",
      "2023-12-26 22:02:09,385-[INFO]- fontTools.subset:2819 -> kern dropped\n",
      "2023-12-26 22:02:09,386-[INFO]- fontTools.subset:2835 -> post pruned\n",
      "2023-12-26 22:02:09,387-[INFO]- fontTools.subset:2819 -> FFTM dropped\n",
      "2023-12-26 22:02:09,391-[INFO]- fontTools.subset:2835 -> GPOS pruned\n",
      "2023-12-26 22:02:09,396-[INFO]- fontTools.subset:2835 -> GSUB pruned\n",
      "2023-12-26 22:02:09,398-[INFO]- fontTools.subset:2835 -> name pruned\n",
      "2023-12-26 22:02:09,413-[INFO]- fontTools.subset:2835 -> glyf pruned\n",
      "2023-12-26 22:02:09,416-[INFO]- fontTools.subset:2875 -> Added gid0 to subset\n",
      "2023-12-26 22:02:09,417-[INFO]- fontTools.subset:2883 -> Added first four glyphs to subset\n",
      "2023-12-26 22:02:09,417-[INFO]- fontTools.subset:2887 -> Closing glyph list over 'GSUB': 7 glyphs before\n",
      "2023-12-26 22:02:09,418-[INFO]- fontTools.subset:446 -> Glyph names: ['.notdef', '.null', 'nonmarkingreturn', 'one', 'space', 'two', 'zero']\n",
      "2023-12-26 22:02:09,420-[INFO]- fontTools.subset:449 -> Glyph IDs:   [0, 1, 2, 3, 19, 20, 21]\n",
      "2023-12-26 22:02:09,424-[INFO]- fontTools.subset:2892 -> Closed glyph list over 'GSUB': 7 glyphs after\n",
      "2023-12-26 22:02:09,424-[INFO]- fontTools.subset:446 -> Glyph names: ['.notdef', '.null', 'nonmarkingreturn', 'one', 'space', 'two', 'zero']\n",
      "2023-12-26 22:02:09,425-[INFO]- fontTools.subset:449 -> Glyph IDs:   [0, 1, 2, 3, 19, 20, 21]\n",
      "2023-12-26 22:02:09,426-[INFO]- fontTools.subset:2899 -> Closing glyph list over 'MATH': 7 glyphs before\n",
      "2023-12-26 22:02:09,428-[INFO]- fontTools.subset:446 -> Glyph names: ['.notdef', '.null', 'nonmarkingreturn', 'one', 'space', 'two', 'zero']\n",
      "2023-12-26 22:02:09,429-[INFO]- fontTools.subset:449 -> Glyph IDs:   [0, 1, 2, 3, 19, 20, 21]\n",
      "2023-12-26 22:02:09,432-[INFO]- fontTools.subset:2904 -> Closed glyph list over 'MATH': 7 glyphs after\n",
      "2023-12-26 22:02:09,433-[INFO]- fontTools.subset:446 -> Glyph names: ['.notdef', '.null', 'nonmarkingreturn', 'one', 'space', 'two', 'zero']\n",
      "2023-12-26 22:02:09,434-[INFO]- fontTools.subset:449 -> Glyph IDs:   [0, 1, 2, 3, 19, 20, 21]\n",
      "2023-12-26 22:02:09,435-[INFO]- fontTools.subset:2924 -> Closing glyph list over 'glyf': 7 glyphs before\n",
      "2023-12-26 22:02:09,436-[INFO]- fontTools.subset:446 -> Glyph names: ['.notdef', '.null', 'nonmarkingreturn', 'one', 'space', 'two', 'zero']\n",
      "2023-12-26 22:02:09,437-[INFO]- fontTools.subset:449 -> Glyph IDs:   [0, 1, 2, 3, 19, 20, 21]\n",
      "2023-12-26 22:02:09,438-[INFO]- fontTools.subset:2929 -> Closed glyph list over 'glyf': 7 glyphs after\n",
      "2023-12-26 22:02:09,439-[INFO]- fontTools.subset:446 -> Glyph names: ['.notdef', '.null', 'nonmarkingreturn', 'one', 'space', 'two', 'zero']\n",
      "2023-12-26 22:02:09,440-[INFO]- fontTools.subset:449 -> Glyph IDs:   [0, 1, 2, 3, 19, 20, 21]\n",
      "2023-12-26 22:02:09,442-[INFO]- fontTools.subset:2979 -> Retaining 7 glyphs\n",
      "2023-12-26 22:02:09,444-[INFO]- fontTools.subset:2988 -> head subsetting not needed\n",
      "2023-12-26 22:02:09,445-[INFO]- fontTools.subset:2988 -> hhea subsetting not needed\n",
      "2023-12-26 22:02:09,447-[INFO]- fontTools.subset:2988 -> maxp subsetting not needed\n",
      "2023-12-26 22:02:09,447-[INFO]- fontTools.subset:2988 -> OS/2 subsetting not needed\n",
      "2023-12-26 22:02:09,455-[INFO]- fontTools.subset:2999 -> hmtx subsetted\n",
      "2023-12-26 22:02:09,459-[INFO]- fontTools.subset:2999 -> cmap subsetted\n",
      "2023-12-26 22:02:09,460-[INFO]- fontTools.subset:2988 -> fpgm subsetting not needed\n",
      "2023-12-26 22:02:09,461-[INFO]- fontTools.subset:2988 -> prep subsetting not needed\n",
      "2023-12-26 22:02:09,462-[INFO]- fontTools.subset:2988 -> cvt  subsetting not needed\n",
      "2023-12-26 22:02:09,463-[INFO]- fontTools.subset:2988 -> loca subsetting not needed\n",
      "2023-12-26 22:02:09,464-[INFO]- fontTools.subset:2999 -> post subsetted\n",
      "2023-12-26 22:02:09,465-[INFO]- fontTools.subset:2988 -> gasp subsetting not needed\n",
      "2023-12-26 22:02:09,469-[INFO]- fontTools.subset:2999 -> GDEF subsetted\n",
      "2023-12-26 22:02:09,501-[INFO]- fontTools.subset:2999 -> GPOS subsetted\n",
      "2023-12-26 22:02:09,503-[INFO]- fontTools.subset:2999 -> GSUB subsetted\n",
      "2023-12-26 22:02:09,504-[INFO]- fontTools.subset:2999 -> MATH subsetted\n",
      "2023-12-26 22:02:09,505-[INFO]- fontTools.subset:2988 -> name subsetting not needed\n",
      "2023-12-26 22:02:09,509-[INFO]- fontTools.subset:2999 -> glyf subsetted\n",
      "2023-12-26 22:02:09,511-[INFO]- fontTools.subset:3037 -> head pruned\n",
      "2023-12-26 22:02:09,513-[INFO]- fontTools.subset:3017 -> OS/2 Unicode ranges pruned: [0]\n",
      "2023-12-26 22:02:09,515-[INFO]- fontTools.subset:3037 -> glyf pruned\n",
      "2023-12-26 22:02:09,516-[INFO]- fontTools.subset:3037 -> GDEF pruned\n",
      "2023-12-26 22:02:09,517-[INFO]- fontTools.subset:3037 -> GPOS pruned\n",
      "2023-12-26 22:02:09,519-[INFO]- fontTools.subset:3037 -> GSUB pruned\n"
     ]
    },
    {
     "data": {
      "image/png": "[encoded data removed]",
      "text/plain": [
       "<Figure size 196.85x314.961 with 3 Axes>"
      ]
     },
     "metadata": {},
     "output_type": "display_data"
    }
   ],
   "source": [
    "plt.style.use('presentation.mplstyle')\n",
    "\n",
    "import matplotlib.pyplot as plt\n",
    "import numpy as np\n",
    "\n",
    "# Sample data for demonstration\n",
    "\n",
    "# Indices for the subplots\n",
    "indices = [len(sorted_X)//4+10, 2*len(sorted_X)//4, 3*len(sorted_X)//4]\n",
    "cm = 1/2.54  # centimeters in inches\n",
    "\n",
    "# Create figure and subplots\n",
    "fig, axs = plt.subplots(len(indices), 1, figsize=(5*cm, 8*cm),sharex= True,sharey=True)\n",
    "\n",
    "for i, ax in zip(indices, axs):\n",
    "    # Plotting each graph\n",
    "    ax.plot(sorted_X[i, :],color=\"red\")\n",
    "    ax.set_ylim(40,200)\n",
    "\n",
    "# ax.set_xlabel('pixel\\n index')\n",
    "# ax.set_ylabel('pixel value',loc=\"bottom\")\n",
    "fig.subplots_adjust(hspace=0)\n",
    "# ax.set_xticks([])\n",
    "plt.savefig(os.path.join(path_figure,'Figure1A.pdf'), transparent=True, bbox_inches='tight')\n"
   ]
  },
  {
   "cell_type": "code",
   "execution_count": 121,
   "id": "ad846b7d-d761-4822-95c9-46b2df6f2204",
   "metadata": {
    "tags": []
   },
   "outputs": [
    {
     "ename": "TypeError",
     "evalue": "set_ticks() missing 1 required positional argument: 'ticks'",
     "output_type": "error",
     "traceback": [
      "\u001b[0;31m---------------------------------------------------------------------------\u001b[0m",
      "\u001b[0;31mTypeError\u001b[0m                                 Traceback (most recent call last)",
      "Input \u001b[0;32mIn [121]\u001b[0m, in \u001b[0;36m<cell line: 16>\u001b[0;34m()\u001b[0m\n\u001b[1;32m     14\u001b[0m \u001b[38;5;66;03m# Hide axes\u001b[39;00m\n\u001b[1;32m     15\u001b[0m ax\u001b[38;5;241m.\u001b[39maxis(\u001b[38;5;124m'\u001b[39m\u001b[38;5;124moff\u001b[39m\u001b[38;5;124m'\u001b[39m)\n\u001b[0;32m---> 16\u001b[0m \u001b[43max\u001b[49m\u001b[38;5;241;43m.\u001b[39;49m\u001b[43mset_xticks\u001b[49m\u001b[43m(\u001b[49m\u001b[43m)\u001b[49m\n",
      "File \u001b[0;32m~/MasterThesis/ML/lib/python3.9/site-packages/matplotlib/axes/_base.py:73\u001b[0m, in \u001b[0;36m_axis_method_wrapper.__set_name__.<locals>.wrapper\u001b[0;34m(self, *args, **kwargs)\u001b[0m\n\u001b[1;32m     72\u001b[0m \u001b[38;5;28;01mdef\u001b[39;00m \u001b[38;5;21mwrapper\u001b[39m(\u001b[38;5;28mself\u001b[39m, \u001b[38;5;241m*\u001b[39margs, \u001b[38;5;241m*\u001b[39m\u001b[38;5;241m*\u001b[39mkwargs):\n\u001b[0;32m---> 73\u001b[0m     \u001b[38;5;28;01mreturn\u001b[39;00m \u001b[43mget_method\u001b[49m\u001b[43m(\u001b[49m\u001b[38;5;28;43mself\u001b[39;49m\u001b[43m)\u001b[49m\u001b[43m(\u001b[49m\u001b[38;5;241;43m*\u001b[39;49m\u001b[43margs\u001b[49m\u001b[43m,\u001b[49m\u001b[43m \u001b[49m\u001b[38;5;241;43m*\u001b[39;49m\u001b[38;5;241;43m*\u001b[39;49m\u001b[43mkwargs\u001b[49m\u001b[43m)\u001b[49m\n",
      "\u001b[0;31mTypeError\u001b[0m: set_ticks() missing 1 required positional argument: 'ticks'"
     ]
    },
    {
     "data": {
      "image/png": "[encoded data removed]",
      "text/plain": [
       "<Figure size 100x100 with 1 Axes>"
      ]
     },
     "metadata": {},
     "output_type": "display_data"
    }
   ],
   "source": [
    "indices = [len(sorted_X)//4+10, 2*len(sorted_X)//4, 3*len(sorted_X)//4]\n",
    "\n",
    "formatted_y = [[f\"{(val/2):.1f}\"] for val in sorted_y[indices].flatten()]\n",
    "formatted_y +=[[\"...\"]]\n",
    "fig, ax = plt.subplots(figsize=(1, 1))  # Adjust the figure size as needed\n",
    "\n",
    "# Create the table\n",
    "columns = ['radius']\n",
    "rows = ['i', 'ii', 'iii','...']\n",
    "table = ax.table(cellText=formatted_y, colLabels=columns, rowLabels=rows, loc='center')\n",
    "for i in range(1,len(rows)):  # Iterate over the number of rows\n",
    "    cell = table[(i, 0)]  # (row, column) - 0 is the column for 'radius'\n",
    "    cell.set_text_props(color='purple') \n",
    "# Hide axes\n",
    "ax.axis('off')\n",
    "# Adjust layout\n",
    "plt.savefig(os.path.join(path_figure,'Figure1B.pdf'), transparent=True, bbox_inches='tight')\n"
   ]
  },
  {
   "cell_type": "code",
   "execution_count": 133,
   "id": "80eef595-3eb4-4e3c-8eae-9a1188f201df",
   "metadata": {},
   "outputs": [
    {
     "data": {
      "image/png": "[encoded data removed]",
      "text/plain": [
       "<Figure size 118.11x47.2441 with 1 Axes>"
      ]
     },
     "metadata": {},
     "output_type": "display_data"
    }
   ],
   "source": [
    "plt.style.use('presentation.mplstyle')\n",
    "\n",
    "import matplotlib.pyplot as plt\n",
    "import numpy as np\n",
    "\n",
    "# Sample data for demonstration\n",
    "\n",
    "# Indices for the subplots\n",
    "i = 2*len(sorted_X)//4+20\n",
    "\n",
    "# Create figure and subplots\n",
    "fig, ax = plt.subplots(figsize=(3*cm, 1.2*cm))\n",
    "\n",
    "# Plotting each graph\n",
    "ax.plot(sorted_X[i, :],color=\"red\")\n",
    "ax.set_ylim(40,200)\n",
    "ax.set_xticks([])\n",
    "ax.set_yticks([])\n",
    "\n",
    "# ax.set_xlabel('pixel\\n index')\n",
    "# ax.set_ylabel('pixel value',loc=\"bottom\")\n",
    "fig.subplots_adjust(hspace=0)\n",
    "plt.savefig(os.path.join(path_figure,'Figure1C.pdf'), transparent=True, bbox_inches='tight')\n"
   ]
  },
  {
   "cell_type": "code",
   "execution_count": 132,
   "id": "af194471-fc87-4947-ae27-ccf2462fdfd1",
   "metadata": {},
   "outputs": [
    {
     "data": {
      "text/plain": [
       "array([2.8418356175501316], dtype=object)"
      ]
     },
     "execution_count": 132,
     "metadata": {},
     "output_type": "execute_result"
    }
   ],
   "source": [
    "sorted_y[i, :]/2"
   ]
  }
 ],
 "metadata": {
  "kernelspec": {
   "display_name": "Python 3 (ipykernel)",
   "language": "python",
   "name": "python3"
  },
  "language_info": {
   "codemirror_mode": {
    "name": "ipython",
    "version": 3
   },
   "file_extension": ".py",
   "mimetype": "text/x-python",
   "name": "python",
   "nbconvert_exporter": "python",
   "pygments_lexer": "ipython3",
   "version": "3.9.2"
  }
 },
 "nbformat": 4,
 "nbformat_minor": 5
}
