{
 "cells": [
  {
   "cell_type": "code",
   "execution_count": null,
   "id": "6ea6408d-b161-4972-bb84-62a02b663d77",
   "metadata": {
    "tags": []
   },
   "outputs": [],
   "source": [
    "import os\n",
    "import pandas as pd\n",
    "import shutil\n",
    "\n",
    "def find_folders_with_csv(start_path, csv_filename):\n",
    "    folders_with_csv = []\n",
    "    for root, dirs, files in os.walk(start_path):\n",
    "        if csv_filename in files:\n",
    "            folders_with_csv.append(root)\n",
    "    return folders_with_csv\n",
    "\n",
    "def get_edge_names_from_csv(csv_path):\n",
    "    df = pd.read_csv(csv_path)\n",
    "    return set(df['edge_name'].values)\n",
    "\n",
    "def delete_unmatched_subfolders(folder_path, valid_edge_names):\n",
    "    for subfolder in os.listdir(folder_path):\n",
    "        subfolder_path = os.path.join(folder_path, subfolder)\n",
    "        if os.path.isdir(subfolder_path):\n",
    "            edge_name = subfolder.split(\"edge \")[-1]  # Extracts edge_name from \"edge {edge_name}\"\n",
    "            if edge_name not in valid_edge_names:\n",
    "                # Uncomment the following line to actually delete the folder\n",
    "                shutil.rmtree(subfolder_path)\n",
    "                print(f\"Deleted {subfolder_path}\")\n",
    "\n",
    "# Path to start the search from\n",
    "start_path = r\"C:\\Users\\coren\\AMOLF-SHIMIZU Dropbox\\DATA\\CocoTransport\\Analysis\"\n",
    "\n",
    "# Search for folders with 'edges_data.csv'\n",
    "folders_with_csv = find_folders_with_csv(start_path, 'edges_data.csv')\n",
    "\n",
    "# Loop through each folder and delete unmatched subfolders\n",
    "for folder in folders_with_csv:\n",
    "    csv_path = os.path.join(folder, 'edges_data.csv')\n",
    "    valid_edge_names = get_edge_names_from_csv(csv_path)\n",
    "    delete_unmatched_subfolders(folder, valid_edge_names)\n"
   ]
  },
  {
   "cell_type": "code",
   "execution_count": null,
   "id": "97f48eb3-73f4-4d09-b274-a7cfc0f2a324",
   "metadata": {},
   "outputs": [],
   "source": [
    "import os\n",
    "import shutil\n",
    "\n",
    "source_path = r'C:\\Users\\coren\\AMOLF-SHIMIZU Dropbox\\DATA\\CocoTransport\\KymoSpeeDExtract'\n",
    "destination_path = r'C:\\Users\\coren\\AMOLF-SHIMIZU Dropbox\\DATA\\CocoTransport\\Analysis'\n",
    "\n",
    "for root, dirs, files in os.walk(source_path):\n",
    "    for file in files:\n",
    "        if file.lower() == 'flux.png':\n",
    "            source_file = os.path.join(root, file)\n",
    "            relative_path = os.path.relpath(root, source_path)\n",
    "            destination_directory = os.path.join(destination_path, relative_path)\n",
    "            # os.makedirs(destination_directory, exist_ok=True)\n",
    "            destination_file = os.path.join(destination_directory, file.lower())\n",
    "            print(source_file,destination_file)\n",
    "            # break\n",
    "            # break\n",
    "            shutil.copy2(source_file, destination_file)\n"
   ]
  }
 ],
 "metadata": {
  "kernelspec": {
   "display_name": "Python 3 (ipykernel)",
   "language": "python",
   "name": "python3"
  },
  "language_info": {
   "codemirror_mode": {
    "name": "ipython",
    "version": 3
   },
   "file_extension": ".py",
   "mimetype": "text/x-python",
   "name": "python",
   "nbconvert_exporter": "python",
   "pygments_lexer": "ipython3",
   "version": "3.10.6"
  }
 },
 "nbformat": 4,
 "nbformat_minor": 5
}
