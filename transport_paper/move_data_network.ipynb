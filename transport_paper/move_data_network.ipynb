{
 "cells": [
  {
   "cell_type": "code",
   "execution_count": 3,
   "id": "68914583-5643-47d6-952d-81e49eaafa93",
   "metadata": {
    "tags": []
   },
   "outputs": [],
   "source": [
    "import os\n",
    "import shutil\n",
    "\n",
    "def move_files_preserving_structure(src_root, dest_root, filename):\n",
    "    for root, dirs, files in os.walk(src_root):\n",
    "        if filename in files:\n",
    "            # Calculate the relative path of the current directory to the source root\n",
    "            relative_path = os.path.relpath(root, src_root)\n",
    "            \n",
    "            # Construct the destination directory path by joining the relative path with the destination root\n",
    "            dest_dir = os.path.join(dest_root, relative_path)\n",
    "            \n",
    "            # Create the destination directory if it doesn't already exist\n",
    "            \n",
    "            # Construct the source and destination file paths\n",
    "            src_file = os.path.join(root, filename)\n",
    "            dest_file = os.path.join(dest_dir, filename)\n",
    "            \n",
    "            # Move the file\n",
    "            if os.path.exists(dest_dir):\n",
    "                shutil.copy(src_file, dest_file)\n",
    "                print(f\"Moved: {src_file} to {dest_file}\")\n",
    "            # break\n",
    "\n",
    "# Define the source and destination roots\n",
    "src_root = r\"C:\\Users\\coren\\AMOLF-SHIMIZU Dropbox\\DATA\\CocoTransport\\Analysis\"\n",
    "dest_root = r\"C:\\Users\\coren\\AMOLF-SHIMIZU Dropbox\\DATA\\CocoTransport\\KymoSpeeDExtract\"\n",
    "\n",
    "# Call the function with the specific filename to move\n",
    "# move_files_preserving_structure(src_root, dest_root, \"video_data_network.json\")"
   ]
  },
  {
   "cell_type": "code",
   "execution_count": 4,
   "id": "1fd3896e-b474-421b-9aa3-57530fa6b5a6",
   "metadata": {
    "tags": []
   },
   "outputs": [
    {
     "name": "stdout",
     "output_type": "stream",
     "text": [
      "Moved: C:\\Users\\coren\\AMOLF-SHIMIZU Dropbox\\DATA\\CocoTransport\\Analysis\\20230728_Plate440\\network_overlay.png to C:\\Users\\coren\\AMOLF-SHIMIZU Dropbox\\DATA\\CocoTransport\\KymoSpeeDExtract\\20230728_Plate440\\network_overlay.png\n",
      "Moved: C:\\Users\\coren\\AMOLF-SHIMIZU Dropbox\\DATA\\CocoTransport\\Analysis\\20230810_Plate441\\network_overlay.png to C:\\Users\\coren\\AMOLF-SHIMIZU Dropbox\\DATA\\CocoTransport\\KymoSpeeDExtract\\20230810_Plate441\\network_overlay.png\n",
      "Moved: C:\\Users\\coren\\AMOLF-SHIMIZU Dropbox\\DATA\\CocoTransport\\Analysis\\20230811_Plate441\\network_overlay.png to C:\\Users\\coren\\AMOLF-SHIMIZU Dropbox\\DATA\\CocoTransport\\KymoSpeeDExtract\\20230811_Plate441\\network_overlay.png\n",
      "Moved: C:\\Users\\coren\\AMOLF-SHIMIZU Dropbox\\DATA\\CocoTransport\\Analysis\\20230812_Plate441\\network_overlay.png to C:\\Users\\coren\\AMOLF-SHIMIZU Dropbox\\DATA\\CocoTransport\\KymoSpeeDExtract\\20230812_Plate441\\network_overlay.png\n",
      "Moved: C:\\Users\\coren\\AMOLF-SHIMIZU Dropbox\\DATA\\CocoTransport\\Analysis\\20230813_Plate441\\network_overlay.png to C:\\Users\\coren\\AMOLF-SHIMIZU Dropbox\\DATA\\CocoTransport\\KymoSpeeDExtract\\20230813_Plate441\\network_overlay.png\n",
      "Moved: C:\\Users\\coren\\AMOLF-SHIMIZU Dropbox\\DATA\\CocoTransport\\Analysis\\20230813_Plate449\\network_overlay.png to C:\\Users\\coren\\AMOLF-SHIMIZU Dropbox\\DATA\\CocoTransport\\KymoSpeeDExtract\\20230813_Plate449\\network_overlay.png\n",
      "Moved: C:\\Users\\coren\\AMOLF-SHIMIZU Dropbox\\DATA\\CocoTransport\\Analysis\\20230814_Plate449\\network_overlay.png to C:\\Users\\coren\\AMOLF-SHIMIZU Dropbox\\DATA\\CocoTransport\\KymoSpeeDExtract\\20230814_Plate449\\network_overlay.png\n",
      "Moved: C:\\Users\\coren\\AMOLF-SHIMIZU Dropbox\\DATA\\CocoTransport\\Analysis\\20230901_Plate310\\network_overlay.png to C:\\Users\\coren\\AMOLF-SHIMIZU Dropbox\\DATA\\CocoTransport\\KymoSpeeDExtract\\20230901_Plate310\\network_overlay.png\n",
      "Moved: C:\\Users\\coren\\AMOLF-SHIMIZU Dropbox\\DATA\\CocoTransport\\Analysis\\20230902_Plate310\\network_overlay.png to C:\\Users\\coren\\AMOLF-SHIMIZU Dropbox\\DATA\\CocoTransport\\KymoSpeeDExtract\\20230902_Plate310\\network_overlay.png\n",
      "Moved: C:\\Users\\coren\\AMOLF-SHIMIZU Dropbox\\DATA\\CocoTransport\\Analysis\\20230903_Plate310\\network_overlay.png to C:\\Users\\coren\\AMOLF-SHIMIZU Dropbox\\DATA\\CocoTransport\\KymoSpeeDExtract\\20230903_Plate310\\network_overlay.png\n",
      "Moved: C:\\Users\\coren\\AMOLF-SHIMIZU Dropbox\\DATA\\CocoTransport\\Analysis\\20230904_Plate310\\network_overlay.png to C:\\Users\\coren\\AMOLF-SHIMIZU Dropbox\\DATA\\CocoTransport\\KymoSpeeDExtract\\20230904_Plate310\\network_overlay.png\n",
      "Moved: C:\\Users\\coren\\AMOLF-SHIMIZU Dropbox\\DATA\\CocoTransport\\Analysis\\20230905_Plate310\\network_overlay.png to C:\\Users\\coren\\AMOLF-SHIMIZU Dropbox\\DATA\\CocoTransport\\KymoSpeeDExtract\\20230905_Plate310\\network_overlay.png\n",
      "Moved: C:\\Users\\coren\\AMOLF-SHIMIZU Dropbox\\DATA\\CocoTransport\\Analysis\\20230906_Plate310\\network_overlay.png to C:\\Users\\coren\\AMOLF-SHIMIZU Dropbox\\DATA\\CocoTransport\\KymoSpeeDExtract\\20230906_Plate310\\network_overlay.png\n",
      "Moved: C:\\Users\\coren\\AMOLF-SHIMIZU Dropbox\\DATA\\CocoTransport\\Analysis\\20230728_Plate440\\stitched.png to C:\\Users\\coren\\AMOLF-SHIMIZU Dropbox\\DATA\\CocoTransport\\KymoSpeeDExtract\\20230728_Plate440\\stitched.png\n",
      "Moved: C:\\Users\\coren\\AMOLF-SHIMIZU Dropbox\\DATA\\CocoTransport\\Analysis\\20230810_Plate441\\stitched.png to C:\\Users\\coren\\AMOLF-SHIMIZU Dropbox\\DATA\\CocoTransport\\KymoSpeeDExtract\\20230810_Plate441\\stitched.png\n",
      "Moved: C:\\Users\\coren\\AMOLF-SHIMIZU Dropbox\\DATA\\CocoTransport\\Analysis\\20230811_Plate441\\stitched.png to C:\\Users\\coren\\AMOLF-SHIMIZU Dropbox\\DATA\\CocoTransport\\KymoSpeeDExtract\\20230811_Plate441\\stitched.png\n",
      "Moved: C:\\Users\\coren\\AMOLF-SHIMIZU Dropbox\\DATA\\CocoTransport\\Analysis\\20230812_Plate441\\stitched.png to C:\\Users\\coren\\AMOLF-SHIMIZU Dropbox\\DATA\\CocoTransport\\KymoSpeeDExtract\\20230812_Plate441\\stitched.png\n",
      "Moved: C:\\Users\\coren\\AMOLF-SHIMIZU Dropbox\\DATA\\CocoTransport\\Analysis\\20230813_Plate441\\stitched.png to C:\\Users\\coren\\AMOLF-SHIMIZU Dropbox\\DATA\\CocoTransport\\KymoSpeeDExtract\\20230813_Plate441\\stitched.png\n",
      "Moved: C:\\Users\\coren\\AMOLF-SHIMIZU Dropbox\\DATA\\CocoTransport\\Analysis\\20230813_Plate449\\stitched.png to C:\\Users\\coren\\AMOLF-SHIMIZU Dropbox\\DATA\\CocoTransport\\KymoSpeeDExtract\\20230813_Plate449\\stitched.png\n",
      "Moved: C:\\Users\\coren\\AMOLF-SHIMIZU Dropbox\\DATA\\CocoTransport\\Analysis\\20230814_Plate449\\stitched.png to C:\\Users\\coren\\AMOLF-SHIMIZU Dropbox\\DATA\\CocoTransport\\KymoSpeeDExtract\\20230814_Plate449\\stitched.png\n",
      "Moved: C:\\Users\\coren\\AMOLF-SHIMIZU Dropbox\\DATA\\CocoTransport\\Analysis\\20230901_Plate310\\stitched.png to C:\\Users\\coren\\AMOLF-SHIMIZU Dropbox\\DATA\\CocoTransport\\KymoSpeeDExtract\\20230901_Plate310\\stitched.png\n",
      "Moved: C:\\Users\\coren\\AMOLF-SHIMIZU Dropbox\\DATA\\CocoTransport\\Analysis\\20230902_Plate310\\stitched.png to C:\\Users\\coren\\AMOLF-SHIMIZU Dropbox\\DATA\\CocoTransport\\KymoSpeeDExtract\\20230902_Plate310\\stitched.png\n",
      "Moved: C:\\Users\\coren\\AMOLF-SHIMIZU Dropbox\\DATA\\CocoTransport\\Analysis\\20230903_Plate310\\stitched.png to C:\\Users\\coren\\AMOLF-SHIMIZU Dropbox\\DATA\\CocoTransport\\KymoSpeeDExtract\\20230903_Plate310\\stitched.png\n",
      "Moved: C:\\Users\\coren\\AMOLF-SHIMIZU Dropbox\\DATA\\CocoTransport\\Analysis\\20230904_Plate310\\stitched.png to C:\\Users\\coren\\AMOLF-SHIMIZU Dropbox\\DATA\\CocoTransport\\KymoSpeeDExtract\\20230904_Plate310\\stitched.png\n",
      "Moved: C:\\Users\\coren\\AMOLF-SHIMIZU Dropbox\\DATA\\CocoTransport\\Analysis\\20230905_Plate310\\stitched.png to C:\\Users\\coren\\AMOLF-SHIMIZU Dropbox\\DATA\\CocoTransport\\KymoSpeeDExtract\\20230905_Plate310\\stitched.png\n",
      "Moved: C:\\Users\\coren\\AMOLF-SHIMIZU Dropbox\\DATA\\CocoTransport\\Analysis\\20230906_Plate310\\stitched.png to C:\\Users\\coren\\AMOLF-SHIMIZU Dropbox\\DATA\\CocoTransport\\KymoSpeeDExtract\\20230906_Plate310\\stitched.png\n"
     ]
    }
   ],
   "source": [
    "import os\n",
    "import shutil\n",
    "\n",
    "def move_files_preserving_structure(src_root, dest_root, filename):\n",
    "    for root, dirs, files in os.walk(src_root):\n",
    "        if filename in files:\n",
    "            # Calculate the relative path of the current directory to the source root\n",
    "            relative_path = os.path.relpath(root, src_root)\n",
    "            \n",
    "            # Construct the destination directory path by joining the relative path with the destination root\n",
    "            dest_dir = os.path.join(dest_root, relative_path)\n",
    "            \n",
    "            # Create the destination directory if it doesn't already exist\n",
    "            # os.makedirs(dest_dir, exist_ok=True)\n",
    "            \n",
    "            # Construct the source and destination file paths\n",
    "            src_file = os.path.join(root, filename)\n",
    "            dest_file = os.path.join(dest_dir, filename)\n",
    "            \n",
    "            # Move the file\n",
    "            shutil.copy(src_file, dest_file)\n",
    "            print(f\"Moved: {src_file} to {dest_file}\")\n",
    "            # break\n",
    "\n",
    "# Define the source and destination roots\n",
    "src_root = r\"C:\\Users\\coren\\AMOLF-SHIMIZU Dropbox\\DATA\\CocoTransport\\Analysis\"\n",
    "dest_root = r\"C:\\Users\\coren\\AMOLF-SHIMIZU Dropbox\\DATA\\CocoTransport\\KymoSpeeDExtract\"\n",
    "\n",
    "# Call the function with the specific filename to move\n",
    "move_files_preserving_structure(src_root, dest_root, \"network_overlay.png\")\n",
    "move_files_preserving_structure(src_root, dest_root, \"stitched.png\")"
   ]
  },
  {
   "cell_type": "code",
   "execution_count": 4,
   "id": "b663d0a8-5dde-4421-9af2-8014fe6c4356",
   "metadata": {},
   "outputs": [
    {
     "name": "stdout",
     "output_type": "stream",
     "text": [
      "Video created successfully at: output_video436_20230717.avi\n"
     ]
    }
   ],
   "source": [
    "import os\n",
    "import cv2\n",
    "\n",
    "# Path to the directory containing folders\n",
    "plate_id = \"436_20230717\"\n",
    "# plate_id = \"482_20230908\"\n",
    "\n",
    "base_path = f\"C:\\\\Users\\\\coren\\\\AMOLF-SHIMIZU Dropbox\\\\DATA\\\\PRINCE\\\\{plate_id}\"\n",
    "\n",
    "# List and sort the folders\n",
    "folders = [os.path.join(base_path, folder) for folder in os.listdir(base_path) if os.path.isdir(os.path.join(base_path, folder))]\n",
    "folders.sort()\n",
    "\n",
    "# Video settings\n",
    "fps = 1  # Frames per second, adjust based on your preference\n",
    "frame_size = (2500, 1080)  # Adjust based on your images' size\n",
    "video_path = f\"output_video{plate_id}.avi\"\n",
    "\n",
    "# Initialize video writer\n",
    "fourcc = cv2.VideoWriter_fourcc(*'XVID')\n",
    "out = cv2.VideoWriter(video_path, fourcc, fps, frame_size)\n",
    "\n",
    "for folder in folders:\n",
    "    image_path = os.path.join(folder, \"Stitchedimage.tif\")\n",
    "    if os.path.exists(image_path):\n",
    "        # Read the image\n",
    "        img = cv2.imread(image_path)\n",
    "        # Resize the image to match frame size if necessary\n",
    "        img_resized = cv2.resize(img, frame_size)\n",
    "        # Write the frame to the video\n",
    "        out.write(img_resized)\n",
    "    else:\n",
    "        print(f\"Image not found in {folder}\")\n",
    "\n",
    "# Release the video writer\n",
    "out.release()\n",
    "\n",
    "print(\"Video created successfully at:\", video_path)"
   ]
  }
 ],
 "metadata": {
  "kernelspec": {
   "display_name": "Python 3 (ipykernel)",
   "language": "python",
   "name": "python3"
  },
  "language_info": {
   "codemirror_mode": {
    "name": "ipython",
    "version": 3
   },
   "file_extension": ".py",
   "mimetype": "text/x-python",
   "name": "python",
   "nbconvert_exporter": "python",
   "pygments_lexer": "ipython3",
   "version": "3.10.6"
  }
 },
 "nbformat": 4,
 "nbformat_minor": 5
}
