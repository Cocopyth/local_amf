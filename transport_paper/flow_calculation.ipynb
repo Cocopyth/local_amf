{
 "cells": [
  {
   "cell_type": "code",
   "execution_count": 2,
   "id": "c7be4688-6ced-44ea-9209-1d225741644f",
   "metadata": {},
   "outputs": [],
   "source": [
    "import numpy as np\n",
    "density = 1e-6 #ug/um3\n",
    "r = 3 #um\n",
    "phi = 0.3 #ug/h"
   ]
  },
  {
   "cell_type": "code",
   "execution_count": 3,
   "id": "ade10b3c-f7ad-433d-b98e-2b4b4e750065",
   "metadata": {},
   "outputs": [
    {
     "data": {
      "text/plain": [
       "2.947313760961025"
      ]
     },
     "execution_count": 3,
     "metadata": {},
     "output_type": "execute_result"
    }
   ],
   "source": [
    "phi / (density*r**2*np.pi)/3600"
   ]
  },
  {
   "cell_type": "code",
   "execution_count": 4,
   "id": "52299604-af36-4205-8f77-83293c437969",
   "metadata": {},
   "outputs": [
    {
     "data": {
      "text/plain": [
       "64.397622850345"
      ]
     },
     "execution_count": 4,
     "metadata": {},
     "output_type": "execute_result"
    }
   ],
   "source": [
    "L = 1.3e20 #m\n",
    "r = 3e-6 #m\n",
    "Vmax = 3e-9 #ug.um-2.h-1\n",
    "\n",
    "Vmax = Vmax*24* 365 #ug.um-2.year-1\n",
    "Vmax = Vmax*1e12 #ug.m-2.year-1\n",
    "\n",
    "Vmax = Vmax*1e-6 #g.m-2.year-1\n",
    "Vmax = Vmax*1e-3 #kg.m-2.year-1\n",
    "phi = Vmax * 2*np.pi * r*L #kg.year-1\n",
    "phi = phi*1e-12 #Gt.year-1\n",
    "phi"
   ]
  },
  {
   "cell_type": "code",
   "execution_count": 17,
   "id": "235851b4-a1ce-436f-a1c8-2f7e0de4c9ec",
   "metadata": {},
   "outputs": [
    {
     "data": {
      "text/plain": [
       "3.8e-09"
      ]
     },
     "execution_count": 17,
     "metadata": {},
     "output_type": "execute_result"
    }
   ],
   "source": [
    "Vmax = 3.8e-9 #ugP/um2/hour\n",
    "Vmax = Vmax*1e6 #ugP/mm2/hour\n",
    "Vmax = Vmax*1e-6 #gP/mm2/hour\n",
    "Vmax"
   ]
  },
  {
   "cell_type": "code",
   "execution_count": 24,
   "id": "ef70066e-846d-46db-952c-f1a3760e0ad0",
   "metadata": {},
   "outputs": [
    {
     "data": {
      "text/plain": [
       "1.3911320951736037e+20"
      ]
     },
     "execution_count": 24,
     "metadata": {},
     "output_type": "execute_result"
    }
   ],
   "source": [
    "r = 3e-6 #m\n",
    "\n",
    "M = 590 #Mt\n",
    "M = M* 1e9 #kg\n",
    "V = M #L\n",
    "V = V*1e-3 #m**3\n",
    "V = V /(0.3*0.5)\n",
    "L = V/ (np.pi*r**2)\n",
    "L"
   ]
  },
  {
   "cell_type": "code",
   "execution_count": 22,
   "id": "c7a12201-67d4-4dcd-b740-a9d7286d474f",
   "metadata": {},
   "outputs": [
    {
     "data": {
      "text/plain": [
       "2.25e+20"
      ]
     },
     "execution_count": 22,
     "metadata": {},
     "output_type": "execute_result"
    }
   ],
   "source": [
    "d = 10 #m/cm**3\n",
    "depth = 15\n",
    "S = 150e6 #km**2\n",
    "S = S * 1e6 #m**2\n",
    "S = S * 1e4 #cm**2\n",
    "\n",
    "d*depth*S"
   ]
  }
 ],
 "metadata": {
  "kernelspec": {
   "display_name": "Python 3 (ipykernel)",
   "language": "python",
   "name": "python3"
  },
  "language_info": {
   "codemirror_mode": {
    "name": "ipython",
    "version": 3
   },
   "file_extension": ".py",
   "mimetype": "text/x-python",
   "name": "python",
   "nbconvert_exporter": "python",
   "pygments_lexer": "ipython3",
   "version": "3.10.6"
  }
 },
 "nbformat": 4,
 "nbformat_minor": 5
}
