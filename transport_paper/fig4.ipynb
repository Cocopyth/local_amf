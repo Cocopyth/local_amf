{
 "cells": [
  {
   "cell_type": "code",
   "execution_count": 1,
   "id": "b6b626e2-a013-48f1-9f6a-76ffb9dec413",
   "metadata": {},
   "outputs": [
    {
     "name": "stderr",
     "output_type": "stream",
     "text": [
      "c:\\users\\coren\\documents\\phd\\code\\amftrack\\amftrack\\util\\dbx.py:3: TqdmExperimentalWarning: Using `tqdm.autonotebook.tqdm` in notebook mode. Use `tqdm.tqdm` instead to force console mode (e.g. in jupyter console)\n",
      "  from tqdm.autonotebook import tqdm\n"
     ]
    }
   ],
   "source": [
    "%load_ext autoreload\n",
    "%autoreload 2\n",
    "%matplotlib widget\n",
    "import pickle\n",
    "import os\n",
    "\n",
    "from amftrack.util.sys import (\n",
    "\n",
    "    update_plate_info,\n",
    "\n",
    "    get_current_folders,\n",
    ")\n",
    "\n",
    "from amftrack.pipeline.functions.image_processing.experiment_class_surf import (\n",
    "    Experiment,\n",
    ")\n",
    "\n",
    "from amftrack.pipeline.functions.image_processing.experiment_class_surf import (\n",
    "    Node,\n",
    ")\n",
    "from amftrack.pipeline.functions.post_processing.extract_study_zone import (\n",
    "    load_study_zone,\n",
    ")\n",
    "from amftrack.pipeline.functions.post_processing.exp_plot import *\n",
    "import pickle\n",
    "import scipy.io as sio\n",
    "import networkx as nx\n",
    "import numpy as np\n",
    "from sthype import SpatialGraph, HyperGraph\n",
    "from sthype.graph_functions import spatial_temporal_graph_from_spatial_graphs\n",
    "\n",
    "import matplotlib.pyplot as plt\n",
    "import os\n",
    "import pickle\n",
    "from tqdm import tqdm\n",
    "import pandas as pd\n",
    "from amftrack.pipeline.functions.image_processing.experiment_util import (\n",
    "    get_all_edges,\n",
    "    get_all_nodes, get_timedelta_second,\n",
    ")\n",
    "from amftrack.pipeline.functions.transport_processing.high_mag_videos.temporal_graph_util import *\n",
    "mpl.rcParams[\"figure.dpi\"] = 100\n",
    "import seaborn as sns\n",
    "plt.style.use('presentation.mplstyle')\n",
    "import logging\n",
    "\n",
    "# Get the logger for 'fontTools'\n",
    "font_tools_logger = logging.getLogger('fontTools')\n",
    "\n",
    "# Set the logging level to WARNING, which ignores DEBUG and INFO messages\n",
    "font_tools_logger.setLevel(logging.WARNING)"
   ]
  },
  {
   "cell_type": "code",
   "execution_count": 2,
   "id": "b72fdfb9-3df7-4704-b652-a51cdd37e037",
   "metadata": {},
   "outputs": [],
   "source": [
    "path_figure = r\"C:\\Users\\coren\\Documents\\PhD\\paper\\transport\\Fig4\""
   ]
  },
  {
   "cell_type": "code",
   "execution_count": 3,
   "id": "6431b09c-f4dd-4210-a93f-a436852568df",
   "metadata": {},
   "outputs": [],
   "source": [
    "pdry = 0.21\n",
    "pcarbon = 0.5\n",
    "CUE = 0.5\n",
    "density = 1.1 #g.cm-3\n",
    "C_factor = pdry * pcarbon/CUE*density #g.cm-3\n",
    "C_factor_volume = C_factor /0.9 #cm3.cm-3\n",
    "v0 = 3 #um.s-1\n",
    "C_factor_flux = C_factor_volume/v0 #s.um-1"
   ]
  },
  {
   "cell_type": "code",
   "execution_count": 4,
   "id": "05a90ae6-4ada-4944-a4da-1561a5880211",
   "metadata": {},
   "outputs": [
    {
     "data": {
      "text/plain": [
       "0.25666666666666665"
      ]
     },
     "execution_count": 4,
     "metadata": {},
     "output_type": "execute_result"
    }
   ],
   "source": [
    "C_factor_volume"
   ]
  },
  {
   "cell_type": "code",
   "execution_count": 5,
   "id": "c064fc08-c8da-477f-ad2c-4c6747da4a0d",
   "metadata": {},
   "outputs": [],
   "source": [
    "nodes_source = [3,0]\n",
    "nodes_sink = [6,7]"
   ]
  },
  {
   "cell_type": "code",
   "execution_count": 158,
   "id": "b14fdb96-ffb1-4060-8746-64358f861a6e",
   "metadata": {},
   "outputs": [],
   "source": [
    "def create_G(length_init):\n",
    "    # Create an empty graph\n",
    "    G = nx.Graph()\n",
    "\n",
    "    # Add 6 nodes\n",
    "    G.add_nodes_from(range(8))\n",
    "\n",
    "    # Manually set positions for a 3x2 lattice\n",
    "    positions = {0: (1000, 0), 1: (1000, length_init), 2: (1000, length_init+1000),\n",
    "                 3: (0, 0), 4: (0, length_init), 5: (0, length_init+1000),6:(0,length_init+2000),7:(1000,length_init+2000)}\n",
    "\n",
    "    # Add edges between adjacent nodes\n",
    "    edges = [(0, 1), (1, 2),  # edges in the top row\n",
    "             (3, 4), (4, 5),  # edges in the bottom row\n",
    "            (1, 4),(5,6),(2,7),(2,5)]  # vertical edges connecting rows\n",
    "\n",
    "    # Add edges to the graph\n",
    "    G.add_edges_from(edges)\n",
    "    return(G,positions)"
   ]
  },
  {
   "cell_type": "code",
   "execution_count": 159,
   "id": "afc9a63a-88af-48b1-8d63-979b6f3d5c6f",
   "metadata": {},
   "outputs": [],
   "source": [
    "def add_attributes(G,length_init = 1000,ratio = 0.5):\n",
    "    for edge in G.edges:\n",
    "        G[edge[0]][edge[1]][\"radius\"] = 3 #um\n",
    "        G[edge[0]][edge[1]][\"length\"] = 1000 #um\n",
    "\n",
    "        G[edge[0]][edge[1]]['v0'] = 0\n",
    "    G[0][1][\"length\"] = length_init\n",
    "    G[3][4][\"length\"] = length_init\n",
    "    tot_cross_section = 2*3**2\n",
    "    G[3][4][\"radius\"] = np.sqrt(tot_cross_section*ratio)\n",
    "    G[0][1][\"radius\"] = np.sqrt(tot_cross_section*(1-ratio))    "
   ]
  },
  {
   "cell_type": "code",
   "execution_count": 160,
   "id": "6c1273ae-35f7-4c7b-af87-18394066bd46",
   "metadata": {},
   "outputs": [],
   "source": [
    "def add_heaton_flux(G,ratio = 0.1,tot_growth = 20):\n",
    "    ext_flows_out = {6 : tot_growth/2, 7 : tot_growth/2}\n",
    "    ext_flows_in = {3 : -ratio*tot_growth, 0:-(1-ratio)*tot_growth}\n",
    "    DG = convert_to_directed(G)\n",
    "    for node in nodes_sink:\n",
    "        ext_flows_in[node] = 0\n",
    "    tot_flow = np.sum(list(ext_flows_in.values()))\n",
    "    ext_flows = {**ext_flows_in, **ext_flows_out}\n",
    "    A, b = build_matrix_system(DG, ext_flows)\n",
    "    flows = solve_flows(A, b)\n",
    "    edge_flows = {edge: flow for edge, flow in zip(DG.edges(), flows)}\n",
    "    nx.set_edge_attributes(G, edge_flows, \"water_flux_heaton\")\n",
    "    for edge in G.edges:\n",
    "        G[edge[0]][edge[1]][\"water_flux_heaton_abs\"] = abs(G[edge[0]][edge[1]][\"water_flux_heaton\"])\n",
    "        G[edge[0]][edge[1]][\"speed_heaton\"] = G[edge[0]][edge[1]][\"water_flux_heaton\"] / (np.pi * G[edge[0]][edge[1]][\"radius\"] ** 2)"
   ]
  },
  {
   "cell_type": "code",
   "execution_count": 161,
   "id": "c0b0ac32-431d-429f-b0f3-4ee6623ad3e3",
   "metadata": {},
   "outputs": [],
   "source": [
    "def add_heaton_flux2(G,ratio = 0.5,tot_growth = 20):\n",
    "    ext_flows_out = {6 : tot_growth/2, 7 : tot_growth/2}\n",
    "    ext_flows_in = {3 : -ratio*tot_growth, 0:-(1-ratio)*tot_growth}\n",
    "    DG = convert_to_directed(G)\n",
    "    for node in nodes_sink:\n",
    "        ext_flows_in[node] = 0\n",
    "    tot_flow = np.sum(list(ext_flows_in.values()))\n",
    "    ext_flows = {**ext_flows_in, **ext_flows_out}\n",
    "    A, b = build_matrix_system(DG, ext_flows)\n",
    "    flows = solve_flows(A, b)\n",
    "    edge_flows = {edge: flow for edge, flow in zip(DG.edges(), flows)}\n",
    "    nx.set_edge_attributes(G, edge_flows, \"water_flux_heaton2\")\n",
    "    for edge in G.edges:\n",
    "        G[edge[0]][edge[1]][\"water_flux_heaton_abs2\"] = abs(G[edge[0]][edge[1]][\"water_flux_heaton2\"])\n",
    "        G[edge[0]][edge[1]][\"speed_heaton2\"] = G[edge[0]][edge[1]][\"water_flux_heaton2\"] / (np.pi * G[edge[0]][edge[1]][\"radius\"] ** 2)"
   ]
  },
  {
   "cell_type": "code",
   "execution_count": 162,
   "id": "d895a400-6580-4ef7-b282-8117a005a84a",
   "metadata": {},
   "outputs": [],
   "source": [
    "tanh_steepness = 10#s.um-1\n",
    "def add_backflow(G):\n",
    "\n",
    "    lipid_fraction = 0.1 \n",
    "    for edge in G.edges:\n",
    "        G[edge[0]][edge[1]][\"tot_cross_section\"] = np.pi * G[edge[0]][edge[1]][\"radius\"]**2\n",
    "        G[edge[0]][edge[1]][\"lipid_phase_fraction\"] = np.abs(G[edge[0]][edge[1]][\"speed_heaton\"]) * C_factor_flux / lipid_fraction\n",
    "        G[edge[0]][edge[1]][\"lipid_cross_section\"] = G[edge[0]][edge[1]][\"lipid_phase_fraction\"]*G[edge[0]][edge[1]][\"tot_cross_section\"]\n",
    "        assert(G[edge[0]][edge[1]][\"lipid_phase_fraction\"]<1)\n",
    "        assert(G[edge[0]][edge[1]][\"lipid_phase_fraction\"]>=0)\n",
    "\n",
    "        G[edge[0]][edge[1]][\"water_cross_section\"] = (1-G[edge[0]][edge[1]][\"lipid_phase_fraction\"])*G[edge[0]][edge[1]][\"tot_cross_section\"]\n",
    "        G[edge[0]][edge[1]][\"water_phase_radius\"] = np.sqrt((G[edge[0]][edge[1]][\"water_cross_section\"] /np.pi))\n",
    "\n",
    "        G[edge[0]][edge[1]]['v0'] = np.tanh(tanh_steepness*G[edge[0]][edge[1]]['speed_heaton'])*v0\n",
    "        \n",
    "        G[edge[0]][edge[1]][\"net_water_flux_phase_lipid\"] = G[edge[0]][edge[1]][\"lipid_cross_section\"]*G[edge[0]][edge[1]]['v0']*(1-lipid_fraction)\n",
    "    DG = convert_to_directed(G,radius_attribute = \"water_phase_radius\")\n",
    "    for node in (nodes_source):\n",
    "        DG.add_edge(node, \"ground\", length=0, radius=2, v0=0, Res=0, pot=0)  # Add edge back to the root\n",
    "\n",
    "\n",
    "    ext_flows = {}\n",
    "    A, b = build_matrix_system(DG, ext_flows)\n",
    "    flows = solve_flows(A, b)\n",
    "    edge_flows = {edge: flow for edge, flow in zip(DG.edges(), flows)}\n",
    "    nx.set_edge_attributes(G, edge_flows, \"net_water_flux_phase\")\n",
    "    for edge in G.edges:\n",
    "        G[edge[0]][edge[1]][\"net_water_flux_phase_abs\"] = abs(G[edge[0]][edge[1]][\"net_water_flux_phase\"])\n",
    "        G[edge[0]][edge[1]][\"net_water_flux_phase_backflow\"] = G[edge[0]][edge[1]][\"net_water_flux_phase\"]+G[edge[0]][edge[1]][\"water_flux_heaton2\"]-G[edge[0]][edge[1]][\"net_water_flux_phase_lipid\"]\n",
    "        # -G[edge[0]][edge[1]]['v0']*G[edge[0]][edge[1]][\"water_cross_section\"]/2\n",
    "        G[edge[0]][edge[1]][\"speed_backflow_phase\"] = 2*G[edge[0]][edge[1]][\"net_water_flux_phase_backflow\"] / G[edge[0]][edge[1]][\"water_cross_section\"]"
   ]
  },
  {
   "cell_type": "code",
   "execution_count": 163,
   "id": "68d63b58-e6f3-431c-be40-7e9eeee5142d",
   "metadata": {},
   "outputs": [],
   "source": [
    "def convert_to_directed(undirected_graph,orientation_attribute=None,radius_attribute = 'radius'):\n",
    "    # Create a new directed graph\n",
    "    directed_graph = nx.DiGraph()\n",
    "\n",
    "    # Define constant values for dynamic viscosity (mu)\n",
    "    mu = 1e-3  #kg.m-1.s-1\n",
    "    mu = mu * 1e-6 #kg.um-1.s-1 (but doesn't really have consequences\n",
    "    # until compared with aquaporin porosity)\n",
    "\n",
    "    # Add edges to the directed graph with direction based on node label ordering\n",
    "    for u, v, attr in undirected_graph.edges(data=True):\n",
    "        orientation_tot =(1-2*(u>v))\n",
    "        if not orientation_attribute is None:\n",
    "            orientation_tot *= (2*(attr[orientation_attribute]>0)-1)\n",
    "        if orientation_tot==1:\n",
    "            directed_graph.add_edge(u, v, **attr)\n",
    "        else:\n",
    "            directed_graph.add_edge(v, u, **attr)\n",
    "\n",
    "    # Calculate the resistance and potential for each edge in the directed graph\n",
    "    for u, v, attr in directed_graph.edges(data=True):\n",
    "        # attr['radius'] = max(attr['width'] / 2, 0.5)\n",
    "        # attr['v0'] = np.sign(attr['QBC_net'])*3 if abs(attr['QBC_net'])>0 else 0\n",
    "        attr['Res'] = 8 * mu * attr[\"length\"] / (np.pi * attr[radius_attribute] ** 4)\n",
    "        if radius_attribute == \"water_phase_radius\":\n",
    "            attr['pot'] = 8 * mu * attr[\"length\"] * attr['v0'] / (np.pi * attr[radius_attribute] ** 2)+attr['Res']*attr['net_water_flux_phase_lipid']\n",
    "            # attr['pot'] = 8 * mu * attr[\"length\"] * attr['v0'] / (np.pi * attr[radius_attribute] ** 2)\n",
    "        \n",
    "        else:\n",
    "            attr['pot'] = 8 * mu * attr[\"length\"] * attr['v0'] / (np.pi * attr[radius_attribute] ** 2)\n",
    "\n",
    "    return directed_graph"
   ]
  },
  {
   "cell_type": "code",
   "execution_count": 165,
   "id": "c86b6866-a138-4fe9-b81c-a89eb37ae047",
   "metadata": {
    "tags": []
   },
   "outputs": [
    {
     "data": {
      "application/vnd.jupyter.widget-view+json": {
       "model_id": "b995dfb169374024a0bb2528863f2c4f",
       "version_major": 2,
       "version_minor": 0
      },
      "image/png": "[encoded data removed]",
      "text/html": [
       "\n",
       "            <div style=\"display: inline-block;\">\n",
       "                <div class=\"jupyter-widgets widget-label\" style=\"text-align: center;\">\n",
       "                    Figure\n",
       "                </div>\n",
       "                <img src='data:image/png;base64,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' width=800.0/>\n",
       "            </div>\n",
       "        "
      ],
      "text/plain": [
       "Canvas(toolbar=Toolbar(toolitems=[('Home', 'Reset original view', 'home', 'home'), ('Back', 'Back to previous …"
      ]
     },
     "metadata": {},
     "output_type": "display_data"
    }
   ],
   "source": [
    "length_init = 1000\n",
    "import networkx as nx\n",
    "import matplotlib.pyplot as plt\n",
    "plt.figure(figsize=(8, 6))\n",
    "G,positions = create_G(length_init)\n",
    "# Draw the graph with labels and specified node positions\n",
    "nx.draw(G, pos=positions, with_labels=True, node_color='lightblue', node_size=700, font_size=15, font_color='darkred')\n",
    "plt.show()\n"
   ]
  },
  {
   "cell_type": "code",
   "execution_count": 166,
   "id": "3b716209-d1f2-41a4-8f33-66bbce3363ba",
   "metadata": {},
   "outputs": [],
   "source": [
    "ratio = 0.2\n",
    "add_attributes(G,length_init = length_init,ratio=0.2)\n",
    "add_heaton_flux(G,ratio = ratio,tot_growth = 30)\n",
    "add_heaton_flux2(G,ratio = 0.5,tot_growth = 30)\n",
    "add_backflow(G)"
   ]
  },
  {
   "cell_type": "code",
   "execution_count": 167,
   "id": "3bdad2a8-a5bf-4e8c-a911-82fd842734d0",
   "metadata": {},
   "outputs": [
    {
     "data": {
      "text/plain": [
       "{'radius': 3.794733192202055,\n",
       " 'length': 1000,\n",
       " 'v0': 2.9998520438674596,\n",
       " 'water_flux_heaton': 24.0,\n",
       " 'water_flux_heaton_abs': 24.0,\n",
       " 'speed_heaton': 0.5305164769729845,\n",
       " 'water_flux_heaton2': 15.0,\n",
       " 'water_flux_heaton_abs2': 15.0,\n",
       " 'speed_heaton2': 0.33157279810811535,\n",
       " 'tot_cross_section': 45.238934211693014,\n",
       " 'lipid_phase_fraction': 0.4538863191879978,\n",
       " 'lipid_cross_section': 20.53333333333333,\n",
       " 'water_cross_section': 24.705600878359682,\n",
       " 'water_phase_radius': 2.804289037116686,\n",
       " 'net_water_flux_phase_lipid': 55.43726577067065,\n",
       " 'net_water_flux_phase': -10.212471415642081,\n",
       " 'net_water_flux_phase_abs': 10.212471415642081,\n",
       " 'net_water_flux_phase_backflow': -50.649737186312734,\n",
       " 'speed_backflow_phase': -4.100263534223791}"
      ]
     },
     "execution_count": 167,
     "metadata": {},
     "output_type": "execute_result"
    }
   ],
   "source": [
    "G[0][1]"
   ]
  },
  {
   "cell_type": "code",
   "execution_count": 168,
   "id": "00798c76-136f-479a-93a0-363f0531640f",
   "metadata": {},
   "outputs": [
    {
     "data": {
      "text/plain": [
       "{'radius': 1.8973665961010275,\n",
       " 'length': 1000,\n",
       " 'v0': 2.9998520438674596,\n",
       " 'water_flux_heaton': 6.0,\n",
       " 'water_flux_heaton_abs': 6.0,\n",
       " 'speed_heaton': 0.5305164769729845,\n",
       " 'water_flux_heaton2': 15.0,\n",
       " 'water_flux_heaton_abs2': 15.0,\n",
       " 'speed_heaton2': 1.3262911924324614,\n",
       " 'tot_cross_section': 11.309733552923253,\n",
       " 'lipid_phase_fraction': 0.4538863191879978,\n",
       " 'lipid_cross_section': 5.133333333333333,\n",
       " 'water_cross_section': 6.176400219589921,\n",
       " 'water_phase_radius': 1.402144518558343,\n",
       " 'net_water_flux_phase_lipid': 13.859316442667662,\n",
       " 'net_water_flux_phase': 10.212471415642083,\n",
       " 'net_water_flux_phase_abs': 10.212471415642083,\n",
       " 'net_water_flux_phase_backflow': 11.353154972974423,\n",
       " 'speed_backflow_phase': 3.676301589707608}"
      ]
     },
     "execution_count": 168,
     "metadata": {},
     "output_type": "execute_result"
    }
   ],
   "source": [
    "G[3][4]"
   ]
  },
  {
   "cell_type": "code",
   "execution_count": 169,
   "id": "8e3bc4dc-75cb-420d-8f94-263d53c94ca5",
   "metadata": {},
   "outputs": [
    {
     "data": {
      "application/vnd.jupyter.widget-view+json": {
       "model_id": "9b9c1def599c4904bb3ead6cbeaa1a80",
       "version_major": 2,
       "version_minor": 0
      },
      "image/png": "[encoded data removed]",
      "text/html": [
       "\n",
       "            <div style=\"display: inline-block;\">\n",
       "                <div class=\"jupyter-widgets widget-label\" style=\"text-align: center;\">\n",
       "                    Figure\n",
       "                </div>\n",
       "                <img src='data:image/png;base64,iVBORw0KGgoAAAANSUhEUgAAAFAAAAIwCAYAAAAReuzeAAAAOXRFWHRTb2Z0d2FyZQBNYXRwbG90bGliIHZlcnNpb24zLjYuMCwgaHR0cHM6Ly9tYXRwbG90bGliLm9yZy89olMNAAAACXBIWXMAAA9hAAAPYQGoP6dpAAAayElEQVR4nO2df3AU5f3H33t3gSMHiQkJJAQQAiTEkJCACKXFQCH4ox2qJcJXgj/GtBTGDk47LQodbW0RpyhaB0dRGLQqqLFaperoCBKiUX4oRBAw8ssfSQwhJOT3r7v7fP94cnu57Ca5+OGSg3xeMzvZ3fvs3vO87tlnd5/NPo9GRAThR2Pp6wRc6ohAJiKQiQhkIgKZiEAmIpCJCGQiApmIQCYikIkIZCICmYhAJiKQiQhkIgKZiEAmIpCJCGQiApmIQCYikIkIZCICmYhAJiKQiQhkIgKZiEAmIpCJCGQiApmIQCYikIkIZCICmYhAJiKQiQhkIgKZiEAmto4riAh79uzBvn37YLFYMGfOHFx99dV9kbY+58CBA8jLy4Pb7cb06dORkZEBTdN8g6gdBw8epISEBAJAVquVrFYrAaCpU6fSqVOnqL9w6tQpmjp1qsFDQkICHTx40CdWF1hUVERDhgzRg9tPNpuNYmNj6ezZs72emd7m7NmzFBsbSzabzeDBarXSkCFDqKioSI/XBS5ZssR0o/Ybr1mzpk8y1ZusXr3atBC1L0zZ2dl6vEZEVFdXh4iICDidzi7rhKioKJw7d+4i1C7BS3R0NCoqKrqMsdlsqKqqwuDBg9VZuLy8vFt5AFBRUeFX3KWK0+nsVp4nzlOQLABwxRVX+PUFoaGhsNkMJ+7LBqvVitDQUL9iPc4sABAZGYnMzExYrdZON7DZbFi6dCk/lUGMpmnIzs7uspBYrVbMnz8fERERaoWnMszPzyeLxUKaphkqTovFQna7nY4fP94H1Xrvcvz4cbLb7WSxWAweNE0ji8VC+fn5erzPdWBubi7Z7XY90HM2Cg8Pp927d/d2XvqM3bt3U3h4uH714SlYdrudcnNzfWI1It9OJ6qqqvD8889j3759sFqtmD17NpYsWQKHwxGAgyZ4qa+vx/bt25GXlweXy4UZM2bgjjvu8B66bRgECj1DGhOYiEAmIpCJCGQiApmIQCYikIm5wPp6IDMTyMoC3O5eTlIQ4XYrB5mZQEODeYzpvUxWFhGgpn7QiNopa9Z4PWRlmYYY70QuXABiY4GmJrU8fDjw/fdASEhgf+1go7UVGDUKOHtWLdvtwA8/AB2a/oyH8BNPeOUBagcvvRTAlAYpL73klQcoJ088YQjzLYEXLgBjxgDV1b5R8fHAV1/1n1LY2gpMnAicPu27Pjwc+OYbn1LoWwKfeMIoD1A76k+l8KWXjPIA5aZDKfSWwIYGYMQIFWSxGM++48cDJ04EKsnBxYQJwMmTvus8TsLDgdJSoK3p31sCKyu9pa/9fyKkpqq/334LuFyBTHZw4HSqvALevANeJ9XVQFWVvtrb+D9yJPD880BRERAWBuzfr9avXAkcOwZkZABdPDO5bLDZgNdeA/LzgeRkICdHrb/5ZmDuXCAxEYiL88abXtxs2OC9/unQhN2vyM31etiwwTREbuWYiEAmIpCJCGQiApmIQCYikIkIZCICmYhAJiKQiQhkIgKZiEAmIpCJCGQiApmIQCYikIkIZCICmYhAJiKQiQhkIgKZiEAmIpCJCGQiApmIQCYikIkIZCICmYhAJiKQiQhkIgKZiEAmIpCJCGQiApmIQCYikIkIZCICmYhAJiKQiQhkIgKZiEAmIpCJCGQiApmIQCYikIkIZCICmZiP+2C3A0OHqvkBA3oxOUHGgAFeD3a7aYj0pc9EDmEmIpCJCGQiApmIQCa6wNbWVrz66qvIz88HAGzfvh2///3vsXHjRrS0tPRZAnubnnrQL2OWLFkCIkJDQwOGDBkCt9uNX//619i1axdqamqwbdu23s1JH9FjD56uLFNSUoiIyOl00vDhw8ntduvdXKampgasl81go6cefOrACxcuoKysDE1NTSgtLQUAVFdXo7W1tddKQDDQEw/6rdyaNWuQnJwMANi6dStycnIQEhKCw4cP47777uulpPc9PfXQ6a2c0+lEYWEh4uLiEBsbG9hUBzHdefDrXrisrAwxMTEBSeClhJkHv64DczydUfdzzDz4lMCqqioQESIjI3Hu3Dnk5+cjMTERkyZN6tWE9jU98uA5HW/evJni4+NpzJgx9NRTT9FPf/pTWrFiBSUnJ9MzzzwTwAuH4KKnHnSBqamp1NjYSOfPnyeHw0Hl5eVERFRdXU2TJ0/utQz0NT31oF/GWK1W2O122O12jB8/HtHR0QCAsLAwaJrWa4dPX9NTD/pJxGazoaltKKA9e/boAbW1tYFOc1DRUw/6SaSurg4Oh8Nguby8HMXFxZgyZUqg0hxU9NSDPBNhIu2BTMwfa37wAZCbq+Z/9zvfIYL6E599BjzzjJpftEiNcNgBc4FHjgBbtqj5+fP7r8AzZ7wekpJMBcohzEQEMhGBTEQgExHIRAQyEYFMRCATEchEBDIRgUxEIBMRyEQEMhGBTEQgExHIRAQyEYFMRCATEchEBDIRgUxEIBMRyEQEMhGBTEQgExHIRAQyEYFMRCATEchEBDIRgUxEIBNzge1fMulHr3kZ8MOD+X/pZ2YCAweq6dprA5G0S4NrrwXCwoDmZtP/0Ae6elPp/HnV/duQIYFMYvBTWwu0tHi7weuAvOrFRE4iTEQgExHIxPQsXF8PFBUBVqt6Ray/dqPa0gIcPw64XEBiIuBwmAS1f/+/uppo5Uoih4MIUFNkJNH99xM1NTE7I2huJjp4kKi2tseb/u9//6OEhAQaP348bd682fB5RUUFLViwgBITEykpKYlOnjzJSmpTk8pzZKTXg8Oh3FRX+8bqAmtqiFJTiaxW70aeyWIhmjePqKXlR6SmuZlo0yaiUaPUzmbN6tHmra2tNGHCBCouLqaamhoaP348nT9/3icmOzubtm3bRkRE9fX1VFdX9yMSqmhpUXm1WIwerFblqKbGG68LXL3aXJ5n0jSip5/uQUo6ivNMEyf2KEMFBQV000036csrV66k7du368sXLlygxMTEHu2zK556SuW1Mw9Wq3LlwQYAra3Apk3qWO+KjRuB5cv9qDzuvVftsKbGd/24cUBGBrBmjfl2CxcCaWmq8m2jtLQUcXFx+vLIkSNRUlKiL585cwZRUVHIzs7GsWPHMGfOHKxfvx42W7vqvbISePRR73J6uvoui/Ec+uSTXWfN5VJZe/BBICQEqg48c6Zz4x0np7Obn/Ctt/zfWcfpuecM9URubi7dfffd+vL69evp0Ucf1Zf3799PISEhdOjQIXK5XJSdnU3PPvusb5pOnzZ+186dhqQ7nf4n9Ztv1DYWwP+zrNVq+qP5cuWV/u3MT+Li4nxKXHFxsU8vaiNHjkR8fDzS0tJgsVjwq1/9CoWFhV3vNCQEGDHCsNpi8Sn83e4CaLuMiY1Vp+mvv1Z+zbBagXnz/GicmTwZ+PxzYPVqYOdOwO32fhYWBvzxj503UEycaMjBNddcgy+//BIlJSUICwvDu+++iwceeED/PDY2FtHR0Thz5gzGjh2LvLw8JCUl+e43Jgb48EPvcnIyMGyY4es1TeVx587OqzNNAxISlDMA7fvO6r7Yvv9+N4dvR77+muj2231PacOH93AnRG+99RZNmDCBxo0bp/dfdcMNN1BJSQkRER04cIDS09Np0qRJtHTpUmpiXHO99173HrZs8cbrAt1uouXLvWcaT7DNpv6uW/ej00RUVER0221EQ4cS3XMPY0e9w7p1vnlv72TFCuXKg8+FtNtN9PbbRNddRxQWRhQRQZSVRZSf39tZ6Hvy81XeIyKUi+uuU27ayyMikuYsJtKYwEQEMhGBTEQgExHIRAQyEYFMzAUSAVu3Av/9by8nJwh54w3guec6/9z0MvzBB733MLm5Ab/qD1pefdXr4e9/Nw0x3ok4naqpoaJCLScnA19+GcCfOIiZNAk4elTNR0cDpaWAzfc5nPEQfvllrzxA7aBdd8D9hrw8rzwAOHcOeOUVY5xPeWxtJZowwdh+M2dO4A+XYGP2bKOHhATlqB2+Al94ofNGsLy83kx+37J7d+ceXnzRJ9Qr0Ok0L32eafbsXs5FH2JW+jzThAk+D4a8Ar/5xhs0frx3PjbW+1yz2ydKlwHtnyx58g4QjRtnfKJE7QeliosDli5VXR4vXOitJO++G0hJAf7wBz+eKF0GWCzquU1Kisq7h6ws5ea225QrD6a/woYNch1IpPLu8bBhg2lIPyhSgUUEMhGBTEQgExHIRAQyEYFMRCATEchEBDIRgUxEIBMRyEQEMhGBTEQgExHIRAQyEYFMRCATEchEBDIRgUxEIBMRyEQEMhGBTEQgExHIRAQyEYFMRCATEchEBDIRgUxEIBMRyEQEMhGBTEQgExHIRAQyEYFMRCATEchEBDIRgUxEIBMRyEQEMhGBTEQgExHIRAQyEYFMRCATEchEBDIx70u/ogIoK1Pzo0YB4eG9nKwgoboa+P57NR8TA0RFGUJkMAImcggzEYFMRCATEcjER+AXX3yBw4cPAwCOHTuGDRs24J133umThAULy7sZiVDvVXrt2rV499130drainnz5uHQoUP4+c9/jscffxyff/65z1BklyuLFi3yWSYivPfee6isrAQA5ObmGrbRL2NSUlJw+PBhNDU1ISYmBqWlpXA4HGhubsa0adP0knk5M336dMTHx2PZsmWwWCwgItx66614pa0D7oyMDONGnr5AJ0+erPcLOnPmTJ9+Qtt/djnjdrtp8+bNNG/ePMpvG8ps7NixXW6j14GRkZGoq6sDABQUFOiCz507hxDPOIiXOZqm4Te/+Q1yc3Px8ssv49Zbb0Vra2vX2xB1fSdSW1uL6upqjBw58qIm9lKgsLAQe/fu7fJE4tetXFlZGWJiYi5q4i41OnPg13VgTk7ORU/QpUanDtpXiJWVlfrw2+Xl5fSf//yHjhw5EoDq+tLhH//4R5ef69eBW7ZswcMPPwy3241Vq1Zh27ZtSE1NxV//+lesXLkSy5Yt660fu89YtWqVzzIRYcuWLahpG6l7/fr1hm10gRs3bsTRo0fR0NCA0aNH48yZM4iOjkZNTQ2uvfbafiEwNzcXM2bMwI033ghqOzXYbDYkJyd3vpGnKKanp+vFsuN1X1pa2sU8KoKWhoYG+stf/kJZWVl04sQJIur+OlAvgTabDU1NTbDb7djTbgig2trawP3kQcagQYOwdu1anDx5En/605+QmJgIV2dDXbehX8bU1dXB4XBA6zAGeHl5OYqLizFlypTApTxI2bFjB/bu3Yt169Z1GiNN+kxspmvdbu9o9RaLHyPTX6YQKReAcmAyII25wBMngC++UPM/+Yl6MtcfKS4GPv1UzU+eDCQmGmNMTy0yoo1CRrQJPCKQiQhkIgKZiEAmIpCJCGQiApmIQCYikIkIZCICmYhAJiKQiQhkIgKZiEAmIpCJCGQiApmIQCYikIkIZCICmYhAJiKQiQhkIgKZiEAmIpCJCGQiApmIQCYikIkIZCICmYhAJuYCr7rKfL6/kZTkne/Eg/mbSm43sGMHMGQIMHduoJJ3abBrF1BbCyxYYPqijbzqxUTqQCYikIkIZCICmfgIJALefhu4/nrVbWpkJHDLLcBHH/VV8oCbb74ZERERyMrKMnxWW1uLtLQ0fQoPD8e//vWvi/K9H32k8h4ZqVxcf71yYzjlet46dLuJli9XLyZard6XFG029XfdOsZbj0VFRLfdRjR0KNE99/Ro0w8//JB27NhBCxcu7DLO7XbT6NGj6fTp04yEKh56yDfv7Z0sX65cedAFbt7sDe5sev/9HqbEI85i8e5k+PAeZ2j37t3dCiwoKKBrrrmmx/vuyHvvde9hyxZvvE2VQuDRR9VL2Z1dFVqtwGOPAfPn+1H+Dx4E7rtPXYR63vgGgLAwYMUKYPdu8+0mTgSGDze9YO2O3NxcLF682PzDxkZg717vcnIyMGyYaejjj6u8dtbXhKYBjzwC3HVX24v8REQlJd1b9xTj9sXXlMJC/3ZmNj33HFFLi2GX3ZVAt9tNo0aNou+++8484PRp3+8JCSE6dswQ5nL5HixdTSUlahsLALS0+Pcru1y+BcqUb7/1b2cXkY8//hijR4/GKH+7JmhtBUpLDavbd5Hgzy6Atj4T4uKAiAigqqrzDTRN3Vtbrd3secECYNUqYNMmoK3LJJ1x44B589SpzYyUlIt/+ALqNLp6tXd5yhRgzhxDmNWq2gyOH++8KgOUqxEj2hY8xXf1at+zb8dJ04iefrqbw7c9zc1EmzYRjRrlu6OJE3uwE6L58+dTVFQUDRo0iOLi4mj//v10ww03UEnbMeRyuSguLo5KS0t7tN/OeOopldeuqrHVq73xusCaGqLUVHOJFgtRZqZp9dQ9HUXOmnURshk4WlqI5s0zrwutVuWopsYb79NrR3W1ukxzOLwbRUYSPfCA8sCiuZno4EGi2lrmjgJPUxPR/fervHs8OBzKTXW1b6xpc1Z9PVBUpOqEpCRgwAB/a6PLi5YWVR+6XKrLGIfDGCPtgUykMYGJCGQiApmIQCYikIkIZNK5wLo6oLm5F5MSpDQ3KxedYC7wnXdU253DARw9GqikBT9ffqkchIUpJ2aY3sskJnrvYebODex9UzAzd67XQ2KiaYhR4McfG++gT50KdFKDj1OnjC0rH39sCDMKzMw0NkPk5PRGkoOLnByjh8xMQ5ivwI6lr/2juf5UCk+d8n0k10Up9BVoVvr6Yyk0K32dlEJva0xZGRAbq84sQ4cC58+r+dBQoKFBtWk1NV3+fUoTAXa7asvy5B3wdfLDD2qwUrS/jAkNBcaOBUJC1HMND9nZ6m9qqv9PXC5l3G6VV8Cbd0A5sdmA+Hjlqg2vwLAw4MgR1fn0pEneDTMz1ROsjz7y44nSZYDVqvJaWqry7mHSJKCkBDh8WLlqw7cnc4fDvNnVc2j3F+x28zybPIyXe2EmIpCJCGQiApmIQCYikIkIZCICmYhAJiKQiQhkIgKZiEAmIpCJCGQiApmIQCYikIkIZCICmYhAJiKQiQhkIgKZiEAmIpCJCGQiApmIQCYikIkIZCICmYhAJiKQiQhkIgKZiEAmIpCJCGQiApmIQCYikIkIZCICmYhAJiKQiQhkIgKZiEAmIpCJCGQiApmIQCYikIkIZCICmYhAJjbTtbNmAf/8p5pPSenF5AQZKSleD7NmmYaY96XvcnkHFbJa+0efWWb44UEGI2AidSATEchEBDIRgSacPn0aBQUFaGxs9Fn/wQcfGIM764f11KlT9Prrr9MxkwHsLmc2btxISUlJtGDBAho7diy98cYb+mfp6emGeF3gL37xC33l66+/TgkJCbRixQpKTk6mzZs3BzjZwUNKSgrV19cTEdF3331HM2fOpHVtI7OmpaUZ4nWB7T+cPn06FRcXExFRVVUVpaamBjTRwcTEDuPeNTU10eLFi+muu+6iSZMmGeIt7Q5lNDY2or6+Hk6nE3FxcQCAK664ApYfMdrgpUp8fDw+ajeg8sCBA/HKK68gOjoaR00GZtAvpMeMGQOLxQIigqZp+OSTTxATE4O6ujr87Gc/Q2FhYa9loi/xnDgGDRpk+KykpEQvWB66vRNpaGjA2bNnMXbs2IuYzEuTsrIyxLR1wO2h22MzNDTU9Nfoj+Tk5BjW+XUv/Mtf/hJvv/12QBIVbDQ2NmLgwIF6vb9r1y4UFhYiKSkJN954oyHer7PD3/72t4uayGBmxowZqGkb1vfhhx/GQw89BCLCpk2b8Oc//9m4gT+n9lGjRrEuDS4lrrrqKn1+6tSp1Nw2KqvL5aKUlBRDvN6gumjRItNfhIhQWVkZmJ87CBk+fDg++eQTzJw5E3FxcaioqMCIESNQW1trGq8L3LlzJ1588UUMHjzYJ4CIkJ+fH9hUBxFbt27FnXfeiQEDBsDhcGDy5MmYNm0azp49i0ceecQQrwucPXs2Bg8ejIyMDENQenp6YFMdRIwZMwZ5eXk4duwYTpw4gezsbIwcORLTpk2DVVqkLz795x4tQJg/lWtp8Y5qaLerUW76I62tahgkABg40HSob/MS+OSTatSWsDDgzTcDmMIg5803vR6efNI0RA5hJiKQiQhkIgKZiEAmIpCJCGQiApmIQCYikIkIZCICmYhAJiKQiQhkIgKZiEAmIpCJCGQiApmIQCYikIkIZCICmYhAJiKQiQhkIgKZiEAmIpCJCGQiApmIQCYikIkIZCICmYhAJuYCo6LM5/sbfngwf09k4UJg3z5gyBDA5NWvfkNGBnDvvUBtrXJigrzqxUTqQCYikIkIZCICmRjOwpWNlfh34b+xr2QfrBYrZl85G0tSlsAxwNEX6esz6lvqsf3IduR9mweX24XpcdNxZ9qdiBgU4RPncxZ+7ehruP3N29HsbIamadCgwUUuhA8Mx5v/9yZmj5nd2/noE/K+ycNNr9yEmuYaWDQLCAQiwkDbQLxw0wu4JfkWPVYXmP9tPub8ew6ICATfKxuLZsEA6wAc+t0hTIya2Lu56WW+qvgK6c+ko8XVAje5fT7ToEHTNOTdkYdZV6peffU6cG3+WmjQDPIAwE1uON1OPP7p4wFOft/z2KePwel2GuQBAIGgQcPa/LX6Oo2IqLKxEkPXD+1256EhoahfU39RExxMEBEGPzwYDa0N3cZWrqpExKAIVQIvNF3w6wsaWhvgdDtZiQxmXOTySx7gdWYBgGGOYbBZzG+L2xMVGuVX3KWKzWJDVGj3jSc2iw3RjmgAbQIHDxiMRcmLYNM6l2PVrFg2ZdlFSmrw8tspv4VV67zndpvFhsXJizF4gOqgSD8Lf33+a1z97NVoaG2Ai1yGjaJDo1G4vBDDHMMCmPy+p7y+HGmb0nCu4ZyhurJqVoSGhOKzZZ8hYWgCgHZn4YShCdhz5x6MixynB3t+ibSYNBTcVXDZywNUdVZwVwHSYtIA+HoYFzkOe+7co8sDTJqziAh7vt2DfcVtdyJjZuPqEVf3Xg6CiAMlB7Dn2z3qTmTkdGRcmQFN03xipD2QiTQmMBGBTEQgExHIRAQyEYFMRCATEchEBDIRgUxEIBMRyEQEMhGBTEQgExHIRAQyEYFMRCATEchEBDIRgUxEIBMRyEQEMhGBTEQgExHIRAQyEYFMRCATEchEBDIRgUxEIBMRyEQEMhGBTEQgExHIRAQyEYFM/h/o6eJtXYfUegAAAABJRU5ErkJggg==' width=80.0/>\n",
       "            </div>\n",
       "        "
      ],
      "text/plain": [
       "Canvas(toolbar=Toolbar(toolitems=[('Home', 'Reset original view', 'home', 'home'), ('Back', 'Back to previous …"
      ]
     },
     "metadata": {},
     "output_type": "display_data"
    }
   ],
   "source": [
    "\n",
    "# Drawing the graph with customized edges\n",
    "plt.figure(figsize=(1*0.8, 7*0.8))\n",
    "DG = convert_to_directed(G,\"water_flux_heaton\")\n",
    "node_colors = ['black' if node in nodes_sink else 'green' if node in nodes_source else 'blue' for node in DG.nodes()]\n",
    "edge_widths = [2 for flow in nx.get_edge_attributes(DG, 'water_flux_heaton').values()]\n",
    "\n",
    "nx.draw(DG, pos=positions, with_labels=False, node_color=node_colors,width=0, node_size=40, font_color='red',arrows = False)\n",
    "edge_labels = nx.get_edge_attributes(DG, 'water_flux_heaton')\n",
    "edge_labels = {key : \"{:.1f}\".format(abs(edge_labels[key])*C_factor_volume) for key in edge_labels.keys()}\n",
    "edges = nx.draw_networkx_edges(DG, pos=positions, width=edge_widths, arrowstyle='->', arrowsize=10, edge_color='red')\n",
    "label_pos = {e: [(positions[e[0]][0]+positions[e[1]][0])/2, (positions[e[0]][1]+positions[e[1]][1])/2 + 0.1] for e in edge_labels}\n",
    "nx.draw_networkx_edge_labels(DG, pos = positions,label_pos=0.6, edge_labels=edge_labels, font_color='black',font_size = 7)\n",
    "\n",
    "plt.savefig(\n",
    "    os.path.join(path_figure, f\"flux_in.pdf\"),\n",
    "    transparent=True,\n",
    "    bbox_inches=\"tight\")"
   ]
  },
  {
   "cell_type": "code",
   "execution_count": 170,
   "id": "f19cc65b-cd5c-4587-8b0d-b72650168fa1",
   "metadata": {},
   "outputs": [
    {
     "data": {
      "application/vnd.jupyter.widget-view+json": {
       "model_id": "7eb4d5d36d0e4aada57f6a001c3cac46",
       "version_major": 2,
       "version_minor": 0
      },
      "image/png": "[encoded data removed]",
      "text/html": [
       "\n",
       "            <div style=\"display: inline-block;\">\n",
       "                <div class=\"jupyter-widgets widget-label\" style=\"text-align: center;\">\n",
       "                    Figure\n",
       "                </div>\n",
       "                <img src='data:image/png;base64,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' width=80.0/>\n",
       "            </div>\n",
       "        "
      ],
      "text/plain": [
       "Canvas(toolbar=Toolbar(toolitems=[('Home', 'Reset original view', 'home', 'home'), ('Back', 'Back to previous …"
      ]
     },
     "metadata": {},
     "output_type": "display_data"
    }
   ],
   "source": [
    "plt.figure(figsize=(1*0.8, 7*0.8))\n",
    "DG = convert_to_directed(G,\"net_water_flux_phase_backflow\")\n",
    "node_colors = ['black' if node in nodes_sink else 'green' if node in nodes_source else 'blue' for node in DG.nodes()]\n",
    "edge_widths = [2 for flow in nx.get_edge_attributes(DG, 'net_water_flux_phase_backflow').values()]\n",
    "\n",
    "nx.draw(DG, pos=positions, with_labels=False, node_color=node_colors,width=0, node_size=40, font_color='red',arrows = False)\n",
    "\n",
    "edges = nx.draw_networkx_edges(DG, pos=positions, width=edge_widths, arrowstyle='->', arrowsize=10, edge_color='blue')\n",
    "label_pos = {e: [(positions[e[0]][0]+positions[e[1]][0])/2, (positions[e[0]][1]+positions[e[1]][1])/2 + 0.1] for e in edge_labels}\n",
    "DG = convert_to_directed(G,\"water_flux_heaton\")\n",
    "edge_labels = nx.get_edge_attributes(DG, 'net_water_flux_phase_backflow')\n",
    "edge_labels = {key : \"{:.1f}\".format(abs(edge_labels[key])) for key in edge_labels.keys()}\n",
    "nx.draw_networkx_edge_labels(DG, pos = positions,label_pos=0.4, edge_labels=edge_labels, font_color='black',font_size = 7)\n",
    "\n",
    "plt.savefig(\n",
    "    os.path.join(path_figure, f\"flux_out.pdf\"),\n",
    "    transparent=True,\n",
    "    bbox_inches=\"tight\")"
   ]
  },
  {
   "cell_type": "code",
   "execution_count": 173,
   "id": "1186ae3d-be1d-47f2-bc1b-eeab4e88e421",
   "metadata": {},
   "outputs": [],
   "source": [
    "def get_backflow(ratio,length_init,cross_section_ratio=0.5):\n",
    "    G,positions = create_G(length_init)\n",
    "    add_attributes(G,length_init,cross_section_ratio)\n",
    "    add_heaton_flux(G,ratio,30)\n",
    "    add_heaton_flux2(G,ratio = 0.5,tot_growth = 30)\n",
    "    add_backflow(G)\n",
    "    plant1 = G[0][1]\n",
    "    plant2 = G[3][4]    \n",
    "    fluxin1 = G[0][1][\"water_flux_heaton\"]\n",
    "    fluxin2 = G[3][4][\"water_flux_heaton\"]\n",
    "    fluxout1 = G[0][1][\"net_water_flux_phase_backflow\"]\n",
    "    fluxout2 = G[3][4][\"net_water_flux_phase_backflow\"]\n",
    "    # print(fluxin1,fluxin2,fluxout1,fluxout2)\n",
    "    return((fluxin2-fluxin1)/(fluxin2+fluxin1),-(fluxout1-fluxout2)/(fluxout1+fluxout2))"
   ]
  },
  {
   "cell_type": "code",
   "execution_count": 174,
   "id": "8ee9e655-a596-4cf4-9fba-025d8d59bad0",
   "metadata": {},
   "outputs": [
    {
     "data": {
      "text/plain": [
       "(-0.6, -1.577818951853826)"
      ]
     },
     "execution_count": 174,
     "metadata": {},
     "output_type": "execute_result"
    }
   ],
   "source": [
    "get_backflow(0.2,length_init,0.2)"
   ]
  },
  {
   "cell_type": "code",
   "execution_count": 175,
   "id": "232263a9-ca3d-460a-bc70-ea16c6214374",
   "metadata": {
    "tags": []
   },
   "outputs": [],
   "source": [
    "ratios = np.linspace(0.1,0.9,100)\n",
    "# backflow_ratios0 = [get_backflow(ratio,1000)[1] for ratio in ratios]\n",
    "backflow_ratios = [get_backflow(ratio,length_init,ratio)[1] for ratio in ratios]\n",
    "inflow_ratios = [get_backflow(ratio,length_init,ratio)[0] for ratio in ratios]\n",
    "backflow_ratios2 = [get_backflow(ratio,length_init)[1] for ratio in ratios]\n",
    "inflow_ratios2 = [get_backflow(ratio,length_init)[0] for ratio in ratios]\n",
    "# backflow_ratios2 = [get_backflow(ratio,10000)[1] for ratio in ratios]"
   ]
  },
  {
   "cell_type": "code",
   "execution_count": 176,
   "id": "aba38c6f-a50e-4b02-824d-4a6a4a855d05",
   "metadata": {
    "tags": []
   },
   "outputs": [
    {
     "data": {
      "application/vnd.jupyter.widget-view+json": {
       "model_id": "8e561039f7e847568a250eafe2320cbb",
       "version_major": 2,
       "version_minor": 0
      },
      "image/png": "[encoded data removed]",
      "text/html": [
       "\n",
       "            <div style=\"display: inline-block;\">\n",
       "                <div class=\"jupyter-widgets widget-label\" style=\"text-align: center;\">\n",
       "                    Figure\n",
       "                </div>\n",
       "                <img src='data:image/png;base64,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' width=200.0/>\n",
       "            </div>\n",
       "        "
      ],
      "text/plain": [
       "Canvas(toolbar=Toolbar(toolitems=[('Home', 'Reset original view', 'home', 'home'), ('Back', 'Back to previous …"
      ]
     },
     "metadata": {},
     "output_type": "display_data"
    }
   ],
   "source": [
    "fig,ax = plt.subplots(figsize=(2,2))\n",
    "ax.plot(inflow_ratios,backflow_ratios,color = \"purple\")\n",
    "ax.plot(inflow_ratios2,backflow_ratios2,color = \"green\")\n",
    "\n",
    "ax.plot(inflow_ratios,inflow_ratios,color=\"black\",linestyle = \"dashed\")\n",
    "ax.set_xlabel(\"input carbon flux ratio\")\n",
    "ax.set_ylabel(\"output phoshphorous flux ratio\")\n",
    "\n",
    "plt.savefig(\n",
    "    os.path.join(path_figure, f\"ratio_relationship.pdf\"),\n",
    "    transparent=True,\n",
    "    bbox_inches=\"tight\")"
   ]
  },
  {
   "cell_type": "code",
   "execution_count": 177,
   "id": "cba079b3-6380-42c5-942f-41ae7639a24b",
   "metadata": {},
   "outputs": [],
   "source": [
    "P_fraction = 0.25 \n",
    "def get_backflow2(carbon_flux):\n",
    "    G,positions = create_G(length_init)\n",
    "    add_attributes(G,5000)\n",
    "    add_heaton_flux(G,0.5,tot_growth = carbon_flux)\n",
    "    add_heaton_flux2(G,ratio = 0.5,tot_growth = carbon_flux)\n",
    "    \n",
    "    add_backflow(G)\n",
    "    plant1 = G[0][1]\n",
    "    fluxin = G[0][1][\"water_flux_heaton\"]\n",
    "    fluxout = G[0][1][\"net_water_flux_phase_backflow\"]\n",
    "    # print(fluxin1,fluxin2,fluxout1,fluxout2)\n",
    "    return(fluxin*C_factor*1e-12*3600*1e6*24,-fluxout*1e-12*3600*1e6*24*pdry*density*P_fraction)"
   ]
  },
  {
   "cell_type": "code",
   "execution_count": 136,
   "id": "28afadf6-8b11-4db6-94d2-957e677b0127",
   "metadata": {},
   "outputs": [
    {
     "data": {
      "text/plain": [
       "1.8629032258064515"
      ]
     },
     "execution_count": 136,
     "metadata": {},
     "output_type": "execute_result"
    }
   ],
   "source": [
    "CP = pdry*density*P_fraction #g/cm3\n",
    "CP = CP/31*1e3 #mol/L\n",
    "CP"
   ]
  },
  {
   "cell_type": "code",
   "execution_count": 178,
   "id": "5722bc1b-6c5a-49c6-8102-9803e622c147",
   "metadata": {
    "tags": []
   },
   "outputs": [],
   "source": [
    "Cinputs_raw = np.linspace(1,30,25)\n",
    "Cinputs = [get_backflow2(Cinput)[0] for Cinput in Cinputs_raw]\n",
    "Poutputs = [get_backflow2(Cinput)[1] for Cinput in Cinputs_raw]"
   ]
  },
  {
   "cell_type": "code",
   "execution_count": 179,
   "id": "f973ffec-2e56-4cbd-8bc8-d164c58d84f9",
   "metadata": {},
   "outputs": [
    {
     "data": {
      "application/vnd.jupyter.widget-view+json": {
       "model_id": "9f04c1544b204535b94e991a4c9d6ad0",
       "version_major": 2,
       "version_minor": 0
      },
      "image/png": "[encoded data removed]",
      "text/html": [
       "\n",
       "            <div style=\"display: inline-block;\">\n",
       "                <div class=\"jupyter-widgets widget-label\" style=\"text-align: center;\">\n",
       "                    Figure\n",
       "                </div>\n",
       "                <img src='data:image/png;base64,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' width=200.0/>\n",
       "            </div>\n",
       "        "
      ],
      "text/plain": [
       "Canvas(toolbar=Toolbar(toolitems=[('Home', 'Reset original view', 'home', 'home'), ('Back', 'Back to previous …"
      ]
     },
     "metadata": {},
     "output_type": "display_data"
    }
   ],
   "source": [
    "fig,ax = plt.subplots(figsize=(2,2))\n",
    "ax.scatter(Cinputs,Poutputs,color=\"green\",s=10)\n",
    "ax.plot(Cinputs,1/3*np.array(Cinputs),color=\"black\",linestyle = \"dashed\")\n",
    "ax.set_xlabel(\"input carbon flux ($\\mu g/day$)\")\n",
    "ax.set_ylabel(\"output phoshporous flux ($\\mu g/day$)\")\n",
    "\n",
    "plt.savefig(\n",
    "    os.path.join(path_figure, f\"input_output_relationship.pdf\"),\n",
    "    transparent=True,\n",
    "    bbox_inches=\"tight\")"
   ]
  },
  {
   "cell_type": "code",
   "execution_count": null,
   "id": "c35a44b0-c665-490f-ba21-145df7b86054",
   "metadata": {},
   "outputs": [],
   "source": []
  },
  {
   "cell_type": "code",
   "execution_count": null,
   "id": "2054498d-72f3-48dd-94f1-054a7e038264",
   "metadata": {},
   "outputs": [],
   "source": []
  }
 ],
 "metadata": {
  "kernelspec": {
   "display_name": "Python 3 (ipykernel)",
   "language": "python",
   "name": "python3"
  },
  "language_info": {
   "codemirror_mode": {
    "name": "ipython",
    "version": 3
   },
   "file_extension": ".py",
   "mimetype": "text/x-python",
   "name": "python",
   "nbconvert_exporter": "python",
   "pygments_lexer": "ipython3",
   "version": "3.10.6"
  }
 },
 "nbformat": 4,
 "nbformat_minor": 5
}
