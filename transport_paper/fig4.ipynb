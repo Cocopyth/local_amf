{
 "cells": [
  {
   "cell_type": "code",
   "execution_count": 1,
   "id": "b6b626e2-a013-48f1-9f6a-76ffb9dec413",
   "metadata": {},
   "outputs": [
    {
     "name": "stderr",
     "output_type": "stream",
     "text": [
      "c:\\users\\coren\\documents\\phd\\code\\amftrack\\amftrack\\util\\dbx.py:3: TqdmExperimentalWarning: Using `tqdm.autonotebook.tqdm` in notebook mode. Use `tqdm.tqdm` instead to force console mode (e.g. in jupyter console)\n",
      "  from tqdm.autonotebook import tqdm\n"
     ]
    }
   ],
   "source": [
    "%load_ext autoreload\n",
    "%autoreload 2\n",
    "%matplotlib widget\n",
    "import pickle\n",
    "import os\n",
    "\n",
    "from amftrack.util.sys import (\n",
    "\n",
    "    update_plate_info,\n",
    "\n",
    "    get_current_folders,\n",
    ")\n",
    "\n",
    "from amftrack.pipeline.functions.image_processing.experiment_class_surf import (\n",
    "    Experiment,\n",
    ")\n",
    "\n",
    "from amftrack.pipeline.functions.image_processing.experiment_class_surf import (\n",
    "    Node,\n",
    ")\n",
    "from amftrack.pipeline.functions.post_processing.extract_study_zone import (\n",
    "    load_study_zone,\n",
    ")\n",
    "from amftrack.pipeline.functions.post_processing.exp_plot import *\n",
    "import pickle\n",
    "import scipy.io as sio\n",
    "import networkx as nx\n",
    "import numpy as np\n",
    "from sthype import SpatialGraph, HyperGraph\n",
    "from sthype.graph_functions import spatial_temporal_graph_from_spatial_graphs\n",
    "\n",
    "import matplotlib.pyplot as plt\n",
    "import os\n",
    "import pickle\n",
    "from tqdm import tqdm\n",
    "import pandas as pd\n",
    "from amftrack.pipeline.functions.image_processing.experiment_util import (\n",
    "    get_all_edges,\n",
    "    get_all_nodes, get_timedelta_second,\n",
    ")\n",
    "from amftrack.pipeline.functions.transport_processing.high_mag_videos.temporal_graph_util import *\n",
    "mpl.rcParams[\"figure.dpi\"] = 100\n",
    "import seaborn as sns\n",
    "plt.style.use('presentation.mplstyle')\n",
    "import logging\n",
    "\n",
    "# Get the logger for 'fontTools'\n",
    "font_tools_logger = logging.getLogger('fontTools')\n",
    "\n",
    "# Set the logging level to WARNING, which ignores DEBUG and INFO messages\n",
    "font_tools_logger.setLevel(logging.WARNING)"
   ]
  },
  {
   "cell_type": "code",
   "execution_count": 2,
   "id": "b72fdfb9-3df7-4704-b652-a51cdd37e037",
   "metadata": {},
   "outputs": [],
   "source": [
    "path_figure = r\"C:\\Users\\coren\\Documents\\PhD\\paper\\transport\\Fig4\""
   ]
  },
  {
   "cell_type": "code",
   "execution_count": 3,
   "id": "6431b09c-f4dd-4210-a93f-a436852568df",
   "metadata": {},
   "outputs": [],
   "source": [
    "pdry = 0.21\n",
    "pcarbon = 0.5\n",
    "CUE = 0.5\n",
    "density = 1.1 #g.cm-3\n",
    "C_factor = pdry * pcarbon/CUE*density #g.cm-3\n",
    "C_factor_volume = C_factor /0.9 #cm3.cm-3\n",
    "v0 = 3 #um.s-1\n",
    "C_factor_flux = C_factor_volume/v0 #s.um-1"
   ]
  },
  {
   "cell_type": "code",
   "execution_count": 4,
   "id": "05a90ae6-4ada-4944-a4da-1561a5880211",
   "metadata": {},
   "outputs": [
    {
     "data": {
      "text/plain": [
       "0.25666666666666665"
      ]
     },
     "execution_count": 4,
     "metadata": {},
     "output_type": "execute_result"
    }
   ],
   "source": [
    "C_factor_volume"
   ]
  },
  {
   "cell_type": "code",
   "execution_count": 5,
   "id": "c064fc08-c8da-477f-ad2c-4c6747da4a0d",
   "metadata": {},
   "outputs": [],
   "source": [
    "nodes_source = [3,0]\n",
    "nodes_sink = [6,7]"
   ]
  },
  {
   "cell_type": "code",
   "execution_count": 6,
   "id": "b14fdb96-ffb1-4060-8746-64358f861a6e",
   "metadata": {},
   "outputs": [],
   "source": [
    "def create_G(length_init):\n",
    "    # Create an empty graph\n",
    "    G = nx.Graph()\n",
    "\n",
    "    # Add 6 nodes\n",
    "    G.add_nodes_from(range(8))\n",
    "\n",
    "    # Manually set positions for a 3x2 lattice\n",
    "    positions = {0: (1000, 0), 1: (1000, length_init), 2: (1000, length_init+1000),\n",
    "                 3: (0, 0), 4: (0, length_init), 5: (0, length_init+1000),6:(0,length_init+2000),7:(1000,length_init+2000)}\n",
    "\n",
    "    # Add edges between adjacent nodes\n",
    "    edges = [(0, 1), (1, 2),  # edges in the top row\n",
    "             (3, 4), (4, 5),  # edges in the bottom row\n",
    "            (1, 4),(5,6),(2,7),(2,5)]  # vertical edges connecting rows\n",
    "\n",
    "    # Add edges to the graph\n",
    "    G.add_edges_from(edges)\n",
    "    return(G,positions)"
   ]
  },
  {
   "cell_type": "code",
   "execution_count": 7,
   "id": "afc9a63a-88af-48b1-8d63-979b6f3d5c6f",
   "metadata": {},
   "outputs": [],
   "source": [
    "def add_attributes(G,length_init = 1000,ratio = 0.5):\n",
    "    for edge in G.edges:\n",
    "        G[edge[0]][edge[1]][\"radius\"] = 3 #um\n",
    "        G[edge[0]][edge[1]][\"length\"] = 1000 #um\n",
    "\n",
    "        G[edge[0]][edge[1]]['v0'] = 0\n",
    "    G[0][1][\"length\"] = length_init\n",
    "    G[3][4][\"length\"] = length_init\n",
    "    tot_cross_section = 2*3**2\n",
    "    G[3][4][\"radius\"] = np.sqrt(tot_cross_section*ratio)\n",
    "    G[0][1][\"radius\"] = np.sqrt(tot_cross_section*(1-ratio))    "
   ]
  },
  {
   "cell_type": "code",
   "execution_count": 8,
   "id": "6c1273ae-35f7-4c7b-af87-18394066bd46",
   "metadata": {},
   "outputs": [],
   "source": [
    "def add_heaton_flux(G,ratio = 0.1,tot_growth = 20):\n",
    "    ext_flows_out = {6 : tot_growth/2, 7 : tot_growth/2}\n",
    "    ext_flows_in = {3 : -ratio*tot_growth, 0:-(1-ratio)*tot_growth}\n",
    "    DG = convert_to_directed(G)\n",
    "    for node in nodes_sink:\n",
    "        ext_flows_in[node] = 0\n",
    "    tot_flow = np.sum(list(ext_flows_in.values()))\n",
    "    ext_flows = {**ext_flows_in, **ext_flows_out}\n",
    "    A, b = build_matrix_system(DG, ext_flows)\n",
    "    flows = solve_flows(A, b)\n",
    "    edge_flows = {edge: flow for edge, flow in zip(DG.edges(), flows)}\n",
    "    nx.set_edge_attributes(G, edge_flows, \"water_flux_heaton\")\n",
    "    for edge in G.edges:\n",
    "        G[edge[0]][edge[1]][\"water_flux_heaton_abs\"] = abs(G[edge[0]][edge[1]][\"water_flux_heaton\"])\n",
    "        G[edge[0]][edge[1]][\"speed_heaton\"] = G[edge[0]][edge[1]][\"water_flux_heaton\"] / (np.pi * G[edge[0]][edge[1]][\"radius\"] ** 2)"
   ]
  },
  {
   "cell_type": "code",
   "execution_count": 9,
   "id": "c0b0ac32-431d-429f-b0f3-4ee6623ad3e3",
   "metadata": {},
   "outputs": [],
   "source": [
    "def add_heaton_flux2(G,ratio = 0.5,tot_growth = 20):\n",
    "    ext_flows_out = {6 : tot_growth/2, 7 : tot_growth/2}\n",
    "    ext_flows_in = {3 : -ratio*tot_growth, 0:-(1-ratio)*tot_growth}\n",
    "    DG = convert_to_directed(G)\n",
    "    for node in nodes_sink:\n",
    "        ext_flows_in[node] = 0\n",
    "    tot_flow = np.sum(list(ext_flows_in.values()))\n",
    "    ext_flows = {**ext_flows_in, **ext_flows_out}\n",
    "    A, b = build_matrix_system(DG, ext_flows)\n",
    "    flows = solve_flows(A, b)\n",
    "    edge_flows = {edge: flow for edge, flow in zip(DG.edges(), flows)}\n",
    "    nx.set_edge_attributes(G, edge_flows, \"water_flux_heaton2\")\n",
    "    for edge in G.edges:\n",
    "        G[edge[0]][edge[1]][\"water_flux_heaton_abs2\"] = abs(G[edge[0]][edge[1]][\"water_flux_heaton2\"])\n",
    "        G[edge[0]][edge[1]][\"speed_heaton2\"] = G[edge[0]][edge[1]][\"water_flux_heaton2\"] / (np.pi * G[edge[0]][edge[1]][\"radius\"] ** 2)"
   ]
  },
  {
   "cell_type": "code",
   "execution_count": 65,
   "id": "d895a400-6580-4ef7-b282-8117a005a84a",
   "metadata": {},
   "outputs": [],
   "source": [
    "tanh_steepness = 10#s.um-1\n",
    "def add_backflow(G,tot_growth = 20):\n",
    "\n",
    "    lipid_fraction = 0.1 \n",
    "    for edge in G.edges:\n",
    "        G[edge[0]][edge[1]][\"tot_cross_section\"] = np.pi * G[edge[0]][edge[1]][\"radius\"]**2\n",
    "        G[edge[0]][edge[1]][\"lipid_phase_fraction\"] = np.abs(G[edge[0]][edge[1]][\"speed_heaton\"]) * C_factor_flux / lipid_fraction\n",
    "        G[edge[0]][edge[1]][\"lipid_cross_section\"] = G[edge[0]][edge[1]][\"lipid_phase_fraction\"]*G[edge[0]][edge[1]][\"tot_cross_section\"]\n",
    "        assert(G[edge[0]][edge[1]][\"lipid_phase_fraction\"]<1)\n",
    "        assert(G[edge[0]][edge[1]][\"lipid_phase_fraction\"]>=0)\n",
    "\n",
    "        G[edge[0]][edge[1]][\"water_cross_section\"] = (1-G[edge[0]][edge[1]][\"lipid_phase_fraction\"])*G[edge[0]][edge[1]][\"tot_cross_section\"]\n",
    "        G[edge[0]][edge[1]][\"water_phase_radius\"] = np.sqrt((G[edge[0]][edge[1]][\"water_cross_section\"] /np.pi))\n",
    "\n",
    "        G[edge[0]][edge[1]]['v0'] = np.tanh(tanh_steepness*G[edge[0]][edge[1]]['speed_heaton'])*v0\n",
    "        \n",
    "        G[edge[0]][edge[1]][\"net_water_flux_phase_lipid\"] = G[edge[0]][edge[1]][\"lipid_cross_section\"]*G[edge[0]][edge[1]]['v0']*(1-lipid_fraction)\n",
    "    DG = convert_to_directed(G,radius_attribute = \"water_phase_radius\")\n",
    "    for node in (nodes_source):\n",
    "        DG.add_edge(node, \"ground\", length=0, radius=2, v0=0, Res=0, pot=0)  # Add edge back to the root\n",
    "\n",
    "\n",
    "    # ext_flows = {}\n",
    "    ext_flows_out = {6 : tot_growth/2, 7 : tot_growth/2}\n",
    "    ext_flows_in = {\"ground\" : -tot_growth}\n",
    "    ext_flows = {**ext_flows_in, **ext_flows_out}\n",
    "    A, b = build_matrix_system(DG, ext_flows)\n",
    "    flows = solve_flows(A, b)\n",
    "    edge_flows = {edge: flow for edge, flow in zip(DG.edges(), flows)}\n",
    "    nx.set_edge_attributes(G, edge_flows, \"net_water_flux_phase\")\n",
    "    for edge in G.edges:\n",
    "        G[edge[0]][edge[1]][\"net_water_flux_phase_abs\"] = abs(G[edge[0]][edge[1]][\"net_water_flux_phase\"])\n",
    "        # G[edge[0]][edge[1]][\"net_water_flux_phase_backflow\"] = G[edge[0]][edge[1]][\"net_water_flux_phase\"]+G[edge[0]][edge[1]][\"water_flux_heaton2\"]-G[edge[0]][edge[1]][\"net_water_flux_phase_lipid\"]\n",
    "        G[edge[0]][edge[1]][\"net_water_flux_phase_backflow\"] = G[edge[0]][edge[1]][\"net_water_flux_phase\"]-G[edge[0]][edge[1]][\"net_water_flux_phase_lipid\"]\n",
    "        G[edge[0]][edge[1]][\"speed_backflow_phase\"] = 2*G[edge[0]][edge[1]][\"net_water_flux_phase_backflow\"] / G[edge[0]][edge[1]][\"water_cross_section\"]"
   ]
  },
  {
   "cell_type": "code",
   "execution_count": 66,
   "id": "68d63b58-e6f3-431c-be40-7e9eeee5142d",
   "metadata": {},
   "outputs": [],
   "source": [
    "def convert_to_directed(undirected_graph,orientation_attribute=None,radius_attribute = 'radius'):\n",
    "    # Create a new directed graph\n",
    "    directed_graph = nx.DiGraph()\n",
    "\n",
    "    # Define constant values for dynamic viscosity (mu)\n",
    "    mu = 1e-3  #kg.m-1.s-1\n",
    "    mu = mu * 1e-6 #kg.um-1.s-1 (but doesn't really have consequences\n",
    "    # until compared with aquaporin porosity)\n",
    "\n",
    "    # Add edges to the directed graph with direction based on node label ordering\n",
    "    for u, v, attr in undirected_graph.edges(data=True):\n",
    "        orientation_tot =(1-2*(u>v))\n",
    "        if not orientation_attribute is None:\n",
    "            orientation_tot *= (2*(attr[orientation_attribute]>0)-1)\n",
    "        if orientation_tot==1:\n",
    "            directed_graph.add_edge(u, v, **attr)\n",
    "        else:\n",
    "            directed_graph.add_edge(v, u, **attr)\n",
    "\n",
    "    # Calculate the resistance and potential for each edge in the directed graph\n",
    "    for u, v, attr in directed_graph.edges(data=True):\n",
    "        # attr['radius'] = max(attr['width'] / 2, 0.5)\n",
    "        # attr['v0'] = np.sign(attr['QBC_net'])*3 if abs(attr['QBC_net'])>0 else 0\n",
    "        attr['Res'] = 8 * mu * attr[\"length\"] / (np.pi * attr[radius_attribute] ** 4)\n",
    "        if radius_attribute == \"water_phase_radius\":\n",
    "            attr['pot'] = 8 * mu * attr[\"length\"] * attr['v0'] / (np.pi * attr[radius_attribute] ** 2)+attr['Res']*attr['net_water_flux_phase_lipid']\n",
    "            # attr['pot'] = 8 * mu * attr[\"length\"] * attr['v0'] / (np.pi * attr[radius_attribute] ** 2)\n",
    "        \n",
    "        else:\n",
    "            attr['pot'] = 8 * mu * attr[\"length\"] * attr['v0'] / (np.pi * attr[radius_attribute] ** 2)\n",
    "\n",
    "    return directed_graph"
   ]
  },
  {
   "cell_type": "code",
   "execution_count": 67,
   "id": "c86b6866-a138-4fe9-b81c-a89eb37ae047",
   "metadata": {
    "tags": []
   },
   "outputs": [
    {
     "data": {
      "application/vnd.jupyter.widget-view+json": {
       "model_id": "a2fbdbaff5ca4092ad23ce09514f4430",
       "version_major": 2,
       "version_minor": 0
      },
      "image/png": "[encoded data removed]",
      "text/html": [
       "\n",
       "            <div style=\"display: inline-block;\">\n",
       "                <div class=\"jupyter-widgets widget-label\" style=\"text-align: center;\">\n",
       "                    Figure\n",
       "                </div>\n",
       "                <img src='data:image/png;base64,iVBORw0KGgoAAAANSUhEUgAAAyAAAAJYCAYAAACadoJwAAAAOXRFWHRTb2Z0d2FyZQBNYXRwbG90bGliIHZlcnNpb24zLjYuMCwgaHR0cHM6Ly9tYXRwbG90bGliLm9yZy89olMNAAAACXBIWXMAAA9hAAAPYQGoP6dpAAAqAUlEQVR4nO3df5Rcd33f/9fs7mhH2l2ttLZsabHBKHbcAFEjmZ8NySE5ISGE/Gj4EoJdwMk3OTS/mqYNDU1LYr45JaTND1pOIPSblPQbcHpS0vykNE3SkELKT0vY5ktjGxSC5dUa2atdabWa0ezs9A9Jxgb5yDM7+5n13cfjH7B2770fmfvH+8ncuZ9at9vtBgAAoICRYS8AAADYOgQIAABQjAABAACKESAAAEAxAgQAAChGgAAAAMUIEAAAoBgBAgAAFCNAAACAYgQIAABQjAABAACKESAAAEAxAgQAAChGgAAAAMUIEAAAoBgBAgAAFCNAAACAYgQIAABQjAABAACKESAAAEAxAgQAAChGgAAAAMUIEAAAoBgBAgAAFCNAAACAYgQIAABQjAABAACKESAAAEAxAgQAAChGgAAAAMUIEAAAoBgBAgAAFDM27AVsBs3VThab7Sy1VtNeW8taNxmpJfWRkUyPj2VXo57G2OiwlwkAwCZnrry8LRsgS812ji6uZG65mVZnLUlSu8TvdS/85/joSGYnG9m/a0emG/Vi6wQAYHMzV/am1u12u5f/tWrodruZW27l3oXlnGy2U8sXb4Qn4uLvzzTquWFmMrOT46nVLnV7AQBQZebK/m2ZAGmudnJkfinHz7TWfa6LN8y+ifEc3Du95T9GAwDYSsyV67MlAuTY6bM5PL+Uzlq3pzK9nFqS0ZFaDu2dzjVT2wd4ZgAANiNz5fpVPkDuW1jO3SdOb/h1DuzZmetnJjb8OgAADIe5cjAq/RreUjdJktx14lQ+s3CmyLUAACjLXDk4lQ2QY6fPFrtJLrrrxKkcO3226DUBANhY5srBqmSANFc7OTy/NJRrH55fSnO1M5RrAwAwWObKwavcPiDdbjdHLnwxqFerJ76QxV//1Zz9wJ9ndX4utUYjY0+5Nttf8MJc8fo3PqFzdNa6OfLgUp4/u3vLvEoNAKCKep0rz370f+X4a/+vy/7e7h/7yez+kX9y2d+r6lxZuQCZW2719Uq05pFPZP51r87aqaXUr//K7PjGF2ftzJm0P3Nvln7z3z/hAOkmOb7cytxyK0+ZavS8DgAANode58rRPXsy+V3fc+kfrnWy/Ie/myRp3PS8J3S+qs6VlQuQ+xaWez5m9cH5zL/u1emea+Xqt/1GJl78rY/5efOuIz2dr3ZhHVW6UQAAtppe58pt+2/IVW956yV/tvI//0eW//B3M7pvNo3nvuAJn7OKc2WlvgOy1Gxnodnu+biFX35z1k4tZeYn/+WXxUeSNA4c7Ol83SQLzXaWWr2vBQCA4et3rnw8Fz/9mHrZd6c28sRH8CrOlZUKkKOLK+n16bjO0mLOvP+PMjK1M1OvuHlga6klOXpyZWDnAwCgnH7myseztrKSM//jT5Ikk9/x8p6Pr9pcWalHsOaWmz3vSNk8/PF0z7Wy/QVfl9pYPcv/7Y/TPPyxZLWd+tOvz8S3fkfGrtzT81q6F9ZzMNM9HwsAwHD1M1c+njN/+l/TXVnJtmc8K9tuuLHn46s2V1YmQJqrnbQ6az0f1/7MPUmS0SuvzNwt35XWJ+94zM8XfuXns+fNv5LJl3x7z+duddbSXO2kMTba87EAAAxHv3Pl47n4+NXkd1z+DVmPp0pzZWUewVrs8xm9zqnz73U+/Qfvzbl7/3eu/Fe/lKd9+O5c+2cfzfStr0t3ZSVfeP2PpXXPp4uuCwCA4Rjk/LZ64gs5+5EPJaOjmfy271rXuaoyV1YmQJZaq/09p9e5sLnL6mqu+KnbsvPlr8ro7itSv+baXPGGn83Et7wsaZ/L0q+/vedT1y6sCwCAJ4++58pLWP7j30s6nWz/e1+fsT1X9X2eKs2VlQmQ9lp/H5ONTExe+C8jmfr7r/iyn0+9/HuTJGc/9uGi6wIAYDgGOb8t/9GFt1/18eXzL1WVubIyAdLHxudJkrGnXJskGb3yqtS2jT/uzzsLDxVdFwAAwzGo+e3cZ+/LuU9/KrUdE9nxTS9Z9/mqMldWJkBG+vycbPyrnpUkWTu1mG73y/9XXVtcOH/+HRNF1wUAwHAMan5b/oP3JkkmXvzSjGzfse7zVWWurEyA1HvY0OXRtt34VRm75qnpNptp3Xn4y35+8dGr8Wc8q+i6AAAYjkHMb91u9/z3P5JMfuf6H79KqjNXVuNvkWR6fKzvdzXv+oEfSZI8/K/emM7Jhx/589an7srSu96ZJJl65Wt6Pm/3wroAAHjyWM9ceVHzEx/N6tyxjF61N9uf/8J1r6lKc2U1/hZJdjXqfR879T235OxHPpQz/+2Pcv9Lvj6NgzdlbWUlzSOfSNrnMvWKWzL5kpcVXxcAAOUNYn57ZO+Pb//7qQ3ok4uqzJWVCZDG2GjGR0f62jSmNjKSq375HTn13Bfk9Htvz9mP/lVSq2X8WQey83tfk6nv7G/TmPHRkUpsFgMAsJWsZ65Mku65Vs789/clSSYH8ParpFpzZa17qW9eP0kdmV/K55ZW1v2R2SDUklw3vSMH904PeykAAPTIXLlxKvMdkCTZv2vHprhJkvPP6e3fvf63HQAAUJ65cuNUKkCmG/XMbIJn42pJZhr1TI8Pfy0AAPTOXLlxKhUgSXLDzOSwl5DuJlkHAAD92wzzXBXnysoFyOzkePZNjGdY+7TUkuybHM/s5Jfvqg4AwJOHuXJjVC5AarVaDu6dzuiQtoocHanl4NXTqdUqslUlAMAWZa7cGJULkOT8q9MODektAYf2TlfmFWkAAFuduXLwKhkgSXLN1PYc2LOz6DUP7NmZa6a2F70mAAAby1w5WJXZiPBSrp+ZSJLcdeLUhl/rwFU7c/3uiQ2/DgAA5ZkrB6dSGxE+nmOnz+bw/FI6a92Bvs+5lvPP5h3aO13ZQgUA4IvMleu3JQIkSZqrnRyZX8rxM63UknXdMBeP3zc5noNXV/PZPAAALs1cuT5bJkCSpNvtZm65lfsWlrPQbPd8w1z8/ZlGPTfMTGZ2crxybyUAAODyzJX921IB8mhLzXaOLq5kbrmZVmctyYUbodtNu91OvV5PrVZ75EYaHx3J7GQj+3ftyPQm2BUTAIDNwVzZmy0bII/WXO1ksdnOUms1988dz3tuvz233Hxzrp3dl+nxsexq1LfEx2EAAKyPufLyBMiXOHz4cG666abccccdOXTo0LCXAwDAk5S58tIquw8IAACw+QgQAACgGAECAAAUI0AAAIBiBAgAAFCMAAEAAIoRIAAAQDECBAAAKEaAAAAAxQgQAACgGAECAAAUI0AAAIBiBAgAAFCMAAEAAIoRIAAAQDECBAAAKEaAAAAAxQgQAACgGAECAAAUI0AAAIBiBAgAAFCMAAEAAIoRIAAAQDECBAAAKEaAAAAAxQgQAACgGAECAAAUI0AAAIBiBAgAAFCMAAEAAIoRIAAAQDECBAAAKEaAAAAAxQgQAACgGAECAAAUI0AAAIBiBAgAAFCMAAEAAIoRIAAAQDECBAAAKEaAAAAAxQgQAACgGAECAAAUI0AAAIBiBAgAAFCMAAEAAIoRIAAAQDECBAAAKEaAAAAAxQgQAACgGAECAAAUI0AAAIBiBAgAAFCMAAEAAIoRIAAAQDECBAAAKEaAAAAAxQgQAACgGAECAAAUI0AAAIBiBAgAAFCMAAEAAIoRIAAAQDECBAAAKEaAAAAAxQgQAACgGAECAAAUI0AAAIBiBAgAAFCMAAEAAIoRIAAAQDECBAAAKEaAAAAAxQgQAACgGAECAAAUI0AAAIBiBAgAAFCMAAEAAIoRIAAAQDECBAAAKEaAAAAAxQgQAACgGAECAAAUI0AAAIBiBAgAAFCMAAEAAIoRIAAAQDECBAAAKEaAAAAAxQgQAACgGAECAAAUI0AAAIBiBAgAAFCMAAEAAIoRIAAAQDECBAAAKEaAAAAAxQgQAACgGAECAAAUI0AAAIBiBAgAAFCMAAEAAIoRIAAAQDECBAAAKEaAAAAAxQgQAACgGAECAAAUI0AAAIBiBAgAAFCMAAEAAIoRIAAAQDECBAAAKEaAAAAAxQgQAACgGAECAAAUI0AAAIBiBAgAAFCMAAEAAIoRIAAAQDECBAAAKEaAAAAAxQgQAACgGAECAAAUI0AAAIBiBAgAAFDM2LAXsBk0VztZbLaz1FrNQn0qt77htizUp3LPw8uZHh/LrkY9jbHRYS8TAIBNzlx5ebVut9sd9iKGYanZztHFlcwtN9PqrCVJakm63W5WV9sZG6unVqvl4r+c8dGRzE42sn/Xjkw36kNbNwAAm4u5sjdbKkC63W7mllu5d2E5J5vt8zdGD8df/P2ZRj03zExmdnI8tVptYxYLAMCmZa7s35YJkOZqJ0fml3L8TGvd57p4w+ybGM/BvdNb/mM0AICtxFy5PlsiQI6dPpvD80vprHV7KtPLqSUZHanl0N7pXDO1fYBnBgBgMzJXrl/lA+S+heXcfeL0hl/nwJ6duX5mYsOvAwDAcJgrB6PSr+EtdZMkyV0nTuUzC2eKXAsAgLLMlYNT2QA5dvpssZvkortOnMqx02eLXhMAgI1lrhysSgZIc7WTw/NLQ7n24fmlNFc7Q7k2AACDZa4cvMptRNjtdnPkwheDnqi5V788zY9/+HF/vvf/fU92fN03PKFzdda6OfLgUp4/u3vLvEoNAKCKepkr186u5Oxf/WVW/uJP07r7zrQfuD9Z66T+1Kdn4ptfmulbX5eRid6+11HVubJyATK33Or7lWgT3/xtqe348htj7Kq9T/gc3STHl1uZW27lKVONvtYBAMDw9TJXLv/x7+WhN74+SVK/4cbs+LpvyNry6TSPfCIn3/aLWX7f72f2t/5LRq+48glfv6pzZeUC5L6F5b6PnflnP5P6Ndeuew21C+uo0o0CALDV9DJX1urbsvNVr830a38w9ev2P/Lnq194MPP/8NU59+lP5aE3/0yu/qW397SGKs6VlfoOyFKznYVme9jLSDfJQrOdpdbw1wIAQO96nSunvusVufJnf/4x8ZEkY1ddnSvf+OYkycqfvj/dc+d6WkcV58pKBcjRxZVslqfjakmOnlwZ9jIAAOjDIOfKbX/nGUmS7rlWOosnez6+anNlpR7BmlturmtHytO/+9tZWzyZ1GqpX7c/E9/0kozNXtPXuboX1nMw0+tYEQAAw7DeufLRVu///Pn/Uq9ndNeuno+v2lxZmQBprnbS6qyt6xyL73jrY/754X/zc9n9Q/84u3/4J/o6X6uzluZqJ42x0XWtCwCAcgYxVz7a0m/9epJkxwtflNq28b7OUaW5sjIBsriO7340nvO8TL3i5jQOPjuje67K6vG5nPmT92Xx196ak//u32RkcirTr/mBvte1d/LJf6MAAGwV65krv9TKX/55Tr/3t5N6Pbt//J+t61xVmStr3W53UJ8uDdU9Dy/n0w+dHthHZUmy8qEPZP4Hbs7I1M489YNHMtLY3tPxtSTPuHIqN14xOcBVAQCwkQY1V5777H2Zu/k7s7a0mCt++v/p+//QTqo1V1bmE5D22uA+JrtoxwtflPFn/d20PnVnWp88nO3P/9qeju92u7l/7njO/O3pga8NAICNsVCfSrc+kaxj87/V+bnM/+DNWVtazPStr1tXfFy0EfPuMFQmQHrY+LwnY097elqfujOdEw/2fGy73c57br89v/mW2wa/MAAANsStb7gt33rLrRmrb+vr+M7Jh3P8+783q3MPZPK7X5mZn/qZgaxro+bd0ioTICMb9P7dtVNLSZLaxJfvkH459Xo9t9x8c37sFd8+6GUBALBBFupTOTVW7+vYteXlzP/gP0j76Gey48UvzZ6f+8XU1vFJyqNt1LxbWmUCpD4y+C1NOgsPp3nHR5Mk48/46p6Pr9VquXZ2X2684oZBLw0AgA3S73dAuudamf+R70vrU3dm+wtflKt/6e2pjQ7uS+MbMe8OQzX+Fkmmx8f6+qJQ85N35OxH/ipf+l389rH7M/+j35/uykp2fOM3Z2zvbM/n7l5YFwAATx79zJXdTicP/tMfTvOjf5XGs5+Xq9/266lt6+8RrkueP9WZK6vxt0iyq9Hfx2Tto5/JiZ/+iYzuuTr16/ZndM+erM4fz7n//+50W83Ub7gxe37uF4uvCwCA4ehnfjv1nndl5U/fnyQZ2T2Th97005f8vSt+6o0Z3X1FsXVtRpUJkMbYaMZHR3reNGb87x7Kzle9Ns07D+fcZ+/N2pGPZ2T7jmz7O8/MxEtelp2vek3Pr9995NyjI5XYLAYAYCvpZ67sLC0+8t8vhsil7P7Rf9pXgFRprqzMPiBJcmR+KZ9bWhnoXiD9qiW5bnpHDu6dHvZSAADokbly41TmOyBJsn/Xjk1xkyTnn9Pbv3vHsJcBAEAfzJUbp1IBMt2oZ2YTPBtXSzLTqGd6fPhrAQCgd+bKjVOpAEmSG2aGvz19d5OsAwCA/m2Gea6Kc2XlAmR2cjz7JsYzrH1aakn2TY5ndnJ8SCsAAGAQzJUbo3IBUqvVcnDvdEaHtFXk6EgtB6+eHtiOlwAADIe5cmNULkCS869OOzSktwQc2jtdmVekAQBsdebKwatkgCTJNVPbc2DPzqLXPLBnZ66Z6m/PEAAANidz5WBVZiPCS7l+ZiJJcteJUxt+rQNX7cz1uyc2/DoAAJRnrhycSm1E+HiOnT6bw/NL6ax1B/o+51rOP5t3aO90ZQsVAIAvMleu35YIkCRprnZyZH4px8+0UkvWdcNcPH7f5HgOXl3NZ/MAALg0c+X6bJkASZJut5u55VbuW1jOQrPd8w1z8fdnGvXcMDOZ2cnxyr2VAACAyzNX9m9LBcijLTXbObq4krnlZlqdtSQXboRuN+12O/V6PbVa7ZEbaXx0JLOTjezftSPTm2BXTAAANgdzZW+2bIA8WnO1k8VmO0ut1dw/dzzvuf323HLzzbl2dl+mx8eyq1HfEh+HAQCwPubKyxMgX+Lw4cO56aabcscdd+TQoUPDXg4AAE9S5spLq+w+IAAAwOYjQAAAgGIECAAAUIwAAQAAihEgAABAMQIEAAAoRoAAAADFCBAAAKAYAQIAABQjQAAAgGIECAAAUIwAAQAAihEgAABAMQIEAAAoRoAAAADFCBAAAKAYAQIAABQjQAAAgGIECAAAUIwAAQAAihEgAABAMQIEAAAoRoAAAADFCBAAAKAYAQIAABQjQAAAgGIECAAAUIwAAQAAihEgAABAMQIEAAAoRoAAAADFCBAAAKAYAQIAABQjQAAAgGIECAAAUIwAAQAAihEgAABAMQIEAAAoRoAAAADFCBAAAKAYAQIAABQjQAAAgGIECAAAUIwAAQAAihEgAABAMQIEAAAoRoAAAADFCBAAAKAYAQIAABQjQAAAgGIECAAAUIwAAQAAihEgAABAMQIEAAAoRoAAAADFCBAAAKAYAQIAABQjQAAAgGIECAAAUIwAAQAAihEgAABAMQIEAAAoRoAAAADFCBAAAKAYAQIAABQjQAAAgGIECAAAUIwAAQAAihEgAABAMQIEAAAoRoAAAADFCBAAAKAYAQIAABQjQAAAgGIECAAAUIwAAQAAihEgAABAMQIEAAAoRoAAAADFCBAAAKAYAQIAABQjQAAAgGIECAAAUIwAAQAAihEgAABAMQIEAAAoRoAAAADFCBAAAKAYAQIAABQjQAAAgGIECAAAUIwAAQAAihEgAABAMQIEAAAoRoAAAADFCBAAAKAYAQIAABQjQAAAgGIECAAAUIwAAQAAihEgAABAMQIEAAAoRoAAAADFCBAAAKAYAQIAABQjQAAAgGIECAAAUIwAAQAAihEgAABAMQIEAAAoRoAAAADFCBAAAKAYAQIAABQjQAAAgGIECAAAUIwAAQAAihEgAABAMQIEAAAoRoAAAADFCBAAAKAYAQIAABQjQAAAgGIECAAAUIwAAQAAihEgAABAMQIEAAAoZmzYC9gMmqudLDbbWWqtZqE+lVvfcFsW6lO55+HlTI+PZVejnsbY6LCXCQDAJmeuvLxat9vtDnsRw7DUbOfo4krmlptpddaSJLUk3W43q6vtjI3VU6vVcvFfzvjoSGYnG9m/a0emG/WhrRsAgM3FXNmbLRUg3W43c8ut3LuwnJPN9vkbo4fjL/7+TKOeG2YmMzs5nlqttjGLBQBg0zJX9m/LBEhztZMj80s5fqa17nNdvGH2TYzn4N7pLf8xGgDAVmKuXJ8tESDHTp/N4fmldNa6PZXp5dSSjI7UcmjvdK6Z2j7AMwMAsBmZK9ev8gFy38Jy7j5xesOvc2DPzlw/M7Hh1wEAYDjMlYNR6dfwlrpJkuSuE6fymYUzRa4FAEBZ5srBqWyAHDt9tthNctFdJ07l2OmzRa8JAMDGMlcOViUDpLnayeH5paFc+/D8UpqrnaFcGwCAwTJXDl7lNiLsdrs5cuGLQf3qLJ7M/S/9+qwtPJz6078i177/g0/82LVujjy4lOfP7t4yr1IDAKiiXufK1qfuytn/9Zdp3v3JtO48ks4X5lPbNp6n3/U3fV2/qnNl5QJkbrm17leiPfyWN2Xt5EJfx3aTHF9uZW65ladMNda1DgAAhqfXufLkO34lK3/+JwO7flXnyso9gnXfwvK6jj/74Q9m+fd/J1OvuKXvc9QGsA4AAIar13mu8TU3ZdcP/0Sufsd/zFM/dOdA1lDFubJSn4AsNdtZaLb7Pn6teTYnbntD6td/ZXZ9/z/M6d95d1/n6SZZaLaz1Gpnerze93oAABiOfubKXT/4owNfRxXnykp9AnJ0cSXreTru5K/+clY//7lc+bNvScbW9z9wLcnRkyvrOgcAAMOx3rlykKo2V1YqQOaWm33vSNm659NZetc7M/Xdr8z25zx/3WvpXlgPAABPPuuZKwetanNlZQKkudpJq7PW17HdtbU89MbXZ2RqZ2Z+8l8ObE2tzlolX50GAFBl65krN0qV5srKBMjiOr77cerd/yGtu47kite/MaO7Zwa4qvWtCwCA8jbr/LZZ19WrygTIUmu1r+f0Vo8/kIW3/kIaz3lBpr77lQNdU+3CugAAePLod67cSFWaKyvzFqz2Wn8fkz30pn+ebrudK297y4BXdH7zmvvnjufM354e+LkBANgYC/WpdOsTySbb/K/feXezqUyA9Lvx+coH/iwjO6fz0G1veMyfd8+d33Rm9fgDmXv1y5Mke3/t/8vIxMQTPne73c57br89v/mW2/pbHAAAxd36htvyrbfcmrH6tmEv5TH6nXc3m8oEyMg6AnXt1FKaH//wJX/WbTYf+Vm309vHXvV6PbfcfHN+7BXf3v/iAAAoaqE+lVPr3JJhI6xn3t1MKhMg9ZH+vs6y/6/nLvnn7WP35/5vel7qT/+KXPv+D/Z17lqtlmtn9+XGK27o63gAAMq75+HlfPqh05vmNbwX9TvvbjbV+FskmR4f23Q3STfn1wUAwJOHuXJjVeNvkWRXY/N9TJZs3nUBAHBp/c5vKx/4s5x8x1sf82fd9rk88MqXPfLPu3/oH2fHi76p6Lo2m8oESGNsNOOjI5tq05jx0ZE0xkaHvQwAAHrQ71zZWXg4rTsPP/YPu93H/Fln4eG+1lSlubLW7XY32ydMfTsyv5TPLa1sio/Makmum96Rg3unh70UAAB6ZK7cOJX5DkiS7N+1Y1PcJMn55/T2794x7GUAANAHc+XGqVSATDfqmdkEz8bVksw06pkeH/5aAADonbly41QqQJLkhpnJYS8h3U2yDgAA+rcZ5rkqzpWVC5DZyfHsmxjPsPZpqSXZNzme2cnxIa0AAIBBMFdujMoFSK1Wy8G90xkd0laRoyO1HLx6OrVaRbaqBADYosyVG6NyAZKcf3XaoSG9JeDQ3unKvCINAGCrM1cOXiUDJEmumdqeA3t2Fr3mgT07c83U9qLXBABgY5krB6syGxFeyvUzE0mSu06c2vBrHbhqZ67fPbHh1wEAoDxz5eBUaiPCx3Ps9Nkcnl9KZ6070Pc513L+2bxDe6crW6gAAHyRuXL9tkSAJElztZMj80s5fqaVWrKuG+bi8fsmx3Pw6mo+mwcAwKWZK9dnywRIknS73cwtt3LfwnIWmu2eb5iLvz/TqOeGmcnMTo5X7q0EAABcnrmyf1sqQB5tqdnO0cWVzC030+qsJblwI3S7abfbqdfrqdVqj9xI46MjmZ1sZP+uHZneBLtiAgCwOZgre7NlA+TRmqudLDbbWWqt5v6543nP7bfnlptvzrWz+zI9PpZdjfqW+DgMAID1MVdengD5EocPH85NN92UO+64I4cOHRr2cgAAeJIyV15aZfcBAQAANh8BAgAAFCNAAACAYgQIAABQjAABAACKESAAAEAxAgQAAChGgAAAAMUIEAAAoBgBAgAAFCNAAACAYgQIAABQjAABAACKESAAAEAxAgQAAChGgAAAAMUIEAAAoBgBAgAAFCNAAACAYgQIAABQjAABAACKESAAAEAxAgQAAChGgAAAAMUIEAAAoBgBAgAAFCNAAACAYgQIAABQjAABAACKESAAAEAxAgQAAChGgAAAAMUIEAAAoBgBAgAAFCNAAACAYgQIAABQjAABAACKESAAAEAxAgQAAChGgAAAAMUIEAAAoBgBAgAAFCNAAACAYgQIAABQjAABAACKESAAAEAxAgQAAChGgAAAAMUIEAAAoBgBAgAAFCNAAACAYgQIAABQjAABAACKESAAAEAxAgQAAChGgAAAAMUIEAAAoBgBAgAAFCNAAACAYgQIAABQjAABAACKESAAAEAxAgQAAChGgAAAAMUIEAAAoBgBAgAAFCNAAACAYgQIAABQjAABAACKESAAAEAxAgQAAChGgAAAAMUIEAAAoBgBAgAAFCNAAACAYgQIAABQjAABAACKESAAAEAxAgQAAChGgAAAAMUIEAAAoBgBAgAAFCNAAACAYgQIAABQjAABAACKESAAAEAxAgQAAChGgAAAAMUIEAAAoBgBAgAAFCNAAACAYgQIAABQjAABAACKESAAAEAxAgQAAChGgAAAAMUIEAAAoBgBAgAAFCNAAACAYgQIAABQjAABAACKESAAAEAxAgQAAChGgAAAAMUIEAAAoBgBAgAAFCNAAACAYgQIAABQjAABAACKESAAAEAxAgQAAChGgAAAAMUIEAAAoBgBAgAAFCNAAACAYgQIAABQjAABAACKESAAAEAxAgQAAChGgAAAAMUIEAAAoBgBAgAAFCNAAACAYgQIAABQjAABAACKGRv2AjaD5moni812llqrWahP5dY33JaF+lTueXg50+Nj2dWopzE2OuxlAgCwyZkrL6/W7Xa7w17EMCw12zm6uJK55WZanbUkSS1Jt9vN6mo7Y2P11Gq1XPyXMz46ktnJRvbv2pHpRn1o6wYAYHMxV/ZmSwVIt9vN3HIr9y4s52Szff7G6OH4i78/06jnhpnJzE6Op1arbcxiAQDYtMyV/dsyAdJc7eTI/FKOn2mt+1wXb5h9E+M5uHd6y3+MBgCwlZgr12dLBMix02dzeH4pnbVuT2V6ObUkoyO1HNo7nWumtg/wzAAAbEbmyvWrfIDct7Ccu0+c3vDrHNizM9fPTGz4dQAAGA5z5WBU+jW8pW6SJLnrxKl8ZuFMkWsBAFCWuXJwKhsgx06fLXaTXHTXiVM5dvps0WsCALCxzJWDVckAaa52cnh+aSjXPjy/lOZqZyjXBgBgsMyVg1e5jQi73W6OXPhi0BO1+K53pnn4Yzl371+n8/BD6bZaGduzJ43n/L3s+oEfzrYbbnzC5+qsdXPkwaU8f3b3lnmVGgBAFfUzV661mll859ty5n1/kNXjD2Rkele2f92LMvOPXp+xvbM9Xb+qc2XlvoT+wOlmPjp3sqdjPvf8Z6Z79my23fhVGb16b5Kkfd89aX/uaFLflr2/+h+y4+u/sadzPm92d54y1ejpGAAANo9e58q1VjPHb/2etI58IqN7rk7j2c/N6gPH0rrrSEZmrshT/tMfpf7U63peR9XmysoFyAf+9qEsNNs9HdM8/LFse+aBjIw/9n/YU7/9H/PQm/55Rq/am6f+xcdTG31i72WuJdndqOdFT7uyp3UAALB59DpXLvy7f53Ft781419zU/b9xn/KyMT5N1ktvuudWfiFN6Xx7Odn9t3/pac1VHGurNR3QJaa7Z7jI0kah577ZfGRJDtf9dqMPe3p6XxhPu2/+ewTPl83yUKznaVW72sBAGD4ep0ru+12Tr37XUmSK3/mzY/ER5Ls+r7XZduNz0jzEx9J61N39bSOKs6VlQqQo4srGfTTcbWR8/+KavV6b8clOXpyZcCrAQCghF7nyuYdH8vaqaWMPfW6jD/jq7/s5xPf8m1JkjN/8d97XkvV5spKBcjccnOgO1Ke/v3/nPbffDb16/Zn7Nqn9XRs98J6AAB48ul1rjx3z6eT5JLx8eg/v/h7vajaXFmZt2A1VztpddbWdY7F33h7zt13b7pnV3Lu6H1p33dPRq/am6t+8e2PfBLSi1ZnLc3VThpjT+y7IwAADF8/c+Xq3ANJkrGr913y56N79z3m93pVpbmyMgGy2Md3P77U2Q99IGc//KFH/nl032yu+oW3ZfxZB9a1rr2TT/4bBQBgq+hnrlxbOb9zeW379kv+fGT7jiRJd6X/Hc6rMldW5hGspdbqur//se9dv5P9fz2Xp33sf2ffu38v257+FTn+mpfn5K/9277OV7uwLgAAnjz6mysvPLD1ePt1rPPFs1WaKysTIO219T1+9WijO6ez/dnPy953vjvbnnkgJ//tv07z7k8OfV0AAGy8fua3kR2TSZLuyqW/LL7WPJskqe2YuOTPN2pdm1FlAqSHDSqfsFq9nsmXfkfS7WaljzcWJBuzLgAANk4/89vY7FOSJKsPHr/kzzvzxx/ze6XWtRlVJkBGNmh3+tFdM0mSzsJCX8dv1LoAANgY/cxv2258RpKk9em7L/nzi3++7Su/qui6NqPKBEi9j7dUPRFnP/6R8+fv8TW8F23UugAA2Bj9zG+NQ8/JyNTOrH7+c5eMkDN/8r4kyY5veHHRdW1G1fhbJJkeH+trD5Czn/holv/rH6S7+tgv9XTb7Sz91m9k+Q/fm1qjcf5RrB51L6wLAIAnj37mytq2bdl5y/clSR76uX+RtUd9F2TxXe/MuXs+ncZNz03jq7+mrzVVaa6sxt8iya5GbzuVX7T6+c/lxE//REZ2z2T8mQcyumt3OicXcu7ev07nxIOpjTey5+ffmrF9/T2v1++6AAAYjn7nt10/9OM5++EPpnXkE7n/W742jWc/N6tzD6R15+GM7NqdPW/+laGsa7OpdbvrfCfYJvK+zzzY86Yx7WOfz+n/fHvOfvzDWb3/8+ksLqRWr2fsKddm+/O+NtOv/r9Tf9rT+1rP+OhIvu36q/s6FgCA4elnrkzOv+1q8d+/Lct//PtZPT6X0enpbH/hN2Tmx1/f9/+hnVRrrqxUgByZX8rnllb6ehRr0GpJrpvekYN7p4e9FAAAemSu3DiV+Q5IkuzftWNT3CTJ+ef09u/eMexlAADQB3PlxqlUgEw36pnZBM/G1ZLMNOqZHh/+WgAA6J25cuNUKkCS5IaZyWEvId1Nsg4AAPq3Gea5Ks6VlQuQ2cnx7JsYz7D2aakl2Tc5ntnJ8SGtAACAQTBXbozKBUitVsvBvdMZHdJWkaMjtRy8ejq1WkW2qgQA2KLMlRujcgGSJI2x0Rwa0lsCDu2dTmNsdCjXBgBgsMyVg1fJAEmSa6a258CenUWveWDPzlwztb3oNQEA2FjmysGqzE7ol3L9zESS5K4Tpzb8Wgeu2pnrd09s+HUAACjPXDk4ldqI8PEcO302h+eX0lnrDvR9zrWcfzbv0N7pyhYqAABfZK5cvy0RIEnSXO3kyPxSjp9ppZas64a5ePy+yfEcvLqaz+YBAHBp5sr12TIBkiTdbjdzy63ct7CchWa75xvm4u/PNOq5YWYys5PjlXsrAQAAl2eu7N+WCpBHW2q2c3RxJXPLzbQ6a0lyyXc8X/yXMz46ktnJRvbv2pHpTbArJgAAm4O5sjdbNkAerbnayWKznaXWatpra1nrJiO1pD4ykunxsexq1LfEx2EAAKyPufLyBAgAAFBMZfcBAQAANh8BAgAAFCNAAACAYgQIAABQjAABAACKESAAAEAxAgQAAChGgAAAAMUIEAAAoBgBAgAAFCNAAACAYgQIAABQjAABAACKESAAAEAxAgQAAChGgAAAAMUIEAAAoBgBAgAAFCNAAACAYgQIAABQjAABAACKESAAAEAxAgQAAChGgAAAAMUIEAAAoBgBAgAAFCNAAACAYgQIAABQjAABAACKESAAAEAxAgQAACjm/wBnKcdcuV+BjQAAAABJRU5ErkJggg==' width=800.0/>\n",
       "            </div>\n",
       "        "
      ],
      "text/plain": [
       "Canvas(toolbar=Toolbar(toolitems=[('Home', 'Reset original view', 'home', 'home'), ('Back', 'Back to previous …"
      ]
     },
     "metadata": {},
     "output_type": "display_data"
    }
   ],
   "source": [
    "length_init = 1000\n",
    "import networkx as nx\n",
    "import matplotlib.pyplot as plt\n",
    "plt.figure(figsize=(8, 6))\n",
    "G,positions = create_G(length_init)\n",
    "# Draw the graph with labels and specified node positions\n",
    "nx.draw(G, pos=positions, with_labels=True, node_color='lightblue', node_size=700, font_size=15, font_color='darkred')\n",
    "plt.show()\n"
   ]
  },
  {
   "cell_type": "code",
   "execution_count": 68,
   "id": "3b716209-d1f2-41a4-8f33-66bbce3363ba",
   "metadata": {},
   "outputs": [],
   "source": [
    "ratio = 0.4\n",
    "add_attributes(G,length_init = length_init,ratio=ratio)\n",
    "add_heaton_flux(G,ratio = ratio,tot_growth = 30)\n",
    "add_heaton_flux2(G,ratio = 0.5,tot_growth = 30)\n",
    "add_backflow(G,tot_growth = 30)"
   ]
  },
  {
   "cell_type": "code",
   "execution_count": 50,
   "id": "3bdad2a8-a5bf-4e8c-a911-82fd842734d0",
   "metadata": {},
   "outputs": [
    {
     "data": {
      "text/plain": [
       "{'radius': 3.2863353450309964,\n",
       " 'length': 1000,\n",
       " 'v0': 2.9998520438674596,\n",
       " 'water_flux_heaton': 18.0,\n",
       " 'water_flux_heaton_abs': 18.0,\n",
       " 'speed_heaton': 0.5305164769729844,\n",
       " 'water_flux_heaton2': 15.0,\n",
       " 'water_flux_heaton_abs2': 15.0,\n",
       " 'speed_heaton2': 0.44209706414415373,\n",
       " 'tot_cross_section': 33.929200658769766,\n",
       " 'lipid_phase_fraction': 0.45388631918799777,\n",
       " 'lipid_cross_section': 15.399999999999999,\n",
       " 'water_cross_section': 18.529200658769767,\n",
       " 'water_phase_radius': 2.428585545697253,\n",
       " 'net_water_flux_phase_lipid': 41.57794932800299,\n",
       " 'net_water_flux_phase': 14.91107961645223,\n",
       " 'net_water_flux_phase_abs': 14.91107961645223,\n",
       " 'net_water_flux_phase_backflow': -26.666869711550756,\n",
       " 'speed_backflow_phase': -2.8783615874902275}"
      ]
     },
     "execution_count": 50,
     "metadata": {},
     "output_type": "execute_result"
    }
   ],
   "source": [
    "G[0][1]"
   ]
  },
  {
   "cell_type": "code",
   "execution_count": 51,
   "id": "00798c76-136f-479a-93a0-363f0531640f",
   "metadata": {},
   "outputs": [
    {
     "data": {
      "text/plain": [
       "{'radius': 2.6832815729997477,\n",
       " 'length': 1000,\n",
       " 'v0': 2.9998520438674596,\n",
       " 'water_flux_heaton': 12.0,\n",
       " 'water_flux_heaton_abs': 12.0,\n",
       " 'speed_heaton': 0.5305164769729844,\n",
       " 'water_flux_heaton2': 15.0,\n",
       " 'water_flux_heaton_abs2': 15.0,\n",
       " 'speed_heaton2': 0.6631455962162306,\n",
       " 'tot_cross_section': 22.61946710584651,\n",
       " 'lipid_phase_fraction': 0.45388631918799777,\n",
       " 'lipid_cross_section': 10.266666666666666,\n",
       " 'water_cross_section': 12.352800439179845,\n",
       " 'water_phase_radius': 1.9829317945523028,\n",
       " 'net_water_flux_phase_lipid': 27.718632885335325,\n",
       " 'net_water_flux_phase': 15.08892038354777,\n",
       " 'net_water_flux_phase_abs': 15.08892038354777,\n",
       " 'net_water_flux_phase_backflow': -12.629712501787555,\n",
       " 'speed_backflow_phase': -2.0448338923584353}"
      ]
     },
     "execution_count": 51,
     "metadata": {},
     "output_type": "execute_result"
    }
   ],
   "source": [
    "G[3][4]"
   ]
  },
  {
   "cell_type": "code",
   "execution_count": 69,
   "id": "8e3bc4dc-75cb-420d-8f94-263d53c94ca5",
   "metadata": {},
   "outputs": [
    {
     "data": {
      "application/vnd.jupyter.widget-view+json": {
       "model_id": "7012421b8bab45aa98b46b0caacbd574",
       "version_major": 2,
       "version_minor": 0
      },
      "image/png": "[encoded data removed]",
      "text/html": [
       "\n",
       "            <div style=\"display: inline-block;\">\n",
       "                <div class=\"jupyter-widgets widget-label\" style=\"text-align: center;\">\n",
       "                    Figure\n",
       "                </div>\n",
       "                <img src='data:image/png;base64,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' width=80.0/>\n",
       "            </div>\n",
       "        "
      ],
      "text/plain": [
       "Canvas(toolbar=Toolbar(toolitems=[('Home', 'Reset original view', 'home', 'home'), ('Back', 'Back to previous …"
      ]
     },
     "metadata": {},
     "output_type": "display_data"
    }
   ],
   "source": [
    "\n",
    "# Drawing the graph with customized edges\n",
    "plt.figure(figsize=(1*0.8, 7*0.8))\n",
    "DG = convert_to_directed(G,\"water_flux_heaton\")\n",
    "node_colors = ['black' if node in nodes_sink else 'green' if node in nodes_source else 'blue' for node in DG.nodes()]\n",
    "edge_widths = [2 for flow in nx.get_edge_attributes(DG, 'water_flux_heaton').values()]\n",
    "\n",
    "nx.draw(DG, pos=positions, with_labels=False, node_color=node_colors,width=0, node_size=40, font_color='red',arrows = False)\n",
    "edge_labels = nx.get_edge_attributes(DG, 'water_flux_heaton')\n",
    "edge_labels = {key : \"{:.1f}\".format(abs(edge_labels[key])*C_factor_volume) for key in edge_labels.keys()}\n",
    "edges = nx.draw_networkx_edges(DG, pos=positions, width=edge_widths, arrowstyle='->', arrowsize=10, edge_color='red')\n",
    "label_pos = {e: [(positions[e[0]][0]+positions[e[1]][0])/2, (positions[e[0]][1]+positions[e[1]][1])/2 + 0.1] for e in edge_labels}\n",
    "nx.draw_networkx_edge_labels(DG, pos = positions,label_pos=0.6, edge_labels=edge_labels, font_color='black',font_size = 7)\n",
    "\n",
    "plt.savefig(\n",
    "    os.path.join(path_figure, f\"flux_in.pdf\"),\n",
    "    transparent=True,\n",
    "    bbox_inches=\"tight\")"
   ]
  },
  {
   "cell_type": "code",
   "execution_count": 70,
   "id": "f19cc65b-cd5c-4587-8b0d-b72650168fa1",
   "metadata": {},
   "outputs": [
    {
     "data": {
      "application/vnd.jupyter.widget-view+json": {
       "model_id": "84acd0ee189b4bd280d695f260efaa90",
       "version_major": 2,
       "version_minor": 0
      },
      "image/png": "[encoded data removed]",
      "text/html": [
       "\n",
       "            <div style=\"display: inline-block;\">\n",
       "                <div class=\"jupyter-widgets widget-label\" style=\"text-align: center;\">\n",
       "                    Figure\n",
       "                </div>\n",
       "                <img src='data:image/png;base64,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' width=80.0/>\n",
       "            </div>\n",
       "        "
      ],
      "text/plain": [
       "Canvas(toolbar=Toolbar(toolitems=[('Home', 'Reset original view', 'home', 'home'), ('Back', 'Back to previous …"
      ]
     },
     "metadata": {},
     "output_type": "display_data"
    }
   ],
   "source": [
    "plt.figure(figsize=(1*0.8, 7*0.8))\n",
    "DG = convert_to_directed(G,\"net_water_flux_phase_backflow\")\n",
    "node_colors = ['black' if node in nodes_sink else 'green' if node in nodes_source else 'blue' for node in DG.nodes()]\n",
    "edge_widths = [2 for flow in nx.get_edge_attributes(DG, 'net_water_flux_phase_backflow').values()]\n",
    "\n",
    "nx.draw(DG, pos=positions, with_labels=False, node_color=node_colors,width=0, node_size=40, font_color='red',arrows = False)\n",
    "\n",
    "edges = nx.draw_networkx_edges(DG, pos=positions, width=edge_widths, arrowstyle='->', arrowsize=10, edge_color='blue')\n",
    "label_pos = {e: [(positions[e[0]][0]+positions[e[1]][0])/2, (positions[e[0]][1]+positions[e[1]][1])/2 + 0.1] for e in edge_labels}\n",
    "DG = convert_to_directed(G,\"water_flux_heaton\")\n",
    "edge_labels = nx.get_edge_attributes(DG, 'net_water_flux_phase_backflow')\n",
    "edge_labels = {key : \"{:.1f}\".format(abs(edge_labels[key])) for key in edge_labels.keys()}\n",
    "nx.draw_networkx_edge_labels(DG, pos = positions,label_pos=0.4, edge_labels=edge_labels, font_color='black',font_size = 7)\n",
    "\n",
    "plt.savefig(\n",
    "    os.path.join(path_figure, f\"flux_out.pdf\"),\n",
    "    transparent=True,\n",
    "    bbox_inches=\"tight\")"
   ]
  },
  {
   "cell_type": "code",
   "execution_count": 71,
   "id": "1186ae3d-be1d-47f2-bc1b-eeab4e88e421",
   "metadata": {},
   "outputs": [],
   "source": [
    "def get_backflow(ratio,length_init,cross_section_ratio=0.5):\n",
    "    G,positions = create_G(length_init)\n",
    "    add_attributes(G,length_init,cross_section_ratio)\n",
    "    add_heaton_flux(G,ratio,30)\n",
    "    add_heaton_flux2(G,ratio = 0.5,tot_growth = 30)\n",
    "    add_backflow(G,tot_growth = 30)\n",
    "    plant1 = G[0][1]\n",
    "    plant2 = G[3][4]    \n",
    "    fluxin1 = G[0][1][\"water_flux_heaton\"]\n",
    "    fluxin2 = G[3][4][\"water_flux_heaton\"]\n",
    "    fluxout1 = G[0][1][\"net_water_flux_phase_backflow\"]\n",
    "    fluxout2 = G[3][4][\"net_water_flux_phase_backflow\"]\n",
    "    # print(fluxin1,fluxin2,fluxout1,fluxout2)\n",
    "    return((fluxin2-fluxin1)/(fluxin2+fluxin1),-(fluxout1-fluxout2)/(fluxout1+fluxout2))"
   ]
  },
  {
   "cell_type": "code",
   "execution_count": 72,
   "id": "8ee9e655-a596-4cf4-9fba-025d8d59bad0",
   "metadata": {},
   "outputs": [
    {
     "data": {
      "text/plain": [
       "(-0.6, -0.9510419259672757)"
      ]
     },
     "execution_count": 72,
     "metadata": {},
     "output_type": "execute_result"
    }
   ],
   "source": [
    "get_backflow(0.2,length_init,0.2)"
   ]
  },
  {
   "cell_type": "code",
   "execution_count": 73,
   "id": "232263a9-ca3d-460a-bc70-ea16c6214374",
   "metadata": {
    "tags": []
   },
   "outputs": [],
   "source": [
    "ratios = np.linspace(0.1,0.9,100)\n",
    "# backflow_ratios0 = [get_backflow(ratio,1000)[1] for ratio in ratios]\n",
    "backflow_ratios = [get_backflow(ratio,length_init,ratio)[1] for ratio in ratios]\n",
    "inflow_ratios = [get_backflow(ratio,length_init,ratio)[0] for ratio in ratios]\n",
    "backflow_ratios2 = [get_backflow(ratio,length_init)[1] for ratio in ratios]\n",
    "inflow_ratios2 = [get_backflow(ratio,length_init)[0] for ratio in ratios]\n",
    "# backflow_ratios2 = [get_backflow(ratio,10000)[1] for ratio in ratios]"
   ]
  },
  {
   "cell_type": "code",
   "execution_count": 74,
   "id": "aba38c6f-a50e-4b02-824d-4a6a4a855d05",
   "metadata": {
    "tags": []
   },
   "outputs": [
    {
     "data": {
      "application/vnd.jupyter.widget-view+json": {
       "model_id": "6f1e759863344c3a9b7b4699167523ea",
       "version_major": 2,
       "version_minor": 0
      },
      "image/png": "[encoded data removed]",
      "text/html": [
       "\n",
       "            <div style=\"display: inline-block;\">\n",
       "                <div class=\"jupyter-widgets widget-label\" style=\"text-align: center;\">\n",
       "                    Figure\n",
       "                </div>\n",
       "                <img src='data:image/png;base64,iVBORw0KGgoAAAANSUhEUgAAAMgAAADICAYAAACtWK6eAAAAOXRFWHRTb2Z0d2FyZQBNYXRwbG90bGliIHZlcnNpb24zLjYuMCwgaHR0cHM6Ly9tYXRwbG90bGliLm9yZy89olMNAAAACXBIWXMAAA9hAAAPYQGoP6dpAAAn30lEQVR4nO3deVyNaf8H8E+7FpREWuzLoFJJFKcSQtMi2iRTv2o0HmYsD8MwRpaxzWPIOmNkj9KChGqkUhLSorLvJ0lE+3I6nfv3h4dnSKftvs99Tl3v12teL68551zXd47zmXPu+77u7yVFURQFgiC+SJrtAghCnJGAEIQQJCAEIQQJCEEIQQJCEEKQgBCEECQgBCEECQhBCEECQhBCkIAQhBAkIAQhBAkIQQhBAkIQQpCAEIQQJCAEIQQJCEEIQQJCEEKQgBCEECQgBCEECQhBCEECQhBCkIAQhBCyTE8gEAhQUFCAzp07Q0pKiunpiA6MoiiUl5dDS0sL0tL0/L+f8YAUFBRAV1eX6WkI4iMulwsdHR1axmI8IJ07dwbwvuguXbowPd0XlZWVQVdXl9UaWkrSahaHej/U8OEzRwfGA/LhZ1WXLl1Ye+MUFBSwevVqaGhoQEFBgZUaWkrSahaneun8KS/FdOvRsrIydO3aFaWlpRLxf0JCcjHxWSNnsQhCCBIQghCC8WMQYf6T+h9kFmain2o/DFEfAr0eehimMQwKsuL/m5voGFgNCADkl+Uj6WkSXpS/AADIy8jDUNMQnN4cjO87HlZ9raAsr8xylURHJTYH6eW15cgtykV6QTrSXqR9DI28jDys+1lj+lfT4TTUCd2VujNZLiHBmDhIF5uAfI6iKNwvvo8LDy8g6l4Ukp4lQVpKGlMHToWPkQ/sBttBVpr1L0BCjHSogHyuqLIIJ/NO4nD2YaQXpEOrsxb+ZfIvfGfyHdSV1GmsmJBUHTog/5RVmIU9N/bg6K2jkJaSxhzjOfhx7I/o1bkXLeMT4klQL0DFywpQAgpde3dt8DgJyGdeV77Gzus7sePaDtTW12L+qPlYPm45+UZpByiKwuu813iS8AQv0l6gMLsQxfeLIagTQG+mHmYcn9HgNawEpLy8HBMnTkReXh7S0tKgp6f38TE+nw8/Pz88evQIxsbGCAwMFEnRnyutKcW2tG3YenUrZKVlsdpyNeaNmgc5GTlG5iOYQVEU8tPykXsiF3dP30UZtwwy8jLoZdwLmsaa0BimAbV+alAfoo5uA7o1eD0jnzWqCXV1dVRRURHl5eVF5eTkfPJYZGQktXLlSoqiKMrPz4+6cuVKg9eXlpZSAKjS0tKmpmqzVxWvKP+z/pT0Gmlq+O7hVPKzZMbnJNquprSGurr9KrXrq11UAAKorVpbqXPzz1EPYx9SvEpes8dh4rPW5JV0WVlZaGhofPGxq1evwsbGBgAwZcoUpKamNjpOWVkZamtrWxXi5uqh3AN/2P2B9G/T0VmhMzgHOZgbPRflteWMzku0TtWbKsSvjMc23W34e8nf6DmiJ2ZfnI2FzxfCdqctBtgMgJxS834F1NbWoqysjPYa27TUpKSk5ONXWdeuXfH27dtGn6urq4uNGze2ZbpmM+plhCs+V7Bz6k4cvXUU+nv1cfnZZZHMTTSNV8lD0rokBPYPxLXAazCeY4wFTxfAOcQZ/Sf0h7RMyz+WGzduZOS+ozYFRE1N7WNqS0pK0K1bw9+FH3C5XPz0009tma5FpKWkMd90PnLm5qCPah9YHbLCz5d+Bl/AF1kNxKcoikJuaC52DdmF5PXJMP7WGAufLoTNbzboot22Y4affvoJXC6Xpkr/p00BGTNmDOLi4gAAsbGxGDt2bKPP7dKlCyv3CfRT64dL31zCeuv12JSyCdaHrfGy/KXI6+joSp6VIHhqMCLcI6A9Shvz7szD5K2TodRdiZbxFRQUGDkJ1KyA2NraIi4uDt9++y0OHToEf39/AIC9vT24XC44HA4UFRVhZmZGe4F0kJGWwQrOCiR6J+LRu0cw3meMVG7jx0sEfSiKws2/bmKv3l68znuNmWdnwu2UG9T6q7FdWrNI9HWQ1iisKIRrmCuuvbiGfXb74GXoxXZJ7VZVcRWifKJwL+oejPyMMHnrZCh0Ye5XBBOftQ63mElTRRMXv7mIeefmwfuMNx68fYB149eRjis046ZyEeYaBn4NH+5n3DHEYQjbJbVKhwsI8H5J/T77fRikPgjLLi4Dt4yL/fb7yYVFGlAUhRu7byB2USy0R2vDOcQZXXTY/+XQWh0yIMD7G/t/HPsjdLvowuu0F4qrihHmEgZFOUW2S5NY9bx6nJt3Dpn7MzF6wWhM+m0SZORk2C6rTTpsQD6YqT8T6krqmBYyDV8f/xpRM6OgIq/CdlkSp/ptNUKnhyL/aj4cDznC0MuQ7ZJoQe5JB2AzwAZxs+OQXpCOqcFTUcGrYLskifLuyTsEmQehKLcI38R/027CAZCAfDSu9zjEzY5DdmE2bINtUcmrZLskifDq1iscMD8AAV8A36u+6D2uN9sl0YoE5B/G6IxBrGcsMgszMS10Gmr4NWyXJNa4qVwctDgIlV4q8LniA/VBzN9mUFVVxfgc/0QC8hkzXTNEz4xGyvMUzIyYSZamNOJx/GMcnXQUmiM04Z3oDZWezB+3/fbbbxgwYABevHjB+FwfkIB8gWVfS4S5hOHsvbOYGz0XDF9LlTgPYx/ihN0J9Ob0xqwLsxi9+PdPXC4Xnp6e6N5ddI07OvxZrMbYDbbDAccD8DrtBZ0uOlhttZrtksTCw5iHCJkWggGTBsAl3AWyCsx9hCiKQlBQEKSkpODr64vAwECRX9Al3yBCfDPiG6wfvx4BSQE4kn2E7XJY9+jvR+/DYTMArhGujIbj1atXcHR0xLfffousrCwA9Dalbi7yDdKEFZwVePTuEfyi/NBPtR84fThsl8SKp0lPEeIYgv4T+sMlzAUy8sxdAIyMjIS/vz+kpaURFRUFe3t7xuZqSodbrNgavHoebI7a4Pbr27jx7Q30Ue3Ddkki9eL6CxyZcATao7XhEe0B2U7M/qyysrKCuro6/vzzz0bvZv0S0tWERW+q3mDUX6PQVaErUn1ToSRHz30M4q4orwiHLA6h+1fd4RnnCXlleUbmSUhIgIKCAszNzVFRUQFlZeUW/6Qi2x+wqLtSd0S5R+HB2weYc3ZOhzizVfK0BMdsjqGLbhd4nPNgJBzV1dVYuHAhrK2tsW/fPgCAioqK2KyuJgFpAf2e+thvvx/BOcHYc2MP2+UwqupNFY5NPgbZTrLwjPFEJ9VOtM9x8+ZNjBw5En/88Qe2bduGAwcO0D5HW5GD9BaaqT8TV/OvYlHsIphqm2KU9ii2S6Idr5KH43bHUVNSA59UH6ho0n8RkM/nw8XFBWpqasjIyMCwYcNon4MO5BikFXj1PFgctMCrylfI9M+EaidVtkuijYAvQKhTKJ4kPIF3kje0RmrROv79+/ehpKQEHR0d3L9/H3379oW8PD0/3cgxiJiQl5FHiHMI3lW/a1fHIxRF4fz35/HgwgO4hrvSGg6KorB7924YGhoiICAAADB48GDawsEY2lrQNUKUnRVFLSwvjEIAqP0397NdCi1SNqdQAQigbu6/Seu4XC6XsrGxoQBQ8+bNoyoqKmgd/wMmPmvkGKQNnIc5w9fIFz/E/ABOHw4Gqw9mu6RWywvLw8VlF8H5mQNjX2Paxq2uroapqSmkpKQQGxv7sROnpCDHIG1UwauA8Z/GUFNUwxWfKxK5qU/+tXwctjqMr5y+wvTg6bScYi0uLoaSkhIUFRVx4cIFjB49WmhjQTqwdgyyZMkScDgczJo1Czwe7+O/T0xMhK6uLqysrDBhwgRaCpI0KvIqOOp0FOkF6diYLJrWqnQqeVaCEIcQ9DLuBccDjrSE48KFC9DX18e6desAAFOnTmU8HExpMiCZmZkoLCxEcnIyhg0bhvDw8E8ed3NzQ2JiIuLj4xkrUtyN1hmNFeNWYO3ltcgqzGK7nGarLavFCfsTkFOWg9tptzYvIamoqMDcuXNha2sLAwMDzJ8/n6ZK2dNkQJrq4B4REQEOh/PFvUE6klWWqzBMYxi8TnuBV89r+gUsE9QLEOERgdJnpfCI9oCyRtt2Ei4pKYGhoSGOHDmCPXv24MKFC9DSovcUMRuaDIiwDu4mJia4d+8e4uPjERMTg5s3bzY6jii2P2CTvIw8Djkewu3Xt7EheQPb5TTp4rKLeHjhIZxDnaExrPkLAj9XV1cHiqKgqqr6cWn63LlzRb5UhLXtD4R1cFdRUYG8vDzk5eXh4OCA7OzsRscR5fYHbDHqZYTlY5djQ/IG5Bblsl1OozIPZuLq1quYvG0yBk4Z2OpxcnNzYWpqiiNH3t8rs2zZMgwaNIiuMluEte0PhHVw/2dik5OTMXBg42+2qLc/YMvPFj9jYLeB8I3yRb2gnu1yGnie8hzR/tEw/tYYpt+btmqM+vp6bN26FSNHjgSPx4O+vj7NVbYca9sfGBkZQVNTExwOB7dv38aMGTM+dnc/efIkTE1NYW5uDm1tbVhYWDQ6DlvbH4iagqwC9jvsx/UX18VuQWPJsxKETg+FrpkubHfZtupn0Js3bzBhwgQsXboU8+fPx82bN2FsTN91k9ZiavsDciWdIXOj51IqG1So5yXP2S6FoiiKqi2vpfaO2Ett77udqnxd2epxeDweNWPGDCohIYG+4mjCyh6FROtsnLARKvIqWBi7kO1SQAkonPY+jXeP3sE9yr3Fm9YUFRXB2dkZN27cgJycHMLDw2FlZcVMsWKGBIQhXTt1xfbJ2xF5JxLR96NZrSVpXRLuRN6B0zEn9NTv2aLXnjlzBnp6ekhKSsK7d+8YqlB8kYAwyHW4K2wG2OCHCz+guq6alRpuR9xGUkASxq8bj68cv2r268rKyuDj44Np06bBzMwMeXl5EreOig4kIAySkpLCrqm78KL8BTamiP4Ud2F2IU5/cxrD3YaDs6Jl3Vhqa2uRnJyMoKAgnD59Gj169GCoSvFGAsKwQeqDsNR8KTZf2YyHbx+KbN7KokqEOIRAfYh6s9dY1dTUYNWqVXj16hU0NDRw584d+Pj4iM394WwgARGBFZwV0FTRxKLYRSKZr55Xj5POJz9ufyan1PTOWZmZmTAxMcGWLVuQlpYGAJCVlbyVyXQjAREBJTklbLXZiuj70Tj/4Dyjc1EUhfPzzyM/LR+uka7oqttV6PP5fD42bNgAU1NTyMrKIj09HY6OjozWKFFoO2HciI56HeRzAoGAsj5sTQ3aMYiq5dcyNs+1XdeoAARQGUEZzXp+bm4u1alTJ2rFihVUbS1zdYkCuQ4iwaSkpBA4JRCP3j3Cjms7GJnjScITxCyIweiFo2HkY9To8yiKwokTJ8Dj8TB8+HA8fvwYv/76q/jfH84CEhAR0uuhh7kmc7E2aS1eVbyidex3j98hzDkM/az7wea3xk/HFhQUwNbWFh4eHoiJiQEA9OrVi9Za2hMSEBFbY7UGstKy+CXhF9rGrC2vxQmHE1DspgjnUGdIy375rzU0NBR6enrIysrCuXPn4ODgQFsN7RUJiIipK6kjwCoA+zP3I7uw8dsDmosSUDjleQpl3DK4R7lDUe3L21gnJyfD3d0dEydORG5uLmxtbds8d0dAAsKCuSZzMajbICyOW9zmnlqXVl3CvbP3MOPEDGgMbXjjU05ODgBg3LhxSExMRGhoKNTVmd9LsL0gAWGBnIwc/mPzH1x6cgln759t9Tg5J3KQsiEFEzdNxCDbT29UqqysxPz582FgYICEhARISUnB0tKyQ1/0aw0SEJZ8PehrTOw/EUvilrTqHvaCmwWI8omCgacBzJeaf/LYtWvXYGRkhAMHDmDnzp2wtLSkq+wOhwSEJVJSUvjd5nc8evcIf6T/0aLXVhRWIMQxBD30e8Bun90n3wpxcXEYO3YsVFVVkZmZifnz50Namvw1txZ551ik31Mfvka+WJO0Bu+qm7eUnF/LR+j0UFACCm6n3CCn+H4ZyYfbny0tLREYGIjU1FQMGTKEsdo7ChIQlq0dvxa8eh7WX17f5HMpisL5eefxMuMl3E65oYt2FwgEAmzfvh29e/dGXl4eFBQUMG/ePLKOiiYkICzTVNHEsrHLsPP6Tjx+91joc2/svoHMoEzY/WkHndE6ePbsGSZOnIhFixbB29sb/fv3F1HVHQcJiBhYbLYYPZR7YPnF5Y0+52niU8QsfL+MxNDLEH///TcMDAzw8OFDXLx4Edu3b4ei4pevgRCtRwIiBpTklLBhwgaE3Q5DKje1weMlz0oQ5hKGvlZ9MWnLJADAsGHD4OHhgVu3bnXYvsiiQAIiJjwNPGGoaYh/x/37k4uHdVV1CHUKhbyKPJR9lGE6xhRv376FtrY29u7dC1VVVfaK7gDa1N2dz+fD29sbHA4HCxYsYKzIjkBaShpbbbYiLT8NJ/NOAnh/UB7tH40Xd17gutF1OM9yhpaWFurrxa8hXXvVpu7uZ8+ehY6ODpKTk1FVVdWgsTXRMtb9rGE32A7L45ejhl+D67uu49yxcwjqHIQzcWfw119/ISoqChoare+lS7RMm7q7N9X5nWi53yb9Bm4pF2tD1yJucRyGug7FwKEDkZ2dDT8/P7JURMTa1N1d2GOfa+/d3enyVfev4KjoiC2/bUEXiy5YeGwhEhMTMWDAALZLE2ti2d1d2GOf6wjd3duqvr4eG37dgDPLzkBQIEC6ezpk5GTIt0YziGV3d2GPfa6jdHdvrUePHsHCwgKrVq2CGcywZMsSnHh5Anff3GW7NIkglt3d7e3tweVyweFwoKioCDMzs0bH6Sjd3VsrPj4ezx48gxflha07tmKt51rodNHBj3//yHZpEoF0d2+HCgoKqL17977/c0YB9UunX6jI2ZGUQCCgKIqiTuScoBAA6tLjS2yWKTGY+KyRbaBZEhERAX9/f8jJyeF60nVETo5EJ7VO8Lni83GFLkVRMAsyA6+eh/Q56ZCWItd1hWFtG2iCPiUlJZg9ezacnZ1haWmJrIwsJMxNAK+SB/fT7h/DAfz3npHJvyOzMBPBt4JZrLrjIgERsS1btuDs2bM4evQowsPDkbk5E88uP4PLSRd07d2wC6K5rjmchzljxaUVqKqrYqHijo0ERASqq6uRkpICAFi5ciVu3boFT09PZB/JxrXAa5i8fTL6WvVt9PWbJmzCq4pX2HZ1m4gqJj4gAWFYeno6jI2NMW3aNFRWVkJZWRm9e/dGflo+oudEw8jXCKP+NUroGAO6DcB80/nYdGUTCisKRVQ5AZCAMKaurg5r1qzBmDFjoKysjOTkZCgrKwMAyl6UIdQpFFomWrDd3bzNNFdZrIK8jDxWJ6xmunTiH0hAGLJo0SKsW7cOK1euxNWrVzF06FAAQF11HUKnhUJaVhquEa6QVWjerbFqimr4xeIX7M/cj5xXOUyWTvwDOc1LI4FAgJcvX0JbWxtPnjzB69evYWr6v73IKYrCqdmncCfyDnxSfNDLuGU9cXn1POjt0UNf1b6I9YwlS1A+Q07zijEul4vJkyfDwsICPB4P/fr1+yQcAJD6WypygnPgeNCxxeEAAHkZefw26Tf8/fhvxvcZId4jAWkjiqJw7Ngx6Ovr486dO/jjjz++uI3A/XP3cXH5RYxbMQ56bnqtns9hiAPG9x2Pf8f9G3X1dW0pnWgGEpA2WrhwIWbPno2vv/4aOTk5mDRpUoPnvL7zGhEzIzDEYQis11m3aT4pKSlsm7wN94vvt7jhHNFyJCCt9OHW42nTpiE0NBTBwcFQU1Nr8Lzqt9UIcQiBah9VOB11gpR0248bRmiOgJ+xH1Ynrsbb6sbvwSHajgSkhSoqKvDdd9/Bzs4OAoEA48ePh6ur6xefK+ALEO4Wjup31XCPcodCZ/pWM68bvw58AZ+c9mUYCUgLpKamwtDQEEePHsWMGTOaPIsUtyQOTxOfwiXMBWr9Gn67tEVPlZ5YZbEKe9P3Ircol9axif8hAWmmNWvWgMPhoEePHsjOzoa/v7/QgGQeyMS1wGuYEjgF/cb3Y6SmBWMWoL9afyyMWdjmfUaILyMBaaZu3bph3bp1uHz5MgYOHCj0uc9TniP6u2iM9B8Jk7kmjNUkLyOPbZO3If5JPCLvRDI2T0dGLhQ2or6+Hr///jvevXuHDRs2NPt1pc9Lsc9kHzSGamD237MhIy/DYJXv2R23Q05RDu7MuwMlOSXG5xNX5EKhiDx58gTW1tZYtmwZ6uvrm/3zpa6qDiHTQiCnJAeXcBeRhAMAtk/ZjsKKQmxMJk0x6EYC8pmgoCAYGBjg2bNnSEhIwObNm5u1pIOiKJz5vzMovlcM9zPuUNZQFkG17w3sNhA/mv+ILalb8KD4gcjm7QhIQD5z+fJluLi44NatWy3auix5QzLyTubB6agTNEdoMljhl/3E+QlanbUw/8J8csBOI7LLCoBTp06hrq4Orq6uCAoKavHmM3dP30XCzwmwDLDE0OlDGapSOCU5JeycuhP2J+wRdjsMrsO/fG2GaJkO/Q1SWloKb29vTJ8+HefPv1/819JwvLr1CpGekRg6YygsV7G7WabdYDs4feWEBTELUFpTymot7UWHDUhCQgIMDAwQGRmJgwcP4uDBgy0eo/J1JUIcQ6A+SB3TDk+jZRlJWwVOCUQFrwIr4lewXUq70GRAGtv6AAASExOhq6sLKysridrEhaIoLF++HP369cOtW7fg7e3d4nsr6nn1ODnjJOqq6uB+xh3yyg1X8LJBt6sufrX+FXvT935xMx6iZYQGRNjWBx+4ubkhMTER8fHxjBVJl4yMDGRlZUFKSgrR0dG4dOkS+vbt2+JxKIrCuXnnkJ+WD9dI1y92I2HTvFHzMEp7FPyi/FDLJw3D20JoQJqzvUFERAQ4HA4CAwOFTsRmd3c+n4/169dj9OjR2Lx5MwBAQ0Oj1fuHX9txDZn7M2G/zx69x/ams1RayEjLIMghCA/fPsSvyb+yXY5IsNLdvantDUxMTHDv3j3Ex8cjJiYGN2/ebHQstrq7379/H+PGjcPq1auxbNkyHD58uE3jPbjwAHGL42C2xAyG3ob0FMkAvR56WMFZgY0pG5FVmMV2OYxjqru7LAAUFhbC2dm5wYNTp04Vur2BiorKxz87ODggOzsbI0eO/OJEXC5X5Dsj8fl8TJ48GXJycrhy5QrGjBnTpvGK8ooQ7haOQbaDMHHTRJqqZM4KzgqcunsKXqe9cOPbG5CXEY/jJCb89NNP8PPzoz8kwhr3ZmRkULNmzaIoiqLWr19PHT9+vEGz4A9mzpxJJSUlNRiDjebV+fn5VFFREUVR7/8bKioq2jxmxasKanvf7dQe/T1UTVlNm8cTlYyCDEp2rSz1c/zPbJfCOCY+a0J/Yn1p6wMAH7c/OHnyJExNTWFubg5tbW1YWFjQm95WCAkJgb6+/se9SIyMjD72o2otfg0fIdNCUFddB49oD1pvfGKaUS8jrLJYhY0pG3Et/xrb5Uge2qLWCFF9gxQXF1Pu7u4UAMrNzY0qLi6mZVxBvYAKdw+n1ndaT3HTuLSMKWp19XWU6V+m1KAdg6jy2nK2y2GMyL9BJEV1dTWMjY0RExOD48ePIyQkROh2cC2R8EsCckNy4XTUCTqjdWgZU9RkpWVx1OkoXpS/wKKYRWyXI1EkOiCVlZWoq6uDoqIiNm3ahNzcXMycOZO28TP2ZyD512RM3DIRw5yH0TYuGwarD0bglEDsz9yPiNsRbJcjMSQ2IGlpaTA0NPx4M5O7uzu0tbVpG//BhQeI/i4aJnNNYL7EnLZx2eRr5AuXYS7wjfLF05KnbJcjESQuIDweD6tWrcLYsWOhrq5O6zfGBwU3CxDmEoZBtoMwdcfUdtPiU0pKCvvs90FNUQ3u4e7g1fOaflEHJ1EBKS0txZgxY7Bp0yYEBAQgJSUFgwcPpnWOtw/fInhqMHro9YBziDOkZSXqLWqSaidVhDqHIuNlBpbGLWW7HLEnEX/71H9vAOrSpQsmTZqEtLQ0rFq1qsVL05tS/rIcxyYfg6KaIjyiPSCnJNf0iySQqbYpfp/8O3Zc34ETOSfYLkesiX1Anj17Bmtra0RGRkJKSgqbN29u9Gp9W1S/q0bwlGDwa/nwjPOEUvf23fxg3qh5mKU/C35n/XDr1S22yxFbYhsQiqJw+PBhGBgY4PHjx1BXV2dsLl4FD8e/Po6y/DJ4xnpCtY8qY3OJiw/HI4O6DcK0kGl4U/WG7ZLEklgGpKSkBNOnT4e3tzecnJxafH94S9RVv+9EUpRThFkxs9BjeA9G5hFHSnJKOON+BhW8CriEuZCD9i8Qy4B06tQJpaWliIyMxKFDh9C1KzP3W/Br+QhzDgM3lQuPcx7QHkXfaWJJ0Ue1DyJcI3Dl+RXMjZ5LGj58RmwCUlZWhjlz5iA3NxedOnVCfHw8nJycGJvvQzgexz/GzKiZ6GPRh7G5xB2nDwf7HfbjQNYBbEwhvbX+SSwCcvnyZYwYMQInTpzAo0ePAIDRaw/8Gj5OzjiJR38/gvsZd/Sf2J+xuSTFNyO+QYBlAFZeWokj2UfYLkdssBqQmpoaLF26FFZWVtDV1cWtW7fg6OjI6Jwfuh8+iX+CmVEzMXCy8D67Hckvlr/A18gXPmd8cO7+ObbLEQusBqS4uBjHjh3D5s2bkZCQgH79mOmC/kFNaQ2CpwbjecpzeJzzwACbAYzOJ2mkpKTwh90fsB9iD+cwZyQ9TWK7JNax3ry6qqoKSkrMX3OoeFWB4CnBKHlaAo/zHtA1o//2zPaihl8Du+N2uPbiGuI842Cma8Z2Sc3SLptXiyIcxfeLccD8ACpeVcD7sjcJRxM6yXbCGfczMNI0wpTgKUjLT2O7JNawHhCmPUt+hiDzIMjIy8A31Rc99XuyXZJEUJZXxjmPczDoaQCbozZIeZ7CdkmsaNcByTqUhSMTjqCnfk/4XPGBal9VtkuSKJ0VOuPCrAsw0TKBzVEbxD2KY7skkWuXAamvq8eFBRdw5v/OYITXCHjGekKxmyLbZUkkFXkVnPM4B+t+1rA7btfhFje2u+7uZfllCHcLx4vrLzB111SM+teodnM/B1sU5RRxyu0U/M76wSPSA9wyLpaaL+0Q72u7CsjdM3cR5RMFOSU5cjBOMzkZORxyPITeXXpj2cVleFD8ALu/3t2ue20B7SQgtWW1iF0ci8ygTAxxGAKHAw5QUm/fy9XZICUlhXXW6zCw20DMiZ6De8X3cNLlJDRVRL9hkKgIPQYpLy/H6NGjoaKigtzchntx8/l8eHt7g8PhYMGCBYwVKcz96PvYM3wP8kLzYP+XPdxOu5FwMMzL0AsJXgl48PYBRu4b2a7PcAkNiKKiIqKjo7/YlhQAzp49Cx0dHSQnJ6OqquqLza2Z8u7xO4Q6heKE/QloDNfA3Ny5MPYz7hC/i8WBua45MuZkYIDaAFgdssKG5A2oF9SzXRbthAZEVlZWaD/d5nR/p1vl60rELo7F7qG7UZBeAOdQZ8y6MKtD3OQkbnp17oVLXpewfNxy/HzpZ1gfscbjd4/ZLotWbTrN21T3939q6/YHZflliFsah8B+gcjYnwHOzxzMvzcfw12Hk28NFslKy2K99XokeCXgeelzGOw1wK7ruyCgBCKtg9HtDwoLCzFu3LgG/wj7wAOAmpqa0O7v/9Sa7Q8E9QI8jn+McLfw98HYl4ExC8dgweMFsFxl2W6bKkgiy76WuPXdLXwz4ht8f+F7jD0wFpkvM0U2P1PbHzSrN6+XlxeVk5PT4N9HRkZSK1eupCiKovz8/KjU1NQGz/nQL5XL5VI1NU13RedV8qgHMQ+oc/PPUVu1tlIBCKB2fbWLurr9qkR1Ve/Ikp8lU8N3D6ek10hTc6LmUIXlhYzPWVNTQ3G5XNp78za5mtfW1hZZWVno06cP/P394e3tDX9/f/z555/g8/nw9fXF48ePYWRkhB07djR4vbAVlm8fvcWbu29Q8qQEr2+/xsuMlyjMLEQ9rx5de3fFEMch0JupB50xOuRnlISpq6/D7hu7sSZpDfgCPhaPWYxFZoug2kmVsTmZWM3L6nL3iJkRyA3JhbScNLoP6Y6eI3pCZ4wO+lr1hcZwDRKKdqC4qhibr2zGzus7oSCjgB9G/4DvTb+HhjL9mym1u4CUPi+FlIwUVDRVIC3TLpeFEf/1svwltlzZgn0Z+yCgBPDU98Q803kw1DSkbY52FxCi4ymuKsafN//Enht78KL8BUy0TOA1wgsuw1zQU6VttyKQgBDtBl/AR/T9aBzMOojzD85DQAlg0ccCjkMcMWXgFAxRH9Lin9gkIES7VFxVjMg7kTh19xTin8SDV8+DdmdtWPSxgJmOGUZqjYR+D310VugsdBwSEKLdq+RVIulZEhKeJCD5eTIyCzM/dnzU7qyN/mr94TDEAUvMlzR4LROftXaxmpdoP5TllWE7yBa2g2wBALx6HvKK8pD3Og9339wV+cY/JCCEWJOXkYdRLyMY9TJiZX5ybpUghCABIQghSEAIQogOEZDa2loEBAS0abm9qElazZJWb3Mxfpq3tLQUqqqq4HK5rJ3mLSsrg66uLqs1tJSk1SwO9X6ooaSkhLY9ZRgPSH5+PjPr9AmiEVwuFzo6OrSMxXhABAIBCgoK0LlzZ7I6l2AURVEoLy+HlpYWpKXpOXpgPCAEIck6xEE6QbQWCQhBCNHuA7JkyRJwOBzMmjULPN6n2xwnJiZCV1cXVlZWmDBhAksVNl6jODTm+5LG6hWX95NO7TogmZmZKCwsRHJyMoYNG4bw8PAGz3Fzc0NiYiLi4+NZqFB4jWw25mtMU+8p2+8n3dp1QJrT2C4iIgIcDgeBgYGiLg+A8BrZaMzXlKZqYvv9pFu7DkhTje1MTExw7949xMfHIyYmBjdv3hSrGlvSmE9UhNUkDu8n3drFcvfCwsIv9g+eOnWq0MZ2KioqH//s4OCA7OxsjBw5ktliPyOs+V5LGvOJirCaxOH9pFu7+AbR1NRESkpKg39sbW0RF/d+27DY2FiMHTv2k9f9s1VlcnIyBg4U/Z7pY8aMabRGYY+xRVhN4vB+0q1dBKQxRkZG0NTUBIfDwe3btzFjxgwAgL+/PwDg5MmTMDU1hbm5ObS1tWFhYSEWNX6oz97eHlwuFxwOB4qKijAzY387ZmH1isP7STdyJZ0ghGjX3yAE0VYkIAQhBAkIQQhBAkIQQpCAEIQQJCAEIYTEB6SgoACzZs2ifdxDhw6hqKiI9nEDAgKwa9cu2sddvHgx9PT08Ouvv8LKyuqL23YzZfv27Z+s6h0/frzI5maaxAdES0sLwcHBtI/LREDq65nbJvnw4cPIzs7GypUrGRlfWO2fByQhIYGRGtgg8QF5+vQpTExMALz/ULu6umLSpEkYOHAgtm7d+vE5BgYG8PDwgJ6eHvz8/D7+hXfv3v3jWLt27UJAQABOnTqF9PR0ODs7Y/To0Q3mvHv3LqysrDBixAiYmpqivLwcaWlpMDc3h5GREaytrfHy5UsA778xvvvuO0ycOBGLFi0CANy4cQNWVlYYPHgwTp8+DQCorq7G7Nmzoa+vD1NTU2RlZX18vZ+fHywsLNC/f3+EhIQ0qMfZ2RmlpaUYOXIkzp8//8ljX/rvq6urw8iRIz8uJvTw8EBQUFCDcfv27Yu1a9fC3NwciYmJWL16NUxNTTF8+HCsWLECALB7924UFBTA3NwcTk5On8xJURQWLlwIPT09GBoa4uLFi43+PYqr/wcBafBBioI1DAAAAABJRU5ErkJggg==' width=200.0/>\n",
       "            </div>\n",
       "        "
      ],
      "text/plain": [
       "Canvas(toolbar=Toolbar(toolitems=[('Home', 'Reset original view', 'home', 'home'), ('Back', 'Back to previous …"
      ]
     },
     "metadata": {},
     "output_type": "display_data"
    }
   ],
   "source": [
    "fig,ax = plt.subplots(figsize=(2,2))\n",
    "ax.plot(inflow_ratios,backflow_ratios,color = \"purple\")\n",
    "ax.plot(inflow_ratios2,backflow_ratios2,color = \"green\")\n",
    "\n",
    "ax.plot(inflow_ratios,inflow_ratios,color=\"black\",linestyle = \"dashed\")\n",
    "ax.set_xlabel(\"input carbon flux ratio\")\n",
    "ax.set_ylabel(\"output phoshphorous flux ratio\")\n",
    "\n",
    "plt.savefig(\n",
    "    os.path.join(path_figure, f\"ratio_relationship.pdf\"),\n",
    "    transparent=True,\n",
    "    bbox_inches=\"tight\")"
   ]
  },
  {
   "cell_type": "code",
   "execution_count": 75,
   "id": "cba079b3-6380-42c5-942f-41ae7639a24b",
   "metadata": {},
   "outputs": [],
   "source": [
    "P_fraction = 0.25 \n",
    "def get_backflow2(carbon_flux):\n",
    "    G,positions = create_G(length_init)\n",
    "    add_attributes(G,1000)\n",
    "    add_heaton_flux(G,0.5,tot_growth = carbon_flux)\n",
    "    add_heaton_flux2(G,ratio = 0.5,tot_growth = carbon_flux)\n",
    "    \n",
    "    add_backflow(G,tot_growth = carbon_flux)\n",
    "    plant1 = G[0][1]\n",
    "    fluxin = G[0][1][\"water_flux_heaton\"]\n",
    "    fluxout = G[0][1][\"net_water_flux_phase_backflow\"]\n",
    "    # print(fluxin1,fluxin2,fluxout1,fluxout2)\n",
    "    return(fluxin*C_factor*1e-12*3600*1e6*24,-fluxout*1e-12*3600*1e6*24*pdry*density*P_fraction)"
   ]
  },
  {
   "cell_type": "code",
   "execution_count": 76,
   "id": "28afadf6-8b11-4db6-94d2-957e677b0127",
   "metadata": {},
   "outputs": [
    {
     "data": {
      "text/plain": [
       "1.8629032258064515"
      ]
     },
     "execution_count": 76,
     "metadata": {},
     "output_type": "execute_result"
    }
   ],
   "source": [
    "CP = pdry*density*P_fraction #g/cm3\n",
    "CP = CP/31*1e3 #mol/L\n",
    "CP"
   ]
  },
  {
   "cell_type": "code",
   "execution_count": 79,
   "id": "60bc0da4-304b-446d-bd2f-ccc7acd5d2ba",
   "metadata": {},
   "outputs": [
    {
     "data": {
      "text/plain": [
       "0.05775"
      ]
     },
     "execution_count": 79,
     "metadata": {},
     "output_type": "execute_result"
    }
   ],
   "source": [
    "CP = pdry*density*P_fraction #g/cm3\n",
    "\n",
    "CP"
   ]
  },
  {
   "cell_type": "code",
   "execution_count": 77,
   "id": "5722bc1b-6c5a-49c6-8102-9803e622c147",
   "metadata": {
    "tags": []
   },
   "outputs": [],
   "source": [
    "Cinputs_raw = np.linspace(1,30,25)\n",
    "Cinputs = [get_backflow2(Cinput)[0] for Cinput in Cinputs_raw]\n",
    "Poutputs = [get_backflow2(Cinput)[1] for Cinput in Cinputs_raw]"
   ]
  },
  {
   "cell_type": "code",
   "execution_count": 78,
   "id": "f973ffec-2e56-4cbd-8bc8-d164c58d84f9",
   "metadata": {},
   "outputs": [
    {
     "data": {
      "application/vnd.jupyter.widget-view+json": {
       "model_id": "08239b252171493692c337d33d00136e",
       "version_major": 2,
       "version_minor": 0
      },
      "image/png": "[encoded data removed]",
      "text/html": [
       "\n",
       "            <div style=\"display: inline-block;\">\n",
       "                <div class=\"jupyter-widgets widget-label\" style=\"text-align: center;\">\n",
       "                    Figure\n",
       "                </div>\n",
       "                <img src='data:image/png;base64,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' width=200.0/>\n",
       "            </div>\n",
       "        "
      ],
      "text/plain": [
       "Canvas(toolbar=Toolbar(toolitems=[('Home', 'Reset original view', 'home', 'home'), ('Back', 'Back to previous …"
      ]
     },
     "metadata": {},
     "output_type": "display_data"
    }
   ],
   "source": [
    "fig,ax = plt.subplots(figsize=(2,2))\n",
    "ax.scatter(Cinputs,Poutputs,color=\"green\",s=10)\n",
    "ax.plot(Cinputs,1/3*np.array(Cinputs),color=\"black\",linestyle = \"dashed\")\n",
    "ax.set_xlabel(\"input carbon flux ($\\mu g/day$)\")\n",
    "ax.set_ylabel(\"output phoshporous flux ($\\mu g/day$)\")\n",
    "\n",
    "plt.savefig(\n",
    "    os.path.join(path_figure, f\"input_output_relationship.pdf\"),\n",
    "    transparent=True,\n",
    "    bbox_inches=\"tight\")"
   ]
  },
  {
   "cell_type": "code",
   "execution_count": null,
   "id": "c35a44b0-c665-490f-ba21-145df7b86054",
   "metadata": {},
   "outputs": [],
   "source": []
  },
  {
   "cell_type": "code",
   "execution_count": null,
   "id": "2054498d-72f3-48dd-94f1-054a7e038264",
   "metadata": {},
   "outputs": [],
   "source": []
  }
 ],
 "metadata": {
  "kernelspec": {
   "display_name": "Python 3 (ipykernel)",
   "language": "python",
   "name": "python3"
  },
  "language_info": {
   "codemirror_mode": {
    "name": "ipython",
    "version": 3
   },
   "file_extension": ".py",
   "mimetype": "text/x-python",
   "name": "python",
   "nbconvert_exporter": "python",
   "pygments_lexer": "ipython3",
   "version": "3.10.6"
  }
 },
 "nbformat": 4,
 "nbformat_minor": 5
}
