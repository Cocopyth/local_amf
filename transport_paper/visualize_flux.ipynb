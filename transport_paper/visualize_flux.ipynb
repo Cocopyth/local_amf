{
 "cells": [
  {
   "cell_type": "code",
   "execution_count": 20,
   "id": "8a70d733-3eb4-46f5-a3f5-844fe6138b4d",
   "metadata": {},
   "outputs": [],
   "source": [
    "import numpy as np\n",
    "import pandas as pd\n",
    "from dash import html, dcc\n",
    "import dash_bootstrap_components as dbc\n",
    "from tqdm import tqdm\n",
    "\n",
    "import glob\n",
    "import os\n",
    "from PIL import Image, ImageDraw\n",
    "from amftrack.pipeline.functions.transport_processing.high_mag_videos.high_mag_analysis import (\n",
    "    HighmagDataset,\n",
    "    VideoDataset,\n",
    "    EdgeDataset,\n",
    "    index_videos_dropbox_new,\n",
    "    analysis_run,\n",
    ")\n",
    "\n",
    "def read_video_data(analysis_folder):\n",
    "    img_infos = glob.glob(\n",
    "        f\"{analysis_folder}/**/video_data_network.json\", recursive=True\n",
    "    )\n",
    "    vid_anls_frame = pd.DataFrame()\n",
    "    for address in tqdm(img_infos):\n",
    "        add_info = pd.read_json(address, orient=\"index\").T\n",
    "        vid_anls_frame = pd.concat([vid_anls_frame, add_info], ignore_index=True)\n",
    "    return vid_anls_frame.sort_values(\"unique_id\").reset_index(drop=True)\n"
   ]
  },
  {
   "cell_type": "code",
   "execution_count": 21,
   "id": "50925c11-2da4-4d0c-ac60-4ce49e1056cd",
   "metadata": {},
   "outputs": [
    {
     "name": "stderr",
     "output_type": "stream",
     "text": [
      "100%|██████████████████████████████████████████████████████████████████████████████| 1128/1128 [00:35<00:00, 31.36it/s]\n"
     ]
    }
   ],
   "source": [
    "analysis_folder = (\n",
    "        r\"C:\\Users\\coren\\AMOLF-SHIMIZU Dropbox\\DATA\\CocoTransport\\KymoSpeeDExtract\"\n",
    "    )\n",
    "vid_frame = read_video_data(analysis_folder)"
   ]
  },
  {
   "cell_type": "code",
   "execution_count": 22,
   "id": "d689af89-81f3-4829-8dbf-9155db21c62e",
   "metadata": {},
   "outputs": [
    {
     "data": {
      "text/plain": [
       "array(['20230728_Plate440', '20230812_Plate441', '20230813_Plate441',\n",
       "       '20230813_Plate449', '20230901_Plate310', '20230902_Plate310',\n",
       "       '20230903_Plate310', '20230904_Plate310', '20230905_Plate310',\n",
       "       '20230906_Plate310'], dtype=object)"
      ]
     },
     "execution_count": 22,
     "metadata": {},
     "output_type": "execute_result"
    }
   ],
   "source": [
    "vid_frame['plate_id'].unique()"
   ]
  },
  {
   "cell_type": "code",
   "execution_count": 32,
   "id": "6af2695d-cd73-468c-82d2-d8d26c7ff863",
   "metadata": {},
   "outputs": [],
   "source": [
    "vid_frame['folder'] = vid_frame['folder'].str.replace(\"CocoTransport\",\"\")\n",
    "vid_frame['analysis_folder'] = analysis_folder"
   ]
  },
  {
   "cell_type": "code",
   "execution_count": null,
   "id": "5d8095c6-d797-4f3e-b223-2dbca8f3d7bd",
   "metadata": {},
   "outputs": [
    {
     "name": "stdout",
     "output_type": "stream",
     "text": [
      "Couldn't find the edges data file at C:\\Users\\coren\\AMOLF-SHIMIZU Dropbox\\DATA\\CocoTransport\\KymoSpeeDExtract\\20230901_Plate310\\008\\Img\\edges_data.csv. Check analysis for 20230901_Plate310_008\n"
     ]
    }
   ],
   "source": [
    "data_obj = HighmagDataset(vid_frame, analysis_folder, \"\")"
   ]
  },
  {
   "cell_type": "code",
   "execution_count": 30,
   "id": "e066eb40-f139-40a2-b34d-58d7361a47bd",
   "metadata": {
    "collapsed": true,
    "jupyter": {
     "outputs_hidden": true
    },
    "tags": []
   },
   "outputs": [
    {
     "data": {
      "text/plain": [
       "Unnamed: 0                                                             0\n",
       "edge_name                                                         (1, 0)\n",
       "edge_length                                                       97.152\n",
       "straight_length                                                 97.13416\n",
       "speed_max                                                        5.24995\n",
       "speed_min                                                      -7.447811\n",
       "speed_mean                                                      0.198576\n",
       "flux_avg                                                        2.102407\n",
       "flux_min                                                      -23.033204\n",
       "flux_max                                                        27.90182\n",
       "speed_left                                                     -2.250934\n",
       "speed_right                                                     1.783111\n",
       "speed_left_std                                                  0.514501\n",
       "speed_right_std                                                 0.305655\n",
       "coverage_left                                                   0.187134\n",
       "coverage_right                                                  0.265341\n",
       "coverage_tot                                                    0.402422\n",
       "edge_xpos_1                                                       1462.0\n",
       "edge_ypos_1                                                        948.0\n",
       "edge_xpos_2                                                         67.0\n",
       "edge_ypos_2                                                       1065.0\n",
       "Fiber Led                                                             On\n",
       "analysis_folder        /gpfs/home6/svstaalduine/Analysis/CocoTranspor...\n",
       "binning                                                                2\n",
       "crossing_day                                                    20230723\n",
       "days_after_crossing                                                    5\n",
       "exposure_time_(us)                                               25000.0\n",
       "folder                                        /20230728_Plate440/001/Img\n",
       "fps                                                                 20.0\n",
       "gain                                                                 0.0\n",
       "gamma                                                               1.27\n",
       "imaging_day                                                     20230728\n",
       "magnification                                                       50.0\n",
       "mode                                                                  BF\n",
       "plate_id                                               20230728_Plate440\n",
       "record_time                                                     17:09:36\n",
       "root                                                              Carrot\n",
       "storage_path                                  Dropbox\\DATA\\CocoTransport\n",
       "strain                                                                C2\n",
       "time_(s)                                                            20.0\n",
       "tot_path_drop               DATA/CocoTransport/20230728_Plate440/001/Img\n",
       "treatment                                                   001P100N100C\n",
       "unique_id                                          20230728_Plate440_001\n",
       "video_int                                                              1\n",
       "videos_folder          /gpfs/scratch1/shared/amftrackflow/videos/Coco...\n",
       "xpos                                                               -16.3\n",
       "xpos_network                                                 6182.822294\n",
       "ypos                                                             -24.698\n",
       "ypos_network                                                19835.226779\n",
       "zpos                                                              12.097\n",
       "Name: 0, dtype: object"
      ]
     },
     "execution_count": 30,
     "metadata": {},
     "output_type": "execute_result"
    }
   ],
   "source": [
    "data_obj.edge_objs[0].mean_data"
   ]
  },
  {
   "cell_type": "code",
   "execution_count": null,
   "id": "fc49ff0c-647f-468f-ab93-577e5926d3ea",
   "metadata": {},
   "outputs": [],
   "source": [
    "data_obj.edge_objs[0].show_summary()"
   ]
  }
 ],
 "metadata": {
  "kernelspec": {
   "display_name": "Python 3 (ipykernel)",
   "language": "python",
   "name": "python3"
  },
  "language_info": {
   "codemirror_mode": {
    "name": "ipython",
    "version": 3
   },
   "file_extension": ".py",
   "mimetype": "text/x-python",
   "name": "python",
   "nbconvert_exporter": "python",
   "pygments_lexer": "ipython3",
   "version": "3.10.6"
  }
 },
 "nbformat": 4,
 "nbformat_minor": 5
}
