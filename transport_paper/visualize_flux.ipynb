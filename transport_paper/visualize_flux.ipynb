{
 "cells": [
  {
   "cell_type": "code",
   "execution_count": 8,
   "id": "8a70d733-3eb4-46f5-a3f5-844fe6138b4d",
   "metadata": {},
   "outputs": [
    {
     "name": "stderr",
     "output_type": "stream",
     "text": [
      "c:\\users\\coren\\documents\\phd\\code\\amftrack\\amftrack\\util\\dbx.py:3: TqdmExperimentalWarning: Using `tqdm.autonotebook.tqdm` in notebook mode. Use `tqdm.tqdm` instead to force console mode (e.g. in jupyter console)\n",
      "  from tqdm.autonotebook import tqdm\n"
     ]
    }
   ],
   "source": [
    "import numpy as np\n",
    "import pandas as pd\n",
    "from dash import html, dcc\n",
    "import dash_bootstrap_components as dbc\n",
    "from tqdm import tqdm\n",
    "\n",
    "import glob\n",
    "import os\n",
    "from PIL import Image, ImageDraw\n",
    "from amftrack.pipeline.functions.transport_processing.high_mag_videos.high_mag_analysis import (\n",
    "    HighmagDataset,\n",
    "    VideoDataset,\n",
    "    EdgeDataset,\n",
    "    index_videos_dropbox_new,\n",
    "    analysis_run,\n",
    ")\n",
    "\n",
    "def read_video_data(analysis_folder):\n",
    "    img_infos = glob.glob(\n",
    "        f\"{analysis_folder}/**/video_data_network.json\", recursive=True\n",
    "    )\n",
    "    vid_anls_frame = pd.DataFrame()\n",
    "    for address in tqdm(img_infos):\n",
    "        add_info = pd.read_json(address, orient=\"index\").T\n",
    "        vid_anls_frame = pd.concat([vid_anls_frame, add_info], ignore_index=True)\n",
    "    return vid_anls_frame.sort_values(\"unique_id\").reset_index(drop=True)\n"
   ]
  },
  {
   "cell_type": "code",
   "execution_count": 16,
   "id": "50925c11-2da4-4d0c-ac60-4ce49e1056cd",
   "metadata": {},
   "outputs": [
    {
     "name": "stderr",
     "output_type": "stream",
     "text": [
      "100%|█████████████████████████████████████████████████████████████████████████████| 1128/1128 [00:06<00:00, 180.01it/s]\n"
     ]
    }
   ],
   "source": [
    "analysis_folder = (\n",
    "        r\"C:\\Users\\coren\\AMOLF-SHIMIZU Dropbox\\DATA\\CocoTransport\\KymoSpeeDExtract\"\n",
    "    )\n",
    "vid_frame = read_video_data(analysis_folder)"
   ]
  },
  {
   "cell_type": "code",
   "execution_count": 7,
   "id": "d689af89-81f3-4829-8dbf-9155db21c62e",
   "metadata": {},
   "outputs": [
    {
     "data": {
      "text/plain": [
       "array(['20230728_Plate440', '20230812_Plate441', '20230813_Plate441',\n",
       "       '20230901_Plate310'], dtype=object)"
      ]
     },
     "execution_count": 7,
     "metadata": {},
     "output_type": "execute_result"
    }
   ],
   "source": [
    "vid_frame['plate_id'].unique()"
   ]
  },
  {
   "cell_type": "code",
   "execution_count": 18,
   "id": "6af2695d-cd73-468c-82d2-d8d26c7ff863",
   "metadata": {},
   "outputs": [],
   "source": [
    "vid_frame['folder'] = vid_frame['folder'].str.replace(\"CocoTransport\",\"\")"
   ]
  },
  {
   "cell_type": "code",
   "execution_count": 19,
   "id": "5d8095c6-d797-4f3e-b223-2dbca8f3d7bd",
   "metadata": {},
   "outputs": [
    {
     "name": "stderr",
     "output_type": "stream",
     "text": [
      "\n",
      "KeyboardInterrupt\n",
      "\n"
     ]
    }
   ],
   "source": [
    "data_obj = HighmagDataset(vid_frame, analysis_folder, \"\")"
   ]
  }
 ],
 "metadata": {
  "kernelspec": {
   "display_name": "Python 3 (ipykernel)",
   "language": "python",
   "name": "python3"
  },
  "language_info": {
   "codemirror_mode": {
    "name": "ipython",
    "version": 3
   },
   "file_extension": ".py",
   "mimetype": "text/x-python",
   "name": "python",
   "nbconvert_exporter": "python",
   "pygments_lexer": "ipython3",
   "version": "3.10.6"
  }
 },
 "nbformat": 4,
 "nbformat_minor": 5
}
