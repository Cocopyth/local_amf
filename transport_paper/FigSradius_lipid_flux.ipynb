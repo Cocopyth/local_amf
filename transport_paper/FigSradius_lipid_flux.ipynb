{
 "cells": [
  {
   "cell_type": "code",
   "execution_count": 1,
   "id": "1da0e0e5-4529-4189-be97-f473756c5bb5",
   "metadata": {},
   "outputs": [
    {
     "name": "stderr",
     "output_type": "stream",
     "text": [
      "c:\\users\\coren\\documents\\phd\\code\\amftrack\\amftrack\\util\\dbx.py:3: TqdmExperimentalWarning: Using `tqdm.autonotebook.tqdm` in notebook mode. Use `tqdm.tqdm` instead to force console mode (e.g. in jupyter console)\n",
      "  from tqdm.autonotebook import tqdm\n"
     ]
    }
   ],
   "source": [
    "%load_ext autoreload\n",
    "%autoreload 2\n",
    "%matplotlib widget\n",
    "import pickle\n",
    "import os\n",
    "\n",
    "from amftrack.util.sys import (\n",
    "\n",
    "    update_plate_info,\n",
    "\n",
    "    get_current_folders,\n",
    ")\n",
    "\n",
    "from amftrack.pipeline.functions.image_processing.experiment_class_surf import (\n",
    "    Experiment,\n",
    ")\n",
    "\n",
    "from amftrack.pipeline.functions.image_processing.experiment_class_surf import (\n",
    "    Node,\n",
    ")\n",
    "from amftrack.pipeline.functions.post_processing.extract_study_zone import (\n",
    "    load_study_zone,\n",
    ")\n",
    "from amftrack.pipeline.functions.post_processing.exp_plot import *\n",
    "import pickle\n",
    "import scipy.io as sio\n",
    "import networkx as nx\n",
    "import numpy as np\n",
    "from sthype import SpatialGraph, HyperGraph\n",
    "from sthype.graph_functions import spatial_temporal_graph_from_spatial_graphs\n",
    "\n",
    "import matplotlib.pyplot as plt\n",
    "import os\n",
    "import pickle\n",
    "from tqdm import tqdm\n",
    "import pandas as pd\n",
    "from amftrack.pipeline.functions.image_processing.experiment_util import (\n",
    "    get_all_edges,\n",
    "    get_all_nodes, get_timedelta_second,\n",
    ")\n",
    "from amftrack.pipeline.functions.transport_processing.high_mag_videos.temporal_graph_util import *\n",
    "mpl.rcParams[\"figure.dpi\"] = 100\n",
    "import seaborn as sns\n",
    "plt.style.use('presentation.mplstyle')\n",
    "import logging\n",
    "\n",
    "# Get the logger for 'fontTools'\n",
    "font_tools_logger = logging.getLogger('fontTools')\n",
    "\n",
    "# Set the logging level to WARNING, which ignores DEBUG and INFO messages\n",
    "font_tools_logger.setLevel(logging.WARNING)"
   ]
  },
  {
   "cell_type": "code",
   "execution_count": 2,
   "id": "07ad2b5f-3e4a-4f4a-b26b-16be46ead4d4",
   "metadata": {},
   "outputs": [],
   "source": [
    "path_figure = r\"C:\\Users\\coren\\Documents\\PhD\\paper\\transport\\SI\""
   ]
  },
  {
   "cell_type": "code",
   "execution_count": 3,
   "id": "bbfe9636-efa5-4043-b147-23074d170cf6",
   "metadata": {},
   "outputs": [],
   "source": [
    "path_root = r\"C:\\Users\\coren\\AMOLF-SHIMIZU Dropbox\\DATA\\CocoTransport\\graphs\"\n",
    "plates = [\n",
    "    \"441_20230807\", \"449_20230807\", \"310_20230830\"\n",
    "]\n",
    "plate_id = plates[0]\n",
    "path_tot = os.path.join(path_root,f\"graph{plate_id}_video.pickle\")\n",
    "spatial_temporal_graph,folders = load(path_tot)"
   ]
  },
  {
   "cell_type": "code",
   "execution_count": 4,
   "id": "1be45bf3-e5a4-4756-b67e-211272632022",
   "metadata": {},
   "outputs": [],
   "source": [
    "spatial_temporal_graph_sub = create_subgraph_by_attribute(spatial_temporal_graph,\"post_hyperedge_activation\",39)"
   ]
  },
  {
   "cell_type": "code",
   "execution_count": 6,
   "id": "224fe70c-8278-42be-bfa8-e54361a401c7",
   "metadata": {
    "tags": []
   },
   "outputs": [],
   "source": [
    "exp = make_exp(spatial_temporal_graph_sub,folders)\n",
    "weights = {(begin, end): data[\"37\"]['water_flux_heaton'] if 'water_flux_heaton' in data[\"37\"] else 0 for begin, end, data in\n",
    "           spatial_temporal_graph_sub.edges(data=True)}\n",
    "nx.set_edge_attributes(spatial_temporal_graph_sub, weights, \"water_flux_heaton_42\")\n",
    "weights = {(begin, end): data[\"37\"]['width'] if 'water_flux_heaton' in data[\"37\"] else 0 for begin, end, data in\n",
    "           spatial_temporal_graph_sub.edges(data=True)}\n",
    "nx.set_edge_attributes(spatial_temporal_graph_sub, weights, \"radius_42\")\n"
   ]
  },
  {
   "cell_type": "code",
   "execution_count": 7,
   "id": "61480779-edec-4846-85fc-407845036747",
   "metadata": {},
   "outputs": [],
   "source": [
    "radii = [data['radius_42']/2 for begin,end,data in spatial_temporal_graph_sub.edges(data=True) if 'speed_heaton' in data[\"37\"]]\n",
    "carbon_flux= [abs(data['water_flux_heaton_42'])*C_factor_volume for begin,end,data in spatial_temporal_graph_sub.edges(data=True) if 'speed_heaton' in data[\"37\"]]"
   ]
  },
  {
   "cell_type": "code",
   "execution_count": 11,
   "id": "5131e8ea-6c9b-49b9-aa55-8183f04735ab",
   "metadata": {},
   "outputs": [
    {
     "data": {
      "application/vnd.jupyter.widget-view+json": {
       "model_id": "62d585ae68194ca9a294bfef14c6e4e6",
       "version_major": 2,
       "version_minor": 0
      },
      "image/png": "[encoded data removed]",
      "text/html": [
       "\n",
       "            <div style=\"display: inline-block;\">\n",
       "                <div class=\"jupyter-widgets widget-label\" style=\"text-align: center;\">\n",
       "                    Figure\n",
       "                </div>\n",
       "                <img src='data:image/png;base64,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' width=300.0/>\n",
       "            </div>\n",
       "        "
      ],
      "text/plain": [
       "Canvas(toolbar=Toolbar(toolitems=[('Home', 'Reset original view', 'home', 'home'), ('Back', 'Back to previous …"
      ]
     },
     "metadata": {},
     "output_type": "display_data"
    }
   ],
   "source": [
    "\n",
    "# Create a DataFrame for easier manipulation\n",
    "df = pd.DataFrame({'carbon_flux': carbon_flux, 'radii': radii})\n",
    "power = 2\n",
    "df['radii_power'] = np.pi*df['radii']**power\n",
    "num_bins = 10\n",
    "\n",
    "# Create bins for carbon_flux\n",
    "df['bin'] = pd.cut(df['carbon_flux'], bins=num_bins)\n",
    "\n",
    "# Group by bin and calculate the 10th percentile for radii_squared in each bin\n",
    "percentiles = df.groupby('bin')['radii_power'].quantile(0.10).reset_index()\n",
    "medians = df.groupby('bin')['radii_power'].quantile(0.50).reset_index()\n",
    "\n",
    "# Plotting\n",
    "fig, ax = plt.subplots(figsize=(1.5, 1.5))\n",
    "# ax.scatter(df['carbon_flux'], df['radii_power'], alpha=0.1)\n",
    "\n",
    "# Plot the 10th percentile for each bin\n",
    "# We need to calculate the center of each bin for plotting\n",
    "percentiles['bin_center'] = percentiles['bin'].apply(lambda x: x.mid)\n",
    "medians['bin_center'] = medians['bin'].apply(lambda x: x.mid)\n",
    "\n",
    "ax.plot(percentiles['bin_center'], percentiles['radii_power'], color='red', marker='o')\n",
    "# ax.plot(percentiles['bin_center'], percentiles['radii_power'], color='red', marker='o')\n",
    "ax.plot(medians['bin_center'], medians['radii_power'], color='blue', marker='o')\n",
    "\n",
    "ax.set_xlabel(\"carbon flux ($\\mu m^3/s$)\")\n",
    "ax.set_ylabel(\"hyphal cross section ($\\mu m^2$)\")\n",
    "plt.savefig(\n",
    "    os.path.join(path_figure, \"lipid_flux_radius.pdf\"),\n",
    "    transparent=True,\n",
    "    bbox_inches=\"tight\",\n",
    ")\n"
   ]
  }
 ],
 "metadata": {
  "kernelspec": {
   "display_name": "Python 3 (ipykernel)",
   "language": "python",
   "name": "python3"
  },
  "language_info": {
   "codemirror_mode": {
    "name": "ipython",
    "version": 3
   },
   "file_extension": ".py",
   "mimetype": "text/x-python",
   "name": "python",
   "nbconvert_exporter": "python",
   "pygments_lexer": "ipython3",
   "version": "3.10.6"
  }
 },
 "nbformat": 4,
 "nbformat_minor": 5
}
