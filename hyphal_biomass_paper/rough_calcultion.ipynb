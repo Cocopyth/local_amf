{
 "cells": [
  {
   "cell_type": "code",
   "execution_count": null,
   "id": "da245612-3ac9-4695-bc26-f605ecb0269c",
   "metadata": {},
   "outputs": [],
   "source": [
    "%matplotlib widget\n",
    "\n",
    "import handcalcs.render\n",
    "import matplotlib.pyplot as plt\n",
    "import numpy as np\n",
    "import pandas as pd\n",
    "from math import pi\n",
    "import forallpeople as si\n",
    "import matplotlib as mpl\n",
    "\n",
    "si.environment('custom')"
   ]
  },
  {
   "cell_type": "code",
   "execution_count": null,
   "id": "4aa122d7-0359-4e4f-8343-3af5cac4ea1d",
   "metadata": {},
   "outputs": [],
   "source": [
    "table = pd.read_excel(\"hyphal_length.xlsx\")\n",
    "\n",
    "table = table.loc[table[\"Title\"]!=\" External hyphal production of vesicular-arbuscular mycorrhizal fungi in pasture and tallgrass prairie communities\"]\n",
    "\n",
    "table[\"hypha_mm_mm3\"] = table[\"hypha_m_cm3\"]\n",
    "table[\"abs_lat\"] = abs(table[\"lat\"])\n",
    "table[\"colonization_perc\"] = table[\"colonization_perc\"].astype(str).str.replace(\"na\",\"nan\").replace(\"nann\",\"nan\").astype(float)\n",
    "table[\"symbiont_genus\"].replace('Natural ', 'Natural', inplace=True)\n",
    "table[\"pot_field\"].replace('fieled', 'field', inplace=True)\n",
    "\n",
    "table['bulk_density_g/cm3'].fillna(1, inplace=True)\n",
    "table['hypha_m_cm3'].fillna(table['hypha_cm_g'] * table['bulk_density_g/cm3']/100, inplace=True)"
   ]
  },
  {
   "cell_type": "code",
   "execution_count": null,
   "id": "d037baf2-848e-4ddd-8957-dedd208ee048",
   "metadata": {},
   "outputs": [],
   "source": [
    "select = table.loc[table[\"depth_cm\"]<=30]\n",
    "select = select.loc[select[\"pot_field\"]==\"field\"]"
   ]
  },
  {
   "cell_type": "code",
   "execution_count": null,
   "id": "0dfd719b-b8c9-4b10-bbfd-01535f3a08ee",
   "metadata": {
    "tags": []
   },
   "outputs": [],
   "source": [
    "%%render\n",
    "\n",
    "d_hypha_grass = np.mean(select.loc[select[\"landcover_8_clases_ESA\"]==\"Grassland\"][\"hypha_m_cm3\"])*si.m*((si.m)*(1e-2))**(-3)\n",
    "grass_surface = 50*1e6*(si.m*1e3)**2\n",
    "depth = 0.3 *si.m\n",
    "\n",
    "tot_length = d_hypha_grass*grass_surface*depth\n",
    "r = 2.5 *si.m*1e-6\n",
    "tot_volume = pi*r**2*tot_length\n",
    "density = 1 *1e3 *si.kg*si.m**(-3)\n",
    "tot_wet_mass = tot_volume*density\n",
    "C_ratio = 0.5\n",
    "dry_ratio = 0.3\n",
    "tot_dw = dry_ratio * tot_wet_mass\n",
    "tot_C_grassland = C_ratio*tot_dw\n",
    "tot_C_milo = 0.15*1e9*1e3*si.kg"
   ]
  },
  {
   "cell_type": "code",
   "execution_count": null,
   "id": "af9a2504-c292-403e-8ec8-fd035a186d17",
   "metadata": {},
   "outputs": [],
   "source": [
    "pi*r**2*C_ratio*dry_ratio*density*1e9"
   ]
  },
  {
   "cell_type": "code",
   "execution_count": null,
   "id": "2ea9fdfd-1daf-456e-bd78-928e97d0ece1",
   "metadata": {},
   "outputs": [],
   "source": [
    "%%render\n",
    "\n",
    "d_hypha_crop = np.mean(select.loc[select[\"landcover_8_clases_ESA\"]==\"Cropland\"][\"hypha_m_cm3\"])*si.m*((si.m)*(1e-2))**(-3)\n",
    "cropland_surface = 1244*1e6*(si.m*1e2)**2\n",
    "depth = 0.2 *si.m\n",
    "\n",
    "tot_length = d_hypha_crop*cropland_surface*depth\n",
    "tot_volume = pi*r**2*tot_length\n",
    "density = 1 *1e3 *si.kg*si.m**(-3)\n",
    "tot_wet_mass = tot_volume*density\n",
    "C_ratio = 0.5\n",
    "dry_ratio = 0.1\n",
    "tot_dw = dry_ratio * tot_wet_mass\n",
    "tot_C_crop = C_ratio*tot_dw\n"
   ]
  },
  {
   "cell_type": "code",
   "execution_count": null,
   "id": "c51d9bb4-5374-40f4-aa07-8bd8313ff9fd",
   "metadata": {
    "tags": []
   },
   "outputs": [],
   "source": [
    "%%render\n",
    "\n",
    "d_hypha_forest = np.mean(select.loc[select[\"landcover_8_clases_ESA\"]==\"Forest\"][\"hypha_m_cm3\"])*si.m*((si.m)*(1e-2))**(-3)\n",
    "forest_surface = 40*1e6*(si.m*1e3)**2\n",
    "depth = 0.4 *si.m\n",
    "\n",
    "tot_length = d_hypha_forest*forest_surface*depth\n",
    "tot_volume = pi*r**2*tot_length\n",
    "density = 1 *1e3 *si.kg*si.m**(-3)\n",
    "tot_wet_mass = tot_volume*density\n",
    "C_ratio = 0.5\n",
    "dry_ratio = 0.1\n",
    "tot_dw = dry_ratio * tot_wet_mass\n",
    "tot_C_forest = C_ratio*tot_dw\n"
   ]
  },
  {
   "cell_type": "code",
   "execution_count": null,
   "id": "f5fd29d3-993e-4a2c-b04d-1f33a0c411e8",
   "metadata": {},
   "outputs": [],
   "source": [
    "sizes = [tot_C_grassland, tot_C_forest,tot_C_crop]\n",
    "labels = [\"grassland\", \"forest\",\"crop\"]\n",
    "labels = [label+\":\"+str(round(sizes[i].split()[0]/1e12,3))+\"Gt\" for i,label in enumerate(labels)]\n",
    "fig, ax = plt.subplots()\n",
    "ax.pie(sizes, labels=labels, wedgeprops={'width': 0.3})\n",
    "total = round(sum(sizes).split()[0]/1e12,3)\n",
    "ax.text(0, 0, f'Total: {total} Gt', fontsize=12, va='center', ha='center')\n",
    "sizes = [grass_surface, forest_surface,cropland_surface]\n",
    "labels = [\"grassland\", \"forest\",\"crop\"]\n",
    "\n",
    "fig, ax = plt.subplots()\n",
    "labels = [label+\":\"+str(round(sizes[i])) for i,label in enumerate(labels)]\n",
    "\n",
    "ax.pie(sizes, labels=labels, wedgeprops={'width': 0.3})\n",
    "total = round(sum(sizes))\n",
    "ax.text(0, 0, f'Total: {total}', fontsize=12, va='center', ha='center')"
   ]
  },
  {
   "cell_type": "code",
   "execution_count": null,
   "id": "6b690794-210e-419a-b713-a2ce533fb317",
   "metadata": {},
   "outputs": [],
   "source": [
    "def global_estimate(r_value,depth_value = 0.3):\n",
    "    d_hypha_grass = np.mean(select.loc[select[\"landcover_8_clases_ESA\"]==\"Grassland\"][\"hypha_m_cm3\"])*si.m*((si.m)*(1e-2))**(-3)\n",
    "    grass_surface = 50*1e6*(si.m*1e3)**2\n",
    "    depth = depth_value *si.m\n",
    "\n",
    "    tot_length1 = d_hypha_grass*grass_surface*depth\n",
    "    r = r_value *si.m*1e-6\n",
    "    tot_volume = pi*r**2*tot_length1\n",
    "    density = 1.1 *1e3 *si.kg*si.m**(-3)\n",
    "    tot_wet_mass = tot_volume*density\n",
    "    C_ratio = 0.5\n",
    "    dry_ratio = 0.3\n",
    "    tot_dw = dry_ratio * tot_wet_mass\n",
    "    tot_C_grassland = C_ratio*tot_dw\n",
    "    d_hypha_crop = np.mean(select.loc[select[\"landcover_8_clases_ESA\"]==\"Cropland\"][\"hypha_m_cm3\"])*si.m*((si.m)*(1e-2))**(-3)\n",
    "    cropland_surface = 1244*1e6*(si.m*1e2)**2\n",
    "    depth = depth_value *si.m\n",
    "\n",
    "    tot_length2 = d_hypha_crop*cropland_surface*depth\n",
    "    tot_volume = pi*r**2*tot_length2\n",
    "    density = 1.1 *1e3 *si.kg*si.m**(-3)\n",
    "    tot_wet_mass = tot_volume*density\n",
    "    C_ratio = 0.5\n",
    "    dry_ratio = 0.3\n",
    "    tot_dw = dry_ratio * tot_wet_mass\n",
    "    tot_C_crop = C_ratio*tot_dw\n",
    "    d_hypha_forest = np.mean(select.loc[select[\"landcover_8_clases_ESA\"]==\"Forest\"][\"hypha_m_cm3\"])*si.m*((si.m)*(1e-2))**(-3)\n",
    "    forest_surface = 40*1e6*(si.m*1e3)**2\n",
    "    depth = (depth_value+0.5) *si.m\n",
    "\n",
    "    tot_length3 = d_hypha_forest*forest_surface*depth\n",
    "    tot_volume = pi*r**2*tot_length3\n",
    "    density = 1.1 *1e3 *si.kg*si.m**(-3)\n",
    "    tot_wet_mass = tot_volume*density\n",
    "    C_ratio = 0.5\n",
    "    dry_ratio = 0.3\n",
    "    tot_dw = dry_ratio * tot_wet_mass\n",
    "    tot_C_forest = C_ratio*tot_dw\n",
    "    # print(tot_length3+tot_length2+tot_length1)\n",
    "    return(tot_C_grassland + tot_C_forest+tot_C_crop)"
   ]
  },
  {
   "cell_type": "code",
   "execution_count": null,
   "id": "20dc7516-c775-4640-9b47-09e6c22f7470",
   "metadata": {},
   "outputs": [],
   "source": [
    "global_estimate(2.5,0.15)"
   ]
  },
  {
   "cell_type": "code",
   "execution_count": null,
   "id": "710ba7b7-689d-4c76-8b29-dc52516bd445",
   "metadata": {},
   "outputs": [],
   "source": [
    "tot_C_milo"
   ]
  },
  {
   "cell_type": "code",
   "execution_count": null,
   "id": "1cde976d-3c74-4ada-a5ea-611285be019e",
   "metadata": {
    "tags": []
   },
   "outputs": [],
   "source": [
    "fig, ax = plt.subplots()\n",
    "cmap = mpl.cm.get_cmap(\"Blues\")\n",
    "depth_max = 0.5\n",
    "depth_min = 0.10\n",
    "\n",
    "for depth in np.linspace(depth_min,depth_max,60):\n",
    "    tot_Cs = [global_estimate(r_value,depth) for r_value in range(1,6)]\n",
    "    ax.plot(range(1,6),tot_Cs,color = cmap((depth-depth_min)/(depth_max-depth_min)),alpha = 0.7)\n",
    "tot_Cs = [global_estimate(r_value) for r_value in range(1,6)]\n",
    "ax.plot(range(1,6),tot_Cs,color = cmap((depth-depth_min)/(depth_max-depth_min)),label=\"total extra radical AMF Biomass (estimated)\")\n",
    "ax.hlines(tot_C_milo,xmin=1,xmax=5,label=\"total intra radical AMF Biomass (Milo)\",color=\"red\")\n",
    "C_fungi = 12000\n",
    "ax.hlines(C_fungi,xmin=1,xmax=5,label=\"total extra radical fungal Biomass (Milo)\",color=\"purple\")\n",
    "ax.fill_between([1,5],[C_fungi/3,C_fungi/3],[C_fungi*3,C_fungi*3],color=\"purple\",alpha = 0.1)\n",
    "ax.vlines(2.8,ymin =0,ymax = global_estimate(2.8) ,color = \"green\",label=\"estimated $r_{eff}$ (data)\")\n",
    "ax.set_ylabel('Biomass (Mt C)')\n",
    "ax.set_xlabel('$r_{eff}$ ($\\mu m$)')\n",
    "ax.set_yscale('log')\n",
    "ax.legend()\n",
    "# im = ax.imshow(data.reshape(-1, 1), cmap='Blues')\n",
    "# cbar = fig.colorbar(im, ax=ax)\n",
    "# cbar.set_label('Depth used for soil volume (cm)')"
   ]
  },
  {
   "cell_type": "code",
   "execution_count": null,
   "id": "c0d6a2b7-453e-4992-bc3e-80c4ce12adde",
   "metadata": {},
   "outputs": [],
   "source": [
    "data = np.linspace(depth_min*100, depth_max*100, 100)\n",
    "\n",
    "fig, ax = plt.subplots()\n",
    "im = ax.imshow(data.reshape(-1, 1), cmap='Blues')\n",
    "cbar = fig.colorbar(im, ax=ax)\n",
    "cbar.set_label('Depth used for soil volume (cm)')"
   ]
  }
 ],
 "metadata": {
  "kernelspec": {
   "display_name": "Python 3 (ipykernel)",
   "language": "python",
   "name": "python3"
  },
  "language_info": {
   "codemirror_mode": {
    "name": "ipython",
    "version": 3
   },
   "file_extension": ".py",
   "mimetype": "text/x-python",
   "name": "python",
   "nbconvert_exporter": "python",
   "pygments_lexer": "ipython3",
   "version": "3.10.6"
  }
 },
 "nbformat": 4,
 "nbformat_minor": 5
}
