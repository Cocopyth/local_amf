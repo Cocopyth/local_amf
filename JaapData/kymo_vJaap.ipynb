{
 "cells": [
  {
   "cell_type": "code",
   "execution_count": 18,
   "metadata": {},
   "outputs": [],
   "source": [
    "import cv2 as cv\n",
    "import numpy as np\n",
    "import argparse\n",
    "import imageio\n",
    "import matplotlib.pyplot as plt\n",
    "%matplotlib widget\n",
    "\n",
    "W = 30          # window size is WxW\n",
    "C_Thr = 0.8   # threshold for coherency\n",
    "time_pixel_size = 0.1 #s.pixel\n",
    "space_pixel_size = 0.267 #um.pixel\n",
    "intensity_volume_factor = 1 #um**3.intensity-unit\n",
    "\n",
    "def calcGST(inputIMG, w):\n",
    "    img = inputIMG.astype(np.float32)\n",
    "    imgDiffX = cv.Sobel(img, cv.CV_32F, 1, 0, 3)\n",
    "    imgDiffY = cv.Sobel(img, cv.CV_32F, 0, 1, 3)\n",
    "    imgDiffXY = cv.multiply(imgDiffX, imgDiffY)\n",
    "    \n",
    "    imgDiffXX = cv.multiply(imgDiffX, imgDiffX)\n",
    "    imgDiffYY = cv.multiply(imgDiffY, imgDiffY)\n",
    "    J11 = cv.boxFilter(imgDiffXX, cv.CV_32F, (w,w))\n",
    "    J22 = cv.boxFilter(imgDiffYY, cv.CV_32F, (w,w))\n",
    "    J12 = cv.boxFilter(imgDiffXY, cv.CV_32F, (w,w))\n",
    "    tmp1 = J11 + J22\n",
    "    tmp2 = J11 - J22\n",
    "    tmp2 = cv.multiply(tmp2, tmp2)\n",
    "    tmp3 = cv.multiply(J12, J12)\n",
    "    tmp4 = np.sqrt(tmp2 + 4.0 * tmp3)\n",
    "    lambda1 = 0.5*(tmp1 + tmp4)    # biggest eigenvalue\n",
    "    lambda2 = 0.5*(tmp1 - tmp4)    # smallest eigenvalue\n",
    "    imgCoherencyOut = cv.divide(lambda1 - lambda2, lambda1 + lambda2)\n",
    "    imgOrientationOut = cv.phase(J22 - J11, 2.0 * J12, angleInDegrees = True)\n",
    "    imgOrientationOut = 0.5 * imgOrientationOut\n",
    "    return imgCoherencyOut, imgOrientationOut\n",
    "path = r'C:\\Users\\coren\\AMOLF-SHIMIZU Dropbox\\Projects\\Jaap_Data\\ExNo_110_Plate262_C2_NileRed_60x_T_Kymographs_PNG\\220330_ExNo_110_60x_C2_Nile red_PLate262-T_15-50_0101_2_kymo_2.png'\n",
    "imgIn = imageio.imread(path)\n",
    "imgcrop = imgIn\n",
    "imgCoherency, imgOrientation = calcGST(imgcrop, W)"
   ]
  },
  {
   "cell_type": "code",
   "execution_count": 19,
   "metadata": {},
   "outputs": [
    {
     "data": {
      "application/vnd.jupyter.widget-view+json": {
       "model_id": "ffc43e3ac32e49fd906e0da9c0eb0963",
       "version_major": 2,
       "version_minor": 0
      },
      "text/plain": [
       "Canvas(toolbar=Toolbar(toolitems=[('Home', 'Reset original view', 'home', 'home'), ('Back', 'Back to previous …"
      ]
     },
     "metadata": {},
     "output_type": "display_data"
    },
    {
     "data": {
      "text/plain": [
       "<matplotlib.image.AxesImage at 0x23f34bc90c8>"
      ]
     },
     "execution_count": 19,
     "metadata": {},
     "output_type": "execute_result"
    }
   ],
   "source": [
    "fig, ax = plt.subplots()\n",
    "ax.imshow(imgcrop,cmap=\"gray\")"
   ]
  },
  {
   "cell_type": "code",
   "execution_count": 20,
   "metadata": {},
   "outputs": [
    {
     "data": {
      "application/vnd.jupyter.widget-view+json": {
       "model_id": "bfdc9435c1304ab5b881322a61d31b6a",
       "version_major": 2,
       "version_minor": 0
      },
      "text/plain": [
       "Canvas(toolbar=Toolbar(toolitems=[('Home', 'Reset original view', 'home', 'home'), ('Back', 'Back to previous …"
      ]
     },
     "metadata": {},
     "output_type": "display_data"
    },
    {
     "data": {
      "text/plain": [
       "<matplotlib.image.AxesImage at 0x23f34c24648>"
      ]
     },
     "execution_count": 20,
     "metadata": {},
     "output_type": "execute_result"
    }
   ],
   "source": [
    "fig, ax = plt.subplots()\n",
    "ax.imshow(imgCoherency,cmap=\"jet\")"
   ]
  },
  {
   "cell_type": "code",
   "execution_count": 21,
   "metadata": {},
   "outputs": [
    {
     "name": "stderr",
     "output_type": "stream",
     "text": [
      "C:\\Users\\coren\\anaconda3\\envs\\cleanMsc\\lib\\site-packages\\ipykernel_launcher.py:5: RuntimeWarning: Mean of empty slice\n",
      "  \"\"\"\n"
     ]
    }
   ],
   "source": [
    "nans = np.empty(imgOrientation.shape)\n",
    "nans.fill(np.nan)\n",
    "real_movement = np.where(imgCoherency>C_Thr,imgOrientation,nans)\n",
    "\n",
    "speeds = np.tan((np.nanmean(real_movement,axis=1)-90)/180*np.pi)*space_pixel_size/time_pixel_size #um.s-1\n",
    "nans = np.empty(speeds.shape)\n",
    "nans.fill(np.nan)\n",
    "speeds = np.where(speeds<20,speeds,nans)\n",
    "nans = np.empty(speeds.shape)\n",
    "nans.fill(np.nan)\n",
    "speeds = np.where(speeds>-20,speeds,nans)"
   ]
  },
  {
   "cell_type": "code",
   "execution_count": 22,
   "metadata": {},
   "outputs": [],
   "source": [
    "import numpy as np\n",
    "\n",
    "def nan_helper(y):\n",
    "    \"\"\"Helper to handle indices and logical indices of NaNs.\n",
    "\n",
    "    Input:\n",
    "        - y, 1d numpy array with possible NaNs\n",
    "    Output:\n",
    "        - nans, logical indices of NaNs\n",
    "        - index, a function, with signature indices= index(logical_indices),\n",
    "          to convert logical indices of NaNs to 'equivalent' indices\n",
    "    Example:\n",
    "        >>> # linear interpolation of NaNs\n",
    "        >>> nans, x= nan_helper(y)\n",
    "        >>> y[nans]= np.interp(x(nans), x(~nans), y[~nans])\n",
    "    \"\"\"\n",
    "\n",
    "    return np.isnan(y), lambda z: z.nonzero()[0]\n",
    "\n",
    "y= speeds\n",
    "nans, x= nan_helper(y)\n",
    "y[nans]= np.interp(x(nans), x(~nans), y[~nans])\n",
    "speeds=y"
   ]
  },
  {
   "cell_type": "code",
   "execution_count": 32,
   "metadata": {},
   "outputs": [
    {
     "data": {
      "application/vnd.jupyter.widget-view+json": {
       "model_id": "81ce003bc96340d784f353574c51f835",
       "version_major": 2,
       "version_minor": 0
      },
      "text/plain": [
       "Canvas(toolbar=Toolbar(toolitems=[('Home', 'Reset original view', 'home', 'home'), ('Back', 'Back to previous …"
      ]
     },
     "metadata": {},
     "output_type": "display_data"
    }
   ],
   "source": [
    "fig, ax = plt.subplots()\n",
    "ax.imshow(imgcrop,cmap=\"gray\")\n",
    "ax2 = ax.twiny()\n",
    "# ax2.plot(np.tan((np.mean(imgOrientation,axis=1)-90)/180*np.pi),range(len(np.mean(imgOrientation,axis=1))),color = \"red\")\n",
    "ax2.plot(speeds,range(len(speeds)),color = \"red\")\n",
    "\n",
    "ax2.tick_params(axis='x', colors='red')\n",
    "ax2.set_xlabel('speed')\n",
    "\n",
    "ax.imshow(imgOrientation*(imgCoherency>C_Thr),alpha=0.5,cmap=\"jet\")\n",
    "ax2.set_xlim((-20,20))\n",
    "\n",
    "plt.tight_layout()"
   ]
  },
  {
   "cell_type": "code",
   "execution_count": 24,
   "metadata": {},
   "outputs": [],
   "source": [
    "infinitesimal_volume = np.mean(imgcrop,axis=1)*intensity_volume_factor/space_pixel_size #um**3.um-1"
   ]
  },
  {
   "cell_type": "code",
   "execution_count": 25,
   "metadata": {},
   "outputs": [
    {
     "data": {
      "application/vnd.jupyter.widget-view+json": {
       "model_id": "be4694288c71446f87104917b9c1e954",
       "version_major": 2,
       "version_minor": 0
      },
      "text/plain": [
       "Canvas(toolbar=Toolbar(toolitems=[('Home', 'Reset original view', 'home', 'home'), ('Back', 'Back to previous …"
      ]
     },
     "metadata": {},
     "output_type": "display_data"
    }
   ],
   "source": [
    "fig, ax = plt.subplots()\n",
    "ax.imshow(imgcrop,cmap=\"gray\")\n",
    "ax2 = ax.twiny()\n",
    "ax2.tick_params(axis='x', colors='red')\n",
    "ax2.set_xlabel('volume')\n",
    "# ax2.plot(np.tan((np.mean(imgOrientation,axis=1)-90)/180*np.pi),range(len(np.mean(imgOrientation,axis=1))),color = \"red\")\n",
    "ax2.plot(infinitesimal_volume,range(len(infinitesimal_volume)),color = \"red\")\n",
    "plt.tight_layout()"
   ]
  },
  {
   "cell_type": "code",
   "execution_count": 26,
   "metadata": {},
   "outputs": [
    {
     "data": {
      "application/vnd.jupyter.widget-view+json": {
       "model_id": "fba3117d774d424ea35eab34b47189ef",
       "version_major": 2,
       "version_minor": 0
      },
      "text/plain": [
       "Canvas(toolbar=Toolbar(toolitems=[('Home', 'Reset original view', 'home', 'home'), ('Back', 'Back to previous …"
      ]
     },
     "metadata": {},
     "output_type": "display_data"
    },
    {
     "data": {
      "text/plain": [
       "(-8000.0, 8000.0)"
      ]
     },
     "execution_count": 26,
     "metadata": {},
     "output_type": "execute_result"
    }
   ],
   "source": [
    "flux = infinitesimal_volume*speeds #um**3.s-1\n",
    "fig, ax = plt.subplots()\n",
    "ax.imshow(imgcrop,cmap=\"gray\")\n",
    "ax2 = ax.twiny()\n",
    "ax2.tick_params(axis='x', colors='red')\n",
    "ax2.set_xlabel('flux')\n",
    "# ax2.plot(np.tan((np.mean(imgOrientation,axis=1)-90)/180*np.pi),range(len(np.mean(imgOrientation,axis=1))),color = \"red\")\n",
    "ax2.plot(flux,range(len(infinitesimal_volume)),color = \"red\")\n",
    "plt.tight_layout()\n",
    "ax2.set_xlim((-8000,8000))\n"
   ]
  },
  {
   "cell_type": "code",
   "execution_count": 33,
   "metadata": {},
   "outputs": [
    {
     "name": "stdout",
     "output_type": "stream",
     "text": [
      "mean flux (um**3.s-1) 176.6443430177544 12.758639820790272\n",
      "mean speed (um.s-1) 1.1954827339623522 0.04871394094284938\n"
     ]
    }
   ],
   "source": [
    "print(\"mean flux (um**3.s-1)\", np.nanmean(flux),np.nanstd(flux)/np.sqrt(len(flux)))\n",
    "print(\"mean speed (um.s-1)\", np.nanmean(speeds),np.nanstd(speeds)/np.sqrt(len(speeds)))\n"
   ]
  },
  {
   "cell_type": "code",
   "execution_count": 31,
   "metadata": {},
   "outputs": [
    {
     "data": {
      "application/vnd.jupyter.widget-view+json": {
       "model_id": "423dfcabda854e3bade2e8a8bc58db68",
       "version_major": 2,
       "version_minor": 0
      },
      "text/plain": [
       "Canvas(toolbar=Toolbar(toolitems=[('Home', 'Reset original view', 'home', 'home'), ('Back', 'Back to previous …"
      ]
     },
     "metadata": {},
     "output_type": "display_data"
    }
   ],
   "source": [
    "from scipy.fft import fft, fftfreq\n",
    "\n",
    "# Number of sample points\n",
    "N = len(speeds)\n",
    "x = np.linspace(0.0, N*time_pixel_size, N, endpoint=False)\n",
    "\n",
    "y = (speeds-np.mean(speeds))/np.std(speeds)\n",
    "yf = fft(y)\n",
    "T = time_pixel_size\n",
    "from scipy.signal import blackman\n",
    "\n",
    "w = blackman(N)\n",
    "\n",
    "ywf = fft(y*w)\n",
    "\n",
    "xf = fftfreq(N, T)[:N//2]\n",
    "\n",
    "import matplotlib.pyplot as plt\n",
    "fig, ax = plt.subplots()\n",
    "\n",
    "ax.semilogy(xf[1:N//2], 2.0/N * np.abs(yf[1:N//2]), '-b')\n",
    "\n",
    "# ax.semilogy(xf[1:N//2], 2.0/N * np.abs(ywf[1:N//2]), '-r')\n",
    "\n",
    "ax.legend(['FFT', 'FFT w. window'])\n",
    "\n",
    "ax.grid()\n",
    "\n"
   ]
  },
  {
   "cell_type": "code",
   "execution_count": 30,
   "metadata": {},
   "outputs": [
    {
     "data": {
      "application/vnd.jupyter.widget-view+json": {
       "model_id": "6c0283c9f0314d25a30e410d17742f5d",
       "version_major": 2,
       "version_minor": 0
      },
      "text/plain": [
       "Canvas(toolbar=Toolbar(toolitems=[('Home', 'Reset original view', 'home', 'home'), ('Back', 'Back to previous …"
      ]
     },
     "metadata": {},
     "output_type": "display_data"
    },
    {
     "data": {
      "text/plain": [
       "Text(0.5, 0, 'lag (s)')"
      ]
     },
     "execution_count": 30,
     "metadata": {},
     "output_type": "execute_result"
    }
   ],
   "source": [
    "def autocorr(x):\n",
    "    result = np.correlate(x, x, mode='full')\n",
    "    return result[result.size // 2:]\n",
    "fig, ax = plt.subplots()\n",
    "autoc = autocorr(y)\n",
    "autoc = autoc/autoc.max()\n",
    "lags = np.linspace(0.0, len(autoc)*time_pixel_size, len(autoc), endpoint=False)\n",
    "ax.plot(lags,autoc, label = 'savgol filter')\n",
    "ax.set_xlabel('lag (s)')"
   ]
  },
  {
   "cell_type": "code",
   "execution_count": 32,
   "metadata": {},
   "outputs": [
    {
     "data": {
      "application/vnd.jupyter.widget-view+json": {
       "model_id": "bd02246ccd454692a4d60c5d34e81d8f",
       "version_major": 2,
       "version_minor": 0
      },
      "text/plain": [
       "Canvas(toolbar=Toolbar(toolitems=[('Home', 'Reset original view', 'home', 'home'), ('Back', 'Back to previous …"
      ]
     },
     "metadata": {},
     "output_type": "display_data"
    },
    {
     "data": {
      "text/plain": [
       "Text(0.5, 0, 'lag (s)')"
      ]
     },
     "execution_count": 32,
     "metadata": {},
     "output_type": "execute_result"
    }
   ],
   "source": [
    "fig, ax = plt.subplots()\n",
    "autoc = autocorr(y)\n",
    "autoc = autoc/autoc.max()\n",
    "lags = np.linspace(0.0, len(autoc)*time_pixel_size, len(autoc), endpoint=False)\n",
    "ax.plot(lags,autoc, label = 'savgol filter')\n",
    "ax.set_xlabel('lag (s)')"
   ]
  },
  {
   "cell_type": "code",
   "execution_count": 11,
   "metadata": {},
   "outputs": [
    {
     "data": {
      "application/vnd.jupyter.widget-view+json": {
       "model_id": "72c7faa2a6cc406fa3f491c4d7cfe372",
       "version_major": 2,
       "version_minor": 0
      },
      "text/plain": [
       "Canvas(toolbar=Toolbar(toolitems=[('Home', 'Reset original view', 'home', 'home'), ('Back', 'Back to previous …"
      ]
     },
     "metadata": {},
     "output_type": "display_data"
    }
   ],
   "source": [
    "N = len(autoc)\n",
    "x = np.linspace(0.0, N*time_pixel_size, N, endpoint=False)\n",
    "\n",
    "y = (speeds-np.mean(autoc))/np.std(autoc)\n",
    "yf = fft(y)\n",
    "T = time_pixel_size\n",
    "from scipy.signal import blackman\n",
    "\n",
    "w = blackman(N)\n",
    "\n",
    "ywf = fft(y*w)\n",
    "\n",
    "xf = fftfreq(N, T)[:N//2]\n",
    "\n",
    "import matplotlib.pyplot as plt\n",
    "fig, ax = plt.subplots()\n",
    "\n",
    "ax.semilogy(xf[1:N//2], 2.0/N * np.abs(yf[1:N//2]), '-b')\n",
    "\n",
    "ax.semilogy(xf[1:N//2], 2.0/N * np.abs(ywf[1:N//2]), '-r')\n",
    "\n",
    "ax.legend(['FFT', 'FFT w. window'])\n",
    "\n",
    "ax.grid()\n"
   ]
  }
 ],
 "metadata": {
  "kernelspec": {
   "display_name": "Python 3 (ipykernel)",
   "language": "python",
   "name": "python3"
  },
  "language_info": {
   "codemirror_mode": {
    "name": "ipython",
    "version": 3
   },
   "file_extension": ".py",
   "mimetype": "text/x-python",
   "name": "python",
   "nbconvert_exporter": "python",
   "pygments_lexer": "ipython3",
   "version": "3.10.4"
  }
 },
 "nbformat": 4,
 "nbformat_minor": 4
}
