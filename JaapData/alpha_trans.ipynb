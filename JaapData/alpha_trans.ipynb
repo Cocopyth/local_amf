{
 "cells": [
  {
   "cell_type": "code",
   "execution_count": 1,
   "metadata": {},
   "outputs": [],
   "source": [
    "import pandas as pd\n",
    "import matplotlib.pyplot as plt\n",
    "from scipy.interpolate import interp1d\n",
    "from sklearn.linear_model import LinearRegression\n",
    "from scipy.signal import savgol_filter\n",
    "from random import choice\n",
    "import numpy as np\n",
    "import statsmodels.api as sm\n",
    "from sklearn import linear_model\n",
    "from scipy.optimize import curve_fit\n",
    "\n",
    "%matplotlib widget\n",
    "trajectories = pd.read_csv('211004_ExNo_72_FM4-64_60x__df_total.csv')\n"
   ]
  },
  {
   "cell_type": "code",
   "execution_count": 2,
   "metadata": {},
   "outputs": [],
   "source": [
    "molecules_tot = trajectories['Molecule#'].unique()"
   ]
  },
  {
   "cell_type": "code",
   "execution_count": 8,
   "metadata": {
    "collapsed": true,
    "jupyter": {
     "outputs_hidden": true
    }
   },
   "outputs": [
    {
     "data": {
      "text/html": [
       "<div>\n",
       "<style scoped>\n",
       "    .dataframe tbody tr th:only-of-type {\n",
       "        vertical-align: middle;\n",
       "    }\n",
       "\n",
       "    .dataframe tbody tr th {\n",
       "        vertical-align: top;\n",
       "    }\n",
       "\n",
       "    .dataframe thead th {\n",
       "        text-align: right;\n",
       "    }\n",
       "</style>\n",
       "<table border=\"1\" class=\"dataframe\">\n",
       "  <thead>\n",
       "    <tr style=\"text-align: right;\">\n",
       "      <th></th>\n",
       "      <th>timepoint</th>\n",
       "      <th>frame</th>\n",
       "      <th>time[s]</th>\n",
       "      <th>x_position[nm]</th>\n",
       "      <th>y_position[nm]</th>\n",
       "      <th>x_displacement[nm]</th>\n",
       "      <th>y_displacement[nm]</th>\n",
       "      <th>Euclidean_p2p_distance[nm]</th>\n",
       "      <th>Speed[um/s]</th>\n",
       "      <th>Velocity[um/s]</th>\n",
       "      <th>...</th>\n",
       "      <th>Cumulative_Euclidean_distance_2D</th>\n",
       "      <th>Cumulative_distance_along_spline_1D</th>\n",
       "      <th>Orthogonal_distance_to_spline</th>\n",
       "      <th>Transposed_euclidean_dist_p2p[nm]</th>\n",
       "      <th>Displ_along_spline_p2p[nm]</th>\n",
       "      <th>Ort_displacements_p2p</th>\n",
       "      <th>P2P_Velocities_Cumulative_Euclidean_distance</th>\n",
       "      <th>P2P_Velocities_Distance_along_spline</th>\n",
       "      <th>Dataset</th>\n",
       "      <th>Molecule#</th>\n",
       "    </tr>\n",
       "  </thead>\n",
       "  <tbody>\n",
       "    <tr>\n",
       "      <th>0</th>\n",
       "      <td>0</td>\n",
       "      <td>1.0</td>\n",
       "      <td>0.000000</td>\n",
       "      <td>10787.821934</td>\n",
       "      <td>126789.966297</td>\n",
       "      <td>0.000000</td>\n",
       "      <td>0.000000</td>\n",
       "      <td>NaN</td>\n",
       "      <td>NaN</td>\n",
       "      <td>NaN</td>\n",
       "      <td>...</td>\n",
       "      <td>0.000000</td>\n",
       "      <td>245891.049020</td>\n",
       "      <td>22086.417969</td>\n",
       "      <td>NaN</td>\n",
       "      <td>345.450386</td>\n",
       "      <td>19.395609</td>\n",
       "      <td>1613.467943</td>\n",
       "      <td>1658.626241</td>\n",
       "      <td>211004_ExNo_72_FM4-64_60x_</td>\n",
       "      <td>0</td>\n",
       "    </tr>\n",
       "    <tr>\n",
       "      <th>1</th>\n",
       "      <td>1</td>\n",
       "      <td>2.0</td>\n",
       "      <td>0.050000</td>\n",
       "      <td>10806.844655</td>\n",
       "      <td>126597.301074</td>\n",
       "      <td>-19.022721</td>\n",
       "      <td>192.665223</td>\n",
       "      <td>193.602045</td>\n",
       "      <td>3.872041</td>\n",
       "      <td>3.872041</td>\n",
       "      <td>...</td>\n",
       "      <td>69.716255</td>\n",
       "      <td>246236.499405</td>\n",
       "      <td>22093.402344</td>\n",
       "      <td>-69.716255</td>\n",
       "      <td>0.000000</td>\n",
       "      <td>81.525561</td>\n",
       "      <td>2544.448957</td>\n",
       "      <td>2320.884056</td>\n",
       "      <td>211004_ExNo_72_FM4-64_60x_</td>\n",
       "      <td>0</td>\n",
       "    </tr>\n",
       "    <tr>\n",
       "      <th>2</th>\n",
       "      <td>2</td>\n",
       "      <td>3.0</td>\n",
       "      <td>0.100000</td>\n",
       "      <td>10780.758076</td>\n",
       "      <td>126311.530418</td>\n",
       "      <td>26.086579</td>\n",
       "      <td>285.770656</td>\n",
       "      <td>286.958843</td>\n",
       "      <td>5.739177</td>\n",
       "      <td>5.739177</td>\n",
       "      <td>...</td>\n",
       "      <td>172.303940</td>\n",
       "      <td>246236.499405</td>\n",
       "      <td>22122.759766</td>\n",
       "      <td>-102.587685</td>\n",
       "      <td>345.330694</td>\n",
       "      <td>-140.173414</td>\n",
       "      <td>2382.670485</td>\n",
       "      <td>2414.783562</td>\n",
       "      <td>211004_ExNo_72_FM4-64_60x_</td>\n",
       "      <td>0</td>\n",
       "    </tr>\n",
       "    <tr>\n",
       "      <th>3</th>\n",
       "      <td>3</td>\n",
       "      <td>4.0</td>\n",
       "      <td>0.150000</td>\n",
       "      <td>10988.611373</td>\n",
       "      <td>125987.858051</td>\n",
       "      <td>-207.853297</td>\n",
       "      <td>323.672367</td>\n",
       "      <td>384.664522</td>\n",
       "      <td>7.693290</td>\n",
       "      <td>7.693290</td>\n",
       "      <td>...</td>\n",
       "      <td>297.752228</td>\n",
       "      <td>246581.830100</td>\n",
       "      <td>22072.283203</td>\n",
       "      <td>-125.448288</td>\n",
       "      <td>690.312134</td>\n",
       "      <td>258.391172</td>\n",
       "      <td>2710.829586</td>\n",
       "      <td>2445.288547</td>\n",
       "      <td>211004_ExNo_72_FM4-64_60x_</td>\n",
       "      <td>0</td>\n",
       "    </tr>\n",
       "    <tr>\n",
       "      <th>4</th>\n",
       "      <td>4</td>\n",
       "      <td>5.0</td>\n",
       "      <td>0.200000</td>\n",
       "      <td>10842.389713</td>\n",
       "      <td>125403.353789</td>\n",
       "      <td>146.221660</td>\n",
       "      <td>584.504262</td>\n",
       "      <td>602.516395</td>\n",
       "      <td>12.050328</td>\n",
       "      <td>12.050328</td>\n",
       "      <td>...</td>\n",
       "      <td>499.706818</td>\n",
       "      <td>247272.142234</td>\n",
       "      <td>22165.330078</td>\n",
       "      <td>-201.954590</td>\n",
       "      <td>344.986346</td>\n",
       "      <td>43.786564</td>\n",
       "      <td>2888.454491</td>\n",
       "      <td>2760.302730</td>\n",
       "      <td>211004_ExNo_72_FM4-64_60x_</td>\n",
       "      <td>0</td>\n",
       "    </tr>\n",
       "    <tr>\n",
       "      <th>...</th>\n",
       "      <td>...</td>\n",
       "      <td>...</td>\n",
       "      <td>...</td>\n",
       "      <td>...</td>\n",
       "      <td>...</td>\n",
       "      <td>...</td>\n",
       "      <td>...</td>\n",
       "      <td>...</td>\n",
       "      <td>...</td>\n",
       "      <td>...</td>\n",
       "      <td>...</td>\n",
       "      <td>...</td>\n",
       "      <td>...</td>\n",
       "      <td>...</td>\n",
       "      <td>...</td>\n",
       "      <td>...</td>\n",
       "      <td>...</td>\n",
       "      <td>...</td>\n",
       "      <td>...</td>\n",
       "      <td>...</td>\n",
       "      <td>...</td>\n",
       "    </tr>\n",
       "    <tr>\n",
       "      <th>58475</th>\n",
       "      <td>62</td>\n",
       "      <td>2413.0</td>\n",
       "      <td>120.599998</td>\n",
       "      <td>21296.806220</td>\n",
       "      <td>84942.328193</td>\n",
       "      <td>-16.043684</td>\n",
       "      <td>348.985373</td>\n",
       "      <td>349.353961</td>\n",
       "      <td>6.987079</td>\n",
       "      <td>6.987079</td>\n",
       "      <td>...</td>\n",
       "      <td>8514.083984</td>\n",
       "      <td>289618.186087</td>\n",
       "      <td>21365.695312</td>\n",
       "      <td>-124.472656</td>\n",
       "      <td>349.757065</td>\n",
       "      <td>-162.758234</td>\n",
       "      <td>2376.246954</td>\n",
       "      <td>2597.078513</td>\n",
       "      <td>211004_ExNo_72_FM4-64_60x_</td>\n",
       "      <td>999</td>\n",
       "    </tr>\n",
       "    <tr>\n",
       "      <th>58476</th>\n",
       "      <td>63</td>\n",
       "      <td>2414.0</td>\n",
       "      <td>120.650002</td>\n",
       "      <td>21521.434062</td>\n",
       "      <td>84633.050666</td>\n",
       "      <td>-224.627842</td>\n",
       "      <td>309.277527</td>\n",
       "      <td>382.243713</td>\n",
       "      <td>7.644874</td>\n",
       "      <td>7.644874</td>\n",
       "      <td>...</td>\n",
       "      <td>8638.948242</td>\n",
       "      <td>289967.943151</td>\n",
       "      <td>21307.085938</td>\n",
       "      <td>-124.864258</td>\n",
       "      <td>700.089578</td>\n",
       "      <td>-174.310988</td>\n",
       "      <td>1212.497854</td>\n",
       "      <td>1331.556703</td>\n",
       "      <td>211004_ExNo_72_FM4-64_60x_</td>\n",
       "      <td>999</td>\n",
       "    </tr>\n",
       "    <tr>\n",
       "      <th>58477</th>\n",
       "      <td>64</td>\n",
       "      <td>2416.0</td>\n",
       "      <td>120.750000</td>\n",
       "      <td>21810.788513</td>\n",
       "      <td>84044.489381</td>\n",
       "      <td>-289.354451</td>\n",
       "      <td>588.561285</td>\n",
       "      <td>655.843262</td>\n",
       "      <td>13.116865</td>\n",
       "      <td>13.116865</td>\n",
       "      <td>...</td>\n",
       "      <td>8867.402344</td>\n",
       "      <td>290668.032730</td>\n",
       "      <td>21244.316406</td>\n",
       "      <td>-228.454102</td>\n",
       "      <td>0.000000</td>\n",
       "      <td>-7.745227</td>\n",
       "      <td>2986.511728</td>\n",
       "      <td>2856.857780</td>\n",
       "      <td>211004_ExNo_72_FM4-64_60x_</td>\n",
       "      <td>999</td>\n",
       "    </tr>\n",
       "    <tr>\n",
       "      <th>58478</th>\n",
       "      <td>65</td>\n",
       "      <td>2417.0</td>\n",
       "      <td>120.800003</td>\n",
       "      <td>21840.733468</td>\n",
       "      <td>83927.546223</td>\n",
       "      <td>-29.944955</td>\n",
       "      <td>116.943158</td>\n",
       "      <td>120.716207</td>\n",
       "      <td>2.414324</td>\n",
       "      <td>2.414324</td>\n",
       "      <td>...</td>\n",
       "      <td>8910.825195</td>\n",
       "      <td>290668.032730</td>\n",
       "      <td>21241.527344</td>\n",
       "      <td>-43.422852</td>\n",
       "      <td>350.337522</td>\n",
       "      <td>38.254260</td>\n",
       "      <td>2429.786256</td>\n",
       "      <td>1682.245107</td>\n",
       "      <td>211004_ExNo_72_FM4-64_60x_</td>\n",
       "      <td>999</td>\n",
       "    </tr>\n",
       "    <tr>\n",
       "      <th>58479</th>\n",
       "      <td>66</td>\n",
       "      <td>2418.0</td>\n",
       "      <td>120.849998</td>\n",
       "      <td>21886.313963</td>\n",
       "      <td>83481.843146</td>\n",
       "      <td>-45.580496</td>\n",
       "      <td>445.703076</td>\n",
       "      <td>448.027693</td>\n",
       "      <td>8.960554</td>\n",
       "      <td>8.960554</td>\n",
       "      <td>...</td>\n",
       "      <td>9071.331055</td>\n",
       "      <td>291018.370252</td>\n",
       "      <td>21255.302734</td>\n",
       "      <td>-160.505859</td>\n",
       "      <td>NaN</td>\n",
       "      <td>NaN</td>\n",
       "      <td>2429.786256</td>\n",
       "      <td>1682.245107</td>\n",
       "      <td>211004_ExNo_72_FM4-64_60x_</td>\n",
       "      <td>999</td>\n",
       "    </tr>\n",
       "  </tbody>\n",
       "</table>\n",
       "<p>58480 rows × 25 columns</p>\n",
       "</div>"
      ],
      "text/plain": [
       "       timepoint   frame     time[s]  x_position[nm]  y_position[nm]  \\\n",
       "0              0     1.0    0.000000    10787.821934   126789.966297   \n",
       "1              1     2.0    0.050000    10806.844655   126597.301074   \n",
       "2              2     3.0    0.100000    10780.758076   126311.530418   \n",
       "3              3     4.0    0.150000    10988.611373   125987.858051   \n",
       "4              4     5.0    0.200000    10842.389713   125403.353789   \n",
       "...          ...     ...         ...             ...             ...   \n",
       "58475         62  2413.0  120.599998    21296.806220    84942.328193   \n",
       "58476         63  2414.0  120.650002    21521.434062    84633.050666   \n",
       "58477         64  2416.0  120.750000    21810.788513    84044.489381   \n",
       "58478         65  2417.0  120.800003    21840.733468    83927.546223   \n",
       "58479         66  2418.0  120.849998    21886.313963    83481.843146   \n",
       "\n",
       "       x_displacement[nm]  y_displacement[nm]  Euclidean_p2p_distance[nm]  \\\n",
       "0                0.000000            0.000000                         NaN   \n",
       "1              -19.022721          192.665223                  193.602045   \n",
       "2               26.086579          285.770656                  286.958843   \n",
       "3             -207.853297          323.672367                  384.664522   \n",
       "4              146.221660          584.504262                  602.516395   \n",
       "...                   ...                 ...                         ...   \n",
       "58475          -16.043684          348.985373                  349.353961   \n",
       "58476         -224.627842          309.277527                  382.243713   \n",
       "58477         -289.354451          588.561285                  655.843262   \n",
       "58478          -29.944955          116.943158                  120.716207   \n",
       "58479          -45.580496          445.703076                  448.027693   \n",
       "\n",
       "       Speed[um/s]  Velocity[um/s]  ...  Cumulative_Euclidean_distance_2D  \\\n",
       "0              NaN             NaN  ...                          0.000000   \n",
       "1         3.872041        3.872041  ...                         69.716255   \n",
       "2         5.739177        5.739177  ...                        172.303940   \n",
       "3         7.693290        7.693290  ...                        297.752228   \n",
       "4        12.050328       12.050328  ...                        499.706818   \n",
       "...            ...             ...  ...                               ...   \n",
       "58475     6.987079        6.987079  ...                       8514.083984   \n",
       "58476     7.644874        7.644874  ...                       8638.948242   \n",
       "58477    13.116865       13.116865  ...                       8867.402344   \n",
       "58478     2.414324        2.414324  ...                       8910.825195   \n",
       "58479     8.960554        8.960554  ...                       9071.331055   \n",
       "\n",
       "       Cumulative_distance_along_spline_1D  Orthogonal_distance_to_spline  \\\n",
       "0                            245891.049020                   22086.417969   \n",
       "1                            246236.499405                   22093.402344   \n",
       "2                            246236.499405                   22122.759766   \n",
       "3                            246581.830100                   22072.283203   \n",
       "4                            247272.142234                   22165.330078   \n",
       "...                                    ...                            ...   \n",
       "58475                        289618.186087                   21365.695312   \n",
       "58476                        289967.943151                   21307.085938   \n",
       "58477                        290668.032730                   21244.316406   \n",
       "58478                        290668.032730                   21241.527344   \n",
       "58479                        291018.370252                   21255.302734   \n",
       "\n",
       "      Transposed_euclidean_dist_p2p[nm]  Displ_along_spline_p2p[nm]  \\\n",
       "0                                   NaN                  345.450386   \n",
       "1                            -69.716255                    0.000000   \n",
       "2                           -102.587685                  345.330694   \n",
       "3                           -125.448288                  690.312134   \n",
       "4                           -201.954590                  344.986346   \n",
       "...                                 ...                         ...   \n",
       "58475                       -124.472656                  349.757065   \n",
       "58476                       -124.864258                  700.089578   \n",
       "58477                       -228.454102                    0.000000   \n",
       "58478                        -43.422852                  350.337522   \n",
       "58479                       -160.505859                         NaN   \n",
       "\n",
       "       Ort_displacements_p2p  P2P_Velocities_Cumulative_Euclidean_distance  \\\n",
       "0                  19.395609                                   1613.467943   \n",
       "1                  81.525561                                   2544.448957   \n",
       "2                -140.173414                                   2382.670485   \n",
       "3                 258.391172                                   2710.829586   \n",
       "4                  43.786564                                   2888.454491   \n",
       "...                      ...                                           ...   \n",
       "58475            -162.758234                                   2376.246954   \n",
       "58476            -174.310988                                   1212.497854   \n",
       "58477              -7.745227                                   2986.511728   \n",
       "58478              38.254260                                   2429.786256   \n",
       "58479                    NaN                                   2429.786256   \n",
       "\n",
       "       P2P_Velocities_Distance_along_spline                     Dataset  \\\n",
       "0                               1658.626241  211004_ExNo_72_FM4-64_60x_   \n",
       "1                               2320.884056  211004_ExNo_72_FM4-64_60x_   \n",
       "2                               2414.783562  211004_ExNo_72_FM4-64_60x_   \n",
       "3                               2445.288547  211004_ExNo_72_FM4-64_60x_   \n",
       "4                               2760.302730  211004_ExNo_72_FM4-64_60x_   \n",
       "...                                     ...                         ...   \n",
       "58475                           2597.078513  211004_ExNo_72_FM4-64_60x_   \n",
       "58476                           1331.556703  211004_ExNo_72_FM4-64_60x_   \n",
       "58477                           2856.857780  211004_ExNo_72_FM4-64_60x_   \n",
       "58478                           1682.245107  211004_ExNo_72_FM4-64_60x_   \n",
       "58479                           1682.245107  211004_ExNo_72_FM4-64_60x_   \n",
       "\n",
       "       Molecule#  \n",
       "0              0  \n",
       "1              0  \n",
       "2              0  \n",
       "3              0  \n",
       "4              0  \n",
       "...          ...  \n",
       "58475        999  \n",
       "58476        999  \n",
       "58477        999  \n",
       "58478        999  \n",
       "58479        999  \n",
       "\n",
       "[58480 rows x 25 columns]"
      ]
     },
     "execution_count": 8,
     "metadata": {},
     "output_type": "execute_result"
    }
   ],
   "source": [
    "trajectories"
   ]
  },
  {
   "cell_type": "code",
   "execution_count": 3,
   "metadata": {},
   "outputs": [],
   "source": [
    "size_min = 25\n",
    "long_traj = [molecule for molecule in molecules_tot if len(trajectories.loc[trajectories['Molecule#']==molecule])>=size_min]\n",
    "def func(x, D,alpha):\n",
    "    return(D*x**alpha)"
   ]
  },
  {
   "cell_type": "code",
   "execution_count": 4,
   "metadata": {},
   "outputs": [],
   "source": [
    "molecule = choice(long_traj)\n",
    "to_plot = trajectories.loc[(trajectories['Molecule#']==molecule)]\n",
    "Y = to_plot['y_position[nm]']\n",
    "X = to_plot['x_position[nm]']\n",
    "X = np.array(X).reshape(-1,1)\n",
    "lm = linear_model.LinearRegression()\n",
    "model = lm.fit(X,Y)\n",
    "displacement = np.transpose((np.transpose(X)*model.coef_-np.array(Y)+model.intercept_)/np.sqrt(1+model.coef_**2))\n",
    "msd = []\n",
    "for tau in range(size_min//2):\n",
    "    sd = []\n",
    "    for index in range(len(displacement)-tau):\n",
    "        sd.append((displacement[index]-displacement[index+tau])**2)\n",
    "    msd.append(np.mean(sd))"
   ]
  },
  {
   "cell_type": "code",
   "execution_count": 7,
   "metadata": {},
   "outputs": [
    {
     "data": {
      "application/vnd.jupyter.widget-view+json": {
       "model_id": "716d403182b04cab96a2b88c8f7c3d7c",
       "version_major": 2,
       "version_minor": 0
      },
      "text/plain": [
       "Canvas(toolbar=Toolbar(toolitems=[('Home', 'Reset original view', 'home', 'home'), ('Back', 'Back to previous …"
      ]
     },
     "metadata": {},
     "output_type": "display_data"
    },
    {
     "data": {
      "text/plain": [
       "(0.0, 160000.0)"
      ]
     },
     "execution_count": 7,
     "metadata": {},
     "output_type": "execute_result"
    }
   ],
   "source": [
    "fig, ax = plt.subplots()\n",
    "\n",
    "alphas,Ds = [],[]\n",
    "for i in range(20):\n",
    "    molecule = choice(long_traj)\n",
    "    to_plot = trajectories.loc[(trajectories['Molecule#']==molecule)]\n",
    "    Y = to_plot['y_position[nm]']\n",
    "    X = to_plot['x_position[nm]']\n",
    "    X = np.array(X).reshape(-1,1)\n",
    "    lm = linear_model.LinearRegression()\n",
    "    model = lm.fit(X,Y)\n",
    "    displacement = np.transpose((np.transpose(X)*model.coef_-np.array(Y)+model.intercept_)/np.sqrt(1+model.coef_**2))\n",
    "    msd = []\n",
    "    for tau in range(size_min//2):\n",
    "        sd = []\n",
    "        for index in range(len(displacement)-tau):\n",
    "            sd.append((displacement[index]-displacement[index+tau])**2)\n",
    "        msd.append(np.mean(sd))\n",
    "    taus = [tau*0.05 for tau in range(size_min//2)]\n",
    "    popt, pcov = curve_fit(func, taus, msd,bounds = ([0,0],2*[np.inf]),p0=(0.1,0.1))\n",
    "    alphas.append(popt[1])\n",
    "    Ds.append(popt[0])\n",
    "    ax.plot(msd,alpha = 0.1)\n",
    "ax.set_ylim((0,400**2))"
   ]
  },
  {
   "cell_type": "code",
   "execution_count": 15,
   "metadata": {},
   "outputs": [
    {
     "data": {
      "application/vnd.jupyter.widget-view+json": {
       "model_id": "60ce3e8c843242d7ac7173afea235e26",
       "version_major": 2,
       "version_minor": 0
      },
      "text/plain": [
       "Canvas(toolbar=Toolbar(toolitems=[('Home', 'Reset original view', 'home', 'home'), ('Back', 'Back to previous …"
      ]
     },
     "metadata": {},
     "output_type": "display_data"
    },
    {
     "data": {
      "text/plain": [
       "(0.0, 160000.0)"
      ]
     },
     "execution_count": 15,
     "metadata": {},
     "output_type": "execute_result"
    }
   ],
   "source": [
    "fig, ax = plt.subplots()\n",
    "window = 20\n",
    "def func(x, D,alpha):\n",
    "    return(D*x**alpha)\n",
    "alphas,Ds,molecules,speeds,mean_path_widths = [],[],[],[],[]\n",
    "for molecule in long_traj:\n",
    "#     molecule = choice(long_traj)\n",
    "    to_plot = trajectories.loc[(trajectories['Molecule#']==molecule)]\n",
    "    Y = to_plot['y_position[nm]']\n",
    "    X = to_plot['x_position[nm]']\n",
    "    X = np.array(X).reshape(-1,1)\n",
    "    lm = linear_model.LinearRegression()\n",
    "    model = lm.fit(X,Y)\n",
    "    displacement = np.transpose((np.transpose(X)*model.coef_-np.array(Y)+model.intercept_)/np.sqrt(1+model.coef_**2))\n",
    "    msd = []\n",
    "    for tau in range(size_min//2):\n",
    "        sd = []\n",
    "        for index in range(len(displacement)-tau):\n",
    "            sd.append((displacement[index]-displacement[index+tau])**2)\n",
    "        msd.append(np.mean(sd))\n",
    "    path_widths = []\n",
    "    for index in range(len(displacement)-window):\n",
    "        path_widths.append(np.max(displacement[index:index+tau])-np.min(displacement[index:index+tau]))\n",
    "    mean_path_widths.append(np.mean(path_widths))\n",
    "    taus = [tau*0.05 for tau in range(size_min//2)]\n",
    "    popt, pcov = curve_fit(func, taus, msd,bounds = ([0,0],2*[np.inf]),p0=(0.1,0.1))\n",
    "    alphas.append(popt[1])\n",
    "    Ds.append(popt[0])\n",
    "    molecules.append(molecule)\n",
    "    speeds.append(np.mean(to_plot['Velocity[um/s]']))\n",
    "    ax.plot(msd,alpha = 0.1)\n",
    "ax.set_ylim((0,400**2))"
   ]
  },
  {
   "cell_type": "code",
   "execution_count": 13,
   "metadata": {},
   "outputs": [
    {
     "data": {
      "text/plain": [
       "(12, 13)"
      ]
     },
     "execution_count": 13,
     "metadata": {},
     "output_type": "execute_result"
    }
   ],
   "source": [
    "len(taus),len(msd)"
   ]
  },
  {
   "cell_type": "code",
   "execution_count": 20,
   "metadata": {
    "collapsed": true,
    "jupyter": {
     "outputs_hidden": true
    }
   },
   "outputs": [
    {
     "data": {
      "application/vnd.jupyter.widget-view+json": {
       "model_id": "e1317821a10b46a7a189917131ee3f6d",
       "version_major": 2,
       "version_minor": 0
      },
      "text/plain": [
       "Canvas(toolbar=Toolbar(toolitems=[('Home', 'Reset original view', 'home', 'home'), ('Back', 'Back to previous …"
      ]
     },
     "metadata": {},
     "output_type": "display_data"
    },
    {
     "name": "stderr",
     "output_type": "stream",
     "text": [
      "C:\\Users\\coren\\anaconda3\\envs\\cleanMsc\\lib\\site-packages\\seaborn\\distributions.py:2619: FutureWarning: `distplot` is a deprecated function and will be removed in a future version. Please adapt your code to use either `displot` (a figure-level function with similar flexibility) or `histplot` (an axes-level function for histograms).\n",
      "  warnings.warn(msg, FutureWarning)\n"
     ]
    },
    {
     "data": {
      "text/plain": [
       "<AxesSubplot:ylabel='Density'>"
      ]
     },
     "execution_count": 20,
     "metadata": {},
     "output_type": "execute_result"
    }
   ],
   "source": [
    "import seaborn as sns\n",
    "fig, ax = plt.subplots()\n",
    "\n",
    "sns.distplot(alphas)"
   ]
  },
  {
   "cell_type": "code",
   "execution_count": 83,
   "metadata": {},
   "outputs": [
    {
     "data": {
      "application/vnd.jupyter.widget-view+json": {
       "model_id": "b0d84254deee424f812d8586f47f4bb2",
       "version_major": 2,
       "version_minor": 0
      },
      "text/plain": [
       "Canvas(toolbar=Toolbar(toolitems=[('Home', 'Reset original view', 'home', 'home'), ('Back', 'Back to previous …"
      ]
     },
     "metadata": {},
     "output_type": "display_data"
    },
    {
     "name": "stderr",
     "output_type": "stream",
     "text": [
      "C:\\Users\\coren\\anaconda3\\envs\\cleanMsc\\lib\\site-packages\\seaborn\\distributions.py:2619: FutureWarning: `distplot` is a deprecated function and will be removed in a future version. Please adapt your code to use either `displot` (a figure-level function with similar flexibility) or `histplot` (an axes-level function for histograms).\n",
      "  warnings.warn(msg, FutureWarning)\n"
     ]
    },
    {
     "data": {
      "text/plain": [
       "<AxesSubplot:label='7ea4a662-a82b-4f7d-bb5e-11ae09018137', ylabel='Density'>"
      ]
     },
     "execution_count": 83,
     "metadata": {},
     "output_type": "execute_result"
    }
   ],
   "source": [
    "fig, ax = plt.subplots()\n",
    "ax2 = ax.twinx()\n",
    "ax.scatter(np.abs(speeds),alphas,alpha = 0.2)\n",
    "# ax.set_ylim((0,1e6))\n",
    "# ax2.hist(np.abs(speeds),20,alpha = 0.2)\n",
    "sns.distplot(np.abs(speeds),ax=ax2)"
   ]
  },
  {
   "cell_type": "code",
   "execution_count": 16,
   "metadata": {},
   "outputs": [],
   "source": [
    "data = np.array((alphas,Ds,molecules,speeds,mean_path_widths)).transpose()\n",
    "table_traj = pd.DataFrame(data,columns=(\"alpha\",\"D\",\"molecule\",\"speed\",\"path_width\"))\n",
    "table_traj = table_traj.loc[table_traj['D']<=1e6]"
   ]
  },
  {
   "cell_type": "code",
   "execution_count": 17,
   "metadata": {},
   "outputs": [],
   "source": [
    "table_traj['alpha_round'] = (table_traj['alpha']*10).astype(int)/10\n",
    "table_traj['speed_round'] = (table_traj['speed']).astype(int)\n",
    "table_traj['abs_speed_round'] = np.abs(table_traj['speed_round'])"
   ]
  },
  {
   "cell_type": "code",
   "execution_count": 18,
   "metadata": {},
   "outputs": [],
   "source": [
    "y = 'path_width'\n",
    "data = table_traj.groupby(\"abs_speed_round\")[y]"
   ]
  },
  {
   "cell_type": "code",
   "execution_count": 21,
   "metadata": {},
   "outputs": [
    {
     "data": {
      "application/vnd.jupyter.widget-view+json": {
       "model_id": "5c6860ade91447b68a18fe71bf5fe708",
       "version_major": 2,
       "version_minor": 0
      },
      "text/plain": [
       "Canvas(toolbar=Toolbar(toolitems=[('Home', 'Reset original view', 'home', 'home'), ('Back', 'Back to previous …"
      ]
     },
     "metadata": {},
     "output_type": "display_data"
    },
    {
     "name": "stderr",
     "output_type": "stream",
     "text": [
      "C:\\Users\\coren\\anaconda3\\envs\\cleanMsc\\lib\\site-packages\\seaborn\\distributions.py:2619: FutureWarning: `distplot` is a deprecated function and will be removed in a future version. Please adapt your code to use either `displot` (a figure-level function with similar flexibility) or `histplot` (an axes-level function for histograms).\n",
      "  warnings.warn(msg, FutureWarning)\n"
     ]
    },
    {
     "data": {
      "text/plain": [
       "<AxesSubplot:label='f0d73851-66a9-4ae2-87c7-f312a54b2d85', ylabel='Density'>"
      ]
     },
     "execution_count": 21,
     "metadata": {},
     "output_type": "execute_result"
    }
   ],
   "source": [
    "fig, ax = plt.subplots()\n",
    "ax.scatter(np.abs(table_traj['speed']),table_traj[y],alpha = 0.2)\n",
    "ax2 = ax.twinx()\n",
    "\n",
    "ax.errorbar(data.mean().index,data.mean(),data.std()/np.sqrt(data.count()))\n",
    "ax.set_ylabel(y)\n",
    "ax.set_xlabel('speed')\n",
    "# ax.set_ylim((0,0.6e6))\n",
    "sns.distplot(np.abs(speeds),ax=ax2)"
   ]
  },
  {
   "cell_type": "code",
   "execution_count": 59,
   "metadata": {},
   "outputs": [
    {
     "data": {
      "application/vnd.jupyter.widget-view+json": {
       "model_id": "66696f42181d4329bd9cda1bb5b6b07a",
       "version_major": 2,
       "version_minor": 0
      },
      "text/plain": [
       "Canvas(toolbar=Toolbar(toolitems=[('Home', 'Reset original view', 'home', 'home'), ('Back', 'Back to previous …"
      ]
     },
     "metadata": {},
     "output_type": "display_data"
    },
    {
     "data": {
      "text/plain": [
       "array([[<AxesSubplot:xlabel='alpha_round', ylabel='alpha_round'>,\n",
       "        <AxesSubplot:xlabel='D', ylabel='alpha_round'>,\n",
       "        <AxesSubplot:xlabel='speed', ylabel='alpha_round'>],\n",
       "       [<AxesSubplot:xlabel='alpha_round', ylabel='D'>,\n",
       "        <AxesSubplot:xlabel='D', ylabel='D'>,\n",
       "        <AxesSubplot:xlabel='speed', ylabel='D'>],\n",
       "       [<AxesSubplot:xlabel='alpha_round', ylabel='speed'>,\n",
       "        <AxesSubplot:xlabel='D', ylabel='speed'>,\n",
       "        <AxesSubplot:xlabel='speed', ylabel='speed'>]], dtype=object)"
      ]
     },
     "execution_count": 59,
     "metadata": {},
     "output_type": "execute_result"
    }
   ],
   "source": [
    "from pandas.plotting import scatter_matrix\n",
    "scatter_matrix(table_traj[[\"alpha_round\",\"D\",\"speed\"]], diagonal=\"kde\",)"
   ]
  }
 ],
 "metadata": {
  "kernelspec": {
   "display_name": "Python 3",
   "language": "python",
   "name": "python3"
  },
  "language_info": {
   "codemirror_mode": {
    "name": "ipython",
    "version": 3
   },
   "file_extension": ".py",
   "mimetype": "text/x-python",
   "name": "python",
   "nbconvert_exporter": "python",
   "pygments_lexer": "ipython3",
   "version": "3.7.9"
  }
 },
 "nbformat": 4,
 "nbformat_minor": 4
}
