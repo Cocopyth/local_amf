{
 "cells": [
  {
   "cell_type": "code",
   "execution_count": 5,
   "metadata": {},
   "outputs": [],
   "source": [
    "import numpy as np\n",
    "import pandas as pd\n",
    "\n",
    "# file = r\"E:\\220503_ExNo_120_60x_NileRed_Confocal\\Original Metadata - nd338.csv\"\n",
    "file = r\"metadata388.csv\""
   ]
  },
  {
   "cell_type": "code",
   "execution_count": 20,
   "metadata": {},
   "outputs": [],
   "source": [
    "\n",
    "df = pd.read_csv(file, sep=',', names=[\"key\",\"value\"])\n"
   ]
  },
  {
   "cell_type": "code",
   "execution_count": 24,
   "metadata": {},
   "outputs": [],
   "source": [
    "subdf = df.loc[df['key'].str.contains('timestamp').fillna(False)]"
   ]
  },
  {
   "cell_type": "code",
   "execution_count": 30,
   "metadata": {},
   "outputs": [
    {
     "data": {
      "text/plain": [
       "5173         NaN\n",
       "5174    0.065364\n",
       "5175    0.065364\n",
       "5176    0.065364\n",
       "5177    0.065364\n",
       "          ...   \n",
       "5688    0.065364\n",
       "5689    0.065364\n",
       "5690    0.065364\n",
       "5691    0.065364\n",
       "5692    0.065364\n",
       "Name: value, Length: 520, dtype: float64"
      ]
     },
     "execution_count": 30,
     "metadata": {},
     "output_type": "execute_result"
    }
   ],
   "source": [
    "subdf[\"value\"].astype(float).diff()"
   ]
  }
 ],
 "metadata": {
  "kernelspec": {
   "display_name": "Python 3",
   "language": "python",
   "name": "python3"
  },
  "language_info": {
   "codemirror_mode": {
    "name": "ipython",
    "version": 3
   },
   "file_extension": ".py",
   "mimetype": "text/x-python",
   "name": "python",
   "nbconvert_exporter": "python",
   "pygments_lexer": "ipython3",
   "version": "3.7.9"
  }
 },
 "nbformat": 4,
 "nbformat_minor": 5
}
