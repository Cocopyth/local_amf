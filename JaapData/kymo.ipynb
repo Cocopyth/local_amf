{
 "cells": [
  {
   "cell_type": "code",
   "execution_count": 2,
   "metadata": {},
   "outputs": [],
   "source": [
    "import numpy as np\n",
    "import matplotlib.pyplot as plt\n",
    "import imageio\n",
    "%matplotlib widget\n",
    "import cv2"
   ]
  },
  {
   "cell_type": "code",
   "execution_count": 2,
   "metadata": {},
   "outputs": [],
   "source": [
    "img= imageio.imread('211223_ExNo_93_60x_FM4-64+trans_03_2000-4180_trans_kymo_forCoco.tif')"
   ]
  },
  {
   "cell_type": "code",
   "execution_count": 3,
   "metadata": {},
   "outputs": [
    {
     "data": {
      "application/vnd.jupyter.widget-view+json": {
       "model_id": "5ce18afd3415493599026cfc3c2c85ad",
       "version_major": 2,
       "version_minor": 0
      },
      "text/plain": [
       "Canvas(toolbar=Toolbar(toolitems=[('Home', 'Reset original view', 'home', 'home'), ('Back', 'Back to previous …"
      ]
     },
     "metadata": {},
     "output_type": "display_data"
    },
    {
     "data": {
      "text/plain": [
       "<matplotlib.image.AxesImage at 0x1deda2e6848>"
      ]
     },
     "execution_count": 3,
     "metadata": {},
     "output_type": "execute_result"
    }
   ],
   "source": [
    "fig, ax = plt.subplots()\n",
    "ax.imshow(img)"
   ]
  },
  {
   "cell_type": "code",
   "execution_count": 4,
   "metadata": {},
   "outputs": [
    {
     "data": {
      "application/vnd.jupyter.widget-view+json": {
       "model_id": "e0556c3e9b674d22bd18a030d8b5f3bd",
       "version_major": 2,
       "version_minor": 0
      },
      "text/plain": [
       "Canvas(toolbar=Toolbar(toolitems=[('Home', 'Reset original view', 'home', 'home'), ('Back', 'Back to previous …"
      ]
     },
     "metadata": {},
     "output_type": "display_data"
    },
    {
     "data": {
      "text/plain": [
       "<matplotlib.image.AxesImage at 0x1dedd1cc848>"
      ]
     },
     "execution_count": 4,
     "metadata": {},
     "output_type": "execute_result"
    }
   ],
   "source": [
    "# gray = cv2.cvtColor(img,cv2.COLOR_BGR2GRAY)\n",
    "fig, ax = plt.subplots()\n",
    "\n",
    "gray = img\n",
    "kernel_size = 5\n",
    "blur_gray = cv2.GaussianBlur(gray,(kernel_size, kernel_size),0)\n",
    "ax.imshow(blur_gray)"
   ]
  },
  {
   "cell_type": "code",
   "execution_count": 5,
   "metadata": {},
   "outputs": [
    {
     "data": {
      "application/vnd.jupyter.widget-view+json": {
       "model_id": "482d61c175e940daa6fdb7a5ceab7541",
       "version_major": 2,
       "version_minor": 0
      },
      "text/plain": [
       "Canvas(toolbar=Toolbar(toolitems=[('Home', 'Reset original view', 'home', 'home'), ('Back', 'Back to previous …"
      ]
     },
     "metadata": {},
     "output_type": "display_data"
    },
    {
     "data": {
      "text/plain": [
       "<matplotlib.image.AxesImage at 0x1dedd360108>"
      ]
     },
     "execution_count": 5,
     "metadata": {},
     "output_type": "execute_result"
    }
   ],
   "source": [
    "fig, ax = plt.subplots()\n",
    "\n",
    "low_threshold = 100\n",
    "high_threshold = 150\n",
    "edges = cv2.Canny(blur_gray, low_threshold, high_threshold)\n",
    "ax.imshow(edges)"
   ]
  },
  {
   "cell_type": "code",
   "execution_count": 6,
   "metadata": {},
   "outputs": [],
   "source": [
    "rho = 1  # distance resolution in pixels of the Hough grid\n",
    "theta = np.pi / 180  # angular resolution in radians of the Hough grid\n",
    "threshold = 15  # minimum number of votes (intersections in Hough grid cell)\n",
    "min_line_length = 50  # minimum number of pixels making up a line\n",
    "max_line_gap = 20  # maximum gap in pixels between connectable line segments\n",
    "line_image = np.copy(img) * 0  # creating a blank to draw lines on\n",
    "\n",
    "# Run Hough on edge detected image\n",
    "# Output \"lines\" is an array containing endpoints of detected line segments\n",
    "lines = cv2.HoughLinesP(edges, rho, theta, threshold, np.array([]),\n",
    "                    min_line_length, max_line_gap)\n",
    "\n",
    "for line in lines:\n",
    "    for x1,y1,x2,y2 in line:\n",
    "        cv2.line(line_image,(x1,y1),(x2,y2),(255,0,0),5)\n",
    "lines_edges = cv2.addWeighted(img, 0.8, line_image, 1, 0)"
   ]
  },
  {
   "cell_type": "code",
   "execution_count": 28,
   "metadata": {},
   "outputs": [
    {
     "data": {
      "application/vnd.jupyter.widget-view+json": {
       "model_id": "9f077430730f491890304aff50e6f181",
       "version_major": 2,
       "version_minor": 0
      },
      "text/plain": [
       "Canvas(toolbar=Toolbar(toolitems=[('Home', 'Reset original view', 'home', 'home'), ('Back', 'Back to previous …"
      ]
     },
     "metadata": {},
     "output_type": "display_data"
    },
    {
     "data": {
      "text/plain": [
       "<matplotlib.image.AxesImage at 0x1543519b788>"
      ]
     },
     "execution_count": 28,
     "metadata": {},
     "output_type": "execute_result"
    }
   ],
   "source": [
    "fig, ax = plt.subplots()\n",
    "\n",
    "ax.imshow(img)"
   ]
  },
  {
   "cell_type": "code",
   "execution_count": 28,
   "metadata": {},
   "outputs": [
    {
     "data": {
      "text/plain": [
       "True"
      ]
     },
     "execution_count": 28,
     "metadata": {},
     "output_type": "execute_result"
    }
   ],
   "source": [
    "import numpy as np\n",
    "import matplotlib.pyplot as plt\n",
    "import imageio\n",
    "%matplotlib widget\n",
    "import cv2\n",
    "  \n",
    "# Reading the required image in \n",
    "# which operations are to be done. \n",
    "# Make sure that the image is in the same \n",
    "# directory in which this python program is\n",
    "img = cv2.imread('211223_ExNo_93_60x_FM4-64+trans_03_2000-4180_trans_kymo_forCoco.tif')\n",
    "width = 1000\n",
    "img = img[0:width,:]\n",
    "# Convert the img to grayscale\n",
    "gray = cv2.cvtColor(img,cv2.COLOR_BGR2GRAY)\n",
    "# kernel_size = 1\n",
    "# blur_gray = cv2.GaussianBlur(gray,(kernel_size, kernel_size),0)\n",
    "# # Apply edge detection method on the image\n",
    "# edges = cv2.Canny(blur_gray,180,200,apertureSize = 3)\n",
    "# minLineLength,maxLineGap = 500,1 \n",
    "# # This returns an array of r and theta values\n",
    "# rho = 20\n",
    "# lines = cv2.HoughLinesP(edges,rho,np.pi/180, 1,minLineLength,maxLineGap)\n",
    "\n",
    "# # The below for loop runs till r and theta values \n",
    "# # are in the range of the 2d array\n",
    "# for x1,y1,x2,y2 in lines[:,0]:\n",
    "#     cv2.line(img,(x1,y1),(x2,y2),(0,255,0),1)\n",
    "\n",
    "# cv2.imwrite('houghlines5.jpg',img)\n",
    "#     cv2.line(edges,(x1,y1), (x2,y2), (0,255,255),1)\n",
    "      \n",
    "# All the changes made in the input image are finally\n",
    "# written on a new image houghlines.jpg\n",
    "cv2.imwrite('linesDetected.jpg', img)"
   ]
  },
  {
   "cell_type": "code",
   "execution_count": 29,
   "metadata": {},
   "outputs": [],
   "source": [
    "from skimage.filters import frangi\n",
    "im_blurred =cv2.blur(gray, (200, 200))\n",
    "im_back_rem = (gray)/((im_blurred==0)*np.ones(im_blurred.shape)+im_blurred)*120"
   ]
  },
  {
   "cell_type": "code",
   "execution_count": null,
   "metadata": {},
   "outputs": [],
   "source": []
  },
  {
   "cell_type": "code",
   "execution_count": 30,
   "metadata": {},
   "outputs": [
    {
     "data": {
      "application/vnd.jupyter.widget-view+json": {
       "model_id": "a1721edea96a4cd49db2b21290a9a8a1",
       "version_major": 2,
       "version_minor": 0
      },
      "text/plain": [
       "Canvas(toolbar=Toolbar(toolitems=[('Home', 'Reset original view', 'home', 'home'), ('Back', 'Back to previous …"
      ]
     },
     "metadata": {},
     "output_type": "display_data"
    },
    {
     "data": {
      "text/plain": [
       "<matplotlib.image.AxesImage at 0x1dee7822c88>"
      ]
     },
     "execution_count": 30,
     "metadata": {},
     "output_type": "execute_result"
    }
   ],
   "source": [
    "plt.close(\"all\")\n",
    "fig, ax = plt.subplots()\n",
    "\n",
    "ax.imshow(im_back_rem)\n",
    "# ax.imshow(edges,alpha = 0.5)"
   ]
  },
  {
   "cell_type": "code",
   "execution_count": 31,
   "metadata": {},
   "outputs": [
    {
     "data": {
      "application/vnd.jupyter.widget-view+json": {
       "model_id": "e51aec5e6fb94a198cd8d1e0c89989b1",
       "version_major": 2,
       "version_minor": 0
      },
      "text/plain": [
       "Canvas(toolbar=Toolbar(toolitems=[('Home', 'Reset original view', 'home', 'home'), ('Back', 'Back to previous …"
      ]
     },
     "metadata": {},
     "output_type": "display_data"
    },
    {
     "data": {
      "text/plain": [
       "<matplotlib.image.AxesImage at 0x1dee85d7348>"
      ]
     },
     "execution_count": 31,
     "metadata": {},
     "output_type": "execute_result"
    }
   ],
   "source": [
    "plt.close(\"all\")\n",
    "fig, ax = plt.subplots()\n",
    "frangised = frangi(im_back_rem,sigmas=range(1,5,4))*255\n",
    "\n",
    "ax.imshow(frangised)\n",
    "# ax.imshow(edges,alpha = 0.5)"
   ]
  },
  {
   "cell_type": "code",
   "execution_count": 32,
   "metadata": {},
   "outputs": [
    {
     "data": {
      "application/vnd.jupyter.widget-view+json": {
       "model_id": "b4c6f17d6f6a45ad86a043cd164e30a5",
       "version_major": 2,
       "version_minor": 0
      },
      "text/plain": [
       "Canvas(toolbar=Toolbar(toolitems=[('Home', 'Reset original view', 'home', 'home'), ('Back', 'Back to previous …"
      ]
     },
     "metadata": {},
     "output_type": "display_data"
    },
    {
     "data": {
      "text/plain": [
       "<matplotlib.image.AxesImage at 0x1dee7d1a508>"
      ]
     },
     "execution_count": 32,
     "metadata": {},
     "output_type": "execute_result"
    }
   ],
   "source": [
    "from skimage import filters\n",
    "\n",
    "hyst = filters.apply_hysteresis_threshold(frangised, 150, 180)\n",
    "fig, ax = plt.subplots()\n",
    "ax.imshow(hyst)"
   ]
  },
  {
   "cell_type": "code",
   "execution_count": 33,
   "metadata": {},
   "outputs": [
    {
     "data": {
      "application/vnd.jupyter.widget-view+json": {
       "model_id": "876b16cd1fbe4f87a33abb0e4629e07a",
       "version_major": 2,
       "version_minor": 0
      },
      "text/plain": [
       "Canvas(toolbar=Toolbar(toolitems=[('Home', 'Reset original view', 'home', 'home'), ('Back', 'Back to previous …"
      ]
     },
     "metadata": {},
     "output_type": "display_data"
    },
    {
     "data": {
      "text/plain": [
       "<matplotlib.image.AxesImage at 0x1dee7871908>"
      ]
     },
     "execution_count": 33,
     "metadata": {},
     "output_type": "execute_result"
    }
   ],
   "source": [
    "fig, ax = plt.subplots()\n",
    "skeletonized = cv2.ximgproc.thinning(np.array(255*hyst,dtype=np.uint8))\n",
    "\n",
    "ax.imshow(skeletonized)"
   ]
  },
  {
   "cell_type": "code",
   "execution_count": 34,
   "metadata": {},
   "outputs": [],
   "source": [
    "import sys\n",
    "sys.path.insert(0,r'C:\\Users\\coren\\Documents\\PhD\\Code\\AMFtrack')\n",
    "\n",
    "from scipy import sparse\n",
    "from amftrack.pipeline.functions.image_processing.extract_graph import (\n",
    "    from_sparse_to_graph,\n",
    "    generate_nx_graph,\n",
    "    clean_degree_4,\n",
    ")\n",
    "\n",
    "skeleton = sparse.dok_matrix(skeletonized)\n",
    "nx_graph, pos = generate_nx_graph(from_sparse_to_graph(skeleton))\n"
   ]
  },
  {
   "cell_type": "code",
   "execution_count": 35,
   "metadata": {},
   "outputs": [
    {
     "data": {
      "application/vnd.jupyter.widget-view+json": {
       "model_id": "fd973270e1874aada85453a747ed528c",
       "version_major": 2,
       "version_minor": 0
      },
      "text/plain": [
       "Canvas(toolbar=Toolbar(toolitems=[('Home', 'Reset original view', 'home', 'home'), ('Back', 'Back to previous …"
      ]
     },
     "metadata": {},
     "output_type": "display_data"
    },
    {
     "data": {
      "text/plain": [
       "<matplotlib.image.AxesImage at 0x1dee9064648>"
      ]
     },
     "execution_count": 35,
     "metadata": {},
     "output_type": "execute_result"
    }
   ],
   "source": [
    "fig, ax = plt.subplots()\n",
    "ax.imshow(img)\n",
    "ax.imshow(edges,alpha = 0.5)"
   ]
  },
  {
   "cell_type": "code",
   "execution_count": 33,
   "metadata": {},
   "outputs": [
    {
     "data": {
      "text/plain": [
       "array([[358, 427, 358, 426],\n",
       "       [ 69, 607,  69, 600],\n",
       "       [ 25, 343,  25, 342],\n",
       "       ...,\n",
       "       [463, 351, 464, 350],\n",
       "       [105, 484, 106, 485],\n",
       "       [  4, 587,   4, 586]], dtype=int32)"
      ]
     },
     "execution_count": 33,
     "metadata": {},
     "output_type": "execute_result"
    }
   ],
   "source": [
    "lines[:,0]"
   ]
  },
  {
   "cell_type": "code",
   "execution_count": 30,
   "metadata": {},
   "outputs": [
    {
     "data": {
      "application/vnd.jupyter.widget-view+json": {
       "model_id": "98b53f3ed35f4ee78275c9d092a07e71",
       "version_major": 2,
       "version_minor": 0
      },
      "text/plain": [
       "Canvas(toolbar=Toolbar(toolitems=[('Home', 'Reset original view', 'home', 'home'), ('Back', 'Back to previous …"
      ]
     },
     "metadata": {},
     "output_type": "display_data"
    },
    {
     "data": {
      "text/plain": [
       "<matplotlib.image.AxesImage at 0x2c599d54788>"
      ]
     },
     "execution_count": 30,
     "metadata": {},
     "output_type": "execute_result"
    }
   ],
   "source": [
    "plt.close(\"all\")\n",
    "fig, ax = plt.subplots()\n",
    "\n",
    "ax.imshow(blur_gray)"
   ]
  },
  {
   "cell_type": "code",
   "execution_count": 3,
   "metadata": {},
   "outputs": [],
   "source": [
    "import cv2 as cv\n",
    "import numpy as np\n",
    "import argparse\n",
    "import imageio\n",
    "import matplotlib.pyplot as plt\n",
    "%matplotlib widget\n",
    "\n",
    "W = 40          # window size is WxW\n",
    "C_Thr = 0.43    # threshold for coherency\n",
    "LowThr = 35     # threshold1 for orientation, it ranges from 0 to 180\n",
    "HighThr = 57    # threshold2 for orientation, it ranges from 0 to 180\n",
    "\n",
    "def calcGST(inputIMG, w):\n",
    "    img = inputIMG.astype(np.float32)\n",
    "    # GST components calculation (start)\n",
    "    # J =  (J11 J12; J12 J22) - GST\n",
    "    imgDiffX = cv.Sobel(img, cv.CV_32F, 1, 0, 3)\n",
    "    imgDiffY = cv.Sobel(img, cv.CV_32F, 0, 1, 3)\n",
    "    imgDiffXY = cv.multiply(imgDiffX, imgDiffY)\n",
    "    \n",
    "    imgDiffXX = cv.multiply(imgDiffX, imgDiffX)\n",
    "    imgDiffYY = cv.multiply(imgDiffY, imgDiffY)\n",
    "    J11 = cv.boxFilter(imgDiffXX, cv.CV_32F, (w,w))\n",
    "    J22 = cv.boxFilter(imgDiffYY, cv.CV_32F, (w,w))\n",
    "    J12 = cv.boxFilter(imgDiffXY, cv.CV_32F, (w,w))\n",
    "    # GST components calculations (stop)\n",
    "    # eigenvalue calculation (start)\n",
    "    # lambda1 = 0.5*(J11 + J22 + sqrt((J11-J22)^2 + 4*J12^2))\n",
    "    # lambda2 = 0.5*(J11 + J22 - sqrt((J11-J22)^2 + 4*J12^2))\n",
    "    tmp1 = J11 + J22\n",
    "    tmp2 = J11 - J22\n",
    "    tmp2 = cv.multiply(tmp2, tmp2)\n",
    "    tmp3 = cv.multiply(J12, J12)\n",
    "    tmp4 = np.sqrt(tmp2 + 4.0 * tmp3)\n",
    "    lambda1 = 0.5*(tmp1 + tmp4)    # biggest eigenvalue\n",
    "    lambda2 = 0.5*(tmp1 - tmp4)    # smallest eigenvalue\n",
    "    # eigenvalue calculation (stop)\n",
    "    # Coherency calculation (start)\n",
    "    # Coherency = (lambda1 - lambda2)/(lambda1 + lambda2)) - measure of anisotropism\n",
    "    # Coherency is anisotropy degree (consistency of local orientation)\n",
    "    imgCoherencyOut = cv.divide(lambda1 - lambda2, lambda1 + lambda2)\n",
    "    # Coherency calculation (stop)\n",
    "    # orientation angle calculation (start)\n",
    "    # tan(2*Alpha) = 2*J12/(J22 - J11)\n",
    "    # Alpha = 0.5 atan2(2*J12/(J22 - J11))\n",
    "    imgOrientationOut = cv.phase(J22 - J11, 2.0 * J12, angleInDegrees = True)\n",
    "    imgOrientationOut = 0.5 * imgOrientationOut\n",
    "    # orientation angle calculation (stop)\n",
    "    return imgCoherencyOut, imgOrientationOut\n",
    "# path = '211223_ExNo_93_60x_FM4-64+trans_03_2000-4180_trans_kymo_forCoco.tif'\n",
    "# path = 'kymograph3.tif'\n",
    "# path = 'kymograph5.tif'\n",
    "# path = 'kymograph_5 filtered_backward.tif'\n",
    "# path = 'kymograph_5 filtered_forward.tif'\n",
    "path = '211223_ExNo_93_60x_FM4-64+trans_03_2000-4180_trans_kymo.png'\n",
    "imgIn = imageio.imread(path)\n",
    "imgcrop = imgIn[:,:150]\n",
    "imgcrop = cv2.cvtColor(imgcrop,cv2.COLOR_BGR2GRAY)   \n",
    "\n",
    "# imgIn = cv.imread(path, cv.IMREAD_GRAYSCALE)\n",
    "im_blurred =cv.blur(imgcrop, (200, 200))\n",
    "imgcrop = (imgcrop)/((im_blurred==0)*np.ones(im_blurred.shape)+im_blurred)*120\n",
    "imgCoherency, imgOrientation = calcGST(imgcrop, W)\n",
    ", imgCoherencyBin = cv.threshold(imgCoherency, C_Thr, 255, cv.THRESH_BINARY)\n",
    "_, imgOrientationBin = cv.threshold(imgOrientation, LowThr, HighThr, cv.THRESH_BINARY)\n",
    "\n",
    "# imgBin = cv.bitwise_and(imgCoherencyBin, imgOrientationBin)\n",
    "\n"
   ]
  },
  {
   "cell_type": "code",
   "execution_count": 84,
   "metadata": {},
   "outputs": [
    {
     "data": {
      "application/vnd.jupyter.widget-view+json": {
       "model_id": "3485050b89c745499085ee3b4967a49f",
       "version_major": 2,
       "version_minor": 0
      },
      "text/plain": [
       "Canvas(toolbar=Toolbar(toolitems=[('Home', 'Reset original view', 'home', 'home'), ('Back', 'Back to previous …"
      ]
     },
     "metadata": {},
     "output_type": "display_data"
    }
   ],
   "source": [
    "fig, ax = plt.subplots()\n",
    "ax.imshow(imgcrop,cmap=\"gray\")\n",
    "# ax2 = ax.twiny()\n",
    "# ax2.plot(np.tan((np.mean(imgOrientation,axis=1)-90)/180*np.pi),range(len(np.mean(imgOrientation,axis=1))),color = \"red\")\n",
    "# ax.imshow(imgOrientation,alpha=0.3,cmap=\"jet\")\n",
    "# ax.imshow(0*imgIn,cmap='jet',alpha = 0.3)\n",
    "ax.imshow(imgOrientation*(imgCoherency>0.4),alpha=0.5,cmap=\"jet\")\n",
    "# ax2.set_xlim((-4,4))\n",
    "ax2.set_xlabel('speed')\n",
    "plt.tight_layout()"
   ]
  },
  {
   "cell_type": "code",
   "execution_count": 82,
   "metadata": {},
   "outputs": [
    {
     "data": {
      "application/vnd.jupyter.widget-view+json": {
       "model_id": "4e6ce30b5cbc4bccad31ed7a536afb1e",
       "version_major": 2,
       "version_minor": 0
      },
      "text/plain": [
       "Canvas(toolbar=Toolbar(toolitems=[('Home', 'Reset original view', 'home', 'home'), ('Back', 'Back to previous …"
      ]
     },
     "metadata": {},
     "output_type": "display_data"
    },
    {
     "data": {
      "text/plain": [
       "Text(0.5, 0, 'speed')"
      ]
     },
     "execution_count": 82,
     "metadata": {},
     "output_type": "execute_result"
    }
   ],
   "source": [
    "fig, ax = plt.subplots()\n",
    "ax.imshow(imgIn,cmap=\"gray\")\n",
    "ax2 = ax.twiny()\n",
    "ax2.plot(np.tan((np.mean(imgOrientation,axis=1)-90)/180*np.pi),range(len(np.mean(imgOrientation,axis=1))),color = \"red\")\n",
    "# ax.imshow(imgOrientation,alpha=0.3,cmap=\"jet\")\n",
    "# ax.imshow(0*imgIn,cmap='jet',alpha = 0.3)\n",
    "# ax.imshow(imgOrientation*(imgCoherency>0.4),alpha=0.5,cmap=\"jet\")\n",
    "ax2.set_xlim((-4,4))\n",
    "ax2.set_xlabel('speed')"
   ]
  },
  {
   "cell_type": "code",
   "execution_count": 15,
   "metadata": {},
   "outputs": [],
   "source": [
    "import pandas as pd\n",
    "line = np.tan((np.mean(imgOrientation,axis=1)-90)/180*np.pi)\n",
    "data = pd.read_csv(\"correlation.csv\")"
   ]
  },
  {
   "cell_type": "code",
   "execution_count": 11,
   "metadata": {},
   "outputs": [
    {
     "data": {
      "text/html": [
       "<div>\n",
       "<style scoped>\n",
       "    .dataframe tbody tr th:only-of-type {\n",
       "        vertical-align: middle;\n",
       "    }\n",
       "\n",
       "    .dataframe tbody tr th {\n",
       "        vertical-align: top;\n",
       "    }\n",
       "\n",
       "    .dataframe thead th {\n",
       "        text-align: right;\n",
       "    }\n",
       "</style>\n",
       "<table border=\"1\" class=\"dataframe\">\n",
       "  <thead>\n",
       "    <tr style=\"text-align: right;\">\n",
       "      <th></th>\n",
       "      <th>time</th>\n",
       "      <th>frame</th>\n",
       "      <th>Vpos</th>\n",
       "      <th>Vneg</th>\n",
       "      <th>Vtot</th>\n",
       "      <th>Vnet</th>\n",
       "    </tr>\n",
       "  </thead>\n",
       "  <tbody>\n",
       "    <tr>\n",
       "      <th>0</th>\n",
       "      <td>0.00</td>\n",
       "      <td>160</td>\n",
       "      <td>35</td>\n",
       "      <td>11</td>\n",
       "      <td>46</td>\n",
       "      <td>24</td>\n",
       "    </tr>\n",
       "    <tr>\n",
       "      <th>1</th>\n",
       "      <td>0.05</td>\n",
       "      <td>161</td>\n",
       "      <td>35</td>\n",
       "      <td>12</td>\n",
       "      <td>47</td>\n",
       "      <td>23</td>\n",
       "    </tr>\n",
       "    <tr>\n",
       "      <th>2</th>\n",
       "      <td>0.10</td>\n",
       "      <td>162</td>\n",
       "      <td>35</td>\n",
       "      <td>13</td>\n",
       "      <td>48</td>\n",
       "      <td>22</td>\n",
       "    </tr>\n",
       "    <tr>\n",
       "      <th>3</th>\n",
       "      <td>0.15</td>\n",
       "      <td>163</td>\n",
       "      <td>34</td>\n",
       "      <td>14</td>\n",
       "      <td>48</td>\n",
       "      <td>20</td>\n",
       "    </tr>\n",
       "    <tr>\n",
       "      <th>4</th>\n",
       "      <td>0.20</td>\n",
       "      <td>164</td>\n",
       "      <td>34</td>\n",
       "      <td>14</td>\n",
       "      <td>48</td>\n",
       "      <td>20</td>\n",
       "    </tr>\n",
       "    <tr>\n",
       "      <th>...</th>\n",
       "      <td>...</td>\n",
       "      <td>...</td>\n",
       "      <td>...</td>\n",
       "      <td>...</td>\n",
       "      <td>...</td>\n",
       "      <td>...</td>\n",
       "    </tr>\n",
       "    <tr>\n",
       "      <th>2013</th>\n",
       "      <td>100.65</td>\n",
       "      <td>2173</td>\n",
       "      <td>0</td>\n",
       "      <td>0</td>\n",
       "      <td>0</td>\n",
       "      <td>0</td>\n",
       "    </tr>\n",
       "    <tr>\n",
       "      <th>2014</th>\n",
       "      <td>100.70</td>\n",
       "      <td>2174</td>\n",
       "      <td>0</td>\n",
       "      <td>0</td>\n",
       "      <td>0</td>\n",
       "      <td>0</td>\n",
       "    </tr>\n",
       "    <tr>\n",
       "      <th>2015</th>\n",
       "      <td>100.75</td>\n",
       "      <td>2175</td>\n",
       "      <td>0</td>\n",
       "      <td>0</td>\n",
       "      <td>0</td>\n",
       "      <td>0</td>\n",
       "    </tr>\n",
       "    <tr>\n",
       "      <th>2016</th>\n",
       "      <td>100.80</td>\n",
       "      <td>2176</td>\n",
       "      <td>0</td>\n",
       "      <td>0</td>\n",
       "      <td>0</td>\n",
       "      <td>0</td>\n",
       "    </tr>\n",
       "    <tr>\n",
       "      <th>2017</th>\n",
       "      <td>100.85</td>\n",
       "      <td>2177</td>\n",
       "      <td>0</td>\n",
       "      <td>0</td>\n",
       "      <td>0</td>\n",
       "      <td>0</td>\n",
       "    </tr>\n",
       "  </tbody>\n",
       "</table>\n",
       "<p>2018 rows × 6 columns</p>\n",
       "</div>"
      ],
      "text/plain": [
       "        time  frame  Vpos  Vneg  Vtot  Vnet\n",
       "0       0.00    160    35    11    46    24\n",
       "1       0.05    161    35    12    47    23\n",
       "2       0.10    162    35    13    48    22\n",
       "3       0.15    163    34    14    48    20\n",
       "4       0.20    164    34    14    48    20\n",
       "...      ...    ...   ...   ...   ...   ...\n",
       "2013  100.65   2173     0     0     0     0\n",
       "2014  100.70   2174     0     0     0     0\n",
       "2015  100.75   2175     0     0     0     0\n",
       "2016  100.80   2176     0     0     0     0\n",
       "2017  100.85   2177     0     0     0     0\n",
       "\n",
       "[2018 rows x 6 columns]"
      ]
     },
     "execution_count": 11,
     "metadata": {},
     "output_type": "execute_result"
    }
   ],
   "source": [
    "data"
   ]
  },
  {
   "cell_type": "code",
   "execution_count": 96,
   "metadata": {},
   "outputs": [],
   "source": [
    "s1 = line[160:2178]\n",
    "s2 = data[\"Vnet\"]\n",
    "s1 = (s1-np.mean(s1))/np.std(s1)\n",
    "s2 = (s2-np.mean(s2))/np.std(s2)\n",
    "sd = 1/np.sqrt(data[\"Vtot\"])\n",
    "lags = np.array(range(-len(s1)//2,len(s1)//2))*0.05"
   ]
  },
  {
   "cell_type": "code",
   "execution_count": 97,
   "metadata": {},
   "outputs": [
    {
     "data": {
      "application/vnd.jupyter.widget-view+json": {
       "model_id": "3b0cc22912f5425392c3b98f63c7913c",
       "version_major": 2,
       "version_minor": 0
      },
      "text/plain": [
       "Canvas(toolbar=Toolbar(toolitems=[('Home', 'Reset original view', 'home', 'home'), ('Back', 'Back to previous …"
      ]
     },
     "metadata": {},
     "output_type": "display_data"
    },
    {
     "data": {
      "text/plain": [
       "[<matplotlib.lines.Line2D at 0x2e103b4ae08>]"
      ]
     },
     "execution_count": 97,
     "metadata": {},
     "output_type": "execute_result"
    }
   ],
   "source": [
    "fig, ax = plt.subplots()\n",
    "ax.plot(data[\"Vnet\"])\n",
    "ax.plot(data[\"Vnet\"])"
   ]
  },
  {
   "cell_type": "code",
   "execution_count": 63,
   "metadata": {},
   "outputs": [
    {
     "data": {
      "application/vnd.jupyter.widget-view+json": {
       "model_id": "e3924697f3684f38b912e5421f13f151",
       "version_major": 2,
       "version_minor": 0
      },
      "text/plain": [
       "Canvas(toolbar=Toolbar(toolitems=[('Home', 'Reset original view', 'home', 'home'), ('Back', 'Back to previous …"
      ]
     },
     "metadata": {},
     "output_type": "display_data"
    },
    {
     "data": {
      "text/plain": [
       "<matplotlib.legend.Legend at 0x2e10102d848>"
      ]
     },
     "execution_count": 63,
     "metadata": {},
     "output_type": "execute_result"
    }
   ],
   "source": [
    "fig, ax = plt.subplots()\n",
    "ax2 = ax.twinx()\n",
    "ax.plot(data[\"frame\"]*0.05,s1,label=\"bulk flow\")\n",
    "ax2.plot(data[\"frame\"]*0.05,s2,color='red',label=\"straight trajectory fluorescence\")\n",
    "ax.set_xlabel(\"time(s)\")\n",
    "# ax.set_yabel(\"\")\n",
    "ax.legend(loc = \"upper right\")\n",
    "ax2.legend(loc = \"upper left\")"
   ]
  },
  {
   "cell_type": "code",
   "execution_count": 87,
   "metadata": {},
   "outputs": [
    {
     "data": {
      "application/vnd.jupyter.widget-view+json": {
       "model_id": "25c38d65e2514cd59da63bd22ddf397b",
       "version_major": 2,
       "version_minor": 0
      },
      "text/plain": [
       "Canvas(toolbar=Toolbar(toolitems=[('Home', 'Reset original view', 'home', 'home'), ('Back', 'Back to previous …"
      ]
     },
     "metadata": {},
     "output_type": "display_data"
    },
    {
     "data": {
      "text/plain": [
       "[<matplotlib.lines.Line2D at 0x2e10a4d1748>]"
      ]
     },
     "execution_count": 87,
     "metadata": {},
     "output_type": "execute_result"
    }
   ],
   "source": [
    "c = correlate(s1,s1,\"same\")\n",
    "fig, ax = plt.subplots()\n",
    "ax.plot(lags,c/len(s1),label=\"bulk flow\")\n",
    "c = correlate(s2,s2,\"same\")\n",
    "ax.plot(lags,c/len(s1),label = \"straight trajectory fluorescence\",color = \"red\")\n",
    "ax.set_xlabel(\"lag (s)\")\n",
    "ax.legend()\n",
    "ax.plot(lags,np.zeros(len(lags))+2/np.sqrt(len(s1)/2),color=\"black\",alpha = 0.3)\n",
    "ax.plot(lags,np.zeros(len(lags))-2/np.sqrt(len(s1)/2),color=\"black\",alpha = 0.3)\n",
    "# ax2.legend(loc = \"upper left\")"
   ]
  },
  {
   "cell_type": "code",
   "execution_count": 89,
   "metadata": {},
   "outputs": [
    {
     "data": {
      "application/vnd.jupyter.widget-view+json": {
       "model_id": "9ecbeb52c2c04d83a26f32eaefe6591a",
       "version_major": 2,
       "version_minor": 0
      },
      "text/plain": [
       "Canvas(toolbar=Toolbar(toolitems=[('Home', 'Reset original view', 'home', 'home'), ('Back', 'Back to previous …"
      ]
     },
     "metadata": {},
     "output_type": "display_data"
    },
    {
     "data": {
      "text/plain": [
       "Text(0.5, 0, 'lag (s)')"
      ]
     },
     "execution_count": 89,
     "metadata": {},
     "output_type": "execute_result"
    }
   ],
   "source": [
    "\n",
    "from scipy.signal import correlate\n",
    "c = correlate(s1,s2,\"same\",\"direct\")\n",
    "fig, ax = plt.subplots()\n",
    "ax.plot(lags,c/len(s1))\n",
    "ax.plot(lags,np.zeros(len(lags))+2/np.sqrt(len(s1)/2),color=\"black\",alpha = 0.3)\n",
    "ax.plot(lags,np.zeros(len(lags))-2/np.sqrt(len(s1)/2),color=\"black\",alpha = 0.3)\n",
    "ax.set_title('cross correlation')\n",
    "ax.set_xlabel(\"lag (s)\")\n"
   ]
  },
  {
   "cell_type": "code",
   "execution_count": 94,
   "metadata": {},
   "outputs": [
    {
     "data": {
      "application/vnd.jupyter.widget-view+json": {
       "model_id": "f7e61c01a0dd487c848a1f7fc520bf7b",
       "version_major": 2,
       "version_minor": 0
      },
      "text/plain": [
       "Canvas(toolbar=Toolbar(toolitems=[('Home', 'Reset original view', 'home', 'home'), ('Back', 'Back to previous …"
      ]
     },
     "metadata": {},
     "output_type": "display_data"
    },
    {
     "data": {
      "text/plain": [
       "Text(0.5, 0, 'lag (s)')"
      ]
     },
     "execution_count": 94,
     "metadata": {},
     "output_type": "execute_result"
    }
   ],
   "source": [
    "from scipy.signal import correlate\n",
    "s1 = np.sin(np.linspace(0,10,100))\n",
    "s2 = np.sin(np.linspace(0,10,100)+1)\n",
    "\n",
    "c = correlate(s1,s2,\"same\",\"direct\")\n",
    "fig, ax = plt.subplots()\n",
    "ax.plot(np.linspace(-5,5,100),c/len(s1))\n",
    "ax.set_title('cross correlation')\n",
    "ax.set_xlabel(\"lag (s)\")\n"
   ]
  },
  {
   "cell_type": "code",
   "execution_count": 95,
   "metadata": {},
   "outputs": [
    {
     "data": {
      "application/vnd.jupyter.widget-view+json": {
       "model_id": "3486ff02ead64cffaf13e30f0c7cd325",
       "version_major": 2,
       "version_minor": 0
      },
      "text/plain": [
       "Canvas(toolbar=Toolbar(toolitems=[('Home', 'Reset original view', 'home', 'home'), ('Back', 'Back to previous …"
      ]
     },
     "metadata": {},
     "output_type": "display_data"
    },
    {
     "data": {
      "text/plain": [
       "[<matplotlib.lines.Line2D at 0x2e10b66e188>]"
      ]
     },
     "execution_count": 95,
     "metadata": {},
     "output_type": "execute_result"
    }
   ],
   "source": [
    "fig, ax = plt.subplots()\n",
    "ax.plot(s1,label=\"bulk flow\")\n",
    "ax.plot(s2,color='red',label=\"straight trajectory fluorescence\")\n"
   ]
  },
  {
   "cell_type": "code",
   "execution_count": 87,
   "metadata": {},
   "outputs": [],
   "source": [
    "np.save('speeds',np.tan((np.mean(imgOrientation,axis=1)-90)/180*np.pi))"
   ]
  },
  {
   "cell_type": "code",
   "execution_count": 66,
   "metadata": {},
   "outputs": [
    {
     "data": {
      "application/vnd.jupyter.widget-view+json": {
       "model_id": "c65149a81173449e931d8ef025e13286",
       "version_major": 2,
       "version_minor": 0
      },
      "text/plain": [
       "Canvas(toolbar=Toolbar(toolitems=[('Home', 'Reset original view', 'home', 'home'), ('Back', 'Back to previous …"
      ]
     },
     "metadata": {},
     "output_type": "display_data"
    },
    {
     "data": {
      "text/plain": [
       "<matplotlib.image.AxesImage at 0x1de89d69108>"
      ]
     },
     "execution_count": 66,
     "metadata": {},
     "output_type": "execute_result"
    }
   ],
   "source": [
    "fig, ax = plt.subplots()\n",
    "ax.imshow(imgIn,cmap=\"gray\")\n",
    "ax.imshow(imgOrientation,alpha=0.3,cmap=\"jet\")\n",
    "# ax.imshow(0*imgIn,cmap='jet',alpha = 0.3)\n",
    "# ax.imshow(imgOrientation*(imgCoherency>0.6)*(imgOrientation<75),alpha=0.5,cmap=\"jet\")"
   ]
  },
  {
   "cell_type": "code",
   "execution_count": 70,
   "metadata": {},
   "outputs": [
    {
     "data": {
      "application/vnd.jupyter.widget-view+json": {
       "model_id": "38b59e8d28d9468483b802e30cf1a2db",
       "version_major": 2,
       "version_minor": 0
      },
      "text/plain": [
       "Canvas(toolbar=Toolbar(toolitems=[('Home', 'Reset original view', 'home', 'home'), ('Back', 'Back to previous …"
      ]
     },
     "metadata": {},
     "output_type": "display_data"
    },
    {
     "data": {
      "text/plain": [
       "[<matplotlib.lines.Line2D at 0x1de8ab6e208>]"
      ]
     },
     "execution_count": 70,
     "metadata": {},
     "output_type": "execute_result"
    }
   ],
   "source": [
    "fig, ax = plt.subplots()\n",
    "ax.plot(np.mean(imgOrientation,axis=1))"
   ]
  },
  {
   "cell_type": "code",
   "execution_count": 41,
   "metadata": {},
   "outputs": [
    {
     "data": {
      "application/vnd.jupyter.widget-view+json": {
       "model_id": "afdf5e5e0e2049e4bb3aad61b104be7f",
       "version_major": 2,
       "version_minor": 0
      },
      "text/plain": [
       "Canvas(toolbar=Toolbar(toolitems=[('Home', 'Reset original view', 'home', 'home'), ('Back', 'Back to previous …"
      ]
     },
     "metadata": {},
     "output_type": "display_data"
    },
    {
     "data": {
      "text/plain": [
       "<matplotlib.image.AxesImage at 0x1dee7936b48>"
      ]
     },
     "execution_count": 41,
     "metadata": {},
     "output_type": "execute_result"
    }
   ],
   "source": [
    "fig, ax = plt.subplots()\n",
    "ax.imshow(imgIn,cmap=\"gray\")\n",
    "ax.imshow(imgCoherency,alpha=0.3,cmap=\"jet\")\n",
    "# ax.imshow(0*imgIn,cmap='jet',alpha = 0.3)\n",
    "# ax.imshow(imgOrientation*(imgCoherency>0.6),alpha=0.5,cmap=\"jet\")"
   ]
  },
  {
   "cell_type": "code",
   "execution_count": 19,
   "metadata": {},
   "outputs": [
    {
     "data": {
      "application/vnd.jupyter.widget-view+json": {
       "model_id": "101db817ca0c4bb3bc1dc789744ab7e9",
       "version_major": 2,
       "version_minor": 0
      },
      "text/plain": [
       "Canvas(toolbar=Toolbar(toolitems=[('Home', 'Reset original view', 'home', 'home'), ('Back', 'Back to previous …"
      ]
     },
     "metadata": {},
     "output_type": "display_data"
    },
    {
     "data": {
      "text/plain": [
       "<matplotlib.image.AxesImage at 0x1dee443e408>"
      ]
     },
     "execution_count": 19,
     "metadata": {},
     "output_type": "execute_result"
    }
   ],
   "source": [
    "fig, ax = plt.subplots()\n",
    "ax.imshow(imgIn,cmap=\"gray\")"
   ]
  }
 ],
 "metadata": {
  "kernelspec": {
   "display_name": "Python 3",
   "language": "python",
   "name": "python3"
  },
  "language_info": {
   "codemirror_mode": {
    "name": "ipython",
    "version": 3
   },
   "file_extension": ".py",
   "mimetype": "text/x-python",
   "name": "python",
   "nbconvert_exporter": "python",
   "pygments_lexer": "ipython3",
   "version": "3.7.9"
  }
 },
 "nbformat": 4,
 "nbformat_minor": 4
}
