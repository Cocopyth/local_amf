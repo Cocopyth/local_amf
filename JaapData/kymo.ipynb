{
 "cells": [
  {
   "cell_type": "code",
   "execution_count": 75,
   "metadata": {},
   "outputs": [],
   "source": [
    "import cv2 as cv\n",
    "import numpy as np\n",
    "import argparse\n",
    "import imageio\n",
    "import matplotlib.pyplot as plt\n",
    "%matplotlib widget\n",
    "\n",
    "W = 20          # window size is WxW\n",
    "C_Thr = 0.43    # threshold for coherency\n",
    "LowThr = 35     # threshold1 for orientation, it ranges from 0 to 180\n",
    "HighThr = 57    # threshold2 for orientation, it ranges from 0 to 180\n",
    "\n",
    "def calcGST(inputIMG, w):\n",
    "    img = inputIMG.astype(np.float32)\n",
    "    # GST components calculation (start)\n",
    "    # J =  (J11 J12; J12 J22) - GST\n",
    "    imgDiffX = cv.Sobel(img, cv.CV_32F, 1, 0, 3)\n",
    "    imgDiffY = cv.Sobel(img, cv.CV_32F, 0, 1, 3)\n",
    "    imgDiffXY = cv.multiply(imgDiffX, imgDiffY)\n",
    "    \n",
    "    imgDiffXX = cv.multiply(imgDiffX, imgDiffX)\n",
    "    imgDiffYY = cv.multiply(imgDiffY, imgDiffY)\n",
    "    J11 = cv.boxFilter(imgDiffXX, cv.CV_32F, (w,w))\n",
    "    J22 = cv.boxFilter(imgDiffYY, cv.CV_32F, (w,w))\n",
    "    J12 = cv.boxFilter(imgDiffXY, cv.CV_32F, (w,w))\n",
    "    # GST components calculations (stop)\n",
    "    # eigenvalue calculation (start)\n",
    "    # lambda1 = 0.5*(J11 + J22 + sqrt((J11-J22)^2 + 4*J12^2))\n",
    "    # lambda2 = 0.5*(J11 + J22 - sqrt((J11-J22)^2 + 4*J12^2))\n",
    "    tmp1 = J11 + J22\n",
    "    tmp2 = J11 - J22\n",
    "    tmp2 = cv.multiply(tmp2, tmp2)\n",
    "    tmp3 = cv.multiply(J12, J12)\n",
    "    tmp4 = np.sqrt(tmp2 + 4.0 * tmp3)\n",
    "    lambda1 = 0.5*(tmp1 + tmp4)    # biggest eigenvalue\n",
    "    lambda2 = 0.5*(tmp1 - tmp4)    # smallest eigenvalue\n",
    "    # eigenvalue calculation (stop)\n",
    "    # Coherency calculation (start)\n",
    "    # Coherency = (lambda1 - lambda2)/(lambda1 + lambda2)) - measure of anisotropism\n",
    "    # Coherency is anisotropy degree (consistency of local orientation)\n",
    "    imgCoherencyOut = cv.divide(lambda1 - lambda2, lambda1 + lambda2)\n",
    "    # Coherency calculation (stop)\n",
    "    # orientation angle calculation (start)\n",
    "    # tan(2*Alpha) = 2*J12/(J22 - J11)\n",
    "    # Alpha = 0.5 atan2(2*J12/(J22 - J11))\n",
    "    imgOrientationOut = cv.phase(J22 - J11, 2.0 * J12, angleInDegrees = True)\n",
    "    imgOrientationOut = 0.5 * imgOrientationOut\n",
    "    # orientation angle calculation (stop)\n",
    "    return imgCoherencyOut, imgOrientationOut\n",
    "# path = '211223_ExNo_93_60x_FM4-64+trans_03_2000-4180_trans_kymo_forCoco.tif'\n",
    "# path = 'kymograph3.tif'\n",
    "# path = 'kymograph5.tif'\n",
    "# path = 'kymograph_5 filtered_backward.tif'\n",
    "# path = 'kymograph_5 filtered_forward.tif'\n",
    "path = \"kymograph_1/kymograph_1 filtered_forward.tif\"\n",
    "# path = \"kymograph_1/kymograph1.tif\"\n",
    "\n",
    "# path = '211223_ExNo_93_60x_FM4-64+trans_03_2000-4180_trans_kymo.png'\n",
    "imgIn = imageio.imread(path)\n",
    "imgcrop = (imgIn[:300,:])\n",
    "# imgcrop = cv2.cvtColor(imgcrop,cv2.COLOR_BGR2GRAY)   \n",
    "\n",
    "# imgIn = cv.imread(path, cv.IMREAD_GRAYSCALE)\n",
    "# imgcrop = (imgIn[:300,:]).astype(int)*4\n",
    "\n",
    "im_blurred =cv.GaussianBlur(imgcrop, (51, 51),0)\n",
    "imgcrop = (imgcrop)/((im_blurred==0)*np.ones(im_blurred.shape)+im_blurred)*120\n",
    "imgCoherency, imgOrientation = calcGST(imgcrop, W)\n",
    ", imgCoherencyBin = cv.threshold(imgCoherency, C_Thr, 255, cv.THRESH_BINARY)\n",
    "_, imgOrientationBin = cv.threshold(imgOrientation, LowThr, HighThr, cv.THRESH_BINARY)\n",
    "\n",
    "# # imgBin = cv.bitwise_and(imgCoherencyBin, imgOrientationBin)\n",
    "\n"
   ]
  },
  {
   "cell_type": "code",
   "execution_count": 64,
   "metadata": {},
   "outputs": [
    {
     "data": {
      "text/plain": [
       "array([[57., 57., 57., ..., 57., 57., 57.],\n",
       "       [57., 57., 57., ..., 57., 57., 57.],\n",
       "       [57., 57., 57., ..., 57., 57., 57.],\n",
       "       ...,\n",
       "       [57., 57., 57., ..., 57., 57., 57.],\n",
       "       [57., 57., 57., ..., 57., 57., 57.],\n",
       "       [57., 57., 57., ..., 57., 57., 57.]], dtype=float32)"
      ]
     },
     "execution_count": 64,
     "metadata": {},
     "output_type": "execute_result"
    }
   ],
   "source": [
    "imgOrientationBin"
   ]
  },
  {
   "cell_type": "code",
   "execution_count": 60,
   "metadata": {},
   "outputs": [
    {
     "data": {
      "application/vnd.jupyter.widget-view+json": {
       "model_id": "610e3b8704b44530b7c42def33addcc5",
       "version_major": 2,
       "version_minor": 0
      },
      "text/plain": [
       "Canvas(toolbar=Toolbar(toolitems=[('Home', 'Reset original view', 'home', 'home'), ('Back', 'Back to previous …"
      ]
     },
     "metadata": {},
     "output_type": "display_data"
    },
    {
     "data": {
      "text/plain": [
       "<matplotlib.image.AxesImage at 0x1e094872748>"
      ]
     },
     "execution_count": 60,
     "metadata": {},
     "output_type": "execute_result"
    }
   ],
   "source": [
    "fig, ax = plt.subplots()\n",
    "ax.imshow(im_blurred,cmap=\"gray\")"
   ]
  },
  {
   "cell_type": "code",
   "execution_count": 72,
   "metadata": {},
   "outputs": [
    {
     "data": {
      "application/vnd.jupyter.widget-view+json": {
       "model_id": "20f6400fa6d149fe871abd18b6e30d5c",
       "version_major": 2,
       "version_minor": 0
      },
      "text/plain": [
       "Canvas(toolbar=Toolbar(toolitems=[('Home', 'Reset original view', 'home', 'home'), ('Back', 'Back to previous …"
      ]
     },
     "metadata": {},
     "output_type": "display_data"
    },
    {
     "data": {
      "text/plain": [
       "<matplotlib.image.AxesImage at 0x1e0973a6088>"
      ]
     },
     "execution_count": 72,
     "metadata": {},
     "output_type": "execute_result"
    }
   ],
   "source": [
    "fig, ax = plt.subplots()\n",
    "ax.imshow(imgIn[0:300,:],cmap=\"gray\")"
   ]
  },
  {
   "cell_type": "code",
   "execution_count": 74,
   "metadata": {},
   "outputs": [
    {
     "data": {
      "application/vnd.jupyter.widget-view+json": {
       "model_id": "beb0f553727643be9ba69e8f6be909f2",
       "version_major": 2,
       "version_minor": 0
      },
      "text/plain": [
       "Canvas(toolbar=Toolbar(toolitems=[('Home', 'Reset original view', 'home', 'home'), ('Back', 'Back to previous …"
      ]
     },
     "metadata": {},
     "output_type": "display_data"
    },
    {
     "data": {
      "text/plain": [
       "<matplotlib.image.AxesImage at 0x1e099737608>"
      ]
     },
     "execution_count": 74,
     "metadata": {},
     "output_type": "execute_result"
    }
   ],
   "source": [
    "fig, ax = plt.subplots()\n",
    "ax.imshow(imgcrop,cmap=\"gray\")"
   ]
  },
  {
   "cell_type": "code",
   "execution_count": 70,
   "metadata": {},
   "outputs": [
    {
     "data": {
      "application/vnd.jupyter.widget-view+json": {
       "model_id": "730150e36e9a4308919e599c8bd0a1c7",
       "version_major": 2,
       "version_minor": 0
      },
      "text/plain": [
       "Canvas(toolbar=Toolbar(toolitems=[('Home', 'Reset original view', 'home', 'home'), ('Back', 'Back to previous …"
      ]
     },
     "metadata": {},
     "output_type": "display_data"
    }
   ],
   "source": [
    "fig, ax = plt.subplots()\n",
    "ax.imshow(imgCoherency,cmap=\"gray\")\n",
    "plt.tight_layout()"
   ]
  },
  {
   "cell_type": "code",
   "execution_count": 76,
   "metadata": {},
   "outputs": [
    {
     "data": {
      "application/vnd.jupyter.widget-view+json": {
       "model_id": "8d473682832a4597a8f2a688d5447926",
       "version_major": 2,
       "version_minor": 0
      },
      "text/plain": [
       "Canvas(toolbar=Toolbar(toolitems=[('Home', 'Reset original view', 'home', 'home'), ('Back', 'Back to previous …"
      ]
     },
     "metadata": {},
     "output_type": "display_data"
    }
   ],
   "source": [
    "fig, ax = plt.subplots()\n",
    "ax.imshow(imgcrop,cmap=\"gray\")\n",
    "ax2 = ax.twiny()\n",
    "ax2.plot(np.tan((np.mean(imgOrientation,axis=1)-90)/180*np.pi),range(len(np.mean(imgOrientation,axis=1))),color = \"red\")\n",
    "# ax.imshow(imgOrientation,alpha=0.3,cmap=\"jet\")\n",
    "# ax.imshow(0*imgIn,cmap='jet',alpha = 0.3)\n",
    "ax.imshow(imgOrientation*(imgCoherency>0.3),alpha=0.5,cmap=\"jet\")\n",
    "# ax2.set_xlim((-4,4))\n",
    "# ax2.set_xlabel('speed')\n",
    "plt.tight_layout()"
   ]
  },
  {
   "cell_type": "code",
   "execution_count": 77,
   "metadata": {},
   "outputs": [
    {
     "data": {
      "application/vnd.jupyter.widget-view+json": {
       "model_id": "8bcea4fdcda94e7abae01d183465a307",
       "version_major": 2,
       "version_minor": 0
      },
      "text/plain": [
       "Canvas(toolbar=Toolbar(toolitems=[('Home', 'Reset original view', 'home', 'home'), ('Back', 'Back to previous …"
      ]
     },
     "metadata": {},
     "output_type": "display_data"
    },
    {
     "data": {
      "text/plain": [
       "Text(0.5, 0, 'speed')"
      ]
     },
     "execution_count": 77,
     "metadata": {},
     "output_type": "execute_result"
    }
   ],
   "source": [
    "fig, ax = plt.subplots()\n",
    "ax.imshow(imgIn,cmap=\"gray\")\n",
    "ax2 = ax.twiny()\n",
    "# ax2.plot(np.tan((np.mean(imgOrientation,axis=1)-90)/180*np.pi),range(len(np.mean(imgOrientation,axis=1))),color = \"red\")\n",
    "# ax.imshow(imgOrientation,alpha=0.3,cmap=\"jet\")\n",
    "# ax.imshow(0*imgIn,cmap='jet',alpha = 0.3)\n",
    "# ax.imshow(imgOrientation*(imgCoherency>0.4),alpha=0.5,cmap=\"jet\")\n",
    "ax2.set_xlim((-4,4))\n",
    "ax2.set_xlabel('speed')"
   ]
  },
  {
   "cell_type": "code",
   "execution_count": 31,
   "metadata": {},
   "outputs": [],
   "source": [
    "import pandas as pd\n",
    "line = np.tan((np.mean(imgOrientation,axis=1)-90)/180*np.pi)\n",
    "data = pd.read_csv(\"211220_ExNo_90_60x_FM4-64+trans_01_460-2100_df_total.csv\")"
   ]
  },
  {
   "cell_type": "code",
   "execution_count": 37,
   "metadata": {},
   "outputs": [
    {
     "data": {
      "text/plain": [
       "59"
      ]
     },
     "execution_count": 37,
     "metadata": {},
     "output_type": "execute_result"
    }
   ],
   "source": [
    "len(data[\"Molecule#\"].unique())"
   ]
  },
  {
   "cell_type": "code",
   "execution_count": 54,
   "metadata": {},
   "outputs": [
    {
     "data": {
      "text/plain": [
       "array([ 9011, 90122,  9014,  9016,  9019], dtype=int64)"
      ]
     },
     "execution_count": 54,
     "metadata": {},
     "output_type": "execute_result"
    }
   ],
   "source": [
    "data.loc[data['frame']<300][\"Molecule#\"].unique()"
   ]
  },
  {
   "cell_type": "code",
   "execution_count": 59,
   "metadata": {},
   "outputs": [],
   "source": [
    "mol = data.loc[data[\"Molecule#\"]==9011]"
   ]
  },
  {
   "cell_type": "code",
   "execution_count": 45,
   "metadata": {
    "collapsed": true,
    "jupyter": {
     "outputs_hidden": true
    }
   },
   "outputs": [
    {
     "data": {
      "text/html": [
       "<div>\n",
       "<style scoped>\n",
       "    .dataframe tbody tr th:only-of-type {\n",
       "        vertical-align: middle;\n",
       "    }\n",
       "\n",
       "    .dataframe tbody tr th {\n",
       "        vertical-align: top;\n",
       "    }\n",
       "\n",
       "    .dataframe thead th {\n",
       "        text-align: right;\n",
       "    }\n",
       "</style>\n",
       "<table border=\"1\" class=\"dataframe\">\n",
       "  <thead>\n",
       "    <tr style=\"text-align: right;\">\n",
       "      <th></th>\n",
       "      <th>timepoint</th>\n",
       "      <th>frame</th>\n",
       "      <th>time[s]</th>\n",
       "      <th>x_position[nm]</th>\n",
       "      <th>y_position[nm]</th>\n",
       "      <th>x_displacement[nm]</th>\n",
       "      <th>y_displacement[nm]</th>\n",
       "      <th>Euclidean_p2p_distance[nm]</th>\n",
       "      <th>Speed[um/s]</th>\n",
       "      <th>Velocity[um/s]</th>\n",
       "      <th>Speed_rolling_average[um/s]</th>\n",
       "      <th>Velocity_rolling_average[um/s]</th>\n",
       "      <th>Alpha</th>\n",
       "      <th>Gs</th>\n",
       "      <th>MSD</th>\n",
       "      <th>Dataset</th>\n",
       "      <th>Molecule#</th>\n",
       "    </tr>\n",
       "  </thead>\n",
       "  <tbody>\n",
       "    <tr>\n",
       "      <th>3256</th>\n",
       "      <td>0</td>\n",
       "      <td>116.0</td>\n",
       "      <td>5.75</td>\n",
       "      <td>1239.792725</td>\n",
       "      <td>14589.869141</td>\n",
       "      <td>0.000000</td>\n",
       "      <td>0.000000</td>\n",
       "      <td>NaN</td>\n",
       "      <td>NaN</td>\n",
       "      <td>NaN</td>\n",
       "      <td>NaN</td>\n",
       "      <td>NaN</td>\n",
       "      <td>1.816119</td>\n",
       "      <td>&lt;map object at 0x000002B328BD8C40&gt;</td>\n",
       "      <td>NaN</td>\n",
       "      <td>NaN</td>\n",
       "      <td>9019</td>\n",
       "    </tr>\n",
       "    <tr>\n",
       "      <th>3257</th>\n",
       "      <td>1</td>\n",
       "      <td>117.0</td>\n",
       "      <td>5.80</td>\n",
       "      <td>1387.794922</td>\n",
       "      <td>14376.097656</td>\n",
       "      <td>-148.002197</td>\n",
       "      <td>213.771485</td>\n",
       "      <td>260.005573</td>\n",
       "      <td>5.200111</td>\n",
       "      <td>5.200111</td>\n",
       "      <td>NaN</td>\n",
       "      <td>NaN</td>\n",
       "      <td>1.862475</td>\n",
       "      <td>&lt;map object at 0x000002B328BD8C40&gt;</td>\n",
       "      <td>5.200111</td>\n",
       "      <td>NaN</td>\n",
       "      <td>9019</td>\n",
       "    </tr>\n",
       "    <tr>\n",
       "      <th>3258</th>\n",
       "      <td>2</td>\n",
       "      <td>118.0</td>\n",
       "      <td>5.85</td>\n",
       "      <td>1605.792480</td>\n",
       "      <td>14220.036133</td>\n",
       "      <td>-217.997558</td>\n",
       "      <td>156.061523</td>\n",
       "      <td>268.100978</td>\n",
       "      <td>5.362020</td>\n",
       "      <td>5.362020</td>\n",
       "      <td>NaN</td>\n",
       "      <td>NaN</td>\n",
       "      <td>1.795576</td>\n",
       "      <td>&lt;map object at 0x000002B328BD8C40&gt;</td>\n",
       "      <td>5.362020</td>\n",
       "      <td>NaN</td>\n",
       "      <td>9019</td>\n",
       "    </tr>\n",
       "    <tr>\n",
       "      <th>3259</th>\n",
       "      <td>3</td>\n",
       "      <td>119.0</td>\n",
       "      <td>5.90</td>\n",
       "      <td>1700.908081</td>\n",
       "      <td>14087.122070</td>\n",
       "      <td>-95.115601</td>\n",
       "      <td>132.914063</td>\n",
       "      <td>163.441505</td>\n",
       "      <td>3.268830</td>\n",
       "      <td>3.268830</td>\n",
       "      <td>NaN</td>\n",
       "      <td>NaN</td>\n",
       "      <td>1.697428</td>\n",
       "      <td>&lt;map object at 0x000002B328BD8C40&gt;</td>\n",
       "      <td>3.268830</td>\n",
       "      <td>NaN</td>\n",
       "      <td>9019</td>\n",
       "    </tr>\n",
       "    <tr>\n",
       "      <th>3260</th>\n",
       "      <td>4</td>\n",
       "      <td>120.0</td>\n",
       "      <td>5.95</td>\n",
       "      <td>1789.363525</td>\n",
       "      <td>14006.610352</td>\n",
       "      <td>-88.455444</td>\n",
       "      <td>80.511718</td>\n",
       "      <td>119.609792</td>\n",
       "      <td>2.392196</td>\n",
       "      <td>2.392196</td>\n",
       "      <td>NaN</td>\n",
       "      <td>NaN</td>\n",
       "      <td>1.687453</td>\n",
       "      <td>&lt;map object at 0x000002B328BD8C40&gt;</td>\n",
       "      <td>2.392196</td>\n",
       "      <td>NaN</td>\n",
       "      <td>9019</td>\n",
       "    </tr>\n",
       "    <tr>\n",
       "      <th>...</th>\n",
       "      <td>...</td>\n",
       "      <td>...</td>\n",
       "      <td>...</td>\n",
       "      <td>...</td>\n",
       "      <td>...</td>\n",
       "      <td>...</td>\n",
       "      <td>...</td>\n",
       "      <td>...</td>\n",
       "      <td>...</td>\n",
       "      <td>...</td>\n",
       "      <td>...</td>\n",
       "      <td>...</td>\n",
       "      <td>...</td>\n",
       "      <td>...</td>\n",
       "      <td>...</td>\n",
       "      <td>...</td>\n",
       "      <td>...</td>\n",
       "    </tr>\n",
       "    <tr>\n",
       "      <th>3348</th>\n",
       "      <td>92</td>\n",
       "      <td>208.0</td>\n",
       "      <td>10.35</td>\n",
       "      <td>14433.859375</td>\n",
       "      <td>7835.968750</td>\n",
       "      <td>338.160156</td>\n",
       "      <td>-139.693848</td>\n",
       "      <td>365.877934</td>\n",
       "      <td>7.317559</td>\n",
       "      <td>-7.317559</td>\n",
       "      <td>4.286188</td>\n",
       "      <td>1.111992</td>\n",
       "      <td>NaN</td>\n",
       "      <td>&lt;map object at 0x000002B328BD8C40&gt;</td>\n",
       "      <td>7.317559</td>\n",
       "      <td>NaN</td>\n",
       "      <td>9019</td>\n",
       "    </tr>\n",
       "    <tr>\n",
       "      <th>3349</th>\n",
       "      <td>93</td>\n",
       "      <td>209.0</td>\n",
       "      <td>10.40</td>\n",
       "      <td>12465.467773</td>\n",
       "      <td>7815.238770</td>\n",
       "      <td>1968.391602</td>\n",
       "      <td>20.729980</td>\n",
       "      <td>1968.500757</td>\n",
       "      <td>39.370015</td>\n",
       "      <td>39.370015</td>\n",
       "      <td>7.943389</td>\n",
       "      <td>4.769193</td>\n",
       "      <td>NaN</td>\n",
       "      <td>&lt;map object at 0x000002B328BD8C40&gt;</td>\n",
       "      <td>39.370015</td>\n",
       "      <td>NaN</td>\n",
       "      <td>9019</td>\n",
       "    </tr>\n",
       "    <tr>\n",
       "      <th>3350</th>\n",
       "      <td>94</td>\n",
       "      <td>210.0</td>\n",
       "      <td>10.45</td>\n",
       "      <td>11592.162109</td>\n",
       "      <td>8004.518066</td>\n",
       "      <td>873.305664</td>\n",
       "      <td>-189.279296</td>\n",
       "      <td>893.582360</td>\n",
       "      <td>17.871647</td>\n",
       "      <td>-17.871647</td>\n",
       "      <td>9.357546</td>\n",
       "      <td>2.609021</td>\n",
       "      <td>NaN</td>\n",
       "      <td>&lt;map object at 0x000002B328BD8C40&gt;</td>\n",
       "      <td>17.871647</td>\n",
       "      <td>NaN</td>\n",
       "      <td>9019</td>\n",
       "    </tr>\n",
       "    <tr>\n",
       "      <th>3351</th>\n",
       "      <td>95</td>\n",
       "      <td>211.0</td>\n",
       "      <td>10.50</td>\n",
       "      <td>10431.039063</td>\n",
       "      <td>8092.572266</td>\n",
       "      <td>1161.123046</td>\n",
       "      <td>-88.054200</td>\n",
       "      <td>1164.457071</td>\n",
       "      <td>23.289141</td>\n",
       "      <td>-23.289141</td>\n",
       "      <td>11.237090</td>\n",
       "      <td>-0.169264</td>\n",
       "      <td>NaN</td>\n",
       "      <td>&lt;map object at 0x000002B328BD8C40&gt;</td>\n",
       "      <td>23.289141</td>\n",
       "      <td>NaN</td>\n",
       "      <td>9019</td>\n",
       "    </tr>\n",
       "    <tr>\n",
       "      <th>3352</th>\n",
       "      <td>96</td>\n",
       "      <td>212.0</td>\n",
       "      <td>10.55</td>\n",
       "      <td>9561.272461</td>\n",
       "      <td>8330.590820</td>\n",
       "      <td>869.766602</td>\n",
       "      <td>-238.018554</td>\n",
       "      <td>901.746513</td>\n",
       "      <td>18.034930</td>\n",
       "      <td>-18.034930</td>\n",
       "      <td>12.586516</td>\n",
       "      <td>-1.518690</td>\n",
       "      <td>NaN</td>\n",
       "      <td>&lt;map object at 0x000002B328BD8C40&gt;</td>\n",
       "      <td>18.034930</td>\n",
       "      <td>NaN</td>\n",
       "      <td>9019</td>\n",
       "    </tr>\n",
       "  </tbody>\n",
       "</table>\n",
       "<p>97 rows × 17 columns</p>\n",
       "</div>"
      ],
      "text/plain": [
       "      timepoint  frame  time[s]  x_position[nm]  y_position[nm]  \\\n",
       "3256          0  116.0     5.75     1239.792725    14589.869141   \n",
       "3257          1  117.0     5.80     1387.794922    14376.097656   \n",
       "3258          2  118.0     5.85     1605.792480    14220.036133   \n",
       "3259          3  119.0     5.90     1700.908081    14087.122070   \n",
       "3260          4  120.0     5.95     1789.363525    14006.610352   \n",
       "...         ...    ...      ...             ...             ...   \n",
       "3348         92  208.0    10.35    14433.859375     7835.968750   \n",
       "3349         93  209.0    10.40    12465.467773     7815.238770   \n",
       "3350         94  210.0    10.45    11592.162109     8004.518066   \n",
       "3351         95  211.0    10.50    10431.039063     8092.572266   \n",
       "3352         96  212.0    10.55     9561.272461     8330.590820   \n",
       "\n",
       "      x_displacement[nm]  y_displacement[nm]  Euclidean_p2p_distance[nm]  \\\n",
       "3256            0.000000            0.000000                         NaN   \n",
       "3257         -148.002197          213.771485                  260.005573   \n",
       "3258         -217.997558          156.061523                  268.100978   \n",
       "3259          -95.115601          132.914063                  163.441505   \n",
       "3260          -88.455444           80.511718                  119.609792   \n",
       "...                  ...                 ...                         ...   \n",
       "3348          338.160156         -139.693848                  365.877934   \n",
       "3349         1968.391602           20.729980                 1968.500757   \n",
       "3350          873.305664         -189.279296                  893.582360   \n",
       "3351         1161.123046          -88.054200                 1164.457071   \n",
       "3352          869.766602         -238.018554                  901.746513   \n",
       "\n",
       "      Speed[um/s]  Velocity[um/s]  Speed_rolling_average[um/s]  \\\n",
       "3256          NaN             NaN                          NaN   \n",
       "3257     5.200111        5.200111                          NaN   \n",
       "3258     5.362020        5.362020                          NaN   \n",
       "3259     3.268830        3.268830                          NaN   \n",
       "3260     2.392196        2.392196                          NaN   \n",
       "...           ...             ...                          ...   \n",
       "3348     7.317559       -7.317559                     4.286188   \n",
       "3349    39.370015       39.370015                     7.943389   \n",
       "3350    17.871647      -17.871647                     9.357546   \n",
       "3351    23.289141      -23.289141                    11.237090   \n",
       "3352    18.034930      -18.034930                    12.586516   \n",
       "\n",
       "      Velocity_rolling_average[um/s]     Alpha  \\\n",
       "3256                             NaN  1.816119   \n",
       "3257                             NaN  1.862475   \n",
       "3258                             NaN  1.795576   \n",
       "3259                             NaN  1.697428   \n",
       "3260                             NaN  1.687453   \n",
       "...                              ...       ...   \n",
       "3348                        1.111992       NaN   \n",
       "3349                        4.769193       NaN   \n",
       "3350                        2.609021       NaN   \n",
       "3351                       -0.169264       NaN   \n",
       "3352                       -1.518690       NaN   \n",
       "\n",
       "                                      Gs        MSD  Dataset  Molecule#  \n",
       "3256  <map object at 0x000002B328BD8C40>        NaN      NaN       9019  \n",
       "3257  <map object at 0x000002B328BD8C40>   5.200111      NaN       9019  \n",
       "3258  <map object at 0x000002B328BD8C40>   5.362020      NaN       9019  \n",
       "3259  <map object at 0x000002B328BD8C40>   3.268830      NaN       9019  \n",
       "3260  <map object at 0x000002B328BD8C40>   2.392196      NaN       9019  \n",
       "...                                  ...        ...      ...        ...  \n",
       "3348  <map object at 0x000002B328BD8C40>   7.317559      NaN       9019  \n",
       "3349  <map object at 0x000002B328BD8C40>  39.370015      NaN       9019  \n",
       "3350  <map object at 0x000002B328BD8C40>  17.871647      NaN       9019  \n",
       "3351  <map object at 0x000002B328BD8C40>  23.289141      NaN       9019  \n",
       "3352  <map object at 0x000002B328BD8C40>  18.034930      NaN       9019  \n",
       "\n",
       "[97 rows x 17 columns]"
      ]
     },
     "execution_count": 45,
     "metadata": {},
     "output_type": "execute_result"
    }
   ],
   "source": [
    "mol"
   ]
  },
  {
   "cell_type": "code",
   "execution_count": 62,
   "metadata": {},
   "outputs": [
    {
     "data": {
      "application/vnd.jupyter.widget-view+json": {
       "model_id": "27660ed5b7854d62af1bab0a5067a733",
       "version_major": 2,
       "version_minor": 0
      },
      "text/plain": [
       "Canvas(toolbar=Toolbar(toolitems=[('Home', 'Reset original view', 'home', 'home'), ('Back', 'Back to previous …"
      ]
     },
     "metadata": {},
     "output_type": "display_data"
    },
    {
     "data": {
      "text/plain": [
       "<matplotlib.collections.PathCollection at 0x17095597fc8>"
      ]
     },
     "execution_count": 62,
     "metadata": {},
     "output_type": "execute_result"
    }
   ],
   "source": [
    "fig, ax = plt.subplots()\n",
    "\n",
    "ax.scatter(mol['time[s]'],mol['Velocity_rolling_average[um/s]'])"
   ]
  },
  {
   "cell_type": "code",
   "execution_count": 51,
   "metadata": {},
   "outputs": [
    {
     "data": {
      "application/vnd.jupyter.widget-view+json": {
       "model_id": "553888fa5c014d5d978aac17f126595d",
       "version_major": 2,
       "version_minor": 0
      },
      "text/plain": [
       "Canvas(toolbar=Toolbar(toolitems=[('Home', 'Reset original view', 'home', 'home'), ('Back', 'Back to previous …"
      ]
     },
     "metadata": {},
     "output_type": "display_data"
    },
    {
     "data": {
      "text/plain": [
       "<matplotlib.collections.PathCollection at 0x17095e5f208>"
      ]
     },
     "execution_count": 51,
     "metadata": {},
     "output_type": "execute_result"
    }
   ],
   "source": [
    "fig, ax = plt.subplots()\n",
    "ax.scatter(mol['time[s]'],mol['y_position[nm]'])"
   ]
  },
  {
   "cell_type": "code",
   "execution_count": 96,
   "metadata": {},
   "outputs": [],
   "source": [
    "s1 = line[160:2178]\n",
    "s2 = data[\"Vnet\"]\n",
    "s1 = (s1-np.mean(s1))/np.std(s1)\n",
    "s2 = (s2-np.mean(s2))/np.std(s2)\n",
    "sd = 1/np.sqrt(data[\"Vtot\"])\n",
    "lags = np.array(range(-len(s1)//2,len(s1)//2))*0.05"
   ]
  },
  {
   "cell_type": "code",
   "execution_count": 97,
   "metadata": {},
   "outputs": [
    {
     "data": {
      "application/vnd.jupyter.widget-view+json": {
       "model_id": "3b0cc22912f5425392c3b98f63c7913c",
       "version_major": 2,
       "version_minor": 0
      },
      "text/plain": [
       "Canvas(toolbar=Toolbar(toolitems=[('Home', 'Reset original view', 'home', 'home'), ('Back', 'Back to previous …"
      ]
     },
     "metadata": {},
     "output_type": "display_data"
    },
    {
     "data": {
      "text/plain": [
       "[<matplotlib.lines.Line2D at 0x2e103b4ae08>]"
      ]
     },
     "execution_count": 97,
     "metadata": {},
     "output_type": "execute_result"
    }
   ],
   "source": [
    "fig, ax = plt.subplots()\n",
    "ax.plot(data[\"Vnet\"])\n",
    "ax.plot(data[\"Vnet\"])"
   ]
  },
  {
   "cell_type": "code",
   "execution_count": 63,
   "metadata": {},
   "outputs": [
    {
     "data": {
      "application/vnd.jupyter.widget-view+json": {
       "model_id": "e3924697f3684f38b912e5421f13f151",
       "version_major": 2,
       "version_minor": 0
      },
      "text/plain": [
       "Canvas(toolbar=Toolbar(toolitems=[('Home', 'Reset original view', 'home', 'home'), ('Back', 'Back to previous …"
      ]
     },
     "metadata": {},
     "output_type": "display_data"
    },
    {
     "data": {
      "text/plain": [
       "<matplotlib.legend.Legend at 0x2e10102d848>"
      ]
     },
     "execution_count": 63,
     "metadata": {},
     "output_type": "execute_result"
    }
   ],
   "source": [
    "fig, ax = plt.subplots()\n",
    "ax2 = ax.twinx()\n",
    "ax.plot(data[\"frame\"]*0.05,s1,label=\"bulk flow\")\n",
    "ax2.plot(data[\"frame\"]*0.05,s2,color='red',label=\"straight trajectory fluorescence\")\n",
    "ax.set_xlabel(\"time(s)\")\n",
    "# ax.set_yabel(\"\")\n",
    "ax.legend(loc = \"upper right\")\n",
    "ax2.legend(loc = \"upper left\")"
   ]
  },
  {
   "cell_type": "code",
   "execution_count": 87,
   "metadata": {},
   "outputs": [
    {
     "data": {
      "application/vnd.jupyter.widget-view+json": {
       "model_id": "25c38d65e2514cd59da63bd22ddf397b",
       "version_major": 2,
       "version_minor": 0
      },
      "text/plain": [
       "Canvas(toolbar=Toolbar(toolitems=[('Home', 'Reset original view', 'home', 'home'), ('Back', 'Back to previous …"
      ]
     },
     "metadata": {},
     "output_type": "display_data"
    },
    {
     "data": {
      "text/plain": [
       "[<matplotlib.lines.Line2D at 0x2e10a4d1748>]"
      ]
     },
     "execution_count": 87,
     "metadata": {},
     "output_type": "execute_result"
    }
   ],
   "source": [
    "c = correlate(s1,s1,\"same\")\n",
    "fig, ax = plt.subplots()\n",
    "ax.plot(lags,c/len(s1),label=\"bulk flow\")\n",
    "c = correlate(s2,s2,\"same\")\n",
    "ax.plot(lags,c/len(s1),label = \"straight trajectory fluorescence\",color = \"red\")\n",
    "ax.set_xlabel(\"lag (s)\")\n",
    "ax.legend()\n",
    "ax.plot(lags,np.zeros(len(lags))+2/np.sqrt(len(s1)/2),color=\"black\",alpha = 0.3)\n",
    "ax.plot(lags,np.zeros(len(lags))-2/np.sqrt(len(s1)/2),color=\"black\",alpha = 0.3)\n",
    "# ax2.legend(loc = \"upper left\")"
   ]
  },
  {
   "cell_type": "code",
   "execution_count": 89,
   "metadata": {},
   "outputs": [
    {
     "data": {
      "application/vnd.jupyter.widget-view+json": {
       "model_id": "9ecbeb52c2c04d83a26f32eaefe6591a",
       "version_major": 2,
       "version_minor": 0
      },
      "text/plain": [
       "Canvas(toolbar=Toolbar(toolitems=[('Home', 'Reset original view', 'home', 'home'), ('Back', 'Back to previous …"
      ]
     },
     "metadata": {},
     "output_type": "display_data"
    },
    {
     "data": {
      "text/plain": [
       "Text(0.5, 0, 'lag (s)')"
      ]
     },
     "execution_count": 89,
     "metadata": {},
     "output_type": "execute_result"
    }
   ],
   "source": [
    "\n",
    "from scipy.signal import correlate\n",
    "c = correlate(s1,s2,\"same\",\"direct\")\n",
    "fig, ax = plt.subplots()\n",
    "ax.plot(lags,c/len(s1))\n",
    "ax.plot(lags,np.zeros(len(lags))+2/np.sqrt(len(s1)/2),color=\"black\",alpha = 0.3)\n",
    "ax.plot(lags,np.zeros(len(lags))-2/np.sqrt(len(s1)/2),color=\"black\",alpha = 0.3)\n",
    "ax.set_title('cross correlation')\n",
    "ax.set_xlabel(\"lag (s)\")\n"
   ]
  },
  {
   "cell_type": "code",
   "execution_count": 94,
   "metadata": {},
   "outputs": [
    {
     "data": {
      "application/vnd.jupyter.widget-view+json": {
       "model_id": "f7e61c01a0dd487c848a1f7fc520bf7b",
       "version_major": 2,
       "version_minor": 0
      },
      "text/plain": [
       "Canvas(toolbar=Toolbar(toolitems=[('Home', 'Reset original view', 'home', 'home'), ('Back', 'Back to previous …"
      ]
     },
     "metadata": {},
     "output_type": "display_data"
    },
    {
     "data": {
      "text/plain": [
       "Text(0.5, 0, 'lag (s)')"
      ]
     },
     "execution_count": 94,
     "metadata": {},
     "output_type": "execute_result"
    }
   ],
   "source": [
    "from scipy.signal import correlate\n",
    "s1 = np.sin(np.linspace(0,10,100))\n",
    "s2 = np.sin(np.linspace(0,10,100)+1)\n",
    "\n",
    "c = correlate(s1,s2,\"same\",\"direct\")\n",
    "fig, ax = plt.subplots()\n",
    "ax.plot(np.linspace(-5,5,100),c/len(s1))\n",
    "ax.set_title('cross correlation')\n",
    "ax.set_xlabel(\"lag (s)\")\n"
   ]
  },
  {
   "cell_type": "code",
   "execution_count": 95,
   "metadata": {},
   "outputs": [
    {
     "data": {
      "application/vnd.jupyter.widget-view+json": {
       "model_id": "3486ff02ead64cffaf13e30f0c7cd325",
       "version_major": 2,
       "version_minor": 0
      },
      "text/plain": [
       "Canvas(toolbar=Toolbar(toolitems=[('Home', 'Reset original view', 'home', 'home'), ('Back', 'Back to previous …"
      ]
     },
     "metadata": {},
     "output_type": "display_data"
    },
    {
     "data": {
      "text/plain": [
       "[<matplotlib.lines.Line2D at 0x2e10b66e188>]"
      ]
     },
     "execution_count": 95,
     "metadata": {},
     "output_type": "execute_result"
    }
   ],
   "source": [
    "fig, ax = plt.subplots()\n",
    "ax.plot(s1,label=\"bulk flow\")\n",
    "ax.plot(s2,color='red',label=\"straight trajectory fluorescence\")\n"
   ]
  },
  {
   "cell_type": "code",
   "execution_count": 87,
   "metadata": {},
   "outputs": [],
   "source": [
    "np.save('speeds',np.tan((np.mean(imgOrientation,axis=1)-90)/180*np.pi))"
   ]
  },
  {
   "cell_type": "code",
   "execution_count": 66,
   "metadata": {},
   "outputs": [
    {
     "data": {
      "application/vnd.jupyter.widget-view+json": {
       "model_id": "c65149a81173449e931d8ef025e13286",
       "version_major": 2,
       "version_minor": 0
      },
      "text/plain": [
       "Canvas(toolbar=Toolbar(toolitems=[('Home', 'Reset original view', 'home', 'home'), ('Back', 'Back to previous …"
      ]
     },
     "metadata": {},
     "output_type": "display_data"
    },
    {
     "data": {
      "text/plain": [
       "<matplotlib.image.AxesImage at 0x1de89d69108>"
      ]
     },
     "execution_count": 66,
     "metadata": {},
     "output_type": "execute_result"
    }
   ],
   "source": [
    "fig, ax = plt.subplots()\n",
    "ax.imshow(imgIn,cmap=\"gray\")\n",
    "ax.imshow(imgOrientation,alpha=0.3,cmap=\"jet\")\n",
    "# ax.imshow(0*imgIn,cmap='jet',alpha = 0.3)\n",
    "# ax.imshow(imgOrientation*(imgCoherency>0.6)*(imgOrientation<75),alpha=0.5,cmap=\"jet\")"
   ]
  },
  {
   "cell_type": "code",
   "execution_count": 70,
   "metadata": {},
   "outputs": [
    {
     "data": {
      "application/vnd.jupyter.widget-view+json": {
       "model_id": "38b59e8d28d9468483b802e30cf1a2db",
       "version_major": 2,
       "version_minor": 0
      },
      "text/plain": [
       "Canvas(toolbar=Toolbar(toolitems=[('Home', 'Reset original view', 'home', 'home'), ('Back', 'Back to previous …"
      ]
     },
     "metadata": {},
     "output_type": "display_data"
    },
    {
     "data": {
      "text/plain": [
       "[<matplotlib.lines.Line2D at 0x1de8ab6e208>]"
      ]
     },
     "execution_count": 70,
     "metadata": {},
     "output_type": "execute_result"
    }
   ],
   "source": [
    "fig, ax = plt.subplots()\n",
    "ax.plot(np.mean(imgOrientation,axis=1))"
   ]
  },
  {
   "cell_type": "code",
   "execution_count": 41,
   "metadata": {},
   "outputs": [
    {
     "data": {
      "application/vnd.jupyter.widget-view+json": {
       "model_id": "afdf5e5e0e2049e4bb3aad61b104be7f",
       "version_major": 2,
       "version_minor": 0
      },
      "text/plain": [
       "Canvas(toolbar=Toolbar(toolitems=[('Home', 'Reset original view', 'home', 'home'), ('Back', 'Back to previous …"
      ]
     },
     "metadata": {},
     "output_type": "display_data"
    },
    {
     "data": {
      "text/plain": [
       "<matplotlib.image.AxesImage at 0x1dee7936b48>"
      ]
     },
     "execution_count": 41,
     "metadata": {},
     "output_type": "execute_result"
    }
   ],
   "source": [
    "fig, ax = plt.subplots()\n",
    "ax.imshow(imgIn,cmap=\"gray\")\n",
    "ax.imshow(imgCoherency,alpha=0.3,cmap=\"jet\")\n",
    "# ax.imshow(0*imgIn,cmap='jet',alpha = 0.3)\n",
    "# ax.imshow(imgOrientation*(imgCoherency>0.6),alpha=0.5,cmap=\"jet\")"
   ]
  },
  {
   "cell_type": "code",
   "execution_count": 19,
   "metadata": {},
   "outputs": [
    {
     "data": {
      "application/vnd.jupyter.widget-view+json": {
       "model_id": "101db817ca0c4bb3bc1dc789744ab7e9",
       "version_major": 2,
       "version_minor": 0
      },
      "text/plain": [
       "Canvas(toolbar=Toolbar(toolitems=[('Home', 'Reset original view', 'home', 'home'), ('Back', 'Back to previous …"
      ]
     },
     "metadata": {},
     "output_type": "display_data"
    },
    {
     "data": {
      "text/plain": [
       "<matplotlib.image.AxesImage at 0x1dee443e408>"
      ]
     },
     "execution_count": 19,
     "metadata": {},
     "output_type": "execute_result"
    }
   ],
   "source": [
    "fig, ax = plt.subplots()\n",
    "ax.imshow(imgIn,cmap=\"gray\")"
   ]
  }
 ],
 "metadata": {
  "kernelspec": {
   "display_name": "Python 3",
   "language": "python",
   "name": "python3"
  },
  "language_info": {
   "codemirror_mode": {
    "name": "ipython",
    "version": 3
   },
   "file_extension": ".py",
   "mimetype": "text/x-python",
   "name": "python",
   "nbconvert_exporter": "python",
   "pygments_lexer": "ipython3",
   "version": "3.7.9"
  }
 },
 "nbformat": 4,
 "nbformat_minor": 4
}
