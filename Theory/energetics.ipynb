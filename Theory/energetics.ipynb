{
 "cells": [
  {
   "cell_type": "code",
   "execution_count": 1,
   "metadata": {},
   "outputs": [],
   "source": [
    "import matplotlib.pyplot as plt\n",
    "import numpy as np\n",
    "import pandas as pd"
   ]
  },
  {
   "cell_type": "code",
   "execution_count": 2,
   "metadata": {},
   "outputs": [
    {
     "data": {
      "text/plain": [
       "1.0687698207512475"
      ]
     },
     "execution_count": 2,
     "metadata": {},
     "output_type": "execute_result"
    }
   ],
   "source": [
    "#power provided by one hypha\n",
    "rho_TAG = 0.18\n",
    "eTAG = 30e-3 #uJ.um-3 30MJ.L-1\n",
    "rho_e = rho_TAG*eTAG #uJ.um-3\n",
    "r_hypha = 3 #um\n",
    "v_transport = 7 #um.s-1\n",
    "Ptrunk = np.pi*r_hypha**2*rho_e*v_transport #uW\n",
    "Ptrunk"
   ]
  },
  {
   "cell_type": "code",
   "execution_count": 3,
   "metadata": {},
   "outputs": [
    {
     "data": {
      "text/plain": [
       "0.10260190279211977"
      ]
     },
     "execution_count": 3,
     "metadata": {},
     "output_type": "execute_result"
    }
   ],
   "source": [
    "phi_TAG = v_transport*rho_TAG*np.pi*r_hypha**2 #um3.s-1\n",
    "phi_TAG = phi_TAG*3600 #um3.h-1\n",
    "phi_TAG = phi_TAG/1e15*0.8*1e9 #ug.h-1\n",
    "phi_TAG"
   ]
  },
  {
   "cell_type": "code",
   "execution_count": 5,
   "metadata": {},
   "outputs": [
    {
     "data": {
      "text/plain": [
       "2827.4333882308138"
      ]
     },
     "execution_count": 5,
     "metadata": {},
     "output_type": "execute_result"
    }
   ],
   "source": [
    "density = 1 #mm.mm-2\n",
    "density = 100 #mm.cm-2\n",
    "density = density*1e6 #um.cm-2\n",
    "volume_density = density * np.pi*r_hypha**2 #um**3.cm-2 fl.cm-2\n",
    "mass_density = volume_density * 1e-15 #kg.cm-2 \n",
    "mass_density = mass_density * 1e9 #ug.cm-2\n",
    "mass_density"
   ]
  },
  {
   "cell_type": "markdown",
   "metadata": {},
   "source": [
    "***spore loading***"
   ]
  },
  {
   "cell_type": "code",
   "execution_count": 4,
   "metadata": {},
   "outputs": [
    {
     "data": {
      "text/plain": [
       "339.2920065876977"
      ]
     },
     "execution_count": 4,
     "metadata": {},
     "output_type": "execute_result"
    }
   ],
   "source": [
    "mean_spore_diameter = 60 #um\n",
    "spore_volume = (mean_spore_diameter/2)**3*4/3*np.pi\n",
    "rho_TAG = 0.1\n",
    "e_spore = spore_volume*rho_TAG*eTAG\n",
    "e_spore #uJ"
   ]
  },
  {
   "cell_type": "code",
   "execution_count": 7,
   "metadata": {},
   "outputs": [
    {
     "ename": "NameError",
     "evalue": "name 'e_total_prot_synth' is not defined",
     "output_type": "error",
     "traceback": [
      "\u001b[1;31m---------------------------------------------------------------------------\u001b[0m",
      "\u001b[1;31mNameError\u001b[0m                                 Traceback (most recent call last)",
      "\u001b[1;32m<ipython-input-7-2eedcd9adbdb>\u001b[0m in \u001b[0;36m<module>\u001b[1;34m\u001b[0m\n\u001b[1;32m----> 1\u001b[1;33m \u001b[0mreachable_length\u001b[0m \u001b[1;33m=\u001b[0m \u001b[0me_spore\u001b[0m\u001b[1;33m/\u001b[0m\u001b[0me_total_prot_synth\u001b[0m\u001b[1;33m\u001b[0m\u001b[1;33m\u001b[0m\u001b[0m\n\u001b[0m\u001b[0;32m      2\u001b[0m \u001b[0mreachable_length\u001b[0m\u001b[1;33m\u001b[0m\u001b[1;33m\u001b[0m\u001b[0m\n",
      "\u001b[1;31mNameError\u001b[0m: name 'e_total_prot_synth' is not defined"
     ]
    }
   ],
   "source": [
    "reachable_length = e_spore/e_total_prot_synth\n",
    "reachable_length"
   ]
  },
  {
   "cell_type": "code",
   "execution_count": 6,
   "metadata": {},
   "outputs": [
    {
     "data": {
      "text/plain": [
       "8.379e-05"
      ]
     },
     "execution_count": 6,
     "metadata": {},
     "output_type": "execute_result"
    }
   ],
   "source": [
    "r_vesicle = 1 #um\n",
    "e_walking = 100 #ATP.um-1\n",
    "e_ATP= 1.33e-13 #uJ.ATP-1\n",
    "Pwalking =v_transport * e_walking*e_ATP #uW\n",
    "p_transport = rho_TAG*Pwalking*r_hypha**2/(r_vesicle**3) #uW.um-1\n",
    "L = 1e6 #um\n",
    "P_transport = L*p_transport #uW\n",
    "P_transport"
   ]
  },
  {
   "cell_type": "code",
   "execution_count": 8,
   "metadata": {},
   "outputs": [
    {
     "ename": "NameError",
     "evalue": "name 'e_total_prot_synth' is not defined",
     "output_type": "error",
     "traceback": [
      "\u001b[1;31m---------------------------------------------------------------------------\u001b[0m",
      "\u001b[1;31mNameError\u001b[0m                                 Traceback (most recent call last)",
      "\u001b[1;32m<ipython-input-8-a93712757ea9>\u001b[0m in \u001b[0;36m<module>\u001b[1;34m\u001b[0m\n\u001b[1;32m----> 1\u001b[1;33m \u001b[0me_total_prot_synth\u001b[0m\u001b[1;33m\u001b[0m\u001b[1;33m\u001b[0m\u001b[0m\n\u001b[0m",
      "\u001b[1;31mNameError\u001b[0m: name 'e_total_prot_synth' is not defined"
     ]
    }
   ],
   "source": [
    "e_total_prot_synth"
   ]
  },
  {
   "cell_type": "code",
   "execution_count": 9,
   "metadata": {},
   "outputs": [
    {
     "data": {
      "text/plain": [
       "0.15041945625387926"
      ]
     },
     "execution_count": 9,
     "metadata": {},
     "output_type": "execute_result"
    }
   ],
   "source": [
    "L_prot = 400 #AA\n",
    "n = 3e6 #um-3\n",
    "Eproteinsynthesis = 4 #ATP.AA-1\n",
    "e_total_prot_synth = Eproteinsynthesis*e_ATP*L_prot*n*np.pi*r_hypha**2 #uJ.um-1\n",
    "v_colony_growth = 30000 #um.h-1\n",
    "v_colony_growth = v_colony_growth/3600 #um.s-1\n",
    "P_total_protein_synthesis = e_total_prot_synth*v_colony_growth #uW\n",
    "P_total_protein_synthesis"
   ]
  },
  {
   "cell_type": "code",
   "execution_count": 10,
   "metadata": {},
   "outputs": [],
   "source": [
    "rho_necessary = P_total_protein_synthesis/(np.pi*r_hypha**2*eTAG*v_transport)"
   ]
  },
  {
   "cell_type": "code",
   "execution_count": 11,
   "metadata": {},
   "outputs": [
    {
     "data": {
      "text/plain": [
       "0.025333333333333326"
      ]
     },
     "execution_count": 11,
     "metadata": {},
     "output_type": "execute_result"
    }
   ],
   "source": [
    "rho_necessary"
   ]
  },
  {
   "cell_type": "markdown",
   "metadata": {},
   "source": [
    "***The CUE approach***"
   ]
  },
  {
   "cell_type": "code",
   "execution_count": 50,
   "metadata": {},
   "outputs": [],
   "source": [
    "num_days = 15\n",
    "r_hypha = 3 #um\n",
    "quad_mod = quadratic_model()\n",
    "v_growth = 300/3600 #um.h-1\n",
    "# density_sat = 1250e-6\n",
    "density_sat = 1800e-6 #mm.mm-2\n",
    "\n",
    "# density_sat = 6e-6\n",
    "init_L = 60000\n",
    "init_area = np.min(data['area_sep_comp'])\n",
    "quad_mod.set_alpha(alpha)\n",
    "quad_mod.set_init_L(init_L)\n",
    "quad_mod.set_init_area(init_area)\n",
    "\n",
    "quad_mod.set_density_sat(density_sat)\n",
    "quad_mod.set_speed_growth(v_growth)\n",
    "t = np.linspace(0,3600*24*num_days,100)\n",
    "Ps = quad_mod.get_P_total_protein_synthesis(t)\n",
    "rhos = Ps/(np.pi*r_hypha**2*eTAG*v_transport)\n",
    "areas = quad_mod.get_area(t)\n",
    "radius = np.sqrt(areas / (np.pi/2))/1000 #mm"
   ]
  },
  {
   "cell_type": "code",
   "execution_count": 51,
   "metadata": {},
   "outputs": [
    {
     "data": {
      "text/plain": [
       "544     7.853626\n",
       "545     7.613929\n",
       "546     8.382391\n",
       "547     8.235578\n",
       "548     8.644636\n",
       "         ...    \n",
       "639    32.689706\n",
       "640    32.935142\n",
       "641    33.011714\n",
       "642    33.338653\n",
       "643    33.370437\n",
       "Name: area_sep_comp, Length: 100, dtype: float64"
      ]
     },
     "execution_count": 51,
     "metadata": {},
     "output_type": "execute_result"
    }
   ],
   "source": [
    "areas_real = data['area_sep_comp']*10**6\n",
    "radius_real = np.sqrt(areas_real.astype(float) / (np.pi/2))/1000 #mm\n",
    "radius_real"
   ]
  },
  {
   "cell_type": "code",
   "execution_count": 58,
   "metadata": {},
   "outputs": [
    {
     "data": {
      "application/vnd.jupyter.widget-view+json": {
       "model_id": "5f444fe428f54707b57b4132619e250e",
       "version_major": 2,
       "version_minor": 0
      },
      "text/plain": [
       "Canvas(toolbar=Toolbar(toolitems=[('Home', 'Reset original view', 'home', 'home'), ('Back', 'Back to previous …"
      ]
     },
     "metadata": {},
     "output_type": "display_data"
    },
    {
     "data": {
      "text/plain": [
       "(0.0, 40.0)"
      ]
     },
     "execution_count": 58,
     "metadata": {},
     "output_type": "execute_result"
    }
   ],
   "source": [
    "fig, ax = plt.subplots()\n",
    "ax.plot(radius,rhos*100)\n",
    "ax.set_ylabel('theoretical % trunk hyphal volume occupied with TAG')\n",
    "ax.set_xlabel('colony radius (mm)')\n",
    "ax.set_ylim((0,50))\n",
    "ax.set_xlim((0,40))"
   ]
  },
  {
   "cell_type": "code",
   "execution_count": 17,
   "metadata": {},
   "outputs": [],
   "source": [
    "class Energetic_model:\n",
    "    def init(self,params):\n",
    "        self.params = params\n",
    "    def set_alpha(self,alpha):\n",
    "        self.alpha = alpha\n",
    "    def set_init_L(self,L):\n",
    "        self.init_L = L\n",
    "    def set_init_area(self,area):\n",
    "        self.init_area = area\n",
    "    def get_L(self,t):\n",
    "        return(None)\n",
    "    def get_L_exp(self,t):\n",
    "        return(self.init_L*np.exp(self.alpha*t))\n",
    "    def set_speed_growth(self,speed_growth):\n",
    "        self.v = speed_growth\n",
    "    def get_v_colony(self,t):\n",
    "        y = self.get_L(t)\n",
    "        dydx = np.gradient(y, t)\n",
    "        return(dydx)\n",
    "    def get_P_total_protein_synthesis(self,t):\n",
    "        return(e_total_prot_synth*self.get_v_colony(t))\n",
    "    def get_P_transport(self,t):\n",
    "        return(p_transport*self.get_L(t))\n",
    "    def get_area(self,t):\n",
    "        return(np.pi/2*(self.v*t)**2+self.init_area)\n",
    "    def get_area_ring(self,t):\n",
    "        return(np.pi*(self.v*t))\n",
    "    \n",
    "class quadratic_model(Energetic_model):\n",
    "    def set_density_sat(self,dens_sat):\n",
    "        self.dens_sat = dens_sat\n",
    "    def get_L(self,t):\n",
    "        L_exp = self.get_L_exp(t)\n",
    "        area = self.get_area(t)\n",
    "        dens = L_exp/area\n",
    "        is_above_sat = dens >=self.dens_sat\n",
    "        return(area * self.dens_sat*is_above_sat+(1-is_above_sat)*self.get_L_exp(t))\n",
    "\n",
    "class exp_model(Energetic_model):\n",
    "    def get_L(self,t):\n",
    "        return(self.get_L_exp(t))"
   ]
  },
  {
   "cell_type": "code",
   "execution_count": 15,
   "metadata": {},
   "outputs": [
    {
     "ename": "NameError",
     "evalue": "name 'data' is not defined",
     "output_type": "error",
     "traceback": [
      "\u001b[1;31m---------------------------------------------------------------------------\u001b[0m",
      "\u001b[1;31mNameError\u001b[0m                                 Traceback (most recent call last)",
      "\u001b[1;32m<ipython-input-15-357d63b317e8>\u001b[0m in \u001b[0;36m<module>\u001b[1;34m\u001b[0m\n\u001b[1;32m----> 1\u001b[1;33m \u001b[0mnp\u001b[0m\u001b[1;33m.\u001b[0m\u001b[0mmin\u001b[0m\u001b[1;33m(\u001b[0m\u001b[0mdata\u001b[0m\u001b[1;33m[\u001b[0m\u001b[1;34m'tot_length_study'\u001b[0m\u001b[1;33m]\u001b[0m\u001b[1;33m/\u001b[0m\u001b[0mdata\u001b[0m\u001b[1;33m[\u001b[0m\u001b[1;34m'area_sep_comp'\u001b[0m\u001b[1;33m]\u001b[0m\u001b[1;33m)\u001b[0m\u001b[1;33m\u001b[0m\u001b[1;33m\u001b[0m\u001b[0m\n\u001b[0m",
      "\u001b[1;31mNameError\u001b[0m: name 'data' is not defined"
     ]
    }
   ],
   "source": [
    "np.min(data['tot_length_study']/data['area_sep_comp'])"
   ]
  },
  {
   "cell_type": "code",
   "execution_count": 30,
   "metadata": {},
   "outputs": [],
   "source": [
    "path_save = r\"C:\\Users\\coren\\Dropbox\\Apps\\Snellius2\\data_tables\\time_plate_infos.pick\"\n",
    "\n",
    "time_plate_info = pd.read_pickle(path_save)\n",
    "data = time_plate_info.loc[time_plate_info['Plate']==94]\n",
    "quad_mod = quadratic_model()\n",
    "alpha = 1.3/(24*3600)\n",
    "v_growth = 300/3600\n",
    "# density_sat = 1250e-6\n",
    "density_sat = 1800e-6\n",
    "\n",
    "# density_sat = 6e-6\n",
    "init_L = 20000\n",
    "init_area = init_L/(np.max(data['tot_length_study']/data['area_sep_comp'])*1e-6)\n",
    "quad_mod.set_alpha(alpha)\n",
    "quad_mod.set_init_L(init_L)\n",
    "quad_mod.set_init_area(init_area)\n",
    "\n",
    "quad_mod.set_density_sat(density_sat)\n",
    "quad_mod.set_speed_growth(v_growth)\n",
    "exp_mod = exp_model()\n",
    "exp_mod.set_alpha(alpha)\n",
    "exp_mod.set_init_L(init_L)\n",
    "exp_mod.set_speed_growth(v_growth)\n",
    "exp_mod.set_init_area(init_area)\n",
    "\n"
   ]
  },
  {
   "cell_type": "code",
   "execution_count": 21,
   "metadata": {},
   "outputs": [
    {
     "data": {
      "application/vnd.jupyter.widget-view+json": {
       "model_id": "04755fd1f7ce43fbad33357266129cff",
       "version_major": 2,
       "version_minor": 0
      },
      "text/plain": [
       "Canvas(toolbar=Toolbar(toolitems=[('Home', 'Reset original view', 'home', 'home'), ('Back', 'Back to previous …"
      ]
     },
     "metadata": {},
     "output_type": "display_data"
    },
    {
     "data": {
      "text/plain": [
       "<matplotlib.legend.Legend at 0x11f72c7e248>"
      ]
     },
     "execution_count": 21,
     "metadata": {},
     "output_type": "execute_result"
    }
   ],
   "source": [
    "%matplotlib widget\n",
    "num_days = 30\n",
    "t = np.linspace(0,3600*24*num_days,100)\n",
    "area = quad_mod.get_area(t)\n",
    "fig, ax = plt.subplots()\n",
    "ax.plot(area,quad_mod.get_L(t),label = 'quadratic')\n",
    "ax.plot(area,exp_mod.get_L(t),label='exponential')\n",
    "ax.scatter(data['area_sep_comp']*10**6,data['tot_length_study'],label='data',s=5)\n",
    "\n",
    "ax.set_yscale('log')\n",
    "ax.set_xscale('log')\n",
    "ax.set_xlabel('area($\\mu m^{2}$)')\n",
    "ax.set_ylabel('Length ($\\mu m$)')\n",
    "ax.vlines(np.max(data['area_sep_comp']*10**6),np.min(quad_mod.get_L(t)),10*np.max(quad_mod.get_L(t)),color=\"red\")\n",
    "ax.set_ylim((1e5,1e12))\n",
    "plt.legend()"
   ]
  },
  {
   "cell_type": "code",
   "execution_count": 11,
   "metadata": {},
   "outputs": [
    {
     "data": {
      "application/vnd.jupyter.widget-view+json": {
       "model_id": "60ff8512a9604c11b5e77e780a4fcaa2",
       "version_major": 2,
       "version_minor": 0
      },
      "text/plain": [
       "Canvas(toolbar=Toolbar(toolitems=[('Home', 'Reset original view', 'home', 'home'), ('Back', 'Back to previous …"
      ]
     },
     "metadata": {},
     "output_type": "display_data"
    },
    {
     "data": {
      "text/plain": [
       "<matplotlib.legend.Legend at 0x23c41e7a9c8>"
      ]
     },
     "execution_count": 11,
     "metadata": {},
     "output_type": "execute_result"
    }
   ],
   "source": [
    "%matplotlib widget\n",
    "\n",
    "fig, ax = plt.subplots()\n",
    "ax.plot(area,quad_mod.get_L(t)/area,label = 'quadratic')\n",
    "ax.plot(area,exp_mod.get_L(t)/area,label='exponential')\n",
    "ax.set_yscale('log')\n",
    "ax.set_xscale('log')\n",
    "ax.set_xlabel('area($\\mu m^{2}$)')\n",
    "ax.set_ylabel('density ($\\mu m.\\mu m^{-2}$)')\n",
    "plt.legend()"
   ]
  },
  {
   "cell_type": "code",
   "execution_count": 8,
   "metadata": {},
   "outputs": [
    {
     "data": {
      "application/vnd.jupyter.widget-view+json": {
       "model_id": "32fd4365bf3f4787b9207eb689e996b8",
       "version_major": 2,
       "version_minor": 0
      },
      "text/plain": [
       "Canvas(toolbar=Toolbar(toolitems=[('Home', 'Reset original view', 'home', 'home'), ('Back', 'Back to previous …"
      ]
     },
     "metadata": {},
     "output_type": "display_data"
    },
    {
     "data": {
      "text/plain": [
       "<matplotlib.legend.Legend at 0x2af487b6e48>"
      ]
     },
     "execution_count": 8,
     "metadata": {},
     "output_type": "execute_result"
    }
   ],
   "source": [
    "%matplotlib widget\n",
    "\n",
    "fig, ax = plt.subplots()\n",
    "y = quad_mod.get_P_transport(t)\n",
    "ax.plot(area,quad_mod.get_P_transport(t),label = 'quadratic')\n",
    "ax.plot(area,exp_mod.get_P_transport(t),label='exponential')\n",
    "ax.plot(area,0*t+3,label = \"Power provided by one trunk hypha\")\n",
    "ax.set_yscale('log')\n",
    "ax.set_xscale('log')\n",
    "ax.set_xlabel('area($\\mu m^{2}$)')\n",
    "ax.set_ylabel('Power required for transport ($\\mu W$)')\n",
    "ax.vlines(np.max(data['area_sep_comp']*10**6),np.min(y),10*np.max(y),color=\"red\")\n",
    "\n",
    "plt.legend()"
   ]
  },
  {
   "cell_type": "code",
   "execution_count": 10,
   "metadata": {},
   "outputs": [
    {
     "data": {
      "application/vnd.jupyter.widget-view+json": {
       "model_id": "173313b7f37c49bfbc6d3c3ff965c9c5",
       "version_major": 2,
       "version_minor": 0
      },
      "text/plain": [
       "Canvas(toolbar=Toolbar(toolitems=[('Home', 'Reset original view', 'home', 'home'), ('Back', 'Back to previous …"
      ]
     },
     "metadata": {},
     "output_type": "display_data"
    },
    {
     "data": {
      "text/plain": [
       "<matplotlib.legend.Legend at 0x2af49d07848>"
      ]
     },
     "execution_count": 10,
     "metadata": {},
     "output_type": "execute_result"
    }
   ],
   "source": [
    "%matplotlib widget\n",
    "\n",
    "fig, ax = plt.subplots()\n",
    "# ax2 = ax.twinx()\n",
    "y = quad_mod.get_P_total_protein_synthesis(t)\n",
    "ax.plot(area,0*t+3,label = \"Power provided by one trunk hypha\")\n",
    "ax.plot(area,quad_mod.get_P_total_protein_synthesis(t),label = 'power required for protein synthesis (travelling wave)')\n",
    "ax.plot(area,exp_mod.get_P_total_protein_synthesis(t),label='power required for protein synthesis (exponential)')\n",
    "ax.plot(area,quad_mod.get_P_transport(t),label = 'power required for molecular motor transport (travelling wave)')\n",
    "ax.plot(area,exp_mod.get_P_transport(t),label='power required for molecular motor transport (exponential)')\n",
    "ax.set_yscale('log')\n",
    "ax.set_xscale('log')\n",
    "# ax2.set_yscale('log')\n",
    "# ax2.set_xscale('log')\n",
    "ax.set_xlabel('area($\\mu m^{2}$)')\n",
    "ax.set_ylabel('Power ($\\mu W$)')\n",
    "# ax.vlines(np.max(data['area_sep_comp']*10**6),np.min(y),10*np.max(y),color=\"red\")\n",
    "ax.vlines(np.max(data['area_sep_comp']*10**6),10e-6,10e12,color=\"black\",linestyle = \"dashed\",label=\"maximum area observed in the experiment\")\n",
    "ax.vlines(8e8,10e-6,10e12,color=\"red\",linestyle = \"dashed\",label = \"point of deviation from the exponential\")\n",
    "\n",
    "ax.legend(fontsize = 6)"
   ]
  }
 ],
 "metadata": {
  "kernelspec": {
   "display_name": "Python 3 (ipykernel)",
   "language": "python",
   "name": "python3"
  },
  "language_info": {
   "codemirror_mode": {
    "name": "ipython",
    "version": 3
   },
   "file_extension": ".py",
   "mimetype": "text/x-python",
   "name": "python",
   "nbconvert_exporter": "python",
   "pygments_lexer": "ipython3",
   "version": "3.10.4"
  }
 },
 "nbformat": 4,
 "nbformat_minor": 4
}
