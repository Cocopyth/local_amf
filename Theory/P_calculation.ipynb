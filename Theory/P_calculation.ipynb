{
 "cells": [
  {
   "cell_type": "code",
   "execution_count": 1,
   "id": "a29f9f31-e488-4c13-81e0-c9a8e49c1e4e",
   "metadata": {},
   "outputs": [],
   "source": [
    "import handcalcs.render\n",
    "import matplotlib.pyplot as plt\n",
    "import numpy as np\n",
    "import pandas as pd\n",
    "from math import pi\n",
    "import forallpeople as si\n",
    "si.environment('custom')\n"
   ]
  },
  {
   "cell_type": "markdown",
   "id": "5458bd4c-7040-4bed-b963-68ec6128fae5",
   "metadata": {},
   "source": [
    "***Extracted parameters***"
   ]
  },
  {
   "cell_type": "code",
   "execution_count": 5,
   "id": "569582bc-4fd6-4bca-935d-37a2ef27d5c8",
   "metadata": {},
   "outputs": [
    {
     "data": {
      "text/latex": [
       "\\[\n",
       "\\begin{aligned}\n",
       "\\mathrm{Km} &= 0.62 \\cdot 1 \\times 10 ^ {-9} \\cdot \\mathrm{si.kg} \\cdot 1 \\times 10 ^ {6} \\cdot \\left( \\mathrm{si.m} \\right) ^{ -3 } \\\\&= 0.62 \\cdot 1 \\times 10 ^ {-9} \\cdot si.kg \\cdot 1 \\times 10 ^ {6} \\cdot \\left( si.m \\right) ^{ -3 } \\\\&= 0.001\\ \\mathrm{kg} \\cdot \\mathrm{m}^{-3}  \\\\[10pt]\n",
       "\\\\[10pt]\n",
       "\\mathrm{Km2} &= 1 \\times 10 ^ {-4} \\cdot 1 \\times 10 ^ {-6} \\cdot \\mathrm{si.mol} \\cdot 1 \\times 10 ^ {6} \\cdot \\left( \\mathrm{si.m} \\right) ^{ -3 } \\\\&= 1 \\times 10 ^ {-4} \\cdot 1 \\times 10 ^ {-6} \\cdot si.mol \\cdot 1 \\times 10 ^ {6} \\cdot \\left( si.m \\right) ^{ -3 } \\\\&= 0.000\\ \\mathrm{kg} \\cdot \\mathrm{m}^{-3}  \\\\[10pt]\n",
       "\\\\[10pt]\n",
       "\\mathrm{Km2} &= \\mathrm{Km2} \\cdot 31 \\cdot 1 \\times 10 ^ {-3} \\cdot \\mathrm{si.kg} \\cdot \\left( \\mathrm{si.mol} \\right) ^{ -1 } \\\\&= 0.000\\ \\mathrm{kg} \\cdot \\mathrm{m}^{-3} \\cdot 31 \\cdot 1 \\times 10 ^ {-3} \\cdot si.kg \\cdot \\left( si.mol \\right) ^{ -1 } \\\\&= 0.000\\ \\mathrm{kg} \\cdot \\mathrm{m}^{-3}  \\\\[10pt]\n",
       "\\end{aligned}\n",
       "\\]"
      ],
      "text/plain": [
       "<IPython.core.display.Latex object>"
      ]
     },
     "metadata": {},
     "output_type": "display_data"
    }
   ],
   "source": [
    "%%render\n",
    "\n",
    "Km = 0.62 *1e-9 *si.kg * 1e6 *si.m**-3\n",
    "Km2 = 1e-4*1e-6*si.mol*1e6*si.m**-3\n",
    "Km2 = Km2 * 31*1e-3*si.kg*si.mol**-1"
   ]
  },
  {
   "cell_type": "code",
   "execution_count": 24,
   "id": "1e9444ac-ea2c-46cc-9903-19bec3e77be4",
   "metadata": {},
   "outputs": [
    {
     "data": {
      "text/plain": [
       "199.99999999999997"
      ]
     },
     "execution_count": 24,
     "metadata": {},
     "output_type": "execute_result"
    }
   ],
   "source": [
    "Km/Km2"
   ]
  },
  {
   "cell_type": "code",
   "execution_count": 22,
   "id": "70c0c901-f4af-4c7a-8c77-f85e559558e9",
   "metadata": {},
   "outputs": [
    {
     "data": {
      "text/latex": [
       "\\[\n",
       "\\begin{aligned}\n",
       "\\mathrm{Fmax2} &= 3 \\times 10 ^ {-6} \\cdot 1 \\times 10 ^ {-6} \\cdot \\mathrm{si.mol} \\cdot 1 \\times 10 ^ {4} \\cdot \\left( \\mathrm{si.m} \\right) ^{ -2 } \\cdot \\left( \\mathrm{si.s} \\right) ^{ -1 } \\\\&= 3 \\times 10 ^ {-6} \\cdot 1 \\times 10 ^ {-6} \\cdot si.mol \\cdot 1 \\times 10 ^ {4} \\cdot \\left( si.m \\right) ^{ -2 } \\cdot \\left( si.s \\right) ^{ -1 } \\\\&= 0.000\\ \\mathrm{kg} \\cdot \\mathrm{m}^{-2} \\cdot \\mathrm{s}^{-1}  \\\\[10pt]\n",
       "\\\\[10pt]\n",
       "\\mathrm{Fmax2} &= \\mathrm{Fmax2} \\cdot 31 \\cdot 1 \\times 10 ^ {-3} \\cdot \\mathrm{si.kg} \\cdot \\left( \\mathrm{si.mol} \\right) ^{ -1 } \\\\&= 0.000\\ \\mathrm{kg} \\cdot \\mathrm{m}^{-2} \\cdot \\mathrm{s}^{-1} \\cdot 31 \\cdot 1 \\times 10 ^ {-3} \\cdot si.kg \\cdot \\left( si.mol \\right) ^{ -1 } \\\\&= 0.000\\ \\mathrm{kg} \\cdot \\mathrm{m}^{-2} \\cdot \\mathrm{s}^{-1}  \\\\[10pt]\n",
       "\\\\[10pt]\n",
       "\\mathrm{Fmax} &= 2.8 \\times 10 ^ {-9} \\cdot \\mathrm{si.kg} \\cdot 1 \\times 10 ^ {-9} \\cdot 1 \\times 10 ^ {12} \\cdot \\left( \\mathrm{si.m} \\right) ^{ -2 } \\cdot \\frac{ 1 }{ 3600 } \\cdot \\left( \\mathrm{si.s} \\right) ^{ -1 } \\\\&= 2.8 \\times 10 ^ {-9} \\cdot si.kg \\cdot 1 \\times 10 ^ {-9} \\cdot 1 \\times 10 ^ {12} \\cdot \\left( si.m \\right) ^{ -2 } \\cdot \\frac{ 1 }{ 3600 } \\cdot \\left( si.s \\right) ^{ -1 } \\\\&= 0.000\\ \\mathrm{kg} \\cdot \\mathrm{m}^{-2} \\cdot \\mathrm{s}^{-1}  \\\\[10pt]\n",
       "\\end{aligned}\n",
       "\\]"
      ],
      "text/plain": [
       "<IPython.core.display.Latex object>"
      ]
     },
     "metadata": {},
     "output_type": "display_data"
    }
   ],
   "source": [
    "%%render\n",
    "Fmax2 = 3e-6*1e-6*si.mol*1e4*si.m**-2*si.s**-1\n",
    "Fmax2 =  Fmax2 * 31*1e-3*si.kg*si.mol**-1\n",
    "Fmax = 2.8e-9*si.kg*1e-9*1e12*si.m**-2*1/3600*si.s**-1\n"
   ]
  },
  {
   "cell_type": "code",
   "execution_count": 23,
   "id": "ad5d4b29-d990-49b5-b4ef-1cedf2714179",
   "metadata": {},
   "outputs": [
    {
     "data": {
      "text/plain": [
       "0.8363201911589008"
      ]
     },
     "execution_count": 23,
     "metadata": {},
     "output_type": "execute_result"
    }
   ],
   "source": [
    "Fmax/Fmax2"
   ]
  },
  {
   "cell_type": "markdown",
   "id": "d71cb265-a296-45c9-801e-acc01781bb4f",
   "metadata": {},
   "source": [
    "***from method section written by Malin in 100%P plates***"
   ]
  },
  {
   "cell_type": "code",
   "execution_count": 12,
   "id": "7ef64a10-028b-42b3-8a95-ea3c42c61dc2",
   "metadata": {},
   "outputs": [
    {
     "data": {
      "text/latex": [
       "\\[\n",
       "\\begin{aligned}\n",
       "C_{P} &= 4.1 \\cdot 1 \\times 10 ^ {-6} \\cdot 1 \\times 10 ^ {3} \\cdot \\mathrm{si.kg} \\cdot \\left( \\mathrm{si.m} \\right) ^{ -3 } \\\\&= 4.1 \\cdot 1 \\times 10 ^ {-6} \\cdot 1 \\times 10 ^ {3} \\cdot si.kg \\cdot \\left( si.m \\right) ^{ -3 } \\\\&= 0.004\\ \\mathrm{kg} \\cdot \\mathrm{m}^{-3}  \\\\[10pt]\n",
       "\\\\[10pt]\n",
       "C_{phytagel} &= 3 \\times 10 ^ {-3} \\cdot \\mathrm{si.kg} \\cdot 1 \\times 10 ^ {3} \\cdot \\left( \\mathrm{si.m} \\right) ^{ -3 } \\\\&= 3 \\times 10 ^ {-3} \\cdot si.kg \\cdot 1 \\times 10 ^ {3} \\cdot \\left( si.m \\right) ^{ -3 } \\\\&= 3.000\\ \\mathrm{kg} \\cdot \\mathrm{m}^{-3}  \\\\[10pt]\n",
       "\\\\[10pt]\n",
       "C_{p_{phytagel}} &= 27 \\times 10 ^ {-6} \\cdot \\mathrm{si.mol} \\cdot 1 \\times 10 ^ {3} \\cdot \\left( \\mathrm{si.kg} \\right) ^{ -1 } \\\\&= 27 \\times 10 ^ {-6} \\cdot si.mol \\cdot 1 \\times 10 ^ {3} \\cdot \\left( si.kg \\right) ^{ -1 } \\\\&= 0.027\\ \\mathrm{kg}^{-1} \\cdot \\mathrm{mol}  \\\\[10pt]\n",
       "\\\\[10pt]\n",
       "\\mathrm{vol}_{fungal_{compartment}} &= 0.028 \\cdot 1 \\times 10 ^ {-3} \\cdot \\left( \\mathrm{si.m} \\right) ^{ 3 } \\\\&= 0.028 \\cdot 1 \\times 10 ^ {-3} \\cdot \\left( si.m \\right) ^{ 3 } \\\\&= 28000.000\\ \\mathrm{mm}^{3}  \\\\[10pt]\n",
       "\\\\[10pt]\n",
       "\\mathrm{tot}_{KH2PO4} &= C_{P} \\cdot \\mathrm{vol}_{fungal_{compartment}}  = 0.004\\ \\mathrm{kg} \\cdot \\mathrm{m}^{-3} \\cdot 28000.000\\ \\mathrm{mm}^{3} &= 114.800\\ \\mathrm{μg}  \n",
       "\\\\[10pt]\n",
       "M_{KH2PO4} &= \\left( 39 + 2 + 31 + 4 \\cdot 16 \\right) \\cdot 1 \\times 10 ^ {-3} \\cdot \\mathrm{si.kg} \\cdot \\left( \\mathrm{si.mol} \\right) ^{ -1 } \\\\&= \\left( 39 + 2 + 31 + 4 \\cdot 16 \\right) \\cdot 1 \\times 10 ^ {-3} \\cdot si.kg \\cdot \\left( si.mol \\right) ^{ -1 } \\\\&= 0.136\\ \\mathrm{kg} \\cdot \\mathrm{mol}^{-1}  \\\\[10pt]\n",
       "\\\\[10pt]\n",
       "M_{P} &= 31 \\cdot 1 \\times 10 ^ {-3} \\cdot \\mathrm{si.kg} \\cdot \\left( \\mathrm{si.mol} \\right) ^{ -1 } \\\\&= 31 \\cdot 1 \\times 10 ^ {-3} \\cdot si.kg \\cdot \\left( si.mol \\right) ^{ -1 } \\\\&= 0.031\\ \\mathrm{kg} \\cdot \\mathrm{mol}^{-1}  \\\\[10pt]\n",
       "\\\\[10pt]\n",
       "\\mathrm{tot}_{P_{added}} &= \\frac{ M_{P} }{ M_{KH2PO4} } \\cdot \\mathrm{tot}_{KH2PO4}  = \\frac{ 0.031\\ \\mathrm{kg} \\cdot \\mathrm{mol}^{-1} }{ 0.136\\ \\mathrm{kg} \\cdot \\mathrm{mol}^{-1} } \\cdot 114.800\\ \\mathrm{μg} &= 26.168\\ \\mathrm{μg}  \n",
       "\\\\[10pt]\n",
       "\\mathrm{tot}_{P_{phytagel}} &= C_{p_{phytagel}} \\cdot C_{phytagel} \\cdot M_{P} \\cdot \\mathrm{vol}_{fungal_{compartment}} \\\\&= 0.027\\ \\mathrm{kg}^{-1} \\cdot \\mathrm{mol} \\cdot 3.000\\ \\mathrm{kg} \\cdot \\mathrm{m}^{-3} \\cdot 0.031\\ \\mathrm{kg} \\cdot \\mathrm{mol}^{-1} \\cdot 28000.000\\ \\mathrm{mm}^{3} \\\\&= 70.308\\ \\mathrm{μg}  \\\\[10pt]\n",
       "\\\\[10pt]\n",
       "\\mathrm{tot}_{P} &= \\mathrm{tot}_{P_{added}} + \\mathrm{tot}_{P_{phytagel}}  = 26.168\\ \\mathrm{μg} + 70.308\\ \\mathrm{μg} &= 96.476\\ \\mathrm{μg}  \n",
       "\\end{aligned}\n",
       "\\]"
      ],
      "text/plain": [
       "<IPython.core.display.Latex object>"
      ]
     },
     "metadata": {},
     "output_type": "display_data"
    }
   ],
   "source": [
    "%%render\n",
    "\n",
    "C_P = 4.1*1e-6 *1e3*si.kg*si.m**-3\n",
    "C_phytagel = 3e-3 *si.kg*1e3*si.m**-3\n",
    "C_p_phytagel = 27e-6 *si.mol*1e3*si.kg**-1\n",
    "vol_fungal_compartment = 0.028*1e-3*si.m**3 \n",
    "tot_KH2PO4 = (C_P) *vol_fungal_compartment\n",
    "\n",
    "M_KH2PO4= (39 +2+31+4*16)*1e-3*si.kg*si.mol**-1\n",
    "M_P = 31*1e-3*si.kg*si.mol**-1\n",
    "tot_P_added = M_P/M_KH2PO4*tot_KH2PO4\n",
    "tot_P_phytagel = C_p_phytagel*C_phytagel*M_P*vol_fungal_compartment\n",
    "tot_P = tot_P_added+tot_P_phytagel"
   ]
  },
  {
   "cell_type": "code",
   "execution_count": 1,
   "id": "7a78f00b-aa5c-4c2c-8106-736b90e62afc",
   "metadata": {},
   "outputs": [
    {
     "data": {
      "text/plain": [
       "2.511"
      ]
     },
     "execution_count": 1,
     "metadata": {},
     "output_type": "execute_result"
    }
   ],
   "source": [
    "70.308/28"
   ]
  },
  {
   "cell_type": "code",
   "execution_count": 9,
   "id": "44651f4d-d604-40fd-bffc-d2d8f1efea5f",
   "metadata": {},
   "outputs": [
    {
     "data": {
      "text/plain": [
       "3.4455714285714287"
      ]
     },
     "execution_count": 9,
     "metadata": {},
     "output_type": "execute_result"
    }
   ],
   "source": [
    "96.476/28"
   ]
  },
  {
   "cell_type": "markdown",
   "id": "298e3966-44a9-4fb3-b45a-dc596bf93f1e",
   "metadata": {},
   "source": [
    "***from Constenza and Loreto in 100%P plates***"
   ]
  },
  {
   "cell_type": "code",
   "execution_count": 10,
   "id": "79145a93-1251-4b08-9497-8db3518e5d4e",
   "metadata": {},
   "outputs": [
    {
     "data": {
      "text/latex": [
       "\\[\n",
       "\\begin{aligned}\n",
       "C_{P} &= 43 \\cdot 1 \\times 10 ^ {-9} \\cdot \\mathrm{si.mol} \\cdot \\left( \\mathrm{si.m} \\right) ^{ -3 } \\cdot 1 \\times 10 ^ {6} \\\\&= 43 \\cdot 1 \\times 10 ^ {-9} \\cdot si.mol \\cdot \\left( si.m \\right) ^{ -3 } \\cdot 1 \\times 10 ^ {6} \\\\&= 0.043\\ \\mathrm{m}^{-3} \\cdot \\mathrm{mol}  \\\\[10pt]\n",
       "\\\\[10pt]\n",
       "\\mathrm{vol}_{fungal_{compartment}} &= 0.028 \\cdot 1 \\times 10 ^ {-3} \\cdot \\left( \\mathrm{si.m} \\right) ^{ 3 } \\\\&= 0.028 \\cdot 1 \\times 10 ^ {-3} \\cdot \\left( si.m \\right) ^{ 3 } \\\\&= 28000.000\\ \\mathrm{mm}^{3}  \\\\[10pt]\n",
       "\\\\[10pt]\n",
       "\\mathrm{tot}_{P} &= C_{P} \\cdot \\mathrm{vol}_{fungal_{compartment}}  = 0.043\\ \\mathrm{m}^{-3} \\cdot \\mathrm{mol} \\cdot 28000.000\\ \\mathrm{mm}^{3} &= 37.324\\ \\mathrm{μg}  \n",
       "\\\\[10pt]\n",
       "M_{P} &= 31 \\cdot 1 \\times 10 ^ {-3} \\cdot \\mathrm{si.kg} \\cdot \\left( \\mathrm{si.mol} \\right) ^{ -1 } \\\\&= 31 \\cdot 1 \\times 10 ^ {-3} \\cdot si.kg \\cdot \\left( si.mol \\right) ^{ -1 } \\\\&= 0.031\\ \\mathrm{kg} \\cdot \\mathrm{mol}^{-1}  \\\\[10pt]\n",
       "\\\\[10pt]\n",
       "\\mathrm{tot}_{P} &= M_{P} \\cdot \\mathrm{tot}_{P}  = 0.031\\ \\mathrm{kg} \\cdot \\mathrm{mol}^{-1} \\cdot 37.324\\ \\mathrm{μg} &= 37.324\\ \\mathrm{μg}  \n",
       "\\end{aligned}\n",
       "\\]"
      ],
      "text/plain": [
       "<IPython.core.display.Latex object>"
      ]
     },
     "metadata": {},
     "output_type": "display_data"
    }
   ],
   "source": [
    "%%render\n",
    "\n",
    "#BAS absorption\n",
    "C_P = 43 *1e-9 *si.mol*si.m**-3 * 1e6\n",
    "vol_fungal_compartment = 0.028*1e-3*si.m**3 \n",
    "tot_P = (C_P) *vol_fungal_compartment \n",
    "\n",
    "M_P = 31*1e-3*si.kg*si.mol**-1\n",
    "tot_P = M_P*tot_P"
   ]
  },
  {
   "cell_type": "code",
   "execution_count": 8,
   "id": "01fac1a8-7219-46da-977b-13628fb951cc",
   "metadata": {},
   "outputs": [
    {
     "data": {
      "image/png": "[encoded data removed]",
      "text/plain": [
       "<Figure size 432x288 with 1 Axes>"
      ]
     },
     "metadata": {
      "needs_background": "light"
     },
     "output_type": "display_data"
    }
   ],
   "source": [
    "import os\n",
    "C_0 = (110.9+112.8)/2\n",
    "C_16 = (68+72)/2\n",
    "C_35 = (62+65)/2\n",
    "C_74 = (42.5+45.6)/2\n",
    "t_0 = 0 \n",
    "t_16 = 16 \n",
    "t_35 = 35\n",
    "t_74 = 74\n",
    "fig,ax = plt.subplots()\n",
    "ax.scatter([t_0,t_16,t_35,t_74],[C_0,C_16,C_35,C_74])\n",
    "ax.set_ylabel('P concentration ($nmol .g^{-1}$)')\n",
    "ax.set_xlabel('Time after crosing ($days$)')\n",
    "path_figure = r\"C:\\Users\\coren\\AMOLF-SHIMIZU Dropbox\\HFSP_symbiotic-networks\\Article_TravellingWave\\Supplementary material\\FigureS5\"\n",
    "\n",
    "plt.savefig(os.path.join(path_figure,'FigureS5.pdf'), transparent=True, bbox_inches='tight')"
   ]
  }
 ],
 "metadata": {
  "kernelspec": {
   "display_name": "Python 3 (ipykernel)",
   "language": "python",
   "name": "python3"
  },
  "language_info": {
   "codemirror_mode": {
    "name": "ipython",
    "version": 3
   },
   "file_extension": ".py",
   "mimetype": "text/x-python",
   "name": "python",
   "nbconvert_exporter": "python",
   "pygments_lexer": "ipython3",
   "version": "3.10.6"
  }
 },
 "nbformat": 4,
 "nbformat_minor": 5
}
