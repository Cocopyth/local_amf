{
 "cells": [
  {
   "cell_type": "code",
   "execution_count": 1,
   "id": "ff364ab9",
   "metadata": {},
   "outputs": [
    {
     "data": {
      "text/plain": [
       "(1000.0, 1800.0)"
      ]
     },
     "execution_count": 1,
     "metadata": {},
     "output_type": "execute_result"
    }
   ],
   "source": [
    "import numpy as np\n",
    "D = 1000\n",
    "t = 1000\n",
    "np.sqrt(D*t),1/2*np.sqrt(D/t)*3600"
   ]
  },
  {
   "cell_type": "code",
   "execution_count": 2,
   "id": "c3ab888a",
   "metadata": {},
   "outputs": [
    {
     "data": {
      "text/plain": [
       "0.75"
      ]
     },
     "execution_count": 2,
     "metadata": {},
     "output_type": "execute_result"
    }
   ],
   "source": [
    "a = 1000 #um\n",
    "D = 1000 #um**2.s-1\n",
    "L = 1000 #um\n",
    "h = 2700 #um\n",
    "L**2*h/(a*D)/3600"
   ]
  },
  {
   "cell_type": "code",
   "execution_count": 3,
   "id": "c1fbdc18",
   "metadata": {},
   "outputs": [
    {
     "data": {
      "text/plain": [
       "(1000.0, 1800.0)"
      ]
     },
     "execution_count": 3,
     "metadata": {},
     "output_type": "execute_result"
    }
   ],
   "source": [
    "D = 1000\n",
    "t = 1000\n",
    "a = 5\n",
    "np.sqrt(D*t),1/2*np.sqrt(D/t)*3600"
   ]
  },
  {
   "cell_type": "code",
   "execution_count": 4,
   "id": "2caab9b6",
   "metadata": {},
   "outputs": [
    {
     "data": {
      "text/plain": [
       "0.4817730965571871"
      ]
     },
     "execution_count": 4,
     "metadata": {},
     "output_type": "execute_result"
    }
   ],
   "source": [
    "e_d = 2870/180 #kJ.g-1\n",
    "D= 250 #um**2.s-1 for glucose\n",
    "C_0 = 10 #g.dm-3\n",
    "C_0= C_0*1e-15 #g.um3\n",
    "a = 2 #um\n",
    "b = 0.5 #um\n",
    "I = 4*np.pi*D*a*C_0/(np.log(2*a/b)) #g.s-1\n",
    "P = e_d*I #kW\n",
    "P = P*1e9 #uW\n",
    "P"
   ]
  },
  {
   "cell_type": "code",
   "execution_count": 8,
   "id": "3c5ede60",
   "metadata": {},
   "outputs": [
    {
     "data": {
      "text/plain": [
       "(6.65, 15.944444444444445)"
      ]
     },
     "execution_count": 8,
     "metadata": {},
     "output_type": "execute_result"
    }
   ],
   "source": [
    "M_glucose = 180 #g.mol-1\n",
    "ATP_per_glucose = 15 \n",
    "NA = 6e23 #.mol-1\n",
    "e_glucose = NA/M_glucose*ATP_per_glucose*e_ATP #uJ.g-1\n",
    "e_glucose/10**9,e_d"
   ]
  },
  {
   "cell_type": "code",
   "execution_count": 7,
   "id": "1139895f",
   "metadata": {},
   "outputs": [],
   "source": [
    "permeability = 3 #um.s-1\n",
    "flux = 2*np.pi*a*b*permeability*C_0 #g.s-1\n",
    "P2 = e_d*flux #kW\n",
    "P2 = P2*1e9"
   ]
  },
  {
   "cell_type": "code",
   "execution_count": null,
   "id": "baad4f02",
   "metadata": {},
   "outputs": [],
   "source": [
    "flux"
   ]
  },
  {
   "cell_type": "code",
   "execution_count": 9,
   "id": "880d9401",
   "metadata": {},
   "outputs": [
    {
     "data": {
      "text/plain": [
       "3.133738671955818e-06"
      ]
     },
     "execution_count": 9,
     "metadata": {},
     "output_type": "execute_result"
    }
   ],
   "source": [
    "alpha_b = 18e9 #ATP.um**3\n",
    "tau_doubling = 20*60 #s\n",
    "lambd = np.pi*a*b**2/tau_doubling #um**3.s-1\n",
    "e_ATP= 1.33e-13 #uJ.ATP-1\n",
    "R_ATP_demand = alpha_b*lambd #ATP.s-1\n",
    "P_demand = R_ATP_demand*e_ATP #uW\n",
    "P_demand "
   ]
  },
  {
   "cell_type": "markdown",
   "id": "34bb18a9",
   "metadata": {},
   "source": [
    "Diffusion of proteins"
   ]
  },
  {
   "cell_type": "code",
   "execution_count": 10,
   "id": "e8c43b14",
   "metadata": {},
   "outputs": [
    {
     "data": {
      "text/plain": [
       "410.7565450872505"
      ]
     },
     "execution_count": 10,
     "metadata": {},
     "output_type": "execute_result"
    }
   ],
   "source": [
    "T = 300 #K\n",
    "eta = 1 #cP viscosity\n",
    "M = 226 #g.mol-1\n",
    "D = 8.34e-8*(T/(eta*M**(1/3))) #cm**2.s-1\n",
    "D = D*10**8 #um**2\n",
    "D"
   ]
  },
  {
   "cell_type": "markdown",
   "id": "46a122cd",
   "metadata": {},
   "source": [
    "***BAS absorption***"
   ]
  },
  {
   "cell_type": "code",
   "execution_count": 13,
   "id": "38afbf7f",
   "metadata": {},
   "outputs": [
    {
     "data": {
      "text/plain": [
       "1.4944707128075061e-10"
      ]
     },
     "execution_count": 13,
     "metadata": {},
     "output_type": "execute_result"
    }
   ],
   "source": [
    "C_0 = 0.2 #mg P.L-1\n",
    "C_0 = C_0*1e-15 #mg.um**3\n",
    "a = 1000\n",
    "b = 2\n",
    "I = 4*np.pi*D*a*C_0/(np.log(2*a/b))\n",
    "I"
   ]
  },
  {
   "cell_type": "markdown",
   "id": "4cdc585a",
   "metadata": {},
   "source": [
    "***Quantity of P in soil***"
   ]
  },
  {
   "cell_type": "code",
   "execution_count": 15,
   "id": "2f10e567",
   "metadata": {},
   "outputs": [
    {
     "data": {
      "text/plain": [
       "0.053200000000000004"
      ]
     },
     "execution_count": 15,
     "metadata": {},
     "output_type": "execute_result"
    }
   ],
   "source": [
    "rho = 1.33 #g.cm-3\n",
    "extractable_P = 40 #mg.kg-1\n",
    "extractable_P = extractable_P*1e-3 #mg.g-1\n",
    "extractable_P_C = rho*extractable_P\n",
    "extractable_P_C #mg.cm-3"
   ]
  },
  {
   "cell_type": "markdown",
   "id": "1fd43e02",
   "metadata": {},
   "source": [
    "***Quantity of P in soil per m hypha***"
   ]
  },
  {
   "cell_type": "code",
   "execution_count": 20,
   "id": "e3d1f5dc",
   "metadata": {},
   "outputs": [
    {
     "data": {
      "text/plain": [
       "0.00266"
      ]
     },
     "execution_count": 20,
     "metadata": {},
     "output_type": "execute_result"
    }
   ],
   "source": [
    "rho_hyph = 20 #m.cm-3\n",
    "m_P_hyph = extractable_P_C/rho_hyph\n",
    "m_P_hyph #mg.m-1 of hypha\n"
   ]
  },
  {
   "cell_type": "markdown",
   "id": "df37f7f0",
   "metadata": {},
   "source": [
    "***depletion time***"
   ]
  },
  {
   "cell_type": "code",
   "execution_count": 25,
   "id": "6fa0bb17",
   "metadata": {},
   "outputs": [
    {
     "data": {
      "text/plain": [
       "0.20524691358024694"
      ]
     },
     "execution_count": 25,
     "metadata": {},
     "output_type": "execute_result"
    }
   ],
   "source": [
    "i = 1.5e-10 #mg.s-1.mm-1\n",
    "i = i * 1e3 #mg.s-1.m-1\n",
    "tau = m_P_hyph/i\n",
    "tau/(3600*24)"
   ]
  },
  {
   "cell_type": "markdown",
   "id": "a2f1edc0",
   "metadata": {},
   "source": [
    "***P in 100P plates***"
   ]
  },
  {
   "cell_type": "code",
   "execution_count": 1,
   "id": "fd4e2e8a",
   "metadata": {},
   "outputs": [],
   "source": [
    "import numpy as np"
   ]
  },
  {
   "cell_type": "code",
   "execution_count": 2,
   "id": "1a19397b",
   "metadata": {},
   "outputs": [
    {
     "data": {
      "text/plain": [
       "(300.0, 0.13535456236114157)"
      ]
     },
     "execution_count": 2,
     "metadata": {},
     "output_type": "execute_result"
    }
   ],
   "source": [
    "C = 0.41 #g.L of KH2PO4\n",
    "#BAS absorption\n",
    "D = 1000 #um**2.s-1\n",
    "C_0 = C*1e3 #mg KH2PO4.L-1\n",
    "C_0 = C_0*1e-15 #mg.um**3\n",
    "a = 1000 #um tot length of BAS\n",
    "b = 2 #um width of BAS\n",
    "i = 4*np.pi*D*a*C_0/(np.log(2*a/b)) #mg.s-1.BAS-1\n",
    "num_BAS = 0.3/(1e-3) #tot length of BAS divided by mean length of BAS\n",
    "i_tot= num_BAS * i\n",
    "vol_fungal_compartment = 0.028 #L\n",
    "tot_KH2PO4 = C *vol_fungal_compartment*1e3 #mg\n",
    "\n",
    "M_KH2PO4= 39 +2+31+4*16\n",
    "tot_P = 31/M_KH2PO4*tot_KH2PO4\n",
    "tau = tot_P/i_tot #s\n",
    "num_BAS,tau/(3600*24)\n"
   ]
  },
  {
   "cell_type": "code",
   "execution_count": 6,
   "id": "2fab751a",
   "metadata": {},
   "outputs": [
    {
     "data": {
      "text/plain": [
       "70.308"
      ]
     },
     "execution_count": 6,
     "metadata": {},
     "output_type": "execute_result"
    }
   ],
   "source": [
    "vol_fungal_compartment\n",
    "C = 3 #g.L-1\n",
    "Cn = 27 #umolP.g-1\n",
    "n = Cn*C*vol_fungal_compartment\n",
    "mp = 31 *n\n",
    "mp"
   ]
  },
  {
   "cell_type": "code",
   "execution_count": 16,
   "id": "03fe6885",
   "metadata": {},
   "outputs": [
    {
     "data": {
      "text/plain": [
       "20.0"
      ]
     },
     "execution_count": 16,
     "metadata": {},
     "output_type": "execute_result"
    }
   ],
   "source": [
    "rho_hyph = 20 #m.cm-3\n",
    "rho_hyph = rho_hyph*1e3/(1e3)\n",
    "rho_hyph"
   ]
  },
  {
   "cell_type": "code",
   "execution_count": null,
   "id": "367eedf9",
   "metadata": {},
   "outputs": [],
   "source": []
  }
 ],
 "metadata": {
  "kernelspec": {
   "display_name": "Python 3 (ipykernel)",
   "language": "python",
   "name": "python3"
  },
  "language_info": {
   "codemirror_mode": {
    "name": "ipython",
    "version": 3
   },
   "file_extension": ".py",
   "mimetype": "text/x-python",
   "name": "python",
   "nbconvert_exporter": "python",
   "pygments_lexer": "ipython3",
   "version": "3.10.6"
  }
 },
 "nbformat": 4,
 "nbformat_minor": 5
}
