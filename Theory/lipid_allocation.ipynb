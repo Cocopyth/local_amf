{
 "cells": [
  {
   "cell_type": "markdown",
   "id": "51c04b27-f680-43d1-8e16-4a840e80fc52",
   "metadata": {},
   "source": [
    "***I. The fully theoretical computation***"
   ]
  },
  {
   "cell_type": "code",
   "execution_count": 1,
   "id": "2c41db59-f921-4c95-b507-a71a2a893ec7",
   "metadata": {},
   "outputs": [],
   "source": [
    "import handcalcs.render\n",
    "import matplotlib.pyplot as plt\n",
    "import numpy as np\n",
    "import pandas as pd\n",
    "from math import pi\n",
    "import forallpeople as si\n",
    "si.environment('custom')\n"
   ]
  },
  {
   "cell_type": "code",
   "execution_count": 2,
   "id": "2f7c8c75-37e4-4f00-803f-e2c376d2a255",
   "metadata": {},
   "outputs": [],
   "source": [
    "uJ = (1e-6 * si.J)\n",
    "MJ = 1e6*si.J\n",
    "L = 1e-3*si.m**3\n",
    "um = 1e-6*si.m\n",
    "ug = 1e-9 * si.kg"
   ]
  },
  {
   "cell_type": "markdown",
   "id": "00817a15-e5a1-4d23-983e-eaa0b1b43d0b",
   "metadata": {},
   "source": [
    "Let's compute the theoretical energy necessary to grow one $\\mu m$ of hypha. For this we need multiple values.\n",
    "\n",
    "1. The energy contained in one mol of ATP can be found [here](https://bio.libretexts.org/Bookshelves/Introductory_and_General_Biology/Book%3A_General_Biology_(OpenStax)/2%3A_The_Cell/06%3A_Metabolism/6.4%3A_ATP%3A_Adenosine_Triphosphate) . It varies a lot depending on the physiological conditions. We can take the one for yeast : $e_{ATP} = 50kJ.mol^{-1}$\n",
    "2. How long is the average protein. This number is discussed [here](http://book.bionumbers.org/how-big-is-the-average-protein/)\n",
    "3. How many proteins there is per $fL$ of cell. This number can be found here [here](https://bionumbers.hms.harvard.edu/bionumber.aspx?s=n&v=4&id=115721)\n",
    "4. How many ATP does it take to bind two amino acids. The answer is [here](https://bionumbers.hms.harvard.edu/bionumber.aspx?s=n&v=0&id=107782)"
   ]
  },
  {
   "cell_type": "code",
   "execution_count": 3,
   "id": "e1ab996b-a25a-49ec-b3b8-b33f332f7e22",
   "metadata": {},
   "outputs": [
    {
     "data": {
      "text/latex": [
       "\\[\n",
       "\\begin{aligned}\n",
       "\\mathrm{NA} &= 6.02 \\cdot 1 \\times 10 ^ {23} \\cdot \\left( \\mathrm{si.mol} \\right) ^{ -1 }  = 6.02 \\cdot 1 \\times 10 ^ {23} \\cdot \\left( si.mol \\right) ^{ -1 } &= 0.602\\ \\mathrm{ymol}^{-1} \\; \\;\\textrm{(avogadro number)}\n",
       "\\\\[10pt]\n",
       "e_{ATP} &= 50 \\cdot 1 \\times 10 ^ {3} \\cdot \\mathrm{si.J} \\cdot \\left( \\mathrm{si.mol} \\right) ^{ -1 } \\\\&= 50 \\cdot 1 \\times 10 ^ {3} \\cdot si.J \\cdot \\left( si.mol \\right) ^{ -1 } \\\\&= 50000.000\\ \\mathrm{kg} \\cdot \\mathrm{m}^{2} \\cdot \\mathrm{s}^{-2} \\cdot \\mathrm{mol}^{-1} \\; \\;\\textrm{(energy per mol of ATP)}\\\\[10pt]\n",
       "\\\\[10pt]\n",
       "L_{prot} &= 400 \\; \\;\\textrm{(average length of proteins)}\n",
       "\\\\[10pt]\n",
       "n &= 3 \\times 10 ^ {6} \\cdot \\frac{ \\left( \\mathrm{um} \\right) ^{ -3 } }{ \\mathrm{NA} } \\\\&= 3 \\times 10 ^ {6} \\cdot \\frac{ \\left( 1.000\\ \\mathrm{μm} \\right) ^{ -3 } }{ 0.602\\ \\mathrm{ymol}^{-1} } \\\\&= 4.983\\ \\mathrm{m}^{-3} \\cdot \\mathrm{mol} \\; \\;\\textrm{(average number of moles of proteins per unit volume)}\\\\[10pt]\n",
       "\\\\[10pt]\n",
       "N_{ATP_{AA}} &= 5 \\; \\;\\textrm{(number of ATP necessary to bind two amino acids)}\n",
       "\\\\[10pt]\n",
       "r_{hypha} &= 5 \\cdot \\mathrm{um}  = 5 \\cdot 1.000\\ \\mathrm{μm} &= 5.000\\ \\mathrm{μm} \\; \\;\\textrm{(hypha radius)}\n",
       "\\\\[10pt]\n",
       "e_{total_{prot_{synth}}} &= N_{ATP_{AA}} \\cdot e_{ATP} \\cdot L_{prot} \\cdot n \\cdot \\mathrm{np.pi} \\cdot \\left( r_{hypha} \\right) ^{ 2 } \\\\&= 5 \\cdot 50000.000\\ \\mathrm{kg} \\cdot \\mathrm{m}^{2} \\cdot \\mathrm{s}^{-2} \\cdot \\mathrm{mol}^{-1} \\cdot 400 \\cdot 4.983\\ \\mathrm{m}^{-3} \\cdot \\mathrm{mol} \\cdot np.pi \\cdot \\left( 5.000\\ \\mathrm{μm} \\right) ^{ 2 } \\\\&= 39.139\\ \\mathrm{mN} \\; \\;\\textrm{(amount of energy necessary per unit length)}\\\\[10pt]\n",
       "\\end{aligned}\n",
       "\\]"
      ],
      "text/plain": [
       "<IPython.core.display.Latex object>"
      ]
     },
     "metadata": {},
     "output_type": "display_data"
    }
   ],
   "source": [
    "%%render\n",
    "\n",
    "NA = 6.02*1e23 *si.mol**-1 #avogadro number\n",
    "\n",
    "e_ATP= 50 * 1e3 *si.J * si.mol**-1 #energy per mol of ATP\n",
    "L_prot = 400  #average length of proteins\n",
    "n = 3e6*um**-3/NA  #average number of moles of proteins per unit volume\n",
    "N_ATP_AA = 5 #number of ATP necessary to bind two amino acids\n",
    "r_hypha = 5 *um #hypha radius\n",
    "e_total_prot_synth = N_ATP_AA*e_ATP*L_prot*n*np.pi*r_hypha**2 #amount of energy necessary per unit length"
   ]
  },
  {
   "cell_type": "markdown",
   "id": "82ba395a-a875-480d-9812-b9776eb0b84f",
   "metadata": {},
   "source": [
    "We can verify the number of protein per unit length using published data of protein to hyphal mass ratio from [here](https://academic.oup.com/femsle/article/254/2/258/524734)\n",
    "We use the average weight of protein from [here](https://bionumbers.hms.harvard.edu/bionumber.aspx?id=108345&ver=0)"
   ]
  },
  {
   "cell_type": "code",
   "execution_count": 4,
   "id": "fb0aaee5-ccbb-48d9-8230-77b06dad38e5",
   "metadata": {},
   "outputs": [
    {
     "data": {
      "text/latex": [
       "\\[\n",
       "\\begin{aligned}\n",
       "m_{V_{wet}} &= 1100 \\cdot \\mathrm{si.kg} \\cdot \\left( \\mathrm{si.m} \\right) ^{ -3 }  = 1100 \\cdot si.kg \\cdot \\left( si.m \\right) ^{ -3 } &= 1100.000\\ \\mathrm{kg} \\cdot \\mathrm{m}^{-3}  \n",
       "\\\\[10pt]\n",
       "\\mathrm{prot}_{weigth_{ratio}} &= 0.100 \\; \n",
       "\\\\[10pt]\n",
       "m_{V_{prot}} &= \\mathrm{prot}_{weigth_{ratio}} \\cdot m_{V_{wet}}  = 0.100 \\cdot 1100.000\\ \\mathrm{kg} \\cdot \\mathrm{m}^{-3} &= 110.000\\ \\mathrm{kg} \\cdot \\mathrm{m}^{-3}  \n",
       "\\\\[10pt]\n",
       "m_{prot} &= 46430 \\cdot 1 \\times 10 ^ {-3} \\cdot \\mathrm{si.kg} \\cdot \\left( \\mathrm{si.mol} \\right) ^{ -1 } \\\\&= 46430 \\cdot 1 \\times 10 ^ {-3} \\cdot si.kg \\cdot \\left( si.mol \\right) ^{ -1 } \\\\&= 46.430\\ \\mathrm{kg} \\cdot \\mathrm{mol}^{-1}  \\\\[10pt]\n",
       "\\\\[10pt]\n",
       "n_{data} &= \\frac{ m_{V_{prot}} }{ m_{prot} }  = \\frac{ 110.000\\ \\mathrm{kg} \\cdot \\mathrm{m}^{-3} }{ 46.430\\ \\mathrm{kg} \\cdot \\mathrm{mol}^{-1} } &= 2.369\\ \\mathrm{m}^{-3} \\cdot \\mathrm{mol}  \n",
       "\\\\[10pt]\n",
       "\\mathrm{ratio} &= \\frac{ n_{data} }{ n }  = \\frac{ 2.369\\ \\mathrm{m}^{-3} \\cdot \\mathrm{mol} }{ 4.983\\ \\mathrm{m}^{-3} \\cdot \\mathrm{mol} } &= 0.475 \\; \\;\\textrm{(the numbers are of similar orders of magnitude.)}\n",
       "\\end{aligned}\n",
       "\\]"
      ],
      "text/plain": [
       "<IPython.core.display.Latex object>"
      ]
     },
     "metadata": {},
     "output_type": "display_data"
    }
   ],
   "source": [
    "%%render\n",
    "m_V_wet = 1100 *si.kg*si.m**-3\n",
    "prot_weigth_ratio = 0.1\n",
    "m_V_prot = prot_weigth_ratio*m_V_wet\n",
    "m_prot = 46430 *1e-3*si.kg*si.mol**-1\n",
    "n_data = m_V_prot/m_prot\n",
    "ratio = n_data/n #the numbers are of similar orders of magnitude."
   ]
  },
  {
   "cell_type": "markdown",
   "id": "aa4f714f-2bbf-4138-aca1-62162b9aaf78",
   "metadata": {},
   "source": [
    "Then let's compute the amount of carbon that need to be transferred too match this amount of energy. AMF store cabon predominantly in the form of lipids according to [here](https://www.ncbi.nlm.nih.gov/pmc/articles/PMC5559270/). These lipids are either in the form or triglycerol (TAG) or in the form of fatty acids. The main fatty acids in AMF have between 16 and 20 carbons see [here](https://doi.org/10.1017/S0953756299001410). The majority is palmitic acid according to [here](https://www.ncbi.nlm.nih.gov/pmc/articles/PMC5559270/) whose formula is $C_{16}H_{32}O_{2}$. Lipids being lipid or palmitic acid (or longer chain fatty acids) will only slightly change the calculation. We will therefore continue with palmitic acid for which most data is available. "
   ]
  },
  {
   "cell_type": "markdown",
   "id": "75f17ae0-b3d2-45c9-bbca-0deddd70421d",
   "metadata": {},
   "source": [
    "Then to compute the amount of lipid necessary to provide this amount of energy we need to first know how much energy a typical lipid molecule can release. To do that"
   ]
  },
  {
   "cell_type": "markdown",
   "id": "fe19e9d0-cba9-4772-b440-bc68732f79f2",
   "metadata": {},
   "source": [
    "1. We find [here](https://www.abcam.com/pathways/fatty-acid-oxidation) that palmitic acid oxydation can generate 129 ATP  \n",
    "2. We find the density of palmitic acid"
   ]
  },
  {
   "cell_type": "code",
   "execution_count": 5,
   "id": "5e68cbfa-c1de-473e-801c-158adc8c69f0",
   "metadata": {},
   "outputs": [
    {
     "data": {
      "text/latex": [
       "\\[\n",
       "\\begin{aligned}\n",
       "M_{lipid} &= \\left( 16 \\cdot 12 + 32 + 2 \\cdot 16 \\right) \\cdot 1 \\times 10 ^ {-3} \\cdot \\mathrm{si.kg} \\cdot \\left( \\mathrm{si.mol} \\right) ^{ -1 } \\\\&= \\left( 16 \\cdot 12 + 32 + 2 \\cdot 16 \\right) \\cdot 1 \\times 10 ^ {-3} \\cdot si.kg \\cdot \\left( si.mol \\right) ^{ -1 } \\\\&= 0.256\\ \\mathrm{kg} \\cdot \\mathrm{mol}^{-1} \\; \\;\\textrm{(molar mass of palmitic acid)}\\\\[10pt]\n",
       "\\\\[10pt]\n",
       "d_{palmitic} &= 850 \\cdot \\mathrm{si.kg} \\cdot \\left( \\mathrm{si.m} \\right) ^{ -3 }  = 850 \\cdot si.kg \\cdot \\left( si.m \\right) ^{ -3 } &= 850.000\\ \\mathrm{kg} \\cdot \\mathrm{m}^{-3} \\; \\;\\textrm{(density of palmitic acid)}\n",
       "\\\\[10pt]\n",
       "N_{ATP_{palmitic}} &= 129 \\; \\;\\textrm{(number of palmitic acid molecules that can be produced)}\n",
       "\\\\[10pt]\n",
       "e_{palmitic_{ATPbased}} &= \\frac{ N_{ATP_{palmitic}} }{ \\mathrm{NA} } \\cdot e_{ATP} \\cdot \\frac{ \\mathrm{NA} }{ M_{lipid} } \\cdot d_{palmitic} \\\\&= \\frac{ 129 }{ 0.602\\ \\mathrm{ymol}^{-1} } \\cdot 50000.000\\ \\mathrm{kg} \\cdot \\mathrm{m}^{2} \\cdot \\mathrm{s}^{-2} \\cdot \\mathrm{mol}^{-1} \\cdot \\frac{ 0.602\\ \\mathrm{ymol}^{-1} }{ 0.256\\ \\mathrm{kg} \\cdot \\mathrm{mol}^{-1} } \\cdot 850.000\\ \\mathrm{kg} \\cdot \\mathrm{m}^{-3} \\\\&= 21.416\\ \\mathrm{GPa}  \\\\[10pt]\n",
       "\\\\[10pt]\n",
       "e_{palmitic_{ATPbased}} &= 21.416\\ \\mathrm{GPa} \\; \\;\\textrm{(amount of energy per unit volume of palmitic acid)}\n",
       "\\end{aligned}\n",
       "\\]"
      ],
      "text/plain": [
       "<IPython.core.display.Latex object>"
      ]
     },
     "metadata": {},
     "output_type": "display_data"
    }
   ],
   "source": [
    "%%render\n",
    "M_lipid = (16*12+32+2*16)*1e-3*si.kg*si.mol**-1 #molar mass of palmitic acid\n",
    "d_palmitic = 850*si.kg*si.m**-3 #density of palmitic acid\n",
    "N_ATP_palmitic = 129 #number of palmitic acid molecules that can be produced \n",
    "e_palmitic_ATPbased = N_ATP_palmitic/NA*e_ATP*NA/(M_lipid)*d_palmitic\n",
    "e_palmitic_ATPbased #amount of energy per unit volume of palmitic acid"
   ]
  },
  {
   "cell_type": "markdown",
   "id": "3fe201ca-7c05-4fce-ab64-3640e2a7bbe1",
   "metadata": {},
   "source": [
    "<!-- B)\n",
    "1. We get an estimate of energy contained in a gram of palmitic acid. For this we can use values for refined palm oil which is mainly composed of palmitic acid (hence the name). We find [here](http://www.palmoilindonesia.com/indonesia-palm-oil/nutrition-and-calories/) 884cal/100g.\n",
    "2. The density of palmitic acid, easy to find on the internet.\n",
    "3. The efficiency of transformation from Fatty acid to ATP. This can be found [here](http://book.bionumbers.org/how-much-energy-is-released-in-atp-hydrolysis/) . -->"
   ]
  },
  {
   "cell_type": "code",
   "execution_count": 6,
   "id": "1e52ca47-5a94-4708-97ff-c9c85e7ba21e",
   "metadata": {},
   "outputs": [],
   "source": [
    "# %%render\n",
    "# d_palmitic= 850 *si.kg*si.m**-3 #the density of palmitic acid\n",
    "# e_palmitic_total = 884*4.18/100* si.J*1e-3*si.kg**-1 #the energy density of lipid lipids\n",
    "# e_palmitic_total_v= e_palmitic_total*d_palmitic\n",
    "# efficency = 0.4 #efficiency of transformation from lipid to ATP molecules \n",
    "# e_palmitic_palmoilbased = efficency*e_palmitic_total_v\n"
   ]
  },
  {
   "cell_type": "markdown",
   "id": "ed464ad3-0482-44fa-9bce-4d7575e0c8c5",
   "metadata": {},
   "source": [
    "<!-- The two estimates don't yield the same result -->"
   ]
  },
  {
   "cell_type": "code",
   "execution_count": 7,
   "id": "1c6767e2-54f4-42fc-99d9-90d0c4a35531",
   "metadata": {},
   "outputs": [
    {
     "data": {
      "text/latex": [
       "\\[\n",
       "\\begin{aligned}\n",
       "e_{palmitic_{ATPbased}} &= 21.416\\ \\mathrm{GPa} \\; \n",
       "\\end{aligned}\n",
       "\\]"
      ],
      "text/plain": [
       "<IPython.core.display.Latex object>"
      ]
     },
     "metadata": {},
     "output_type": "display_data"
    }
   ],
   "source": [
    "%%render\n",
    "\n",
    "# e_palmitic_palmoilbased\n",
    "e_palmitic_ATPbased"
   ]
  },
  {
   "cell_type": "markdown",
   "id": "f3e74eee-5f27-4db2-a598-39b40aa5a249",
   "metadata": {},
   "source": [
    "We finally fin the volume of lipid necessary per unit lenght of hyphal growth"
   ]
  },
  {
   "cell_type": "code",
   "execution_count": 8,
   "id": "6a2ed4cd-e037-4a80-855b-7e4ce0fdd45a",
   "metadata": {},
   "outputs": [
    {
     "data": {
      "text/latex": [
       "\\[\n",
       "\\begin{aligned}\n",
       "V_{lipid_{energy_{theory}}} &= 1.828\\ \\mathrm{μm}^{2} \\; \n",
       "\\end{aligned}\n",
       "\\]"
      ],
      "text/plain": [
       "<IPython.core.display.Latex object>"
      ]
     },
     "metadata": {},
     "output_type": "display_data"
    }
   ],
   "source": [
    "%%render\n",
    "\n",
    "V_lipid_energy_theory=e_total_prot_synth/(e_palmitic_ATPbased)"
   ]
  },
  {
   "cell_type": "markdown",
   "id": "e1b3af0e-a50e-4bfe-863d-713211694580",
   "metadata": {},
   "source": [
    "In reality, the carbon brought in the lipid is both the energy used for protein synthesis and the carbon building block of the newly built biomass. It it therefore expected that the theoretical value is higher. How much C is there in the fungal biomass and to what amount of lipids does this correspond to? "
   ]
  },
  {
   "cell_type": "markdown",
   "id": "76fc56fb-ca40-4b5d-84f0-814f7973af52",
   "metadata": {},
   "source": [
    "Palmitic acid formula is $C_{16}H_{32}O_{2}$ the proportion of the mass that is due to carbon is"
   ]
  },
  {
   "cell_type": "code",
   "execution_count": 9,
   "id": "3288f3bc-64f6-460d-87d8-74af90922a41",
   "metadata": {},
   "outputs": [
    {
     "data": {
      "text/latex": [
       "\\[\n",
       "\\begin{aligned}\n",
       "\\mathrm{ratio}_{lipid_{C}} &= 16 \\cdot \\frac{ 12 }{ 16 \\cdot 12 + 32 + 2 \\cdot 16 } &= 0.750  \n",
       "\\end{aligned}\n",
       "\\]"
      ],
      "text/plain": [
       "<IPython.core.display.Latex object>"
      ]
     },
     "metadata": {},
     "output_type": "display_data"
    }
   ],
   "source": [
    "%%render\n",
    "ratio_lipid_C = 16*12/(16*12+32+2*16)"
   ]
  },
  {
   "cell_type": "markdown",
   "id": "e51fa84b-9200-4bc1-bfbd-e13103b1638b",
   "metadata": {},
   "source": [
    "How much carbon in one meter of hypha in theory. To estimate this, one needs to get three values. The two first ones are the buoyant density $d_{biomass}$ and the dry mass to wet mass ratio $r_{d/w}$. One can find values for this in the literrature [here](https://journals.asm.org/doi/epdf/10.1128/aem.45.4.1188-1195.1983) . For fungi they find $d_{biomass} =1.1$ and $r_{d/w}=0.2$. In our case, since AMF are lipid rich we could imagine this ratio being higher (lipids fill some water volume therefore increasing $r_{d/w}$). This alreay yields an estimate of what the dry biomass in the fungal compartment should be."
   ]
  },
  {
   "cell_type": "code",
   "execution_count": 10,
   "id": "1f27fca4-b0ec-47bf-bda9-5924a47caf43",
   "metadata": {},
   "outputs": [
    {
     "data": {
      "text/latex": [
       "\\[\n",
       "\\begin{aligned}\n",
       "L_{colony} &= 1 \\cdot \\mathrm{si.m}  = 1 \\cdot si.m &= 1.000\\ \\mathrm{m}  \n",
       "\\\\[10pt]\n",
       "V_{total} &= L_{colony} \\cdot \\pi \\cdot \\left( r_{hypha} \\right) ^{ 2 }  = 1.000\\ \\mathrm{m} \\cdot 3.142 \\cdot \\left( 5.000\\ \\mathrm{μm} \\right) ^{ 2 } &= 78539816.340\\ \\mathrm{μm}^{3}  \n",
       "\\\\[10pt]\n",
       "d_{biomass} &= 1100 \\cdot \\mathrm{si.kg} \\cdot \\left( \\mathrm{si.m} \\right) ^{ -3 }  = 1100 \\cdot si.kg \\cdot \\left( si.m \\right) ^{ -3 } &= 1100.000\\ \\mathrm{kg} \\cdot \\mathrm{m}^{-3}  \n",
       "\\\\[10pt]\n",
       "m_{wet} &= V_{total} \\cdot d_{biomass}  = 78539816.340\\ \\mathrm{μm}^{3} \\cdot 1100.000\\ \\mathrm{kg} \\cdot \\mathrm{m}^{-3} &= 86.394\\ \\mathrm{μg}  \n",
       "\\\\[10pt]\n",
       "r_{dw} &= 0.200 \\; \n",
       "\\\\[10pt]\n",
       "m_{dry} &= m_{wet} \\cdot r_{dw}  = 86.394\\ \\mathrm{μg} \\cdot 0.200 &= 17.279\\ \\mathrm{μg}  \n",
       "\\end{aligned}\n",
       "\\]"
      ],
      "text/plain": [
       "<IPython.core.display.Latex object>"
      ]
     },
     "metadata": {},
     "output_type": "display_data"
    }
   ],
   "source": [
    "%%render\n",
    "L_colony = 1*si.m\n",
    "V_total = L_colony*pi*r_hypha**2\n",
    "\n",
    "d_biomass = 1100 *si.kg*si.m**-3\n",
    "m_wet = V_total * d_biomass\n",
    "r_dw=0.2\n",
    "m_dry = m_wet*r_dw"
   ]
  },
  {
   "cell_type": "markdown",
   "id": "8ac01c9b-c90d-4fa2-9e3d-7dab20b65d56",
   "metadata": {},
   "source": [
    "We need to know another factor $r_{C/Tot}$ which is the ratio of the dry mass that is carbon. We find values for this [here](https://www.frontiersin.org/articles/10.3389/fmicb.2017.01281/full), it varies between fungal species but we can take $r_{C/Tot}=0.4$"
   ]
  },
  {
   "cell_type": "code",
   "execution_count": 11,
   "id": "9b15f80d-38d2-44dc-89ed-95e9a1dafd05",
   "metadata": {},
   "outputs": [
    {
     "data": {
      "text/latex": [
       "\\[\n",
       "\\begin{aligned}\n",
       "r_{CTot} &= 0.400 \\; \n",
       "\\\\[10pt]\n",
       "m_{C} &= m_{dry} \\cdot r_{CTot}  = 17.279\\ \\mathrm{μg} \\cdot 0.400 &= 6.912\\ \\mathrm{μg}  \n",
       "\\\\[10pt]\n",
       "m_{C} &= 6.912\\ \\mathrm{μg} \\; \n",
       "\\end{aligned}\n",
       "\\]"
      ],
      "text/plain": [
       "<IPython.core.display.Latex object>"
      ]
     },
     "metadata": {},
     "output_type": "display_data"
    }
   ],
   "source": [
    "%%render\n",
    "\n",
    "r_CTot = 0.4\n",
    "m_C = m_dry * r_CTot\n",
    "m_C"
   ]
  },
  {
   "cell_type": "markdown",
   "id": "58d20162-2ac0-4223-be70-70f23a1facf0",
   "metadata": {},
   "source": [
    "Through this path, we can get an estimate of the carbon required for the growth per unit length hypha for biomass material. We use [the density of palmitic acid](https://en.wikipedia.org/wiki/Palmitic_acid)"
   ]
  },
  {
   "cell_type": "code",
   "execution_count": 12,
   "id": "f3580897-d958-423b-98dc-1470dbb5be3b",
   "metadata": {},
   "outputs": [
    {
     "data": {
      "text/latex": [
       "\\[\n",
       "\\begin{aligned}\n",
       "m_{L_{C}} &= \\pi \\cdot \\left( r_{hypha} \\right) ^{ 2 } \\cdot d_{biomass} \\cdot r_{dw} \\cdot r_{CTot} \\\\&= 3.142 \\cdot \\left( 5.000\\ \\mathrm{μm} \\right) ^{ 2 } \\cdot 1100.000\\ \\mathrm{kg} \\cdot \\mathrm{m}^{-3} \\cdot 0.200 \\cdot 0.400 \\\\&= 0.000\\ \\mathrm{kg} \\cdot \\mathrm{m}^{-1} \\; \\;\\textrm{(the mass of carbon necesarry per unit length)}\\\\[10pt]\n",
       "\\\\[10pt]\n",
       "V_{lipid_{biomass_{theory}}} &= \\frac{ m_{L_{C}} }{ d_{palmitic} \\cdot \\mathrm{ratio}_{lipid_{C}} }  = \\frac{ 0.000\\ \\mathrm{kg} \\cdot \\mathrm{m}^{-1} }{ 850.000\\ \\mathrm{kg} \\cdot \\mathrm{m}^{-3} \\cdot 0.750 } &= 10.842\\ \\mathrm{μm}^{2} \\; \\;\\textrm{(the volume of lipid necessary per unit length, assuming all mass of lipid is carbon)}\n",
       "\\end{aligned}\n",
       "\\]"
      ],
      "text/plain": [
       "<IPython.core.display.Latex object>"
      ]
     },
     "metadata": {},
     "output_type": "display_data"
    }
   ],
   "source": [
    "%%render\n",
    "m_L_C = pi*r_hypha**2*d_biomass*r_dw*r_CTot #the mass of carbon necesarry per unit length\n",
    "V_lipid_biomass_theory = m_L_C/(d_palmitic*ratio_lipid_C) #the volume of lipid necessary per unit length, assuming all mass of lipid is carbon"
   ]
  },
  {
   "cell_type": "markdown",
   "id": "31f01a0b-07ee-402d-ab6c-62b03c46860a",
   "metadata": {},
   "source": [
    "We can then compute the total amount of lipid necessary for growth."
   ]
  },
  {
   "cell_type": "code",
   "execution_count": 13,
   "id": "f7007be0-64e8-41e3-85b9-ecb8bc383b15",
   "metadata": {},
   "outputs": [
    {
     "data": {
      "text/latex": [
       "\\[\n",
       "\\begin{aligned}\n",
       "V_{lipid_{theory}} &= V_{lipid_{energy_{theory}}} + V_{lipid_{biomass_{theory}}}  = 1.828\\ \\mathrm{μm}^{2} + 10.842\\ \\mathrm{μm}^{2} &= 12.669\\ \\mathrm{μm}^{2}  \n",
       "\\end{aligned}\n",
       "\\]"
      ],
      "text/plain": [
       "<IPython.core.display.Latex object>"
      ]
     },
     "metadata": {},
     "output_type": "display_data"
    }
   ],
   "source": [
    "%%render\n",
    "\n",
    "V_lipid_theory= V_lipid_energy_theory + V_lipid_biomass_theory"
   ]
  },
  {
   "cell_type": "markdown",
   "id": "3edee1b5-304c-4a37-a93f-3dada4333bef",
   "metadata": {},
   "source": [
    "We can then compute the theroetical CUE at the hypha growth level"
   ]
  },
  {
   "cell_type": "code",
   "execution_count": 14,
   "id": "63dc2796-79e0-4b25-9fbb-470b9f2b7b73",
   "metadata": {},
   "outputs": [
    {
     "data": {
      "text/latex": [
       "\\[\n",
       "\\begin{aligned}\n",
       "\\mathrm{CUE} &= \\frac{ V_{lipid_{biomass_{theory}}} }{ V_{lipid_{theory}} }  = \\frac{ 10.842\\ \\mathrm{μm}^{2} }{ 12.669\\ \\mathrm{μm}^{2} } &= 0.856  \n",
       "\\end{aligned}\n",
       "\\]"
      ],
      "text/plain": [
       "<IPython.core.display.Latex object>"
      ]
     },
     "metadata": {},
     "output_type": "display_data"
    }
   ],
   "source": [
    "%%render\n",
    "CUE = V_lipid_biomass_theory/V_lipid_theory"
   ]
  },
  {
   "cell_type": "markdown",
   "id": "17fe0dab-6ebb-45f6-9f55-2ab97b25ea53",
   "metadata": {},
   "source": [
    "One must take this CUE very carefully, all of this calculation are bad on a large number of assumptions. This is merely a good way to check that our order of magnitude are not completely off since the two estimates are the end result of quite different calculation. The fact that the CUE we find is not entirely absurd (although it's higher than the 0.5-0.6 at the organism level you would expect according to [here](https://www.nature.com/articles/s41467-019-11488-z)) give confidence that the computations are not too wrong."
   ]
  },
  {
   "cell_type": "markdown",
   "id": "9593954f-bc6f-489a-b815-00fc65f9d777",
   "metadata": {},
   "source": [
    "The volume of lipid necessary to grow one $\\mu m$ of hypha is informative but it is dependent on the radius of the hypha. To get rid ot this dependence, we can divide the value by the cross sectional area. This can be seen as a volume efficiency $e_{volume}$ : how much volume of biomass is being produced per unit lipid brought."
   ]
  },
  {
   "cell_type": "code",
   "execution_count": 15,
   "id": "2af9b538-e3da-4353-9351-473ee6f019cf",
   "metadata": {},
   "outputs": [
    {
     "data": {
      "text/latex": [
       "\\[\n",
       "\\begin{aligned}\n",
       "e_{volume_{theory}} &= \\frac{ \\pi \\cdot \\left( r_{hypha} \\right) ^{ 2 } }{ V_{lipid_{theory}} }  = \\frac{ 3.142 \\cdot \\left( 5.000\\ \\mathrm{μm} \\right) ^{ 2 } }{ 12.669\\ \\mathrm{μm}^{2} } &= 6.199  \n",
       "\\end{aligned}\n",
       "\\]"
      ],
      "text/plain": [
       "<IPython.core.display.Latex object>"
      ]
     },
     "metadata": {},
     "output_type": "display_data"
    }
   ],
   "source": [
    "%%render\n",
    "\n",
    "e_volume_theory = (pi*r_hypha**2)/V_lipid_theory"
   ]
  },
  {
   "cell_type": "markdown",
   "id": "ec633d19-24c5-41f6-bb53-33cfd71a8304",
   "metadata": {},
   "source": [
    "We can further check this estimates comparing our estimates to actual growth observed from single spores"
   ]
  },
  {
   "cell_type": "markdown",
   "id": "7e789a74-f530-4046-b323-8815137d48e7",
   "metadata": {},
   "source": [
    "***II. The spore loading method***"
   ]
  },
  {
   "cell_type": "markdown",
   "id": "b8394993-4e2a-40df-bb3f-18d42de777e1",
   "metadata": {},
   "source": [
    "We first estimate the volume of lipids contained in a spore."
   ]
  },
  {
   "cell_type": "code",
   "execution_count": 16,
   "id": "6a604a95-eaab-4c7b-9a1d-31c92c082b27",
   "metadata": {},
   "outputs": [
    {
     "data": {
      "text/latex": [
       "\\[\n",
       "\\begin{aligned}\n",
       "d_{spore} &= 78 \\cdot \\mathrm{um}  = 78 \\cdot 1.000\\ \\mathrm{μm} &= 78.000\\ \\mathrm{μm} \\; \\;\\textrm{(spore diameter)}\n",
       "\\\\[10pt]\n",
       "d_{spore} &= 78.000\\ \\mathrm{μm} \\; \n",
       "\\\\[10pt]\n",
       "\\mathrm{spore}_{volume} &= \\left( \\frac{ d_{spore} }{ 2 } \\right) ^{ 3 } \\cdot \\frac{ 4 }{ 3 } \\cdot \\pi \\\\&= \\left( \\frac{ 78.000\\ \\mathrm{μm} }{ 2 } \\right) ^{ 3 } \\cdot \\frac{ 4 }{ 3 } \\cdot 3.142 \\\\&= 248474.846\\ \\mathrm{μm}^{3}  \\\\[10pt]\n",
       "\\\\[10pt]\n",
       "\\rho_{lipid_{spore}} &= 0.100 \\; \\;\\textrm{(the percentage of volume occupied by lipids)}\n",
       "\\\\[10pt]\n",
       "V_{lipid} &= \\mathrm{spore}_{volume} \\cdot \\rho_{lipid_{spore}}  = 248474.846\\ \\mathrm{μm}^{3} \\cdot 0.100 &= 24847.485\\ \\mathrm{μm}^{3}  \n",
       "\\end{aligned}\n",
       "\\]"
      ],
      "text/plain": [
       "<IPython.core.display.Latex object>"
      ]
     },
     "metadata": {},
     "output_type": "display_data"
    }
   ],
   "source": [
    "%%render\n",
    "\n",
    "d_spore = 78*um #spore diameter\n",
    "d_spore\n",
    "spore_volume = (d_spore/2)**3*4/3*pi\n",
    "rho_lipid_spore = 0.1 #the percentage of volume occupied by lipids\n",
    "V_lipid = spore_volume*rho_lipid_spore\n"
   ]
  },
  {
   "cell_type": "markdown",
   "id": "d122f2b3-309b-41e4-b715-85b5f0b86e41",
   "metadata": {},
   "source": [
    "There is an alternative way of estimating this volume. The table 3 [here](https://doi.org/10.1017/S0953756299001410) indicates that 20% of the biomass spore of G. intraradices can be lipids. We use the same approach as before. However is really 10% of the volume is lipid, we need to adapt the $r_{d/w}$ parameter."
   ]
  },
  {
   "cell_type": "code",
   "execution_count": 17,
   "id": "20389c91-73be-4e39-a35e-2a1932025f9b",
   "metadata": {},
   "outputs": [
    {
     "data": {
      "text/latex": [
       "\\[\n",
       "\\begin{aligned}\n",
       "m_{wet} &= \\mathrm{spore}_{volume} \\cdot d_{biomass}  = 248474.846\\ \\mathrm{μm}^{3} \\cdot 1100.000\\ \\mathrm{kg} \\cdot \\mathrm{m}^{-3} &= 273.322\\ \\mathrm{ng}  \n",
       "\\\\[10pt]\n",
       "r_{dw} &= 0.300 \\; \n",
       "\\\\[10pt]\n",
       "m_{dry} &= m_{wet} \\cdot r_{dw}  = 273.322\\ \\mathrm{ng} \\cdot 0.300 &= 81.997\\ \\mathrm{ng}  \n",
       "\\\\[10pt]\n",
       "\\mathrm{lipid}_{prop} &= 0.200 \\; \n",
       "\\\\[10pt]\n",
       "m_{lipid_{data}} &= m_{dry} \\cdot \\mathrm{lipid}_{prop}  = 81.997\\ \\mathrm{ng} \\cdot 0.200 &= 16.399\\ \\mathrm{ng}  \n",
       "\\\\[10pt]\n",
       "V_{lipid_{data}} &= \\frac{ m_{lipid_{data}} }{ d_{palmitic} }  = \\frac{ 16.399\\ \\mathrm{ng} }{ 850.000\\ \\mathrm{kg} \\cdot \\mathrm{m}^{-3} } &= 19293.341\\ \\mathrm{μm}^{3}  \n",
       "\\end{aligned}\n",
       "\\]"
      ],
      "text/plain": [
       "<IPython.core.display.Latex object>"
      ]
     },
     "metadata": {},
     "output_type": "display_data"
    }
   ],
   "source": [
    "%%render\n",
    "m_wet = spore_volume * d_biomass\n",
    "r_dw=0.3\n",
    "m_dry = m_wet*r_dw\n",
    "lipid_prop = 0.2\n",
    "m_lipid_data = m_dry*lipid_prop\n",
    "V_lipid_data = m_lipid_data / d_palmitic"
   ]
  },
  {
   "cell_type": "markdown",
   "id": "61ac19cb-7cbd-4e07-95e3-ec52f1b64aa5",
   "metadata": {},
   "source": [
    "The two values yield results of similar order of magnitude, this gives confidence in the first calculation"
   ]
  },
  {
   "cell_type": "markdown",
   "id": "81b760bb-2a82-4677-9ff2-347ea9a7cd03",
   "metadata": {},
   "source": [
    "Assuming the ratio of lipid in the spore is constant, the reachable length of the germinating spore $L_{germ}$should be a cubic function of spore diameter. $L_{germ} = a.d_{spore}**3$ with coefficien $a = \\rho_{lipid} / V_{lipid}$ where $\\rho_{lipid}$ is the propotion of spore volume filled with lipids and $V_{lipid}$ is the volume of lipid necessary per unit length of growth."
   ]
  },
  {
   "cell_type": "markdown",
   "id": "175faca0-1600-4472-9412-4fceb22e91cd",
   "metadata": {},
   "source": [
    "Let's see if we see such a relationship in Vasilis data with spores"
   ]
  },
  {
   "cell_type": "code",
   "execution_count": 18,
   "id": "1d316a10-e816-4aae-a492-f0a6f628bcfc",
   "metadata": {},
   "outputs": [],
   "source": [
    "data = pd.read_excel(\"vasilis_data.xlsx\",sheet_name=\"Experiment 1\")\n",
    "data = data.loc[data['THL']<=30000]\n",
    "data = data.loc[data['SD']<=150]\n",
    "data = data.sort_values(by=\"SD\")\n",
    "\n",
    "data_dik = data.loc[data['Karyosis']=='Dikaryon'].copy()\n",
    "data_hom = data.loc[data['Karyosis']=='Homokaryon'].copy()\n",
    "rolling = 20\n",
    "for sub_data in [data_hom,data_dik,data]:\n",
    "    sub_data['THL_mean']=sub_data[\"THL\"].rolling(rolling).mean()\n",
    "    sub_data['THL_sup']=sub_data[\"THL\"].rolling(rolling,center=True).quantile(0.9)\n",
    "    sub_data['rolling average total_growth (um)']=sub_data['THL_mean']\n",
    "    sub_data['rolling sup total_growth (um)']=sub_data['THL_sup']\n",
    "    sub_data['logTHL']=np.log(sub_data[\"THL\"])\n",
    "    sub_data['logTHL_mean']=sub_data[\"logTHL\"].rolling(rolling).mean()\n",
    "    sub_data['logTHL_sup']=sub_data[\"logTHL\"].rolling(rolling).quantile(0.9)"
   ]
  },
  {
   "cell_type": "markdown",
   "id": "02bbe815-b67c-4ac2-a3a8-54be84b310cd",
   "metadata": {},
   "source": [
    "We do a rolling 90th percentile to really get the data corresponding to maximum growth of spores : spore going to their full potential of growth"
   ]
  },
  {
   "cell_type": "code",
   "execution_count": 19,
   "id": "88dbae65-c756-4097-b2e0-fecbc0f0aee0",
   "metadata": {},
   "outputs": [
    {
     "data": {
      "text/plain": [
       "Text(0, 0.5, 'Total hyphal length ($\\\\mu m$)')"
      ]
     },
     "execution_count": 19,
     "metadata": {},
     "output_type": "execute_result"
    },
    {
     "data": {
      "image/png": "[encoded data removed]",
      "text/plain": [
       "<Figure size 432x288 with 1 Axes>"
      ]
     },
     "metadata": {
      "needs_background": "light"
     },
     "output_type": "display_data"
    }
   ],
   "source": [
    "fig, ax = plt.subplots()\n",
    "data_dik.plot('SD','THL_sup',kind=\"scatter\",ax=ax,label=\"dikaryon\")\n",
    "data_hom.plot('SD','THL_sup',kind=\"scatter\",ax=ax,color='red',label=\"homokaryon\")\n",
    "ax.set_xlabel('Spore diameter ($\\mu m$)')\n",
    "ax.set_ylabel('Total hyphal length ($\\mu m$)')"
   ]
  },
  {
   "cell_type": "markdown",
   "id": "2f82c0bd-93c8-4ca8-95a5-ed0d92030a87",
   "metadata": {},
   "source": [
    "Bigger spores indeed create longer hyphae. The plateauing at the end is an artefact of the rolling statistics and should be ignored."
   ]
  },
  {
   "cell_type": "markdown",
   "id": "6a0e61b8-46da-45ed-b0fc-fba7401dce5d",
   "metadata": {},
   "source": [
    "We can get a finer estimates of the $a$ coefficient by doint a curve fit assuming the cubic dependence"
   ]
  },
  {
   "cell_type": "code",
   "execution_count": 20,
   "id": "4f5f0330-33a8-4d26-b4d7-19d3fed9305b",
   "metadata": {},
   "outputs": [],
   "source": [
    "from scipy.optimize import curve_fit\n",
    "def cubic(x,a):\n",
    "    return(a*x**3)"
   ]
  },
  {
   "cell_type": "markdown",
   "id": "0e022013-8f71-4163-a51e-69c8f671d6a1",
   "metadata": {},
   "source": [
    "We can then fit a cubic function to the data to find its coefficient."
   ]
  },
  {
   "cell_type": "code",
   "execution_count": 21,
   "id": "69eba00b-47b1-4311-8f27-4bd52ff2c5a5",
   "metadata": {},
   "outputs": [],
   "source": [
    "data_select = data_dik.loc[~data_dik['THL_sup'].isnull()]\n",
    "popt,cov = curve_fit(cubic, data_select['SD'],data_select['THL_sup'],bounds = ([0],[np.inf]),p0=[1])"
   ]
  },
  {
   "cell_type": "code",
   "execution_count": 22,
   "id": "41b068a4-7cdd-4bc0-a582-2d645df82707",
   "metadata": {},
   "outputs": [
    {
     "data": {
      "text/plain": [
       "Text(0, 0.5, 'Total hyphal length ($\\\\mu m$)')"
      ]
     },
     "execution_count": 22,
     "metadata": {},
     "output_type": "execute_result"
    },
    {
     "data": {
      "image/png": "[encoded data removed]",
      "text/plain": [
       "<Figure size 432x288 with 1 Axes>"
      ]
     },
     "metadata": {
      "needs_background": "light"
     },
     "output_type": "display_data"
    }
   ],
   "source": [
    "fig, ax = plt.subplots()\n",
    "data_dik.plot('SD','THL_sup',kind=\"scatter\",ax=ax,label=\"dikaryon\")\n",
    "ax.plot(data_dik['SD'],popt[0]*data_dik['SD']**3)\n",
    "ax.set_xlabel('Spore diameter ($\\mu m$)')\n",
    "ax.set_ylabel('Total hyphal length ($\\mu m$)')"
   ]
  },
  {
   "cell_type": "markdown",
   "id": "a2a552f5-0660-45c5-a154-2daa37963212",
   "metadata": {},
   "source": [
    "We can then estimate a data based estimate of $V_{lipid}$"
   ]
  },
  {
   "cell_type": "code",
   "execution_count": 23,
   "id": "e07f7166-e269-4d8d-9aa3-630b4e05496a",
   "metadata": {},
   "outputs": [
    {
     "data": {
      "text/latex": [
       "\\[\n",
       "\\begin{aligned}\n",
       "a_{data} &= 0.024\\ \\mathrm{μm}^{-2} \\; \n",
       "\\\\[10pt]\n",
       "V_{lipid} &= \\frac{ \\rho_{lipid_{spore}} }{ a_{data} }  = \\frac{ 0.100 }{ 0.024\\ \\mathrm{μm}^{-2} } &= 4.187\\ \\mathrm{μm}^{2}  \n",
       "\\end{aligned}\n",
       "\\]"
      ],
      "text/plain": [
       "<IPython.core.display.Latex object>"
      ]
     },
     "metadata": {},
     "output_type": "display_data"
    }
   ],
   "source": [
    "%%render\n",
    "a_data = popt[0] * um**-2\n",
    "V_lipid = rho_lipid_spore/a_data"
   ]
  },
  {
   "cell_type": "markdown",
   "id": "c19e769b-2768-4922-9925-98fac997c277",
   "metadata": {},
   "source": [
    "We can compare the volume of lipid necessary per unit length of hypha for protein synthesis"
   ]
  },
  {
   "cell_type": "markdown",
   "id": "7dbc6b89-4510-43ba-94c7-a05382a1a6ea",
   "metadata": {},
   "source": [
    "Then total lipid necessary per $\\mu m$ of hyphal growth is then "
   ]
  },
  {
   "cell_type": "markdown",
   "id": "22b3a583-805c-445c-abb0-bd233df1d69b",
   "metadata": {},
   "source": [
    "We can compare this to the experimental value obtained from spore data, as a reminder"
   ]
  },
  {
   "cell_type": "code",
   "execution_count": 24,
   "id": "7b0dc4fb-a5d4-4737-9482-6beb5655e066",
   "metadata": {},
   "outputs": [
    {
     "data": {
      "text/latex": [
       "\\[\n",
       "\\begin{aligned}\n",
       "\\rho_{lipid_{spore}} &= 0.100 \\; \n",
       "\\\\[10pt]\n",
       "V_{lipid_{experiment}} &= \\frac{ 4 }{ 3 } \\cdot \\pi \\cdot \\frac{ \\rho_{lipid_{spore}} }{ a_{data} }  = \\frac{ 4 }{ 3 } \\cdot 3.142 \\cdot \\frac{ 0.100 }{ 0.024\\ \\mathrm{μm}^{-2} } &= 17.538\\ \\mathrm{μm}^{2}  \n",
       "\\\\[10pt]\n",
       "V_{lipid_{experiment}} &= 17.538\\ \\mathrm{μm}^{2} \\; \n",
       "\\end{aligned}\n",
       "\\]"
      ],
      "text/plain": [
       "<IPython.core.display.Latex object>"
      ]
     },
     "metadata": {},
     "output_type": "display_data"
    }
   ],
   "source": [
    "%%render\n",
    "rho_lipid_spore = 0.1\n",
    "V_lipid_experiment = 4/3*pi*rho_lipid_spore/a_data\n",
    "V_lipid_experiment"
   ]
  },
  {
   "cell_type": "markdown",
   "id": "518d1b9d-1f38-4a86-84f3-ced016331ec9",
   "metadata": {},
   "source": [
    "Germ tubes are however thinner than the typical hyphae, for full comparison its better to compar volume efficiencies."
   ]
  },
  {
   "cell_type": "code",
   "execution_count": 34,
   "id": "87ed949a-af4b-47f1-ac6d-b24743d8d4ba",
   "metadata": {},
   "outputs": [
    {
     "data": {
      "text/latex": [
       "\\[\n",
       "\\begin{aligned}\n",
       "r_{germtube} &= 2 \\times 10 ^ {-6} \\cdot \\mathrm{si.m}  = 2 \\times 10 ^ {-6} \\cdot si.m &= 2.000\\ \\mathrm{μm}  \n",
       "\\\\[10pt]\n",
       "e_{volume_{data}} &= \\frac{ \\pi \\cdot \\left( r_{germtube} \\right) ^{ 2 } }{ V_{lipid_{theory}} }  = \\frac{ 3.142 \\cdot \\left( 2.000\\ \\mathrm{μm} \\right) ^{ 2 } }{ 12.669\\ \\mathrm{μm}^{2} } &= 0.992  \n",
       "\\\\[10pt]\n",
       "e_{volume_{theory}} &= 6.199 \\; \n",
       "\\end{aligned}\n",
       "\\]"
      ],
      "text/plain": [
       "<IPython.core.display.Latex object>"
      ]
     },
     "metadata": {},
     "output_type": "display_data"
    }
   ],
   "source": [
    "%%render\n",
    "r_germtube = 2e-6 *si.m\n",
    "e_volume_data = (pi*r_germtube**2)/V_lipid_theory\n",
    "e_volume_theory"
   ]
  },
  {
   "cell_type": "markdown",
   "id": "8c79d205-24a7-46ef-a263-f3f86983e450",
   "metadata": {},
   "source": [
    "Again, the orders of magnitude match. Our estimates of the lipid volume necessary for growth is robust."
   ]
  },
  {
   "cell_type": "markdown",
   "id": "f63ec20b-bf0b-4974-a929-87687c820945",
   "metadata": {},
   "source": [
    "For the rest we'll use the average of those two estimates "
   ]
  },
  {
   "cell_type": "code",
   "execution_count": 43,
   "id": "cb8dd1cc-d887-434b-a70f-6555d0821bf0",
   "metadata": {},
   "outputs": [
    {
     "data": {
      "text/latex": [
       "\\[\n",
       "\\begin{aligned}\n",
       "e_{volume} &= \\frac{ e_{volume_{theory}} + e_{volume_{data}} }{ 2 }  = \\frac{ 6.199 + 0.992 }{ 2 } &= 0.992  \n",
       "\\\\[10pt]\n",
       "e_{volume} &= 0.992 \\; \n",
       "\\end{aligned}\n",
       "\\]"
      ],
      "text/plain": [
       "<IPython.core.display.Latex object>"
      ]
     },
     "metadata": {},
     "output_type": "display_data"
    }
   ],
   "source": [
    "%%render\n",
    "\n",
    "e_volume = (e_volume_theory+e_volume_data)/2\n",
    "e_volume = e_volume_data"
   ]
  },
  {
   "cell_type": "markdown",
   "id": "f367d136-517c-4bd7-afdc-40d96deef6c0",
   "metadata": {},
   "source": [
    "What does this mean in terms of transport? We know that individual hyphae can grow at a speed of $300\\mu m.h^{-1}$"
   ]
  },
  {
   "cell_type": "code",
   "execution_count": 44,
   "id": "5c5505f7-96e6-47e7-9b93-a06b88d9073c",
   "metadata": {},
   "outputs": [
    {
     "data": {
      "text/latex": [
       "\\[\n",
       "\\begin{aligned}\n",
       "v_{hypha_{growth}} &= \\frac{ 30000 }{ 3600 } \\cdot \\mathrm{si.mum}_{s}  = \\frac{ 30000 }{ 3600 } \\cdot si.mum_{s} &= 8.333\\ \\mathrm{µm} \\cdot \\mathrm{s⁻¹}  \n",
       "\\\\[10pt]\n",
       "r_{hypha} &= 2 \\cdot \\mathrm{um}  = 2 \\cdot 1.000\\ \\mathrm{μm} &= 2.000\\ \\mathrm{μm} \\; \\;\\textrm{(hypha radius)}\n",
       "\\\\[10pt]\n",
       "\\Phi_{lipid_{required}} &= \\pi \\cdot \\left( r_{hypha} \\right) ^{ 2 } \\cdot \\frac{ v_{hypha_{growth}} }{ e_{volume} }  = 3.142 \\cdot \\left( 2.000\\ \\mathrm{μm} \\right) ^{ 2 } \\cdot \\frac{ 8.333\\ \\mathrm{µm} \\cdot \\mathrm{s⁻¹} }{ 0.992 } &= 0.000\\ \\mathrm{m}^{3} \\cdot \\mathrm{s}^{-1}  \n",
       "\\end{aligned}\n",
       "\\]"
      ],
      "text/plain": [
       "<IPython.core.display.Latex object>"
      ]
     },
     "metadata": {},
     "output_type": "display_data"
    }
   ],
   "source": [
    "%%render\n",
    "v_hypha_growth = 30000/3600 * si.mum_s\n",
    "r_hypha = 2 *um #hypha radius\n",
    "Phi_lipid_required =  pi * r_hypha**2*v_hypha_growth/e_volume"
   ]
  },
  {
   "cell_type": "markdown",
   "id": "57daae15-230d-4307-ae6c-481b8c97243b",
   "metadata": {},
   "source": [
    "How fast do lipid need to travel to match this flux? To estimate this we need to know the ratio of hyphal cross section filled with lipids. From [here](https://academic.oup.com/plphys/article/128/1/108/6110058?searchresult=1) we get a value of 20% for R. irregularis."
   ]
  },
  {
   "cell_type": "code",
   "execution_count": 46,
   "id": "a9f128f5-2f85-421b-b0ca-c63656d040bb",
   "metadata": {},
   "outputs": [
    {
     "data": {
      "text/latex": [
       "\\[\n",
       "\\begin{aligned}\n",
       "r_{hypha_{trunk}} &= 5 \\cdot \\mathrm{um}  = 5 \\cdot 1.000\\ \\mathrm{μm} &= 5.000\\ \\mathrm{μm}  \n",
       "\\\\[10pt]\n",
       "\\rho_{lipid} &= 0.200 \\; \\;\\textrm{(ratio of hyphal volume filled with lipids see)}\n",
       "\\\\[10pt]\n",
       "v_{lipid} &= \\frac{ \\Phi_{lipid_{required}} }{ \\rho_{lipid} \\cdot \\pi \\cdot \\left( r_{hypha_{trunk}} \\right) ^{ 2 } }  = \\frac{ 0.000\\ \\mathrm{m}^{3} \\cdot \\mathrm{s}^{-1} }{ 0.200 \\cdot 3.142 \\cdot \\left( 5.000\\ \\mathrm{μm} \\right) ^{ 2 } } &= 6.721\\ \\mathrm{µm} \\cdot \\mathrm{s⁻¹}  \n",
       "\\end{aligned}\n",
       "\\]"
      ],
      "text/plain": [
       "<IPython.core.display.Latex object>"
      ]
     },
     "metadata": {},
     "output_type": "display_data"
    }
   ],
   "source": [
    "%%render\n",
    "r_hypha_trunk = 5*um\n",
    "rho_lipid = 0.2 #ratio of hyphal volume filled with lipids see \n",
    "v_lipid = Phi_lipid_required/(rho_lipid*pi * r_hypha_trunk**2)"
   ]
  },
  {
   "cell_type": "markdown",
   "id": "9a51ae6f-dd41-4425-9df4-ae482225b4ba",
   "metadata": {},
   "source": [
    "This is much smaller than the value we observe for transport speed. However this is when only one hypha is growing in parallel. There are typicall tens of hyphae growing from one hypha in parallel. All the lipid fueling this growth has to pass through a trunk hypha that connect to the root. In our experiment we see total colony growth speed being $100\\times$ the single hypha growth speed. However a lot of the contribution to this growth speed in length is from finer hyphae. There are also potentially multiple trunk hyphae connecting to the root compartment. If we take $N =20$ hyphae that depend on a trunk hypha we get"
   ]
  },
  {
   "cell_type": "code",
   "execution_count": 29,
   "id": "152a38cd-8acf-42ee-a59c-697caeb0935c",
   "metadata": {},
   "outputs": [
    {
     "data": {
      "text/latex": [
       "\\[\n",
       "\\begin{aligned}\n",
       "N_{hyphae} &= 20 \\; \n",
       "\\\\[10pt]\n",
       "v_{lipid_{tot}} &= v_{lipid} \\cdot N_{hyphae}  = 0.099\\ \\mathrm{µm} \\cdot \\mathrm{s⁻¹} \\cdot 20 &= 1.977\\ \\mathrm{µm} \\cdot \\mathrm{s⁻¹}  \n",
       "\\end{aligned}\n",
       "\\]"
      ],
      "text/plain": [
       "<IPython.core.display.Latex object>"
      ]
     },
     "metadata": {},
     "output_type": "display_data"
    }
   ],
   "source": [
    "%%render\n",
    "N_hyphae = 20\n",
    "v_lipid_tot = v_lipid * N_hyphae"
   ]
  },
  {
   "cell_type": "markdown",
   "id": "ee8f9436-b243-472c-ab68-03ee97da0070",
   "metadata": {},
   "source": [
    "We approach the order of magnitude of transport speed observed in the network"
   ]
  }
 ],
 "metadata": {
  "kernelspec": {
   "display_name": "Python 3 (ipykernel)",
   "language": "python",
   "name": "python3"
  },
  "language_info": {
   "codemirror_mode": {
    "name": "ipython",
    "version": 3
   },
   "file_extension": ".py",
   "mimetype": "text/x-python",
   "name": "python",
   "nbconvert_exporter": "python",
   "pygments_lexer": "ipython3",
   "version": "3.10.6"
  }
 },
 "nbformat": 4,
 "nbformat_minor": 5
}
