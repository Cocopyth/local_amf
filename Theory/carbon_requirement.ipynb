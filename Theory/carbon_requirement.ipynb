{
 "cells": [
  {
   "cell_type": "markdown",
   "id": "51c04b27-f680-43d1-8e16-4a840e80fc52",
   "metadata": {},
   "source": [
    "***I. The fully theoretical computation***"
   ]
  },
  {
   "cell_type": "code",
   "execution_count": 1,
   "id": "2c41db59-f921-4c95-b507-a71a2a893ec7",
   "metadata": {},
   "outputs": [],
   "source": [
    "import handcalcs.render\n",
    "import matplotlib.pyplot as plt\n",
    "import numpy as np\n",
    "import pandas as pd\n",
    "from math import pi\n",
    "import forallpeople as si"
   ]
  },
  {
   "cell_type": "code",
   "execution_count": 2,
   "id": "68359025-477b-4374-9465-fe659b998536",
   "metadata": {},
   "outputs": [
    {
     "name": "stdout",
     "output_type": "stream",
     "text": [
      "{'Hz': 1.000 Hz, 'N': 1.000 N, 'Pa': 1.000 Pa, 'J': 1.000 J, 'W': 1.000 W, 'C': 1.000 C, 'V': 1.000 V, 'F': 1.000 F, 'Ohm': 1.000 Ω, 'S': 1.000 S, 'Wb': 1.000 Wb, 'T': 1.000 T, 'H': 1.000 H, 'Celsius': 1.000 °C, 'lux': 1.000 lux, 'Gy': 1.000 m²·s⁻², 'katal': 1.000 kat, 'minute': 1.000 minutes, 'hour': 1.000 hours, 'day': 1.000 days, 'um': 1.000 μm, 'mum_s': 1.000 µm·s⁻¹, 'muJ_mum': 1.000 mJ·µm⁻¹} \n",
      " {'kg': 1.000 kg, 'm': 1.000 m, 's': 1.000 s, 'A': 1.000 A, 'cd': 1.000 cd, 'K': 1.000 °C, 'mol': 1.000 mol}\n"
     ]
    }
   ],
   "source": [
    "si.environment('custom')\n",
    "si.environment()"
   ]
  },
  {
   "cell_type": "code",
   "execution_count": 3,
   "id": "e8574873-b80a-4df2-9c8d-0ec036eca2bd",
   "metadata": {},
   "outputs": [
    {
     "name": "stdout",
     "output_type": "stream",
     "text": [
      "Available units: \n"
     ]
    }
   ],
   "source": [
    "si.um.to()"
   ]
  },
  {
   "cell_type": "code",
   "execution_count": 4,
   "id": "2f7c8c75-37e4-4f00-803f-e2c376d2a255",
   "metadata": {},
   "outputs": [],
   "source": [
    "uJ = (1e-6 * si.J)\n",
    "MJ = 1e6*si.J\n",
    "L = 1e-3*si.m**3\n",
    "um = 1e-6*si.m\n",
    "ug = 1e-9 * si.kg"
   ]
  },
  {
   "cell_type": "markdown",
   "id": "d695752f-03aa-492d-bbe6-b0f007d1ba10",
   "metadata": {},
   "source": [
    "Let's compute the amount of lipid able to pass through one hypha per unit time and the amount of power it represents (in $\\mu W$)"
   ]
  },
  {
   "cell_type": "code",
   "execution_count": 5,
   "id": "993103e3-26f4-49f6-8210-11bec1830ecd",
   "metadata": {},
   "outputs": [
    {
     "data": {
      "text/latex": [
       "\\[\n",
       "\\begin{aligned}\n",
       "\\rho_{TAG} &= 0.200 \\; \\;\\textrm{(ratio of hyphal volume filled with lipids)}\n",
       "\\\\[10pt]\n",
       "\\mathrm{eTAG} &= 30 \\cdot \\mathrm{MJ} \\cdot \\left( L \\right) ^{ -1 }  = 30 \\cdot 1.000\\ \\mathrm{MJ} \\cdot \\left( 1000000.000\\ \\mathrm{mm}^{3} \\right) ^{ -1 } &= 30.000\\ \\mathrm{GPa} \\; \\;\\textrm{(the energy density of TAG lipids)}\n",
       "\\\\[10pt]\n",
       "\\rho_{e} &= \\rho_{TAG} \\cdot \\mathrm{eTAG}  = 0.200 \\cdot 30.000\\ \\mathrm{GPa} &= 6.000\\ \\mathrm{GPa} \\; \\;\\textrm{(the energy density of hypha volume)}\n",
       "\\\\[10pt]\n",
       "r_{hypha_{trunk}} &= 5 \\cdot \\mathrm{um}  = 5 \\cdot 1.000\\ \\mathrm{μm} &= 5.000\\ \\mathrm{μm} \\; \\;\\textrm{(Hyphal radius)}\n",
       "\\\\[10pt]\n",
       "v_{transport} &= 5 \\cdot \\mathrm{si.mum}_{s}  = 5 \\cdot si.mum_{s} &= 5.000\\ \\mathrm{µm} \\cdot \\mathrm{s⁻¹} \\; \\;\\textrm{(speed of transport within hypha)}\n",
       "\\\\[10pt]\n",
       "P_{trunk} &= \\pi \\cdot \\left( r_{hypha_{trunk}} \\right) ^{ 2 } \\cdot \\rho_{e} \\cdot v_{transport}  = 3.142 \\cdot \\left( 5.000\\ \\mathrm{μm} \\right) ^{ 2 } \\cdot 6.000\\ \\mathrm{GPa} \\cdot 5.000\\ \\mathrm{µm} \\cdot \\mathrm{s⁻¹} &= 2.356\\ \\mathrm{μW} \\; \\;\\textrm{(maxium potential power provided by one trunk hypha)}\n",
       "\\end{aligned}\n",
       "\\]"
      ],
      "text/plain": [
       "<IPython.core.display.Latex object>"
      ]
     },
     "metadata": {},
     "output_type": "display_data"
    }
   ],
   "source": [
    "%%render\n",
    "rho_TAG = 0.2 #ratio of hyphal volume filled with lipids\n",
    "eTAG = 30 *MJ * L**-1 #the energy density of TAG lipids\n",
    "rho_e = rho_TAG*eTAG #the energy density of hypha volume\n",
    "r_hypha_trunk = 5* um #Hyphal radius\n",
    "v_transport = 5 *si.mum_s#speed of transport within hypha\n",
    "P_trunk = pi*r_hypha_trunk**2*rho_e*v_transport #maxium potential power provided by one trunk hypha\n",
    "# phi_TAG = v_transport*rho_TAG*pi*r_hypha**2 #um3.s-1\n",
    "# phi_TAG = phi_TAG*3600 #um3.h-1\n",
    "# d_TAG = 1/1e15*0.8*1e9 *ug * um**-3\n",
    "# phi_TAG = phi_TAG*d_TAG #ug.s-1"
   ]
  },
  {
   "cell_type": "markdown",
   "id": "00817a15-e5a1-4d23-983e-eaa0b1b43d0b",
   "metadata": {},
   "source": [
    "Now let's compute the theoretical energy necessary to grow one $\\mu m$ of hypha"
   ]
  },
  {
   "cell_type": "code",
   "execution_count": 6,
   "id": "e1ab996b-a25a-49ec-b3b8-b33f332f7e22",
   "metadata": {},
   "outputs": [
    {
     "data": {
      "text/latex": [
       "\\[\n",
       "\\begin{aligned}\n",
       "\\mathrm{NA} &= 6.02 \\cdot 1 \\times 10 ^ {23} \\cdot \\left( \\mathrm{si.mol} \\right) ^{ -1 }  = 6.02 \\cdot 1 \\times 10 ^ {23} \\cdot \\left( si.mol \\right) ^{ -1 } &= 0.602\\ \\mathrm{ymol}^{-1} \\; \\;\\textrm{(avogadro number)}\n",
       "\\\\[10pt]\n",
       "e_{ATP} &= 40 \\cdot 1 \\times 10 ^ {3} \\cdot \\mathrm{si.J} \\cdot \\left( \\mathrm{si.mol} \\right) ^{ -1 } \\\\&= 40 \\cdot 1 \\times 10 ^ {3} \\cdot si.J \\cdot \\left( si.mol \\right) ^{ -1 } \\\\&= 40000.000\\ \\mathrm{kg} \\cdot \\mathrm{m}^{2} \\cdot \\mathrm{s}^{-2} \\cdot \\mathrm{mol}^{-1}  \\\\[10pt]\n",
       "\\\\[10pt]\n",
       "L_{prot} &= 400 \\; \n",
       "\\\\[10pt]\n",
       "n &= 3 \\times 10 ^ {6} \\cdot \\frac{ \\left( \\mathrm{um} \\right) ^{ -3 } }{ \\mathrm{NA} } \\\\&= 3 \\times 10 ^ {6} \\cdot \\frac{ \\left( 1.000\\ \\mathrm{μm} \\right) ^{ -3 } }{ 0.602\\ \\mathrm{ymol}^{-1} } \\\\&= 4.983\\ \\mathrm{m}^{-3} \\cdot \\mathrm{mol}  \\\\[10pt]\n",
       "\\\\[10pt]\n",
       "\\mathrm{Eproteinsynthesis} &= 4 \\; \n",
       "\\\\[10pt]\n",
       "r_{hypha} &= 5 \\cdot \\mathrm{um}  = 5 \\cdot 1.000\\ \\mathrm{μm} &= 5.000\\ \\mathrm{μm}  \n",
       "\\\\[10pt]\n",
       "e_{total_{prot_{synth}}} &= \\mathrm{Eproteinsynthesis} \\cdot e_{ATP} \\cdot L_{prot} \\cdot n \\cdot \\mathrm{np.pi} \\cdot \\left( r_{hypha} \\right) ^{ 2 } \\\\&= 4 \\cdot 40000.000\\ \\mathrm{kg} \\cdot \\mathrm{m}^{2} \\cdot \\mathrm{s}^{-2} \\cdot \\mathrm{mol}^{-1} \\cdot 400 \\cdot 4.983\\ \\mathrm{m}^{-3} \\cdot \\mathrm{mol} \\cdot np.pi \\cdot \\left( 5.000\\ \\mathrm{μm} \\right) ^{ 2 } \\\\&= 25.049\\ \\mathrm{mN}  \\\\[10pt]\n",
       "\\end{aligned}\n",
       "\\]"
      ],
      "text/plain": [
       "<IPython.core.display.Latex object>"
      ]
     },
     "metadata": {},
     "output_type": "display_data"
    }
   ],
   "source": [
    "%%render\n",
    "\n",
    "NA = 6.02*1e23 *si.mol**-1 #avogadro number\n",
    "\n",
    "e_ATP= 40 * 1e3 *si.J * si.mol**-1 \n",
    "L_prot = 400 \n",
    "n = 3e6*um**-3/NA \n",
    "Eproteinsynthesis = 4 \n",
    "r_hypha = 5 *um\n",
    "e_total_prot_synth = Eproteinsynthesis*e_ATP*L_prot*n*np.pi*r_hypha**2 "
   ]
  },
  {
   "cell_type": "code",
   "execution_count": 7,
   "id": "7b3a26be-9fe4-4af2-b893-4e9d1f3d78e1",
   "metadata": {},
   "outputs": [],
   "source": [
    "e_total_prot_synth = e_total_prot_synth.to('muJ_mum')"
   ]
  },
  {
   "cell_type": "markdown",
   "id": "78608f13-37bf-4b1c-b379-1ef432518c55",
   "metadata": {},
   "source": [
    "expressed in $mJ.\\mu m^{-1}$"
   ]
  },
  {
   "cell_type": "code",
   "execution_count": 8,
   "id": "f15a648d-a74b-4bba-aa42-9e8e37ad5058",
   "metadata": {},
   "outputs": [
    {
     "data": {
      "text/latex": [
       "\\[\n",
       "\\begin{aligned}\n",
       "e_{total_{prot_{synth}}} &= 25.049\\ \\mathrm{mJ} \\cdot \\mathrm{µm⁻¹} \\; \n",
       "\\end{aligned}\n",
       "\\]"
      ],
      "text/plain": [
       "<IPython.core.display.Latex object>"
      ]
     },
     "metadata": {},
     "output_type": "display_data"
    }
   ],
   "source": [
    "%%render\n",
    "e_total_prot_synth"
   ]
  },
  {
   "cell_type": "markdown",
   "id": "ca6a37c3-de62-4c0f-a4ad-606874306d4f",
   "metadata": {},
   "source": [
    "Now we can use an estimate of the total colony growth speed to get some estimate of power requirement and compare the power necessary for growth and the one that can be provided by one trunk hypha"
   ]
  },
  {
   "cell_type": "code",
   "execution_count": 9,
   "id": "4a2ebb6a-9894-444a-a132-536ace3637f8",
   "metadata": {},
   "outputs": [
    {
     "data": {
      "text/latex": [
       "\\[\n",
       "\\begin{aligned}\n",
       "v_{colony_{growth}} &= \\frac{ 30000 }{ 3600 } \\cdot \\mathrm{si.mum}_{s}  = \\frac{ 30000 }{ 3600 } \\cdot si.mum_{s} &= 8.333\\ \\mathrm{µm} \\cdot \\mathrm{s⁻¹} \\; \\;\\textrm{(total colony growth speed)}\n",
       "\\\\[10pt]\n",
       "P_{total_{protein_{synthesis}}} &= e_{total_{prot_{synth}}} \\cdot v_{colony_{growth}}  = 25.049\\ \\mathrm{mJ} \\cdot \\mathrm{µm⁻¹} \\cdot 8.333\\ \\mathrm{µm} \\cdot \\mathrm{s⁻¹} &= 208.744\\ \\mathrm{nW}  \n",
       "\\\\[10pt]\n",
       "\\mathrm{ratio}_{power} &= \\frac{ P_{total_{protein_{synthesis}}} }{ P_{trunk} }  = \\frac{ 208.744\\ \\mathrm{nW} }{ 2.356\\ \\mathrm{μW} } &= 0.089  \n",
       "\\end{aligned}\n",
       "\\]"
      ],
      "text/plain": [
       "<IPython.core.display.Latex object>"
      ]
     },
     "metadata": {},
     "output_type": "display_data"
    }
   ],
   "source": [
    "%%render\n",
    "\n",
    "v_colony_growth = 30000 /3600*si.mum_s #total colony growth speed\n",
    "P_total_protein_synthesis = e_total_prot_synth*v_colony_growth\n",
    "ratio_power = P_total_protein_synthesis/P_trunk"
   ]
  },
  {
   "cell_type": "markdown",
   "id": "02eb3252-7132-42a0-b73d-52c64bdbb124",
   "metadata": {},
   "source": [
    "Let's compare these power to the one necessary to sustain transport in the full network"
   ]
  },
  {
   "cell_type": "code",
   "execution_count": 10,
   "id": "cac21cca-305c-46e8-9055-dc1737dc932f",
   "metadata": {
    "tags": []
   },
   "outputs": [
    {
     "data": {
      "text/latex": [
       "\\[\n",
       "\\begin{aligned}\n",
       "r_{vesicle} &= 1 \\cdot \\mathrm{um}  = 1 \\cdot 1.000\\ \\mathrm{μm} &= 1.000\\ \\mathrm{μm} \\; \\;\\textrm{(assumed radius of a vesicle)}\n",
       "\\\\[10pt]\n",
       "e_{walking} &= \\frac{ 100 }{ \\mathrm{NA} } \\cdot \\left( \\mathrm{um} \\right) ^{ -1 }  = \\frac{ 100 }{ 0.602\\ \\mathrm{ymol}^{-1} } \\cdot \\left( 1.000\\ \\mathrm{μm} \\right) ^{ -1 } &= 0.000\\ \\mathrm{m}^{-1} \\cdot \\mathrm{mol} \\; \\;\\textrm{(assumed number of mol of ATP for a molecular motor to walk 1um)}\n",
       "\\\\[10pt]\n",
       "e_{ATP} &= 40 \\cdot 1 \\times 10 ^ {3} \\cdot \\mathrm{si.J} \\cdot \\left( \\mathrm{si.mol} \\right) ^{ -1 } \\\\&= 40 \\cdot 1 \\times 10 ^ {3} \\cdot si.J \\cdot \\left( si.mol \\right) ^{ -1 } \\\\&= 40000.000\\ \\mathrm{kg} \\cdot \\mathrm{m}^{2} \\cdot \\mathrm{s}^{-2} \\cdot \\mathrm{mol}^{-1} \\; \\;\\textrm{(Energy per mol of ATP)}\\\\[10pt]\n",
       "\\\\[10pt]\n",
       "\\mathrm{Pwalking} &= v_{transport} \\cdot e_{walking} \\cdot e_{ATP} \\\\&= 5.000\\ \\mathrm{µm} \\cdot \\mathrm{s⁻¹} \\cdot 0.000\\ \\mathrm{m}^{-1} \\cdot \\mathrm{mol} \\cdot 40000.000\\ \\mathrm{kg} \\cdot \\mathrm{m}^{2} \\cdot \\mathrm{s}^{-2} \\cdot \\mathrm{mol}^{-1} \\\\&= 33.223\\ \\mathrm{aW} \\; \\;\\textrm{(Power required to walk one molecular motor)}\\\\[10pt]\n",
       "\\\\[10pt]\n",
       "p_{transport} &= \\rho_{TAG} \\cdot \\mathrm{Pwalking} \\cdot \\frac{ \\left( r_{hypha} \\right) ^{ 2 } }{ \\left( r_{vesicle} \\right) ^{ 3 } } \\\\&= 0.200 \\cdot 33.223\\ \\mathrm{aW} \\cdot \\frac{ \\left( 5.000\\ \\mathrm{μm} \\right) ^{ 2 } }{ \\left( 1.000\\ \\mathrm{μm} \\right) ^{ 3 } } \\\\&= 0.000\\ \\mathrm{kg} \\cdot \\mathrm{m} \\cdot \\mathrm{s}^{-3} \\; \\;\\textrm{(power required to walk all the vesicles per m of hypha)}\\\\[10pt]\n",
       "\\\\[10pt]\n",
       "L &= 1 \\times 10 ^ {6} \\cdot \\mathrm{um}  = 1 \\times 10 ^ {6} \\cdot 1.000\\ \\mathrm{μm} &= 1.000\\ \\mathrm{m} \\; \\;\\textrm{(total length of an A5 network filling half of a split plate)}\n",
       "\\\\[10pt]\n",
       "P_{transport} &= L \\cdot p_{transport}  = 1.000\\ \\mathrm{m} \\cdot 0.000\\ \\mathrm{kg} \\cdot \\mathrm{m} \\cdot \\mathrm{s}^{-3} &= 166.113\\ \\mathrm{pW} \\; \\;\\textrm{(total power required to run lipid vesicles throughout the network)}\n",
       "\\\\[10pt]\n",
       "\\mathrm{ratio}_{power} &= \\frac{ P_{transport} }{ P_{total_{protein_{synthesis}}} }  = \\frac{ 166.113\\ \\mathrm{pW} }{ 208.744\\ \\mathrm{nW} } &= 0.001  \n",
       "\\end{aligned}\n",
       "\\]"
      ],
      "text/plain": [
       "<IPython.core.display.Latex object>"
      ]
     },
     "metadata": {},
     "output_type": "display_data"
    }
   ],
   "source": [
    "%%render\n",
    "r_vesicle = 1 * um #assumed radius of a vesicle\n",
    "e_walking = 100/NA * um**-1 #assumed number of mol of ATP for a molecular motor to walk 1um \n",
    "#(from http://book.bionumbers.org/how-fast-do-molecular-motors-move-on-cytoskeletal-filaments/)\n",
    "e_ATP= 40 * 1e3 *si.J * si.mol**-1 #Energy per mol of ATP\n",
    "Pwalking =v_transport * e_walking*e_ATP  #Power required to walk one molecular motor\n",
    "p_transport = rho_TAG*Pwalking*r_hypha**2/(r_vesicle**3) #power required to walk all the vesicles per m of hypha\n",
    "L = 1e6 *um #total length of an A5 network filling half of a split plate\n",
    "P_transport = L*p_transport  #total power required to run lipid vesicles throughout the network\n",
    "ratio_power = P_transport/P_total_protein_synthesis"
   ]
  },
  {
   "cell_type": "markdown",
   "id": "7e789a74-f530-4046-b323-8815137d48e7",
   "metadata": {},
   "source": [
    "***II. The spore loading method***"
   ]
  },
  {
   "cell_type": "markdown",
   "id": "b8394993-4e2a-40df-bb3f-18d42de777e1",
   "metadata": {},
   "source": [
    "Computing the energy contained in one spore"
   ]
  },
  {
   "cell_type": "code",
   "execution_count": 28,
   "id": "6a604a95-eaab-4c7b-9a1d-31c92c082b27",
   "metadata": {},
   "outputs": [
    {
     "data": {
      "text/latex": [
       "\\[\n",
       "\\begin{aligned}\n",
       "d_{spore} &= 60 \\cdot \\mathrm{um}  = 60 \\cdot 1.000\\ \\mathrm{μm} &= 60.000\\ \\mathrm{μm} \\; \\;\\textrm{(spore diameter)}\n",
       "\\\\[10pt]\n",
       "d_{spore} &= 60.000\\ \\mathrm{μm} \\; \n",
       "\\\\[10pt]\n",
       "\\mathrm{spore}_{volume} &= \\left( \\frac{ d_{spore} }{ 2 } \\right) ^{ 3 } \\cdot \\frac{ 4 }{ 3 } \\cdot \\pi \\\\&= \\left( \\frac{ 60.000\\ \\mathrm{μm} }{ 2 } \\right) ^{ 3 } \\cdot \\frac{ 4 }{ 3 } \\cdot 3.142 \\\\&= 113097.336\\ \\mathrm{μm}^{3}  \\\\[10pt]\n",
       "\\\\[10pt]\n",
       "\\rho_{TAG_{spore}} &= 0.100 \\; \\;\\textrm{(the percentage of volume occupied by lipids)}\n",
       "\\\\[10pt]\n",
       "e_{spore} &= \\mathrm{spore}_{volume} \\cdot \\rho_{TAG} \\cdot \\mathrm{eTAG}  = 113097.336\\ \\mathrm{μm}^{3} \\cdot 0.100 \\cdot 30.000\\ \\mathrm{GPa} &= 339.292\\ \\mathrm{μJ}  \n",
       "\\\\[10pt]\n",
       "e_{spore} &= 339.292\\ \\mathrm{μJ} \\; \n",
       "\\end{aligned}\n",
       "\\]"
      ],
      "text/plain": [
       "<IPython.core.display.Latex object>"
      ]
     },
     "metadata": {},
     "output_type": "display_data"
    }
   ],
   "source": [
    "%%render\n",
    "\n",
    "d_spore = 60*um #spore diameter\n",
    "d_spore\n",
    "spore_volume = (d_spore/2)**3*4/3*pi\n",
    "rho_TAG_spore = 0.1 #the percentage of volume occupied by lipids\n",
    "e_spore = spore_volume*rho_TAG*eTAG\n",
    "e_spore"
   ]
  },
  {
   "cell_type": "markdown",
   "id": "44524afe-a5f2-4a36-84d7-5b83acf06a76",
   "metadata": {},
   "source": [
    "We can then compute the length reachable by a spore of a given radius if we were to assume that the only use of carbon is in the energy used for protein synthesis"
   ]
  },
  {
   "cell_type": "code",
   "execution_count": 12,
   "id": "1f87c3b5-6b9c-4dd8-8ae7-273cc405e3f7",
   "metadata": {},
   "outputs": [
    {
     "data": {
      "text/latex": [
       "\\[\n",
       "\\begin{aligned}\n",
       "\\mathrm{length}_{reachable} &= \\frac{ e_{spore} }{ e_{total_{prot_{synth}}} }  = \\frac{ 339.292\\ \\mathrm{μJ} }{ 25.049\\ \\mathrm{mJ} \\cdot \\mathrm{µm⁻¹} } &= 13.545\\ \\mathrm{mm}  \n",
       "\\\\[10pt]\n",
       "\\mathrm{length}_{reachable} &= 13.545\\ \\mathrm{mm} \\; \n",
       "\\end{aligned}\n",
       "\\]"
      ],
      "text/plain": [
       "<IPython.core.display.Latex object>"
      ]
     },
     "metadata": {},
     "output_type": "display_data"
    }
   ],
   "source": [
    "%%render\n",
    "length_reachable = e_spore/e_total_prot_synth\n",
    "length_reachable"
   ]
  },
  {
   "cell_type": "markdown",
   "id": "f9978a18-0da9-4952-9c44-5ec924b02c0e",
   "metadata": {},
   "source": [
    "We see that reachable length should be a cubic function of spore radius with coefficient"
   ]
  },
  {
   "cell_type": "code",
   "execution_count": 13,
   "id": "92766e63-6f1e-4736-b8f2-139eb3e25b52",
   "metadata": {},
   "outputs": [
    {
     "data": {
      "text/latex": [
       "\\[\n",
       "\\begin{aligned}\n",
       "a_{theoretical} &= \\frac{ 4 }{ 3 } \\cdot \\pi \\cdot \\rho_{TAG} \\cdot \\frac{ \\mathrm{eTAG} }{ 8 \\cdot e_{total_{prot_{synth}}} }  = \\frac{ 4 }{ 3 } \\cdot 3.142 \\cdot 0.100 \\cdot \\frac{ 30.000\\ \\mathrm{GPa} }{ 8 \\cdot 25.049\\ \\mathrm{mJ} \\cdot \\mathrm{µm⁻¹} } &= 0.063\\ \\mathrm{μm}^{-2}  \n",
       "\\\\[10pt]\n",
       "d_{spore} &= 60.000\\ \\mathrm{μm} \\; \n",
       "\\\\[10pt]\n",
       "\\mathrm{length}_{reachable} &= a_{theoretical} \\cdot \\left( d_{spore} \\right) ^{ 3 }  = 0.063\\ \\mathrm{μm}^{-2} \\cdot \\left( 60.000\\ \\mathrm{μm} \\right) ^{ 3 } &= 13.545\\ \\mathrm{mm}  \n",
       "\\end{aligned}\n",
       "\\]"
      ],
      "text/plain": [
       "<IPython.core.display.Latex object>"
      ]
     },
     "metadata": {},
     "output_type": "display_data"
    }
   ],
   "source": [
    "%%render\n",
    "a_theoretical = 4/3*pi*rho_TAG_spore*eTAG/(8*e_total_prot_synth)\n",
    "d_spore\n",
    "length_reachable = a_theoretical*d_spore**3"
   ]
  },
  {
   "cell_type": "markdown",
   "id": "175faca0-1600-4472-9412-4fceb22e91cd",
   "metadata": {},
   "source": [
    "Let's compare to Vasilis data with spores"
   ]
  },
  {
   "cell_type": "code",
   "execution_count": 14,
   "id": "1d316a10-e816-4aae-a492-f0a6f628bcfc",
   "metadata": {},
   "outputs": [],
   "source": [
    "data = pd.read_excel(\"vasilis_data.xlsx\",sheet_name=\"Experiment 1\")\n",
    "data = data.loc[data['THL']<=30000]\n",
    "data = data.loc[data['SD']<=150]\n",
    "data = data.sort_values(by=\"SD\")\n",
    "\n",
    "data_dik = data.loc[data['Karyosis']=='Dikaryon'].copy()\n",
    "data_hom = data.loc[data['Karyosis']=='Homokaryon'].copy()\n",
    "rolling = 20\n",
    "for sub_data in [data_hom,data_dik,data]:\n",
    "    sub_data['THL_mean']=sub_data[\"THL\"].rolling(rolling).mean()\n",
    "    sub_data['THL_sup']=sub_data[\"THL\"].rolling(rolling,center=True).quantile(0.9)\n",
    "    sub_data['rolling average total_growth (um)']=sub_data['THL_mean']\n",
    "    sub_data['rolling sup total_growth (um)']=sub_data['THL_sup']\n",
    "    sub_data['logTHL']=np.log(sub_data[\"THL\"])\n",
    "    sub_data['logTHL_mean']=sub_data[\"logTHL\"].rolling(rolling).mean()\n",
    "    sub_data['logTHL_sup']=sub_data[\"logTHL\"].rolling(rolling).quantile(0.9)"
   ]
  },
  {
   "cell_type": "markdown",
   "id": "02bbe815-b67c-4ac2-a3a8-54be84b310cd",
   "metadata": {},
   "source": [
    "We do a rolling 90th percentile to really get the data corresponding to maximum growth of spores"
   ]
  },
  {
   "cell_type": "code",
   "execution_count": 15,
   "id": "88dbae65-c756-4097-b2e0-fecbc0f0aee0",
   "metadata": {},
   "outputs": [
    {
     "data": {
      "text/plain": [
       "Text(0, 0.5, 'Total hyphal length ($\\\\mu m$)')"
      ]
     },
     "execution_count": 15,
     "metadata": {},
     "output_type": "execute_result"
    },
    {
     "data": {
      "image/png": "[encoded data removed]",
      "text/plain": [
       "<Figure size 432x288 with 1 Axes>"
      ]
     },
     "metadata": {
      "needs_background": "light"
     },
     "output_type": "display_data"
    }
   ],
   "source": [
    "fig, ax = plt.subplots()\n",
    "data_dik.plot('SD','THL_sup',kind=\"scatter\",ax=ax,label=\"dikaryon\")\n",
    "data_hom.plot('SD','THL_sup',kind=\"scatter\",ax=ax,color='red',label=\"homokaryon\")\n",
    "ax.set_xlabel('Spore diameter ($\\mu m$)')\n",
    "ax.set_ylabel('Total hyphal length ($\\mu m$)')"
   ]
  },
  {
   "cell_type": "markdown",
   "id": "2f82c0bd-93c8-4ca8-95a5-ed0d92030a87",
   "metadata": {},
   "source": [
    "Bigger spores indeed create longer hyphae. The plateauing at the end is an artefact of the rolling statistics and should be ignored.\n",
    "We can also already see that the range of reachable length matches the order of magnitude of the theoretical one : $13mm$ for a $ 60 \\mu m $ spore filled with $10\\%$ of its volume occupied by lipids"
   ]
  },
  {
   "cell_type": "markdown",
   "id": "6a0e61b8-46da-45ed-b0fc-fba7401dce5d",
   "metadata": {},
   "source": [
    "We can get a finer estimates of the $a$ coefficient by doint a curve fit assuming the cubic dependence"
   ]
  },
  {
   "cell_type": "code",
   "execution_count": 16,
   "id": "4f5f0330-33a8-4d26-b4d7-19d3fed9305b",
   "metadata": {},
   "outputs": [],
   "source": [
    "from scipy.optimize import curve_fit\n",
    "def cubic(x,a):\n",
    "    return(a*x**3)"
   ]
  },
  {
   "cell_type": "markdown",
   "id": "0e022013-8f71-4163-a51e-69c8f671d6a1",
   "metadata": {},
   "source": [
    "We can then fit a cubic function to the data to find its coefficient."
   ]
  },
  {
   "cell_type": "code",
   "execution_count": 17,
   "id": "69eba00b-47b1-4311-8f27-4bd52ff2c5a5",
   "metadata": {},
   "outputs": [],
   "source": [
    "data_select = data_dik.loc[~data_dik['THL_sup'].isnull()]\n",
    "popt,cov = curve_fit(cubic, data_select['SD'],data_select['THL_sup'],bounds = ([0],[np.inf]),p0=[1])"
   ]
  },
  {
   "cell_type": "code",
   "execution_count": 18,
   "id": "41b068a4-7cdd-4bc0-a582-2d645df82707",
   "metadata": {},
   "outputs": [
    {
     "data": {
      "text/plain": [
       "Text(0, 0.5, 'Total hyphal length ($\\\\mu m$)')"
      ]
     },
     "execution_count": 18,
     "metadata": {},
     "output_type": "execute_result"
    },
    {
     "data": {
      "image/png": "[encoded data removed]",
      "text/plain": [
       "<Figure size 432x288 with 1 Axes>"
      ]
     },
     "metadata": {
      "needs_background": "light"
     },
     "output_type": "display_data"
    }
   ],
   "source": [
    "fig, ax = plt.subplots()\n",
    "data_dik.plot('SD','THL_sup',kind=\"scatter\",ax=ax,label=\"dikaryon\")\n",
    "ax.plot(data_dik['SD'],popt[0]*data_dik['SD']**3)\n",
    "ax.set_xlabel('Spore diameter ($\\mu m$)')\n",
    "ax.set_ylabel('Total hyphal length ($\\mu m$)')"
   ]
  },
  {
   "cell_type": "code",
   "execution_count": 19,
   "id": "e07f7166-e269-4d8d-9aa3-630b4e05496a",
   "metadata": {},
   "outputs": [
    {
     "data": {
      "text/latex": [
       "\\[\n",
       "\\begin{aligned}\n",
       "a_{data} &= 0.024\\ \\mathrm{μm}^{-2} \\; \n",
       "\\\\[10pt]\n",
       "a_{theoretical} &= 0.063\\ \\mathrm{μm}^{-2} \\; \n",
       "\\end{aligned}\n",
       "\\]"
      ],
      "text/plain": [
       "<IPython.core.display.Latex object>"
      ]
     },
     "metadata": {},
     "output_type": "display_data"
    }
   ],
   "source": [
    "%%render\n",
    "a_data = popt[0] * um**-2\n",
    "a_theoretical"
   ]
  },
  {
   "cell_type": "markdown",
   "id": "e1b3af0e-a50e-4bfe-863d-713211694580",
   "metadata": {},
   "source": [
    "but in reality, the carbon brought in the lipid is both the energy used for protein synthesis and the carbon building block of the newly built biomass. It it therefore expected that the theoretical value is higher. How much C is there in the fungal biomass and to what amount of lipids does this correspond to? Harvest data indicate about $1mg$ of dry fungal biomass in the fungal compartment after full growth. According to [here](https://www.researchgate.net/publication/318418100_CarbonNitrogenPhosphorus_Stoichiometry_in_Fungi_A_Meta-Analysis), about 50% of this biomass is carbon."
   ]
  },
  {
   "cell_type": "markdown",
   "id": "76fc56fb-ca40-4b5d-84f0-814f7973af52",
   "metadata": {},
   "source": [
    "Most fatty acids in AMF have between 16 and 20 carbons. The majority is palmitic acid according to [here](https://www.ncbi.nlm.nih.gov/pmc/articles/PMC5559270/) whose formula is $C_{16}H_{32}O_{2}$ the proportion of the mass that is due to carbon is"
   ]
  },
  {
   "cell_type": "code",
   "execution_count": 33,
   "id": "3288f3bc-64f6-460d-87d8-74af90922a41",
   "metadata": {},
   "outputs": [
    {
     "data": {
      "text/plain": [
       "0.75"
      ]
     },
     "execution_count": 33,
     "metadata": {},
     "output_type": "execute_result"
    }
   ],
   "source": [
    "ratio_TAG_C = 16*12/(16*12+32+2*16)\n",
    "ratio_TAG_C"
   ]
  },
  {
   "cell_type": "code",
   "execution_count": 21,
   "id": "ef7b724c-85e0-48fc-b39f-85180367c054",
   "metadata": {},
   "outputs": [
    {
     "data": {
      "text/latex": [
       "\\[\n",
       "\\begin{aligned}\n",
       "m_{fungus} &= 1 \\times 10 ^ {-6} \\cdot \\mathrm{si.kg}  = 1 \\times 10 ^ {-6} \\cdot si.kg &= 1.000\\ \\mathrm{mg}  \n",
       "\\\\[10pt]\n",
       "\\mathrm{ratio}_{C} &= 0.500 \\; \n",
       "\\\\[10pt]\n",
       "m_{carbon} &= \\mathrm{ratio}_{C} \\cdot m_{fungus}  = 0.500 \\cdot 1.000\\ \\mathrm{mg} &= 500.000\\ \\mathrm{μg} \\; \\;\\textrm{(the amount of carbon in the fungal half at the end of the experiment)}\n",
       "\\\\[10pt]\n",
       "L_{colony} &= 1 \\cdot \\mathrm{si.m}  = 1 \\cdot si.m &= 1.000\\ \\mathrm{m} \\; \\;\\textrm{(the total length of the colony)}\n",
       "\\\\[10pt]\n",
       "d_{C} &= \\frac{ m_{carbon} }{ L_{colony} }  = \\frac{ 500.000\\ \\mathrm{μg} }{ 1.000\\ \\mathrm{m} } &= 0.000\\ \\mathrm{kg} \\cdot \\mathrm{m}^{-1} \\; \\;\\textrm{(amount of carbon per unit length of hypha)}\n",
       "\\\\[10pt]\n",
       "d_{TAG} &= 1000 \\cdot \\mathrm{si.kg} \\cdot \\left( \\mathrm{si.m} \\right) ^{ -3 }  = 1000 \\cdot si.kg \\cdot \\left( si.m \\right) ^{ -3 } &= 1000.000\\ \\mathrm{kg} \\cdot \\mathrm{m}^{-3} \\; \\;\\textrm{(the density TAG)}\n",
       "\\\\[10pt]\n",
       "V_{TAG} &= \\frac{ d_{C} }{ d_{TAG} \\cdot \\mathrm{ratio}_{TAG_{C}} }  = \\frac{ 0.000\\ \\mathrm{kg} \\cdot \\mathrm{m}^{-1} }{ 1000.000\\ \\mathrm{kg} \\cdot \\mathrm{m}^{-3} \\cdot 0.773 } &= 646.970\\ \\mathrm{μm}^{2} \\; \\;\\textrm{(the volume of lipid that has to be brought per unit length hypha)}\n",
       "\\\\[10pt]\n",
       "\\Phi_{TAG_{biomass}} &= V_{TAG} \\cdot v_{colony_{growth}}  = 646.970\\ \\mathrm{μm}^{2} \\cdot 8.333\\ \\mathrm{µm} \\cdot \\mathrm{s⁻¹} &= 0.000\\ \\mathrm{m}^{3} \\cdot \\mathrm{s}^{-1}  \n",
       "\\end{aligned}\n",
       "\\]"
      ],
      "text/plain": [
       "<IPython.core.display.Latex object>"
      ]
     },
     "metadata": {},
     "output_type": "display_data"
    }
   ],
   "source": [
    "%%render\n",
    "\n",
    "m_fungus = 1e-6 *si.kg\n",
    "ratio_C = 0.5\n",
    "m_carbon = ratio_C * m_fungus #the amount of carbon in the fungal half at the end of the experiment\n",
    "L_colony = 1*si.m #the total length of the colony\n",
    "d_C = m_carbon/L_colony #amount of carbon per unit length of hypha\n",
    "d_TAG = 1000 *si.kg*si.m**-3 #the density TAG\n",
    "V_TAG  = d_C/(d_TAG*ratio_TAG_C) #the volume of lipid that has to be brought per unit length hypha\n",
    "Phi_TAG_biomass = V_TAG *v_colony_growth"
   ]
  },
  {
   "cell_type": "markdown",
   "id": "09fe7b67-ecda-464c-916b-d52e1717c418",
   "metadata": {},
   "source": [
    "Lets compare to the use of TAG as energy"
   ]
  },
  {
   "cell_type": "code",
   "execution_count": 22,
   "id": "8d8d6537-4256-4981-9095-622d19a0d2a9",
   "metadata": {},
   "outputs": [
    {
     "data": {
      "text/latex": [
       "\\[\n",
       "\\begin{aligned}\n",
       "\\Phi_{TAG_{energy}} &= \\frac{ P_{total_{protein_{synthesis}}} }{ \\rho_{e} }  = \\frac{ 208.744\\ \\mathrm{nW} }{ 6.000\\ \\mathrm{GPa} } &= 0.000\\ \\mathrm{m}^{3} \\cdot \\mathrm{s}^{-1}  \n",
       "\\\\[10pt]\n",
       "\\mathrm{ratio} &= \\frac{ \\Phi_{TAG_{energy}} }{ \\Phi_{TAG_{biomass}} }  = \\frac{ 0.000\\ \\mathrm{m}^{3} \\cdot \\mathrm{s}^{-1} }{ 0.000\\ \\mathrm{m}^{3} \\cdot \\mathrm{s}^{-1} } &= 0.006  \n",
       "\\end{aligned}\n",
       "\\]"
      ],
      "text/plain": [
       "<IPython.core.display.Latex object>"
      ]
     },
     "metadata": {},
     "output_type": "display_data"
    }
   ],
   "source": [
    "%%render\n",
    "Phi_TAG_energy = P_total_protein_synthesis/rho_e\n",
    "ratio = Phi_TAG_energy/Phi_TAG_biomass"
   ]
  },
  {
   "cell_type": "markdown",
   "id": "e51fa84b-9200-4bc1-bfbd-e13103b1638b",
   "metadata": {},
   "source": [
    "How much carbon in one meter of hypha in theory. To estimate this, one needs to get three values. The two first ones are the buoyant density $d_{biomass}$ and the dry mass to wet mass ratio $r_{d/w}$. One can find values for this in the literrature [here](https://journals.asm.org/doi/epdf/10.1128/aem.45.4.1188-1195.1983) . For fungi they find $d_{biomass} =1.1$ and $r_{d/w}=0.2$. In our case, since AMF are lipid rich we could imagine this ratio being higher (lipids fill some water volume therefore increasing $r_{d/w}$). This alreay yields an estimate of what the dry biomass in the fungal compartment should be."
   ]
  },
  {
   "cell_type": "code",
   "execution_count": 23,
   "id": "1f27fca4-b0ec-47bf-bda9-5924a47caf43",
   "metadata": {},
   "outputs": [
    {
     "data": {
      "text/latex": [
       "\\[\n",
       "\\begin{aligned}\n",
       "V_{total} &= L_{colony} \\cdot \\pi \\cdot \\left( r_{hypha} \\right) ^{ 2 }  = 1.000\\ \\mathrm{m} \\cdot 3.142 \\cdot \\left( 5.000\\ \\mathrm{μm} \\right) ^{ 2 } &= 78539816.340\\ \\mathrm{μm}^{3}  \n",
       "\\\\[10pt]\n",
       "d_{biomass} &= 1100 \\cdot \\mathrm{si.kg} \\cdot \\left( \\mathrm{si.m} \\right) ^{ -3 }  = 1100 \\cdot si.kg \\cdot \\left( si.m \\right) ^{ -3 } &= 1100.000\\ \\mathrm{kg} \\cdot \\mathrm{m}^{-3}  \n",
       "\\\\[10pt]\n",
       "m_{wet} &= V_{total} \\cdot d_{biomass}  = 78539816.340\\ \\mathrm{μm}^{3} \\cdot 1100.000\\ \\mathrm{kg} \\cdot \\mathrm{m}^{-3} &= 86.394\\ \\mathrm{μg}  \n",
       "\\\\[10pt]\n",
       "r_{dw} &= 0.200 \\; \n",
       "\\\\[10pt]\n",
       "m_{dry} &= m_{wet} \\cdot r_{dw}  = 86.394\\ \\mathrm{μg} \\cdot 0.200 &= 17.279\\ \\mathrm{μg}  \n",
       "\\end{aligned}\n",
       "\\]"
      ],
      "text/plain": [
       "<IPython.core.display.Latex object>"
      ]
     },
     "metadata": {},
     "output_type": "display_data"
    }
   ],
   "source": [
    "%%render\n",
    "V_total = L_colony*pi*r_hypha**2\n",
    "d_biomass = 1100 *si.kg*si.m**-3\n",
    "m_wet = V_total * d_biomass\n",
    "r_dw=0.2\n",
    "m_dry = m_wet*r_dw"
   ]
  },
  {
   "cell_type": "markdown",
   "id": "8ac01c9b-c90d-4fa2-9e3d-7dab20b65d56",
   "metadata": {},
   "source": [
    "This is very far from what comes out of the harvest data. I cannot explain the discrepancy at this stage. Let's continue with the theoretical value. We need to know another factor $r_{C/Tot}$ which is the ratio of the dry mass that is carbon. We find values for this [here](https://www.frontiersin.org/articles/10.3389/fmicb.2017.01281/full), it varies between fungal species but we can take $r_{C/Tot}=0.4$"
   ]
  },
  {
   "cell_type": "code",
   "execution_count": 24,
   "id": "9b15f80d-38d2-44dc-89ed-95e9a1dafd05",
   "metadata": {},
   "outputs": [
    {
     "data": {
      "text/latex": [
       "\\[\n",
       "\\begin{aligned}\n",
       "r_{CTot} &= 0.400 \\; \n",
       "\\\\[10pt]\n",
       "m_{C} &= m_{dry} \\cdot r_{CTot}  = 17.279\\ \\mathrm{μg} \\cdot 0.400 &= 6.912\\ \\mathrm{μg}  \n",
       "\\\\[10pt]\n",
       "m_{C} &= 6.912\\ \\mathrm{μg} \\; \n",
       "\\end{aligned}\n",
       "\\]"
      ],
      "text/plain": [
       "<IPython.core.display.Latex object>"
      ]
     },
     "metadata": {},
     "output_type": "display_data"
    }
   ],
   "source": [
    "%%render\n",
    "\n",
    "r_CTot = 0.4\n",
    "m_C = m_dry * r_CTot\n",
    "m_C"
   ]
  },
  {
   "cell_type": "markdown",
   "id": "58d20162-2ac0-4223-be70-70f23a1facf0",
   "metadata": {},
   "source": [
    "Through this path, we can get an estimate of the carbon required for the growth per unit length hypha for biomass material"
   ]
  },
  {
   "cell_type": "code",
   "execution_count": 25,
   "id": "f3580897-d958-423b-98dc-1470dbb5be3b",
   "metadata": {},
   "outputs": [
    {
     "data": {
      "text/latex": [
       "\\[\n",
       "\\begin{aligned}\n",
       "m_{L_{C}} &= \\pi \\cdot \\left( r_{hypha} \\right) ^{ 2 } \\cdot d_{biomass} \\cdot r_{dw} \\cdot r_{CTot} \\\\&= 3.142 \\cdot \\left( 5.000\\ \\mathrm{μm} \\right) ^{ 2 } \\cdot 1100.000\\ \\mathrm{kg} \\cdot \\mathrm{m}^{-3} \\cdot 0.200 \\cdot 0.400 \\\\&= 0.000\\ \\mathrm{kg} \\cdot \\mathrm{m}^{-1} \\; \\;\\textrm{(the mass of carbon necesarry per unit length)}\\\\[10pt]\n",
       "\\\\[10pt]\n",
       "V_{TAG_{biomass_{theory}}} &= \\frac{ m_{L_{C}} }{ d_{TAG} \\cdot \\mathrm{ratio}_{TAG_{C}} }  = \\frac{ 0.000\\ \\mathrm{kg} \\cdot \\mathrm{m}^{-1} }{ 1000.000\\ \\mathrm{kg} \\cdot \\mathrm{m}^{-3} \\cdot 0.773 } &= 8.943\\ \\mathrm{μm}^{2} \\; \\;\\textrm{(the volume of TAG necessary per unit length, assuming all mass of TAG is carbon)}\n",
       "\\end{aligned}\n",
       "\\]"
      ],
      "text/plain": [
       "<IPython.core.display.Latex object>"
      ]
     },
     "metadata": {},
     "output_type": "display_data"
    }
   ],
   "source": [
    "%%render\n",
    "\n",
    "m_L_C = pi*r_hypha**2*d_biomass*r_dw*r_CTot #the mass of carbon necesarry per unit length\n",
    "V_TAG_biomass_theory = m_L_C/(d_TAG*ratio_TAG_C) #the volume of TAG necessary per unit length, assuming all mass of TAG is carbon"
   ]
  },
  {
   "cell_type": "markdown",
   "id": "c19e769b-2768-4922-9925-98fac997c277",
   "metadata": {},
   "source": [
    "We can compare the volume of TAG necessary per unit length of hypha for protein synthesis"
   ]
  },
  {
   "cell_type": "code",
   "execution_count": 26,
   "id": "1e52ca47-5a94-4708-97ff-c9c85e7ba21e",
   "metadata": {},
   "outputs": [
    {
     "data": {
      "text/latex": [
       "\\[\n",
       "\\begin{aligned}\n",
       "V_{TAG_{energy_{theory}}} &= 4.175\\ \\mathrm{μm}^{2} \\; \n",
       "\\end{aligned}\n",
       "\\]"
      ],
      "text/plain": [
       "<IPython.core.display.Latex object>"
      ]
     },
     "metadata": {},
     "output_type": "display_data"
    }
   ],
   "source": [
    "%%render\n",
    "\n",
    "V_TAG_energy_theory=Phi_TAG_energy/v_colony_growth"
   ]
  },
  {
   "cell_type": "markdown",
   "id": "7dbc6b89-4510-43ba-94c7-a05382a1a6ea",
   "metadata": {},
   "source": [
    "Then total TAG necessary per $\\mu m$ of hyphal growth is then "
   ]
  },
  {
   "cell_type": "code",
   "execution_count": 27,
   "id": "f7007be0-64e8-41e3-85b9-ecb8bc383b15",
   "metadata": {},
   "outputs": [
    {
     "data": {
      "text/latex": [
       "\\[\n",
       "\\begin{aligned}\n",
       "V_{TAG_{theory}} &= V_{TAG_{energy_{theory}}} + V_{TAG_{biomass_{theory}}}  = 4.175\\ \\mathrm{μm}^{2} + 8.943\\ \\mathrm{μm}^{2} &= 13.118\\ \\mathrm{μm}^{2}  \n",
       "\\end{aligned}\n",
       "\\]"
      ],
      "text/plain": [
       "<IPython.core.display.Latex object>"
      ]
     },
     "metadata": {},
     "output_type": "display_data"
    }
   ],
   "source": [
    "%%render\n",
    "\n",
    "V_TAG_theory= V_TAG_energy_theory + V_TAG_biomass_theory"
   ]
  },
  {
   "cell_type": "markdown",
   "id": "22b3a583-805c-445c-abb0-bd233df1d69b",
   "metadata": {},
   "source": [
    "We can compare this to the experimental value obtained from spore data, as a reminder"
   ]
  },
  {
   "cell_type": "code",
   "execution_count": 32,
   "id": "7b0dc4fb-a5d4-4737-9482-6beb5655e066",
   "metadata": {},
   "outputs": [
    {
     "data": {
      "text/latex": [
       "\\[\n",
       "\\begin{aligned}\n",
       "\\rho_{TAG_{spore}} &= 0.100 \\; \n",
       "\\\\[10pt]\n",
       "V_{TAG_{experiment}} &= \\frac{ 4 }{ 3 } \\cdot \\pi \\cdot \\frac{ \\rho_{TAG_{spore}} }{ a_{data} }  = \\frac{ 4 }{ 3 } \\cdot 3.142 \\cdot \\frac{ 0.100 }{ 0.024\\ \\mathrm{μm}^{-2} } &= 17.538\\ \\mathrm{μm}^{2}  \n",
       "\\\\[10pt]\n",
       "V_{TAG_{experiment}} &= 17.538\\ \\mathrm{μm}^{2} \\; \n",
       "\\end{aligned}\n",
       "\\]"
      ],
      "text/plain": [
       "<IPython.core.display.Latex object>"
      ]
     },
     "metadata": {},
     "output_type": "display_data"
    }
   ],
   "source": [
    "%%render\n",
    "rho_TAG_spore = 0.1\n",
    "V_TAG_experiment = 4/3*pi*rho_TAG_spore/a_data\n",
    "V_TAG_experiment"
   ]
  }
 ],
 "metadata": {
  "kernelspec": {
   "display_name": "Python 3 (ipykernel)",
   "language": "python",
   "name": "python3"
  },
  "language_info": {
   "codemirror_mode": {
    "name": "ipython",
    "version": 3
   },
   "file_extension": ".py",
   "mimetype": "text/x-python",
   "name": "python",
   "nbconvert_exporter": "python",
   "pygments_lexer": "ipython3",
   "version": "3.10.6"
  }
 },
 "nbformat": 4,
 "nbformat_minor": 5
}
