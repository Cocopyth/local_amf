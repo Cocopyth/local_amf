{
 "cells": [
  {
   "cell_type": "code",
   "execution_count": 61,
   "metadata": {},
   "outputs": [
    {
     "data": {
      "text/plain": [
       "(array([[ 0.99974618,  0.02252963],\n",
       "        [-0.02252963,  0.99974618]]),\n",
       " array([-1310.81123275,   659.39205642]))"
      ]
     },
     "execution_count": 61,
     "metadata": {},
     "output_type": "execute_result"
    }
   ],
   "source": [
    "import numpy as np\n",
    "possdm1 = [[16420,26260],[17120, 28480],[18600,31760],[12060,28640],[24620, 44740],[23780, 41560],[22980, 39580]]\n",
    "possd = [[15760, 26500],[16420, 28780],[17940,32040],[11380,29000],[24300,44820],[23440, 41660],[22560,39720]]\n",
    "listeA, listeB = possdm1,possd\n",
    "H = np.dot(\n",
    "    np.transpose(np.array(listeA) - np.mean(listeA, axis=0)),\n",
    "    np.array(listeB) - np.mean(listeB, axis=0),\n",
    ")\n",
    "U, S, V = np.linalg.svd(H)\n",
    "R = np.dot(V, np.transpose(U))\n",
    "t = np.mean(listeB, axis=0) - np.dot(R, np.mean(listeA, axis=0))\n",
    "R,t"
   ]
  },
  {
   "cell_type": "code",
   "execution_count": 74,
   "metadata": {},
   "outputs": [
    {
     "data": {
      "text/plain": [
       "array([ 7120.00987752, 27676.30630299])"
      ]
     },
     "execution_count": 74,
     "metadata": {},
     "output_type": "execute_result"
    }
   ],
   "source": [
    "pos = [7820,27200]\n",
    "np.dot(R,pos)+t"
   ]
  },
  {
   "cell_type": "code",
   "execution_count": 34,
   "metadata": {},
   "outputs": [],
   "source": [
    "mflow = 5.4e-5 #kg.s-1\n",
    "As = 0.05 #m**2\n",
    "mflow_area = mflow/As #kg.s-1.m**-2\n",
    "length_flux = mflow_area * 10**-3"
   ]
  },
  {
   "cell_type": "code",
   "execution_count": 35,
   "metadata": {},
   "outputs": [
    {
     "data": {
      "text/plain": [
       "1.0799999999999998e-06"
      ]
     },
     "execution_count": 35,
     "metadata": {},
     "output_type": "execute_result"
    }
   ],
   "source": [
    "length_flux"
   ]
  },
  {
   "cell_type": "code",
   "execution_count": 60,
   "metadata": {},
   "outputs": [
    {
     "data": {
      "text/plain": [
       "(array([[ 0.99996828, -0.00796539],\n",
       "        [ 0.00796539,  0.99996828]]),\n",
       " array([ 410.53506663, -215.38279608]))"
      ]
     },
     "execution_count": 60,
     "metadata": {},
     "output_type": "execute_result"
    }
   ],
   "source": [
    "import numpy as np\n",
    "possdm1 = [[15380,30640],[12880,36120],[10620,45020]]\n",
    "possd = [[15540,30500],[13060,35920],[10620,45020]]\n",
    "listeA, listeB = possdm1,possd\n",
    "H = np.dot(\n",
    "    np.transpose(np.array(listeA) - np.mean(listeA, axis=0)),\n",
    "    np.array(listeB) - np.mean(listeB, axis=0),\n",
    ")\n",
    "U, S, V = np.linalg.svd(H)\n",
    "R = np.dot(V, np.transpose(U))\n",
    "t = np.mean(listeB, axis=0) - np.dot(R, np.mean(listeA, axis=0))\n",
    "R,t"
   ]
  },
  {
   "cell_type": "code",
   "execution_count": 68,
   "metadata": {},
   "outputs": [
    {
     "data": {
      "text/plain": [
       "array([36342.31320805, 36111.98043876])"
      ]
     },
     "execution_count": 68,
     "metadata": {},
     "output_type": "execute_result"
    }
   ],
   "source": [
    "pos = [36220,36040]\n",
    "np.dot(R,pos)+t"
   ]
  }
 ],
 "metadata": {
  "kernelspec": {
   "display_name": "Python 3",
   "language": "python",
   "name": "python3"
  },
  "language_info": {
   "codemirror_mode": {
    "name": "ipython",
    "version": 3
   },
   "file_extension": ".py",
   "mimetype": "text/x-python",
   "name": "python",
   "nbconvert_exporter": "python",
   "pygments_lexer": "ipython3",
   "version": "3.7.9"
  }
 },
 "nbformat": 4,
 "nbformat_minor": 4
}
