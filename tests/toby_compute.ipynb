{
 "cells": [
  {
   "cell_type": "code",
   "execution_count": 17,
   "metadata": {},
   "outputs": [
    {
     "data": {
      "text/plain": [
       "199.33405387027238"
      ]
     },
     "execution_count": 17,
     "metadata": {},
     "output_type": "execute_result"
    }
   ],
   "source": [
    "import numpy as np\n",
    "r = 5 #um\n",
    "v = 5 #um.s-1\n",
    "phi_tot_vol = np.pi * r**2 *v  #um**3.s-1\n",
    "d = 10**3*10**(-3*4) #g.um-3\n",
    "phi_m = d * phi_tot_vol #g3.s-1\n",
    "rdm = 0.3\n",
    "rlip = 0.47\n",
    "phi_c_m = rdm*rlip*phi_m\n",
    "phi_c_m*10**6*3600 #ug.h-1"
   ]
  },
  {
   "cell_type": "code",
   "execution_count": 18,
   "metadata": {},
   "outputs": [
    {
     "data": {
      "text/plain": [
       "0.05537057051952011"
      ]
     },
     "execution_count": 18,
     "metadata": {},
     "output_type": "execute_result"
    }
   ],
   "source": [
    "phi_c_m*10**6"
   ]
  },
  {
   "cell_type": "code",
   "execution_count": 13,
   "metadata": {},
   "outputs": [
    {
     "data": {
      "text/plain": [
       "0.002048711109222244"
      ]
     },
     "execution_count": 13,
     "metadata": {},
     "output_type": "execute_result"
    }
   ],
   "source": [
    "(phi_c_m*10**6*3600/10**6)*37*10**3/3600"
   ]
  },
  {
   "cell_type": "code",
   "execution_count": 6,
   "metadata": {},
   "outputs": [],
   "source": [
    "L = 0.03 * 10**6\n",
    "r = 5 #um\n",
    "vol = np.pi * r**2 *L  #um**3.s-1\n",
    "d = 10**3*10**(-3*4) #g.um-3\n",
    "m = d * vol #g3.s-1\n",
    "rdm = 0.3\n",
    "m_c = rdm*rlip*m"
   ]
  },
  {
   "cell_type": "code",
   "execution_count": 7,
   "metadata": {},
   "outputs": [
    {
     "data": {
      "text/plain": [
       "0.0003322234231171206"
      ]
     },
     "execution_count": 7,
     "metadata": {},
     "output_type": "execute_result"
    }
   ],
   "source": [
    "m_c"
   ]
  },
  {
   "cell_type": "code",
   "execution_count": 7,
   "metadata": {},
   "outputs": [
    {
     "data": {
      "text/plain": [
       "1e-09"
      ]
     },
     "execution_count": 7,
     "metadata": {},
     "output_type": "execute_result"
    }
   ],
   "source": [
    "phi_tot_vol\n",
    "d"
   ]
  },
  {
   "cell_type": "code",
   "execution_count": 5,
   "metadata": {},
   "outputs": [
    {
     "data": {
      "text/plain": [
       "1.4137166941154069e-06"
      ]
     },
     "execution_count": 5,
     "metadata": {},
     "output_type": "execute_result"
    }
   ],
   "source": [
    "phi_m*3600\n"
   ]
  },
  {
   "cell_type": "raw",
   "metadata": {},
   "source": [
    "sleaf = np.pi*5*5*10**-4"
   ]
  },
  {
   "cell_type": "code",
   "execution_count": 20,
   "metadata": {},
   "outputs": [
    {
     "data": {
      "text/plain": [
       "0.002092300707290802"
      ]
     },
     "execution_count": 20,
     "metadata": {},
     "output_type": "execute_result"
    }
   ],
   "source": [
    "rleaf = 1\n",
    "sleaf = np.pi*rleaf**2*10**-4 #m**2\n",
    "photo_rate = 15*10**-6 #mol.m-2.s-1\n",
    "mC = 12\n",
    "rate_C = sleaf*photo_rate * mC\n",
    "rate_C*37*10**3"
   ]
  },
  {
   "cell_type": "code",
   "execution_count": 25,
   "metadata": {},
   "outputs": [],
   "source": [
    "leaf_dry_weight_per_unit_area = 100 #g.m-2\n",
    "percentage_P = 2e-4\n",
    "P_per_unit_area = percentage_P*leaf_dry_weight_per_unit_area *10e-4 #g.cm-2"
   ]
  },
  {
   "cell_type": "code",
   "execution_count": 26,
   "metadata": {},
   "outputs": [
    {
     "data": {
      "text/plain": [
       "2e-05"
      ]
     },
     "execution_count": 26,
     "metadata": {},
     "output_type": "execute_result"
    }
   ],
   "source": [
    "P_per_unit_area"
   ]
  }
 ],
 "metadata": {
  "kernelspec": {
   "display_name": "Python 3 (ipykernel)",
   "language": "python",
   "name": "python3"
  },
  "language_info": {
   "codemirror_mode": {
    "name": "ipython",
    "version": 3
   },
   "file_extension": ".py",
   "mimetype": "text/x-python",
   "name": "python",
   "nbconvert_exporter": "python",
   "pygments_lexer": "ipython3",
   "version": "3.10.4"
  }
 },
 "nbformat": 4,
 "nbformat_minor": 4
}
