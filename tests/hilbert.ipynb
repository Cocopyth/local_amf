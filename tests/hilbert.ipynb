{
 "cells": [
  {
   "cell_type": "code",
   "execution_count": null,
   "id": "e2b3f35c-2a6c-4cd3-ac69-acd2f30104e7",
   "metadata": {},
   "outputs": [],
   "source": [
    "import imageio\n",
    "import numpy as np\n",
    "import networkx as nx\n",
    "import matplotlib.pyplot as plt"
   ]
  },
  {
   "cell_type": "code",
   "execution_count": null,
   "id": "d050d177-4f36-4ec4-bc04-2f1954a93d5a",
   "metadata": {},
   "outputs": [],
   "source": [
    "import pandas as pd\n",
    "data = pd.read_csv(\"hannah_data.csv\")\n",
    "data[\"density\"] = data[\"tot_length\"]/data[\"area_sep_comp\"]"
   ]
  },
  {
   "cell_type": "code",
   "execution_count": null,
   "id": "6daea5a2-ceb3-4561-918a-488d3f9f4974",
   "metadata": {},
   "outputs": [],
   "source": [
    "\n"
   ]
  },
  {
   "cell_type": "code",
   "execution_count": null,
   "id": "1b04c649-51cf-4ee2-9f31-4b1400f67200",
   "metadata": {},
   "outputs": [],
   "source": []
  },
  {
   "cell_type": "code",
   "execution_count": null,
   "id": "f53345a6-1187-45f5-9b88-e888aaa077af",
   "metadata": {},
   "outputs": [],
   "source": [
    "im = imageio.imread(\"hilbert.PNG\")"
   ]
  },
  {
   "cell_type": "code",
   "execution_count": null,
   "id": "81baaa7e-c582-41e2-8872-2f97d10e7f8b",
   "metadata": {},
   "outputs": [],
   "source": [
    "plt.imshow(im[:,:,0]>100)"
   ]
  },
  {
   "cell_type": "code",
   "execution_count": null,
   "id": "816f80f1-7925-46a2-92aa-8535db123a0e",
   "metadata": {},
   "outputs": [],
   "source": [
    "thersholded = im[:,:,0]>100\n",
    "from skimage.feature import corner_fast\n",
    "corners = corner_fast(im[:,:,0],threshold=0.05,)\n",
    "points = corners.nonzero()\n"
   ]
  },
  {
   "cell_type": "code",
   "execution_count": null,
   "id": "a6222f19-5d18-4b64-b52f-0cc8aa728e3d",
   "metadata": {
    "tags": []
   },
   "outputs": [],
   "source": [
    "np.array((points[1],points[0])).transpose()"
   ]
  },
  {
   "cell_type": "code",
   "execution_count": null,
   "id": "e862adbf-b9b1-424e-8512-e59c62a628f7",
   "metadata": {},
   "outputs": [],
   "source": [
    "plt.imshow(im)\n",
    "plt.scatter(points[1],points[0])"
   ]
  },
  {
   "cell_type": "code",
   "execution_count": null,
   "id": "e7e4eb59-195e-461f-b5e9-1f34c9b32487",
   "metadata": {},
   "outputs": [],
   "source": [
    "from skimage.morphology import skeletonize\n",
    "from skimage import measure"
   ]
  },
  {
   "cell_type": "code",
   "execution_count": null,
   "id": "85ea44e9-a9c3-44e0-9325-b9048b7a2277",
   "metadata": {
    "tags": []
   },
   "outputs": [],
   "source": [
    "def is_corner(points):\n",
    "    \"\"\"\n",
    "    Returns True if the angle at the middle point of the input points\n",
    "    is approximately 90 degrees, False otherwise.\n",
    "    \"\"\"\n",
    "    middle_point = points[len(points)//2]\n",
    "    angle_tol = np.deg2rad(20)\n",
    "    angle_diff = np.abs(np.diff(np.arctan2(points[:,0]-middle_point[0], points[:,1]-middle_point[1])))[0]\n",
    "    return np.abs(np.pi/2 - angle_diff) < angle_tol"
   ]
  },
  {
   "cell_type": "code",
   "execution_count": null,
   "id": "8e7934a2-98d7-4120-94d4-f240fcd59e6b",
   "metadata": {},
   "outputs": [],
   "source": [
    "skeleton = skeletonize(thersholded)\n",
    "edges = measure.find_contours(skeleton, 0.5)\n",
    "\n",
    "# Initialize the graph\n",
    "G = nx.Graph()\n",
    "\n",
    "# Add the nodes to the graph\n",
    "for i in range(skeleton.shape[0]):\n",
    "    for j in range(skeleton.shape[1]):\n",
    "        if skeleton[i, j]:\n",
    "            G.add_node((i, j))\n",
    "\n",
    "# Add the edges to the graph\n",
    "for edge in edges:\n",
    "    edge = np.round(edge).astype(int)\n",
    "    for i in range(len(edge)-1):\n",
    "        u = (edge[i][0], edge[i][1])\n",
    "        v = (edge[i+1][0], edge[i+1][1])\n",
    "        G.add_edge(u, v)\n",
    "\n",
    "# Plot the graph\n",
    "pos = {node: node[::-1] for node in G.nodes()}\n",
    "nx.draw(G, pos=pos, with_labels=False, node_size=1, edge_color='r', width=0.5)"
   ]
  },
  {
   "cell_type": "code",
   "execution_count": null,
   "id": "219c272a-7f23-4941-b035-33823336c676",
   "metadata": {
    "jupyter": {
     "outputs_hidden": true
    },
    "tags": []
   },
   "outputs": [],
   "source": [
    "points = [(edge[0],edge[-1]) for edge in edges]\n",
    "points"
   ]
  },
  {
   "cell_type": "code",
   "execution_count": null,
   "id": "c6e544aa-7fca-4386-be93-267cc0db3acf",
   "metadata": {},
   "outputs": [],
   "source": [
    "from scipy.spatial import Delaunay\n",
    "points_del = np.array((points[1],points[0])).transpose()\n",
    "tri = Delaunay(points_del)"
   ]
  },
  {
   "cell_type": "code",
   "execution_count": null,
   "id": "a329dd15-7e49-480f-8493-1facf96da5a8",
   "metadata": {},
   "outputs": [],
   "source": [
    "import matplotlib.pyplot as plt\n",
    "fig,ax = plt.subplots(facecolor='black')\n",
    "ax.set_facecolor('black')\n",
    "ax.triplot(points_del[:,0], points_del[:,1], tri.simplices,color=\"white\")\n",
    "\n",
    "ax.plot(points_del[:,0], points_del[:,1], 'o',color=\"red\")\n",
    "plt.savefig(\"delaunay.png\")\n"
   ]
  }
 ],
 "metadata": {
  "kernelspec": {
   "display_name": "Python 3 (ipykernel)",
   "language": "python",
   "name": "python3"
  },
  "language_info": {
   "codemirror_mode": {
    "name": "ipython",
    "version": 3
   },
   "file_extension": ".py",
   "mimetype": "text/x-python",
   "name": "python",
   "nbconvert_exporter": "python",
   "pygments_lexer": "ipython3",
   "version": "3.10.6"
  }
 },
 "nbformat": 4,
 "nbformat_minor": 5
}
