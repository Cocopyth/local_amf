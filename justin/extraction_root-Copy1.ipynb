{
 "cells": [
  {
   "cell_type": "code",
   "execution_count": 12,
   "metadata": {},
   "outputs": [],
   "source": [
    "import imageio \n",
    "import numpy as np\n",
    "import matplotlib.pyplot as plt\n",
    "import cv2\n",
    "%matplotlib widget\n",
    "import sys\n",
    "from scipy import sparse\n",
    "from amftrack.pipeline.functions.image_processing.extract_graph import (\n",
    "    from_sparse_to_graph,\n",
    "    generate_nx_graph,\n",
    "    clean_degree_4,\n",
    ")\n",
    "from skimage.measure import profile_line\n",
    "import pandas as pd\n",
    "\n",
    "sys.path.insert(0,r'C:\\Users\\coren\\Documents\\PhD\\Code\\AMFtrack')\n",
    "\n",
    "path = '20211106_A3_MT-K20_seg[5323].png'\n",
    "im = imageio.imread(path)"
   ]
  },
  {
   "cell_type": "code",
   "execution_count": 40,
   "metadata": {},
   "outputs": [],
   "source": [
    "# from amftrack.pipeline.functions.image_processing.extract_width_fun import *\n",
    "pixel_conversion_factor = 1/12.3\n",
    "# pixel_conversion_factor = 1\n",
    "\n",
    "def get_width_pixel(edge,index,im,pivot,before,after,size = 20,width_factor = 10,averaging_size = 100,threshold_averaging = 10):\n",
    "    imtab=im\n",
    "    orientation=np.array(before)-np.array(after)\n",
    "    perpendicular = [1,-orientation[0]/orientation[1]] if orientation[1]!=0 else [0,1]\n",
    "    perpendicular_norm=np.array(perpendicular)/np.sqrt(perpendicular[0]**2+perpendicular[1]**2)\n",
    "    point1=np.around(np.array(pivot)+width_factor*perpendicular_norm)\n",
    "    point2=np.around(np.array(pivot)-width_factor*perpendicular_norm)\n",
    "    point1=point1.astype(int)\n",
    "    point2=point2.astype(int)\n",
    "    p = profile_line(imtab, point1, point2,mode='constant')\n",
    "    xdata = np.array(range(len(p)))\n",
    "    ydata = np.array(p)\n",
    "#     print(p)\n",
    "    background = 0.5\n",
    "    arg = len(p)//2\n",
    "    l1,l2 = [i+arg for i in range(len(p[arg:])) if p[arg+i]==255],[arg-i for i in range(len(p[:arg])) if p[arg-i]==255]\n",
    "    if len(l1)==0 or len(l2)==0:\n",
    "        return(-1)\n",
    "    else:\n",
    "        arg_max = min(l1)\n",
    "        arg_min = max(l2)\n",
    "        width_pix = arg_max-arg_min\n",
    "        return(width_pix)\n",
    "\n",
    "def get_width_edge(edge,graph,im,resolution,local=False, threshold_averaging = 10):\n",
    "    pixel_list = graph.get_edge_data(edge[0], edge[1])[\"pixel_list\"]\n",
    "    pixels = []\n",
    "    indexes = []\n",
    "    poss = []\n",
    "    widths={}\n",
    "    if len(pixel_list)>3*resolution:\n",
    "        for i in range(0,len(pixel_list)//resolution):\n",
    "            index = i*resolution\n",
    "            indexes.append(index)\n",
    "            pixel = pixel_list[index]\n",
    "            pixels.append(pixel)\n",
    "            poss.append(pixel)\n",
    "    else:\n",
    "        indexes = [0,len(pixel_list)//2,len(pixel_list)-1]\n",
    "        for index in indexes:\n",
    "            pixel = pixel_list[index]\n",
    "            pixels.append(pixel)\n",
    "            poss.append(pixel)\n",
    "#     print(indexes)\n",
    "    for i, index in enumerate(indexes[1:-1]):\n",
    "        source_img = im\n",
    "        pivot = poss[i+1]\n",
    "        before = poss[i]\n",
    "        after = poss[i+2]\n",
    "        width = get_width_pixel(edge,index,source_img,pivot,before,after,threshold_averaging = threshold_averaging)\n",
    "        widths[pixel_list[index]]=-1 if width==-1 else width*pixel_conversion_factor \n",
    "    return(widths)    \n",
    "\n",
    "def get_length_um(edge,graph):\n",
    "    pixels = graph.get_edge_data(edge[0], edge[1])[\"pixel_list\"]\n",
    "    length_edge = 0\n",
    "    for i in range(len(pixels) // 10 + 1):\n",
    "        if i * 10 <= len(pixels) - 1:\n",
    "            length_edge += np.linalg.norm(\n",
    "                np.array(pixels[i * 10])\n",
    "                - np.array(pixels[min((i + 1) * 10, len(pixels) - 1)])\n",
    "            )\n",
    "    #         length_edge+=np.linalg.norm(np.array(pixels[len(pixels)//10-1*10-1])-np.array(pixels[-1]))\n",
    "    return length_edge * pixel_conversion_factor\n",
    "\n",
    "def get_width_info(graph,im,resolution = 10):\n",
    "    edge_width={}\n",
    "    for edge in graph.edges:\n",
    "        list_widths = list(get_width_edge(edge,graph,im,resolution).values()) \n",
    "        mean = -1 if -1 in list_widths else np.mean(list_widths)\n",
    "        edge_width[edge]=mean\n",
    "    return(edge_width)\n",
    "\n",
    "def get_length_info(graph,im,resolution = 10):\n",
    "    edge_length={}\n",
    "    for edge in graph.edges:\n",
    "        edge_length[edge]=get_length_um(edge,graph)\n",
    "    return(edge_length)"
   ]
  },
  {
   "cell_type": "code",
   "execution_count": 57,
   "metadata": {},
   "outputs": [],
   "source": [
    "def analyse_root_img(paths):\n",
    "    begin=[]\n",
    "    end = []\n",
    "    begin_pos = []\n",
    "    end_pos = []\n",
    "    length = []\n",
    "    width = []\n",
    "    ids = []\n",
    "    for path in paths:\n",
    "        path_relative = path.split(\"\\\\\")[-1]\n",
    "        im = imageio.imread(path)  \n",
    "        gray = cv2.cvtColor(im,cv2.COLOR_BGR2GRAY)   \n",
    "        skeletonized = cv2.ximgproc.thinning(255-gray)\n",
    "        skeleton = sparse.dok_matrix(skeletonized)\n",
    "        nx_graph, pos = generate_nx_graph(from_sparse_to_graph(skeleton))\n",
    "        width_info = get_width_info(nx_graph,gray)\n",
    "        length_info = get_length_info(nx_graph,gray)    \n",
    "        canva = np.zeros((*gray.shape,4))\n",
    "        for edge in width_info.keys():\n",
    "            pixel_list = nx_graph.get_edge_data(edge[0], edge[1])[\"pixel_list\"]\n",
    "            for pixel in pixel_list:\n",
    "                canva[pixel[0],pixel[1],:] = np.array(plt.get_cmap('jet')(int(400*width_info[edge])))\n",
    "        plt.close(\"all\")\n",
    "        fig, ax = plt.subplots()\n",
    "        kernel = np.ones((5,5),np.uint8)\n",
    "\n",
    "        ax.imshow(cv2.dilate(canva,kernel,iterations = 1))\n",
    "        ax.imshow(gray,alpha = 0.2)\n",
    "        plt.savefig('extracted/'+path_relative.split('.')[0]+'_overlay.png')\n",
    "        for edge in nx_graph.edges:\n",
    "            begin.append(edge[0])\n",
    "            end.append(edge[1])\n",
    "            begin_pos.append(pos[edge[0]])\n",
    "            end_pos.append(pos[edge[1]])    \n",
    "            length.append(length_info[edge])\n",
    "            width.append(width_info[edge])\n",
    "            ids.append(path_relative)\n",
    "    data = pd.DataFrame(np.array((ids,begin,end,begin_pos,end_pos,length,width)).transpose(),columns=['id','begin','end','begin_pos','end_pos','length','width'])\n",
    "    data.to_csv('width_length_total.csv')    "
   ]
  },
  {
   "cell_type": "code",
   "execution_count": 58,
   "metadata": {},
   "outputs": [],
   "source": [
    "from os import listdir\n",
    "from os.path import isfile, join\n",
    "mypath = 'Roots_Coco'\n",
    "paths = [join(mypath, f) for f in listdir(mypath) if isfile(join(mypath, f))]\n",
    "# paths"
   ]
  },
  {
   "cell_type": "code",
   "execution_count": null,
   "metadata": {
    "collapsed": true,
    "jupyter": {
     "outputs_hidden": true
    }
   },
   "outputs": [
    {
     "data": {
      "application/vnd.jupyter.widget-view+json": {
       "model_id": "fb4144d1694f4f4eb7e43ffa0d5946cf",
       "version_major": 2,
       "version_minor": 0
      },
      "text/plain": [
       "Canvas(toolbar=Toolbar(toolitems=[('Home', 'Reset original view', 'home', 'home'), ('Back', 'Back to previous …"
      ]
     },
     "metadata": {},
     "output_type": "display_data"
    },
    {
     "data": {
      "application/vnd.jupyter.widget-view+json": {
       "model_id": "9b38fba3790844e4a54aa787d6cdde07",
       "version_major": 2,
       "version_minor": 0
      },
      "text/plain": [
       "Canvas(toolbar=Toolbar(toolitems=[('Home', 'Reset original view', 'home', 'home'), ('Back', 'Back to previous …"
      ]
     },
     "metadata": {},
     "output_type": "display_data"
    },
    {
     "data": {
      "application/vnd.jupyter.widget-view+json": {
       "model_id": "b1729fc9e9bb452b8cc1169de5dc803e",
       "version_major": 2,
       "version_minor": 0
      },
      "text/plain": [
       "Canvas(toolbar=Toolbar(toolitems=[('Home', 'Reset original view', 'home', 'home'), ('Back', 'Back to previous …"
      ]
     },
     "metadata": {},
     "output_type": "display_data"
    },
    {
     "data": {
      "application/vnd.jupyter.widget-view+json": {
       "model_id": "a8255c3452da4a589b3a31d60d41536b",
       "version_major": 2,
       "version_minor": 0
      },
      "text/plain": [
       "Canvas(toolbar=Toolbar(toolitems=[('Home', 'Reset original view', 'home', 'home'), ('Back', 'Back to previous …"
      ]
     },
     "metadata": {},
     "output_type": "display_data"
    },
    {
     "data": {
      "application/vnd.jupyter.widget-view+json": {
       "model_id": "9e9b023bc39e44338d209e4dc37ee0ba",
       "version_major": 2,
       "version_minor": 0
      },
      "text/plain": [
       "Canvas(toolbar=Toolbar(toolitems=[('Home', 'Reset original view', 'home', 'home'), ('Back', 'Back to previous …"
      ]
     },
     "metadata": {},
     "output_type": "display_data"
    },
    {
     "data": {
      "application/vnd.jupyter.widget-view+json": {
       "model_id": "9cfc1a7422da4121abe5067d322a5673",
       "version_major": 2,
       "version_minor": 0
      },
      "text/plain": [
       "Canvas(toolbar=Toolbar(toolitems=[('Home', 'Reset original view', 'home', 'home'), ('Back', 'Back to previous …"
      ]
     },
     "metadata": {},
     "output_type": "display_data"
    },
    {
     "data": {
      "application/vnd.jupyter.widget-view+json": {
       "model_id": "9798fddc171141179b75c17100731262",
       "version_major": 2,
       "version_minor": 0
      },
      "text/plain": [
       "Canvas(toolbar=Toolbar(toolitems=[('Home', 'Reset original view', 'home', 'home'), ('Back', 'Back to previous …"
      ]
     },
     "metadata": {},
     "output_type": "display_data"
    },
    {
     "data": {
      "application/vnd.jupyter.widget-view+json": {
       "model_id": "14ce555b57464125b8f8a61a6763205d",
       "version_major": 2,
       "version_minor": 0
      },
      "text/plain": [
       "Canvas(toolbar=Toolbar(toolitems=[('Home', 'Reset original view', 'home', 'home'), ('Back', 'Back to previous …"
      ]
     },
     "metadata": {},
     "output_type": "display_data"
    },
    {
     "data": {
      "application/vnd.jupyter.widget-view+json": {
       "model_id": "19b2808742e840dab2cf43dbcec62563",
       "version_major": 2,
       "version_minor": 0
      },
      "text/plain": [
       "Canvas(toolbar=Toolbar(toolitems=[('Home', 'Reset original view', 'home', 'home'), ('Back', 'Back to previous …"
      ]
     },
     "metadata": {},
     "output_type": "display_data"
    },
    {
     "data": {
      "application/vnd.jupyter.widget-view+json": {
       "model_id": "a864547cd23c4937a8351824e69a0df6",
       "version_major": 2,
       "version_minor": 0
      },
      "text/plain": [
       "Canvas(toolbar=Toolbar(toolitems=[('Home', 'Reset original view', 'home', 'home'), ('Back', 'Back to previous …"
      ]
     },
     "metadata": {},
     "output_type": "display_data"
    },
    {
     "data": {
      "application/vnd.jupyter.widget-view+json": {
       "model_id": "c4d842f0373a439ba82cddc95b5c3e08",
       "version_major": 2,
       "version_minor": 0
      },
      "text/plain": [
       "Canvas(toolbar=Toolbar(toolitems=[('Home', 'Reset original view', 'home', 'home'), ('Back', 'Back to previous …"
      ]
     },
     "metadata": {},
     "output_type": "display_data"
    },
    {
     "data": {
      "application/vnd.jupyter.widget-view+json": {
       "model_id": "09ce40c696de4dc5ae4fa984e983ec84",
       "version_major": 2,
       "version_minor": 0
      },
      "text/plain": [
       "Canvas(toolbar=Toolbar(toolitems=[('Home', 'Reset original view', 'home', 'home'), ('Back', 'Back to previous …"
      ]
     },
     "metadata": {},
     "output_type": "display_data"
    },
    {
     "data": {
      "application/vnd.jupyter.widget-view+json": {
       "model_id": "5e05287ab95748e4b007a2c000fd4897",
       "version_major": 2,
       "version_minor": 0
      },
      "text/plain": [
       "Canvas(toolbar=Toolbar(toolitems=[('Home', 'Reset original view', 'home', 'home'), ('Back', 'Back to previous …"
      ]
     },
     "metadata": {},
     "output_type": "display_data"
    },
    {
     "data": {
      "application/vnd.jupyter.widget-view+json": {
       "model_id": "c03599e07b814b29a7a34fabd772221a",
       "version_major": 2,
       "version_minor": 0
      },
      "text/plain": [
       "Canvas(toolbar=Toolbar(toolitems=[('Home', 'Reset original view', 'home', 'home'), ('Back', 'Back to previous …"
      ]
     },
     "metadata": {},
     "output_type": "display_data"
    },
    {
     "data": {
      "application/vnd.jupyter.widget-view+json": {
       "model_id": "8ffc1f7e23f845129e1dceac0b1e989a",
       "version_major": 2,
       "version_minor": 0
      },
      "text/plain": [
       "Canvas(toolbar=Toolbar(toolitems=[('Home', 'Reset original view', 'home', 'home'), ('Back', 'Back to previous …"
      ]
     },
     "metadata": {},
     "output_type": "display_data"
    },
    {
     "data": {
      "application/vnd.jupyter.widget-view+json": {
       "model_id": "394d679a903f4ddaab5292791dc5e445",
       "version_major": 2,
       "version_minor": 0
      },
      "text/plain": [
       "Canvas(toolbar=Toolbar(toolitems=[('Home', 'Reset original view', 'home', 'home'), ('Back', 'Back to previous …"
      ]
     },
     "metadata": {},
     "output_type": "display_data"
    },
    {
     "data": {
      "application/vnd.jupyter.widget-view+json": {
       "model_id": "01543a7f95f24b27bb3ae270be28e177",
       "version_major": 2,
       "version_minor": 0
      },
      "text/plain": [
       "Canvas(toolbar=Toolbar(toolitems=[('Home', 'Reset original view', 'home', 'home'), ('Back', 'Back to previous …"
      ]
     },
     "metadata": {},
     "output_type": "display_data"
    },
    {
     "data": {
      "application/vnd.jupyter.widget-view+json": {
       "model_id": "d8e5ab014d88422991b2cbf7410e339a",
       "version_major": 2,
       "version_minor": 0
      },
      "text/plain": [
       "Canvas(toolbar=Toolbar(toolitems=[('Home', 'Reset original view', 'home', 'home'), ('Back', 'Back to previous …"
      ]
     },
     "metadata": {},
     "output_type": "display_data"
    },
    {
     "data": {
      "application/vnd.jupyter.widget-view+json": {
       "model_id": "e038a5a920a04e3592b434013a86d65e",
       "version_major": 2,
       "version_minor": 0
      },
      "text/plain": [
       "Canvas(toolbar=Toolbar(toolitems=[('Home', 'Reset original view', 'home', 'home'), ('Back', 'Back to previous …"
      ]
     },
     "metadata": {},
     "output_type": "display_data"
    },
    {
     "data": {
      "application/vnd.jupyter.widget-view+json": {
       "model_id": "8942782833df45a6b07c84d8d45973e5",
       "version_major": 2,
       "version_minor": 0
      },
      "text/plain": [
       "Canvas(toolbar=Toolbar(toolitems=[('Home', 'Reset original view', 'home', 'home'), ('Back', 'Back to previous …"
      ]
     },
     "metadata": {},
     "output_type": "display_data"
    },
    {
     "data": {
      "application/vnd.jupyter.widget-view+json": {
       "model_id": "0ff08c09515a4d429f6c11e135cb635f",
       "version_major": 2,
       "version_minor": 0
      },
      "text/plain": [
       "Canvas(toolbar=Toolbar(toolitems=[('Home', 'Reset original view', 'home', 'home'), ('Back', 'Back to previous …"
      ]
     },
     "metadata": {},
     "output_type": "display_data"
    },
    {
     "data": {
      "application/vnd.jupyter.widget-view+json": {
       "model_id": "4af3014bd5c24e02ad88b55a9847efea",
       "version_major": 2,
       "version_minor": 0
      },
      "text/plain": [
       "Canvas(toolbar=Toolbar(toolitems=[('Home', 'Reset original view', 'home', 'home'), ('Back', 'Back to previous …"
      ]
     },
     "metadata": {},
     "output_type": "display_data"
    },
    {
     "data": {
      "application/vnd.jupyter.widget-view+json": {
       "model_id": "b276a7216e8543cba85ecc2ee6e34105",
       "version_major": 2,
       "version_minor": 0
      },
      "text/plain": [
       "Canvas(toolbar=Toolbar(toolitems=[('Home', 'Reset original view', 'home', 'home'), ('Back', 'Back to previous …"
      ]
     },
     "metadata": {},
     "output_type": "display_data"
    },
    {
     "data": {
      "application/vnd.jupyter.widget-view+json": {
       "model_id": "f62033862b374d8d9bdc3387251a9cdf",
       "version_major": 2,
       "version_minor": 0
      },
      "text/plain": [
       "Canvas(toolbar=Toolbar(toolitems=[('Home', 'Reset original view', 'home', 'home'), ('Back', 'Back to previous …"
      ]
     },
     "metadata": {},
     "output_type": "display_data"
    },
    {
     "data": {
      "application/vnd.jupyter.widget-view+json": {
       "model_id": "215d0968e46743b590acacec87947b52",
       "version_major": 2,
       "version_minor": 0
      },
      "text/plain": [
       "Canvas(toolbar=Toolbar(toolitems=[('Home', 'Reset original view', 'home', 'home'), ('Back', 'Back to previous …"
      ]
     },
     "metadata": {},
     "output_type": "display_data"
    },
    {
     "data": {
      "application/vnd.jupyter.widget-view+json": {
       "model_id": "d884c9b804d1480e996c61778f7f14da",
       "version_major": 2,
       "version_minor": 0
      },
      "text/plain": [
       "Canvas(toolbar=Toolbar(toolitems=[('Home', 'Reset original view', 'home', 'home'), ('Back', 'Back to previous …"
      ]
     },
     "metadata": {},
     "output_type": "display_data"
    },
    {
     "data": {
      "application/vnd.jupyter.widget-view+json": {
       "model_id": "995c6eb1cccc4b25b6180c56490f1b12",
       "version_major": 2,
       "version_minor": 0
      },
      "text/plain": [
       "Canvas(toolbar=Toolbar(toolitems=[('Home', 'Reset original view', 'home', 'home'), ('Back', 'Back to previous …"
      ]
     },
     "metadata": {},
     "output_type": "display_data"
    },
    {
     "data": {
      "application/vnd.jupyter.widget-view+json": {
       "model_id": "dad3c2e0ef1047d1887799023426a479",
       "version_major": 2,
       "version_minor": 0
      },
      "text/plain": [
       "Canvas(toolbar=Toolbar(toolitems=[('Home', 'Reset original view', 'home', 'home'), ('Back', 'Back to previous …"
      ]
     },
     "metadata": {},
     "output_type": "display_data"
    },
    {
     "data": {
      "application/vnd.jupyter.widget-view+json": {
       "model_id": "fdd0484dd7e54904b817d86c8870d056",
       "version_major": 2,
       "version_minor": 0
      },
      "text/plain": [
       "Canvas(toolbar=Toolbar(toolitems=[('Home', 'Reset original view', 'home', 'home'), ('Back', 'Back to previous …"
      ]
     },
     "metadata": {},
     "output_type": "display_data"
    },
    {
     "data": {
      "application/vnd.jupyter.widget-view+json": {
       "model_id": "647eec61a5424776b00fbdb1eaf76880",
       "version_major": 2,
       "version_minor": 0
      },
      "text/plain": [
       "Canvas(toolbar=Toolbar(toolitems=[('Home', 'Reset original view', 'home', 'home'), ('Back', 'Back to previous …"
      ]
     },
     "metadata": {},
     "output_type": "display_data"
    },
    {
     "data": {
      "application/vnd.jupyter.widget-view+json": {
       "model_id": "6d1a4efe09574e35bc32c5fcc8e90844",
       "version_major": 2,
       "version_minor": 0
      },
      "text/plain": [
       "Canvas(toolbar=Toolbar(toolitems=[('Home', 'Reset original view', 'home', 'home'), ('Back', 'Back to previous …"
      ]
     },
     "metadata": {},
     "output_type": "display_data"
    },
    {
     "data": {
      "application/vnd.jupyter.widget-view+json": {
       "model_id": "fbe25a30e5b94d2284e9fc78c3bc6b7f",
       "version_major": 2,
       "version_minor": 0
      },
      "text/plain": [
       "Canvas(toolbar=Toolbar(toolitems=[('Home', 'Reset original view', 'home', 'home'), ('Back', 'Back to previous …"
      ]
     },
     "metadata": {},
     "output_type": "display_data"
    },
    {
     "data": {
      "application/vnd.jupyter.widget-view+json": {
       "model_id": "3fe1a46e6db64923a52fbf4affd177cb",
       "version_major": 2,
       "version_minor": 0
      },
      "text/plain": [
       "Canvas(toolbar=Toolbar(toolitems=[('Home', 'Reset original view', 'home', 'home'), ('Back', 'Back to previous …"
      ]
     },
     "metadata": {},
     "output_type": "display_data"
    },
    {
     "data": {
      "application/vnd.jupyter.widget-view+json": {
       "model_id": "88b3e79f8b7949af9b83a920fcbe9d55",
       "version_major": 2,
       "version_minor": 0
      },
      "text/plain": [
       "Canvas(toolbar=Toolbar(toolitems=[('Home', 'Reset original view', 'home', 'home'), ('Back', 'Back to previous …"
      ]
     },
     "metadata": {},
     "output_type": "display_data"
    },
    {
     "data": {
      "application/vnd.jupyter.widget-view+json": {
       "model_id": "3cde4314c7834389a77d2eb4f3532722",
       "version_major": 2,
       "version_minor": 0
      },
      "text/plain": [
       "Canvas(toolbar=Toolbar(toolitems=[('Home', 'Reset original view', 'home', 'home'), ('Back', 'Back to previous …"
      ]
     },
     "metadata": {},
     "output_type": "display_data"
    },
    {
     "data": {
      "application/vnd.jupyter.widget-view+json": {
       "model_id": "0b626650421345629afcfc54a97ad024",
       "version_major": 2,
       "version_minor": 0
      },
      "text/plain": [
       "Canvas(toolbar=Toolbar(toolitems=[('Home', 'Reset original view', 'home', 'home'), ('Back', 'Back to previous …"
      ]
     },
     "metadata": {},
     "output_type": "display_data"
    },
    {
     "data": {
      "application/vnd.jupyter.widget-view+json": {
       "model_id": "5be6aad386e64ec3b8ac0a70de596095",
       "version_major": 2,
       "version_minor": 0
      },
      "text/plain": [
       "Canvas(toolbar=Toolbar(toolitems=[('Home', 'Reset original view', 'home', 'home'), ('Back', 'Back to previous …"
      ]
     },
     "metadata": {},
     "output_type": "display_data"
    },
    {
     "data": {
      "application/vnd.jupyter.widget-view+json": {
       "model_id": "2341d48d17ae42d59b9ce5470aab7bc1",
       "version_major": 2,
       "version_minor": 0
      },
      "text/plain": [
       "Canvas(toolbar=Toolbar(toolitems=[('Home', 'Reset original view', 'home', 'home'), ('Back', 'Back to previous …"
      ]
     },
     "metadata": {},
     "output_type": "display_data"
    },
    {
     "data": {
      "application/vnd.jupyter.widget-view+json": {
       "model_id": "9e763220265e4e5580fbc0e99cdea64f",
       "version_major": 2,
       "version_minor": 0
      },
      "text/plain": [
       "Canvas(toolbar=Toolbar(toolitems=[('Home', 'Reset original view', 'home', 'home'), ('Back', 'Back to previous …"
      ]
     },
     "metadata": {},
     "output_type": "display_data"
    },
    {
     "data": {
      "application/vnd.jupyter.widget-view+json": {
       "model_id": "e8d6374ddbe74cb5b4e01534786a3ac0",
       "version_major": 2,
       "version_minor": 0
      },
      "text/plain": [
       "Canvas(toolbar=Toolbar(toolitems=[('Home', 'Reset original view', 'home', 'home'), ('Back', 'Back to previous …"
      ]
     },
     "metadata": {},
     "output_type": "display_data"
    },
    {
     "data": {
      "application/vnd.jupyter.widget-view+json": {
       "model_id": "532c3625af934f83b9d6c654da0b8c66",
       "version_major": 2,
       "version_minor": 0
      },
      "text/plain": [
       "Canvas(toolbar=Toolbar(toolitems=[('Home', 'Reset original view', 'home', 'home'), ('Back', 'Back to previous …"
      ]
     },
     "metadata": {},
     "output_type": "display_data"
    },
    {
     "data": {
      "application/vnd.jupyter.widget-view+json": {
       "model_id": "fea5ce82bec344e6a4907b268127df9c",
       "version_major": 2,
       "version_minor": 0
      },
      "text/plain": [
       "Canvas(toolbar=Toolbar(toolitems=[('Home', 'Reset original view', 'home', 'home'), ('Back', 'Back to previous …"
      ]
     },
     "metadata": {},
     "output_type": "display_data"
    },
    {
     "data": {
      "application/vnd.jupyter.widget-view+json": {
       "model_id": "76bbb9f11543461d8d70a38046d34d85",
       "version_major": 2,
       "version_minor": 0
      },
      "text/plain": [
       "Canvas(toolbar=Toolbar(toolitems=[('Home', 'Reset original view', 'home', 'home'), ('Back', 'Back to previous …"
      ]
     },
     "metadata": {},
     "output_type": "display_data"
    },
    {
     "data": {
      "application/vnd.jupyter.widget-view+json": {
       "model_id": "27e3eca7c8c349018c5c6e4b00c96b8c",
       "version_major": 2,
       "version_minor": 0
      },
      "text/plain": [
       "Canvas(toolbar=Toolbar(toolitems=[('Home', 'Reset original view', 'home', 'home'), ('Back', 'Back to previous …"
      ]
     },
     "metadata": {},
     "output_type": "display_data"
    },
    {
     "data": {
      "application/vnd.jupyter.widget-view+json": {
       "model_id": "0895d3fa28aa47cbb75bae918115dd03",
       "version_major": 2,
       "version_minor": 0
      },
      "text/plain": [
       "Canvas(toolbar=Toolbar(toolitems=[('Home', 'Reset original view', 'home', 'home'), ('Back', 'Back to previous …"
      ]
     },
     "metadata": {},
     "output_type": "display_data"
    },
    {
     "data": {
      "application/vnd.jupyter.widget-view+json": {
       "model_id": "77863b51eff04eb88dffc0a5ba00f89d",
       "version_major": 2,
       "version_minor": 0
      },
      "text/plain": [
       "Canvas(toolbar=Toolbar(toolitems=[('Home', 'Reset original view', 'home', 'home'), ('Back', 'Back to previous …"
      ]
     },
     "metadata": {},
     "output_type": "display_data"
    },
    {
     "data": {
      "application/vnd.jupyter.widget-view+json": {
       "model_id": "8b5b1f15028941da9f5f3db7a60f5fff",
       "version_major": 2,
       "version_minor": 0
      },
      "text/plain": [
       "Canvas(toolbar=Toolbar(toolitems=[('Home', 'Reset original view', 'home', 'home'), ('Back', 'Back to previous …"
      ]
     },
     "metadata": {},
     "output_type": "display_data"
    },
    {
     "data": {
      "application/vnd.jupyter.widget-view+json": {
       "model_id": "058be5e41c5a48249aea72c1f7de84ed",
       "version_major": 2,
       "version_minor": 0
      },
      "text/plain": [
       "Canvas(toolbar=Toolbar(toolitems=[('Home', 'Reset original view', 'home', 'home'), ('Back', 'Back to previous …"
      ]
     },
     "metadata": {},
     "output_type": "display_data"
    },
    {
     "data": {
      "application/vnd.jupyter.widget-view+json": {
       "model_id": "fa6e5f7298ff4119bc82abf2dd0e5cc9",
       "version_major": 2,
       "version_minor": 0
      },
      "text/plain": [
       "Canvas(toolbar=Toolbar(toolitems=[('Home', 'Reset original view', 'home', 'home'), ('Back', 'Back to previous …"
      ]
     },
     "metadata": {},
     "output_type": "display_data"
    },
    {
     "data": {
      "application/vnd.jupyter.widget-view+json": {
       "model_id": "7301403f23184afbac72ad0f52448390",
       "version_major": 2,
       "version_minor": 0
      },
      "text/plain": [
       "Canvas(toolbar=Toolbar(toolitems=[('Home', 'Reset original view', 'home', 'home'), ('Back', 'Back to previous …"
      ]
     },
     "metadata": {},
     "output_type": "display_data"
    },
    {
     "data": {
      "application/vnd.jupyter.widget-view+json": {
       "model_id": "0181d579072449daa0800ee4121e1272",
       "version_major": 2,
       "version_minor": 0
      },
      "text/plain": [
       "Canvas(toolbar=Toolbar(toolitems=[('Home', 'Reset original view', 'home', 'home'), ('Back', 'Back to previous …"
      ]
     },
     "metadata": {},
     "output_type": "display_data"
    },
    {
     "data": {
      "application/vnd.jupyter.widget-view+json": {
       "model_id": "813d7379a5654bdaa4d82b51d72eda60",
       "version_major": 2,
       "version_minor": 0
      },
      "text/plain": [
       "Canvas(toolbar=Toolbar(toolitems=[('Home', 'Reset original view', 'home', 'home'), ('Back', 'Back to previous …"
      ]
     },
     "metadata": {},
     "output_type": "display_data"
    },
    {
     "data": {
      "application/vnd.jupyter.widget-view+json": {
       "model_id": "eb5cbdbfb13941ad98103d5d0f741b1d",
       "version_major": 2,
       "version_minor": 0
      },
      "text/plain": [
       "Canvas(toolbar=Toolbar(toolitems=[('Home', 'Reset original view', 'home', 'home'), ('Back', 'Back to previous …"
      ]
     },
     "metadata": {},
     "output_type": "display_data"
    },
    {
     "data": {
      "application/vnd.jupyter.widget-view+json": {
       "model_id": "19abf69f175a4ab08e90a156143be127",
       "version_major": 2,
       "version_minor": 0
      },
      "text/plain": [
       "Canvas(toolbar=Toolbar(toolitems=[('Home', 'Reset original view', 'home', 'home'), ('Back', 'Back to previous …"
      ]
     },
     "metadata": {},
     "output_type": "display_data"
    },
    {
     "data": {
      "application/vnd.jupyter.widget-view+json": {
       "model_id": "4d369a6eec3045b69d6852d1e4823fc3",
       "version_major": 2,
       "version_minor": 0
      },
      "text/plain": [
       "Canvas(toolbar=Toolbar(toolitems=[('Home', 'Reset original view', 'home', 'home'), ('Back', 'Back to previous …"
      ]
     },
     "metadata": {},
     "output_type": "display_data"
    },
    {
     "data": {
      "application/vnd.jupyter.widget-view+json": {
       "model_id": "f9cc77de352d4ede94633e105227e5f2",
       "version_major": 2,
       "version_minor": 0
      },
      "text/plain": [
       "Canvas(toolbar=Toolbar(toolitems=[('Home', 'Reset original view', 'home', 'home'), ('Back', 'Back to previous …"
      ]
     },
     "metadata": {},
     "output_type": "display_data"
    },
    {
     "data": {
      "application/vnd.jupyter.widget-view+json": {
       "model_id": "e7658b4bf4c44530a9ddbfc652e7e9f8",
       "version_major": 2,
       "version_minor": 0
      },
      "text/plain": [
       "Canvas(toolbar=Toolbar(toolitems=[('Home', 'Reset original view', 'home', 'home'), ('Back', 'Back to previous …"
      ]
     },
     "metadata": {},
     "output_type": "display_data"
    },
    {
     "data": {
      "application/vnd.jupyter.widget-view+json": {
       "model_id": "c805301d94804214927831ca423f464c",
       "version_major": 2,
       "version_minor": 0
      },
      "text/plain": [
       "Canvas(toolbar=Toolbar(toolitems=[('Home', 'Reset original view', 'home', 'home'), ('Back', 'Back to previous …"
      ]
     },
     "metadata": {},
     "output_type": "display_data"
    },
    {
     "data": {
      "application/vnd.jupyter.widget-view+json": {
       "model_id": "2eaa9a8c43734160900aca3ee14de3f0",
       "version_major": 2,
       "version_minor": 0
      },
      "text/plain": [
       "Canvas(toolbar=Toolbar(toolitems=[('Home', 'Reset original view', 'home', 'home'), ('Back', 'Back to previous …"
      ]
     },
     "metadata": {},
     "output_type": "display_data"
    },
    {
     "data": {
      "application/vnd.jupyter.widget-view+json": {
       "model_id": "d6c59aa6afe84b69bc87bc12c9c7b092",
       "version_major": 2,
       "version_minor": 0
      },
      "text/plain": [
       "Canvas(toolbar=Toolbar(toolitems=[('Home', 'Reset original view', 'home', 'home'), ('Back', 'Back to previous …"
      ]
     },
     "metadata": {},
     "output_type": "display_data"
    },
    {
     "data": {
      "application/vnd.jupyter.widget-view+json": {
       "model_id": "767b9cc7bc2a40d8bf66d8c0d71cd60d",
       "version_major": 2,
       "version_minor": 0
      },
      "text/plain": [
       "Canvas(toolbar=Toolbar(toolitems=[('Home', 'Reset original view', 'home', 'home'), ('Back', 'Back to previous …"
      ]
     },
     "metadata": {},
     "output_type": "display_data"
    },
    {
     "data": {
      "application/vnd.jupyter.widget-view+json": {
       "model_id": "e233c3361af247718ba49571bb47d081",
       "version_major": 2,
       "version_minor": 0
      },
      "text/plain": [
       "Canvas(toolbar=Toolbar(toolitems=[('Home', 'Reset original view', 'home', 'home'), ('Back', 'Back to previous …"
      ]
     },
     "metadata": {},
     "output_type": "display_data"
    },
    {
     "data": {
      "application/vnd.jupyter.widget-view+json": {
       "model_id": "409ee15a07d7490ba21880a5815a6565",
       "version_major": 2,
       "version_minor": 0
      },
      "text/plain": [
       "Canvas(toolbar=Toolbar(toolitems=[('Home', 'Reset original view', 'home', 'home'), ('Back', 'Back to previous …"
      ]
     },
     "metadata": {},
     "output_type": "display_data"
    },
    {
     "data": {
      "application/vnd.jupyter.widget-view+json": {
       "model_id": "8ea598ca5dc8411abe38e441b9d1d156",
       "version_major": 2,
       "version_minor": 0
      },
      "text/plain": [
       "Canvas(toolbar=Toolbar(toolitems=[('Home', 'Reset original view', 'home', 'home'), ('Back', 'Back to previous …"
      ]
     },
     "metadata": {},
     "output_type": "display_data"
    },
    {
     "data": {
      "application/vnd.jupyter.widget-view+json": {
       "model_id": "67c74df0e024420999359985a154400f",
       "version_major": 2,
       "version_minor": 0
      },
      "text/plain": [
       "Canvas(toolbar=Toolbar(toolitems=[('Home', 'Reset original view', 'home', 'home'), ('Back', 'Back to previous …"
      ]
     },
     "metadata": {},
     "output_type": "display_data"
    },
    {
     "data": {
      "application/vnd.jupyter.widget-view+json": {
       "model_id": "4fe3e9d8d3ce44ee9cb2e63e5d20c584",
       "version_major": 2,
       "version_minor": 0
      },
      "text/plain": [
       "Canvas(toolbar=Toolbar(toolitems=[('Home', 'Reset original view', 'home', 'home'), ('Back', 'Back to previous …"
      ]
     },
     "metadata": {},
     "output_type": "display_data"
    },
    {
     "data": {
      "application/vnd.jupyter.widget-view+json": {
       "model_id": "636cc169864c40a5b0fe8a76791a1f88",
       "version_major": 2,
       "version_minor": 0
      },
      "text/plain": [
       "Canvas(toolbar=Toolbar(toolitems=[('Home', 'Reset original view', 'home', 'home'), ('Back', 'Back to previous …"
      ]
     },
     "metadata": {},
     "output_type": "display_data"
    },
    {
     "data": {
      "application/vnd.jupyter.widget-view+json": {
       "model_id": "d98d897162324d1181438aa7cec56f95",
       "version_major": 2,
       "version_minor": 0
      },
      "text/plain": [
       "Canvas(toolbar=Toolbar(toolitems=[('Home', 'Reset original view', 'home', 'home'), ('Back', 'Back to previous …"
      ]
     },
     "metadata": {},
     "output_type": "display_data"
    },
    {
     "data": {
      "application/vnd.jupyter.widget-view+json": {
       "model_id": "cab4c614e25b4a44ae7b1342119be9ad",
       "version_major": 2,
       "version_minor": 0
      },
      "text/plain": [
       "Canvas(toolbar=Toolbar(toolitems=[('Home', 'Reset original view', 'home', 'home'), ('Back', 'Back to previous …"
      ]
     },
     "metadata": {},
     "output_type": "display_data"
    },
    {
     "data": {
      "application/vnd.jupyter.widget-view+json": {
       "model_id": "597fb4e4d0df40d39f4f31ee770714e0",
       "version_major": 2,
       "version_minor": 0
      },
      "text/plain": [
       "Canvas(toolbar=Toolbar(toolitems=[('Home', 'Reset original view', 'home', 'home'), ('Back', 'Back to previous …"
      ]
     },
     "metadata": {},
     "output_type": "display_data"
    },
    {
     "data": {
      "application/vnd.jupyter.widget-view+json": {
       "model_id": "a545a61ef1254b7cb5eb3e1005a7d73a",
       "version_major": 2,
       "version_minor": 0
      },
      "text/plain": [
       "Canvas(toolbar=Toolbar(toolitems=[('Home', 'Reset original view', 'home', 'home'), ('Back', 'Back to previous …"
      ]
     },
     "metadata": {},
     "output_type": "display_data"
    },
    {
     "data": {
      "application/vnd.jupyter.widget-view+json": {
       "model_id": "2e87a23250d5431a946e52273fbc1d62",
       "version_major": 2,
       "version_minor": 0
      },
      "text/plain": [
       "Canvas(toolbar=Toolbar(toolitems=[('Home', 'Reset original view', 'home', 'home'), ('Back', 'Back to previous …"
      ]
     },
     "metadata": {},
     "output_type": "display_data"
    },
    {
     "data": {
      "application/vnd.jupyter.widget-view+json": {
       "model_id": "02295a78aa9648ffb7853b3a9b887e31",
       "version_major": 2,
       "version_minor": 0
      },
      "text/plain": [
       "Canvas(toolbar=Toolbar(toolitems=[('Home', 'Reset original view', 'home', 'home'), ('Back', 'Back to previous …"
      ]
     },
     "metadata": {},
     "output_type": "display_data"
    },
    {
     "data": {
      "application/vnd.jupyter.widget-view+json": {
       "model_id": "9d35818c35774a5ebd7769cc930addd3",
       "version_major": 2,
       "version_minor": 0
      },
      "text/plain": [
       "Canvas(toolbar=Toolbar(toolitems=[('Home', 'Reset original view', 'home', 'home'), ('Back', 'Back to previous …"
      ]
     },
     "metadata": {},
     "output_type": "display_data"
    },
    {
     "data": {
      "application/vnd.jupyter.widget-view+json": {
       "model_id": "d60fedce22384bf5a7a28a571bd4e932",
       "version_major": 2,
       "version_minor": 0
      },
      "text/plain": [
       "Canvas(toolbar=Toolbar(toolitems=[('Home', 'Reset original view', 'home', 'home'), ('Back', 'Back to previous …"
      ]
     },
     "metadata": {},
     "output_type": "display_data"
    },
    {
     "data": {
      "application/vnd.jupyter.widget-view+json": {
       "model_id": "0b9723dc17154154be2f4858341b8f7b",
       "version_major": 2,
       "version_minor": 0
      },
      "text/plain": [
       "Canvas(toolbar=Toolbar(toolitems=[('Home', 'Reset original view', 'home', 'home'), ('Back', 'Back to previous …"
      ]
     },
     "metadata": {},
     "output_type": "display_data"
    },
    {
     "data": {
      "application/vnd.jupyter.widget-view+json": {
       "model_id": "0eb905133dfc4b17875346235a2580b4",
       "version_major": 2,
       "version_minor": 0
      },
      "text/plain": [
       "Canvas(toolbar=Toolbar(toolitems=[('Home', 'Reset original view', 'home', 'home'), ('Back', 'Back to previous …"
      ]
     },
     "metadata": {},
     "output_type": "display_data"
    },
    {
     "data": {
      "application/vnd.jupyter.widget-view+json": {
       "model_id": "a1c369a149fd469487ced0fa3320f27f",
       "version_major": 2,
       "version_minor": 0
      },
      "text/plain": [
       "Canvas(toolbar=Toolbar(toolitems=[('Home', 'Reset original view', 'home', 'home'), ('Back', 'Back to previous …"
      ]
     },
     "metadata": {},
     "output_type": "display_data"
    },
    {
     "data": {
      "application/vnd.jupyter.widget-view+json": {
       "model_id": "c19ee98b11bf475e8ade7332bc049860",
       "version_major": 2,
       "version_minor": 0
      },
      "text/plain": [
       "Canvas(toolbar=Toolbar(toolitems=[('Home', 'Reset original view', 'home', 'home'), ('Back', 'Back to previous …"
      ]
     },
     "metadata": {},
     "output_type": "display_data"
    },
    {
     "data": {
      "application/vnd.jupyter.widget-view+json": {
       "model_id": "fba0260a79764e83acc67afefc0afc72",
       "version_major": 2,
       "version_minor": 0
      },
      "text/plain": [
       "Canvas(toolbar=Toolbar(toolitems=[('Home', 'Reset original view', 'home', 'home'), ('Back', 'Back to previous …"
      ]
     },
     "metadata": {},
     "output_type": "display_data"
    },
    {
     "data": {
      "application/vnd.jupyter.widget-view+json": {
       "model_id": "22f32b8d516e406ea4e01ee5e21a3bd7",
       "version_major": 2,
       "version_minor": 0
      },
      "text/plain": [
       "Canvas(toolbar=Toolbar(toolitems=[('Home', 'Reset original view', 'home', 'home'), ('Back', 'Back to previous …"
      ]
     },
     "metadata": {},
     "output_type": "display_data"
    },
    {
     "data": {
      "application/vnd.jupyter.widget-view+json": {
       "model_id": "e49cf79a04f44c878b5651877c294d6b",
       "version_major": 2,
       "version_minor": 0
      },
      "text/plain": [
       "Canvas(toolbar=Toolbar(toolitems=[('Home', 'Reset original view', 'home', 'home'), ('Back', 'Back to previous …"
      ]
     },
     "metadata": {},
     "output_type": "display_data"
    },
    {
     "data": {
      "application/vnd.jupyter.widget-view+json": {
       "model_id": "97e8e9fe55c0492ebb5b7209eeaa958d",
       "version_major": 2,
       "version_minor": 0
      },
      "text/plain": [
       "Canvas(toolbar=Toolbar(toolitems=[('Home', 'Reset original view', 'home', 'home'), ('Back', 'Back to previous …"
      ]
     },
     "metadata": {},
     "output_type": "display_data"
    },
    {
     "data": {
      "application/vnd.jupyter.widget-view+json": {
       "model_id": "52e5a08f8b0e41daaff0f7852568a3c1",
       "version_major": 2,
       "version_minor": 0
      },
      "text/plain": [
       "Canvas(toolbar=Toolbar(toolitems=[('Home', 'Reset original view', 'home', 'home'), ('Back', 'Back to previous …"
      ]
     },
     "metadata": {},
     "output_type": "display_data"
    },
    {
     "data": {
      "application/vnd.jupyter.widget-view+json": {
       "model_id": "0470a13918a74c0480995e8e2e23a7f9",
       "version_major": 2,
       "version_minor": 0
      },
      "text/plain": [
       "Canvas(toolbar=Toolbar(toolitems=[('Home', 'Reset original view', 'home', 'home'), ('Back', 'Back to previous …"
      ]
     },
     "metadata": {},
     "output_type": "display_data"
    },
    {
     "data": {
      "application/vnd.jupyter.widget-view+json": {
       "model_id": "aa82dabce7c7438abe7d004b1d80d8e7",
       "version_major": 2,
       "version_minor": 0
      },
      "text/plain": [
       "Canvas(toolbar=Toolbar(toolitems=[('Home', 'Reset original view', 'home', 'home'), ('Back', 'Back to previous …"
      ]
     },
     "metadata": {},
     "output_type": "display_data"
    },
    {
     "data": {
      "application/vnd.jupyter.widget-view+json": {
       "model_id": "5733c3fa94c74eb3b894ee78bd9aa30d",
       "version_major": 2,
       "version_minor": 0
      },
      "text/plain": [
       "Canvas(toolbar=Toolbar(toolitems=[('Home', 'Reset original view', 'home', 'home'), ('Back', 'Back to previous …"
      ]
     },
     "metadata": {},
     "output_type": "display_data"
    },
    {
     "data": {
      "application/vnd.jupyter.widget-view+json": {
       "model_id": "ee56d35baf2448ac8c8b65f6120cf86a",
       "version_major": 2,
       "version_minor": 0
      },
      "text/plain": [
       "Canvas(toolbar=Toolbar(toolitems=[('Home', 'Reset original view', 'home', 'home'), ('Back', 'Back to previous …"
      ]
     },
     "metadata": {},
     "output_type": "display_data"
    },
    {
     "data": {
      "application/vnd.jupyter.widget-view+json": {
       "model_id": "5a4a2cdb2235423580642517997ed115",
       "version_major": 2,
       "version_minor": 0
      },
      "text/plain": [
       "Canvas(toolbar=Toolbar(toolitems=[('Home', 'Reset original view', 'home', 'home'), ('Back', 'Back to previous …"
      ]
     },
     "metadata": {},
     "output_type": "display_data"
    },
    {
     "data": {
      "application/vnd.jupyter.widget-view+json": {
       "model_id": "782000cdf78d4a10a79bb18250ca89a4",
       "version_major": 2,
       "version_minor": 0
      },
      "text/plain": [
       "Canvas(toolbar=Toolbar(toolitems=[('Home', 'Reset original view', 'home', 'home'), ('Back', 'Back to previous …"
      ]
     },
     "metadata": {},
     "output_type": "display_data"
    },
    {
     "data": {
      "application/vnd.jupyter.widget-view+json": {
       "model_id": "f645f6a0b64e415b8159c5152e2d36d2",
       "version_major": 2,
       "version_minor": 0
      },
      "text/plain": [
       "Canvas(toolbar=Toolbar(toolitems=[('Home', 'Reset original view', 'home', 'home'), ('Back', 'Back to previous …"
      ]
     },
     "metadata": {},
     "output_type": "display_data"
    },
    {
     "data": {
      "application/vnd.jupyter.widget-view+json": {
       "model_id": "d0301f7d7e044f7c9e8820767effe51a",
       "version_major": 2,
       "version_minor": 0
      },
      "text/plain": [
       "Canvas(toolbar=Toolbar(toolitems=[('Home', 'Reset original view', 'home', 'home'), ('Back', 'Back to previous …"
      ]
     },
     "metadata": {},
     "output_type": "display_data"
    },
    {
     "data": {
      "application/vnd.jupyter.widget-view+json": {
       "model_id": "8d310d5db8954d71ae8c190a0bcc8d3d",
       "version_major": 2,
       "version_minor": 0
      },
      "text/plain": [
       "Canvas(toolbar=Toolbar(toolitems=[('Home', 'Reset original view', 'home', 'home'), ('Back', 'Back to previous …"
      ]
     },
     "metadata": {},
     "output_type": "display_data"
    },
    {
     "data": {
      "application/vnd.jupyter.widget-view+json": {
       "model_id": "292020dde4794565b93bf46737a89236",
       "version_major": 2,
       "version_minor": 0
      },
      "text/plain": [
       "Canvas(toolbar=Toolbar(toolitems=[('Home', 'Reset original view', 'home', 'home'), ('Back', 'Back to previous …"
      ]
     },
     "metadata": {},
     "output_type": "display_data"
    },
    {
     "data": {
      "application/vnd.jupyter.widget-view+json": {
       "model_id": "137ad4fedfb94f8dbfca027295203025",
       "version_major": 2,
       "version_minor": 0
      },
      "text/plain": [
       "Canvas(toolbar=Toolbar(toolitems=[('Home', 'Reset original view', 'home', 'home'), ('Back', 'Back to previous …"
      ]
     },
     "metadata": {},
     "output_type": "display_data"
    },
    {
     "data": {
      "application/vnd.jupyter.widget-view+json": {
       "model_id": "1b21cab1a68f486093c9a12283b43ab5",
       "version_major": 2,
       "version_minor": 0
      },
      "text/plain": [
       "Canvas(toolbar=Toolbar(toolitems=[('Home', 'Reset original view', 'home', 'home'), ('Back', 'Back to previous …"
      ]
     },
     "metadata": {},
     "output_type": "display_data"
    },
    {
     "data": {
      "application/vnd.jupyter.widget-view+json": {
       "model_id": "debb692cbc664b76abd05f608b486d32",
       "version_major": 2,
       "version_minor": 0
      },
      "text/plain": [
       "Canvas(toolbar=Toolbar(toolitems=[('Home', 'Reset original view', 'home', 'home'), ('Back', 'Back to previous …"
      ]
     },
     "metadata": {},
     "output_type": "display_data"
    },
    {
     "data": {
      "application/vnd.jupyter.widget-view+json": {
       "model_id": "92377a6095e142d68ff9d3bbef68f13f",
       "version_major": 2,
       "version_minor": 0
      },
      "text/plain": [
       "Canvas(toolbar=Toolbar(toolitems=[('Home', 'Reset original view', 'home', 'home'), ('Back', 'Back to previous …"
      ]
     },
     "metadata": {},
     "output_type": "display_data"
    },
    {
     "data": {
      "application/vnd.jupyter.widget-view+json": {
       "model_id": "c13740e76d3b4eb080ae5e02c9dfd3e5",
       "version_major": 2,
       "version_minor": 0
      },
      "text/plain": [
       "Canvas(toolbar=Toolbar(toolitems=[('Home', 'Reset original view', 'home', 'home'), ('Back', 'Back to previous …"
      ]
     },
     "metadata": {},
     "output_type": "display_data"
    },
    {
     "data": {
      "application/vnd.jupyter.widget-view+json": {
       "model_id": "bc8b693230d847ce967929401dd9af49",
       "version_major": 2,
       "version_minor": 0
      },
      "text/plain": [
       "Canvas(toolbar=Toolbar(toolitems=[('Home', 'Reset original view', 'home', 'home'), ('Back', 'Back to previous …"
      ]
     },
     "metadata": {},
     "output_type": "display_data"
    },
    {
     "data": {
      "application/vnd.jupyter.widget-view+json": {
       "model_id": "7880ac445527492a8444e4ccd8660e9e",
       "version_major": 2,
       "version_minor": 0
      },
      "text/plain": [
       "Canvas(toolbar=Toolbar(toolitems=[('Home', 'Reset original view', 'home', 'home'), ('Back', 'Back to previous …"
      ]
     },
     "metadata": {},
     "output_type": "display_data"
    },
    {
     "data": {
      "application/vnd.jupyter.widget-view+json": {
       "model_id": "8568c481be664020a1c4d6d6196ba736",
       "version_major": 2,
       "version_minor": 0
      },
      "text/plain": [
       "Canvas(toolbar=Toolbar(toolitems=[('Home', 'Reset original view', 'home', 'home'), ('Back', 'Back to previous …"
      ]
     },
     "metadata": {},
     "output_type": "display_data"
    },
    {
     "data": {
      "application/vnd.jupyter.widget-view+json": {
       "model_id": "74be0f3e13d041b7bf7e26ba1b531898",
       "version_major": 2,
       "version_minor": 0
      },
      "text/plain": [
       "Canvas(toolbar=Toolbar(toolitems=[('Home', 'Reset original view', 'home', 'home'), ('Back', 'Back to previous …"
      ]
     },
     "metadata": {},
     "output_type": "display_data"
    },
    {
     "data": {
      "application/vnd.jupyter.widget-view+json": {
       "model_id": "3ac39fb8aeba496f852741502685f09b",
       "version_major": 2,
       "version_minor": 0
      },
      "text/plain": [
       "Canvas(toolbar=Toolbar(toolitems=[('Home', 'Reset original view', 'home', 'home'), ('Back', 'Back to previous …"
      ]
     },
     "metadata": {},
     "output_type": "display_data"
    },
    {
     "data": {
      "application/vnd.jupyter.widget-view+json": {
       "model_id": "5f0f914459d141c8ae9487904773b72c",
       "version_major": 2,
       "version_minor": 0
      },
      "text/plain": [
       "Canvas(toolbar=Toolbar(toolitems=[('Home', 'Reset original view', 'home', 'home'), ('Back', 'Back to previous …"
      ]
     },
     "metadata": {},
     "output_type": "display_data"
    },
    {
     "data": {
      "application/vnd.jupyter.widget-view+json": {
       "model_id": "5fc76a62ad1a41a3bf6beeaa7963f5e8",
       "version_major": 2,
       "version_minor": 0
      },
      "text/plain": [
       "Canvas(toolbar=Toolbar(toolitems=[('Home', 'Reset original view', 'home', 'home'), ('Back', 'Back to previous …"
      ]
     },
     "metadata": {},
     "output_type": "display_data"
    },
    {
     "data": {
      "application/vnd.jupyter.widget-view+json": {
       "model_id": "a6cbbaf92b1c4453b20b799d5445ddfc",
       "version_major": 2,
       "version_minor": 0
      },
      "text/plain": [
       "Canvas(toolbar=Toolbar(toolitems=[('Home', 'Reset original view', 'home', 'home'), ('Back', 'Back to previous …"
      ]
     },
     "metadata": {},
     "output_type": "display_data"
    },
    {
     "data": {
      "application/vnd.jupyter.widget-view+json": {
       "model_id": "86aefe101f1a494da47808d7b78933f6",
       "version_major": 2,
       "version_minor": 0
      },
      "text/plain": [
       "Canvas(toolbar=Toolbar(toolitems=[('Home', 'Reset original view', 'home', 'home'), ('Back', 'Back to previous …"
      ]
     },
     "metadata": {},
     "output_type": "display_data"
    },
    {
     "data": {
      "application/vnd.jupyter.widget-view+json": {
       "model_id": "c7ef7f13ed844332a4a6b3f2b9292abd",
       "version_major": 2,
       "version_minor": 0
      },
      "text/plain": [
       "Canvas(toolbar=Toolbar(toolitems=[('Home', 'Reset original view', 'home', 'home'), ('Back', 'Back to previous …"
      ]
     },
     "metadata": {},
     "output_type": "display_data"
    },
    {
     "data": {
      "application/vnd.jupyter.widget-view+json": {
       "model_id": "ce2f8dad7b744af79f84f03822449531",
       "version_major": 2,
       "version_minor": 0
      },
      "text/plain": [
       "Canvas(toolbar=Toolbar(toolitems=[('Home', 'Reset original view', 'home', 'home'), ('Back', 'Back to previous …"
      ]
     },
     "metadata": {},
     "output_type": "display_data"
    },
    {
     "data": {
      "application/vnd.jupyter.widget-view+json": {
       "model_id": "bfd2728eb9684163bb8c04c688a966dc",
       "version_major": 2,
       "version_minor": 0
      },
      "text/plain": [
       "Canvas(toolbar=Toolbar(toolitems=[('Home', 'Reset original view', 'home', 'home'), ('Back', 'Back to previous …"
      ]
     },
     "metadata": {},
     "output_type": "display_data"
    },
    {
     "data": {
      "application/vnd.jupyter.widget-view+json": {
       "model_id": "69ce1a2cba7a4f7fb2baf35a69ed7367",
       "version_major": 2,
       "version_minor": 0
      },
      "text/plain": [
       "Canvas(toolbar=Toolbar(toolitems=[('Home', 'Reset original view', 'home', 'home'), ('Back', 'Back to previous …"
      ]
     },
     "metadata": {},
     "output_type": "display_data"
    },
    {
     "data": {
      "application/vnd.jupyter.widget-view+json": {
       "model_id": "39a18855e38e4d959057338c6274359e",
       "version_major": 2,
       "version_minor": 0
      },
      "text/plain": [
       "Canvas(toolbar=Toolbar(toolitems=[('Home', 'Reset original view', 'home', 'home'), ('Back', 'Back to previous …"
      ]
     },
     "metadata": {},
     "output_type": "display_data"
    },
    {
     "data": {
      "application/vnd.jupyter.widget-view+json": {
       "model_id": "4e974aca77404f0b926e4f113c9f1669",
       "version_major": 2,
       "version_minor": 0
      },
      "text/plain": [
       "Canvas(toolbar=Toolbar(toolitems=[('Home', 'Reset original view', 'home', 'home'), ('Back', 'Back to previous …"
      ]
     },
     "metadata": {},
     "output_type": "display_data"
    },
    {
     "data": {
      "application/vnd.jupyter.widget-view+json": {
       "model_id": "0bc14fc577574347a6eebc2dae680ac2",
       "version_major": 2,
       "version_minor": 0
      },
      "text/plain": [
       "Canvas(toolbar=Toolbar(toolitems=[('Home', 'Reset original view', 'home', 'home'), ('Back', 'Back to previous …"
      ]
     },
     "metadata": {},
     "output_type": "display_data"
    },
    {
     "data": {
      "application/vnd.jupyter.widget-view+json": {
       "model_id": "fb4da453b691498892c5c1d51cc05968",
       "version_major": 2,
       "version_minor": 0
      },
      "text/plain": [
       "Canvas(toolbar=Toolbar(toolitems=[('Home', 'Reset original view', 'home', 'home'), ('Back', 'Back to previous …"
      ]
     },
     "metadata": {},
     "output_type": "display_data"
    },
    {
     "data": {
      "application/vnd.jupyter.widget-view+json": {
       "model_id": "47ec1e3880e647e4adabc453ce830576",
       "version_major": 2,
       "version_minor": 0
      },
      "text/plain": [
       "Canvas(toolbar=Toolbar(toolitems=[('Home', 'Reset original view', 'home', 'home'), ('Back', 'Back to previous …"
      ]
     },
     "metadata": {},
     "output_type": "display_data"
    },
    {
     "data": {
      "application/vnd.jupyter.widget-view+json": {
       "model_id": "e82079b576e44d309f5d316cc5230720",
       "version_major": 2,
       "version_minor": 0
      },
      "text/plain": [
       "Canvas(toolbar=Toolbar(toolitems=[('Home', 'Reset original view', 'home', 'home'), ('Back', 'Back to previous …"
      ]
     },
     "metadata": {},
     "output_type": "display_data"
    },
    {
     "data": {
      "application/vnd.jupyter.widget-view+json": {
       "model_id": "989ecd09c53c4db9b28c775a4b390530",
       "version_major": 2,
       "version_minor": 0
      },
      "text/plain": [
       "Canvas(toolbar=Toolbar(toolitems=[('Home', 'Reset original view', 'home', 'home'), ('Back', 'Back to previous …"
      ]
     },
     "metadata": {},
     "output_type": "display_data"
    },
    {
     "data": {
      "application/vnd.jupyter.widget-view+json": {
       "model_id": "67b839520a144cd9b032646b93da0d4d",
       "version_major": 2,
       "version_minor": 0
      },
      "text/plain": [
       "Canvas(toolbar=Toolbar(toolitems=[('Home', 'Reset original view', 'home', 'home'), ('Back', 'Back to previous …"
      ]
     },
     "metadata": {},
     "output_type": "display_data"
    },
    {
     "data": {
      "application/vnd.jupyter.widget-view+json": {
       "model_id": "6e67749e860c4b53b138836794b68fef",
       "version_major": 2,
       "version_minor": 0
      },
      "text/plain": [
       "Canvas(toolbar=Toolbar(toolitems=[('Home', 'Reset original view', 'home', 'home'), ('Back', 'Back to previous …"
      ]
     },
     "metadata": {},
     "output_type": "display_data"
    },
    {
     "data": {
      "application/vnd.jupyter.widget-view+json": {
       "model_id": "0318ea42a22e4232af65db11b59adec3",
       "version_major": 2,
       "version_minor": 0
      },
      "text/plain": [
       "Canvas(toolbar=Toolbar(toolitems=[('Home', 'Reset original view', 'home', 'home'), ('Back', 'Back to previous …"
      ]
     },
     "metadata": {},
     "output_type": "display_data"
    },
    {
     "data": {
      "application/vnd.jupyter.widget-view+json": {
       "model_id": "fbf7ee7d74f4474e869b3cc48816c3a0",
       "version_major": 2,
       "version_minor": 0
      },
      "text/plain": [
       "Canvas(toolbar=Toolbar(toolitems=[('Home', 'Reset original view', 'home', 'home'), ('Back', 'Back to previous …"
      ]
     },
     "metadata": {},
     "output_type": "display_data"
    },
    {
     "data": {
      "application/vnd.jupyter.widget-view+json": {
       "model_id": "b507b9165e8549e6a6ea544ddc7d70db",
       "version_major": 2,
       "version_minor": 0
      },
      "text/plain": [
       "Canvas(toolbar=Toolbar(toolitems=[('Home', 'Reset original view', 'home', 'home'), ('Back', 'Back to previous …"
      ]
     },
     "metadata": {},
     "output_type": "display_data"
    },
    {
     "data": {
      "application/vnd.jupyter.widget-view+json": {
       "model_id": "8221d12859ed4901a0923d5203033535",
       "version_major": 2,
       "version_minor": 0
      },
      "text/plain": [
       "Canvas(toolbar=Toolbar(toolitems=[('Home', 'Reset original view', 'home', 'home'), ('Back', 'Back to previous …"
      ]
     },
     "metadata": {},
     "output_type": "display_data"
    },
    {
     "data": {
      "application/vnd.jupyter.widget-view+json": {
       "model_id": "38feea7c13cb44d5876e3df326e08217",
       "version_major": 2,
       "version_minor": 0
      },
      "text/plain": [
       "Canvas(toolbar=Toolbar(toolitems=[('Home', 'Reset original view', 'home', 'home'), ('Back', 'Back to previous …"
      ]
     },
     "metadata": {},
     "output_type": "display_data"
    },
    {
     "data": {
      "application/vnd.jupyter.widget-view+json": {
       "model_id": "207605d653904ce0bbf0e8f958fbdaf3",
       "version_major": 2,
       "version_minor": 0
      },
      "text/plain": [
       "Canvas(toolbar=Toolbar(toolitems=[('Home', 'Reset original view', 'home', 'home'), ('Back', 'Back to previous …"
      ]
     },
     "metadata": {},
     "output_type": "display_data"
    },
    {
     "data": {
      "application/vnd.jupyter.widget-view+json": {
       "model_id": "e52c9c1da542480c9719117b3bf844ab",
       "version_major": 2,
       "version_minor": 0
      },
      "text/plain": [
       "Canvas(toolbar=Toolbar(toolitems=[('Home', 'Reset original view', 'home', 'home'), ('Back', 'Back to previous …"
      ]
     },
     "metadata": {},
     "output_type": "display_data"
    },
    {
     "data": {
      "application/vnd.jupyter.widget-view+json": {
       "model_id": "caf2667ff6ca4a3d954e903eb45ec3f4",
       "version_major": 2,
       "version_minor": 0
      },
      "text/plain": [
       "Canvas(toolbar=Toolbar(toolitems=[('Home', 'Reset original view', 'home', 'home'), ('Back', 'Back to previous …"
      ]
     },
     "metadata": {},
     "output_type": "display_data"
    },
    {
     "data": {
      "application/vnd.jupyter.widget-view+json": {
       "model_id": "d16a6481872948fbbc112745154ffa1b",
       "version_major": 2,
       "version_minor": 0
      },
      "text/plain": [
       "Canvas(toolbar=Toolbar(toolitems=[('Home', 'Reset original view', 'home', 'home'), ('Back', 'Back to previous …"
      ]
     },
     "metadata": {},
     "output_type": "display_data"
    },
    {
     "data": {
      "application/vnd.jupyter.widget-view+json": {
       "model_id": "b9a053977fd64be18ce18b178e8195dd",
       "version_major": 2,
       "version_minor": 0
      },
      "text/plain": [
       "Canvas(toolbar=Toolbar(toolitems=[('Home', 'Reset original view', 'home', 'home'), ('Back', 'Back to previous …"
      ]
     },
     "metadata": {},
     "output_type": "display_data"
    },
    {
     "data": {
      "application/vnd.jupyter.widget-view+json": {
       "model_id": "5d44b8f951f14fb097ae4e60ab101a5e",
       "version_major": 2,
       "version_minor": 0
      },
      "text/plain": [
       "Canvas(toolbar=Toolbar(toolitems=[('Home', 'Reset original view', 'home', 'home'), ('Back', 'Back to previous …"
      ]
     },
     "metadata": {},
     "output_type": "display_data"
    },
    {
     "data": {
      "application/vnd.jupyter.widget-view+json": {
       "model_id": "08df0dd05f8549eea35c3808b7cae425",
       "version_major": 2,
       "version_minor": 0
      },
      "text/plain": [
       "Canvas(toolbar=Toolbar(toolitems=[('Home', 'Reset original view', 'home', 'home'), ('Back', 'Back to previous …"
      ]
     },
     "metadata": {},
     "output_type": "display_data"
    },
    {
     "data": {
      "application/vnd.jupyter.widget-view+json": {
       "model_id": "88d35e4dee264af98d49189a2b8d828a",
       "version_major": 2,
       "version_minor": 0
      },
      "text/plain": [
       "Canvas(toolbar=Toolbar(toolitems=[('Home', 'Reset original view', 'home', 'home'), ('Back', 'Back to previous …"
      ]
     },
     "metadata": {},
     "output_type": "display_data"
    },
    {
     "data": {
      "application/vnd.jupyter.widget-view+json": {
       "model_id": "b6777d78c2f049edae9eca3c3fe3e5d4",
       "version_major": 2,
       "version_minor": 0
      },
      "text/plain": [
       "Canvas(toolbar=Toolbar(toolitems=[('Home', 'Reset original view', 'home', 'home'), ('Back', 'Back to previous …"
      ]
     },
     "metadata": {},
     "output_type": "display_data"
    },
    {
     "data": {
      "application/vnd.jupyter.widget-view+json": {
       "model_id": "8d2095e7a53e4ca8b95aa3963584a1fb",
       "version_major": 2,
       "version_minor": 0
      },
      "text/plain": [
       "Canvas(toolbar=Toolbar(toolitems=[('Home', 'Reset original view', 'home', 'home'), ('Back', 'Back to previous …"
      ]
     },
     "metadata": {},
     "output_type": "display_data"
    },
    {
     "data": {
      "application/vnd.jupyter.widget-view+json": {
       "model_id": "ddcb135710ff41b8b94a3dab805f8828",
       "version_major": 2,
       "version_minor": 0
      },
      "text/plain": [
       "Canvas(toolbar=Toolbar(toolitems=[('Home', 'Reset original view', 'home', 'home'), ('Back', 'Back to previous …"
      ]
     },
     "metadata": {},
     "output_type": "display_data"
    },
    {
     "data": {
      "application/vnd.jupyter.widget-view+json": {
       "model_id": "adc490af5acd48639cf71ddce60774e7",
       "version_major": 2,
       "version_minor": 0
      },
      "text/plain": [
       "Canvas(toolbar=Toolbar(toolitems=[('Home', 'Reset original view', 'home', 'home'), ('Back', 'Back to previous …"
      ]
     },
     "metadata": {},
     "output_type": "display_data"
    },
    {
     "data": {
      "application/vnd.jupyter.widget-view+json": {
       "model_id": "047dbe48b1ea4cd0ad626678ec035d7c",
       "version_major": 2,
       "version_minor": 0
      },
      "text/plain": [
       "Canvas(toolbar=Toolbar(toolitems=[('Home', 'Reset original view', 'home', 'home'), ('Back', 'Back to previous …"
      ]
     },
     "metadata": {},
     "output_type": "display_data"
    },
    {
     "data": {
      "application/vnd.jupyter.widget-view+json": {
       "model_id": "bf2d2acc060b4563992aa03d7a186b8f",
       "version_major": 2,
       "version_minor": 0
      },
      "text/plain": [
       "Canvas(toolbar=Toolbar(toolitems=[('Home', 'Reset original view', 'home', 'home'), ('Back', 'Back to previous …"
      ]
     },
     "metadata": {},
     "output_type": "display_data"
    },
    {
     "data": {
      "application/vnd.jupyter.widget-view+json": {
       "model_id": "0c45e9664044416989540cab41a70550",
       "version_major": 2,
       "version_minor": 0
      },
      "text/plain": [
       "Canvas(toolbar=Toolbar(toolitems=[('Home', 'Reset original view', 'home', 'home'), ('Back', 'Back to previous …"
      ]
     },
     "metadata": {},
     "output_type": "display_data"
    },
    {
     "data": {
      "application/vnd.jupyter.widget-view+json": {
       "model_id": "8956218dbcf04d43898f2bcc98b01269",
       "version_major": 2,
       "version_minor": 0
      },
      "text/plain": [
       "Canvas(toolbar=Toolbar(toolitems=[('Home', 'Reset original view', 'home', 'home'), ('Back', 'Back to previous …"
      ]
     },
     "metadata": {},
     "output_type": "display_data"
    },
    {
     "data": {
      "application/vnd.jupyter.widget-view+json": {
       "model_id": "89c1ebaa71ce4d5f9719397eab7c2ba1",
       "version_major": 2,
       "version_minor": 0
      },
      "text/plain": [
       "Canvas(toolbar=Toolbar(toolitems=[('Home', 'Reset original view', 'home', 'home'), ('Back', 'Back to previous …"
      ]
     },
     "metadata": {},
     "output_type": "display_data"
    },
    {
     "data": {
      "application/vnd.jupyter.widget-view+json": {
       "model_id": "dd2b3691aaf540b3a29f85557952e880",
       "version_major": 2,
       "version_minor": 0
      },
      "text/plain": [
       "Canvas(toolbar=Toolbar(toolitems=[('Home', 'Reset original view', 'home', 'home'), ('Back', 'Back to previous …"
      ]
     },
     "metadata": {},
     "output_type": "display_data"
    },
    {
     "data": {
      "application/vnd.jupyter.widget-view+json": {
       "model_id": "ce0344fcfe4a4884bb158f635287349c",
       "version_major": 2,
       "version_minor": 0
      },
      "text/plain": [
       "Canvas(toolbar=Toolbar(toolitems=[('Home', 'Reset original view', 'home', 'home'), ('Back', 'Back to previous …"
      ]
     },
     "metadata": {},
     "output_type": "display_data"
    },
    {
     "data": {
      "application/vnd.jupyter.widget-view+json": {
       "model_id": "ceae30f28c574c3898251af35269abe3",
       "version_major": 2,
       "version_minor": 0
      },
      "text/plain": [
       "Canvas(toolbar=Toolbar(toolitems=[('Home', 'Reset original view', 'home', 'home'), ('Back', 'Back to previous …"
      ]
     },
     "metadata": {},
     "output_type": "display_data"
    },
    {
     "data": {
      "application/vnd.jupyter.widget-view+json": {
       "model_id": "9574fcb8688d44008a480bcbf8884787",
       "version_major": 2,
       "version_minor": 0
      },
      "text/plain": [
       "Canvas(toolbar=Toolbar(toolitems=[('Home', 'Reset original view', 'home', 'home'), ('Back', 'Back to previous …"
      ]
     },
     "metadata": {},
     "output_type": "display_data"
    },
    {
     "data": {
      "application/vnd.jupyter.widget-view+json": {
       "model_id": "4a8cb04a42174e2d8d708fb61128c647",
       "version_major": 2,
       "version_minor": 0
      },
      "text/plain": [
       "Canvas(toolbar=Toolbar(toolitems=[('Home', 'Reset original view', 'home', 'home'), ('Back', 'Back to previous …"
      ]
     },
     "metadata": {},
     "output_type": "display_data"
    },
    {
     "data": {
      "application/vnd.jupyter.widget-view+json": {
       "model_id": "c684b97991e443a3893a001b7815c9e7",
       "version_major": 2,
       "version_minor": 0
      },
      "text/plain": [
       "Canvas(toolbar=Toolbar(toolitems=[('Home', 'Reset original view', 'home', 'home'), ('Back', 'Back to previous …"
      ]
     },
     "metadata": {},
     "output_type": "display_data"
    },
    {
     "data": {
      "application/vnd.jupyter.widget-view+json": {
       "model_id": "4942a65487cb41ab9b8bbf68be24dc71",
       "version_major": 2,
       "version_minor": 0
      },
      "text/plain": [
       "Canvas(toolbar=Toolbar(toolitems=[('Home', 'Reset original view', 'home', 'home'), ('Back', 'Back to previous …"
      ]
     },
     "metadata": {},
     "output_type": "display_data"
    },
    {
     "data": {
      "application/vnd.jupyter.widget-view+json": {
       "model_id": "90b5bc6e9a57405cb04c981b3cad0cf1",
       "version_major": 2,
       "version_minor": 0
      },
      "text/plain": [
       "Canvas(toolbar=Toolbar(toolitems=[('Home', 'Reset original view', 'home', 'home'), ('Back', 'Back to previous …"
      ]
     },
     "metadata": {},
     "output_type": "display_data"
    },
    {
     "data": {
      "application/vnd.jupyter.widget-view+json": {
       "model_id": "cca741745f4b48f4a3f147c6b6b2b674",
       "version_major": 2,
       "version_minor": 0
      },
      "text/plain": [
       "Canvas(toolbar=Toolbar(toolitems=[('Home', 'Reset original view', 'home', 'home'), ('Back', 'Back to previous …"
      ]
     },
     "metadata": {},
     "output_type": "display_data"
    },
    {
     "data": {
      "application/vnd.jupyter.widget-view+json": {
       "model_id": "bc5d78b740674caa877d659bc818f6d5",
       "version_major": 2,
       "version_minor": 0
      },
      "text/plain": [
       "Canvas(toolbar=Toolbar(toolitems=[('Home', 'Reset original view', 'home', 'home'), ('Back', 'Back to previous …"
      ]
     },
     "metadata": {},
     "output_type": "display_data"
    },
    {
     "data": {
      "application/vnd.jupyter.widget-view+json": {
       "model_id": "38f8a47089d34cacb4cafed7cc04487d",
       "version_major": 2,
       "version_minor": 0
      },
      "text/plain": [
       "Canvas(toolbar=Toolbar(toolitems=[('Home', 'Reset original view', 'home', 'home'), ('Back', 'Back to previous …"
      ]
     },
     "metadata": {},
     "output_type": "display_data"
    },
    {
     "data": {
      "application/vnd.jupyter.widget-view+json": {
       "model_id": "24cdedf151924f5e890adea206f387bb",
       "version_major": 2,
       "version_minor": 0
      },
      "text/plain": [
       "Canvas(toolbar=Toolbar(toolitems=[('Home', 'Reset original view', 'home', 'home'), ('Back', 'Back to previous …"
      ]
     },
     "metadata": {},
     "output_type": "display_data"
    },
    {
     "data": {
      "application/vnd.jupyter.widget-view+json": {
       "model_id": "11dacd86638a4466b249dd3d66938e3b",
       "version_major": 2,
       "version_minor": 0
      },
      "text/plain": [
       "Canvas(toolbar=Toolbar(toolitems=[('Home', 'Reset original view', 'home', 'home'), ('Back', 'Back to previous …"
      ]
     },
     "metadata": {},
     "output_type": "display_data"
    },
    {
     "data": {
      "application/vnd.jupyter.widget-view+json": {
       "model_id": "fbea003dc79e43748f4e8fb707340b06",
       "version_major": 2,
       "version_minor": 0
      },
      "text/plain": [
       "Canvas(toolbar=Toolbar(toolitems=[('Home', 'Reset original view', 'home', 'home'), ('Back', 'Back to previous …"
      ]
     },
     "metadata": {},
     "output_type": "display_data"
    },
    {
     "data": {
      "application/vnd.jupyter.widget-view+json": {
       "model_id": "1c67b3dce7cd40409d2b62dc9f5e29ac",
       "version_major": 2,
       "version_minor": 0
      },
      "text/plain": [
       "Canvas(toolbar=Toolbar(toolitems=[('Home', 'Reset original view', 'home', 'home'), ('Back', 'Back to previous …"
      ]
     },
     "metadata": {},
     "output_type": "display_data"
    },
    {
     "data": {
      "application/vnd.jupyter.widget-view+json": {
       "model_id": "d361b497a4924043892d402830d157f7",
       "version_major": 2,
       "version_minor": 0
      },
      "text/plain": [
       "Canvas(toolbar=Toolbar(toolitems=[('Home', 'Reset original view', 'home', 'home'), ('Back', 'Back to previous …"
      ]
     },
     "metadata": {},
     "output_type": "display_data"
    },
    {
     "data": {
      "application/vnd.jupyter.widget-view+json": {
       "model_id": "87be9ad90d7c48d9a9d3d5b4acfba67f",
       "version_major": 2,
       "version_minor": 0
      },
      "text/plain": [
       "Canvas(toolbar=Toolbar(toolitems=[('Home', 'Reset original view', 'home', 'home'), ('Back', 'Back to previous …"
      ]
     },
     "metadata": {},
     "output_type": "display_data"
    },
    {
     "data": {
      "application/vnd.jupyter.widget-view+json": {
       "model_id": "a8c5996676b0438cb48275da3e4b9c30",
       "version_major": 2,
       "version_minor": 0
      },
      "text/plain": [
       "Canvas(toolbar=Toolbar(toolitems=[('Home', 'Reset original view', 'home', 'home'), ('Back', 'Back to previous …"
      ]
     },
     "metadata": {},
     "output_type": "display_data"
    },
    {
     "data": {
      "application/vnd.jupyter.widget-view+json": {
       "model_id": "9af05e94c5ae4fae858d318e8157e925",
       "version_major": 2,
       "version_minor": 0
      },
      "text/plain": [
       "Canvas(toolbar=Toolbar(toolitems=[('Home', 'Reset original view', 'home', 'home'), ('Back', 'Back to previous …"
      ]
     },
     "metadata": {},
     "output_type": "display_data"
    },
    {
     "data": {
      "application/vnd.jupyter.widget-view+json": {
       "model_id": "71149594a0504e86be4070adb3cd343d",
       "version_major": 2,
       "version_minor": 0
      },
      "text/plain": [
       "Canvas(toolbar=Toolbar(toolitems=[('Home', 'Reset original view', 'home', 'home'), ('Back', 'Back to previous …"
      ]
     },
     "metadata": {},
     "output_type": "display_data"
    },
    {
     "data": {
      "application/vnd.jupyter.widget-view+json": {
       "model_id": "59bc460d23b84e5cad74bccd373dad0a",
       "version_major": 2,
       "version_minor": 0
      },
      "text/plain": [
       "Canvas(toolbar=Toolbar(toolitems=[('Home', 'Reset original view', 'home', 'home'), ('Back', 'Back to previous …"
      ]
     },
     "metadata": {},
     "output_type": "display_data"
    },
    {
     "data": {
      "application/vnd.jupyter.widget-view+json": {
       "model_id": "0ef41a80ece44aa88cc855a7bc400d0c",
       "version_major": 2,
       "version_minor": 0
      },
      "text/plain": [
       "Canvas(toolbar=Toolbar(toolitems=[('Home', 'Reset original view', 'home', 'home'), ('Back', 'Back to previous …"
      ]
     },
     "metadata": {},
     "output_type": "display_data"
    },
    {
     "data": {
      "application/vnd.jupyter.widget-view+json": {
       "model_id": "15c0c4c1e0ad452485a5f9fe8d9540d2",
       "version_major": 2,
       "version_minor": 0
      },
      "text/plain": [
       "Canvas(toolbar=Toolbar(toolitems=[('Home', 'Reset original view', 'home', 'home'), ('Back', 'Back to previous …"
      ]
     },
     "metadata": {},
     "output_type": "display_data"
    },
    {
     "data": {
      "application/vnd.jupyter.widget-view+json": {
       "model_id": "1f6bb8c2768542e6b94ed7b1d06bf7c5",
       "version_major": 2,
       "version_minor": 0
      },
      "text/plain": [
       "Canvas(toolbar=Toolbar(toolitems=[('Home', 'Reset original view', 'home', 'home'), ('Back', 'Back to previous …"
      ]
     },
     "metadata": {},
     "output_type": "display_data"
    },
    {
     "data": {
      "application/vnd.jupyter.widget-view+json": {
       "model_id": "3621fc5f91e24386a718c5b364052980",
       "version_major": 2,
       "version_minor": 0
      },
      "text/plain": [
       "Canvas(toolbar=Toolbar(toolitems=[('Home', 'Reset original view', 'home', 'home'), ('Back', 'Back to previous …"
      ]
     },
     "metadata": {},
     "output_type": "display_data"
    },
    {
     "data": {
      "application/vnd.jupyter.widget-view+json": {
       "model_id": "5bda681d6d6d44209602531cb6099d23",
       "version_major": 2,
       "version_minor": 0
      },
      "text/plain": [
       "Canvas(toolbar=Toolbar(toolitems=[('Home', 'Reset original view', 'home', 'home'), ('Back', 'Back to previous …"
      ]
     },
     "metadata": {},
     "output_type": "display_data"
    },
    {
     "data": {
      "application/vnd.jupyter.widget-view+json": {
       "model_id": "ebc3115244d140a788bbff0787e8c48b",
       "version_major": 2,
       "version_minor": 0
      },
      "text/plain": [
       "Canvas(toolbar=Toolbar(toolitems=[('Home', 'Reset original view', 'home', 'home'), ('Back', 'Back to previous …"
      ]
     },
     "metadata": {},
     "output_type": "display_data"
    },
    {
     "data": {
      "application/vnd.jupyter.widget-view+json": {
       "model_id": "9e76710d6a5b4306bb341c5332577760",
       "version_major": 2,
       "version_minor": 0
      },
      "text/plain": [
       "Canvas(toolbar=Toolbar(toolitems=[('Home', 'Reset original view', 'home', 'home'), ('Back', 'Back to previous …"
      ]
     },
     "metadata": {},
     "output_type": "display_data"
    },
    {
     "data": {
      "application/vnd.jupyter.widget-view+json": {
       "model_id": "463d169ae59f42cdbc3e7edc1465ccf0",
       "version_major": 2,
       "version_minor": 0
      },
      "text/plain": [
       "Canvas(toolbar=Toolbar(toolitems=[('Home', 'Reset original view', 'home', 'home'), ('Back', 'Back to previous …"
      ]
     },
     "metadata": {},
     "output_type": "display_data"
    },
    {
     "data": {
      "application/vnd.jupyter.widget-view+json": {
       "model_id": "484d3d209dcb4e589f15ea3af1e9a736",
       "version_major": 2,
       "version_minor": 0
      },
      "text/plain": [
       "Canvas(toolbar=Toolbar(toolitems=[('Home', 'Reset original view', 'home', 'home'), ('Back', 'Back to previous …"
      ]
     },
     "metadata": {},
     "output_type": "display_data"
    },
    {
     "data": {
      "application/vnd.jupyter.widget-view+json": {
       "model_id": "4549fe994fdb41b8835810477afd5d11",
       "version_major": 2,
       "version_minor": 0
      },
      "text/plain": [
       "Canvas(toolbar=Toolbar(toolitems=[('Home', 'Reset original view', 'home', 'home'), ('Back', 'Back to previous …"
      ]
     },
     "metadata": {},
     "output_type": "display_data"
    },
    {
     "data": {
      "application/vnd.jupyter.widget-view+json": {
       "model_id": "06f7bf13fa1643979001556c43313be9",
       "version_major": 2,
       "version_minor": 0
      },
      "text/plain": [
       "Canvas(toolbar=Toolbar(toolitems=[('Home', 'Reset original view', 'home', 'home'), ('Back', 'Back to previous …"
      ]
     },
     "metadata": {},
     "output_type": "display_data"
    },
    {
     "data": {
      "application/vnd.jupyter.widget-view+json": {
       "model_id": "10be26075e9b4de299264d9264c97e71",
       "version_major": 2,
       "version_minor": 0
      },
      "text/plain": [
       "Canvas(toolbar=Toolbar(toolitems=[('Home', 'Reset original view', 'home', 'home'), ('Back', 'Back to previous …"
      ]
     },
     "metadata": {},
     "output_type": "display_data"
    },
    {
     "data": {
      "application/vnd.jupyter.widget-view+json": {
       "model_id": "f142676f02ae4445945d549fbd1ac489",
       "version_major": 2,
       "version_minor": 0
      },
      "text/plain": [
       "Canvas(toolbar=Toolbar(toolitems=[('Home', 'Reset original view', 'home', 'home'), ('Back', 'Back to previous …"
      ]
     },
     "metadata": {},
     "output_type": "display_data"
    },
    {
     "data": {
      "application/vnd.jupyter.widget-view+json": {
       "model_id": "443be6b755ec493caaf8c147302e798f",
       "version_major": 2,
       "version_minor": 0
      },
      "text/plain": [
       "Canvas(toolbar=Toolbar(toolitems=[('Home', 'Reset original view', 'home', 'home'), ('Back', 'Back to previous …"
      ]
     },
     "metadata": {},
     "output_type": "display_data"
    }
   ],
   "source": [
    "analyse_root_img(paths)"
   ]
  },
  {
   "cell_type": "code",
   "execution_count": 2,
   "metadata": {},
   "outputs": [
    {
     "data": {
      "application/vnd.jupyter.widget-view+json": {
       "model_id": "2476845da8d744b580776c4aad9367f9",
       "version_major": 2,
       "version_minor": 0
      },
      "text/plain": [
       "Canvas(toolbar=Toolbar(toolitems=[('Home', 'Reset original view', 'home', 'home'), ('Back', 'Back to previous …"
      ]
     },
     "metadata": {},
     "output_type": "display_data"
    },
    {
     "data": {
      "text/plain": [
       "<matplotlib.image.AxesImage at 0x1852d62bd08>"
      ]
     },
     "execution_count": 2,
     "metadata": {},
     "output_type": "execute_result"
    }
   ],
   "source": [
    "fig, ax = plt.subplots()\n",
    "ax.imshow(im)"
   ]
  },
  {
   "cell_type": "code",
   "execution_count": 3,
   "metadata": {},
   "outputs": [],
   "source": [
    "gray = cv2.cvtColor(im,cv2.COLOR_BGR2GRAY)"
   ]
  },
  {
   "cell_type": "code",
   "execution_count": 4,
   "metadata": {},
   "outputs": [
    {
     "data": {
      "text/plain": [
       "array([[0, 0, 0, ..., 0, 0, 0],\n",
       "       [0, 0, 0, ..., 0, 0, 0],\n",
       "       [0, 0, 0, ..., 0, 0, 0],\n",
       "       ...,\n",
       "       [0, 0, 0, ..., 0, 0, 0],\n",
       "       [0, 0, 0, ..., 0, 0, 0],\n",
       "       [0, 0, 0, ..., 0, 0, 0]], dtype=uint8)"
      ]
     },
     "execution_count": 4,
     "metadata": {},
     "output_type": "execute_result"
    }
   ],
   "source": [
    "255-gray"
   ]
  },
  {
   "cell_type": "code",
   "execution_count": 4,
   "metadata": {},
   "outputs": [],
   "source": [
    "skeletonized = cv2.ximgproc.thinning(255-gray)\n"
   ]
  },
  {
   "cell_type": "code",
   "execution_count": 54,
   "metadata": {},
   "outputs": [
    {
     "data": {
      "application/vnd.jupyter.widget-view+json": {
       "model_id": "255b30dc49b14831b7c02b412ae3bae5",
       "version_major": 2,
       "version_minor": 0
      },
      "text/plain": [
       "Canvas(toolbar=Toolbar(toolitems=[('Home', 'Reset original view', 'home', 'home'), ('Back', 'Back to previous …"
      ]
     },
     "metadata": {},
     "output_type": "display_data"
    },
    {
     "data": {
      "text/plain": [
       "<matplotlib.image.AxesImage at 0x2834cf45188>"
      ]
     },
     "execution_count": 54,
     "metadata": {},
     "output_type": "execute_result"
    }
   ],
   "source": [
    "fig, ax = plt.subplots()\n",
    "ax.imshow(skeletonized)"
   ]
  },
  {
   "cell_type": "code",
   "execution_count": 5,
   "metadata": {},
   "outputs": [],
   "source": [
    "from scipy import sparse\n",
    "from amftrack.pipeline.functions.image_processing.extract_graph import (\n",
    "    from_sparse_to_graph,\n",
    "    generate_nx_graph,\n",
    "    clean_degree_4,\n",
    ")\n",
    "skeleton = sparse.dok_matrix(skeletonized)\n",
    "nx_graph, pos = generate_nx_graph(from_sparse_to_graph(skeleton))"
   ]
  },
  {
   "cell_type": "code",
   "execution_count": 29,
   "metadata": {
    "collapsed": true,
    "jupyter": {
     "outputs_hidden": true
    }
   },
   "outputs": [
    {
     "data": {
      "text/plain": [
       "{0: array([ 136, 1137]),\n",
       " 3: array([ 186, 1140]),\n",
       " 1: array([ 181, 1156]),\n",
       " 10: array([ 204, 1162]),\n",
       " 2: array([ 182, 1151]),\n",
       " 4: array([ 187, 1140]),\n",
       " 7: array([ 196, 1130]),\n",
       " 8: array([ 198, 1145]),\n",
       " 5: array([ 192, 1099]),\n",
       " 6: array([ 196, 1127]),\n",
       " 12: array([ 207, 1120]),\n",
       " 9: array([ 200, 1421]),\n",
       " 42: array([ 274, 1491]),\n",
       " 13: array([ 208, 1162]),\n",
       " 11: array([ 205, 1311]),\n",
       " 59: array([ 299, 1264]),\n",
       " 17: array([ 211, 1117]),\n",
       " 14: array([ 209, 1124]),\n",
       " 15: array([ 209, 1134]),\n",
       " 16: array([ 210, 1165]),\n",
       " 20: array([ 218, 1163]),\n",
       " 18: array([ 212, 1172]),\n",
       " 21: array([ 218, 1165]),\n",
       " 19: array([ 213, 1114]),\n",
       " 24: array([ 221, 1172]),\n",
       " 22: array([ 218, 1182]),\n",
       " 36: array([ 266, 1104]),\n",
       " 35: array([ 265, 1113]),\n",
       " 27: array([ 229, 1162]),\n",
       " 23: array([ 221, 1168]),\n",
       " 51: array([ 286, 1226]),\n",
       " 26: array([ 228, 1172]),\n",
       " 25: array([ 226, 1173]),\n",
       " 30: array([ 237, 1175]),\n",
       " 28: array([ 232, 1158]),\n",
       " 29: array([ 234, 1162]),\n",
       " 31: array([ 238, 1163]),\n",
       " 33: array([ 239, 1178]),\n",
       " 32: array([ 238, 1182]),\n",
       " 34: array([253, 987]),\n",
       " 38: array([ 270, 1088]),\n",
       " 37: array([ 266, 1115]),\n",
       " 39: array([ 270, 1092]),\n",
       " 47: array([ 280, 1119]),\n",
       " 65: array([ 310, 1202]),\n",
       " 49: array([ 285, 1078]),\n",
       " 43: array([ 275, 1098]),\n",
       " 40: array([ 273, 1109]),\n",
       " 46: array([ 280, 1111]),\n",
       " 41: array([ 274, 1489]),\n",
       " 44: array([ 277, 1493]),\n",
       " 52: array([ 287, 1078]),\n",
       " 94: array([ 349, 1517]),\n",
       " 45: array([ 278, 1492]),\n",
       " 48: array([ 283, 1049]),\n",
       " 50: array([ 285, 1117]),\n",
       " 55: array([ 291, 1127]),\n",
       " 53: array([ 289, 1118]),\n",
       " 54: array([ 289, 1233]),\n",
       " 72: array([ 320, 1125]),\n",
       " 57: array([ 296, 1119]),\n",
       " 108: array([ 363, 1281]),\n",
       " 61: array([ 307, 1262]),\n",
       " 63: array([ 310, 1154]),\n",
       " 56: array([ 292, 1276]),\n",
       " 58: array([ 298, 1121]),\n",
       " 62: array([ 309, 1127]),\n",
       " 60: array([ 307, 1203]),\n",
       " 69: array([ 317, 1266]),\n",
       " 70: array([ 318, 1130]),\n",
       " 68: array([ 316, 1136]),\n",
       " 64: array([ 310, 1161]),\n",
       " 73: array([ 320, 1161]),\n",
       " 66: array([ 312, 1163]),\n",
       " 67: array([ 313, 1202]),\n",
       " 71: array([ 318, 1168]),\n",
       " 97: array([ 354, 1229]),\n",
       " 81: array([ 329, 1204]),\n",
       " 91: array([ 342, 1285]),\n",
       " 87: array([ 336, 1137]),\n",
       " 75: array([ 320, 1168]),\n",
       " 74: array([ 320, 1167]),\n",
       " 77: array([ 322, 1168]),\n",
       " 76: array([ 321, 1169]),\n",
       " 78: array([ 323, 1170]),\n",
       " 79: array([324, 693]),\n",
       " 126: array([382, 822]),\n",
       " 85: array([ 333, 1183]),\n",
       " 80: array([ 327, 1184]),\n",
       " 83: array([ 331, 1205]),\n",
       " 82: array([ 329, 1440]),\n",
       " 100: array([ 356, 1403]),\n",
       " 90: array([ 342, 1206]),\n",
       " 96: array([ 354, 1226]),\n",
       " 84: array([ 332, 1458]),\n",
       " 95: array([ 353, 1472]),\n",
       " 86: array([ 335, 1183]),\n",
       " 92: array([ 347, 1208]),\n",
       " 142: array([ 405, 1209]),\n",
       " 113: array([ 366, 1149]),\n",
       " 93: array([ 349, 1141]),\n",
       " 88: array([ 339, 1436]),\n",
       " 98: array([ 355, 1417]),\n",
       " 89: array([ 341, 1537]),\n",
       " 99: array([ 355, 1542]),\n",
       " 109: array([ 364, 1370]),\n",
       " 117: array([ 367, 1288]),\n",
       " 103: array([ 359, 1206]),\n",
       " 112: array([ 366, 1145]),\n",
       " 106: array([ 361, 1139]),\n",
       " 102: array([ 357, 1451]),\n",
       " 105: array([ 360, 1232]),\n",
       " 101: array([ 356, 1405]),\n",
       " 131: array([ 388, 1577]),\n",
       " 107: array([ 362, 1397]),\n",
       " 114: array([ 366, 1445]),\n",
       " 104: array([ 360, 1137]),\n",
       " 143: array([ 406, 1292]),\n",
       " 119: array([ 377, 1237]),\n",
       " 116: array([ 367, 1143]),\n",
       " 111: array([ 364, 1394]),\n",
       " 110: array([ 364, 1374]),\n",
       " 118: array([ 376, 1390]),\n",
       " 160: array([ 426, 1163]),\n",
       " 115: array([367, 804]),\n",
       " 258: array([505, 889]),\n",
       " 166: array([ 429, 1145]),\n",
       " 133: array([ 393, 1329]),\n",
       " 129: array([ 386, 1413]),\n",
       " 134: array([ 395, 1368]),\n",
       " 120: array([ 380, 1238]),\n",
       " 121: array([ 380, 1239]),\n",
       " 122: array([ 381, 1238]),\n",
       " 123: array([ 381, 1239]),\n",
       " 162: array([ 427, 1243]),\n",
       " 132: array([ 392, 1249]),\n",
       " 124: array([ 381, 1258]),\n",
       " 125: array([382, 813]),\n",
       " 146: array([411, 902]),\n",
       " 127: array([ 383, 1229]),\n",
       " 172: array([ 435, 1224]),\n",
       " 128: array([ 385, 1374]),\n",
       " 136: array([ 396, 1360]),\n",
       " 153: array([ 417, 1611]),\n",
       " 130: array([ 388, 1336]),\n",
       " 157: array([ 422, 1570]),\n",
       " 174: array([ 436, 1247]),\n",
       " 135: array([ 396, 1330]),\n",
       " 138: array([ 398, 1337]),\n",
       " 150: array([ 415, 1324]),\n",
       " 137: array([ 397, 1354]),\n",
       " 139: array([ 398, 1363]),\n",
       " 140: array([ 402, 1346]),\n",
       " 152: array([ 416, 1347]),\n",
       " 141: array([ 404, 1297]),\n",
       " 148: array([ 414, 1295]),\n",
       " 144: array([ 407, 1243]),\n",
       " 163: array([ 427, 1246]),\n",
       " 269: array([ 519, 1054]),\n",
       " 145: array([ 410, 1211]),\n",
       " 167: array([430, 886]),\n",
       " 147: array([ 411, 1360]),\n",
       " 173: array([ 435, 1261]),\n",
       " 149: array([ 415, 1299]),\n",
       " 198: array([ 454, 1317]),\n",
       " 151: array([ 416, 1324]),\n",
       " 154: array([ 418, 1347]),\n",
       " 186: array([ 445, 1633]),\n",
       " 156: array([ 421, 1351]),\n",
       " 155: array([ 421, 1180]),\n",
       " 159: array([ 423, 1196]),\n",
       " 158: array([ 423, 1181]),\n",
       " 165: array([ 428, 1390]),\n",
       " 199: array([ 454, 1363]),\n",
       " 283: array([ 542, 1524]),\n",
       " 240: array([ 490, 1193]),\n",
       " 161: array([ 427, 1156]),\n",
       " 180: array([ 440, 1236]),\n",
       " 164: array([ 428, 1272]),\n",
       " 177: array([ 437, 1267]),\n",
       " 168: array([ 430, 1144]),\n",
       " 169: array([ 432, 1134]),\n",
       " 170: array([ 432, 1143]),\n",
       " 171: array([ 434, 1215]),\n",
       " 187: array([ 446, 1225]),\n",
       " 184: array([ 444, 1226]),\n",
       " 182: array([ 442, 1252]),\n",
       " 176: array([ 437, 1266]),\n",
       " 181: array([ 440, 1247]),\n",
       " 175: array([ 436, 1389]),\n",
       " 178: array([ 438, 1266]),\n",
       " 179: array([ 438, 1267]),\n",
       " 197: array([ 453, 1264]),\n",
       " 211: array([ 462, 1308]),\n",
       " 183: array([ 443, 1246]),\n",
       " 188: array([ 446, 1251]),\n",
       " 185: array([ 444, 1233]),\n",
       " 190: array([ 447, 1248]),\n",
       " 189: array([ 447, 1233]),\n",
       " 203: array([ 458, 1226]),\n",
       " 191: array([ 449, 1248]),\n",
       " 192: array([ 450, 1246]),\n",
       " 194: array([ 451, 1248]),\n",
       " 212: array([ 463, 1233]),\n",
       " 193: array([ 451, 1247]),\n",
       " 195: array([ 452, 1247]),\n",
       " 196: array([ 452, 1248]),\n",
       " 205: array([ 460, 1248]),\n",
       " 206: array([ 460, 1251]),\n",
       " 200: array([ 455, 1264]),\n",
       " 210: array([ 461, 1318]),\n",
       " 278: array([ 528, 1393]),\n",
       " 220: array([ 468, 1254]),\n",
       " 207: array([ 460, 1272]),\n",
       " 201: array([ 455, 1324]),\n",
       " 218: array([ 467, 1323]),\n",
       " 202: array([ 457, 1276]),\n",
       " 208: array([ 460, 1274]),\n",
       " 222: array([ 471, 1225]),\n",
       " 204: array([ 458, 1306]),\n",
       " 209: array([ 461, 1309]),\n",
       " 224: array([ 472, 1245]),\n",
       " 227: array([ 474, 1255]),\n",
       " 232: array([ 476, 1292]),\n",
       " 216: array([ 466, 1319]),\n",
       " 214: array([ 465, 1310]),\n",
       " 213: array([ 465, 1233]),\n",
       " 223: array([ 472, 1241]),\n",
       " 215: array([ 466, 1314]),\n",
       " 217: array([ 467, 1319]),\n",
       " 228: array([ 474, 1322]),\n",
       " 221: array([ 469, 1323]),\n",
       " 219: array([ 467, 1340]),\n",
       " 225: array([ 472, 1254]),\n",
       " 226: array([ 474, 1224]),\n",
       " 250: array([ 496, 1236]),\n",
       " 230: array([ 476, 1245]),\n",
       " 231: array([ 476, 1249]),\n",
       " 236: array([ 486, 1198]),\n",
       " 254: array([ 499, 1232]),\n",
       " 233: array([ 478, 1252]),\n",
       " 247: array([ 495, 1326]),\n",
       " 229: array([ 476, 1072]),\n",
       " 273: array([ 521, 1065]),\n",
       " 242: array([ 491, 1244]),\n",
       " 253: array([ 497, 1308]),\n",
       " 239: array([ 489, 1267]),\n",
       " 234: array([ 480, 1252]),\n",
       " 235: array([ 483, 1252]),\n",
       " 238: array([ 489, 1264]),\n",
       " 241: array([ 490, 1247]),\n",
       " 237: array([ 488, 1252]),\n",
       " 251: array([ 496, 1243]),\n",
       " 265: array([ 514, 1313]),\n",
       " 249: array([ 496, 1095]),\n",
       " 245: array([ 495, 1196]),\n",
       " 243: array([ 491, 1248]),\n",
       " 244: array([ 491, 1328]),\n",
       " 248: array([ 495, 1328]),\n",
       " 304: array([ 558, 1190]),\n",
       " 263: array([ 510, 1215]),\n",
       " 246: array([ 495, 1313]),\n",
       " 261: array([ 509, 1329]),\n",
       " 255: array([ 500, 1331]),\n",
       " 252: array([ 497, 1241]),\n",
       " 259: array([ 506, 1235]),\n",
       " 256: array([ 501, 1295]),\n",
       " 257: array([ 503, 1232]),\n",
       " 299: array([ 554, 1212]),\n",
       " 464: array([629, 743]),\n",
       " 280: array([537, 928]),\n",
       " 264: array([ 511, 1234]),\n",
       " 260: array([ 507, 1506]),\n",
       " 266: array([ 515, 1333]),\n",
       " 262: array([ 509, 1334]),\n",
       " 300: array([ 554, 1218]),\n",
       " 329: array([ 571, 1265]),\n",
       " 287: array([ 547, 1332]),\n",
       " 284: array([ 543, 1340]),\n",
       " 267: array([ 515, 1390]),\n",
       " 268: array([ 516, 1038]),\n",
       " 271: array([ 520, 1055]),\n",
       " 270: array([ 519, 1110]),\n",
       " 275: array([ 522, 1065]),\n",
       " 277: array([ 528, 1060]),\n",
       " 272: array([ 521, 1064]),\n",
       " 274: array([ 522, 1064]),\n",
       " 276: array([ 528, 1036]),\n",
       " 298: array([ 553, 1065]),\n",
       " 293: array([ 550, 1066]),\n",
       " 281: array([ 540, 1396]),\n",
       " 279: array([ 534, 1071]),\n",
       " 294: array([ 550, 1067]),\n",
       " 416: array([606, 903]),\n",
       " 365: array([ 588, 1013]),\n",
       " 282: array([ 541, 1348]),\n",
       " 289: array([ 548, 1392]),\n",
       " 290: array([ 548, 1393]),\n",
       " 295: array([ 550, 1400]),\n",
       " 314: array([ 560, 1385]),\n",
       " 296: array([ 551, 1523]),\n",
       " 286: array([ 545, 1340]),\n",
       " 285: array([ 543, 1419]),\n",
       " 307: array([ 558, 1415]),\n",
       " 288: array([ 547, 1334]),\n",
       " 302: array([ 556, 1343]),\n",
       " 305: array([ 558, 1338]),\n",
       " 291: array([ 549, 1392]),\n",
       " 292: array([ 549, 1393]),\n",
       " 297: array([ 552, 1392]),\n",
       " 342: array([ 579, 1076]),\n",
       " 301: array([ 554, 1403]),\n",
       " 361: array([ 586, 1524]),\n",
       " 317: array([ 563, 1065]),\n",
       " 319: array([ 564, 1210]),\n",
       " 324: array([ 567, 1216]),\n",
       " 321: array([ 565, 1407]),\n",
       " 306: array([ 558, 1414]),\n",
       " 326: array([ 567, 1343]),\n",
       " 303: array([ 558, 1188]),\n",
       " 392: array([ 598, 1110]),\n",
       " 412: array([ 605, 1116]),\n",
       " 310: array([ 560, 1312]),\n",
       " 311: array([ 560, 1332]),\n",
       " 313: array([ 560, 1338]),\n",
       " 308: array([ 559, 1414]),\n",
       " 309: array([ 559, 1415]),\n",
       " 316: array([ 562, 1432]),\n",
       " 312: array([ 560, 1337]),\n",
       " 350: array([ 582, 1331]),\n",
       " 315: array([ 562, 1338]),\n",
       " 325: array([ 567, 1342]),\n",
       " 341: array([ 579, 1072]),\n",
       " 336: array([ 577, 1062]),\n",
       " 318: array([ 564, 1032]),\n",
       " 344: array([ 580, 1040]),\n",
       " 322: array([ 566, 1210]),\n",
       " 320: array([ 565, 1300]),\n",
       " 362: array([ 587, 1299]),\n",
       " 399: array([ 601, 1439]),\n",
       " 387: array([ 597, 1211]),\n",
       " 323: array([ 567, 1078]),\n",
       " 391: array([ 598, 1109]),\n",
       " 388: array([ 597, 1214]),\n",
       " 327: array([ 568, 1342]),\n",
       " 328: array([ 568, 1343]),\n",
       " 332: array([ 574, 1339]),\n",
       " 343: array([ 579, 1357]),\n",
       " 333: array([ 575, 1248]),\n",
       " 334: array([ 576, 1255]),\n",
       " 331: array([ 573, 1264]),\n",
       " 330: array([ 572, 1241]),\n",
       " 335: array([ 576, 1257]),\n",
       " 337: array([ 577, 1266]),\n",
       " 352: array([ 582, 1335]),\n",
       " 338: array([ 578, 1248]),\n",
       " 339: array([ 578, 1252]),\n",
       " 357: array([ 585, 1266]),\n",
       " 340: array([ 579, 1058]),\n",
       " 354: array([ 583, 1242]),\n",
       " 370: array([ 589, 1269]),\n",
       " 345: array([ 580, 1056]),\n",
       " 348: array([ 581, 1076]),\n",
       " 364: array([ 587, 1367]),\n",
       " 353: array([ 583, 1037]),\n",
       " 347: array([ 581, 1043]),\n",
       " 346: array([ 580, 1268]),\n",
       " 367: array([ 588, 1270]),\n",
       " 360: array([ 586, 1079]),\n",
       " 349: array([ 581, 1449]),\n",
       " 358: array([ 585, 1317]),\n",
       " 351: array([ 582, 1333]),\n",
       " 377: array([ 592, 1327]),\n",
       " 355: array([ 584, 1334]),\n",
       " 359: array([ 586, 1026]),\n",
       " 383: array([ 595, 1222]),\n",
       " 401: array([ 602, 1222]),\n",
       " 368: array([ 588, 1305]),\n",
       " 386: array([ 596, 1328]),\n",
       " 356: array([ 585, 1054]),\n",
       " 373: array([ 591, 1048]),\n",
       " 363: array([ 587, 1316]),\n",
       " 366: array([ 588, 1016]),\n",
       " 371: array([ 590, 1025]),\n",
       " 374: array([ 591, 1081]),\n",
       " 969: array([ 849, 1574]),\n",
       " 378: array([ 593, 1297]),\n",
       " 650: array([ 703, 1383]),\n",
       " 826: array([ 782, 1440]),\n",
       " 375: array([ 592, 1007]),\n",
       " 381: array([ 595, 1018]),\n",
       " 372: array([ 590, 1271]),\n",
       " 369: array([ 589, 1004]),\n",
       " 376: array([ 592, 1271]),\n",
       " 408: array([ 604, 1027]),\n",
       " 385: array([ 596, 1050]),\n",
       " 409: array([ 604, 1084]),\n",
       " 405: array([ 603, 1090]),\n",
       " 425: array([ 611, 1002]),\n",
       " 379: array([ 594, 1271]),\n",
       " 380: array([ 594, 1272]),\n",
       " 499: array([ 639, 1304]),\n",
       " 393: array([ 598, 1296]),\n",
       " 398: array([ 600, 1273]),\n",
       " 396: array([ 600, 1014]),\n",
       " 400: array([ 602, 1022]),\n",
       " 382: array([ 595, 1220]),\n",
       " 389: array([ 597, 1221]),\n",
       " 384: array([596, 895]),\n",
       " 415: array([606, 902]),\n",
       " 500: array([ 639, 1307]),\n",
       " 397: array([ 600, 1211]),\n",
       " 390: array([ 597, 1282]),\n",
       " 414: array([ 605, 1290]),\n",
       " 394: array([ 599, 1109]),\n",
       " 395: array([ 599, 1110]),\n",
       " 403: array([ 602, 1293]),\n",
       " 407: array([ 603, 1106]),\n",
       " 411: array([ 605, 1113]),\n",
       " 438: array([ 618, 1010]),\n",
       " 413: array([ 605, 1212]),\n",
       " 432: array([ 616, 1192]),\n",
       " 402: array([ 602, 1273]),\n",
       " 888: array([ 809, 1504]),\n",
       " 404: array([ 603, 1023]),\n",
       " 423: array([ 609, 1215]),\n",
       " 437: array([ 617, 1276]),\n",
       " 422: array([ 608, 1274]),\n",
       " 430: array([ 616, 1021]),\n",
       " 406: array([ 603, 1095]),\n",
       " 410: array([ 604, 1090]),\n",
       " 417: array([ 606, 1090]),\n",
       " 450: array([ 625, 1054]),\n",
       " 420: array([ 607, 1084]),\n",
       " 512: array([ 643, 1149]),\n",
       " 505: array([ 640, 1189]),\n",
       " 421: array([ 607, 1290]),\n",
       " 418: array([607, 902]),\n",
       " 419: array([607, 903]),\n",
       " 424: array([ 610, 1090]),\n",
       " 502: array([640, 819]),\n",
       " 454: array([626, 907]),\n",
       " 431: array([ 616, 1068]),\n",
       " 427: array([ 611, 1086]),\n",
       " 440: array([ 618, 1287]),\n",
       " 433: array([ 616, 1215]),\n",
       " 442: array([ 620, 1094]),\n",
       " 426: array([ 611, 1005]),\n",
       " 446: array([ 623, 1001]),\n",
       " 428: array([ 612, 1086]),\n",
       " 435: array([ 617, 1078]),\n",
       " 452: array([ 625, 1093]),\n",
       " 429: array([ 612, 1273]),\n",
       " 436: array([ 617, 1274]),\n",
       " 457: array([ 628, 1018]),\n",
       " 434: array([ 617, 1025]),\n",
       " 455: array([ 626, 1049]),\n",
       " 444: array([ 622, 1061]),\n",
       " 439: array([ 618, 1069]),\n",
       " 568: array([ 663, 1166]),\n",
       " 443: array([ 620, 1195]),\n",
       " 507: array([ 641, 1192]),\n",
       " 574: array([ 666, 1220]),\n",
       " 441: array([ 619, 1079]),\n",
       " 516: array([ 644, 1253]),\n",
       " 445: array([ 622, 1276]),\n",
       " 447: array([ 623, 1007]),\n",
       " 490: array([ 636, 1286]),\n",
       " 453: array([ 625, 1099]),\n",
       " 449: array([ 624, 1059]),\n",
       " 529: array([ 648, 1255]),\n",
       " 448: array([ 624, 1001]),\n",
       " 478: array([ 633, 1005]),\n",
       " 518: array([645, 873]),\n",
       " 470: array([631, 982]),\n",
       " 475: array([ 632, 1000]),\n",
       " 451: array([ 625, 1056]),\n",
       " 459: array([ 628, 1061]),\n",
       " 469: array([ 630, 1056]),\n",
       " 460: array([ 628, 1094]),\n",
       " 461: array([ 628, 1096]),\n",
       " 496: array([ 638, 1122]),\n",
       " 535: array([651, 918]),\n",
       " 467: array([ 630, 1033]),\n",
       " 458: array([ 628, 1044]),\n",
       " 456: array([628, 964]),\n",
       " 474: array([632, 971]),\n",
       " 485: array([ 635, 1010]),\n",
       " 468: array([ 630, 1034]),\n",
       " 479: array([ 633, 1050]),\n",
       " 473: array([ 631, 1069]),\n",
       " 540: array([ 653, 1100]),\n",
       " 462: array([629, 709]),\n",
       " 476: array([633, 724]),\n",
       " 463: array([629, 742]),\n",
       " 477: array([633, 731]),\n",
       " 465: array([630, 742]),\n",
       " 466: array([630, 743]),\n",
       " 483: array([635, 741]),\n",
       " 491: array([637, 772]),\n",
       " 471: array([ 631, 1033]),\n",
       " 472: array([ 631, 1034]),\n",
       " 480: array([ 633, 1054]),\n",
       " 511: array([ 642, 1020]),\n",
       " 487: array([ 636, 1046]),\n",
       " 525: array([ 647, 1081]),\n",
       " 536: array([651, 920]),\n",
       " 481: array([ 634, 1002]),\n",
       " 530: array([649, 677]),\n",
       " 482: array([635, 738]),\n",
       " 484: array([ 635, 1008]),\n",
       " 488: array([ 636, 1050]),\n",
       " 495: array([ 638, 1055]),\n",
       " 493: array([ 638, 1005]),\n",
       " 532: array([651, 685]),\n",
       " 486: array([636, 752]),\n",
       " 494: array([ 638, 1011]),\n",
       " 492: array([638, 778]),\n",
       " 497: array([639, 789]),\n",
       " 501: array([640, 809]),\n",
       " 526: array([ 648, 1039]),\n",
       " 498: array([ 639, 1055]),\n",
       " 489: array([ 636, 1202]),\n",
       " 527: array([ 648, 1211]),\n",
       " 539: array([ 652, 1285]),\n",
       " 513: array([ 644, 1005]),\n",
       " 510: array([ 642, 1017]),\n",
       " 515: array([ 644, 1011]),\n",
       " 503: array([ 640, 1068]),\n",
       " 523: array([ 645, 1303]),\n",
       " 543: array([ 654, 1305]),\n",
       " 508: array([642, 819]),\n",
       " 504: array([ 640, 1124]),\n",
       " 521: array([ 645, 1138]),\n",
       " 506: array([ 641, 1186]),\n",
       " 569: array([ 663, 1173]),\n",
       " 533: array([651, 869]),\n",
       " 762: array([760, 832]),\n",
       " 509: array([642, 874]),\n",
       " 520: array([ 645, 1012]),\n",
       " 524: array([ 647, 1021]),\n",
       " 528: array([ 648, 1234]),\n",
       " 522: array([ 645, 1143]),\n",
       " 548: array([ 656, 1155]),\n",
       " 546: array([656, 995]),\n",
       " 514: array([ 644, 1006]),\n",
       " 555: array([ 658, 1009]),\n",
       " 517: array([645, 653]),\n",
       " 531: array([651, 661]),\n",
       " 534: array([651, 872]),\n",
       " 519: array([645, 939]),\n",
       " 545: array([656, 936]),\n",
       " 544: array([ 655, 1013]),\n",
       " 572: array([ 664, 1281]),\n",
       " 547: array([ 656, 1099]),\n",
       " 556: array([ 659, 1020]),\n",
       " 560: array([ 660, 1043]),\n",
       " 577: array([ 667, 1179]),\n",
       " 542: array([ 654, 1211]),\n",
       " 538: array([ 652, 1252]),\n",
       " 613: array([687, 659]),\n",
       " 554: array([658, 656]),\n",
       " 557: array([660, 867]),\n",
       " 549: array([657, 912]),\n",
       " 550: array([657, 922]),\n",
       " 537: array([ 651, 1288]),\n",
       " 541: array([ 653, 1253]),\n",
       " 586: array([ 672, 1232]),\n",
       " 570: array([ 663, 1304]),\n",
       " 552: array([657, 987]),\n",
       " 551: array([657, 925]),\n",
       " 553: array([657, 992]),\n",
       " 565: array([ 663, 1100]),\n",
       " 566: array([ 663, 1157]),\n",
       " 614: array([688, 952]),\n",
       " 579: array([670, 984]),\n",
       " 562: array([662, 992]),\n",
       " 558: array([ 660, 1011]),\n",
       " 559: array([ 660, 1013]),\n",
       " 563: array([ 662, 1012]),\n",
       " 564: array([ 662, 1045]),\n",
       " 561: array([ 660, 1301]),\n",
       " 571: array([664, 994]),\n",
       " 573: array([ 665, 1012]),\n",
       " 600: array([ 680, 1075]),\n",
       " 621: array([ 691, 1056]),\n",
       " 578: array([ 669, 1099]),\n",
       " 575: array([ 667, 1105]),\n",
       " 598: array([ 679, 1133]),\n",
       " 567: array([ 663, 1162]),\n",
       " 581: array([ 670, 1162]),\n",
       " 576: array([ 667, 1176]),\n",
       " 583: array([ 670, 1304]),\n",
       " 672: array([ 723, 1274]),\n",
       " 580: array([ 670, 1008]),\n",
       " 584: array([ 671, 1016]),\n",
       " 684: array([ 729, 1269]),\n",
       " 612: array([ 686, 1210]),\n",
       " 597: array([ 679, 1128]),\n",
       " 582: array([ 670, 1165]),\n",
       " 585: array([ 672, 1099]),\n",
       " 603: array([681, 981]),\n",
       " 668: array([717, 974]),\n",
       " 587: array([ 673, 1015]),\n",
       " 588: array([ 673, 1157]),\n",
       " 592: array([ 676, 1167]),\n",
       " 663: array([ 711, 1275]),\n",
       " 625: array([ 691, 1325]),\n",
       " 590: array([ 676, 1021]),\n",
       " 601: array([ 680, 1077]),\n",
       " 593: array([ 677, 1099]),\n",
       " 589: array([ 676, 1017]),\n",
       " 591: array([ 676, 1150]),\n",
       " 611: array([ 685, 1150]),\n",
       " 653: array([ 705, 1087]),\n",
       " 594: array([ 678, 1025]),\n",
       " 616: array([ 688, 1096]),\n",
       " 595: array([ 678, 1105]),\n",
       " 599: array([ 680, 1026]),\n",
       " 596: array([ 679, 1027]),\n",
       " 604: array([ 681, 1028]),\n",
       " 609: array([ 685, 1121]),\n",
       " 610: array([ 685, 1148]),\n",
       " 606: array([ 684, 1074]),\n",
       " 615: array([ 688, 1093]),\n",
       " 602: array([ 680, 1121]),\n",
       " 608: array([ 685, 1116]),\n",
       " 617: array([689, 956]),\n",
       " 666: array([714, 965]),\n",
       " 605: array([ 682, 1031]),\n",
       " 620: array([ 690, 1034]),\n",
       " 618: array([ 689, 1042]),\n",
       " 626: array([ 692, 1061]),\n",
       " 622: array([ 691, 1074]),\n",
       " 607: array([ 685, 1114]),\n",
       " 634: array([ 696, 1104]),\n",
       " 627: array([ 692, 1146]),\n",
       " 624: array([ 691, 1160]),\n",
       " 619: array([ 689, 1210]),\n",
       " 623: array([ 691, 1091]),\n",
       " 633: array([ 696, 1097]),\n",
       " 638: array([ 698, 1213]),\n",
       " 688: array([ 731, 1251]),\n",
       " 631: array([ 694, 1033]),\n",
       " 630: array([ 693, 1061]),\n",
       " 636: array([ 698, 1089]),\n",
       " 628: array([ 692, 1154]),\n",
       " 629: array([ 692, 1158]),\n",
       " 632: array([ 695, 1169]),\n",
       " 661: array([ 709, 1130]),\n",
       " 696: array([ 734, 1151]),\n",
       " 678: array([ 726, 1188]),\n",
       " 635: array([ 697, 1065]),\n",
       " 654: array([ 705, 1182]),\n",
       " 641: array([ 701, 1070]),\n",
       " 637: array([ 698, 1097]),\n",
       " 664: array([ 713, 1102]),\n",
       " 640: array([ 700, 1088]),\n",
       " 658: array([ 706, 1097]),\n",
       " 655: array([ 705, 1224]),\n",
       " 708: array([ 737, 1229]),\n",
       " 639: array([700, 774]),\n",
       " 782: array([767, 809]),\n",
       " 643: array([ 701, 1078]),\n",
       " 642: array([ 701, 1077]),\n",
       " 644: array([ 702, 1077]),\n",
       " 645: array([ 702, 1078]),\n",
       " 656: array([ 706, 1075]),\n",
       " 646: array([ 703, 1335]),\n",
       " 673: array([ 723, 1331]),\n",
       " 647: array([ 703, 1363]),\n",
       " 676: array([ 725, 1371]),\n",
       " 648: array([ 703, 1378]),\n",
       " 649: array([ 703, 1382]),\n",
       " 651: array([ 704, 1382]),\n",
       " 652: array([ 704, 1383]),\n",
       " 660: array([ 706, 1396]),\n",
       " 670: array([ 720, 1196]),\n",
       " 657: array([ 706, 1091]),\n",
       " 677: array([ 726, 1108]),\n",
       " 659: array([ 706, 1129]),\n",
       " 681: array([ 728, 1113]),\n",
       " 662: array([ 710, 1286]),\n",
       " 690: array([ 731, 1282]),\n",
       " 665: array([714, 955]),\n",
       " 674: array([725, 963]),\n",
       " 667: array([ 715, 1273]),\n",
       " 671: array([721, 980]),\n",
       " 669: array([ 717, 1105]),\n",
       " 675: array([ 725, 1110]),\n",
       " 692: array([ 732, 1215]),\n",
       " 679: array([ 726, 1192]),\n",
       " 686: array([ 730, 1276]),\n",
       " 687: array([ 730, 1300]),\n",
       " 727: array([ 744, 1358]),\n",
       " 710: array([738, 956]),\n",
       " 680: array([ 728, 1111]),\n",
       " 728: array([ 744, 1359]),\n",
       " 713: array([ 739, 1181]),\n",
       " 682: array([ 728, 1200]),\n",
       " 711: array([ 738, 1142]),\n",
       " 683: array([ 729, 1268]),\n",
       " 689: array([ 731, 1255]),\n",
       " 697: array([ 734, 1270]),\n",
       " 685: array([ 730, 1275]),\n",
       " 706: array([ 736, 1277]),\n",
       " 693: array([ 732, 1282]),\n",
       " 694: array([ 732, 1300]),\n",
       " 701: array([ 735, 1240]),\n",
       " 702: array([ 735, 1255]),\n",
       " 691: array([ 732, 1204]),\n",
       " 707: array([ 737, 1209]),\n",
       " 705: array([ 736, 1214]),\n",
       " 700: array([ 735, 1220]),\n",
       " 698: array([ 734, 1282]),\n",
       " 699: array([ 734, 1296]),\n",
       " 695: array([ 733, 1303]),\n",
       " 704: array([ 736, 1144]),\n",
       " 717: array([ 741, 1179]),\n",
       " 774: array([ 763, 1334]),\n",
       " 709: array([ 737, 1231]),\n",
       " 719: array([ 741, 1271]),\n",
       " 703: array([736, 940]),\n",
       " 720: array([742, 949]),\n",
       " 712: array([ 738, 1277]),\n",
       " 714: array([ 739, 1209]),\n",
       " 721: array([ 743, 1231]),\n",
       " 750: array([753, 960]),\n",
       " 725: array([ 744, 1277]),\n",
       " 715: array([ 740, 1206]),\n",
       " 718: array([ 741, 1211]),\n",
       " 735: array([ 746, 1207]),\n",
       " 716: array([ 740, 1260]),\n",
       " 731: array([ 745, 1261]),\n",
       " 745: array([ 750, 1176]),\n",
       " 737: array([747, 949]),\n",
       " 724: array([ 744, 1257]),\n",
       " 729: array([ 745, 1245]),\n",
       " 722: array([ 744, 1226]),\n",
       " 723: array([ 744, 1228]),\n",
       " 752: array([ 754, 1221]),\n",
       " 753: array([ 754, 1230]),\n",
       " 736: array([ 746, 1257]),\n",
       " 730: array([ 745, 1259]),\n",
       " 732: array([ 745, 1279]),\n",
       " 726: array([ 744, 1287]),\n",
       " 733: array([ 745, 1358]),\n",
       " 734: array([ 745, 1359]),\n",
       " 738: array([ 748, 1245]),\n",
       " 742: array([ 748, 1279]),\n",
       " 743: array([ 748, 1356]),\n",
       " 783: array([ 767, 1368]),\n",
       " 773: array([ 763, 1153]),\n",
       " 741: array([ 748, 1257]),\n",
       " 758: array([757, 941]),\n",
       " 749: array([752, 949]),\n",
       " 754: array([ 754, 1232]),\n",
       " 739: array([ 748, 1248]),\n",
       " 740: array([ 748, 1255]),\n",
       " 755: array([ 755, 1257]),\n",
       " 771: array([ 762, 1283]),\n",
       " 761: array([ 759, 1297]),\n",
       " 756: array([ 755, 1348]),\n",
       " 757: array([ 755, 1362]),\n",
       " 744: array([ 749, 1138]),\n",
       " 746: array([751, 971]),\n",
       " 747: array([ 751, 1210]),\n",
       " 765: array([ 761, 1210]),\n",
       " 748: array([ 751, 1439]),\n",
       " 860: array([ 800, 1479]),\n",
       " 966: array([845, 952]),\n",
       " 751: array([754, 955]),\n",
       " 766: array([ 761, 1211]),\n",
       " 770: array([ 762, 1235]),\n",
       " 764: array([ 760, 1261]),\n",
       " 775: array([ 763, 1337]),\n",
       " 798: array([ 771, 1353]),\n",
       " 759: array([758, 937]),\n",
       " 767: array([762, 930]),\n",
       " 777: array([764, 932]),\n",
       " 760: array([759, 793]),\n",
       " 784: array([768, 808]),\n",
       " 795: array([ 771, 1321]),\n",
       " 803: array([ 773, 1296]),\n",
       " 763: array([ 760, 1177]),\n",
       " 768: array([ 762, 1210]),\n",
       " 780: array([ 765, 1276]),\n",
       " 769: array([ 762, 1211]),\n",
       " 776: array([764, 929]),\n",
       " 778: array([ 765, 1211]),\n",
       " 779: array([ 765, 1231]),\n",
       " 789: array([ 769, 1290]),\n",
       " 772: array([763, 834]),\n",
       " 829: array([785, 853]),\n",
       " 858: array([ 799, 1135]),\n",
       " 785: array([ 768, 1332]),\n",
       " 797: array([ 771, 1350]),\n",
       " 836: array([788, 882]),\n",
       " 781: array([766, 929]),\n",
       " 788: array([ 769, 1204]),\n",
       " 822: array([ 780, 1226]),\n",
       " 792: array([ 770, 1280]),\n",
       " 786: array([ 768, 1376]),\n",
       " 819: array([ 777, 1422]),\n",
       " 844: array([791, 886]),\n",
       " 787: array([769, 810]),\n",
       " 800: array([ 772, 1358]),\n",
       " 796: array([ 771, 1327]),\n",
       " 790: array([ 769, 1333]),\n",
       " 814: array([ 776, 1384]),\n",
       " 791: array([770, 810]),\n",
       " 815: array([ 777, 1187]),\n",
       " 808: array([ 775, 1202]),\n",
       " 793: array([ 771, 1288]),\n",
       " 794: array([ 771, 1290]),\n",
       " 805: array([774, 812]),\n",
       " 801: array([773, 813]),\n",
       " 874: array([ 807, 1243]),\n",
       " 799: array([ 772, 1286]),\n",
       " 806: array([ 774, 1317]),\n",
       " 847: array([ 793, 1291]),\n",
       " 807: array([775, 814]),\n",
       " 802: array([ 773, 1185]),\n",
       " 811: array([ 776, 1297]),\n",
       " 804: array([ 773, 1315]),\n",
       " 818: array([ 777, 1308]),\n",
       " 809: array([ 775, 1316]),\n",
       " 810: array([ 775, 1317]),\n",
       " 823: array([781, 818]),\n",
       " 812: array([ 776, 1316]),\n",
       " 813: array([ 776, 1317]),\n",
       " 817: array([ 777, 1305]),\n",
       " 824: array([ 782, 1304]),\n",
       " 820: array([ 779, 1317]),\n",
       " 837: array([ 788, 1182]),\n",
       " 816: array([ 777, 1198]),\n",
       " 871: array([ 805, 1186]),\n",
       " 825: array([ 782, 1312]),\n",
       " 821: array([780, 871]),\n",
       " 835: array([788, 879]),\n",
       " 882: array([809, 823]),\n",
       " 831: array([ 787, 1311]),\n",
       " 838: array([ 788, 1379]),\n",
       " 832: array([ 787, 1312]),\n",
       " 830: array([ 786, 1441]),\n",
       " 827: array([ 783, 1383]),\n",
       " 834: array([ 787, 1382]),\n",
       " 828: array([ 784, 1224]),\n",
       " 855: array([ 797, 1223]),\n",
       " 841: array([790, 858]),\n",
       " 833: array([ 787, 1316]),\n",
       " 859: array([ 799, 1474]),\n",
       " 839: array([ 789, 1311]),\n",
       " 840: array([ 789, 1316]),\n",
       " 846: array([ 792, 1331]),\n",
       " 845: array([792, 873]),\n",
       " 843: array([791, 883]),\n",
       " 892: array([ 811, 1164]),\n",
       " 887: array([ 809, 1302]),\n",
       " 870: array([ 804, 1298]),\n",
       " 872: array([ 805, 1320]),\n",
       " 848: array([794, 866]),\n",
       " 851: array([796, 859]),\n",
       " 842: array([ 790, 1160]),\n",
       " 869: array([ 804, 1155]),\n",
       " 850: array([794, 874]),\n",
       " 907: array([816, 897]),\n",
       " 849: array([794, 869]),\n",
       " 856: array([ 797, 1284]),\n",
       " 852: array([796, 869]),\n",
       " 853: array([796, 871]),\n",
       " 857: array([799, 859]),\n",
       " 883: array([809, 880]),\n",
       " 854: array([ 797, 1221]),\n",
       " 863: array([ 801, 1223]),\n",
       " 862: array([ 801, 1134]),\n",
       " 865: array([ 802, 1477]),\n",
       " 864: array([ 801, 1479]),\n",
       " 861: array([ 801, 1132]),\n",
       " 939: array([ 830, 1129]),\n",
       " 885: array([ 809, 1200]),\n",
       " 866: array([ 802, 1479]),\n",
       " 867: array([ 803, 1479]),\n",
       " 868: array([ 803, 1481]),\n",
       " 877: array([ 808, 1155]),\n",
       " 886: array([ 809, 1297]),\n",
       " 873: array([ 806, 1194]),\n",
       " 917: array([ 821, 1250]),\n",
       " 875: array([ 808, 1151]),\n",
       " 876: array([ 808, 1154]),\n",
       " 908: array([ 816, 1151]),\n",
       " 878: array([ 808, 1226]),\n",
       " 879: array([ 808, 1231]),\n",
       " 889: array([ 810, 1231]),\n",
       " 880: array([ 808, 1233]),\n",
       " 881: array([ 808, 1235]),\n",
       " 890: array([811, 823]),\n",
       " 891: array([811, 882]),\n",
       " 884: array([ 809, 1139]),\n",
       " 903: array([ 815, 1170]),\n",
       " 893: array([ 811, 1200]),\n",
       " 925: array([ 824, 1264]),\n",
       " 922: array([ 822, 1316]),\n",
       " 895: array([ 812, 1230]),\n",
       " 1039: array([905, 707]),\n",
       " 1098: array([961, 925]),\n",
       " 896: array([813, 887]),\n",
       " 901: array([ 815, 1164]),\n",
       " 897: array([ 813, 1199]),\n",
       " 894: array([ 812, 1200]),\n",
       " 898: array([ 813, 1214]),\n",
       " 906: array([816, 894]),\n",
       " 900: array([ 814, 1216]),\n",
       " 909: array([ 816, 1241]),\n",
       " 910: array([ 817, 1199]),\n",
       " 904: array([ 815, 1214]),\n",
       " 899: array([ 813, 1241]),\n",
       " 902: array([ 815, 1166]),\n",
       " 916: array([ 821, 1156]),\n",
       " 919: array([ 822, 1167]),\n",
       " 913: array([ 818, 1173]),\n",
       " 905: array([ 815, 1364]),\n",
       " 911: array([ 817, 1364]),\n",
       " 912: array([818, 900]),\n",
       " 915: array([ 821, 1152]),\n",
       " 930: array([ 827, 1238]),\n",
       " 923: array([ 822, 1320]),\n",
       " 914: array([ 819, 1188]),\n",
       " 950: array([ 833, 1383]),\n",
       " 968: array([847, 946]),\n",
       " 918: array([822, 901]),\n",
       " 920: array([ 822, 1173]),\n",
       " 959: array([ 838, 1156]),\n",
       " 924: array([ 823, 1149]),\n",
       " 927: array([ 826, 1156]),\n",
       " 931: array([ 827, 1250]),\n",
       " 956: array([836, 916]),\n",
       " 921: array([ 822, 1178]),\n",
       " 941: array([ 830, 1308]),\n",
       " 926: array([ 825, 1324]),\n",
       " 940: array([ 830, 1134]),\n",
       " 935: array([ 829, 1149]),\n",
       " 933: array([ 828, 1262]),\n",
       " 942: array([ 830, 1335]),\n",
       " 934: array([ 828, 1324]),\n",
       " 929: array([ 827, 1156]),\n",
       " 928: array([ 827, 1023]),\n",
       " 986: array([ 856, 1047]),\n",
       " 932: array([ 828, 1237]),\n",
       " 936: array([ 829, 1253]),\n",
       " 971: array([ 850, 1165]),\n",
       " 960: array([ 839, 1241]),\n",
       " 937: array([ 829, 1255]),\n",
       " 952: array([ 834, 1293]),\n",
       " 943: array([ 831, 1148]),\n",
       " 944: array([ 831, 1253]),\n",
       " 938: array([ 829, 1745]),\n",
       " 996: array([ 864, 1687]),\n",
       " 948: array([ 833, 1127]),\n",
       " 949: array([ 833, 1140]),\n",
       " 946: array([ 832, 1307]),\n",
       " 945: array([ 831, 1309]),\n",
       " 955: array([ 835, 1360]),\n",
       " 964: array([ 843, 1150]),\n",
       " 951: array([ 834, 1253]),\n",
       " 947: array([ 833, 1124]),\n",
       " 978: array([ 853, 1073]),\n",
       " 962: array([ 841, 1126]),\n",
       " 974: array([ 852, 1118]),\n",
       " 953: array([ 834, 1381]),\n",
       " 954: array([ 834, 1386]),\n",
       " 957: array([ 836, 1254]),\n",
       " 998: array([ 870, 1254]),\n",
       " 958: array([ 837, 1385]),\n",
       " 965: array([ 844, 1399]),\n",
       " 963: array([ 842, 1371]),\n",
       " 983: array([ 855, 1256]),\n",
       " 961: array([ 840, 1156]),\n",
       " 991: array([ 860, 1222]),\n",
       " 967: array([ 845, 1150]),\n",
       " 1007: array([ 878, 1436]),\n",
       " 1008: array([ 879, 1138]),\n",
       " 982: array([ 854, 1156]),\n",
       " 972: array([851, 950]),\n",
       " 1016: array([ 887, 1598]),\n",
       " 973: array([851, 958]),\n",
       " 976: array([853, 965]),\n",
       " 970: array([ 850, 1119]),\n",
       " 1009: array([ 879, 1140]),\n",
       " 985: array([856, 945]),\n",
       " 979: array([854, 963]),\n",
       " 977: array([853, 971]),\n",
       " 980: array([854, 973]),\n",
       " 981: array([854, 974]),\n",
       " 1006: array([ 878, 1082]),\n",
       " 975: array([853, 933]),\n",
       " 990: array([859, 930]),\n",
       " 988: array([ 857, 1051]),\n",
       " 995: array([864, 965]),\n",
       " 987: array([ 857, 1047]),\n",
       " ...}"
      ]
     },
     "execution_count": 29,
     "metadata": {},
     "output_type": "execute_result"
    }
   ],
   "source": [
    "pos"
   ]
  },
  {
   "cell_type": "code",
   "execution_count": 61,
   "metadata": {},
   "outputs": [],
   "source": [
    "width_info = get_width_info(nx_graph,gray)"
   ]
  },
  {
   "cell_type": "code",
   "execution_count": 62,
   "metadata": {
    "collapsed": true,
    "jupyter": {
     "outputs_hidden": true
    }
   },
   "outputs": [
    {
     "data": {
      "text/plain": [
       "{(0, 3): 6.325,\n",
       " (3, 2): 5.175000000000001,\n",
       " (3, 4): 8.625,\n",
       " (1, 10): 8.625,\n",
       " (10, 7): 6.9,\n",
       " (10, 13): 8.625,\n",
       " (4, 7): 6.9,\n",
       " (4, 8): 6.9,\n",
       " (7, 6): 5.175000000000001,\n",
       " (5, 6): 6.9,\n",
       " (6, 12): 8.625,\n",
       " (12, 17): 8.625,\n",
       " (12, 14): 15.525,\n",
       " (9, 42): 7.1156250000000005,\n",
       " (42, 41): 3.45,\n",
       " (42, 44): 8.625,\n",
       " (13, 15): 5.175000000000001,\n",
       " (13, 16): 12.075000000000001,\n",
       " (11, 59): 8.409375,\n",
       " (59, 56): 6.9,\n",
       " (59, 61): 6.9,\n",
       " (17, 14): 6.9,\n",
       " (17, 19): 8.625,\n",
       " (14, 15): 5.175000000000001,\n",
       " (15, 20): 8.625,\n",
       " (16, 18): 6.9,\n",
       " (16, 21): 6.9,\n",
       " (20, 21): -1.725,\n",
       " (20, 27): 6.9,\n",
       " (18, 24): 3.45,\n",
       " (18, 22): 6.9,\n",
       " (21, 23): 8.625,\n",
       " (19, 36): 7.245,\n",
       " (19, 35): 7.4750000000000005,\n",
       " (24, 22): 6.9,\n",
       " (24, 23): 3.45,\n",
       " (22, 51): 8.625,\n",
       " (36, 35): 8.625,\n",
       " (36, 39): 8.625,\n",
       " (35, 37): 12.075000000000001,\n",
       " (23, 26): 6.9,\n",
       " (51, 33): 8.625,\n",
       " (51, 54): 10.350000000000001,\n",
       " (26, 25): 15.525,\n",
       " (26, 30): 10.350000000000001,\n",
       " (30, 29): 5.175000000000001,\n",
       " (30, 33): 10.350000000000001,\n",
       " (28, 29): 12.075000000000001,\n",
       " (29, 31): 5.175000000000001,\n",
       " (33, 32): 5.175000000000001,\n",
       " (34, 38): 8.193750000000001,\n",
       " (38, 39): 8.625,\n",
       " (38, 49): 6.9,\n",
       " (37, 47): 8.625,\n",
       " (37, 65): 7.546875,\n",
       " (39, 43): 8.625,\n",
       " (47, 55): 6.9,\n",
       " (47, 50): 8.625,\n",
       " (65, 60): 6.9,\n",
       " (65, 67): 6.9,\n",
       " (49, 48): 3.45,\n",
       " (49, 52): 6.9,\n",
       " (43, 46): 10.350000000000001,\n",
       " (43, 52): 8.625,\n",
       " (40, 46): 8.625,\n",
       " (46, 50): 8.625,\n",
       " (44, 94): 8.28,\n",
       " (44, 45): 18.975,\n",
       " (52, 72): 6.5550000000000015,\n",
       " (94, 95): 8.625,\n",
       " (94, 99): 10.350000000000001,\n",
       " (50, 53): 13.8,\n",
       " (55, 53): 8.625,\n",
       " (55, 63): 10.350000000000001,\n",
       " (53, 57): 12.075000000000001,\n",
       " (54, 108): 8.378571428571428,\n",
       " (54, 61): 8.625,\n",
       " (57, 58): 13.8,\n",
       " (108, 69): 6.9,\n",
       " (108, 117): 8.625,\n",
       " (61, 69): 10.350000000000001,\n",
       " (63, 64): 6.9,\n",
       " (63, 73): 8.625,\n",
       " (58, 62): 8.625,\n",
       " (62, 70): 8.625,\n",
       " (62, 68): 6.9,\n",
       " (69, 91): 10.350000000000001,\n",
       " (70, 68): 5.175000000000001,\n",
       " (70, 87): 12.075000000000001,\n",
       " (68, 73): 6.9,\n",
       " (64, 66): 13.8,\n",
       " (73, 74): 6.9,\n",
       " (66, 71): 10.350000000000001,\n",
       " (67, 97): 6.325,\n",
       " (67, 81): 6.9,\n",
       " (71, 81): 6.9,\n",
       " (71, 75): -1.725,\n",
       " (97, 96): 12.075000000000001,\n",
       " (97, 105): 10.350000000000001,\n",
       " (81, 83): 10.350000000000001,\n",
       " (91, 109): 6.653571428571429,\n",
       " (91, 117): 6.9,\n",
       " (87, 113): 8.625,\n",
       " (87, 93): 6.9,\n",
       " (75, 74): 12.075000000000001,\n",
       " (75, 76): 20.700000000000003,\n",
       " (74, 77): -1.725,\n",
       " (77, 76): -1.725,\n",
       " (77, 78): 18.975,\n",
       " (76, 78): 13.8,\n",
       " (78, 85): 8.625,\n",
       " (79, 126): 7.705000000000001,\n",
       " (126, 125): 3.45,\n",
       " (126, 146): 8.625,\n",
       " (85, 80): 5.175000000000001,\n",
       " (85, 86): 15.525,\n",
       " (83, 90): 5.175000000000001,\n",
       " (83, 96): 6.9,\n",
       " (82, 100): 7.4750000000000005,\n",
       " (100, 107): 10.350000000000001,\n",
       " (100, 101): 12.075000000000001,\n",
       " (96, 92): 10.350000000000001,\n",
       " (84, 95): 8.625,\n",
       " (95, 102): 8.625,\n",
       " (86, 92): 10.350000000000001,\n",
       " (86, 142): 6.325,\n",
       " (92, 103): 6.9,\n",
       " (113, 112): 5.175000000000001,\n",
       " (113, 160): 7.7625,\n",
       " (93, 112): 8.625,\n",
       " (93, 106): 6.9,\n",
       " (88, 98): 6.9,\n",
       " (98, 101): 8.625,\n",
       " (98, 102): 10.350000000000001,\n",
       " (89, 99): 8.625,\n",
       " (99, 131): 9.200000000000001,\n",
       " (117, 133): 12.65,\n",
       " (112, 116): 12.075000000000001,\n",
       " (106, 104): 17.25,\n",
       " (106, 116): 6.9,\n",
       " (102, 114): 6.9,\n",
       " (105, 143): 8.3375,\n",
       " (105, 119): 10.350000000000001,\n",
       " (101, 107): 6.9,\n",
       " (131, 153): 8.625,\n",
       " (131, 157): 8.625,\n",
       " (107, 111): 8.625,\n",
       " (143, 141): 8.625,\n",
       " (143, 148): 12.075000000000001,\n",
       " (119, 120): 12.075000000000001,\n",
       " (119, 121): 12.075000000000001,\n",
       " (116, 166): 10.350000000000001,\n",
       " (111, 110): 3.45,\n",
       " (111, 118): 8.625,\n",
       " (118, 129): 6.9,\n",
       " (118, 134): 6.9,\n",
       " (160, 155): 6.9,\n",
       " (160, 240): 8.625,\n",
       " (115, 258): 9.2,\n",
       " (258, 464): 8.241666666666667,\n",
       " (258, 280): 12.65,\n",
       " (166, 161): 6.9,\n",
       " (166, 168): 10.350000000000001,\n",
       " (133, 130): 6.9,\n",
       " (133, 135): 12.075000000000001,\n",
       " (120, 121): 18.975,\n",
       " (120, 122): 10.350000000000001,\n",
       " (121, 123): 10.350000000000001,\n",
       " (122, 123): 18.975,\n",
       " (122, 162): 8.05,\n",
       " (123, 132): 6.9,\n",
       " (162, 163): 15.525,\n",
       " (162, 180): 6.9,\n",
       " (132, 124): 6.9,\n",
       " (132, 174): 6.0375000000000005,\n",
       " (146, 269): 6.995833333333334,\n",
       " (146, 167): 6.9,\n",
       " (127, 172): 8.625,\n",
       " (172, 145): 8.625,\n",
       " (172, 184): 6.9,\n",
       " (128, 136): 6.9,\n",
       " (136, 137): 8.625,\n",
       " (136, 139): 6.9,\n",
       " (153, 157): 6.9,\n",
       " (153, 186): 6.9,\n",
       " (157, 283): 8.9125,\n",
       " (174, 163): 6.9,\n",
       " (174, 181): 10.350000000000001,\n",
       " (135, 138): 8.625,\n",
       " (135, 150): 8.625,\n",
       " (138, 137): 6.9,\n",
       " (138, 152): 6.9,\n",
       " (150, 149): 6.9,\n",
       " (150, 151): -1.725,\n",
       " (137, 140): 13.8,\n",
       " (152, 147): 6.9,\n",
       " (152, 154): 8.625,\n",
       " (148, 173): 9.775,\n",
       " (148, 149): 10.350000000000001,\n",
       " (144, 163): 6.9,\n",
       " (269, 268): 6.9,\n",
       " (269, 271): 8.625,\n",
       " (173, 182): 8.625,\n",
       " (173, 176): 8.625,\n",
       " (149, 198): 9.4875,\n",
       " (198, 151): 6.0375000000000005,\n",
       " (198, 210): 8.625,\n",
       " (151, 154): 6.9,\n",
       " (154, 156): 10.350000000000001,\n",
       " (156, 165): 6.9,\n",
       " (156, 199): 8.625,\n",
       " (155, 159): 6.9,\n",
       " (155, 158): 17.25,\n",
       " (199, 175): 6.9,\n",
       " (199, 278): 8.9125,\n",
       " (283, 260): 7.7625,\n",
       " (283, 296): 10.350000000000001,\n",
       " (240, 249): 6.46875,\n",
       " (240, 245): 8.625,\n",
       " (164, 177): 5.175000000000001,\n",
       " (177, 176): 6.9,\n",
       " (177, 179): 8.625,\n",
       " (168, 169): 6.9,\n",
       " (168, 170): 13.8,\n",
       " (171, 187): 6.9,\n",
       " (187, 184): 20.700000000000003,\n",
       " (187, 203): 8.625,\n",
       " (184, 185): 5.175000000000001,\n",
       " (182, 181): 8.625,\n",
       " (182, 188): 8.625,\n",
       " (176, 178): 8.625,\n",
       " (181, 183): 10.350000000000001,\n",
       " (178, 197): 6.9,\n",
       " (178, 179): 6.9,\n",
       " (179, 211): 7.4750000000000005,\n",
       " (197, 188): 6.9,\n",
       " (197, 200): 6.9,\n",
       " (211, 209): 12.075000000000001,\n",
       " (211, 214): 15.525,\n",
       " (183, 185): 6.9,\n",
       " (183, 190): -1.725,\n",
       " (188, 190): -1.725,\n",
       " (185, 189): 3.45,\n",
       " (190, 191): 17.25,\n",
       " (203, 222): 5.175000000000001,\n",
       " (203, 212): 8.625,\n",
       " (191, 192): 22.425,\n",
       " (191, 194): 8.625,\n",
       " (192, 212): 6.9,\n",
       " (192, 193): -1.725,\n",
       " (194, 193): -1.725,\n",
       " (194, 196): 13.8,\n",
       " (212, 213): 8.625,\n",
       " (193, 195): 13.8,\n",
       " (195, 205): 15.525,\n",
       " (195, 196): -1.725,\n",
       " (196, 206): 8.625,\n",
       " (205, 206): 13.8,\n",
       " (205, 224): 12.075000000000001,\n",
       " (206, 220): 6.9,\n",
       " (200, 220): 8.625,\n",
       " (200, 207): 6.9,\n",
       " (210, 209): 5.175000000000001,\n",
       " (210, 216): 8.625,\n",
       " (278, 267): 13.8,\n",
       " (278, 281): 8.625,\n",
       " (220, 225): 5.175000000000001,\n",
       " (207, 208): 6.9,\n",
       " (207, 227): 6.9,\n",
       " (201, 218): 6.9,\n",
       " (218, 217): 8.625,\n",
       " (218, 221): 24.150000000000002,\n",
       " (202, 208): 12.075000000000001,\n",
       " (208, 232): 6.9,\n",
       " (222, 213): 6.9,\n",
       " (222, 226): 10.350000000000001,\n",
       " (204, 209): 6.9,\n",
       " (224, 223): 8.625,\n",
       " (224, 230): 15.525,\n",
       " (227, 225): -1.725,\n",
       " (227, 233): 8.625,\n",
       " (232, 253): 6.9,\n",
       " (232, 239): 5.175000000000001,\n",
       " (216, 215): 5.175000000000001,\n",
       " (216, 217): 17.25,\n",
       " (213, 223): 6.9,\n",
       " (223, 250): 8.625,\n",
       " (217, 228): -1.725,\n",
       " (228, 221): 15.525,\n",
       " (228, 247): 10.350000000000001,\n",
       " (221, 219): 6.9,\n",
       " (225, 231): -1.725,\n",
       " (226, 236): 8.625,\n",
       " (226, 254): 5.175000000000001,\n",
       " (250, 254): 10.350000000000001,\n",
       " (250, 252): -1.725,\n",
       " (230, 242): 8.625,\n",
       " (230, 231): -1.725,\n",
       " (231, 233): 8.625,\n",
       " (254, 257): 6.9,\n",
       " (233, 234): 8.625,\n",
       " (247, 261): 8.625,\n",
       " (247, 248): 3.45,\n",
       " (229, 273): 5.175000000000001,\n",
       " (273, 272): 6.9,\n",
       " (273, 275): 10.350000000000001,\n",
       " (242, 241): 27.6,\n",
       " (242, 251): -1.725,\n",
       " (253, 256): 6.9,\n",
       " (253, 265): 6.9,\n",
       " (239, 238): 5.175000000000001,\n",
       " (239, 265): 6.900000000000001,\n",
       " (234, 235): 8.625,\n",
       " (234, 238): 6.9,\n",
       " (235, 241): 6.9,\n",
       " (235, 237): 3.45,\n",
       " (238, 251): 8.625,\n",
       " (241, 243): -1.725,\n",
       " (251, 252): 17.25,\n",
       " (265, 287): 6.9,\n",
       " (245, 304): 8.28,\n",
       " (245, 263): 6.9,\n",
       " (244, 248): 5.175000000000001,\n",
       " (248, 255): 13.8,\n",
       " (304, 303): 10.350000000000001,\n",
       " (304, 319): 8.625,\n",
       " (246, 261): 6.9,\n",
       " (261, 266): 8.625,\n",
       " (252, 259): 12.075000000000001,\n",
       " (259, 257): -1.725,\n",
       " (259, 264): 10.350000000000001,\n",
       " (257, 299): 9.918750000000001,\n",
       " (299, 300): 3.45,\n",
       " (299, 319): 8.625,\n",
       " (464, 463): 10.350000000000001,\n",
       " (464, 466): 18.975,\n",
       " (280, 416): 7.590000000000001,\n",
       " (280, 365): 9.008333333333335,\n",
       " (264, 300): 12.65,\n",
       " (264, 329): 8.625,\n",
       " (266, 262): 13.8,\n",
       " (266, 284): 10.350000000000001,\n",
       " (300, 324): 6.9,\n",
       " (329, 287): 8.625,\n",
       " (329, 331): 10.350000000000001,\n",
       " (287, 288): 10.350000000000001,\n",
       " (284, 282): 8.625,\n",
       " (284, 286): 12.075000000000001,\n",
       " (271, 277): 8.625,\n",
       " (271, 272): 6.9,\n",
       " (270, 275): 6.325,\n",
       " (275, 274): 6.9,\n",
       " (277, 274): 6.9,\n",
       " (277, 293): 6.9,\n",
       " (272, 274): 10.350000000000001,\n",
       " (276, 298): 6.9,\n",
       " (298, 293): 6.9,\n",
       " (298, 317): 6.9,\n",
       " (293, 294): 6.9,\n",
       " (281, 290): 8.625,\n",
       " (281, 295): 10.350000000000001,\n",
       " (279, 294): 6.9,\n",
       " (294, 342): 10.350000000000001,\n",
       " (416, 415): 10.350000000000001,\n",
       " (416, 419): 10.350000000000001,\n",
       " (365, 366): 10.350000000000001,\n",
       " (365, 375): 6.9,\n",
       " (282, 289): 8.625,\n",
       " (282, 314): 6.9,\n",
       " (289, 290): 15.525,\n",
       " (289, 291): 13.8,\n",
       " (290, 292): 13.8,\n",
       " (295, 292): 6.9,\n",
       " (295, 301): 8.625,\n",
       " (296, 361): 6.9,\n",
       " (286, 288): 6.9,\n",
       " (286, 302): 6.9,\n",
       " (285, 307): 6.9,\n",
       " (307, 306): 13.8,\n",
       " (307, 309): 8.625,\n",
       " (288, 305): 6.9,\n",
       " (302, 305): 13.8,\n",
       " (302, 326): 5.175000000000001,\n",
       " (305, 313): 20.700000000000003,\n",
       " (291, 297): 3.45,\n",
       " (291, 292): 15.525,\n",
       " (342, 341): 8.625,\n",
       " (342, 348): 22.425,\n",
       " (301, 321): 8.625,\n",
       " (301, 306): 6.9,\n",
       " (361, 969): 8.458064516129031,\n",
       " (317, 341): 8.625,\n",
       " (317, 336): 6.9,\n",
       " (319, 322): 10.350000000000001,\n",
       " (324, 322): 8.625,\n",
       " (324, 388): 6.9,\n",
       " (321, 308): 8.625,\n",
       " (321, 399): 8.625,\n",
       " (306, 308): 8.625,\n",
       " (326, 325): 10.350000000000001,\n",
       " (326, 328): 12.075000000000001,\n",
       " (303, 392): 7.4750000000000005,\n",
       " (303, 412): 8.3375,\n",
       " (392, 391): 8.625,\n",
       " (392, 395): 8.625,\n",
       " (412, 411): 6.9,\n",
       " (412, 512): 7.4750000000000005,\n",
       " (310, 311): 3.45,\n",
       " (311, 312): 13.8,\n",
       " (311, 350): 17.25,\n",
       " (313, 312): 12.075000000000001,\n",
       " (313, 315): 3.45,\n",
       " (308, 309): 13.8,\n",
       " (309, 316): 5.175000000000001,\n",
       " (312, 315): 12.075000000000001,\n",
       " (350, 358): 6.9,\n",
       " (350, 351): 12.075000000000001,\n",
       " (350, 377): 10.350000000000001,\n",
       " (315, 325): 8.625,\n",
       " (325, 327): 12.075000000000001,\n",
       " (341, 336): 8.625,\n",
       " (336, 340): 10.350000000000001,\n",
       " (318, 344): 8.625,\n",
       " (344, 353): 18.975,\n",
       " (344, 347): 13.8,\n",
       " (322, 387): 8.625,\n",
       " (320, 362): 5.175000000000001,\n",
       " (362, 378): 5.175000000000001,\n",
       " (362, 368): 5.175000000000001,\n",
       " (399, 349): 10.350000000000001,\n",
       " (399, 888): 7.626315789473685,\n",
       " (387, 388): -1.725,\n",
       " (387, 397): 10.350000000000001,\n",
       " (323, 391): 6.9,\n",
       " (391, 394): 8.625,\n",
       " (388, 382): 6.9,\n",
       " (327, 332): 12.075000000000001,\n",
       " (327, 328): 10.350000000000001,\n",
       " (328, 343): 8.625,\n",
       " (332, 352): 10.350000000000001,\n",
       " (332, 343): 6.9,\n",
       " (343, 364): 8.625,\n",
       " (333, 334): 6.9,\n",
       " (333, 330): 8.625,\n",
       " (333, 338): -1.725,\n",
       " (334, 339): 8.625,\n",
       " (334, 335): 8.625,\n",
       " (331, 335): 10.350000000000001,\n",
       " (331, 337): 6.9,\n",
       " (335, 357): 6.9,\n",
       " (352, 351): 12.075000000000001,\n",
       " (352, 355): 17.25,\n",
       " (338, 339): 8.625,\n",
       " (338, 354): 8.625,\n",
       " (339, 370): 8.625,\n",
       " (340, 345): 13.8,\n",
       " (354, 383): 8.625,\n",
       " (354, 401): 6.9,\n",
       " (370, 367): 20.700000000000003,\n",
       " (370, 372): 13.8,\n",
       " (345, 347): 8.625,\n",
       " (348, 360): 6.9,\n",
       " (364, 650): 7.997727272727275,\n",
       " (364, 826): 7.417500000000001,\n",
       " (353, 347): 13.8,\n",
       " (353, 359): 6.9,\n",
       " (346, 367): 6.9,\n",
       " (367, 372): 12.075000000000001,\n",
       " (360, 374): 12.075000000000001,\n",
       " (358, 368): 10.350000000000001,\n",
       " (358, 363): 13.8,\n",
       " (351, 355): 20.700000000000003,\n",
       " (377, 499): 8.625,\n",
       " (377, 386): 6.9,\n",
       " (355, 386): 8.625,\n",
       " (359, 366): 8.625,\n",
       " (359, 371): 24.150000000000002,\n",
       " (383, 382): 6.9,\n",
       " (383, 389): 15.525,\n",
       " (401, 389): 6.9,\n",
       " (401, 423): 10.350000000000001,\n",
       " (368, 378): 6.9,\n",
       " (386, 500): 10.350000000000001,\n",
       " (356, 373): 6.9,\n",
       " (373, 408): 6.9,\n",
       " (373, 385): 6.9,\n",
       " (366, 381): 8.625,\n",
       " (374, 409): 8.625,\n",
       " (374, 405): 17.25,\n",
       " (969, 888): 10.925000000000002,\n",
       " (969, 1016): 12.075000000000001,\n",
       " (378, 393): 6.9,\n",
       " (650, 649): 17.25,\n",
       " (650, 652): 18.975,\n",
       " (826, 819): 10.350000000000001,\n",
       " (826, 830): 17.25,\n",
       " (375, 369): 6.9,\n",
       " (375, 425): 10.350000000000001,\n",
       " (381, 396): 6.9,\n",
       " (381, 400): 8.625,\n",
       " (372, 376): 8.625,\n",
       " (376, 379): 3.45,\n",
       " (376, 380): 12.075000000000001,\n",
       " (408, 404): -1.725,\n",
       " (408, 450): 8.625,\n",
       " (409, 420): -1.725,\n",
       " (409, 410): 8.625,\n",
       " (405, 406): 6.9,\n",
       " (405, 410): -1.725,\n",
       " (425, 426): 12.075000000000001,\n",
       " (425, 446): 6.9,\n",
       " (379, 398): 10.350000000000001,\n",
       " (379, 380): 13.8,\n",
       " (380, 398): 10.350000000000001,\n",
       " (499, 500): 6.9,\n",
       " (499, 523): 6.9,\n",
       " (393, 403): 12.075000000000001,\n",
       " (398, 402): 10.350000000000001,\n",
       " (396, 438): 6.9,\n",
       " (396, 400): 8.625,\n",
       " (400, 404): 10.350000000000001,\n",
       " (382, 389): -1.725,\n",
       " (384, 415): 6.9,\n",
       " (415, 418): 10.350000000000001,\n",
       " (500, 543): 6.9,\n",
       " (397, 413): 8.625,\n",
       " (397, 432): 8.625,\n",
       " (390, 414): 6.9,\n",
       " (414, 403): 8.625,\n",
       " (414, 421): 8.625,\n",
       " (394, 407): 6.9,\n",
       " (394, 395): 8.625,\n",
       " (395, 411): 6.9,\n",
       " (407, 406): 5.175000000000001,\n",
       " (407, 411): 8.625,\n",
       " (438, 430): 6.9,\n",
       " (438, 447): 8.625,\n",
       " (413, 505): 6.9,\n",
       " (413, 423): 10.350000000000001,\n",
       " (432, 568): 8.625,\n",
       " (432, 443): 6.9,\n",
       " (402, 437): 5.175000000000001,\n",
       " (402, 422): 10.350000000000001,\n",
       " (888, 868): 12.075000000000001,\n",
       " (404, 430): 6.9,\n",
       " (423, 433): 8.625,\n",
       " (437, 436): -1.725,\n",
       " (437, 445): 5.175000000000001,\n",
       " (430, 457): 6.9,\n",
       " (406, 417): 20.700000000000003,\n",
       " (410, 417): 17.25,\n",
       " (417, 424): 8.625,\n",
       " (450, 451): 22.425,\n",
       " (450, 455): 8.625,\n",
       " (420, 431): 8.625,\n",
       " (420, 427): 6.9,\n",
       " (512, 522): 5.175000000000001,\n",
       " (512, 548): 10.350000000000001,\n",
       " (505, 506): 8.625,\n",
       " (505, 507): 8.625,\n",
       " (421, 440): 6.9,\n",
       " (418, 502): 7.392857142857143,\n",
       " (418, 419): 10.350000000000001,\n",
       " (419, 454): 8.625,\n",
       " (424, 427): 6.9,\n",
       " (424, 442): 10.350000000000001,\n",
       " (502, 501): 6.9,\n",
       " (502, 508): 18.975,\n",
       " (454, 518): 7.7625,\n",
       " (454, 535): 6.9,\n",
       " (431, 444): 6.9,\n",
       " (431, 439): -1.725,\n",
       " (427, 428): 10.350000000000001,\n",
       " (440, 490): 8.625,\n",
       " (433, 507): 6.9,\n",
       " (433, 574): 6.900000000000001,\n",
       " (442, 452): 17.25,\n",
       " (442, 453): 6.9,\n",
       " (446, 448): 8.625,\n",
       " (446, 447): 3.45,\n",
       " (428, 435): 6.9,\n",
       " (428, 452): 6.9,\n",
       " (435, 439): 6.9,\n",
       " (435, 441): 8.625,\n",
       " (452, 460): 22.425,\n",
       " (429, 436): 13.8,\n",
       " (436, 516): 6.9,\n",
       " (457, 467): 6.9,\n",
       " (457, 485): 8.625,\n",
       " (434, 455): 6.9,\n",
       " (455, 458): 8.625,\n",
       " (444, 439): 15.525,\n",
       " (444, 449): -1.725,\n",
       " (568, 567): 10.350000000000001,\n",
       " (568, 569): 8.625,\n",
       " (507, 569): 6.9,\n",
       " (574, 684): 8.3375,\n",
       " (574, 612): 8.625,\n",
       " (516, 528): 8.625,\n",
       " (516, 529): 6.9,\n",
       " (445, 529): 6.9,\n",
       " (445, 490): 8.625,\n",
       " (447, 478): 5.175000000000001,\n",
       " (490, 539): 6.9,\n",
       " (453, 461): 18.975,\n",
       " (453, 496): 6.9,\n",
       " (449, 451): 10.350000000000001,\n",
       " (449, 459): 10.350000000000001,\n",
       " (529, 538): 6.9,\n",
       " (448, 470): 6.9,\n",
       " (448, 475): 6.9,\n",
       " (478, 481): -1.725,\n",
       " (478, 484): 18.975,\n",
       " (518, 509): 12.075000000000001,\n",
       " (518, 534): 10.350000000000001,\n",
       " (470, 474): 8.625,\n",
       " (470, 475): 6.9,\n",
       " (475, 481): 8.625,\n",
       " (451, 469): 5.175000000000001,\n",
       " (459, 473): 8.625,\n",
       " (459, 469): 6.9,\n",
       " (469, 480): 12.075000000000001,\n",
       " (460, 473): 6.9,\n",
       " (460, 461): -1.725,\n",
       " (461, 540): 13.8,\n",
       " (535, 536): 6.9,\n",
       " (535, 549): 6.9,\n",
       " (467, 468): 8.625,\n",
       " (467, 471): 8.625,\n",
       " (458, 468): 10.350000000000001,\n",
       " (458, 479): 12.075000000000001,\n",
       " (456, 474): 6.9,\n",
       " (474, 536): 7.4750000000000005,\n",
       " (485, 484): 10.350000000000001,\n",
       " (485, 494): -1.725,\n",
       " (468, 472): 8.625,\n",
       " (479, 480): 6.9,\n",
       " (479, 488): 12.075000000000001,\n",
       " (473, 525): 6.9,\n",
       " (540, 521): 6.9,\n",
       " (540, 547): -1.725,\n",
       " (462, 476): 6.9,\n",
       " (476, 530): 9.200000000000001,\n",
       " (476, 477): 6.9,\n",
       " (463, 477): 8.625,\n",
       " (463, 465): 18.975,\n",
       " (477, 482): 6.9,\n",
       " (465, 466): 10.350000000000001,\n",
       " (465, 483): 5.175000000000001,\n",
       " (466, 491): 8.625,\n",
       " (483, 482): 6.9,\n",
       " (483, 486): 6.9,\n",
       " (491, 492): 13.8,\n",
       " (471, 511): 8.625,\n",
       " (471, 472): 8.625,\n",
       " (472, 487): 6.9,\n",
       " (480, 495): 6.9,\n",
       " (511, 510): 10.350000000000001,\n",
       " (511, 524): 6.9,\n",
       " (487, 526): 8.625,\n",
       " (487, 488): 6.9,\n",
       " (525, 498): 8.625,\n",
       " (525, 547): 10.350000000000001,\n",
       " (536, 550): 6.9,\n",
       " (481, 493): 20.700000000000003,\n",
       " (530, 531): 8.625,\n",
       " (530, 613): 6.9,\n",
       " (482, 532): 6.900000000000001,\n",
       " (484, 493): -1.725,\n",
       " (488, 498): 6.9,\n",
       " (495, 503): 6.9,\n",
       " (495, 498): 20.700000000000003,\n",
       " (493, 513): 8.625,\n",
       " (494, 510): 6.9,\n",
       " (494, 515): 3.45,\n",
       " (492, 497): 13.8,\n",
       " (497, 501): 5.175000000000001,\n",
       " (526, 556): 6.9,\n",
       " (526, 560): 8.625,\n",
       " (489, 527): 6.9,\n",
       " (527, 577): 6.9,\n",
       " (527, 542): 5.175000000000001,\n",
       " (539, 537): 20.700000000000003,\n",
       " (539, 572): 8.625,\n",
       " (513, 546): 6.9,\n",
       " (513, 514): -1.725,\n",
       " (510, 520): 6.9,\n",
       " (515, 514): 5.175000000000001,\n",
       " (515, 520): 8.625,\n",
       " (523, 572): 6.9,\n",
       " (523, 543): 13.8,\n",
       " (543, 570): 12.075000000000001,\n",
       " (508, 533): 6.900000000000001,\n",
       " (508, 762): 7.245,\n",
       " (504, 521): 6.9,\n",
       " (521, 522): 5.175000000000001,\n",
       " (569, 576): 10.350000000000001,\n",
       " (533, 557): 8.625,\n",
       " (533, 534): 13.8,\n",
       " (520, 544): 6.9,\n",
       " (522, 548): 6.9,\n",
       " (548, 566): 10.350000000000001,\n",
       " (546, 553): 10.350000000000001,\n",
       " (546, 555): 6.9,\n",
       " (514, 555): 6.9,\n",
       " (555, 558): 15.525,\n",
       " (517, 531): 8.625,\n",
       " (531, 554): 8.625,\n",
       " (534, 549): 6.9,\n",
       " (519, 545): 8.625,\n",
       " (545, 552): 5.75,\n",
       " (545, 551): 6.9,\n",
       " (572, 672): 6.9,\n",
       " (547, 565): 12.075000000000001,\n",
       " (556, 559): 8.625,\n",
       " (556, 560): 5.175000000000001,\n",
       " (560, 564): 10.350000000000001,\n",
       " (577, 576): 10.350000000000001,\n",
       " (577, 612): 8.625,\n",
       " (538, 541): -1.725,\n",
       " (538, 586): 6.9,\n",
       " (549, 550): 5.175000000000001,\n",
       " (550, 551): 6.9,\n",
       " (570, 561): 20.700000000000003,\n",
       " (570, 583): 8.625,\n",
       " (552, 579): 6.9,\n",
       " (552, 553): 8.625,\n",
       " (551, 614): 6.9,\n",
       " (553, 562): 6.9,\n",
       " (565, 578): 8.625,\n",
       " (565, 575): 6.9,\n",
       " (566, 598): 8.625,\n",
       " (566, 567): 10.350000000000001,\n",
       " (579, 562): 6.9,\n",
       " (579, 603): 8.625,\n",
       " (562, 571): 6.9,\n",
       " (558, 559): 6.9,\n",
       " (558, 563): -1.725,\n",
       " (559, 563): 17.25,\n",
       " (563, 573): 8.625,\n",
       " (564, 600): 8.625,\n",
       " (564, 621): 10.350000000000001,\n",
       " (573, 580): 6.9,\n",
       " (573, 584): 6.9,\n",
       " (600, 601): 6.9,\n",
       " (600, 606): 6.9,\n",
       " (621, 618): 13.8,\n",
       " (621, 626): 13.8,\n",
       " (578, 575): 8.625,\n",
       " (578, 585): 8.625,\n",
       " (575, 597): 6.9,\n",
       " (598, 597): 8.625,\n",
       " (598, 610): 8.625,\n",
       " (567, 581): 6.9,\n",
       " (581, 588): 8.625,\n",
       " (581, 582): 6.9,\n",
       " (576, 582): 5.175000000000001,\n",
       " (583, 663): 8.193750000000001,\n",
       " (583, 625): 8.625,\n",
       " (672, 667): 6.9,\n",
       " (672, 686): -1.725,\n",
       " (580, 668): 7.331250000000001,\n",
       " (580, 587): 8.625,\n",
       " (584, 587): -1.725,\n",
       " (584, 590): 6.9,\n",
       " (684, 683): 13.8,\n",
       " (684, 685): -1.725,\n",
       " (612, 619): 13.8,\n",
       " (597, 609): 6.9,\n",
       " (582, 592): 6.9,\n",
       " (585, 601): 6.9,\n",
       " (585, 593): 8.625,\n",
       " (603, 617): 6.9,\n",
       " (603, 666): 9.4875,\n",
       " (668, 674): 6.9,\n",
       " (668, 671): 6.9,\n",
       " (587, 589): 6.9,\n",
       " (588, 591): 6.9,\n",
       " (588, 611): 8.625,\n",
       " (590, 589): 5.175000000000001,\n",
       " (590, 594): 10.350000000000001,\n",
       " (601, 615): 8.625,\n",
       " (593, 616): 10.350000000000001,\n",
       " (593, 595): 6.9,\n",
       " (589, 653): 7.3928571428571415,\n",
       " (611, 610): 10.350000000000001,\n",
       " (611, 624): 13.8,\n",
       " (653, 640): 5.175000000000001,\n",
       " (653, 645): 6.9,\n",
       " (594, 599): 13.8,\n",
       " (594, 596): 12.075000000000001,\n",
       " (616, 607): 8.625,\n",
       " (616, 615): 17.25,\n",
       " (616, 633): 6.9,\n",
       " (599, 596): -1.725,\n",
       " (599, 604): 13.8,\n",
       " (596, 604): 13.8,\n",
       " (604, 605): 12.075000000000001,\n",
       " (609, 608): 6.9,\n",
       " (609, 627): 6.9,\n",
       " (610, 627): 8.625,\n",
       " (606, 626): 6.9,\n",
       " (606, 622): 3.45,\n",
       " (615, 623): 8.625,\n",
       " (602, 608): 20.700000000000003,\n",
       " (608, 607): 15.525,\n",
       " (666, 665): 5.175000000000001,\n",
       " (666, 674): 6.9,\n",
       " (605, 620): 17.25,\n",
       " (605, 618): 6.9,\n",
       " (620, 618): 8.625,\n",
       " (620, 631): 12.075000000000001,\n",
       " (626, 630): -1.725,\n",
       " (622, 623): 5.175000000000001,\n",
       " (622, 630): 6.9,\n",
       " (607, 634): 10.350000000000001,\n",
       " (634, 633): 6.9,\n",
       " (634, 664): 5.175000000000001,\n",
       " (627, 628): 3.45,\n",
       " (627, 661): 8.625,\n",
       " (624, 629): -1.725,\n",
       " (624, 632): 8.625,\n",
       " (619, 638): 15.525,\n",
       " (619, 688): 9.05625,\n",
       " (623, 636): 6.9,\n",
       " (633, 637): -1.725,\n",
       " (638, 655): 5.175000000000001,\n",
       " (638, 708): 6.9,\n",
       " (688, 689): 8.625,\n",
       " (688, 701): 6.9,\n",
       " (630, 635): 18.975,\n",
       " (636, 640): 10.350000000000001,\n",
       " (636, 637): 5.175000000000001,\n",
       " (628, 629): 6.9,\n",
       " (628, 696): 6.0375000000000005,\n",
       " (629, 678): 6.9,\n",
       " (632, 654): 8.625,\n",
       " (661, 659): 18.975,\n",
       " (661, 681): 8.625,\n",
       " (696, 704): 6.9,\n",
       " (696, 717): 6.9,\n",
       " (678, 713): 8.625,\n",
       " (678, 679): 8.625,\n",
       " (635, 641): 13.8,\n",
       " (654, 670): 8.625,\n",
       " (641, 642): 8.625,\n",
       " (637, 658): 5.175000000000001,\n",
       " (640, 643): 8.625,\n",
       " (658, 657): 5.175000000000001,\n",
       " (658, 677): 8.625,\n",
       " (708, 700): 10.350000000000001,\n",
       " (708, 709): 22.425,\n",
       " (639, 782): 7.762499999999999,\n",
       " (782, 784): -1.725,\n",
       " (782, 787): 13.8,\n",
       " (643, 642): 12.075000000000001,\n",
       " (643, 645): -1.725,\n",
       " (642, 644): 22.425,\n",
       " (644, 656): -1.725,\n",
       " (644, 645): 12.075000000000001,\n",
       " (646, 673): 10.350000000000001,\n",
       " (673, 687): 5.175000000000001,\n",
       " (673, 727): 10.350000000000001,\n",
       " (647, 676): 6.9,\n",
       " (676, 651): 8.625,\n",
       " (676, 728): 6.9,\n",
       " (648, 649): 3.45,\n",
       " (649, 651): 18.975,\n",
       " (651, 652): 17.25,\n",
       " (652, 660): 6.9,\n",
       " (670, 692): 8.625,\n",
       " (670, 679): 6.9,\n",
       " (677, 675): 13.8,\n",
       " (677, 680): 12.075000000000001,\n",
       " (681, 680): 6.9,\n",
       " (681, 711): 6.9,\n",
       " (662, 690): 6.9,\n",
       " (690, 687): 10.350000000000001,\n",
       " (690, 693): -1.725,\n",
       " (674, 710): 8.625,\n",
       " (669, 675): 6.9,\n",
       " (675, 680): 13.8,\n",
       " (692, 705): 8.625,\n",
       " (692, 700): 15.525,\n",
       " (679, 682): 6.9,\n",
       " (686, 685): -1.725,\n",
       " (686, 693): 10.350000000000001,\n",
       " (687, 694): -1.725,\n",
       " (727, 728): 10.350000000000001,\n",
       " (727, 733): 10.350000000000001,\n",
       " (710, 720): 12.075000000000001,\n",
       " (710, 750): 6.9,\n",
       " (728, 734): 10.350000000000001,\n",
       " (713, 715): 5.175000000000001,\n",
       " (713, 717): 10.350000000000001,\n",
       " (683, 689): 8.625,\n",
       " (683, 697): -1.725,\n",
       " (689, 702): -1.725,\n",
       " (685, 706): 6.9,\n",
       " (706, 698): 6.9,\n",
       " (706, 712): 6.9,\n",
       " (693, 698): 8.625,\n",
       " (694, 699): 6.9,\n",
       " (694, 695): 6.9,\n",
       " (701, 709): 6.9,\n",
       " (701, 702): 5.175000000000001,\n",
       " (702, 719): 10.350000000000001,\n",
       " (691, 707): 6.9,\n",
       " (707, 705): 15.525,\n",
       " (707, 714): 8.625,\n",
       " (705, 700): 6.9,\n",
       " (698, 774): 7.762500000000001,\n",
       " (717, 745): 6.9,\n",
       " (774, 785): 10.350000000000001,\n",
       " (774, 775): 6.9,\n",
       " (709, 721): 12.075000000000001,\n",
       " (719, 712): 8.625,\n",
       " (719, 725): 17.25,\n",
       " (703, 720): 6.9,\n",
       " (720, 737): 10.350000000000001,\n",
       " (712, 725): 5.175000000000001,\n",
       " (714, 715): 8.625,\n",
       " (714, 718): -1.725,\n",
       " (721, 723): 22.425,\n",
       " (721, 729): 13.8,\n",
       " (750, 746): 6.9,\n",
       " (750, 966): 6.653571428571429,\n",
       " (725, 732): 17.25,\n",
       " (715, 735): 8.625,\n",
       " (735, 722): 8.625,\n",
       " (735, 773): 6.325,\n",
       " (716, 731): -1.725,\n",
       " (731, 730): 10.350000000000001,\n",
       " (731, 742): 8.625,\n",
       " (737, 758): 8.625,\n",
       " (737, 749): 3.45,\n",
       " (724, 729): 5.175000000000001,\n",
       " (724, 736): 3.45,\n",
       " (724, 730): -1.725,\n",
       " (729, 738): -1.725,\n",
       " (722, 752): 8.625,\n",
       " (722, 723): 12.075000000000001,\n",
       " (723, 753): 6.9,\n",
       " (753, 754): 6.9,\n",
       " (753, 766): 8.625,\n",
       " (736, 730): 13.8,\n",
       " (736, 741): -1.725,\n",
       " (732, 726): 6.9,\n",
       " (732, 742): 10.350000000000001,\n",
       " (733, 734): 10.350000000000001,\n",
       " (733, 743): 6.9,\n",
       " (734, 783): 10.350000000000001,\n",
       " (738, 754): 10.350000000000001,\n",
       " (738, 739): 13.8,\n",
       " (742, 761): 6.9,\n",
       " (743, 756): 8.625,\n",
       " (743, 757): 6.9,\n",
       " (783, 786): 8.625,\n",
       " (783, 800): 6.9,\n",
       " (773, 744): 6.9,\n",
       " (773, 858): 7.7625,\n",
       " (741, 740): 13.8,\n",
       " (741, 771): 6.9,\n",
       " (758, 751): 6.9,\n",
       " (758, 759): 13.8,\n",
       " (754, 770): 10.350000000000001,\n",
       " (739, 740): 6.9,\n",
       " (739, 755): 6.9,\n",
       " (740, 755): 6.9,\n",
       " (755, 764): 13.8,\n",
       " (771, 780): -1.725,\n",
       " (771, 789): -1.725,\n",
       " (761, 795): 8.625,\n",
       " (761, 803): 6.9,\n",
       " (756, 775): 8.625,\n",
       " (756, 798): 6.9,\n",
       " (747, 765): 5.175000000000001,\n",
       " (765, 766): 17.25,\n",
       " (765, 768): 15.525,\n",
       " (748, 860): 7.7625,\n",
       " (860, 859): 13.8,\n",
       " (860, 864): 12.075000000000001,\n",
       " (766, 769): 15.525,\n",
       " (770, 764): 8.625,\n",
       " (770, 779): 6.9,\n",
       " (764, 780): 8.625,\n",
       " (775, 797): 12.075000000000001,\n",
       " (798, 797): 10.350000000000001,\n",
       " (798, 800): 10.350000000000001,\n",
       " (759, 767): 8.625,\n",
       " (759, 777): 6.9,\n",
       " (767, 776): 17.25,\n",
       " (767, 777): -1.725,\n",
       " (777, 781): 13.8,\n",
       " (760, 784): 6.9,\n",
       " (784, 787): 13.8,\n",
       " (795, 806): 8.625,\n",
       " (795, 796): 6.9,\n",
       " (803, 794): 13.8,\n",
       " (803, 811): 13.8,\n",
       " ...}"
      ]
     },
     "execution_count": 62,
     "metadata": {},
     "output_type": "execute_result"
    }
   ],
   "source": [
    "width_info"
   ]
  },
  {
   "cell_type": "code",
   "execution_count": 9,
   "metadata": {},
   "outputs": [
    {
     "data": {
      "application/vnd.jupyter.widget-view+json": {
       "model_id": "72c14de4fb80456695ff6d17957215fe",
       "version_major": 2,
       "version_minor": 0
      },
      "text/plain": [
       "Canvas(toolbar=Toolbar(toolitems=[('Home', 'Reset original view', 'home', 'home'), ('Back', 'Back to previous …"
      ]
     },
     "metadata": {},
     "output_type": "display_data"
    }
   ],
   "source": [
    "plt.close(\"all\")\n",
    "fig, ax = plt.subplots()\n",
    "ax.imshow(gray)\n",
    "# for node in pos.keys():\n",
    "#     ax.scatter(pos[node][1],pos[node][0])    \n",
    "for edge in width_info.keys():\n",
    "    ax.plot((pos[edge[0]][1],pos[edge[1]][1]),(pos[edge[0]][0],pos[edge[1]][0]),color = plt.get_cmap('jet')(int(20*width_info[edge])))"
   ]
  },
  {
   "cell_type": "code",
   "execution_count": 87,
   "metadata": {},
   "outputs": [],
   "source": [
    "canva = np.zeros((*gray.shape,4))\n",
    "for edge in width_info.keys():\n",
    "    pixel_list = nx_graph.get_edge_data(edge[0], edge[1])[\"pixel_list\"]\n",
    "    for pixel in pixel_list:\n",
    "        canva[pixel[0],pixel[1],:] = np.array(plt.get_cmap('jet')(int(20*width_info[edge])))"
   ]
  },
  {
   "cell_type": "code",
   "execution_count": 86,
   "metadata": {},
   "outputs": [
    {
     "data": {
      "application/vnd.jupyter.widget-view+json": {
       "model_id": "42a680fc95394c70ade3a3e1b1f06258",
       "version_major": 2,
       "version_minor": 0
      },
      "text/plain": [
       "Canvas(toolbar=Toolbar(toolitems=[('Home', 'Reset original view', 'home', 'home'), ('Back', 'Back to previous …"
      ]
     },
     "metadata": {},
     "output_type": "display_data"
    },
    {
     "data": {
      "text/plain": [
       "<matplotlib.image.AxesImage at 0x1852f1b61c8>"
      ]
     },
     "execution_count": 86,
     "metadata": {},
     "output_type": "execute_result"
    }
   ],
   "source": [
    "plt.close(\"all\")\n",
    "fig, ax = plt.subplots()\n",
    "kernel = np.ones((5,5),np.uint8)\n",
    "\n",
    "ax.imshow(cv2.dilate(canva,kernel,iterations = 1))\n",
    "ax.imshow(gray,alpha = 0.2)\n"
   ]
  },
  {
   "cell_type": "code",
   "execution_count": 20,
   "metadata": {},
   "outputs": [
    {
     "data": {
      "text/plain": [
       "array([0., 0., 0.])"
      ]
     },
     "execution_count": 20,
     "metadata": {},
     "output_type": "execute_result"
    }
   ],
   "source": [
    "canva[pixel[0],pixel[1],:]"
   ]
  },
  {
   "cell_type": "code",
   "execution_count": 15,
   "metadata": {},
   "outputs": [
    {
     "data": {
      "text/plain": [
       "(0.03478810879190385, 0.9431372549019608, 0.9329538266919671, 1.0)"
      ]
     },
     "execution_count": 15,
     "metadata": {},
     "output_type": "execute_result"
    }
   ],
   "source": [
    "plt.get_cmap('jet')(int(20*width_info[edge]))"
   ]
  },
  {
   "cell_type": "code",
   "execution_count": null,
   "metadata": {},
   "outputs": [],
   "source": [
    "fig, ax = plt.subplots()\n",
    "ax.hist(width_info.values(),25)\n"
   ]
  },
  {
   "cell_type": "code",
   "execution_count": 46,
   "metadata": {},
   "outputs": [
    {
     "data": {
      "text/plain": [
       "(0.5, 0.0, 0.0, 1.0)"
      ]
     },
     "execution_count": 46,
     "metadata": {},
     "output_type": "execute_result"
    }
   ],
   "source": [
    "plt.get_cmap('jet')(60.5)"
   ]
  },
  {
   "cell_type": "code",
   "execution_count": 69,
   "metadata": {},
   "outputs": [],
   "source": [
    "length_info = get_length_info(nx_graph,gray)"
   ]
  },
  {
   "cell_type": "code",
   "execution_count": 70,
   "metadata": {
    "collapsed": true,
    "jupyter": {
     "outputs_hidden": true
    }
   },
   "outputs": [
    {
     "data": {
      "text/plain": [
       "{(0, 3): 89.45365006887718,\n",
       " (3, 2): 20.44904712296429,\n",
       " (3, 4): 1.725,\n",
       " (1, 10): 41.134886014267394,\n",
       " (10, 7): 57.3475143518885,\n",
       " (10, 13): 6.9,\n",
       " (4, 7): 23.222269374110997,\n",
       " (4, 8): 20.957982410848125,\n",
       " (7, 6): 5.175000000000001,\n",
       " (5, 6): 49.06633173027603,\n",
       " (6, 12): 22.781308437140638,\n",
       " (12, 17): 8.625,\n",
       " (12, 14): 7.714434522374275,\n",
       " (9, 42): 178.28071965944378,\n",
       " (42, 41): 3.45,\n",
       " (42, 44): 6.219575950175382,\n",
       " (13, 15): 48.81074985481447,\n",
       " (13, 16): 6.219575950175382,\n",
       " (11, 59): 184.07021573321637,\n",
       " (59, 56): 24.362357204190467,\n",
       " (59, 61): 14.22471440838093,\n",
       " (17, 14): 12.558189559008895,\n",
       " (17, 19): 6.219575950175382,\n",
       " (14, 15): 17.25,\n",
       " (15, 20): 52.904133739145855,\n",
       " (16, 18): 12.558189559008895,\n",
       " (16, 21): 13.8,\n",
       " (20, 21): 3.45,\n",
       " (20, 27): 19.061035446433536,\n",
       " (18, 24): 15.525,\n",
       " (18, 22): 20.84649696928542,\n",
       " (21, 23): 7.318555185280767,\n",
       " (19, 36): 119.02144323178389,\n",
       " (19, 35): 90.30922757804922,\n",
       " (24, 22): 18.089786891371364,\n",
       " (24, 23): 6.9,\n",
       " (22, 51): 141.5147826873959,\n",
       " (36, 35): 15.620539363287046,\n",
       " (36, 39): 22.939094548567812,\n",
       " (35, 37): 3.8572172611871376,\n",
       " (23, 26): 13.907394615814997,\n",
       " (51, 33): 119.07259927316625,\n",
       " (51, 54): 13.137208607615243,\n",
       " (26, 25): 3.8572172611871376,\n",
       " (26, 30): 16.364786891371363,\n",
       " (30, 29): 23.264786891371365,\n",
       " (30, 33): 6.219575950175382,\n",
       " (28, 29): 7.714434522374275,\n",
       " (29, 31): 7.112357204190465,\n",
       " (33, 32): 7.112357204190465,\n",
       " (34, 38): 180.55531613178573,\n",
       " (38, 39): 6.9,\n",
       " (38, 49): 31.09787975087691,\n",
       " (37, 47): 25.160595552318917,\n",
       " (37, 65): 173.24807423244567,\n",
       " (39, 43): 13.47268069093898,\n",
       " (47, 55): 24.691147160748713,\n",
       " (47, 50): 9.289409292307019,\n",
       " (65, 60): 5.454928963790455,\n",
       " (65, 67): 5.175000000000001,\n",
       " (49, 48): 51.96593294113717,\n",
       " (49, 52): 3.45,\n",
       " (43, 46): 24.224677705696106,\n",
       " (43, 52): 48.87028470177504,\n",
       " (40, 46): 12.558189559008895,\n",
       " (46, 50): 13.47268069093898,\n",
       " (44, 94): 132.86480134420063,\n",
       " (44, 45): 2.439518395093589,\n",
       " (52, 72): 119.32634218460642,\n",
       " (94, 95): 77.96914178573414,\n",
       " (94, 99): 44.39695471071336,\n",
       " (50, 53): 7.112357204190465,\n",
       " (55, 53): 15.90371418883023,\n",
       " (55, 63): 57.06138209351097,\n",
       " (53, 57): 12.197591975467946,\n",
       " (54, 108): 154.88175139456908,\n",
       " (54, 61): 59.33522712607917,\n",
       " (57, 58): 4.879036790187178,\n",
       " (108, 69): 83.54263550360841,\n",
       " (108, 117): 13.907394615814997,\n",
       " (61, 69): 18.71427970809828,\n",
       " (63, 64): 12.075000000000001,\n",
       " (63, 73): 21.107217261187138,\n",
       " (58, 62): 21.86831649828546,\n",
       " (62, 70): 16.364786891371363,\n",
       " (62, 68): 21.209961993202576,\n",
       " (69, 91): 54.89684804000093,\n",
       " (70, 68): 10.90985792758091,\n",
       " (70, 87): 33.641923343685704,\n",
       " (68, 73): 44.46609305566954,\n",
       " (64, 66): 4.879036790187178,\n",
       " (73, 74): 10.350000000000001,\n",
       " (66, 71): 13.47268069093898,\n",
       " (67, 97): 88.4318328007348,\n",
       " (67, 81): 27.828800811197965,\n",
       " (71, 81): 65.41684953003418,\n",
       " (71, 75): 3.45,\n",
       " (97, 96): 5.175000000000001,\n",
       " (97, 105): 11.571651783561412,\n",
       " (81, 83): 3.8572172611871376,\n",
       " (91, 109): 153.64379872173222,\n",
       " (91, 117): 43.589749635263765,\n",
       " (87, 113): 62.76114611452175,\n",
       " (87, 93): 23.464457691661156,\n",
       " (75, 74): 1.725,\n",
       " (75, 76): 2.439518395093589,\n",
       " (74, 77): 3.8572172611871376,\n",
       " (77, 76): 2.439518395093589,\n",
       " (77, 78): 3.8572172611871376,\n",
       " (76, 78): 3.8572172611871376,\n",
       " (78, 85): 28.342866089180994,\n",
       " (79, 126): 270.65996242891583,\n",
       " (126, 125): 15.525,\n",
       " (126, 146): 148.48308685383793,\n",
       " (85, 80): 10.492765364764429,\n",
       " (85, 86): 3.45,\n",
       " (83, 90): 19.061035446433536,\n",
       " (83, 96): 55.3343791868629,\n",
       " (82, 100): 80.98199553071225,\n",
       " (100, 107): 14.637110370561533,\n",
       " (100, 101): 3.45,\n",
       " (96, 92): 33.70967640158351,\n",
       " (84, 95): 44.469791841194024,\n",
       " (95, 102): 36.908234643790216,\n",
       " (86, 92): 48.195895340731134,\n",
       " (86, 142): 134.1217148026725,\n",
       " (92, 103): 21.075468327077502,\n",
       " (113, 112): 6.9,\n",
       " (113, 160): 109.1166971879013,\n",
       " (93, 112): 30.95386904474855,\n",
       " (93, 106): 21.078714188830233,\n",
       " (88, 98): 43.540546780119975,\n",
       " (98, 101): 20.786035446433537,\n",
       " (98, 102): 58.831574809720586,\n",
       " (89, 99): 26.384961993202577,\n",
       " (99, 131): 85.00953812320994,\n",
       " (117, 133): 84.08543763263371,\n",
       " (112, 116): 3.8572172611871376,\n",
       " (106, 104): 3.8572172611871376,\n",
       " (106, 116): 12.439151900350764,\n",
       " (102, 114): 18.658727850526148,\n",
       " (105, 143): 131.61167863769163,\n",
       " (105, 119): 30.58950129975229,\n",
       " (101, 107): 17.25,\n",
       " (131, 153): 88.99812995810932,\n",
       " (131, 157): 60.173021535161574,\n",
       " (107, 111): 6.219575950175382,\n",
       " (143, 141): 9.289409292307019,\n",
       " (143, 148): 14.73840646067274,\n",
       " (119, 120): 5.454928963790455,\n",
       " (119, 121): 6.219575950175382,\n",
       " (116, 166): 107.29414178573414,\n",
       " (111, 110): 34.5,\n",
       " (111, 118): 22.02881858461404,\n",
       " (118, 129): 47.603915576830616,\n",
       " (118, 134): 50.4107513574389,\n",
       " (160, 155): 30.72882592951035,\n",
       " (160, 240): 122.97668399104211,\n",
       " (115, 258): 295.15683204885914,\n",
       " (258, 464): 358.8915883963121,\n",
       " (258, 280): 87.11247778046345,\n",
       " (166, 161): 19.31661732189511,\n",
       " (166, 168): 2.439518395093589,\n",
       " (133, 130): 14.839011085648531,\n",
       " (133, 135): 5.454928963790455,\n",
       " (120, 121): 1.725,\n",
       " (120, 122): 1.725,\n",
       " (121, 123): 1.725,\n",
       " (122, 123): 1.725,\n",
       " (122, 162): 83.06918867580177,\n",
       " (123, 132): 25.884400395220197,\n",
       " (162, 163): 5.175000000000001,\n",
       " (162, 180): 25.47904639937641,\n",
       " (132, 124): 24.528714188830232,\n",
       " (132, 174): 81.11174413067371,\n",
       " (146, 269): 346.92919618776347,\n",
       " (146, 167): 43.218978834675596,\n",
       " (127, 172): 98.09182909457625,\n",
       " (172, 145): 50.358287971572956,\n",
       " (172, 184): 15.90371418883023,\n",
       " (128, 136): 30.7512101716811,\n",
       " (136, 137): 10.492765364764429,\n",
       " (136, 139): 6.219575950175382,\n",
       " (153, 157): 80.57786408108312,\n",
       " (153, 186): 62.00731269091282,\n",
       " (157, 283): 229.19140965270083,\n",
       " (174, 163): 15.620539363287046,\n",
       " (174, 181): 6.9,\n",
       " (135, 138): 12.558189559008895,\n",
       " (135, 150): 34.58089702999339,\n",
       " (138, 137): 29.447591975467947,\n",
       " (138, 152): 35.545653081964836,\n",
       " (150, 149): 43.125,\n",
       " (150, 151): 1.725,\n",
       " (137, 140): 16.92268069093898,\n",
       " (152, 147): 24.224677705696106,\n",
       " (152, 154): 3.45,\n",
       " (148, 173): 73.09369341039958,\n",
       " (148, 149): 7.112357204190465,\n",
       " (144, 163): 36.22440840803559,\n",
       " (269, 268): 28.084382686659534,\n",
       " (269, 271): 2.439518395093589,\n",
       " (173, 182): 20.092039334351988,\n",
       " (173, 176): 9.289409292307019,\n",
       " (149, 198): 74.55436916586525,\n",
       " (198, 151): 66.74398449860469,\n",
       " (198, 210): 12.197591975467946,\n",
       " (151, 154): 40.3825817321191,\n",
       " (154, 156): 8.625,\n",
       " (156, 165): 68.50668192977773,\n",
       " (156, 199): 61.218254438073345,\n",
       " (155, 159): 28.159857927580912,\n",
       " (155, 158): 3.8572172611871376,\n",
       " (199, 175): 56.88329385438115,\n",
       " (199, 278): 140.0895959358533,\n",
       " (283, 260): 68.5960214853566,\n",
       " (283, 296): 15.620539363287046,\n",
       " (240, 249): 171.26203346188467,\n",
       " (240, 245): 10.058392018608144,\n",
       " (164, 177): 17.86838743984214,\n",
       " (177, 176): 1.725,\n",
       " (177, 179): 1.725,\n",
       " (168, 169): 17.591617321895107,\n",
       " (168, 170): 3.8572172611871376,\n",
       " (171, 187): 27.283727850526148,\n",
       " (187, 184): 3.8572172611871376,\n",
       " (187, 203): 20.786035446433537,\n",
       " (184, 185): 12.075000000000001,\n",
       " (182, 181): 9.289409292307019,\n",
       " (182, 188): 7.112357204190465,\n",
       " (176, 178): 1.725,\n",
       " (181, 183): 5.454928963790455,\n",
       " (178, 197): 26.216617321895107,\n",
       " (178, 179): 1.725,\n",
       " (179, 211): 82.0566706604305,\n",
       " (197, 188): 25.61427970809828,\n",
       " (197, 200): 3.45,\n",
       " (211, 209): 2.439518395093589,\n",
       " (211, 214): 6.219575950175382,\n",
       " (183, 185): 22.704928963790458,\n",
       " (183, 190): 7.714434522374275,\n",
       " (188, 190): 5.454928963790455,\n",
       " (185, 189): 5.175000000000001,\n",
       " (190, 191): 3.45,\n",
       " (203, 222): 22.520539363287046,\n",
       " (203, 212): 14.839011085648531,\n",
       " (191, 192): 3.8572172611871376,\n",
       " (191, 194): 3.45,\n",
       " (192, 212): 31.80968221790625,\n",
       " (192, 193): 2.439518395093589,\n",
       " (194, 193): 1.725,\n",
       " (194, 196): 1.725,\n",
       " (212, 213): 3.45,\n",
       " (193, 195): 1.725,\n",
       " (195, 205): 13.907394615814997,\n",
       " (195, 196): 1.725,\n",
       " (196, 206): 14.73840646067274,\n",
       " (205, 206): 5.175000000000001,\n",
       " (205, 224): 21.4595287278707,\n",
       " (206, 220): 14.73840646067274,\n",
       " (200, 220): 29.428431608449046,\n",
       " (200, 207): 16.346913010908587,\n",
       " (210, 209): 15.525,\n",
       " (210, 216): 8.795808660947554,\n",
       " (278, 267): 23.264786891371365,\n",
       " (278, 281): 21.539786891371364,\n",
       " (220, 225): 6.9,\n",
       " (207, 208): 3.45,\n",
       " (207, 227): 38.16818308010865,\n",
       " (201, 218): 20.786035446433537,\n",
       " (218, 217): 6.9,\n",
       " (218, 221): 3.45,\n",
       " (202, 208): 6.219575950175382,\n",
       " (208, 232): 42.14740310425668,\n",
       " (222, 213): 17.6525209392584,\n",
       " (222, 226): 5.454928963790455,\n",
       " (204, 209): 7.318555185280767,\n",
       " (224, 223): 6.9,\n",
       " (224, 230): 6.9,\n",
       " (227, 225): 3.8572172611871376,\n",
       " (227, 233): 8.625,\n",
       " (232, 253): 46.89716732436688,\n",
       " (232, 239): 48.69176620564448,\n",
       " (216, 215): 8.625,\n",
       " (216, 217): 1.725,\n",
       " (213, 223): 18.69622834683567,\n",
       " (223, 250): 42.50114604976581,\n",
       " (217, 228): 13.137208607615243,\n",
       " (228, 221): 8.795808660947554,\n",
       " (228, 247): 37.367171163422235,\n",
       " (221, 219): 29.703714188830233,\n",
       " (225, 231): 11.045389309571664,\n",
       " (226, 236): 49.45336181135698,\n",
       " (226, 254): 46.678431608449046,\n",
       " (250, 254): 8.625,\n",
       " (250, 252): 8.795808660947554,\n",
       " (230, 242): 26.38742598284266,\n",
       " (230, 231): 6.9,\n",
       " (231, 233): 6.219575950175382,\n",
       " (254, 257): 6.9,\n",
       " (233, 234): 3.45,\n",
       " (247, 261): 24.9095287278707,\n",
       " (247, 248): 3.45,\n",
       " (229, 273): 80.14021536349654,\n",
       " (273, 272): 1.725,\n",
       " (273, 275): 1.725,\n",
       " (242, 241): 5.454928963790455,\n",
       " (242, 251): 8.795808660947554,\n",
       " (253, 256): 23.47714409556183,\n",
       " (253, 265): 31.559961993202577,\n",
       " (239, 238): 5.175000000000001,\n",
       " (239, 265): 91.73502931140986,\n",
       " (234, 235): 5.175000000000001,\n",
       " (234, 238): 26.384961993202577,\n",
       " (235, 241): 15.647591975467947,\n",
       " (235, 237): 8.625,\n",
       " (238, 251): 38.995801076487744,\n",
       " (241, 243): 2.439518395093589,\n",
       " (251, 252): 3.8572172611871376,\n",
       " (265, 287): 66.11350385225697,\n",
       " (245, 304): 111.99829332048216,\n",
       " (245, 263): 42.28867618203281,\n",
       " (244, 248): 6.9,\n",
       " (248, 255): 10.058392018608144,\n",
       " (304, 303): 3.45,\n",
       " (304, 319): 36.34299389692851,\n",
       " (246, 261): 37.60325753131025,\n",
       " (261, 266): 12.439151900350764,\n",
       " (252, 259): 18.786431406002176,\n",
       " (259, 257): 7.318555185280767,\n",
       " (259, 264): 8.795808660947554,\n",
       " (257, 299): 96.86429346863585,\n",
       " (299, 300): 10.350000000000001,\n",
       " (299, 319): 17.591617321895107,\n",
       " (464, 463): 1.725,\n",
       " (464, 466): 1.725,\n",
       " (280, 416): 128.26092101119232,\n",
       " (280, 365): 173.73393483103234,\n",
       " (264, 300): 79.80873199922912,\n",
       " (264, 329): 117.004550612682,\n",
       " (266, 262): 10.492765364764429,\n",
       " (266, 284): 49.898263399844105,\n",
       " (300, 324): 27.410176200943027,\n",
       " (329, 287): 123.69165467160738,\n",
       " (329, 331): 3.8572172611871376,\n",
       " (287, 288): 3.45,\n",
       " (284, 282): 14.22471440838093,\n",
       " (284, 286): 3.45,\n",
       " (271, 277): 16.27361745279764,\n",
       " (271, 272): 15.620539363287046,\n",
       " (270, 275): 82.74147648090032,\n",
       " (275, 274): 1.725,\n",
       " (277, 274): 12.439151900350764,\n",
       " (277, 293): 39.411333177056925,\n",
       " (272, 274): 1.725,\n",
       " (276, 298): 66.66064201558483,\n",
       " (298, 293): 5.454928963790455,\n",
       " (298, 317): 17.25,\n",
       " (293, 294): 1.725,\n",
       " (281, 290): 14.73840646067274,\n",
       " (281, 295): 18.71427970809828,\n",
       " (279, 294): 28.90768722999495,\n",
       " (294, 342): 54.88471561460742,\n",
       " (416, 415): 1.725,\n",
       " (416, 419): 1.725,\n",
       " (365, 366): 5.175000000000001,\n",
       " (365, 375): 12.439151900350764,\n",
       " (282, 289): 77.84478815129734,\n",
       " (282, 314): 76.32058089379096,\n",
       " (289, 290): 1.725,\n",
       " (289, 291): 1.725,\n",
       " (290, 292): 1.725,\n",
       " (295, 292): 12.197591975467946,\n",
       " (295, 301): 8.625,\n",
       " (296, 361): 61.80867938253076,\n",
       " (286, 288): 10.90985792758091,\n",
       " (286, 302): 19.814786891371366,\n",
       " (285, 307): 26.805337388818256,\n",
       " (307, 306): 1.725,\n",
       " (307, 309): 1.725,\n",
       " (288, 305): 20.193335424463196,\n",
       " (302, 305): 9.289409292307019,\n",
       " (302, 326): 19.477756624474182,\n",
       " (305, 313): 3.45,\n",
       " (291, 297): 5.175000000000001,\n",
       " (291, 292): 1.725,\n",
       " (342, 341): 6.9,\n",
       " (342, 348): 3.45,\n",
       " (301, 321): 20.44904712296429,\n",
       " (301, 306): 20.193335424463196,\n",
       " (361, 969): 535.7233924188946,\n",
       " (317, 341): 30.167275505421294,\n",
       " (317, 336): 24.699522849777786,\n",
       " (319, 322): 3.45,\n",
       " (324, 322): 10.492765364764429,\n",
       " (324, 388): 52.09161732189511,\n",
       " (321, 308): 15.90371418883023,\n",
       " (321, 399): 84.01795198222827,\n",
       " (306, 308): 1.725,\n",
       " (326, 325): 1.725,\n",
       " (326, 328): 1.725,\n",
       " (303, 392): 154.7284271227004,\n",
       " (303, 412): 152.95972368214314,\n",
       " (392, 391): 1.725,\n",
       " (392, 395): 1.725,\n",
       " (412, 411): 5.175000000000001,\n",
       " (412, 512): 87.18413452349968,\n",
       " (310, 311): 36.311035446433536,\n",
       " (311, 312): 8.625,\n",
       " (311, 350): 48.55903774580452,\n",
       " (313, 312): 1.725,\n",
       " (313, 315): 3.45,\n",
       " (308, 309): 1.725,\n",
       " (309, 316): 30.084528727870705,\n",
       " (312, 315): 3.8572172611871376,\n",
       " (350, 358): 25.05046996880781,\n",
       " (350, 351): 3.45,\n",
       " (350, 377): 18.804305286464956,\n",
       " (315, 325): 11.045389309571664,\n",
       " (325, 327): 1.725,\n",
       " (341, 336): 17.62871418883023,\n",
       " (336, 340): 7.714434522374275,\n",
       " (318, 344): 31.318020945099317,\n",
       " (344, 353): 7.318555185280767,\n",
       " (344, 347): 5.454928963790455,\n",
       " (322, 387): 55.630053303715194,\n",
       " (320, 362): 38.698834583082245,\n",
       " (362, 378): 10.90985792758091,\n",
       " (362, 368): 10.492765364764429,\n",
       " (399, 349): 38.726458435844656,\n",
       " (399, 888): 388.7670143281882,\n",
       " (387, 388): 5.175000000000001,\n",
       " (387, 397): 5.175000000000001,\n",
       " (323, 391): 75.84764149568953,\n",
       " (391, 394): 1.725,\n",
       " (388, 382): 10.90985792758091,\n",
       " (327, 332): 11.571651783561412,\n",
       " (327, 328): 1.725,\n",
       " (328, 343): 31.162173346787952,\n",
       " (332, 352): 15.42886904474855,\n",
       " (332, 343): 32.268501080201595,\n",
       " (343, 364): 22.157566270929298,\n",
       " (333, 334): 15.647591975467947,\n",
       " (333, 330): 13.137208607615243,\n",
       " (333, 338): 5.175000000000001,\n",
       " (334, 339): 6.219575950175382,\n",
       " (334, 335): 3.45,\n",
       " (331, 335): 13.137208607615243,\n",
       " (331, 337): 7.714434522374275,\n",
       " (335, 357): 21.955665555842305,\n",
       " (352, 351): 3.45,\n",
       " (352, 355): 3.8572172611871376,\n",
       " (338, 339): 6.9,\n",
       " (338, 354): 13.47268069093898,\n",
       " (339, 370): 37.003290793746814,\n",
       " (340, 345): 3.8572172611871376,\n",
       " (354, 383): 40.25394113198076,\n",
       " (354, 401): 51.27242588876662,\n",
       " (370, 367): 2.439518395093589,\n",
       " (370, 372): 3.8572172611871376,\n",
       " (345, 347): 22.511035446433535,\n",
       " (348, 360): 10.058392018608144,\n",
       " (364, 650): 207.17755421073923,\n",
       " (364, 826): 381.97454107386017,\n",
       " (353, 347): 10.90985792758091,\n",
       " (353, 359): 20.031135716988697,\n",
       " (346, 367): 14.22471440838093,\n",
       " (367, 372): 3.8572172611871376,\n",
       " (360, 374): 9.289409292307019,\n",
       " (358, 368): 21.358643152620687,\n",
       " (358, 363): 3.8572172611871376,\n",
       " (351, 355): 3.8572172611871376,\n",
       " (377, 499): 93.20427755844001,\n",
       " (377, 386): 7.112357204190465,\n",
       " (355, 386): 25.306051844269383,\n",
       " (359, 366): 18.060057758380637,\n",
       " (359, 371): 7.112357204190465,\n",
       " (383, 382): 3.45,\n",
       " (383, 389): 3.8572172611871376,\n",
       " (401, 389): 8.795808660947554,\n",
       " (401, 423): 17.076628765655123,\n",
       " (368, 378): 16.92268069093898,\n",
       " (386, 500): 82.87434746981201,\n",
       " (356, 373): 14.637110370561533,\n",
       " (373, 408): 42.808944351502525,\n",
       " (373, 385): 9.289409292307019,\n",
       " (366, 381): 12.558189559008895,\n",
       " (374, 409): 23.020523069328483,\n",
       " (374, 405): 26.104986591282945,\n",
       " (969, 888): 139.41983443291204,\n",
       " (969, 1016): 78.79697100189787,\n",
       " (378, 393): 8.795808660947554,\n",
       " (650, 649): 1.725,\n",
       " (650, 652): 1.725,\n",
       " (826, 819): 32.33002378256784,\n",
       " (826, 830): 7.112357204190465,\n",
       " (375, 369): 7.318555185280767,\n",
       " (375, 425): 33.98564585839829,\n",
       " (381, 396): 11.045389309571664,\n",
       " (381, 400): 13.907394615814997,\n",
       " (372, 376): 3.45,\n",
       " (376, 379): 3.45,\n",
       " (376, 380): 3.8572172611871376,\n",
       " (408, 404): 7.112357204190465,\n",
       " (408, 450): 60.52413828110761,\n",
       " (409, 420): 5.175000000000001,\n",
       " (409, 410): 10.350000000000001,\n",
       " (405, 406): 8.625,\n",
       " (405, 410): 1.725,\n",
       " (425, 426): 5.175000000000001,\n",
       " (425, 446): 20.786035446433537,\n",
       " (379, 398): 10.90985792758091,\n",
       " (379, 380): 1.725,\n",
       " (380, 398): 10.492765364764429,\n",
       " (499, 500): 5.175000000000001,\n",
       " (499, 523): 10.492765364764429,\n",
       " (393, 403): 8.625,\n",
       " (398, 402): 3.45,\n",
       " (396, 438): 32.07444190710628,\n",
       " (396, 400): 14.22471440838093,\n",
       " (400, 404): 2.439518395093589,\n",
       " (382, 389): 3.8572172611871376,\n",
       " (384, 415): 21.098246245619737,\n",
       " (415, 418): 1.725,\n",
       " (500, 543): 26.53940929230702,\n",
       " (397, 413): 8.795808660947554,\n",
       " (397, 432): 43.22272095119954,\n",
       " (390, 414): 19.516147160748712,\n",
       " (414, 403): 7.318555185280767,\n",
       " (414, 421): 3.45,\n",
       " (394, 407): 8.625,\n",
       " (394, 395): 1.725,\n",
       " (395, 411): 11.571651783561412,\n",
       " (407, 406): 18.975,\n",
       " (407, 411): 12.558189559008895,\n",
       " (438, 430): 19.31661732189511,\n",
       " (438, 447): 10.058392018608144,\n",
       " (413, 505): 72.7991101945173,\n",
       " (413, 423): 8.625,\n",
       " (432, 568): 94.44765491288217,\n",
       " (432, 443): 8.625,\n",
       " (402, 437): 27.814789231629995,\n",
       " (402, 422): 10.492765364764429,\n",
       " (888, 868): 41.354573782742726,\n",
       " (404, 430): 22.790964410223992,\n",
       " (423, 433): 12.075000000000001,\n",
       " (437, 436): 3.45,\n",
       " (437, 445): 8.625,\n",
       " (430, 457): 21.4595287278707,\n",
       " (406, 417): 10.058392018608144,\n",
       " (410, 417): 3.45,\n",
       " (417, 424): 6.9,\n",
       " (450, 451): 3.45,\n",
       " (450, 455): 8.795808660947554,\n",
       " (420, 431): 32.73702391347038,\n",
       " (420, 427): 7.714434522374275,\n",
       " (512, 522): 10.90985792758091,\n",
       " (512, 548): 24.81725254339591,\n",
       " (505, 506): 5.454928963790455,\n",
       " (505, 507): 5.454928963790455,\n",
       " (421, 440): 20.031135716988697,\n",
       " (418, 502): 158.29626693394292,\n",
       " (418, 419): 1.725,\n",
       " (419, 454): 35.105501356489626,\n",
       " (424, 427): 7.112357204190465,\n",
       " (424, 442): 18.595623721859877,\n",
       " (502, 501): 17.25,\n",
       " (502, 508): 3.45,\n",
       " (454, 518): 73.56373681480109,\n",
       " (454, 535): 47.43796033631974,\n",
       " (431, 444): 15.90371418883023,\n",
       " (431, 439): 3.8572172611871376,\n",
       " (427, 428): 1.725,\n",
       " (440, 490): 31.157394615814997,\n",
       " (433, 507): 59.12269302350583,\n",
       " (433, 574): 87.70209467543492,\n",
       " (442, 452): 8.795808660947554,\n",
       " (442, 453): 12.197591975467946,\n",
       " (446, 448): 1.725,\n",
       " (446, 447): 10.350000000000001,\n",
       " (428, 435): 16.27361745279764,\n",
       " (428, 452): 26.634528727870702,\n",
       " (435, 439): 15.620539363287046,\n",
       " (435, 441): 3.8572172611871376,\n",
       " (452, 460): 5.454928963790455,\n",
       " (429, 436): 8.795808660947554,\n",
       " (436, 516): 59.213934702744346,\n",
       " (457, 467): 26.53940929230702,\n",
       " (457, 485): 18.658727850526144,\n",
       " (434, 455): 45.547122598045256,\n",
       " (455, 458): 9.289409292307019,\n",
       " (444, 439): 15.42886904474855,\n",
       " (444, 449): 4.879036790187178,\n",
       " (568, 567): 6.9,\n",
       " (568, 569): 12.075000000000001,\n",
       " (507, 569): 50.37246698674281,\n",
       " (574, 684): 140.88431626247703,\n",
       " (574, 612): 38.814843701736656,\n",
       " (516, 528): 36.61232357960545,\n",
       " (516, 529): 7.714434522374275,\n",
       " (445, 529): 60.66415817688096,\n",
       " (445, 490): 29.746298143736617,\n",
       " (447, 478): 17.62871418883023,\n",
       " (490, 539): 28.084382686659534,\n",
       " (453, 461): 7.318555185280767,\n",
       " (453, 496): 46.14765428716416,\n",
       " (449, 451): 5.454928963790455,\n",
       " (449, 459): 7.714434522374275,\n",
       " (529, 538): 8.625,\n",
       " (448, 470): 34.998808435968975,\n",
       " (448, 475): 13.907394615814997,\n",
       " (478, 481): 5.454928963790455,\n",
       " (478, 484): 6.219575950175382,\n",
       " (518, 509): 5.454928963790455,\n",
       " (518, 534): 10.492765364764429,\n",
       " (470, 474): 19.061035446433536,\n",
       " (470, 475): 31.145539363287046,\n",
       " (475, 481): 4.879036790187178,\n",
       " (451, 469): 8.625,\n",
       " (459, 473): 14.73840646067274,\n",
       " (459, 469): 9.289409292307019,\n",
       " (469, 480): 6.219575950175382,\n",
       " (460, 473): 46.87347334238909,\n",
       " (460, 461): 3.45,\n",
       " (461, 540): 43.808234643790215,\n",
       " (535, 536): 3.45,\n",
       " (535, 549): 14.637110370561533,\n",
       " (467, 468): 1.725,\n",
       " (467, 471): 1.725,\n",
       " (458, 468): 18.060057758380637,\n",
       " (458, 479): 13.47268069093898,\n",
       " (456, 474): 13.907394615814997,\n",
       " (474, 536): 94.64306102812857,\n",
       " (485, 484): 3.45,\n",
       " (485, 494): 5.454928963790455,\n",
       " (468, 472): 1.725,\n",
       " (479, 480): 6.9,\n",
       " (479, 488): 5.175000000000001,\n",
       " (473, 525): 34.610618979764915,\n",
       " (540, 521): 67.53747183971397,\n",
       " (540, 547): 5.454928963790455,\n",
       " (462, 476): 26.881026614202128,\n",
       " (476, 530): 86.52271418023753,\n",
       " (476, 477): 12.075000000000001,\n",
       " (463, 477): 21.840115313462427,\n",
       " (463, 465): 1.725,\n",
       " (477, 482): 12.558189559008895,\n",
       " (465, 466): 1.725,\n",
       " (465, 483): 8.795808660947554,\n",
       " (466, 491): 51.954029343362045,\n",
       " (483, 482): 5.175000000000001,\n",
       " (483, 486): 19.061035446433536,\n",
       " (491, 492): 10.492765364764429,\n",
       " (471, 511): 31.99718150718636,\n",
       " (471, 472): 1.725,\n",
       " (472, 487): 23.81119327207049,\n",
       " (480, 495): 8.795808660947554,\n",
       " (511, 510): 5.175000000000001,\n",
       " (511, 524): 8.795808660947554,\n",
       " (487, 526): 24.113656814316602,\n",
       " (487, 488): 6.9,\n",
       " (525, 498): 49.23532625465841,\n",
       " (525, 547): 34.92714643582046,\n",
       " (536, 550): 10.90985792758091,\n",
       " (481, 493): 8.625,\n",
       " (530, 531): 27.81813133875499,\n",
       " (530, 613): 73.04224820754119,\n",
       " (482, 532): 98.82250809449118,\n",
       " (484, 493): 7.318555185280767,\n",
       " (488, 498): 10.058392018608144,\n",
       " (495, 503): 22.80371418883023,\n",
       " (495, 498): 1.725,\n",
       " (493, 513): 10.350000000000001,\n",
       " (494, 510): 12.439151900350764,\n",
       " (494, 515): 10.350000000000001,\n",
       " (492, 497): 19.061035446433536,\n",
       " (497, 501): 35.59323258392382,\n",
       " (526, 556): 40.118256578396846,\n",
       " (526, 560): 21.939148930755206,\n",
       " (489, 527): 29.33626366056355,\n",
       " (527, 577): 65.04598969425153,\n",
       " (527, 542): 10.350000000000001,\n",
       " (539, 537): 5.454928963790455,\n",
       " (539, 572): 21.81971585516182,\n",
       " (513, 546): 27.23058168312299,\n",
       " (513, 514): 1.725,\n",
       " (510, 520): 10.058392018608144,\n",
       " (515, 514): 8.625,\n",
       " (515, 520): 2.439518395093589,\n",
       " (523, 572): 50.769420962729335,\n",
       " (523, 543): 15.90371418883023,\n",
       " (543, 570): 15.620539363287046,\n",
       " (508, 533): 88.1985381205811,\n",
       " (508, 762): 215.62200120216949,\n",
       " (504, 521): 26.216617321895107,\n",
       " (521, 522): 8.625,\n",
       " (569, 576): 8.625,\n",
       " (533, 557): 15.90371418883023,\n",
       " (533, 534): 5.175000000000001,\n",
       " (520, 544): 17.336035446433534,\n",
       " (522, 548): 28.670361381877957,\n",
       " (548, 566): 12.558189559008895,\n",
       " (546, 553): 5.454928963790455,\n",
       " (546, 555): 24.49161732189511,\n",
       " (514, 555): 24.703974526085574,\n",
       " (555, 558): 4.879036790187178,\n",
       " (517, 531): 17.25,\n",
       " (531, 554): 14.839011085648531,\n",
       " (534, 549): 70.2674396597,\n",
       " (519, 545): 19.7345287278707,\n",
       " (545, 552): 89.03366018082772,\n",
       " (545, 551): 19.689518395093593,\n",
       " (572, 672): 110.03237878688863,\n",
       " (547, 565): 12.197591975467946,\n",
       " (556, 559): 12.197591975467946,\n",
       " (556, 560): 39.76103544643354,\n",
       " (560, 564): 4.879036790187178,\n",
       " (577, 576): 5.175000000000001,\n",
       " (577, 612): 62.79027172874663,\n",
       " (538, 541): 2.439518395093589,\n",
       " (538, 586): 48.88631098356138,\n",
       " (549, 550): 17.25,\n",
       " (550, 551): 5.175000000000001,\n",
       " (570, 561): 7.318555185280767,\n",
       " (570, 583): 12.075000000000001,\n",
       " (552, 579): 24.033747548404495,\n",
       " (552, 553): 8.625,\n",
       " (551, 614): 72.51972638470419,\n",
       " (553, 562): 8.625,\n",
       " (565, 578): 10.492765364764429,\n",
       " (565, 575): 11.045389309571664,\n",
       " (566, 598): 50.196814129294864,\n",
       " (566, 567): 8.625,\n",
       " (579, 562): 20.062001526967272,\n",
       " (579, 603): 19.91340646067274,\n",
       " (562, 571): 4.879036790187178,\n",
       " (558, 559): 3.45,\n",
       " (558, 563): 3.8572172611871376,\n",
       " (559, 563): 3.8572172611871376,\n",
       " (563, 573): 5.175000000000001,\n",
       " (564, 600): 61.58178227672463,\n",
       " (564, 621): 53.79334630756792,\n",
       " (573, 580): 11.045389309571664,\n",
       " (573, 584): 12.439151900350764,\n",
       " (600, 601): 3.45,\n",
       " (600, 606): 7.112357204190465,\n",
       " (621, 618): 24.57471440838093,\n",
       " (621, 626): 8.795808660947554,\n",
       " (578, 575): 10.90985792758091,\n",
       " (578, 585): 5.175000000000001,\n",
       " (575, 597): 46.008418752795606,\n",
       " (598, 597): 8.625,\n",
       " (598, 610): 27.987058603757443,\n",
       " (567, 581): 12.075000000000001,\n",
       " (581, 588): 10.058392018608144,\n",
       " (581, 582): 5.175000000000001,\n",
       " (576, 582): 19.76093145001737,\n",
       " (583, 663): 96.66051133914016,\n",
       " (583, 625): 51.56835982767783,\n",
       " (672, 667): 13.907394615814997,\n",
       " (672, 686): 12.558189559008895,\n",
       " (580, 668): 101.19796550429022,\n",
       " (580, 587): 13.137208607615243,\n",
       " (584, 587): 3.8572172611871376,\n",
       " (584, 590): 12.197591975467946,\n",
       " (684, 683): 1.725,\n",
       " (684, 685): 10.492765364764429,\n",
       " (612, 619): 5.175000000000001,\n",
       " (597, 609): 16.56401108564853,\n",
       " (582, 592): 10.90985792758091,\n",
       " (585, 601): 40.80047298016877,\n",
       " (585, 593): 8.625,\n",
       " (603, 617): 46.16784245824007,\n",
       " (603, 666): 65.61646218910856,\n",
       " (668, 674): 23.469575950175383,\n",
       " (668, 671): 12.439151900350764,\n",
       " (587, 589): 6.219575950175382,\n",
       " (588, 591): 13.137208607615243,\n",
       " (588, 611): 24.053869044748552,\n",
       " (590, 589): 6.9,\n",
       " (590, 594): 7.714434522374275,\n",
       " (601, 615): 31.0179704849648,\n",
       " (593, 616): 19.814786891371366,\n",
       " (593, 595): 10.492765364764429,\n",
       " (589, 653): 161.96078372230363,\n",
       " (611, 610): 3.45,\n",
       " (611, 624): 21.81971585516182,\n",
       " (653, 640): 8.795808660947554,\n",
       " (653, 645): 16.364786891371363,\n",
       " (594, 599): 3.8572172611871376,\n",
       " (594, 596): 3.8572172611871376,\n",
       " (616, 607): 31.560749854814468,\n",
       " (616, 615): 5.175000000000001,\n",
       " (616, 633): 13.907394615814997,\n",
       " (599, 596): 2.439518395093589,\n",
       " (599, 604): 3.8572172611871376,\n",
       " (596, 604): 3.8572172611871376,\n",
       " (604, 605): 5.454928963790455,\n",
       " (609, 608): 8.625,\n",
       " (609, 627): 45.2936054759854,\n",
       " (610, 627): 12.558189559008895,\n",
       " (606, 626): 26.747353288472635,\n",
       " (606, 622): 12.075000000000001,\n",
       " (615, 623): 6.219575950175382,\n",
       " (602, 608): 12.197591975467946,\n",
       " (608, 607): 3.45,\n",
       " (666, 665): 17.25,\n",
       " (666, 674): 19.31661732189511,\n",
       " (605, 620): 14.73840646067274,\n",
       " (605, 618): 23.208855658273663,\n",
       " (620, 618): 13.907394615814997,\n",
       " (620, 631): 7.112357204190465,\n",
       " (626, 630): 1.725,\n",
       " (622, 623): 29.325000000000003,\n",
       " (622, 630): 22.766617321895108,\n",
       " (607, 634): 25.875,\n",
       " (634, 633): 12.075000000000001,\n",
       " (634, 664): 29.808189559008895,\n",
       " (627, 628): 13.8,\n",
       " (627, 661): 41.04241540007827,\n",
       " (624, 629): 3.8572172611871376,\n",
       " (624, 632): 16.98927970809828,\n",
       " (619, 638): 16.364786891371363,\n",
       " (619, 688): 102.5776191450741,\n",
       " (623, 636): 12.558189559008895,\n",
       " (633, 637): 3.45,\n",
       " (638, 655): 22.704928963790458,\n",
       " (638, 708): 74.61234992359692,\n",
       " (688, 689): 6.9,\n",
       " (688, 701): 20.44904712296429,\n",
       " (630, 635): 9.758073580374356,\n",
       " (636, 640): 3.8572172611871376,\n",
       " (636, 637): 13.8,\n",
       " (628, 629): 6.9,\n",
       " (628, 696): 72.87765276832864,\n",
       " (629, 678): 79.10267927588376,\n",
       " (632, 654): 29.246859454548183,\n",
       " (661, 659): 5.454928963790455,\n",
       " (661, 681): 44.41476461354635,\n",
       " (696, 704): 12.558189559008895,\n",
       " (696, 717): 50.22902934336205,\n",
       " (678, 713): 25.77108505471661,\n",
       " (678, 679): 6.9,\n",
       " (635, 641): 11.045389309571664,\n",
       " (654, 670): 36.17760965472943,\n",
       " (641, 642): 12.075000000000001,\n",
       " (637, 658): 13.8,\n",
       " (640, 643): 17.345539363287045,\n",
       " (658, 657): 10.350000000000001,\n",
       " (658, 677): 41.86474963526377,\n",
       " (708, 700): 15.90371418883023,\n",
       " (708, 709): 3.45,\n",
       " (639, 782): 132.21220481042693,\n",
       " (782, 784): 2.439518395093589,\n",
       " (782, 787): 3.8572172611871376,\n",
       " (643, 642): 1.725,\n",
       " (643, 645): 1.725,\n",
       " (642, 644): 1.725,\n",
       " (644, 656): 7.714434522374275,\n",
       " (644, 645): 1.725,\n",
       " (646, 673): 35.34556417430424,\n",
       " (673, 687): 56.454351944718994,\n",
       " (673, 727): 60.63364209652105,\n",
       " (647, 676): 42.27235328847264,\n",
       " (676, 651): 41.443304069854705,\n",
       " (676, 728): 39.66981415646183,\n",
       " (648, 649): 6.9,\n",
       " (649, 651): 1.725,\n",
       " (651, 652): 1.725,\n",
       " (652, 660): 22.790964410223992,\n",
       " (670, 692): 40.57126092454669,\n",
       " (670, 679): 12.439151900350764,\n",
       " (677, 675): 3.8572172611871376,\n",
       " (677, 680): 6.219575950175382,\n",
       " (681, 680): 3.45,\n",
       " (681, 711): 57.27845134508912,\n",
       " (662, 690): 36.94533151072534,\n",
       " (690, 687): 31.136035446433535,\n",
       " (690, 693): 1.725,\n",
       " (674, 710): 26.045808660947554,\n",
       " (669, 675): 16.56401108564853,\n",
       " (675, 680): 5.454928963790455,\n",
       " (692, 705): 7.112357204190465,\n",
       " (692, 700): 10.058392018608144,\n",
       " (679, 682): 14.22471440838093,\n",
       " (686, 685): 1.725,\n",
       " (686, 693): 10.90985792758091,\n",
       " (687, 694): 3.45,\n",
       " (727, 728): 1.725,\n",
       " (727, 733): 1.725,\n",
       " (710, 720): 13.907394615814997,\n",
       " (710, 750): 26.881026614202128,\n",
       " (728, 734): 1.725,\n",
       " (713, 715): 43.211035446433534,\n",
       " (713, 717): 4.879036790187178,\n",
       " (683, 689): 22.790964410223992,\n",
       " (683, 697): 9.289409292307019,\n",
       " (689, 702): 6.9,\n",
       " (685, 706): 10.90985792758091,\n",
       " (706, 698): 9.289409292307019,\n",
       " (706, 712): 3.45,\n",
       " (693, 698): 3.45,\n",
       " (694, 699): 7.714434522374275,\n",
       " (694, 695): 5.454928963790455,\n",
       " (701, 709): 17.345539363287045,\n",
       " (701, 702): 26.104986591282945,\n",
       " (702, 719): 29.488676512194946,\n",
       " (691, 707): 12.197591975467946,\n",
       " (707, 705): 8.795808660947554,\n",
       " (707, 714): 3.45,\n",
       " (705, 700): 10.492765364764429,\n",
       " (698, 774): 103.54327689871376,\n",
       " (717, 745): 16.364786891371363,\n",
       " (774, 785): 9.289409292307019,\n",
       " (774, 775): 5.175000000000001,\n",
       " (709, 721): 10.350000000000001,\n",
       " (719, 712): 11.571651783561412,\n",
       " (719, 725): 11.571651783561412,\n",
       " (703, 720): 19.286086305935687,\n",
       " (720, 737): 8.625,\n",
       " (712, 725): 10.350000000000001,\n",
       " (714, 715): 5.454928963790455,\n",
       " (714, 718): 4.879036790187178,\n",
       " (721, 723): 5.454928963790455,\n",
       " (721, 729): 24.49161732189511,\n",
       " (750, 746): 19.35371418883023,\n",
       " (750, 966): 171.7124646499706,\n",
       " (725, 732): 3.8572172611871376,\n",
       " (715, 735): 10.492765364764429,\n",
       " (735, 722): 32.95657480972058,\n",
       " (735, 773): 98.52652244644489,\n",
       " (716, 731): 8.795808660947554,\n",
       " (731, 730): 3.45,\n",
       " (731, 742): 31.560749854814468,\n",
       " (737, 758): 22.762089983246,\n",
       " (737, 749): 8.625,\n",
       " (724, 729): 21.840115313462427,\n",
       " (724, 736): 3.45,\n",
       " (724, 730): 3.8572172611871376,\n",
       " (729, 738): 5.175000000000001,\n",
       " (722, 752): 19.72361745279764,\n",
       " (722, 723): 3.45,\n",
       " (723, 753): 17.591617321895107,\n",
       " (753, 754): 3.45,\n",
       " (753, 766): 34.96041061323124,\n",
       " (736, 730): 3.8572172611871376,\n",
       " (736, 741): 3.45,\n",
       " (732, 726): 13.907394615814997,\n",
       " (732, 742): 5.175000000000001,\n",
       " (733, 734): 1.725,\n",
       " (733, 743): 6.219575950175382,\n",
       " (734, 783): 44.372638507550015,\n",
       " (738, 754): 24.708860391176657,\n",
       " (738, 739): 5.175000000000001,\n",
       " (742, 761): 37.472004152558505,\n",
       " (743, 756): 18.33700152696727,\n",
       " (743, 757): 15.90371418883023,\n",
       " (783, 786): 13.907394615814997,\n",
       " (783, 800): 19.356784557790625,\n",
       " (773, 744): 37.4433354244632,\n",
       " (773, 858): 70.86173642418714,\n",
       " (741, 740): 3.45,\n",
       " (741, 771): 52.02023424164053,\n",
       " (758, 751): 24.71747977314536,\n",
       " (758, 759): 7.112357204190465,\n",
       " (754, 770): 14.73840646067274,\n",
       " (739, 740): 12.075000000000001,\n",
       " (739, 755): 20.062001526967272,\n",
       " (740, 755): 12.558189559008895,\n",
       " (755, 764): 11.045389309571664,\n",
       " (771, 780): 13.137208607615243,\n",
       " (771, 789): 17.076628765655123,\n",
       " (761, 795): 46.489904890549724,\n",
       " (761, 803): 24.362357204190467,\n",
       " (756, 775): 23.48454120992243,\n",
       " (756, 798): 30.073617452797638,\n",
       " (747, 765): 17.25,\n",
       " (765, 766): 1.725,\n",
       " (765, 768): 1.725,\n",
       " (748, 860): 115.93307365855676,\n",
       " (860, 859): 8.795808660947554,\n",
       " (860, 864): 1.725,\n",
       " (766, 769): 1.725,\n",
       " (770, 764): 45.46814447062947,\n",
       " (770, 779): 8.625,\n",
       " (764, 780): 27.475365972391643,\n",
       " (775, 797): 26.410662869209943,\n",
       " (798, 797): 5.175000000000001,\n",
       " (798, 800): 8.795808660947554,\n",
       " (759, 767): 13.907394615814997,\n",
       " (759, 777): 13.47268069093898,\n",
       " (767, 776): 3.8572172611871376,\n",
       " (767, 777): 4.879036790187178,\n",
       " (777, 781): 6.219575950175382,\n",
       " (760, 784): 30.199113893553342,\n",
       " (784, 787): 3.8572172611871376,\n",
       " (795, 806): 8.625,\n",
       " (795, 796): 10.350000000000001,\n",
       " (803, 794): 10.90985792758091,\n",
       " (803, 811): 5.454928963790455,\n",
       " ...}"
      ]
     },
     "execution_count": 70,
     "metadata": {},
     "output_type": "execute_result"
    }
   ],
   "source": [
    "length_info"
   ]
  },
  {
   "cell_type": "code",
   "execution_count": 72,
   "metadata": {},
   "outputs": [],
   "source": [
    "begin=[]\n",
    "end = []\n",
    "begin_pos = []\n",
    "end_pos = []\n",
    "length = []\n",
    "width = []\n",
    "for edge in nx_graph.edges:\n",
    "    begin.append(edge[0])\n",
    "    end.append(edge[1])\n",
    "    begin_pos.append(pos[edge[0]])\n",
    "    end_pos.append(pos[edge[1]])    \n",
    "    length.append(length_info[edge])\n",
    "    width.append(width_info[edge])"
   ]
  },
  {
   "cell_type": "code",
   "execution_count": 75,
   "metadata": {},
   "outputs": [
    {
     "name": "stderr",
     "output_type": "stream",
     "text": [
      "C:\\Users\\coren\\anaconda3\\envs\\cleanMsc\\lib\\site-packages\\ipykernel_launcher.py:2: VisibleDeprecationWarning: Creating an ndarray from ragged nested sequences (which is a list-or-tuple of lists-or-tuples-or ndarrays with different lengths or shapes) is deprecated. If you meant to do this, you must specify 'dtype=object' when creating the ndarray\n",
      "  \n"
     ]
    }
   ],
   "source": [
    "data = pd.DataFrame(np.array((begin,end,begin_pos,end_pos,length,width)).transpose(),columns=['begin','end','begin_pos','end_pos','length','width'])"
   ]
  },
  {
   "cell_type": "code",
   "execution_count": 78,
   "metadata": {},
   "outputs": [],
   "source": [
    "data.to_csv(path.split('.')[0]+'.csv')"
   ]
  }
 ],
 "metadata": {
  "kernelspec": {
   "display_name": "Python 3",
   "language": "python",
   "name": "python3"
  },
  "language_info": {
   "codemirror_mode": {
    "name": "ipython",
    "version": 3
   },
   "file_extension": ".py",
   "mimetype": "text/x-python",
   "name": "python",
   "nbconvert_exporter": "python",
   "pygments_lexer": "ipython3",
   "version": "3.7.9"
  }
 },
 "nbformat": 4,
 "nbformat_minor": 4
}
