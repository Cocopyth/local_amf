{
 "cells": [
  {
   "cell_type": "code",
   "execution_count": 3,
   "metadata": {},
   "outputs": [],
   "source": [
    "import imageio \n",
    "import numpy as np\n",
    "import matplotlib.pyplot as plt\n",
    "import cv2\n",
    "# %matplotlib widget\n",
    "import sys\n",
    "from scipy import sparse\n",
    "from skimage.measure import profile_line\n",
    "import pandas as pd\n",
    "from tqdm.autonotebook import tqdm\n",
    "import networkx as nx\n",
    "import pandas as pd\n",
    "from collections import Counter"
   ]
  },
  {
   "cell_type": "code",
   "execution_count": 4,
   "metadata": {},
   "outputs": [],
   "source": [
    "def order_pixel(pixel_begin, pixel_end, pixel_list):\n",
    "    def get_neighbours(pixel):\n",
    "        x = pixel[0]\n",
    "        y = pixel[1]\n",
    "        primary_neighbours = {(x + 1, y), (x - 1, y), (x, y + 1), (x, y - 1)}\n",
    "        secondary_neighbours = {\n",
    "            (x + 1, y - 1),\n",
    "            (x + 1, y + 1),\n",
    "            (x - 1, y + 1),\n",
    "            (x - 1, y - 1),\n",
    "        }\n",
    "        num_neighbours = 0\n",
    "        actual_neighbours = set()\n",
    "        for neighbour in primary_neighbours:\n",
    "            if neighbour in pixel_list:\n",
    "                xp = neighbour[0]\n",
    "                yp = neighbour[1]\n",
    "                primary_neighboursp = {\n",
    "                    (xp + 1, yp),\n",
    "                    (xp - 1, yp),\n",
    "                    (xp, yp + 1),\n",
    "                    (xp, yp - 1),\n",
    "                }\n",
    "                for neighbourp in primary_neighboursp:\n",
    "                    secondary_neighbours.discard(neighbourp)\n",
    "                actual_neighbours.add(neighbour)\n",
    "        for neighbour in secondary_neighbours:\n",
    "            if neighbour in pixel_list:\n",
    "                actual_neighbours.add(neighbour)\n",
    "        return actual_neighbours\n",
    "\n",
    "    ordered_list = [pixel_begin]\n",
    "    current_pixel = pixel_begin\n",
    "    precedent_pixel = pixel_begin\n",
    "    while current_pixel != pixel_end:\n",
    "        neighbours = get_neighbours(current_pixel)\n",
    "        neighbours.discard(precedent_pixel)\n",
    "        precedent_pixel = current_pixel\n",
    "        current_pixel = neighbours.pop()\n",
    "        ordered_list.append(current_pixel)\n",
    "    return ordered_list\n",
    "\n",
    "\n",
    "def extract_branches(doc_skel):\n",
    "    def get_neighbours(pixel):\n",
    "        x = pixel[0]\n",
    "        y = pixel[1]\n",
    "        primary_neighbours = {(x + 1, y), (x - 1, y), (x, y + 1), (x, y - 1)}\n",
    "        secondary_neighbours = {\n",
    "            (x + 1, y - 1),\n",
    "            (x + 1, y + 1),\n",
    "            (x - 1, y + 1),\n",
    "            (x - 1, y - 1),\n",
    "        }\n",
    "        num_neighbours = 0\n",
    "        actual_neighbours = []\n",
    "        for neighbour in primary_neighbours:\n",
    "            if neighbour in non_zero_pixel:\n",
    "                num_neighbours += 1\n",
    "                xp = neighbour[0]\n",
    "                yp = neighbour[1]\n",
    "                primary_neighboursp = {\n",
    "                    (xp + 1, yp),\n",
    "                    (xp - 1, yp),\n",
    "                    (xp, yp + 1),\n",
    "                    (xp, yp - 1),\n",
    "                }\n",
    "                for neighbourp in primary_neighboursp:\n",
    "                    secondary_neighbours.discard(neighbourp)\n",
    "                actual_neighbours.append(neighbour)\n",
    "        for neighbour in secondary_neighbours:\n",
    "            if neighbour in non_zero_pixel:\n",
    "                num_neighbours += 1\n",
    "                actual_neighbours.append(neighbour)\n",
    "        return (actual_neighbours, num_neighbours)\n",
    "\n",
    "    pixel_branch_dic = {pixel: set() for pixel in doc_skel.keys()}\n",
    "    is_node = {pixel: False for pixel in doc_skel.keys()}\n",
    "    pixel_set = set(doc_skel.keys())\n",
    "    non_zero_pixel = doc_skel\n",
    "    new_index = 1\n",
    "    non_explored_direction = set()\n",
    "    while len(pixel_set) > 0:\n",
    "        is_new_start = len(non_explored_direction) == 0\n",
    "        if is_new_start:\n",
    "            pixel = pixel_set.pop()\n",
    "        else:\n",
    "            pixel = non_explored_direction.pop()\n",
    "        actual_neighbours, num_neighbours = get_neighbours(pixel)\n",
    "        if is_new_start:\n",
    "            if num_neighbours == 2:\n",
    "                new_index += 1\n",
    "                pixel_branch_dic[pixel] = {new_index}\n",
    "        is_node[pixel] = num_neighbours in [0, 1, 3, 4]\n",
    "        pixel_set.discard(pixel)\n",
    "        #!!! This is to solve the two neighbours nodes problem\n",
    "        if is_node[pixel]:\n",
    "            for neighbour in actual_neighbours:\n",
    "                if is_node[neighbour]:\n",
    "                    new_index += 1\n",
    "                    pixel_branch_dic[pixel].add(new_index)\n",
    "                    pixel_branch_dic[neighbour].add(new_index)\n",
    "            continue\n",
    "        else:\n",
    "            for neighbour in actual_neighbours:\n",
    "                if neighbour in pixel_set:\n",
    "                    non_explored_direction.add(neighbour)\n",
    "                pixel_branch_dic[neighbour] = pixel_branch_dic[neighbour].union(\n",
    "                    pixel_branch_dic[pixel]\n",
    "                )\n",
    "    return (pixel_branch_dic, is_node, new_index)\n",
    "\n",
    "def generate_set_node(graph_tab):\n",
    "    nodes = set()\n",
    "    for index, row in graph_tab.iterrows():\n",
    "        nodes.add(row[\"origin\"])\n",
    "        nodes.add(row[\"end\"])\n",
    "    return sorted(nodes)\n",
    "\n",
    "\n",
    "def generate_nx_graph(graph_tab, labeled=False):\n",
    "    G = nx.Graph()\n",
    "    pos = {}\n",
    "    if not labeled:\n",
    "        nodes = generate_set_node(graph_tab)\n",
    "    for index, row in graph_tab.iterrows():\n",
    "        if labeled:\n",
    "            identifier1 = row[\"origin_label\"]\n",
    "            identifier2 = row[\"end_label\"]\n",
    "            pos[identifier1] = np.array(row[\"origin_pos\"]).astype(np.int)\n",
    "            pos[identifier2] = np.array(row[\"end_pos\"]).astype(np.int)\n",
    "        else:\n",
    "            identifier1 = nodes.index(row[\"origin\"])\n",
    "            identifier2 = nodes.index(row[\"end\"])\n",
    "            pos[identifier1] = np.array(row[\"origin\"]).astype(np.int)\n",
    "            pos[identifier2] = np.array(row[\"end\"]).astype(np.int)\n",
    "        info = {\"weight\": len(row[\"pixel_list\"]), \"pixel_list\": row[\"pixel_list\"]}\n",
    "        G.add_edges_from([(identifier1, identifier2, info)])\n",
    "    return (G, pos)\n",
    "\n",
    "def from_sparse_to_graph(doc_skel):\n",
    "    column_names = [\"origin\", \"end\", \"pixel_list\"]\n",
    "    graph = pd.DataFrame(columns=column_names)\n",
    "    pixel_branch_dic, is_node, new_index = extract_branches(doc_skel)\n",
    "    nodes = []\n",
    "    edges = {}\n",
    "    for pixel in pixel_branch_dic:\n",
    "        for branch in pixel_branch_dic[pixel]:\n",
    "            right_branch = branch\n",
    "            if right_branch not in edges.keys():\n",
    "                edges[right_branch] = {\"origin\": [], \"end\": [], \"pixel_list\": [[]]}\n",
    "            if is_node[pixel]:\n",
    "                if len(edges[right_branch][\"origin\"]) == 0:\n",
    "                    edges[right_branch][\"origin\"] = [pixel]\n",
    "                else:\n",
    "                    edges[right_branch][\"end\"] = [pixel]\n",
    "            edges[right_branch][\"pixel_list\"][0].append(pixel)\n",
    "    for branch in edges:\n",
    "        if len(edges[branch][\"origin\"]) > 0 and len(edges[branch][\"end\"]) > 0:\n",
    "            graph = graph.append(pd.DataFrame(edges[branch]), ignore_index=True)\n",
    "    for index, row in graph.iterrows():\n",
    "        row[\"pixel_list\"] = order_pixel(row[\"origin\"], row[\"end\"], row[\"pixel_list\"])\n",
    "    return graph\n"
   ]
  },
  {
   "cell_type": "code",
   "execution_count": 6,
   "metadata": {},
   "outputs": [],
   "source": [
    "# from amftrack.pipeline.functions.image_processing.extract_width_fun import *\n",
    "pixel_conversion_factor = 1/12.3\n",
    "# pixel_conversion_factor = 1\n",
    "\n",
    "def get_width_pixel(edge,index,im,pivot,before,after,size = 20,width_factor = 10,averaging_size = 100,threshold_averaging = 10):\n",
    "    imtab=im\n",
    "    orientation=np.array(before)-np.array(after)\n",
    "    perpendicular = [1,-orientation[0]/orientation[1]] if orientation[1]!=0 else [0,1]\n",
    "    perpendicular_norm=np.array(perpendicular)/np.sqrt(perpendicular[0]**2+perpendicular[1]**2)\n",
    "    point1=np.around(np.array(pivot)+width_factor*perpendicular_norm)\n",
    "    point2=np.around(np.array(pivot)-width_factor*perpendicular_norm)\n",
    "    point1=point1.astype(int)\n",
    "    point2=point2.astype(int)\n",
    "    p = profile_line(imtab, point1, point2,mode='constant')\n",
    "    xdata = np.array(range(len(p)))\n",
    "    ydata = np.array(p)\n",
    "#     print(p)\n",
    "    background = 0.5\n",
    "    arg = len(p)//2\n",
    "    l1,l2 = [i+arg for i in range(len(p[arg:])) if p[arg+i]==255],[arg-i for i in range(len(p[:arg])) if p[arg-i]==255]\n",
    "    if len(l1)==0 or len(l2)==0:\n",
    "        return(-1)\n",
    "    else:\n",
    "        arg_max = min(l1)\n",
    "        arg_min = max(l2)\n",
    "        width_pix = arg_max-arg_min\n",
    "        return(width_pix)\n",
    "\n",
    "def get_width_edge(edge,graph,im,resolution,local=False, threshold_averaging = 10):\n",
    "    pixel_list = graph.get_edge_data(edge[0], edge[1])[\"pixel_list\"]\n",
    "    pixels = []\n",
    "    indexes = []\n",
    "    poss = []\n",
    "    widths={}\n",
    "    if len(pixel_list)>3*resolution:\n",
    "        for i in range(0,len(pixel_list)//resolution):\n",
    "            index = i*resolution\n",
    "            indexes.append(index)\n",
    "            pixel = pixel_list[index]\n",
    "            pixels.append(pixel)\n",
    "            poss.append(pixel)\n",
    "    else:\n",
    "        indexes = [0,len(pixel_list)//2,len(pixel_list)-1]\n",
    "        for index in indexes:\n",
    "            pixel = pixel_list[index]\n",
    "            pixels.append(pixel)\n",
    "            poss.append(pixel)\n",
    "#     print(indexes)\n",
    "    for i, index in enumerate(indexes[1:-1]):\n",
    "        source_img = im\n",
    "        pivot = poss[i+1]\n",
    "        before = poss[i]\n",
    "        after = poss[i+2]\n",
    "        width = get_width_pixel(edge,index,source_img,pivot,before,after,threshold_averaging = threshold_averaging)\n",
    "        widths[pixel_list[index]]=-1 if width==-1 else width*pixel_conversion_factor \n",
    "    return(widths)    \n",
    "\n",
    "def get_length_um(edge,graph):\n",
    "    pixels = graph.get_edge_data(edge[0], edge[1])[\"pixel_list\"]\n",
    "    length_edge = 0\n",
    "    for i in range(len(pixels) // 10 + 1):\n",
    "        if i * 10 <= len(pixels) - 1:\n",
    "            length_edge += np.linalg.norm(\n",
    "                np.array(pixels[i * 10])\n",
    "                - np.array(pixels[min((i + 1) * 10, len(pixels) - 1)])\n",
    "            )\n",
    "    #         length_edge+=np.linalg.norm(np.array(pixels[len(pixels)//10-1*10-1])-np.array(pixels[-1]))\n",
    "    return length_edge * pixel_conversion_factor\n",
    "\n",
    "def get_width_info(graph,im,resolution = 10):\n",
    "    edge_width={}\n",
    "    for edge in graph.edges:\n",
    "        list_widths = list(get_width_edge(edge,graph,im,resolution).values()) \n",
    "        mean = -1 if -1 in list_widths else np.mean(list_widths)\n",
    "        edge_width[edge]=mean\n",
    "    return(edge_width)\n",
    "\n",
    "def get_length_info(graph,im,resolution = 10):\n",
    "    edge_length={}\n",
    "    for edge in graph.edges:\n",
    "        edge_length[edge]=get_length_um(edge,graph)\n",
    "    return(edge_length)"
   ]
  },
  {
   "cell_type": "code",
   "execution_count": 7,
   "metadata": {},
   "outputs": [],
   "source": [
    "def analyse_root_img(paths):\n",
    "    begin=[]\n",
    "    end = []\n",
    "    begin_pos = []\n",
    "    end_pos = []\n",
    "    length = []\n",
    "    width = []\n",
    "    ids = []\n",
    "    with tqdm(total=len(paths), desc=\"analyzing roots\", leave=False) as pbar:\n",
    "        for path in paths:\n",
    "            path_relative = path.split(\"\\\\\")[-1]\n",
    "            im = imageio.imread(path)  \n",
    "            gray = cv2.cvtColor(im,cv2.COLOR_BGR2GRAY)   \n",
    "            skeletonized = cv2.ximgproc.thinning(255-gray)\n",
    "            skeleton = sparse.dok_matrix(skeletonized)\n",
    "            nx_graph, pos = generate_nx_graph(from_sparse_to_graph(skeleton))\n",
    "            width_info = get_width_info(nx_graph,gray)\n",
    "            length_info = get_length_info(nx_graph,gray)    \n",
    "            canva = np.zeros((*gray.shape,4))\n",
    "            for edge in width_info.keys():\n",
    "                pixel_list = nx_graph.get_edge_data(edge[0], edge[1])[\"pixel_list\"]\n",
    "                for pixel in pixel_list:\n",
    "                    canva[pixel[0],pixel[1],:] = np.array(plt.get_cmap('jet')(int(400*width_info[edge])))\n",
    "            plt.close(\"all\")\n",
    "            plt.clf()\n",
    "            fig, ax = plt.subplots()\n",
    "            kernel = np.ones((5,5),np.uint8)\n",
    "\n",
    "            ax.imshow(cv2.dilate(canva,kernel,iterations = 1))\n",
    "            ax.imshow(gray,alpha = 0.2)\n",
    "            plt.savefig('extracted/'+path_relative.split('.')[0]+'_overlay.png',dpi=300)\n",
    "            for edge in nx_graph.edges:\n",
    "                begin.append(edge[0])\n",
    "                end.append(edge[1])\n",
    "                begin_pos.append(pos[edge[0]])\n",
    "                end_pos.append(pos[edge[1]])    \n",
    "                length.append(length_info[edge])\n",
    "                width.append(width_info[edge])\n",
    "                ids.append(path_relative)\n",
    "            pbar.update(1)\n",
    "    data = pd.DataFrame(np.array((ids,begin,end,begin_pos,end_pos,length,width)).transpose(),columns=['id','begin','end','begin_pos','end_pos','length','width'])\n",
    "    data.to_csv('width_length_total.csv')    "
   ]
  },
  {
   "cell_type": "markdown",
   "metadata": {},
   "source": [
    "***If you select the right path, this should work*** \n",
    "\n",
    "Extracted images should be saved in extracted in the same folder...\n",
    "Adapt paths according to you environment..."
   ]
  },
  {
   "cell_type": "code",
   "execution_count": 9,
   "metadata": {},
   "outputs": [
    {
     "name": "stdout",
     "output_type": "stream",
     "text": [
      "464\n"
     ]
    }
   ],
   "source": [
    "from os import listdir\n",
    "from os.path import isfile, join\n",
    "mypath = 'Roots_Coco'\n",
    "paths = [join(mypath, f) for f in listdir(mypath) if isfile(join(mypath, f))]\n",
    "print(len(paths))\n",
    "# paths = [path for path in paths if not isfile('extracted/'+path.split(\"\\\\\")[-1].split('.')[0]+'_overlay.png')]\n",
    "# len(paths)"
   ]
  },
  {
   "cell_type": "code",
   "execution_count": 10,
   "metadata": {},
   "outputs": [
    {
     "data": {
      "application/vnd.jupyter.widget-view+json": {
       "model_id": "",
       "version_major": 2,
       "version_minor": 0
      },
      "text/plain": [
       "analyzing roots:   0%|          | 0/1 [00:00<?, ?it/s]"
      ]
     },
     "metadata": {},
     "output_type": "display_data"
    },
    {
     "name": "stderr",
     "output_type": "stream",
     "text": [
      "C:\\Users\\coren\\anaconda3\\envs\\cleanMsc\\lib\\site-packages\\ipykernel_launcher.py:41: VisibleDeprecationWarning: Creating an ndarray from ragged nested sequences (which is a list-or-tuple of lists-or-tuples-or ndarrays with different lengths or shapes) is deprecated. If you meant to do this, you must specify 'dtype=object' when creating the ndarray\n"
     ]
    },
    {
     "data": {
      "text/plain": [
       "<Figure size 432x288 with 0 Axes>"
      ]
     },
     "metadata": {},
     "output_type": "display_data"
    },
    {
     "data": {
      "image/png": "[encoded data removed]",
      "text/plain": [
       "<Figure size 432x288 with 1 Axes>"
      ]
     },
     "metadata": {
      "needs_background": "light"
     },
     "output_type": "display_data"
    }
   ],
   "source": [
    "analyse_root_img(paths[:1])"
   ]
  },
  {
   "cell_type": "code",
   "execution_count": 9,
   "metadata": {},
   "outputs": [
    {
     "data": {
      "application/vnd.jupyter.widget-view+json": {
       "model_id": "72c14de4fb80456695ff6d17957215fe",
       "version_major": 2,
       "version_minor": 0
      },
      "text/plain": [
       "Canvas(toolbar=Toolbar(toolitems=[('Home', 'Reset original view', 'home', 'home'), ('Back', 'Back to previous …"
      ]
     },
     "metadata": {},
     "output_type": "display_data"
    }
   ],
   "source": [
    "plt.close(\"all\")\n",
    "fig, ax = plt.subplots()\n",
    "ax.imshow(gray)\n",
    "# for node in pos.keys():\n",
    "#     ax.scatter(pos[node][1],pos[node][0])    \n",
    "for edge in width_info.keys():\n",
    "    ax.plot((pos[edge[0]][1],pos[edge[1]][1]),(pos[edge[0]][0],pos[edge[1]][0]),color = plt.get_cmap('jet')(int(20*width_info[edge])))"
   ]
  },
  {
   "cell_type": "code",
   "execution_count": 87,
   "metadata": {},
   "outputs": [],
   "source": [
    "canva = np.zeros((*gray.shape,4))\n",
    "for edge in width_info.keys():\n",
    "    pixel_list = nx_graph.get_edge_data(edge[0], edge[1])[\"pixel_list\"]\n",
    "    for pixel in pixel_list:\n",
    "        canva[pixel[0],pixel[1],:] = np.array(plt.get_cmap('jet')(int(20*width_info[edge])))"
   ]
  },
  {
   "cell_type": "code",
   "execution_count": 86,
   "metadata": {},
   "outputs": [
    {
     "data": {
      "application/vnd.jupyter.widget-view+json": {
       "model_id": "42a680fc95394c70ade3a3e1b1f06258",
       "version_major": 2,
       "version_minor": 0
      },
      "text/plain": [
       "Canvas(toolbar=Toolbar(toolitems=[('Home', 'Reset original view', 'home', 'home'), ('Back', 'Back to previous …"
      ]
     },
     "metadata": {},
     "output_type": "display_data"
    },
    {
     "data": {
      "text/plain": [
       "<matplotlib.image.AxesImage at 0x1852f1b61c8>"
      ]
     },
     "execution_count": 86,
     "metadata": {},
     "output_type": "execute_result"
    }
   ],
   "source": [
    "plt.close(\"all\")\n",
    "fig, ax = plt.subplots()\n",
    "kernel = np.ones((5,5),np.uint8)\n",
    "\n",
    "ax.imshow(cv2.dilate(canva,kernel,iterations = 1))\n",
    "ax.imshow(gray,alpha = 0.2)\n"
   ]
  }
 ],
 "metadata": {
  "kernelspec": {
   "display_name": "Python 3",
   "language": "python",
   "name": "python3"
  },
  "language_info": {
   "codemirror_mode": {
    "name": "ipython",
    "version": 3
   },
   "file_extension": ".py",
   "mimetype": "text/x-python",
   "name": "python",
   "nbconvert_exporter": "python",
   "pygments_lexer": "ipython3",
   "version": "3.7.9"
  }
 },
 "nbformat": 4,
 "nbformat_minor": 4
}
