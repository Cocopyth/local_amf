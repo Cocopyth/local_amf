{
 "cells": [
  {
   "cell_type": "code",
   "execution_count": 1,
   "metadata": {},
   "outputs": [],
   "source": [
    "import pandas as pd\n",
    "import matplotlib.pyplot as plt\n",
    "\n",
    "%matplotlib widget\n",
    "plt.close('all')\n",
    "import numpy as np\n",
    "from random import choice\n",
    "import os\n",
    "import scipy as sp\n",
    "import scipy.fftpack\n",
    "from scipy.interpolate import interp1d\n",
    "from sklearn.linear_model import LinearRegression\n",
    "from scipy.signal import savgol_filter\n"
   ]
  },
  {
   "cell_type": "code",
   "execution_count": 2,
   "metadata": {},
   "outputs": [],
   "source": [
    "def get_branch(row):\n",
    "    if row['Plate']==94:\n",
    "        hyph = row['end']\n",
    "        name = f'branches/ts_{hyph}_auto.npy'\n",
    "        if not os.path.isfile(name):\n",
    "            return(None)\n",
    "        else:\n",
    "            t_real = np.load(name)\n",
    "            return(row['time_since_emergence'] in t_real)"
   ]
  },
  {
   "cell_type": "code",
   "execution_count": 3,
   "metadata": {},
   "outputs": [],
   "source": [
    "time_plate_info = pd.read_pickle(\"time_plate_infos.pick\")\n",
    "global_hypha_info = pd.read_pickle(\"global_hypha_info.pick\")\n",
    "time_hypha_info = pd.read_pickle(\"time_hypha_infos.pick\")\n",
    "global_hypha_info['lapse']=global_hypha_info['time_stop_growth']-global_hypha_info['time_init_growth']\n",
    "time_hypha_info['distance_final_pos_smooth'] = time_hypha_info['distance_final_pos'].rolling(window = 5).mean()\n",
    "time_hypha_info['new_branch'] = time_hypha_info.apply(get_branch, axis=1)"
   ]
  },
  {
   "cell_type": "code",
   "execution_count": 4,
   "metadata": {},
   "outputs": [],
   "source": [
    "plate = 94\n",
    "select_time_plate = time_plate_info.loc[time_plate_info['Plate']==plate]\n",
    "select_time = time_hypha_info.loc[time_hypha_info['Plate']==plate]\n",
    "select_global = global_hypha_info.loc[global_hypha_info['Plate']==plate]\n",
    "select_global = select_global.loc[select_global['lapse']>10]\n",
    "hyphae_interest= select_global['hypha'].unique()\n",
    "# hyphae_select= [hyph for hyph in hyphae_interest if len(select_time.loc[(select_time['end']==hyph)&(select_time['has_reached_final_pos']=='False')])]\n",
    "select_time = select_time.loc[select_time['end'].isin(hyphae_interest)]\n",
    "# select_time = select_time.loc[select_time['has_reached_final_pos']=='False']\n",
    "select_time = select_time.loc[select_time['speed'].between(0,400)]\n",
    "select_time = select_time.loc[select_time['distance_final_pos']>100]\n",
    "\n",
    "select_time = select_time.loc[select_time['in_ROI']=='True']"
   ]
  },
  {
   "cell_type": "code",
   "execution_count": 5,
   "metadata": {},
   "outputs": [],
   "source": [
    "actual_list_hyph = list(np.load('actual_list_hyph.npy'))\n",
    "actual_list_hyph.remove(57138)\n"
   ]
  },
  {
   "cell_type": "code",
   "execution_count": 6,
   "metadata": {},
   "outputs": [],
   "source": [
    "total_deltas = []\n",
    "fig = plt.figure(figsize=(8,8))\n",
    "ax = fig.add_subplot(111)\n",
    "for hyph in actual_list_hyph:\n",
    "    t_real = np.load(f'branches/ts_{hyph}_auto.npy')\n",
    "    t_real.sort()\n",
    "    deltas = np.diff(t_real)    \n",
    "    total_deltas += list(deltas)"
   ]
  },
  {
   "cell_type": "code",
   "execution_count": 7,
   "metadata": {
    "collapsed": true,
    "jupyter": {
     "outputs_hidden": true
    }
   },
   "outputs": [
    {
     "data": {
      "application/vnd.jupyter.widget-view+json": {
       "model_id": "992aa4a29a2a4b8caebcb871126a1b37",
       "version_major": 2,
       "version_minor": 0
      },
      "text/plain": [
       "Canvas(toolbar=Toolbar(toolitems=[('Home', 'Reset original view', 'home', 'home'), ('Back', 'Back to previous …"
      ]
     },
     "metadata": {},
     "output_type": "display_data"
    },
    {
     "data": {
      "text/plain": [
       "Text(0, 0.5, 'count')"
      ]
     },
     "execution_count": 7,
     "metadata": {},
     "output_type": "execute_result"
    }
   ],
   "source": [
    "fig = plt.figure(figsize=(8,8))\n",
    "ax = fig.add_subplot(111)\n",
    "ax.hist(total_deltas,np.array(range(0,26))-0.5)\n",
    "ax.set_xlabel('time delta between two branching events (h)')\n",
    "ax.set_ylabel('count')\n"
   ]
  },
  {
   "cell_type": "code",
   "execution_count": 191,
   "metadata": {},
   "outputs": [],
   "source": [
    "actual_list_hyph = list(np.load('actual_list_hyph.npy'))\n",
    "actual_list_hyph.remove(57138)\n",
    "total_distances = []\n",
    "estimated_timedelta = []\n",
    "for hyph in actual_list_hyph:\n",
    "    distances = np.load(f'branches/distances_{hyph}_auto.npy')\n",
    "    t_real = np.load(f'branches/ts_{hyph}_auto.npy')\n",
    "    t_real.sort()\n",
    "    table = select_time.loc[select_time['end']==hyph]\n",
    "    for index,t in enumerate(t_real[1:-1]):\n",
    "        av_speed=np.mean(table.loc[table['time_since_emergence'].between(t,t_real[index+1],inclusive = 'left')]['speed'])\n",
    "        if not np.isnan(av_speed):\n",
    "            estimated = distances[index]/av_speed\n",
    "            estimated_timedelta.append(distances[index]/av_speed)\n",
    "    total_distances += list(distances)"
   ]
  },
  {
   "cell_type": "code",
   "execution_count": 9,
   "metadata": {},
   "outputs": [
    {
     "data": {
      "application/vnd.jupyter.widget-view+json": {
       "model_id": "5cf34dfb7500418fa84f6335b53748ef",
       "version_major": 2,
       "version_minor": 0
      },
      "text/plain": [
       "Canvas(toolbar=Toolbar(toolitems=[('Home', 'Reset original view', 'home', 'home'), ('Back', 'Back to previous …"
      ]
     },
     "metadata": {},
     "output_type": "display_data"
    },
    {
     "data": {
      "text/plain": [
       "Text(0, 0.5, 'count')"
      ]
     },
     "execution_count": 9,
     "metadata": {},
     "output_type": "execute_result"
    }
   ],
   "source": [
    "fig = plt.figure(figsize=(8,8))\n",
    "ax = fig.add_subplot(111)\n",
    "ax.hist(total_distances,np.linspace(0,3000,15))\n",
    "ax.set_xlabel('distance between two branching events ($\\mu m$)')\n",
    "ax.set_ylabel('count')"
   ]
  },
  {
   "cell_type": "code",
   "execution_count": 64,
   "metadata": {},
   "outputs": [
    {
     "data": {
      "text/plain": [
       "1034.571053985846"
      ]
     },
     "execution_count": 64,
     "metadata": {},
     "output_type": "execute_result"
    }
   ],
   "source": [
    "np.mean(total_distances)"
   ]
  },
  {
   "cell_type": "code",
   "execution_count": 192,
   "metadata": {},
   "outputs": [
    {
     "data": {
      "application/vnd.jupyter.widget-view+json": {
       "model_id": "e92d10ebc711485aa2f96b7f0bb6aeac",
       "version_major": 2,
       "version_minor": 0
      },
      "text/plain": [
       "Canvas(toolbar=Toolbar(toolitems=[('Home', 'Reset original view', 'home', 'home'), ('Back', 'Back to previous …"
      ]
     },
     "metadata": {},
     "output_type": "display_data"
    },
    {
     "data": {
      "text/plain": [
       "Text(0, 0.5, 'count')"
      ]
     },
     "execution_count": 192,
     "metadata": {},
     "output_type": "execute_result"
    }
   ],
   "source": [
    "fig = plt.figure(figsize=(8,8))\n",
    "ax = fig.add_subplot(111)\n",
    "ax.hist(estimated_timedelta,np.array(range(0,26))-0.5)\n",
    "ax.set_xlabel('time delta between two branching events (estimated) (h)')\n",
    "ax.set_ylabel('count')\n"
   ]
  },
  {
   "cell_type": "code",
   "execution_count": 12,
   "metadata": {},
   "outputs": [
    {
     "data": {
      "application/vnd.jupyter.widget-view+json": {
       "model_id": "3c79188992144351bf82a774b9e32301",
       "version_major": 2,
       "version_minor": 0
      },
      "text/plain": [
       "Canvas(toolbar=Toolbar(toolitems=[('Home', 'Reset original view', 'home', 'home'), ('Back', 'Back to previous …"
      ]
     },
     "metadata": {},
     "output_type": "display_data"
    },
    {
     "name": "stdout",
     "output_type": "stream",
     "text": [
      "5 7\n"
     ]
    }
   ],
   "source": [
    "fig = plt.figure(figsize=(8,8))\n",
    "ax = fig.add_subplot(111)\n",
    "actual_list_hyph = list(np.load('actual_list_hyph.npy'))\n",
    "actual_list_hyph.remove(57138)\n",
    "\n",
    "for hyph in actual_list_hyph:\n",
    "    total_distances = []\n",
    "    estimated_timedelta = []\n",
    "    distances = np.load(f'branches/distances_{hyph}_auto.npy')\n",
    "    t_real = np.load(f'branches/ts_{hyph}_auto.npy')\n",
    "    t_real.sort()\n",
    "    print(len(distances),len(t_real))\n",
    "    table = select_time.loc[select_time['end']==hyph]\n",
    "    for index,t in enumerate(t_real[1:-1]):\n",
    "        av_speed=np.mean(table.loc[table['time_since_emergence'].between(t,t_real[index+1],inclusive = 'left')]['speed'])\n",
    "        if not np.isnan(av_speed):\n",
    "            estimated = distances[index]/av_speed\n",
    "            estimated_timedelta.append(distances[index]/av_speed)\n",
    "    total_distances += list(distances)\n",
    "    ax.plot(np.cumsum(estimated_timedelta),estimated_timedelta)\n",
    "    break"
   ]
  },
  {
   "cell_type": "code",
   "execution_count": 57,
   "metadata": {},
   "outputs": [
    {
     "name": "stdout",
     "output_type": "stream",
     "text": [
      "0\n",
      "1\n",
      "139\n",
      "9612\n",
      "19\n",
      "164\n",
      "24489\n",
      "41036\n",
      "6992\n",
      "18897\n",
      "10617\n"
     ]
    }
   ],
   "source": [
    "for hyph in actual_list_hyph:\n",
    "    t_real = np.load(f'branches/ts_{hyph}_auto.npy')\n",
    "    if len(t_real)>10:\n",
    "        print(hyph)"
   ]
  },
  {
   "cell_type": "code",
   "execution_count": 7,
   "metadata": {},
   "outputs": [
    {
     "data": {
      "application/vnd.jupyter.widget-view+json": {
       "model_id": "594d9d96dca54186b2ba265a3eeeaba1",
       "version_major": 2,
       "version_minor": 0
      },
      "text/plain": [
       "Canvas(toolbar=Toolbar(toolitems=[('Home', 'Reset original view', 'home', 'home'), ('Back', 'Back to previous …"
      ]
     },
     "metadata": {},
     "output_type": "display_data"
    },
    {
     "name": "stdout",
     "output_type": "stream",
     "text": [
      "19 21\n"
     ]
    },
    {
     "data": {
      "text/plain": [
       "Text(0, 0.5, 'time until next branching event (h)')"
      ]
     },
     "execution_count": 7,
     "metadata": {},
     "output_type": "execute_result"
    }
   ],
   "source": [
    "fig = plt.figure(figsize=(8,8))\n",
    "ax = fig.add_subplot(111)\n",
    "actual_list_hyph = list(np.load('actual_list_hyph.npy'))\n",
    "actual_list_hyph.remove(57138)\n",
    "hyph = 6992\n",
    "total_distances = []\n",
    "estimated_timedelta = []\n",
    "distances = np.load(f'branches/distances_{hyph}_auto.npy')\n",
    "t_real = np.load(f'branches/ts_{hyph}_auto.npy')\n",
    "t_real.sort()\n",
    "deltas = np.diff(t_real) \n",
    "print(len(distances),len(t_real))\n",
    "table = select_time.loc[select_time['end']==hyph]\n",
    "for index,t in enumerate(t_real[1:-1]):\n",
    "    av_speed=np.mean(table.loc[table['time_since_emergence'].between(t,t_real[index+1],inclusive = 'left')]['speed'])\n",
    "    if not np.isnan(av_speed):\n",
    "        estimated = distances[index]/av_speed\n",
    "        estimated_timedelta.append(distances[index]/av_speed)\n",
    "total_distances += list(distances)\n",
    "# ax.plot(t_real[2:-1],estimated_timedelta)\n",
    "ax.plot(np.cumsum(estimated_timedelta),estimated_timedelta)\n",
    "ax.set_xlabel('time since emergence of the hypha (h)')\n",
    "ax.set_ylabel('time until next branching event (h)')\n",
    "# ax.plot(t_real[:-1],deltas)"
   ]
  },
  {
   "cell_type": "code",
   "execution_count": 178,
   "metadata": {},
   "outputs": [],
   "source": [
    "f = interp1d(np.cumsum(estimated_timedelta), estimated_timedelta)\n",
    "deb = np.min(np.cumsum(estimated_timedelta))\n",
    "end = np.max(np.cumsum(estimated_timedelta))\n",
    "frequ = 1\n",
    "x = np.linspace(deb,end,int((end-deb)*frequ)+1)\n",
    "resampled = pd.DataFrame({'time':x,'estimated_timedelta':f(x)})\n",
    "resampled['estimated_timedelta_ZMUV'] = (resampled['estimated_timedelta']-np.mean(resampled['estimated_timedelta']))/np.std(resampled['estimated_timedelta'])"
   ]
  },
  {
   "cell_type": "code",
   "execution_count": 179,
   "metadata": {},
   "outputs": [
    {
     "data": {
      "application/vnd.jupyter.widget-view+json": {
       "model_id": "9e386092b39c42a1b1c1da4fa7daa093",
       "version_major": 2,
       "version_minor": 0
      },
      "text/plain": [
       "Canvas(toolbar=Toolbar(toolitems=[('Home', 'Reset original view', 'home', 'home'), ('Back', 'Back to previous …"
      ]
     },
     "metadata": {},
     "output_type": "display_data"
    },
    {
     "data": {
      "text/plain": [
       "Text(0.5, 0, 'time since emergence of the hypha (h)')"
      ]
     },
     "execution_count": 179,
     "metadata": {},
     "output_type": "execute_result"
    }
   ],
   "source": [
    "fig, ax = plt.subplots(1, 1, figsize=(8, 4))\n",
    "# ax.plot(x,resampled['speed'])\n",
    "# ax.plot(x,reg.predict(x.reshape((-1, 1))))\n",
    "ax.plot(x,resampled['estimated_timedelta_ZMUV'])\n",
    "ax.set_xlabel('time since emergence of the hypha (h)')\n"
   ]
  },
  {
   "cell_type": "code",
   "execution_count": 180,
   "metadata": {},
   "outputs": [],
   "source": [
    "def autocorr(x):\n",
    "    result = np.correlate(x, x, mode='full')\n",
    "    return result[result.size // 2:]"
   ]
  },
  {
   "cell_type": "code",
   "execution_count": 182,
   "metadata": {},
   "outputs": [
    {
     "data": {
      "text/plain": [
       "8.5"
      ]
     },
     "execution_count": 182,
     "metadata": {},
     "output_type": "execute_result"
    }
   ],
   "source": [
    "51/6"
   ]
  },
  {
   "cell_type": "code",
   "execution_count": 181,
   "metadata": {},
   "outputs": [
    {
     "data": {
      "application/vnd.jupyter.widget-view+json": {
       "model_id": "e884891066bd43bba8aaa0ce865f99fc",
       "version_major": 2,
       "version_minor": 0
      },
      "text/plain": [
       "Canvas(toolbar=Toolbar(toolitems=[('Home', 'Reset original view', 'home', 'home'), ('Back', 'Back to previous …"
      ]
     },
     "metadata": {},
     "output_type": "display_data"
    },
    {
     "data": {
      "text/plain": [
       "Text(0.5, 0, 'lag (h)')"
      ]
     },
     "execution_count": 181,
     "metadata": {},
     "output_type": "execute_result"
    }
   ],
   "source": [
    "plt.close(\"all\")\n",
    "s = resampled[~np.isnan(resampled['estimated_timedelta_ZMUV'].astype(np.float))]['estimated_timedelta_ZMUV'].values\n",
    "autoc = autocorr(s)\n",
    "autoc = autoc/autoc.max()\n",
    "fig, ax = plt.subplots(1, 1, figsize=(8, 4))\n",
    "ax.plot(autoc)\n",
    "ax.set_xlabel('lag (h)')"
   ]
  },
  {
   "cell_type": "code",
   "execution_count": 183,
   "metadata": {},
   "outputs": [
    {
     "data": {
      "application/vnd.jupyter.widget-view+json": {
       "model_id": "0ed3214861ba47a7aaeb8e0e7c8c4382",
       "version_major": 2,
       "version_minor": 0
      },
      "text/plain": [
       "Canvas(toolbar=Toolbar(toolitems=[('Home', 'Reset original view', 'home', 'home'), ('Back', 'Back to previous …"
      ]
     },
     "metadata": {},
     "output_type": "display_data"
    },
    {
     "data": {
      "text/plain": [
       "Text(0, 0.5, 'PSD')"
      ]
     },
     "execution_count": 183,
     "metadata": {},
     "output_type": "execute_result"
    }
   ],
   "source": [
    "speed_fft = sp.fftpack.fft(s)\n",
    "speed_psd = np.abs(speed_fft) ** 2\n",
    "fftfreq = sp.fftpack.fftfreq(len(speed_psd))\n",
    "i = fftfreq > 0\n",
    "fig, ax = plt.subplots(1, 1, figsize=(8, 4))\n",
    "ax.plot(24*frequ*fftfreq[i], speed_psd[i])\n",
    "ax.set_xlabel('Frequency (day-1)')\n",
    "ax.set_ylabel('PSD')"
   ]
  },
  {
   "cell_type": "code",
   "execution_count": 184,
   "metadata": {},
   "outputs": [
    {
     "data": {
      "text/plain": [
       "8.75912408759124"
      ]
     },
     "execution_count": 184,
     "metadata": {},
     "output_type": "execute_result"
    }
   ],
   "source": [
    "24/2.74"
   ]
  },
  {
   "cell_type": "code",
   "execution_count": 6,
   "metadata": {},
   "outputs": [
    {
     "data": {
      "application/vnd.jupyter.widget-view+json": {
       "model_id": "2b39fad742e4457684798037df3ecede",
       "version_major": 2,
       "version_minor": 0
      },
      "text/plain": [
       "Canvas(toolbar=Toolbar(toolitems=[('Home', 'Reset original view', 'home', 'home'), ('Back', 'Back to previous …"
      ]
     },
     "metadata": {},
     "output_type": "display_data"
    },
    {
     "name": "stdout",
     "output_type": "stream",
     "text": [
      "48\n",
      "48\n",
      "48\n",
      "48\n",
      "48\n"
     ]
    },
    {
     "data": {
      "application/vnd.jupyter.widget-view+json": {
       "model_id": "4f41a645d3ab46c6a2083d013e3343e9",
       "version_major": 2,
       "version_minor": 0
      },
      "text/plain": [
       "Canvas(toolbar=Toolbar(toolitems=[('Home', 'Reset original view', 'home', 'home'), ('Back', 'Back to previous …"
      ]
     },
     "metadata": {},
     "output_type": "display_data"
    },
    {
     "data": {
      "text/plain": [
       "Text(0, 0.5, 'PSD')"
      ]
     },
     "execution_count": 6,
     "metadata": {},
     "output_type": "execute_result"
    }
   ],
   "source": [
    "fig, ax = plt.subplots(1, 1, figsize=(8, 4))\n",
    "size = 48\n",
    "fourrier = pd.DataFrame(columns = ['frequ','amp','hyph'])\n",
    "for hyph in actual_list_hyph:\n",
    "    t_real = np.load(f'branches/ts_{hyph}_auto.npy')\n",
    "    total_distances = []\n",
    "    estimated_timedelta = []\n",
    "    distances = np.load(f'branches/distances_{hyph}_auto.npy')\n",
    "    t_real = np.load(f'branches/ts_{hyph}_auto.npy')\n",
    "    t_real.sort()\n",
    "    deltas = np.diff(t_real) \n",
    "    table = select_time.loc[select_time['end']==hyph]\n",
    "    for index,t in enumerate(t_real[1:-1]):\n",
    "        av_speed=np.mean(table.loc[table['time_since_emergence'].between(t,t_real[index+1],inclusive = 'left')]['speed'])\n",
    "        if not np.isnan(av_speed):\n",
    "            estimated = distances[index]/av_speed\n",
    "            estimated_timedelta.append(distances[index]/av_speed)\n",
    "    total_distances += list(distances)\n",
    "    if np.sum(estimated_timedelta)>size and hyph !=139:\n",
    "        f = interp1d(np.cumsum(estimated_timedelta), estimated_timedelta)\n",
    "        deb = np.min(np.cumsum(estimated_timedelta))\n",
    "        end = np.max(np.cumsum(estimated_timedelta))\n",
    "        frequ = 1\n",
    "        x = np.linspace(deb,end,int((end-deb)*frequ)+1)\n",
    "        if len(x)>size:\n",
    "            resampled = pd.DataFrame({'time':x,'estimated_timedelta':f(x)})\n",
    "            resampled['estimated_timedelta_ZMUV'] = (resampled['estimated_timedelta']-np.mean(resampled['estimated_timedelta']))/np.std(resampled['estimated_timedelta'])\n",
    "            s = resampled[~np.isnan(resampled['estimated_timedelta_ZMUV'].astype(np.float))]['estimated_timedelta_ZMUV'].values\n",
    "            s = s[:size]\n",
    "            print(len(s))\n",
    "            speed_fft = sp.fftpack.fft(s)\n",
    "            speed_psd = np.abs(speed_fft) ** 2\n",
    "            fftfreq = sp.fftpack.fftfreq(len(speed_psd))\n",
    "            i = fftfreq > 0\n",
    "            data = [{'frequ' : fftfreq[j]*frequ,'amp' : speed_psd[j],'hyph' : hyph} for j,v in enumerate(i) if v]\n",
    "            fourrier=fourrier.append(data,ignore_index=True)\n",
    "            ax.plot(24*frequ*fftfreq[i], speed_psd[i],label=f'hypha {hyph}')\n",
    "            ax.set_xlabel('Frequency (day-1)')\n",
    "            ax.set_ylabel('PSD')\n",
    "            \n",
    "plt.legend()\n",
    "#             break\n",
    "fig, ax = plt.subplots(1, 1, figsize=(8, 4))\n",
    "df = pd.concat([fourrier.groupby('frequ')['amp'].mean()], axis=1).copy()\n",
    "df = df.sort_index()\n",
    "ax.plot(24*df.index,df['amp'],label=plate)\n",
    "ax.set_xlabel('Frequency (day-1)')\n",
    "ax.set_ylabel('PSD')"
   ]
  },
  {
   "cell_type": "code",
   "execution_count": 166,
   "metadata": {},
   "outputs": [
    {
     "data": {
      "application/vnd.jupyter.widget-view+json": {
       "model_id": "fb4b3bd4e81147adad33e638732120f0",
       "version_major": 2,
       "version_minor": 0
      },
      "text/plain": [
       "Canvas(toolbar=Toolbar(toolitems=[('Home', 'Reset original view', 'home', 'home'), ('Back', 'Back to previous …"
      ]
     },
     "metadata": {},
     "output_type": "display_data"
    },
    {
     "name": "stdout",
     "output_type": "stream",
     "text": [
      "1\n",
      "19\n",
      "164\n",
      "1\n",
      "19\n",
      "164\n",
      "1\n",
      "19\n",
      "164\n",
      "1\n",
      "19\n",
      "164\n"
     ]
    }
   ],
   "source": [
    "plt.close('all')\n",
    "fig, ax = plt.subplots(1, 1, figsize=(8, 4))\n",
    "for size in range(62,70,2):\n",
    "    fourrier = pd.DataFrame(columns = ['frequ','amp','hyph'])\n",
    "    for hyph in actual_list_hyph:\n",
    "        t_real = np.load(f'branches/ts_{hyph}_auto.npy')\n",
    "        total_distances = []\n",
    "        estimated_timedelta = []\n",
    "        distances = np.load(f'branches/distances_{hyph}_auto.npy')\n",
    "        t_real = np.load(f'branches/ts_{hyph}_auto.npy')\n",
    "        t_real.sort()\n",
    "        deltas = np.diff(t_real) \n",
    "        table = select_time.loc[select_time['end']==hyph]\n",
    "        for index,t in enumerate(t_real[1:-1]):\n",
    "            av_speed=np.mean(table.loc[table['time_since_emergence'].between(t,t_real[index+1],inclusive = 'left')]['speed'])\n",
    "            if not np.isnan(av_speed):\n",
    "                estimated = distances[index]/av_speed\n",
    "                estimated_timedelta.append(distances[index]/av_speed)\n",
    "        total_distances += list(distances)\n",
    "        if np.sum(estimated_timedelta)>size and hyph !=139:\n",
    "            f = interp1d(np.cumsum(estimated_timedelta), estimated_timedelta)\n",
    "            deb = np.min(np.cumsum(estimated_timedelta))\n",
    "            end = np.max(np.cumsum(estimated_timedelta))\n",
    "            frequ = 1\n",
    "            x = np.linspace(deb,end,int((end-deb)*frequ)+1)\n",
    "            if len(x)>size:\n",
    "                print(hyph)\n",
    "                resampled = pd.DataFrame({'time':x,'estimated_timedelta':f(x)})\n",
    "                resampled['estimated_timedelta_ZMUV'] = (resampled['estimated_timedelta']-np.mean(resampled['estimated_timedelta']))/np.std(resampled['estimated_timedelta'])\n",
    "                s = resampled[~np.isnan(resampled['estimated_timedelta_ZMUV'].astype(np.float))]['estimated_timedelta_ZMUV'].values\n",
    "                s = s[:size]\n",
    "#                 print(len(s))\n",
    "                speed_fft = sp.fftpack.fft(s)\n",
    "                speed_psd = np.abs(speed_fft) ** 2\n",
    "                fftfreq = sp.fftpack.fftfreq(len(speed_psd))\n",
    "                i = fftfreq > 0\n",
    "                data = [{'frequ' : fftfreq[j]*frequ,'amp' : speed_psd[j],'hyph' : hyph} for j,v in enumerate(i) if v]\n",
    "                fourrier=fourrier.append(data,ignore_index=True)\n",
    "    #             ax.plot(24*frequ*fftfreq[i], speed_psd[i],label=hyph)\n",
    "    #             ax.set_xlabel('Frequency (day-1)')\n",
    "    #             ax.set_ylabel('PSD')\n",
    "\n",
    "    df = pd.concat([fourrier.groupby('frequ')['amp'].mean()], axis=1).copy()\n",
    "    df = df.sort_index()\n",
    "    ax.plot(24*df.index,df['amp'],label=size)\n",
    "    ax.set_xlabel('Frequency (day-1)')\n",
    "    ax.set_ylabel('PSD')\n",
    "    plt.legend()"
   ]
  },
  {
   "cell_type": "code",
   "execution_count": 188,
   "metadata": {},
   "outputs": [
    {
     "data": {
      "text/plain": [
       "6.857142857142857"
      ]
     },
     "execution_count": 188,
     "metadata": {},
     "output_type": "execute_result"
    }
   ],
   "source": [
    "24/3.50"
   ]
  }
 ],
 "metadata": {
  "kernelspec": {
   "display_name": "Python 3",
   "language": "python",
   "name": "python3"
  },
  "language_info": {
   "codemirror_mode": {
    "name": "ipython",
    "version": 3
   },
   "file_extension": ".py",
   "mimetype": "text/x-python",
   "name": "python",
   "nbconvert_exporter": "python",
   "pygments_lexer": "ipython3",
   "version": "3.8.5"
  }
 },
 "nbformat": 4,
 "nbformat_minor": 4
}
