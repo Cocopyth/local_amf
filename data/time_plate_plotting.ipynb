{
 "cells": [
  {
   "cell_type": "code",
   "execution_count": 1,
   "metadata": {},
   "outputs": [],
   "source": [
    "import pandas as pd\n",
    "import matplotlib.pyplot as plt\n",
    "\n",
    "%matplotlib widget\n",
    "plt.close('all')\n",
    "import numpy as np\n",
    "import os\n",
    "import scipy as sp\n",
    "import scipy.fftpack\n",
    "from scipy.interpolate import interp1d\n",
    "from sklearn.linear_model import LinearRegression\n",
    "from scipy.signal import savgol_filter\n",
    "def autocorr(x):\n",
    "    result = np.correlate(x, x, mode='full')\n",
    "    return result[result.size // 2:]\n",
    "from sklearn.preprocessing import StandardScaler\n"
   ]
  },
  {
   "cell_type": "code",
   "execution_count": 2,
   "metadata": {},
   "outputs": [],
   "source": [
    "path_save = r\"C:\\Users\\coren\\Dropbox\\Apps\\Snellius2\\data_tables\\time_plate_infos.pick\"\n",
    "\n",
    "time_plate_info = pd.read_pickle(path_save)\n",
    "\n",
    "path_save = r\"C:\\Users\\coren\\Dropbox\\Apps\\Snellius2\\data_tables\\time_plate_infos.pick\"\n",
    "\n",
    "global_hypha_info = pd.read_pickle(\"global_hypha_info.pick\")\n",
    "time_hypha_info = pd.read_pickle(\"time_hypha_infos.pick\")\n"
   ]
  },
  {
   "cell_type": "code",
   "execution_count": 3,
   "metadata": {},
   "outputs": [
    {
     "data": {
      "text/plain": [
       "Plate\n",
       "94     20201123\n",
       "80     20201127\n",
       "91     20201217\n",
       "152    20201224\n",
       "102    20201226\n",
       "26     20210104\n",
       "10     20210107\n",
       "76     20210108\n",
       "790    20210907\n",
       "88     20210915\n",
       "792    20210915\n",
       "787    20210922\n",
       "800    20210928\n",
       "808    20210928\n",
       "785    20210928\n",
       "799    20211001\n",
       "Name: CrossDate, dtype: object"
      ]
     },
     "execution_count": 3,
     "metadata": {},
     "output_type": "execute_result"
    }
   ],
   "source": [
    "global_plate_infos = pd.read_pickle(\"global_plate_infos.pick\")\n",
    "global_plate_infos = global_plate_infos.set_index('Plate')\n",
    "global_plate_infos.sort_values(['CrossDate'])['CrossDate']"
   ]
  },
  {
   "cell_type": "code",
   "execution_count": 4,
   "metadata": {},
   "outputs": [],
   "source": [
    "global_plate_infos.to_csv(\"global_plate_infos.csv\")\n",
    "time_hypha_info.to_csv(\"time_hypha_infos.csv\")\n",
    "time_plate_info.to_csv(\"time_plate_infos.csv\")\n",
    "\n",
    "global_hypha_info.to_csv(\"global_hypha_info.csv\")"
   ]
  },
  {
   "cell_type": "code",
   "execution_count": 5,
   "metadata": {},
   "outputs": [
    {
     "data": {
      "text/plain": [
       "Index(['end', 'distance_final_pos', 'timedelta', 'time_since_emergence',\n",
       "       'speed', 'timestep', 'timestep_init', 'time_init', 'degree',\n",
       "       'width_tip_edge', 'av_width', 'has_reached_final_pos', 'in_ROI',\n",
       "       'time_since_begin_exp', 'width_root_edge', 'Plate', 'folder', 't',\n",
       "       'density_window500', 'density_window1000', 'density_window2000'],\n",
       "      dtype='object')"
      ]
     },
     "execution_count": 5,
     "metadata": {},
     "output_type": "execute_result"
    }
   ],
   "source": [
    "time_hypha_info.columns"
   ]
  },
  {
   "cell_type": "code",
   "execution_count": 6,
   "metadata": {},
   "outputs": [
    {
     "data": {
      "text/html": [
       "<div>\n",
       "<style scoped>\n",
       "    .dataframe tbody tr th:only-of-type {\n",
       "        vertical-align: middle;\n",
       "    }\n",
       "\n",
       "    .dataframe tbody tr th {\n",
       "        vertical-align: top;\n",
       "    }\n",
       "\n",
       "    .dataframe thead th {\n",
       "        text-align: right;\n",
       "    }\n",
       "</style>\n",
       "<table border=\"1\" class=\"dataframe\">\n",
       "  <thead>\n",
       "    <tr style=\"text-align: right;\">\n",
       "      <th></th>\n",
       "      <th>end</th>\n",
       "      <th>distance_final_pos</th>\n",
       "      <th>timedelta</th>\n",
       "      <th>time_since_emergence</th>\n",
       "      <th>speed</th>\n",
       "      <th>timestep</th>\n",
       "      <th>timestep_init</th>\n",
       "      <th>time_init</th>\n",
       "      <th>degree</th>\n",
       "      <th>width_tip_edge</th>\n",
       "      <th>...</th>\n",
       "      <th>has_reached_final_pos</th>\n",
       "      <th>in_ROI</th>\n",
       "      <th>time_since_begin_exp</th>\n",
       "      <th>width_root_edge</th>\n",
       "      <th>Plate</th>\n",
       "      <th>folder</th>\n",
       "      <th>t</th>\n",
       "      <th>density_window500</th>\n",
       "      <th>density_window1000</th>\n",
       "      <th>density_window2000</th>\n",
       "    </tr>\n",
       "  </thead>\n",
       "  <tbody>\n",
       "    <tr>\n",
       "      <th>0</th>\n",
       "      <td>0</td>\n",
       "      <td>5273.293468</td>\n",
       "      <td>2.0</td>\n",
       "      <td>0.0</td>\n",
       "      <td>182.893809</td>\n",
       "      <td>0</td>\n",
       "      <td>0</td>\n",
       "      <td>0.0</td>\n",
       "      <td>1</td>\n",
       "      <td>10.99649</td>\n",
       "      <td>...</td>\n",
       "      <td>False</td>\n",
       "      <td>True</td>\n",
       "      <td>0.0</td>\n",
       "      <td>NaN</td>\n",
       "      <td>799</td>\n",
       "      <td>Analysis_1636046826216022929_0_100_Version9</td>\n",
       "      <td>0</td>\n",
       "      <td>NaN</td>\n",
       "      <td>NaN</td>\n",
       "      <td>NaN</td>\n",
       "    </tr>\n",
       "    <tr>\n",
       "      <th>1</th>\n",
       "      <td>1</td>\n",
       "      <td>264.461717</td>\n",
       "      <td>2.0</td>\n",
       "      <td>0.0</td>\n",
       "      <td>128.878255</td>\n",
       "      <td>0</td>\n",
       "      <td>0</td>\n",
       "      <td>0.0</td>\n",
       "      <td>1</td>\n",
       "      <td>6.927419</td>\n",
       "      <td>...</td>\n",
       "      <td>False</td>\n",
       "      <td>True</td>\n",
       "      <td>0.0</td>\n",
       "      <td>NaN</td>\n",
       "      <td>799</td>\n",
       "      <td>Analysis_1636046826216022929_0_100_Version9</td>\n",
       "      <td>0</td>\n",
       "      <td>NaN</td>\n",
       "      <td>NaN</td>\n",
       "      <td>NaN</td>\n",
       "    </tr>\n",
       "    <tr>\n",
       "      <th>4</th>\n",
       "      <td>4</td>\n",
       "      <td>912.054823</td>\n",
       "      <td>2.0</td>\n",
       "      <td>0.0</td>\n",
       "      <td>83.043454</td>\n",
       "      <td>0</td>\n",
       "      <td>0</td>\n",
       "      <td>0.0</td>\n",
       "      <td>1</td>\n",
       "      <td>7.549542</td>\n",
       "      <td>...</td>\n",
       "      <td>False</td>\n",
       "      <td>True</td>\n",
       "      <td>0.0</td>\n",
       "      <td>NaN</td>\n",
       "      <td>799</td>\n",
       "      <td>Analysis_1636046826216022929_0_100_Version9</td>\n",
       "      <td>0</td>\n",
       "      <td>NaN</td>\n",
       "      <td>NaN</td>\n",
       "      <td>NaN</td>\n",
       "    </tr>\n",
       "    <tr>\n",
       "      <th>6</th>\n",
       "      <td>6</td>\n",
       "      <td>150.748134</td>\n",
       "      <td>2.0</td>\n",
       "      <td>0.0</td>\n",
       "      <td>16.606078</td>\n",
       "      <td>0</td>\n",
       "      <td>0</td>\n",
       "      <td>0.0</td>\n",
       "      <td>1</td>\n",
       "      <td>None</td>\n",
       "      <td>...</td>\n",
       "      <td>False</td>\n",
       "      <td>True</td>\n",
       "      <td>0.0</td>\n",
       "      <td>None</td>\n",
       "      <td>799</td>\n",
       "      <td>Analysis_1636046826216022929_0_100_Version9</td>\n",
       "      <td>0</td>\n",
       "      <td>NaN</td>\n",
       "      <td>NaN</td>\n",
       "      <td>NaN</td>\n",
       "    </tr>\n",
       "    <tr>\n",
       "      <th>13</th>\n",
       "      <td>13</td>\n",
       "      <td>11.18034</td>\n",
       "      <td>2.0</td>\n",
       "      <td>0.0</td>\n",
       "      <td>4.879037</td>\n",
       "      <td>0</td>\n",
       "      <td>0</td>\n",
       "      <td>0.0</td>\n",
       "      <td>1</td>\n",
       "      <td>6.87957</td>\n",
       "      <td>...</td>\n",
       "      <td>True</td>\n",
       "      <td>True</td>\n",
       "      <td>0.0</td>\n",
       "      <td>NaN</td>\n",
       "      <td>799</td>\n",
       "      <td>Analysis_1636046826216022929_0_100_Version9</td>\n",
       "      <td>0</td>\n",
       "      <td>NaN</td>\n",
       "      <td>NaN</td>\n",
       "      <td>NaN</td>\n",
       "    </tr>\n",
       "    <tr>\n",
       "      <th>...</th>\n",
       "      <td>...</td>\n",
       "      <td>...</td>\n",
       "      <td>...</td>\n",
       "      <td>...</td>\n",
       "      <td>...</td>\n",
       "      <td>...</td>\n",
       "      <td>...</td>\n",
       "      <td>...</td>\n",
       "      <td>...</td>\n",
       "      <td>...</td>\n",
       "      <td>...</td>\n",
       "      <td>...</td>\n",
       "      <td>...</td>\n",
       "      <td>...</td>\n",
       "      <td>...</td>\n",
       "      <td>...</td>\n",
       "      <td>...</td>\n",
       "      <td>...</td>\n",
       "      <td>...</td>\n",
       "      <td>...</td>\n",
       "      <td>...</td>\n",
       "    </tr>\n",
       "    <tr>\n",
       "      <th>124285</th>\n",
       "      <td>124285</td>\n",
       "      <td>5.0</td>\n",
       "      <td>2.0</td>\n",
       "      <td>0.0</td>\n",
       "      <td>0.0</td>\n",
       "      <td>21</td>\n",
       "      <td>21</td>\n",
       "      <td>41.983333</td>\n",
       "      <td>1</td>\n",
       "      <td>5.053757</td>\n",
       "      <td>...</td>\n",
       "      <td>True</td>\n",
       "      <td>False</td>\n",
       "      <td>41.983333</td>\n",
       "      <td>NaN</td>\n",
       "      <td>787</td>\n",
       "      <td>Analysis_1636046513186951533_0_23_Version9</td>\n",
       "      <td>21</td>\n",
       "      <td>13873.623188</td>\n",
       "      <td>NaN</td>\n",
       "      <td>NaN</td>\n",
       "    </tr>\n",
       "    <tr>\n",
       "      <th>124381</th>\n",
       "      <td>124381</td>\n",
       "      <td>31.048349</td>\n",
       "      <td>2.0</td>\n",
       "      <td>0.0</td>\n",
       "      <td>24.193018</td>\n",
       "      <td>21</td>\n",
       "      <td>21</td>\n",
       "      <td>41.983333</td>\n",
       "      <td>1</td>\n",
       "      <td>8.32431</td>\n",
       "      <td>...</td>\n",
       "      <td>True</td>\n",
       "      <td>False</td>\n",
       "      <td>41.983333</td>\n",
       "      <td>NaN</td>\n",
       "      <td>787</td>\n",
       "      <td>Analysis_1636046513186951533_0_23_Version9</td>\n",
       "      <td>21</td>\n",
       "      <td>13150.144928</td>\n",
       "      <td>NaN</td>\n",
       "      <td>NaN</td>\n",
       "    </tr>\n",
       "    <tr>\n",
       "      <th>124411</th>\n",
       "      <td>124411</td>\n",
       "      <td>1.0</td>\n",
       "      <td>2.0</td>\n",
       "      <td>0.0</td>\n",
       "      <td>0.0</td>\n",
       "      <td>21</td>\n",
       "      <td>21</td>\n",
       "      <td>41.983333</td>\n",
       "      <td>1</td>\n",
       "      <td>6.302123</td>\n",
       "      <td>...</td>\n",
       "      <td>True</td>\n",
       "      <td>False</td>\n",
       "      <td>41.983333</td>\n",
       "      <td>NaN</td>\n",
       "      <td>787</td>\n",
       "      <td>Analysis_1636046513186951533_0_23_Version9</td>\n",
       "      <td>21</td>\n",
       "      <td>5382.028986</td>\n",
       "      <td>NaN</td>\n",
       "      <td>NaN</td>\n",
       "    </tr>\n",
       "    <tr>\n",
       "      <th>124488</th>\n",
       "      <td>124488</td>\n",
       "      <td>26.925824</td>\n",
       "      <td>2.0</td>\n",
       "      <td>0.0</td>\n",
       "      <td>0.0</td>\n",
       "      <td>21</td>\n",
       "      <td>21</td>\n",
       "      <td>41.983333</td>\n",
       "      <td>1</td>\n",
       "      <td>8.719647</td>\n",
       "      <td>...</td>\n",
       "      <td>True</td>\n",
       "      <td>False</td>\n",
       "      <td>41.983333</td>\n",
       "      <td>NaN</td>\n",
       "      <td>787</td>\n",
       "      <td>Analysis_1636046513186951533_0_23_Version9</td>\n",
       "      <td>21</td>\n",
       "      <td>13110.724638</td>\n",
       "      <td>NaN</td>\n",
       "      <td>NaN</td>\n",
       "    </tr>\n",
       "    <tr>\n",
       "      <th>124535</th>\n",
       "      <td>124535</td>\n",
       "      <td>99.00505</td>\n",
       "      <td>2.0</td>\n",
       "      <td>0.0</td>\n",
       "      <td>84.952677</td>\n",
       "      <td>21</td>\n",
       "      <td>21</td>\n",
       "      <td>41.983333</td>\n",
       "      <td>1</td>\n",
       "      <td>7.525027</td>\n",
       "      <td>...</td>\n",
       "      <td>False</td>\n",
       "      <td>False</td>\n",
       "      <td>41.983333</td>\n",
       "      <td>NaN</td>\n",
       "      <td>787</td>\n",
       "      <td>Analysis_1636046513186951533_0_23_Version9</td>\n",
       "      <td>21</td>\n",
       "      <td>14951.884058</td>\n",
       "      <td>NaN</td>\n",
       "      <td>NaN</td>\n",
       "    </tr>\n",
       "  </tbody>\n",
       "</table>\n",
       "<p>819718 rows × 21 columns</p>\n",
       "</div>"
      ],
      "text/plain": [
       "           end distance_final_pos timedelta time_since_emergence       speed  \\\n",
       "0            0        5273.293468       2.0                  0.0  182.893809   \n",
       "1            1         264.461717       2.0                  0.0  128.878255   \n",
       "4            4         912.054823       2.0                  0.0   83.043454   \n",
       "6            6         150.748134       2.0                  0.0   16.606078   \n",
       "13          13           11.18034       2.0                  0.0    4.879037   \n",
       "...        ...                ...       ...                  ...         ...   \n",
       "124285  124285                5.0       2.0                  0.0         0.0   \n",
       "124381  124381          31.048349       2.0                  0.0   24.193018   \n",
       "124411  124411                1.0       2.0                  0.0         0.0   \n",
       "124488  124488          26.925824       2.0                  0.0         0.0   \n",
       "124535  124535           99.00505       2.0                  0.0   84.952677   \n",
       "\n",
       "       timestep timestep_init  time_init degree width_tip_edge  ...  \\\n",
       "0             0             0        0.0      1       10.99649  ...   \n",
       "1             0             0        0.0      1       6.927419  ...   \n",
       "4             0             0        0.0      1       7.549542  ...   \n",
       "6             0             0        0.0      1           None  ...   \n",
       "13            0             0        0.0      1        6.87957  ...   \n",
       "...         ...           ...        ...    ...            ...  ...   \n",
       "124285       21            21  41.983333      1       5.053757  ...   \n",
       "124381       21            21  41.983333      1        8.32431  ...   \n",
       "124411       21            21  41.983333      1       6.302123  ...   \n",
       "124488       21            21  41.983333      1       8.719647  ...   \n",
       "124535       21            21  41.983333      1       7.525027  ...   \n",
       "\n",
       "       has_reached_final_pos in_ROI time_since_begin_exp width_root_edge  \\\n",
       "0                      False   True                  0.0             NaN   \n",
       "1                      False   True                  0.0             NaN   \n",
       "4                      False   True                  0.0             NaN   \n",
       "6                      False   True                  0.0            None   \n",
       "13                      True   True                  0.0             NaN   \n",
       "...                      ...    ...                  ...             ...   \n",
       "124285                  True  False            41.983333             NaN   \n",
       "124381                  True  False            41.983333             NaN   \n",
       "124411                  True  False            41.983333             NaN   \n",
       "124488                  True  False            41.983333             NaN   \n",
       "124535                 False  False            41.983333             NaN   \n",
       "\n",
       "       Plate                                       folder   t  \\\n",
       "0        799  Analysis_1636046826216022929_0_100_Version9   0   \n",
       "1        799  Analysis_1636046826216022929_0_100_Version9   0   \n",
       "4        799  Analysis_1636046826216022929_0_100_Version9   0   \n",
       "6        799  Analysis_1636046826216022929_0_100_Version9   0   \n",
       "13       799  Analysis_1636046826216022929_0_100_Version9   0   \n",
       "...      ...                                          ...  ..   \n",
       "124285   787   Analysis_1636046513186951533_0_23_Version9  21   \n",
       "124381   787   Analysis_1636046513186951533_0_23_Version9  21   \n",
       "124411   787   Analysis_1636046513186951533_0_23_Version9  21   \n",
       "124488   787   Analysis_1636046513186951533_0_23_Version9  21   \n",
       "124535   787   Analysis_1636046513186951533_0_23_Version9  21   \n",
       "\n",
       "        density_window500 density_window1000 density_window2000  \n",
       "0                     NaN                NaN                NaN  \n",
       "1                     NaN                NaN                NaN  \n",
       "4                     NaN                NaN                NaN  \n",
       "6                     NaN                NaN                NaN  \n",
       "13                    NaN                NaN                NaN  \n",
       "...                   ...                ...                ...  \n",
       "124285       13873.623188                NaN                NaN  \n",
       "124381       13150.144928                NaN                NaN  \n",
       "124411        5382.028986                NaN                NaN  \n",
       "124488       13110.724638                NaN                NaN  \n",
       "124535       14951.884058                NaN                NaN  \n",
       "\n",
       "[819718 rows x 21 columns]"
      ]
     },
     "execution_count": 6,
     "metadata": {},
     "output_type": "execute_result"
    }
   ],
   "source": [
    "time_hypha_info"
   ]
  },
  {
   "cell_type": "code",
   "execution_count": 7,
   "metadata": {},
   "outputs": [],
   "source": [
    "plates = time_plate_info['Plate'].unique()\n",
    "ind_plate_table= {}\n",
    "for plate in plates:\n",
    "    ind_plate_table[plate]=time_plate_info.loc[time_plate_info['Plate']==plate].copy()\n",
    "    "
   ]
  },
  {
   "cell_type": "code",
   "execution_count": 8,
   "metadata": {},
   "outputs": [],
   "source": [
    "def get_branch(row):\n",
    "    if row['Plate']==94:\n",
    "        hyph = row['end']\n",
    "        name = f'branches/ts_{hyph}_auto.npy'\n",
    "        if not os.path.isfile(name):\n",
    "            return(None)\n",
    "        else:\n",
    "            t_real = np.load(name)\n",
    "            return(row['time_since_emergence'] in t_real)\n",
    "def autocorr(x):\n",
    "    result = np.correlate(x, x, mode='full')\n",
    "    return result[result.size // 2:]\n",
    "\n",
    "global_hypha_info['lapse']=global_hypha_info['time_stop_growth']-global_hypha_info['time_init_growth']\n",
    "time_hypha_info['distance_final_pos_smooth'] = time_hypha_info['distance_final_pos'].rolling(window = 5).mean()\n",
    "time_hypha_info['new_branch'] = time_hypha_info.apply(get_branch, axis=1)"
   ]
  },
  {
   "cell_type": "code",
   "execution_count": 9,
   "metadata": {},
   "outputs": [],
   "source": [
    "plates = time_hypha_info['Plate'].unique()\n",
    "time_hypha_table = {}\n",
    "for plate in plates: \n",
    "    select_time_plate = ind_plate_table[plate]\n",
    "    last_time = np.max(select_time_plate.loc[select_time_plate['out_study']==0]['time_since_begin'])\n",
    "#     last_time2 = np.max(select_time_plate.loc[select_time_plate['local_growth_rate']>=0.5]['time_since_begin'])\n",
    "    select_time = time_hypha_info.loc[time_hypha_info['Plate']==plate].copy()\n",
    "#     select_time = select_time.loc[select_time['speed'].between(40,400)]\n",
    "#     select_global = global_hypha_info.loc[global_hypha_info['Plate']==plate]\n",
    "    select_time = select_time.loc[select_time['has_reached_final_pos']=='False']\n",
    "    select_time = select_time.loc[select_time['distance_final_pos']>200]\n",
    "#     select_time = select_time.loc[select_time['in_ROI']=='True']\n",
    "#     select_time = select_time.loc[select_time['time_since_begin_exp']<=last_time2]\n",
    "    select_time['speed'] = select_time['speed'].astype(float)\n",
    "    time_hypha_table[plate] = select_time"
   ]
  },
  {
   "cell_type": "code",
   "execution_count": 10,
   "metadata": {},
   "outputs": [
    {
     "name": "stderr",
     "output_type": "stream",
     "text": [
      "C:\\Users\\coren\\anaconda3\\envs\\cleanMsc\\lib\\site-packages\\ipykernel_launcher.py:34: SettingWithCopyWarning: \n",
      "A value is trying to be set on a copy of a slice from a DataFrame.\n",
      "Try using .loc[row_indexer,col_indexer] = value instead\n",
      "\n",
      "See the caveats in the documentation: https://pandas.pydata.org/pandas-docs/stable/user_guide/indexing.html#returning-a-view-versus-a-copy\n",
      "C:\\Users\\coren\\anaconda3\\envs\\cleanMsc\\lib\\site-packages\\ipykernel_launcher.py:34: SettingWithCopyWarning: \n",
      "A value is trying to be set on a copy of a slice from a DataFrame.\n",
      "Try using .loc[row_indexer,col_indexer] = value instead\n",
      "\n",
      "See the caveats in the documentation: https://pandas.pydata.org/pandas-docs/stable/user_guide/indexing.html#returning-a-view-versus-a-copy\n",
      "C:\\Users\\coren\\anaconda3\\envs\\cleanMsc\\lib\\site-packages\\ipykernel_launcher.py:34: SettingWithCopyWarning: \n",
      "A value is trying to be set on a copy of a slice from a DataFrame.\n",
      "Try using .loc[row_indexer,col_indexer] = value instead\n",
      "\n",
      "See the caveats in the documentation: https://pandas.pydata.org/pandas-docs/stable/user_guide/indexing.html#returning-a-view-versus-a-copy\n",
      "C:\\Users\\coren\\anaconda3\\envs\\cleanMsc\\lib\\site-packages\\ipykernel_launcher.py:34: SettingWithCopyWarning: \n",
      "A value is trying to be set on a copy of a slice from a DataFrame.\n",
      "Try using .loc[row_indexer,col_indexer] = value instead\n",
      "\n",
      "See the caveats in the documentation: https://pandas.pydata.org/pandas-docs/stable/user_guide/indexing.html#returning-a-view-versus-a-copy\n",
      "C:\\Users\\coren\\anaconda3\\envs\\cleanMsc\\lib\\site-packages\\ipykernel_launcher.py:34: SettingWithCopyWarning: \n",
      "A value is trying to be set on a copy of a slice from a DataFrame.\n",
      "Try using .loc[row_indexer,col_indexer] = value instead\n",
      "\n",
      "See the caveats in the documentation: https://pandas.pydata.org/pandas-docs/stable/user_guide/indexing.html#returning-a-view-versus-a-copy\n",
      "C:\\Users\\coren\\anaconda3\\envs\\cleanMsc\\lib\\site-packages\\ipykernel_launcher.py:34: SettingWithCopyWarning: \n",
      "A value is trying to be set on a copy of a slice from a DataFrame.\n",
      "Try using .loc[row_indexer,col_indexer] = value instead\n",
      "\n",
      "See the caveats in the documentation: https://pandas.pydata.org/pandas-docs/stable/user_guide/indexing.html#returning-a-view-versus-a-copy\n",
      "C:\\Users\\coren\\anaconda3\\envs\\cleanMsc\\lib\\site-packages\\ipykernel_launcher.py:34: SettingWithCopyWarning: \n",
      "A value is trying to be set on a copy of a slice from a DataFrame.\n",
      "Try using .loc[row_indexer,col_indexer] = value instead\n",
      "\n",
      "See the caveats in the documentation: https://pandas.pydata.org/pandas-docs/stable/user_guide/indexing.html#returning-a-view-versus-a-copy\n",
      "C:\\Users\\coren\\anaconda3\\envs\\cleanMsc\\lib\\site-packages\\ipykernel_launcher.py:34: SettingWithCopyWarning: \n",
      "A value is trying to be set on a copy of a slice from a DataFrame.\n",
      "Try using .loc[row_indexer,col_indexer] = value instead\n",
      "\n",
      "See the caveats in the documentation: https://pandas.pydata.org/pandas-docs/stable/user_guide/indexing.html#returning-a-view-versus-a-copy\n",
      "C:\\Users\\coren\\anaconda3\\envs\\cleanMsc\\lib\\site-packages\\ipykernel_launcher.py:34: SettingWithCopyWarning: \n",
      "A value is trying to be set on a copy of a slice from a DataFrame.\n",
      "Try using .loc[row_indexer,col_indexer] = value instead\n",
      "\n",
      "See the caveats in the documentation: https://pandas.pydata.org/pandas-docs/stable/user_guide/indexing.html#returning-a-view-versus-a-copy\n",
      "C:\\Users\\coren\\anaconda3\\envs\\cleanMsc\\lib\\site-packages\\ipykernel_launcher.py:34: SettingWithCopyWarning: \n",
      "A value is trying to be set on a copy of a slice from a DataFrame.\n",
      "Try using .loc[row_indexer,col_indexer] = value instead\n",
      "\n",
      "See the caveats in the documentation: https://pandas.pydata.org/pandas-docs/stable/user_guide/indexing.html#returning-a-view-versus-a-copy\n",
      "C:\\Users\\coren\\anaconda3\\envs\\cleanMsc\\lib\\site-packages\\ipykernel_launcher.py:34: SettingWithCopyWarning: \n",
      "A value is trying to be set on a copy of a slice from a DataFrame.\n",
      "Try using .loc[row_indexer,col_indexer] = value instead\n",
      "\n",
      "See the caveats in the documentation: https://pandas.pydata.org/pandas-docs/stable/user_guide/indexing.html#returning-a-view-versus-a-copy\n",
      "C:\\Users\\coren\\anaconda3\\envs\\cleanMsc\\lib\\site-packages\\ipykernel_launcher.py:34: SettingWithCopyWarning: \n",
      "A value is trying to be set on a copy of a slice from a DataFrame.\n",
      "Try using .loc[row_indexer,col_indexer] = value instead\n",
      "\n",
      "See the caveats in the documentation: https://pandas.pydata.org/pandas-docs/stable/user_guide/indexing.html#returning-a-view-versus-a-copy\n",
      "C:\\Users\\coren\\anaconda3\\envs\\cleanMsc\\lib\\site-packages\\ipykernel_launcher.py:34: SettingWithCopyWarning: \n",
      "A value is trying to be set on a copy of a slice from a DataFrame.\n",
      "Try using .loc[row_indexer,col_indexer] = value instead\n",
      "\n",
      "See the caveats in the documentation: https://pandas.pydata.org/pandas-docs/stable/user_guide/indexing.html#returning-a-view-versus-a-copy\n",
      "C:\\Users\\coren\\anaconda3\\envs\\cleanMsc\\lib\\site-packages\\ipykernel_launcher.py:34: SettingWithCopyWarning: \n",
      "A value is trying to be set on a copy of a slice from a DataFrame.\n",
      "Try using .loc[row_indexer,col_indexer] = value instead\n",
      "\n",
      "See the caveats in the documentation: https://pandas.pydata.org/pandas-docs/stable/user_guide/indexing.html#returning-a-view-versus-a-copy\n",
      "C:\\Users\\coren\\anaconda3\\envs\\cleanMsc\\lib\\site-packages\\ipykernel_launcher.py:34: SettingWithCopyWarning: \n",
      "A value is trying to be set on a copy of a slice from a DataFrame.\n",
      "Try using .loc[row_indexer,col_indexer] = value instead\n",
      "\n",
      "See the caveats in the documentation: https://pandas.pydata.org/pandas-docs/stable/user_guide/indexing.html#returning-a-view-versus-a-copy\n"
     ]
    }
   ],
   "source": [
    "roundin = 1000\n",
    "plates = list(global_hypha_info['Plate'].unique())\n",
    "plates.remove(10)\n",
    "ind_hypha_table = {}\n",
    "for plate in plates:\n",
    "    table =global_hypha_info.loc[global_hypha_info['Plate']==plate].copy()\n",
    "    table = table.set_index('hypha')\n",
    "    ind_hypha_table[plate] = table\n",
    "for plate in plates:\n",
    "    table = ind_hypha_table[plate].copy()\n",
    "    table_time = time_hypha_table[plate]\n",
    "    select_time = time_hypha_info.loc[time_hypha_info['Plate']==plate]\n",
    "    speed_at_init = table_time.loc[table_time['time_since_emergence']==0]\n",
    "    table['max_speed'] = table_time.groupby('end')['speed'].max()\n",
    "    table['mean_speed2'] = table_time.groupby('end')['speed'].mean()\n",
    "    table['log_length'] = np.log10((table['tot_length_C']+1).astype(float))\n",
    "    table['growth_lapse'] = table_time.groupby('end')['speed'].count()\n",
    "    table = ind_hypha_table[plate]\n",
    "    table_time = time_hypha_table[plate]\n",
    "    select_time = time_hypha_info.loc[time_hypha_info['Plate']==plate]\n",
    "    speed_at_init = table_time.loc[table_time['time_since_emergence']==0]\n",
    "    table['max_speed'] = table_time.groupby('end')['speed'].max()\n",
    "    table['mean_speed2'] = table_time.groupby('end')['speed'].mean()\n",
    "    table['log_length'] = np.log10((table['tot_length_C']+1).astype(float))\n",
    "    table['log_growth'] = np.log10((table['tot_growth_C']+1).astype(float))\n",
    "\n",
    "    table['growth_lapse'] = table_time.groupby('end')['speed'].count()\n",
    "    table['speed_at_init'] = speed_at_init.groupby('end')['speed'].max()\n",
    "#     table = table.loc[table['max_speed'].notnull()]\n",
    "    table = table.loc[table['av_width_final'].between(0,15)]\n",
    "#     table = table.loc[table['num_branch']>=0]\n",
    "#     table = table.loc[table['tot_growth_C']>=200]\n",
    "\n",
    "    table['branch_frequ'] = table['num_branch']/(table['tot_growth_C']+1)\n",
    "# #     table = table.loc[table['branch_frequ'].between(0,0.003)]\n",
    "#     from sklearn.cluster import KMeans\n",
    "#     df = table[['av_width_final','log_length','max_speed']].fillna(0)\n",
    "#     features = ['av_width_final','log_length','max_speed']# Separating out the features\n",
    "#     # features = ['log_length','mean_speed2']# Separating out the features\n",
    "\n",
    "#     x = table.loc[:, features].values# Separating out the target\n",
    "#     # y = table.loc[:,['target']].values# Standardizing the features\n",
    "#     x = StandardScaler().fit_transform(x)\n",
    "#     kmeans = KMeans(n_clusters=2).fit(x)\n",
    "#     centroids = kmeans.cluster_centers_\n",
    "#     c= kmeans.labels_.astype(float)\n",
    "\n",
    "#     table['category'] = c\n",
    "#     table['is_rh'] = (table['category']==table.groupby('category')['max_speed'].mean().idxmax()).astype(int)\n",
    "#     ind_hypha_table[plate] = table"
   ]
  },
  {
   "cell_type": "code",
   "execution_count": 11,
   "metadata": {},
   "outputs": [],
   "source": [
    "for plate in plates:\n",
    "    table = ind_plate_table[plate]\n",
    "    table['time_since_begin2']=table['time_since_begin']\n",
    "table = ind_plate_table[799]\n",
    "table['time_since_begin2']=table['time_since_begin']-150"
   ]
  },
  {
   "cell_type": "code",
   "execution_count": null,
   "metadata": {},
   "outputs": [],
   "source": []
  },
  {
   "cell_type": "code",
   "execution_count": 12,
   "metadata": {},
   "outputs": [
    {
     "name": "stderr",
     "output_type": "stream",
     "text": [
      "C:\\Users\\coren\\anaconda3\\envs\\cleanMsc\\lib\\site-packages\\pandas\\core\\arraylike.py:358: RuntimeWarning: divide by zero encountered in log2\n",
      "  result = getattr(ufunc, method)(*inputs, **kwargs)\n",
      "C:\\Users\\coren\\anaconda3\\envs\\cleanMsc\\lib\\site-packages\\numpy\\lib\\function_base.py:1080: RuntimeWarning: invalid value encountered in multiply\n",
      "  out[tuple(slice1)] = a * f[tuple(slice2)] + b * f[tuple(slice3)] + c * f[tuple(slice4)]\n",
      "C:\\Users\\coren\\anaconda3\\envs\\cleanMsc\\lib\\site-packages\\numpy\\lib\\function_base.py:1080: RuntimeWarning: invalid value encountered in add\n",
      "  out[tuple(slice1)] = a * f[tuple(slice2)] + b * f[tuple(slice3)] + c * f[tuple(slice4)]\n"
     ]
    }
   ],
   "source": [
    "for plate in plates:\n",
    "    table = ind_plate_table[plate]\n",
    "    table['total_length_m'] = table['tot_length_study']/10**6\n",
    "    table['speed'] = table['tot_length_study'].diff(5)/table['time_since_begin'].diff(5)\n",
    "    table['mean_step'] = np.mean(table['time_since_begin'].diff(1))\n",
    "    table['density'] = table['tot_length_study']/(table['area_sep_comp']+1)\n",
    "    table['ring_density'] = table['tot_length_study'].diff(10)/(table['area_sep_comp'].diff(10)+1)\n",
    "    table['log_length_study'] = np.log2(table['tot_length_study'].astype(float))\n",
    "    table['local_growth_rate'] = np.gradient(table['log_length_study'],table['time_since_begin'])*24\n",
    "    table_hypha = ind_hypha_table[plate]"
   ]
  },
  {
   "cell_type": "code",
   "execution_count": 13,
   "metadata": {},
   "outputs": [],
   "source": [
    "for plate in plates:\n",
    "    table = ind_plate_table[plate]\n",
    "    table_hypha = ind_hypha_table[plate]\n",
    "    select_time = time_hypha_table[plate]\n",
    "    df = pd.concat([select_time.groupby('time_since_begin_exp')['speed'].mean()], axis=1).copy()\n",
    "    df = df.sort_index()\n",
    "    df = df.reset_index()\n",
    "    df2 = select_time.groupby('time_since_begin_exp').size()\n",
    "#     df2 = df.reset_index()\n",
    "    table['time_since_begin'] = roundin*table['time_since_begin'].astype(int)/roundin \n",
    "    df['time_since_begin'] = roundin*df['time_since_begin_exp'].astype(int)/roundin \n",
    "    df=df.set_index('time_since_begin')\n",
    "    table = table.set_index('time_since_begin')\n",
    "    table = table.sort_index()\n",
    "    table['mean_speed_hyphae'] = df['speed']\n",
    "#     table['num_growing_hyphae'] = df2['speed']\n",
    "    table = table.reset_index()\n",
    "    ind_plate_table[plate] = table"
   ]
  },
  {
   "cell_type": "code",
   "execution_count": 14,
   "metadata": {},
   "outputs": [
    {
     "name": "stderr",
     "output_type": "stream",
     "text": [
      "C:\\Users\\coren\\anaconda3\\envs\\cleanMsc\\lib\\site-packages\\pandas\\core\\arraylike.py:358: RuntimeWarning: divide by zero encountered in log2\n",
      "  result = getattr(ufunc, method)(*inputs, **kwargs)\n",
      "C:\\Users\\coren\\anaconda3\\envs\\cleanMsc\\lib\\site-packages\\pandas\\core\\arraylike.py:358: RuntimeWarning: divide by zero encountered in log2\n",
      "  result = getattr(ufunc, method)(*inputs, **kwargs)\n",
      "C:\\Users\\coren\\anaconda3\\envs\\cleanMsc\\lib\\site-packages\\pandas\\core\\arraylike.py:358: RuntimeWarning: divide by zero encountered in log2\n",
      "  result = getattr(ufunc, method)(*inputs, **kwargs)\n",
      "C:\\Users\\coren\\anaconda3\\envs\\cleanMsc\\lib\\site-packages\\pandas\\core\\arraylike.py:358: RuntimeWarning: divide by zero encountered in log2\n",
      "  result = getattr(ufunc, method)(*inputs, **kwargs)\n",
      "C:\\Users\\coren\\anaconda3\\envs\\cleanMsc\\lib\\site-packages\\pandas\\core\\arraylike.py:358: RuntimeWarning: divide by zero encountered in log2\n",
      "  result = getattr(ufunc, method)(*inputs, **kwargs)\n",
      "C:\\Users\\coren\\anaconda3\\envs\\cleanMsc\\lib\\site-packages\\pandas\\core\\arraylike.py:358: RuntimeWarning: divide by zero encountered in log2\n",
      "  result = getattr(ufunc, method)(*inputs, **kwargs)\n"
     ]
    }
   ],
   "source": [
    "select_plates = list(global_hypha_info['Plate'].unique())\n",
    "select_plates.remove(10)\n",
    "select_plates = [94,792,76,152,102,799]\n",
    "for plate in select_plates:\n",
    "    table = ind_plate_table[plate]\n",
    "    table_hypha = ind_hypha_table[plate]\n",
    "    select_time = time_hypha_table[plate]\n",
    "    table_hypha['num_branch']=table_hypha['num_branch'].fillna(-1)\n",
    "    table_hypha['tot_growth_C']=table_hypha['tot_growth_C'].fillna(0)\n",
    "    table_hypha['branch_frequ'] = table_hypha['tot_growth_C'].div(table_hypha['num_branch'])/1000\n",
    "    table_hypha['branch_frequ_time']=table_hypha['branch_frequ']*table_hypha['mean_speed2']\n",
    "    def get_number_new_branch(row):\n",
    "        time = row['time_since_begin']\n",
    "#         growth_num = len(table_hypha.loc[(table_hypha['time_init_growth'].astype(int) == int(time)) &((table_hypha['time_stop_growth'].astype(int) != int(time)))])\n",
    "        growth_num = len(table_hypha.loc[(table_hypha['time_init_growth'].astype(int) == int(time))])\n",
    "\n",
    "        return(growth_num)\n",
    "    def get_number_rh(row):\n",
    "        time = row['time_since_begin']\n",
    "        growth_num = len(table_hypha.loc[(table_hypha['time_init_growth'].astype(int) <= int(time)) &((table_hypha['is_rh']==1))])\n",
    "        return(growth_num)\n",
    "    def get_number_bas(row):\n",
    "        time = row['time_since_begin']\n",
    "        growth_num = len(table_hypha.loc[(table_hypha['time_init_growth'].astype(int) <= int(time)) &((table_hypha['is_rh']==0))])\n",
    "        return(growth_num)\n",
    "    def get_number_stop_growth(row):\n",
    "        time = row['time_since_begin']\n",
    "        growth_num = len(table_hypha.loc[(table_hypha['time_stop_growth'].astype(int) == int(time)) &((table_hypha['time_init_growth'].astype(int) != int(time)))&((table_hypha['timestep_stop_growth'] != table_hypha['strop_track']))&(table_hypha['out_of_ROI'].isnull())])\n",
    "        return(growth_num)\n",
    "    def get_mean_length_hyphae(row):\n",
    "        time = row['time_since_begin']\n",
    "        selection = table_hypha.loc[(table_hypha['time_init_growth'].astype(int) == int(time)) &((table_hypha['time_stop_growth'].astype(int) != int(time)))]\n",
    "        selection = selection.loc[((table_hypha['timestep_stop_growth'] != table_hypha['strop_track']))&(table_hypha['out_of_ROI'].isnull())]\n",
    "#         selection = selection.loc[selection['is_rh']==1]\n",
    "#         selection = selection.loc[selection['tot_length_C']<=3200]\n",
    "        mean_length = np.mean(selection['tot_length_C'])\n",
    "        return(mean_length)\n",
    "    def get_mean_speed_hyphae(row):\n",
    "        time = row['time_since_begin']\n",
    "        mean_length = np.mean(table_hypha.loc[(table_hypha['time_init_growth'] == time) &((table_hypha['time_stop_growth'] != time))]['mean_speed'])\n",
    "        return(mean_length)\n",
    "    def get_mean_growth_lapse_hyphae(row):\n",
    "        time = row['time_since_begin']\n",
    "        selection = table_hypha.loc[(table_hypha['time_init_growth'] == time) &((table_hypha['time_stop_growth'] != time))&((table_hypha['timestep_stop_growth'] != table_hypha['strop_track']))&(table_hypha['out_of_ROI'].isnull())]\n",
    "        mean_lapse = np.mean(selection['time_stop_growth']-selection['time_init_growth'])/24\n",
    "        return(mean_lapse)\n",
    "    def get_mean_growth_arrest_frequ(row):\n",
    "        time = row['time_since_begin']\n",
    "        selection = table_hypha.loc[(table_hypha['time_init_growth'].astype(int) == int(time)) &((table_hypha['time_stop_growth'].astype(int) != int(time)))&((table_hypha['timestep_stop_growth'] != table_hypha['strop_track']))&(table_hypha['out_of_ROI'].isnull())]\n",
    "        selection = selection.loc[selection['mean_speed2'].between(150,350)]\n",
    "#         mean_frequ = np.mean(1/(selection['time_stop_growth']-selection['time_init_growth']))*24\n",
    "        mean_frequ = np.mean(selection['mean_speed2']/(selection['tot_growth_C']))*24\n",
    "        return(mean_frequ)\n",
    "    def get_branch_frequ_micro(row):\n",
    "        time = row['time_since_begin']\n",
    "        selection = table_hypha.loc[(table_hypha['time_init_growth'].astype(int) == int(time)) &((table_hypha['time_stop_growth'] != time))&((table_hypha['timestep_stop_growth'] != table_hypha['strop_track']))&(table_hypha['out_of_ROI'].isnull())]\n",
    "        mean_branch_frequ = np.mean(selection.loc[(selection['branch_frequ']>0)& (selection['branch_frequ']<10)]['branch_frequ'])\n",
    "        return(mean_branch_frequ)\n",
    "    def get_branch_frequ_micro_time(row):\n",
    "        time = row['time_since_begin']\n",
    "        selection = table_hypha.loc[(table_hypha['time_init_growth'].astype(int) == int(time)) &((table_hypha['time_stop_growth'].astype(int) != int(time)))&((table_hypha['timestep_stop_growth'] != table_hypha['strop_track']))&(table_hypha['out_of_ROI'].isnull())]\n",
    "        selection = selection.loc[selection['mean_speed2'].between(150,350)]\n",
    "        mean_branch_frequ = np.mean(selection.loc[(selection['branch_frequ']>0)& (selection['branch_frequ']<10)]['branch_frequ_time'])/1000*24\n",
    "        return(mean_branch_frequ)\n",
    "    window = int(1/table['mean_step'].unique()*20)\n",
    "#     window = 5\n",
    "    table['num_new_tips'] = table.apply (lambda row: get_number_new_branch(row), axis=1)\n",
    "#     table['num_rh'] = table.apply (lambda row: get_number_rh(row), axis=1)\n",
    "#     table['num_bas'] = table.apply (lambda row: get_number_bas(row), axis=1)\n",
    "#     table['rh_bas_ratio'] = table['num_rh']/table['num_bas']\n",
    "    table['cum_num_new_tips'] = table['num_new_tips'].cumsum()\n",
    "#     table['cum_num_new_tips'] = table['num_tips']\n",
    "    table['branch_frequ'] = table['cum_num_new_tips'].diff(window)/table['tot_length_study'].diff(window)*1000\n",
    "    table['num_tips_arrest'] = table.apply (lambda row: get_number_stop_growth(row), axis=1)\n",
    "    table['mean_length_hyphae'] = table.apply (lambda row: get_mean_length_hyphae(row), axis=1)\n",
    "\n",
    "    table['mean_length_hyphae_smooth'] = table['mean_length_hyphae'].rolling(window=window*2,min_periods=1).mean()\n",
    "    table['lapse_tip_arrest'] = table.apply (lambda row: get_mean_growth_lapse_hyphae(row), axis=1)\n",
    "    table['lapse_tip_arrest_smooth'] = table['lapse_tip_arrest'].rolling(window=window,min_periods=1 ).mean()\n",
    "    table['frequ_tip_arrest'] = table.apply (lambda row: get_mean_growth_arrest_frequ(row), axis=1)\n",
    "    table['frequ_tip_arrest_smooth'] = table['frequ_tip_arrest'].rolling(window=window,min_periods=1 ).mean()\n",
    "    table['rate_tip_arrest'] = 1/table['lapse_tip_arrest_smooth']\n",
    "    table['mean_speed_hyphae'] = table.apply (lambda row: get_mean_speed_hyphae(row), axis=1)\n",
    "    table['mean_speed_hyphae_smooth'] = table['mean_speed_hyphae'].rolling(window=window,min_periods=1).mean()\n",
    "    table['branch_frequ_time'] = table['branch_frequ']/1000*table['mean_speed_hyphae_smooth']*24\n",
    "    table['branch_frequ_micro'] = table.apply (lambda row: get_branch_frequ_micro(row), axis=1)\n",
    "    table['branch_frequ_micro_smooth'] = table['branch_frequ_micro'].rolling(window=window,min_periods=1).mean()\n",
    "    table['branch_frequ_micro_time'] = table.apply (lambda row: get_branch_frequ_micro_time(row), axis=1)\n",
    "#     table['branch_frequ_micro_time_smooth'] = savgol_filter(table['branch_frequ_micro_time'], 2*window//2+1, 3)\n",
    "    table['branch_frequ_micro_time_smooth'] = table['branch_frequ_micro_time'].rolling(window=window,min_periods=1).mean()\n",
    "    table['cum_num_tips_arrest'] = table['num_tips_arrest'].cumsum()\n",
    "    table['log_cum_num_tips_arrest'] = np.log2(table['cum_num_tips_arrest'].astype(float))\n",
    "    table['local_rate_tip_arrest'] = table['log_cum_num_tips_arrest'].diff(window)/table['time_since_begin'].diff(window)*24\n",
    "    table['tips_arrest_to_new_length_ratio'] = table['cum_num_tips_arrest'].diff(window)/table['tot_length_study'].diff(window)*1000\n",
    "    table['log_cum_num_new_tips'] = np.log2(table['cum_num_new_tips'].astype(float))\n",
    "    table['local_rate_tip_creation'] = table['log_cum_num_new_tips'].diff(window)/table['time_since_begin'].diff(window)*24\n",
    "    table['local_growth_rate_deduced'] = table['local_rate_tip_creation']-table['rate_tip_arrest']\n",
    "    table['local_growth_arrest_deduced'] = table['local_growth_rate']-table['local_rate_tip_creation']\n",
    "    table['alpha_stop'] = table['mean_speed_hyphae_smooth']/table['mean_length_hyphae_smooth']*24\n",
    "    table['alpha_stop2']= 1/table['lapse_tip_arrest_smooth']\n",
    "\n",
    "    table['local_growth_rate_deduced_2'] = table['branch_frequ_time']-table['alpha_stop']"
   ]
  },
  {
   "cell_type": "code",
   "execution_count": 15,
   "metadata": {},
   "outputs": [
    {
     "data": {
      "application/vnd.jupyter.widget-view+json": {
       "model_id": "86ed9e62205a4e27be5e184afee77ddb",
       "version_major": 2,
       "version_minor": 0
      },
      "text/plain": [
       "Canvas(toolbar=Toolbar(toolitems=[('Home', 'Reset original view', 'home', 'home'), ('Back', 'Back to previous …"
      ]
     },
     "metadata": {},
     "output_type": "display_data"
    },
    {
     "data": {
      "text/plain": [
       "Text(0.04, 0.5, 'mean length of RH ($\\\\mu m$)')"
      ]
     },
     "execution_count": 15,
     "metadata": {},
     "output_type": "execute_result"
    }
   ],
   "source": [
    "plt.close('all')\n",
    "x = 'time_since_begin2'\n",
    "y = 'branch_frequ'\n",
    "logy =False\n",
    "ylim = (0.4,1.2)\n",
    "xlim = (0,150)\n",
    "ylim = None\n",
    "kind = \"scatter\"\n",
    "# fig = plt.figure()\n",
    "# ax = plt.subplot(111)\n",
    "xlabel = 'time (h)'\n",
    "# ylabel = f'mean length of RH ($\\mu m$)'\n",
    "ylabel = f'mean length of RH ($\\mu m$)'\n",
    "\n",
    "num_columns = 2\n",
    "select_plates = [94,792,76,152,102,799]\n",
    "fig, axs = plt.subplots(((len(select_plates)+1)//num_columns), num_columns)\n",
    "\n",
    "for i,plate in enumerate(select_plates):\n",
    "    table = ind_plate_table[plate]\n",
    "#     ylim = (0,min(np.max(table['speed']),60000))\n",
    "    ax = axs[i//num_columns,i%num_columns]\n",
    "    in_study = table.loc[table['out_study']==0]\n",
    "    out_study = table.loc[table['out_study']==1]\n",
    "    if len(in_study)>0:\n",
    "        in_study.plot(x,y, ax = ax,legend = False,title = plate,logy=logy,ylim=ylim,xlim=xlim,kind = kind)\n",
    "        #,)\n",
    "#     if len(out_study)>0:\n",
    "#         out_study.plot(x,y, ax = ax,legend = False,title = plate,color = 'red',logy=logy,ylim = ylim,xlim=xlim,kind=kind)\n",
    "    ax.set_xlabel(None,fontsize=5)\n",
    "    ax.set_ylabel(None,fontsize=5)\n",
    "   \n",
    "fig.text(0.5, 0.004, xlabel, ha='center',fontdict = {'size' : 20} )\n",
    "fig.text(0.04, 0.5, ylabel, va='center', rotation='vertical',fontdict = {'size' : 20})\n"
   ]
  },
  {
   "cell_type": "code",
   "execution_count": 16,
   "metadata": {},
   "outputs": [
    {
     "data": {
      "application/vnd.jupyter.widget-view+json": {
       "model_id": "1a39f2657d464e0da28338e02ae8cfee",
       "version_major": 2,
       "version_minor": 0
      },
      "text/plain": [
       "Canvas(toolbar=Toolbar(toolitems=[('Home', 'Reset original view', 'home', 'home'), ('Back', 'Back to previous …"
      ]
     },
     "metadata": {},
     "output_type": "display_data"
    },
    {
     "name": "stdout",
     "output_type": "stream",
     "text": [
      "94\n"
     ]
    },
    {
     "ename": "KeyError",
     "evalue": "'num_rh'",
     "output_type": "error",
     "traceback": [
      "\u001b[1;31m---------------------------------------------------------------------------\u001b[0m",
      "\u001b[1;31mKeyError\u001b[0m                                  Traceback (most recent call last)",
      "\u001b[1;32m~\\anaconda3\\envs\\cleanMsc\\lib\\site-packages\\pandas\\core\\indexes\\base.py\u001b[0m in \u001b[0;36mget_loc\u001b[1;34m(self, key, method, tolerance)\u001b[0m\n\u001b[0;32m   3079\u001b[0m             \u001b[1;32mtry\u001b[0m\u001b[1;33m:\u001b[0m\u001b[1;33m\u001b[0m\u001b[1;33m\u001b[0m\u001b[0m\n\u001b[1;32m-> 3080\u001b[1;33m                 \u001b[1;32mreturn\u001b[0m \u001b[0mself\u001b[0m\u001b[1;33m.\u001b[0m\u001b[0m_engine\u001b[0m\u001b[1;33m.\u001b[0m\u001b[0mget_loc\u001b[0m\u001b[1;33m(\u001b[0m\u001b[0mcasted_key\u001b[0m\u001b[1;33m)\u001b[0m\u001b[1;33m\u001b[0m\u001b[1;33m\u001b[0m\u001b[0m\n\u001b[0m\u001b[0;32m   3081\u001b[0m             \u001b[1;32mexcept\u001b[0m \u001b[0mKeyError\u001b[0m \u001b[1;32mas\u001b[0m \u001b[0merr\u001b[0m\u001b[1;33m:\u001b[0m\u001b[1;33m\u001b[0m\u001b[1;33m\u001b[0m\u001b[0m\n",
      "\u001b[1;32mpandas\\_libs\\index.pyx\u001b[0m in \u001b[0;36mpandas._libs.index.IndexEngine.get_loc\u001b[1;34m()\u001b[0m\n",
      "\u001b[1;32mpandas\\_libs\\index.pyx\u001b[0m in \u001b[0;36mpandas._libs.index.IndexEngine.get_loc\u001b[1;34m()\u001b[0m\n",
      "\u001b[1;32mpandas\\_libs\\hashtable_class_helper.pxi\u001b[0m in \u001b[0;36mpandas._libs.hashtable.PyObjectHashTable.get_item\u001b[1;34m()\u001b[0m\n",
      "\u001b[1;32mpandas\\_libs\\hashtable_class_helper.pxi\u001b[0m in \u001b[0;36mpandas._libs.hashtable.PyObjectHashTable.get_item\u001b[1;34m()\u001b[0m\n",
      "\u001b[1;31mKeyError\u001b[0m: 'num_rh'",
      "\nThe above exception was the direct cause of the following exception:\n",
      "\u001b[1;31mKeyError\u001b[0m                                  Traceback (most recent call last)",
      "\u001b[1;32m<ipython-input-16-d5e3acd22add>\u001b[0m in \u001b[0;36m<module>\u001b[1;34m\u001b[0m\n\u001b[0;32m     23\u001b[0m     \u001b[0mout_study\u001b[0m \u001b[1;33m=\u001b[0m \u001b[0mtable\u001b[0m\u001b[1;33m.\u001b[0m\u001b[0mloc\u001b[0m\u001b[1;33m[\u001b[0m\u001b[0mtable\u001b[0m\u001b[1;33m[\u001b[0m\u001b[1;34m'out_study'\u001b[0m\u001b[1;33m]\u001b[0m\u001b[1;33m==\u001b[0m\u001b[1;36m1\u001b[0m\u001b[1;33m]\u001b[0m\u001b[1;33m\u001b[0m\u001b[1;33m\u001b[0m\u001b[0m\n\u001b[0;32m     24\u001b[0m     \u001b[1;32mif\u001b[0m \u001b[0mlen\u001b[0m\u001b[1;33m(\u001b[0m\u001b[0min_study\u001b[0m\u001b[1;33m)\u001b[0m\u001b[1;33m>\u001b[0m\u001b[1;36m0\u001b[0m\u001b[1;33m:\u001b[0m\u001b[1;33m\u001b[0m\u001b[1;33m\u001b[0m\u001b[0m\n\u001b[1;32m---> 25\u001b[1;33m         \u001b[0min_study\u001b[0m\u001b[1;33m.\u001b[0m\u001b[0mplot\u001b[0m\u001b[1;33m(\u001b[0m\u001b[0mx\u001b[0m\u001b[1;33m,\u001b[0m\u001b[0my\u001b[0m\u001b[1;33m,\u001b[0m \u001b[0max\u001b[0m \u001b[1;33m=\u001b[0m \u001b[0max\u001b[0m\u001b[1;33m,\u001b[0m\u001b[0mlegend\u001b[0m \u001b[1;33m=\u001b[0m \u001b[1;32mFalse\u001b[0m\u001b[1;33m,\u001b[0m\u001b[0mtitle\u001b[0m \u001b[1;33m=\u001b[0m \u001b[0mplate\u001b[0m\u001b[1;33m,\u001b[0m\u001b[0mlogy\u001b[0m\u001b[1;33m=\u001b[0m\u001b[0mlogy\u001b[0m\u001b[1;33m,\u001b[0m\u001b[0mylim\u001b[0m\u001b[1;33m=\u001b[0m\u001b[0mylim\u001b[0m\u001b[1;33m,\u001b[0m\u001b[0mxlim\u001b[0m\u001b[1;33m=\u001b[0m\u001b[0mxlim\u001b[0m\u001b[1;33m,\u001b[0m\u001b[0mkind\u001b[0m \u001b[1;33m=\u001b[0m \u001b[0mkind\u001b[0m\u001b[1;33m)\u001b[0m\u001b[1;33m\u001b[0m\u001b[1;33m\u001b[0m\u001b[0m\n\u001b[0m\u001b[0;32m     26\u001b[0m         \u001b[1;31m#,)\u001b[0m\u001b[1;33m\u001b[0m\u001b[1;33m\u001b[0m\u001b[1;33m\u001b[0m\u001b[0m\n\u001b[0;32m     27\u001b[0m     \u001b[1;32mif\u001b[0m \u001b[0mlen\u001b[0m\u001b[1;33m(\u001b[0m\u001b[0mout_study\u001b[0m\u001b[1;33m)\u001b[0m\u001b[1;33m>\u001b[0m\u001b[1;36m0\u001b[0m\u001b[1;33m:\u001b[0m\u001b[1;33m\u001b[0m\u001b[1;33m\u001b[0m\u001b[0m\n",
      "\u001b[1;32m~\\anaconda3\\envs\\cleanMsc\\lib\\site-packages\\pandas\\plotting\\_core.py\u001b[0m in \u001b[0;36m__call__\u001b[1;34m(self, *args, **kwargs)\u001b[0m\n\u001b[0;32m    898\u001b[0m         \u001b[1;32mif\u001b[0m \u001b[0mkind\u001b[0m \u001b[1;32min\u001b[0m \u001b[0mself\u001b[0m\u001b[1;33m.\u001b[0m\u001b[0m_dataframe_kinds\u001b[0m\u001b[1;33m:\u001b[0m\u001b[1;33m\u001b[0m\u001b[1;33m\u001b[0m\u001b[0m\n\u001b[0;32m    899\u001b[0m             \u001b[1;32mif\u001b[0m \u001b[0misinstance\u001b[0m\u001b[1;33m(\u001b[0m\u001b[0mdata\u001b[0m\u001b[1;33m,\u001b[0m \u001b[0mABCDataFrame\u001b[0m\u001b[1;33m)\u001b[0m\u001b[1;33m:\u001b[0m\u001b[1;33m\u001b[0m\u001b[1;33m\u001b[0m\u001b[0m\n\u001b[1;32m--> 900\u001b[1;33m                 \u001b[1;32mreturn\u001b[0m \u001b[0mplot_backend\u001b[0m\u001b[1;33m.\u001b[0m\u001b[0mplot\u001b[0m\u001b[1;33m(\u001b[0m\u001b[0mdata\u001b[0m\u001b[1;33m,\u001b[0m \u001b[0mx\u001b[0m\u001b[1;33m=\u001b[0m\u001b[0mx\u001b[0m\u001b[1;33m,\u001b[0m \u001b[0my\u001b[0m\u001b[1;33m=\u001b[0m\u001b[0my\u001b[0m\u001b[1;33m,\u001b[0m \u001b[0mkind\u001b[0m\u001b[1;33m=\u001b[0m\u001b[0mkind\u001b[0m\u001b[1;33m,\u001b[0m \u001b[1;33m**\u001b[0m\u001b[0mkwargs\u001b[0m\u001b[1;33m)\u001b[0m\u001b[1;33m\u001b[0m\u001b[1;33m\u001b[0m\u001b[0m\n\u001b[0m\u001b[0;32m    901\u001b[0m             \u001b[1;32melse\u001b[0m\u001b[1;33m:\u001b[0m\u001b[1;33m\u001b[0m\u001b[1;33m\u001b[0m\u001b[0m\n\u001b[0;32m    902\u001b[0m                 \u001b[1;32mraise\u001b[0m \u001b[0mValueError\u001b[0m\u001b[1;33m(\u001b[0m\u001b[1;34mf\"plot kind {kind} can only be used for data frames\"\u001b[0m\u001b[1;33m)\u001b[0m\u001b[1;33m\u001b[0m\u001b[1;33m\u001b[0m\u001b[0m\n",
      "\u001b[1;32m~\\anaconda3\\envs\\cleanMsc\\lib\\site-packages\\pandas\\plotting\\_matplotlib\\__init__.py\u001b[0m in \u001b[0;36mplot\u001b[1;34m(data, kind, **kwargs)\u001b[0m\n\u001b[0;32m     59\u001b[0m             \u001b[0mkwargs\u001b[0m\u001b[1;33m[\u001b[0m\u001b[1;34m\"ax\"\u001b[0m\u001b[1;33m]\u001b[0m \u001b[1;33m=\u001b[0m \u001b[0mgetattr\u001b[0m\u001b[1;33m(\u001b[0m\u001b[0max\u001b[0m\u001b[1;33m,\u001b[0m \u001b[1;34m\"left_ax\"\u001b[0m\u001b[1;33m,\u001b[0m \u001b[0max\u001b[0m\u001b[1;33m)\u001b[0m\u001b[1;33m\u001b[0m\u001b[1;33m\u001b[0m\u001b[0m\n\u001b[0;32m     60\u001b[0m     \u001b[0mplot_obj\u001b[0m \u001b[1;33m=\u001b[0m \u001b[0mPLOT_CLASSES\u001b[0m\u001b[1;33m[\u001b[0m\u001b[0mkind\u001b[0m\u001b[1;33m]\u001b[0m\u001b[1;33m(\u001b[0m\u001b[0mdata\u001b[0m\u001b[1;33m,\u001b[0m \u001b[1;33m**\u001b[0m\u001b[0mkwargs\u001b[0m\u001b[1;33m)\u001b[0m\u001b[1;33m\u001b[0m\u001b[1;33m\u001b[0m\u001b[0m\n\u001b[1;32m---> 61\u001b[1;33m     \u001b[0mplot_obj\u001b[0m\u001b[1;33m.\u001b[0m\u001b[0mgenerate\u001b[0m\u001b[1;33m(\u001b[0m\u001b[1;33m)\u001b[0m\u001b[1;33m\u001b[0m\u001b[1;33m\u001b[0m\u001b[0m\n\u001b[0m\u001b[0;32m     62\u001b[0m     \u001b[0mplot_obj\u001b[0m\u001b[1;33m.\u001b[0m\u001b[0mdraw\u001b[0m\u001b[1;33m(\u001b[0m\u001b[1;33m)\u001b[0m\u001b[1;33m\u001b[0m\u001b[1;33m\u001b[0m\u001b[0m\n\u001b[0;32m     63\u001b[0m     \u001b[1;32mreturn\u001b[0m \u001b[0mplot_obj\u001b[0m\u001b[1;33m.\u001b[0m\u001b[0mresult\u001b[0m\u001b[1;33m\u001b[0m\u001b[1;33m\u001b[0m\u001b[0m\n",
      "\u001b[1;32m~\\anaconda3\\envs\\cleanMsc\\lib\\site-packages\\pandas\\plotting\\_matplotlib\\core.py\u001b[0m in \u001b[0;36mgenerate\u001b[1;34m(self)\u001b[0m\n\u001b[0;32m    278\u001b[0m         \u001b[0mself\u001b[0m\u001b[1;33m.\u001b[0m\u001b[0m_compute_plot_data\u001b[0m\u001b[1;33m(\u001b[0m\u001b[1;33m)\u001b[0m\u001b[1;33m\u001b[0m\u001b[1;33m\u001b[0m\u001b[0m\n\u001b[0;32m    279\u001b[0m         \u001b[0mself\u001b[0m\u001b[1;33m.\u001b[0m\u001b[0m_setup_subplots\u001b[0m\u001b[1;33m(\u001b[0m\u001b[1;33m)\u001b[0m\u001b[1;33m\u001b[0m\u001b[1;33m\u001b[0m\u001b[0m\n\u001b[1;32m--> 280\u001b[1;33m         \u001b[0mself\u001b[0m\u001b[1;33m.\u001b[0m\u001b[0m_make_plot\u001b[0m\u001b[1;33m(\u001b[0m\u001b[1;33m)\u001b[0m\u001b[1;33m\u001b[0m\u001b[1;33m\u001b[0m\u001b[0m\n\u001b[0m\u001b[0;32m    281\u001b[0m         \u001b[0mself\u001b[0m\u001b[1;33m.\u001b[0m\u001b[0m_add_table\u001b[0m\u001b[1;33m(\u001b[0m\u001b[1;33m)\u001b[0m\u001b[1;33m\u001b[0m\u001b[1;33m\u001b[0m\u001b[0m\n\u001b[0;32m    282\u001b[0m         \u001b[0mself\u001b[0m\u001b[1;33m.\u001b[0m\u001b[0m_make_legend\u001b[0m\u001b[1;33m(\u001b[0m\u001b[1;33m)\u001b[0m\u001b[1;33m\u001b[0m\u001b[1;33m\u001b[0m\u001b[0m\n",
      "\u001b[1;32m~\\anaconda3\\envs\\cleanMsc\\lib\\site-packages\\pandas\\plotting\\_matplotlib\\core.py\u001b[0m in \u001b[0;36m_make_plot\u001b[1;34m(self)\u001b[0m\n\u001b[0;32m   1041\u001b[0m         scatter = ax.scatter(\n\u001b[0;32m   1042\u001b[0m             \u001b[0mdata\u001b[0m\u001b[1;33m[\u001b[0m\u001b[0mx\u001b[0m\u001b[1;33m]\u001b[0m\u001b[1;33m.\u001b[0m\u001b[0mvalues\u001b[0m\u001b[1;33m,\u001b[0m\u001b[1;33m\u001b[0m\u001b[1;33m\u001b[0m\u001b[0m\n\u001b[1;32m-> 1043\u001b[1;33m             \u001b[0mdata\u001b[0m\u001b[1;33m[\u001b[0m\u001b[0my\u001b[0m\u001b[1;33m]\u001b[0m\u001b[1;33m.\u001b[0m\u001b[0mvalues\u001b[0m\u001b[1;33m,\u001b[0m\u001b[1;33m\u001b[0m\u001b[1;33m\u001b[0m\u001b[0m\n\u001b[0m\u001b[0;32m   1044\u001b[0m             \u001b[0mc\u001b[0m\u001b[1;33m=\u001b[0m\u001b[0mc_values\u001b[0m\u001b[1;33m,\u001b[0m\u001b[1;33m\u001b[0m\u001b[1;33m\u001b[0m\u001b[0m\n\u001b[0;32m   1045\u001b[0m             \u001b[0mlabel\u001b[0m\u001b[1;33m=\u001b[0m\u001b[0mlabel\u001b[0m\u001b[1;33m,\u001b[0m\u001b[1;33m\u001b[0m\u001b[1;33m\u001b[0m\u001b[0m\n",
      "\u001b[1;32m~\\anaconda3\\envs\\cleanMsc\\lib\\site-packages\\pandas\\core\\frame.py\u001b[0m in \u001b[0;36m__getitem__\u001b[1;34m(self, key)\u001b[0m\n\u001b[0;32m   3022\u001b[0m             \u001b[1;32mif\u001b[0m \u001b[0mself\u001b[0m\u001b[1;33m.\u001b[0m\u001b[0mcolumns\u001b[0m\u001b[1;33m.\u001b[0m\u001b[0mnlevels\u001b[0m \u001b[1;33m>\u001b[0m \u001b[1;36m1\u001b[0m\u001b[1;33m:\u001b[0m\u001b[1;33m\u001b[0m\u001b[1;33m\u001b[0m\u001b[0m\n\u001b[0;32m   3023\u001b[0m                 \u001b[1;32mreturn\u001b[0m \u001b[0mself\u001b[0m\u001b[1;33m.\u001b[0m\u001b[0m_getitem_multilevel\u001b[0m\u001b[1;33m(\u001b[0m\u001b[0mkey\u001b[0m\u001b[1;33m)\u001b[0m\u001b[1;33m\u001b[0m\u001b[1;33m\u001b[0m\u001b[0m\n\u001b[1;32m-> 3024\u001b[1;33m             \u001b[0mindexer\u001b[0m \u001b[1;33m=\u001b[0m \u001b[0mself\u001b[0m\u001b[1;33m.\u001b[0m\u001b[0mcolumns\u001b[0m\u001b[1;33m.\u001b[0m\u001b[0mget_loc\u001b[0m\u001b[1;33m(\u001b[0m\u001b[0mkey\u001b[0m\u001b[1;33m)\u001b[0m\u001b[1;33m\u001b[0m\u001b[1;33m\u001b[0m\u001b[0m\n\u001b[0m\u001b[0;32m   3025\u001b[0m             \u001b[1;32mif\u001b[0m \u001b[0mis_integer\u001b[0m\u001b[1;33m(\u001b[0m\u001b[0mindexer\u001b[0m\u001b[1;33m)\u001b[0m\u001b[1;33m:\u001b[0m\u001b[1;33m\u001b[0m\u001b[1;33m\u001b[0m\u001b[0m\n\u001b[0;32m   3026\u001b[0m                 \u001b[0mindexer\u001b[0m \u001b[1;33m=\u001b[0m \u001b[1;33m[\u001b[0m\u001b[0mindexer\u001b[0m\u001b[1;33m]\u001b[0m\u001b[1;33m\u001b[0m\u001b[1;33m\u001b[0m\u001b[0m\n",
      "\u001b[1;32m~\\anaconda3\\envs\\cleanMsc\\lib\\site-packages\\pandas\\core\\indexes\\base.py\u001b[0m in \u001b[0;36mget_loc\u001b[1;34m(self, key, method, tolerance)\u001b[0m\n\u001b[0;32m   3080\u001b[0m                 \u001b[1;32mreturn\u001b[0m \u001b[0mself\u001b[0m\u001b[1;33m.\u001b[0m\u001b[0m_engine\u001b[0m\u001b[1;33m.\u001b[0m\u001b[0mget_loc\u001b[0m\u001b[1;33m(\u001b[0m\u001b[0mcasted_key\u001b[0m\u001b[1;33m)\u001b[0m\u001b[1;33m\u001b[0m\u001b[1;33m\u001b[0m\u001b[0m\n\u001b[0;32m   3081\u001b[0m             \u001b[1;32mexcept\u001b[0m \u001b[0mKeyError\u001b[0m \u001b[1;32mas\u001b[0m \u001b[0merr\u001b[0m\u001b[1;33m:\u001b[0m\u001b[1;33m\u001b[0m\u001b[1;33m\u001b[0m\u001b[0m\n\u001b[1;32m-> 3082\u001b[1;33m                 \u001b[1;32mraise\u001b[0m \u001b[0mKeyError\u001b[0m\u001b[1;33m(\u001b[0m\u001b[0mkey\u001b[0m\u001b[1;33m)\u001b[0m \u001b[1;32mfrom\u001b[0m \u001b[0merr\u001b[0m\u001b[1;33m\u001b[0m\u001b[1;33m\u001b[0m\u001b[0m\n\u001b[0m\u001b[0;32m   3083\u001b[0m \u001b[1;33m\u001b[0m\u001b[0m\n\u001b[0;32m   3084\u001b[0m         \u001b[1;32mif\u001b[0m \u001b[0mtolerance\u001b[0m \u001b[1;32mis\u001b[0m \u001b[1;32mnot\u001b[0m \u001b[1;32mNone\u001b[0m\u001b[1;33m:\u001b[0m\u001b[1;33m\u001b[0m\u001b[1;33m\u001b[0m\u001b[0m\n",
      "\u001b[1;31mKeyError\u001b[0m: 'num_rh'"
     ]
    }
   ],
   "source": [
    "plt.close('all')\n",
    "x = 'time_since_begin2'\n",
    "y = 'num_rh'\n",
    "logy =False\n",
    "ylim = (4000,8000)\n",
    "xlim = (0,150)\n",
    "ylim = None\n",
    "kind = \"scatter\"\n",
    "# fig = plt.figure()\n",
    "# ax = plt.subplot(111)\n",
    "xlabel = 'time (h)'\n",
    "ylabel = f'mean length of RH ($\\mu m$)'\n",
    "num_columns =2 \n",
    "select_plates = [94,792,76,152,102]\n",
    "fig, axs = plt.subplots(((len(select_plates)+1)//num_columns), num_columns)\n",
    "\n",
    "for i,plate in enumerate(select_plates):\n",
    "    print(plate)\n",
    "    table = ind_plate_table[plate]\n",
    "#     ylim = (0,min(np.max(table['speed']),60000))\n",
    "    ax = axs[i//num_columns,i%num_columns]\n",
    "    in_study = table.loc[table['out_study']==0]\n",
    "    out_study = table.loc[table['out_study']==1]\n",
    "    if len(in_study)>0:\n",
    "        in_study.plot(x,y, ax = ax,legend = False,title = plate,logy=logy,ylim=ylim,xlim=xlim,kind = kind)\n",
    "        #,)\n",
    "    if len(out_study)>0:\n",
    "        out_study.plot(x,y, ax = ax,legend = False,title = plate,color = 'red',logy=logy,ylim = ylim,xlim=xlim,kind=kind)\n",
    "    ax.set_xlabel(None,fontsize=5)\n",
    "    ax.set_ylabel(None,fontsize=5)\n",
    "    \n",
    "x = 'time_since_begin2'\n",
    "y = 'num_bas'  \n",
    "\n",
    "for i,plate in enumerate(select_plates):\n",
    "    table = ind_plate_table[plate]\n",
    "#     ylim = (0,min(np.max(table['speed']),60000))\n",
    "    ax = axs[i//num_columns,i%num_columns]\n",
    "    in_study = table.loc[table['out_study']==0]\n",
    "    out_study = table.loc[table['out_study']==1]\n",
    "    if len(in_study)>0:\n",
    "        in_study.plot(x,y, ax = ax,legend = False,logy=logy,ylim=ylim,xlim=xlim,kind = kind,color = 'purple')\n",
    "        #,)\n",
    "    if len(out_study)>0:\n",
    "        out_study.plot(x,y, ax = ax,legend = False,title = plate,color = 'orange',logy=logy,ylim = ylim,xlim=xlim,kind=kind)\n",
    "    ax.set_xlabel(None,fontsize=5)\n",
    "    ax.set_ylabel(None,fontsize=5)\n",
    "# plt.tick_params(labelcolor=\"none\", bottom=False, left=False)\n",
    "   \n",
    "fig.text(0.5, 0.004, xlabel, ha='center',fontdict = {'size' : 20} )\n",
    "fig.text(0.04, 0.5, ylabel, va='center', rotation='vertical',fontdict = {'size' : 20})\n"
   ]
  },
  {
   "cell_type": "code",
   "execution_count": null,
   "metadata": {},
   "outputs": [],
   "source": [
    "plt.close('all')\n",
    "x = 'time_since_begin2'\n",
    "y = 'rh_bas_ratio'\n",
    "logy =False\n",
    "ylim = (0.4,2)\n",
    "xlim = (0,150)\n",
    "# ylim = None\n",
    "kind = \"scatter\"\n",
    "# fig = plt.figure()\n",
    "# ax = plt.subplot(111)\n",
    "xlabel = 'time (h)'\n",
    "ylabel = f'total RH/BAS ratio'\n",
    "num_columns = 2\n",
    "fig, axs = plt.subplots(((len(select_plates)+1)//num_columns), num_columns)\n",
    "\n",
    "for i,plate in enumerate(select_plates):\n",
    "    table = ind_plate_table[plate]\n",
    "#     ylim = (0,min(np.max(table['speed']),60000))\n",
    "    ax = axs[i//num_columns,i%num_columns]\n",
    "    in_study = table.loc[table['out_study']==0]\n",
    "    out_study = table.loc[table['out_study']==1]\n",
    "    if len(in_study)>0:\n",
    "        in_study.plot(x,y, ax = ax,legend = False,title = plate,logy=logy,ylim=ylim,xlim=xlim,kind = kind)\n",
    "        #,)\n",
    "#     if len(out_study)>0:\n",
    "#         out_study.plot(x,y, ax = ax,legend = False,title = plate,color = 'red',logy=logy,ylim = ylim,xlim=xlim,kind=kind)\n",
    "    ax.set_xlabel(None,fontsize=5)\n",
    "    ax.set_ylabel(None,fontsize=5)\n",
    "fig.text(0.5, 0.004, xlabel, ha='center',fontdict = {'size' : 20} )\n",
    "fig.text(0.04, 0.5, ylabel, va='center', rotation='vertical',fontdict = {'size' : 20})"
   ]
  },
  {
   "cell_type": "code",
   "execution_count": 17,
   "metadata": {},
   "outputs": [
    {
     "data": {
      "application/vnd.jupyter.widget-view+json": {
       "model_id": "b3d75032c8ca407f8c163cc3422a50d4",
       "version_major": 2,
       "version_minor": 0
      },
      "text/plain": [
       "Canvas(toolbar=Toolbar(toolitems=[('Home', 'Reset original view', 'home', 'home'), ('Back', 'Back to previous …"
      ]
     },
     "metadata": {},
     "output_type": "display_data"
    },
    {
     "data": {
      "text/plain": [
       "Text(0.04, 0.5, 'Hyphae mean growth speed $(\\\\mu m.h{-1})$')"
      ]
     },
     "execution_count": 17,
     "metadata": {},
     "output_type": "execute_result"
    }
   ],
   "source": [
    "plt.close('all')\n",
    "x = 'time_since_begin'\n",
    "y = 'local_growth_rate'\n",
    "logy =False\n",
    "ylim = (100,250)\n",
    "xlim = (-40,150)\n",
    "ylim = (0,3)\n",
    "kind = \"scatter\"\n",
    "# fig = plt.figure()\n",
    "# ax = plt.subplot(111)\n",
    "xlabel = 'time (h)'\n",
    "ylabel = r'Hyphae mean growth speed $(\\mu m.h{-1})$'\n",
    "num_columns = 2\n",
    "fig, axs = plt.subplots(((len(select_plates)+1)//num_columns), num_columns)\n",
    "for i,plate in enumerate(select_plates):\n",
    "    table = ind_plate_table[plate]\n",
    "#     ylim = (0,min(np.max(table['speed']),60000))\n",
    "    ax = axs[i//num_columns,i%num_columns]\n",
    "    in_study = table.loc[table['out_study']==0]\n",
    "    out_study = table.loc[table['out_study']==1]\n",
    "    if len(in_study)>0:\n",
    "        in_study.plot(x,y, ax = ax,legend = False,title = plate,logy=logy,ylim=ylim,xlim=xlim,kind = kind)\n",
    "        #,)\n",
    "#     if len(out_study)>0:\n",
    "#         out_study.plot(x,y, ax = ax,legend = False,title = plate,color = 'red',logy=logy,ylim = ylim,xlim=xlim,kind=kind)\n",
    "    ax.set_xlabel(None,fontsize=5)\n",
    "    ax.set_ylabel(None,fontsize=5)\n",
    "\n",
    "# plt.tick_params(labelcolor=\"none\", bottom=False, left=False)\n",
    "   \n",
    "fig.text(0.5, 0.004, xlabel, ha='center',fontdict = {'size' : 20} )\n",
    "fig.text(0.04, 0.5, ylabel, va='center', rotation='vertical',fontdict = {'size' : 20})"
   ]
  },
  {
   "cell_type": "code",
   "execution_count": 18,
   "metadata": {},
   "outputs": [
    {
     "data": {
      "application/vnd.jupyter.widget-view+json": {
       "model_id": "ceebb546a8944994912b9ca84332bcf1",
       "version_major": 2,
       "version_minor": 0
      },
      "text/plain": [
       "Canvas(toolbar=Toolbar(toolitems=[('Home', 'Reset original view', 'home', 'home'), ('Back', 'Back to previous …"
      ]
     },
     "metadata": {},
     "output_type": "display_data"
    },
    {
     "data": {
      "text/plain": [
       "Text(0.04, 0.5, 'Hyphae mean growth speed $(\\\\mu m.h{-1})$')"
      ]
     },
     "execution_count": 18,
     "metadata": {},
     "output_type": "execute_result"
    }
   ],
   "source": [
    "plt.close('all')\n",
    "x = 'time_since_begin2'\n",
    "y = 'total_length_m'\n",
    "logy =False\n",
    "# ylim = (100,300)\n",
    "xlim = (0,150)\n",
    "ylim = None\n",
    "kind = \"scatter\"\n",
    "# fig = plt.figure()\n",
    "# ax = plt.subplot(111)\n",
    "xlabel = 'time (h)'\n",
    "ylabel = r'Hyphae mean growth speed $(\\mu m.h{-1})$'\n",
    "num_columns = 2\n",
    "fig, axs = plt.subplots(((len(select_plates)+1)//num_columns), num_columns)\n",
    "for i,plate in enumerate(select_plates):\n",
    "    table = ind_plate_table[plate]\n",
    "#     ylim = (0,min(np.max(table['speed']),60000))\n",
    "    ax = axs[i//num_columns,i%num_columns]\n",
    "    in_study = table.loc[table['out_study']==0]\n",
    "    out_study = table.loc[table['out_study']==1]\n",
    "    if len(in_study)>0:\n",
    "        in_study.plot(x,y, ax = ax,legend = False,title = plate,logy=logy,ylim=ylim,xlim=xlim,kind = kind)\n",
    "        #,)\n",
    "#     if len(out_study)>0:\n",
    "#         out_study.plot(x,y, ax = ax,legend = False,title = plate,color = 'red',logy=logy,ylim = ylim,xlim=xlim,kind=kind)\n",
    "    ax.set_xlabel(None,fontsize=5)\n",
    "    ax.set_ylabel(None,fontsize=5)\n",
    "    ax.set_yscale('log')\n",
    "\n",
    "# plt.tick_params(labelcolor=\"none\", bottom=False, left=False)\n",
    "   \n",
    "fig.text(0.5, 0.004, xlabel, ha='center',fontdict = {'size' : 20} )\n",
    "fig.text(0.04, 0.5, ylabel, va='center', rotation='vertical',fontdict = {'size' : 20})"
   ]
  },
  {
   "cell_type": "code",
   "execution_count": 19,
   "metadata": {},
   "outputs": [
    {
     "data": {
      "application/vnd.jupyter.widget-view+json": {
       "model_id": "53ed7c84b8a24967acaf605e3e4a616a",
       "version_major": 2,
       "version_minor": 0
      },
      "text/plain": [
       "Canvas(toolbar=Toolbar(toolitems=[('Home', 'Reset original view', 'home', 'home'), ('Back', 'Back to previous …"
      ]
     },
     "metadata": {},
     "output_type": "display_data"
    },
    {
     "data": {
      "text/plain": [
       "Text(0.04, 0.5, 'Total network length $(\\\\mu m)$')"
      ]
     },
     "execution_count": 19,
     "metadata": {},
     "output_type": "execute_result"
    }
   ],
   "source": [
    "fig, ax = plt.subplots()\n",
    "x = 'time_since_begin3'\n",
    "y = 'total_length_m'\n",
    "logy =False\n",
    "# ylim = (100,300)\n",
    "xlim = (-40,150)\n",
    "ylim = None\n",
    "kind = \"scatter\"\n",
    "# fig = plt.figure()\n",
    "# ax = plt.subplot(111)\n",
    "xlabel = 'time (h)'\n",
    "ylabel = r'Total network length $(\\mu m)$'\n",
    "num_columns = 2\n",
    "for i,plate in enumerate(select_plates):\n",
    "    table = ind_plate_table[plate]\n",
    "    t0 = np.min(table.loc[table[\"total_length_m\"]>=0.2][\"time_since_begin\"])\n",
    "#     ylim = (0,min(np.max(table['speed']),60000))\n",
    "    table['time_since_begin3'] = table['time_since_begin']-t0\n",
    "    in_study = table.loc[table['out_study']==0]\n",
    "    if len(in_study)>0:\n",
    "        ax.scatter(in_study[x],in_study[y],label = plate)\n",
    "    ax.set_xlabel(None,fontsize=5)\n",
    "    ax.set_ylabel(None,fontsize=5)\n",
    "    ax.set_yscale('log')\n",
    "\n",
    "# plt.tick_params(labelcolor=\"none\", bottom=False, left=False)\n",
    "ax.set_xlim(xlim)  \n",
    "plt.legend()\n",
    "fig.text(0.5, 0.004, xlabel, ha='center',fontdict = {'size' : 20} )\n",
    "fig.text(0.04, 0.5, ylabel, va='center', rotation='vertical',fontdict = {'size' : 20})"
   ]
  },
  {
   "cell_type": "code",
   "execution_count": 23,
   "metadata": {},
   "outputs": [
    {
     "data": {
      "application/vnd.jupyter.widget-view+json": {
       "model_id": "189dcb382b194a859c651007c3040319",
       "version_major": 2,
       "version_minor": 0
      },
      "text/plain": [
       "Canvas(toolbar=Toolbar(toolitems=[('Home', 'Reset original view', 'home', 'home'), ('Back', 'Back to previous …"
      ]
     },
     "metadata": {},
     "output_type": "display_data"
    },
    {
     "data": {
      "text/plain": [
       "Text(0.04, 0.5, 'Total network length $(\\\\mu m)$')"
      ]
     },
     "execution_count": 23,
     "metadata": {},
     "output_type": "execute_result"
    }
   ],
   "source": [
    "fig, ax = plt.subplots()\n",
    "ax2=ax.twinx()\n",
    "x = 'time_since_begin4'\n",
    "y = 'total_length_m'\n",
    "logy =False\n",
    "# ylim = (100,300)\n",
    "xlim = (-40,100)\n",
    "ylim = None\n",
    "kind = \"scatter\"\n",
    "# fig = plt.figure()\n",
    "# ax = plt.subplot(111)\n",
    "xlabel = 'time (h)'\n",
    "ylabel = r'Total network length $(\\mu m)$'\n",
    "num_columns = 2\n",
    "for i,plate in enumerate(select_plates):\n",
    "    table = ind_plate_table[plate]\n",
    "    t0 = np.min(table.loc[table[\"total_length_m\"]>=0.2][\"time_since_begin\"])\n",
    "#     ylim = (0,min(np.max(table['speed']),60000))\n",
    "    table['time_since_begin3'] = table['time_since_begin']-t0\n",
    "    table['time_since_begin4'] = table['time_since_begin']-t1s[plate]\n",
    "    in_study = table.loc[table['out_study']==0]\n",
    "    if len(in_study)>0:\n",
    "        ax.scatter(in_study[x],in_study[y],label = plate)\n",
    "    ax.set_xlabel(None,fontsize=5)\n",
    "    ax.set_ylabel(None,fontsize=5)\n",
    "    ax.set_yscale('log')\n",
    "    y = 'total_length_m'\n",
    "    f = interp1d(in_study[x], in_study[y])\n",
    "    deb = np.min(in_study[x])\n",
    "    end = np.max(in_study[x])\n",
    "    frequ = 1\n",
    "    av_lapse = 311\n",
    "    x0 = np.linspace(deb,end,1000)\n",
    "    resampled = pd.DataFrame({'time':x0,'total_length_m':f(x0)})\n",
    "    reg = LinearRegression().fit(x0.reshape((-1, 1)), f(x0))\n",
    "    resampled['total_length_m_smooth']= savgol_filter(resampled['total_length_m'], av_lapse, 3)\n",
    "    resampled['log_total_length_m_smooth']=np.log2(resampled['total_length_m_smooth'])\n",
    "    resampled['local_growth_rate'] = resampled['log_total_length_m_smooth'].diff(10)/resampled['time'].diff(10)*24\n",
    "    ax2.plot(resampled['time'],resampled['local_growth_rate'],label = plate)\n",
    "\n",
    "# plt.tick_params(labelcolor=\"none\", bottom=False, left=False)\n",
    "ax.set_xlim(xlim)  \n",
    "ax2.set_ylim((0,3))  \n",
    "ax2.set_ylabel('relative growth rate (.day-1)',size = 20)\n",
    "plt.legend()\n",
    "ax2.vlines(0,0,3,color=\"black\")\n",
    "\n",
    "fig.text(0.5, 0.004, xlabel, ha='center',fontdict = {'size' : 20} )\n",
    "fig.text(0.04, 0.5, ylabel, va='center', rotation='vertical',fontdict = {'size' : 20})"
   ]
  },
  {
   "cell_type": "code",
   "execution_count": 24,
   "metadata": {},
   "outputs": [
    {
     "data": {
      "application/vnd.jupyter.widget-view+json": {
       "model_id": "b95f3e3ab3f84c1799e49692cc2aa3dc",
       "version_major": 2,
       "version_minor": 0
      },
      "text/plain": [
       "Canvas(toolbar=Toolbar(toolitems=[('Home', 'Reset original view', 'home', 'home'), ('Back', 'Back to previous …"
      ]
     },
     "metadata": {},
     "output_type": "display_data"
    },
    {
     "data": {
      "text/plain": [
       "Text(0.04, 0.5, 'Total network density $(\\\\mu m.mm-2)$')"
      ]
     },
     "execution_count": 24,
     "metadata": {},
     "output_type": "execute_result"
    }
   ],
   "source": [
    "fig, ax = plt.subplots()\n",
    "ax2=ax.twinx()\n",
    "x = 'time_since_begin4'\n",
    "y = 'total_length_m'\n",
    "logy =False\n",
    "# ylim = (100,300)\n",
    "xlim = (-40,100)\n",
    "ylim = None\n",
    "kind = \"scatter\"\n",
    "# fig = plt.figure()\n",
    "# ax = plt.subplot(111)\n",
    "xlabel = 'time (h)'\n",
    "ylabel = r'Total network density $(\\mu m.mm-2)$'\n",
    "num_columns = 2\n",
    "for i,plate in enumerate(select_plates):\n",
    "    table = ind_plate_table[plate]\n",
    "    t0 = np.min(table.loc[table[\"total_length_m\"]>=0.2][\"time_since_begin\"])\n",
    "#     ylim = (0,min(np.max(table['speed']),60000))\n",
    "    table['time_since_begin3'] = table['time_since_begin']-t0\n",
    "    table['time_since_begin4'] = table['time_since_begin']-t1s[plate]\n",
    "\n",
    "    in_study = table.loc[table['out_study']==0]\n",
    "#     if len(in_study)>0:\n",
    "#         ax.scatter(in_study[x],in_study[y],label = plate)\n",
    "#     ax.set_xlabel(None,fontsize=5)\n",
    "#     ax.set_ylabel(None,fontsize=5)\n",
    "#     ax.set_yscale('log')\n",
    "    y = 'total_length_m'\n",
    "    f = interp1d(in_study[x], in_study[y])\n",
    "    deb = np.min(in_study[x])\n",
    "    end = np.max(in_study[x])\n",
    "    frequ = 1\n",
    "    av_lapse = 311\n",
    "    x0 = np.linspace(deb,end,1000)\n",
    "    resampled = pd.DataFrame({'time':x0,'total_length_m':f(x0)})\n",
    "    reg = LinearRegression().fit(x0.reshape((-1, 1)), f(x0))\n",
    "    resampled['total_length_m_smooth']= savgol_filter(resampled['total_length_m'], av_lapse, 3)\n",
    "    resampled['log_total_length_m_smooth']=np.log2(resampled['total_length_m_smooth'])\n",
    "    resampled['local_growth_rate'] = np.gradient(resampled['log_total_length_m_smooth'],resampled['time'])*24\n",
    "    ax2.plot(resampled['time'],resampled['local_growth_rate'],label = plate)\n",
    "y = \"density\"\n",
    "for i,plate in enumerate(select_plates):\n",
    "    table = ind_plate_table[plate]\n",
    "    t0 = np.min(table.loc[table[\"total_length_m\"]>=0.2][\"time_since_begin\"])\n",
    "#     ylim = (0,min(np.max(table['speed']),60000))\n",
    "    table['time_since_begin3'] = table['time_since_begin']-t0\n",
    "    in_study = table.loc[table['out_study']==0]\n",
    "    if len(in_study)>0:\n",
    "        ax.scatter(in_study[x],in_study[y],label = plate)\n",
    "    ax.set_xlabel(None,fontsize=5)\n",
    "    ax.set_ylabel(None,fontsize=5)\n",
    "# plt.tick_params(labelcolor=\"none\", bottom=False, left=False)\n",
    "ax.set_xlim(xlim)  \n",
    "ax.set_ylim((0,2000))  \n",
    "\n",
    "ax2.set_ylim((0,3))  \n",
    "ax2.set_ylabel('relative growth rate (.day-1)',size = 20)\n",
    "plt.legend()\n",
    "fig.text(0.5, 0.004, xlabel, ha='center',fontdict = {'size' : 20} )\n",
    "fig.text(0.04, 0.5, ylabel, va='center', rotation='vertical',fontdict = {'size' : 20})"
   ]
  },
  {
   "cell_type": "code",
   "execution_count": 22,
   "metadata": {},
   "outputs": [],
   "source": [
    "t0s = {94 : 22,102 : 32,152:27,792 : 44,76:13}\n",
    "t1s = {94 : 46,102 : 60,152:51,792 : 61,76:28}"
   ]
  },
  {
   "cell_type": "code",
   "execution_count": null,
   "metadata": {},
   "outputs": [],
   "source": [
    "table"
   ]
  },
  {
   "cell_type": "code",
   "execution_count": 25,
   "metadata": {},
   "outputs": [
    {
     "data": {
      "application/vnd.jupyter.widget-view+json": {
       "model_id": "a46f7e8ff8f04418b99a79d944387ede",
       "version_major": 2,
       "version_minor": 0
      },
      "text/plain": [
       "Canvas(toolbar=Toolbar(toolitems=[('Home', 'Reset original view', 'home', 'home'), ('Back', 'Back to previous …"
      ]
     },
     "metadata": {},
     "output_type": "display_data"
    },
    {
     "data": {
      "text/plain": [
       "<matplotlib.legend.Legend at 0x282a9613988>"
      ]
     },
     "execution_count": 25,
     "metadata": {},
     "output_type": "execute_result"
    }
   ],
   "source": [
    "x = 'time_since_begin4'\n",
    "y = 'area_sep_comp'\n",
    "fig, ax = plt.subplots()\n",
    "ax2=ax.twinx()\n",
    "\n",
    "delta = -60\n",
    "for i,plate in enumerate(select_plates):    \n",
    "    table = ind_plate_table[plate]\n",
    "    y0 = np.min(table.loc[table['time_since_begin']>=t1s[plate]+delta][y])\n",
    "    table = table.loc[table['time_since_begin']>=t1s[plate]+delta].copy()\n",
    "    table[y] = table[y].astype(float)\n",
    "    table = table.loc[table['out_study']==0].copy()\n",
    "\n",
    "    table['renorm'] = table[y]-y0+1\n",
    "    table['log_renorm'] = np.log(table[\"renorm\"])\n",
    "    table['time_since_begin4'] = table['time_since_begin']-(t1s[plate]+delta)+1\n",
    "    table['log_time'] = np.log(table[\"time_since_begin4\"])\n",
    "    table['derivative'] = np.gradient(table[\"log_renorm\"],table['log_time'])\n",
    "\n",
    "#     table['derivative']\n",
    "    ax.scatter(table['log_time'],table['log_renorm'],label = plate)\n",
    "    ax2.plot(table['log_time'],table['derivative'],label = plate)\n",
    "\n",
    "ax.set_xlim(0)\n",
    "ax.set_ylim(0)\n",
    "ax2.set_ylim(0,3)\n",
    "\n",
    "# ax.plot(table['log_time'],2*table['log_time'])\n",
    "plt.legend()"
   ]
  },
  {
   "cell_type": "code",
   "execution_count": 26,
   "metadata": {},
   "outputs": [
    {
     "data": {
      "application/vnd.jupyter.widget-view+json": {
       "model_id": "ad380fe7d4544271a374f02942c0203f",
       "version_major": 2,
       "version_minor": 0
      },
      "text/plain": [
       "Canvas(toolbar=Toolbar(toolitems=[('Home', 'Reset original view', 'home', 'home'), ('Back', 'Back to previous …"
      ]
     },
     "metadata": {},
     "output_type": "display_data"
    },
    {
     "name": "stderr",
     "output_type": "stream",
     "text": [
      "C:\\Users\\coren\\anaconda3\\envs\\cleanMsc\\lib\\site-packages\\ipykernel_launcher.py:27: UserWarning: Attempted to set non-positive left xlim on a log-scaled axis.\n",
      "Invalid limit will be ignored.\n",
      "C:\\Users\\coren\\anaconda3\\envs\\cleanMsc\\lib\\site-packages\\ipykernel_launcher.py:28: UserWarning: Attempted to set non-positive bottom ylim on a log-scaled axis.\n",
      "Invalid limit will be ignored.\n"
     ]
    },
    {
     "data": {
      "text/plain": [
       "<matplotlib.legend.Legend at 0x282b4920208>"
      ]
     },
     "execution_count": 26,
     "metadata": {},
     "output_type": "execute_result"
    }
   ],
   "source": [
    "x = 'time_since_begin4'\n",
    "y = 'area_sep_comp'\n",
    "fig, ax = plt.subplots()\n",
    "ax2=ax.twinx()\n",
    "\n",
    "delta = -60\n",
    "av_lapse = 11\n",
    "for i,plate in enumerate(select_plates):    \n",
    "    table = ind_plate_table[plate]\n",
    "    y0 = np.min(table.loc[table['time_since_begin']>=t1s[plate]+delta][y])\n",
    "    table = table.loc[table['time_since_begin']>=t1s[plate]+delta].copy()\n",
    "    table[y] = table[y].astype(float)\n",
    "    table = table.loc[table['out_study']==0].copy()\n",
    "\n",
    "    table['renorm'] = table[y]-y0+1\n",
    "    table['log_renorm'] = np.log(table[\"renorm\"])\n",
    "    table['time_since_begin4'] = table['time_since_begin']-(t1s[plate]+delta)+1\n",
    "    table['log_time'] = np.log(table[\"time_since_begin4\"])\n",
    "    table['derivative'] = np.gradient(table[\"log_renorm\"],table['log_time'])\n",
    "    table['derivative'] = savgol_filter(table['derivative'], av_lapse, 1)\n",
    "\n",
    "#     table['derivative']\n",
    "    ax.scatter(table['time_since_begin4'],table[y],label = plate)\n",
    "    ax2.plot(table['time_since_begin4'],table['derivative'],label = plate)\n",
    "    ax.set_yscale('log')\n",
    "    ax.set_xscale('log')\n",
    "ax.set_xlim(0)\n",
    "ax.set_ylim(0)\n",
    "ax2.set_ylim(0,4)\n",
    "ax.set_xlabel('time (h)')\n",
    "ax.set_ylabel('network length $(mm)$')\n",
    "ax2.set_ylabel('slope of the log-log')\n",
    "ax2.vlines(-delta,0,4,color= 'black')\n",
    "\n",
    "# ax.plot(table['log_time'],2*table['log_time'])\n",
    "plt.legend()"
   ]
  },
  {
   "cell_type": "code",
   "execution_count": null,
   "metadata": {},
   "outputs": [],
   "source": [
    "x = np.linspace(1,10,100)\n",
    "y = 4*(x+5)**2+150\n",
    "fig, ax = plt.subplots()\n",
    "\n",
    "ax.plot(np.log(x+5),np.log(y))\n",
    "ax.plot(np.log(x+5),np.gradient(np.log(y),np.log(x+5)))"
   ]
  },
  {
   "cell_type": "code",
   "execution_count": null,
   "metadata": {},
   "outputs": [],
   "source": [
    "np.gradient(resampled[y],resampled['time'])/(np.pi/2*0.3**2)"
   ]
  },
  {
   "cell_type": "code",
   "execution_count": 27,
   "metadata": {},
   "outputs": [
    {
     "data": {
      "application/vnd.jupyter.widget-view+json": {
       "model_id": "e21bb824766f44b0bcbe3c5bcc5e6f4b",
       "version_major": 2,
       "version_minor": 0
      },
      "text/plain": [
       "Canvas(toolbar=Toolbar(toolitems=[('Home', 'Reset original view', 'home', 'home'), ('Back', 'Back to previous …"
      ]
     },
     "metadata": {},
     "output_type": "display_data"
    },
    {
     "data": {
      "text/plain": [
       "Text(0.04, 0.5, 'Total network area $(mm^2)$')"
      ]
     },
     "execution_count": 27,
     "metadata": {},
     "output_type": "execute_result"
    }
   ],
   "source": [
    "select_plates = [152]\n",
    "# select_plates = [94,792,76,152,102]\n",
    "\n",
    "fig, ax = plt.subplots()\n",
    "ax2=ax.twinx()\n",
    "x = 'time_since_begin4'\n",
    "y = 'total_length_m'\n",
    "y2 = 'derivative'\n",
    "logy =False\n",
    "# ylim = (100,300)\n",
    "xlim = (-20,150)\n",
    "ylim = None\n",
    "kind = \"scatter\"\n",
    "# fig = plt.figure()\n",
    "# ax = plt.subplot(111)\n",
    "xlabel = 'time (h)'\n",
    "ylabel = r'Total network area $(mm^2)$'\n",
    "tau = 50\n",
    "num_columns = 2\n",
    "delta = 200\n",
    "av_lapse = 211\n",
    "\n",
    "frequ = 0.1\n",
    "for i,plate in enumerate(select_plates):\n",
    "    table = ind_plate_table[plate]\n",
    "    t0 = np.min(table.loc[table[\"total_length_m\"]>=0.2][\"time_since_begin\"])\n",
    "#     ylim = (0,min(np.max(table['speed']),60000))\n",
    "    table['time_since_begin3'] = table['time_since_begin']-t0\n",
    "    table['time_since_begin4'] = table['time_since_begin']-t1s[plate]+tau\n",
    "    in_study = table.loc[table['out_study']==0]\n",
    "#     if len(in_study)>0:\n",
    "#         ax.scatter(in_study[x],in_study[y],label = plate)\n",
    "    ax.set_xlabel(None,fontsize=5)\n",
    "    ax.set_ylabel(None,fontsize=5)\n",
    "#     ax.set_yscale('log')\n",
    "#     ax.set_xscale('log')\n",
    "\n",
    "    f = interp1d(in_study[x], in_study[y])\n",
    "    deb = np.min(in_study[x])\n",
    "    end = np.max(in_study[x])\n",
    "    x0 = np.linspace(deb,end,int((end-deb)/frequ))\n",
    "    resampled = pd.DataFrame({'time':x0,y:f(x0)})\n",
    "    reg = LinearRegression().fit(x0.reshape((-1, 1)), f(x0))\n",
    "    resampled['log_total_length']=np.log2(resampled[y])\n",
    "\n",
    "    resampled['log_total_length_m_smooth']= savgol_filter(resampled['log_total_length'], av_lapse, 3)\n",
    "#     resampled['log_time']=np.log2(resampled['time'])\n",
    "    resampled['time2']=resampled['time']\n",
    "\n",
    "#     resampled['log_total_length_m_smooth'] = resampled['log_total_length_m_smooth']-np.log(np.min(table.loc[table['time_since_begin']>=t1s[plate]][y]))\n",
    "#     resampled['derivative'] = resampled[y].diff(delta)/resampled['time'].diff(delta)/(np.pi/2*0.3**2)\n",
    "    resampled['derivative'] = np.gradient(resampled[y],resampled['time'])/(np.pi/2*0.3**2)\n",
    "    resampled['derivative'] = savgol_filter(resampled['derivative'], av_lapse, 1)\n",
    "    resampled['2ndderivative'] = np.gradient(resampled['derivative'],resampled['time'])\n",
    "#     resampled['2ndderivative'] = savgol_filter(resampled['2ndderivative'], av_lapse, 1)\n",
    "    ax2.vlines(tau-t0s[plate],0,0.20,color='black')\n",
    "\n",
    "#     resampled['2ndderivative'] = resampled['derivative'].diff(delta)/resampled['time'].diff(delta)\n",
    "\n",
    "#     ax2.scatter(resampled['time'],resampled['local_growth_rate'],label = plate)\n",
    "    in_study = table.loc[table['out_study']==0]\n",
    "    if len(in_study)>0:\n",
    "        ax.scatter(in_study[x],in_study[y],label = plate)\n",
    "    ax2.plot(resampled['time2'],resampled[y2],label = plate)\n",
    "sat_density = 1000\n",
    "incr = -0.03\n",
    "ax2.plot(resampled['time2'],2*resampled['time2']/sat_density+incr,label = \"y=2x/sat_density+beta\",linestyle = ':')\n",
    "\n",
    "# plt.tick_params(labelcolor=\"none\", bottom=False, left=False)\n",
    "ax.set_xlim(xlim)  \n",
    "\n",
    "ax2.vlines(tau,0,0.20,color='black')\n",
    "# ax2.set_ylim((0,25))  \n",
    "# ax2.set_ylim((0,3))  \n",
    "ax2.set_ylim(None)  \n",
    "\n",
    "ax2.set_ylabel('derivative rescaled by $\\pi / 2 *v^2$',size = 20)\n",
    "plt.legend()\n",
    "fig.text(0.5, 0.004, xlabel, ha='center',fontdict = {'size' : 20} )\n",
    "fig.text(0.04, 0.5, ylabel, va='center', rotation='vertical',fontdict = {'size' : 20})"
   ]
  },
  {
   "cell_type": "code",
   "execution_count": 28,
   "metadata": {},
   "outputs": [
    {
     "data": {
      "application/vnd.jupyter.widget-view+json": {
       "model_id": "f068f461c94340858494a9167f4aae7e",
       "version_major": 2,
       "version_minor": 0
      },
      "text/plain": [
       "Canvas(toolbar=Toolbar(toolitems=[('Home', 'Reset original view', 'home', 'home'), ('Back', 'Back to previous …"
      ]
     },
     "metadata": {},
     "output_type": "display_data"
    },
    {
     "name": "stderr",
     "output_type": "stream",
     "text": [
      "No handles with labels found to put in legend.\n"
     ]
    },
    {
     "data": {
      "text/plain": [
       "Text(0.04, 0.5, 'Total network length $(\\\\mu m)$')"
      ]
     },
     "execution_count": 28,
     "metadata": {},
     "output_type": "execute_result"
    }
   ],
   "source": [
    "select_plates = [94]\n",
    "fig, ax = plt.subplots()\n",
    "ax2=ax.twinx()\n",
    "x = 'time_since_begin3'\n",
    "y = 'area_sep_comp'\n",
    "logy =False\n",
    "# ylim = (100,300)\n",
    "xlim = (-40,150)\n",
    "ylim = None\n",
    "kind = \"scatter\"\n",
    "# fig = plt.figure()\n",
    "# ax = plt.subplot(111)\n",
    "xlabel = 'time (h)'\n",
    "ylabel = r'Total network length $(\\mu m)$'\n",
    "num_columns = 2\n",
    "for i,plate in enumerate(select_plates):\n",
    "    table = ind_plate_table[plate]\n",
    "    t0 = np.min(table.loc[table[\"total_length_m\"]>=0.2][\"time_since_begin\"])\n",
    "#     ylim = (0,min(np.max(table['speed']),60000))\n",
    "    table['time_since_begin3'] = table['time_since_begin']-t0\n",
    "    in_study = table.loc[table['out_study']==0]\n",
    "#     if len(in_study)>0:\n",
    "#         ax.scatter(in_study[x],in_study[y],label = plate)\n",
    "#     ax.set_xlabel(None,fontsize=5)\n",
    "#     ax.set_ylabel(None,fontsize=5)\n",
    "#     ax.set_yscale('log')\n",
    "    f = interp1d(in_study[x], in_study[y])\n",
    "    deb = np.min(in_study[x])\n",
    "    end = np.max(in_study[x])\n",
    "    frequ = 1\n",
    "    av_lapse = 311\n",
    "    x0 = np.linspace(deb,end,1000)\n",
    "    resampled = pd.DataFrame({'time':x0,y:f(x0)})\n",
    "    reg = LinearRegression().fit(x0.reshape((-1, 1)), f(x0))\n",
    "    resampled['total_length_m_smooth']= savgol_filter(resampled[y], av_lapse, 3)\n",
    "    resampled['log_total_length_m_smooth']=np.log2(resampled['total_length_m_smooth'])\n",
    "    resampled['local_growth_rate'] = resampled['log_total_length_m_smooth'].diff(10)/resampled['time'].diff(10)*24\n",
    "    ax.plot(resampled['time'],resampled['local_growth_rate'],label = plate)\n",
    "x = 'time_since_begin3'\n",
    "y = 'total_length_m'\n",
    "logy =False\n",
    "# ylim = (100,300)\n",
    "xlim = (-40,150)\n",
    "ylim = None\n",
    "kind = \"scatter\"\n",
    "# fig = plt.figure()\n",
    "# ax = plt.subplot(111)\n",
    "xlabel = 'time (h)'\n",
    "ylabel = r'Total network length $(\\mu m)$'\n",
    "num_columns = 2\n",
    "for i,plate in enumerate(select_plates):\n",
    "    table = ind_plate_table[plate]\n",
    "    t0 = np.min(table.loc[table[\"total_length_m\"]>=0.2][\"time_since_begin\"])\n",
    "#     ylim = (0,min(np.max(table['speed']),60000))\n",
    "    table['time_since_begin3'] = table['time_since_begin']-t0\n",
    "    in_study = table.loc[table['out_study']==0]\n",
    "#     if len(in_study)>0:\n",
    "#         ax.scatter(in_study[x],in_study[y],label = plate)\n",
    "#     ax.set_xlabel(None,fontsize=5)\n",
    "#     ax.set_ylabel(None,fontsize=5)\n",
    "#     ax.set_yscale('log')\n",
    "    f = interp1d(in_study[x], in_study[y])\n",
    "    deb = np.min(in_study[x])\n",
    "    end = np.max(in_study[x])\n",
    "    frequ = 1\n",
    "    av_lapse = 311\n",
    "    x0 = np.linspace(deb,end,1000)\n",
    "    resampled = pd.DataFrame({'time':x0,y:f(x0)})\n",
    "    reg = LinearRegression().fit(x0.reshape((-1, 1)), f(x0))\n",
    "    resampled['total_length_m_smooth']= savgol_filter(resampled[y], av_lapse, 3)\n",
    "    resampled['log_total_length_m_smooth']=np.log2(resampled['total_length_m_smooth'])\n",
    "    resampled['log_total_length_m_smooth']=np.log2(resampled['total_length_m_smooth'])\n",
    "    resampled['local_growth_rate'] = resampled['log_total_length_m_smooth'].diff(10)/resampled['time'].diff(10)*24\n",
    "    ax.plot(resampled['time'],resampled['local_growth_rate'],label = plate)\n",
    "# plt.tick_params(labelcolor=\"none\", bottom=False, left=False)\n",
    "ax.set_ylim((0,3))  \n",
    "ax2.set_ylim((0,3))  \n",
    "ax2.set_ylabel('relative growth rate (.day-1)',size = 20)\n",
    "plt.legend()\n",
    "fig.text(0.5, 0.004, xlabel, ha='center',fontdict = {'size' : 20} )\n",
    "fig.text(0.04, 0.5, ylabel, va='center', rotation='vertical',fontdict = {'size' : 20})"
   ]
  },
  {
   "cell_type": "code",
   "execution_count": 29,
   "metadata": {},
   "outputs": [
    {
     "data": {
      "application/vnd.jupyter.widget-view+json": {
       "model_id": "5b151a460f3c45b88a1a22389dd97a1c",
       "version_major": 2,
       "version_minor": 0
      },
      "text/plain": [
       "Canvas(toolbar=Toolbar(toolitems=[('Home', 'Reset original view', 'home', 'home'), ('Back', 'Back to previous …"
      ]
     },
     "metadata": {},
     "output_type": "display_data"
    },
    {
     "data": {
      "text/plain": [
       "(0.0, 2.0)"
      ]
     },
     "execution_count": 29,
     "metadata": {},
     "output_type": "execute_result"
    }
   ],
   "source": [
    "to_plot = ind_plate_table[94]\n",
    "to_plot = to_plot.loc[to_plot['out_study']==0]\n",
    "\n",
    "y = 'total_length_m'\n",
    "f = interp1d(to_plot['time_since_begin'], to_plot[y])\n",
    "deb = np.min(to_plot['time_since_begin'])\n",
    "end = np.max(to_plot['time_since_begin'])\n",
    "frequ = 1\n",
    "av_lapse = 311\n",
    "x = np.linspace(deb,end,1000)\n",
    "resampled = pd.DataFrame({'time':x,'total_length_m':f(x)})\n",
    "reg = LinearRegression().fit(x.reshape((-1, 1)), f(x))\n",
    "resampled['total_length_m_smooth']= savgol_filter(resampled['total_length_m'], av_lapse, 3)\n",
    "resampled['log_total_length_m_smooth']=np.log2(resampled['total_length_m_smooth'])\n",
    "resampled['local_growth_rate'] = resampled['log_total_length_m_smooth'].diff(10)/resampled['time'].diff(10)*24\n",
    "\n",
    "fig, ax = plt.subplots()\n",
    "ax.plot(resampled['time'],resampled['local_growth_rate'])\n",
    "ax.plot(table['time_since_begin'],table['local_growth_rate'])\n",
    "\n",
    "ax.set_ylim((0,2))"
   ]
  },
  {
   "cell_type": "code",
   "execution_count": 30,
   "metadata": {},
   "outputs": [
    {
     "data": {
      "application/vnd.jupyter.widget-view+json": {
       "model_id": "f25c4ad2eec7435eab6469d9447e5672",
       "version_major": 2,
       "version_minor": 0
      },
      "text/plain": [
       "Canvas(toolbar=Toolbar(toolitems=[('Home', 'Reset original view', 'home', 'home'), ('Back', 'Back to previous …"
      ]
     },
     "metadata": {},
     "output_type": "display_data"
    },
    {
     "data": {
      "text/plain": [
       "[<matplotlib.lines.Line2D at 0x282b4f95648>]"
      ]
     },
     "execution_count": 30,
     "metadata": {},
     "output_type": "execute_result"
    }
   ],
   "source": [
    "to_plot = ind_plate_table[94]\n",
    "to_plot = to_plot.loc[to_plot['out_study']==0]\n",
    "\n",
    "y = 'total_length_m'\n",
    "alpha = 1\n",
    "beta =1000\n",
    "f = lambda x : x**2+alpha*x+beta\n",
    "deb = np.min(to_plot['time_since_begin'])\n",
    "end = np.max(to_plot['time_since_begin'])\n",
    "frequ = 1\n",
    "av_lapse = 211\n",
    "x = np.linspace(deb,end,1000)\n",
    "resampled = pd.DataFrame({'time':x,'total_length_m':f(x)})\n",
    "reg = LinearRegression().fit(x.reshape((-1, 1)), f(x))\n",
    "resampled['total_length_m_smooth']= savgol_filter(resampled['total_length_m'], av_lapse, 3)\n",
    "resampled['log_total_length_m_smooth']=np.log(resampled['total_length_m_smooth'])\n",
    "resampled['local_growth_rate'] = resampled['log_total_length_m_smooth'].diff(10)/resampled['time'].diff(10)*24\n",
    "\n",
    "fig, ax = plt.subplots()\n",
    "ax.plot(resampled['time'],resampled['local_growth_rate'])\n",
    "# ax.set_ylim((0,2))"
   ]
  },
  {
   "cell_type": "code",
   "execution_count": 31,
   "metadata": {},
   "outputs": [
    {
     "data": {
      "application/vnd.jupyter.widget-view+json": {
       "model_id": "3ea6761ad1884f8a882c26de06a67ae6",
       "version_major": 2,
       "version_minor": 0
      },
      "text/plain": [
       "Canvas(toolbar=Toolbar(toolitems=[('Home', 'Reset original view', 'home', 'home'), ('Back', 'Back to previous …"
      ]
     },
     "metadata": {},
     "output_type": "display_data"
    },
    {
     "ename": "IndexError",
     "evalue": "too many indices for array: array is 1-dimensional, but 2 were indexed",
     "output_type": "error",
     "traceback": [
      "\u001b[1;31m---------------------------------------------------------------------------\u001b[0m",
      "\u001b[1;31mIndexError\u001b[0m                                Traceback (most recent call last)",
      "\u001b[1;32m<ipython-input-31-7e13e69f6d40>\u001b[0m in \u001b[0;36m<module>\u001b[1;34m\u001b[0m\n\u001b[0;32m     16\u001b[0m     \u001b[0mtable\u001b[0m \u001b[1;33m=\u001b[0m \u001b[0mind_plate_table\u001b[0m\u001b[1;33m[\u001b[0m\u001b[0mplate\u001b[0m\u001b[1;33m]\u001b[0m\u001b[1;33m\u001b[0m\u001b[1;33m\u001b[0m\u001b[0m\n\u001b[0;32m     17\u001b[0m \u001b[1;31m#     ylim = (0,min(np.max(table['speed']),60000))\u001b[0m\u001b[1;33m\u001b[0m\u001b[1;33m\u001b[0m\u001b[1;33m\u001b[0m\u001b[0m\n\u001b[1;32m---> 18\u001b[1;33m     \u001b[0max\u001b[0m \u001b[1;33m=\u001b[0m \u001b[0maxs\u001b[0m\u001b[1;33m[\u001b[0m\u001b[0mi\u001b[0m\u001b[1;33m//\u001b[0m\u001b[0mnum_columns\u001b[0m\u001b[1;33m,\u001b[0m\u001b[0mi\u001b[0m\u001b[1;33m%\u001b[0m\u001b[0mnum_columns\u001b[0m\u001b[1;33m]\u001b[0m\u001b[1;33m\u001b[0m\u001b[1;33m\u001b[0m\u001b[0m\n\u001b[0m\u001b[0;32m     19\u001b[0m     \u001b[0min_study\u001b[0m \u001b[1;33m=\u001b[0m \u001b[0mtable\u001b[0m\u001b[1;33m.\u001b[0m\u001b[0mloc\u001b[0m\u001b[1;33m[\u001b[0m\u001b[0mtable\u001b[0m\u001b[1;33m[\u001b[0m\u001b[1;34m'out_study'\u001b[0m\u001b[1;33m]\u001b[0m\u001b[1;33m==\u001b[0m\u001b[1;36m0\u001b[0m\u001b[1;33m]\u001b[0m\u001b[1;33m\u001b[0m\u001b[1;33m\u001b[0m\u001b[0m\n\u001b[0;32m     20\u001b[0m     \u001b[0mout_study\u001b[0m \u001b[1;33m=\u001b[0m \u001b[0mtable\u001b[0m\u001b[1;33m.\u001b[0m\u001b[0mloc\u001b[0m\u001b[1;33m[\u001b[0m\u001b[0mtable\u001b[0m\u001b[1;33m[\u001b[0m\u001b[1;34m'out_study'\u001b[0m\u001b[1;33m]\u001b[0m\u001b[1;33m==\u001b[0m\u001b[1;36m1\u001b[0m\u001b[1;33m]\u001b[0m\u001b[1;33m\u001b[0m\u001b[1;33m\u001b[0m\u001b[0m\n",
      "\u001b[1;31mIndexError\u001b[0m: too many indices for array: array is 1-dimensional, but 2 were indexed"
     ]
    }
   ],
   "source": [
    "plt.close('all')\n",
    "x = 'time_since_begin2'\n",
    "y = 'total_length_m'\n",
    "logy =False\n",
    "# ylim = (100,300)\n",
    "xlim = (0,150)\n",
    "ylim = None\n",
    "kind = \"scatter\"\n",
    "# fig = plt.figure()\n",
    "# ax = plt.subplot(111)\n",
    "xlabel = 'time (h)'\n",
    "ylabel = r'Hyphae mean growth speed $(\\mu m.h{-1})$'\n",
    "num_columns = 2\n",
    "fig, axs = plt.subplots(((len(select_plates)+1)//num_columns), num_columns)\n",
    "for i,plate in enumerate(select_plates):\n",
    "    table = ind_plate_table[plate]\n",
    "#     ylim = (0,min(np.max(table['speed']),60000))\n",
    "    ax = axs[i//num_columns,i%num_columns]\n",
    "    in_study = table.loc[table['out_study']==0]\n",
    "    out_study = table.loc[table['out_study']==1]\n",
    "    if len(in_study)>0:\n",
    "        in_study.plot(x,y, ax = ax,legend = False,title = plate,logy=logy,ylim=ylim,xlim=xlim,kind = kind)\n",
    "        #,)\n",
    "#     if len(out_study)>0:\n",
    "#         out_study.plot(x,y, ax = ax,legend = False,title = plate,color = 'red',logy=logy,ylim = ylim,xlim=xlim,kind=kind)\n",
    "    ax.set_xlabel(None,fontsize=5)\n",
    "    ax.set_ylabel(None,fontsize=5)\n",
    "    ax.set_yscale('log')\n",
    "\n",
    "# plt.tick_params(labelcolor=\"none\", bottom=False, left=False)\n",
    "   \n",
    "fig.text(0.5, 0.004, xlabel, ha='center',fontdict = {'size' : 20} )\n",
    "fig.text(0.04, 0.5, ylabel, va='center', rotation='vertical',fontdict = {'size' : 20})"
   ]
  },
  {
   "cell_type": "code",
   "execution_count": null,
   "metadata": {},
   "outputs": [],
   "source": []
  },
  {
   "cell_type": "code",
   "execution_count": null,
   "metadata": {},
   "outputs": [],
   "source": [
    "table['branch_frequ_micro_time_smooth']"
   ]
  },
  {
   "cell_type": "code",
   "execution_count": 32,
   "metadata": {},
   "outputs": [
    {
     "data": {
      "application/vnd.jupyter.widget-view+json": {
       "model_id": "b29309f15a3b482093b8259904439d2d",
       "version_major": 2,
       "version_minor": 0
      },
      "text/plain": [
       "Canvas(toolbar=Toolbar(toolitems=[('Home', 'Reset original view', 'home', 'home'), ('Back', 'Back to previous …"
      ]
     },
     "metadata": {},
     "output_type": "display_data"
    }
   ],
   "source": [
    "plt.close('all')\n",
    "x = 'time_since_begin2'\n",
    "y = 'density'\n",
    "logy =False\n",
    "# ylim = (0,5)\n",
    "xlim = (0,150)\n",
    "ylim = None\n",
    "kind = \"scatter\"\n",
    "# fig = plt.figure()\n",
    "# ax = plt.subplot(111)\n",
    "xlabel = 'time (h)'\n",
    "ylabel = 'branching frequency (.day-1)'\n",
    "num_columns = 3\n",
    "select_plates = [94,102,792,76,152,88]\n",
    "fig, axs = plt.subplots(((len(select_plates)+1)//num_columns), num_columns)\n",
    "\n",
    "for i,plate in enumerate(select_plates):\n",
    "    table = ind_plate_table[plate]\n",
    "#     ylim = (0,min(np.max(table['speed']),60000))\n",
    "    ax = axs[i//num_columns,i%num_columns]\n",
    "    in_study = table.loc[table['out_study']==0]\n",
    "    out_study = table.loc[table['out_study']==1]\n",
    "    if len(in_study)>0:\n",
    "        in_study.plot(x,y, ax = ax,legend = False,title = plate,logy=logy,ylim=ylim,xlim=xlim,kind = kind)\n",
    "        #,)\n",
    "#     if len(out_study)>0:\n",
    "#         out_study.plot(x,y, ax = ax,legend = False,title = plate,color = 'red',logy=logy,ylim = ylim,xlim=xlim,kind=kind)\n",
    "    ax.set_xlabel(None,fontsize=5)\n",
    "    ax.set_ylabel(None,fontsize=5)\n",
    "    \n",
    "# x = 'time_since_begin'\n",
    "# y = 'branch_frequ_micro_time_smooth'  \n",
    "\n",
    "# for i,plate in enumerate(plates):\n",
    "#     table = ind_plate_table[plate]\n",
    "# #     ylim = (0,min(np.max(table['speed']),60000))\n",
    "#     ax = axs[i//num_columns,i%num_columns]\n",
    "#     in_study = table.loc[table['out_study']==0]\n",
    "#     out_study = table.loc[table['out_study']==1]\n",
    "#     if len(in_study)>0:\n",
    "#         in_study.plot(x,y, ax = ax,legend = False,logy=logy,ylim=ylim,xlim=xlim,kind = kind,color = 'purple')\n",
    "#         #,)\n",
    "#     if len(out_study)>0:\n",
    "#         out_study.plot(x,y, ax = ax,legend = False,title = plate,color = 'orange',logy=logy,ylim = ylim,xlim=xlim,kind=kind)\n",
    "#     ax.set_xlabel(None,fontsize=5)\n",
    "#     ax.set_ylabel(None,fontsize=5)\n",
    "# # plt.tick_params(labelcolor=\"none\", bottom=False, left=False)\n",
    "   \n",
    "# fig.text(0.5, 0.004, xlabel, ha='center',fontdict = {'size' : 20} )\n",
    "# fig.text(0.04, 0.5, ylabel, va='center', rotation='vertical',fontdict = {'size' : 20})\n"
   ]
  },
  {
   "cell_type": "code",
   "execution_count": null,
   "metadata": {},
   "outputs": [],
   "source": [
    "table['num_branch']=table['num_branch'].fillna(-1)\n",
    "table['tot_growth_C']=table['tot_growth_C'].fillna(0)"
   ]
  },
  {
   "cell_type": "code",
   "execution_count": null,
   "metadata": {},
   "outputs": [],
   "source": [
    "table['branch_frequ'] = table['tot_growth_C'].div(table['num_branch'])/1000"
   ]
  },
  {
   "cell_type": "code",
   "execution_count": null,
   "metadata": {},
   "outputs": [],
   "source": [
    "table['branch_frequ_time']=table['branch_frequ']*table['mean_speed']"
   ]
  },
  {
   "cell_type": "code",
   "execution_count": null,
   "metadata": {},
   "outputs": [],
   "source": [
    "np.mean(table.loc[(table['branch_frequ']>0)& (table['branch_frequ']<np.inf)]['mean_speed'])*24/1000"
   ]
  },
  {
   "cell_type": "code",
   "execution_count": 33,
   "metadata": {},
   "outputs": [
    {
     "data": {
      "application/vnd.jupyter.widget-view+json": {
       "model_id": "4ad008965ce84cb19ba2591383ca593b",
       "version_major": 2,
       "version_minor": 0
      },
      "text/plain": [
       "Canvas(toolbar=Toolbar(toolitems=[('Home', 'Reset original view', 'home', 'home'), ('Back', 'Back to previous …"
      ]
     },
     "metadata": {},
     "output_type": "display_data"
    },
    {
     "ename": "KeyError",
     "evalue": "'frequ_tip_arrest_smooth'",
     "output_type": "error",
     "traceback": [
      "\u001b[1;31m---------------------------------------------------------------------------\u001b[0m",
      "\u001b[1;31mKeyError\u001b[0m                                  Traceback (most recent call last)",
      "\u001b[1;32m~\\anaconda3\\envs\\cleanMsc\\lib\\site-packages\\pandas\\core\\indexes\\base.py\u001b[0m in \u001b[0;36mget_loc\u001b[1;34m(self, key, method, tolerance)\u001b[0m\n\u001b[0;32m   3079\u001b[0m             \u001b[1;32mtry\u001b[0m\u001b[1;33m:\u001b[0m\u001b[1;33m\u001b[0m\u001b[1;33m\u001b[0m\u001b[0m\n\u001b[1;32m-> 3080\u001b[1;33m                 \u001b[1;32mreturn\u001b[0m \u001b[0mself\u001b[0m\u001b[1;33m.\u001b[0m\u001b[0m_engine\u001b[0m\u001b[1;33m.\u001b[0m\u001b[0mget_loc\u001b[0m\u001b[1;33m(\u001b[0m\u001b[0mcasted_key\u001b[0m\u001b[1;33m)\u001b[0m\u001b[1;33m\u001b[0m\u001b[1;33m\u001b[0m\u001b[0m\n\u001b[0m\u001b[0;32m   3081\u001b[0m             \u001b[1;32mexcept\u001b[0m \u001b[0mKeyError\u001b[0m \u001b[1;32mas\u001b[0m \u001b[0merr\u001b[0m\u001b[1;33m:\u001b[0m\u001b[1;33m\u001b[0m\u001b[1;33m\u001b[0m\u001b[0m\n",
      "\u001b[1;32mpandas\\_libs\\index.pyx\u001b[0m in \u001b[0;36mpandas._libs.index.IndexEngine.get_loc\u001b[1;34m()\u001b[0m\n",
      "\u001b[1;32mpandas\\_libs\\index.pyx\u001b[0m in \u001b[0;36mpandas._libs.index.IndexEngine.get_loc\u001b[1;34m()\u001b[0m\n",
      "\u001b[1;32mpandas\\_libs\\hashtable_class_helper.pxi\u001b[0m in \u001b[0;36mpandas._libs.hashtable.PyObjectHashTable.get_item\u001b[1;34m()\u001b[0m\n",
      "\u001b[1;32mpandas\\_libs\\hashtable_class_helper.pxi\u001b[0m in \u001b[0;36mpandas._libs.hashtable.PyObjectHashTable.get_item\u001b[1;34m()\u001b[0m\n",
      "\u001b[1;31mKeyError\u001b[0m: 'frequ_tip_arrest_smooth'",
      "\nThe above exception was the direct cause of the following exception:\n",
      "\u001b[1;31mKeyError\u001b[0m                                  Traceback (most recent call last)",
      "\u001b[1;32m<ipython-input-33-f162be7d1130>\u001b[0m in \u001b[0;36m<module>\u001b[1;34m\u001b[0m\n\u001b[0;32m     22\u001b[0m     \u001b[0mout_study\u001b[0m \u001b[1;33m=\u001b[0m \u001b[0mtable\u001b[0m\u001b[1;33m.\u001b[0m\u001b[0mloc\u001b[0m\u001b[1;33m[\u001b[0m\u001b[0mtable\u001b[0m\u001b[1;33m[\u001b[0m\u001b[1;34m'out_study'\u001b[0m\u001b[1;33m]\u001b[0m\u001b[1;33m==\u001b[0m\u001b[1;36m1\u001b[0m\u001b[1;33m]\u001b[0m\u001b[1;33m\u001b[0m\u001b[1;33m\u001b[0m\u001b[0m\n\u001b[0;32m     23\u001b[0m     \u001b[1;32mif\u001b[0m \u001b[0mlen\u001b[0m\u001b[1;33m(\u001b[0m\u001b[0min_study\u001b[0m\u001b[1;33m)\u001b[0m\u001b[1;33m>\u001b[0m\u001b[1;36m0\u001b[0m\u001b[1;33m:\u001b[0m\u001b[1;33m\u001b[0m\u001b[1;33m\u001b[0m\u001b[0m\n\u001b[1;32m---> 24\u001b[1;33m         \u001b[0min_study\u001b[0m\u001b[1;33m.\u001b[0m\u001b[0mplot\u001b[0m\u001b[1;33m(\u001b[0m\u001b[0mx\u001b[0m\u001b[1;33m,\u001b[0m\u001b[0my\u001b[0m\u001b[1;33m,\u001b[0m \u001b[0max\u001b[0m \u001b[1;33m=\u001b[0m \u001b[0max\u001b[0m\u001b[1;33m,\u001b[0m\u001b[0mlegend\u001b[0m \u001b[1;33m=\u001b[0m \u001b[1;32mFalse\u001b[0m\u001b[1;33m,\u001b[0m\u001b[0mtitle\u001b[0m \u001b[1;33m=\u001b[0m \u001b[0mplate\u001b[0m\u001b[1;33m,\u001b[0m\u001b[0mlogy\u001b[0m\u001b[1;33m=\u001b[0m\u001b[0mlogy\u001b[0m\u001b[1;33m,\u001b[0m\u001b[0mylim\u001b[0m\u001b[1;33m=\u001b[0m\u001b[0mylim\u001b[0m\u001b[1;33m,\u001b[0m\u001b[0mxlim\u001b[0m\u001b[1;33m=\u001b[0m\u001b[0mxlim\u001b[0m\u001b[1;33m,\u001b[0m\u001b[0mkind\u001b[0m \u001b[1;33m=\u001b[0m \u001b[0mkind\u001b[0m\u001b[1;33m)\u001b[0m\u001b[1;33m\u001b[0m\u001b[1;33m\u001b[0m\u001b[0m\n\u001b[0m\u001b[0;32m     25\u001b[0m         \u001b[1;31m#,)\u001b[0m\u001b[1;33m\u001b[0m\u001b[1;33m\u001b[0m\u001b[1;33m\u001b[0m\u001b[0m\n\u001b[0;32m     26\u001b[0m     \u001b[1;32mif\u001b[0m \u001b[0mlen\u001b[0m\u001b[1;33m(\u001b[0m\u001b[0mout_study\u001b[0m\u001b[1;33m)\u001b[0m\u001b[1;33m>\u001b[0m\u001b[1;36m0\u001b[0m\u001b[1;33m:\u001b[0m\u001b[1;33m\u001b[0m\u001b[1;33m\u001b[0m\u001b[0m\n",
      "\u001b[1;32m~\\anaconda3\\envs\\cleanMsc\\lib\\site-packages\\pandas\\plotting\\_core.py\u001b[0m in \u001b[0;36m__call__\u001b[1;34m(self, *args, **kwargs)\u001b[0m\n\u001b[0;32m    898\u001b[0m         \u001b[1;32mif\u001b[0m \u001b[0mkind\u001b[0m \u001b[1;32min\u001b[0m \u001b[0mself\u001b[0m\u001b[1;33m.\u001b[0m\u001b[0m_dataframe_kinds\u001b[0m\u001b[1;33m:\u001b[0m\u001b[1;33m\u001b[0m\u001b[1;33m\u001b[0m\u001b[0m\n\u001b[0;32m    899\u001b[0m             \u001b[1;32mif\u001b[0m \u001b[0misinstance\u001b[0m\u001b[1;33m(\u001b[0m\u001b[0mdata\u001b[0m\u001b[1;33m,\u001b[0m \u001b[0mABCDataFrame\u001b[0m\u001b[1;33m)\u001b[0m\u001b[1;33m:\u001b[0m\u001b[1;33m\u001b[0m\u001b[1;33m\u001b[0m\u001b[0m\n\u001b[1;32m--> 900\u001b[1;33m                 \u001b[1;32mreturn\u001b[0m \u001b[0mplot_backend\u001b[0m\u001b[1;33m.\u001b[0m\u001b[0mplot\u001b[0m\u001b[1;33m(\u001b[0m\u001b[0mdata\u001b[0m\u001b[1;33m,\u001b[0m \u001b[0mx\u001b[0m\u001b[1;33m=\u001b[0m\u001b[0mx\u001b[0m\u001b[1;33m,\u001b[0m \u001b[0my\u001b[0m\u001b[1;33m=\u001b[0m\u001b[0my\u001b[0m\u001b[1;33m,\u001b[0m \u001b[0mkind\u001b[0m\u001b[1;33m=\u001b[0m\u001b[0mkind\u001b[0m\u001b[1;33m,\u001b[0m \u001b[1;33m**\u001b[0m\u001b[0mkwargs\u001b[0m\u001b[1;33m)\u001b[0m\u001b[1;33m\u001b[0m\u001b[1;33m\u001b[0m\u001b[0m\n\u001b[0m\u001b[0;32m    901\u001b[0m             \u001b[1;32melse\u001b[0m\u001b[1;33m:\u001b[0m\u001b[1;33m\u001b[0m\u001b[1;33m\u001b[0m\u001b[0m\n\u001b[0;32m    902\u001b[0m                 \u001b[1;32mraise\u001b[0m \u001b[0mValueError\u001b[0m\u001b[1;33m(\u001b[0m\u001b[1;34mf\"plot kind {kind} can only be used for data frames\"\u001b[0m\u001b[1;33m)\u001b[0m\u001b[1;33m\u001b[0m\u001b[1;33m\u001b[0m\u001b[0m\n",
      "\u001b[1;32m~\\anaconda3\\envs\\cleanMsc\\lib\\site-packages\\pandas\\plotting\\_matplotlib\\__init__.py\u001b[0m in \u001b[0;36mplot\u001b[1;34m(data, kind, **kwargs)\u001b[0m\n\u001b[0;32m     59\u001b[0m             \u001b[0mkwargs\u001b[0m\u001b[1;33m[\u001b[0m\u001b[1;34m\"ax\"\u001b[0m\u001b[1;33m]\u001b[0m \u001b[1;33m=\u001b[0m \u001b[0mgetattr\u001b[0m\u001b[1;33m(\u001b[0m\u001b[0max\u001b[0m\u001b[1;33m,\u001b[0m \u001b[1;34m\"left_ax\"\u001b[0m\u001b[1;33m,\u001b[0m \u001b[0max\u001b[0m\u001b[1;33m)\u001b[0m\u001b[1;33m\u001b[0m\u001b[1;33m\u001b[0m\u001b[0m\n\u001b[0;32m     60\u001b[0m     \u001b[0mplot_obj\u001b[0m \u001b[1;33m=\u001b[0m \u001b[0mPLOT_CLASSES\u001b[0m\u001b[1;33m[\u001b[0m\u001b[0mkind\u001b[0m\u001b[1;33m]\u001b[0m\u001b[1;33m(\u001b[0m\u001b[0mdata\u001b[0m\u001b[1;33m,\u001b[0m \u001b[1;33m**\u001b[0m\u001b[0mkwargs\u001b[0m\u001b[1;33m)\u001b[0m\u001b[1;33m\u001b[0m\u001b[1;33m\u001b[0m\u001b[0m\n\u001b[1;32m---> 61\u001b[1;33m     \u001b[0mplot_obj\u001b[0m\u001b[1;33m.\u001b[0m\u001b[0mgenerate\u001b[0m\u001b[1;33m(\u001b[0m\u001b[1;33m)\u001b[0m\u001b[1;33m\u001b[0m\u001b[1;33m\u001b[0m\u001b[0m\n\u001b[0m\u001b[0;32m     62\u001b[0m     \u001b[0mplot_obj\u001b[0m\u001b[1;33m.\u001b[0m\u001b[0mdraw\u001b[0m\u001b[1;33m(\u001b[0m\u001b[1;33m)\u001b[0m\u001b[1;33m\u001b[0m\u001b[1;33m\u001b[0m\u001b[0m\n\u001b[0;32m     63\u001b[0m     \u001b[1;32mreturn\u001b[0m \u001b[0mplot_obj\u001b[0m\u001b[1;33m.\u001b[0m\u001b[0mresult\u001b[0m\u001b[1;33m\u001b[0m\u001b[1;33m\u001b[0m\u001b[0m\n",
      "\u001b[1;32m~\\anaconda3\\envs\\cleanMsc\\lib\\site-packages\\pandas\\plotting\\_matplotlib\\core.py\u001b[0m in \u001b[0;36mgenerate\u001b[1;34m(self)\u001b[0m\n\u001b[0;32m    278\u001b[0m         \u001b[0mself\u001b[0m\u001b[1;33m.\u001b[0m\u001b[0m_compute_plot_data\u001b[0m\u001b[1;33m(\u001b[0m\u001b[1;33m)\u001b[0m\u001b[1;33m\u001b[0m\u001b[1;33m\u001b[0m\u001b[0m\n\u001b[0;32m    279\u001b[0m         \u001b[0mself\u001b[0m\u001b[1;33m.\u001b[0m\u001b[0m_setup_subplots\u001b[0m\u001b[1;33m(\u001b[0m\u001b[1;33m)\u001b[0m\u001b[1;33m\u001b[0m\u001b[1;33m\u001b[0m\u001b[0m\n\u001b[1;32m--> 280\u001b[1;33m         \u001b[0mself\u001b[0m\u001b[1;33m.\u001b[0m\u001b[0m_make_plot\u001b[0m\u001b[1;33m(\u001b[0m\u001b[1;33m)\u001b[0m\u001b[1;33m\u001b[0m\u001b[1;33m\u001b[0m\u001b[0m\n\u001b[0m\u001b[0;32m    281\u001b[0m         \u001b[0mself\u001b[0m\u001b[1;33m.\u001b[0m\u001b[0m_add_table\u001b[0m\u001b[1;33m(\u001b[0m\u001b[1;33m)\u001b[0m\u001b[1;33m\u001b[0m\u001b[1;33m\u001b[0m\u001b[0m\n\u001b[0;32m    282\u001b[0m         \u001b[0mself\u001b[0m\u001b[1;33m.\u001b[0m\u001b[0m_make_legend\u001b[0m\u001b[1;33m(\u001b[0m\u001b[1;33m)\u001b[0m\u001b[1;33m\u001b[0m\u001b[1;33m\u001b[0m\u001b[0m\n",
      "\u001b[1;32m~\\anaconda3\\envs\\cleanMsc\\lib\\site-packages\\pandas\\plotting\\_matplotlib\\core.py\u001b[0m in \u001b[0;36m_make_plot\u001b[1;34m(self)\u001b[0m\n\u001b[0;32m   1041\u001b[0m         scatter = ax.scatter(\n\u001b[0;32m   1042\u001b[0m             \u001b[0mdata\u001b[0m\u001b[1;33m[\u001b[0m\u001b[0mx\u001b[0m\u001b[1;33m]\u001b[0m\u001b[1;33m.\u001b[0m\u001b[0mvalues\u001b[0m\u001b[1;33m,\u001b[0m\u001b[1;33m\u001b[0m\u001b[1;33m\u001b[0m\u001b[0m\n\u001b[1;32m-> 1043\u001b[1;33m             \u001b[0mdata\u001b[0m\u001b[1;33m[\u001b[0m\u001b[0my\u001b[0m\u001b[1;33m]\u001b[0m\u001b[1;33m.\u001b[0m\u001b[0mvalues\u001b[0m\u001b[1;33m,\u001b[0m\u001b[1;33m\u001b[0m\u001b[1;33m\u001b[0m\u001b[0m\n\u001b[0m\u001b[0;32m   1044\u001b[0m             \u001b[0mc\u001b[0m\u001b[1;33m=\u001b[0m\u001b[0mc_values\u001b[0m\u001b[1;33m,\u001b[0m\u001b[1;33m\u001b[0m\u001b[1;33m\u001b[0m\u001b[0m\n\u001b[0;32m   1045\u001b[0m             \u001b[0mlabel\u001b[0m\u001b[1;33m=\u001b[0m\u001b[0mlabel\u001b[0m\u001b[1;33m,\u001b[0m\u001b[1;33m\u001b[0m\u001b[1;33m\u001b[0m\u001b[0m\n",
      "\u001b[1;32m~\\anaconda3\\envs\\cleanMsc\\lib\\site-packages\\pandas\\core\\frame.py\u001b[0m in \u001b[0;36m__getitem__\u001b[1;34m(self, key)\u001b[0m\n\u001b[0;32m   3022\u001b[0m             \u001b[1;32mif\u001b[0m \u001b[0mself\u001b[0m\u001b[1;33m.\u001b[0m\u001b[0mcolumns\u001b[0m\u001b[1;33m.\u001b[0m\u001b[0mnlevels\u001b[0m \u001b[1;33m>\u001b[0m \u001b[1;36m1\u001b[0m\u001b[1;33m:\u001b[0m\u001b[1;33m\u001b[0m\u001b[1;33m\u001b[0m\u001b[0m\n\u001b[0;32m   3023\u001b[0m                 \u001b[1;32mreturn\u001b[0m \u001b[0mself\u001b[0m\u001b[1;33m.\u001b[0m\u001b[0m_getitem_multilevel\u001b[0m\u001b[1;33m(\u001b[0m\u001b[0mkey\u001b[0m\u001b[1;33m)\u001b[0m\u001b[1;33m\u001b[0m\u001b[1;33m\u001b[0m\u001b[0m\n\u001b[1;32m-> 3024\u001b[1;33m             \u001b[0mindexer\u001b[0m \u001b[1;33m=\u001b[0m \u001b[0mself\u001b[0m\u001b[1;33m.\u001b[0m\u001b[0mcolumns\u001b[0m\u001b[1;33m.\u001b[0m\u001b[0mget_loc\u001b[0m\u001b[1;33m(\u001b[0m\u001b[0mkey\u001b[0m\u001b[1;33m)\u001b[0m\u001b[1;33m\u001b[0m\u001b[1;33m\u001b[0m\u001b[0m\n\u001b[0m\u001b[0;32m   3025\u001b[0m             \u001b[1;32mif\u001b[0m \u001b[0mis_integer\u001b[0m\u001b[1;33m(\u001b[0m\u001b[0mindexer\u001b[0m\u001b[1;33m)\u001b[0m\u001b[1;33m:\u001b[0m\u001b[1;33m\u001b[0m\u001b[1;33m\u001b[0m\u001b[0m\n\u001b[0;32m   3026\u001b[0m                 \u001b[0mindexer\u001b[0m \u001b[1;33m=\u001b[0m \u001b[1;33m[\u001b[0m\u001b[0mindexer\u001b[0m\u001b[1;33m]\u001b[0m\u001b[1;33m\u001b[0m\u001b[1;33m\u001b[0m\u001b[0m\n",
      "\u001b[1;32m~\\anaconda3\\envs\\cleanMsc\\lib\\site-packages\\pandas\\core\\indexes\\base.py\u001b[0m in \u001b[0;36mget_loc\u001b[1;34m(self, key, method, tolerance)\u001b[0m\n\u001b[0;32m   3080\u001b[0m                 \u001b[1;32mreturn\u001b[0m \u001b[0mself\u001b[0m\u001b[1;33m.\u001b[0m\u001b[0m_engine\u001b[0m\u001b[1;33m.\u001b[0m\u001b[0mget_loc\u001b[0m\u001b[1;33m(\u001b[0m\u001b[0mcasted_key\u001b[0m\u001b[1;33m)\u001b[0m\u001b[1;33m\u001b[0m\u001b[1;33m\u001b[0m\u001b[0m\n\u001b[0;32m   3081\u001b[0m             \u001b[1;32mexcept\u001b[0m \u001b[0mKeyError\u001b[0m \u001b[1;32mas\u001b[0m \u001b[0merr\u001b[0m\u001b[1;33m:\u001b[0m\u001b[1;33m\u001b[0m\u001b[1;33m\u001b[0m\u001b[0m\n\u001b[1;32m-> 3082\u001b[1;33m                 \u001b[1;32mraise\u001b[0m \u001b[0mKeyError\u001b[0m\u001b[1;33m(\u001b[0m\u001b[0mkey\u001b[0m\u001b[1;33m)\u001b[0m \u001b[1;32mfrom\u001b[0m \u001b[0merr\u001b[0m\u001b[1;33m\u001b[0m\u001b[1;33m\u001b[0m\u001b[0m\n\u001b[0m\u001b[0;32m   3083\u001b[0m \u001b[1;33m\u001b[0m\u001b[0m\n\u001b[0;32m   3084\u001b[0m         \u001b[1;32mif\u001b[0m \u001b[0mtolerance\u001b[0m \u001b[1;32mis\u001b[0m \u001b[1;32mnot\u001b[0m \u001b[1;32mNone\u001b[0m\u001b[1;33m:\u001b[0m\u001b[1;33m\u001b[0m\u001b[1;33m\u001b[0m\u001b[0m\n",
      "\u001b[1;31mKeyError\u001b[0m: 'frequ_tip_arrest_smooth'"
     ]
    }
   ],
   "source": [
    "import matplotlib.pyplot as plt\n",
    "\n",
    "plt.close('all')\n",
    "x = 'time_since_begin2'\n",
    "y = 'frequ_tip_arrest_smooth'\n",
    "logy =False\n",
    "# ylim = (0,4)\n",
    "xlim = (0,400)\n",
    "ylim = None\n",
    "kind = \"scatter\"\n",
    "# fig = plt.figure()\n",
    "# ax = plt.subplot(111)\n",
    "xlabel = 'time (h)'\n",
    "ylabel = r'$\\alpha_{stop}(day^{-1})$'\n",
    "num_columns = 4\n",
    "fig, axs = plt.subplots(((len(plates)+1)//num_columns), num_columns)\n",
    "for i,plate in enumerate(plates):\n",
    "    table = ind_plate_table[plate]\n",
    "#     ylim = (0,min(np.max(table['speed']),60000))\n",
    "    ax = axs[i//num_columns,i%num_columns]\n",
    "    in_study = table.loc[table['out_study']==0]\n",
    "    out_study = table.loc[table['out_study']==1]\n",
    "    if len(in_study)>0:\n",
    "        in_study.plot(x,y, ax = ax,legend = False,title = plate,logy=logy,ylim=ylim,xlim=xlim,kind = kind)\n",
    "        #,)\n",
    "    if len(out_study)>0:\n",
    "        out_study.plot(x,y, ax = ax,legend = False,title = plate,color = 'red',logy=logy,ylim = ylim,xlim=xlim,kind=kind)\n",
    "    ax.set_xlabel(None,fontsize=5)\n",
    "    ax.set_ylabel(None,fontsize=5)\n",
    "\n",
    "# plt.tick_params(labelcolor=\"none\", bottom=False, left=False)\n",
    "   \n",
    "fig.text(0.5, 0.004, xlabel, ha='center',fontdict = {'size' : 20} )\n",
    "fig.text(0.04, 0.5, ylabel, va='center', rotation='vertical',fontdict = {'size' : 20})\n",
    "\n",
    "\n",
    "# plt.xlabel(\"Common X-Axis\")\n",
    "\n",
    "# plt.ylabel(\"Common Y-Axis\")\n",
    "# plt.tight_layout(pad=0.)"
   ]
  },
  {
   "cell_type": "code",
   "execution_count": null,
   "metadata": {},
   "outputs": [],
   "source": [
    "plate = 94\n",
    "table = ind_plate_table[plate]\n",
    "table_hypha = ind_hypha_table[plate]\n",
    "selection = table_hypha.loc[(table_hypha['time_init_growth'] !=table_hypha['time_stop_growth'])&((table_hypha['timestep_stop_growth'] != table_hypha['strop_track']))&(table_hypha['out_of_ROI'].isnull())&(table_hypha['mean_speed']<=400)&(table_hypha['num_branch']>0)]\n"
   ]
  },
  {
   "cell_type": "code",
   "execution_count": null,
   "metadata": {},
   "outputs": [],
   "source": [
    "np.mean(table_hypha['mean_speed'])"
   ]
  },
  {
   "cell_type": "code",
   "execution_count": null,
   "metadata": {},
   "outputs": [],
   "source": [
    "column = 'mean_speed'\n",
    "kind = \"hist\"\n",
    "plt.close(\"all\")\n",
    "num_columns = 4\n",
    "fig, axs = plt.subplots(((len(plates)+1)//num_columns), num_columns)\n",
    "ylim = None\n",
    "xlim = (0,400)\n",
    "\n",
    "for i,plate in enumerate(plates):\n",
    "    ax = axs[i//num_columns,i%num_columns]\n",
    "    table = ind_plate_table[plate]\n",
    "    table_hypha = ind_hypha_table[plate]\n",
    "    selection = table_hypha.loc[(table_hypha['time_init_growth'] !=table_hypha['time_stop_growth'])&((table_hypha['timestep_stop_growth'] != table_hypha['strop_track']))&(table_hypha['out_of_ROI'].isnull())&(table_hypha['mean_speed']<=400)&(table_hypha['num_branch']>0)]\n",
    "    selection[column].hist(bins = 15,density=True,ax=ax)\n",
    "    ax.set_xlim(xlim)\n",
    "    ax.set_ylim(ylim)\n",
    "    ax.set_title(plate)"
   ]
  },
  {
   "cell_type": "code",
   "execution_count": null,
   "metadata": {},
   "outputs": [],
   "source": [
    "plt.close(\"all\")\n",
    "for plate in plates:\n",
    "    table = ind_plate_table[plate]\n",
    "    table_hypha = ind_hypha_table[plate]\n",
    "    selection = table_hypha.loc[(table_hypha['time_init_growth'] !=table_hypha['time_stop_growth'])&((table_hypha['timestep_stop_growth'] != table_hypha['strop_track']))&(table_hypha['out_of_ROI'].isnull())]\n",
    "    lapse_growth = selection['time_stop_growth']-selection['time_init_growth']\n",
    "    lapse_growth/=24\n",
    "    fig = plt.figure()\n",
    "    ax = plt.subplot(111)\n",
    "    ax.hist(lapse_growth,20)"
   ]
  },
  {
   "cell_type": "code",
   "execution_count": null,
   "metadata": {},
   "outputs": [],
   "source": [
    "table_hypha = ind_hypha_table[94]\n",
    "series = table_hypha.loc[table_hypha['timestep_anastomosis'].isnull()==False].groupby('timestep_anastomosis')['av_width_final'].count()\n",
    "fig, ax = plt.subplots()\n",
    "ax.plot(np.cumsum(series[:-2]))"
   ]
  },
  {
   "cell_type": "code",
   "execution_count": null,
   "metadata": {},
   "outputs": [],
   "source": [
    "series.to_csv(\"series.csv\")"
   ]
  },
  {
   "cell_type": "code",
   "execution_count": null,
   "metadata": {},
   "outputs": [],
   "source": [
    "table_hypha"
   ]
  }
 ],
 "metadata": {
  "kernelspec": {
   "display_name": "Python 3",
   "language": "python",
   "name": "python3"
  },
  "language_info": {
   "codemirror_mode": {
    "name": "ipython",
    "version": 3
   },
   "file_extension": ".py",
   "mimetype": "text/x-python",
   "name": "python",
   "nbconvert_exporter": "python",
   "pygments_lexer": "ipython3",
   "version": "3.7.9"
  }
 },
 "nbformat": 4,
 "nbformat_minor": 4
}
