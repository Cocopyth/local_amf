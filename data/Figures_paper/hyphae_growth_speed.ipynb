{
 "cells": [
  {
   "cell_type": "code",
   "execution_count": 6,
   "metadata": {},
   "outputs": [],
   "source": [
    "import pandas as pd\n",
    "import matplotlib.pyplot as plt\n",
    "\n",
    "%matplotlib widget\n",
    "plt.close('all')\n",
    "import numpy as np\n",
    "from random import choice\n",
    "import os\n",
    "from scipy.signal import savgol_filter\n",
    "path_save = r\"C:\\Users\\coren\\AMOLF-SHIMIZU Dropbox\\DATA\\DATATABLES\\time_plate_infos.pick\"\n",
    "time_plate_info = pd.read_pickle(path_save)\n",
    "path_save = r\"C:\\Users\\coren\\AMOLF-SHIMIZU Dropbox\\DATA\\DATATABLES\\global_hypha_infos.pick\"\n",
    "global_hypha_info = pd.read_pickle(path_save)\n",
    "path_save = r\"C:\\Users\\coren\\AMOLF-SHIMIZU Dropbox\\DATA\\DATATABLES\\time_hypha_infos.pick\"\n",
    "time_hypha_info = pd.read_pickle(path_save)\n",
    "plt.style.use('presentation.mplstyle')\n",
    "global_hypha_info['hypha_unique'] = global_hypha_info['hypha'].astype(str)+'_'+global_hypha_info['Plate'].astype(str)\n",
    "time_hypha_info['hypha_unique'] = time_hypha_info['end'].astype(str)+'_'+time_hypha_info['Plate'].astype(str)\n"
   ]
  },
  {
   "cell_type": "code",
   "execution_count": 3,
   "metadata": {},
   "outputs": [],
   "source": [
    "def get_branch(row):\n",
    "    if row['Plate']==94:\n",
    "        hyph = row['end']\n",
    "        name = f'branches/ts_{hyph}_auto.npy'\n",
    "        if not os.path.isfile(name):\n",
    "            return(None)\n",
    "        else:\n",
    "            t_real = np.load(name)\n",
    "            return(row['time_since_emergence'] in t_real)"
   ]
  },
  {
   "cell_type": "code",
   "execution_count": 7,
   "metadata": {},
   "outputs": [],
   "source": [
    "global_hypha_info['lapse']=global_hypha_info['time_stop_growth']-global_hypha_info['time_init_growth']\n",
    "time_hypha_info['distance_final_pos_smooth'] = time_hypha_info['distance_final_pos'].rolling(window = 5).mean()\n",
    "time_hypha_info['new_branch'] = time_hypha_info.apply(get_branch, axis=1)"
   ]
  },
  {
   "cell_type": "code",
   "execution_count": 127,
   "metadata": {},
   "outputs": [],
   "source": [
    "plates = [94,792,800,91,152]\n",
    "select_time_plate = time_plate_info.loc[time_plate_info['Plate'].isin(plates)]\n",
    "select_time = time_hypha_info.loc[time_hypha_info['Plate'].isin(plates)]\n",
    "select_global = global_hypha_info.loc[global_hypha_info['Plate'].isin(plates)]\n",
    "select_global = select_global.loc[select_global['lapse']>0]\n",
    "hyphae_interest= select_global['hypha'].unique()\n",
    "# hyphae_select= [hyph for hyph in hyphae_interest if len(select_time.loc[(select_time['end']==hyph)&(select_time['has_reached_final_pos']=='False')])]\n",
    "select_time = select_time.loc[select_time['end'].isin(hyphae_interest)]\n",
    "# select_time = select_time.loc[select_time['has_reached_final_pos']=='False']\n",
    "select_time = select_time.loc[select_time['speed'].between(50,350)]\n",
    "select_time['speed'] = select_time['speed'].astype(float)\n",
    "\n",
    "\n",
    "select_time = select_time.loc[select_time['distance_final_pos']>200]\n",
    "select_time[\"int_time\"] = select_time['time_since_begin_exp'].astype(int)\n",
    "select_time[\"int_time\"] = select_time[\"int_time\"]-140*(select_time['Plate']==799)\n",
    "select_time[\"int_time\"] = select_time[\"int_time\"]-300*(select_time['Plate']==91)\n",
    "bin = 8\n",
    "select_time[\"binned_time\"] = select_time['int_time'].astype(int)//bin*bin\n",
    "\n",
    "select_time = select_time.loc[select_time['in_ROI']=='True']"
   ]
  },
  {
   "cell_type": "code",
   "execution_count": 125,
   "metadata": {},
   "outputs": [
    {
     "data": {
      "application/vnd.jupyter.widget-view+json": {
       "model_id": "0587ced72a4944d69582572abc579121",
       "version_major": 2,
       "version_minor": 0
      },
      "text/plain": [
       "Canvas(toolbar=Toolbar(toolitems=[('Home', 'Reset original view', 'home', 'home'), ('Back', 'Back to previous …"
      ]
     },
     "metadata": {},
     "output_type": "display_data"
    },
    {
     "data": {
      "text/plain": [
       "array([[<AxesSubplot:title={'center':'speed'}>]], dtype=object)"
      ]
     },
     "execution_count": 125,
     "metadata": {},
     "output_type": "execute_result"
    }
   ],
   "source": [
    "select_time.hist('speed',bins=30)"
   ]
  },
  {
   "cell_type": "code",
   "execution_count": 129,
   "metadata": {},
   "outputs": [
    {
     "data": {
      "application/vnd.jupyter.widget-view+json": {
       "model_id": "7c9149f941f6494a8299c509826e2753",
       "version_major": 2,
       "version_minor": 0
      },
      "text/plain": [
       "Canvas(toolbar=Toolbar(toolitems=[('Home', 'Reset original view', 'home', 'home'), ('Back', 'Back to previous …"
      ]
     },
     "metadata": {},
     "output_type": "display_data"
    },
    {
     "data": {
      "text/plain": [
       "Text(0.02, 0.5, 'time $(h)$')"
      ]
     },
     "execution_count": 129,
     "metadata": {},
     "output_type": "execute_result"
    }
   ],
   "source": [
    "import joypy\n",
    "select = select_time.loc[select_time['binned_time'].between(0,100)]\n",
    "fig, axes = joypy.joyplot(select,'speed',by='binned_time')\n",
    "fig.supxlabel('speed $(\\mu m.s^{-1})$')\n",
    "fig.supylabel('time $(h)$')\n",
    "# plt.tight_layout()\n"
   ]
  },
  {
   "cell_type": "code",
   "execution_count": 135,
   "metadata": {},
   "outputs": [
    {
     "data": {
      "text/plain": [
       "2053"
      ]
     },
     "execution_count": 135,
     "metadata": {},
     "output_type": "execute_result"
    }
   ],
   "source": [
    "len(select['hypha_unique'].unique())"
   ]
  },
  {
   "cell_type": "code",
   "execution_count": 105,
   "metadata": {},
   "outputs": [],
   "source": [
    "plates = [91]\n",
    "select_time_plate = time_plate_info.loc[time_plate_info['Plate'].isin(plates)]\n",
    "select_time = time_hypha_info.loc[time_hypha_info['Plate'].isin(plates)]\n",
    "select_global = global_hypha_info.loc[global_hypha_info['Plate'].isin(plates)]\n",
    "select_global = select_global.loc[select_global['lapse']>5]\n",
    "select_global = select_global.loc[select_global['mean_speed']>200]\n",
    "\n",
    "hyphae_interest= select_global['hypha_unique'].unique()\n",
    "# hyphae_select= [hyph for hyph in hyphae_interest if len(select_time.loc[(select_time['end']==hyph)&(select_time['has_reached_final_pos']=='False')])]\n",
    "select_time = select_time.loc[select_time['hypha_unique'].isin(hyphae_interest)]\n",
    "select_time = select_time.loc[select_time['has_reached_final_pos']=='False']\n",
    "select_time = select_time.loc[select_time['speed'].between(100,350)]\n",
    "select_time['speed'] = select_time['speed'].astype(float)\n",
    "\n",
    "\n",
    "select_time = select_time.loc[select_time['distance_final_pos']>800]\n",
    "\n",
    "select_time[\"int_time\"] = select_time['time_since_emergence'].astype(float).round()\n",
    "select_time[\"int_time2\"] = select_time['time_since_begin_exp'].astype(float).round()\n",
    "if plates[0]==799:\n",
    "    select_time[\"int_time2\"] = select_time[\"int_time2\"]-140\n",
    "if plates[0]==91:\n",
    "    select_time[\"int_time2\"] = select_time[\"int_time2\"]-300\n",
    "select_time = select_time.loc[select_time['in_ROI']=='True']\n",
    "hyphae = select_time.groupby(\"hypha_unique\")[\"timestep\"].count()>=5\n",
    "select_time = select_time.set_index(\"hypha_unique\")\n",
    "select_time = select_time.loc[hyphae[select_time.index]]\n",
    "hyphae = select_time.index.unique()"
   ]
  },
  {
   "cell_type": "code",
   "execution_count": 98,
   "metadata": {},
   "outputs": [],
   "source": [
    "ijs = [(0,0),(1,0),(2,0),(0,1),(1,1),(2,1)]"
   ]
  },
  {
   "cell_type": "code",
   "execution_count": 106,
   "metadata": {},
   "outputs": [
    {
     "data": {
      "application/vnd.jupyter.widget-view+json": {
       "model_id": "503c182e017f448cbb0ff799f5014101",
       "version_major": 2,
       "version_minor": 0
      },
      "text/plain": [
       "Canvas(toolbar=Toolbar(toolitems=[('Home', 'Reset original view', 'home', 'home'), ('Back', 'Back to previous …"
      ]
     },
     "metadata": {},
     "output_type": "display_data"
    },
    {
     "name": "stderr",
     "output_type": "stream",
     "text": [
      "C:\\Users\\coren\\anaconda3\\envs\\cleanMsc\\lib\\site-packages\\numpy\\core\\_methods.py:43: RuntimeWarning: invalid value encountered in reduce\n",
      "  return umr_minimum(a, axis, None, out, keepdims, initial, where)\n",
      "C:\\Users\\coren\\anaconda3\\envs\\cleanMsc\\lib\\site-packages\\numpy\\core\\_methods.py:39: RuntimeWarning: invalid value encountered in reduce\n",
      "  return umr_maximum(a, axis, None, out, keepdims, initial, where)\n"
     ]
    },
    {
     "data": {
      "text/plain": [
       "Text(0.5, 1.0, 'Plate 91')"
      ]
     },
     "execution_count": 106,
     "metadata": {},
     "output_type": "execute_result"
    }
   ],
   "source": [
    "fig, axs = plt.subplots(3,2,figsize = (8,5))\n",
    "ax = axs[2][0]\n",
    "for hypha in hyphae:\n",
    "    plot = select_time.loc[select_time.index==hypha]\n",
    "    if len(plot)>0:\n",
    "        ax.plot(plot['int_time2'],plot['speed'],alpha =0.2)\n",
    "data = select_time.groupby('int_time2')['speed']\n",
    "\n",
    "# ax.plot(data.mean(),label = 'mean')\n",
    "ax.errorbar(data.mean().index,data.mean(),data.std()/np.sqrt(data.count()),label = 'mean',color='black')\n",
    "lim_up= 100\n",
    "ax.set_xlim((0,lim_up))\n",
    "fig.supxlabel(\"time since begin (h)\")\n",
    "fig.supylabel(\"growth speed ($\\mu m .h^{-1}$)\")\n",
    "ax.legend()\n",
    "plt.tight_layout()\n",
    "ax.set_title(f\"Plate {plates[0]}\",fontdict = {\"fontsize\" : 8})\n",
    "\n",
    "# plt.savefig(\"Figure/growth_speed_radial_hyphae.svg\")"
   ]
  },
  {
   "cell_type": "code",
   "execution_count": 107,
   "metadata": {},
   "outputs": [],
   "source": [
    "# dic_hyphae = {}\n",
    "# dic_lim_up = {}\n",
    "dic_hyphae[plates[0]]=hyphae\n",
    "dic_lim_up[plates[0]]=lim_up\n"
   ]
  },
  {
   "cell_type": "code",
   "execution_count": 122,
   "metadata": {},
   "outputs": [],
   "source": [
    "plates_list = [[94],[799],[800],[91],[152],[792]]\n",
    "# select_time_plate = time_plate_info.loc[time_plate_info['Plate'].isin(plates)]\n",
    "select_time = time_hypha_info\n",
    "# select_global = global_hypha_info.loc[global_hypha_info['Plate'].isin(plates)]\n",
    "select_global = select_global.loc[select_global['lapse']>5]\n",
    "select_global = select_global.loc[select_global['mean_speed']>200]\n",
    "\n",
    "hyphae_interest= select_global['hypha_unique'].unique()\n",
    "# hyphae_select= [hyph for hyph in hyphae_interest if len(select_time.loc[(select_time['end']==hyph)&(select_time['has_reached_final_pos']=='False')])]\n",
    "# select_time = select_time.loc[select_time['hypha_unique'].isin(hyphae_interest)]\n",
    "select_time = select_time.loc[select_time['has_reached_final_pos']=='False']\n",
    "select_time = select_time.loc[select_time['speed'].between(100,350)]\n",
    "select_time['speed'] = select_time['speed'].astype(float)\n",
    "select_time = select_time.loc[select_time['distance_final_pos']>800]\n",
    "select_time[\"int_time\"] = select_time['time_since_emergence'].astype(float).round()\n",
    "select_time[\"int_time2\"] = select_time['time_since_begin_exp'].astype(float).round()\n",
    "select_time[\"int_time2\"] = select_time[\"int_time2\"]-140*(select_time['Plate']==799)\n",
    "select_time[\"int_time2\"] = select_time[\"int_time2\"]-300*(select_time['Plate']==91)\n"
   ]
  },
  {
   "cell_type": "code",
   "execution_count": 116,
   "metadata": {},
   "outputs": [
    {
     "data": {
      "text/plain": [
       "0              0_799\n",
       "0              0_799\n",
       "0              0_799\n",
       "0              0_799\n",
       "0              0_799\n",
       "             ...    \n",
       "86708      86708_787\n",
       "93203      93203_787\n",
       "97308      97308_787\n",
       "107892    107892_787\n",
       "107892    107892_787\n",
       "Name: hypha_unique, Length: 13113, dtype: object"
      ]
     },
     "execution_count": 116,
     "metadata": {},
     "output_type": "execute_result"
    }
   ],
   "source": [
    "select_time['hypha_unique']"
   ]
  },
  {
   "cell_type": "code",
   "execution_count": 123,
   "metadata": {},
   "outputs": [
    {
     "data": {
      "application/vnd.jupyter.widget-view+json": {
       "model_id": "a4b3b49fd83d4e3f8c08a5d1790d5948",
       "version_major": 2,
       "version_minor": 0
      },
      "text/plain": [
       "Canvas(toolbar=Toolbar(toolitems=[('Home', 'Reset original view', 'home', 'home'), ('Back', 'Back to previous …"
      ]
     },
     "metadata": {},
     "output_type": "display_data"
    },
    {
     "name": "stderr",
     "output_type": "stream",
     "text": [
      "C:\\Users\\coren\\anaconda3\\envs\\cleanMsc\\lib\\site-packages\\numpy\\core\\_methods.py:43: RuntimeWarning: invalid value encountered in reduce\n",
      "  return umr_minimum(a, axis, None, out, keepdims, initial, where)\n",
      "C:\\Users\\coren\\anaconda3\\envs\\cleanMsc\\lib\\site-packages\\numpy\\core\\_methods.py:39: RuntimeWarning: invalid value encountered in reduce\n",
      "  return umr_maximum(a, axis, None, out, keepdims, initial, where)\n"
     ]
    }
   ],
   "source": [
    "fig, axs = plt.subplots(3,2,figsize = (8,5))\n",
    "for k, plates in enumerate(plates_list):\n",
    "    ij = ijs[k]\n",
    "    ax = axs[ij[0]][ij[1]]\n",
    "    hyphae = dic_hyphae[plates[0]]\n",
    "    for hypha in hyphae:\n",
    "        plot = select_time.loc[select_time['hypha_unique']==hypha]\n",
    "        if len(plot)>0:\n",
    "            ax.plot(plot['int_time2'],plot['speed'],alpha =0.2)\n",
    "    data = select_time.loc[select_time['hypha_unique'].isin(hyphae)]\n",
    "    data = data.groupby('int_time2')['speed']\n",
    "\n",
    "    # ax.plot(data.mean(),label = 'mean')\n",
    "    ax.errorbar(data.mean().index,data.mean(),data.std()/np.sqrt(data.count()),label = 'mean',color='black')\n",
    "    lim_up= dic_lim_up[plates[0]]\n",
    "    ax.set_xlim((0,lim_up))\n",
    "    fig.supxlabel(\"time since begin (h)\")\n",
    "    fig.supylabel(\"growth speed ($\\mu m .h^{-1}$)\")\n",
    "    ax.legend()\n",
    "    plt.tight_layout()\n",
    "    ax.set_title(f\"Plate {plates[0]}\",fontdict = {\"fontsize\" : 8})\n",
    "#     break"
   ]
  },
  {
   "cell_type": "code",
   "execution_count": null,
   "metadata": {},
   "outputs": [],
   "source": []
  },
  {
   "cell_type": "code",
   "execution_count": 59,
   "metadata": {},
   "outputs": [
    {
     "data": {
      "application/vnd.jupyter.widget-view+json": {
       "model_id": "a57f0f9e8fb94e48b384aa68a779ab17",
       "version_major": 2,
       "version_minor": 0
      },
      "text/plain": [
       "Canvas(toolbar=Toolbar(toolitems=[('Home', 'Reset original view', 'home', 'home'), ('Back', 'Back to previous …"
      ]
     },
     "metadata": {},
     "output_type": "display_data"
    },
    {
     "data": {
      "text/plain": [
       "Text(0, 0.5, 'average growth speed ($\\\\mu m .h^{-1}$)')"
      ]
     },
     "execution_count": 59,
     "metadata": {},
     "output_type": "execute_result"
    }
   ],
   "source": [
    "fig, ax = plt.subplots()\n",
    "for hypha in hyphae_interest:\n",
    "    plot = select_time.loc[select_time.index==hypha]\n",
    "    ax.plot(plot['int_time'],plot['speed'],alpha =0.1)\n",
    "data = select_time.groupby('int_time')['speed']\n",
    "\n",
    "ax.plot(data.mean())\n",
    "ax.errorbar(data.mean().index,data.mean(),data.std()/np.sqrt(data.count()))\n",
    "ax.set_xlim((0,60))\n",
    "ax.set_xlabel(\"time since emergence (h)\")\n",
    "ax.set_ylabel(\"average growth speed ($\\mu m .h^{-1}$)\")"
   ]
  },
  {
   "cell_type": "code",
   "execution_count": 20,
   "metadata": {},
   "outputs": [
    {
     "data": {
      "application/vnd.jupyter.widget-view+json": {
       "model_id": "2e245a7ae08c4dbfa99243d76575b145",
       "version_major": 2,
       "version_minor": 0
      },
      "text/plain": [
       "Canvas(toolbar=Toolbar(toolitems=[('Home', 'Reset original view', 'home', 'home'), ('Back', 'Back to previous …"
      ]
     },
     "metadata": {},
     "output_type": "display_data"
    },
    {
     "data": {
      "text/plain": [
       "Text(0, 0.5, 'average growth speed ($\\\\mu m .h^{-1}$)')"
      ]
     },
     "execution_count": 20,
     "metadata": {},
     "output_type": "execute_result"
    }
   ],
   "source": [
    "fig, ax = plt.subplots()\n",
    "for hypha in hyphae_interest:\n",
    "    plot = select_time.loc[select_time.index==hypha]\n",
    "    ax.plot(plot['int_time'],plot['speed'],alpha =0.2)\n",
    "data = select_time.groupby('int_time')['speed']\n",
    "\n",
    "ax.plot(data.mean())\n",
    "ax.errorbar(data.mean().index,data.mean(),data.std()/np.sqrt(data.count()))\n",
    "ax.set_xlim((0,60))\n",
    "ax.set_xlabel(\"time since emergence (h)\")\n",
    "ax.set_ylabel(\"average growth speed ($\\mu m .h^{-1}$)\")"
   ]
  },
  {
   "cell_type": "code",
   "execution_count": 22,
   "metadata": {},
   "outputs": [
    {
     "data": {
      "application/vnd.jupyter.widget-view+json": {
       "model_id": "071eab99e5a049cba9170a64d8a84eb0",
       "version_major": 2,
       "version_minor": 0
      },
      "text/plain": [
       "Canvas(toolbar=Toolbar(toolitems=[('Home', 'Reset original view', 'home', 'home'), ('Back', 'Back to previous …"
      ]
     },
     "metadata": {},
     "output_type": "display_data"
    },
    {
     "ename": "DataError",
     "evalue": "No numeric types to aggregate",
     "output_type": "error",
     "traceback": [
      "\u001b[1;31m---------------------------------------------------------------------------\u001b[0m",
      "\u001b[1;31mDataError\u001b[0m                                 Traceback (most recent call last)",
      "\u001b[1;32m<ipython-input-22-7adb5eec4d61>\u001b[0m in \u001b[0;36m<module>\u001b[1;34m\u001b[0m\n\u001b[0;32m      5\u001b[0m \u001b[0mdata\u001b[0m \u001b[1;33m=\u001b[0m \u001b[0mselect_time\u001b[0m\u001b[1;33m.\u001b[0m\u001b[0mgroupby\u001b[0m\u001b[1;33m(\u001b[0m\u001b[1;34m'int_time'\u001b[0m\u001b[1;33m)\u001b[0m\u001b[1;33m[\u001b[0m\u001b[1;34m'width_root_edge'\u001b[0m\u001b[1;33m]\u001b[0m\u001b[1;33m\u001b[0m\u001b[1;33m\u001b[0m\u001b[0m\n\u001b[0;32m      6\u001b[0m \u001b[1;33m\u001b[0m\u001b[0m\n\u001b[1;32m----> 7\u001b[1;33m \u001b[0max\u001b[0m\u001b[1;33m.\u001b[0m\u001b[0mplot\u001b[0m\u001b[1;33m(\u001b[0m\u001b[0mdata\u001b[0m\u001b[1;33m.\u001b[0m\u001b[0mmean\u001b[0m\u001b[1;33m(\u001b[0m\u001b[1;33m)\u001b[0m\u001b[1;33m)\u001b[0m\u001b[1;33m\u001b[0m\u001b[1;33m\u001b[0m\u001b[0m\n\u001b[0m\u001b[0;32m      8\u001b[0m \u001b[0max\u001b[0m\u001b[1;33m.\u001b[0m\u001b[0merrorbar\u001b[0m\u001b[1;33m(\u001b[0m\u001b[0mdata\u001b[0m\u001b[1;33m.\u001b[0m\u001b[0mmean\u001b[0m\u001b[1;33m(\u001b[0m\u001b[1;33m)\u001b[0m\u001b[1;33m.\u001b[0m\u001b[0mindex\u001b[0m\u001b[1;33m,\u001b[0m\u001b[0mdata\u001b[0m\u001b[1;33m.\u001b[0m\u001b[0mmean\u001b[0m\u001b[1;33m(\u001b[0m\u001b[1;33m)\u001b[0m\u001b[1;33m,\u001b[0m\u001b[0mdata\u001b[0m\u001b[1;33m.\u001b[0m\u001b[0mstd\u001b[0m\u001b[1;33m(\u001b[0m\u001b[1;33m)\u001b[0m\u001b[1;33m/\u001b[0m\u001b[0mnp\u001b[0m\u001b[1;33m.\u001b[0m\u001b[0msqrt\u001b[0m\u001b[1;33m(\u001b[0m\u001b[0mdata\u001b[0m\u001b[1;33m.\u001b[0m\u001b[0mcount\u001b[0m\u001b[1;33m(\u001b[0m\u001b[1;33m)\u001b[0m\u001b[1;33m)\u001b[0m\u001b[1;33m)\u001b[0m\u001b[1;33m\u001b[0m\u001b[1;33m\u001b[0m\u001b[0m\n\u001b[0;32m      9\u001b[0m \u001b[1;31m# ax.set_xlim((0,20))\u001b[0m\u001b[1;33m\u001b[0m\u001b[1;33m\u001b[0m\u001b[1;33m\u001b[0m\u001b[0m\n",
      "\u001b[1;32mC:\\Users\\coren\\anaconda3\\envs\\cleanMsc\\lib\\site-packages\\pandas\\core\\groupby\\groupby.py\u001b[0m in \u001b[0;36mmean\u001b[1;34m(self, numeric_only)\u001b[0m\n\u001b[0;32m   1497\u001b[0m             \u001b[1;34m\"mean\"\u001b[0m\u001b[1;33m,\u001b[0m\u001b[1;33m\u001b[0m\u001b[1;33m\u001b[0m\u001b[0m\n\u001b[0;32m   1498\u001b[0m             \u001b[0malt\u001b[0m\u001b[1;33m=\u001b[0m\u001b[1;32mlambda\u001b[0m \u001b[0mx\u001b[0m\u001b[1;33m,\u001b[0m \u001b[0maxis\u001b[0m\u001b[1;33m:\u001b[0m \u001b[0mSeries\u001b[0m\u001b[1;33m(\u001b[0m\u001b[0mx\u001b[0m\u001b[1;33m)\u001b[0m\u001b[1;33m.\u001b[0m\u001b[0mmean\u001b[0m\u001b[1;33m(\u001b[0m\u001b[0mnumeric_only\u001b[0m\u001b[1;33m=\u001b[0m\u001b[0mnumeric_only\u001b[0m\u001b[1;33m)\u001b[0m\u001b[1;33m,\u001b[0m\u001b[1;33m\u001b[0m\u001b[1;33m\u001b[0m\u001b[0m\n\u001b[1;32m-> 1499\u001b[1;33m             \u001b[0mnumeric_only\u001b[0m\u001b[1;33m=\u001b[0m\u001b[0mnumeric_only\u001b[0m\u001b[1;33m,\u001b[0m\u001b[1;33m\u001b[0m\u001b[1;33m\u001b[0m\u001b[0m\n\u001b[0m\u001b[0;32m   1500\u001b[0m         )\n\u001b[0;32m   1501\u001b[0m \u001b[1;33m\u001b[0m\u001b[0m\n",
      "\u001b[1;32mC:\\Users\\coren\\anaconda3\\envs\\cleanMsc\\lib\\site-packages\\pandas\\core\\groupby\\groupby.py\u001b[0m in \u001b[0;36m_cython_agg_general\u001b[1;34m(self, how, alt, numeric_only, min_count)\u001b[0m\n\u001b[0;32m   1079\u001b[0m \u001b[1;33m\u001b[0m\u001b[0m\n\u001b[0;32m   1080\u001b[0m         \u001b[1;32mif\u001b[0m \u001b[1;32mnot\u001b[0m \u001b[0moutput\u001b[0m\u001b[1;33m:\u001b[0m\u001b[1;33m\u001b[0m\u001b[1;33m\u001b[0m\u001b[0m\n\u001b[1;32m-> 1081\u001b[1;33m             \u001b[1;32mraise\u001b[0m \u001b[0mDataError\u001b[0m\u001b[1;33m(\u001b[0m\u001b[1;34m\"No numeric types to aggregate\"\u001b[0m\u001b[1;33m)\u001b[0m\u001b[1;33m\u001b[0m\u001b[1;33m\u001b[0m\u001b[0m\n\u001b[0m\u001b[0;32m   1082\u001b[0m \u001b[1;33m\u001b[0m\u001b[0m\n\u001b[0;32m   1083\u001b[0m         \u001b[1;32mreturn\u001b[0m \u001b[0mself\u001b[0m\u001b[1;33m.\u001b[0m\u001b[0m_wrap_aggregated_output\u001b[0m\u001b[1;33m(\u001b[0m\u001b[0moutput\u001b[0m\u001b[1;33m,\u001b[0m \u001b[0mindex\u001b[0m\u001b[1;33m=\u001b[0m\u001b[0mself\u001b[0m\u001b[1;33m.\u001b[0m\u001b[0mgrouper\u001b[0m\u001b[1;33m.\u001b[0m\u001b[0mresult_index\u001b[0m\u001b[1;33m)\u001b[0m\u001b[1;33m\u001b[0m\u001b[1;33m\u001b[0m\u001b[0m\n",
      "\u001b[1;31mDataError\u001b[0m: No numeric types to aggregate"
     ]
    }
   ],
   "source": [
    "fig, ax = plt.subplots()\n",
    "for hypha in hyphae_interest:\n",
    "    plot = select_time.loc[select_time.index==hypha]\n",
    "    ax.plot(plot['int_time'],plot['width_root_edge'],alpha =0.2)\n",
    "data = select_time.groupby('int_time')['width_root_edge']\n",
    "\n",
    "ax.plot(data.mean())\n",
    "ax.errorbar(data.mean().index,data.mean(),data.std()/np.sqrt(data.count()))\n",
    "# ax.set_xlim((0,20))\n",
    "ax.set_xlabel(\"time since emergence (h)\")\n",
    "ax.set_ylabel(\"average growth speed ($\\mu m .h^{-1}$)\")"
   ]
  },
  {
   "cell_type": "code",
   "execution_count": 21,
   "metadata": {},
   "outputs": [
    {
     "data": {
      "text/plain": [
       "hypha_unique\n",
       "950_152       NaN\n",
       "950_152       NaN\n",
       "950_152       NaN\n",
       "1434_152     None\n",
       "950_152       NaN\n",
       "             ... \n",
       "28327_152     NaN\n",
       "28327_152     NaN\n",
       "28327_152     NaN\n",
       "28327_152     NaN\n",
       "28327_152     NaN\n",
       "Name: width_root_edge, Length: 465, dtype: object"
      ]
     },
     "execution_count": 21,
     "metadata": {},
     "output_type": "execute_result"
    }
   ],
   "source": [
    "select_time['width_root_edge']"
   ]
  },
  {
   "cell_type": "code",
   "execution_count": 29,
   "metadata": {},
   "outputs": [
    {
     "data": {
      "text/plain": [
       "True"
      ]
     },
     "execution_count": 29,
     "metadata": {},
     "output_type": "execute_result"
    }
   ],
   "source": [
    "select_time['int_time'].unique()[0] in list(select_time['int_time'])"
   ]
  },
  {
   "cell_type": "code",
   "execution_count": 45,
   "metadata": {},
   "outputs": [
    {
     "data": {
      "text/plain": [
       "280       75.490053\n",
       "288      -131.11418\n",
       "280        81.16846\n",
       "288     -131.550487\n",
       "395      -50.748663\n",
       "            ...    \n",
       "9232            NaN\n",
       "13240           NaN\n",
       "4354            NaN\n",
       "9232            NaN\n",
       "13240           NaN\n",
       "Name: absolute_angle, Length: 157, dtype: object"
      ]
     },
     "execution_count": 45,
     "metadata": {},
     "output_type": "execute_result"
    }
   ],
   "source": [
    "select_time['absolute_angle']"
   ]
  },
  {
   "cell_type": "code",
   "execution_count": 32,
   "metadata": {},
   "outputs": [
    {
     "data": {
      "text/plain": [
       "4467    0\n",
       "4467    3\n",
       "4467    8\n",
       "Name: int_time, dtype: int32"
      ]
     },
     "execution_count": 32,
     "metadata": {},
     "output_type": "execute_result"
    }
   ],
   "source": [
    "plot['int_time'].round()"
   ]
  },
  {
   "cell_type": "code",
   "execution_count": 145,
   "metadata": {},
   "outputs": [],
   "source": [
    "plate = 152"
   ]
  },
  {
   "cell_type": "code",
   "execution_count": 116,
   "metadata": {},
   "outputs": [
    {
     "data": {
      "application/vnd.jupyter.widget-view+json": {
       "model_id": "fa25ac96ea964fd8abfead82bb459331",
       "version_major": 2,
       "version_minor": 0
      },
      "text/plain": [
       "Canvas(toolbar=Toolbar(toolitems=[('Home', 'Reset original view', 'home', 'home'), ('Back', 'Back to previous …"
      ]
     },
     "metadata": {},
     "output_type": "display_data"
    },
    {
     "data": {
      "text/plain": [
       "<AxesSubplot:xlabel='time_since_emergence', ylabel='speed'>"
      ]
     },
     "execution_count": 116,
     "metadata": {},
     "output_type": "execute_result"
    }
   ],
   "source": [
    "fig, ax = plt.subplots()\n",
    "\n",
    "select_time.plot('time_since_emergence','speed',kind = 'scatter',alpha = 0.05,s = 80,ax = ax)"
   ]
  },
  {
   "cell_type": "code",
   "execution_count": 13,
   "metadata": {},
   "outputs": [],
   "source": [
    "hyphae = select_time['end'].unique()\n",
    "tot = 1\n",
    "hyph_plot = [choice(hyphae) for i in range(tot)]"
   ]
  },
  {
   "cell_type": "code",
   "execution_count": 8,
   "metadata": {},
   "outputs": [],
   "source": [
    "plate = 94"
   ]
  },
  {
   "cell_type": "code",
   "execution_count": 14,
   "metadata": {},
   "outputs": [
    {
     "name": "stderr",
     "output_type": "stream",
     "text": [
      "C:\\Users\\coren\\anaconda3\\envs\\cleanMsc\\lib\\site-packages\\ipykernel_launcher.py:10: SettingWithCopyWarning: \n",
      "A value is trying to be set on a copy of a slice from a DataFrame.\n",
      "Try using .loc[row_indexer,col_indexer] = value instead\n",
      "\n",
      "See the caveats in the documentation: https://pandas.pydata.org/pandas-docs/stable/user_guide/indexing.html#returning-a-view-versus-a-copy\n",
      "  # Remove the CWD from sys.path while we load stuff.\n"
     ]
    },
    {
     "data": {
      "application/vnd.jupyter.widget-view+json": {
       "model_id": "6edc8f2e444f40799b1c74513f029a86",
       "version_major": 2,
       "version_minor": 0
      },
      "text/plain": [
       "Canvas(toolbar=Toolbar(toolitems=[('Home', 'Reset original view', 'home', 'home'), ('Back', 'Back to previous …"
      ]
     },
     "metadata": {},
     "output_type": "display_data"
    }
   ],
   "source": [
    "plt.close('all')\n",
    "# hyph = hyphae[i]\n",
    "i =0\n",
    "hyphae = select_time['end'].unique()\n",
    "\n",
    "hyph_plot = [choice(hyphae) for i in range(tot)]\n",
    "hyph = hyph_plot[0]\n",
    "# hyph = 5435\n",
    "to_plot = select_time.loc[select_time['end']==hyph]\n",
    "to_plot['speed_smooth'] = to_plot['speed'].rolling(window = 2).mean()\n",
    "to_plot.plot('time_since_emergence','speed',xlabel = 'Time (h)',ylabel = 'speed (um.h-1)',title = f'hyph {hyph}, plate {plate}',)\n",
    "# plt.vlines(t_real,np.min(to_plot['speed_smooth']),np.max(to_plot['speed_smooth']),color=\"red\",alpha = 0.3)\n",
    "i+=1"
   ]
  },
  {
   "cell_type": "code",
   "execution_count": 184,
   "metadata": {},
   "outputs": [
    {
     "data": {
      "text/plain": [
       "196"
      ]
     },
     "execution_count": 184,
     "metadata": {},
     "output_type": "execute_result"
    }
   ],
   "source": [
    "len(hyphae)"
   ]
  }
 ],
 "metadata": {
  "kernelspec": {
   "display_name": "Python 3 (ipykernel)",
   "language": "python",
   "name": "python3"
  },
  "language_info": {
   "codemirror_mode": {
    "name": "ipython",
    "version": 3
   },
   "file_extension": ".py",
   "mimetype": "text/x-python",
   "name": "python",
   "nbconvert_exporter": "python",
   "pygments_lexer": "ipython3",
   "version": "3.10.4"
  }
 },
 "nbformat": 4,
 "nbformat_minor": 4
}
