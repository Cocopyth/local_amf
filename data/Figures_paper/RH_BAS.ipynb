{
 "cells": [
  {
   "cell_type": "code",
   "execution_count": 5,
   "metadata": {},
   "outputs": [
    {
     "name": "stdout",
     "output_type": "stream",
     "text": [
      "The autoreload extension is already loaded. To reload it, use:\n",
      "  %reload_ext autoreload\n"
     ]
    }
   ],
   "source": [
    "%matplotlib widget\n",
    "%load_ext autoreload\n",
    "%autoreload 2\n",
    "import os  \n",
    "import sys  \n",
    "sys.path.insert(0, os.getenv('HOME')+'/pycode/MscThesis/')\n",
    "import pandas as pd\n",
    "import ast\n",
    "from scipy import sparse\n",
    "from datetime import datetime\n",
    "import pickle\n",
    "import scipy.io as sio\n",
    "from pymatreader import read_mat\n",
    "from matplotlib import colors\n",
    "import cv2\n",
    "import imageio\n",
    "import matplotlib.pyplot as plt\n",
    "import numpy as np\n",
    "from skimage.filters import frangi\n",
    "from skimage import filters\n",
    "from random import choice\n",
    "import scipy.sparse\n",
    "import os\n",
    "from skimage.feature import hessian_matrix_det\n",
    "from scipy import stats\n",
    "from scipy.ndimage.filters import uniform_filter1d\n",
    "from collections import Counter\n",
    "from IPython.display import clear_output\n",
    "from IPython.core.interactiveshell import InteractiveShell\n",
    "InteractiveShell.ast_node_interactivity = \"all\"\n",
    "plt.rcParams.update({\n",
    "    \"font.family\": \"verdana\",\n",
    "'font.weight' : 'normal',\n",
    "'font.size': 20})\n",
    "\n",
    "\n",
    "\n",
    "from sklearn.preprocessing import StandardScaler\n"
   ]
  },
  {
   "cell_type": "code",
   "execution_count": 6,
   "metadata": {},
   "outputs": [],
   "source": [
    "path_save = r\"C:\\Users\\coren\\AMOLF-SHIMIZU Dropbox\\Corentin Bisot\\Applications\\princesync\\data_tables\\time_plate_infos.pick\"\n",
    "time_plate_info = pd.read_pickle(path_save)\n",
    "path_save = r\"C:\\Users\\coren\\AMOLF-SHIMIZU Dropbox\\Corentin Bisot\\Applications\\princesync\\data_tables\\global_hypha_infos.pick\"\n",
    "global_hypha_info = pd.read_pickle(path_save)\n",
    "path_save = r\"C:\\Users\\coren\\AMOLF-SHIMIZU Dropbox\\Corentin Bisot\\Applications\\princesync\\data_tables\\time_hypha_infos.pick\"\n",
    "time_hypha_info = pd.read_pickle(path_save)\n",
    "path_save = r\"C:\\Users\\coren\\AMOLF-SHIMIZU Dropbox\\Corentin Bisot\\Applications\\princesync\\data_tables\\global_plate_infos.pick\"\n",
    "global_plate_info = pd.read_pickle(path_save)\n"
   ]
  },
  {
   "cell_type": "code",
   "execution_count": 7,
   "metadata": {},
   "outputs": [],
   "source": [
    "global_hypha_info['hypha_unique'] = global_hypha_info['hypha'].astype(str)+'_'+global_hypha_info['Plate'].astype(str)\n",
    "time_hypha_info['hypha_unique'] = time_hypha_info['end'].astype(str)+'_'+time_hypha_info['Plate'].astype(str)"
   ]
  },
  {
   "cell_type": "code",
   "execution_count": 8,
   "metadata": {},
   "outputs": [],
   "source": [
    "def get_branch(row):\n",
    "    if row['Plate']==94:\n",
    "        hyph = row['end']\n",
    "        name = f'branches/ts_{hyph}_auto.npy'\n",
    "        if not os.path.isfile(name):\n",
    "            return(None)\n",
    "        else:\n",
    "            t_real = np.load(name)\n",
    "            return(row['time_since_emergence'] in t_real)"
   ]
  },
  {
   "cell_type": "code",
   "execution_count": 9,
   "metadata": {},
   "outputs": [],
   "source": [
    "global_hypha_info['lapse']=global_hypha_info['time_stop_growth']-global_hypha_info['time_init_growth']\n",
    "time_hypha_info['distance_final_pos_smooth'] = time_hypha_info['distance_final_pos'].rolling(window = 5).mean()\n",
    "time_hypha_info['new_branch'] = time_hypha_info.apply(get_branch, axis=1)"
   ]
  },
  {
   "cell_type": "code",
   "execution_count": 59,
   "metadata": {},
   "outputs": [],
   "source": [
    "plates = [94]\n",
    "\n",
    "select_global = global_hypha_info.loc[global_hypha_info['Plate'].isin(plates)]\n",
    "\n",
    "# select_global = select_global.loc[select_global['lapse']>2]\n",
    "hyphae_interest= select_global['hypha_unique'].unique()\n",
    "select_time = time_hypha_info.loc[time_hypha_info['Plate'].isin(plates)]\n",
    "speed_at_init = select_time.loc[select_time['time_since_emergence']==1]\n",
    "\n",
    "select_time = select_time.loc[select_time['hypha_unique'].isin(hyphae_interest)]\n",
    "table = select_global.loc[select_global['hypha_unique'].isin(hyphae_interest)]\n",
    "table = table.set_index('hypha_unique')\n",
    "select_time = select_time.loc[select_time['speed'].between(50,400)]\n",
    "select_time['speed'] = select_time['speed'].astype(float)\n",
    "select_time = select_time.loc[select_time['distance_final_pos']>400]\n",
    "select_time = select_time.loc[select_time['in_ROI']=='True']\n",
    "hyphae = select_time.groupby(\"hypha_unique\")[\"timestep\"].count()>=2\n",
    "table = table.loc[table.index.isin(hyphae.index)]\n",
    "select_time = select_time.set_index(\"hypha_unique\")\n",
    "select_time = select_time.loc[hyphae[select_time.index]]\n",
    "table['max_speed'] = select_time.groupby('hypha_unique')['speed'].max()\n",
    "table['mean_speed2'] = select_time.groupby('hypha_unique')['speed'].mean()\n",
    "table['log_length'] = np.log10((table['tot_length_C']+1).astype(float))\n",
    "table['log_growth'] = np.log10((table['tot_growth_C']+1).astype(float))\n",
    "\n",
    "table['growth_lapse'] = select_time.groupby('hypha_unique')['speed'].count()\n",
    "table['speed_at_init'] = speed_at_init.groupby('hypha_unique')['speed'].max()"
   ]
  },
  {
   "cell_type": "code",
   "execution_count": 24,
   "metadata": {},
   "outputs": [
    {
     "data": {
      "text/plain": [
       "hypha_unique\n",
       "0_94         350.241680\n",
       "1_94         347.011704\n",
       "2_94         209.114917\n",
       "14_94        267.450869\n",
       "19_94        371.905472\n",
       "                ...    \n",
       "113610_94    235.839422\n",
       "114195_94    311.418135\n",
       "115344_94           NaN\n",
       "115356_94           NaN\n",
       "118923_94           NaN\n",
       "Name: max_speed, Length: 329, dtype: float64"
      ]
     },
     "execution_count": 24,
     "metadata": {},
     "output_type": "execute_result"
    }
   ],
   "source": [
    "table['max_speed']"
   ]
  },
  {
   "cell_type": "code",
   "execution_count": 53,
   "metadata": {},
   "outputs": [
    {
     "data": {
      "application/vnd.jupyter.widget-view+json": {
       "model_id": "a983e76e300249208d063acc95f10249",
       "version_major": 2,
       "version_minor": 0
      },
      "text/plain": [
       "Canvas(toolbar=Toolbar(toolitems=[('Home', 'Reset original view', 'home', 'home'), ('Back', 'Back to previous …"
      ]
     },
     "metadata": {},
     "output_type": "display_data"
    }
   ],
   "source": [
    "from pandas.plotting import scatter_matrix\n",
    "scatter_matrix(table[['av_width_final','log_length','mean_speed2','max_speed','log_growth']].fillna(0), alpha=0.15, figsize=(6, 6), diagonal=\"kde\",s=70);"
   ]
  },
  {
   "cell_type": "code",
   "execution_count": 61,
   "metadata": {},
   "outputs": [],
   "source": [
    "table['is_rh'] = (table['log_length']>=3.36).astype(int)\n",
    "table['is_small'] = (table['log_length']<=2.3).astype(int)\n",
    "table['is_bas'] = (table['log_length'].between(2.3,3.36)).astype(int)\n"
   ]
  },
  {
   "cell_type": "code",
   "execution_count": 62,
   "metadata": {},
   "outputs": [
    {
     "data": {
      "application/vnd.jupyter.widget-view+json": {
       "model_id": "4cf8ebc309bf42f9ba0068b0add47c32",
       "version_major": 2,
       "version_minor": 0
      },
      "text/plain": [
       "Canvas(toolbar=Toolbar(toolitems=[('Home', 'Reset original view', 'home', 'home'), ('Back', 'Back to previous …"
      ]
     },
     "metadata": {},
     "output_type": "display_data"
    },
    {
     "data": {
      "text/plain": [
       "<AxesSubplot:title={'center':'94'}, xlabel='log_length', ylabel='av_width_final'>"
      ]
     },
     "execution_count": 62,
     "metadata": {},
     "output_type": "execute_result"
    },
    {
     "data": {
      "text/plain": [
       "Text(0, 0.5, 'average width $(\\\\mu m)$')"
      ]
     },
     "execution_count": 62,
     "metadata": {},
     "output_type": "execute_result"
    },
    {
     "data": {
      "text/plain": [
       "Text(0.5, 0, 'log length $(log(\\\\mu m))$')"
      ]
     },
     "execution_count": 62,
     "metadata": {},
     "output_type": "execute_result"
    }
   ],
   "source": [
    "fig, ax = plt.subplots(1, 1, figsize=(6, 6))\n",
    "ylabel = 'average width $(\\mu m)$'\n",
    "# ylabel = 'maximum speed $(\\mu m.s^{-1})$'\n",
    "xlabel = 'log length $(log(\\mu m))$'\n",
    "\n",
    "table.plot('log_length','av_width_final',c='is_rh',kind='scatter',colormap='Dark2',alpha = 0.2,s=100,ax=ax,title = plate,colorbar = False)\n",
    "ax.set_ylabel(ylabel)\n",
    "ax.set_xlabel(xlabel)\n",
    "# ax.set_xlim(2.5,4.5)\n",
    "# ax.set_ylim(50,400)"
   ]
  },
  {
   "cell_type": "code",
   "execution_count": 63,
   "metadata": {},
   "outputs": [
    {
     "data": {
      "application/vnd.jupyter.widget-view+json": {
       "model_id": "2c5d232e51d140e597d2637d4996cce8",
       "version_major": 2,
       "version_minor": 0
      },
      "text/plain": [
       "Canvas(toolbar=Toolbar(toolitems=[('Home', 'Reset original view', 'home', 'home'), ('Back', 'Back to previous …"
      ]
     },
     "metadata": {},
     "output_type": "display_data"
    },
    {
     "data": {
      "text/plain": [
       "<AxesSubplot:title={'center':'94'}, xlabel='log_length', ylabel='max_speed'>"
      ]
     },
     "execution_count": 63,
     "metadata": {},
     "output_type": "execute_result"
    },
    {
     "data": {
      "text/plain": [
       "Text(0, 0.5, 'average width $(\\\\mu m)$')"
      ]
     },
     "execution_count": 63,
     "metadata": {},
     "output_type": "execute_result"
    },
    {
     "data": {
      "text/plain": [
       "Text(0.5, 0, 'log length $(log(\\\\mu m))$')"
      ]
     },
     "execution_count": 63,
     "metadata": {},
     "output_type": "execute_result"
    },
    {
     "data": {
      "text/plain": [
       "(50.0, 400.0)"
      ]
     },
     "execution_count": 63,
     "metadata": {},
     "output_type": "execute_result"
    }
   ],
   "source": [
    "fig, ax = plt.subplots(1, 1, figsize=(6, 6))\n",
    "ylabel = 'average width $(\\mu m)$'\n",
    "# ylabel = 'maximum speed $(\\mu m.s^{-1})$'\n",
    "xlabel = 'log length $(log(\\mu m))$'\n",
    "\n",
    "table.plot('log_length','max_speed',c='is_rh',kind='scatter',colormap='Dark2',alpha = 0.2,s=100,ax=ax,title = plate,colorbar = False)\n",
    "ax.set_ylabel(ylabel)\n",
    "ax.set_xlabel(xlabel)\n",
    "# ax.set_xlim(2.5,4.5)\n",
    "ax.set_ylim(50,400)"
   ]
  },
  {
   "cell_type": "code",
   "execution_count": 64,
   "metadata": {},
   "outputs": [
    {
     "data": {
      "application/vnd.jupyter.widget-view+json": {
       "model_id": "888385e582de4124a294904bc4ef8ea7",
       "version_major": 2,
       "version_minor": 0
      },
      "text/plain": [
       "Canvas(toolbar=Toolbar(toolitems=[('Home', 'Reset original view', 'home', 'home'), ('Back', 'Back to previous …"
      ]
     },
     "metadata": {},
     "output_type": "display_data"
    },
    {
     "data": {
      "text/plain": [
       "<AxesSubplot:title={'center':'94'}, xlabel='log_length', ylabel='speed_at_init'>"
      ]
     },
     "execution_count": 64,
     "metadata": {},
     "output_type": "execute_result"
    },
    {
     "data": {
      "text/plain": [
       "Text(0, 0.5, 'average width $(\\\\mu m)$')"
      ]
     },
     "execution_count": 64,
     "metadata": {},
     "output_type": "execute_result"
    },
    {
     "data": {
      "text/plain": [
       "Text(0.5, 0, 'log length $(log(\\\\mu m))$')"
      ]
     },
     "execution_count": 64,
     "metadata": {},
     "output_type": "execute_result"
    },
    {
     "data": {
      "text/plain": [
       "(50.0, 400.0)"
      ]
     },
     "execution_count": 64,
     "metadata": {},
     "output_type": "execute_result"
    }
   ],
   "source": [
    "fig, ax = plt.subplots(1, 1, figsize=(6, 6))\n",
    "ylabel = 'average width $(\\mu m)$'\n",
    "# ylabel = 'maximum speed $(\\mu m.s^{-1})$'\n",
    "xlabel = 'log length $(log(\\mu m))$'\n",
    "\n",
    "table.plot('log_length','speed_at_init',c='is_rh',kind='scatter',colormap='Dark2',alpha = 0.2,s=100,ax=ax,title = plate,colorbar = False)\n",
    "ax.set_ylabel(ylabel)\n",
    "ax.set_xlabel(xlabel)\n",
    "# ax.set_xlim(2.5,4.5)\n",
    "ax.set_ylim(50,400)"
   ]
  }
 ],
 "metadata": {
  "kernelspec": {
   "display_name": "Python 3",
   "language": "python",
   "name": "python3"
  },
  "language_info": {
   "codemirror_mode": {
    "name": "ipython",
    "version": 3
   },
   "file_extension": ".py",
   "mimetype": "text/x-python",
   "name": "python",
   "nbconvert_exporter": "python",
   "pygments_lexer": "ipython3",
   "version": "3.7.9"
  }
 },
 "nbformat": 4,
 "nbformat_minor": 4
}
