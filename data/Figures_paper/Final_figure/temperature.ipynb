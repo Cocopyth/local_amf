{
 "cells": [
  {
   "cell_type": "code",
   "execution_count": 1,
   "id": "bce8cb27-ffff-42e4-a49f-3cdbd9eac69f",
   "metadata": {},
   "outputs": [
    {
     "name": "stderr",
     "output_type": "stream",
     "text": [
      "c:\\users\\coren\\documents\\phd\\code\\amftrack\\amftrack\\util\\dbx.py:3: TqdmExperimentalWarning: Using `tqdm.autonotebook.tqdm` in notebook mode. Use `tqdm.tqdm` instead to force console mode (e.g. in jupyter console)\n",
      "  from tqdm.autonotebook import tqdm\n"
     ]
    }
   ],
   "source": [
    "import os\n",
    "import matplotlib.pyplot as plt\n",
    "import os\n",
    "import pandas as pd\n",
    "from amftrack.util.sys import get_analysis_folders,get_time_plate_info_from_analysis,get_time_hypha_info_from_analysis,get_global_hypha_info_from_analysis \n",
    "import numpy as np\n",
    "import imageio\n",
    "import os\n",
    "import cv2\n",
    "from scipy.interpolate import interp1d\n",
    "from scipy.optimize import curve_fit\n",
    "from amftrack.pipeline.final_analysis.density_wave import get_wave_fit, S, dS, wave, dwave\n",
    "import matplotlib.patches as mpatches\n",
    "from random import choice\n",
    "import matplotlib as mpl\n",
    "from amftrack.pipeline.final_analysis.density_wave import plot_single_plate,plot_single_plate_biovolume\n",
    "from amftrack.pipeline.final_analysis.hypha_speed_analysis import *\n",
    "from amftrack.util.plot import gridplot, make_stat\n",
    "%matplotlib widget\n",
    "%load_ext autoreload\n",
    "%autoreload 2\n",
    "plt.style.use('presentation.mplstyle')\n",
    "from mpl_toolkits.axes_grid1.inset_locator import inset_axes\n",
    "from amftrack.pipeline.final_analysis.hypha_speed_analysis import *\n",
    "import scipy\n",
    "import statsmodels.api as sm\n",
    "import hashlib"
   ]
  },
  {
   "cell_type": "code",
   "execution_count": 2,
   "id": "eb15f07b-bf4a-4e73-a5c2-1db6d58eaf2e",
   "metadata": {},
   "outputs": [],
   "source": [
    "all_analysis_folders = get_analysis_folders()\n",
    "\n",
    "plate_select = [792,1014,1042,127,130,1023,1045,1053,1048,52,84,938,1076,94,152,102,76,30,32,33,91,799,800] #C2\n",
    "plates = ['1014_20220525', '1023_20220502', '102_20201226', '1042_20220523',\n",
    "       '1045_20220504', '1048_20220506', '1053_20220413', '1076_20220511',\n",
    "       '127_20220705', '130_20220707', '152_20201224', '30_20220509',\n",
    "       '32_20220428', '33_20220502', '52_20220707', '76_20210108',\n",
    "       '792_20210915', '799_20211001', '800_20210928', '84_20220621', '91_20220708', '938_20220325', '94_20201123']\n",
    "plates = [\n",
    "\"10_20210107\",\n",
    "\"26_20210104\",\n",
    "\"38_20201202\",\n",
    "\"42_20201204\",\n",
    "\"48_20201207\",\n",
    "# \"55_20210113\",\n",
    "\"59_20201126\",\n",
    "\"60_20201204\",\n",
    "\"64_20201130\",\n",
    "\"66_20201214\",\n",
    "\"67_20201202\",\n",
    "\"69_20201119\",\n",
    "\"92_20201209\",\n",
    "\"90_20201209\",\n",
    "\"99_20201210\",\n",
    "\"112_20201209\",\n",
    "\"127_20201209\",\n",
    "\"138_20201207\",\n",
    "\"162_20201207\"]\n",
    "analysis_folders = all_analysis_folders.loc[all_analysis_folders['unique_id'].isin(plates)]\n"
   ]
  },
  {
   "cell_type": "code",
   "execution_count": 3,
   "id": "f3dcc824-fd1b-4455-b471-9a3203527db9",
   "metadata": {},
   "outputs": [],
   "source": [
    "folders,time_plate_info = get_time_plate_info_from_analysis(analysis_folders,False)\n",
    "folders,global_hypha_info = get_global_hypha_info_from_analysis(analysis_folders,False)\n",
    "folders, time_hypha_info = get_time_hypha_info_from_analysis(analysis_folders,False)"
   ]
  },
  {
   "cell_type": "code",
   "execution_count": 5,
   "id": "13a579b3-1bdf-4cc2-bd91-0bd90f137886",
   "metadata": {},
   "outputs": [
    {
     "data": {
      "text/plain": [
       "0.10416666666666667"
      ]
     },
     "execution_count": 5,
     "metadata": {},
     "output_type": "execute_result"
    }
   ],
   "source": [
    "250/3600/2*3"
   ]
  }
 ],
 "metadata": {
  "kernelspec": {
   "display_name": "Python 3 (ipykernel)",
   "language": "python",
   "name": "python3"
  },
  "language_info": {
   "codemirror_mode": {
    "name": "ipython",
    "version": 3
   },
   "file_extension": ".py",
   "mimetype": "text/x-python",
   "name": "python",
   "nbconvert_exporter": "python",
   "pygments_lexer": "ipython3",
   "version": "3.10.6"
  }
 },
 "nbformat": 4,
 "nbformat_minor": 5
}
