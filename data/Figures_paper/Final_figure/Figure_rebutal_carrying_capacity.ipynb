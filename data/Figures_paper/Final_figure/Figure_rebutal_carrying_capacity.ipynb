{
 "cells": [
  {
   "cell_type": "code",
   "execution_count": 84,
   "id": "02d31825-616c-4d52-9f6a-70fc4fc0b541",
   "metadata": {
    "tags": []
   },
   "outputs": [
    {
     "name": "stdout",
     "output_type": "stream",
     "text": [
      "The autoreload extension is already loaded. To reload it, use:\n",
      "  %reload_ext autoreload\n"
     ]
    }
   ],
   "source": [
    "%load_ext autoreload\n",
    "%autoreload 2\n",
    "import os\n",
    "import matplotlib.pyplot as plt\n",
    "import os\n",
    "import pandas as pd\n",
    "from amftrack.util.sys import get_analysis_folders,get_time_plate_info_long_from_analysis,get_time_plate_info_from_analysis,get_time_hypha_info_from_analysis,get_global_hypha_info_from_analysis \n",
    "import numpy as np\n",
    "import imageio\n",
    "import os\n",
    "import cv2\n",
    "from scipy.interpolate import interp1d\n",
    "from scipy.optimize import curve_fit\n",
    "from amftrack.pipeline.final_analysis.density_wave import get_wave_fit, S, dS, wave, dwave,plot_single_plate\n",
    "import matplotlib.patches as mpatches\n",
    "import statsmodels.api as sm\n",
    "from amftrack.pipeline.final_analysis.hypha_speed_analysis import *\n",
    "import scipy\n",
    "from mpl_toolkits.axes_grid1.inset_locator import inset_axes\n",
    "import scipy.io as sio\n",
    "import matplotlib as mpl\n",
    "from matplotlib.path import Path\n",
    "from matplotlib.patches import PathPatch\n",
    "from matplotlib.legend_handler import HandlerTuple\n",
    "from amftrack.util.plot import gridplot\n",
    "import logging\n",
    "from datetime import timedelta\n",
    "\n",
    "%store -r path_figure\n",
    "\n",
    "logging.getLogger().setLevel(logging.WARNING)\n",
    "plt.style.use('presentation.mplstyle')\n",
    "\n",
    "%matplotlib widget"
   ]
  },
  {
   "cell_type": "code",
   "execution_count": 2,
   "id": "afee5709-be1e-4535-86e0-641ff96dee9d",
   "metadata": {},
   "outputs": [],
   "source": [
    "\n",
    "plates_paper = [\n",
    "    \"52_20220707\",\n",
    "    \"56_20220701\",\n",
    "    \"59_20201126\",\n",
    "    \"69_20201119\",\n",
    "    \"76_20210108\",\n",
    "    \"81_20220704\",\n",
    "    \"84_20220621\",\n",
    "    \"94_20201123\",\n",
    "    \"102_20201226\",\n",
    "    \"152_20201224\",\n",
    "    \"792_20210915\",\n",
    "    \"1076_20220511\",\n",
    "    \"941_20220404\",\n",
    "]\n",
    "plates_paper += [\n",
    "    \"1014_20220525\",\n",
    "    \"1023_20220502\",\n",
    "    \"1042_20220523\",\n",
    "    \"1045_20220504\",\n",
    "    \"1048_20220506\",\n",
    "    \"1053_20220413\",\n",
    "    \"127_20220705\",\n",
    "    \"130_20220707\",\n",
    "    \"800_20210928\",\n",
    "]"
   ]
  },
  {
   "cell_type": "code",
   "execution_count": 4,
   "id": "4ae3060d-6103-4c60-8050-ad2808ff2ee1",
   "metadata": {},
   "outputs": [],
   "source": [
    "all_analysis_folders = get_analysis_folders()\n",
    "analysis_folders = all_analysis_folders.loc[all_analysis_folders['unique_id'].isin(plates_paper)]\n",
    "\n",
    "folders,time_plate_info = get_time_plate_info_from_analysis(analysis_folders,use_saved=False)"
   ]
  },
  {
   "cell_type": "code",
   "execution_count": 41,
   "id": "5d088b7c-3ede-4dbc-8d22-db086568bedd",
   "metadata": {},
   "outputs": [],
   "source": [
    "spore_data = pd.read_csv('spores_rebutal.csv')"
   ]
  },
  {
   "cell_type": "code",
   "execution_count": 6,
   "id": "58ebe1ed-25e6-4434-9c56-cc73ab536236",
   "metadata": {},
   "outputs": [
    {
     "data": {
      "text/plain": [
       "array([\"'001P100N100C'\", \"'001P100N'\", \"'001P100N200C'\",\n",
       "       \"'001P100N200C-T'\"], dtype=object)"
      ]
     },
     "execution_count": 6,
     "metadata": {},
     "output_type": "execute_result"
    }
   ],
   "source": [
    "spore_data['medium'].unique()"
   ]
  },
  {
   "cell_type": "code",
   "execution_count": 42,
   "id": "097ddfa4-69e3-4756-bc85-9af29f0c6837",
   "metadata": {},
   "outputs": [],
   "source": [
    "spore_data['medium']=spore_data['medium'].replace(\"'001P100N200C-T'\",\"001P100N200C\")\n",
    "spore_data['medium']=spore_data['medium'].replace(\"'001P100N'\",\"001P100N100C\")\n",
    "spore_data['medium']=spore_data['medium'].replace(\"'001P100N200C'\",\"001P100N200C\")\n",
    "spore_data['medium']=spore_data['medium'].replace(\"'001P100N100C'\",\"001P100N100C\")\n",
    "spore_data['strain']=spore_data['strain'].replace(\"'A5sp3'\",\"'A5'\")"
   ]
  },
  {
   "cell_type": "code",
   "execution_count": 43,
   "id": "9105f4d7-c874-4c85-93e9-1f0a08dc9147",
   "metadata": {},
   "outputs": [],
   "source": [
    "spore_data['date'] = pd.to_datetime(spore_data['date'])"
   ]
  },
  {
   "cell_type": "code",
   "execution_count": 55,
   "id": "a5fd9ec3-1039-495e-b067-c95cfbbf7272",
   "metadata": {},
   "outputs": [],
   "source": [
    "spore_data['day'] = (spore_data['time_since_begin_h']//24).astype(int)\n",
    "spore_data['3day'] = spore_data['day']//3*3\n",
    "\n"
   ]
  },
  {
   "cell_type": "code",
   "execution_count": 56,
   "id": "3962d126-6123-4a70-89d1-6ff65cf7afce",
   "metadata": {
    "tags": []
   },
   "outputs": [
    {
     "name": "stderr",
     "output_type": "stream",
     "text": [
      "C:\\Users\\coren\\AppData\\Local\\Temp\\ipykernel_19920\\251972834.py:2: PerformanceWarning: DataFrame is highly fragmented.  This is usually the result of calling `frame.insert` many times, which has poor performance.  Consider joining all columns at once using pd.concat(axis=1) instead. To get a de-fragmented frame, use `newframe = frame.copy()`\n",
      "  merged['treatment'] = merged['medium_x']+merged['strain_x']\n"
     ]
    }
   ],
   "source": [
    "merged = spore_data.merge(time_plate_info,left_on = \"date\",right_on=\"datetime\",how=\"left\")\n",
    "merged['treatment'] = merged['medium_x']+merged['strain_x']\n"
   ]
  },
  {
   "cell_type": "code",
   "execution_count": 60,
   "id": "2eb788ac-28a7-446c-a1f9-a34b1727ebb3",
   "metadata": {},
   "outputs": [],
   "source": [
    "merged['total_biovolume_estimated'] = merged['tot_length_study']*np.pi*3**2"
   ]
  },
  {
   "cell_type": "code",
   "execution_count": 65,
   "id": "88e77eca-95f8-4421-9dda-f33fc913eab1",
   "metadata": {},
   "outputs": [],
   "source": [
    "color_map = {\n",
    "    \"001P100N100C'A5'\": 'orange',\n",
    "    \"001P100N200C'A5'\": 'red',\n",
    "    \"001P100N100C'C2'\": 'blue',\n",
    "    \"001P100N200C'C2'\": 'purple'\n",
    "}"
   ]
  },
  {
   "cell_type": "code",
   "execution_count": 73,
   "id": "d4a405b1-6d18-41ce-9a61-40b74df0dc02",
   "metadata": {},
   "outputs": [],
   "source": [
    "path_figure = r'C:\\\\Users\\\\coren\\\\AMOLF-SHIMIZU Dropbox\\\\HFSP_symbiotic-networks\\\\Article_TravellingWave\\\\Supplementary material\\\\extended_data_figures'"
   ]
  },
  {
   "cell_type": "code",
   "execution_count": 106,
   "id": "da64a151-eafc-462d-87c9-6a4d8a6b2a73",
   "metadata": {},
   "outputs": [
    {
     "name": "stdout",
     "output_type": "stream",
     "text": [
      "2024-01-31 17:49:54,649-[WARNING]- fontTools.subset:2983 -> meta NOT subset; don't know how to subset; dropped\n"
     ]
    },
    {
     "data": {
      "application/vnd.jupyter.widget-view+json": {
       "model_id": "f0f0422cede449e6b13ff280dea15188",
       "version_major": 2,
       "version_minor": 0
      },
      "image/png": "[encoded data removed]",
      "text/html": [
       "\n",
       "            <div style=\"display: inline-block;\">\n",
       "                <div class=\"jupyter-widgets widget-label\" style=\"text-align: center;\">\n",
       "                    Figure\n",
       "                </div>\n",
       "                <img src='data:image/png;base64,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' width=150.0/>\n",
       "            </div>\n",
       "        "
      ],
      "text/plain": [
       "Canvas(toolbar=Toolbar(toolitems=[('Home', 'Reset original view', 'home', 'home'), ('Back', 'Back to previous …"
      ]
     },
     "metadata": {},
     "output_type": "display_data"
    }
   ],
   "source": [
    "import seaborn as sns\n",
    "select = merged[merged['day']<22]\n",
    "width = 1.5\n",
    "height = 0.5\n",
    "fig,ax = plt.subplots(figsize=(width,height))\n",
    "sns.lineplot(select,x=\"3day\",y=\"spore_volume_x\",hue = \"treatment\",ax=ax, palette=color_map,legend=False)\n",
    "\n",
    "ax.set_xlabel('days after crossing')\n",
    "ax.set_ylabel('$\\Omega_{spore}$ \\n($\\mu m^3$)')\n",
    "ax.set_xlim(0,20)\n",
    "ax.set_ylim(0,2.5e8)\n",
    "plt.savefig(os.path.join(path_figure,'Figure_rebutal_spore.pdf'), transparent=True, bbox_inches='tight')"
   ]
  },
  {
   "cell_type": "code",
   "execution_count": 107,
   "id": "eda44f17-5890-4948-a43e-7894ae75c8cf",
   "metadata": {},
   "outputs": [
    {
     "name": "stdout",
     "output_type": "stream",
     "text": [
      "2024-01-31 17:49:56,941-[WARNING]- fontTools.subset:2983 -> meta NOT subset; don't know how to subset; dropped\n"
     ]
    },
    {
     "data": {
      "application/vnd.jupyter.widget-view+json": {
       "model_id": "60669da754d74d85ada598ed9503f634",
       "version_major": 2,
       "version_minor": 0
      },
      "image/png": "[encoded data removed]",
      "text/html": [
       "\n",
       "            <div style=\"display: inline-block;\">\n",
       "                <div class=\"jupyter-widgets widget-label\" style=\"text-align: center;\">\n",
       "                    Figure\n",
       "                </div>\n",
       "                <img src='data:image/png;base64,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' width=150.0/>\n",
       "            </div>\n",
       "        "
      ],
      "text/plain": [
       "Canvas(toolbar=Toolbar(toolitems=[('Home', 'Reset original view', 'home', 'home'), ('Back', 'Back to previous …"
      ]
     },
     "metadata": {},
     "output_type": "display_data"
    }
   ],
   "source": [
    "fig,ax = plt.subplots(figsize=(width,height))\n",
    "\n",
    "sns.lineplot(select,x=\"3day\",y=\"total_biovolume_estimated\",hue = \"treatment\",ax=ax, palette=color_map,legend=False)\n",
    "ax.set_xlabel('')\n",
    "# ax.set_xlabel('days after crossing')\n",
    "ax.set_xticklabels([])\n",
    "\n",
    "ax.set_ylabel('$\\Omega_{hyphae}$ \\n ($\\mu m^3$)')\n",
    "ax.set_xlim(0,20)\n",
    "ax.set_ylim(0,2.5e8)\n",
    "plt.savefig(os.path.join(path_figure,'Figure_rebutal_length.pdf'), transparent=True, bbox_inches='tight')"
   ]
  },
  {
   "cell_type": "code",
   "execution_count": 92,
   "id": "ac3a95ac-0dd4-4bb8-966d-fe72ef6e7168",
   "metadata": {},
   "outputs": [],
   "source": [
    "data_harvest = pd.read_csv(\"2022_CarbonExperiment.csv\",sep=\";\")"
   ]
  },
  {
   "cell_type": "code",
   "execution_count": 93,
   "id": "a2d21824-5bdf-47de-81c1-b6ce0c88915d",
   "metadata": {},
   "outputs": [],
   "source": [
    "data_harvest['treatment'] = data_harvest['treatment']+data_harvest['fungus']\n"
   ]
  },
  {
   "cell_type": "code",
   "execution_count": 100,
   "id": "5414df0e-7fc1-4089-9040-727895be08c5",
   "metadata": {},
   "outputs": [
    {
     "name": "stdout",
     "output_type": "stream",
     "text": [
      "2024-01-31 10:53:29,366-[WARNING]- fontTools.subset:2983 -> meta NOT subset; don't know how to subset; dropped\n"
     ]
    },
    {
     "data": {
      "application/vnd.jupyter.widget-view+json": {
       "model_id": "21ee692cde4e44bfafde496b94fc5f2b",
       "version_major": 2,
       "version_minor": 0
      },
      "image/png": "[encoded data removed]",
      "text/html": [
       "\n",
       "            <div style=\"display: inline-block;\">\n",
       "                <div class=\"jupyter-widgets widget-label\" style=\"text-align: center;\">\n",
       "                    Figure\n",
       "                </div>\n",
       "                <img src='data:image/png;base64,iVBORw0KGgoAAAANSUhEUgAAAJYAAABkCAYAAABkW8nwAAAAOXRFWHRTb2Z0d2FyZQBNYXRwbG90bGliIHZlcnNpb24zLjYuMCwgaHR0cHM6Ly9tYXRwbG90bGliLm9yZy89olMNAAAACXBIWXMAAA9hAAAPYQGoP6dpAAAScElEQVR4nO2de1CTd7rHP4GYQOViUGGlpscidOsCpWpbb6zg1NXipfboOvXWVrdSTy/MjhdUSnuQziA6HG27WmXQY93REa2sU5V62dZz2vWCroe0anG2tYg1GBWKkYBAuL3nD5rIJQkJyUsCvJ8ZZwx53+f5vfL1fZ/393ue5ycTBEFAQsLFeLl7ABK9E0lYEqIgCUtCFCRhSYiCJCwJUZCEJSEKkrAkREESloQoSMKSEAVJWBKiIHeVoebmZnQ6Hf7+/shkMleZlXATgiBQVVVFaGgoXl6O339cJiydTodarXaVOQkPQavVMnToUIfPayOsOXPmsGnTJo4cOcLu3bsJCAhg+vTpJCcnk5qaytdff81TTz3F9u3bOxjy9/c3DyQgIMDuARgMBtRqtcPnOYPk0/5zTb9XR5ED1NfX8/LLL3Px4kUArl69yuHDh813oJs3b1JcXMzZs2dZvXo1BQUFjBs3ro0h0+MvICDAoYtQKpWkpaUxePBglEplly7CUSSf9tPVsEYmCIJQVVXFt99+y65du1i3bh1LliwhMDCQmpoasrOzuXz5MlqtlqSkJI4ePcpPP/3E8uXL2xgyGAwEBgai1Wq79R+vM2pra7l+/XqbnxmNRnZ9t4s/Pf0ni+MMCwvD19e3u4bocRiNRsrLy1Gr1VRWVnbpDiuHlsfYxIkT2bVrFwAzZ87kjTfeoLi4mNWrVzNr1iz8/PwA6N+/P9XV1VYNqtVq0tLSWLduXRcuyfVcv36d2bNnt/lZnaqOmy/c5GjOUXz0Ph3OOXToEJGRkd01RI8jMzOT9PR0p2xYDN4TExPx8/MjJiaGiooK/Pz8uHXrFgAPHjywqWDTHctTCAsL49ChQ21+tvJ/V6LT6hixaASbJm2yeE5fJiUlhaVLlzr1MtbhPVIQBOLi4mhoaODHH38kODiYkSNHcvr0aQBOnz7NqFGjrBoMCAjwmMcggK+vL5GRkURGRnKu7hyRkZFsmrSJsM/D2DRpk/m71n/68mMQWmIzZ18wOtyxZDIZq1atIjY2Fl9fX3bu3MmwYcMIDw9n/PjxPPHEE8TGxjrl1B1obmtYlr+M0aGjUeI5wu+ttBHW7t27ARg2bBgLFixoc2BGRka3DUoMcgpzCPUPJacwh6THk9w9nF6PyyZIPZ3sGdnmvxcVFblxJH0Daa1QQhQkYUmIgiQsCVGQhCUhCpKwJERBEpaEKEjCkhAFSVgSotBnhXV/+H13D6FX0yeFdVV/lbLnyriqv+ruofRa+qSwDpYcRF4r52DJQXcPpdfSq9YKdToder2+0+OCG4IJ+zyMRRMW2b1uqFKpCA0NdXaIomEtU7a0tJShQ4eiVCrJu57HH8P+aP5ezExZWeuOfqZiijNnzrB161a8vLzYtm0bTz/9NLGxscjlLTrcsmUL0dHRbQyZUpO7msrqLDqdjoSpU6mrr7d5nCl79LETj1nMHrWGj0LB8ZMnPVZcRUVFHTJlW2Ppum1lyjr7+7RYTPHJJ59w9uxZtFotq1evZv/+/QQFBXHkyBGHHXQXer2euvp61jQ2orbR/fLjMD0Parx5PExP8vlBKOywrZXJ2PirD08VlqVM2eLiYpKTk8nKymJv5V70Wj1j3h5D2qg08zliIYeWW+by5cvNOe9Hjx7F29ubhoYGFAoFJSUlFBcXExcXx8iRI/nwww89tihVLQhE2BDW1oKBwMBfP/We9qumTNnW5F3PA2D48OGsDVpLXk4eayevJXKI+Pn8FospBg0ahNFo5K233mLDhg14eXmxdu1aXnnlFVatWsWRI0eYNWuWRYMGgwGlUulR6cm2yI2oYv61rtXOuQt7Ysm/fP8XdvxrB6poFcXFxezV7CXYN5gNX20w37EsoVKpGDhwIAaDwakxWgzeGxoamDt3LgsXLmT06NHmzwCTJ0/m8uXLVg16WpWOLb4PMpI6voLoCgVR93rGfwSdTscLU1/AWG+0eowpnvIyenEv6h5J65Pw0fsQSCCXuMRsrMdiSoWSP0z5A5s3b3ZqnBaFtWLFChISEli8eDEAJ06c4Ny5c2RmZnLmzBnGjh1r1aCnVenYIve3VYTUeJP72yoyCnqGsPR6PcZ6IzGVMfg1+Vk85txT53jkwSM0y5qRPZDho/ZhQvGETm1Xe1dzKfASixYtYvny5U5V6XQQ1t27d9m5cydjxozhwIEDREdH89FHH7Fv3z7i4uJ48sknmTZtmlWDnlalY4uMgkHuHkKX8WvyI7Ax0OJ3CV8lUDa4jH0L9rFg3wKCy4Mdsq1QKFxbpWMqpqitre1wYG5urlOOPJGeGF/Zy5XoK/hV+3El+grP/8/z3e6/V02QOkJPjK+g5Q0eWh5btnjmH8/wzD+eAaBSXmmXbZNNkw9n6LPC6onxFUBpaSkAlwIvieojPDzcKRt9Vlg9Nb4y9aqyFbx3FVPw3pV+WO3ps8LqqZhejGwF767y4QzdJixLi6TwcKH0n03/ZP4T8zt839dbCrmKK1FXiP4+uvMDXUS3CctSOyETpgm9PRv3dFgY7usthVxB2eAyTj1/ipC7IQ5PPXSVbhOWpUVSaFkoffWzVxmoGNhmgbT1eRLO4Y6ph24TlqVFUhMhF0M4lOLcncn0iqwFsGOB/FjEw7WwaddsTwZq2/noaUjzWE5geg3f2K9fp8fWqeq4Oa7C/PlQZX+7crNKS0tt9gaTeEivEVZUVBQKuZz6xsZOj60Mr0TWKEPwFkAG9yLvEXrGdp6VQi4nKirKrrFIfU89RFimipkdhTtIHJ3YJRthYWGc/PJLu1KTTQlwjyc9znc13zExfiJpK6ynkoBjqclS31MPEJapYib/53xSLqYwOnQ0o4Z07XETGhrqUIanqVWkq5H6nnqAsEwVMzn/ethxr3WTNDEwZVaKhaUXlU1sYvbs2Yz7r3G96s5kDbcLK3JAJJc+v9RtjwLNbQ3pmnTUqu7fnqVOVUe6Jp2Zz8zs8l25p9CmrnDOnDncuHGDgoICxowZw6RJkygpKQEgNTWVCRMm8Oabb7rMuea2hnWaddSp6lxmszNyCnMI9g2mMrxlxX9H4Y5u810ZXkmwbzA5hTnd5hNaZt27G4tVOhkZGRw/fpw7d+6wYcMGUlNTO93ypD325GWvKVgDtLyVbb+wnTd5s0PtmyWcqfHLnpFN0uNJzP7v2VzVX2XZqWVOxXWO4Ir5Okdxx6w7WKnSqa2tJSgoiKCgIK5du4ZGo2HChJbU1t///vecP3/eprB0Oh0JCVOpq7Nd43f32bvIH215Gn9y8xP+tv9v3Bl/h10Zu2zOK/n4KDh+3Pkav4MlB7strnMX38R945aEP4tVOs3NzeYDTPvW2bvlicFgoLy8nLq6etZMb0Q90FaJVRD1jUFkhfzC9zJvFBMqGIQ30dP0/NnbclqLtkLGxi9cU+OXNiqtxwbSnSX6Qcvd6tajt5j+2XSCy4M7Tfgz2ayvrxenSqd1zaCXl5dDW56o1WpzHKYeKBDxm85r93bzsNYvt7qK+X7+uKrmr/1kZd71PEYKI4GW+SxLePJkpUqlQqlQ2pXod3fUXeS1cs6MOkPIxRC77CsVSvbu3StOlY6vry+//PILZWVlDBs2jJEjR7J//37eeecdTp8+zcyZM60a1Gq1lJeXc+rUKYcH8329kdT7FUQrFEQpXJPV2Xqysk2ZOT4kJydbPEesN1RXtE4KDQ3lxMkTDk0EZ2VlMTxluF32TXWFLq/SAXj//feZMWMGMpmMPXv2OLTlSUBAAJWV9uVYQ+s7FOQ+qCLE25vcB1VkuEhYrScr0zXpGG8befY/nuXVoFfNzTIsnWMv9jYiST+dTtlzZfz9yt/ttm3tJcXRieDhw4c7/B9FlCqdYcOGcf78+TYHOrLliTnToALAcqbBsWYDETIlqU0VBFYpiZApWcxgFssAI1y7Y9m2tqKtj85oPVn5WeRndl+DPeh0OqZOTaC+3vZ0ielO6V3nTXp+Otlp9r0oKBQ+nDx53GP7RdhClAlSc6bBF5YzDVr+oSvw0/rhPUjOu7ceEHKx5eXg/vD7DCgeYJcPd2ca6PV66uvraGxcgyBYf2zowz7Gu+YBj5RGEXQ+mQY7WpHIZFpgo0c3IrGFKMIyJeOvmd6AemDH7z9u0lMjeDPm32T82VsNAcCIBq4JRt5pKiNtvJwImeVHobaiRbCuSPh3FYKgRhAirH4/sGCrW9qQiL10ZQtRhGWKW9QDsfhWuBXLHV926w2E1Hlz1sfANJW1KhpZGx89gaqIXPyvdcznFxN3Ll2BB6wVtiZDNahNMO/pPIzztFaTVo1B16gY/y7Ke4Eo71m/q3VE286HY7Rfuupu3C6s1kISY7pBTEyxZL9+G60eUx6jA8AQs6bTZEJrProSS7ZeunIHbhWWSUi6pkZWBqpEmW4QE1Oc19CwBrD8yGlu/gA4Q3Pz0zQ0/KcD1rX067fRo2JJR3CrsHIfVBHk5cXWqkqm+j5CVD8lGVZjK8/jYZxnPXj3Mj6Gd81v8DI+hiH8/+yOtUyPVmdjSXf1sxdVWNoK29UyixnMveZfuNBcQ2ZZJQXUmOe0umrTHbRMDVhm8PnFwGKMQVfRzViO8t4jKO/9zimb9tK6n30k3bsmKoqwVCoVPj4KNn5hz9FDGAwUPXsX70fbzmlZw8dHgUqlcsVQnUKlUqFQ+ADWYywTd57TIq/15sGTafjZuW6nUPg4dZ2t+9nPjZ3bZTtdoU07bmdo377ZnqUO04KweT1ruP3rWZ4yaWjPdV7VX+XlUy+jPq5my7tbuu06TS26u7L26ZJ23GLQ2XqW5raG9Lx0Djx/AOjaepYnYM+63Zb8LeZX/556nY7iti1Pcgpbiif6wrYj2TOyOTX9FCEXQ9w6G96duE1Y2TOyKV1RarM1dG/DVEyhua1x91BEx62bNHVnIYMn4K5iCndgUVibN28mPj6e+Ph4AgMD+eCDDxg1ahTx8fFkZWW5xLHmtoZl+cv61NZuIRdDODX9VK/Nr2+N1T7vK1asoKioiIyMDHQ6HYcPH3Yqo7A9fSnG6ovYfBRmZGSQnp7ODz/8QFJSElOmTLHYla81BoPBroXT9jFWXwlqewJGo9HpYgqrwqqurqaiooKIiAhmzpzJ3r17ycrKYvXq1TYNqtVqMjMzHRpEXwpqxaK2tpaioqI2f0zFIsXFxRQVFZF+NL3N95b6+QNkZmY6/XSyOo917NgxcxFCYmIifn5+xMTEUFFRYe0UoGtbnrQOantD/GGpjdH2C9sB8SqDbLXiTE5ONqdHt67ZtDZxmpKSwtKlS11fTAHwzTff8PbbbyMIAnFxcVy4cIGSkhKCg21X03ZlyxN3VAiLSftfsrk6SPWYaJVBljrctN5hdUPRBoy3jXbtV6hUKl1bTNGakpIShg4dikwmY9WqVcTGxuLr68vOnTudcmiNvOt5vUZY7X/J6Zp06nR1jFg0gvXj1ztdGWQJa604Tblcn41ybSFJZ4i2Vtgea+24t1/YztGco2gTtBx4/gC/U7Vd+ffk4tHejMeuFbbHVpc7v0g/vGu8ScxO7FCx29s63fUV3NqOO12TTu2tWlQDVPz13/+Kv3/HXHcxOt0ZjUYyMzNJSUnptqKMvuLThMsehZWVlQwYMACtVuvQrdNgMKBWqx0+zxkkn/afe//+fQIDHd9axWXCKi0tdenMvIRnoNVqu5R37zJhNTc3o9Pp8Pf399gd7iXsx9S+KjQ0FC8vx3MVXCYsCYnWuDVtRqL3IglLQhTcJqzw8HDy8/OBljSd8ePHEx8fz549e3qFz08//ZSJEycybtw43n33XQAuXbpEbGwsY8aM6TU+rSK4gfPnzwuJiYnCwoULBUEQhBdffFFoaGjoNT4LCwuFefPmCU1NTYIgCMKSJUuE/Px8Yc6cOcKNGzeExsZGYezYsT3epy3cIqxVq1YJ586dE+Lj44Xq6mohJiZGmDp1qvDSSy8J5eXlPd5namqq8NVXX5k/V1dXCw0NDUJZWZkgCILQ2NgojBs3rsf7tIVbHoUFBQWMHTuWKVOmcOTIEebNm0d+fj6vv/66Q50DPdVnWVlZm5Kw/v37I5fLzelE7733HvPmzevxPm3R7b0bCgsLuXnzJgkJCdTU1BAYGEhubi5yuZzJkyezbdu2Hu9zyJAhaLVaRowYAcDPP//M/fv3iYmJYf369ZSVlTmcDOmJPm3SbffGX1m7dq1w7Ngx8+eIiAghKipKEARB+PLLL4WVK1f2eJ8ajUaYO3eu0NTUJDQ3NwuvvfaacPjwYSEvL0+YP3++OQ7q6T5t8f+jnJkT5/jNtQAAAABJRU5ErkJggg==' width=150.0/>\n",
       "            </div>\n",
       "        "
      ],
      "text/plain": [
       "Canvas(toolbar=Toolbar(toolitems=[('Home', 'Reset original view', 'home', 'home'), ('Back', 'Back to previous …"
      ]
     },
     "metadata": {},
     "output_type": "display_data"
    }
   ],
   "source": [
    "colors = {\n",
    "    '100CA5': 'orange',\n",
    "    '200CA5': 'red',\n",
    "    '100CC2': 'blue',\n",
    "    '200CC2': 'purple'\n",
    "}\n",
    "treatment_order = list(colors.keys())\n",
    "select=data_harvest[data_harvest['treatment'].isin(colors.keys())]\n",
    "\n",
    "width = 1.5\n",
    "height = 1\n",
    "fig,ax = plt.subplots(figsize=(width,height))\n",
    "sns.boxplot(x='treatment', y = \"dry root [mg]\",data=select, ax=ax, color='white', fliersize=0,palette = colors, order=treatment_order)\n",
    "# Add the individual points\n",
    "sns.stripplot(x='treatment', y = \"dry root [mg]\", data=select, ax=ax, color='green', marker='^',size = 2, order=treatment_order)\n",
    "# ax.set_yscale(\"log\")\n",
    "ax.set_ylabel(\"root dry weigth \\n ($mg$)\")\n",
    "ax.set_xticklabels(['A5 \\n 100C', 'A5 \\n 200C','C2 \\n 100C', 'C2 \\n 200C'])\n",
    "\n",
    "# Remove x-label\n",
    "ax.set_xlabel('')\n",
    "plt.savefig(os.path.join(path_figure,'FigureS4_root_weight.pdf'), transparent=True, bbox_inches='tight')"
   ]
  },
  {
   "cell_type": "code",
   "execution_count": null,
   "id": "352d478c-e3ad-4722-8ff0-ebd702b3bb2c",
   "metadata": {},
   "outputs": [],
   "source": []
  },
  {
   "cell_type": "code",
   "execution_count": 8,
   "id": "ebe56814-5cf9-4545-932b-5f7e0a350f39",
   "metadata": {
    "tags": []
   },
   "outputs": [],
   "source": [
    "all_analysis_folders = get_analysis_folders()\n",
    "plates = [\n",
    "\"822_20231204\",\n",
    "# \"866_20231204\",\n",
    "\"918_20231110\"\n",
    "]\n",
    "analysis_folders = all_analysis_folders.loc[all_analysis_folders['unique_id'].isin(plates)]\n",
    "folders,time_plate_info = get_time_plate_info_from_analysis(analysis_folders,use_saved=False)\n",
    "time_plate_info = time_plate_info.replace(-1.0,np.nan)\n",
    "width = 1.6\n",
    "height = 1\n",
    "# folders, time_hypha_info = get_time_hypha_info_from_analysis(analysis_folders,use_saved=False)\n",
    "# folders,global_hypha_info = get_global_hypha_info_from_analysis(analysis_folders,use_saved=False)"
   ]
  }
 ],
 "metadata": {
  "kernelspec": {
   "display_name": "Python 3 (ipykernel)",
   "language": "python",
   "name": "python3"
  },
  "language_info": {
   "codemirror_mode": {
    "name": "ipython",
    "version": 3
   },
   "file_extension": ".py",
   "mimetype": "text/x-python",
   "name": "python",
   "nbconvert_exporter": "python",
   "pygments_lexer": "ipython3",
   "version": "3.10.6"
  }
 },
 "nbformat": 4,
 "nbformat_minor": 5
}
