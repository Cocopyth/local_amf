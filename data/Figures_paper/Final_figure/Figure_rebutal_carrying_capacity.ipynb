{
 "cells": [
  {
   "cell_type": "code",
   "execution_count": 1,
   "id": "02d31825-616c-4d52-9f6a-70fc4fc0b541",
   "metadata": {
    "tags": []
   },
   "outputs": [
    {
     "name": "stderr",
     "output_type": "stream",
     "text": [
      "c:\\users\\coren\\documents\\phd\\code\\amftrack\\amftrack\\util\\dbx.py:3: TqdmExperimentalWarning: Using `tqdm.autonotebook.tqdm` in notebook mode. Use `tqdm.tqdm` instead to force console mode (e.g. in jupyter console)\n",
      "  from tqdm.autonotebook import tqdm\n"
     ]
    }
   ],
   "source": [
    "%load_ext autoreload\n",
    "%autoreload 2\n",
    "import os\n",
    "import matplotlib.pyplot as plt\n",
    "import os\n",
    "import pandas as pd\n",
    "from amftrack.util.sys import get_analysis_folders,get_time_plate_info_long_from_analysis,get_time_plate_info_from_analysis,get_time_hypha_info_from_analysis,get_global_hypha_info_from_analysis \n",
    "import numpy as np\n",
    "import imageio\n",
    "import os\n",
    "import cv2\n",
    "from scipy.interpolate import interp1d\n",
    "from scipy.optimize import curve_fit\n",
    "from amftrack.pipeline.final_analysis.density_wave import get_wave_fit, S, dS, wave, dwave,plot_single_plate\n",
    "import matplotlib.patches as mpatches\n",
    "import statsmodels.api as sm\n",
    "from amftrack.pipeline.final_analysis.hypha_speed_analysis import *\n",
    "import scipy\n",
    "from mpl_toolkits.axes_grid1.inset_locator import inset_axes\n",
    "import scipy.io as sio\n",
    "import matplotlib as mpl\n",
    "from matplotlib.path import Path\n",
    "from matplotlib.patches import PathPatch\n",
    "from matplotlib.legend_handler import HandlerTuple\n",
    "from amftrack.util.plot import gridplot\n",
    "import logging\n",
    "from datetime import timedelta\n",
    "\n",
    "%store -r path_figure\n",
    "\n",
    "logging.getLogger().setLevel(logging.WARNING)\n",
    "plt.style.use('presentation.mplstyle')\n",
    "\n",
    "%matplotlib widget"
   ]
  },
  {
   "cell_type": "code",
   "execution_count": 2,
   "id": "afee5709-be1e-4535-86e0-641ff96dee9d",
   "metadata": {},
   "outputs": [],
   "source": [
    "\n",
    "plates_paper = [\n",
    "    \"52_20220707\",\n",
    "    \"56_20220701\",\n",
    "    \"59_20201126\",\n",
    "    \"69_20201119\",\n",
    "    \"76_20210108\",\n",
    "    \"81_20220704\",\n",
    "    \"84_20220621\",\n",
    "    \"94_20201123\",\n",
    "    \"102_20201226\",\n",
    "    \"152_20201224\",\n",
    "    \"792_20210915\",\n",
    "    \"1076_20220511\",\n",
    "    \"941_20220404\",\n",
    "]\n",
    "plates_paper += [\n",
    "    \"1014_20220525\",\n",
    "    \"1023_20220502\",\n",
    "    \"1042_20220523\",\n",
    "    \"1045_20220504\",\n",
    "    \"1048_20220506\",\n",
    "    \"1053_20220413\",\n",
    "    \"127_20220705\",\n",
    "    \"130_20220707\",\n",
    "    \"800_20210928\",\n",
    "]"
   ]
  },
  {
   "cell_type": "code",
   "execution_count": 16,
   "id": "81555cac-d3a4-49fc-97b6-1459416458f4",
   "metadata": {
    "jupyter": {
     "source_hidden": true
    },
    "tags": []
   },
   "outputs": [],
   "source": [
    "plates_paper = [\n",
    "\"877_20220419\",\n",
    "\"56_20220701\",\n",
    "\"52_20220707\",\n",
    "\"99_20220815\",\n",
    "\"105_20220817\",\n",
    "\"108_20220823\",\n",
    "\"111_20220823\",\n",
    "\"106_20220826\",\n",
    "\"938_20220325\",\n",
    "\"839_20220325\",\n",
    "\"941_20220404\",\n",
    "\"991_20220325\",\n",
    "\"1024_20220516\",\n",
    "\"1040_20220502\",\n",
    "\"1048_20220506\",\n",
    "\"1014_20220525\",\n",
    "\"1053_20220413\",\n",
    "\"1031_20220419\",\n",
    "\"1045_20220504\",\n",
    "\"1035_20220518\",\n",
    "\"12_20220502\",\n",
    "\"13_20220422\",\n",
    "# \"21_20220502\",\n",
    "\"32_20220428\",\n",
    "\"30_20220506\",\n",
    "\"81_20220704\",\n",
    "\"91_20220708\",\n",
    "\"89_20220705\"\n",
    "]"
   ]
  },
  {
   "cell_type": "code",
   "execution_count": 17,
   "id": "4ae3060d-6103-4c60-8050-ad2808ff2ee1",
   "metadata": {},
   "outputs": [],
   "source": [
    "all_analysis_folders = get_analysis_folders()\n",
    "analysis_folders = all_analysis_folders.loc[all_analysis_folders['unique_id'].isin(plates_paper)]\n",
    "\n",
    "folders,time_plate_info = get_time_plate_info_from_analysis(analysis_folders,use_saved=False)"
   ]
  },
  {
   "cell_type": "code",
   "execution_count": 27,
   "id": "c379a0ea-8e0c-4314-904f-cd558fb7b7b7",
   "metadata": {
    "collapsed": true,
    "jupyter": {
     "outputs_hidden": true,
     "source_hidden": true
    },
    "tags": []
   },
   "outputs": [
    {
     "data": {
      "text/html": [
       "<div>\n",
       "<style scoped>\n",
       "    .dataframe tbody tr th:only-of-type {\n",
       "        vertical-align: middle;\n",
       "    }\n",
       "\n",
       "    .dataframe tbody tr th {\n",
       "        vertical-align: top;\n",
       "    }\n",
       "\n",
       "    .dataframe thead th {\n",
       "        text-align: right;\n",
       "    }\n",
       "</style>\n",
       "<table border=\"1\" class=\"dataframe\">\n",
       "  <thead>\n",
       "    <tr style=\"text-align: right;\">\n",
       "      <th></th>\n",
       "      <th>Plate</th>\n",
       "      <th>tot_length_study</th>\n",
       "    </tr>\n",
       "  </thead>\n",
       "  <tbody>\n",
       "    <tr>\n",
       "      <th>0</th>\n",
       "      <td>877_20220419</td>\n",
       "      <td>1.615263e+06</td>\n",
       "    </tr>\n",
       "    <tr>\n",
       "      <th>1</th>\n",
       "      <td>56_20220701</td>\n",
       "      <td>1.470233e+06</td>\n",
       "    </tr>\n",
       "    <tr>\n",
       "      <th>2</th>\n",
       "      <td>52_20220707</td>\n",
       "      <td>2.180281e+06</td>\n",
       "    </tr>\n",
       "    <tr>\n",
       "      <th>3</th>\n",
       "      <td>99_20220815</td>\n",
       "      <td>1.582709e+06</td>\n",
       "    </tr>\n",
       "    <tr>\n",
       "      <th>4</th>\n",
       "      <td>105_20220817</td>\n",
       "      <td>2.214079e+06</td>\n",
       "    </tr>\n",
       "    <tr>\n",
       "      <th>5</th>\n",
       "      <td>108_20220823</td>\n",
       "      <td>2.407084e+06</td>\n",
       "    </tr>\n",
       "    <tr>\n",
       "      <th>6</th>\n",
       "      <td>111_20220823</td>\n",
       "      <td>4.024308e+04</td>\n",
       "    </tr>\n",
       "    <tr>\n",
       "      <th>7</th>\n",
       "      <td>106_20220826</td>\n",
       "      <td>3.372303e+06</td>\n",
       "    </tr>\n",
       "    <tr>\n",
       "      <th>8</th>\n",
       "      <td>938_20220325</td>\n",
       "      <td>2.427379e+06</td>\n",
       "    </tr>\n",
       "    <tr>\n",
       "      <th>9</th>\n",
       "      <td>839_20220325</td>\n",
       "      <td>1.367186e+06</td>\n",
       "    </tr>\n",
       "    <tr>\n",
       "      <th>10</th>\n",
       "      <td>941_20220404</td>\n",
       "      <td>1.348604e+06</td>\n",
       "    </tr>\n",
       "    <tr>\n",
       "      <th>11</th>\n",
       "      <td>991_20220325</td>\n",
       "      <td>3.540175e+06</td>\n",
       "    </tr>\n",
       "    <tr>\n",
       "      <th>12</th>\n",
       "      <td>1024_20220516</td>\n",
       "      <td>2.388070e+06</td>\n",
       "    </tr>\n",
       "    <tr>\n",
       "      <th>13</th>\n",
       "      <td>1040_20220502</td>\n",
       "      <td>4.596109e+06</td>\n",
       "    </tr>\n",
       "    <tr>\n",
       "      <th>14</th>\n",
       "      <td>1048_20220506</td>\n",
       "      <td>6.643952e+06</td>\n",
       "    </tr>\n",
       "    <tr>\n",
       "      <th>15</th>\n",
       "      <td>1014_20220525</td>\n",
       "      <td>5.071702e+06</td>\n",
       "    </tr>\n",
       "    <tr>\n",
       "      <th>16</th>\n",
       "      <td>1053_20220413</td>\n",
       "      <td>2.513026e+06</td>\n",
       "    </tr>\n",
       "    <tr>\n",
       "      <th>17</th>\n",
       "      <td>1031_20220419</td>\n",
       "      <td>3.356919e+06</td>\n",
       "    </tr>\n",
       "    <tr>\n",
       "      <th>18</th>\n",
       "      <td>1045_20220504</td>\n",
       "      <td>3.730023e+06</td>\n",
       "    </tr>\n",
       "    <tr>\n",
       "      <th>19</th>\n",
       "      <td>1035_20220518</td>\n",
       "      <td>4.378232e+06</td>\n",
       "    </tr>\n",
       "    <tr>\n",
       "      <th>20</th>\n",
       "      <td>12_20220502</td>\n",
       "      <td>1.046517e+07</td>\n",
       "    </tr>\n",
       "    <tr>\n",
       "      <th>21</th>\n",
       "      <td>13_20220422</td>\n",
       "      <td>9.856703e+06</td>\n",
       "    </tr>\n",
       "    <tr>\n",
       "      <th>22</th>\n",
       "      <td>32_20220428</td>\n",
       "      <td>6.246181e+06</td>\n",
       "    </tr>\n",
       "    <tr>\n",
       "      <th>23</th>\n",
       "      <td>30_20220506</td>\n",
       "      <td>NaN</td>\n",
       "    </tr>\n",
       "    <tr>\n",
       "      <th>24</th>\n",
       "      <td>81_20220704</td>\n",
       "      <td>3.327774e+06</td>\n",
       "    </tr>\n",
       "    <tr>\n",
       "      <th>25</th>\n",
       "      <td>91_20220708</td>\n",
       "      <td>3.002906e+06</td>\n",
       "    </tr>\n",
       "    <tr>\n",
       "      <th>26</th>\n",
       "      <td>89_20220705</td>\n",
       "      <td>1.591370e+06</td>\n",
       "    </tr>\n",
       "  </tbody>\n",
       "</table>\n",
       "</div>"
      ],
      "text/plain": [
       "            Plate  tot_length_study\n",
       "0    877_20220419      1.615263e+06\n",
       "1     56_20220701      1.470233e+06\n",
       "2     52_20220707      2.180281e+06\n",
       "3     99_20220815      1.582709e+06\n",
       "4    105_20220817      2.214079e+06\n",
       "5    108_20220823      2.407084e+06\n",
       "6    111_20220823      4.024308e+04\n",
       "7    106_20220826      3.372303e+06\n",
       "8    938_20220325      2.427379e+06\n",
       "9    839_20220325      1.367186e+06\n",
       "10   941_20220404      1.348604e+06\n",
       "11   991_20220325      3.540175e+06\n",
       "12  1024_20220516      2.388070e+06\n",
       "13  1040_20220502      4.596109e+06\n",
       "14  1048_20220506      6.643952e+06\n",
       "15  1014_20220525      5.071702e+06\n",
       "16  1053_20220413      2.513026e+06\n",
       "17  1031_20220419      3.356919e+06\n",
       "18  1045_20220504      3.730023e+06\n",
       "19  1035_20220518      4.378232e+06\n",
       "20    12_20220502      1.046517e+07\n",
       "21    13_20220422      9.856703e+06\n",
       "22    32_20220428      6.246181e+06\n",
       "23    30_20220506               NaN\n",
       "24    81_20220704      3.327774e+06\n",
       "25    91_20220708      3.002906e+06\n",
       "26    89_20220705      1.591370e+06"
      ]
     },
     "execution_count": 27,
     "metadata": {},
     "output_type": "execute_result"
    }
   ],
   "source": [
    "def get_tot_length_study(plate):\n",
    "    subset = time_plate_info[time_plate_info['unique_id'] == int(plate)]\n",
    "    if len(subset['unique_id'].unique()) == 1:\n",
    "        return np.nanmax(subset['tot_length_study'])\n",
    "    else:\n",
    "        return np.nan\n",
    "\n",
    "# Apply the function to each Plate in the list\n",
    "results = {plate: get_tot_length_study(plate) for plate in plates_paper}\n",
    "results_df = pd.Series(results, name='tot_length_study').reset_index()\n",
    "results_df.rename(columns={'index': 'Plate'}, inplace=True)\n",
    "results_df"
   ]
  },
  {
   "cell_type": "code",
   "execution_count": null,
   "id": "5d088b7c-3ede-4dbc-8d22-db086568bedd",
   "metadata": {},
   "outputs": [],
   "source": [
    "spore_data = pd.read_csv('spores_rebutal.csv')"
   ]
  },
  {
   "cell_type": "code",
   "execution_count": null,
   "id": "58ebe1ed-25e6-4434-9c56-cc73ab536236",
   "metadata": {},
   "outputs": [],
   "source": [
    "spore_data['medium'].unique()"
   ]
  },
  {
   "cell_type": "code",
   "execution_count": null,
   "id": "097ddfa4-69e3-4756-bc85-9af29f0c6837",
   "metadata": {},
   "outputs": [],
   "source": [
    "spore_data['medium']=spore_data['medium'].replace(\"'001P100N200C-T'\",\"001P100N200C\")\n",
    "spore_data['medium']=spore_data['medium'].replace(\"'001P100N'\",\"001P100N100C\")\n",
    "spore_data['medium']=spore_data['medium'].replace(\"'001P100N200C'\",\"001P100N200C\")\n",
    "spore_data['medium']=spore_data['medium'].replace(\"'001P100N100C'\",\"001P100N100C\")\n",
    "spore_data['strain']=spore_data['strain'].replace(\"'A5sp3'\",\"'A5'\")"
   ]
  },
  {
   "cell_type": "code",
   "execution_count": null,
   "id": "9105f4d7-c874-4c85-93e9-1f0a08dc9147",
   "metadata": {},
   "outputs": [],
   "source": [
    "spore_data['date'] = pd.to_datetime(spore_data['date'])"
   ]
  },
  {
   "cell_type": "code",
   "execution_count": null,
   "id": "a5fd9ec3-1039-495e-b067-c95cfbbf7272",
   "metadata": {},
   "outputs": [],
   "source": [
    "spore_data['day'] = (spore_data['time_since_begin_h']//24).astype(int)\n",
    "spore_data['3day'] = spore_data['day']//3*3\n",
    "\n"
   ]
  },
  {
   "cell_type": "code",
   "execution_count": null,
   "id": "3962d126-6123-4a70-89d1-6ff65cf7afce",
   "metadata": {
    "tags": []
   },
   "outputs": [],
   "source": [
    "merged = spore_data.merge(time_plate_info,left_on = \"date\",right_on=\"datetime\",how=\"left\")\n",
    "merged['treatment'] = merged['medium_x']+merged['strain_x']\n"
   ]
  },
  {
   "cell_type": "code",
   "execution_count": null,
   "id": "2eb788ac-28a7-446c-a1f9-a34b1727ebb3",
   "metadata": {},
   "outputs": [],
   "source": [
    "merged['total_biovolume_estimated'] = merged['tot_length_study']*np.pi*3**2"
   ]
  },
  {
   "cell_type": "code",
   "execution_count": 5,
   "id": "88e77eca-95f8-4421-9dda-f33fc913eab1",
   "metadata": {},
   "outputs": [],
   "source": [
    "color_map = {\n",
    "    \"001P100N100C'A5'\": 'orange',\n",
    "    \"001P100N200C'A5'\": 'red',\n",
    "    \"001P100N100C'C2'\": 'blue',\n",
    "    \"001P100N200C'C2'\": 'purple'\n",
    "}"
   ]
  },
  {
   "cell_type": "code",
   "execution_count": 4,
   "id": "d4a405b1-6d18-41ce-9a61-40b74df0dc02",
   "metadata": {},
   "outputs": [],
   "source": [
    "path_figure = r'C:\\\\Users\\\\coren\\\\AMOLF-SHIMIZU Dropbox\\\\HFSP_symbiotic-networks\\\\Article_TravellingWave\\\\Supplementary material\\\\extended_data_figures'"
   ]
  },
  {
   "cell_type": "code",
   "execution_count": null,
   "id": "da64a151-eafc-462d-87c9-6a4d8a6b2a73",
   "metadata": {},
   "outputs": [],
   "source": [
    "import seaborn as sns\n",
    "select = merged[merged['day']<22]\n",
    "width = 1.5\n",
    "height = 0.5\n",
    "fig,ax = plt.subplots(figsize=(width,height))\n",
    "sns.lineplot(select,x=\"3day\",y=\"spore_volume_x\",hue = \"treatment\",ax=ax, palette=color_map,legend=False)\n",
    "\n",
    "ax.set_xlabel('days after crossing')\n",
    "ax.set_ylabel('$\\Omega_{spore}$ \\n($\\mu m^3$)')\n",
    "ax.set_xlim(0,20)\n",
    "ax.set_ylim(0,2.5e8)\n",
    "plt.savefig(os.path.join(path_figure,'Figure_rebutal_spore.pdf'), transparent=True, bbox_inches='tight')"
   ]
  },
  {
   "cell_type": "code",
   "execution_count": null,
   "id": "eda44f17-5890-4948-a43e-7894ae75c8cf",
   "metadata": {},
   "outputs": [],
   "source": [
    "fig,ax = plt.subplots(figsize=(width,height))\n",
    "\n",
    "sns.lineplot(select,x=\"3day\",y=\"total_biovolume_estimated\",hue = \"treatment\",ax=ax, palette=color_map,legend=False)\n",
    "ax.set_xlabel('')\n",
    "# ax.set_xlabel('days after crossing')\n",
    "ax.set_xticklabels([])\n",
    "\n",
    "ax.set_ylabel('$\\Omega_{hyphae}$ \\n ($\\mu m^3$)')\n",
    "ax.set_xlim(0,20)\n",
    "ax.set_ylim(0,2.5e8)\n",
    "plt.savefig(os.path.join(path_figure,'Figure_rebutal_length.pdf'), transparent=True, bbox_inches='tight')"
   ]
  },
  {
   "cell_type": "code",
   "execution_count": 1,
   "id": "ac3a95ac-0dd4-4bb8-966d-fe72ef6e7168",
   "metadata": {},
   "outputs": [
    {
     "ename": "NameError",
     "evalue": "name 'pd' is not defined",
     "output_type": "error",
     "traceback": [
      "\u001b[1;31m---------------------------------------------------------------------------\u001b[0m",
      "\u001b[1;31mNameError\u001b[0m                                 Traceback (most recent call last)",
      "Input \u001b[1;32mIn [1]\u001b[0m, in \u001b[0;36m<cell line: 1>\u001b[1;34m()\u001b[0m\n\u001b[1;32m----> 1\u001b[0m data_harvest \u001b[38;5;241m=\u001b[39m \u001b[43mpd\u001b[49m\u001b[38;5;241m.\u001b[39mread_csv(\u001b[38;5;124m\"\u001b[39m\u001b[38;5;124m2022_CarbonExperiment.csv\u001b[39m\u001b[38;5;124m\"\u001b[39m,sep\u001b[38;5;241m=\u001b[39m\u001b[38;5;124m\"\u001b[39m\u001b[38;5;124m;\u001b[39m\u001b[38;5;124m\"\u001b[39m)\n",
      "\u001b[1;31mNameError\u001b[0m: name 'pd' is not defined"
     ]
    }
   ],
   "source": [
    "data_harvest = pd.read_csv(\"2022_CarbonExperiment.csv\",sep=\";\")"
   ]
  },
  {
   "cell_type": "code",
   "execution_count": null,
   "id": "a2d21824-5bdf-47de-81c1-b6ce0c88915d",
   "metadata": {},
   "outputs": [],
   "source": [
    "data_harvest['treatment'] = data_harvest['treatment']+data_harvest['fungus']\n"
   ]
  },
  {
   "cell_type": "code",
   "execution_count": 9,
   "id": "5414df0e-7fc1-4089-9040-727895be08c5",
   "metadata": {},
   "outputs": [
    {
     "name": "stdout",
     "output_type": "stream",
     "text": [
      "2024-04-17 08:42:26,482-[WARNING]- fontTools.subset:2983 -> meta NOT subset; don't know how to subset; dropped\n"
     ]
    },
    {
     "data": {
      "application/vnd.jupyter.widget-view+json": {
       "model_id": "2d87866497eb466eaad379bca3b2b9ea",
       "version_major": 2,
       "version_minor": 0
      },
      "image/png": "[encoded data removed]",
      "text/html": [
       "\n",
       "            <div style=\"display: inline-block;\">\n",
       "                <div class=\"jupyter-widgets widget-label\" style=\"text-align: center;\">\n",
       "                    Figure\n",
       "                </div>\n",
       "                <img src='data:image/png;base64,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' width=150.0/>\n",
       "            </div>\n",
       "        "
      ],
      "text/plain": [
       "Canvas(toolbar=Toolbar(toolitems=[('Home', 'Reset original view', 'home', 'home'), ('Back', 'Back to previous …"
      ]
     },
     "metadata": {},
     "output_type": "display_data"
    }
   ],
   "source": [
    "import seaborn as sns\n",
    "\n",
    "colors = {\n",
    "    '100CA5': 'orange',\n",
    "    '200CA5': 'red',\n",
    "    '100CC2': 'blue',\n",
    "    '200CC2': 'purple'\n",
    "}\n",
    "treatment_order = list(colors.keys())\n",
    "select=data_harvest[data_harvest['treatment'].isin(colors.keys())]\n",
    "\n",
    "width = 1.5\n",
    "height = 1\n",
    "fig,ax = plt.subplots(figsize=(width,height))\n",
    "sns.boxplot(x='treatment', y = \"dry root [mg]\",data=select, ax=ax, color='white', fliersize=0,palette = colors, order=treatment_order)\n",
    "# Add the individual points\n",
    "sns.stripplot(x='treatment', y = \"dry root [mg]\", data=select, ax=ax, color='green', marker='^',size = 2, order=treatment_order)\n",
    "# ax.set_yscale(\"log\")\n",
    "ax.set_ylabel(\"root dry weigth \\n ($mg$)\")\n",
    "ax.set_xticklabels(['A5 \\n 100C', 'A5 \\n 200C','C2 \\n 100C', 'C2 \\n 200C'])\n",
    "\n",
    "# Remove x-label\n",
    "ax.set_xlabel('')\n",
    "plt.savefig(os.path.join(path_figure,'FigureS4_root_weight.pdf'), transparent=True, bbox_inches='tight')"
   ]
  },
  {
   "cell_type": "code",
   "execution_count": 17,
   "id": "a42c3398-38c9-4fe7-825c-58b9f89a9bd0",
   "metadata": {},
   "outputs": [
    {
     "name": "stdout",
     "output_type": "stream",
     "text": [
      "2024-04-17 08:47:22,551-[WARNING]- fontTools.subset:2983 -> meta NOT subset; don't know how to subset; dropped\n"
     ]
    },
    {
     "data": {
      "application/vnd.jupyter.widget-view+json": {
       "model_id": "08f122a8f772421bb2b8423154ee24be",
       "version_major": 2,
       "version_minor": 0
      },
      "image/png": "[encoded data removed]",
      "text/html": [
       "\n",
       "            <div style=\"display: inline-block;\">\n",
       "                <div class=\"jupyter-widgets widget-label\" style=\"text-align: center;\">\n",
       "                    Figure\n",
       "                </div>\n",
       "                <img src='data:image/png;base64,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' width=75.0/>\n",
       "            </div>\n",
       "        "
      ],
      "text/plain": [
       "Canvas(toolbar=Toolbar(toolitems=[('Home', 'Reset original view', 'home', 'home'), ('Back', 'Back to previous …"
      ]
     },
     "metadata": {},
     "output_type": "display_data"
    }
   ],
   "source": [
    "import seaborn as sns\n",
    "\n",
    "colors = {\n",
    "    '100CA5': 'orange',\n",
    "    '200CA5': 'red',\n",
    "}\n",
    "treatment_order = list(colors.keys())\n",
    "select=data_harvest[data_harvest['treatment'].isin(colors.keys())]\n",
    "\n",
    "\n",
    "width = 0.75\n",
    "height = 1\n",
    "fig,ax = plt.subplots(figsize=(width,height))\n",
    "sns.boxplot(x='treatment', y = \"dry root [mg]\",data=select, ax=ax, color='white', fliersize=0,palette = colors, order=treatment_order)\n",
    "# Add the individual points\n",
    "sns.stripplot(x='treatment', y = \"dry root [mg]\", data=select, ax=ax, color='green', marker='^',size = 2, order=treatment_order)\n",
    "# ax.set_yscale(\"log\")\n",
    "ax.set_ylabel(\"root dry weigth \\n ($mg$)\")\n",
    "ax.set_xticklabels(['A5 \\n 100C', 'A5 \\n 200C'])\n",
    "\n",
    "# Remove x-label\n",
    "ax.set_xlabel('')\n",
    "ax.set_ylim(65,155)\n",
    "plt.savefig(os.path.join(path_figure,'FigureS4_root_weight_A5.pdf'), transparent=True, bbox_inches='tight')"
   ]
  },
  {
   "cell_type": "code",
   "execution_count": 18,
   "id": "be23712d-7da2-4932-a5d1-fe3cdb47e3a4",
   "metadata": {},
   "outputs": [
    {
     "name": "stdout",
     "output_type": "stream",
     "text": [
      "2024-04-17 08:47:47,633-[WARNING]- fontTools.subset:2983 -> meta NOT subset; don't know how to subset; dropped\n"
     ]
    },
    {
     "data": {
      "application/vnd.jupyter.widget-view+json": {
       "model_id": "c7ccb439848942c7b9af26711f1a204a",
       "version_major": 2,
       "version_minor": 0
      },
      "image/png": "[encoded data removed]",
      "text/html": [
       "\n",
       "            <div style=\"display: inline-block;\">\n",
       "                <div class=\"jupyter-widgets widget-label\" style=\"text-align: center;\">\n",
       "                    Figure\n",
       "                </div>\n",
       "                <img src='data:image/png;base64,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' width=75.0/>\n",
       "            </div>\n",
       "        "
      ],
      "text/plain": [
       "Canvas(toolbar=Toolbar(toolitems=[('Home', 'Reset original view', 'home', 'home'), ('Back', 'Back to previous …"
      ]
     },
     "metadata": {},
     "output_type": "display_data"
    }
   ],
   "source": [
    "import seaborn as sns\n",
    "\n",
    "colors = {\n",
    "    '100CC2': 'orange',\n",
    "    '200CC2': 'red'\n",
    "}\n",
    "treatment_order = list(colors.keys())\n",
    "select=data_harvest[data_harvest['treatment'].isin(colors.keys())]\n",
    "\n",
    "\n",
    "width = 0.75\n",
    "height = 1\n",
    "fig,ax = plt.subplots(figsize=(width,height))\n",
    "sns.boxplot(x='treatment', y = \"dry root [mg]\",data=select, ax=ax, color='white', fliersize=0,palette = colors, order=treatment_order)\n",
    "# Add the individual points\n",
    "sns.stripplot(x='treatment', y = \"dry root [mg]\", data=select, ax=ax, color='green', marker='^',size = 2, order=treatment_order)\n",
    "# ax.set_yscale(\"log\")\n",
    "ax.set_ylabel(\"root dry weigth \\n ($mg$)\")\n",
    "ax.set_xticklabels(['C2 \\n 100C', 'C2 \\n 200C'])\n",
    "\n",
    "# Remove x-label\n",
    "ax.set_xlabel('')\n",
    "ax.set_ylabel('')\n",
    "ax.set_ylim(65,155)\n",
    "\n",
    "plt.savefig(os.path.join(path_figure,'FigureS4_root_weight_C2.pdf'), transparent=True, bbox_inches='tight')"
   ]
  },
  {
   "cell_type": "code",
   "execution_count": null,
   "id": "e64b16ed-ff9b-415c-80d4-52ce9b30cdfe",
   "metadata": {},
   "outputs": [],
   "source": []
  },
  {
   "cell_type": "code",
   "execution_count": 8,
   "id": "ebe56814-5cf9-4545-932b-5f7e0a350f39",
   "metadata": {
    "tags": []
   },
   "outputs": [],
   "source": [
    "all_analysis_folders = get_analysis_folders()\n",
    "plates = [\n",
    "\"822_20231204\",\n",
    "# \"866_20231204\",\n",
    "\"918_20231110\"\n",
    "]\n",
    "analysis_folders = all_analysis_folders.loc[all_analysis_folders['unique_id'].isin(plates)]\n",
    "folders,time_plate_info = get_time_plate_info_from_analysis(analysis_folders,use_saved=False)\n",
    "time_plate_info = time_plate_info.replace(-1.0,np.nan)\n",
    "width = 1.6\n",
    "height = 1\n",
    "# folders, time_hypha_info = get_time_hypha_info_from_analysis(analysis_folders,use_saved=False)\n",
    "# folders,global_hypha_info = get_global_hypha_info_from_analysis(analysis_folders,use_saved=False)"
   ]
  }
 ],
 "metadata": {
  "kernelspec": {
   "display_name": "Python 3 (ipykernel)",
   "language": "python",
   "name": "python3"
  },
  "language_info": {
   "codemirror_mode": {
    "name": "ipython",
    "version": 3
   },
   "file_extension": ".py",
   "mimetype": "text/x-python",
   "name": "python",
   "nbconvert_exporter": "python",
   "pygments_lexer": "ipython3",
   "version": "3.10.6"
  }
 },
 "nbformat": 4,
 "nbformat_minor": 5
}
