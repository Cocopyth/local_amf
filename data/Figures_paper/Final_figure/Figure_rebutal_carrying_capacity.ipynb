{
 "cells": [
  {
   "cell_type": "code",
   "execution_count": 1,
   "id": "02d31825-616c-4d52-9f6a-70fc4fc0b541",
   "metadata": {
    "tags": []
   },
   "outputs": [
    {
     "name": "stderr",
     "output_type": "stream",
     "text": [
      "c:\\users\\coren\\documents\\phd\\code\\amftrack\\amftrack\\util\\dbx.py:3: TqdmExperimentalWarning: Using `tqdm.autonotebook.tqdm` in notebook mode. Use `tqdm.tqdm` instead to force console mode (e.g. in jupyter console)\n",
      "  from tqdm.autonotebook import tqdm\n"
     ]
    }
   ],
   "source": [
    "%load_ext autoreload\n",
    "%autoreload 2\n",
    "import os\n",
    "import matplotlib.pyplot as plt\n",
    "import os\n",
    "import pandas as pd\n",
    "from amftrack.util.sys import get_analysis_folders,get_time_plate_info_long_from_analysis,get_time_plate_info_from_analysis,get_time_hypha_info_from_analysis,get_global_hypha_info_from_analysis \n",
    "import numpy as np\n",
    "import imageio\n",
    "import os\n",
    "import cv2\n",
    "from scipy.interpolate import interp1d\n",
    "from scipy.optimize import curve_fit\n",
    "from amftrack.pipeline.final_analysis.density_wave import get_wave_fit, S, dS, wave, dwave,plot_single_plate\n",
    "import matplotlib.patches as mpatches\n",
    "import statsmodels.api as sm\n",
    "from amftrack.pipeline.final_analysis.hypha_speed_analysis import *\n",
    "import scipy\n",
    "from mpl_toolkits.axes_grid1.inset_locator import inset_axes\n",
    "import scipy.io as sio\n",
    "import matplotlib as mpl\n",
    "from matplotlib.path import Path\n",
    "from matplotlib.patches import PathPatch\n",
    "from matplotlib.legend_handler import HandlerTuple\n",
    "from amftrack.util.plot import gridplot\n",
    "import logging\n",
    "from datetime import timedelta\n",
    "\n",
    "%store -r path_figure\n",
    "\n",
    "logging.getLogger().setLevel(logging.WARNING)\n",
    "plt.style.use('presentation.mplstyle')\n",
    "\n",
    "%matplotlib widget"
   ]
  },
  {
   "cell_type": "code",
   "execution_count": 2,
   "id": "afee5709-be1e-4535-86e0-641ff96dee9d",
   "metadata": {},
   "outputs": [],
   "source": [
    "\n",
    "plates_paper = [\n",
    "    \"52_20220707\",\n",
    "    \"56_20220701\",\n",
    "    \"59_20201126\",\n",
    "    \"69_20201119\",\n",
    "    \"76_20210108\",\n",
    "    \"81_20220704\",\n",
    "    \"84_20220621\",\n",
    "    \"94_20201123\",\n",
    "    \"102_20201226\",\n",
    "    \"152_20201224\",\n",
    "    \"792_20210915\",\n",
    "    \"1076_20220511\",\n",
    "    \"941_20220404\",\n",
    "]\n",
    "plates_paper += [\n",
    "    \"1014_20220525\",\n",
    "    \"1023_20220502\",\n",
    "    \"1042_20220523\",\n",
    "    \"1045_20220504\",\n",
    "    \"1048_20220506\",\n",
    "    \"1053_20220413\",\n",
    "    \"127_20220705\",\n",
    "    \"130_20220707\",\n",
    "    \"800_20210928\",\n",
    "]"
   ]
  },
  {
   "cell_type": "code",
   "execution_count": 3,
   "id": "81555cac-d3a4-49fc-97b6-1459416458f4",
   "metadata": {
    "tags": []
   },
   "outputs": [],
   "source": [
    "plates_paper = [\n",
    "\"877_20220419\",\n",
    "\"56_20220701\",\n",
    "\"52_20220707\",\n",
    "\"99_20220815\",\n",
    "\"105_20220817\",\n",
    "\"108_20220823\",\n",
    "\"111_20220823\",\n",
    "\"106_20220826\",\n",
    "\"938_20220325\",\n",
    "\"839_20220325\",\n",
    "\"941_20220404\",\n",
    "\"991_20220325\",\n",
    "\"1024_20220516\",\n",
    "\"1040_20220502\",\n",
    "\"1048_20220506\",\n",
    "\"1014_20220525\",\n",
    "\"1053_20220413\",\n",
    "\"1031_20220419\",\n",
    "\"1045_20220504\",\n",
    "\"1035_20220518\",\n",
    "\"12_20220502\",\n",
    "\"13_20220422\",\n",
    "# \"21_20220502\",\n",
    "\"32_20220428\",\n",
    "\"30_20220506\",\n",
    "\"81_20220704\",\n",
    "\"91_20220708\",\n",
    "\"89_20220705\"\n",
    "]"
   ]
  },
  {
   "cell_type": "code",
   "execution_count": 4,
   "id": "4ae3060d-6103-4c60-8050-ad2808ff2ee1",
   "metadata": {},
   "outputs": [],
   "source": [
    "all_analysis_folders = get_analysis_folders()\n",
    "analysis_folders = all_analysis_folders.loc[all_analysis_folders['unique_id'].isin(plates_paper)]\n",
    "\n",
    "folders,time_plate_info = get_time_plate_info_from_analysis(analysis_folders,use_saved=False)"
   ]
  },
  {
   "cell_type": "code",
   "execution_count": 5,
   "id": "c379a0ea-8e0c-4314-904f-cd558fb7b7b7",
   "metadata": {
    "tags": []
   },
   "outputs": [
    {
     "data": {
      "text/html": [
       "<div>\n",
       "<style scoped>\n",
       "    .dataframe tbody tr th:only-of-type {\n",
       "        vertical-align: middle;\n",
       "    }\n",
       "\n",
       "    .dataframe tbody tr th {\n",
       "        vertical-align: top;\n",
       "    }\n",
       "\n",
       "    .dataframe thead th {\n",
       "        text-align: right;\n",
       "    }\n",
       "</style>\n",
       "<table border=\"1\" class=\"dataframe\">\n",
       "  <thead>\n",
       "    <tr style=\"text-align: right;\">\n",
       "      <th></th>\n",
       "      <th>Plate</th>\n",
       "      <th>tot_length_study</th>\n",
       "    </tr>\n",
       "  </thead>\n",
       "  <tbody>\n",
       "    <tr>\n",
       "      <th>0</th>\n",
       "      <td>877_20220419</td>\n",
       "      <td>1.615263e+06</td>\n",
       "    </tr>\n",
       "    <tr>\n",
       "      <th>1</th>\n",
       "      <td>56_20220701</td>\n",
       "      <td>1.470233e+06</td>\n",
       "    </tr>\n",
       "    <tr>\n",
       "      <th>2</th>\n",
       "      <td>52_20220707</td>\n",
       "      <td>2.180281e+06</td>\n",
       "    </tr>\n",
       "    <tr>\n",
       "      <th>3</th>\n",
       "      <td>99_20220815</td>\n",
       "      <td>1.582709e+06</td>\n",
       "    </tr>\n",
       "    <tr>\n",
       "      <th>4</th>\n",
       "      <td>105_20220817</td>\n",
       "      <td>2.214079e+06</td>\n",
       "    </tr>\n",
       "    <tr>\n",
       "      <th>5</th>\n",
       "      <td>108_20220823</td>\n",
       "      <td>2.407084e+06</td>\n",
       "    </tr>\n",
       "    <tr>\n",
       "      <th>6</th>\n",
       "      <td>111_20220823</td>\n",
       "      <td>4.024308e+04</td>\n",
       "    </tr>\n",
       "    <tr>\n",
       "      <th>7</th>\n",
       "      <td>106_20220826</td>\n",
       "      <td>3.372303e+06</td>\n",
       "    </tr>\n",
       "    <tr>\n",
       "      <th>8</th>\n",
       "      <td>938_20220325</td>\n",
       "      <td>2.427379e+06</td>\n",
       "    </tr>\n",
       "    <tr>\n",
       "      <th>9</th>\n",
       "      <td>839_20220325</td>\n",
       "      <td>1.367186e+06</td>\n",
       "    </tr>\n",
       "    <tr>\n",
       "      <th>10</th>\n",
       "      <td>941_20220404</td>\n",
       "      <td>1.348604e+06</td>\n",
       "    </tr>\n",
       "    <tr>\n",
       "      <th>11</th>\n",
       "      <td>991_20220325</td>\n",
       "      <td>3.540175e+06</td>\n",
       "    </tr>\n",
       "    <tr>\n",
       "      <th>12</th>\n",
       "      <td>1024_20220516</td>\n",
       "      <td>2.388070e+06</td>\n",
       "    </tr>\n",
       "    <tr>\n",
       "      <th>13</th>\n",
       "      <td>1040_20220502</td>\n",
       "      <td>4.596109e+06</td>\n",
       "    </tr>\n",
       "    <tr>\n",
       "      <th>14</th>\n",
       "      <td>1048_20220506</td>\n",
       "      <td>6.643952e+06</td>\n",
       "    </tr>\n",
       "    <tr>\n",
       "      <th>15</th>\n",
       "      <td>1014_20220525</td>\n",
       "      <td>5.071702e+06</td>\n",
       "    </tr>\n",
       "    <tr>\n",
       "      <th>16</th>\n",
       "      <td>1053_20220413</td>\n",
       "      <td>2.513026e+06</td>\n",
       "    </tr>\n",
       "    <tr>\n",
       "      <th>17</th>\n",
       "      <td>1031_20220419</td>\n",
       "      <td>3.356919e+06</td>\n",
       "    </tr>\n",
       "    <tr>\n",
       "      <th>18</th>\n",
       "      <td>1045_20220504</td>\n",
       "      <td>3.730023e+06</td>\n",
       "    </tr>\n",
       "    <tr>\n",
       "      <th>19</th>\n",
       "      <td>1035_20220518</td>\n",
       "      <td>4.378232e+06</td>\n",
       "    </tr>\n",
       "    <tr>\n",
       "      <th>20</th>\n",
       "      <td>12_20220502</td>\n",
       "      <td>1.046517e+07</td>\n",
       "    </tr>\n",
       "    <tr>\n",
       "      <th>21</th>\n",
       "      <td>13_20220422</td>\n",
       "      <td>9.856703e+06</td>\n",
       "    </tr>\n",
       "    <tr>\n",
       "      <th>22</th>\n",
       "      <td>32_20220428</td>\n",
       "      <td>6.246181e+06</td>\n",
       "    </tr>\n",
       "    <tr>\n",
       "      <th>23</th>\n",
       "      <td>30_20220506</td>\n",
       "      <td>NaN</td>\n",
       "    </tr>\n",
       "    <tr>\n",
       "      <th>24</th>\n",
       "      <td>81_20220704</td>\n",
       "      <td>3.327774e+06</td>\n",
       "    </tr>\n",
       "    <tr>\n",
       "      <th>25</th>\n",
       "      <td>91_20220708</td>\n",
       "      <td>3.002906e+06</td>\n",
       "    </tr>\n",
       "    <tr>\n",
       "      <th>26</th>\n",
       "      <td>89_20220705</td>\n",
       "      <td>1.591370e+06</td>\n",
       "    </tr>\n",
       "  </tbody>\n",
       "</table>\n",
       "</div>"
      ],
      "text/plain": [
       "            Plate  tot_length_study\n",
       "0    877_20220419      1.615263e+06\n",
       "1     56_20220701      1.470233e+06\n",
       "2     52_20220707      2.180281e+06\n",
       "3     99_20220815      1.582709e+06\n",
       "4    105_20220817      2.214079e+06\n",
       "5    108_20220823      2.407084e+06\n",
       "6    111_20220823      4.024308e+04\n",
       "7    106_20220826      3.372303e+06\n",
       "8    938_20220325      2.427379e+06\n",
       "9    839_20220325      1.367186e+06\n",
       "10   941_20220404      1.348604e+06\n",
       "11   991_20220325      3.540175e+06\n",
       "12  1024_20220516      2.388070e+06\n",
       "13  1040_20220502      4.596109e+06\n",
       "14  1048_20220506      6.643952e+06\n",
       "15  1014_20220525      5.071702e+06\n",
       "16  1053_20220413      2.513026e+06\n",
       "17  1031_20220419      3.356919e+06\n",
       "18  1045_20220504      3.730023e+06\n",
       "19  1035_20220518      4.378232e+06\n",
       "20    12_20220502      1.046517e+07\n",
       "21    13_20220422      9.856703e+06\n",
       "22    32_20220428      6.246181e+06\n",
       "23    30_20220506               NaN\n",
       "24    81_20220704      3.327774e+06\n",
       "25    91_20220708      3.002906e+06\n",
       "26    89_20220705      1.591370e+06"
      ]
     },
     "execution_count": 5,
     "metadata": {},
     "output_type": "execute_result"
    }
   ],
   "source": [
    "def get_tot_length_study(plate):\n",
    "    subset = time_plate_info[time_plate_info['unique_id'] == int(plate)]\n",
    "    if len(subset['unique_id'].unique()) == 1:\n",
    "        return np.nanmax(subset['tot_length_study'])\n",
    "    else:\n",
    "        return np.nan\n",
    "\n",
    "# Apply the function to each Plate in the list\n",
    "results = {plate: get_tot_length_study(plate) for plate in plates_paper}\n",
    "results_df = pd.Series(results, name='tot_length_study').reset_index()\n",
    "results_df.rename(columns={'index': 'Plate'}, inplace=True)\n",
    "results_df"
   ]
  },
  {
   "cell_type": "code",
   "execution_count": 6,
   "id": "5d088b7c-3ede-4dbc-8d22-db086568bedd",
   "metadata": {},
   "outputs": [],
   "source": [
    "spore_data = pd.read_csv('spores_rebutal.csv')"
   ]
  },
  {
   "cell_type": "code",
   "execution_count": 7,
   "id": "58ebe1ed-25e6-4434-9c56-cc73ab536236",
   "metadata": {},
   "outputs": [
    {
     "data": {
      "text/plain": [
       "array([\"'001P100N100C'\", \"'001P100N'\", \"'001P100N200C'\",\n",
       "       \"'001P100N200C-T'\"], dtype=object)"
      ]
     },
     "execution_count": 7,
     "metadata": {},
     "output_type": "execute_result"
    }
   ],
   "source": [
    "spore_data['medium'].unique()"
   ]
  },
  {
   "cell_type": "code",
   "execution_count": 8,
   "id": "097ddfa4-69e3-4756-bc85-9af29f0c6837",
   "metadata": {},
   "outputs": [],
   "source": [
    "spore_data['medium']=spore_data['medium'].replace(\"'001P100N200C-T'\",\"001P100N200C\")\n",
    "spore_data['medium']=spore_data['medium'].replace(\"'001P100N'\",\"001P100N100C\")\n",
    "spore_data['medium']=spore_data['medium'].replace(\"'001P100N200C'\",\"001P100N200C\")\n",
    "spore_data['medium']=spore_data['medium'].replace(\"'001P100N100C'\",\"001P100N100C\")\n",
    "spore_data['strain']=spore_data['strain'].replace(\"'A5sp3'\",\"'A5'\")"
   ]
  },
  {
   "cell_type": "code",
   "execution_count": 9,
   "id": "9105f4d7-c874-4c85-93e9-1f0a08dc9147",
   "metadata": {},
   "outputs": [],
   "source": [
    "spore_data['date'] = pd.to_datetime(spore_data['date'])"
   ]
  },
  {
   "cell_type": "code",
   "execution_count": 10,
   "id": "a5fd9ec3-1039-495e-b067-c95cfbbf7272",
   "metadata": {},
   "outputs": [],
   "source": [
    "spore_data['day'] = (spore_data['time_since_begin_h']//24).astype(int)\n",
    "spore_data['3day'] = spore_data['day']//3*3\n",
    "\n"
   ]
  },
  {
   "cell_type": "code",
   "execution_count": 11,
   "id": "3962d126-6123-4a70-89d1-6ff65cf7afce",
   "metadata": {
    "tags": []
   },
   "outputs": [],
   "source": [
    "merged = spore_data.merge(time_plate_info,left_on = \"date\",right_on=\"datetime\",how=\"left\")\n",
    "merged['treatment'] = merged['medium_x']+merged['strain_x']\n"
   ]
  },
  {
   "cell_type": "code",
   "execution_count": 12,
   "id": "2eb788ac-28a7-446c-a1f9-a34b1727ebb3",
   "metadata": {},
   "outputs": [],
   "source": [
    "merged['total_biovolume_estimated'] = merged['tot_length_study']*np.pi*3**2"
   ]
  },
  {
   "cell_type": "code",
   "execution_count": 13,
   "id": "88e77eca-95f8-4421-9dda-f33fc913eab1",
   "metadata": {},
   "outputs": [],
   "source": [
    "color_map = {\n",
    "    \"001P100N100C'A5'\": 'orange',\n",
    "    \"001P100N200C'A5'\": 'red',\n",
    "    \"001P100N100C'C2'\": 'blue',\n",
    "    \"001P100N200C'C2'\": 'purple'\n",
    "}"
   ]
  },
  {
   "cell_type": "code",
   "execution_count": 14,
   "id": "d4a405b1-6d18-41ce-9a61-40b74df0dc02",
   "metadata": {},
   "outputs": [],
   "source": [
    "path_figure = r'C:\\\\Users\\\\coren\\\\AMOLF-SHIMIZU Dropbox\\\\HFSP_symbiotic-networks\\\\Article_TravellingWave\\\\Supplementary material\\\\extended_data_figures'"
   ]
  },
  {
   "cell_type": "code",
   "execution_count": 15,
   "id": "da64a151-eafc-462d-87c9-6a4d8a6b2a73",
   "metadata": {},
   "outputs": [
    {
     "name": "stdout",
     "output_type": "stream",
     "text": [
      "2024-05-16 14:14:41,236-[WARNING]- fontTools.subset:2983 -> meta NOT subset; don't know how to subset; dropped\n"
     ]
    },
    {
     "data": {
      "application/vnd.jupyter.widget-view+json": {
       "model_id": "911d147de3e04887be55bfc9be22f26c",
       "version_major": 2,
       "version_minor": 0
      },
      "image/png": "[encoded data removed]",
      "text/html": [
       "\n",
       "            <div style=\"display: inline-block;\">\n",
       "                <div class=\"jupyter-widgets widget-label\" style=\"text-align: center;\">\n",
       "                    Figure\n",
       "                </div>\n",
       "                <img src='data:image/png;base64,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' width=150.0/>\n",
       "            </div>\n",
       "        "
      ],
      "text/plain": [
       "Canvas(toolbar=Toolbar(toolitems=[('Home', 'Reset original view', 'home', 'home'), ('Back', 'Back to previous …"
      ]
     },
     "metadata": {},
     "output_type": "display_data"
    }
   ],
   "source": [
    "import seaborn as sns\n",
    "select = merged[merged['day']<22]\n",
    "width = 1.5\n",
    "height = 0.5\n",
    "fig,ax = plt.subplots(figsize=(width,height))\n",
    "sns.lineplot(select,x=\"3day\",y=\"spore_volume_x\",hue = \"treatment\",ax=ax, palette=color_map,legend=False)\n",
    "\n",
    "ax.set_xlabel('days after crossing')\n",
    "ax.set_ylabel('$\\Omega_{spore}$ \\n($\\mu m^3$)')\n",
    "ax.set_xlim(0,20)\n",
    "ax.set_ylim(0,2.5e8)\n",
    "plt.savefig(os.path.join(path_figure,'Figure_rebutal_spore.pdf'), transparent=True, bbox_inches='tight')"
   ]
  },
  {
   "cell_type": "code",
   "execution_count": 16,
   "id": "eda44f17-5890-4948-a43e-7894ae75c8cf",
   "metadata": {},
   "outputs": [
    {
     "name": "stdout",
     "output_type": "stream",
     "text": [
      "2024-05-16 14:14:43,387-[WARNING]- fontTools.subset:2983 -> meta NOT subset; don't know how to subset; dropped\n"
     ]
    },
    {
     "data": {
      "application/vnd.jupyter.widget-view+json": {
       "model_id": "c45ebb9e298946ff8ec059c24c0f2c2c",
       "version_major": 2,
       "version_minor": 0
      },
      "image/png": "[encoded data removed]",
      "text/html": [
       "\n",
       "            <div style=\"display: inline-block;\">\n",
       "                <div class=\"jupyter-widgets widget-label\" style=\"text-align: center;\">\n",
       "                    Figure\n",
       "                </div>\n",
       "                <img src='data:image/png;base64,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' width=150.0/>\n",
       "            </div>\n",
       "        "
      ],
      "text/plain": [
       "Canvas(toolbar=Toolbar(toolitems=[('Home', 'Reset original view', 'home', 'home'), ('Back', 'Back to previous …"
      ]
     },
     "metadata": {},
     "output_type": "display_data"
    }
   ],
   "source": [
    "fig,ax = plt.subplots(figsize=(width,height))\n",
    "\n",
    "sns.lineplot(select,x=\"3day\",y=\"total_biovolume_estimated\",hue = \"treatment\",ax=ax, palette=color_map,legend=False)\n",
    "ax.set_xlabel('')\n",
    "# ax.set_xlabel('days after crossing')\n",
    "ax.set_xticklabels([])\n",
    "\n",
    "ax.set_ylabel('$\\Omega_{hyphae}$ \\n ($\\mu m^3$)')\n",
    "ax.set_xlim(0,20)\n",
    "ax.set_ylim(0,2.5e8)\n",
    "plt.savefig(os.path.join(path_figure,'Figure_rebutal_length.pdf'), transparent=True, bbox_inches='tight')"
   ]
  },
  {
   "cell_type": "code",
   "execution_count": 23,
   "id": "ac3a95ac-0dd4-4bb8-966d-fe72ef6e7168",
   "metadata": {},
   "outputs": [],
   "source": [
    "data_harvest = pd.read_csv(\"2022_CarbonExperiment.csv\",sep=\";\")"
   ]
  },
  {
   "cell_type": "code",
   "execution_count": 24,
   "id": "a2d21824-5bdf-47de-81c1-b6ce0c88915d",
   "metadata": {},
   "outputs": [],
   "source": [
    "data_harvest['treatment'] = data_harvest['treatment']+data_harvest['fungus']\n"
   ]
  },
  {
   "cell_type": "code",
   "execution_count": 25,
   "id": "5414df0e-7fc1-4089-9040-727895be08c5",
   "metadata": {},
   "outputs": [
    {
     "name": "stdout",
     "output_type": "stream",
     "text": [
      "2024-05-16 14:26:05,412-[WARNING]- fontTools.subset:2983 -> meta NOT subset; don't know how to subset; dropped\n"
     ]
    },
    {
     "data": {
      "application/vnd.jupyter.widget-view+json": {
       "model_id": "a99915cefd9e4ff2873747052fc780f7",
       "version_major": 2,
       "version_minor": 0
      },
      "image/png": "[encoded data removed]",
      "text/html": [
       "\n",
       "            <div style=\"display: inline-block;\">\n",
       "                <div class=\"jupyter-widgets widget-label\" style=\"text-align: center;\">\n",
       "                    Figure\n",
       "                </div>\n",
       "                <img src='data:image/png;base64,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' width=150.0/>\n",
       "            </div>\n",
       "        "
      ],
      "text/plain": [
       "Canvas(toolbar=Toolbar(toolitems=[('Home', 'Reset original view', 'home', 'home'), ('Back', 'Back to previous …"
      ]
     },
     "metadata": {},
     "output_type": "display_data"
    }
   ],
   "source": [
    "import seaborn as sns\n",
    "\n",
    "colors = {\n",
    "    '100CA5': 'orange',\n",
    "    '200CA5': 'red',\n",
    "    '100CC2': 'blue',\n",
    "    '200CC2': 'purple'\n",
    "}\n",
    "treatment_order = list(colors.keys())\n",
    "select=data_harvest[data_harvest['treatment'].isin(colors.keys())]\n",
    "\n",
    "width = 1.5\n",
    "height = 1\n",
    "fig,ax = plt.subplots(figsize=(width,height))\n",
    "sns.boxplot(x='treatment', y = \"dry root [mg]\",data=select, ax=ax, color='white', fliersize=0,palette = colors, order=treatment_order)\n",
    "# Add the individual points\n",
    "sns.stripplot(x='treatment', y = \"dry root [mg]\", data=select, ax=ax, color='green', marker='^',size = 2, order=treatment_order)\n",
    "# ax.set_yscale(\"log\")\n",
    "ax.set_ylabel(\"root dry weight \\n ($mg$)\")\n",
    "ax.set_xticklabels(['A5 \\n 100C', 'A5 \\n 200C','C2 \\n 100C', 'C2 \\n 200C'])\n",
    "\n",
    "# Remove x-label\n",
    "ax.set_xlabel('')\n",
    "plt.savefig(os.path.join(path_figure,'FigureS4_root_weight.pdf'), transparent=True, bbox_inches='tight')"
   ]
  },
  {
   "cell_type": "code",
   "execution_count": 26,
   "id": "a42c3398-38c9-4fe7-825c-58b9f89a9bd0",
   "metadata": {},
   "outputs": [
    {
     "name": "stdout",
     "output_type": "stream",
     "text": [
      "2024-05-16 14:26:06,375-[WARNING]- fontTools.subset:2983 -> meta NOT subset; don't know how to subset; dropped\n"
     ]
    },
    {
     "data": {
      "application/vnd.jupyter.widget-view+json": {
       "model_id": "d0b239ccacf44e929b71bc22548c080b",
       "version_major": 2,
       "version_minor": 0
      },
      "image/png": "[encoded data removed]",
      "text/html": [
       "\n",
       "            <div style=\"display: inline-block;\">\n",
       "                <div class=\"jupyter-widgets widget-label\" style=\"text-align: center;\">\n",
       "                    Figure\n",
       "                </div>\n",
       "                <img src='data:image/png;base64,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' width=75.0/>\n",
       "            </div>\n",
       "        "
      ],
      "text/plain": [
       "Canvas(toolbar=Toolbar(toolitems=[('Home', 'Reset original view', 'home', 'home'), ('Back', 'Back to previous …"
      ]
     },
     "metadata": {},
     "output_type": "display_data"
    }
   ],
   "source": [
    "import seaborn as sns\n",
    "\n",
    "colors = {\n",
    "    '100CA5': 'orange',\n",
    "    '200CA5': 'red',\n",
    "}\n",
    "treatment_order = list(colors.keys())\n",
    "select=data_harvest[data_harvest['treatment'].isin(colors.keys())]\n",
    "\n",
    "\n",
    "width = 0.75\n",
    "height = 1\n",
    "fig,ax = plt.subplots(figsize=(width,height))\n",
    "sns.boxplot(x='treatment', y = \"dry root [mg]\",data=select, ax=ax, color='white', fliersize=0,palette = colors, order=treatment_order)\n",
    "# Add the individual points\n",
    "sns.stripplot(x='treatment', y = \"dry root [mg]\", data=select, ax=ax, color='green', marker='^',size = 2, order=treatment_order)\n",
    "# ax.set_yscale(\"log\")\n",
    "ax.set_ylabel(\"root dry weight \\n ($mg$)\")\n",
    "ax.set_xticklabels(['A5 \\n 100C', 'A5 \\n 200C'])\n",
    "\n",
    "# Remove x-label\n",
    "ax.set_xlabel('')\n",
    "ax.set_ylim(65,155)\n",
    "plt.savefig(os.path.join(path_figure,'FigureS4_root_weight_A5.pdf'), transparent=True, bbox_inches='tight')"
   ]
  },
  {
   "cell_type": "code",
   "execution_count": 27,
   "id": "be23712d-7da2-4932-a5d1-fe3cdb47e3a4",
   "metadata": {},
   "outputs": [
    {
     "name": "stdout",
     "output_type": "stream",
     "text": [
      "2024-05-16 14:26:07,287-[WARNING]- fontTools.subset:2983 -> meta NOT subset; don't know how to subset; dropped\n"
     ]
    },
    {
     "data": {
      "application/vnd.jupyter.widget-view+json": {
       "model_id": "90969687a6c3478481500c73c6ca4928",
       "version_major": 2,
       "version_minor": 0
      },
      "image/png": "[encoded data removed]",
      "text/html": [
       "\n",
       "            <div style=\"display: inline-block;\">\n",
       "                <div class=\"jupyter-widgets widget-label\" style=\"text-align: center;\">\n",
       "                    Figure\n",
       "                </div>\n",
       "                <img src='data:image/png;base64,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' width=75.0/>\n",
       "            </div>\n",
       "        "
      ],
      "text/plain": [
       "Canvas(toolbar=Toolbar(toolitems=[('Home', 'Reset original view', 'home', 'home'), ('Back', 'Back to previous …"
      ]
     },
     "metadata": {},
     "output_type": "display_data"
    }
   ],
   "source": [
    "import seaborn as sns\n",
    "\n",
    "colors = {\n",
    "    '100CC2': 'blue',\n",
    "    '200CC2': 'purple'\n",
    "}\n",
    "treatment_order = list(colors.keys())\n",
    "select=data_harvest[data_harvest['treatment'].isin(colors.keys())]\n",
    "\n",
    "\n",
    "width = 0.75\n",
    "height = 1\n",
    "fig,ax = plt.subplots(figsize=(width,height))\n",
    "sns.boxplot(x='treatment', y = \"dry root [mg]\",data=select, ax=ax, color='white', fliersize=0,palette = colors, order=treatment_order)\n",
    "# Add the individual points\n",
    "sns.stripplot(x='treatment', y = \"dry root [mg]\", data=select, ax=ax, color='green', marker='^',size = 2, order=treatment_order)\n",
    "# ax.set_yscale(\"log\")\n",
    "ax.set_ylabel(\"root dry weight \\n ($mg$)\")\n",
    "ax.set_xticklabels(['C2 \\n 100C', 'C2 \\n 200C'])\n",
    "\n",
    "# Remove x-label\n",
    "ax.set_xlabel('')\n",
    "ax.set_ylabel('')\n",
    "ax.set_ylim(65,155)\n",
    "\n",
    "plt.savefig(os.path.join(path_figure,'FigureS4_root_weight_C2.pdf'), transparent=True, bbox_inches='tight')"
   ]
  },
  {
   "cell_type": "code",
   "execution_count": null,
   "id": "e64b16ed-ff9b-415c-80d4-52ce9b30cdfe",
   "metadata": {},
   "outputs": [],
   "source": []
  },
  {
   "cell_type": "code",
   "execution_count": 22,
   "id": "ebe56814-5cf9-4545-932b-5f7e0a350f39",
   "metadata": {
    "tags": []
   },
   "outputs": [],
   "source": [
    "all_analysis_folders = get_analysis_folders()\n",
    "plates = [\n",
    "\"822_20231204\",\n",
    "# \"866_20231204\",\n",
    "\"918_20231110\"\n",
    "]\n",
    "analysis_folders = all_analysis_folders.loc[all_analysis_folders['unique_id'].isin(plates)]\n",
    "folders,time_plate_info = get_time_plate_info_from_analysis(analysis_folders,use_saved=False)\n",
    "time_plate_info = time_plate_info.replace(-1.0,np.nan)\n",
    "width = 1.6\n",
    "height = 1\n",
    "# folders, time_hypha_info = get_time_hypha_info_from_analysis(analysis_folders,use_saved=False)\n",
    "# folders,global_hypha_info = get_global_hypha_info_from_analysis(analysis_folders,use_saved=False)"
   ]
  }
 ],
 "metadata": {
  "kernelspec": {
   "display_name": "Python 3 (ipykernel)",
   "language": "python",
   "name": "python3"
  },
  "language_info": {
   "codemirror_mode": {
    "name": "ipython",
    "version": 3
   },
   "file_extension": ".py",
   "mimetype": "text/x-python",
   "name": "python",
   "nbconvert_exporter": "python",
   "pygments_lexer": "ipython3",
   "version": "3.10.6"
  }
 },
 "nbformat": 4,
 "nbformat_minor": 5
}
