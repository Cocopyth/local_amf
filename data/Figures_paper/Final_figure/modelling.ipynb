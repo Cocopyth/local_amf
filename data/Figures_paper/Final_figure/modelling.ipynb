{
 "cells": [
  {
   "cell_type": "code",
   "execution_count": null,
   "id": "30049590-9a46-4679-bbe1-6e5e746a9cf3",
   "metadata": {},
   "outputs": [],
   "source": [
    "import numpy as np\n",
    "import matplotlib.pyplot as plt\n",
    "from scipy.integrate import odeint\n",
    "from matplotlib.pyplot import cm\n",
    "n = 30\n",
    "color = cm.Blues(np.linspace(0, 1, n))\n",
    "color2 = cm.Reds(np.linspace(0, 1, n))\n",
    "plt.style.use('presentation.mplstyle')\n",
    "\n",
    "%matplotlib widget"
   ]
  },
  {
   "cell_type": "code",
   "execution_count": null,
   "id": "72192f3d-f118-4f5b-8043-0ec37f492589",
   "metadata": {},
   "outputs": [],
   "source": [
    "plt.close('all')\n",
    "coeff = 2*np.pi*5e-4\n",
    "Fmax = 1e-6\n",
    "Km = 1e-4\n",
    "Fmax *= (3600*24)\n",
    "bp = 239"
   ]
  },
  {
   "cell_type": "code",
   "execution_count": null,
   "id": "5cf3df07-705f-4dd7-839a-438e0b721cb5",
   "metadata": {},
   "outputs": [],
   "source": [
    "def make_rho(rho0,c):\n",
    "    def rho(x,t):\n",
    "        return(rho0*1/(1+np.exp(np.exp(x-c*t))))\n",
    "    return(rho)"
   ]
  },
  {
   "cell_type": "code",
   "execution_count": null,
   "id": "a406bd6e-feca-4c3c-bfeb-f760b63bc4a3",
   "metadata": {},
   "outputs": [],
   "source": [
    "def find_integral(rho0,c,C0,plot = True):\n",
    "    rho_f = make_rho(rho0,c)\n",
    "    max_xs = 25\n",
    "    nxs = 1000\n",
    "    xs = np.linspace(0,max_xs,nxs)\n",
    "    maxt = 28\n",
    "    ts = np.linspace(0,maxt,n)\n",
    "#     if plot:\n",
    "#         fig,ax = plt.subplots()\n",
    "\n",
    "#         for i,t in enumerate(ts):\n",
    "#             y = rho_f(xs,t)\n",
    "#             ax.plot(xs,y,c=color[i])\n",
    "    def make_model(x):\n",
    "        def model(y,t):\n",
    "            rho = rho_f(x,t)\n",
    "            dydt = -coeff*rho*Fmax*y/(Km+y)/bp\n",
    "            # dydt = -coeff*rho*Fmax*y\n",
    "\n",
    "            return dydt\n",
    "        return(model)\n",
    "    Cs = []\n",
    "\n",
    "\n",
    "    for x in xs:\n",
    "        model = make_model(x)\n",
    "        C = odeint(model,C0,ts)\n",
    "        Cs.append(C)\n",
    "    Cs = np.array(Cs)\n",
    "    if plot:\n",
    "    \n",
    "        fig,ax = plt.subplots()\n",
    "        ax2=ax.twinx()\n",
    "        ratio = 4 \n",
    "        for i,t in enumerate(ts[::ratio]):\n",
    "            ax2.plot(xs,Cs[:,ratio*i],c=color2[ratio*i])\n",
    "            y = rho_f(xs,t)\n",
    "            ax.plot(xs,y,c=color[ratio*i])\n",
    "        ax.set_ylabel(r'density $\\rho$ $(cm.cm^{-3})$',color='blue')\n",
    "        ax.set_xlabel('distance $(cm)$')\n",
    "        \n",
    "        ax.tick_params(axis = 'y',colors = 'blue')\n",
    "        ax2.set_ylabel('P concentration $C$ $(\\mu mo .cm^{-3})$',color='red')\n",
    "        ax2.tick_params(axis = 'y',colors = 'red')    \n",
    "        plt.tight_layout()\n",
    "        fig,ax = plt.subplots()\n",
    "        for i,t in enumerate(ts[::ratio]):\n",
    "            y =Cs[:,ratio*i][:,0]\n",
    "            ax.plot(xs,coeff*rho_f(xs,t)*Fmax*y/(Km+y),c=color[ratio*i])\n",
    "        ax.set_xlabel('distance $(cm)$')\n",
    "        ax.set_ylabel('absorption rate $(\\mu mol.cm^{-3}.s^{-1})$',color='blue')\n",
    "        plt.tight_layout()\n",
    "    integrals = []\n",
    "    for i,t in enumerate(ts):\n",
    "        y =Cs[:,i][:,0]\n",
    "        curve = coeff*rho_f(xs,t)*Fmax*y/(Km+y)\n",
    "        integrals.append(2*np.pi*np.sum(curve*xs)*max_xs/nxs)\n",
    "    if plot:\n",
    "        fig,ax = plt.subplots()\n",
    "        ax.plot(ts,integrals)\n",
    "        ax.set_xlabel('time (day)')\n",
    "        ax.set_ylabel('Colony absorption rate$(\\mu mol.s^{-1})$')\n",
    "        plt.tight_layout()\n",
    "    return(integrals)"
   ]
  },
  {
   "cell_type": "code",
   "execution_count": null,
   "id": "19b67ae8-fe40-4512-9dd9-c3006562352a",
   "metadata": {},
   "outputs": [],
   "source": [
    "couples = [(260,1300),(240,2100),(200,3000)]\n",
    "couples_units = [(c*1e-4*24,(rho_0*1e-3)**2*1e2/2) for (c,rho_0) in couples]"
   ]
  },
  {
   "cell_type": "code",
   "execution_count": null,
   "id": "d2d0390d-d9bd-4233-897c-d71a7aa5adef",
   "metadata": {},
   "outputs": [],
   "source": [
    "strains = ['A5','C2','Agg']\n"
   ]
  },
  {
   "cell_type": "code",
   "execution_count": null,
   "id": "e3b0fb7f-9235-4375-8583-330138476ed5",
   "metadata": {},
   "outputs": [],
   "source": [
    "c,rho0 = couples_units[0]\n",
    "C0=1e-3\n",
    "# for rho0 in [1e2,2e2,3e2]:\n",
    "# for c in [0.2,0.3,0.4]:\n",
    "C0s = [5e-5,5e-4,1e-3,5e-3]\n",
    "integrals_limit_list = []\n",
    "for C0 in C0s:\n",
    "    integrals_limit = []\n",
    "    \n",
    "    for (c,rho0) in couples_units:\n",
    "        integrals_limit.append(np.mean(find_integral(rho0,c,C0,plot=True)))\n",
    "        break        \n",
    "    integrals_limit_list.append(integrals_limit)\n",
    "    break"
   ]
  },
  {
   "cell_type": "code",
   "execution_count": null,
   "id": "50afa922-5c32-4d26-9f78-811fbc8508a5",
   "metadata": {},
   "outputs": [],
   "source": [
    "C0= 5e-4\n",
    "integrals_limit = []\n",
    "\n",
    "for (c,rho0) in couples_units:\n",
    "    integrals_limit.append(find_integral(rho0,c,C0,plot=False))\n"
   ]
  },
  {
   "cell_type": "code",
   "execution_count": null,
   "id": "0670ab41-90b8-4e40-8022-2dc8cce3808a",
   "metadata": {},
   "outputs": [],
   "source": [
    "fig,ax = plt.subplots()\n",
    "maxt = 24\n",
    "ts = np.linspace(0,maxt,n)\n",
    "colors = ['orange','blue','black']\n",
    "for j,(c,rho0) in enumerate(couples_units):\n",
    "    ax.plot(ts,integrals_limit[j],label=strains[j],color = colors[j])\n",
    "    # ax.plot(ts,integrals_limit[j],color = colors[j])\n",
    "    \n",
    "ax.legend()\n",
    "ax.set_xlabel('time (day)')\n",
    "ax.set_ylabel('Colony absorption rate$(\\mu mol.s^{-1}.cm^{-1})$')\n",
    "plt.tight_layout()"
   ]
  },
  {
   "cell_type": "code",
   "execution_count": null,
   "id": "db712947-892f-4ffd-8693-f8da278d6d58",
   "metadata": {},
   "outputs": [],
   "source": [
    "fig,ax = plt.subplots()\n",
    "maxt = 24\n",
    "ts = np.linspace(0,maxt,n)\n",
    "colors = ['orange','blue','black']\n",
    "rs = [4e-4,3.5e-4,3e-4]\n",
    "\n",
    "biovolumes = (rho0*np.pi *rs[j]**2*c*ts*2*np.pi) #cm3\n",
    "biomasses = biovolumes*1e-3 #kg\n",
    "dry_biomasses = 0.3*biomasses #kg\n",
    "C_mass = dry_biomasses*0.9 #kg C\n",
    "C_mol = C_mass/(12e-3) #mol\n",
    "C_mol = C_mol*1e6 #umol\n",
    "for j,(c,rho0) in enumerate(couples_units):\n",
    "    # ax.plot(ts,integrals_limit[j],label=strains[j],color = colors[j])\n",
    "    ax.plot(ts,C_mol/integrals_limit[j],label=strains[j],color = colors[j])\n",
    "    \n",
    "ax.legend()\n",
    "ax.set_xlabel('time (day)')\n",
    "ax.set_ylabel('P cost $(\\mu molC.\\mu molP^{-1})$')\n",
    "plt.tight_layout()"
   ]
  },
  {
   "cell_type": "code",
   "execution_count": null,
   "id": "d124aa1b-fa13-49eb-88e6-61e1c1530e09",
   "metadata": {},
   "outputs": [],
   "source": [
    "C0s = [1e-4,5e-4,5e-3]\n",
    "integrals_limit_list = []\n",
    "costs_limit_list = []\n",
    "rs = [4e-4,3.5e-4,3e-4]\n",
    "\n",
    "for C0 in C0s:\n",
    "    integrals_limit = []\n",
    "    costs_limit = []\n",
    "    for j,(c,rho0) in enumerate(couples_units):\n",
    "        integral = find_integral(rho0,c,C0,plot=False)\n",
    "        integrals_limit.append(np.mean(integral))\n",
    "        biovolumes = (rho0*np.pi *rs[j]**2*c*ts*2*np.pi) #cm3\n",
    "        biomasses = biovolumes*1e-3 #kg\n",
    "        dry_biomasses = 0.3*biomasses #kg\n",
    "        C_mass = dry_biomasses*0.9 #kg C\n",
    "        C_mol = C_mass/(12e-3) #mol\n",
    "        C_mol = C_mol*1e6 #umol\n",
    "        costs_limit.append(np.mean(C_mol/integral))\n",
    "        \n",
    "    integrals_limit_list.append(integrals_limit)\n",
    "    costs_limit_list.append(costs_limit)"
   ]
  },
  {
   "cell_type": "code",
   "execution_count": null,
   "id": "30b9c213-58c1-4c24-8933-23877feca9b9",
   "metadata": {},
   "outputs": [],
   "source": [
    "fig,ax = plt.subplots()\n",
    "labels = ['low concentration','middle concentration','high concentration']\n",
    "for j,C0 in enumerate(C0s):\n",
    "    ax.plot(strains,np.array(integrals_limit_list[j])/np.mean(integrals_limit_list[j]),label=labels[j])\n",
    "    \n",
    "    # ax.plot(strains,np.array(integrals_limit_list[j])/np.mean(integrals_limit_list[j]),label=f'$C_0 =$ {C0} $ \\mu mol.cm^{-3}$')\n",
    "ax.legend()\n",
    "ax.set_ylabel('Mean colony absorption rate (rescaled)')\n"
   ]
  },
  {
   "cell_type": "code",
   "execution_count": null,
   "id": "9996eaff-d8a1-44e3-a2d5-7450c25e9527",
   "metadata": {},
   "outputs": [],
   "source": [
    "fig,ax = plt.subplots()\n",
    "\n",
    "for j,C0 in enumerate(C0s):\n",
    "    ax.plot(strains,np.array(costs_limit_list[j]),label=labels[j])\n",
    "    \n",
    "    # ax.plot(strains,np.array(costs_limit_list[j]),label=f'$C_0 =$ {C0} $ \\mu mol.cm^{-3}$')\n",
    "ax.legend()\n",
    "ax.set_ylabel('Mean P cost in C units $(\\mu molC.\\mu molP^{-1})$')\n",
    "ax.set_yscale('log')"
   ]
  },
  {
   "cell_type": "code",
   "execution_count": null,
   "id": "a63fdefb-1f17-4dbd-b92e-5931f98f7f26",
   "metadata": {},
   "outputs": [],
   "source": [
    "fig,ax = plt.subplots()\n",
    "\n",
    "for j,C0 in enumerate(C0s):\n",
    "    \n",
    "    ax.plot(strains,np.array(integrals_limit_list[j])/np.mean(integrals_limit_list[j]),label=f'$C_0 =$ {C0} $ \\mu mol.cm^{-3}$')\n",
    "ax.legend()\n",
    "ax.set_ylabel('Mean colony absorption rate (rescaled)')\n"
   ]
  }
 ],
 "metadata": {
  "kernelspec": {
   "display_name": "Python 3 (ipykernel)",
   "language": "python",
   "name": "python3"
  },
  "language_info": {
   "codemirror_mode": {
    "name": "ipython",
    "version": 3
   },
   "file_extension": ".py",
   "mimetype": "text/x-python",
   "name": "python",
   "nbconvert_exporter": "python",
   "pygments_lexer": "ipython3",
   "version": "3.10.6"
  }
 },
 "nbformat": 4,
 "nbformat_minor": 5
}
