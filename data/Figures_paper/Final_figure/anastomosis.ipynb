{
 "cells": [
  {
   "cell_type": "code",
   "execution_count": 1,
   "id": "fdf290f4-be78-4147-a31d-9343823d05dc",
   "metadata": {},
   "outputs": [
    {
     "name": "stderr",
     "output_type": "stream",
     "text": [
      "c:\\users\\coren\\documents\\phd\\code\\amftrack\\amftrack\\util\\dbx.py:3: TqdmExperimentalWarning: Using `tqdm.autonotebook.tqdm` in notebook mode. Use `tqdm.tqdm` instead to force console mode (e.g. in jupyter console)\n",
      "  from tqdm.autonotebook import tqdm\n"
     ]
    }
   ],
   "source": [
    "%load_ext autoreload\n",
    "%autoreload 2\n",
    "import os\n",
    "import matplotlib.pyplot as plt\n",
    "import os\n",
    "import pandas as pd\n",
    "from amftrack.util.sys import get_analysis_folders,get_time_plate_info_from_analysis,get_time_hypha_info_from_analysis,get_global_hypha_info_from_analysis \n",
    "import numpy as np\n",
    "import imageio\n",
    "import os\n",
    "import cv2\n",
    "from scipy.interpolate import interp1d\n",
    "from scipy.optimize import curve_fit\n",
    "from amftrack.pipeline.final_analysis.density_wave import get_wave_fit, S, dS, wave, dwave,plot_single_plate\n",
    "import matplotlib.patches as mpatches\n",
    "import statsmodels.api as sm\n",
    "from amftrack.pipeline.final_analysis.hypha_speed_analysis import *\n",
    "import scipy\n",
    "from mpl_toolkits.axes_grid1.inset_locator import inset_axes\n",
    "import scipy.io as sio\n",
    "\n",
    "%matplotlib widget\n",
    "plt.style.use('presentation.mplstyle')"
   ]
  },
  {
   "cell_type": "code",
   "execution_count": null,
   "id": "17888918-b7c0-4d63-80ba-3e7299e5ab96",
   "metadata": {},
   "outputs": [],
   "source": [
    "plate_select = [52,84,938,941,1076,94,152,102,76] #center crossing plates\n",
    "all_analysis_folders = get_analysis_folders()\n",
    "plates = ['102_20201226', '1076_20220511', '152_20201224', '52_20220707',\n",
    "       '76_20210108', '84_20220621', '938_20220325', '941_20220404',\n",
    "       '94_20201123']\n",
    "analysis_folders = all_analysis_folders.loc[all_analysis_folders['unique_id'].isin(plates)]\n",
    "folders,time_plate_info = get_time_plate_info_from_analysis(analysis_folders,use_saved=False)\n"
   ]
  },
  {
   "cell_type": "code",
   "execution_count": null,
   "id": "36753ce4-2bb0-476d-93ed-327e86508934",
   "metadata": {},
   "outputs": [],
   "source": [
    "time_plate_info['num_edges'] = (time_plate_info['num_tips_study']+(time_plate_info['num_nodes_study']-time_plate_info['num_tips_study'])*3)/2\n",
    "time_plate_info['num_anastomosis'] = 2+time_plate_info['num_edges']-time_plate_info['num_nodes_study']"
   ]
  }
 ],
 "metadata": {
  "kernelspec": {
   "display_name": "Python 3 (ipykernel)",
   "language": "python",
   "name": "python3"
  },
  "language_info": {
   "codemirror_mode": {
    "name": "ipython",
    "version": 3
   },
   "file_extension": ".py",
   "mimetype": "text/x-python",
   "name": "python",
   "nbconvert_exporter": "python",
   "pygments_lexer": "ipython3",
   "version": "3.10.6"
  }
 },
 "nbformat": 4,
 "nbformat_minor": 5
}
