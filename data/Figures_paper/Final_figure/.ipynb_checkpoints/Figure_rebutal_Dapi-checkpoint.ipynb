{
 "cells": [
  {
   "cell_type": "code",
   "execution_count": 1,
   "id": "23e9663c-1840-4284-8598-08aa1e126643",
   "metadata": {},
   "outputs": [
    {
     "name": "stderr",
     "output_type": "stream",
     "text": [
      "c:\\users\\coren\\documents\\phd\\code\\amftrack\\amftrack\\util\\dbx.py:3: TqdmExperimentalWarning: Using `tqdm.autonotebook.tqdm` in notebook mode. Use `tqdm.tqdm` instead to force console mode (e.g. in jupyter console)\n",
      "  from tqdm.autonotebook import tqdm\n"
     ]
    }
   ],
   "source": [
    "from amftrack.pipeline.functions.transport_processing.high_mag_videos.kymo_class import *\n",
    "from scipy.signal import find_peaks\n",
    "import os\n",
    "from pathlib import Path\n",
    "import pandas as pd\n",
    "import imageio.v2 as imageio\n",
    "import matplotlib.pyplot as plt\n",
    "import cv2\n",
    "from glob import glob\n",
    "from tqdm import tqdm\n",
    "from tifffile import imwrite\n",
    "\n",
    "%matplotlib widget\n",
    "%load_ext autoreload\n",
    "%autoreload 2"
   ]
  },
  {
   "cell_type": "code",
   "execution_count": 2,
   "id": "916291f9-79a2-41bf-bf41-a4d173641ade",
   "metadata": {},
   "outputs": [],
   "source": [
    "path = r\"C:\\Users\\coren\\AMOLF-SHIMIZU Dropbox\\HFSP_symbiotic-networks\\Article_TravellingWave\\rebuttal\\Figures_rebutal\\Images for Figures (SB 20 um)\\df_nuclear_density.csv\""
   ]
  },
  {
   "cell_type": "code",
   "execution_count": 4,
   "id": "588ffd43-54f1-4202-9e47-dc9f7d23566b",
   "metadata": {},
   "outputs": [],
   "source": [
    "tab = pd.read_csv(path)"
   ]
  },
  {
   "cell_type": "code",
   "execution_count": 5,
   "id": "b9cf873f-c6a9-40bf-bd15-e59db1761d9c",
   "metadata": {},
   "outputs": [
    {
     "data": {
      "text/plain": [
       "Index(['Unnamed: 0', 'area', 'axis_major_length', 'axis_minor_length', 'label',\n",
       "       'Counts', 'path', 'length (pixels)', 'Rep', 'area (uM)',\n",
       "       'nuclei per area (uM)', 'length (uM)', 'nuclei per length (uM)'],\n",
       "      dtype='object')"
      ]
     },
     "execution_count": 5,
     "metadata": {},
     "output_type": "execute_result"
    }
   ],
   "source": [
    "tab.columns"
   ]
  }
 ],
 "metadata": {
  "kernelspec": {
   "display_name": "Python 3 (ipykernel)",
   "language": "python",
   "name": "python3"
  },
  "language_info": {
   "codemirror_mode": {
    "name": "ipython",
    "version": 3
   },
   "file_extension": ".py",
   "mimetype": "text/x-python",
   "name": "python",
   "nbconvert_exporter": "python",
   "pygments_lexer": "ipython3",
   "version": "3.10.6"
  }
 },
 "nbformat": 4,
 "nbformat_minor": 5
}
