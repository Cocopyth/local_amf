{
 "cells": [
  {
   "cell_type": "code",
   "execution_count": 1,
   "id": "7f497a0f-0cea-4836-be24-5c6b06238800",
   "metadata": {},
   "outputs": [
    {
     "name": "stderr",
     "output_type": "stream",
     "text": [
      "c:\\users\\coren\\documents\\phd\\code\\amftrack\\amftrack\\util\\dbx.py:3: TqdmExperimentalWarning: Using `tqdm.autonotebook.tqdm` in notebook mode. Use `tqdm.tqdm` instead to force console mode (e.g. in jupyter console)\n",
      "  from tqdm.autonotebook import tqdm\n"
     ]
    }
   ],
   "source": [
    "%load_ext autoreload\n",
    "%autoreload 2\n",
    "import os\n",
    "import matplotlib.pyplot as plt\n",
    "import os\n",
    "import pandas as pd\n",
    "from amftrack.util.sys import get_analysis_folders,get_time_plate_info_from_analysis,get_time_hypha_info_from_analysis,get_global_hypha_info_from_analysis,get_time_plate_info_long_from_analysis \n",
    "import numpy as np\n",
    "import imageio\n",
    "import os\n",
    "import cv2\n",
    "from scipy.interpolate import interp1d\n",
    "from scipy.optimize import curve_fit\n",
    "from amftrack.pipeline.final_analysis.density_wave import get_wave_fit, S, dS, wave, dwave,plot_single_plate\n",
    "import matplotlib.patches as mpatches\n",
    "import statsmodels.api as sm\n",
    "from amftrack.pipeline.final_analysis.hypha_speed_analysis import *\n",
    "import scipy\n",
    "from mpl_toolkits.axes_grid1.inset_locator import inset_axes\n",
    "import scipy.io as sio\n",
    "import matplotlib as mpl\n",
    "from matplotlib.path import Path\n",
    "from matplotlib.patches import PathPatch\n",
    "from matplotlib.legend_handler import HandlerTuple\n",
    "import seaborn as sns\n",
    "from scipy.integrate import odeint\n",
    "import scienceplots\n",
    "import logging\n",
    "logging.getLogger().setLevel(logging.WARNING)\n",
    "%matplotlib widget\n",
    "%store -r path_figure\n",
    "\n",
    "plt.style.use('presentation.mplstyle')\n",
    "# plt.style.use('science')\n",
    "plates = ['94_20201123']\n",
    "plate_select = [94]\n",
    "# plt.rcParams['font.family'] = 'Helvetica'  # Set font family"
   ]
  },
  {
   "cell_type": "code",
   "execution_count": 2,
   "id": "a664f573-5d1e-4918-b309-51a34e58418d",
   "metadata": {},
   "outputs": [],
   "source": [
    "width = 1.6\n",
    "height = 1"
   ]
  },
  {
   "cell_type": "code",
   "execution_count": 3,
   "id": "69b28b04-b907-46d6-8c28-11500b23585e",
   "metadata": {},
   "outputs": [],
   "source": [
    "def select_movement(plate_id, time_hypha_info, min_num_occ=1):\n",
    "    time_hypha_plate = time_hypha_info.loc[time_hypha_info[\"unique_id\"] == plate_id]\n",
    "    select = time_hypha_plate\n",
    "    max_speeds = select.groupby(\"end\").max()[\"speed\"]\n",
    "    correct_tracks = max_speeds.loc[max_speeds <= 450]\n",
    "    select = select.loc[select[\"end\"].isin(correct_tracks.index)]\n",
    "    select = select.loc[select[\"distance_final_pos\"] >= 1500]\n",
    "    select = select.loc[select[\"speed\"].between(50, 400)]\n",
    "    select = select.loc[select[\"in_ROI\"] == \"True\"]\n",
    "    num_occ = select.groupby(\"end\").count()[\"speed\"]\n",
    "    correct_tracks = num_occ.loc[num_occ >= min_num_occ]\n",
    "    select = select.loc[select[\"end\"].isin(correct_tracks.index)]\n",
    "    select_movements = select\n",
    "    return select_movements\n",
    "\n",
    "\n",
    "def get_average_time_data(plate_id, time_hypha_info, min_num_occ=1):\n",
    "    select_movements = select_movement(plate_id, time_hypha_info, min_num_occ)\n",
    "    group = select_movements.groupby([\"time_since_begin_h\"])[\"speed\"]\n",
    "    data = group.median()\n",
    "    dy = group.std() / np.sqrt(group.count())\n",
    "\n",
    "    return (data, dy, select_movements)"
   ]
  },
  {
   "cell_type": "code",
   "execution_count": null,
   "id": "02866e39-3760-4916-a44a-a400fd7ef153",
   "metadata": {},
   "outputs": [],
   "source": [
    "all_analysis_folders = get_analysis_folders()\n",
    "analysis_folders = all_analysis_folders.loc[all_analysis_folders['unique_id'].isin(plates)]\n",
    "\n",
    "folders, time_hypha_info = get_time_hypha_info_from_analysis(analysis_folders)\n"
   ]
  },
  {
   "cell_type": "code",
   "execution_count": null,
   "id": "7a6a31e7-4587-4af6-8b49-33dc09786ab4",
   "metadata": {},
   "outputs": [],
   "source": [
    "plate_id = '94_20201123'\n",
    "plate_id_int = int(plate_id)\n",
    "data,dy,select_movements = get_average_time_data(plate_id_int,time_hypha_info,2)\n",
    "hyphae_hull = get_hyphae_hull(plate_id,analysis_folders)\n",
    "timesteps = []\n",
    "hypha_hulls = []\n",
    "for timestep,line in enumerate(hyphae_hull):\n",
    "    timesteps += [timestep for hyph in line]\n",
    "    hypha_hulls += [hyph for hyph in line]\n",
    "data_front = pd.DataFrame((np.array((timesteps,hypha_hulls))).transpose(),columns=('timestep','label'))\n",
    "data_front['timestep_label'] = data_front['timestep'].astype(str)+data_front['label'].astype(str)\n",
    "select_movements['group_time'] = select_movements['timestep']//10\n",
    "select_movements['timestep_label'] = select_movements['timestep'].astype(str)+select_movements['end'].astype(str)\n",
    "\n",
    "select_movements['is_hull_pusher'] = select_movements[\"timestep_label\"].isin(data_front['timestep_label'])\n",
    "select = select_movements.loc[select_movements['timestep']<100]"
   ]
  },
  {
   "cell_type": "code",
   "execution_count": null,
   "id": "deaa2989-ed77-43ef-afb5-732db87b97a4",
   "metadata": {},
   "outputs": [],
   "source": [
    "fig,ax = plt.subplots()\n",
    "select_hyphae = select_movements.loc[select_movements['timestep']<100]\n",
    "\n",
    "select_hyphae = select_movements.loc[select_movements['speed']>200].copy()\n",
    "vecs_lists = []    \n",
    "# for j,hyph in enumerate([0,  118, 58, 1]):\n",
    "for j,hyph in enumerate(select_hyphae['end'].unique()):\n",
    "    select_hypha = select_movements.loc[select_movements['end']==hyph]\n",
    "#     select_hypha = select_hypha.loc[select_hypha['timestep']<100]\n",
    "    \n",
    "#     select_hypha = select_hypha.loc[select_hypha['speed']>200].copy()\n",
    "    \n",
    "\n",
    "    select_hypha = select_hypha.sort_values('timestep')\n",
    "    vecx,vecy = select_hypha['pos_x'].diff(1),select_hypha['pos_y'].diff(1)\n",
    "    vecx_norm = vecx/(vecx**2+vecy**2)**(1/2)\n",
    "    vecy_norm = vecy/(vecx**2+vecy**2)**(1/2)\n",
    "    persistence = vecx_norm.iloc[1]*vecx_norm+vecy_norm.iloc[1]*vecy_norm\n",
    "    dists = np.sqrt((select_hypha['pos_x']-select_hypha['pos_x'].iloc[0])**2+(select_hypha['pos_y']-select_hypha['pos_y'].iloc[0])**2)*1.725\n",
    "    vecs_lists.append((dists.values,vecx_norm.iloc[1:].values,vecy_norm.iloc[1:].values))\n",
    "    ax.plot(dists,persistence)\n",
    "ax.set_xlabel('distance ($\\mu m$)')\n",
    "ax.set_ylabel(r'$cos(\\theta-\\theta_0)$')"
   ]
  },
  {
   "cell_type": "code",
   "execution_count": null,
   "id": "094163b4-b601-476d-86f1-beb3719bc0ff",
   "metadata": {},
   "outputs": [],
   "source": [
    "def exp_func(x, a):\n",
    "    return np.exp(-x / a)"
   ]
  },
  {
   "cell_type": "code",
   "execution_count": 13,
   "id": "9883c7a3-4f90-43c4-9cc7-a2394f6ee75e",
   "metadata": {},
   "outputs": [
    {
     "data": {
      "text/plain": [
       "118"
      ]
     },
     "execution_count": 13,
     "metadata": {},
     "output_type": "execute_result"
    }
   ],
   "source": [
    "len(vecs_lists)"
   ]
  },
  {
   "cell_type": "code",
   "execution_count": null,
   "id": "b3db7d31-5ffb-4824-8959-e582c2c7f182",
   "metadata": {
    "tags": []
   },
   "outputs": [],
   "source": [
    "fig,ax = plt.subplots(figsize=(width,height))\n",
    "# fig,ax = plt.subplots()\n",
    "\n",
    "correlation_length = []\n",
    "for k in range(len(vecs_lists)):\n",
    "    dist = vecs_lists[k][0][1:]\n",
    "    vecx = vecs_lists[k][1]\n",
    "    vecy = vecs_lists[k][2]\n",
    "    if len(vecx)>4:\n",
    "        # Generate new regularly spaced x\n",
    "        new_dist = np.linspace(start=dist.min(), stop=dist.max(), num=100)  # for instance, 100 points\n",
    "\n",
    "        # Interpolate y values at new x\n",
    "        new_vecx = np.cos(np.interp(new_dist, dist, np.arccos(vecx)))\n",
    "\n",
    "        # Interpolate y values at new x\n",
    "        new_vecy = np.sin(np.interp(new_dist, dist, np.arcsin(vecy)))\n",
    "\n",
    "        correlation_func = np.zeros(len(new_vecx))\n",
    "\n",
    "        # Compute the correlation function\n",
    "        for i in range(len(new_vecx)):\n",
    "            for j in range(i, len(new_vecx)):\n",
    "                # Compute the cosine of the angle between the tangents\n",
    "                cos_theta = new_vecx[i]*new_vecx[j]+new_vecy[i]*new_vecy[j]\n",
    "                # Add to the correlation function\n",
    "                correlation_func[j-i] += cos_theta\n",
    "\n",
    "        # Average the correlation function\n",
    "        correlation_func /= np.arange(len(new_vecx), 0, -1)\n",
    "        popt, pcov = curve_fit(exp_func,new_dist[:len(new_vecx)//2]-new_dist[0], correlation_func[:len(new_vecx)//2],p0=[5000])\n",
    "        correlation_length.append(popt[0])\n",
    "        ax.plot(new_dist[:len(new_vecx)//2]-new_dist[0],correlation_func[:len(new_vecx)//2],color=\"grey\",alpha = 0.1)\n",
    "        xs = new_dist[:len(new_vecx)//2]-new_dist[0]\n",
    "        # ax.plot(xs,np.exp(-xs/popt[0]))        \n",
    "        # break\n",
    "ax.set_xscale(\"log\")\n",
    "# ax.set_yscale(\"log\")\n",
    "\n",
    "xs = np.linspace(1e1,1e4,100)\n",
    "ax.set_xlim(1e2,2e4)\n",
    "ax.set_ylim(1e-4,2)\n",
    "\n",
    "ax.plot(xs,np.exp(-xs/np.median(correlation_length)),color=\"black\",linewidth=1)\n",
    "ax.set_xlabel('$\\Delta L(\\mu m)$')\n",
    "ax.set_ylabel('$\\\\langle \\\\cos(\\Delta \\\\theta) \\\\rangle$')\n",
    "plt.savefig(os.path.join(path_figure,'FigureS5B.pdf'), transparent=True, bbox_inches='tight')\n"
   ]
  },
  {
   "cell_type": "code",
   "execution_count": 205,
   "id": "f4541b37-334a-4e2a-ba41-b8c804e4e963",
   "metadata": {},
   "outputs": [
    {
     "data": {
      "text/plain": [
       "104417.39625478433"
      ]
     },
     "execution_count": 205,
     "metadata": {},
     "output_type": "execute_result"
    }
   ],
   "source": [
    "np.median(correlation_length)"
   ]
  },
  {
   "cell_type": "code",
   "execution_count": 14,
   "id": "5d10f611-24d0-4642-baa9-19b9864c5b1f",
   "metadata": {},
   "outputs": [],
   "source": [
    "rh_angle = np.load('rh_angle.npy')\n",
    "bas_angle = np.load('bas_angle.npy')"
   ]
  },
  {
   "cell_type": "code",
   "execution_count": 16,
   "id": "19513663-e4dc-405e-85e5-178f7cb71ba1",
   "metadata": {},
   "outputs": [
    {
     "data": {
      "text/plain": [
       "(71, 881)"
      ]
     },
     "execution_count": 16,
     "metadata": {},
     "output_type": "execute_result"
    }
   ],
   "source": [
    "len(rh_angle),len(bas_angle)"
   ]
  },
  {
   "cell_type": "code",
   "execution_count": 196,
   "id": "e71f4c50-08f2-4d2f-a5ed-4366014fc388",
   "metadata": {},
   "outputs": [
    {
     "data": {
      "text/plain": [
       "(73.71652101040532, 79.94013131052722)"
      ]
     },
     "execution_count": 196,
     "metadata": {},
     "output_type": "execute_result"
    }
   ],
   "source": [
    "np.mean(np.abs(rh_angle)),np.mean(np.abs(bas_angle))"
   ]
  },
  {
   "cell_type": "code",
   "execution_count": 198,
   "id": "7b868ad3-5e60-41ed-a8fb-d89abebcd550",
   "metadata": {},
   "outputs": [
    {
     "data": {
      "text/plain": [
       "4.8610857461753385"
      ]
     },
     "execution_count": 198,
     "metadata": {},
     "output_type": "execute_result"
    }
   ],
   "source": [
    "np.std(np.abs(rh_angle))/np.sqrt(len(rh_angle))"
   ]
  },
  {
   "cell_type": "code",
   "execution_count": 129,
   "id": "1bfa1cd7-63f0-47d3-a11e-389111dff252",
   "metadata": {},
   "outputs": [
    {
     "name": "stdout",
     "output_type": "stream",
     "text": [
      "2023-07-13 21:58:14,805-[WARNING]- fontTools.subset:2983 -> meta NOT subset; don't know how to subset; dropped\n"
     ]
    },
    {
     "data": {
      "application/vnd.jupyter.widget-view+json": {
       "model_id": "f4ec188629ae4a909db52c5c84148ebd",
       "version_major": 2,
       "version_minor": 0
      },
      "image/png": "[encoded data removed]",
      "text/html": [
       "\n",
       "            <div style=\"display: inline-block;\">\n",
       "                <div class=\"jupyter-widgets widget-label\" style=\"text-align: center;\">\n",
       "                    Figure\n",
       "                </div>\n",
       "                <img src='data:image/png;base64,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' width=160.0/>\n",
       "            </div>\n",
       "        "
      ],
      "text/plain": [
       "Canvas(toolbar=Toolbar(toolitems=[('Home', 'Reset original view', 'home', 'home'), ('Back', 'Back to previous …"
      ]
     },
     "metadata": {},
     "output_type": "display_data"
    }
   ],
   "source": [
    "fig,ax = plt.subplots(figsize=(width,height))\n",
    "\n",
    "ax.violinplot([np.abs(rh_angle),np.abs(bas_angle)])\n",
    "ax.set_xticks([1, 2])\n",
    "ax.set_xticklabels(['RH', 'BAS'])\n",
    "ax.set_ylabel('branching angle (°)')\n",
    "plt.savefig(os.path.join(path_figure,'FigureS5A.pdf'), transparent=True, bbox_inches='tight')\n"
   ]
  }
 ],
 "metadata": {
  "kernelspec": {
   "display_name": "Python 3 (ipykernel)",
   "language": "python",
   "name": "python3"
  },
  "language_info": {
   "codemirror_mode": {
    "name": "ipython",
    "version": 3
   },
   "file_extension": ".py",
   "mimetype": "text/x-python",
   "name": "python",
   "nbconvert_exporter": "python",
   "pygments_lexer": "ipython3",
   "version": "3.10.6"
  }
 },
 "nbformat": 4,
 "nbformat_minor": 5
}
