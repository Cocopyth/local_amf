{
 "cells": [
  {
   "cell_type": "code",
   "execution_count": 16,
   "id": "eedc96e6-11ef-4564-b22b-29a6116f57e4",
   "metadata": {},
   "outputs": [],
   "source": [
    "import pandas as pd\n",
    "import os\n",
    "import matplotlib.pyplot as plt\n",
    "from amftrack.util.sys import (\n",
    "    update_plate_info,\n",
    "    get_current_folders,\n",
    ")"
   ]
  },
  {
   "cell_type": "code",
   "execution_count": 6,
   "id": "7f154f9f-bd8a-4283-ba96-d540d4c3c670",
   "metadata": {},
   "outputs": [],
   "source": [
    "path = r\"C:\\Users\\coren\\AMOLF-SHIMIZU Dropbox\\DATA\\TRANSPORT\\PositionsNetworks\\PositionsSpeeds\\csv\"\n",
    "file = '211012_Plate799.csv'\n",
    "total_path = os.path.join(path,file)\n",
    "table = pd.read_csv(total_path,names=['kymo_id','video_id','posx','posy','speed+','speed-'])"
   ]
  },
  {
   "cell_type": "code",
   "execution_count": 9,
   "id": "b5dd39b6-50d4-4988-a98d-27539e24b3ff",
   "metadata": {},
   "outputs": [
    {
     "data": {
      "image/png": "[encoded data removed]",
      "text/plain": [
       "<Figure size 432x288 with 1 Axes>"
      ]
     },
     "metadata": {
      "needs_background": "light"
     },
     "output_type": "display_data"
    }
   ],
   "source": [
    "fig,ax = plt.subplots()\n",
    "sub = table.groupby('video_id').mean().astype(int)\n",
    "for index,row in sub.iterrows():\n",
    "    ax.scatter(row['posx'],row['posy'])\n",
    "    ax.text(row['posx'],row['posy'],row['speed+'])"
   ]
  },
  {
   "cell_type": "code",
   "execution_count": 12,
   "id": "b81197ac-c4ed-4641-b788-d02326351707",
   "metadata": {},
   "outputs": [],
   "source": [
    "directory = r'C:\\Users\\coren\\Documents\\PhD\\Code\\temp/'\n"
   ]
  },
  {
   "cell_type": "code",
   "execution_count": 14,
   "id": "d46ee689-ef50-4410-9e4c-fcd1884892c8",
   "metadata": {},
   "outputs": [
    {
     "data": {
      "application/vnd.jupyter.widget-view+json": {
       "model_id": "a432a463cdec49e2aeee3b0d47fc32cd",
       "version_major": 2,
       "version_minor": 0
      },
      "text/plain": [
       "analysed:   0%|          | 0/65 [00:00<?, ?it/s]"
      ]
     },
     "metadata": {},
     "output_type": "display_data"
    }
   ],
   "source": [
    "update_plate_info(directory, local=True)\n"
   ]
  },
  {
   "cell_type": "code",
   "execution_count": 17,
   "id": "4dc24b5e-29f3-4e15-995d-aa06b38287fe",
   "metadata": {},
   "outputs": [],
   "source": [
    "all_folders = get_current_folders(\n",
    "    directory, local=True\n",
    ")"
   ]
  },
  {
   "cell_type": "code",
   "execution_count": 18,
   "id": "60b8eb59-36a0-4e54-a2fd-04a5dca6d194",
   "metadata": {},
   "outputs": [],
   "source": [
    "folders = all_folders.loc[all_folders['Plate']=='799']"
   ]
  },
  {
   "cell_type": "code",
   "execution_count": 19,
   "id": "ea69a15a-eae7-4dcd-bebf-55d256682410",
   "metadata": {},
   "outputs": [
    {
     "data": {
      "text/html": [
       "<div>\n",
       "<style scoped>\n",
       "    .dataframe tbody tr th:only-of-type {\n",
       "        vertical-align: middle;\n",
       "    }\n",
       "\n",
       "    .dataframe tbody tr th {\n",
       "        vertical-align: top;\n",
       "    }\n",
       "\n",
       "    .dataframe thead th {\n",
       "        text-align: right;\n",
       "    }\n",
       "</style>\n",
       "<table border=\"1\" class=\"dataframe\">\n",
       "  <thead>\n",
       "    <tr style=\"text-align: right;\">\n",
       "      <th></th>\n",
       "      <th>total_path</th>\n",
       "      <th>Plate</th>\n",
       "      <th>PrincePos</th>\n",
       "      <th>root</th>\n",
       "      <th>strain</th>\n",
       "      <th>medium</th>\n",
       "      <th>split</th>\n",
       "      <th>Pbait</th>\n",
       "      <th>CrossDate</th>\n",
       "      <th>/Img/TileConfiguration.txt.registered</th>\n",
       "      <th>...</th>\n",
       "      <th>/Analysis/transform_corrupt.mat</th>\n",
       "      <th>/Analysis/skeleton_realigned_compressed.mat</th>\n",
       "      <th>/Analysis/nx_graph_pruned.p</th>\n",
       "      <th>/Analysis/nx_graph_pruned_width.p</th>\n",
       "      <th>/Analysis/nx_graph_pruned_labeled.p</th>\n",
       "      <th>date</th>\n",
       "      <th>folder</th>\n",
       "      <th>Temperature</th>\n",
       "      <th>unique_id</th>\n",
       "      <th>datetime</th>\n",
       "    </tr>\n",
       "  </thead>\n",
       "  <tbody>\n",
       "    <tr>\n",
       "      <th>0</th>\n",
       "      <td>C:\\Users\\coren\\Documents\\PhD\\Code\\temp/2021101...</td>\n",
       "      <td>799</td>\n",
       "      <td>39</td>\n",
       "      <td>'Carrot'</td>\n",
       "      <td>'A5'</td>\n",
       "      <td>'001P100N'</td>\n",
       "      <td>'Y'</td>\n",
       "      <td>'-'</td>\n",
       "      <td>20211001</td>\n",
       "      <td>True</td>\n",
       "      <td>...</td>\n",
       "      <td>False</td>\n",
       "      <td>False</td>\n",
       "      <td>False</td>\n",
       "      <td>False</td>\n",
       "      <td>False</td>\n",
       "      <td>12.10.2021, 08:27:</td>\n",
       "      <td>20211012_0827_Plate39</td>\n",
       "      <td>NaN</td>\n",
       "      <td>799_20211001</td>\n",
       "      <td>2021-10-12 08:27:00</td>\n",
       "    </tr>\n",
       "  </tbody>\n",
       "</table>\n",
       "<p>1 rows × 24 columns</p>\n",
       "</div>"
      ],
      "text/plain": [
       "                                          total_path Plate PrincePos  \\\n",
       "0  C:\\Users\\coren\\Documents\\PhD\\Code\\temp/2021101...   799        39   \n",
       "\n",
       "       root strain      medium split Pbait CrossDate  \\\n",
       "0  'Carrot'   'A5'  '001P100N'   'Y'   '-'  20211001   \n",
       "\n",
       "  /Img/TileConfiguration.txt.registered  ... /Analysis/transform_corrupt.mat  \\\n",
       "0                                  True  ...                           False   \n",
       "\n",
       "  /Analysis/skeleton_realigned_compressed.mat /Analysis/nx_graph_pruned.p  \\\n",
       "0                                       False                       False   \n",
       "\n",
       "  /Analysis/nx_graph_pruned_width.p /Analysis/nx_graph_pruned_labeled.p  \\\n",
       "0                             False                               False   \n",
       "\n",
       "                 date                 folder Temperature     unique_id  \\\n",
       "0  12.10.2021, 08:27:  20211012_0827_Plate39         NaN  799_20211001   \n",
       "\n",
       "             datetime  \n",
       "0 2021-10-12 08:27:00  \n",
       "\n",
       "[1 rows x 24 columns]"
      ]
     },
     "execution_count": 19,
     "metadata": {},
     "output_type": "execute_result"
    }
   ],
   "source": [
    "folders"
   ]
  },
  {
   "cell_type": "code",
   "execution_count": 20,
   "id": "b5bbae9f-34e9-4595-a285-010e6dc1d139",
   "metadata": {},
   "outputs": [],
   "source": [
    "from numpy import linspace, zeros, asarray\n",
    "import matplotlib.pyplot as plt\n",
    "\n",
    "def ode_FE(f, U_0, dt, T):\n",
    "    N_t = int(round(float(T)/dt))\n",
    "    # Ensure that any list/tuple returned from f_ is wrapped as array\n",
    "    f_ = lambda u, t: asarray(f(u, t))\n",
    "    u = zeros((N_t+1, len(U_0)))\n",
    "    t = linspace(0, N_t*dt, len(u))\n",
    "    u[0] = U_0\n",
    "    for n in range(N_t):\n",
    "        u[n+1] = u[n] + dt*f_(u[n], t[n])\n",
    "    return u, t"
   ]
  },
  {
   "cell_type": "code",
   "execution_count": 28,
   "id": "01076bbb-3144-418d-9136-7352a4f0cf4c",
   "metadata": {},
   "outputs": [
    {
     "name": "stdout",
     "output_type": "stream",
     "text": [
      "stability limit: 200.00000000000003\n"
     ]
    },
    {
     "data": {
      "image/png": "[encoded data removed]",
      "text/plain": [
       "<Figure size 432x288 with 1 Axes>"
      ]
     },
     "metadata": {
      "needs_background": "light"
     },
     "output_type": "display_data"
    }
   ],
   "source": [
    "\n",
    "from numpy import linspace, zeros, linspace, exp, sin, cos, pi, sqrt\n",
    "import time\n",
    "\n",
    "\n",
    "def rhs(u, t):\n",
    "    N = len(u) - 1\n",
    "    rhs = zeros(N+1)\n",
    "    rhs[0] = dsdt(t)\n",
    "    for i in range(1, N):\n",
    "        rhs[i] = (beta/dx**2)*(u[i+1] - 2*u[i] + u[i-1])\n",
    "    i = N\n",
    "    rhs[i] = (beta/dx**2)*(2*u[i-1] - 2*u[i])\n",
    "    return rhs\n",
    "\n",
    "def dudx(t):\n",
    "    return 0\n",
    "\n",
    "def s(t):\n",
    "    return T0 + Ta*sin((2*pi/P)*t)\n",
    "\n",
    "def dsdt(t):\n",
    "    return (Ta*2*pi/P)*cos((2*pi/P)*t)\n",
    "\n",
    "def I(x):\n",
    "    \"\"\"Initial temp distribution\"\"\"\n",
    "    return A + B*exp(-r*x)*sin(-r*x)\n",
    "\n",
    "def I(x):\n",
    "    \"\"\"Initial temp distribution.\"\"\"\n",
    "    return A\n",
    "\n",
    "beta = 1E-6\n",
    "T0 = 283        # just some choice\n",
    "Ta = 20         # amplitude of temp osc\n",
    "P = 24*60*60    # period, 24 hours\n",
    "A = T0\n",
    "B = Ta\n",
    "omega = 2*pi/P\n",
    "r = sqrt(omega/(2*beta))\n",
    "L = 2           # depth vertically down in the ground\n",
    "N = 100\n",
    "x = linspace(0, L, N+1)\n",
    "dx = x[1] - x[0]\n",
    "u = zeros(N+1)\n",
    "\n",
    "U_0 = zeros(N+1)\n",
    "U_0[0] = s(0)\n",
    "U_0[1:] = I(x[1:])\n",
    "\n",
    "dt = dx**2/float(2*beta)\n",
    "print ('stability limit:', dt)\n",
    "T=(24*60*60)*6                  # simulate 6 days\n",
    "u, t = ode_FE(rhs, U_0, dt, T)\n",
    "\n",
    "\n",
    "# Make movie\n",
    "import os\n",
    "fig,ax = plt.subplots()\n",
    "lines = ax.plot(x, u[0,:])\n",
    "# plt.axis([x[0], x[-1], 283-30, 283+30])\n",
    "ax.set_xlabel('x')\n",
    "ax.set_ylabel('u(x,t) and U(x,t)')\n",
    "counter = 0\n",
    "for i in range(0, u.shape[0]):\n",
    "    # lines[1].set_ydata(U(x, t[i]))\n",
    "    # ax.legend(['t=%.3f' % t[i]])\n",
    "    if i % 100 == 0: # plot every x steps\n",
    "        ax.plot(x,u[i,:])\n",
    "        \n",
    "        counter += 1\n",
    "    #time.sleep(0.2)"
   ]
  },
  {
   "cell_type": "code",
   "execution_count": 32,
   "id": "4aa1a8e4-5bf7-43d8-b11e-799e1a403f07",
   "metadata": {},
   "outputs": [
    {
     "data": {
      "text/plain": [
       "(6.944444444444444e-05, 8.333333333333334e-05)"
      ]
     },
     "execution_count": 32,
     "metadata": {},
     "output_type": "execute_result"
    }
   ],
   "source": [
    "import numpy as np\n",
    "homogeneisation_speed = np.sqrt(5e-3*1/(4*3600)/50)\n",
    "growth_speed = 1/(4*3600)\n",
    "growth_speed,homogeneisation_speed"
   ]
  }
 ],
 "metadata": {
  "kernelspec": {
   "display_name": "Python 3 (ipykernel)",
   "language": "python",
   "name": "python3"
  },
  "language_info": {
   "codemirror_mode": {
    "name": "ipython",
    "version": 3
   },
   "file_extension": ".py",
   "mimetype": "text/x-python",
   "name": "python",
   "nbconvert_exporter": "python",
   "pygments_lexer": "ipython3",
   "version": "3.10.6"
  }
 },
 "nbformat": 4,
 "nbformat_minor": 5
}
