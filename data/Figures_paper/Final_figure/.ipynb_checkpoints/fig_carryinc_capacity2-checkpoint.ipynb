{
 "cells": [
  {
   "cell_type": "code",
   "execution_count": 1,
   "id": "b4fcc3ed-aa30-482f-9a19-ca29c9a930a0",
   "metadata": {
    "tags": []
   },
   "outputs": [
    {
     "name": "stderr",
     "output_type": "stream",
     "text": [
      "c:\\users\\coren\\documents\\phd\\code\\amftrack\\amftrack\\util\\dbx.py:3: TqdmExperimentalWarning: Using `tqdm.autonotebook.tqdm` in notebook mode. Use `tqdm.tqdm` instead to force console mode (e.g. in jupyter console)\n",
      "  from tqdm.autonotebook import tqdm\n"
     ]
    }
   ],
   "source": [
    "# import os\n",
    "import matplotlib.pyplot as plt\n",
    "import os\n",
    "import pandas as pd\n",
    "from amftrack.util.sys import get_analysis_folders,get_time_plate_info_from_analysis,get_time_hypha_info_from_analysis,get_global_hypha_info_from_analysis \n",
    "import numpy as np\n",
    "import imageio\n",
    "import os\n",
    "import cv2\n",
    "from scipy.interpolate import interp1d\n",
    "from scipy.optimize import curve_fit\n",
    "from amftrack.pipeline.final_analysis.density_wave import get_wave_fit, S, dS, wave, dwave\n",
    "import matplotlib.patches as mpatches\n",
    "from random import choice\n",
    "import matplotlib as mpl\n",
    "from amftrack.pipeline.final_analysis.density_wave import plot_single_plate,plot_single_plate_biovolume\n",
    "from amftrack.pipeline.final_analysis.hypha_speed_analysis import *\n",
    "from amftrack.util.plot import gridplot, make_stat\n",
    "%store -r path_figure\n",
    "%matplotlib widget\n",
    "%load_ext autoreload\n",
    "%autoreload 2\n",
    "plt.style.use('presentation.mplstyle')\n",
    "from mpl_toolkits.axes_grid1.inset_locator import inset_axes\n",
    "import scipy\n",
    "import statsmodels.api as sm\n",
    "import hashlib\n",
    "from matplotlib.patches import Ellipse\n",
    "import logging\n",
    "logging.getLogger().setLevel(logging.WARNING)\n",
    "\n",
    "all_analysis_folders = get_analysis_folders()\n",
    "\n",
    "plate_select = [792,1014,1042,127,130,1023,1045,1053,1048,52,84,938,1076,94,152,102,76,3,12,16,480,91,799,800] #C2\n",
    "plates = ['1014_20220525', '1023_20220502', '102_20201226', '1042_20220523',\n",
    "       '1045_20220504', '1048_20220506', '1053_20220413', '1076_20220511',\n",
    "       '127_20220705', '130_20220707', '152_20201224',\"3_20220426\", \"12_20220502\",\"16_20220419\",\"480_20221205\", '52_20220707', '76_20210108',\n",
    "       '792_20210915', '799_20211001', '800_20210928', '84_20220621', '91_20220708', '938_20220325', '94_20201123']\n",
    "\n",
    "analysis_folders = all_analysis_folders.loc[all_analysis_folders['unique_id'].isin(plates)]\n"
   ]
  },
  {
   "cell_type": "code",
   "execution_count": 2,
   "id": "7cc6ce2f-48af-43ac-9b16-8e1e2ab84f8c",
   "metadata": {
    "tags": []
   },
   "outputs": [],
   "source": [
    "folders,time_plate_info = get_time_plate_info_from_analysis(analysis_folders,False)\n",
    "# folders,global_hypha_info = get_global_hypha_info_from_analysis(analysis_folders,False)\n",
    "# folders, time_hypha_info = get_time_hypha_info_from_analysis(analysis_folders,False)"
   ]
  },
  {
   "cell_type": "code",
   "execution_count": 3,
   "id": "32483d8e-ec85-4051-9e96-3dd5e6cbd2f7",
   "metadata": {},
   "outputs": [],
   "source": [
    "Css = {}\n",
    "lambss = {}\n",
    "dss = {}\n",
    "meancurves = {}\n",
    "meancurves2 = {}\n",
    "t0ss = {}\n",
    "rsquared = {}\n",
    "\n",
    "timestep = {32:100,28:60,30:80,1014: 80, 1023:60, 1037:70, 1042:100,52 : 65,56:50,938:30,1076:60,84:80,89:80,91:70,127:60,129:50,94:150,152:35,792:60,1048:60,1045:50,941:50}\n",
    "timestep2 = {102:25,83:70,76:20,81:70,32:100,28:60,30:80,1014: 80, 1023:60, 1037:70, 1042:100,52 : 75,56:50,938:30,1076:60,84:80,89:80,91:70,127:60,129:50,94:100,152:35,792:50,1048:60,1045:50}\n",
    "timestep = {**timestep, **timestep2}\n",
    "timestep2 = {1014 : 80,1024:25,1027:18,1028:60,1030 : 60,1032 : 50,1042 : 120,1048:70,127:120,129:60,130:50,991:40}\n",
    "timestep = {**timestep, **timestep2}\n",
    "timestep2 = {1023 : 60,1031:30,1035:30,1037 : 80,1039 : 90,1045:70,1047:50,1053:40}\n",
    "timestep = {**timestep, **timestep2}    \n",
    "\n",
    "timestep2 = {1071 : 25,1076:70,839:60,938 : 35}\n",
    "timestep = {**timestep, **timestep2}\n",
    "timestep2 = {30 : 62,32 : 160,33:80}\n",
    "timestep = {**timestep, **timestep2}\n",
    "timestep2 = {799 : 100,800 : 25,91:100,99:40}\n",
    "timestep = {**timestep, **timestep2}\n",
    "timestep2 = {3:144,16 : 39, 12:70,480:150,28 : 100}\n",
    "timestep = {**timestep, **timestep2}"
   ]
  },
  {
   "cell_type": "code",
   "execution_count": 4,
   "id": "4f499880-4502-4e3a-aecc-942ce2e92c8b",
   "metadata": {},
   "outputs": [
    {
     "name": "stderr",
     "output_type": "stream",
     "text": [
      "C:\\Users\\coren\\AppData\\Local\\Temp\\ipykernel_14152\\283942226.py:1: PerformanceWarning: DataFrame is highly fragmented.  This is usually the result of calling `frame.insert` many times, which has poor performance.  Consider joining all columns at once using pd.concat(axis=1) instead. To get a de-fragmented frame, use `newframe = frame.copy()`\n",
      "  time_plate_info[\"density\"] = time_plate_info[\"tot_length_study\"]/time_plate_info[\"area_sep_comp\"]\n"
     ]
    }
   ],
   "source": [
    "time_plate_info[\"density\"] = time_plate_info[\"tot_length_study\"]/time_plate_info[\"area_sep_comp\"]\n",
    "Ds={}\n",
    "for plate in plates:\n",
    "    select = time_plate_info.loc[time_plate_info[\"unique_id\"] == int(plate)]\n",
    "    Ds[plate] = select[\"density\"].iloc[timestep[int(plate.split('_')[0])]]"
   ]
  },
  {
   "cell_type": "code",
   "execution_count": 5,
   "id": "c23d5c19-a12a-455c-81cf-a616f630a327",
   "metadata": {},
   "outputs": [
    {
     "data": {
      "text/plain": [
       "24"
      ]
     },
     "execution_count": 5,
     "metadata": {},
     "output_type": "execute_result"
    }
   ],
   "source": [
    "len(list(Ds.values()))"
   ]
  },
  {
   "cell_type": "code",
   "execution_count": 35,
   "id": "2aaaf1cc-67b3-4c7b-9934-5ce3beb437ac",
   "metadata": {},
   "outputs": [],
   "source": [
    "data = [29.448598861694336,\n",
    " 33.77727508544922,\n",
    " 232.8802947998047,\n",
    " 31.537221908569336,\n",
    " 12.936720848083496,\n",
    " 12.868404388427734,\n",
    " 11.403223991394043,\n",
    " 40.07711410522461,\n",
    " 43.12382888793945,\n",
    " 49.837528228759766,\n",
    " 32.38702392578125,\n",
    " 31.267343521118164,\n",
    " 32.405029296875,\n",
    " 17.28557586669922,\n",
    " 12.938458442687988,\n",
    " 13.938224792480469,\n",
    " 8.173038482666016,\n",
    " 8.688986778259277,\n",
    " 8.704690933227539,\n",
    " 10.036430358886719,\n",
    " 11.11474323272705,\n",
    " 10.832844734191895,\n",
    " 42.571205139160156,\n",
    " 38.00281524658203,\n",
    " 41.57780456542969]"
   ]
  },
  {
   "cell_type": "code",
   "execution_count": 36,
   "id": "048e0c54-5111-47a1-a7e9-8ab1b2eb16bb",
   "metadata": {},
   "outputs": [],
   "source": [
    "import matplotlib.pyplot as plt\n",
    "import seaborn as sns\n",
    "labels =[\"dens_AMF\"] * len(list(Ds.values()))+[\"dens_free\"] * len(data)\n",
    "values = [D for D in Ds.values()]+[D*1000 for D in data]\n",
    "df = pd.DataFrame({\"density\":values,\"AMF_free\" : labels},columns = [\"density\",\"AMF_free\"])\n",
    "# fig, ax = plt.subplots()\n",
    "# Create the boxplot\n"
   ]
  },
  {
   "cell_type": "code",
   "execution_count": 37,
   "id": "010fc87e-be15-4a41-832b-5620e5d203d8",
   "metadata": {
    "tags": []
   },
   "outputs": [
    {
     "name": "stdout",
     "output_type": "stream",
     "text": [
      "2024-05-16 14:23:52,381-[WARNING]- fontTools.subset:2983 -> meta NOT subset; don't know how to subset; dropped\n"
     ]
    },
    {
     "data": {
      "application/vnd.jupyter.widget-view+json": {
       "model_id": "17ac87f5c91a4757881a20c0ab441ac4",
       "version_major": 2,
       "version_minor": 0
      },
      "image/png": "[encoded data removed]",
      "text/html": [
       "\n",
       "            <div style=\"display: inline-block;\">\n",
       "                <div class=\"jupyter-widgets widget-label\" style=\"text-align: center;\">\n",
       "                    Figure\n",
       "                </div>\n",
       "                <img src='data:image/png;base64,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' width=160.0/>\n",
       "            </div>\n",
       "        "
      ],
      "text/plain": [
       "Canvas(toolbar=Toolbar(toolitems=[('Home', 'Reset original view', 'home', 'home'), ('Back', 'Back to previous …"
      ]
     },
     "metadata": {},
     "output_type": "display_data"
    }
   ],
   "source": [
    "plt.style.use('presentation.mplstyle')\n",
    "\n",
    "width = 1.6\n",
    "height = 1\n",
    "fig,ax = plt.subplots(figsize=(width,height))\n",
    "sns.boxplot(x='AMF_free', y = \"density\",data=df, ax=ax, color='white', fliersize=0)\n",
    "# Add the individual points\n",
    "sns.stripplot(x='AMF_free', y = \"density\", data=df, ax=ax, color='purple', marker='^',size = 2)\n",
    "ax.set_yscale(\"log\")\n",
    "ax.set_ylabel(\"saturation density \\n ($\\mu m/mm^{2}$)\")\n",
    "ax.set_xticklabels(['AMF', 'Free Living'])\n",
    "\n",
    "# Remove x-label\n",
    "ax.set_xlabel('')\n",
    "plt.savefig(os.path.join(path_figure,'FigureS4Brebutal_freeliving.pdf'), transparent=True, bbox_inches='tight')"
   ]
  },
  {
   "cell_type": "code",
   "execution_count": 9,
   "id": "532d5b49-fa5a-4269-944d-5de471cb74e5",
   "metadata": {},
   "outputs": [
    {
     "data": {
      "text/plain": [
       "'C:\\\\Users\\\\coren\\\\AMOLF-SHIMIZU Dropbox\\\\HFSP_symbiotic-networks\\\\Article_TravellingWave\\\\Supplementary material\\\\extended_data_figures'"
      ]
     },
     "execution_count": 9,
     "metadata": {},
     "output_type": "execute_result"
    }
   ],
   "source": [
    "path_figure"
   ]
  },
  {
   "cell_type": "code",
   "execution_count": 10,
   "id": "cd14d8be-685c-4165-ab7c-f8e06380a4e8",
   "metadata": {},
   "outputs": [],
   "source": [
    "data_myr = pd.read_csv('myristate.csv')\n",
    "data_myr = data_myr[data_myr[\"medium\"]==\"'0.5Myr'\"]\n"
   ]
  },
  {
   "cell_type": "code",
   "execution_count": 11,
   "id": "98a4b6bb-51e7-48b1-85ff-71e68cbccc4b",
   "metadata": {},
   "outputs": [
    {
     "data": {
      "text/html": [
       "<div>\n",
       "<style scoped>\n",
       "    .dataframe tbody tr th:only-of-type {\n",
       "        vertical-align: middle;\n",
       "    }\n",
       "\n",
       "    .dataframe tbody tr th {\n",
       "        vertical-align: top;\n",
       "    }\n",
       "\n",
       "    .dataframe thead th {\n",
       "        text-align: right;\n",
       "    }\n",
       "</style>\n",
       "<table border=\"1\" class=\"dataframe\">\n",
       "  <thead>\n",
       "    <tr style=\"text-align: right;\">\n",
       "      <th></th>\n",
       "      <th>Unnamed: 0</th>\n",
       "      <th>strain</th>\n",
       "      <th>density</th>\n",
       "      <th>medium</th>\n",
       "    </tr>\n",
       "  </thead>\n",
       "  <tbody>\n",
       "    <tr>\n",
       "      <th>1</th>\n",
       "      <td>60_20230508</td>\n",
       "      <td>'A5'</td>\n",
       "      <td>1802.811251</td>\n",
       "      <td>'0.5Myr'</td>\n",
       "    </tr>\n",
       "    <tr>\n",
       "      <th>2</th>\n",
       "      <td>68_20230501</td>\n",
       "      <td>'C2'</td>\n",
       "      <td>1998.771968</td>\n",
       "      <td>'0.5Myr'</td>\n",
       "    </tr>\n",
       "    <tr>\n",
       "      <th>3</th>\n",
       "      <td>14_20230301</td>\n",
       "      <td>'A5'</td>\n",
       "      <td>1180.272646</td>\n",
       "      <td>'0.5Myr'</td>\n",
       "    </tr>\n",
       "    <tr>\n",
       "      <th>4</th>\n",
       "      <td>58_20230511</td>\n",
       "      <td>'A5'</td>\n",
       "      <td>2069.195584</td>\n",
       "      <td>'0.5Myr'</td>\n",
       "    </tr>\n",
       "    <tr>\n",
       "      <th>8</th>\n",
       "      <td>46_20230221</td>\n",
       "      <td>'C2'</td>\n",
       "      <td>1628.316632</td>\n",
       "      <td>'0.5Myr'</td>\n",
       "    </tr>\n",
       "  </tbody>\n",
       "</table>\n",
       "</div>"
      ],
      "text/plain": [
       "    Unnamed: 0 strain      density    medium\n",
       "1  60_20230508   'A5'  1802.811251  '0.5Myr'\n",
       "2  68_20230501   'C2'  1998.771968  '0.5Myr'\n",
       "3  14_20230301   'A5'  1180.272646  '0.5Myr'\n",
       "4  58_20230511   'A5'  2069.195584  '0.5Myr'\n",
       "8  46_20230221   'C2'  1628.316632  '0.5Myr'"
      ]
     },
     "execution_count": 11,
     "metadata": {},
     "output_type": "execute_result"
    }
   ],
   "source": [
    "data_myr"
   ]
  },
  {
   "cell_type": "code",
   "execution_count": 12,
   "id": "675bc03f-3db4-4244-b658-667fc8f243cb",
   "metadata": {},
   "outputs": [],
   "source": [
    "data_control = pd.read_csv('control.csv')\n",
    "data_control = data_control[data_control[\"density\"]<=10000]"
   ]
  },
  {
   "cell_type": "code",
   "execution_count": 13,
   "id": "3631aa7d-0cb5-48d8-aafb-5d6686892075",
   "metadata": {},
   "outputs": [],
   "source": [
    "import matplotlib.pyplot as plt\n",
    "import seaborn as sns\n",
    "labels = [\"dens_AMF\"] * len(list(Ds.values()))+[\"dens_free\"] * len(data)+['Myr'] * len(data_myr)\n",
    "labels += ['control']*len(data_control)\n",
    "values = [D for D in Ds.values()]+[D*1000 for D in data]+data_myr['density'].to_list()\n",
    "values += data_control['density'].to_list()\n",
    "df = pd.DataFrame({\"density\":values,\"AMF_free\" : labels},columns = [\"density\",\"AMF_free\"])\n",
    "# fig, ax = plt.subplots()\n",
    "# Create the boxplot\n"
   ]
  },
  {
   "cell_type": "code",
   "execution_count": 14,
   "id": "e593fe75-c5ae-4e08-932a-0da4106de980",
   "metadata": {},
   "outputs": [
    {
     "name": "stdout",
     "output_type": "stream",
     "text": [
      "2024-05-16 14:20:48,195-[WARNING]- fontTools.subset:2983 -> meta NOT subset; don't know how to subset; dropped\n"
     ]
    },
    {
     "data": {
      "application/vnd.jupyter.widget-view+json": {
       "model_id": "8f58efcf2e9c439ea55bdd5ecad3161d",
       "version_major": 2,
       "version_minor": 0
      },
      "image/png": "[encoded data removed]",
      "text/html": [
       "\n",
       "            <div style=\"display: inline-block;\">\n",
       "                <div class=\"jupyter-widgets widget-label\" style=\"text-align: center;\">\n",
       "                    Figure\n",
       "                </div>\n",
       "                <img src='data:image/png;base64,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' width=150.0/>\n",
       "            </div>\n",
       "        "
      ],
      "text/plain": [
       "Canvas(toolbar=Toolbar(toolitems=[('Home', 'Reset original view', 'home', 'home'), ('Back', 'Back to previous …"
      ]
     },
     "metadata": {},
     "output_type": "display_data"
    }
   ],
   "source": [
    "df = df[df['AMF_free']!='control']\n",
    "width = 1.5\n",
    "height = 1\n",
    "fig,ax = plt.subplots(figsize=(width,height))\n",
    "category_order = ['dens_AMF', 'Myr', 'dens_free']\n",
    "sns.boxplot(x='AMF_free', y = \"density\",data=df, ax=ax, color='white', fliersize=0, order=category_order)\n",
    "# Add the individual points\n",
    "sns.stripplot(x='AMF_free', y = \"density\", data=df, ax=ax, color='purple', marker='^',size = 2, order=category_order)\n",
    "ax.set_yscale(\"log\")\n",
    "ax.set_ylabel(\"hyphal density \\n ($\\mu m/mm^{2}$)\")\n",
    "ax.set_xticklabels(['AMF','Myr', 'Free \\n Living'])\n",
    "\n",
    "# Remove x-label\n",
    "ax.set_xlabel('')\n",
    "plt.savefig(os.path.join(path_figure,'FigureS4Brebutal.pdf'), transparent=True, bbox_inches='tight')"
   ]
  },
  {
   "cell_type": "code",
   "execution_count": 15,
   "id": "dc790394-941b-44cb-be05-2f81b89d7988",
   "metadata": {},
   "outputs": [
    {
     "data": {
      "text/plain": [
       "array(['dens_AMF', 'dens_free', 'Myr'], dtype=object)"
      ]
     },
     "execution_count": 15,
     "metadata": {},
     "output_type": "execute_result"
    }
   ],
   "source": [
    "df['AMF_free'].unique()"
   ]
  },
  {
   "cell_type": "code",
   "execution_count": 16,
   "id": "c9964736-f88c-48fe-8114-da0098b99e75",
   "metadata": {},
   "outputs": [
    {
     "name": "stdout",
     "output_type": "stream",
     "text": [
      "2024-05-16 14:20:49,894-[WARNING]- fontTools.subset:2983 -> meta NOT subset; don't know how to subset; dropped\n"
     ]
    },
    {
     "data": {
      "application/vnd.jupyter.widget-view+json": {
       "model_id": "6e5d54f1f80b45a99cda821f7abf6283",
       "version_major": 2,
       "version_minor": 0
      },
      "image/png": "[encoded data removed]",
      "text/html": [
       "\n",
       "            <div style=\"display: inline-block;\">\n",
       "                <div class=\"jupyter-widgets widget-label\" style=\"text-align: center;\">\n",
       "                    Figure\n",
       "                </div>\n",
       "                <img src='data:image/png;base64,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' width=150.0/>\n",
       "            </div>\n",
       "        "
      ],
      "text/plain": [
       "Canvas(toolbar=Toolbar(toolitems=[('Home', 'Reset original view', 'home', 'home'), ('Back', 'Back to previous …"
      ]
     },
     "metadata": {},
     "output_type": "display_data"
    }
   ],
   "source": [
    "\n",
    "df = df[df['AMF_free'].isin([\"dens_AMF\",\"dens_free\"])]\n",
    "width = 1.5\n",
    "height = 1\n",
    "fig,ax = plt.subplots(figsize=(width,height))\n",
    "category_order = ['dens_AMF', 'dens_free']\n",
    "sns.boxplot(x='AMF_free', y = \"density\",data=df, ax=ax, color='white', fliersize=0, order=category_order)\n",
    "# Add the individual points\n",
    "sns.stripplot(x='AMF_free', y = \"density\", data=df, ax=ax, color='purple', marker='^',size = 2, order=category_order)\n",
    "# ax.set_yscale(\"log\")\n",
    "ax.set_ylabel(\"hyphal density \\n ($\\mu m/mm^{2}$)\")\n",
    "ax.set_xticklabels(['AMF','Free \\n Living'])\n",
    "\n",
    "# Remove x-label\n",
    "ax.set_xlabel('')\n",
    "ax.set_yscale(\"log\")\n",
    "plt.savefig(os.path.join(path_figure,'FigureS4Brebutal_freeliving.pdf'), transparent=True, bbox_inches='tight')"
   ]
  },
  {
   "cell_type": "code",
   "execution_count": 17,
   "id": "2e8ebe4f-c134-4338-8a20-e506f76d884c",
   "metadata": {},
   "outputs": [
    {
     "data": {
      "text/plain": [
       "array([\"'C2'\", \"'A5'\", \"'Agg'\", \"'A5sp3'\"], dtype=object)"
      ]
     },
     "execution_count": 17,
     "metadata": {},
     "output_type": "execute_result"
    }
   ],
   "source": [
    "time_plate_info['strain'].unique()"
   ]
  },
  {
   "cell_type": "code",
   "execution_count": 18,
   "id": "c4f01239-8108-42fa-8030-275fda55197c",
   "metadata": {},
   "outputs": [
    {
     "name": "stdout",
     "output_type": "stream",
     "text": [
      "1023_20220502\n",
      "1045_20220504\n",
      "1053_20220413\n",
      "1076_20220511\n",
      "938_20220325\n"
     ]
    }
   ],
   "source": [
    "treatments = colors.keys()\n",
    "\n",
    "values_density = {strain : [] for strain in folders['strain'].unique()}\n",
    "values_density_treatment = {strain : [] for strain in treatments}\n",
    "for plate_id in plates:\n",
    "    plate  = int(plate_id.split('_')[0])\n",
    "    D = Ds[plate_id]\n",
    "    strain = folders.loc[folders['Plate']==plate].iloc[0]['strain']\n",
    "    medium = folders.loc[folders['Plate']==plate].iloc[0]['medium']\n",
    "    treatment = strain+medium\n",
    "    values_density[strain].append(D)\n",
    "    values_density_treatment[treatment].append(D)\n",
    "\n",
    "for plate_id in plates:\n",
    "    plate  = int(plate_id.split('_')[0])\n",
    "    D = Ds[plate_id]\n",
    "    strain = folders.loc[folders['Plate']==plate].iloc[0]['strain']\n",
    "    medium = folders.loc[folders['Plate']==plate].iloc[0]['medium']\n",
    "    if medium in [\"'001P100N200C-T'\",\"'001P100N200C'\"]:\n",
    "        print(plate_id)\n",
    "    treatment = strain+medium\n",
    "\n",
    "values_density_treatment[\"'A5''001P100N100C'\"] += values_density_treatment[\"'A5''001P100N'\"]+values_density_treatment[\"'A5sp3''001P100N100C'\"]\n",
    "values_density_treatment[\"'A5''001P100N200C'\"] += values_density_treatment[\"'A5''001P100N200C-T'\"]\n",
    "values_density_treatment[\"'Agg''001P100N100C'\"] += values_density_treatment[\"'Agg''001P100N200C'\"]\n",
    "strains = list(values_density.keys())\n",
    "strains.remove(\"'A5sp3'\")\n",
    "colors_strain = {\"'A5'\" : 'orange',\"'C2'\" : 'blue',\"'Agg'\":'black'}\n",
    "treatments_real=[\"'A5''001P100N100C'\",\"'A5''001P100N200C'\",\"'C2''001P100N100C'\",\"'C2''001P100N200C'\",\"'Agg''001P100N100C'\"]"
   ]
  },
  {
   "cell_type": "code",
   "execution_count": 19,
   "id": "a996d3ce-de84-4d23-b29d-67b3a3362eb1",
   "metadata": {},
   "outputs": [],
   "source": [
    "values_density_treatment_clean = {}\n",
    "treatments_select=[\"'A5''001P100N100C'\",\"'A5''001P100N200C'\",\"'C2''001P100N100C'\",\"'C2''001P100N200C'\"]\n",
    "for treatment in treatments_select:\n",
    "    values_density_treatment_clean[treatment]=values_density_treatment[treatment]"
   ]
  },
  {
   "cell_type": "code",
   "execution_count": 20,
   "id": "669ed9f1-1709-4491-af6b-9fe3b5c6de7b",
   "metadata": {
    "tags": []
   },
   "outputs": [
    {
     "name": "stdout",
     "output_type": "stream",
     "text": [
      "2024-05-16 14:20:51,772-[WARNING]- fontTools.subset:2983 -> meta NOT subset; don't know how to subset; dropped\n"
     ]
    },
    {
     "data": {
      "application/vnd.jupyter.widget-view+json": {
       "model_id": "eede9ce4271b4c37babeca11fea017ea",
       "version_major": 2,
       "version_minor": 0
      },
      "image/png": "[encoded data removed]",
      "text/html": [
       "\n",
       "            <div style=\"display: inline-block;\">\n",
       "                <div class=\"jupyter-widgets widget-label\" style=\"text-align: center;\">\n",
       "                    Figure\n",
       "                </div>\n",
       "                <img src='data:image/png;base64,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' width=150.0/>\n",
       "            </div>\n",
       "        "
      ],
      "text/plain": [
       "Canvas(toolbar=Toolbar(toolitems=[('Home', 'Reset original view', 'home', 'home'), ('Back', 'Back to previous …"
      ]
     },
     "metadata": {},
     "output_type": "display_data"
    }
   ],
   "source": [
    "df = pd.DataFrame.from_dict(values_density_treatment_clean, orient='index').transpose()\n",
    "\n",
    "# Melt the DataFrame for plotting\n",
    "df_melted = df.melt(var_name='Category', value_name='Value').dropna()\n",
    "width = 1.5\n",
    "height = 1\n",
    "fig,ax = plt.subplots(figsize=(width,height))\n",
    "sns.boxplot(x='Category', y = \"Value\",data=df_melted, ax=ax, color='white', fliersize=0,palette = colors)\n",
    "# Add the individual points\n",
    "sns.stripplot(x='Category', y = \"Value\", data=df_melted, ax=ax, color='green', marker='^',size = 2)\n",
    "# ax.set_yscale(\"log\")\n",
    "ax.set_ylabel(\"hyphal density \\n ($\\mu m/mm^{2}$)\")\n",
    "ax.set_xticklabels(['A5 \\n 100C', 'A5 \\n 200C','C2 \\n 100C', 'C2 \\n 200C'])\n",
    "\n",
    "# Remove x-label\n",
    "ax.set_xlabel('')\n",
    "plt.savefig(os.path.join(path_figure,'FigureS4C.pdf'), transparent=True, bbox_inches='tight')"
   ]
  },
  {
   "cell_type": "code",
   "execution_count": 21,
   "id": "1e7e5257-8deb-4111-880e-276f804afdde",
   "metadata": {},
   "outputs": [
    {
     "name": "stdout",
     "output_type": "stream",
     "text": [
      "2024-05-16 14:20:52,948-[WARNING]- fontTools.subset:2983 -> meta NOT subset; don't know how to subset; dropped\n"
     ]
    },
    {
     "data": {
      "application/vnd.jupyter.widget-view+json": {
       "model_id": "ec4f5ac12edf426093be68cf02974576",
       "version_major": 2,
       "version_minor": 0
      },
      "image/png": "[encoded data removed]",
      "text/html": [
       "\n",
       "            <div style=\"display: inline-block;\">\n",
       "                <div class=\"jupyter-widgets widget-label\" style=\"text-align: center;\">\n",
       "                    Figure\n",
       "                </div>\n",
       "                <img src='data:image/png;base64,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' width=75.0/>\n",
       "            </div>\n",
       "        "
      ],
      "text/plain": [
       "Canvas(toolbar=Toolbar(toolitems=[('Home', 'Reset original view', 'home', 'home'), ('Back', 'Back to previous …"
      ]
     },
     "metadata": {},
     "output_type": "display_data"
    }
   ],
   "source": [
    "df = pd.DataFrame.from_dict(values_density_treatment_clean, orient='index').transpose()\n",
    "\n",
    "# Melt the DataFrame for plotting\n",
    "df_melted = df.melt(var_name='Category', value_name='Value').dropna()\n",
    "df_melted = df_melted[df_melted[\"Category\"].isin([\"'A5''001P100N100C'\", \"'A5''001P100N200C'\"])]\n",
    "\n",
    "width = 0.75\n",
    "height = 1\n",
    "fig,ax = plt.subplots(figsize=(width,height))\n",
    "sns.boxplot(x='Category', y = \"Value\",data=df_melted, ax=ax, color='white', fliersize=0,palette = colors)\n",
    "# Add the individual points\n",
    "sns.stripplot(x='Category', y = \"Value\", data=df_melted, ax=ax, color='green', marker='^',size = 2)\n",
    "# ax.set_yscale(\"log\")\n",
    "ax.set_ylabel(\"hyphal density \\n ($\\mu m/mm^{2}$)\")\n",
    "ax.set_xticklabels(['A5 \\n 100C', 'A5 \\n 200C'])\n",
    "ax.set_ylim(0,4000)\n",
    "\n",
    "# Remove x-label\n",
    "ax.set_xlabel('')\n",
    "plt.savefig(os.path.join(path_figure,'FigureS4_density_A5.pdf'), transparent=True, bbox_inches='tight')"
   ]
  },
  {
   "cell_type": "code",
   "execution_count": 22,
   "id": "a5431416-afed-4e73-92cb-e31cec2274b4",
   "metadata": {
    "tags": []
   },
   "outputs": [
    {
     "data": {
      "text/html": [
       "<div>\n",
       "<style scoped>\n",
       "    .dataframe tbody tr th:only-of-type {\n",
       "        vertical-align: middle;\n",
       "    }\n",
       "\n",
       "    .dataframe tbody tr th {\n",
       "        vertical-align: top;\n",
       "    }\n",
       "\n",
       "    .dataframe thead th {\n",
       "        text-align: right;\n",
       "    }\n",
       "</style>\n",
       "<table border=\"1\" class=\"dataframe\">\n",
       "  <thead>\n",
       "    <tr style=\"text-align: right;\">\n",
       "      <th></th>\n",
       "      <th>'A5''001P100N100C'</th>\n",
       "      <th>'A5''001P100N200C'</th>\n",
       "      <th>'C2''001P100N100C'</th>\n",
       "      <th>'C2''001P100N200C'</th>\n",
       "    </tr>\n",
       "  </thead>\n",
       "  <tbody>\n",
       "    <tr>\n",
       "      <th>0</th>\n",
       "      <td>692.463106</td>\n",
       "      <td>1054.170619</td>\n",
       "      <td>1689.200984</td>\n",
       "      <td>1844.259048</td>\n",
       "    </tr>\n",
       "    <tr>\n",
       "      <th>1</th>\n",
       "      <td>940.763634</td>\n",
       "      <td>559.082062</td>\n",
       "      <td>1898.785755</td>\n",
       "      <td>995.879673</td>\n",
       "    </tr>\n",
       "    <tr>\n",
       "      <th>2</th>\n",
       "      <td>1201.323016</td>\n",
       "      <td>NaN</td>\n",
       "      <td>1960.167160</td>\n",
       "      <td>2411.827563</td>\n",
       "    </tr>\n",
       "    <tr>\n",
       "      <th>3</th>\n",
       "      <td>2069.965807</td>\n",
       "      <td>NaN</td>\n",
       "      <td>2158.914827</td>\n",
       "      <td>NaN</td>\n",
       "    </tr>\n",
       "    <tr>\n",
       "      <th>4</th>\n",
       "      <td>1121.689484</td>\n",
       "      <td>NaN</td>\n",
       "      <td>3510.235088</td>\n",
       "      <td>NaN</td>\n",
       "    </tr>\n",
       "    <tr>\n",
       "      <th>5</th>\n",
       "      <td>1029.597245</td>\n",
       "      <td>NaN</td>\n",
       "      <td>NaN</td>\n",
       "      <td>NaN</td>\n",
       "    </tr>\n",
       "    <tr>\n",
       "      <th>6</th>\n",
       "      <td>1176.332262</td>\n",
       "      <td>NaN</td>\n",
       "      <td>NaN</td>\n",
       "      <td>NaN</td>\n",
       "    </tr>\n",
       "    <tr>\n",
       "      <th>7</th>\n",
       "      <td>1313.577284</td>\n",
       "      <td>NaN</td>\n",
       "      <td>NaN</td>\n",
       "      <td>NaN</td>\n",
       "    </tr>\n",
       "    <tr>\n",
       "      <th>8</th>\n",
       "      <td>899.553409</td>\n",
       "      <td>NaN</td>\n",
       "      <td>NaN</td>\n",
       "      <td>NaN</td>\n",
       "    </tr>\n",
       "    <tr>\n",
       "      <th>9</th>\n",
       "      <td>1107.981848</td>\n",
       "      <td>NaN</td>\n",
       "      <td>NaN</td>\n",
       "      <td>NaN</td>\n",
       "    </tr>\n",
       "  </tbody>\n",
       "</table>\n",
       "</div>"
      ],
      "text/plain": [
       "   'A5''001P100N100C'  'A5''001P100N200C'  'C2''001P100N100C'  \\\n",
       "0          692.463106         1054.170619         1689.200984   \n",
       "1          940.763634          559.082062         1898.785755   \n",
       "2         1201.323016                 NaN         1960.167160   \n",
       "3         2069.965807                 NaN         2158.914827   \n",
       "4         1121.689484                 NaN         3510.235088   \n",
       "5         1029.597245                 NaN                 NaN   \n",
       "6         1176.332262                 NaN                 NaN   \n",
       "7         1313.577284                 NaN                 NaN   \n",
       "8          899.553409                 NaN                 NaN   \n",
       "9         1107.981848                 NaN                 NaN   \n",
       "\n",
       "   'C2''001P100N200C'  \n",
       "0         1844.259048  \n",
       "1          995.879673  \n",
       "2         2411.827563  \n",
       "3                 NaN  \n",
       "4                 NaN  \n",
       "5                 NaN  \n",
       "6                 NaN  \n",
       "7                 NaN  \n",
       "8                 NaN  \n",
       "9                 NaN  "
      ]
     },
     "execution_count": 22,
     "metadata": {},
     "output_type": "execute_result"
    }
   ],
   "source": [
    "df"
   ]
  },
  {
   "cell_type": "code",
   "execution_count": 23,
   "id": "ba786c5c-deb8-4a6b-aa45-603b7af1c2e2",
   "metadata": {},
   "outputs": [
    {
     "name": "stdout",
     "output_type": "stream",
     "text": [
      "2024-05-16 14:20:54,003-[WARNING]- fontTools.subset:2983 -> meta NOT subset; don't know how to subset; dropped\n"
     ]
    },
    {
     "data": {
      "application/vnd.jupyter.widget-view+json": {
       "model_id": "c67faa990e5d49c1927a06fad115eafc",
       "version_major": 2,
       "version_minor": 0
      },
      "image/png": "[encoded data removed]",
      "text/html": [
       "\n",
       "            <div style=\"display: inline-block;\">\n",
       "                <div class=\"jupyter-widgets widget-label\" style=\"text-align: center;\">\n",
       "                    Figure\n",
       "                </div>\n",
       "                <img src='data:image/png;base64,iVBORw0KGgoAAAANSUhEUgAAAEsAAABkCAYAAADOtM0JAAAAOXRFWHRTb2Z0d2FyZQBNYXRwbG90bGliIHZlcnNpb24zLjYuMCwgaHR0cHM6Ly9tYXRwbG90bGliLm9yZy89olMNAAAACXBIWXMAAA9hAAAPYQGoP6dpAAAIa0lEQVR4nO2dX0xTWR7Hv5RC2wEL3YFsrNQozDgZ0J0VwyJCTGjICOsaExw3EDcYJiazcbP6MGk2QSL0QcjEGHzSCSRjsr6hwZhRFwaNGUxmdx8gkhDNZBeC3FqzRb3Tlk7vKS1nH/Si0D/3nnLbwng+L+Se/u75nfu9t+ee8zu/HrIopRQcVegy3YCNBBeLAS4WA1wsBrhYDHCxGOBiMcDFYkBnt9tRW1uL27dvZ7ot6587d+7QYDBIGxoaKCcx+rq6OhiNRpjNZoiiCIvFskLMpaUlzM7OIicnB0ajEQaDIUO3NbUQQiBJEhYXF7Ft2zbodNE9lD4/Px8AkJeXh4WFhSix3G43ysrK0tLg9YIgCCgpKYkq1wcCAeTn5yMQCGDTpk1RBnLZo0ePUFRUxPRk+Xw+2Gw2CIIAs9mcfOsZSNYnIQTPnz9HeXl5TB0AQD82Nga73Y6XL1+isLAwyiArKwsAsGXLFuYLNhgM6OrqQnFxcdq+vmvxKdvL1xxFQ0MD3bNnD71x40bMTs3r9VIA1Ov1prc3zQBK16ofHR1d2618h+CDUga4WAxwsRhIqVgD4wOprD7tpEysiWcT+OLWF5h4NpEqF2knZWL1j/fDusmK/vH+VLlIO/pUVfz1H75OVdUZg3fwDHCxGOBiMcDFYoCHlRnQORwO3Lt3DxcvXsx0W9Y9utVh5Xj4fD4QQtLYtPRCCIHP50too1sdVo6HzWZDb2+vpg1cT/T29sJmsyU28vv9lFJKm5ubqSiKcQNigiBQSZJSGXvLKJIkUUEQEgb/dGNjY5AkKW5YWcZsNv9iV3aAVyFlpbC5rq+vD3V1dTh9+nSamrVx4WFlBviglAEuFgNcLAa4WAxwsRjgYjGQsrByqgkGg5iZmYkqJ4Tgm4ff4PPffh5zEF1aWgqTyZSUzw0r1szMDJqbm6PKJYuEucY5fNv/LYyiMerzoaEhVFRUJOVzw4pVWlqKoaGhqPIv738Jt+DGx3/6GBfqL8Q8L2mUJpgbLYtmamqK7tixg05NTTGfq5hFwyqu2+2OinsRQuByuVaUfff8O3xa9GnCukpKSqL6FYvFAqvVytqstKC32+0ghKCjowMHDx5MaOx2u3HgQBNCISmhnVK/kYjcXCNGRv6xQrBYNyge09PTK/6qQe0N0jscDtTX1+PQoUOKYomiiFBIQjj8N1D6dqAsBOB/b+xK/47sn/0QS7ej6F9tCWr8NYDc5aOsLAHAVxBFcbnxbrcbjQcaQUJsUVqHw6Ha1pBrwPDIMORAaDwUs5VjQakNlH64qvTNG+b9f9rxvmyrusmxEUURJETwifcT5EcSXwwARBBBMDsIU8SEbGQr2i9kL2CyYBKiKCqLpZStLOPz+eD3+18fCYiXdrninA/vwPyf3ysbLiMAQMxYf34kHwXhAnXVhBlcviYUCinG4BWzlWVsNhuOHTsGAMjJ+UrRuWSR8KJmDnneIRhFI34q+wmF04WqGu5yuVBZWanKVisGBgZw+fLlhDaK2coygiDA7/fjs8/+iHA4pOjc+4EX+qAe3g+8wH8Bz+88ML40Knb4en0udu7cuXwsP2UL2fEXUxLxY/mP+OjRR3E/l+tta2tDR0dHwkULfV9fH86ePYvOzs6ETs1mM0pKSjA6OsL0ZnI4HNj+1+0gPxNU/6UaXZVdCc9Z/WaShySTBZOqfL6NZJEwVz8HF3Ep3iSPx4Py8vKENsxhZavVyjwOulB/IekphvxLB7Ud/Nv88Jsf8F7gPZhsJuyb3hfTRu7gY/2iYjWaTHdiTWqvz1zHbrobQPwxj5pJrTxoZergX9N0t0m1rZqVK03EWj2plQelW4e3wghj3DHPWia1mUATsVZPap0TTpBnBFV/rkLbr9piTmvk8zYSmohlMplWPCGDFYNaVLvu4JFSBrhYDGyY4J/aQWkyc0O1rHuxLBYLDLmGpAalajHkGlQFENa9WFarFcMjw8yzhvPnz6v+ubI8a1CcSKuqLcMkM2soKyvTfAzHO3gGdC9evADPWFaH7tKlS+AZy+rQjY+PQ23G8ruO3u/3Q01o2efzwWAwrJu80njL95f//SrayRrpUJParZdDykqhZZvNhq6uLnR3dytcRnqItXy/HO2wbGWOdPT29sLpdCb0mdXd3U2rqqpgt9vR1NSE+/fvrzDw+XwoKCiAIAhp3cxCiVhPlnPCie/d32N33m707OthSgwhhGB+fh42mw1erzd25vL8/DxNtBHGRlu+XwuKy/dFRUXgGcvq4INSBrhYDHCxGOBiMcDFYoCLxQAXiwEuFgNcLAa4WAxwsRjQEUJw+PBh1NbWYmDgl7U5mNboBgcH0djYiAcPHuDatWuQpMRp2+8yy2FlnU6HXbt24fHjx5pVTghBd3d3WjfPSKXPmGHlt6Gv/y3P06dPQQhh3i7Y6XTixIkTad0uOBmf8nbBwJtrXs1yWBkAAoFAlAM5nVsp3zIRijtxpIC1+PT7/SgoiM4y1FdWVmJsbAwVFRV4+PAhzp07t8LAarVienr6ndriPN7qd1YwGKStra1wuVxob2/HyZMn09zMjUMWjfcF5UTBB6UMaCbWlStXsH//ftTU1KCjowMAMDk5ibq6OlRXV+Pq1ataucqcXy2WkMbHx2lLSwuNRCKUUkrb29vprVu36JEjR+js7CwNh8N07969WrjKqF9NxDpz5gy9e/fu8vHCwgJdXFykHo+HUkppOBymNTU1WrjKqF9Nktk8Hs+K121eXh4AoLi4GADQ2dmJlpYWLVxl1K8mfdbmzZshCMLy8ZMnTzA5+SoHtKenBx6PB6dOndLCVWb9avF4TkxM0KNHj9JIJEKXlpbo8ePH6c2bN+n169dpa2vrcp+iNen2+39/jAL6EIu0TwAAAABJRU5ErkJggg==' width=75.0/>\n",
       "            </div>\n",
       "        "
      ],
      "text/plain": [
       "Canvas(toolbar=Toolbar(toolitems=[('Home', 'Reset original view', 'home', 'home'), ('Back', 'Back to previous …"
      ]
     },
     "metadata": {},
     "output_type": "display_data"
    }
   ],
   "source": [
    "df = pd.DataFrame.from_dict(values_density_treatment_clean, orient='index').transpose()\n",
    "colors[\"'C2''001P100N100C'\"] = \"blue\"\n",
    "colors[\"'C2''001P100N200C'\"] = \"purple\"\n",
    "\n",
    "# Melt the DataFrame for plotting\n",
    "df_melted = df.melt(var_name='Category', value_name='Value').dropna()\n",
    "df_melted = df_melted[df_melted[\"Category\"].isin([\"'C2''001P100N100C'\", \"'C2''001P100N200C'\"])]\n",
    "\n",
    "width = 0.75\n",
    "height = 1\n",
    "fig,ax = plt.subplots(figsize=(width,height))\n",
    "sns.boxplot(x='Category', y = \"Value\",data=df_melted, ax=ax, color='white', fliersize=0,palette = colors)\n",
    "# Add the individual points\n",
    "sns.stripplot(x='Category', y = \"Value\", data=df_melted, ax=ax, color='green', marker='^',size = 2)\n",
    "# ax.set_yscale(\"log\")\n",
    "# ax.set_ylabel(\"hyphal density \\n ($\\mu m/mm^{2}$)\")\n",
    "ax.set_ylabel(\"\")\n",
    "\n",
    "ax.set_xticklabels(['C2 \\n 100C', 'C2 \\n 200C'])\n",
    "ax.set_ylim(0,4000)\n",
    "\n",
    "# Remove x-label\n",
    "ax.set_xlabel('')\n",
    "plt.savefig(os.path.join(path_figure,'FigureS4_density_C2.pdf'), transparent=True, bbox_inches='tight')"
   ]
  },
  {
   "cell_type": "code",
   "execution_count": 24,
   "id": "60f8016c-8217-4679-8978-247636141def",
   "metadata": {},
   "outputs": [],
   "source": [
    "data_myr = pd.read_csv('myristate.csv')\n",
    "data_myr = data_myr[data_myr[\"medium\"]==\"'0.5Myr'\"]\n",
    "time_plate_info[\"density\"] = time_plate_info[\"tot_length_study\"]/time_plate_info[\"area_sep_comp\"]\n",
    "Ds={}\n",
    "for plate in plates:\n",
    "    select = time_plate_info.loc[time_plate_info[\"unique_id\"] == int(plate)]\n",
    "    if select['strain'].iloc[0]  in [\"'C2'\",\"'A5'\"]:\n",
    "        Ds[plate] = select[\"density\"].iloc[timestep[int(plate.split('_')[0])]]\n",
    "import matplotlib.pyplot as plt\n",
    "import seaborn as sns\n",
    "labels = [\"dens_AMF\"] * len(list(Ds.values()))+[\"dens_free\"] * len(data)+['Myr'] * len(data_myr)\n",
    "labels += ['control']*len(data_control)\n",
    "values = [D for D in Ds.values()]+[D*1000 for D in data]+data_myr['density'].to_list()\n",
    "values += data_control['density'].to_list()\n",
    "df = pd.DataFrame({\"density\":values,\"AMF_free\" : labels},columns = [\"density\",\"AMF_free\"])\n",
    "# fig, ax = plt.subplots()\n",
    "# Create the boxplot\n"
   ]
  },
  {
   "cell_type": "code",
   "execution_count": 25,
   "id": "0c7811f1-2b66-48cc-9f95-9b97a84346e0",
   "metadata": {},
   "outputs": [
    {
     "data": {
      "text/html": [
       "<div>\n",
       "<style scoped>\n",
       "    .dataframe tbody tr th:only-of-type {\n",
       "        vertical-align: middle;\n",
       "    }\n",
       "\n",
       "    .dataframe tbody tr th {\n",
       "        vertical-align: top;\n",
       "    }\n",
       "\n",
       "    .dataframe thead th {\n",
       "        text-align: right;\n",
       "    }\n",
       "</style>\n",
       "<table border=\"1\" class=\"dataframe\">\n",
       "  <thead>\n",
       "    <tr style=\"text-align: right;\">\n",
       "      <th></th>\n",
       "      <th>Unnamed: 0</th>\n",
       "      <th>strain</th>\n",
       "      <th>density</th>\n",
       "      <th>medium</th>\n",
       "    </tr>\n",
       "  </thead>\n",
       "  <tbody>\n",
       "    <tr>\n",
       "      <th>1</th>\n",
       "      <td>60_20230508</td>\n",
       "      <td>'A5'</td>\n",
       "      <td>1802.811251</td>\n",
       "      <td>'0.5Myr'</td>\n",
       "    </tr>\n",
       "    <tr>\n",
       "      <th>2</th>\n",
       "      <td>68_20230501</td>\n",
       "      <td>'C2'</td>\n",
       "      <td>1998.771968</td>\n",
       "      <td>'0.5Myr'</td>\n",
       "    </tr>\n",
       "    <tr>\n",
       "      <th>3</th>\n",
       "      <td>14_20230301</td>\n",
       "      <td>'A5'</td>\n",
       "      <td>1180.272646</td>\n",
       "      <td>'0.5Myr'</td>\n",
       "    </tr>\n",
       "    <tr>\n",
       "      <th>4</th>\n",
       "      <td>58_20230511</td>\n",
       "      <td>'A5'</td>\n",
       "      <td>2069.195584</td>\n",
       "      <td>'0.5Myr'</td>\n",
       "    </tr>\n",
       "    <tr>\n",
       "      <th>8</th>\n",
       "      <td>46_20230221</td>\n",
       "      <td>'C2'</td>\n",
       "      <td>1628.316632</td>\n",
       "      <td>'0.5Myr'</td>\n",
       "    </tr>\n",
       "  </tbody>\n",
       "</table>\n",
       "</div>"
      ],
      "text/plain": [
       "    Unnamed: 0 strain      density    medium\n",
       "1  60_20230508   'A5'  1802.811251  '0.5Myr'\n",
       "2  68_20230501   'C2'  1998.771968  '0.5Myr'\n",
       "3  14_20230301   'A5'  1180.272646  '0.5Myr'\n",
       "4  58_20230511   'A5'  2069.195584  '0.5Myr'\n",
       "8  46_20230221   'C2'  1628.316632  '0.5Myr'"
      ]
     },
     "execution_count": 25,
     "metadata": {},
     "output_type": "execute_result"
    }
   ],
   "source": [
    "data_myr"
   ]
  },
  {
   "cell_type": "code",
   "execution_count": 26,
   "id": "fbd406f9-ea95-4433-860c-e74a5833843f",
   "metadata": {
    "tags": []
   },
   "outputs": [
    {
     "name": "stdout",
     "output_type": "stream",
     "text": [
      "2024-05-16 14:20:55,439-[WARNING]- fontTools.subset:2983 -> meta NOT subset; don't know how to subset; dropped\n"
     ]
    },
    {
     "data": {
      "application/vnd.jupyter.widget-view+json": {
       "model_id": "dc2dd1a0ed12429caa6943c47f7b9de4",
       "version_major": 2,
       "version_minor": 0
      },
      "image/png": "[encoded data removed]",
      "text/html": [
       "\n",
       "            <div style=\"display: inline-block;\">\n",
       "                <div class=\"jupyter-widgets widget-label\" style=\"text-align: center;\">\n",
       "                    Figure\n",
       "                </div>\n",
       "                <img src='data:image/png;base64,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' width=150.0/>\n",
       "            </div>\n",
       "        "
      ],
      "text/plain": [
       "Canvas(toolbar=Toolbar(toolitems=[('Home', 'Reset original view', 'home', 'home'), ('Back', 'Back to previous …"
      ]
     },
     "metadata": {},
     "output_type": "display_data"
    }
   ],
   "source": [
    "width = 1.5\n",
    "height = 1\n",
    "df = df[df['AMF_free'].isin([\"dens_AMF\",\"Myr\"])]\n",
    "colors = {\"dens_AMF\" : \"cyan\",\"Myr\":\"yellow\"}\n",
    "fig,ax = plt.subplots(figsize=(width,height))\n",
    "sns.boxplot(x='AMF_free', y = \"density\",data=df, ax=ax, fliersize=0,palette=colors)\n",
    "# Add the individual points\n",
    "sns.stripplot(x='AMF_free', y = \"density\", data=df, ax=ax, color='green', marker='^',size = 2)\n",
    "# ax.set_yscale(\"log\")\n",
    "ax.set_ylabel(\"hyphal density \\n ($\\mu m/mm^{2}$)\")\n",
    "ax.set_xticklabels(['Symbiotic', 'Myr'])\n",
    "ax.set_ylim(0,4000)\n",
    "\n",
    "# Remove x-label\n",
    "ax.set_xlabel('')\n",
    "plt.savefig(os.path.join(path_figure,'FigureS4Brebutal_Myr.pdf'), transparent=True, bbox_inches='tight')"
   ]
  },
  {
   "cell_type": "code",
   "execution_count": 27,
   "id": "54c75c90-de4c-45cc-87b0-9a5487c53448",
   "metadata": {
    "tags": []
   },
   "outputs": [
    {
     "data": {
      "text/plain": [
       "(2              31/01/2024\n",
       " 3              31/01/2024\n",
       " 5              31/01/2024\n",
       " 9     2024-01-02 00:00:00\n",
       " 12    2024-02-02 00:00:00\n",
       " 13    2024-02-02 00:00:00\n",
       " 14    2024-05-02 00:00:00\n",
       " 17             13/02/2024\n",
       " 20             13/02/2024\n",
       " 23             13/02/2024\n",
       " 24             13/02/2024\n",
       " 28             14/02/2024\n",
       " 29             14/02/2024\n",
       " 30             14/02/2024\n",
       " 31             14/02/2024\n",
       " 34             22/02/2024\n",
       " 38             23/02/2024\n",
       " 39             23/02/2024\n",
       " 40             23/02/2024\n",
       " 41             23/02/2024\n",
       " 46             28/02/2024\n",
       " 47             29/02/2024\n",
       " 48             29/02/2024\n",
       " 49    2024-04-03 00:00:00\n",
       " 50    2024-04-03 00:00:00\n",
       " 52    2024-08-03 00:00:00\n",
       " 56    2024-03-11 00:00:00\n",
       " 57    2024-03-12 00:00:00\n",
       " Name: harvest, dtype: object,\n",
       " 2    2024-01-02\n",
       " 3    2024-01-02\n",
       " 5    2024-01-02\n",
       " 9    2023-12-30\n",
       " 12   2024-01-04\n",
       " 13   2024-01-04\n",
       " 14   2024-01-04\n",
       " 17   2024-01-09\n",
       " 20   2024-01-08\n",
       " 23   2024-01-08\n",
       " 24   2024-01-11\n",
       " 28   2024-01-11\n",
       " 29          NaT\n",
       " 30          NaT\n",
       " 31          NaT\n",
       " 34   2024-01-16\n",
       " 38   2024-01-18\n",
       " 39   2024-01-18\n",
       " 40   2024-01-16\n",
       " 41   2024-01-16\n",
       " 46   2024-01-22\n",
       " 47   2024-01-26\n",
       " 48   2024-01-29\n",
       " 49   2024-01-29\n",
       " 50   2024-01-29\n",
       " 52   2024-02-02\n",
       " 56   2024-02-02\n",
       " 57   2024-02-09\n",
       " Name: crossed, dtype: datetime64[ns])"
      ]
     },
     "execution_count": 27,
     "metadata": {},
     "output_type": "execute_result"
    }
   ],
   "source": [
    "harvest_root = pd.read_excel(\"harvest_data.xlsx\")\n",
    "select = harvest_root[harvest_root['fungus']=='C2']\n",
    "select['harvest'],select['crossed']"
   ]
  },
  {
   "cell_type": "code",
   "execution_count": 28,
   "id": "ebe818ba-9e50-43e6-b191-db940aae1252",
   "metadata": {},
   "outputs": [
    {
     "data": {
      "text/plain": [
       "Index(['#', 'treatment', 'Root', 'fungus', 'start', 'crossed', 'harvest',\n",
       "       'days until harvest', 'fresh root [g]', 'dry root [mg]', 'agar root[g]',\n",
       "       'agar fungus [g]'],\n",
       "      dtype='object')"
      ]
     },
     "execution_count": 28,
     "metadata": {},
     "output_type": "execute_result"
    }
   ],
   "source": [
    "select.columns"
   ]
  },
  {
   "cell_type": "code",
   "execution_count": 29,
   "id": "f9eafc52-a6e1-4bff-a9a4-715ad8586f90",
   "metadata": {},
   "outputs": [
    {
     "data": {
      "text/plain": [
       "array(['CarrotEN', 'CarrotToby', nan], dtype=object)"
      ]
     },
     "execution_count": 29,
     "metadata": {},
     "output_type": "execute_result"
    }
   ],
   "source": [
    "harvest_root['Root'].unique()"
   ]
  },
  {
   "cell_type": "code",
   "execution_count": 30,
   "id": "9c8ae512-b753-4ba7-92a8-39bc49293824",
   "metadata": {},
   "outputs": [
    {
     "name": "stdout",
     "output_type": "stream",
     "text": [
      "2024-05-16 14:20:57,476-[WARNING]- fontTools.subset:2983 -> meta NOT subset; don't know how to subset; dropped\n"
     ]
    },
    {
     "data": {
      "application/vnd.jupyter.widget-view+json": {
       "model_id": "4b1d2688ab3346f7825e7da701dfa20c",
       "version_major": 2,
       "version_minor": 0
      },
      "image/png": "[encoded data removed]",
      "text/html": [
       "\n",
       "            <div style=\"display: inline-block;\">\n",
       "                <div class=\"jupyter-widgets widget-label\" style=\"text-align: center;\">\n",
       "                    Figure\n",
       "                </div>\n",
       "                <img src='data:image/png;base64,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' width=150.0/>\n",
       "            </div>\n",
       "        "
      ],
      "text/plain": [
       "Canvas(toolbar=Toolbar(toolitems=[('Home', 'Reset original view', 'home', 'home'), ('Back', 'Back to previous …"
      ]
     },
     "metadata": {},
     "output_type": "display_data"
    }
   ],
   "source": [
    "width = 1.5\n",
    "height = 1\n",
    "harvest_root = pd.read_excel(\"harvest_data.xlsx\")\n",
    "harvest_root['dry_root'] = harvest_root['dry root [mg]']*1000\n",
    "category_order = ['CarrotToby', 'CarrotEN']\n",
    "\n",
    "select = harvest_root[harvest_root['fungus']=='C2']\n",
    "fig,ax = plt.subplots(figsize=(width,height))\n",
    "sns.boxplot(x='Root', y = 'dry_root',data=select, ax=ax, fliersize=0,order = category_order)\n",
    "# Add the individual points\n",
    "sns.stripplot(x='Root', y = 'dry_root', data=select, ax=ax, color='green', marker='^',size = 2,order = category_order)\n",
    "ax.set_xlabel(\"\")\n",
    "ax.set_xticklabels(['genotype 1', 'genotype 2'])\n",
    "ax.set_ylabel(\"root dry weight \\n ($mg$)\")\n",
    "ax.set_ylim(25,155)\n",
    "\n",
    "plt.savefig(os.path.join(path_figure,'FigureS4Brebutal_Root.pdf'), transparent=True, bbox_inches='tight')"
   ]
  },
  {
   "cell_type": "code",
   "execution_count": 32,
   "id": "7b90720f-c783-4be9-b0f1-2a678143e3e6",
   "metadata": {},
   "outputs": [
    {
     "name": "stdout",
     "output_type": "stream",
     "text": [
      "2024-05-16 14:20:59,196-[WARNING]- fontTools.subset:2983 -> meta NOT subset; don't know how to subset; dropped\n"
     ]
    },
    {
     "data": {
      "application/vnd.jupyter.widget-view+json": {
       "model_id": "",
       "version_major": 2,
       "version_minor": 0
      },
      "image/png": "[encoded data removed]",
      "text/html": [
       "\n",
       "            <div style=\"display: inline-block;\">\n",
       "                <div class=\"jupyter-widgets widget-label\" style=\"text-align: center;\">\n",
       "                    Figure\n",
       "                </div>\n",
       "                <img src='data:image/png;base64,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' width=75.0/>\n",
       "            </div>\n",
       "        "
      ],
      "text/plain": [
       "Canvas(toolbar=Toolbar(toolitems=[('Home', 'Reset original view', 'home', 'home'), ('Back', 'Back to previous …"
      ]
     },
     "metadata": {},
     "output_type": "display_data"
    }
   ],
   "source": [
    "import seaborn as sns\n",
    "\n",
    "colors = {\n",
    "    '100CC2': 'blue',\n",
    "    '200CC2': 'purple'\n",
    "}\n",
    "treatment_order = list(colors.keys())\n",
    "select=data_harvest[data_harvest['treatment'].isin(colors.keys())]\n",
    "\n",
    "\n",
    "width = 0.75\n",
    "height = 1\n",
    "fig,ax = plt.subplots(figsize=(width,height))\n",
    "sns.boxplot(x='treatment', y = \"dry root [mg]\",data=select, ax=ax, color='white', fliersize=0,palette = colors, order=treatment_order)\n",
    "# Add the individual points\n",
    "sns.stripplot(x='treatment', y = \"dry root [mg]\", data=select, ax=ax, color='green', marker='^',size = 2, order=treatment_order)\n",
    "# ax.set_yscale(\"log\")\n",
    "ax.set_ylabel(\"root dry weight \\n ($mg$)\")\n",
    "ax.set_xticklabels(['C2 \\n 100C', 'C2 \\n 200C'])\n",
    "\n",
    "# Remove x-label\n",
    "ax.set_xlabel('')\n",
    "ax.set_ylabel('')\n",
    "ax.set_ylim(25,155)\n",
    "\n",
    "# plt.savefig(os.path.join(path_figure,'FigureS4_root_weight_C2.pdf'), transparent=True, bbox_inches='tight')"
   ]
  },
  {
   "cell_type": "code",
   "execution_count": 33,
   "id": "b3a8111d-7eb6-4712-9eee-17cb2db691c6",
   "metadata": {},
   "outputs": [
    {
     "ename": "KeyError",
     "evalue": "\"'A5''001P100N100C'\"",
     "output_type": "error",
     "traceback": [
      "\u001b[1;31m---------------------------------------------------------------------------\u001b[0m",
      "\u001b[1;31mKeyError\u001b[0m                                  Traceback (most recent call last)",
      "Input \u001b[1;32mIn [33]\u001b[0m, in \u001b[0;36m<cell line: 9>\u001b[1;34m()\u001b[0m\n\u001b[0;32m      7\u001b[0m height \u001b[38;5;241m=\u001b[39m \u001b[38;5;241m1\u001b[39m\n\u001b[0;32m      8\u001b[0m fig,ax \u001b[38;5;241m=\u001b[39m plt\u001b[38;5;241m.\u001b[39msubplots(figsize\u001b[38;5;241m=\u001b[39m(width,height))\n\u001b[1;32m----> 9\u001b[0m \u001b[43msns\u001b[49m\u001b[38;5;241;43m.\u001b[39;49m\u001b[43mboxplot\u001b[49m\u001b[43m(\u001b[49m\u001b[43mx\u001b[49m\u001b[38;5;241;43m=\u001b[39;49m\u001b[38;5;124;43m'\u001b[39;49m\u001b[38;5;124;43mCategory\u001b[39;49m\u001b[38;5;124;43m'\u001b[39;49m\u001b[43m,\u001b[49m\u001b[43m \u001b[49m\u001b[43my\u001b[49m\u001b[43m \u001b[49m\u001b[38;5;241;43m=\u001b[39;49m\u001b[43m \u001b[49m\u001b[38;5;124;43m\"\u001b[39;49m\u001b[38;5;124;43mValue\u001b[39;49m\u001b[38;5;124;43m\"\u001b[39;49m\u001b[43m,\u001b[49m\u001b[43mdata\u001b[49m\u001b[38;5;241;43m=\u001b[39;49m\u001b[43mdf_melted\u001b[49m\u001b[43m,\u001b[49m\u001b[43m \u001b[49m\u001b[43max\u001b[49m\u001b[38;5;241;43m=\u001b[39;49m\u001b[43max\u001b[49m\u001b[43m,\u001b[49m\u001b[43m \u001b[49m\u001b[43mcolor\u001b[49m\u001b[38;5;241;43m=\u001b[39;49m\u001b[38;5;124;43m'\u001b[39;49m\u001b[38;5;124;43mwhite\u001b[39;49m\u001b[38;5;124;43m'\u001b[39;49m\u001b[43m,\u001b[49m\u001b[43m \u001b[49m\u001b[43mfliersize\u001b[49m\u001b[38;5;241;43m=\u001b[39;49m\u001b[38;5;241;43m0\u001b[39;49m\u001b[43m,\u001b[49m\u001b[43mpalette\u001b[49m\u001b[43m \u001b[49m\u001b[38;5;241;43m=\u001b[39;49m\u001b[43m \u001b[49m\u001b[43mcolors\u001b[49m\u001b[43m)\u001b[49m\n\u001b[0;32m     10\u001b[0m \u001b[38;5;66;03m# Add the individual points\u001b[39;00m\n\u001b[0;32m     11\u001b[0m sns\u001b[38;5;241m.\u001b[39mstripplot(x\u001b[38;5;241m=\u001b[39m\u001b[38;5;124m'\u001b[39m\u001b[38;5;124mCategory\u001b[39m\u001b[38;5;124m'\u001b[39m, y \u001b[38;5;241m=\u001b[39m \u001b[38;5;124m\"\u001b[39m\u001b[38;5;124mValue\u001b[39m\u001b[38;5;124m\"\u001b[39m, data\u001b[38;5;241m=\u001b[39mdf_melted, ax\u001b[38;5;241m=\u001b[39max, color\u001b[38;5;241m=\u001b[39m\u001b[38;5;124m'\u001b[39m\u001b[38;5;124mgreen\u001b[39m\u001b[38;5;124m'\u001b[39m, marker\u001b[38;5;241m=\u001b[39m\u001b[38;5;124m'\u001b[39m\u001b[38;5;124m^\u001b[39m\u001b[38;5;124m'\u001b[39m,size \u001b[38;5;241m=\u001b[39m \u001b[38;5;241m2\u001b[39m)\n",
      "File \u001b[1;32m~\\anaconda3\\envs\\amftrack\\lib\\site-packages\\seaborn\\categorical.py:2231\u001b[0m, in \u001b[0;36mboxplot\u001b[1;34m(data, x, y, hue, order, hue_order, orient, color, palette, saturation, width, dodge, fliersize, linewidth, whis, ax, **kwargs)\u001b[0m\n\u001b[0;32m   2224\u001b[0m \u001b[38;5;28;01mdef\u001b[39;00m \u001b[38;5;21mboxplot\u001b[39m(\n\u001b[0;32m   2225\u001b[0m     data\u001b[38;5;241m=\u001b[39m\u001b[38;5;28;01mNone\u001b[39;00m, \u001b[38;5;241m*\u001b[39m, x\u001b[38;5;241m=\u001b[39m\u001b[38;5;28;01mNone\u001b[39;00m, y\u001b[38;5;241m=\u001b[39m\u001b[38;5;28;01mNone\u001b[39;00m, hue\u001b[38;5;241m=\u001b[39m\u001b[38;5;28;01mNone\u001b[39;00m, order\u001b[38;5;241m=\u001b[39m\u001b[38;5;28;01mNone\u001b[39;00m, hue_order\u001b[38;5;241m=\u001b[39m\u001b[38;5;28;01mNone\u001b[39;00m,\n\u001b[0;32m   2226\u001b[0m     orient\u001b[38;5;241m=\u001b[39m\u001b[38;5;28;01mNone\u001b[39;00m, color\u001b[38;5;241m=\u001b[39m\u001b[38;5;28;01mNone\u001b[39;00m, palette\u001b[38;5;241m=\u001b[39m\u001b[38;5;28;01mNone\u001b[39;00m, saturation\u001b[38;5;241m=\u001b[39m\u001b[38;5;241m.75\u001b[39m, width\u001b[38;5;241m=\u001b[39m\u001b[38;5;241m.8\u001b[39m,\n\u001b[0;32m   2227\u001b[0m     dodge\u001b[38;5;241m=\u001b[39m\u001b[38;5;28;01mTrue\u001b[39;00m, fliersize\u001b[38;5;241m=\u001b[39m\u001b[38;5;241m5\u001b[39m, linewidth\u001b[38;5;241m=\u001b[39m\u001b[38;5;28;01mNone\u001b[39;00m, whis\u001b[38;5;241m=\u001b[39m\u001b[38;5;241m1.5\u001b[39m, ax\u001b[38;5;241m=\u001b[39m\u001b[38;5;28;01mNone\u001b[39;00m,\n\u001b[0;32m   2228\u001b[0m     \u001b[38;5;241m*\u001b[39m\u001b[38;5;241m*\u001b[39mkwargs\n\u001b[0;32m   2229\u001b[0m ):\n\u001b[1;32m-> 2231\u001b[0m     plotter \u001b[38;5;241m=\u001b[39m \u001b[43m_BoxPlotter\u001b[49m\u001b[43m(\u001b[49m\u001b[43mx\u001b[49m\u001b[43m,\u001b[49m\u001b[43m \u001b[49m\u001b[43my\u001b[49m\u001b[43m,\u001b[49m\u001b[43m \u001b[49m\u001b[43mhue\u001b[49m\u001b[43m,\u001b[49m\u001b[43m \u001b[49m\u001b[43mdata\u001b[49m\u001b[43m,\u001b[49m\u001b[43m \u001b[49m\u001b[43morder\u001b[49m\u001b[43m,\u001b[49m\u001b[43m \u001b[49m\u001b[43mhue_order\u001b[49m\u001b[43m,\u001b[49m\n\u001b[0;32m   2232\u001b[0m \u001b[43m                          \u001b[49m\u001b[43morient\u001b[49m\u001b[43m,\u001b[49m\u001b[43m \u001b[49m\u001b[43mcolor\u001b[49m\u001b[43m,\u001b[49m\u001b[43m \u001b[49m\u001b[43mpalette\u001b[49m\u001b[43m,\u001b[49m\u001b[43m \u001b[49m\u001b[43msaturation\u001b[49m\u001b[43m,\u001b[49m\n\u001b[0;32m   2233\u001b[0m \u001b[43m                          \u001b[49m\u001b[43mwidth\u001b[49m\u001b[43m,\u001b[49m\u001b[43m \u001b[49m\u001b[43mdodge\u001b[49m\u001b[43m,\u001b[49m\u001b[43m \u001b[49m\u001b[43mfliersize\u001b[49m\u001b[43m,\u001b[49m\u001b[43m \u001b[49m\u001b[43mlinewidth\u001b[49m\u001b[43m)\u001b[49m\n\u001b[0;32m   2235\u001b[0m     \u001b[38;5;28;01mif\u001b[39;00m ax \u001b[38;5;129;01mis\u001b[39;00m \u001b[38;5;28;01mNone\u001b[39;00m:\n\u001b[0;32m   2236\u001b[0m         ax \u001b[38;5;241m=\u001b[39m plt\u001b[38;5;241m.\u001b[39mgca()\n",
      "File \u001b[1;32m~\\anaconda3\\envs\\amftrack\\lib\\site-packages\\seaborn\\categorical.py:786\u001b[0m, in \u001b[0;36m_BoxPlotter.__init__\u001b[1;34m(self, x, y, hue, data, order, hue_order, orient, color, palette, saturation, width, dodge, fliersize, linewidth)\u001b[0m\n\u001b[0;32m    781\u001b[0m \u001b[38;5;28;01mdef\u001b[39;00m \u001b[38;5;21m__init__\u001b[39m(\u001b[38;5;28mself\u001b[39m, x, y, hue, data, order, hue_order,\n\u001b[0;32m    782\u001b[0m              orient, color, palette, saturation,\n\u001b[0;32m    783\u001b[0m              width, dodge, fliersize, linewidth):\n\u001b[0;32m    785\u001b[0m     \u001b[38;5;28mself\u001b[39m\u001b[38;5;241m.\u001b[39mestablish_variables(x, y, hue, data, orient, order, hue_order)\n\u001b[1;32m--> 786\u001b[0m     \u001b[38;5;28;43mself\u001b[39;49m\u001b[38;5;241;43m.\u001b[39;49m\u001b[43mestablish_colors\u001b[49m\u001b[43m(\u001b[49m\u001b[43mcolor\u001b[49m\u001b[43m,\u001b[49m\u001b[43m \u001b[49m\u001b[43mpalette\u001b[49m\u001b[43m,\u001b[49m\u001b[43m \u001b[49m\u001b[43msaturation\u001b[49m\u001b[43m)\u001b[49m\n\u001b[0;32m    788\u001b[0m     \u001b[38;5;28mself\u001b[39m\u001b[38;5;241m.\u001b[39mdodge \u001b[38;5;241m=\u001b[39m dodge\n\u001b[0;32m    789\u001b[0m     \u001b[38;5;28mself\u001b[39m\u001b[38;5;241m.\u001b[39mwidth \u001b[38;5;241m=\u001b[39m width\n",
      "File \u001b[1;32m~\\anaconda3\\envs\\amftrack\\lib\\site-packages\\seaborn\\categorical.py:694\u001b[0m, in \u001b[0;36m_CategoricalPlotter.establish_colors\u001b[1;34m(self, color, palette, saturation)\u001b[0m\n\u001b[0;32m    692\u001b[0m         \u001b[38;5;28;01melse\u001b[39;00m:\n\u001b[0;32m    693\u001b[0m             levels \u001b[38;5;241m=\u001b[39m \u001b[38;5;28mself\u001b[39m\u001b[38;5;241m.\u001b[39mhue_names\n\u001b[1;32m--> 694\u001b[0m         palette \u001b[38;5;241m=\u001b[39m [palette[l] \u001b[38;5;28;01mfor\u001b[39;00m l \u001b[38;5;129;01min\u001b[39;00m levels]\n\u001b[0;32m    696\u001b[0m     colors \u001b[38;5;241m=\u001b[39m color_palette(palette, n_colors)\n\u001b[0;32m    698\u001b[0m \u001b[38;5;66;03m# Desaturate a bit because these are patches\u001b[39;00m\n",
      "File \u001b[1;32m~\\anaconda3\\envs\\amftrack\\lib\\site-packages\\seaborn\\categorical.py:694\u001b[0m, in \u001b[0;36m<listcomp>\u001b[1;34m(.0)\u001b[0m\n\u001b[0;32m    692\u001b[0m         \u001b[38;5;28;01melse\u001b[39;00m:\n\u001b[0;32m    693\u001b[0m             levels \u001b[38;5;241m=\u001b[39m \u001b[38;5;28mself\u001b[39m\u001b[38;5;241m.\u001b[39mhue_names\n\u001b[1;32m--> 694\u001b[0m         palette \u001b[38;5;241m=\u001b[39m [\u001b[43mpalette\u001b[49m\u001b[43m[\u001b[49m\u001b[43ml\u001b[49m\u001b[43m]\u001b[49m \u001b[38;5;28;01mfor\u001b[39;00m l \u001b[38;5;129;01min\u001b[39;00m levels]\n\u001b[0;32m    696\u001b[0m     colors \u001b[38;5;241m=\u001b[39m color_palette(palette, n_colors)\n\u001b[0;32m    698\u001b[0m \u001b[38;5;66;03m# Desaturate a bit because these are patches\u001b[39;00m\n",
      "\u001b[1;31mKeyError\u001b[0m: \"'A5''001P100N100C'\""
     ]
    },
    {
     "data": {
      "application/vnd.jupyter.widget-view+json": {
       "model_id": "c45f02b0b9a548eeaf4325679564a107",
       "version_major": 2,
       "version_minor": 0
      },
      "image/png": "[encoded data removed]",
      "text/html": [
       "\n",
       "            <div style=\"display: inline-block;\">\n",
       "                <div class=\"jupyter-widgets widget-label\" style=\"text-align: center;\">\n",
       "                    Figure\n",
       "                </div>\n",
       "                <img src='data:image/png;base64,iVBORw0KGgoAAAANSUhEUgAAAEsAAABkCAYAAADOtM0JAAAAOXRFWHRTb2Z0d2FyZQBNYXRwbG90bGliIHZlcnNpb24zLjYuMCwgaHR0cHM6Ly9tYXRwbG90bGliLm9yZy89olMNAAAACXBIWXMAAA9hAAAPYQGoP6dpAAAE80lEQVR4nO2dPUvzbBiGz4aKFmsFoS5SCCoIgoMOWniKVvxYVBQEf4G4CQoiOGjVpWBxcXBRED/+gJugk0tFEFyqqGgL3fwYGi1tLPZ+B2l939Y0vSBN9XmvY8vNTXLdR2NMr5xGixBCgCkKqdwF/CZYFgGWRYBlEWBZBFgWAZZFgGURkILBILq6utDb24twOFzuen42Q0ND4uXlRYRCITE1NSUYbayJRAJ1dXWoq6vD3d1dnsx0Oo1IJIKKigpUVVWhsrKyDB9p6VFVFclkEqlUCrIsQ5Lyr1DWdDqd3RDffE2MRCJoamoqaaE/jfv7ezQ2NuaNWy0WS3bjO5sVFRUAgPPzc8iybMqZpSgKXC4XotEoHA5HyY8HfJ5ZkUgEnZ2d2TXnYrXZbHh+fsbj4yNkWc6bUFVVBQCQZRlOp7OU9WaprKyEz+eD0+ksy499Zs15BINB0dXVJdxut7i7u8u7qMViMQFAxGIx86+oJqO3Vqvb7cbZ2ZmZH9yvhW9KCbAsAiyLAMsiwLIIsCwCLIsAyyLAsgiwLAIsi4C0sbGBjo4OeL1eBAKBctfzo7FeXV3h8PAQLper3LX8eKSbmxtMT09jcHAQDw8PmhMVRYGqqiaWZi6qqkJRlMKT1tfXxevrq7i8vBTj4+OaPR4AwufzlbijVD58Pl92nVr9LCiKkt3wer15EzKyotGoSCaTJSu23CSTSRGNRgvKknp6epBKpXB7e4v6+nrNM9DhcPy1T3aAz1a2Xr/fOjc3B4/HA5vNhu3tbZNK+51YhCgck1QUBbW1tYjFYqY9aSkXemvlm1ICLIsAyyLAsgiwLAIsiwDLIsCyCLAsAiyLAMsiwGllCnppZQ6zfaGbVma+kPTSyhm4Bw9IemnlDC6XC36/37Difhp+v1/3CZduWjlDNBo1La1cDhYWFjA5OVlQmHVxcRHDw8OwWCzY39/XnMg9eIDTygT4ppQAyyLAsgiwLAIsiwDLIsCyCLAsAiyLAMsiwLIIcFqZAKeVCRSdVmYAaWRkBAcHBwgEApifn9ecyG1loOi0MjjaLdDe3i7e39/Fzc2NmJiYyJvA0e4vik4rc1uZ08r/gdPKBsKyCLAsAiyLAMsiwLIIsCwCLIsAyyLAsgiwLAKcVqbAaeUv9NYqZdLKra2t36aVM91RM7ukqqpieXnZ9M6s3lp1362cTCYBfL5jGYBprwteWVnB5OSk6a8LBr7WnIvuu5VTqRQAoLOz0/gKdSjXE6fMmnPRTSvLsoz7+/v/3SvOv8MSDAbFzMxMNq3c3NxsbpW/CN22MvMF35QSyJOlqipGR0fx588fbG1t6Y4bgda+FUVBQ0MDvF4v+vr6DD3mvxkfH8/+JixUD3JvvPb29sTm5qb4+PgQAwMDIpFIFBw3Aq19B4NBsbq6athxclFVVYyNjYmGhgYRDod168k7sy4uLuDxeCBJEtra2nB9fV1w3Ai09h0KhXB0dITu7m7s7OwYdrwMqqpidnYW/f39RdWTJ+v19RV2ux0AUF1djbe3t4LjRqC1b1mWsba2hpOTE+zu7uLp6cmwYwJATU0Nuru7i67HmjvRbrcjHo8DAOLxePYOWmvcCLT27Xa7YbPZIEkS3G43wuGwKX+ZplVP3pnV0dGB09NTCCFweXmJlpaWguNGoLXvpaUlHB8fI51O4+LiwrR/aaNVzz/nVP8A9ojwEAAAAABJRU5ErkJggg==' width=75.0/>\n",
       "            </div>\n",
       "        "
      ],
      "text/plain": [
       "Canvas(toolbar=Toolbar(toolitems=[('Home', 'Reset original view', 'home', 'home'), ('Back', 'Back to previous …"
      ]
     },
     "metadata": {},
     "output_type": "display_data"
    }
   ],
   "source": [
    "df = pd.DataFrame.from_dict(values_density_treatment_clean, orient='index').transpose()\n",
    "\n",
    "# Melt the DataFrame for plotting\n",
    "df_melted = df.melt(var_name='Category', value_name='Value').dropna()\n",
    "df_melted = df_melted[df_melted[\"Category\"].isin([\"'A5''001P100N100C'\", \"'A5''001P100N200C'\"])]\n",
    "width = 0.75\n",
    "height = 1\n",
    "fig,ax = plt.subplots(figsize=(width,height))\n",
    "sns.boxplot(x='Category', y = \"Value\",data=df_melted, ax=ax, color='white', fliersize=0,palette = colors)\n",
    "# Add the individual points\n",
    "sns.stripplot(x='Category', y = \"Value\", data=df_melted, ax=ax, color='green', marker='^',size = 2)\n",
    "# ax.set_yscale(\"log\")\n",
    "ax.set_ylabel(\"hyphal density \\n ($\\mu m/mm^{2}$)\")\n",
    "ax.set_xticklabels(['C2 \\n 100C', 'C2 \\n 200C'])\n",
    "\n",
    "# Remove x-label\n",
    "ax.set_xlabel('')\n",
    "plt.savefig(os.path.join(path_figure,'FigureS4C.pdf'), transparent=True, bbox_inches='tight')"
   ]
  },
  {
   "cell_type": "code",
   "execution_count": null,
   "id": "53fcc8ba-33dd-4485-b954-399053188262",
   "metadata": {},
   "outputs": [],
   "source": [
    "dvda"
   ]
  },
  {
   "cell_type": "code",
   "execution_count": null,
   "id": "3208a3ee-75ba-47bd-9ce7-82d205897a95",
   "metadata": {},
   "outputs": [],
   "source": [
    "labels = values_density_treatment.values\n",
    "values = [D for D in Ds.values()]+[D*1000 for D in data]\n",
    "df = pd.DataFrame({\"density\":values,\"AMF_free\" : labels},columns = [\"density\",\"AMF_free\"])"
   ]
  },
  {
   "cell_type": "code",
   "execution_count": null,
   "id": "30611acd-013c-4109-878e-173c028eca52",
   "metadata": {
    "tags": []
   },
   "outputs": [],
   "source": [
    "import pandas as pd\n",
    "data = pd.read_csv(\"hannah_data.csv\")\n",
    "data[\"density\"] = data[\"tot_length\"]/data[\"area_sep_comp\"]"
   ]
  },
  {
   "cell_type": "code",
   "execution_count": null,
   "id": "17a01599-2218-4cc4-9dd6-9fac635f0209",
   "metadata": {},
   "outputs": [],
   "source": [
    "data['medium'].unique()"
   ]
  },
  {
   "cell_type": "code",
   "execution_count": null,
   "id": "43acbb54-5b98-4db7-bcb9-f36b98cd4a6e",
   "metadata": {},
   "outputs": [],
   "source": [
    "# fig,ax = plt.subplots(figsize=(width,height))\n",
    "fig,ax = plt.subplots()\n",
    "\n",
    "select1 = data.loc[data[\"medium\"]==\"'1Myr'\"]\n",
    "select2 = data.loc[data[\"medium\"]==\"'0.5Myr'\"]\n",
    "\n",
    "data_plot = [select1[\"density\"],select2[\"density\"],values_density[\"'C2'\"]]\n",
    "# ax.boxplot(select[\"density\"],positions=0)\n",
    "ax.boxplot(data_plot,labels=['Myristate 100%','Myristate 50%','symbiotic'])\n",
    "ax.set_ylim(0,4000)\n",
    "ax.set_ylabel('density ($\\mu m .mm^{-2}$)')"
   ]
  },
  {
   "cell_type": "code",
   "execution_count": null,
   "id": "ff01fd54-f71e-40af-9ea9-3208f71b8f89",
   "metadata": {},
   "outputs": [],
   "source": [
    "folders, time_hypha_info = get_time_hypha_info_from_analysis(analysis_folders,False)"
   ]
  },
  {
   "cell_type": "code",
   "execution_count": null,
   "id": "6499dce6-c25d-4ba0-b512-3b599aaf7cdc",
   "metadata": {},
   "outputs": [],
   "source": [
    "hyphae_hull[t+1]"
   ]
  },
  {
   "cell_type": "code",
   "execution_count": null,
   "id": "90fee88b-a3b6-4047-82e3-0944a069c3d9",
   "metadata": {},
   "outputs": [],
   "source": [
    "len(hyphae_hull)"
   ]
  },
  {
   "cell_type": "code",
   "execution_count": null,
   "id": "d217a85e-2cc7-45f6-ac23-5f99dd95ebbf",
   "metadata": {},
   "outputs": [],
   "source": [
    "len(time_hypha_plate['timestep'].unique())-2"
   ]
  },
  {
   "cell_type": "code",
   "execution_count": null,
   "id": "87d513e2-673a-4b07-9d88-6f078b557b91",
   "metadata": {
    "tags": []
   },
   "outputs": [],
   "source": [
    "ncols = 3\n",
    "fig,axs = gridplot(len(plate_select),ncols = ncols,subh = 5,subw = 7)\n",
    "ax_list = list(axs)\n",
    "min_time = {plate_id : 0 for plate_id in plates}\n",
    "max_time = {plate_id : 100 for plate_id in plates}\n",
    "min_time['799_20211001'] = 100\n",
    "max_time['799_20211001'] = 200\n",
    "hull_speeds_dic = {}\n",
    "hull_time_dic = {}\n",
    "datas = {}\n",
    "dys = {}\n",
    "for j in range(len(plates)):\n",
    "    plate_id=plates[j]\n",
    "    plate  = int(plate_id.split('_')[0])\n",
    "    ax = ax_list[j]\n",
    "    hull_speeds = []\n",
    "    hull_time = []\n",
    "    time_hypha_plate = time_hypha_info.loc[time_hypha_info['unique_id']==int(plate_id)]\n",
    "    data,dy,select_movements = get_average_time_data(int(plate_id),time_hypha_plate,2)\n",
    "    hyphae_hull = get_hyphae_hull(plate_id,analysis_folders)\n",
    "    if len(hyphae_hull)>0:\n",
    "        label = 'hull pusher'\n",
    "        for t in range(1,min(len(time_hypha_plate['timestep'].unique()),len(hyphae_hull))-1):\n",
    "            select = time_hypha_plate.loc[time_hypha_plate['timestep']==t]\n",
    "            select = select.loc[select['end'].isin(hyphae_hull[t-1]) |select['end'].isin(hyphae_hull[t]) |select['end'].isin(hyphae_hull[t+1])]\n",
    "            select = select.loc[select['speed'].between(150,350)]\n",
    "            if len(select)>0:\n",
    "                time = select['time_since_begin_h'].iloc[0]\n",
    "                if time/pd.Timedelta(hours = 1)<=max_time[plate_id] and time/pd.Timedelta(hours = 1)>=min_time[plate_id]:\n",
    "                    ax.scatter(select['time_since_begin_h'].iloc[0]/pd.Timedelta(hours = 1),np.mean(select[\"speed\"]),color='black')\n",
    "                    ax.errorbar(select['time_since_begin_h'].iloc[0]/pd.Timedelta(hours = 1),np.mean(select[\"speed\"]),np.std(select[\"speed\"])/np.sqrt(len(select)),color='black',label=label)\n",
    "                    label = None\n",
    "                    hull_speeds.append(np.mean(select[\"speed\"]))\n",
    "                    hull_time.append(select['time_since_begin_h'].iloc[0]/pd.Timedelta(hours = 1))\n",
    "\n",
    "                select = time_hypha_plate.loc[time_hypha_plate['timestep']==t]\n",
    "                # select = select.loc[select['end'].isin(hyphae_hull[t-1]) |select['end'].isin(hyphae_hull[t]) |select['end'].isin(hyphae_hull[t+1])]\n",
    "        # ax.plot(data.index/pd.Timedelta(hours = 1),data)\n",
    "        ax.errorbar(data.index/pd.Timedelta(hours = 1),data, yerr=dy,label='average')\n",
    "        ax.set_xlim(0,150)\n",
    "        ax.set_ylim(100,350)\n",
    "\n",
    "        ax.legend()\n",
    "        # ax.set_title(f'{plate}')\n",
    "        ax.set_xlabel('time since begin (h)')\n",
    "        ax.set_ylabel('speed ($\\mu m.h^{-1}$)')\n",
    "            # break\n",
    "        ax.set_xlim(0,100)\n",
    "        plt.tight_layout()\n",
    "        if len(hull_speeds)>0:\n",
    "            ax.plot(hull_time,[np.mean(hull_speeds)]*len(hull_time),\n",
    "                    color=\"black\",\n",
    "                    label= f'mean hull pusher speed {int(np.nanmean(hull_speeds))}$\\pm${int(2*np.nanstd(hull_speeds)/np.sqrt(len(hull_speeds)))} $\\mu m.h^{-1}$')\n",
    "            ax.legend()\n",
    "    datas[plate] = data\n",
    "    dys[plate] = dy\n",
    "    hull_speeds_dic[plate] = hull_speeds\n",
    "    hull_time_dic[plate] = hull_time\n",
    "    ax.patch.set_facecolor(get_color(plate,folders))\n",
    "    ax.patch.set_alpha(0.1)\n",
    "    ax.set_title(plate)\n",
    "    plt.tight_layout()\n",
    "\n",
    "    # break\n",
    "# plt.savefig(f'Figure/FigureS2C.svg')"
   ]
  },
  {
   "cell_type": "code",
   "execution_count": null,
   "id": "2015981e-1ecc-4443-b244-d5d0c43dbaa0",
   "metadata": {
    "tags": []
   },
   "outputs": [],
   "source": [
    "hull_speed_dic_2 = {3: [187.5272095738,\n",
    "  175.8880961916,\n",
    "  181.0341688969,\n",
    "  186.93168098243333,\n",
    "  191.20227389895,\n",
    "  200.151785636225,\n",
    "  197.03390571885,\n",
    "  183.8596080696333,\n",
    "  220.0785906361,\n",
    "  193.5472222209,\n",
    "  203.90255775383332,\n",
    "  216.15471250925,\n",
    "  201.71558800575002,\n",
    "  203.78559251068,\n",
    "  187.74800241684,\n",
    "  191.3043379626,\n",
    "  190.99610155506664,\n",
    "  200.220691956475,\n",
    "  201.7919715434,\n",
    "  196.48124808875,\n",
    "  199.59267017509998,\n",
    "  194.38776232415998,\n",
    "  201.4108019739,\n",
    "  220.7887397636,\n",
    "  199.52873507308,\n",
    "  219.80392558901667,\n",
    "  204.9772465131286,\n",
    "  200.75727733894288,\n",
    "  184.0716493695286,\n",
    "  200.01963397248,\n",
    "  218.76978298031432,\n",
    "  189.3932908502833,\n",
    "  204.2273679813167,\n",
    "  188.81763924319998,\n",
    "  189.30456274916665,\n",
    "  187.92222574483998,\n",
    "  186.08405482630002,\n",
    "  180.54020222479,\n",
    "  178.19950072155999,\n",
    "  176.84910749079998,\n",
    "  165.7283943066,\n",
    "  172.98658784319093,\n",
    "  176.44311387806667,\n",
    "  190.4048545989125,\n",
    "  175.7023517568143,\n",
    "  190.46532827753748,\n",
    "  181.25242388838333,\n",
    "  183.53538413808002,\n",
    "  184.53853569693334,\n",
    "  193.22252831292855,\n",
    "  188.49064407336664,\n",
    "  185.46116467068336,\n",
    "  187.6166071737167,\n",
    "  182.3470483986167,\n",
    "  204.30941706255717,\n",
    "  193.81934117998333,\n",
    "  188.59148689813333,\n",
    "  195.02211043721664,\n",
    "  179.88368141398,\n",
    "  194.07421399112854,\n",
    "  182.14362677243997,\n",
    "  170.9908806483714,\n",
    "  191.45287470920002,\n",
    "  183.37757507208576,\n",
    "  171.9545156620167,\n",
    "  192.4543028770857,\n",
    "  184.49500615604285,\n",
    "  191.46725077211667,\n",
    "  192.36904019417145,\n",
    "  193.62682133153336,\n",
    "  175.53802982145717,\n",
    "  188.0863949616286,\n",
    "  180.12141667857142,\n",
    "  187.28172324741428,\n",
    "  181.60144766208572,\n",
    "  185.43814573725,\n",
    "  189.527605742925,\n",
    "  178.4818561070667,\n",
    "  195.53408071565,\n",
    "  174.85956289874,\n",
    "  197.40510907336,\n",
    "  182.83915195499998,\n",
    "  173.420118290625,\n",
    "  191.54000324235],\n",
    " 12: [198.6853476312,\n",
    "  160.4918799908,\n",
    "  174.1542885161,\n",
    "  160.65849745415,\n",
    "  230.5720566053,\n",
    "  171.9497242666,\n",
    "  167.7386797884,\n",
    "  167.11751438625,\n",
    "  152.5396537334,\n",
    "  158.6911151325,\n",
    "  178.7427778047,\n",
    "  257.6106142144,\n",
    "  169.3189831924,\n",
    "  196.36391566355002,\n",
    "  163.731916355975,\n",
    "  157.0894702901,\n",
    "  157.99242702225,\n",
    "  213.97606983433332,\n",
    "  178.71638159876,\n",
    "  192.4547479352333,\n",
    "  191.81526565175,\n",
    "  184.0321298596,\n",
    "  172.39138541813335,\n",
    "  182.5217769237286,\n",
    "  163.05902132816666,\n",
    "  174.963728515775,\n",
    "  169.7159254829,\n",
    "  175.32195440056668,\n",
    "  174.93056348754445,\n",
    "  176.23047879406667,\n",
    "  196.43829651278335,\n",
    "  181.96753166567498,\n",
    "  178.805291547,\n",
    "  182.091890780725,\n",
    "  178.231673748575,\n",
    "  195.6945776387,\n",
    "  174.59983601188333,\n",
    "  187.42470198303332,\n",
    "  176.02449642708575,\n",
    "  183.0742753422,\n",
    "  183.31289537034,\n",
    "  200.43547710798336,\n",
    "  176.1169568588,\n",
    "  166.341069235475,\n",
    "  189.04098852826002,\n",
    "  173.88569296413334,\n",
    "  177.845237570925,\n",
    "  177.63877908665,\n",
    "  183.310768098025],\n",
    " 16: [159.73416544429998,\n",
    "  151.538686697,\n",
    "  179.11980348950001,\n",
    "  170.6687144131,\n",
    "  229.61468212776666,\n",
    "  225.19739735369998,\n",
    "  171.40774601729996,\n",
    "  155.5628689247,\n",
    "  180.13230107335002,\n",
    "  181.681121595225,\n",
    "  194.16335058355557,\n",
    "  174.1093442442625,\n",
    "  185.61224055929,\n",
    "  184.36525121699998,\n",
    "  203.76331744441816,\n",
    "  201.60902379528574,\n",
    "  211.84873784038334,\n",
    "  207.21653768051996,\n",
    "  188.1001049662,\n",
    "  174.20930442436665,\n",
    "  192.0674656263333,\n",
    "  184.27451957032,\n",
    "  175.6356039868],\n",
    " 480: [173.5635809232,\n",
    "  150.9540085865,\n",
    "  159.3134780539,\n",
    "  164.93972400835,\n",
    "  162.706523909775,\n",
    "  166.7205763489,\n",
    "  169.36771242803331,\n",
    "  169.4350713417,\n",
    "  161.9002636264,\n",
    "  150.4028416606,\n",
    "  204.3622295959,\n",
    "  200.4853894885,\n",
    "  161.1692426558,\n",
    "  162.4668112327,\n",
    "  159.8452088992,\n",
    "  195.1746129664,\n",
    "  182.89130188365,\n",
    "  182.0221317085,\n",
    "  174.624005082725,\n",
    "  187.5707324278,\n",
    "  194.81999181077998,\n",
    "  168.37949980406665,\n",
    "  170.07054372285,\n",
    "  160.53046425005,\n",
    "  157.3225213852,\n",
    "  175.0363525159,\n",
    "  175.9225109444,\n",
    "  167.797724921775,\n",
    "  183.19135980663336,\n",
    "  197.9668762364,\n",
    "  169.89112491039998,\n",
    "  178.573744361,\n",
    "  160.8826975936]}"
   ]
  },
  {
   "cell_type": "code",
   "execution_count": null,
   "id": "07fb584c-eeae-4add-b91e-5fce4d8f7739",
   "metadata": {},
   "outputs": [],
   "source": [
    "for plate in hull_speed_dic_2.keys():\n",
    "    hull_speeds_dic[plate] = hull_speed_dic_2[plate] "
   ]
  },
  {
   "cell_type": "code",
   "execution_count": null,
   "id": "ebe4a1a3-64bb-4018-8c00-94678d6eb87c",
   "metadata": {
    "tags": []
   },
   "outputs": [],
   "source": [
    "width = 1.6\n",
    "height = 1\n",
    "fig,ax = plt.subplots(figsize=(width,height))\n",
    "# plates.remove(102)\n",
    "# plates.remove(76)\n",
    "\n",
    "\n",
    "    # ax.errorbar(np.mean(Cs),np.mean(hull_speed),np.std(hull_speed)/np.sqrt(len(hull_speed)),color=colors[treatment],alpha = 0.2)    \n",
    "    \n",
    "# for treatment in treatments:\n",
    "#     patches.append(mpatches.Patch(color=colors[treatment], label=treatment))\n",
    "# ax.legend(handles=patches)\n",
    "ax.set_xlabel('saturation density ($\\mu m .mm^{-2}$)')\n",
    "ax.set_ylabel('wave speed ($\\mu m .h^{-1}$)'  ) \n",
    "treatments = colors.keys()\n",
    "# patches = []\n",
    "# for treatment in [\"'A5''001P100N100C'\",\"'A5''001P100N200C'\",\"'C2''001P100N100C'\",\"'C2''001P100N200C'\",\"'Agg''001P100N100C'\"]:\n",
    "#     print(treatment)\n",
    "#     patches.append(mpatches.Patch(color=colors[treatment], label=treatment))\n",
    "# ax.legend(handles=patches)\n",
    "values_speed = {strain : [] for strain in folders['strain'].unique()}\n",
    "values_density = {strain : [] for strain in folders['strain'].unique()}\n",
    "values_speed_treatment = {strain : [] for strain in treatments}\n",
    "values_density_treatment = {strain : [] for strain in treatments}\n",
    "for plate_id in plates:\n",
    "    plate  = int(plate_id.split('_')[0])\n",
    "    D = Ds[plate_id]\n",
    "    hull_speed = hull_speeds_dic[plate]\n",
    "    strain = folders.loc[folders['Plate']==plate].iloc[0]['strain']\n",
    "    medium = folders.loc[folders['Plate']==plate].iloc[0]['medium']\n",
    "    treatment = strain+medium\n",
    "    values_speed[strain].append(np.mean(hull_speed))\n",
    "    values_density[strain].append(D)\n",
    "    values_speed_treatment[treatment].append(np.mean(hull_speed))\n",
    "    values_density_treatment[treatment].append(D)\n",
    "\n",
    "for plate_id in plates:\n",
    "    plate  = int(plate_id.split('_')[0])\n",
    "    D = Ds[plate_id]\n",
    "    hull_speed = hull_speeds_dic[plate]\n",
    "    strain = folders.loc[folders['Plate']==plate].iloc[0]['strain']\n",
    "    medium = folders.loc[folders['Plate']==plate].iloc[0]['medium']\n",
    "    treatment = strain+medium\n",
    "    ax.scatter(D,np.mean(hull_speed),color=colors[treatment],alpha=0.2,marker ='x') \n",
    "\n",
    "values_density[\"'A5'\"] += values_density[\"'A5sp3'\"]\n",
    "values_speed[\"'A5'\"] += values_speed[\"'A5sp3'\"]\n",
    "strains = list(values_speed.keys())\n",
    "strains.remove(\"'A5sp3'\")\n",
    "colors_strain = {\"'A5'\" : 'orange',\"'C2'\" : 'blue',\"'Agg'\":'black'}\n",
    "# length_production\n",
    "# for strain in strains:\n",
    "#     print(strain,np.nanmean(values_density[strain])*np.nanmean(values_speed[strain])**2*1e-9)\n",
    "#     ax.scatter(np.nanmean(values_density[strain]),np.nanmean(values_speed[strain]),label = strain,s=400,alpha= 0.5,color = colors_strain[strain]) \n",
    "xs = [np.nanmean(values_density[strain]) for strain in strains]\n",
    "ys = [np.nanmean(values_speed[strain]) for strain in strains]\n",
    "stdxs = [2*np.nanstd(values_density[strain])/np.sqrt(len(values_density[strain])) for strain in strains]\n",
    "stdys = [2*np.nanstd(values_speed[strain])/np.sqrt(len(values_density[strain])) for strain in strains]\n",
    "\n",
    "ellipses = [Ellipse((x,ys[j]), stdxs[j], stdys[j], facecolor=colors_strain[strains[j]], edgecolor=\"white\") for j,x in enumerate(xs)]\n",
    "\n",
    "for ellipse in ellipses:\n",
    "    ax.add_artist(ellipse)\n",
    "path_figure = r\"C:\\Users\\coren\\AMOLF-SHIMIZU Dropbox\\HFSP_symbiotic-networks\\Article_TravellingWave\\Supplementary material\\FigureS4\"\n",
    "\n",
    "# plt.savefig(os.path.join(path_figure,'FigureS4A.pdf'), transparent=True, bbox_inches='tight')\n"
   ]
  },
  {
   "cell_type": "code",
   "execution_count": null,
   "id": "c16583d8-d8cc-45f2-bfa4-febfaaded99a",
   "metadata": {},
   "outputs": [],
   "source": [
    "width = 1.6\n",
    "height = 1\n",
    "fig,ax = plt.subplots(figsize=(width,height))\n",
    "# plates.remove(102)\n",
    "# plates.remove(76)\n",
    "\n",
    "\n",
    "    # ax.errorbar(np.mean(Cs),np.mean(hull_speed),np.std(hull_speed)/np.sqrt(len(hull_speed)),color=colors[treatment],alpha = 0.2)    \n",
    "    \n",
    "# for treatment in treatments:\n",
    "#     patches.append(mpatches.Patch(color=colors[treatment], label=treatment))\n",
    "# ax.legend(handles=patches)\n",
    "ax.set_ylabel('saturation density \\n ($\\mu m$ $mm^{-2}$)')\n",
    "ax.set_xlabel('wave speed ($\\mu m$ $h^{-1}$)'  ) \n",
    "treatments = colors.keys()\n",
    "# patches = []\n",
    "# for treatment in [\"'A5''001P100N100C'\",\"'A5''001P100N200C'\",\"'C2''001P100N100C'\",\"'C2''001P100N200C'\",\"'Agg''001P100N100C'\"]:\n",
    "#     print(treatment)\n",
    "#     patches.append(mpatches.Patch(color=colors[treatment], label=treatment))\n",
    "# ax.legend(handles=patches)\n",
    "values_speed = {strain : [] for strain in folders['strain'].unique()}\n",
    "values_density = {strain : [] for strain in folders['strain'].unique()}\n",
    "values_speed_treatment = {strain : [] for strain in treatments}\n",
    "values_density_treatment = {strain : [] for strain in treatments}\n",
    "for plate_id in plates:\n",
    "    plate  = int(plate_id.split('_')[0])\n",
    "    D = Ds[plate_id]\n",
    "    hull_speed = hull_speeds_dic[plate]\n",
    "    strain = folders.loc[folders['Plate']==plate].iloc[0]['strain']\n",
    "    medium = folders.loc[folders['Plate']==plate].iloc[0]['medium']\n",
    "    treatment = strain+medium\n",
    "    values_speed[strain].append(np.mean(hull_speed))\n",
    "    values_density[strain].append(D)\n",
    "    values_speed_treatment[treatment].append(np.mean(hull_speed))\n",
    "    values_density_treatment[treatment].append(D)\n",
    "\n",
    "for plate_id in plates:\n",
    "    plate  = int(plate_id.split('_')[0])\n",
    "    D = Ds[plate_id]\n",
    "    hull_speed = hull_speeds_dic[plate]\n",
    "    strain = folders.loc[folders['Plate']==plate].iloc[0]['strain']\n",
    "    medium = folders.loc[folders['Plate']==plate].iloc[0]['medium']\n",
    "    treatment = strain+medium\n",
    "    ax.scatter(np.mean(hull_speed),D,color=colors[treatment],alpha=0.2,marker ='x') \n",
    "\n",
    "values_density_treatment[\"'A5''001P100N100C'\"] += values_density_treatment[\"'A5''001P100N'\"]+values_density_treatment[\"'A5sp3''001P100N100C'\"]\n",
    "values_speed_treatment[\"'A5''001P100N100C'\"] += values_speed_treatment[\"'A5''001P100N'\"]+values_speed_treatment[\"'A5sp3''001P100N100C'\"]\n",
    "values_speed_treatment[\"'Agg''001P100N100C'\"] += values_speed_treatment[\"'Agg''001P100N200C'\"]\n",
    "values_density_treatment[\"'Agg''001P100N100C'\"] += values_density_treatment[\"'Agg''001P100N200C'\"]\n",
    "\n",
    "strains = list(values_speed.keys())\n",
    "strains.remove(\"'A5sp3'\")\n",
    "colors_strain = {\"'A5'\" : 'orange',\"'C2'\" : 'blue',\"'Agg'\":'black'}\n",
    "treatments_real=[\"'A5''001P100N100C'\",\"'A5''001P100N200C'\",\"'C2''001P100N100C'\",\"'C2''001P100N200C'\",\"'Agg''001P100N100C'\"]\n",
    "# length_production\n",
    "# for strain in strains:\n",
    "#     print(strain,np.nanmean(values_density[strain])*np.nanmean(values_speed[strain])**2*1e-9)\n",
    "#     ax.scatter(np.nanmean(values_density[strain]),np.nanmean(values_speed[strain]),label = strain,s=400,alpha= 0.5,color = colors_strain[strain]) \n",
    "xs = [np.nanmean(values_density_treatment[treatment]) for treatment in treatments_real]\n",
    "ys = [np.nanmean(values_speed_treatment[treatment]) for treatment in treatments_real]\n",
    "stdxs = [2*np.nanstd(values_density_treatment[treatment])/np.sqrt(len(values_density_treatment[treatment])) for treatment in treatments_real]\n",
    "stdys = [2*np.nanstd(values_speed_treatment[treatment])/np.sqrt(len(values_speed_treatment[treatment])) for treatment in treatments_real]\n",
    "counts = [(treatment,len(values_density_treatment[treatment])) for treatment in treatments_real]\n",
    "\n",
    "for j,treatment in enumerate(treatments_real):\n",
    "    ax.scatter(ys[j],xs[j],color=colors[treatment])\n",
    "    ax.errorbar(ys[j],xs[j], xerr=stdys[j], yerr=stdxs[j], color=colors[treatment],alpha = 0.7)\n",
    "# ellipses = [Ellipse((x,ys[j]), stdxs[j], stdys[j], facecolor=colors[treatments_real[j]], edgecolor=\"white\") for j,x in enumerate(xs)]\n",
    "\n",
    "# for ellipse in ellipses:\n",
    "#     ax.add_artist(ellipse)\n",
    "ax.set_yscale('log')\n",
    "ax.set_ylim(600,10000)\n",
    "plt.savefig(os.path.join(path_figure,'FigureS4A.pdf'), transparent=True, bbox_inches='tight')\n"
   ]
  },
  {
   "cell_type": "code",
   "execution_count": null,
   "id": "07d55131-8cb0-4735-93a0-3bca1313a752",
   "metadata": {},
   "outputs": [],
   "source": [
    "counts"
   ]
  },
  {
   "cell_type": "code",
   "execution_count": null,
   "id": "a0814e9f-1377-4285-8deb-6f510c3b3b18",
   "metadata": {},
   "outputs": [],
   "source": [
    "import itertools\n",
    "flattened_list = list(itertools.chain.from_iterable(values_density_treatment.values()))"
   ]
  },
  {
   "cell_type": "code",
   "execution_count": null,
   "id": "c472babf-425e-4648-bce5-ee976691fc13",
   "metadata": {},
   "outputs": [],
   "source": [
    "r = 2.5\n",
    "dry_ratio = 0.1\n",
    "densities = np.array(flattened_list)*np.pi*r**2*dry_ratio/10*1e-3 #densities in ug.cm**2"
   ]
  },
  {
   "cell_type": "code",
   "execution_count": null,
   "id": "9876f9ce-56f8-4692-a3a7-06363e9f2f97",
   "metadata": {},
   "outputs": [],
   "source": [
    "datatable = pd.read_csv('Fungal_trait_data.csv')\n",
    "fig,ax = plt.subplots()\n",
    "ax.boxplot([datatable['density'],densities])"
   ]
  },
  {
   "cell_type": "code",
   "execution_count": null,
   "id": "bcc32af3-0bbb-4d4a-853b-e5d287879cc9",
   "metadata": {},
   "outputs": [],
   "source": [
    "def make_stat(x0,ax):\n",
    "    def statistic(x,y):\n",
    "        X = sm.add_constant(x, prepend=False)\n",
    "        model = sm.OLS(y,X)\n",
    "        res = model.fit()\n",
    "        a,b = res.params[0],res.params[1]\n",
    "        ax.plot(x0,np.array(x0)*a+b,color = 'grey', alpha = 0.01)\n",
    "        return(a)\n",
    "    return(statistic)"
   ]
  },
  {
   "cell_type": "code",
   "execution_count": null,
   "id": "b31d9542-84bc-4565-8a26-4a6054481454",
   "metadata": {},
   "outputs": [],
   "source": [
    "plate"
   ]
  },
  {
   "cell_type": "code",
   "execution_count": null,
   "id": "e1f8f2bc-174b-4d49-a303-8f84676c4980",
   "metadata": {
    "tags": []
   },
   "outputs": [],
   "source": [
    "time_plate_info['time_since_begin'] = time_plate_info['time_since_begin']/pd.Timedelta(hours=1)"
   ]
  },
  {
   "cell_type": "code",
   "execution_count": null,
   "id": "7a7671c1-4660-4f6b-ae43-b33a965f9002",
   "metadata": {
    "tags": []
   },
   "outputs": [],
   "source": [
    "\n",
    "# plt.close('all')\n",
    "ncols = 3\n",
    "fig,axs = gridplot(len(plate_select),ncols = ncols,subh = 5,subw = 7)\n",
    "\n",
    "maxis = {plate :12 for plate in plate_select}\n",
    "maxis[94] = 13\n",
    "maxis[152] = 11\n",
    "maxis2 = {plate :12 for plate in plate_select}\n",
    "maxis2[52] = 6\n",
    "maxis2[938] = 7\n",
    "# maxis[938] = 8\n",
    "\n",
    "bbox = dict(facecolor='white', alpha = 0.7,edgecolor=\"None\")\n",
    "\n",
    "ax_list = list(axs)\n",
    "for j in range(len(plate_select)):\n",
    "    plate=plate_select[j]\n",
    "    ax = ax_list[j]\n",
    "    Cs, lambs,ds,indexes, t0s,meancurve,meancurve2 = plot_single_plate(plate,time_plate_info,timestep[plate],ax,maxi =maxis[plate])\n",
    "    meancurves[plate]=meancurve\n",
    "    meancurves2[plate]=meancurve2\n",
    "    Css[plate] = Cs\n",
    "    lambss[plate] = lambs\n",
    "    dss[plate] = ds\n",
    "    t0ss[plate] = t0s\n",
    "    axins2 = inset_axes(ax, width=\"30%\", height=\"40%\", loc=1)\n",
    "    if len(ds)>0:\n",
    "        x0 = np.linspace(np.min(ds),np.max(ds),10)\n",
    "        statistic = make_stat(x0,axins2)\n",
    "\n",
    "        data = np.array((ds,Cs))\n",
    "#         n_resamples=1000\n",
    "#         std = scipy.stats.bootstrap(data,statistic,\n",
    "#                                     vectorized = False,\n",
    "#                                     method=\"basic\",\n",
    "#                                     n_resamples = n_resamples,\n",
    "#                                     paired= True).standard_error\n",
    "#         X = sm.add_constant(ds, prepend=False)\n",
    "#         model = sm.OLS(Cs,X)\n",
    "#         res = model.fit()\n",
    "#         a,b = res.params[0],res.params[1]\n",
    "#         axins2.plot(ds,np.array(ds)*a+b,label = f\"{round(a,1)}$\\pm$ {round(std,1)}$\\mu m.mm^{-3}$\",color=\"black\")\n",
    "#         axins2.scatter(ds,Cs,s = 2)\n",
    "#         axins2.set_ylim(0,4000)\n",
    "        ax.set_ylim(0,4000)\n",
    "\n",
    "#         axins2.set_xlabel('distance from origin (mm)',size = 5,bbox=bbox)\n",
    "#         axins2.set_ylabel('saturation density($\\mu m.mm^{-2}$)',size = 5,bbox=bbox)\n",
    "#         axins2.tick_params(labelsize = 5)\n",
    "#         axins2.legend(fontsize = 6)\n",
    "        ax.patch.set_facecolor(get_color(plate,folders))\n",
    "        ax.patch.set_alpha(0.1)\n",
    "    # break\n",
    "plt.savefig(f'Figure/FigureS2B.svg')    "
   ]
  },
  {
   "cell_type": "code",
   "execution_count": null,
   "id": "173bc628-ea77-42e5-b60f-cb44d0b054ac",
   "metadata": {},
   "outputs": [],
   "source": [
    "fig, ax = plt.subplots()\n",
    "tot_ds = []\n",
    "tot_Cs=[]\n",
    "# plates = [52,152,94,102,83,84,792,76]\n",
    "for j in range(len(plate_select)):\n",
    "    plate=plate_select[j]\n",
    "    Cs = Css[plate]\n",
    "    ds = dss[plate]\n",
    "    strain = folders.loc[folders['Plate']==plate].iloc[0]['strain']\n",
    "    medium = folders.loc[folders['Plate']==plate].iloc[0]['medium']\n",
    "    treatment = strain+medium\n",
    "    tot_ds+=ds\n",
    "    tot_Cs+=Cs\n",
    "    ax.plot(ds,Cs,color=colors[treatment])\n",
    "patches = []\n",
    "for treatment in [\"'A5''001P100N100C'\",\"'A5''001P100N200C'\",\"'C2''001P100N100C'\",\"'C2''001P100N200C'\",\"'Agg''001P100N100C'\"]:\n",
    "    print(treatment)\n",
    "    patches.append(mpatches.Patch(color=colors[treatment], label=treatment))\n",
    "ax.legend(handles=patches)\n",
    "ax.set_xlabel('distance from origin (mm)')\n",
    "ax.set_ylabel('saturation density ($\\mu m.mm^{-1}$)')\n",
    "plt.tight_layout()\n"
   ]
  },
  {
   "cell_type": "code",
   "execution_count": null,
   "id": "f7f5fde6-408d-4b4c-b3df-59c78fb5b03f",
   "metadata": {},
   "outputs": [],
   "source": [
    "fig, ax = plt.subplots()\n",
    "# plates.remove(102)\n",
    "# plates.remove(76)\n",
    "\n",
    "for j in range(len(plate_select)):\n",
    "    plate=plate_select[j]\n",
    "    Cs = Css[plate]\n",
    "    hull_speed = hull_speeds_dic[plate]\n",
    "    strain = folders.loc[folders['Plate']==plate].iloc[0]['strain']\n",
    "    medium = folders.loc[folders['Plate']==plate].iloc[0]['medium']\n",
    "    treatment = strain+medium\n",
    "    ax.scatter(np.mean(Cs),np.mean(hull_speed),color=colors[treatment],alpha=0.2,marker ='x') \n",
    "    # ax.errorbar(np.mean(Cs),np.mean(hull_speed),np.std(hull_speed)/np.sqrt(len(hull_speed)),color=colors[treatment],alpha = 0.2)    \n",
    "    \n",
    "# for treatment in treatments:\n",
    "#     patches.append(mpatches.Patch(color=colors[treatment], label=treatment))\n",
    "# ax.legend(handles=patches)\n",
    "ax.set_xlabel('saturation density ($\\mu m .mm^{-2}$)')\n",
    "ax.set_ylabel('wave speed ($\\mu m .h^{-1}$)'  ) \n",
    "# patches = []\n",
    "# for treatment in [\"'A5''001P100N100C'\",\"'A5''001P100N200C'\",\"'C2''001P100N100C'\",\"'C2''001P100N200C'\",\"'Agg''001P100N100C'\"]:\n",
    "#     print(treatment)\n",
    "#     patches.append(mpatches.Patch(color=colors[treatment], label=treatment))\n",
    "# ax.legend(handles=patches)\n",
    "values_speed = {strain : [] for strain in folders['strain'].unique()}\n",
    "values_density = {strain : [] for strain in folders['strain'].unique()}\n",
    "for j in range(len(plate_select)):\n",
    "    plate=plate_select[j]\n",
    "    Cs = Css[plate]\n",
    "    hull_speed = hull_speeds_dic[plate]\n",
    "    strain = folders.loc[folders['Plate']==plate].iloc[0]['strain']\n",
    "    values_speed[strain].append(np.mean(hull_speed))\n",
    "    values_density[strain].append(np.mean(Cs))\n",
    "    \n",
    "values_density[\"'A5'\"] += values_density[\"'A5sp3'\"]\n",
    "values_speed[\"'A5'\"] += values_speed[\"'A5sp3'\"]\n",
    "strains = list(values_speed.keys())\n",
    "strains.remove(\"'A5sp3'\")\n",
    "colors_strain = {\"'A5'\" : 'orange',\"'C2'\" : 'blue',\"'Agg'\":'black'}\n",
    "# length_production\n",
    "# for strain in strains:\n",
    "#     print(strain,np.nanmean(values_density[strain])*np.nanmean(values_speed[strain])**2*1e-9)\n",
    "#     ax.scatter(np.nanmean(values_density[strain]),np.nanmean(values_speed[strain]),label = strain,s=400,alpha= 0.5,color = colors_strain[strain]) \n",
    "xs = [np.nanmean(values_density[strain]) for strain in strains]\n",
    "ys = [np.nanmean(values_speed[strain]) for strain in strains]\n",
    "stdxs = [2*np.nanstd(values_density[strain])/np.sqrt(len(values_density[strain])) for strain in strains]\n",
    "stdys = [2*np.nanstd(values_speed[strain])/np.sqrt(len(values_density[strain])) for strain in strains]\n",
    "\n",
    "ellipses = [Ellipse((x,ys[j]), stdxs[j], stdys[j], facecolor=colors_strain[strains[j]], edgecolor=\"white\") for j,x in enumerate(xs)]\n",
    "\n",
    "for ellipse in ellipses:\n",
    "    ax.add_artist(ellipse)\n",
    "plt.tight_layout()\n",
    "plt.savefig(f'Figure/Figure2A.svg')    \n"
   ]
  },
  {
   "cell_type": "code",
   "execution_count": null,
   "id": "82c378b1-d8bc-4f66-8247-88e8f85319b1",
   "metadata": {},
   "outputs": [],
   "source": [
    "plate_select"
   ]
  },
  {
   "cell_type": "code",
   "execution_count": null,
   "id": "1e7753f5-f19e-495c-9cf0-e74a7217d43a",
   "metadata": {},
   "outputs": [],
   "source": [
    "fig, ax = plt.subplots()\n",
    "# plates.remove(102)\n",
    "# plates.remove(76)\n",
    "# plate_select.remove(30)\n",
    "for j in range(len(plate_select)):\n",
    "    plate=plate_select[j]\n",
    "    Cs = Css[plate]\n",
    "    hull_speed = hull_speeds_dic[plate]\n",
    "    strain = folders.loc[folders['Plate']==plate].iloc[0]['strain']\n",
    "    medium = folders.loc[folders['Plate']==plate].iloc[0]['medium']\n",
    "    treatment = strain+medium\n",
    "    ax.scatter(np.mean(Cs),np.mean(hull_speed)**2*np.mean(Cs)*1e-9,color=colors[treatment],alpha=0.2,marker ='x') \n",
    "    # ax.errorbar(np.mean(Cs),np.mean(hull_speed)*np.mean(Cs),np.std(hull_speed)/np.sqrt(len(hull_speed)),color=colors[treatment],alpha = 0.2)    \n",
    "    \n",
    "# for treatment in treatments:\n",
    "#     patches.append(mpatches.Patch(color=colors[treatment], label=treatment))\n",
    "# ax.legend(handles=patches)\n",
    "ax.set_xlabel('saturation density ($\\mu m .mm^{-2}$)')\n",
    "ax.set_ylabel('growth coefficient ($mm .h^{-2}$)'  ) \n",
    "# patches = []\n",
    "# for treatment in [\"'A5''001P100N100C'\",\"'A5''001P100N200C'\",\"'C2''001P100N100C'\",\"'C2''001P100N200C'\",\"'Agg''001P100N100C'\"]:\n",
    "#     print(treatment)\n",
    "#     patches.append(mpatches.Patch(color=colors[treatment], label=treatment))\n",
    "# ax.legend(handles=patches)\n",
    "values_speed = {strain : [] for strain in folders['strain'].unique()}\n",
    "values_density = {strain : [] for strain in folders['strain'].unique()}\n",
    "for j in range(len(plate_select)):\n",
    "    plate=plate_select[j]\n",
    "    Cs = Css[plate]\n",
    "    hull_speed = hull_speeds_dic[plate]\n",
    "    strain = folders.loc[folders['Plate']==plate].iloc[0]['strain']\n",
    "    values_speed[strain].append(np.mean(hull_speed))\n",
    "    values_density[strain].append(np.mean(Cs))\n",
    "    \n",
    "values_density[\"'A5'\"] += values_density[\"'A5sp3'\"]\n",
    "values_speed[\"'A5'\"] += values_speed[\"'A5sp3'\"]\n",
    "strains = list(values_speed.keys())\n",
    "strains.remove(\"'A5sp3'\")\n",
    "colors_strain = {\"'A5'\" : 'orange',\"'C2'\" : 'blue',\"'Agg'\":'black'}\n",
    "# length_production\n",
    "for strain in strains:\n",
    "    print(strain,np.nanmean(values_density[strain])*np.nanmean(values_speed[strain])**2*1e-9)\n",
    "    ax.scatter(np.nanmean(values_density[strain]),np.nanmean(np.array(values_density[strain])*np.array(values_speed[strain])**2)*1e-9,label = strain,s=400,alpha= 0.5,color = colors_strain[strain]) \n",
    "plt.tight_layout()\n",
    "# plt.savefig(f'Figure/Figure2A.svg')    \n"
   ]
  },
  {
   "cell_type": "code",
   "execution_count": null,
   "id": "55c94eda-a5ed-4b3f-b1e4-550a0903aa6e",
   "metadata": {},
   "outputs": [],
   "source": [
    "fig, ax = plt.subplots()\n",
    "# plates.remove(102)\n",
    "# plates.remove(76)\n",
    "# plate_select.remove(30)\n",
    "for j in range(len(plate_select)):\n",
    "    plate=plate_select[j]\n",
    "    Cs = Css[plate]\n",
    "    hull_speed = hull_speeds_dic[plate]\n",
    "    strain = folders.loc[folders['Plate']==plate].iloc[0]['strain']\n",
    "    medium = folders.loc[folders['Plate']==plate].iloc[0]['medium']\n",
    "    treatment = strain+medium\n",
    "    ax.scatter(np.mean(hull_speed),np.mean(hull_speed)**2*np.mean(Cs)*1e-9,color=colors[treatment],alpha=0.2,marker ='x') \n",
    "    # ax.errorbar(np.mean(Cs),np.mean(hull_speed)*np.mean(Cs),np.std(hull_speed)/np.sqrt(len(hull_speed)),color=colors[treatment],alpha = 0.2)    \n",
    "    \n",
    "# for treatment in treatments:\n",
    "#     patches.append(mpatches.Patch(color=colors[treatment], label=treatment))\n",
    "# ax.legend(handles=patches)\n",
    "ax.set_xlabel('expansion speed ($\\mu m .h^{-1}$)'  ) \n",
    "ax.set_ylabel('growth coefficient ($mm .h^{-2}$)'  ) \n",
    "# patches = []\n",
    "# for treatment in [\"'A5''001P100N100C'\",\"'A5''001P100N200C'\",\"'C2''001P100N100C'\",\"'C2''001P100N200C'\",\"'Agg''001P100N100C'\"]:\n",
    "#     print(treatment)\n",
    "#     patches.append(mpatches.Patch(color=colors[treatment], label=treatment))\n",
    "# ax.legend(handles=patches)\n",
    "values_speed = {strain : [] for strain in folders['strain'].unique()}\n",
    "values_density = {strain : [] for strain in folders['strain'].unique()}\n",
    "for j in range(len(plate_select)):\n",
    "    plate=plate_select[j]\n",
    "    Cs = Css[plate]\n",
    "    hull_speed = hull_speeds_dic[plate]\n",
    "    strain = folders.loc[folders['Plate']==plate].iloc[0]['strain']\n",
    "    values_speed[strain].append(np.mean(hull_speed))\n",
    "    values_density[strain].append(np.mean(Cs))\n",
    "    \n",
    "values_density[\"'A5'\"] += values_density[\"'A5sp3'\"]\n",
    "values_speed[\"'A5'\"] += values_speed[\"'A5sp3'\"]\n",
    "strains = list(values_speed.keys())\n",
    "strains.remove(\"'A5sp3'\")\n",
    "colors_strain = {\"'A5'\" : 'orange',\"'C2'\" : 'blue',\"'Agg'\":'black'}\n",
    "# length_production\n",
    "for strain in strains:\n",
    "    # print(strain,np.nanmean(values_density[strain])*np.nanmean(values_speed[strain])**2*1e-9)\n",
    "    ax.scatter(np.nanmean(values_speed[strain]),np.nanmean(np.array(values_density[strain])*np.array(values_speed[strain])**2)*1e-9,label = strain,s=400,alpha= 0.5,color = colors_strain[strain]) \n",
    "plt.tight_layout()\n",
    "# plt.savefig(f'Figure/Figure2A.svg')    \n"
   ]
  },
  {
   "cell_type": "code",
   "execution_count": null,
   "id": "848ed72f-1b32-4ebf-9331-9f8b365225e8",
   "metadata": {},
   "outputs": [],
   "source": [
    "fig, ax = plt.subplots()\n",
    "# plates.remove(102)\n",
    "# plates.remove(76)\n",
    "values_speed = {strain : [] for strain in folders['strain'].unique()}\n",
    "values_density = {strain : [] for strain in folders['strain'].unique()}\n",
    "for j in range(len(plate_select)):\n",
    "    plate=plate_select[j]\n",
    "    Cs = Css[plate]\n",
    "    hull_speed = hull_speeds_dic[plate]\n",
    "    strain = folders.loc[folders['Plate']==plate].iloc[0]['strain']\n",
    "    values_speed[strain].append(np.mean(hull_speed))\n",
    "    values_density[strain].append(np.mean(Cs))\n",
    "    \n",
    "values_density[\"'A5'\"] += values_density[\"'A5sp3'\"]\n",
    "values_speed[\"'A5'\"] += values_speed[\"'A5sp3'\"]\n",
    "strains = list(values_speed.keys())\n",
    "strains.remove(\"'A5sp3'\")\n",
    "for strain in strains:\n",
    "    print(strain)\n",
    "    ax.scatter(np.nanmean(values_density[strain]),np.nanmean(values_speed[strain]),label = strain) \n",
    "    ax.errorbar(np.nanmean(values_density[strain]),np.nanmean(values_speed[strain]),np.nanstd(values_speed[strain])/np.sqrt(len(values_speed[strain])))    \n",
    "    \n",
    "# for treatment in treatments:\n",
    "#     patches.append(mpatches.Patch(color=colors[treatment], label=treatment))\n",
    "# ax.legend(handles=patches)\n",
    "ax.set_xlabel('saturation density ($\\mu m .mm^{-2}$)')\n",
    "ax.set_ylabel('hull pusher speed ($\\mu m .h^{-1}$)'  ) \n",
    "plt.legend()\n",
    "plt.tight_layout()\n",
    "plt.savefig(f'Figure/Figure2B.svg')    "
   ]
  },
  {
   "cell_type": "code",
   "execution_count": null,
   "id": "f132870b-dbb8-4403-a778-146b4236c858",
   "metadata": {},
   "outputs": [],
   "source": [
    "plate_2022 = [plate for plate in plate_2022 if plate!=30]\n",
    "plate_2022"
   ]
  },
  {
   "cell_type": "code",
   "execution_count": null,
   "id": "d6a7f576-0e65-457e-81de-a094a910d5d4",
   "metadata": {},
   "outputs": [],
   "source": [
    "column = \"ring_biovolume_density_incr-100_index-0\"\n",
    "plate_select = time_plate_info.loc[~time_plate_info[column].isnull()]['Plate'].unique().tolist()\n",
    "folders['CrossDate'] = folders['CrossDate'].astype(str).str.replace(\"'\",\"\").astype(int)\n",
    "plate_2022 = folders.loc[folders['CrossDate']>20220101]['Plate'].unique()\n",
    "plate_2022 = [plate for plate in plate_2022 if plate!=30]\n",
    "\n",
    "plates = [plate for plate in plates if int(plate.split('_')[0]) in plate_select]\n",
    "plates = [plate for plate in plates if int(plate.split('_')[0]) in plate_2022]\n",
    "plate_select = [int(plate.split('_')[0])  for plate in plates]"
   ]
  },
  {
   "cell_type": "code",
   "execution_count": null,
   "id": "75c6a97c-a47a-4b2f-8694-99569e27e4ee",
   "metadata": {
    "tags": []
   },
   "outputs": [],
   "source": [
    "\n",
    "# plt.close('all')\n",
    "ncols = 3\n",
    "fig,axs = gridplot(len(plate_select),ncols = ncols,subh = 5,subw = 7)\n",
    "meancurves3 = {}\n",
    "meancurves4 = {}\n",
    "Css2 = {}\n",
    "lambss2 = {}\n",
    "dss2 = {}\n",
    "t0ss2 = {}\n",
    "maxis = {plate :12 for plate in plate_select}\n",
    "maxis[94] = 13\n",
    "maxis[152] = 11\n",
    "maxis2 = {plate :12 for plate in plate_select}\n",
    "maxis2[52] = 6\n",
    "maxis2[938] = 7\n",
    "# maxis[938] = 8\n",
    "\n",
    "bbox = dict(facecolor='white', alpha = 0.7,edgecolor=\"None\")\n",
    "\n",
    "ax_list = list(axs)\n",
    "for j in range(len(plate_select)):\n",
    "    plate=plate_select[j]\n",
    "    ax = ax_list[j]\n",
    "    Cs, lambs,ds,indexes, t0s,meancurve,meancurve2 = plot_single_plate_biovolume(plate,time_plate_info,timestep[plate],ax,maxi =maxis[plate])\n",
    "    meancurves3[plate]=meancurve\n",
    "    meancurves4[plate]=meancurve2\n",
    "    Css2[plate] = Cs\n",
    "    lambss2[plate] = lambs\n",
    "    dss2[plate] = ds\n",
    "    t0ss2[plate] = t0s\n",
    "    axins2 = inset_axes(ax, width=\"30%\", height=\"40%\", loc=1)\n",
    "    if len(ds)>0:\n",
    "        x0 = np.linspace(np.min(ds),np.max(ds),10)\n",
    "        statistic = make_stat(x0,axins2)\n",
    "\n",
    "        data = np.array((ds,Cs))\n",
    "#         n_resamples=1000\n",
    "#         std = scipy.stats.bootstrap(data,statistic,\n",
    "#                                     vectorized = False,\n",
    "#                                     method=\"basic\",\n",
    "#                                     n_resamples = n_resamples,\n",
    "#                                     paired= True).standard_error\n",
    "#         X = sm.add_constant(ds, prepend=False)\n",
    "#         model = sm.OLS(Cs,X)\n",
    "#         res = model.fit()\n",
    "#         a,b = res.params[0],res.params[1]\n",
    "#         axins2.plot(ds,np.array(ds)*a+b,label = f\"{round(a,1)}$\\pm$ {round(std,1)}$\\mu m.mm^{-3}$\",color=\"black\")\n",
    "#         axins2.scatter(ds,Cs,s = 2)\n",
    "#         axins2.set_ylim(0,4000)\n",
    "        ax.set_ylim(0,4000)\n",
    "\n",
    "#         axins2.set_xlabel('distance from origin (mm)',size = 5,bbox=bbox)\n",
    "#         axins2.set_ylabel('saturation density($\\mu m.mm^{-2}$)',size = 5,bbox=bbox)\n",
    "#         axins2.tick_params(labelsize = 5)\n",
    "#         axins2.legend(fontsize = 6)\n",
    "        ax.patch.set_facecolor(get_color(plate,folders))\n",
    "        ax.patch.set_alpha(0.1)\n",
    "    # break\n",
    "# plt.savefig(f'Figure/FigureS2B.svg')    "
   ]
  },
  {
   "cell_type": "code",
   "execution_count": null,
   "id": "0dcaca09-88ca-4685-95d9-86c6356ce9df",
   "metadata": {},
   "outputs": [],
   "source": [
    "fig, ax = plt.subplots()\n",
    "tot_ds = []\n",
    "tot_Cs=[]\n",
    "# plates = [52,152,94,102,83,84,792,76]\n",
    "for j in range(len(plate_select)):\n",
    "    plate=plate_select[j]\n",
    "    Cs = Css2[plate]\n",
    "    ds = dss2[plate]\n",
    "    strain = folders.loc[folders['Plate']==plate].iloc[0]['strain']\n",
    "    medium = folders.loc[folders['Plate']==plate].iloc[0]['medium']\n",
    "    treatment = strain+medium\n",
    "    tot_ds+=ds\n",
    "    tot_Cs+=Cs\n",
    "    ax.plot(ds,Cs,color=colors[treatment])\n",
    "patches = []\n",
    "for treatment in [\"'A5''001P100N100C'\",\"'A5''001P100N200C'\",\"'C2''001P100N100C'\",\"'C2''001P100N200C'\",\"'Agg''001P100N100C'\"]:\n",
    "    print(treatment)\n",
    "    patches.append(mpatches.Patch(color=colors[treatment], label=treatment))\n",
    "ax.legend(handles=patches)\n",
    "ax.set_xlabel('distance from origin (mm)')\n",
    "ax.set_ylabel('saturation biovolume density ($\\mu m^{3}.mm^{-1}$)')\n",
    "plt.tight_layout()\n"
   ]
  },
  {
   "cell_type": "code",
   "execution_count": null,
   "id": "5ff4f194-ea65-4de2-965b-9f48121dff11",
   "metadata": {},
   "outputs": [],
   "source": [
    "fig, ax = plt.subplots()\n",
    "# plates.remove(102)\n",
    "# plates.remove(76)\n",
    "\n",
    "for j in range(len(plate_select)):\n",
    "    plate=plate_select[j]\n",
    "    Cs = Css2[plate]\n",
    "    hull_speed = hull_speeds_dic[plate]\n",
    "    strain = folders.loc[folders['Plate']==plate].iloc[0]['strain']\n",
    "    medium = folders.loc[folders['Plate']==plate].iloc[0]['medium']\n",
    "    treatment = strain+medium\n",
    "    ax.scatter(np.mean(Cs),np.mean(hull_speed),color=colors[treatment],alpha=0.2,marker ='x') \n",
    "    ax.errorbar(np.mean(Cs),np.mean(hull_speed),np.std(hull_speed)/np.sqrt(len(hull_speed)),color=colors[treatment],alpha = 0.2)    \n",
    "    \n",
    "# for treatment in treatments:\n",
    "#     patches.append(mpatches.Patch(color=colors[treatment], label=treatment))\n",
    "# ax.legend(handles=patches)\n",
    "ax.set_xlabel('saturation density ($\\mu m .mm^{-2}$)')\n",
    "ax.set_ylabel('hull pusher speed ($\\mu m .h^{-1}$)'  ) \n",
    "# patches = []\n",
    "# for treatment in [\"'A5''001P100N100C'\",\"'A5''001P100N200C'\",\"'C2''001P100N100C'\",\"'C2''001P100N200C'\",\"'Agg''001P100N100C'\"]:\n",
    "#     print(treatment)\n",
    "#     patches.append(mpatches.Patch(color=colors[treatment], label=treatment))\n",
    "# ax.legend(handles=patches)\n",
    "values_speed = {strain : [] for strain in folders['strain'].unique()}\n",
    "values_density = {strain : [] for strain in folders['strain'].unique()}\n",
    "for j in range(len(plate_select)):\n",
    "    plate=plate_select[j]\n",
    "    Cs = Css2[plate]\n",
    "    hull_speed = hull_speeds_dic[plate]\n",
    "    strain = folders.loc[folders['Plate']==plate].iloc[0]['strain']\n",
    "    values_speed[strain].append(np.mean(hull_speed))\n",
    "    values_density[strain].append(np.mean(Cs))\n",
    "    \n",
    "values_density[\"'A5'\"] += values_density[\"'A5sp3'\"]\n",
    "values_speed[\"'A5'\"] += values_speed[\"'A5sp3'\"]\n",
    "strains = list(values_speed.keys())\n",
    "strains.remove(\"'A5sp3'\")\n",
    "colors_strain = {\"'A5'\" : 'orange',\"'C2'\" : 'blue',\"'Agg'\":'black'}\n",
    "# length_production\n",
    "for strain in strains:\n",
    "    print(strain,np.nanmean(values_density[strain])*np.nanmean(values_speed[strain])**2*1e-9)\n",
    "    ax.scatter(np.nanmean(values_density[strain]),np.nanmean(values_speed[strain]),label = strain,s=400,alpha= 0.5,color = colors_strain[strain]) \n",
    "plt.tight_layout()\n",
    "# plt.savefig(f'Figure/Figure2A.svg')    \n"
   ]
  },
  {
   "cell_type": "code",
   "execution_count": null,
   "id": "48982976-dd93-4a4b-97da-0626407e3b45",
   "metadata": {},
   "outputs": [],
   "source": [
    "fig, ax = plt.subplots()\n",
    "# plates.remove(102)\n",
    "# plates.remove(76)\n",
    "\n",
    "for j in range(len(plate_select)):\n",
    "    plate=plate_select[j]\n",
    "    Cs = Css2[plate]\n",
    "    hull_speed = hull_speeds_dic[plate]\n",
    "    strain = folders.loc[folders['Plate']==plate].iloc[0]['strain']\n",
    "    medium = folders.loc[folders['Plate']==plate].iloc[0]['medium']\n",
    "    treatment = strain+medium\n",
    "    ax.scatter(np.mean(Cs),np.mean(hull_speed)**2*np.mean(Cs)*1e-9,color=colors[treatment],alpha=0.2,marker ='x') \n",
    "    # ax.errorbar(np.mean(Cs),np.mean(hull_speed)*np.mean(Cs),np.std(hull_speed)/np.sqrt(len(hull_speed)),color=colors[treatment],alpha = 0.2)    \n",
    "    \n",
    "# for treatment in treatments:\n",
    "#     patches.append(mpatches.Patch(color=colors[treatment], label=treatment))\n",
    "# ax.legend(handles=patches)\n",
    "ax.set_xlabel('biovolume saturation density ($\\mu m^{3} .mm^{-2}$)')\n",
    "ax.set_ylabel('biovolume growth coefficient ($mm .h^{-2}$)'  ) \n",
    "# patches = []\n",
    "# for treatment in [\"'A5''001P100N100C'\",\"'A5''001P100N200C'\",\"'C2''001P100N100C'\",\"'C2''001P100N200C'\",\"'Agg''001P100N100C'\"]:\n",
    "#     print(treatment)\n",
    "#     patches.append(mpatches.Patch(color=colors[treatment], label=treatment))\n",
    "# ax.legend(handles=patches)\n",
    "values_speed = {strain : [] for strain in folders['strain'].unique()}\n",
    "values_density = {strain : [] for strain in folders['strain'].unique()}\n",
    "for j in range(len(plate_select)):\n",
    "    plate=plate_select[j]\n",
    "    Cs = Css2[plate]\n",
    "    hull_speed = hull_speeds_dic[plate]\n",
    "    strain = folders.loc[folders['Plate']==plate].iloc[0]['strain']\n",
    "    values_speed[strain].append(np.mean(hull_speed))\n",
    "    values_density[strain].append(np.mean(Cs))\n",
    "    \n",
    "values_density[\"'A5'\"] += values_density[\"'A5sp3'\"]\n",
    "values_speed[\"'A5'\"] += values_speed[\"'A5sp3'\"]\n",
    "strains = list(values_speed.keys())\n",
    "strains.remove(\"'A5sp3'\")\n",
    "colors_strain = {\"'A5'\" : 'orange',\"'C2'\" : 'blue',\"'Agg'\":'black'}\n",
    "# length_production\n",
    "for strain in strains:\n",
    "    print(strain,np.nanmean(values_density[strain])*np.nanmean(values_speed[strain])**2*1e-9)\n",
    "    ax.scatter(np.nanmean(values_density[strain]),np.nanmean(np.array(values_density[strain])*np.array(values_speed[strain])**2)*1e-9,label = strain,s=400,alpha= 0.5,color = colors_strain[strain]) \n",
    "plt.tight_layout()\n",
    "# plt.savefig(f'Figure/Figure2A.svg')    \n"
   ]
  },
  {
   "cell_type": "code",
   "execution_count": null,
   "id": "506b1047-33f8-4191-b83a-4a48b2dcb74b",
   "metadata": {},
   "outputs": [],
   "source": [
    "fig, ax = plt.subplots()\n",
    "# plates.remove(102)\n",
    "# plates.remove(76)\n",
    "\n",
    "for j in range(len(plate_select)):\n",
    "    plate=plate_select[j]\n",
    "    Cs2 = Css2[plate]\n",
    "    Cs = Css[plate]\n",
    "    \n",
    "    strain = folders.loc[folders['Plate']==plate].iloc[0]['strain']\n",
    "    medium = folders.loc[folders['Plate']==plate].iloc[0]['medium']\n",
    "    treatment = strain+medium\n",
    "    ax.scatter(np.mean(Cs),np.sqrt(np.mean(Cs2)/np.mean(Cs)/np.pi),color=colors[treatment],alpha=0.2,marker ='x') \n",
    "    # ax.errorbar(np.mean(Cs),np.mean(hull_speed)*np.mean(Cs),np.std(hull_speed)/np.sqrt(len(hull_speed)),color=colors[treatment],alpha = 0.2)    \n",
    "    \n",
    "# for treatment in treatments:\n",
    "#     patches.append(mpatches.Patch(color=colors[treatment], label=treatment))\n",
    "# ax.legend(handles=patches)\n",
    "ax.set_xlabel('saturation density ($\\mu m .mm^{-2}$)')\n",
    "ax.set_ylabel('effective mean radius ($\\mu m$)'  ) \n",
    "# patches = []\n",
    "# for treatment in [\"'A5''001P100N100C'\",\"'A5''001P100N200C'\",\"'C2''001P100N100C'\",\"'C2''001P100N200C'\",\"'Agg''001P100N100C'\"]:\n",
    "#     print(treatment)\n",
    "#     patches.append(mpatches.Patch(color=colors[treatment], label=treatment))\n",
    "# ax.legend(handles=patches)\n",
    "values_density_biovolume = {strain : [] for strain in folders['strain'].unique()}\n",
    "values_density = {strain : [] for strain in folders['strain'].unique()}\n",
    "for j in range(len(plate_select)):\n",
    "    plate=plate_select[j]\n",
    "    Cs2 = Css2[plate]\n",
    "    Cs = Css[plate]\n",
    "    strain = folders.loc[folders['Plate']==plate].iloc[0]['strain']\n",
    "    values_density[strain].append(np.mean(Cs))\n",
    "    values_density_biovolume[strain].append(np.mean(Cs2))\n",
    "values_density[\"'A5'\"] += values_density[\"'A5sp3'\"]\n",
    "values_density_biovolume[\"'A5'\"] += values_density_biovolume[\"'A5sp3'\"]\n",
    "strains = list(values_speed.keys())\n",
    "strains.remove(\"'A5sp3'\")\n",
    "colors_strain = {\"'A5'\" : 'orange',\"'C2'\" : 'blue',\"'Agg'\":'black'}\n",
    "# length_production\n",
    "for strain in strains:\n",
    "    ax.scatter(np.nanmean(values_density[strain]),np.sqrt(np.nanmean(np.array(values_density_biovolume[strain])/np.array(values_density[strain]))/np.pi),s=400,alpha= 0.5,color = colors_strain[strain]) \n",
    "plt.tight_layout()\n",
    "# plt.savefig(f'Figure/Figure2A.svg')    \n"
   ]
  },
  {
   "cell_type": "code",
   "execution_count": null,
   "id": "422c8bff-f9d0-4d58-9e17-7f7cdf64e068",
   "metadata": {},
   "outputs": [],
   "source": [
    "fig, ax = plt.subplots()\n",
    "# plates.remove(102)\n",
    "# plates.remove(76)\n",
    "\n",
    "for j in range(len(plate_select)):\n",
    "    plate=plate_select[j]\n",
    "    Cs2 = Css2[plate]\n",
    "    Cs = Css[plate]\n",
    "    \n",
    "    strain = folders.loc[folders['Plate']==plate].iloc[0]['strain']\n",
    "    medium = folders.loc[folders['Plate']==plate].iloc[0]['medium']\n",
    "    treatment = strain+medium\n",
    "    ax.scatter(np.mean(Cs),np.sqrt(np.mean(Cs2)/np.mean(Cs)/np.pi),label=plate,marker ='x') \n",
    "    # ax.errorbar(np.mean(Cs),np.mean(hull_speed)*np.mean(Cs),np.std(hull_speed)/np.sqrt(len(hull_speed)),color=colors[treatment],alpha = 0.2)    \n",
    "    \n",
    "# for treatment in treatments:\n",
    "#     patches.append(mpatches.Patch(color=colors[treatment], label=treatment))\n",
    "# ax.legend(handles=patches)\n",
    "ax.set_xlabel('saturation density ($\\mu m .mm^{-2}$)')\n",
    "ax.set_ylabel('growth coefficient ($mm .h^{-2}$)'  ) \n",
    "# patches = []\n",
    "# for treatment in [\"'A5''001P100N100C'\",\"'A5''001P100N200C'\",\"'C2''001P100N100C'\",\"'C2''001P100N200C'\",\"'Agg''001P100N100C'\"]:\n",
    "#     print(treatment)\n",
    "#     patches.append(mpatches.Patch(color=colors[treatment], label=treatment))\n",
    "# ax.legend(handles=patches)\n",
    "values_density_biovolume = {strain : [] for strain in folders['strain'].unique()}\n",
    "values_density = {strain : [] for strain in folders['strain'].unique()}\n",
    "for j in range(len(plate_select)):\n",
    "    plate=plate_select[j]\n",
    "    Cs2 = Css2[plate]\n",
    "    Cs = Css[plate]\n",
    "    strain = folders.loc[folders['Plate']==plate].iloc[0]['strain']\n",
    "    values_density[strain].append(np.mean(Cs))\n",
    "    values_density_biovolume[strain].append(np.mean(Cs2))\n",
    "values_density[\"'A5'\"] += values_density[\"'A5sp3'\"]\n",
    "values_density_biovolume[\"'A5'\"] += values_density_biovolume[\"'A5sp3'\"]\n",
    "strains = list(values_speed.keys())\n",
    "strains.remove(\"'A5sp3'\")\n",
    "colors_strain = {\"'A5'\" : 'orange',\"'C2'\" : 'blue',\"'Agg'\":'black'}\n",
    "# length_production\n",
    "for strain in strains:\n",
    "    ax.scatter(np.nanmean(values_density[strain]),np.sqrt(np.nanmean(np.array(values_density_biovolume[strain])/np.array(values_density[strain]))/np.pi),s=400,alpha= 0.5,color = colors_strain[strain]) \n",
    "plt.tight_layout()\n",
    "# plt.savefig(f'Figure/Figure2A.svg')    \n",
    "ax.legend()"
   ]
  },
  {
   "cell_type": "code",
   "execution_count": null,
   "id": "d8b66bb5-235a-4886-ba5a-e0d6a55d7dd3",
   "metadata": {},
   "outputs": [],
   "source": [
    "selection = time_hypha_info.loc[time_hypha_info['Plate'].isin(plate_select)]\n",
    "selection = time_hypha_info.loc[time_hypha_info['Plate'].isin([1045, 1014, 1023, 1053, 1076,   52, 1042,   84])]\n",
    "# selection = time_hypha_info.loc[time_hypha_info['Plate'].isin([1045])]\n",
    "\n",
    "# selection = time_hypha_info.loc[time_hypha_info['Plate'].isin([52,84])]\n",
    "selection = selection.loc[selection['speed'].between(50,350)]\n",
    "selection = selection.loc[selection['av_width'].between(0.5,12)]\n",
    "selection = selection.loc[selection['width_tip_edge'].between(0.5,12)]\n",
    "\n",
    "selection = selection.loc[selection['time_since_begin_h']/pd.Timedelta(hours=1)<=150]"
   ]
  },
  {
   "cell_type": "code",
   "execution_count": null,
   "id": "1098e9bb-6b75-4394-b20f-f8633e6a31bf",
   "metadata": {},
   "outputs": [],
   "source": [
    "\n",
    "\n",
    "selection.columns"
   ]
  },
  {
   "cell_type": "code",
   "execution_count": null,
   "id": "ab92497b-8a93-49c1-9b1b-5d84c64bbce9",
   "metadata": {},
   "outputs": [],
   "source": [
    "plates = selection['Plate'].unique()"
   ]
  },
  {
   "cell_type": "code",
   "execution_count": null,
   "id": "9b521258-5123-4987-8602-7b90bccae531",
   "metadata": {},
   "outputs": [],
   "source": [
    "selection.columns\n",
    "selection = selection.sort_values('av_width')\n",
    "selection['speed_rolling']=selection['speed'].rolling(300).mean()"
   ]
  },
  {
   "cell_type": "code",
   "execution_count": null,
   "id": "5b68d189-5f69-4253-894a-4d14eae6478e",
   "metadata": {},
   "outputs": [],
   "source": [
    "selection['strain'] = selection['strain'].str.replace(\"'A5sp3'\",\"'A5'\")"
   ]
  },
  {
   "cell_type": "code",
   "execution_count": null,
   "id": "96a0d31b-ed59-498e-85e3-a2f9faf24daa",
   "metadata": {},
   "outputs": [],
   "source": [
    "plates = [1045]"
   ]
  },
  {
   "cell_type": "code",
   "execution_count": null,
   "id": "a3566e5b-db98-4db0-b361-1bbf40e7e9fa",
   "metadata": {},
   "outputs": [],
   "source": [
    "strains = selection['strain'].unique()"
   ]
  },
  {
   "cell_type": "code",
   "execution_count": null,
   "id": "b8374316-cb10-45d8-b0c1-0922761fa06f",
   "metadata": {},
   "outputs": [],
   "source": [
    "column = 'av_width'\n",
    "for plate in plates:\n",
    "    fig, ax = plt.subplots()\n",
    "    \n",
    "    subs_select = selection.loc[selection['Plate']==plate].copy()\n",
    "    subs_select = subs_select.sort_values(column)\n",
    "    subs_select['speed_rolling']=subs_select['speed'].rolling(300).quantile(0.8)\n",
    "    ax.scatter(subs_select[column],subs_select['speed'],alpha = 0.01)\n",
    "    ax.plot(subs_select[column],subs_select['speed_rolling'],color=\"red\",label='80th percentile')\n",
    "    ax.set_xlabel('hypha average width ($\\mu m$)')\n",
    "    ax.set_ylabel('hypha growth speed ($\\mu m.h^{-1}$)')\n",
    "    plt.tight_layout()\n",
    "    ax.legend()"
   ]
  },
  {
   "cell_type": "code",
   "execution_count": null,
   "id": "b26f0763-5bad-40f3-a68c-19d057573240",
   "metadata": {},
   "outputs": [],
   "source": [
    "values_density"
   ]
  }
 ],
 "metadata": {
  "kernelspec": {
   "display_name": "Python 3 (ipykernel)",
   "language": "python",
   "name": "python3"
  },
  "language_info": {
   "codemirror_mode": {
    "name": "ipython",
    "version": 3
   },
   "file_extension": ".py",
   "mimetype": "text/x-python",
   "name": "python",
   "nbconvert_exporter": "python",
   "pygments_lexer": "ipython3",
   "version": "3.10.6"
  }
 },
 "nbformat": 4,
 "nbformat_minor": 5
}
