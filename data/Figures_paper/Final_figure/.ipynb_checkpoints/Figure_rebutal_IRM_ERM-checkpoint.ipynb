{
 "cells": [
  {
   "cell_type": "code",
   "execution_count": 1,
   "id": "23e9663c-1840-4284-8598-08aa1e126643",
   "metadata": {},
   "outputs": [
    {
     "name": "stderr",
     "output_type": "stream",
     "text": [
      "c:\\users\\coren\\documents\\phd\\code\\amftrack\\amftrack\\util\\dbx.py:3: TqdmExperimentalWarning: Using `tqdm.autonotebook.tqdm` in notebook mode. Use `tqdm.tqdm` instead to force console mode (e.g. in jupyter console)\n",
      "  from tqdm.autonotebook import tqdm\n"
     ]
    }
   ],
   "source": [
    "from amftrack.pipeline.functions.transport_processing.high_mag_videos.kymo_class import *\n",
    "from scipy.signal import find_peaks\n",
    "import os\n",
    "from pathlib import Path\n",
    "import pandas as pd\n",
    "import imageio.v2 as imageio\n",
    "import matplotlib.pyplot as plt\n",
    "import cv2\n",
    "from glob import glob\n",
    "from tqdm import tqdm\n",
    "from tifffile import imwrite\n",
    "\n",
    "%matplotlib widget\n",
    "%load_ext autoreload\n",
    "%autoreload 2"
   ]
  },
  {
   "cell_type": "code",
   "execution_count": 2,
   "id": "916291f9-79a2-41bf-bf41-a4d173641ade",
   "metadata": {},
   "outputs": [],
   "source": [
    "path = r\"C:\\Users\\coren\\AMOLF-SHIMIZU Dropbox\\HFSP_symbiotic-networks\\Article_TravellingWave\\rebuttal\\Figures_rebutal\\Images for Figures (SB 20 um)\\df_nuclear_density.csv\""
   ]
  },
  {
   "cell_type": "code",
   "execution_count": 3,
   "id": "588ffd43-54f1-4202-9e47-dc9f7d23566b",
   "metadata": {},
   "outputs": [],
   "source": [
    "tab = pd.read_csv(path)"
   ]
  },
  {
   "cell_type": "code",
   "execution_count": 4,
   "id": "4fd6681c-2220-4f48-9465-db20cb19c603",
   "metadata": {},
   "outputs": [],
   "source": [
    "plt.style.use('presentation.mplstyle')\n",
    "path_figure = r'C:\\\\Users\\\\coren\\\\AMOLF-SHIMIZU Dropbox\\\\HFSP_symbiotic-networks\\\\Article_TravellingWave\\\\Supplementary material\\\\extended_data_figures'\n"
   ]
  },
  {
   "cell_type": "code",
   "execution_count": 6,
   "id": "b9cf873f-c6a9-40bf-bd15-e59db1761d9c",
   "metadata": {
    "tags": []
   },
   "outputs": [
    {
     "data": {
      "text/plain": [
       "Text(0.5, 0, 'nuclear density ($m m^{-1}$)')"
      ]
     },
     "execution_count": 6,
     "metadata": {},
     "output_type": "execute_result"
    },
    {
     "data": {
      "application/vnd.jupyter.widget-view+json": {
       "model_id": "3e037e60d4f941fbb5c1bf23ece000bc",
       "version_major": 2,
       "version_minor": 0
      },
      "image/png": "[encoded data removed]",
      "text/html": [
       "\n",
       "            <div style=\"display: inline-block;\">\n",
       "                <div class=\"jupyter-widgets widget-label\" style=\"text-align: center;\">\n",
       "                    Figure\n",
       "                </div>\n",
       "                <img src='data:image/png;base64,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' width=400.0/>\n",
       "            </div>\n",
       "        "
      ],
      "text/plain": [
       "Canvas(toolbar=Toolbar(toolitems=[('Home', 'Reset original view', 'home', 'home'), ('Back', 'Back to previous …"
      ]
     },
     "metadata": {},
     "output_type": "display_data"
    }
   ],
   "source": [
    "fig,ax =plt.subplots(figsize = (2.,1))\n",
    "ax.hist(tab['nuclei per length (uM)']*1000)\n",
    "ax.set_ylabel(\"count\")\n",
    "ax.set_xlabel(\"nuclear density ($m m^{-1}$)\")\n",
    "# plt.savefig(os.path.join(path_figure,'dapi.pdf'), transparent=True, bbox_inches='tight')"
   ]
  }
 ],
 "metadata": {
  "kernelspec": {
   "display_name": "Python 3 (ipykernel)",
   "language": "python",
   "name": "python3"
  },
  "language_info": {
   "codemirror_mode": {
    "name": "ipython",
    "version": 3
   },
   "file_extension": ".py",
   "mimetype": "text/x-python",
   "name": "python",
   "nbconvert_exporter": "python",
   "pygments_lexer": "ipython3",
   "version": "3.10.6"
  }
 },
 "nbformat": 4,
 "nbformat_minor": 5
}
