{
 "cells": [
  {
   "cell_type": "code",
   "execution_count": 1,
   "id": "02d31825-616c-4d52-9f6a-70fc4fc0b541",
   "metadata": {
    "tags": []
   },
   "outputs": [
    {
     "name": "stderr",
     "output_type": "stream",
     "text": [
      "c:\\users\\coren\\documents\\phd\\code\\amftrack\\amftrack\\util\\dbx.py:3: TqdmExperimentalWarning: Using `tqdm.autonotebook.tqdm` in notebook mode. Use `tqdm.tqdm` instead to force console mode (e.g. in jupyter console)\n",
      "  from tqdm.autonotebook import tqdm\n"
     ]
    }
   ],
   "source": [
    "%load_ext autoreload\n",
    "%autoreload 2\n",
    "import os\n",
    "import matplotlib.pyplot as plt\n",
    "import os\n",
    "import pandas as pd\n",
    "from amftrack.util.sys import get_analysis_folders,get_time_plate_info_long_from_analysis,get_time_plate_info_from_analysis,get_time_hypha_info_from_analysis,get_global_hypha_info_from_analysis \n",
    "import numpy as np\n",
    "import imageio\n",
    "import os\n",
    "import cv2\n",
    "from scipy.interpolate import interp1d\n",
    "from scipy.optimize import curve_fit\n",
    "from amftrack.pipeline.final_analysis.density_wave import get_wave_fit, S, dS, wave, dwave,plot_single_plate\n",
    "import matplotlib.patches as mpatches\n",
    "import statsmodels.api as sm\n",
    "from amftrack.pipeline.final_analysis.hypha_speed_analysis import *\n",
    "import scipy\n",
    "from mpl_toolkits.axes_grid1.inset_locator import inset_axes\n",
    "import scipy.io as sio\n",
    "import matplotlib as mpl\n",
    "from matplotlib.path import Path\n",
    "from matplotlib.patches import PathPatch\n",
    "from matplotlib.legend_handler import HandlerTuple\n",
    "from amftrack.util.plot import gridplot\n",
    "import logging\n",
    "from datetime import timedelta\n",
    "\n",
    "%store -r path_figure\n",
    "\n",
    "logging.getLogger().setLevel(logging.WARNING)\n",
    "plt.style.use('presentation.mplstyle')\n",
    "\n",
    "%matplotlib widget"
   ]
  },
  {
   "cell_type": "code",
   "execution_count": 2,
   "id": "afee5709-be1e-4535-86e0-641ff96dee9d",
   "metadata": {},
   "outputs": [],
   "source": [
    "\n",
    "plates_paper = [\n",
    "    \"52_20220707\",\n",
    "    \"56_20220701\",\n",
    "    \"59_20201126\",\n",
    "    \"69_20201119\",\n",
    "    \"76_20210108\",\n",
    "    \"81_20220704\",\n",
    "    \"84_20220621\",\n",
    "    \"94_20201123\",\n",
    "    \"102_20201226\",\n",
    "    \"152_20201224\",\n",
    "    \"792_20210915\",\n",
    "    \"1076_20220511\",\n",
    "    \"941_20220404\",\n",
    "]\n",
    "plates_paper += [\n",
    "    \"1014_20220525\",\n",
    "    \"1023_20220502\",\n",
    "    \"1042_20220523\",\n",
    "    \"1045_20220504\",\n",
    "    \"1048_20220506\",\n",
    "    \"1053_20220413\",\n",
    "    \"127_20220705\",\n",
    "    \"130_20220707\",\n",
    "    \"800_20210928\",\n",
    "]"
   ]
  },
  {
   "cell_type": "code",
   "execution_count": 3,
   "id": "81555cac-d3a4-49fc-97b6-1459416458f4",
   "metadata": {
    "tags": []
   },
   "outputs": [],
   "source": [
    "plates_paper = [\n",
    "\"877_20220419\",\n",
    "\"56_20220701\",\n",
    "\"52_20220707\",\n",
    "\"99_20220815\",\n",
    "\"105_20220817\",\n",
    "\"108_20220823\",\n",
    "\"111_20220823\",\n",
    "\"106_20220826\",\n",
    "\"938_20220325\",\n",
    "\"839_20220325\",\n",
    "\"941_20220404\",\n",
    "\"991_20220325\",\n",
    "\"1024_20220516\",\n",
    "\"1040_20220502\",\n",
    "\"1048_20220506\",\n",
    "\"1014_20220525\",\n",
    "\"1053_20220413\",\n",
    "\"1031_20220419\",\n",
    "\"1045_20220504\",\n",
    "\"1035_20220518\",\n",
    "\"12_20220502\",\n",
    "\"13_20220422\",\n",
    "# \"21_20220502\",\n",
    "\"32_20220428\",\n",
    "\"30_20220506\",\n",
    "\"81_20220704\",\n",
    "\"91_20220708\",\n",
    "\"89_20220705\"\n",
    "]"
   ]
  },
  {
   "cell_type": "code",
   "execution_count": 4,
   "id": "4ae3060d-6103-4c60-8050-ad2808ff2ee1",
   "metadata": {},
   "outputs": [],
   "source": [
    "all_analysis_folders = get_analysis_folders()\n",
    "analysis_folders = all_analysis_folders.loc[all_analysis_folders['unique_id'].isin(plates_paper)]\n",
    "\n",
    "folders,time_plate_info = get_time_plate_info_from_analysis(analysis_folders,use_saved=False)"
   ]
  },
  {
   "cell_type": "code",
   "execution_count": 5,
   "id": "c379a0ea-8e0c-4314-904f-cd558fb7b7b7",
   "metadata": {
    "tags": []
   },
   "outputs": [
    {
     "data": {
      "text/html": [
       "<div>\n",
       "<style scoped>\n",
       "    .dataframe tbody tr th:only-of-type {\n",
       "        vertical-align: middle;\n",
       "    }\n",
       "\n",
       "    .dataframe tbody tr th {\n",
       "        vertical-align: top;\n",
       "    }\n",
       "\n",
       "    .dataframe thead th {\n",
       "        text-align: right;\n",
       "    }\n",
       "</style>\n",
       "<table border=\"1\" class=\"dataframe\">\n",
       "  <thead>\n",
       "    <tr style=\"text-align: right;\">\n",
       "      <th></th>\n",
       "      <th>Plate</th>\n",
       "      <th>tot_length_study</th>\n",
       "    </tr>\n",
       "  </thead>\n",
       "  <tbody>\n",
       "    <tr>\n",
       "      <th>0</th>\n",
       "      <td>877_20220419</td>\n",
       "      <td>1.615263e+06</td>\n",
       "    </tr>\n",
       "    <tr>\n",
       "      <th>1</th>\n",
       "      <td>56_20220701</td>\n",
       "      <td>1.470233e+06</td>\n",
       "    </tr>\n",
       "    <tr>\n",
       "      <th>2</th>\n",
       "      <td>52_20220707</td>\n",
       "      <td>2.180281e+06</td>\n",
       "    </tr>\n",
       "    <tr>\n",
       "      <th>3</th>\n",
       "      <td>99_20220815</td>\n",
       "      <td>1.582709e+06</td>\n",
       "    </tr>\n",
       "    <tr>\n",
       "      <th>4</th>\n",
       "      <td>105_20220817</td>\n",
       "      <td>2.214079e+06</td>\n",
       "    </tr>\n",
       "    <tr>\n",
       "      <th>5</th>\n",
       "      <td>108_20220823</td>\n",
       "      <td>2.407084e+06</td>\n",
       "    </tr>\n",
       "    <tr>\n",
       "      <th>6</th>\n",
       "      <td>111_20220823</td>\n",
       "      <td>4.024308e+04</td>\n",
       "    </tr>\n",
       "    <tr>\n",
       "      <th>7</th>\n",
       "      <td>106_20220826</td>\n",
       "      <td>3.372303e+06</td>\n",
       "    </tr>\n",
       "    <tr>\n",
       "      <th>8</th>\n",
       "      <td>938_20220325</td>\n",
       "      <td>2.427379e+06</td>\n",
       "    </tr>\n",
       "    <tr>\n",
       "      <th>9</th>\n",
       "      <td>839_20220325</td>\n",
       "      <td>1.367186e+06</td>\n",
       "    </tr>\n",
       "    <tr>\n",
       "      <th>10</th>\n",
       "      <td>941_20220404</td>\n",
       "      <td>1.348604e+06</td>\n",
       "    </tr>\n",
       "    <tr>\n",
       "      <th>11</th>\n",
       "      <td>991_20220325</td>\n",
       "      <td>3.540175e+06</td>\n",
       "    </tr>\n",
       "    <tr>\n",
       "      <th>12</th>\n",
       "      <td>1024_20220516</td>\n",
       "      <td>2.388070e+06</td>\n",
       "    </tr>\n",
       "    <tr>\n",
       "      <th>13</th>\n",
       "      <td>1040_20220502</td>\n",
       "      <td>4.596109e+06</td>\n",
       "    </tr>\n",
       "    <tr>\n",
       "      <th>14</th>\n",
       "      <td>1048_20220506</td>\n",
       "      <td>6.643952e+06</td>\n",
       "    </tr>\n",
       "    <tr>\n",
       "      <th>15</th>\n",
       "      <td>1014_20220525</td>\n",
       "      <td>5.071702e+06</td>\n",
       "    </tr>\n",
       "    <tr>\n",
       "      <th>16</th>\n",
       "      <td>1053_20220413</td>\n",
       "      <td>2.513026e+06</td>\n",
       "    </tr>\n",
       "    <tr>\n",
       "      <th>17</th>\n",
       "      <td>1031_20220419</td>\n",
       "      <td>3.356919e+06</td>\n",
       "    </tr>\n",
       "    <tr>\n",
       "      <th>18</th>\n",
       "      <td>1045_20220504</td>\n",
       "      <td>3.730023e+06</td>\n",
       "    </tr>\n",
       "    <tr>\n",
       "      <th>19</th>\n",
       "      <td>1035_20220518</td>\n",
       "      <td>4.378232e+06</td>\n",
       "    </tr>\n",
       "    <tr>\n",
       "      <th>20</th>\n",
       "      <td>12_20220502</td>\n",
       "      <td>1.046517e+07</td>\n",
       "    </tr>\n",
       "    <tr>\n",
       "      <th>21</th>\n",
       "      <td>13_20220422</td>\n",
       "      <td>9.856703e+06</td>\n",
       "    </tr>\n",
       "    <tr>\n",
       "      <th>22</th>\n",
       "      <td>32_20220428</td>\n",
       "      <td>6.246181e+06</td>\n",
       "    </tr>\n",
       "    <tr>\n",
       "      <th>23</th>\n",
       "      <td>30_20220506</td>\n",
       "      <td>NaN</td>\n",
       "    </tr>\n",
       "    <tr>\n",
       "      <th>24</th>\n",
       "      <td>81_20220704</td>\n",
       "      <td>3.327774e+06</td>\n",
       "    </tr>\n",
       "    <tr>\n",
       "      <th>25</th>\n",
       "      <td>91_20220708</td>\n",
       "      <td>3.002906e+06</td>\n",
       "    </tr>\n",
       "    <tr>\n",
       "      <th>26</th>\n",
       "      <td>89_20220705</td>\n",
       "      <td>1.591370e+06</td>\n",
       "    </tr>\n",
       "  </tbody>\n",
       "</table>\n",
       "</div>"
      ],
      "text/plain": [
       "            Plate  tot_length_study\n",
       "0    877_20220419      1.615263e+06\n",
       "1     56_20220701      1.470233e+06\n",
       "2     52_20220707      2.180281e+06\n",
       "3     99_20220815      1.582709e+06\n",
       "4    105_20220817      2.214079e+06\n",
       "5    108_20220823      2.407084e+06\n",
       "6    111_20220823      4.024308e+04\n",
       "7    106_20220826      3.372303e+06\n",
       "8    938_20220325      2.427379e+06\n",
       "9    839_20220325      1.367186e+06\n",
       "10   941_20220404      1.348604e+06\n",
       "11   991_20220325      3.540175e+06\n",
       "12  1024_20220516      2.388070e+06\n",
       "13  1040_20220502      4.596109e+06\n",
       "14  1048_20220506      6.643952e+06\n",
       "15  1014_20220525      5.071702e+06\n",
       "16  1053_20220413      2.513026e+06\n",
       "17  1031_20220419      3.356919e+06\n",
       "18  1045_20220504      3.730023e+06\n",
       "19  1035_20220518      4.378232e+06\n",
       "20    12_20220502      1.046517e+07\n",
       "21    13_20220422      9.856703e+06\n",
       "22    32_20220428      6.246181e+06\n",
       "23    30_20220506               NaN\n",
       "24    81_20220704      3.327774e+06\n",
       "25    91_20220708      3.002906e+06\n",
       "26    89_20220705      1.591370e+06"
      ]
     },
     "execution_count": 5,
     "metadata": {},
     "output_type": "execute_result"
    }
   ],
   "source": [
    "def get_tot_length_study(plate):\n",
    "    subset = time_plate_info[time_plate_info['unique_id'] == int(plate)]\n",
    "    if len(subset['unique_id'].unique()) == 1:\n",
    "        return np.nanmax(subset['tot_length_study'])\n",
    "    else:\n",
    "        return np.nan\n",
    "\n",
    "# Apply the function to each Plate in the list\n",
    "results = {plate: get_tot_length_study(plate) for plate in plates_paper}\n",
    "results_df = pd.Series(results, name='tot_length_study').reset_index()\n",
    "results_df.rename(columns={'index': 'Plate'}, inplace=True)\n",
    "results_df"
   ]
  },
  {
   "cell_type": "code",
   "execution_count": 6,
   "id": "5d088b7c-3ede-4dbc-8d22-db086568bedd",
   "metadata": {},
   "outputs": [],
   "source": [
    "spore_data = pd.read_csv('spores_rebutal.csv')"
   ]
  },
  {
   "cell_type": "code",
   "execution_count": 7,
   "id": "58ebe1ed-25e6-4434-9c56-cc73ab536236",
   "metadata": {},
   "outputs": [
    {
     "data": {
      "text/plain": [
       "array([\"'001P100N100C'\", \"'001P100N'\", \"'001P100N200C'\",\n",
       "       \"'001P100N200C-T'\"], dtype=object)"
      ]
     },
     "execution_count": 7,
     "metadata": {},
     "output_type": "execute_result"
    }
   ],
   "source": [
    "spore_data['medium'].unique()"
   ]
  },
  {
   "cell_type": "code",
   "execution_count": 8,
   "id": "097ddfa4-69e3-4756-bc85-9af29f0c6837",
   "metadata": {},
   "outputs": [],
   "source": [
    "spore_data['medium']=spore_data['medium'].replace(\"'001P100N200C-T'\",\"001P100N200C\")\n",
    "spore_data['medium']=spore_data['medium'].replace(\"'001P100N'\",\"001P100N100C\")\n",
    "spore_data['medium']=spore_data['medium'].replace(\"'001P100N200C'\",\"001P100N200C\")\n",
    "spore_data['medium']=spore_data['medium'].replace(\"'001P100N100C'\",\"001P100N100C\")\n",
    "spore_data['strain']=spore_data['strain'].replace(\"'A5sp3'\",\"'A5'\")"
   ]
  },
  {
   "cell_type": "code",
   "execution_count": 9,
   "id": "9105f4d7-c874-4c85-93e9-1f0a08dc9147",
   "metadata": {},
   "outputs": [],
   "source": [
    "spore_data['date'] = pd.to_datetime(spore_data['date'])"
   ]
  },
  {
   "cell_type": "code",
   "execution_count": 10,
   "id": "a5fd9ec3-1039-495e-b067-c95cfbbf7272",
   "metadata": {},
   "outputs": [],
   "source": [
    "spore_data['day'] = (spore_data['time_since_begin_h']//24).astype(int)\n",
    "spore_data['3day'] = spore_data['day']//3*3\n",
    "\n"
   ]
  },
  {
   "cell_type": "code",
   "execution_count": 11,
   "id": "3962d126-6123-4a70-89d1-6ff65cf7afce",
   "metadata": {
    "tags": []
   },
   "outputs": [],
   "source": [
    "merged = spore_data.merge(time_plate_info,left_on = \"date\",right_on=\"datetime\",how=\"left\")\n",
    "merged['treatment'] = merged['medium_x']+merged['strain_x']\n"
   ]
  },
  {
   "cell_type": "code",
   "execution_count": 12,
   "id": "2eb788ac-28a7-446c-a1f9-a34b1727ebb3",
   "metadata": {},
   "outputs": [],
   "source": [
    "merged['total_biovolume_estimated'] = merged['tot_length_study']*np.pi*3**2"
   ]
  },
  {
   "cell_type": "code",
   "execution_count": 13,
   "id": "88e77eca-95f8-4421-9dda-f33fc913eab1",
   "metadata": {},
   "outputs": [],
   "source": [
    "color_map = {\n",
    "    \"001P100N100C'A5'\": 'orange',\n",
    "    \"001P100N200C'A5'\": 'red',\n",
    "    \"001P100N100C'C2'\": 'blue',\n",
    "    \"001P100N200C'C2'\": 'purple'\n",
    "}"
   ]
  },
  {
   "cell_type": "code",
   "execution_count": 14,
   "id": "d4a405b1-6d18-41ce-9a61-40b74df0dc02",
   "metadata": {},
   "outputs": [],
   "source": [
    "path_figure = r'C:\\\\Users\\\\coren\\\\AMOLF-SHIMIZU Dropbox\\\\HFSP_symbiotic-networks\\\\Article_TravellingWave\\\\Supplementary material\\\\extended_data_figures'"
   ]
  },
  {
   "cell_type": "code",
   "execution_count": 15,
   "id": "da64a151-eafc-462d-87c9-6a4d8a6b2a73",
   "metadata": {},
   "outputs": [
    {
     "name": "stdout",
     "output_type": "stream",
     "text": [
      "2024-05-16 14:14:41,236-[WARNING]- fontTools.subset:2983 -> meta NOT subset; don't know how to subset; dropped\n"
     ]
    },
    {
     "data": {
      "application/vnd.jupyter.widget-view+json": {
       "model_id": "911d147de3e04887be55bfc9be22f26c",
       "version_major": 2,
       "version_minor": 0
      },
      "image/png": "[encoded data removed]",
      "text/html": [
       "\n",
       "            <div style=\"display: inline-block;\">\n",
       "                <div class=\"jupyter-widgets widget-label\" style=\"text-align: center;\">\n",
       "                    Figure\n",
       "                </div>\n",
       "                <img src='data:image/png;base64,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' width=150.0/>\n",
       "            </div>\n",
       "        "
      ],
      "text/plain": [
       "Canvas(toolbar=Toolbar(toolitems=[('Home', 'Reset original view', 'home', 'home'), ('Back', 'Back to previous …"
      ]
     },
     "metadata": {},
     "output_type": "display_data"
    }
   ],
   "source": [
    "import seaborn as sns\n",
    "select = merged[merged['day']<22]\n",
    "width = 1.5\n",
    "height = 0.5\n",
    "fig,ax = plt.subplots(figsize=(width,height))\n",
    "sns.lineplot(select,x=\"3day\",y=\"spore_volume_x\",hue = \"treatment\",ax=ax, palette=color_map,legend=False)\n",
    "\n",
    "ax.set_xlabel('days after crossing')\n",
    "ax.set_ylabel('$\\Omega_{spore}$ \\n($\\mu m^3$)')\n",
    "ax.set_xlim(0,20)\n",
    "ax.set_ylim(0,2.5e8)\n",
    "plt.savefig(os.path.join(path_figure,'Figure_rebutal_spore.pdf'), transparent=True, bbox_inches='tight')"
   ]
  },
  {
   "cell_type": "code",
   "execution_count": 16,
   "id": "eda44f17-5890-4948-a43e-7894ae75c8cf",
   "metadata": {},
   "outputs": [
    {
     "name": "stdout",
     "output_type": "stream",
     "text": [
      "2024-05-16 14:14:43,387-[WARNING]- fontTools.subset:2983 -> meta NOT subset; don't know how to subset; dropped\n"
     ]
    },
    {
     "data": {
      "application/vnd.jupyter.widget-view+json": {
       "model_id": "c45ebb9e298946ff8ec059c24c0f2c2c",
       "version_major": 2,
       "version_minor": 0
      },
      "image/png": "[encoded data removed]",
      "text/html": [
       "\n",
       "            <div style=\"display: inline-block;\">\n",
       "                <div class=\"jupyter-widgets widget-label\" style=\"text-align: center;\">\n",
       "                    Figure\n",
       "                </div>\n",
       "                <img src='data:image/png;base64,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' width=150.0/>\n",
       "            </div>\n",
       "        "
      ],
      "text/plain": [
       "Canvas(toolbar=Toolbar(toolitems=[('Home', 'Reset original view', 'home', 'home'), ('Back', 'Back to previous …"
      ]
     },
     "metadata": {},
     "output_type": "display_data"
    }
   ],
   "source": [
    "fig,ax = plt.subplots(figsize=(width,height))\n",
    "\n",
    "sns.lineplot(select,x=\"3day\",y=\"total_biovolume_estimated\",hue = \"treatment\",ax=ax, palette=color_map,legend=False)\n",
    "ax.set_xlabel('')\n",
    "# ax.set_xlabel('days after crossing')\n",
    "ax.set_xticklabels([])\n",
    "\n",
    "ax.set_ylabel('$\\Omega_{hyphae}$ \\n ($\\mu m^3$)')\n",
    "ax.set_xlim(0,20)\n",
    "ax.set_ylim(0,2.5e8)\n",
    "plt.savefig(os.path.join(path_figure,'Figure_rebutal_length.pdf'), transparent=True, bbox_inches='tight')"
   ]
  },
  {
   "cell_type": "code",
   "execution_count": 17,
   "id": "ac3a95ac-0dd4-4bb8-966d-fe72ef6e7168",
   "metadata": {},
   "outputs": [],
   "source": [
    "data_harvest = pd.read_csv(\"2022_CarbonExperiment.csv\",sep=\";\")"
   ]
  },
  {
   "cell_type": "code",
   "execution_count": 18,
   "id": "a2d21824-5bdf-47de-81c1-b6ce0c88915d",
   "metadata": {},
   "outputs": [],
   "source": [
    "data_harvest['treatment'] = data_harvest['treatment']+data_harvest['fungus']\n"
   ]
  },
  {
   "cell_type": "code",
   "execution_count": 19,
   "id": "5414df0e-7fc1-4089-9040-727895be08c5",
   "metadata": {},
   "outputs": [
    {
     "name": "stdout",
     "output_type": "stream",
     "text": [
      "2024-05-16 14:14:44,783-[WARNING]- fontTools.subset:2983 -> meta NOT subset; don't know how to subset; dropped\n"
     ]
    },
    {
     "data": {
      "application/vnd.jupyter.widget-view+json": {
       "model_id": "7ef02c6c52164bd6b43507a795504ae9",
       "version_major": 2,
       "version_minor": 0
      },
      "image/png": "[encoded data removed]",
      "text/html": [
       "\n",
       "            <div style=\"display: inline-block;\">\n",
       "                <div class=\"jupyter-widgets widget-label\" style=\"text-align: center;\">\n",
       "                    Figure\n",
       "                </div>\n",
       "                <img src='data:image/png;base64,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' width=150.0/>\n",
       "            </div>\n",
       "        "
      ],
      "text/plain": [
       "Canvas(toolbar=Toolbar(toolitems=[('Home', 'Reset original view', 'home', 'home'), ('Back', 'Back to previous …"
      ]
     },
     "metadata": {},
     "output_type": "display_data"
    }
   ],
   "source": [
    "import seaborn as sns\n",
    "\n",
    "colors = {\n",
    "    '100CA5': 'orange',\n",
    "    '200CA5': 'red',\n",
    "    '100CC2': 'blue',\n",
    "    '200CC2': 'purple'\n",
    "}\n",
    "treatment_order = list(colors.keys())\n",
    "select=data_harvest[data_harvest['treatment'].isin(colors.keys())]\n",
    "\n",
    "width = 1.5\n",
    "height = 1\n",
    "fig,ax = plt.subplots(figsize=(width,height))\n",
    "sns.boxplot(x='treatment', y = \"dry root [mg]\",data=select, ax=ax, color='white', fliersize=0,palette = colors, order=treatment_order)\n",
    "# Add the individual points\n",
    "sns.stripplot(x='treatment', y = \"dry root [mg]\", data=select, ax=ax, color='green', marker='^',size = 2, order=treatment_order)\n",
    "# ax.set_yscale(\"log\")\n",
    "ax.set_ylabel(\"root dry weight \\n ($mg$)\")\n",
    "ax.set_xticklabels(['A5 \\n 100C', 'A5 \\n 200C','C2 \\n 100C', 'C2 \\n 200C'])\n",
    "\n",
    "# Remove x-label\n",
    "ax.set_xlabel('')\n",
    "plt.savefig(os.path.join(path_figure,'FigureS4_root_weight.pdf'), transparent=True, bbox_inches='tight')"
   ]
  },
  {
   "cell_type": "code",
   "execution_count": 20,
   "id": "a42c3398-38c9-4fe7-825c-58b9f89a9bd0",
   "metadata": {},
   "outputs": [
    {
     "name": "stdout",
     "output_type": "stream",
     "text": [
      "2024-05-16 14:14:45,614-[WARNING]- fontTools.subset:2983 -> meta NOT subset; don't know how to subset; dropped\n"
     ]
    },
    {
     "data": {
      "application/vnd.jupyter.widget-view+json": {
       "model_id": "365c4bee925e44558c20f6c24c37f3a0",
       "version_major": 2,
       "version_minor": 0
      },
      "image/png": "[encoded data removed]",
      "text/html": [
       "\n",
       "            <div style=\"display: inline-block;\">\n",
       "                <div class=\"jupyter-widgets widget-label\" style=\"text-align: center;\">\n",
       "                    Figure\n",
       "                </div>\n",
       "                <img src='data:image/png;base64,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' width=75.0/>\n",
       "            </div>\n",
       "        "
      ],
      "text/plain": [
       "Canvas(toolbar=Toolbar(toolitems=[('Home', 'Reset original view', 'home', 'home'), ('Back', 'Back to previous …"
      ]
     },
     "metadata": {},
     "output_type": "display_data"
    }
   ],
   "source": [
    "import seaborn as sns\n",
    "\n",
    "colors = {\n",
    "    '100CA5': 'orange',\n",
    "    '200CA5': 'red',\n",
    "}\n",
    "treatment_order = list(colors.keys())\n",
    "select=data_harvest[data_harvest['treatment'].isin(colors.keys())]\n",
    "\n",
    "\n",
    "width = 0.75\n",
    "height = 1\n",
    "fig,ax = plt.subplots(figsize=(width,height))\n",
    "sns.boxplot(x='treatment', y = \"dry root [mg]\",data=select, ax=ax, color='white', fliersize=0,palette = colors, order=treatment_order)\n",
    "# Add the individual points\n",
    "sns.stripplot(x='treatment', y = \"dry root [mg]\", data=select, ax=ax, color='green', marker='^',size = 2, order=treatment_order)\n",
    "# ax.set_yscale(\"log\")\n",
    "ax.set_ylabel(\"root dry weight \\n ($mg$)\")\n",
    "ax.set_xticklabels(['A5 \\n 100C', 'A5 \\n 200C'])\n",
    "\n",
    "# Remove x-label\n",
    "ax.set_xlabel('')\n",
    "ax.set_ylim(65,155)\n",
    "plt.savefig(os.path.join(path_figure,'FigureS4_root_weight_A5.pdf'), transparent=True, bbox_inches='tight')"
   ]
  },
  {
   "cell_type": "code",
   "execution_count": 21,
   "id": "be23712d-7da2-4932-a5d1-fe3cdb47e3a4",
   "metadata": {},
   "outputs": [
    {
     "name": "stdout",
     "output_type": "stream",
     "text": [
      "2024-05-16 14:14:46,483-[WARNING]- fontTools.subset:2983 -> meta NOT subset; don't know how to subset; dropped\n"
     ]
    },
    {
     "data": {
      "application/vnd.jupyter.widget-view+json": {
       "model_id": "e1a2292c3deb4b758942f410e3167682",
       "version_major": 2,
       "version_minor": 0
      },
      "image/png": "[encoded data removed]",
      "text/html": [
       "\n",
       "            <div style=\"display: inline-block;\">\n",
       "                <div class=\"jupyter-widgets widget-label\" style=\"text-align: center;\">\n",
       "                    Figure\n",
       "                </div>\n",
       "                <img src='data:image/png;base64,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' width=75.0/>\n",
       "            </div>\n",
       "        "
      ],
      "text/plain": [
       "Canvas(toolbar=Toolbar(toolitems=[('Home', 'Reset original view', 'home', 'home'), ('Back', 'Back to previous …"
      ]
     },
     "metadata": {},
     "output_type": "display_data"
    }
   ],
   "source": [
    "import seaborn as sns\n",
    "\n",
    "colors = {\n",
    "    '100CC2': 'blue',\n",
    "    '200CC2': 'purple'\n",
    "}\n",
    "treatment_order = list(colors.keys())\n",
    "select=data_harvest[data_harvest['treatment'].isin(colors.keys())]\n",
    "\n",
    "\n",
    "width = 0.75\n",
    "height = 1\n",
    "fig,ax = plt.subplots(figsize=(width,height))\n",
    "sns.boxplot(x='treatment', y = \"dry root [mg]\",data=select, ax=ax, color='white', fliersize=0,palette = colors, order=treatment_order)\n",
    "# Add the individual points\n",
    "sns.stripplot(x='treatment', y = \"dry root [mg]\", data=select, ax=ax, color='green', marker='^',size = 2, order=treatment_order)\n",
    "# ax.set_yscale(\"log\")\n",
    "ax.set_ylabel(\"root dry weight \\n ($mg$)\")\n",
    "ax.set_xticklabels(['C2 \\n 100C', 'C2 \\n 200C'])\n",
    "\n",
    "# Remove x-label\n",
    "ax.set_xlabel('')\n",
    "ax.set_ylabel('')\n",
    "ax.set_ylim(65,155)\n",
    "\n",
    "plt.savefig(os.path.join(path_figure,'FigureS4_root_weight_C2.pdf'), transparent=True, bbox_inches='tight')"
   ]
  },
  {
   "cell_type": "code",
   "execution_count": null,
   "id": "e64b16ed-ff9b-415c-80d4-52ce9b30cdfe",
   "metadata": {},
   "outputs": [],
   "source": []
  },
  {
   "cell_type": "code",
   "execution_count": 22,
   "id": "ebe56814-5cf9-4545-932b-5f7e0a350f39",
   "metadata": {
    "tags": []
   },
   "outputs": [],
   "source": [
    "all_analysis_folders = get_analysis_folders()\n",
    "plates = [\n",
    "\"822_20231204\",\n",
    "# \"866_20231204\",\n",
    "\"918_20231110\"\n",
    "]\n",
    "analysis_folders = all_analysis_folders.loc[all_analysis_folders['unique_id'].isin(plates)]\n",
    "folders,time_plate_info = get_time_plate_info_from_analysis(analysis_folders,use_saved=False)\n",
    "time_plate_info = time_plate_info.replace(-1.0,np.nan)\n",
    "width = 1.6\n",
    "height = 1\n",
    "# folders, time_hypha_info = get_time_hypha_info_from_analysis(analysis_folders,use_saved=False)\n",
    "# folders,global_hypha_info = get_global_hypha_info_from_analysis(analysis_folders,use_saved=False)"
   ]
  }
 ],
 "metadata": {
  "kernelspec": {
   "display_name": "Python 3 (ipykernel)",
   "language": "python",
   "name": "python3"
  },
  "language_info": {
   "codemirror_mode": {
    "name": "ipython",
    "version": 3
   },
   "file_extension": ".py",
   "mimetype": "text/x-python",
   "name": "python",
   "nbconvert_exporter": "python",
   "pygments_lexer": "ipython3",
   "version": "3.10.6"
  }
 },
 "nbformat": 4,
 "nbformat_minor": 5
}
