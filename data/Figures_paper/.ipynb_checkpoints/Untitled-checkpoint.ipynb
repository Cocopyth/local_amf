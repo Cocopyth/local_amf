{
 "cells": [
  {
   "cell_type": "code",
   "execution_count": null,
   "metadata": {},
   "outputs": [],
   "source": [
    "fig, ax = plt.subplots()\n",
    "window = 20\n",
    "def func(x, D,alpha):\n",
    "    return(D*x**alpha)\n",
    "alphas,Ds,molecules,speeds,mean_path_widths = [],[],[],[],[]\n",
    "for molecule in long_traj:\n",
    "#     molecule = choice(long_traj)\n",
    "    to_plot = trajectories.loc[(trajectories['Molecule#']==molecule)]\n",
    "    Y = to_plot['y_position[nm]']\n",
    "    X = to_plot['x_position[nm]']\n",
    "    X = np.array(X).reshape(-1,1)\n",
    "    lm = linear_model.LinearRegression()\n",
    "    model = lm.fit(X,Y)\n",
    "    displacement = np.transpose((np.transpose(X)*model.coef_-np.array(Y)+model.intercept_)/np.sqrt(1+model.coef_**2))\n",
    "    msd = []\n",
    "    for tau in range(size_min//2):\n",
    "        sd = []\n",
    "        for index in range(len(displacement)-tau):\n",
    "            sd.append((displacement[index]-displacement[index+tau])**2)\n",
    "        msd.append(np.mean(sd))\n",
    "    path_widths = []\n",
    "    for index in range(len(displacement)-window):\n",
    "        path_widths.append(np.max(displacement[index:index+tau])-np.min(displacement[index:index+tau]))\n",
    "    mean_path_widths.append(np.mean(path_widths))\n",
    "    taus = [tau*0.05 for tau in range(size_min//2)]\n",
    "    popt, pcov = curve_fit(func, taus, msd,bounds = ([0,0],2*[np.inf]),p0=(0.1,0.1))\n",
    "    alphas.append(popt[1])\n",
    "    Ds.append(popt[0])\n",
    "    molecules.append(molecule)\n",
    "    speeds.append(np.mean(to_plot['Velocity[um/s]']))\n",
    "    ax.plot(msd,alpha = 0.1)\n",
    "ax.set_ylim((0,400**2))"
   ]
  },
  {
   "cell_type": "code",
   "execution_count": null,
   "metadata": {},
   "outputs": [],
   "source": [
    "data = np.array((alphas,Ds,molecules,speeds,mean_path_widths)).transpose()\n",
    "table_traj = pd.DataFrame(data,columns=(\"alpha\",\"D\",\"molecule\",\"speed\",\"path_width\"))\n",
    "table_traj = table_traj.loc[table_traj['D']<=1e6]"
   ]
  }
 ],
 "metadata": {
  "kernelspec": {
   "display_name": "Python 3",
   "language": "python",
   "name": "python3"
  },
  "language_info": {
   "codemirror_mode": {
    "name": "ipython",
    "version": 3
   },
   "file_extension": ".py",
   "mimetype": "text/x-python",
   "name": "python",
   "nbconvert_exporter": "python",
   "pygments_lexer": "ipython3",
   "version": "3.7.9"
  }
 },
 "nbformat": 4,
 "nbformat_minor": 4
}
