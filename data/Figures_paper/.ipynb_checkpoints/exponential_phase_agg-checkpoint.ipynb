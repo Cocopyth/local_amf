{
 "cells": [
  {
   "cell_type": "code",
   "execution_count": 2,
   "metadata": {},
   "outputs": [],
   "source": [
    "import pandas as pd\n",
    "import matplotlib.pyplot as plt\n",
    "\n",
    "%matplotlib widget\n",
    "plt.close('all')\n",
    "import numpy as np\n",
    "import os\n",
    "import scipy as sp\n",
    "import scipy.fftpack\n",
    "from scipy.interpolate import interp1d\n",
    "from sklearn.linear_model import LinearRegression\n",
    "from scipy.signal import savgol_filter\n",
    "def autocorr(x):\n",
    "    result = np.correlate(x, x, mode='full')\n",
    "    return result[result.size // 2:]\n",
    "from sklearn.preprocessing import StandardScaler\n"
   ]
  },
  {
   "cell_type": "code",
   "execution_count": 3,
   "metadata": {},
   "outputs": [],
   "source": [
    "path_save = r\"C:\\Users\\coren\\Dropbox\\Apps\\Snellius2\\data_tables\\time_plate_infos_agg.pick\"\n",
    "time_plate_info = pd.read_pickle(path_save)\n"
   ]
  },
  {
   "cell_type": "code",
   "execution_count": 10,
   "metadata": {},
   "outputs": [
    {
     "name": "stderr",
     "output_type": "stream",
     "text": [
      "C:\\Users\\coren\\anaconda3\\envs\\cleanMsc\\lib\\site-packages\\pandas\\core\\arraylike.py:358: RuntimeWarning: divide by zero encountered in log2\n",
      "  result = getattr(ufunc, method)(*inputs, **kwargs)\n",
      "C:\\Users\\coren\\anaconda3\\envs\\cleanMsc\\lib\\site-packages\\numpy\\lib\\function_base.py:1080: RuntimeWarning: invalid value encountered in multiply\n",
      "  out[tuple(slice1)] = a * f[tuple(slice2)] + b * f[tuple(slice3)] + c * f[tuple(slice4)]\n",
      "C:\\Users\\coren\\anaconda3\\envs\\cleanMsc\\lib\\site-packages\\numpy\\lib\\function_base.py:1080: RuntimeWarning: invalid value encountered in add\n",
      "  out[tuple(slice1)] = a * f[tuple(slice2)] + b * f[tuple(slice3)] + c * f[tuple(slice4)]\n",
      "C:\\Users\\coren\\anaconda3\\envs\\cleanMsc\\lib\\site-packages\\numpy\\lib\\function_base.py:1089: RuntimeWarning: invalid value encountered in double_scalars\n",
      "  out[tuple(slice1)] = (f[tuple(slice2)] - f[tuple(slice3)]) / dx_0\n"
     ]
    }
   ],
   "source": [
    "plates = [737]\n",
    "ind_plate_table= {}\n",
    "for plate in plates:\n",
    "    ind_plate_table[plate]=time_plate_info.loc[time_plate_info['Plate']==plate].copy()\n",
    "roundin = 1000\n",
    "for plate in plates:\n",
    "    table = ind_plate_table[plate]\n",
    "    table['total_length_m'] = table['tot_length_study']/10**6\n",
    "    table['speed'] = table['tot_length_study'].diff(5)/table['time_since_begin'].diff(5)\n",
    "    table['mean_step'] = np.mean(table['time_since_begin'].diff(1))\n",
    "    table['density'] = table['tot_length_study']/(table['area_sep_comp']+1)\n",
    "    table['ring_density'] = table['tot_length_study'].diff(10)/(table['area_sep_comp'].diff(10)+1)\n",
    "    table['log_length_study'] = np.log2(table['tot_length_study'].astype(float))\n",
    "    table['local_growth_rate'] = np.gradient(table['log_length_study'],table['time_since_begin'])*24\n"
   ]
  },
  {
   "cell_type": "code",
   "execution_count": 11,
   "metadata": {},
   "outputs": [],
   "source": [
    "select_plates = [737]\n",
    "\n",
    "t0s = {737: 20}\n",
    "t1s = {737 : 60}"
   ]
  },
  {
   "cell_type": "code",
   "execution_count": 50,
   "metadata": {},
   "outputs": [
    {
     "data": {
      "application/vnd.jupyter.widget-view+json": {
       "model_id": "62b03f53fa2c4f8f8072eda5b3d3b296",
       "version_major": 2,
       "version_minor": 0
      },
      "text/plain": [
       "Canvas(toolbar=Toolbar(toolitems=[('Home', 'Reset original view', 'home', 'home'), ('Back', 'Back to previous …"
      ]
     },
     "metadata": {},
     "output_type": "display_data"
    },
    {
     "name": "stderr",
     "output_type": "stream",
     "text": [
      "C:\\Users\\coren\\anaconda3\\envs\\cleanMsc\\lib\\site-packages\\pandas\\core\\arraylike.py:358: RuntimeWarning: invalid value encountered in log2\n",
      "  result = getattr(ufunc, method)(*inputs, **kwargs)\n"
     ]
    },
    {
     "data": {
      "text/plain": [
       "Text(0.04, 0.5, 'Total network length $(m)$')"
      ]
     },
     "execution_count": 50,
     "metadata": {},
     "output_type": "execute_result"
    }
   ],
   "source": [
    "fig, ax = plt.subplots()\n",
    "ax2=ax.twinx()\n",
    "x = 'time_since_begin4'\n",
    "y = 'total_length_m'\n",
    "logy =False\n",
    "# ylim = (100,300)\n",
    "xlim = (-60,200)\n",
    "ylim = None\n",
    "kind = \"scatter\"\n",
    "# fig = plt.figure()\n",
    "# ax = plt.subplot(111)\n",
    "xlabel = 'time (h)'\n",
    "ylabel = r'Total network length $(m)$'\n",
    "num_columns = 2\n",
    "for i,plate in enumerate(select_plates):\n",
    "    table = ind_plate_table[plate]\n",
    "    t0 = np.min(table.loc[table[\"total_length_m\"]>=0.2][\"time_since_begin\"])\n",
    "#     ylim = (0,min(np.max(table['speed']),60000))\n",
    "    table['time_since_begin3'] = table['time_since_begin']-t0\n",
    "    table['time_since_begin4'] = table['time_since_begin']-t1s[plate]\n",
    "    in_study = table.loc[table['out_study']==0]\n",
    "    if len(in_study)>0:\n",
    "        ax.scatter(in_study[x],in_study[y],label = plate)\n",
    "    ax.set_xlabel(None,fontsize=5)\n",
    "    ax.set_ylabel(None,fontsize=5)\n",
    "#     ax.set_yscale('log')\n",
    "    y = 'total_length_m'\n",
    "    f = interp1d(in_study[x], in_study[y])\n",
    "    deb = np.min(in_study[x])\n",
    "    end = np.max(in_study[x])\n",
    "    frequ = 1\n",
    "    av_lapse = 311\n",
    "    x0 = np.linspace(deb,end,1000)\n",
    "    resampled = pd.DataFrame({'time':x0,'total_length_m':f(x0)})\n",
    "    reg = LinearRegression().fit(x0.reshape((-1, 1)), f(x0))\n",
    "    resampled['total_length_m_smooth']= savgol_filter(resampled['total_length_m'], av_lapse, 3)\n",
    "    resampled['log_total_length_m_smooth']=np.log2(resampled['total_length_m_smooth'])\n",
    "    resampled['local_growth_rate'] = resampled['log_total_length_m_smooth'].diff(10)/resampled['time'].diff(10)*24\n",
    "    ax2.plot(resampled['time'],resampled['local_growth_rate'],label = plate)\n",
    "\n",
    "# plt.tick_params(labelcolor=\"none\", bottom=False, left=False)\n",
    "ax.set_xlim(xlim)  \n",
    "ax2.set_ylim((0,8)) \n",
    "ax.set_ylim(None)\n",
    "ax2.set_ylabel('relative growth rate (.day-1)',size = 20)\n",
    "plt.legend()\n",
    "ax2.vlines(0,0,8,color=\"black\")\n",
    "\n",
    "fig.text(0.5, 0.004, xlabel, ha='center',fontdict = {'size' : 20} )\n",
    "fig.text(0.04, 0.5, ylabel, va='center', rotation='vertical',fontdict = {'size' : 20})"
   ]
  },
  {
   "cell_type": "code",
   "execution_count": 38,
   "metadata": {},
   "outputs": [
    {
     "name": "stderr",
     "output_type": "stream",
     "text": [
      "C:\\Users\\coren\\anaconda3\\envs\\cleanMsc\\lib\\site-packages\\ipykernel_launcher.py:9: SettingWithCopyWarning: \n",
      "A value is trying to be set on a copy of a slice from a DataFrame.\n",
      "Try using .loc[row_indexer,col_indexer] = value instead\n",
      "\n",
      "See the caveats in the documentation: https://pandas.pydata.org/pandas-docs/stable/user_guide/indexing.html#returning-a-view-versus-a-copy\n",
      "  if __name__ == '__main__':\n"
     ]
    }
   ],
   "source": [
    "from datetime import datetime\n",
    "\n",
    "plate = 737\n",
    "table = ind_plate_table[plate].loc[ind_plate_table[plate]['out_study']==False]\n",
    "# table = time_plate_info.loc[time_plate_info['t'].between(0,78)]\n",
    "# table = ind_plate_table[plate]\n",
    "# table = table.loc[(np.abs(table['total_length_m']-0.5716619403117118)>0.01)&(np.abs(table['total_length_m']-0.954)>0.01)]\n",
    "y = 'total_length_m'\n",
    "table['total_length_m'] = table['tot_length_study']/10**6\n",
    "f = interp1d(table['time_since_begin'], table[y])\n",
    "g= interp1d(table['time_since_begin'], table['datetime'])\n",
    "\n",
    "deb = np.min(table['time_since_begin'])\n",
    "end = np.max(table['time_since_begin'])\n",
    "frequ = 1\n",
    "av_lapse = 87\n",
    "x = np.linspace(deb,end,int((end-deb)*frequ)+1)\n",
    "# x = x[10:]\n",
    "resampled = pd.DataFrame({'time':x,y:f(x)})\n",
    "coefs = np.polyfit(x,resampled[y] ,5)\n",
    "p = np.poly1d(coefs)\n",
    "resampled['total_length_m_smooth']=resampled[y].rolling(40,center= True).mean()\n",
    "resampled['absolute_time']=pd.to_datetime(g(resampled['time']))\n",
    "resampled['time_of_day']=resampled['absolute_time'].dt.hour\n",
    "\n",
    "resampled['total_length_m_smooth2']= savgol_filter(resampled[y], av_lapse*frequ, 3)\n",
    "resampled['total_length_m_smooth3']= p(x)\n",
    "\n",
    "resampled['total_length_m_residual3'] = resampled[y]-resampled['total_length_m_smooth2']\n",
    "resampled['total_length_m_residual4'] = resampled[y]-resampled['total_length_m_smooth3']\n",
    "\n",
    "resampled['total_length_m_residual_ZMUV3'] = (resampled['total_length_m_residual3']-np.mean(resampled['total_length_m_residual3']))/np.std(resampled['total_length_m_residual3'])\n",
    "resampled['total_length_m_residual_ZMUV4'] = (resampled['total_length_m_residual4']-np.mean(resampled['total_length_m_residual4']))/np.std(resampled['total_length_m_residual4'])"
   ]
  },
  {
   "cell_type": "code",
   "execution_count": 39,
   "metadata": {},
   "outputs": [
    {
     "data": {
      "application/vnd.jupyter.widget-view+json": {
       "model_id": "40df1065dc714ecc8c46f12efb4d4722",
       "version_major": 2,
       "version_minor": 0
      },
      "text/plain": [
       "Canvas(toolbar=Toolbar(toolitems=[('Home', 'Reset original view', 'home', 'home'), ('Back', 'Back to previous …"
      ]
     },
     "metadata": {},
     "output_type": "display_data"
    },
    {
     "data": {
      "text/plain": [
       "Text(0, 0.5, 'total length (m)')"
      ]
     },
     "execution_count": 39,
     "metadata": {},
     "output_type": "execute_result"
    }
   ],
   "source": [
    "fig, ax = plt.subplots(1, 1, figsize=(8, 4))\n",
    "# ax.plot(x,resampled['speed'])\n",
    "# ax.plot(x,reg.predict(x.reshape((-1, 1))))\n",
    "# ax.plot(x,resampled['speed_residual_ZMUV3'])\n",
    "ax.plot(resampled['absolute_time'],resampled['total_length_m'])\n",
    "ax.plot(resampled['absolute_time'],resampled['total_length_m_smooth2'])\n",
    "# ax.plot(x,resampled['total_length_m_smooth'])\n",
    "\n",
    "# ax.plot(x,p(x))\n",
    "# ax.plot(x,yhat)\n",
    "ax.set_xlabel('time (h)')\n",
    "ax.set_ylabel('total length ($\\mu  m)$')\n",
    "ax.set_ylabel('total length (m)')"
   ]
  },
  {
   "cell_type": "code",
   "execution_count": 40,
   "metadata": {},
   "outputs": [
    {
     "data": {
      "application/vnd.jupyter.widget-view+json": {
       "model_id": "1162dab0d3cd44089c045a351996c4b0",
       "version_major": 2,
       "version_minor": 0
      },
      "text/plain": [
       "Canvas(toolbar=Toolbar(toolitems=[('Home', 'Reset original view', 'home', 'home'), ('Back', 'Back to previous …"
      ]
     },
     "metadata": {},
     "output_type": "display_data"
    }
   ],
   "source": [
    "from matplotlib.dates import DateFormatter\n",
    "import matplotlib.dates as mdates\n",
    "fig, ax = plt.subplots(1, 1, figsize=(8, 4))\n",
    "# ax.plot(x,resampled['speed'])\n",
    "# ax.plot(x,reg.predict(x.reshape((-1, 1))))\n",
    "ax.plot(resampled['absolute_time'],resampled['total_length_m_residual_ZMUV3'])\n",
    "date_form = DateFormatter(\"%m-%d-%H\")\n",
    "ax.xaxis.set_major_formatter(date_form)\n",
    "ax.xaxis.set_major_locator(mdates.DayLocator())"
   ]
  },
  {
   "cell_type": "code",
   "execution_count": 41,
   "metadata": {},
   "outputs": [
    {
     "data": {
      "application/vnd.jupyter.widget-view+json": {
       "model_id": "b4adec1e5133423ba56a6cfec636b612",
       "version_major": 2,
       "version_minor": 0
      },
      "text/plain": [
       "Canvas(toolbar=Toolbar(toolitems=[('Home', 'Reset original view', 'home', 'home'), ('Back', 'Back to previous …"
      ]
     },
     "metadata": {},
     "output_type": "display_data"
    },
    {
     "data": {
      "text/plain": [
       "Text(0.5, 0, 'time of the day (h)')"
      ]
     },
     "execution_count": 41,
     "metadata": {},
     "output_type": "execute_result"
    }
   ],
   "source": [
    "fig, ax = plt.subplots(1, 1, figsize=(8, 4))\n",
    "# ax.plot(x,resampled['speed'])\n",
    "# ax.plot(x,reg.predict(x.reshape((-1, 1))))\n",
    "averaged = resampled.groupby('time_of_day')['total_length_m_residual_ZMUV3'].mean()\n",
    "ax.scatter(averaged.index,averaged)\n",
    "ax.set_xlabel('time of the day (h)')"
   ]
  },
  {
   "cell_type": "code",
   "execution_count": 42,
   "metadata": {},
   "outputs": [
    {
     "data": {
      "application/vnd.jupyter.widget-view+json": {
       "model_id": "2cc2c073c867462ea41432a0a07f38b4",
       "version_major": 2,
       "version_minor": 0
      },
      "text/plain": [
       "Canvas(toolbar=Toolbar(toolitems=[('Home', 'Reset original view', 'home', 'home'), ('Back', 'Back to previous …"
      ]
     },
     "metadata": {},
     "output_type": "display_data"
    },
    {
     "data": {
      "text/plain": [
       "Text(0.5, 0, 'lag (h)')"
      ]
     },
     "execution_count": 42,
     "metadata": {},
     "output_type": "execute_result"
    }
   ],
   "source": [
    "plt.close(\"all\")\n",
    "s = resampled[~np.isnan(resampled['total_length_m_residual_ZMUV3'].astype(np.float))]['total_length_m_residual_ZMUV3'].values\n",
    "s = s[:144]\n",
    "autoc = autocorr(s)\n",
    "autoc = autoc/autoc.max()\n",
    "fig, ax = plt.subplots(1, 1, figsize=(8, 4))\n",
    "ax.plot(autoc)\n",
    "ax.set_title(f'{plate}')\n",
    "ax.set_xlabel('lag (h)')"
   ]
  },
  {
   "cell_type": "code",
   "execution_count": 45,
   "metadata": {},
   "outputs": [
    {
     "data": {
      "application/vnd.jupyter.widget-view+json": {
       "model_id": "3efd451decac4e6dac66be25313388f1",
       "version_major": 2,
       "version_minor": 0
      },
      "text/plain": [
       "Canvas(toolbar=Toolbar(toolitems=[('Home', 'Reset original view', 'home', 'home'), ('Back', 'Back to previous …"
      ]
     },
     "metadata": {},
     "output_type": "display_data"
    },
    {
     "data": {
      "text/plain": [
       "Text(0, 0.5, 'PSD')"
      ]
     },
     "execution_count": 45,
     "metadata": {},
     "output_type": "execute_result"
    }
   ],
   "source": [
    "speed_fft = sp.fftpack.fft(s)\n",
    "speed_psd = np.abs(speed_fft) ** 2\n",
    "fftfreq = sp.fftpack.fftfreq(len(speed_psd))\n",
    "i = fftfreq > 0\n",
    "fig, ax = plt.subplots(1, 1, figsize=(8, 4))\n",
    "ax.plot(24*frequ*fftfreq[i],speed_psd[i])\n",
    "ax.set_xlabel('Frequency (day-1)')\n",
    "ax.set_ylabel('PSD')"
   ]
  },
  {
   "cell_type": "code",
   "execution_count": 8,
   "metadata": {},
   "outputs": [
    {
     "data": {
      "application/vnd.jupyter.widget-view+json": {
       "model_id": "342a6ab365f94f32b1f2b1f633215999",
       "version_major": 2,
       "version_minor": 0
      },
      "text/plain": [
       "Canvas(toolbar=Toolbar(toolitems=[('Home', 'Reset original view', 'home', 'home'), ('Back', 'Back to previous …"
      ]
     },
     "metadata": {},
     "output_type": "display_data"
    },
    {
     "data": {
      "text/plain": [
       "Text(0.04, 0.5, 'Total network area $(mm^2)$')"
      ]
     },
     "execution_count": 8,
     "metadata": {},
     "output_type": "execute_result"
    }
   ],
   "source": [
    "select_plates = [152]\n",
    "select_plates = [94,792,76,152,102]\n",
    "\n",
    "fig, ax = plt.subplots()\n",
    "ax2=ax.twinx()\n",
    "x = 'time_since_begin4'\n",
    "y = 'total_length_m'\n",
    "y2 = 'derivative'\n",
    "logy =False\n",
    "# ylim = (100,300)\n",
    "xlim = (-20,150)\n",
    "ylim = None\n",
    "kind = \"scatter\"\n",
    "# fig = plt.figure()\n",
    "# ax = plt.subplot(111)\n",
    "xlabel = 'time (h)'\n",
    "ylabel = r'Total network area $(mm^2)$'\n",
    "tau = 50\n",
    "num_columns = 2\n",
    "delta = 200\n",
    "av_lapse = 211\n",
    "\n",
    "frequ = 0.1\n",
    "for i,plate in enumerate(select_plates):\n",
    "    table = ind_plate_table[plate]\n",
    "    t0 = np.min(table.loc[table[\"total_length_m\"]>=0.2][\"time_since_begin\"])\n",
    "#     ylim = (0,min(np.max(table['speed']),60000))\n",
    "    table['time_since_begin3'] = table['time_since_begin']-t0\n",
    "    table['time_since_begin4'] = table['time_since_begin']-t1s[plate]+tau\n",
    "    in_study = table.loc[table['out_study']==0]\n",
    "#     if len(in_study)>0:\n",
    "#         ax.scatter(in_study[x],in_study[y],label = plate)\n",
    "    ax.set_xlabel(None,fontsize=5)\n",
    "    ax.set_ylabel(None,fontsize=5)\n",
    "#     ax.set_yscale('log')\n",
    "#     ax.set_xscale('log')\n",
    "\n",
    "    f = interp1d(in_study[x], in_study[y])\n",
    "    deb = np.min(in_study[x])\n",
    "    end = np.max(in_study[x])\n",
    "    x0 = np.linspace(deb,end,int((end-deb)/frequ))\n",
    "    resampled = pd.DataFrame({'time':x0,y:f(x0)})\n",
    "    reg = LinearRegression().fit(x0.reshape((-1, 1)), f(x0))\n",
    "    resampled['log_total_length']=np.log2(resampled[y])\n",
    "\n",
    "    resampled['log_total_length_m_smooth']= savgol_filter(resampled['log_total_length'], av_lapse, 3)\n",
    "#     resampled['log_time']=np.log2(resampled['time'])\n",
    "    resampled['time2']=resampled['time']\n",
    "\n",
    "#     resampled['log_total_length_m_smooth'] = resampled['log_total_length_m_smooth']-np.log(np.min(table.loc[table['time_since_begin']>=t1s[plate]][y]))\n",
    "#     resampled['derivative'] = resampled[y].diff(delta)/resampled['time'].diff(delta)/(np.pi/2*0.3**2)\n",
    "    resampled['derivative'] = np.gradient(resampled[y],resampled['time'])/(np.pi/2*0.3**2)\n",
    "    resampled['derivative'] = savgol_filter(resampled['derivative'], av_lapse, 1)\n",
    "    resampled['2ndderivative'] = np.gradient(resampled['derivative'],resampled['time'])\n",
    "#     resampled['2ndderivative'] = savgol_filter(resampled['2ndderivative'], av_lapse, 1)\n",
    "    ax2.vlines(tau-t0s[plate],0,0.20,color='black')\n",
    "\n",
    "#     resampled['2ndderivative'] = resampled['derivative'].diff(delta)/resampled['time'].diff(delta)\n",
    "\n",
    "#     ax2.scatter(resampled['time'],resampled['local_growth_rate'],label = plate)\n",
    "    in_study = table.loc[table['out_study']==0]\n",
    "    if len(in_study)>0:\n",
    "        ax.scatter(in_study[x],in_study[y],label = plate)\n",
    "    ax2.plot(resampled['time2'],resampled[y2],label = plate)\n",
    "sat_density = 1000\n",
    "incr = -0.03\n",
    "ax2.plot(resampled['time2'],2*resampled['time2']/sat_density+incr,label = \"y=2x/sat_density+beta\",linestyle = ':')\n",
    "\n",
    "# plt.tick_params(labelcolor=\"none\", bottom=False, left=False)\n",
    "ax.set_xlim(xlim)  \n",
    "\n",
    "ax2.vlines(tau,0,0.20,color='black')\n",
    "# ax2.set_ylim((0,25))  \n",
    "# ax2.set_ylim((0,3))  \n",
    "ax2.set_ylim(None)  \n",
    "\n",
    "ax2.set_ylabel('derivative rescaled by $\\pi / 2 *v^2$',size = 20)\n",
    "plt.legend()\n",
    "fig.text(0.5, 0.004, xlabel, ha='center',fontdict = {'size' : 20} )\n",
    "fig.text(0.04, 0.5, ylabel, va='center', rotation='vertical',fontdict = {'size' : 20})"
   ]
  },
  {
   "cell_type": "code",
   "execution_count": 9,
   "metadata": {},
   "outputs": [
    {
     "data": {
      "application/vnd.jupyter.widget-view+json": {
       "model_id": "8768ad61504247ae96325c491af2d16f",
       "version_major": 2,
       "version_minor": 0
      },
      "text/plain": [
       "Canvas(toolbar=Toolbar(toolitems=[('Home', 'Reset original view', 'home', 'home'), ('Back', 'Back to previous …"
      ]
     },
     "metadata": {},
     "output_type": "display_data"
    },
    {
     "name": "stderr",
     "output_type": "stream",
     "text": [
      "C:\\Users\\coren\\anaconda3\\envs\\cleanMsc\\lib\\site-packages\\ipykernel_launcher.py:27: UserWarning: Attempted to set non-positive left xlim on a log-scaled axis.\n",
      "Invalid limit will be ignored.\n",
      "C:\\Users\\coren\\anaconda3\\envs\\cleanMsc\\lib\\site-packages\\ipykernel_launcher.py:28: UserWarning: Attempted to set non-positive bottom ylim on a log-scaled axis.\n",
      "Invalid limit will be ignored.\n"
     ]
    },
    {
     "data": {
      "text/plain": [
       "<matplotlib.legend.Legend at 0x1b9c8e19308>"
      ]
     },
     "execution_count": 9,
     "metadata": {},
     "output_type": "execute_result"
    }
   ],
   "source": [
    "x = 'time_since_begin4'\n",
    "y = 'area_sep_comp'\n",
    "fig, ax = plt.subplots()\n",
    "ax2=ax.twinx()\n",
    "\n",
    "delta = -60\n",
    "av_lapse = 11\n",
    "for i,plate in enumerate(select_plates):    \n",
    "    table = ind_plate_table[plate]\n",
    "    y0 = np.min(table.loc[table['time_since_begin']>=t1s[plate]+delta][y])\n",
    "    table = table.loc[table['time_since_begin']>=t1s[plate]+delta].copy()\n",
    "    table[y] = table[y].astype(float)\n",
    "    table = table.loc[table['out_study']==0].copy()\n",
    "\n",
    "    table['renorm'] = table[y]-y0+1\n",
    "    table['log_renorm'] = np.log(table[\"renorm\"])\n",
    "    table['time_since_begin4'] = table['time_since_begin']-(t1s[plate]+delta)+1\n",
    "    table['log_time'] = np.log(table[\"time_since_begin4\"])\n",
    "    table['derivative'] = np.gradient(table[\"log_renorm\"],table['log_time'])\n",
    "    table['derivative'] = savgol_filter(table['derivative'], av_lapse, 1)\n",
    "\n",
    "#     table['derivative']\n",
    "    ax.scatter(table['time_since_begin4'],table[y],label = plate)\n",
    "    ax2.plot(table['time_since_begin4'],table['derivative'],label = plate)\n",
    "    ax.set_yscale('log')\n",
    "    ax.set_xscale('log')\n",
    "ax.set_xlim(0)\n",
    "ax.set_ylim(0)\n",
    "ax2.set_ylim(0,4)\n",
    "ax.set_xlabel('time (h)')\n",
    "ax.set_ylabel('network length $(mm)$')\n",
    "ax2.set_ylabel('slope of the log-log')\n",
    "ax2.vlines(-delta,0,4,color= 'black')\n",
    "\n",
    "# ax.plot(table['log_time'],2*table['log_time'])\n",
    "plt.legend()"
   ]
  }
 ],
 "metadata": {
  "kernelspec": {
   "display_name": "Python 3",
   "language": "python",
   "name": "python3"
  },
  "language_info": {
   "codemirror_mode": {
    "name": "ipython",
    "version": 3
   },
   "file_extension": ".py",
   "mimetype": "text/x-python",
   "name": "python",
   "nbconvert_exporter": "python",
   "pygments_lexer": "ipython3",
   "version": "3.7.9"
  }
 },
 "nbformat": 4,
 "nbformat_minor": 4
}
