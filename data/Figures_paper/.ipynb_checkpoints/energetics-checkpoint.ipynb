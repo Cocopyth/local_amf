{
 "cells": [
  {
   "cell_type": "code",
   "execution_count": 1,
   "metadata": {},
   "outputs": [],
   "source": [
    "import matplotlib.pyplot as plt\n",
    "import numpy as np"
   ]
  },
  {
   "cell_type": "code",
   "execution_count": 6,
   "metadata": {},
   "outputs": [
    {
     "data": {
      "text/plain": [
       "2.9688050576423546"
      ]
     },
     "execution_count": 6,
     "metadata": {},
     "output_type": "execute_result"
    }
   ],
   "source": [
    "#power provided by one hypha\n",
    "rho_TAG = 0.18\n",
    "eTAG = 30e-3 #uJ.um-3 30MJ.L-1\n",
    "rho_e = rho_TAG*eTAG #uJ.um-3\n",
    "r_hypha = 5 #um\n",
    "v_transport = 7 #um.s-1\n",
    "Ptrunk = np.pi*r_hypha**2*rho_e*v_transport #uW\n",
    "Ptrunk"
   ]
  },
  {
   "cell_type": "code",
   "execution_count": 11,
   "metadata": {},
   "outputs": [
    {
     "data": {
      "text/plain": [
       "0.0004189499999999999"
      ]
     },
     "execution_count": 11,
     "metadata": {},
     "output_type": "execute_result"
    }
   ],
   "source": [
    "r_vesicle = 1 #um\n",
    "e_walking = 100 #ATP.um-1\n",
    "e_ATP= 1.33e-13 #uJ\n",
    "Pwalking =v_transport * e_walking*e_ATP #uW\n",
    "p_transport = rho_TAG*Pwalking*r_hypha**2/(r_vesicle**3) #uW.um-1\n",
    "L = 1e6 #um\n",
    "P_transport = L*p_transport #uW\n",
    "P_transport"
   ]
  },
  {
   "cell_type": "code",
   "execution_count": 18,
   "metadata": {},
   "outputs": [
    {
     "data": {
      "text/plain": [
       "0.4011185500103447"
      ]
     },
     "execution_count": 18,
     "metadata": {},
     "output_type": "execute_result"
    }
   ],
   "source": [
    "L_prot = 400 #AA\n",
    "n = 3e6 #um-3\n",
    "Eproteinsynthesis = 4 #ATP.AA-1\n",
    "e_total_prot_synth = Eproteinsynthesis*e_ATP*L_prot*n*np.pi*r_hypha**2 #uJ.um-1\n",
    "v_colony_growth = 8 #um.s-1\n",
    "P_total_protein_synthesis = e_total_prot_synth*v_colony_growth #uW\n",
    "P_total_protein_synthesis"
   ]
  },
  {
   "cell_type": "code",
   "execution_count": 124,
   "metadata": {},
   "outputs": [],
   "source": [
    "class Energetic_model:\n",
    "    def init(self,params):\n",
    "        self.params = params\n",
    "    def set_alpha(self,alpha):\n",
    "        self.alpha = alpha\n",
    "    def set_init_L(self,L):\n",
    "        self.init_L = L\n",
    "        self.init_area = L**2/4\n",
    "    def get_L(self,t):\n",
    "        return(None)\n",
    "    def get_L_exp(self,t):\n",
    "        return(self.init_L*np.exp(self.alpha*t))\n",
    "    def set_speed_growth(self,speed_growth):\n",
    "        self.v = speed_growth\n",
    "    def get_v_colony(self,t):\n",
    "        y = self.get_L(t)\n",
    "        dydx = np.gradient(y, t)\n",
    "        return(dydx)\n",
    "    def get_P_total_protein_synthesis(self,t):\n",
    "        return(e_total_prot_synth*self.get_v_colony(t))\n",
    "    def get_P_transport(self,t):\n",
    "        return(p_transport*self.get_L(t))\n",
    "    def get_area(self,t):\n",
    "        return(np.pi/2*(self.v*t)**2+self.init_area)\n",
    "    def get_area_ring(self,t):\n",
    "        return(np.pi*(self.v*t))\n",
    "    \n",
    "class quadratic_model(Energetic_model):\n",
    "    def set_density_sat(self,dens_sat):\n",
    "        self.dens_sat = dens_sat\n",
    "    def get_L(self,t):\n",
    "        L_exp = self.get_L_exp(t)\n",
    "        area = self.get_area(t)\n",
    "        dens = L_exp/area\n",
    "        is_above_sat = dens >=self.dens_sat\n",
    "        return(area * self.dens_sat*is_above_sat+(1-is_above_sat)*self.get_L_exp(t))\n",
    "\n",
    "class exp_model(Energetic_model):\n",
    "    def get_L(self,t):\n",
    "        return(self.get_L_exp(t))"
   ]
  },
  {
   "cell_type": "code",
   "execution_count": 125,
   "metadata": {
    "collapsed": true,
    "jupyter": {
     "outputs_hidden": true
    }
   },
   "outputs": [
    {
     "data": {
      "text/plain": [
       "(array([0.00047733, 0.00095466, 0.00190932, 0.00286398, 0.00381864,\n",
       "        0.0047733 , 0.00572796, 0.00668262, 0.00763728, 0.00859194,\n",
       "        0.0095466 , 0.01050126, 0.0079094 , 0.00308521, 0.00133697,\n",
       "        0.00135054, 0.00136425, 0.0013781 , 0.0013921 , 0.00140623,\n",
       "        0.0014205 , 0.00143493, 0.00144949, 0.00146421, 0.00147907,\n",
       "        0.00149409, 0.00150926, 0.00152458, 0.00154006, 0.00155569,\n",
       "        0.00157149, 0.00158744, 0.00160356, 0.00161984, 0.00163628,\n",
       "        0.00165289, 0.00166967, 0.00168662, 0.00170375, 0.00172104,\n",
       "        0.00173852, 0.00175617, 0.001774  , 0.00179201, 0.0018102 ,\n",
       "        0.00182858, 0.00184714, 0.00186589, 0.00188484, 0.00190397,\n",
       "        0.0019233 , 0.00194283, 0.00196255, 0.00198247, 0.0020026 ,\n",
       "        0.00202293, 0.00204347, 0.00206421, 0.00208517, 0.00210634,\n",
       "        0.00212772, 0.00214932, 0.00217114, 0.00219319, 0.00221545,\n",
       "        0.00223794, 0.00226066, 0.00228361, 0.0023068 , 0.00233022,\n",
       "        0.00235387, 0.00237777, 0.00240191, 0.0024263 , 0.00245093,\n",
       "        0.00247581, 0.00250095, 0.00252634, 0.00255198, 0.00257789,\n",
       "        0.00260406, 0.0026305 , 0.0026572 , 0.00268418, 0.00271143,\n",
       "        0.00273896, 0.00276677, 0.00279485, 0.00282323, 0.00285189,\n",
       "        0.00288084, 0.00291009, 0.00293963, 0.00296948, 0.00299962,\n",
       "        0.00303008, 0.00306084, 0.00309191, 0.0031233 , 0.00313908]),\n",
       " array([0.00951998, 0.01903996, 0.03807991, 0.05711987, 0.07615982,\n",
       "        0.09519978, 0.11423973, 0.13327969, 0.15231964, 0.1713596 ,\n",
       "        0.19039955, 0.20943951, 0.15774684, 0.06153219, 0.02666484,\n",
       "        0.02693555, 0.027209  , 0.02748524, 0.02776427, 0.02804614,\n",
       "        0.02833087, 0.02861849, 0.02890903, 0.02920252, 0.02949899,\n",
       "        0.02979847, 0.03010099, 0.03040658, 0.03071527, 0.0310271 ,\n",
       "        0.0313421 , 0.03166029, 0.03198171, 0.03230639, 0.03263437,\n",
       "        0.03296568, 0.03330036, 0.03363843, 0.03397993, 0.0343249 ,\n",
       "        0.03467338, 0.03502539, 0.03538097, 0.03574017, 0.03610301,\n",
       "        0.03646953, 0.03683978, 0.03721379, 0.03759159, 0.03797322,\n",
       "        0.03835874, 0.03874816, 0.03914154, 0.03953891, 0.03994032,\n",
       "        0.0403458 , 0.0407554 , 0.04116916, 0.04158711, 0.04200932,\n",
       "        0.0424358 , 0.04286662, 0.04330181, 0.04374142, 0.04418549,\n",
       "        0.04463407, 0.0450872 , 0.04554494, 0.04600732, 0.04647439,\n",
       "        0.04694621, 0.04742282, 0.04790426, 0.0483906 , 0.04888187,\n",
       "        0.04937813, 0.04987942, 0.05038581, 0.05089734, 0.05141406,\n",
       "        0.05193602, 0.05246329, 0.0529959 , 0.05353393, 0.05407742,\n",
       "        0.05462642, 0.055181  , 0.05574121, 0.0563071 , 0.05687874,\n",
       "        0.05745619, 0.05803949, 0.05862872, 0.05922393, 0.05982519,\n",
       "        0.06043254, 0.06104607, 0.06166582, 0.06229186, 0.06260646]),\n",
       " array([4.18950000e-07, 4.22430781e-07, 4.32873123e-07, 4.50277027e-07,\n",
       "        4.74642493e-07, 5.05969520e-07, 5.44258109e-07, 5.89508259e-07,\n",
       "        6.41719972e-07, 7.00893245e-07, 7.67028081e-07, 8.40124478e-07,\n",
       "        9.20182436e-07, 9.55478147e-07, 9.65178350e-07, 9.74977031e-07,\n",
       "        9.84875191e-07, 9.94873838e-07, 1.00497399e-06, 1.01517669e-06,\n",
       "        1.02548296e-06, 1.03589387e-06, 1.04641047e-06, 1.05703383e-06,\n",
       "        1.06776505e-06, 1.07860521e-06, 1.08955542e-06, 1.10061681e-06,\n",
       "        1.11179049e-06, 1.12307760e-06, 1.13447931e-06, 1.14599677e-06,\n",
       "        1.15763115e-06, 1.16938365e-06, 1.18125546e-06, 1.19324780e-06,\n",
       "        1.20536189e-06, 1.21759896e-06, 1.22996027e-06, 1.24244707e-06,\n",
       "        1.25506064e-06, 1.26780226e-06, 1.28067324e-06, 1.29367489e-06,\n",
       "        1.30680853e-06, 1.32007551e-06, 1.33347717e-06, 1.34701490e-06,\n",
       "        1.36069006e-06, 1.37450405e-06, 1.38845829e-06, 1.40255419e-06,\n",
       "        1.41679320e-06, 1.43117676e-06, 1.44570635e-06, 1.46038345e-06,\n",
       "        1.47520955e-06, 1.49018617e-06, 1.50531483e-06, 1.52059709e-06,\n",
       "        1.53603449e-06, 1.55162862e-06, 1.56738106e-06, 1.58329342e-06,\n",
       "        1.59936732e-06, 1.61560442e-06, 1.63200635e-06, 1.64857480e-06,\n",
       "        1.66531146e-06, 1.68221803e-06, 1.69929624e-06, 1.71654783e-06,\n",
       "        1.73397457e-06, 1.75157822e-06, 1.76936059e-06, 1.78732348e-06,\n",
       "        1.80546874e-06, 1.82379822e-06, 1.84231378e-06, 1.86101731e-06,\n",
       "        1.87991073e-06, 1.89899595e-06, 1.91827494e-06, 1.93774964e-06,\n",
       "        1.95742206e-06, 1.97729419e-06, 1.99736807e-06, 2.01764575e-06,\n",
       "        2.03812929e-06, 2.05882078e-06, 2.07972233e-06, 2.10083609e-06,\n",
       "        2.12216419e-06, 2.14370882e-06, 2.16547217e-06, 2.18745648e-06,\n",
       "        2.20966397e-06, 2.23209691e-06, 2.25475760e-06, 2.27764834e-06]))"
      ]
     },
     "execution_count": 125,
     "metadata": {},
     "output_type": "execute_result"
    }
   ],
   "source": [
    "quad_mod = quadratic_model()\n",
    "quad_mod.set_alpha(1/(24*3600))\n",
    "quad_mod.set_init_L(2000)\n",
    "\n",
    "quad_mod.set_density_sat(1000e-6)\n",
    "quad_mod.set_speed_growth(300/3600)\n",
    "t = np.linspace(0,24*3600,100)\n",
    "\n",
    "quad_mod.get_P_total_protein_synthesis(t),quad_mod.get_v_colony(t),quad_mod.get_P_transport(t)"
   ]
  },
  {
   "cell_type": "code",
   "execution_count": 156,
   "metadata": {},
   "outputs": [],
   "source": [
    "quad_mod = quadratic_model()\n",
    "init_L = 30000\n",
    "alpha = 1/(24*3600)\n",
    "v_growth = 300/3600\n",
    "quad_mod.set_alpha(alpha)\n",
    "quad_mod.set_init_L(init_L)\n",
    "quad_mod.set_density_sat(1000e-6)\n",
    "quad_mod.set_speed_growth(v_growth)\n",
    "exp_mod = exp_model()\n",
    "exp_mod.set_alpha(alpha)\n",
    "exp_mod.set_init_L(init_L)\n",
    "exp_mod.set_speed_growth(v_growth)\n",
    "\n"
   ]
  },
  {
   "cell_type": "code",
   "execution_count": 167,
   "metadata": {},
   "outputs": [
    {
     "data": {
      "application/vnd.jupyter.widget-view+json": {
       "model_id": "784dd426e07e411ea9d1b0d53585db8a",
       "version_major": 2,
       "version_minor": 0
      },
      "text/plain": [
       "Canvas(toolbar=Toolbar(toolitems=[('Home', 'Reset original view', 'home', 'home'), ('Back', 'Back to previous …"
      ]
     },
     "metadata": {},
     "output_type": "display_data"
    },
    {
     "data": {
      "text/plain": [
       "<matplotlib.legend.Legend at 0x286af93a088>"
      ]
     },
     "execution_count": 167,
     "metadata": {},
     "output_type": "execute_result"
    }
   ],
   "source": [
    "%matplotlib widget\n",
    "num_days = 30\n",
    "t = np.linspace(0,3600*24*num_days,100)\n",
    "area = quad_mod.get_area(t)\n",
    "fig, ax = plt.subplots()\n",
    "ax.plot(area,quad_mod.get_L(t),label = 'quadratic')\n",
    "ax.plot(area,exp_mod.get_L(t),label='exponential')\n",
    "ax.set_yscale('log')\n",
    "ax.set_xscale('log')\n",
    "ax.set_xlabel('area($\\mu m^{2}$)')\n",
    "ax.set_ylabel('Length ($\\mu m$)')\n",
    "plt.legend()"
   ]
  },
  {
   "cell_type": "code",
   "execution_count": 168,
   "metadata": {},
   "outputs": [
    {
     "data": {
      "application/vnd.jupyter.widget-view+json": {
       "model_id": "6c818f92b2404975a8b357954579f053",
       "version_major": 2,
       "version_minor": 0
      },
      "text/plain": [
       "Canvas(toolbar=Toolbar(toolitems=[('Home', 'Reset original view', 'home', 'home'), ('Back', 'Back to previous …"
      ]
     },
     "metadata": {},
     "output_type": "display_data"
    },
    {
     "data": {
      "text/plain": [
       "<matplotlib.legend.Legend at 0x286af16bd48>"
      ]
     },
     "execution_count": 168,
     "metadata": {},
     "output_type": "execute_result"
    }
   ],
   "source": [
    "%matplotlib widget\n",
    "\n",
    "fig, ax = plt.subplots()\n",
    "ax.plot(area,quad_mod.get_L(t)/area,label = 'quadratic')\n",
    "ax.plot(area,exp_mod.get_L(t)/area,label='exponential')\n",
    "ax.set_yscale('log')\n",
    "ax.set_xscale('log')\n",
    "ax.set_xlabel('area($\\mu m^{2}$)')\n",
    "ax.set_ylabel('density ($\\mu m.\\mu m^{-2}$)')\n",
    "plt.legend()"
   ]
  },
  {
   "cell_type": "code",
   "execution_count": 169,
   "metadata": {},
   "outputs": [
    {
     "data": {
      "application/vnd.jupyter.widget-view+json": {
       "model_id": "d01be72258d641eda240239123628aff",
       "version_major": 2,
       "version_minor": 0
      },
      "text/plain": [
       "Canvas(toolbar=Toolbar(toolitems=[('Home', 'Reset original view', 'home', 'home'), ('Back', 'Back to previous …"
      ]
     },
     "metadata": {},
     "output_type": "display_data"
    },
    {
     "data": {
      "text/plain": [
       "<matplotlib.legend.Legend at 0x286ae4ff808>"
      ]
     },
     "execution_count": 169,
     "metadata": {},
     "output_type": "execute_result"
    }
   ],
   "source": [
    "%matplotlib widget\n",
    "\n",
    "fig, ax = plt.subplots()\n",
    "ax.plot(area,quad_mod.get_P_transport(t),label = 'quadratic')\n",
    "ax.plot(area,exp_mod.get_P_transport(t),label='exponential')\n",
    "ax.plot(area,0*t+3)\n",
    "ax.set_yscale('log')\n",
    "ax.set_xscale('log')\n",
    "ax.set_xlabel('area($\\mu m^{2}$)')\n",
    "ax.set_ylabel('Power required for transport ($\\mu W$)')\n",
    "plt.legend()"
   ]
  },
  {
   "cell_type": "code",
   "execution_count": 170,
   "metadata": {},
   "outputs": [
    {
     "data": {
      "application/vnd.jupyter.widget-view+json": {
       "model_id": "017f99911ec34ce2a2f554a733ad9e43",
       "version_major": 2,
       "version_minor": 0
      },
      "text/plain": [
       "Canvas(toolbar=Toolbar(toolitems=[('Home', 'Reset original view', 'home', 'home'), ('Back', 'Back to previous …"
      ]
     },
     "metadata": {},
     "output_type": "display_data"
    },
    {
     "data": {
      "text/plain": [
       "<matplotlib.legend.Legend at 0x286aaf1f308>"
      ]
     },
     "execution_count": 170,
     "metadata": {},
     "output_type": "execute_result"
    }
   ],
   "source": [
    "%matplotlib widget\n",
    "\n",
    "fig, ax = plt.subplots()\n",
    "ax.plot(area,quad_mod.get_P_total_protein_synthesis(t),label = 'quadratic')\n",
    "ax.plot(area,exp_mod.get_P_total_protein_synthesis(t),label='exponential')\n",
    "ax.plot(area,0*t+3)\n",
    "\n",
    "ax.set_yscale('log')\n",
    "ax.set_xscale('log')\n",
    "ax.set_xlabel('area($\\mu m^{2}$)')\n",
    "ax.set_ylabel('Power required for protein synthesis ($\\mu W$)')\n",
    "plt.legend()"
   ]
  }
 ],
 "metadata": {
  "kernelspec": {
   "display_name": "Python 3",
   "language": "python",
   "name": "python3"
  },
  "language_info": {
   "codemirror_mode": {
    "name": "ipython",
    "version": 3
   },
   "file_extension": ".py",
   "mimetype": "text/x-python",
   "name": "python",
   "nbconvert_exporter": "python",
   "pygments_lexer": "ipython3",
   "version": "3.7.9"
  }
 },
 "nbformat": 4,
 "nbformat_minor": 4
}
