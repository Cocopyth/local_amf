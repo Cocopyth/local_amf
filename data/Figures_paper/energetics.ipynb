{
 "cells": [
  {
   "cell_type": "code",
   "execution_count": 183,
   "metadata": {},
   "outputs": [],
   "source": [
    "import matplotlib.pyplot as plt\n",
    "import numpy as np\n",
    "import pandas as pd"
   ]
  },
  {
   "cell_type": "code",
   "execution_count": 6,
   "metadata": {},
   "outputs": [
    {
     "data": {
      "text/plain": [
       "2.9688050576423546"
      ]
     },
     "execution_count": 6,
     "metadata": {},
     "output_type": "execute_result"
    }
   ],
   "source": [
    "#power provided by one hypha\n",
    "rho_TAG = 0.18\n",
    "eTAG = 30e-3 #uJ.um-3 30MJ.L-1\n",
    "rho_e = rho_TAG*eTAG #uJ.um-3\n",
    "r_hypha = 5 #um\n",
    "v_transport = 7 #um.s-1\n",
    "Ptrunk = np.pi*r_hypha**2*rho_e*v_transport #uW\n",
    "Ptrunk"
   ]
  },
  {
   "cell_type": "code",
   "execution_count": 11,
   "metadata": {},
   "outputs": [
    {
     "data": {
      "text/plain": [
       "0.0004189499999999999"
      ]
     },
     "execution_count": 11,
     "metadata": {},
     "output_type": "execute_result"
    }
   ],
   "source": [
    "r_vesicle = 1 #um\n",
    "e_walking = 100 #ATP.um-1\n",
    "e_ATP= 1.33e-13 #uJ\n",
    "Pwalking =v_transport * e_walking*e_ATP #uW\n",
    "p_transport = rho_TAG*Pwalking*r_hypha**2/(r_vesicle**3) #uW.um-1\n",
    "L = 1e6 #um\n",
    "P_transport = L*p_transport #uW\n",
    "P_transport"
   ]
  },
  {
   "cell_type": "code",
   "execution_count": 18,
   "metadata": {},
   "outputs": [
    {
     "data": {
      "text/plain": [
       "0.4011185500103447"
      ]
     },
     "execution_count": 18,
     "metadata": {},
     "output_type": "execute_result"
    }
   ],
   "source": [
    "L_prot = 400 #AA\n",
    "n = 3e6 #um-3\n",
    "Eproteinsynthesis = 4 #ATP.AA-1\n",
    "e_total_prot_synth = Eproteinsynthesis*e_ATP*L_prot*n*np.pi*r_hypha**2 #uJ.um-1\n",
    "v_colony_growth = 8 #um.s-1\n",
    "P_total_protein_synthesis = e_total_prot_synth*v_colony_growth #uW\n",
    "P_total_protein_synthesis"
   ]
  },
  {
   "cell_type": "code",
   "execution_count": 249,
   "metadata": {},
   "outputs": [],
   "source": [
    "class Energetic_model:\n",
    "    def init(self,params):\n",
    "        self.params = params\n",
    "    def set_alpha(self,alpha):\n",
    "        self.alpha = alpha\n",
    "    def set_init_L(self,L):\n",
    "        self.init_L = L\n",
    "    def set_init_area(self,area):\n",
    "        self.init_area = area\n",
    "    def get_L(self,t):\n",
    "        return(None)\n",
    "    def get_L_exp(self,t):\n",
    "        return(self.init_L*np.exp(self.alpha*t))\n",
    "    def set_speed_growth(self,speed_growth):\n",
    "        self.v = speed_growth\n",
    "    def get_v_colony(self,t):\n",
    "        y = self.get_L(t)\n",
    "        dydx = np.gradient(y, t)\n",
    "        return(dydx)\n",
    "    def get_P_total_protein_synthesis(self,t):\n",
    "        return(e_total_prot_synth*self.get_v_colony(t))\n",
    "    def get_P_transport(self,t):\n",
    "        return(p_transport*self.get_L(t))\n",
    "    def get_area(self,t):\n",
    "        return(np.pi/2*(self.v*t)**2+self.init_area)\n",
    "    def get_area_ring(self,t):\n",
    "        return(np.pi*(self.v*t))\n",
    "    \n",
    "class quadratic_model(Energetic_model):\n",
    "    def set_density_sat(self,dens_sat):\n",
    "        self.dens_sat = dens_sat\n",
    "    def get_L(self,t):\n",
    "        L_exp = self.get_L_exp(t)\n",
    "        area = self.get_area(t)\n",
    "        dens = L_exp/area\n",
    "        is_above_sat = dens >=self.dens_sat\n",
    "        return(area * self.dens_sat*is_above_sat+(1-is_above_sat)*self.get_L_exp(t))\n",
    "\n",
    "class exp_model(Energetic_model):\n",
    "    def get_L(self,t):\n",
    "        return(self.get_L_exp(t))"
   ]
  },
  {
   "cell_type": "code",
   "execution_count": 280,
   "metadata": {},
   "outputs": [
    {
     "data": {
      "text/plain": [
       "963.1673183212598"
      ]
     },
     "execution_count": 280,
     "metadata": {},
     "output_type": "execute_result"
    }
   ],
   "source": [
    "np.min(data['tot_length_study']/data['area_sep_comp'])"
   ]
  },
  {
   "cell_type": "code",
   "execution_count": 300,
   "metadata": {},
   "outputs": [],
   "source": [
    "path_save = r\"C:\\Users\\coren\\Dropbox\\Apps\\Snellius2\\data_tables\\time_plate_infos.pick\"\n",
    "\n",
    "time_plate_info = pd.read_pickle(path_save)\n",
    "data = time_plate_info.loc[time_plate_info['Plate']==94]\n",
    "quad_mod = quadratic_model()\n",
    "alpha = 1.3/(24*3600)\n",
    "v_growth = 300/3600\n",
    "density_sat = 1250e-6\n",
    "# density_sat = 6e-6\n",
    "init_L = 20000\n",
    "init_area = init_L/(np.max(data['tot_length_study']/data['area_sep_comp'])*1e-6)\n",
    "quad_mod.set_alpha(alpha)\n",
    "quad_mod.set_init_L(init_L)\n",
    "quad_mod.set_init_area(init_area)\n",
    "\n",
    "quad_mod.set_density_sat(density_sat)\n",
    "quad_mod.set_speed_growth(v_growth)\n",
    "exp_mod = exp_model()\n",
    "exp_mod.set_alpha(alpha)\n",
    "exp_mod.set_init_L(init_L)\n",
    "exp_mod.set_speed_growth(v_growth)\n",
    "exp_mod.set_init_area(init_area)\n",
    "\n"
   ]
  },
  {
   "cell_type": "code",
   "execution_count": 301,
   "metadata": {},
   "outputs": [
    {
     "data": {
      "application/vnd.jupyter.widget-view+json": {
       "model_id": "a6ed0b6a2c0a494492675febf284002a",
       "version_major": 2,
       "version_minor": 0
      },
      "text/plain": [
       "Canvas(toolbar=Toolbar(toolitems=[('Home', 'Reset original view', 'home', 'home'), ('Back', 'Back to previous …"
      ]
     },
     "metadata": {},
     "output_type": "display_data"
    },
    {
     "data": {
      "text/plain": [
       "<matplotlib.legend.Legend at 0x286c79757c8>"
      ]
     },
     "execution_count": 301,
     "metadata": {},
     "output_type": "execute_result"
    }
   ],
   "source": [
    "%matplotlib widget\n",
    "num_days = 30\n",
    "t = np.linspace(0,3600*24*num_days,100)\n",
    "area = quad_mod.get_area(t)\n",
    "fig, ax = plt.subplots()\n",
    "ax.plot(area,quad_mod.get_L(t),label = 'quadratic')\n",
    "ax.plot(area,exp_mod.get_L(t),label='exponential')\n",
    "ax.scatter(data['area_sep_comp']*10**6,data['tot_length_study'],label='data',s=5)\n",
    "\n",
    "ax.set_yscale('log')\n",
    "ax.set_xscale('log')\n",
    "ax.set_xlabel('area($\\mu m^{2}$)')\n",
    "ax.set_ylabel('Length ($\\mu m$)')\n",
    "ax.vlines(np.max(data['area_sep_comp']*10**6),np.min(quad_mod.get_L(t)),10*np.max(quad_mod.get_L(t)),color=\"red\")\n",
    "plt.legend()"
   ]
  },
  {
   "cell_type": "code",
   "execution_count": 288,
   "metadata": {},
   "outputs": [
    {
     "data": {
      "application/vnd.jupyter.widget-view+json": {
       "model_id": "32bbab6a508e4361bccb46a3b7351b3e",
       "version_major": 2,
       "version_minor": 0
      },
      "text/plain": [
       "Canvas(toolbar=Toolbar(toolitems=[('Home', 'Reset original view', 'home', 'home'), ('Back', 'Back to previous …"
      ]
     },
     "metadata": {},
     "output_type": "display_data"
    },
    {
     "data": {
      "text/plain": [
       "<matplotlib.legend.Legend at 0x286c7a41e88>"
      ]
     },
     "execution_count": 288,
     "metadata": {},
     "output_type": "execute_result"
    }
   ],
   "source": [
    "%matplotlib widget\n",
    "\n",
    "fig, ax = plt.subplots()\n",
    "ax.plot(area,quad_mod.get_L(t)/area,label = 'quadratic')\n",
    "ax.plot(area,exp_mod.get_L(t)/area,label='exponential')\n",
    "ax.set_yscale('log')\n",
    "ax.set_xscale('log')\n",
    "ax.set_xlabel('area($\\mu m^{2}$)')\n",
    "ax.set_ylabel('density ($\\mu m.\\mu m^{-2}$)')\n",
    "plt.legend()"
   ]
  },
  {
   "cell_type": "code",
   "execution_count": 241,
   "metadata": {},
   "outputs": [
    {
     "data": {
      "application/vnd.jupyter.widget-view+json": {
       "model_id": "c0a19c8a7a2c4b1bb22856755fb0346c",
       "version_major": 2,
       "version_minor": 0
      },
      "text/plain": [
       "Canvas(toolbar=Toolbar(toolitems=[('Home', 'Reset original view', 'home', 'home'), ('Back', 'Back to previous …"
      ]
     },
     "metadata": {},
     "output_type": "display_data"
    },
    {
     "data": {
      "text/plain": [
       "<matplotlib.legend.Legend at 0x286bed1cb48>"
      ]
     },
     "execution_count": 241,
     "metadata": {},
     "output_type": "execute_result"
    }
   ],
   "source": [
    "%matplotlib widget\n",
    "\n",
    "fig, ax = plt.subplots()\n",
    "y = quad_mod.get_P_transport(t)\n",
    "ax.plot(area,quad_mod.get_P_transport(t),label = 'quadratic')\n",
    "ax.plot(area,exp_mod.get_P_transport(t),label='exponential')\n",
    "ax.plot(area,0*t+3,label = \"Power provided by one trunk hypha\")\n",
    "ax.set_yscale('log')\n",
    "ax.set_xscale('log')\n",
    "ax.set_xlabel('area($\\mu m^{2}$)')\n",
    "ax.set_ylabel('Power required for transport ($\\mu W$)')\n",
    "ax.vlines(np.max(data['area_sep_comp']*10**6),np.min(y),10*np.max(y),color=\"red\")\n",
    "\n",
    "plt.legend()"
   ]
  },
  {
   "cell_type": "code",
   "execution_count": 245,
   "metadata": {},
   "outputs": [
    {
     "data": {
      "application/vnd.jupyter.widget-view+json": {
       "model_id": "cc9cb06bf2d34385a9561c343a0b936e",
       "version_major": 2,
       "version_minor": 0
      },
      "text/plain": [
       "Canvas(toolbar=Toolbar(toolitems=[('Home', 'Reset original view', 'home', 'home'), ('Back', 'Back to previous …"
      ]
     },
     "metadata": {},
     "output_type": "display_data"
    },
    {
     "data": {
      "text/plain": [
       "<matplotlib.legend.Legend at 0x286be9ef048>"
      ]
     },
     "execution_count": 245,
     "metadata": {},
     "output_type": "execute_result"
    }
   ],
   "source": [
    "%matplotlib widget\n",
    "\n",
    "fig, ax = plt.subplots()\n",
    "y = quad_mod.get_P_total_protein_synthesis(t)\n",
    "ax.plot(area,quad_mod.get_P_total_protein_synthesis(t),label = 'quadratic')\n",
    "ax.plot(area,exp_mod.get_P_total_protein_synthesis(t),label='exponential')\n",
    "ax.plot(area,t,label = \"Power provided by one trunk hypha\")\n",
    "\n",
    "ax.set_yscale('log')\n",
    "ax.set_xscale('log')\n",
    "ax.set_xlabel('area($\\mu m^{2}$)')\n",
    "ax.set_ylabel('Power required for protein synthesis ($\\mu W$)')\n",
    "# ax.vlines(np.max(data['area_sep_comp']*10**6),np.min(y),10*np.max(y),color=\"red\")\n",
    "\n",
    "plt.legend()"
   ]
  }
 ],
 "metadata": {
  "kernelspec": {
   "display_name": "Python 3",
   "language": "python",
   "name": "python3"
  },
  "language_info": {
   "codemirror_mode": {
    "name": "ipython",
    "version": 3
   },
   "file_extension": ".py",
   "mimetype": "text/x-python",
   "name": "python",
   "nbconvert_exporter": "python",
   "pygments_lexer": "ipython3",
   "version": "3.7.9"
  }
 },
 "nbformat": 4,
 "nbformat_minor": 4
}
