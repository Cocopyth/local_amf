{
 "cells": [
  {
   "cell_type": "code",
   "execution_count": 11,
   "metadata": {},
   "outputs": [],
   "source": [
    "import pandas as pd\n",
    "import matplotlib.pyplot as plt\n",
    "\n",
    "%matplotlib widget\n",
    "plt.close('all')\n",
    "import numpy as np\n",
    "from sklearn.preprocessing import StandardScaler\n",
    "from random import choice\n",
    "import imageio\n",
    "import os\n",
    "import cv2\n",
    "from scipy.interpolate import interp1d\n",
    "from scipy.optimize import curve_fit\n",
    "\n",
    "path_save = r\"C:\\Users\\coren\\Dropbox\\Apps\\Snellius2\\data_tables\\time_plate_infos_agg.pick\"\n",
    "\n",
    "time_plate_info = pd.read_pickle(path_save)\n",
    "plt.style.use('presentation.mplstyle')"
   ]
  },
  {
   "cell_type": "code",
   "execution_count": 2,
   "metadata": {},
   "outputs": [],
   "source": [
    "import matplotlib as mpl\n",
    "cmap1 = mpl.cm.get_cmap('spring')\n",
    "cmap2 = mpl.cm.get_cmap('winter')"
   ]
  },
  {
   "cell_type": "code",
   "execution_count": 25,
   "metadata": {},
   "outputs": [
    {
     "data": {
      "application/vnd.jupyter.widget-view+json": {
       "model_id": "c064239701844604a8609ee0273413b1",
       "version_major": 2,
       "version_minor": 0
      },
      "text/plain": [
       "Canvas(toolbar=Toolbar(toolitems=[('Home', 'Reset original view', 'home', 'home'), ('Back', 'Back to previous …"
      ]
     },
     "metadata": {},
     "output_type": "display_data"
    }
   ],
   "source": [
    "fig, ax = plt.subplots()\n",
    "table = table.loc[table['out_study']==False]\n",
    "ax.plot(table['time_since_begin'],table['tot_length_study'])\n",
    "ax.set_yscale(\"log\")"
   ]
  },
  {
   "cell_type": "code",
   "execution_count": 12,
   "metadata": {},
   "outputs": [],
   "source": [
    "def S(t,lamb,C,t0):\n",
    "    return(C*(1/(1+np.exp(lamb*(t-t0)))))"
   ]
  },
  {
   "cell_type": "code",
   "execution_count": 13,
   "metadata": {},
   "outputs": [
    {
     "data": {
      "application/vnd.jupyter.widget-view+json": {
       "model_id": "e9a2db99f7ea499c942b7cae6e26db0e",
       "version_major": 2,
       "version_minor": 0
      },
      "text/plain": [
       "Canvas(toolbar=Toolbar(toolitems=[('Home', 'Reset original view', 'home', 'home'), ('Back', 'Back to previous …"
      ]
     },
     "metadata": {},
     "output_type": "display_data"
    },
    {
     "name": "stderr",
     "output_type": "stream",
     "text": [
      "C:\\Users\\coren\\anaconda3\\envs\\cleanMsc\\lib\\site-packages\\pandas\\core\\arraylike.py:358: RuntimeWarning: overflow encountered in exp\n",
      "  result = getattr(ufunc, method)(*inputs, **kwargs)\n"
     ]
    }
   ],
   "source": [
    "plt.close('all')\n",
    "plate = 737\n",
    "fig, ax = plt.subplots()\n",
    "\n",
    "ax2 = ax.twinx()\n",
    "maxi = 12\n",
    "table = time_plate_info.loc[time_plate_info[\"Plate\"]==plate].copy()\n",
    "table= table.set_index('t')\n",
    "max_area = 40\n",
    "ts = []\n",
    "ys = []\n",
    "ys2 = []\n",
    "for index in range(1,maxi):\n",
    "    column = f\"ring_density_incr-100_index-{index}\"\n",
    "#     column2 = f\"ring_active_tips_density_incr-100_index-{index}\"\n",
    "    start = np.min(table.loc[table[column]>=4000]['time_since_begin'])\n",
    "    if not np.isnan(start):\n",
    "        table[f'time_since_begin_{index}']=table['time_since_begin']-start\n",
    "        area = np.sqrt(table[\"area_sep_comp\"][0]+100*index)\n",
    "\n",
    "        ax.scatter(table[f'time_since_begin_{index}'],table[column],alpha=0.5,color=cmap2(area/max_area))\n",
    "#         ax2.plot(table[f'time_since_begin_{index}'],table[column2],alpha=0.5,color=cmap1(area/max_area))\n",
    "        popt0, pcov = curve_fit(S, table[f'time_since_begin_{index}'],table[column] ,bounds = ([0,0,-np.inf],3*[np.inf]),p0=[1,1,0])\n",
    "        ax.plot(table[f'time_since_begin_{index}'],S(table[f'time_since_begin_{index}']))\n",
    "        ts +=table[f'time_since_begin_{index}'].to_list()\n",
    "        ys += table[column].to_list()\n",
    "#         ys2+=table[column2].astype(float).to_list()\n",
    "df = pd.DataFrame((np.array((ts,ys))).transpose(),columns=('ts','ys'))\n",
    "factor = 4\n",
    "df['ts_round'] = (df['ts']/factor).astype(int)*factor\n",
    "meancurve = df.groupby('ts_round')['ys'].mean()\n",
    "# ax.plot(meancurve.index,meancurve,color=\"blue\",linewidth = 5)\n",
    "# meancurve2 = df.groupby('ts_round')['ys2'].mean()\n",
    "# ax2.plot(meancurve.index,meancurve2,color=\"red\",linewidth = 5)\n",
    "# ax2.set_color('red')\n",
    "ax.set_xlim((-60,60))\n",
    "ax.set_ylabel('network density ($\\mu m.mm^{-2}$)')\n",
    "ax.set_xlabel('shifted time ($h$)')\n",
    "ax2.set_ylabel('active tips density ($mm^{-2}$)')\n",
    "ax.tick_params(axis='y', colors='blue')\n",
    "ax2.tick_params(axis='y', colors='red')\n",
    "plt.tight_layout()\n",
    "plt.savefig(\"Figure/dynamic_single_point_agg.svg\")"
   ]
  },
  {
   "cell_type": "code",
   "execution_count": 14,
   "metadata": {},
   "outputs": [
    {
     "data": {
      "text/plain": [
       "array([ 20.87246335, 518.50178424,  13.22544922])"
      ]
     },
     "execution_count": 14,
     "metadata": {},
     "output_type": "execute_result"
    }
   ],
   "source": [
    "popt0"
   ]
  },
  {
   "cell_type": "code",
   "execution_count": 55,
   "metadata": {},
   "outputs": [
    {
     "data": {
      "application/vnd.jupyter.widget-view+json": {
       "model_id": "68a7292042724d388f0af64575a9a5b9",
       "version_major": 2,
       "version_minor": 0
      },
      "text/plain": [
       "Canvas(toolbar=Toolbar(toolitems=[('Home', 'Reset original view', 'home', 'home'), ('Back', 'Back to previous …"
      ]
     },
     "metadata": {},
     "output_type": "display_data"
    }
   ],
   "source": [
    "plt.close('all')\n",
    "plate = 152\n",
    "fig, ax = plt.subplots()\n",
    "\n",
    "ax2 = ax.twinx()\n",
    "maxi = 12\n",
    "for plate in [94,152,792,799,800,91]:\n",
    "    table = time_plate_info.loc[time_plate_info[\"Plate\"]==plate].copy()\n",
    "    table= table.set_index('t')\n",
    "    \n",
    "    ts = []\n",
    "    ys = []\n",
    "    ys2 = []\n",
    "    for index in range(1,maxi):\n",
    "        column = f\"ring_density_incr-100_index-{index}\"\n",
    "        column2 = f\"ring_active_tips_density_incr-100_index-{index}\"\n",
    "        start = np.min(table.loc[table[column]>=1000]['time_since_begin'])\n",
    "        if not np.isnan(start):\n",
    "            table[f'time_since_begin_{index}']=table['time_since_begin']-start\n",
    "            area = np.sqrt(table[\"area_sep_comp\"][0]+100*index)\n",
    "            \n",
    "            ax.plot(table[f'time_since_begin_{index}'],table[column],alpha=0.5,color=cmap2(area/max_area))\n",
    "            ax2.plot(table[f'time_since_begin_{index}'],table[column2],alpha=0.5,color=cmap1(area/max_area))\n",
    "\n",
    "            ts +=table[f'time_since_begin_{index}'].to_list()\n",
    "            ys += table[column].to_list()\n",
    "            ys2+=table[column2].astype(float).to_list()\n",
    "df = pd.DataFrame((np.array((ts,ys,ys2))).transpose(),columns=('ts','ys','ys2'))\n",
    "factor = 4\n",
    "df['ts_round'] = (df['ts']/factor).astype(int)*factor\n",
    "meancurve = df.groupby('ts_round')['ys'].mean()\n",
    "# ax.plot(meancurve.index,meancurve,color=\"blue\",linewidth = 5)\n",
    "meancurve2 = df.groupby('ts_round')['ys2'].mean()\n",
    "# ax2.plot(meancurve.index,meancurve2,color=\"red\",linewidth = 5)\n",
    "# ax2.set_color('red')\n",
    "ax.set_xlim((-30,30))\n",
    "ax.set_ylabel('network density ($\\mu m.mm^{-2}$)')\n",
    "ax.set_xlabel('shifted time ($h$)')\n",
    "ax2.set_ylabel('active tips density ($mm^{-2}$)')\n",
    "ax.tick_params(axis='y', colors='blue')\n",
    "ax2.tick_params(axis='y', colors='red')\n",
    "plt.tight_layout()"
   ]
  },
  {
   "cell_type": "code",
   "execution_count": 48,
   "metadata": {},
   "outputs": [
    {
     "data": {
      "text/plain": [
       "2434.240976262188"
      ]
     },
     "execution_count": 48,
     "metadata": {},
     "output_type": "execute_result"
    }
   ],
   "source": [
    "# table= table.set_index('t')\n",
    "table[\"area_sep_comp\"][99]"
   ]
  },
  {
   "cell_type": "code",
   "execution_count": 33,
   "metadata": {},
   "outputs": [
    {
     "data": {
      "application/vnd.jupyter.widget-view+json": {
       "model_id": "347f672c6a5942198e213a23f675adab",
       "version_major": 2,
       "version_minor": 0
      },
      "text/plain": [
       "Canvas(toolbar=Toolbar(toolitems=[('Home', 'Reset original view', 'home', 'home'), ('Back', 'Back to previous …"
      ]
     },
     "metadata": {},
     "output_type": "display_data"
    }
   ],
   "source": [
    "plt.close('all')\n",
    "plate = 94\n",
    "table = time_plate_info.loc[time_plate_info[\"Plate\"]==plate].copy()\n",
    "fig, ax = plt.subplots()\n",
    "ts = []\n",
    "ys = []\n",
    "ys2 = []\n",
    "ax2 = ax.twinx()\n",
    "\n",
    "for index in range(20):\n",
    "    column = f\"ring_density_incr-100_index-{index}\"\n",
    "    column2 = f\"ring_bas_density_incr-100_index-{index}\"\n",
    "    start = np.min(table.loc[table[column]>=1000]['time_since_begin'])\n",
    "    if not np.isnan(start):\n",
    "        table[f'time_since_begin_{index}']=table['time_since_begin']-start\n",
    "        ax.plot(table[f'time_since_begin_{index}'],table[column],alpha=0.2,color='blue')\n",
    "        ax2.plot(table[f'time_since_begin_{index}'],table[column2],alpha=0.2,color='red')\n",
    "\n",
    "        ts +=table[f'time_since_begin_{index}'].to_list()\n",
    "        ys += table[column].to_list()\n",
    "        ys2+=table[column2].astype(float).to_list()\n",
    "df = pd.DataFrame((np.array((ts,ys,ys2))).transpose(),columns=('ts','ys','ys2'))\n",
    "factor = 4\n",
    "df['ts_round'] = (df['ts']/factor).astype(int)*factor\n",
    "meancurve = df.groupby('ts_round')['ys'].mean()\n",
    "ax.plot(meancurve.index,meancurve,color=\"blue\",linewidth = 5)\n",
    "meancurve2 = df.groupby('ts_round')['ys2'].mean()\n",
    "ax2.plot(meancurve.index,meancurve2,color=\"red\",linewidth = 5)\n",
    "# ax2.set_color('red')\n",
    "ax.set_xlim((-30,30))\n",
    "ax2.set_ylim((-25,650))\n",
    "ax.set_ylabel('network density ($\\mu m.mm^{-2}$)')\n",
    "ax.set_xlabel('shifted time ($h$)')\n",
    "ax2.set_ylabel('bas density ($\\mu m.mm^{-2}$)')\n",
    "ax.tick_params(axis='y', colors='blue')\n",
    "ax2.tick_params(axis='y', colors='red')\n",
    "plt.tight_layout()"
   ]
  },
  {
   "cell_type": "code",
   "execution_count": 82,
   "metadata": {},
   "outputs": [
    {
     "data": {
      "application/vnd.jupyter.widget-view+json": {
       "model_id": "3e1d94d32870448bb9eec19e35dd56ba",
       "version_major": 2,
       "version_minor": 0
      },
      "text/plain": [
       "Canvas(toolbar=Toolbar(toolitems=[('Home', 'Reset original view', 'home', 'home'), ('Back', 'Back to previous …"
      ]
     },
     "metadata": {},
     "output_type": "display_data"
    }
   ],
   "source": [
    "plt.close('all')\n",
    "plate = 94\n",
    "table = time_plate_info.loc[time_plate_info[\"Plate\"]==plate].copy()\n",
    "fig, ax = plt.subplots()\n",
    "ts = []\n",
    "ys = []\n",
    "ys2 = []\n",
    "ax2 = ax.twinx()\n",
    "\n",
    "for index in range(20):\n",
    "    column = f\"ring_branch_density_incr-100_index-{index}\"\n",
    "    column2 = f\"ring_active_tips_density_incr-100_index-{index}\"\n",
    "    start = np.min(table.loc[table[f\"ring_density_incr-100_index-{index}\"]>=1000]['time_since_begin'])\n",
    "    if not np.isnan(start):\n",
    "        table[f'time_since_begin_{index}']=table['time_since_begin']-start\n",
    "        ax.plot(table[f'time_since_begin_{index}'],table[column],alpha=0.2,color='blue')\n",
    "        ax2.plot(table[f'time_since_begin_{index}'],table[column2],alpha=0.2,color='red')\n",
    "\n",
    "        ts +=table[f'time_since_begin_{index}'].to_list()\n",
    "        ys += table[column].astype(float).to_list()\n",
    "        ys2+=table[column2].astype(float).to_list()\n",
    "df = pd.DataFrame((np.array((ts,ys,ys2))).transpose(),columns=('ts','ys','ys2'))\n",
    "factor = 4\n",
    "df['ts_round'] = (df['ts']/factor).astype(int)*factor\n",
    "meancurve = df.groupby('ts_round')['ys'].mean()\n",
    "ax.plot(meancurve.index,meancurve,color=\"blue\",linewidth = 5)\n",
    "meancurve2 = df.groupby('ts_round')['ys2'].mean()\n",
    "ax2.plot(meancurve.index,meancurve2,color=\"red\",linewidth = 5)\n",
    "# ax2.set_color('red')\n",
    "ax.set_xlim((-30,30))\n",
    "ax.set_ylim((-0.00030,0.010))\n",
    "ax.set_ylabel('new branch density ($mm^{-2}.h^{-1}$)')\n",
    "ax.set_xlabel('shifted time ($h$)')\n",
    "ax2.set_ylabel('active tips density ($mm^{-2}$)')\n",
    "ax.tick_params(axis='y', colors='blue')\n",
    "ax2.tick_params(axis='y', colors='red')\n",
    "plt.tight_layout()"
   ]
  },
  {
   "cell_type": "code",
   "execution_count": 67,
   "metadata": {},
   "outputs": [
    {
     "data": {
      "application/vnd.jupyter.widget-view+json": {
       "model_id": "5469f56516f04cfa90b012e9ad819cf3",
       "version_major": 2,
       "version_minor": 0
      },
      "text/plain": [
       "Canvas(toolbar=Toolbar(toolitems=[('Home', 'Reset original view', 'home', 'home'), ('Back', 'Back to previous …"
      ]
     },
     "metadata": {},
     "output_type": "display_data"
    }
   ],
   "source": [
    "plt.close('all')\n",
    "plate = 94\n",
    "table = time_plate_info.loc[time_plate_info[\"Plate\"]==plate].copy()\n",
    "fig, ax = plt.subplots()\n",
    "ts = []\n",
    "ys = []\n",
    "ys2 = []\n",
    "ax2 = ax.twinx()\n",
    "\n",
    "for index in range(20):\n",
    "    column = f\"ring_anas_density_incr-100_index-{index}\"\n",
    "    column2 = f\"ring_active_tips_density_incr-100_index-{index}\"\n",
    "    start = np.min(table.loc[table[f\"ring_density_incr-100_index-{index}\"]>=1000]['time_since_begin'])\n",
    "    if not np.isnan(start):\n",
    "        table[f'time_since_begin_{index}']=table['time_since_begin']-start\n",
    "        ax.plot(table[f'time_since_begin_{index}'],table[column],alpha=0.2,color='blue')\n",
    "        ax2.plot(table[f'time_since_begin_{index}'],table[column2],alpha=0.2,color='red')\n",
    "\n",
    "        ts +=table[f'time_since_begin_{index}'].to_list()\n",
    "        ys += table[column].astype(float).to_list()\n",
    "        ys2+=table[column2].astype(float).to_list()\n",
    "df = pd.DataFrame((np.array((ts,ys,ys2))).transpose(),columns=('ts','ys','ys2'))\n",
    "factor = 4\n",
    "df['ts_round'] = (df['ts']/factor).astype(int)*factor\n",
    "meancurve = df.groupby('ts_round')['ys'].mean()\n",
    "ax.plot(meancurve.index,meancurve,color=\"blue\",linewidth = 5)\n",
    "meancurve2 = df.groupby('ts_round')['ys2'].mean()\n",
    "ax2.plot(meancurve.index,meancurve2,color=\"red\",linewidth = 5)\n",
    "# ax2.set_color('red')\n",
    "ax.set_xlim((-30,30))\n",
    "ax.set_ylim((0,0.0020))\n",
    "ax2.set_ylim((0,0.25))\n",
    "\n",
    "ax.set_ylabel('anastomosis density ($mm^{-2}.h^{-1}$)')\n",
    "ax.set_xlabel('shifted time ($h$)')\n",
    "ax2.set_ylabel('active tips density ($mm^{-2}$')\n",
    "ax.tick_params(axis='y', colors='blue')\n",
    "ax2.tick_params(axis='y', colors='red')\n",
    "plt.tight_layout()"
   ]
  },
  {
   "cell_type": "code",
   "execution_count": null,
   "metadata": {},
   "outputs": [
    {
     "data": {
      "application/vnd.jupyter.widget-view+json": {
       "model_id": "dafdce5216bb4a7a82a7186822f72baa",
       "version_major": 2,
       "version_minor": 0
      },
      "text/plain": [
       "Canvas(toolbar=Toolbar(toolitems=[('Home', 'Reset original view', 'home', 'home'), ('Back', 'Back to previous …"
      ]
     },
     "metadata": {},
     "output_type": "display_data"
    },
    {
     "ename": "NameError",
     "evalue": "name 'column_speed' is not defined",
     "output_type": "error",
     "traceback": [
      "\u001b[1;31m---------------------------------------------------------------------------\u001b[0m",
      "\u001b[1;31mNameError\u001b[0m                                 Traceback (most recent call last)",
      "\u001b[1;32m<ipython-input-68-0dce84943962>\u001b[0m in \u001b[0;36m<module>\u001b[1;34m\u001b[0m\n\u001b[0;32m     14\u001b[0m     \u001b[1;32mif\u001b[0m \u001b[1;32mnot\u001b[0m \u001b[0mnp\u001b[0m\u001b[1;33m.\u001b[0m\u001b[0misnan\u001b[0m\u001b[1;33m(\u001b[0m\u001b[0mstart\u001b[0m\u001b[1;33m)\u001b[0m\u001b[1;33m:\u001b[0m\u001b[1;33m\u001b[0m\u001b[1;33m\u001b[0m\u001b[0m\n\u001b[0;32m     15\u001b[0m         \u001b[0mtable\u001b[0m\u001b[1;33m[\u001b[0m\u001b[1;34mf'time_since_begin_{index}'\u001b[0m\u001b[1;33m]\u001b[0m\u001b[1;33m=\u001b[0m\u001b[0mtable\u001b[0m\u001b[1;33m[\u001b[0m\u001b[1;34m'time_since_begin'\u001b[0m\u001b[1;33m]\u001b[0m\u001b[1;33m-\u001b[0m\u001b[0mstart\u001b[0m\u001b[1;33m\u001b[0m\u001b[1;33m\u001b[0m\u001b[0m\n\u001b[1;32m---> 16\u001b[1;33m         \u001b[0mtable\u001b[0m \u001b[1;33m=\u001b[0m \u001b[0mtable\u001b[0m\u001b[1;33m.\u001b[0m\u001b[0mloc\u001b[0m\u001b[1;33m[\u001b[0m\u001b[1;33m(\u001b[0m\u001b[0mtable\u001b[0m\u001b[1;33m[\u001b[0m\u001b[0mcolumn_speed\u001b[0m\u001b[1;33m]\u001b[0m\u001b[1;33m<=\u001b[0m\u001b[1;36m400\u001b[0m\u001b[1;33m)\u001b[0m \u001b[1;33m|\u001b[0m \u001b[1;33m(\u001b[0m\u001b[0mtable\u001b[0m\u001b[1;33m[\u001b[0m\u001b[0mcolumn_speed\u001b[0m\u001b[1;33m]\u001b[0m\u001b[1;33m.\u001b[0m\u001b[0misnull\u001b[0m\u001b[1;33m(\u001b[0m\u001b[1;33m)\u001b[0m\u001b[1;33m==\u001b[0m\u001b[1;32mTrue\u001b[0m\u001b[1;33m)\u001b[0m\u001b[1;33m]\u001b[0m\u001b[1;33m\u001b[0m\u001b[1;33m\u001b[0m\u001b[0m\n\u001b[0m\u001b[0;32m     17\u001b[0m \u001b[1;33m\u001b[0m\u001b[0m\n\u001b[0;32m     18\u001b[0m         \u001b[0max\u001b[0m\u001b[1;33m.\u001b[0m\u001b[0mplot\u001b[0m\u001b[1;33m(\u001b[0m\u001b[0mtable\u001b[0m\u001b[1;33m[\u001b[0m\u001b[1;34mf'time_since_begin_{index}'\u001b[0m\u001b[1;33m]\u001b[0m\u001b[1;33m,\u001b[0m\u001b[0mtable\u001b[0m\u001b[1;33m[\u001b[0m\u001b[0mcolumn\u001b[0m\u001b[1;33m]\u001b[0m\u001b[1;33m,\u001b[0m\u001b[0malpha\u001b[0m\u001b[1;33m=\u001b[0m\u001b[1;36m0.2\u001b[0m\u001b[1;33m,\u001b[0m\u001b[0mcolor\u001b[0m\u001b[1;33m=\u001b[0m\u001b[1;34m'blue'\u001b[0m\u001b[1;33m)\u001b[0m\u001b[1;33m\u001b[0m\u001b[1;33m\u001b[0m\u001b[0m\n",
      "\u001b[1;31mNameError\u001b[0m: name 'column_speed' is not defined"
     ]
    }
   ],
   "source": [
    "plt.close('all')\n",
    "plate = 94\n",
    "table = time_plate_info.loc[time_plate_info[\"Plate\"]==plate].copy()\n",
    "fig, ax = plt.subplots()\n",
    "ts = []\n",
    "ys = []\n",
    "ys2 = []\n",
    "ax2 = ax.twinx()\n",
    "\n",
    "for index in range(15):\n",
    "    column = f\"mean_speed_incr-100_index-{index}\"\n",
    "    column2 = f\"ring_active_tips_density_incr-100_index-{index}\"\n",
    "    start = np.min(table.loc[table[f\"ring_density_incr-100_index-{index}\"]>=1000]['time_since_begin'])\n",
    "    if not np.isnan(start):\n",
    "        table[f'time_since_begin_{index}']=table['time_since_begin']-start\n",
    "        table = table.loc[(table[column_speed]<=400) | (table[column_speed].isnull()==True)]\n",
    "        \n",
    "        ax.plot(table[f'time_since_begin_{index}'],table[column],alpha=0.2,color='blue')\n",
    "        ax2.plot(table[f'time_since_begin_{index}'],table[column2],alpha=0.2,color='red')\n",
    "\n",
    "        ts +=table[f'time_since_begin_{index}'].to_list()\n",
    "        ys += table[column].astype(float).to_list()\n",
    "        ys2+=table[column2].astype(float).to_list()\n",
    "df = pd.DataFrame((np.array((ts,ys,ys2))).transpose(),columns=('ts','ys','ys2'))\n",
    "factor = 4\n",
    "df['ts_round'] = (df['ts']/factor).astype(int)*factor\n",
    "meancurve = df.groupby('ts_round')['ys'].mean()\n",
    "ax.plot(meancurve.index,meancurve,color=\"blue\",linewidth = 5)\n",
    "meancurve2 = df.groupby('ts_round')['ys2'].mean()\n",
    "ax2.plot(meancurve.index,meancurve2,color=\"red\",linewidth = 5)\n",
    "# ax2.set_color('red')\n",
    "ax.set_xlim((-30,30))\n",
    "ax.set_ylim((100,350))\n",
    "ax.set_ylabel('new branch density ($mm^{-2}.h{-1}$)')\n",
    "ax.set_xlabel('shifted time ($h$)')\n",
    "ax2.set_ylabel('active tips density ($mm^{-2}$)')\n",
    "ax.tick_params(axis='y', colors='blue')\n",
    "ax2.tick_params(axis='y', colors='red')\n",
    "plt.tight_layout()"
   ]
  },
  {
   "cell_type": "code",
   "execution_count": 64,
   "metadata": {},
   "outputs": [
    {
     "data": {
      "application/vnd.jupyter.widget-view+json": {
       "model_id": "0ac52f627957481dab603e63d32a5fbf",
       "version_major": 2,
       "version_minor": 0
      },
      "text/plain": [
       "Canvas(toolbar=Toolbar(toolitems=[('Home', 'Reset original view', 'home', 'home'), ('Back', 'Back to previous …"
      ]
     },
     "metadata": {},
     "output_type": "display_data"
    }
   ],
   "source": [
    "plt.close('all')\n",
    "fig, ax = plt.subplots()\n",
    "\n",
    "ax2 = ax.twinx()\n",
    "for plate in [94,152,792,799,800,91]:\n",
    "    table = time_plate_info.loc[time_plate_info[\"Plate\"]==plate].copy()\n",
    "    ts = []\n",
    "    ys = []\n",
    "    ys2 = []\n",
    "\n",
    "\n",
    "    for index in range(20):\n",
    "        column = f\"ring_density_incr-100_index-{index}\"\n",
    "        column2 = f\"ring_active_tips_density_incr-100_index-{index}\"\n",
    "        start = np.min(table.loc[table[column]>=1000]['time_since_begin'])\n",
    "        if not np.isnan(start):\n",
    "            table[f'time_since_begin_{index}']=table['time_since_begin']-start\n",
    "#             ax.plot(table[f'time_since_begin_{index}'],table[column],alpha=0.2,color='blue')\n",
    "#             ax2.plot(table[f'time_since_begin_{index}'],table[column2],alpha=0.2,color='red')\n",
    "\n",
    "            ts +=table[f'time_since_begin_{index}'].to_list()\n",
    "            ys += table[column].to_list()\n",
    "            ys2+=table[column2].astype(float).to_list()\n",
    "    df = pd.DataFrame((np.array((ts,ys,ys2))).transpose(),columns=('ts','ys','ys2'))\n",
    "    factor = 4\n",
    "    df['ts_round'] = (df['ts']/factor).astype(int)*factor\n",
    "    meancurve = df.groupby('ts_round')['ys'].mean()\n",
    "    ax.plot(meancurve.index,meancurve,label=plate)\n",
    "    meancurve2 = df.groupby('ts_round')['ys2'].mean()\n",
    "    ax2.plot(meancurve.index,meancurve2,label=plate,linestyle=\"dashed\")\n",
    "# ax2.set_color('red')\n",
    "ax.set_xlim((-30,30))\n",
    "ax.set_ylabel('network density ($\\mu m.mm^{-2}$)')\n",
    "ax.set_xlabel('shifted time ($h$)')\n",
    "ax2.set_ylabel('active tips density ($mm^{-2}$')\n",
    "ax.tick_params(axis='y', colors='blue')\n",
    "ax2.tick_params(axis='y', colors='red')\n",
    "plt.legend()\n",
    "plt.tight_layout()"
   ]
  },
  {
   "cell_type": "code",
   "execution_count": 65,
   "metadata": {},
   "outputs": [
    {
     "data": {
      "application/vnd.jupyter.widget-view+json": {
       "model_id": "62bb708422d0421583de1543f987735f",
       "version_major": 2,
       "version_minor": 0
      },
      "text/plain": [
       "Canvas(toolbar=Toolbar(toolitems=[('Home', 'Reset original view', 'home', 'home'), ('Back', 'Back to previous …"
      ]
     },
     "metadata": {},
     "output_type": "display_data"
    },
    {
     "ename": "NameError",
     "evalue": "name 'column_speed' is not defined",
     "output_type": "error",
     "traceback": [
      "\u001b[1;31m---------------------------------------------------------------------------\u001b[0m",
      "\u001b[1;31mNameError\u001b[0m                                 Traceback (most recent call last)",
      "\u001b[1;32m<ipython-input-65-a83fde18231b>\u001b[0m in \u001b[0;36m<module>\u001b[1;34m\u001b[0m\n\u001b[0;32m     18\u001b[0m         \u001b[1;32mif\u001b[0m \u001b[1;32mnot\u001b[0m \u001b[0mnp\u001b[0m\u001b[1;33m.\u001b[0m\u001b[0misnan\u001b[0m\u001b[1;33m(\u001b[0m\u001b[0mstart\u001b[0m\u001b[1;33m)\u001b[0m\u001b[1;33m:\u001b[0m\u001b[1;33m\u001b[0m\u001b[1;33m\u001b[0m\u001b[0m\n\u001b[0;32m     19\u001b[0m             \u001b[0mtable\u001b[0m\u001b[1;33m[\u001b[0m\u001b[1;34mf'time_since_begin_{index}'\u001b[0m\u001b[1;33m]\u001b[0m\u001b[1;33m=\u001b[0m\u001b[0mtable\u001b[0m\u001b[1;33m[\u001b[0m\u001b[1;34m'time_since_begin'\u001b[0m\u001b[1;33m]\u001b[0m\u001b[1;33m-\u001b[0m\u001b[0mstart\u001b[0m\u001b[1;33m\u001b[0m\u001b[1;33m\u001b[0m\u001b[0m\n\u001b[1;32m---> 20\u001b[1;33m             \u001b[0mtable\u001b[0m \u001b[1;33m=\u001b[0m \u001b[0mtable\u001b[0m\u001b[1;33m.\u001b[0m\u001b[0mloc\u001b[0m\u001b[1;33m[\u001b[0m\u001b[1;33m(\u001b[0m\u001b[0mtable\u001b[0m\u001b[1;33m[\u001b[0m\u001b[0mcolumn_speed\u001b[0m\u001b[1;33m]\u001b[0m\u001b[1;33m<=\u001b[0m\u001b[1;36m400\u001b[0m\u001b[1;33m)\u001b[0m \u001b[1;33m|\u001b[0m \u001b[1;33m(\u001b[0m\u001b[0mtable\u001b[0m\u001b[1;33m[\u001b[0m\u001b[0mcolumn_speed\u001b[0m\u001b[1;33m]\u001b[0m\u001b[1;33m.\u001b[0m\u001b[0misnull\u001b[0m\u001b[1;33m(\u001b[0m\u001b[1;33m)\u001b[0m\u001b[1;33m==\u001b[0m\u001b[1;32mTrue\u001b[0m\u001b[1;33m)\u001b[0m\u001b[1;33m]\u001b[0m\u001b[1;33m\u001b[0m\u001b[1;33m\u001b[0m\u001b[0m\n\u001b[0m\u001b[0;32m     21\u001b[0m \u001b[1;33m\u001b[0m\u001b[0m\n\u001b[0;32m     22\u001b[0m \u001b[1;31m#             ax.plot(table[f'time_since_begin_{index}'],table[column],alpha=0.2,color='blue')\u001b[0m\u001b[1;33m\u001b[0m\u001b[1;33m\u001b[0m\u001b[1;33m\u001b[0m\u001b[0m\n",
      "\u001b[1;31mNameError\u001b[0m: name 'column_speed' is not defined"
     ]
    }
   ],
   "source": [
    "plt.close('all')\n",
    "fig, ax = plt.subplots()\n",
    "\n",
    "ax2 = ax.twinx()\n",
    "for plate in [94,152,792,799,800,91]:\n",
    "    table = time_plate_info.loc[time_plate_info[\"Plate\"]==plate].copy()\n",
    "    ts = []\n",
    "    ys = []\n",
    "    ys2 = []\n",
    "\n",
    "\n",
    "    for index in range(15):\n",
    "        column3 = f\"ring_density_incr-100_index-{index}\"\n",
    "        column2 = f\"ring_active_tips_density_incr-100_index-{index}\"\n",
    "        start = np.min(table.loc[table[column3]>=1000]['time_since_begin'])\n",
    "        column = f\"mean_speed_incr-100_index-{index}\"\n",
    "        \n",
    "        if not np.isnan(start):\n",
    "            table[f'time_since_begin_{index}']=table['time_since_begin']-start\n",
    "            table = table.loc[(table[column_speed]<=400) | (table[column_speed].isnull()==True)]\n",
    "            \n",
    "#             ax.plot(table[f'time_since_begin_{index}'],table[column],alpha=0.2,color='blue')\n",
    "#             ax2.plot(table[f'time_since_begin_{index}'],table[column2],alpha=0.2,color='red')\n",
    "\n",
    "            ts +=table[f'time_since_begin_{index}'].to_list()\n",
    "            ys += table[column].astype(float).to_list()\n",
    "            ys2+=table[column2].astype(float).to_list()\n",
    "    df = pd.DataFrame((np.array((ts,ys,ys2))).transpose(),columns=('ts','ys','ys2'))\n",
    "    factor = 4\n",
    "    df['ts_round'] = (df['ts']/factor).astype(int)*factor\n",
    "    meancurve = df.groupby('ts_round')['ys'].mean()\n",
    "    ax.plot(meancurve.index,meancurve,label=plate)\n",
    "    meancurve2 = df.groupby('ts_round')['ys2'].mean()\n",
    "    ax2.plot(meancurve.index,meancurve2,label=plate,linestyle=\"dashed\")\n",
    "# ax2.set_color('red')\n",
    "ax.set_xlim((-30,30))\n",
    "ax.set_ylim((100,350))\n",
    "\n",
    "ax.set_ylabel('mean speed ($\\mu m.h^{-1}$)')\n",
    "ax.set_xlabel('shifted time ($h$)')\n",
    "ax2.set_ylabel('active tips density ($mm^{-2}$')\n",
    "ax.tick_params(axis='y', colors='blue')\n",
    "ax2.tick_params(axis='y', colors='red')\n",
    "plt.legend()"
   ]
  },
  {
   "cell_type": "code",
   "execution_count": 62,
   "metadata": {},
   "outputs": [
    {
     "data": {
      "application/vnd.jupyter.widget-view+json": {
       "model_id": "aa84f5ec7c924f9f9cbd8dc0e24afe62",
       "version_major": 2,
       "version_minor": 0
      },
      "text/plain": [
       "Canvas(toolbar=Toolbar(toolitems=[('Home', 'Reset original view', 'home', 'home'), ('Back', 'Back to previous …"
      ]
     },
     "metadata": {},
     "output_type": "display_data"
    },
    {
     "ename": "NameError",
     "evalue": "name 'column_speed' is not defined",
     "output_type": "error",
     "traceback": [
      "\u001b[1;31m---------------------------------------------------------------------------\u001b[0m",
      "\u001b[1;31mNameError\u001b[0m                                 Traceback (most recent call last)",
      "\u001b[1;32m<ipython-input-62-83a4b2ef494f>\u001b[0m in \u001b[0;36m<module>\u001b[1;34m\u001b[0m\n\u001b[0;32m     23\u001b[0m         \u001b[1;32mif\u001b[0m \u001b[1;32mnot\u001b[0m \u001b[0mnp\u001b[0m\u001b[1;33m.\u001b[0m\u001b[0misnan\u001b[0m\u001b[1;33m(\u001b[0m\u001b[0mstart\u001b[0m\u001b[1;33m)\u001b[0m\u001b[1;33m:\u001b[0m\u001b[1;33m\u001b[0m\u001b[1;33m\u001b[0m\u001b[0m\n\u001b[0;32m     24\u001b[0m             \u001b[0mtable\u001b[0m\u001b[1;33m[\u001b[0m\u001b[1;34mf'time_since_begin_{index}'\u001b[0m\u001b[1;33m]\u001b[0m\u001b[1;33m=\u001b[0m\u001b[0mtable\u001b[0m\u001b[1;33m[\u001b[0m\u001b[1;34m'time_since_begin'\u001b[0m\u001b[1;33m]\u001b[0m\u001b[1;33m-\u001b[0m\u001b[0mstart\u001b[0m\u001b[1;33m\u001b[0m\u001b[1;33m\u001b[0m\u001b[0m\n\u001b[1;32m---> 25\u001b[1;33m             \u001b[0mtable\u001b[0m \u001b[1;33m=\u001b[0m \u001b[0mtable\u001b[0m\u001b[1;33m.\u001b[0m\u001b[0mloc\u001b[0m\u001b[1;33m[\u001b[0m\u001b[1;33m(\u001b[0m\u001b[0mtable\u001b[0m\u001b[1;33m[\u001b[0m\u001b[0mcolumn_speed\u001b[0m\u001b[1;33m]\u001b[0m\u001b[1;33m<=\u001b[0m\u001b[1;36m400\u001b[0m\u001b[1;33m)\u001b[0m \u001b[1;33m|\u001b[0m \u001b[1;33m(\u001b[0m\u001b[0mtable\u001b[0m\u001b[1;33m[\u001b[0m\u001b[0mcolumn_speed\u001b[0m\u001b[1;33m]\u001b[0m\u001b[1;33m.\u001b[0m\u001b[0misnull\u001b[0m\u001b[1;33m(\u001b[0m\u001b[1;33m)\u001b[0m\u001b[1;33m==\u001b[0m\u001b[1;32mTrue\u001b[0m\u001b[1;33m)\u001b[0m\u001b[1;33m]\u001b[0m\u001b[1;33m\u001b[0m\u001b[1;33m\u001b[0m\u001b[0m\n\u001b[0m\u001b[0;32m     26\u001b[0m \u001b[1;33m\u001b[0m\u001b[0m\n\u001b[0;32m     27\u001b[0m \u001b[1;31m#             ax.plot(table[f'time_since_begin_{index}'],table[column],alpha=0.2,color='blue')\u001b[0m\u001b[1;33m\u001b[0m\u001b[1;33m\u001b[0m\u001b[1;33m\u001b[0m\u001b[0m\n",
      "\u001b[1;31mNameError\u001b[0m: name 'column_speed' is not defined"
     ]
    }
   ],
   "source": [
    "plt.close('all')\n",
    "fig, ax = plt.subplots()\n",
    "tstot = []\n",
    "ystot = []\n",
    "ys2tot = []\n",
    "ys3tot = []\n",
    "\n",
    "ax2 = ax.twinx()\n",
    "for plate in [94,152,792,799,800,91]:\n",
    "    table = time_plate_info.loc[time_plate_info[\"Plate\"]==plate].copy()\n",
    "    ts = []\n",
    "    ys = []\n",
    "    ys2 = []\n",
    "    for index in range(20):\n",
    "        column = f\"ring_density_incr-100_index-{index}\"\n",
    "#         column = f\"ring_active_tips_density_incr-100_index-{index}\"\n",
    "        \n",
    "        column2 = f\"ring_active_tips_density_incr-100_index-{index}\"\n",
    "        column3 = f\"mean_speed_incr-100_index-{index}\"\n",
    "\n",
    "        align_col = f\"ring_density_incr-100_index-{index}\"\n",
    "        start = np.min(table.loc[table[align_col]>=1000]['time_since_begin'])\n",
    "        if not np.isnan(start):\n",
    "            table[f'time_since_begin_{index}']=table['time_since_begin']-start\n",
    "            table = table.loc[(table[column_speed]<=400) | (table[column_speed].isnull()==True)]\n",
    "            \n",
    "#             ax.plot(table[f'time_since_begin_{index}'],table[column],alpha=0.2,color='blue')\n",
    "#             ax2.plot(table[f'time_since_begin_{index}'],table[column2],alpha=0.2,color='red')\n",
    "            \n",
    "            x = f'time_since_begin_{index}'\n",
    "            deb = np.min(table[x])\n",
    "            end = np.max(table[x])\n",
    "            time = np.linspace(deb,end,1000)\n",
    "            tstot +=list(time)\n",
    "            f = interp1d(table[x], table[column])\n",
    "            ystot += list(f(time))\n",
    "            f = interp1d(table[x], table[column2])\n",
    "            ys2tot+=list(f(time))\n",
    "            f = interp1d(table[x], table[column3])\n",
    "            ys3tot+=list(f(time))\n",
    "df = pd.DataFrame((np.array((tstot,ystot,ys2tot,ys3tot))).transpose(),columns=('ts','ys','ys2','ys3'))\n",
    "factor = 4\n",
    "df['ts_round'] = np.floor(df['ts']/factor)*factor\n",
    "meancurve = df.groupby('ts_round')['ys'].mean()\n",
    "grad = np.gradient(meancurve,meancurve.index)\n",
    "\n",
    "meancurve2 = df.groupby('ts_round')['ys2'].mean()\n",
    "meancurve3 = df.groupby('ts_round')['ys3'].mean()\n",
    "ax2.plot(meancurve3.index,meancurve3,linewidth = 5,color='red')\n",
    "\n",
    "ax.plot(meancurve2.index,meancurve2*meancurve3,linewidth = 5)\n",
    "ax2.set_ylim((140,250))\n",
    "\n",
    "# ax2.set_color('red')\n",
    "ax.set_xlim((-30,30))\n",
    "ax.set_ylabel('n ($mm^{-2}$)')\n",
    "ax.set_xlabel('shifted time ($h$)')\n",
    "ax2.set_ylabel('v ($\\mu m.h^{-1}$')\n",
    "ax.tick_params(axis='y', colors='blue')\n",
    "ax2.tick_params(axis='y', colors='red')\n",
    "plt.tight_layout()"
   ]
  },
  {
   "cell_type": "code",
   "execution_count": 100,
   "metadata": {},
   "outputs": [],
   "source": [
    "# plt.close('all')\n",
    "# fig, ax = plt.subplots()\n",
    "tstot = []\n",
    "ystot = []\n",
    "ys2tot = []\n",
    "# ax2 = ax.twinx()\n",
    "for plate in [94,152,792,799,800,91]:\n",
    "    table = time_plate_info.loc[time_plate_info[\"Plate\"]==plate].copy()\n",
    "    ts = []\n",
    "    ys = []\n",
    "    ys2 = []\n",
    "    for index in range(20):\n",
    "        column2 = f\"mean_speed_incr-100_index-{index}\"\n",
    "        column = f\"ring_active_tips_density_incr-100_index-{index}\"\n",
    "        start = np.min(table.loc[table[f\"ring_density_incr-100_index-{index}\"]>=1000]['time_since_begin'])\n",
    "        if not np.isnan(start):\n",
    "            table[f'time_since_begin_{index}']=table['time_since_begin']-start\n",
    "            table = table.loc[(table[column2]<=400) | (table[column2].isnull()==True)]\n",
    "#             ax.plot(table[f'time_since_begin_{index}'],table[column],alpha=0.2,color='blue')\n",
    "#             ax2.plot(table[f'time_since_begin_{index}'],table[column2],alpha=0.2,color='red')\n",
    "\n",
    "            tstot +=table[f'time_since_begin_{index}'].to_list()\n",
    "            ystot += table[column].astype(float).to_list()\n",
    "            ys2tot+=table[column2].astype(float).to_list()\n",
    "            ts +=table[f'time_since_begin_{index}'].to_list()\n",
    "            ys += table[column].astype(float).to_list()\n",
    "            ys2+=table[column2].astype(float).to_list()\n",
    "    df = pd.DataFrame((np.array((ts,ys,ys2))).transpose(),columns=('ts','ys','ys2'))\n",
    "    factor = 4\n",
    "    df['ts_round'] = (df['ts']/factor).astype(int)*factor\n",
    "    meancurve = df.groupby('ts_round')['ys'].mean()\n",
    "#     ax.plot(meancurve.index,meancurve,color='blue',alpha=0.5)\n",
    "    meancurve2 = df.groupby('ts_round')['ys2'].mean()\n",
    "    ax2.plot(meancurve.index,meancurve2,color='red',alpha = 0.5)\n",
    "# df = pd.DataFrame((np.array((tstot,ystot,ys2tot))).transpose(),columns=('ts','ys','ys2'))\n",
    "# factor = 4\n",
    "# df['ts_round'] = (df['ts']/factor).astype(int)*factor\n",
    "# meancurve = df.groupby('ts_round')['ys'].mean()\n",
    "# ax.plot(meancurve.index,meancurve,linewidth = 5)\n",
    "# meancurve2 = df.groupby('ts_round')['ys2'].mean()\n",
    "# ax2.plot(meancurve.index,meancurve2,linewidth = 5,color='red')\n",
    "# # ax2.set_color('red')\n",
    "# ax.set_xlim((-30,30))\n",
    "# ax2.set_ylabel('mean speed ($\\mu m.h^{-1}$)')\n",
    "# ax.set_xlabel('shifted time ($h$)')\n",
    "# ax.set_ylabel('active tips density ($mm^{-2}$)')\n",
    "# ax.tick_params(axis='y', colors='blue')\n",
    "# ax2.tick_params(axis='y', colors='red')\n",
    "# ax2.set_ylim((100,350))\n",
    "\n",
    "# plt.legend()"
   ]
  },
  {
   "cell_type": "code",
   "execution_count": 107,
   "metadata": {},
   "outputs": [
    {
     "data": {
      "application/vnd.jupyter.widget-view+json": {
       "model_id": "68f346564ac3416cb1784c454ea2d5e2",
       "version_major": 2,
       "version_minor": 0
      },
      "text/plain": [
       "Canvas(toolbar=Toolbar(toolitems=[('Home', 'Reset original view', 'home', 'home'), ('Back', 'Back to previous …"
      ]
     },
     "metadata": {},
     "output_type": "display_data"
    }
   ],
   "source": [
    "plt.close('all')\n",
    "fig, ax = plt.subplots()\n",
    "tstot = []\n",
    "ystot = []\n",
    "ys2tot = []\n",
    "ys3tot = []\n",
    "\n",
    "ax2 = ax.twinx()\n",
    "for plate in [94,152,792,799,800,91]:\n",
    "    table = time_plate_info.loc[time_plate_info[\"Plate\"]==plate].copy()\n",
    "    ts = []\n",
    "    ys = []\n",
    "    ys2 = []\n",
    "    for index in range(20):\n",
    "        column = f\"ring_density_incr-100_index-{index}\"\n",
    "#         column = f\"ring_active_tips_density_incr-100_index-{index}\"\n",
    "        \n",
    "        column2 = f\"ring_active_tips_density_incr-100_index-{index}\"\n",
    "        column3 = f\"mean_speed_incr-100_index-{index}\"\n",
    "\n",
    "        align_col = f\"ring_density_incr-100_index-{index}\"\n",
    "        start = np.min(table.loc[table[align_col]>=1000]['time_since_begin'])\n",
    "        if not np.isnan(start):\n",
    "            table[f'time_since_begin_{index}']=table['time_since_begin']-start\n",
    "#             ax.plot(table[f'time_since_begin_{index}'],table[column],alpha=0.2,color='blue')\n",
    "#             ax2.plot(table[f'time_since_begin_{index}'],table[column2],alpha=0.2,color='red')\n",
    "            \n",
    "            x = f'time_since_begin_{index}'\n",
    "            deb = np.min(table[x])\n",
    "            end = np.max(table[x])\n",
    "            time = np.linspace(deb,end,1000)\n",
    "            tstot +=list(time)\n",
    "            f = interp1d(table[x], table[column])\n",
    "            ystot += list(f(time))\n",
    "            f = interp1d(table[x], table[column2])\n",
    "            ys2tot+=list(f(time))\n",
    "            f = interp1d(table[x], table[column3])\n",
    "            ys3tot+=list(f(time))\n",
    "df = pd.DataFrame((np.array((tstot,ystot,ys2tot,ys3tot))).transpose(),columns=('ts','ys','ys2','ys3'))\n",
    "factor = 1\n",
    "df['ts_round'] = np.floor(df['ts']/factor)*factor\n",
    "meancurve = df.groupby('ts_round')['ys'].mean()\n",
    "grad = np.gradient(meancurve,meancurve.index)\n",
    "\n",
    "ax.plot(meancurve.index,meancurve,linewidth = 5)\n",
    "meancurve2 = df.groupby('ts_round')['ys2'].mean()\n",
    "meancurve3 = df.groupby('ts_round')['ys3'].mean()\n",
    "\n",
    "ax2.plot(meancurve2.index,meancurve2,color='red',label = 'data')\n",
    "ax2.plot(meancurve2.index,grad/700,color='red',label = r'$\\frac{\\partial \\rho_{data}}{\\partial t}$ (scaled)',linestyle=\"dashed\")\n",
    "\n",
    "# ax2.set_color('red')\n",
    "ax.set_xlim((-30,30))\n",
    "ax.set_ylabel(r'$\\rho$ ($\\mu m.mm^{-2}$)')\n",
    "ax.set_xlabel('shifted time ($h$)')\n",
    "ax2.set_ylabel(r'$n$ ($mm^{-2}$)')\n",
    "ax.tick_params(axis='y', colors='blue')\n",
    "ax2.tick_params(axis='y', colors='red')\n",
    "ax2.set_ylim((0,0.15))\n",
    "plt.legend(fontsize=15)\n",
    "plt.tight_layout()"
   ]
  },
  {
   "cell_type": "code",
   "execution_count": 114,
   "metadata": {},
   "outputs": [
    {
     "data": {
      "application/vnd.jupyter.widget-view+json": {
       "model_id": "93545c41062044e08c47827f3fd5bdea",
       "version_major": 2,
       "version_minor": 0
      },
      "text/plain": [
       "Canvas(toolbar=Toolbar(toolitems=[('Home', 'Reset original view', 'home', 'home'), ('Back', 'Back to previous …"
      ]
     },
     "metadata": {},
     "output_type": "display_data"
    }
   ],
   "source": [
    "plt.close('all')\n",
    "fig, ax = plt.subplots()\n",
    "tstot = []\n",
    "ystot = []\n",
    "ys2tot = []\n",
    "ys3tot = []\n",
    "\n",
    "ax2 = ax.twinx()\n",
    "for plate in [94,152,792,799,800,91]:\n",
    "    table = time_plate_info.loc[time_plate_info[\"Plate\"]==plate].copy()\n",
    "    ts = []\n",
    "    ys = []\n",
    "    ys2 = []\n",
    "    for index in range(20):\n",
    "        column = f\"ring_density_incr-100_index-{index}\"\n",
    "#         column = f\"ring_active_tips_density_incr-100_index-{index}\"\n",
    "        \n",
    "        column2 = f\"ring_active_tips_density_incr-100_index-{index}\"\n",
    "        column3 = f\"mean_speed_incr-100_index-{index}\"\n",
    "\n",
    "        align_col = f\"ring_density_incr-100_index-{index}\"\n",
    "        start = np.min(table.loc[table[align_col]>=1000]['time_since_begin'])\n",
    "        if not np.isnan(start):\n",
    "            table[f'time_since_begin_{index}']=table['time_since_begin']-start\n",
    "#             ax.plot(table[f'time_since_begin_{index}'],table[column],alpha=0.2,color='blue')\n",
    "#             ax2.plot(table[f'time_since_begin_{index}'],table[column2],alpha=0.2,color='red')\n",
    "            \n",
    "            x = f'time_since_begin_{index}'\n",
    "            deb = np.min(table[x])\n",
    "            end = np.max(table[x])\n",
    "            time = np.linspace(deb,end,1000)\n",
    "            tstot +=list(time)\n",
    "            f = interp1d(table[x], table[column])\n",
    "            ystot += list(f(time))\n",
    "            f = interp1d(table[x], table[column2])\n",
    "            ys2tot+=list(f(time))\n",
    "            f = interp1d(table[x], table[column3])\n",
    "            ys3tot+=list(f(time))\n",
    "df = pd.DataFrame((np.array((tstot,ystot,ys2tot,ys3tot))).transpose(),columns=('ts','ys','ys2','ys3'))\n",
    "factor = 1\n",
    "df['ts_round'] = np.floor(df['ts']/factor)*factor\n",
    "meancurve = df.groupby('ts_round')['ys'].mean()\n",
    "grad = np.gradient(meancurve,meancurve.index)\n",
    "\n",
    "ax.plot(meancurve.index,meancurve,linewidth = 5)\n",
    "meancurve2 = df.groupby('ts_round')['ys2'].mean()\n",
    "meancurve3 = df.groupby('ts_round')['ys3'].mean()\n",
    "\n",
    "ax2.plot(meancurve2.index,meancurve2*meancurve3*2.56,color='red',label = 'data')\n",
    "ax2.plot(meancurve2.index,grad,color='red',label = r'$\\frac{\\partial \\rho_{data}}{\\partial t}$',linestyle=\"dashed\")\n",
    "\n",
    "# ax2.set_color('red')\n",
    "ax.set_xlim((-30,30))\n",
    "ax.set_ylabel(r'$\\rho$ ($\\mu m.mm^{-2}$)')\n",
    "ax.set_xlabel('shifted time ($h$)')\n",
    "ax2.set_ylabel(r'$nv$ ($\\mu m.mm^{-2}.h^{-1}$)')\n",
    "ax.tick_params(axis='y', colors='blue')\n",
    "ax2.tick_params(axis='y', colors='red')\n",
    "ax2.set_ylim((0,80))\n",
    "plt.legend(fontsize=15)\n",
    "plt.tight_layout()"
   ]
  },
  {
   "cell_type": "code",
   "execution_count": 170,
   "metadata": {},
   "outputs": [
    {
     "data": {
      "application/vnd.jupyter.widget-view+json": {
       "model_id": "b8b12bbbf4be4e7d99598eaae91cbca3",
       "version_major": 2,
       "version_minor": 0
      },
      "text/plain": [
       "Canvas(toolbar=Toolbar(toolitems=[('Home', 'Reset original view', 'home', 'home'), ('Back', 'Back to previous …"
      ]
     },
     "metadata": {},
     "output_type": "display_data"
    }
   ],
   "source": [
    "plt.close('all')\n",
    "fig, ax = plt.subplots()\n",
    "tstot = []\n",
    "ystot = []\n",
    "ys2tot = []\n",
    "ys3tot = []\n",
    "\n",
    "ax2 = ax.twinx()\n",
    "for plate in [94,152,792,799,800,91]:\n",
    "    table = time_plate_info.loc[time_plate_info[\"Plate\"]==plate].copy()\n",
    "    ts = []\n",
    "    ys = []\n",
    "    ys2 = []\n",
    "    for index in range(15):\n",
    "        column = f\"ring_anas_density_incr-100_index-{index}\"\n",
    "#         column = f\"ring_active_tips_density_incr-100_index-{index}\"\n",
    "        \n",
    "        column2 = f\"ring_active_tips_density_incr-100_index-{index}\"\n",
    "        column3 = f\"ring_density_incr-100_index-{index}\"\n",
    "        start = np.min(table.loc[table[column3]>=1000]['time_since_begin'])\n",
    "        if not np.isnan(start):\n",
    "            table[f'time_since_begin_{index}']=table['time_since_begin']-start\n",
    "#             ax.plot(table[f'time_since_begin_{index}'],table[column],alpha=0.2,color='blue')\n",
    "#             ax2.plot(table[f'time_since_begin_{index}'],table[column2],alpha=0.2,color='red')\n",
    "            \n",
    "            x = f'time_since_begin_{index}'\n",
    "            deb = np.min(table[x])\n",
    "            end = np.max(table[x])\n",
    "            time = np.linspace(deb,end,1000)\n",
    "            tstot +=list(time)\n",
    "            f = interp1d(table[x], table[column])\n",
    "            ystot += list(f(time))\n",
    "            f = interp1d(table[x], table[column2])\n",
    "            ys2tot+=list(f(time))\n",
    "            f = interp1d(table[x], table[column3])\n",
    "            ys3tot+=list(f(time))\n",
    "df = pd.DataFrame((np.array((tstot,ystot,ys2tot,ys3tot))).transpose(),columns=('ts','ys','ys2','ys3'))\n",
    "factor = 1\n",
    "df['ts_round'] = np.floor(df['ts']/factor)*factor\n",
    "meancurve = df.groupby('ts_round')['ys'].mean()\n",
    "ax.plot(meancurve.index,meancurve,linewidth = 5)\n",
    "meancurve2 = df.groupby('ts_round')['ys2'].mean()\n",
    "meancurve3 = df.groupby('ts_round')['ys3'].mean()\n",
    "\n",
    "ax2.plot(meancurve2.index,meancurve2*meancurve3,linewidth = 5,color='red')\n",
    "# ax2.set_color('red')\n",
    "ax.set_xlim((-30,30))\n",
    "ax.set_ylim((0,0.0019))\n",
    "\n",
    "ax.set_ylabel('anastomosis density ($mm^{-2}.h^{-1}$)')\n",
    "ax.set_xlabel('shifted time ($h$)')\n",
    "ax2.set_ylabel(r'$\\rho n$ ($\\mu m. mm^{-4}$)')\n",
    "ax.tick_params(axis='y', colors='blue')\n",
    "ax2.tick_params(axis='y', colors='red')\n",
    "plt.tight_layout()"
   ]
  },
  {
   "cell_type": "code",
   "execution_count": 150,
   "metadata": {},
   "outputs": [
    {
     "data": {
      "text/plain": [
       "2.1900858932606623e-05"
      ]
     },
     "execution_count": 150,
     "metadata": {},
     "output_type": "execute_result"
    }
   ],
   "source": [
    "np.max(meancurve)/np.max(meancurve2*meancurve3)"
   ]
  },
  {
   "cell_type": "code",
   "execution_count": 152,
   "metadata": {},
   "outputs": [],
   "source": [
    "# plt.close('all')\n",
    "# fig, ax = plt.subplots()\n",
    "tstot = []\n",
    "ystot = []\n",
    "ys2tot = []\n",
    "# ax2 = ax.twinx()\n",
    "for plate in [94,152,792,799,800,91]:\n",
    "    table = time_plate_info.loc[time_plate_info[\"Plate\"]==plate].copy()\n",
    "    ts = []\n",
    "    ys = []\n",
    "    ys2 = []\n",
    "    for index in range(15):\n",
    "        column = f\"ring_anas_density_incr-100_index-{index}\"\n",
    "        column2 = f\"ring_active_tips_density_incr-100_index-{index}\"\n",
    "        start = np.min(table.loc[table[f\"ring_density_incr-100_index-{index}\"]>=1000]['time_since_begin'])\n",
    "        if not np.isnan(start):\n",
    "            table[f'time_since_begin_{index}']=table['time_since_begin']-start\n",
    "#             ax.plot(table[f'time_since_begin_{index}'],table[column],alpha=0.2,color='blue')\n",
    "#             ax2.plot(table[f'time_since_begin_{index}'],table[column2],alpha=0.2,color='red')\n",
    "\n",
    "            tstot +=table[f'time_since_begin_{index}'].to_list()\n",
    "            ystot += table[column].astype(float).to_list()\n",
    "            ys2tot+=table[column2].astype(float).to_list()\n",
    "            ts +=table[f'time_since_begin_{index}'].to_list()\n",
    "            ys += table[column].astype(float).to_list()\n",
    "            ys2+=table[column2].astype(float).to_list()\n",
    "    df = pd.DataFrame((np.array((ts,ys,ys2))).transpose(),columns=('ts','ys','ys2'))\n",
    "    factor = 4\n",
    "    df['ts_round'] = (df['ts']/factor).astype(int)*factor\n",
    "    meancurve = df.groupby('ts_round')['ys'].mean()\n",
    "#     ax.plot(meancurve.index,meancurve,color='blue',alpha=0.5)\n",
    "    meancurve2 = df.groupby('ts_round')['ys2'].mean()\n",
    "    ax.plot(meancurve.index,meancurve,color='blue',alpha = 0.5)\n",
    "# df = pd.DataFrame((np.array((tstot,ystot,ys2tot))).transpose(),columns=('ts','ys','ys2'))\n",
    "# factor = 4\n",
    "# df['ts_round'] = (df['ts']/factor).astype(int)*factor\n",
    "# meancurve = df.groupby('ts_round')['ys'].mean()\n",
    "# ax.plot(meancurve.index,meancurve,linewidth = 5)\n",
    "# meancurve2 = df.groupby('ts_round')['ys2'].mean()\n",
    "# ax2.plot(meancurve.index,meancurve2,linewidth = 5,color='red')\n",
    "# # ax2.set_color('red')\n",
    "# ax.set_xlim((-30,30))\n",
    "# ax.set_ylabel('anastomosis density ($mm^{-2}.h{-1}$)')\n",
    "# ax.set_xlabel('shifted time ($h$)')\n",
    "# ax2.set_ylabel('active tips density ($mm^{-2}$)')\n",
    "# ax.tick_params(axis='y', colors='blue')\n",
    "# ax2.tick_params(axis='y', colors='red')\n",
    "# plt.legend()"
   ]
  },
  {
   "cell_type": "code",
   "execution_count": 172,
   "metadata": {},
   "outputs": [
    {
     "data": {
      "application/vnd.jupyter.widget-view+json": {
       "model_id": "8752a180aca4436eba45bee09291c25d",
       "version_major": 2,
       "version_minor": 0
      },
      "text/plain": [
       "Canvas(toolbar=Toolbar(toolitems=[('Home', 'Reset original view', 'home', 'home'), ('Back', 'Back to previous …"
      ]
     },
     "metadata": {},
     "output_type": "display_data"
    }
   ],
   "source": [
    "plt.close('all')\n",
    "fig, ax = plt.subplots()\n",
    "tstot = []\n",
    "ystot = []\n",
    "ys2tot = []\n",
    "ys3tot = []\n",
    "\n",
    "ax2 = ax.twinx()\n",
    "for plate in [94,152,792,799,800,91]:\n",
    "    table = time_plate_info.loc[time_plate_info[\"Plate\"]==plate].copy()\n",
    "    ts = []\n",
    "    ys = []\n",
    "    ys2 = []\n",
    "    for index in range(15):\n",
    "        column = f\"ring_branch_density_incr-100_index-{index}\"\n",
    "#         column = f\"ring_active_tips_density_incr-100_index-{index}\"\n",
    "        \n",
    "        column2 = f\"ring_active_tips_density_incr-100_index-{index}\"\n",
    "        column3 = f\"ring_density_incr-100_index-{index}\"\n",
    "        start = np.min(table.loc[table[column3]>=1000]['time_since_begin'])\n",
    "        if not np.isnan(start):\n",
    "            table[f'time_since_begin_{index}']=table['time_since_begin']-start\n",
    "#             ax.plot(table[f'time_since_begin_{index}'],table[column],alpha=0.2,color='blue')\n",
    "#             ax2.plot(table[f'time_since_begin_{index}'],table[column2],alpha=0.2,color='red')\n",
    "            \n",
    "            x = f'time_since_begin_{index}'\n",
    "            deb = np.min(table[x])\n",
    "            end = np.max(table[x])\n",
    "            time = np.linspace(deb,end,1000)\n",
    "            tstot +=list(time)\n",
    "            f = interp1d(table[x], table[column])\n",
    "            ystot += list(f(time))\n",
    "            f = interp1d(table[x], table[column2])\n",
    "            ys2tot+=list(f(time))\n",
    "            f = interp1d(table[x], table[column3])\n",
    "            ys3tot+=list(f(time))\n",
    "df = pd.DataFrame((np.array((tstot,ystot,ys2tot,ys3tot))).transpose(),columns=('ts','ys','ys2','ys3'))\n",
    "factor = 1\n",
    "df['ts_round'] = np.floor(df['ts']/factor)*factor\n",
    "meancurve = df.groupby('ts_round')['ys'].mean()\n",
    "ax.plot(meancurve.index,meancurve,linewidth = 5)\n",
    "meancurve2 = df.groupby('ts_round')['ys2'].mean()\n",
    "meancurve3 = df.groupby('ts_round')['ys3'].mean()\n",
    "\n",
    "ax2.plot(meancurve2.index,meancurve2,linewidth = 5,color='red')\n",
    "# ax2.set_color('red')\n",
    "ax.set_xlim((-30,30))\n",
    "ax.set_ylim((0,0.0074))\n",
    "\n",
    "ax.set_ylabel('branch density ($mm^{-2}.h^{-1}$)')\n",
    "ax.set_xlabel('shifted time ($h$)')\n",
    "ax2.set_ylabel(r'$n$ ($mm^{-2}$)')\n",
    "ax.tick_params(axis='y', colors='blue')\n",
    "ax2.tick_params(axis='y', colors='red')\n",
    "plt.tight_layout()"
   ]
  },
  {
   "cell_type": "code",
   "execution_count": 175,
   "metadata": {},
   "outputs": [
    {
     "data": {
      "text/plain": [
       "0.05647099251989463"
      ]
     },
     "execution_count": 175,
     "metadata": {},
     "output_type": "execute_result"
    }
   ],
   "source": [
    "np.max(meancurve)/np.max(meancurve2)"
   ]
  },
  {
   "cell_type": "code",
   "execution_count": 176,
   "metadata": {},
   "outputs": [
    {
     "data": {
      "text/plain": [
       "2566.863296358847"
      ]
     },
     "execution_count": 176,
     "metadata": {},
     "output_type": "execute_result"
    }
   ],
   "source": [
    "np.max(meancurve)/np.max(meancurve2)/(2.2e-5)"
   ]
  },
  {
   "cell_type": "code",
   "execution_count": 168,
   "metadata": {},
   "outputs": [],
   "source": [
    "# plt.close('all')\n",
    "# fig, ax = plt.subplots()\n",
    "tstot = []\n",
    "ystot = []\n",
    "ys2tot = []\n",
    "# ax2 = ax.twinx()\n",
    "for plate in [94,152,792,799,800,91]:\n",
    "    table = time_plate_info.loc[time_plate_info[\"Plate\"]==plate].copy()\n",
    "    ts = []\n",
    "    ys = []\n",
    "    ys2 = []\n",
    "    for index in range(15):\n",
    "        column = f\"ring_branch_density_incr-100_index-{index}\"\n",
    "        column2 = f\"ring_active_tips_density_incr-100_index-{index}\"\n",
    "        start = np.min(table.loc[table[f\"ring_density_incr-100_index-{index}\"]>=1000]['time_since_begin'])\n",
    "        if not np.isnan(start):\n",
    "            table[f'time_since_begin_{index}']=table['time_since_begin']-start\n",
    "#             ax.plot(table[f'time_since_begin_{index}'],table[column],alpha=0.2,color='blue')\n",
    "#             ax2.plot(table[f'time_since_begin_{index}'],table[column2],alpha=0.2,color='red')\n",
    "\n",
    "            tstot +=table[f'time_since_begin_{index}'].to_list()\n",
    "            ystot += table[column].astype(float).to_list()\n",
    "            ys2tot+=table[column2].astype(float).to_list()\n",
    "            ts +=table[f'time_since_begin_{index}'].to_list()\n",
    "            ys += table[column].astype(float).to_list()\n",
    "            ys2+=table[column2].astype(float).to_list()\n",
    "    df = pd.DataFrame((np.array((ts,ys,ys2))).transpose(),columns=('ts','ys','ys2'))\n",
    "    factor = 4\n",
    "    df['ts_round'] = (df['ts']/factor).astype(int)*factor\n",
    "    meancurve = df.groupby('ts_round')['ys'].mean()\n",
    "#     ax.plot(meancurve.index,meancurve,color='blue',alpha=0.5)\n",
    "    meancurve2 = df.groupby('ts_round')['ys2'].mean()\n",
    "    ax.plot(meancurve2.index,meancurve,color='blue',alpha = 0.5)\n",
    "# df = pd.DataFrame((np.array((tstot,ystot,ys2tot))).transpose(),columns=('ts','ys','ys2'))\n",
    "# factor = 4\n",
    "# df['ts_round'] = (df['ts']/factor).astype(int)*factor\n",
    "# meancurve = df.groupby('ts_round')['ys'].mean()\n",
    "# ax.plot(meancurve.index,meancurve,linewidth = 5)\n",
    "# meancurve2 = df.groupby('ts_round')['ys2'].mean()\n",
    "# ax2.plot(meancurve.index,meancurve2,linewidth = 5,color='red')\n",
    "# # ax2.set_color('red')\n",
    "# ax.set_xlim((-30,30))\n",
    "# ax.set_ylabel('anastomosis density ($mm^{-2}.h{-1}$)')\n",
    "# ax.set_xlabel('shifted time ($h$)')\n",
    "# ax2.set_ylabel('active tips density ($mm^{-2}$)')\n",
    "# ax.tick_params(axis='y', colors='blue')\n",
    "# ax2.tick_params(axis='y', colors='red')\n",
    "# plt.legend()"
   ]
  },
  {
   "cell_type": "code",
   "execution_count": 18,
   "metadata": {},
   "outputs": [
    {
     "data": {
      "application/vnd.jupyter.widget-view+json": {
       "model_id": "907e4397462c4022a045eedfb14f9dc7",
       "version_major": 2,
       "version_minor": 0
      },
      "text/plain": [
       "Canvas(toolbar=Toolbar(toolitems=[('Home', 'Reset original view', 'home', 'home'), ('Back', 'Back to previous …"
      ]
     },
     "metadata": {},
     "output_type": "display_data"
    }
   ],
   "source": [
    "plt.close('all')\n",
    "fig, ax = plt.subplots()\n",
    "tstot = []\n",
    "ystot = []\n",
    "ys2tot = []\n",
    "ys3tot = []\n",
    "\n",
    "ax2 = ax.twinx()\n",
    "for plate in [94,152,792,799,800,91]:\n",
    "    table = time_plate_info.loc[time_plate_info[\"Plate\"]==plate].copy()\n",
    "    ts = []\n",
    "    ys = []\n",
    "    ys2 = []\n",
    "    for index in range(20):\n",
    "        column = f\"ring_anas_density_incr-100_index-{index}\"\n",
    "#         column = f\"ring_active_tips_density_incr-100_index-{index}\"\n",
    "        \n",
    "        column2 = f\"ring_active_tips_density_incr-100_index-{index}\"\n",
    "        column3 = f\"ring_density_incr-100_index-{index}\"\n",
    "        start = np.min(table.loc[table[column3]>=1000]['time_since_begin'])\n",
    "        if not np.isnan(start):\n",
    "            table[f'time_since_begin_{index}']=table['time_since_begin']-start\n",
    "#             ax.plot(table[f'time_since_begin_{index}'],table[column],alpha=0.2,color='blue')\n",
    "#             ax2.plot(table[f'time_since_begin_{index}'],table[column2],alpha=0.2,color='red')\n",
    "            \n",
    "            x = f'time_since_begin_{index}'\n",
    "            deb = np.min(table[x])\n",
    "            end = np.max(table[x])\n",
    "            time = np.linspace(deb,end,1000)\n",
    "            tstot +=list(time)\n",
    "            f = interp1d(table[x], table[column])\n",
    "            ystot += list(f(time))\n",
    "            f = interp1d(table[x], table[column2])\n",
    "            ys2tot+=list(f(time))\n",
    "            f = interp1d(table[x], table[column3])\n",
    "            ys3tot+=list(f(time))\n",
    "df = pd.DataFrame((np.array((tstot,ystot,ys2tot,ys3tot))).transpose(),columns=('ts','ys','ys2','ys3'))\n",
    "factor = 1\n",
    "df['ts_round'] = np.floor(df['ts']/factor)*factor\n",
    "meancurve = df.groupby('ts_round')['ys'].mean()\n",
    "ax.plot(meancurve.index,meancurve,linewidth = 5)\n",
    "meancurve2 = df.groupby('ts_round')['ys2'].mean()\n",
    "meancurve3 = df.groupby('ts_round')['ys3'].mean()\n",
    "\n",
    "ax2.plot(meancurve2.index,meancurve2*meancurve3,linewidth = 5,color='red')\n",
    "# ax2.set_color('red')\n",
    "ax.set_xlim((-30,30))\n",
    "ax.set_ylabel('anastomosis density ($mm^{-2}.h{-1}$)')\n",
    "ax.set_xlabel('shifted time ($h$)')\n",
    "ax2.set_ylabel(r'$\\rho n$ ($\\mu m. mm^{-}$)')\n",
    "ax.tick_params(axis='y', colors='blue')\n",
    "ax2.tick_params(axis='y', colors='red')\n"
   ]
  }
 ],
 "metadata": {
  "kernelspec": {
   "display_name": "Python 3",
   "language": "python",
   "name": "python3"
  },
  "language_info": {
   "codemirror_mode": {
    "name": "ipython",
    "version": 3
   },
   "file_extension": ".py",
   "mimetype": "text/x-python",
   "name": "python",
   "nbconvert_exporter": "python",
   "pygments_lexer": "ipython3",
   "version": "3.7.9"
  }
 },
 "nbformat": 4,
 "nbformat_minor": 4
}
