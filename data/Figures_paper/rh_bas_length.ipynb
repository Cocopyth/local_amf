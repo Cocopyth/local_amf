{
 "cells": [
  {
   "cell_type": "code",
   "execution_count": 1,
   "metadata": {},
   "outputs": [],
   "source": [
    "import numpy as np\n",
    "from patsy import dmatrices\n",
    "import pandas as pd\n",
    "import statsmodels.api as sm\n",
    "import matplotlib.pyplot as plt\n",
    "from scipy.interpolate import interp1d\n",
    "from sklearn.linear_model import LinearRegression\n",
    "from scipy.signal import savgol_filter\n",
    "\n",
    "%config Completer.use_jedi = False \n",
    "%matplotlib widget"
   ]
  },
  {
   "cell_type": "code",
   "execution_count": 2,
   "metadata": {},
   "outputs": [],
   "source": [
    "path_save = r\"C:\\Users\\coren\\Dropbox\\Apps\\Snellius2\\data_tables\\time_plate_infos.pick\"\n",
    "time_plate_info = pd.read_pickle(path_save)\n",
    "path_save = r\"C:\\Users\\coren\\Dropbox\\Apps\\Snellius2\\data_tables\\global_hypha_infos.pick\"\n",
    "global_hypha_info = pd.read_pickle(path_save)\n",
    "path_save = r\"C:\\Users\\coren\\Dropbox\\Apps\\Snellius2\\data_tables\\time_hypha_infos.pick\"\n",
    "time_hypha_info = pd.read_pickle(path_save)\n"
   ]
  },
  {
   "cell_type": "code",
   "execution_count": 3,
   "metadata": {},
   "outputs": [],
   "source": [
    "plate = 152\n",
    "select = time_plate_info.loc[(time_plate_info['Plate']==plate)&(time_plate_info['out_study']==0)]"
   ]
  },
  {
   "cell_type": "code",
   "execution_count": 4,
   "metadata": {},
   "outputs": [
    {
     "data": {
      "application/vnd.jupyter.widget-view+json": {
       "model_id": "f25235b0f0ec4e5e861440a78d5b9fa8",
       "version_major": 2,
       "version_minor": 0
      },
      "text/plain": [
       "Canvas(toolbar=Toolbar(toolitems=[('Home', 'Reset original view', 'home', 'home'), ('Back', 'Back to previous …"
      ]
     },
     "metadata": {},
     "output_type": "display_data"
    },
    {
     "data": {
      "text/plain": [
       "[<matplotlib.lines.Line2D at 0x22f88b21708>]"
      ]
     },
     "execution_count": 4,
     "metadata": {},
     "output_type": "execute_result"
    }
   ],
   "source": [
    "fig, ax = plt.subplots()\n",
    "\n",
    "select.plot('time_since_begin','L_rh',ax = ax)\n",
    "select.plot('time_since_begin','L_BAS',ax = ax)\n",
    "select.plot('time_since_begin','tot_length_study',ax = ax)\n",
    "ax.plot(select['time_since_begin'],select['L_rh']+select['L_BAS'])"
   ]
  },
  {
   "cell_type": "code",
   "execution_count": 5,
   "metadata": {},
   "outputs": [
    {
     "data": {
      "application/vnd.jupyter.widget-view+json": {
       "model_id": "913f2b34f7ba49bcb01c13e844e334cf",
       "version_major": 2,
       "version_minor": 0
      },
      "text/plain": [
       "Canvas(toolbar=Toolbar(toolitems=[('Home', 'Reset original view', 'home', 'home'), ('Back', 'Back to previous …"
      ]
     },
     "metadata": {},
     "output_type": "display_data"
    },
    {
     "data": {
      "text/plain": [
       "[<matplotlib.lines.Line2D at 0x22f8f314408>]"
      ]
     },
     "execution_count": 5,
     "metadata": {},
     "output_type": "execute_result"
    }
   ],
   "source": [
    "fig, ax = plt.subplots()\n",
    "# ax.plot(select['time_since_begin'],(select['L_rh']+select['L_BAS'])/select['tot_length_study'])\n",
    "ax.plot(select['time_since_begin'],(select['L_BAS'])/select['tot_length_study'])"
   ]
  },
  {
   "cell_type": "code",
   "execution_count": 20,
   "metadata": {},
   "outputs": [
    {
     "data": {
      "application/vnd.jupyter.widget-view+json": {
       "model_id": "c59cfac51668419db50377d524208e7c",
       "version_major": 2,
       "version_minor": 0
      },
      "text/plain": [
       "Canvas(toolbar=Toolbar(toolitems=[('Home', 'Reset original view', 'home', 'home'), ('Back', 'Back to previous …"
      ]
     },
     "metadata": {},
     "output_type": "display_data"
    },
    {
     "data": {
      "text/plain": [
       "<matplotlib.legend.Legend at 0x22fa82822c8>"
      ]
     },
     "execution_count": 20,
     "metadata": {},
     "output_type": "execute_result"
    }
   ],
   "source": [
    "fig, ax = plt.subplots()\n",
    "plates = [76,94,102,152,792,799,800,808,80]\n",
    "\n",
    "for plate in plates:\n",
    "    select = time_plate_info.loc[(time_plate_info['Plate']==plate)&(time_plate_info['tot_length_study']>1000)&(time_plate_info['L_BAS']>0)]\n",
    "    ax.plot(select['time_since_begin'],(select['L_BAS'])/(select['tot_length_study']),label = plate,alpha = 0.8)\n",
    "ax.set_ylim((0,0.6))\n",
    "ax.set_xlabel('time since begin (h)')\n",
    "ax.set_ylabel('BAS length to total length ratio')\n",
    "\n",
    "plt.legend()"
   ]
  },
  {
   "cell_type": "code",
   "execution_count": 33,
   "metadata": {},
   "outputs": [
    {
     "data": {
      "application/vnd.jupyter.widget-view+json": {
       "model_id": "549ea0179f414c8ab6863d97ff63e435",
       "version_major": 2,
       "version_minor": 0
      },
      "text/plain": [
       "Canvas(toolbar=Toolbar(toolitems=[('Home', 'Reset original view', 'home', 'home'), ('Back', 'Back to previous …"
      ]
     },
     "metadata": {},
     "output_type": "display_data"
    },
    {
     "data": {
      "text/plain": [
       "Text(0, 0.5, 'BAS length to total length ratio')"
      ]
     },
     "execution_count": 33,
     "metadata": {},
     "output_type": "execute_result"
    }
   ],
   "source": [
    "plates = [94,80,10,76,102,26,152,792]\n",
    "plates = [94,76,102,152,792]\n",
    "t0s = {94 : 22,102 : 32,152:27,792 : 44,76:13}\n",
    "t1s = {94 : 46,102 : 60,152:51,792 : 61,76:28}\n",
    "fig, ax = plt.subplots()\n",
    "ax2 = ax.twinx()\n",
    "# ax.plot(select['time_since_begin'],(select['L_rh']+select['L_BAS'])/select['tot_length_study'])\n",
    "for plate in plates:\n",
    "    select = time_plate_info.loc[(time_plate_info['Plate']==plate)&(time_plate_info['out_study']==0)]\n",
    "    to_plot = time_plate_info.loc[(time_plate_info['Plate']==plate)].copy()\n",
    "    to_plot = to_plot.loc[to_plot['out_study']==0]\n",
    "    to_plot['log_length_study'] = np.log2(to_plot['tot_length_study'].astype(float))\n",
    "\n",
    "    to_plot['local_growth_rate'] = np.gradient(to_plot['log_length_study'],to_plot['time_since_begin'])*24\n",
    "    to_plot = to_plot.set_index('t')\n",
    "    table_hypha = global_hypha_info.loc[global_hypha_info['Plate']==plate]\n",
    "\n",
    "    series = table_hypha.loc[table_hypha['timestep_anastomosis'].isnull()==False].groupby('timestep_anastomosis')['timestep_anastomosis'].count()\n",
    "    to_plot['num_anastomosis'] = series\n",
    "    to_plot['num_anastomosis'] = to_plot['num_anastomosis'].fillna(0)\n",
    "    to_plot['cum_num_anastomosis'] = np.cumsum(to_plot['num_anastomosis'])\n",
    "\n",
    "#     ax2.scatter(select['time_since_begin']-t1s[plate],(select['L_BAS'])/(select['tot_length_study']+1),label = plate)\n",
    "    ax2.scatter(to_plot['time_since_begin']-t1s[plate],(to_plot['L_BAS'])/(to_plot['tot_length_study']),label = plate)\n",
    "\n",
    "    y = 'tot_length_study'\n",
    "    f = interp1d(to_plot['time_since_begin'], to_plot[y])\n",
    "    deb = np.min(to_plot['time_since_begin'])\n",
    "    end = np.max(to_plot['time_since_begin'])\n",
    "    frequ = 1\n",
    "    av_lapse = 311\n",
    "    x = np.linspace(deb,end,1000)\n",
    "    resampled = pd.DataFrame({'time':x,'total_length_m':f(x)})\n",
    "    resampled['total_length_m_smooth']= savgol_filter(resampled['total_length_m'], av_lapse, 3)\n",
    "    resampled['log_total_length_m_smooth']=np.log2(resampled['total_length_m_smooth'])\n",
    "    resampled['local_growth_rate'] = resampled['log_total_length_m_smooth'].diff(10)/resampled['time'].diff(10)*24\n",
    "    y = 'tot_length_study'\n",
    "    f = interp1d(to_plot['time_since_begin'], (to_plot['L_BAS'])/(to_plot['tot_length_study']))\n",
    "    av_lapse = 311\n",
    "\n",
    "    resampled2 = pd.DataFrame({'time':x,'bas_ratio':f(x)})\n",
    "    resampled2['bas_ratio_smooth']= savgol_filter(resampled2['bas_ratio'], av_lapse, 2)\n",
    "    ax.plot(resampled['time']-t1s[plate],resampled['local_growth_rate'])\n",
    "    ax2.plot(resampled['time']-t1s[plate],resampled2['bas_ratio_smooth'],linestyle='dotted')\n",
    "\n",
    "\n",
    "    ax.set_ylim((0,4))\n",
    "plt.legend()\n",
    "ax.set_xlabel('time (h)')\n",
    "ax.set_ylabel('relative growth rate $(.day-1)$')\n",
    "ax2.set_ylabel('BAS length to total length ratio')\n",
    "# ax2.set_ylabel('total number of anastomosis / unit length (.um-1)')"
   ]
  },
  {
   "cell_type": "code",
   "execution_count": 6,
   "metadata": {},
   "outputs": [
    {
     "data": {
      "application/vnd.jupyter.widget-view+json": {
       "model_id": "d2e218c272a248d2b0e941e07ef240c7",
       "version_major": 2,
       "version_minor": 0
      },
      "text/plain": [
       "Canvas(toolbar=Toolbar(toolitems=[('Home', 'Reset original view', 'home', 'home'), ('Back', 'Back to previous …"
      ]
     },
     "metadata": {},
     "output_type": "display_data"
    },
    {
     "data": {
      "text/plain": [
       "Text(0, 0.5, 'total number of anastomosis / unit length (.um-1)')"
      ]
     },
     "execution_count": 6,
     "metadata": {},
     "output_type": "execute_result"
    }
   ],
   "source": [
    "plates = [94,80,10,76,102,26,152,792]\n",
    "plates = [94,76,102,152,792]\n",
    "t0s = {94 : 22,102 : 32,152:27,792 : 44,76:13}\n",
    "t1s = {94 : 46,102 : 60,152:51,792 : 61,76:28}\n",
    "fig, ax = plt.subplots()\n",
    "ax2 = ax.twinx()\n",
    "# ax.plot(select['time_since_begin'],(select['L_rh']+select['L_BAS'])/select['tot_length_study'])\n",
    "for plate in plates:\n",
    "    select = time_plate_info.loc[(time_plate_info['Plate']==plate)&(time_plate_info['out_study']==0)]\n",
    "    to_plot = time_plate_info.loc[(time_plate_info['Plate']==plate)].copy()\n",
    "    to_plot = to_plot.loc[to_plot['out_study']==0]\n",
    "    to_plot['log_length_study'] = np.log2(to_plot['tot_length_study'].astype(float))\n",
    "\n",
    "    to_plot['local_growth_rate'] = np.gradient(to_plot['log_length_study'],to_plot['time_since_begin'])*24\n",
    "    to_plot = to_plot.set_index('t')\n",
    "    table_hypha = global_hypha_info.loc[global_hypha_info['Plate']==plate]\n",
    "\n",
    "    series = table_hypha.loc[table_hypha['timestep_anastomosis'].isnull()==False].groupby('timestep_anastomosis')['timestep_anastomosis'].count()\n",
    "    to_plot['num_anastomosis'] = series\n",
    "    to_plot['num_anastomosis'] = to_plot['num_anastomosis'].fillna(0)\n",
    "    to_plot['cum_num_anastomosis'] = np.cumsum(to_plot['num_anastomosis'])\n",
    "\n",
    "#     ax2.scatter(select['time_since_begin']-t1s[plate],(select['L_BAS'])/(select['tot_length_study']+1),label = plate)\n",
    "    ax2.scatter(to_plot['time_since_begin']-t1s[plate],(to_plot['cum_num_anastomosis'])/(to_plot['tot_length_study']),label = plate)\n",
    "\n",
    "    y = 'tot_length_study'\n",
    "    f = interp1d(to_plot['time_since_begin'], to_plot[y])\n",
    "    deb = np.min(to_plot['time_since_begin'])\n",
    "    end = np.max(to_plot['time_since_begin'])\n",
    "    frequ = 1\n",
    "    av_lapse = 311\n",
    "    x = np.linspace(deb,end,1000)\n",
    "    resampled = pd.DataFrame({'time':x,'total_length_m':f(x)})\n",
    "    resampled['total_length_m_smooth']= savgol_filter(resampled['total_length_m'], av_lapse, 3)\n",
    "    resampled['log_total_length_m_smooth']=np.log2(resampled['total_length_m_smooth'])\n",
    "    resampled['local_growth_rate'] = resampled['log_total_length_m_smooth'].diff(10)/resampled['time'].diff(10)*24\n",
    "\n",
    "    ax.plot(resampled['time']-t1s[plate],resampled['local_growth_rate'])\n",
    "\n",
    "    ax.set_ylim((0,4))\n",
    "plt.legend()\n",
    "ax.set_xlabel('time (h)')\n",
    "ax.set_ylabel('relative growth rate $(.day-1)$')\n",
    "# ax2.set_ylabel('length ratio BAS/total')\n",
    "ax2.set_ylabel('total number of anastomosis / unit length (.um-1)')"
   ]
  },
  {
   "cell_type": "code",
   "execution_count": 19,
   "metadata": {},
   "outputs": [
    {
     "data": {
      "application/vnd.jupyter.widget-view+json": {
       "model_id": "5f019e70527e468e86117e60feb51d8c",
       "version_major": 2,
       "version_minor": 0
      },
      "text/plain": [
       "Canvas(toolbar=Toolbar(toolitems=[('Home', 'Reset original view', 'home', 'home'), ('Back', 'Back to previous …"
      ]
     },
     "metadata": {},
     "output_type": "display_data"
    },
    {
     "data": {
      "text/plain": [
       "(0.0, 2.0)"
      ]
     },
     "execution_count": 19,
     "metadata": {},
     "output_type": "execute_result"
    }
   ],
   "source": [
    "to_plot = time_plate_info.loc[(time_plate_info['Plate']==plate)].copy()\n",
    "to_plot = to_plot.loc[to_plot['out_study']==0]\n",
    "to_plot['log_length_study'] = np.log2(to_plot['tot_length_study'].astype(float))\n",
    "\n",
    "to_plot['local_growth_rate'] = np.gradient(to_plot['log_length_study'],to_plot['time_since_begin'])*24\n",
    "\n",
    "y = 'tot_length_study'\n",
    "f = interp1d(to_plot['time_since_begin'], to_plot[y])\n",
    "deb = np.min(to_plot['time_since_begin'])\n",
    "end = np.max(to_plot['time_since_begin'])\n",
    "frequ = 1\n",
    "av_lapse = 311\n",
    "x = np.linspace(deb,end,1000)\n",
    "resampled = pd.DataFrame({'time':x,'total_length_m':f(x)})\n",
    "reg = LinearRegression().fit(x.reshape((-1, 1)), f(x))\n",
    "resampled['total_length_m_smooth']= savgol_filter(resampled['total_length_m'], av_lapse, 3)\n",
    "resampled['log_total_length_m_smooth']=np.log2(resampled['total_length_m_smooth'])\n",
    "resampled['local_growth_rate'] = resampled['log_total_length_m_smooth'].diff(10)/resampled['time'].diff(10)*24\n",
    "\n",
    "fig, ax = plt.subplots()\n",
    "ax.plot(resampled['time'],resampled['local_growth_rate'])\n",
    "ax.plot(to_plot['time_since_begin'],to_plot['local_growth_rate'])\n",
    "\n",
    "ax.set_ylim((0,2))"
   ]
  },
  {
   "cell_type": "code",
   "execution_count": 29,
   "metadata": {},
   "outputs": [
    {
     "data": {
      "application/vnd.jupyter.widget-view+json": {
       "model_id": "d6259c0898904dc6b8403496d183ee57",
       "version_major": 2,
       "version_minor": 0
      },
      "text/plain": [
       "Canvas(toolbar=Toolbar(toolitems=[('Home', 'Reset original view', 'home', 'home'), ('Back', 'Back to previous …"
      ]
     },
     "metadata": {},
     "output_type": "display_data"
    },
    {
     "data": {
      "text/plain": [
       "[<matplotlib.lines.Line2D at 0x1caf8f05a08>]"
      ]
     },
     "execution_count": 29,
     "metadata": {},
     "output_type": "execute_result"
    }
   ],
   "source": [
    "table_hypha = global_hypha_info.loc[global_hypha_info['Plate']==94]\n",
    "series = table_hypha.loc[table_hypha['timestep_anastomosis'].isnull()==False].groupby('timestep_anastomosis')['av_width_final'].count()\n",
    "fig, ax = plt.subplots()\n",
    "ax.plot(series[:-2])"
   ]
  },
  {
   "cell_type": "code",
   "execution_count": 32,
   "metadata": {},
   "outputs": [],
   "source": [
    "series = table_hypha.loc[table_hypha['timestep_anastomosis'].isnull()==False].groupby('timestep_anastomosis')['timestep_anastomosis'].count()\n"
   ]
  },
  {
   "cell_type": "code",
   "execution_count": 33,
   "metadata": {},
   "outputs": [
    {
     "data": {
      "text/plain": [
       "timestep_anastomosis\n",
       "0      5\n",
       "1      2\n",
       "3      2\n",
       "4      2\n",
       "8      1\n",
       "      ..\n",
       "94    18\n",
       "95    14\n",
       "96    18\n",
       "97    16\n",
       "98    22\n",
       "Name: timestep_anastomosis, Length: 91, dtype: int64"
      ]
     },
     "execution_count": 33,
     "metadata": {},
     "output_type": "execute_result"
    }
   ],
   "source": [
    "series"
   ]
  }
 ],
 "metadata": {
  "kernelspec": {
   "display_name": "Python 3",
   "language": "python",
   "name": "python3"
  },
  "language_info": {
   "codemirror_mode": {
    "name": "ipython",
    "version": 3
   },
   "file_extension": ".py",
   "mimetype": "text/x-python",
   "name": "python",
   "nbconvert_exporter": "python",
   "pygments_lexer": "ipython3",
   "version": "3.7.9"
  }
 },
 "nbformat": 4,
 "nbformat_minor": 4
}
