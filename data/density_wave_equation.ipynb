{
 "cells": [
  {
   "cell_type": "code",
   "execution_count": 1,
   "metadata": {},
   "outputs": [
    {
     "data": {
      "application/vnd.jupyter.widget-view+json": {
       "model_id": "eff8bc98d2884be695db7d7c9a4ee9a0",
       "version_major": 2,
       "version_minor": 0
      },
      "text/plain": [
       "Canvas(toolbar=Toolbar(toolitems=[('Home', 'Reset original view', 'home', 'home'), ('Back', 'Back to previous …"
      ]
     },
     "metadata": {},
     "output_type": "display_data"
    },
    {
     "data": {
      "text/plain": [
       "Text(0, 0.5, 'y(t)')"
      ]
     },
     "execution_count": 1,
     "metadata": {},
     "output_type": "execute_result"
    }
   ],
   "source": [
    "import numpy as np\n",
    "from scipy.integrate import odeint\n",
    "import matplotlib.pyplot as plt\n",
    "%matplotlib widget\n",
    "\n",
    "# function that returns dy/dt\n",
    "def model(y,t):\n",
    "    c = 2\n",
    "    dydt = [(1/(1-c))*y[0]*(1-y[1]),-1/c * y[0]]\n",
    "    return dydt\n",
    "fig, ax = plt.subplots()\n",
    "\n",
    "# initial condition\n",
    "y0 = [0.5,0.5]\n",
    "\n",
    "# time points\n",
    "t = np.linspace(0,20)\n",
    "\n",
    "# solve ODE\n",
    "y = odeint(model,y0,t)\n",
    "\n",
    "# plot results\n",
    "ax.plot(t,y[:,0])\n",
    "t = np.linspace(0,-20)\n",
    "\n",
    "# solve ODE\n",
    "y = odeint(model,y0,t)\n",
    "\n",
    "# plot results\n",
    "ax.plot(t,y[:,1])\n",
    "ax.set_xlabel('time')\n",
    "ax.set_ylabel('y(t)')"
   ]
  },
  {
   "cell_type": "code",
   "execution_count": 2,
   "metadata": {},
   "outputs": [
    {
     "data": {
      "application/vnd.jupyter.widget-view+json": {
       "model_id": "a39c4e7a94e245669bf2b15df8e05842",
       "version_major": 2,
       "version_minor": 0
      },
      "text/plain": [
       "Canvas(toolbar=Toolbar(toolitems=[('Home', 'Reset original view', 'home', 'home'), ('Back', 'Back to previous …"
      ]
     },
     "metadata": {},
     "output_type": "display_data"
    },
    {
     "data": {
      "text/plain": [
       "<matplotlib.legend.Legend at 0x1c0fac21608>"
      ]
     },
     "execution_count": 2,
     "metadata": {},
     "output_type": "execute_result"
    }
   ],
   "source": [
    "fig, ax = plt.subplots()\n",
    "ind = 1\n",
    "for c in np.linspace(1.1,2,10):\n",
    "    def model(y,t):\n",
    "        dydt = [(1/(1-c))*y[0]*(1-y[1]),-1/c * y[0]]\n",
    "        return dydt\n",
    "\n",
    "    # initial condition\n",
    "    y0 = [0.0001,0.0001]\n",
    "\n",
    "    # time points\n",
    "    ta = np.linspace(0,20,1000)\n",
    "\n",
    "    # solve ODE\n",
    "    ya = odeint(model,y0,ta)\n",
    "\n",
    "    # plot results\n",
    "    tb = np.linspace(0,-20,1000)\n",
    "\n",
    "    # solve ODE\n",
    "    yb = odeint(model,y0,tb)\n",
    "\n",
    "    # plot results\n",
    "    ax.plot(np.concatenate((np.flip(tb),ta)),np.concatenate((np.flip(yb[:,ind]),ya[:,ind])),label=f'c = {int(c*10)/10}')\n",
    "    ax.set_xlabel('z')\n",
    "    ax.set_ylabel('P(z)')\n",
    "plt.legend()"
   ]
  },
  {
   "cell_type": "code",
   "execution_count": 3,
   "metadata": {},
   "outputs": [
    {
     "data": {
      "application/vnd.jupyter.widget-view+json": {
       "model_id": "2120c88a9fb6443098b29a641c9d41da",
       "version_major": 2,
       "version_minor": 0
      },
      "text/plain": [
       "Canvas(toolbar=Toolbar(toolitems=[('Home', 'Reset original view', 'home', 'home'), ('Back', 'Back to previous …"
      ]
     },
     "metadata": {},
     "output_type": "display_data"
    },
    {
     "data": {
      "text/plain": [
       "Text(0, 0.5, 'N(z)')"
      ]
     },
     "execution_count": 3,
     "metadata": {},
     "output_type": "execute_result"
    }
   ],
   "source": [
    "fig, ax = plt.subplots()\n",
    "ax2=ax.twinx()\n",
    "c =2.5\n",
    "def model(y,t):\n",
    "    dydt = [(1/(1-c))*y[0]*(1-y[1]),-1/c * y[0]]\n",
    "    return dydt\n",
    "# initial condition\n",
    "y0 = [0.0001,0.0001]\n",
    "\n",
    "# time points\n",
    "ta = np.linspace(0,20,1000)\n",
    "\n",
    "# solve ODE\n",
    "ya = odeint(model,y0,ta)\n",
    "\n",
    "# plot results\n",
    "tb = np.linspace(0,-30,1000)\n",
    "\n",
    "# solve ODE\n",
    "yb = odeint(model,y0,tb)\n",
    "\n",
    "ind = 0\n",
    "# plot results\n",
    "ax2.plot(np.concatenate((np.flip(tb),ta)),np.concatenate((np.flip(yb[:,ind]),ya[:,ind])),label=f'c = {int(c*10)/10}',color = 'red')\n",
    "ind = 1\n",
    "ax.plot(np.concatenate((np.flip(tb),ta)),np.concatenate((np.flip(yb[:,ind]),ya[:,ind])),label=f'c = {int(c*10)/10}')\n",
    "\n",
    "ax.set_xlabel('z')\n",
    "ax.set_ylabel('P(z)')\n",
    "ax2.set_ylabel('N(z)')"
   ]
  },
  {
   "cell_type": "code",
   "execution_count": 4,
   "metadata": {},
   "outputs": [
    {
     "data": {
      "application/vnd.jupyter.widget-view+json": {
       "model_id": "74fc0d19c01841ab852159b20af3f10e",
       "version_major": 2,
       "version_minor": 0
      },
      "text/plain": [
       "Canvas(toolbar=Toolbar(toolitems=[('Home', 'Reset original view', 'home', 'home'), ('Back', 'Back to previous …"
      ]
     },
     "metadata": {},
     "output_type": "display_data"
    },
    {
     "data": {
      "text/plain": [
       "(-100.0, 100.0)"
      ]
     },
     "execution_count": 4,
     "metadata": {},
     "output_type": "execute_result"
    }
   ],
   "source": [
    "fig, ax = plt.subplots()\n",
    "ax2=ax.twinx()\n",
    "c =2.5\n",
    "def model(y,t):\n",
    "    dydt = [(1/(1-c))*y[0]*(1-y[1]),-1/c * y[0]]\n",
    "    return dydt\n",
    "# initial condition\n",
    "y0 = [0.0001,0.0001]\n",
    "\n",
    "# time points\n",
    "ta = np.linspace(0,150,1000)\n",
    "\n",
    "# solve ODE\n",
    "ya = odeint(model,y0,ta)\n",
    "\n",
    "# plot results\n",
    "tb = np.linspace(0,-30,1000)\n",
    "\n",
    "# solve ODE\n",
    "yb = odeint(model,y0,tb)\n",
    "\n",
    "\n",
    "# plot results\n",
    "shifts = [-60,-30,0,30,60]\n",
    "alphas = [0.9,0.8,0.7,0.6,0.5]\n",
    "for index,shift in enumerate(shifts):\n",
    "    ind = 0\n",
    "    ax2.plot(np.concatenate((np.flip(tb),ta))-60+shift,np.flip(np.concatenate((np.flip(yb[:,ind]),ya[:,ind]))),label=f'c = {int(c*10)/10}',color = 'red',alpha = alphas[index])\n",
    "    ind = 1\n",
    "    ax.plot(np.concatenate((np.flip(tb),ta))-60+shift,np.flip(np.concatenate((np.flip(yb[:,ind]),ya[:,ind]))),label=f'c = {int(c*10)/10}',color=\"blue\",alpha = alphas[index])\n",
    "\n",
    "ax.set_xlabel('z')\n",
    "ax.set_ylabel('P(z)')\n",
    "ax2.set_ylabel('N(z)')\n",
    "ax.set_xlabel('time (arbitrary units)')\n",
    "ax.set_ylabel(r'$\\rho$ (arbitrary units)',color='blue')\n",
    "ax2.set_ylabel('$n$ (arbitrary units)',color='red')\n",
    "ax.tick_params(axis='y', colors='blue')\n",
    "ax2.tick_params(axis='y', colors='red')\n",
    "\n",
    "ax.set_xlim((-100,100))"
   ]
  },
  {
   "cell_type": "code",
   "execution_count": 5,
   "metadata": {},
   "outputs": [
    {
     "data": {
      "application/vnd.jupyter.widget-view+json": {
       "model_id": "f263e805cf8d4a048885cd03bcae7810",
       "version_major": 2,
       "version_minor": 0
      },
      "text/plain": [
       "Canvas(toolbar=Toolbar(toolitems=[('Home', 'Reset original view', 'home', 'home'), ('Back', 'Back to previous …"
      ]
     },
     "metadata": {},
     "output_type": "display_data"
    },
    {
     "ename": "NameError",
     "evalue": "name 'integral' is not defined",
     "output_type": "error",
     "traceback": [
      "\u001b[1;31m---------------------------------------------------------------------------\u001b[0m",
      "\u001b[1;31mNameError\u001b[0m                                 Traceback (most recent call last)",
      "\u001b[1;32m<ipython-input-5-d0c9f6254308>\u001b[0m in \u001b[0;36m<module>\u001b[1;34m\u001b[0m\n\u001b[0;32m      1\u001b[0m \u001b[0mfig\u001b[0m\u001b[1;33m,\u001b[0m \u001b[0max\u001b[0m \u001b[1;33m=\u001b[0m \u001b[0mplt\u001b[0m\u001b[1;33m.\u001b[0m\u001b[0msubplots\u001b[0m\u001b[1;33m(\u001b[0m\u001b[1;33m)\u001b[0m\u001b[1;33m\u001b[0m\u001b[1;33m\u001b[0m\u001b[0m\n\u001b[1;32m----> 2\u001b[1;33m \u001b[0max\u001b[0m\u001b[1;33m.\u001b[0m\u001b[0mplot\u001b[0m\u001b[1;33m(\u001b[0m\u001b[1;36m30\u001b[0m\u001b[1;33m+\u001b[0m\u001b[0mnp\u001b[0m\u001b[1;33m.\u001b[0m\u001b[0mflip\u001b[0m\u001b[1;33m(\u001b[0m\u001b[0mtb\u001b[0m\u001b[1;33m)\u001b[0m\u001b[1;33m,\u001b[0m\u001b[0mintegral\u001b[0m\u001b[1;33m)\u001b[0m\u001b[1;33m\u001b[0m\u001b[1;33m\u001b[0m\u001b[0m\n\u001b[0m\u001b[0;32m      3\u001b[0m \u001b[0max\u001b[0m\u001b[1;33m.\u001b[0m\u001b[0mset_xlabel\u001b[0m\u001b[1;33m(\u001b[0m\u001b[1;34m'z'\u001b[0m\u001b[1;33m)\u001b[0m\u001b[1;33m\u001b[0m\u001b[1;33m\u001b[0m\u001b[0m\n\u001b[0;32m      4\u001b[0m \u001b[0max\u001b[0m\u001b[1;33m.\u001b[0m\u001b[0mset_ylabel\u001b[0m\u001b[1;33m(\u001b[0m\u001b[1;34m'$\\int_0^{-z}P(z)$'\u001b[0m\u001b[1;33m,\u001b[0m\u001b[0msize\u001b[0m \u001b[1;33m=\u001b[0m \u001b[1;36m20\u001b[0m\u001b[1;33m)\u001b[0m\u001b[1;33m\u001b[0m\u001b[1;33m\u001b[0m\u001b[0m\n",
      "\u001b[1;31mNameError\u001b[0m: name 'integral' is not defined"
     ]
    }
   ],
   "source": [
    "fig, ax = plt.subplots()\n",
    "ax.plot(30+np.flip(tb),integral)\n",
    "ax.set_xlabel('z')\n",
    "ax.set_ylabel('$\\int_0^{-z}P(z)$',size = 20)"
   ]
  },
  {
   "cell_type": "code",
   "execution_count": 17,
   "metadata": {},
   "outputs": [
    {
     "data": {
      "text/plain": [
       "1000"
      ]
     },
     "execution_count": 17,
     "metadata": {},
     "output_type": "execute_result"
    }
   ],
   "source": [
    "len(x)"
   ]
  },
  {
   "cell_type": "code",
   "execution_count": 12,
   "metadata": {},
   "outputs": [
    {
     "data": {
      "application/vnd.jupyter.widget-view+json": {
       "model_id": "d0f0ccefa2074a69af4178dc839f301a",
       "version_major": 2,
       "version_minor": 0
      },
      "text/plain": [
       "Canvas(toolbar=Toolbar(toolitems=[('Home', 'Reset original view', 'home', 'home'), ('Back', 'Back to previous …"
      ]
     },
     "metadata": {},
     "output_type": "display_data"
    },
    {
     "name": "stderr",
     "output_type": "stream",
     "text": [
      "C:\\Users\\coren\\anaconda3\\envs\\cleanMsc\\lib\\site-packages\\ipykernel_launcher.py:18: RuntimeWarning: divide by zero encountered in log\n"
     ]
    }
   ],
   "source": [
    "fig, ax = plt.subplots()\n",
    "ax2=ax.twinx()\n",
    "ax2.set_ylabel(\"Total network length (m)\",color='red')\n",
    "ax2.tick_params(axis='y', colors='red')\n",
    "\n",
    "ax2 = ax2.twiny()\n",
    "x = (30+np.flip(tb))/c\n",
    "x *=7\n",
    "integral = np.array([np.sum(yb[:i,1]) for i in range(1000)])\n",
    "integral = integral\n",
    "ax.plot(x,integral,label=\"travelling wave model\")\n",
    "ax.set_xlabel('t')\n",
    "ax.set_ylabel('$\\int_0^{-z}P(z)$',size = 20)\n",
    "ax.set_yscale('log')\n",
    "ax2.set_yscale('log')\n",
    "\n",
    "ax.set_ylim((0.001,1000))\n",
    "log_int = np.log(integral)\n",
    "rate = np.gradient(log_int,x)\n",
    "ax2.set_xlim((2,65))\n",
    "ax.set_xlim((0,60))\n",
    "ax.plot(x,np.exp((x-25)/4.2),label=\"exponential model\",linestyle=\"dashed\")\n",
    "# ax2.plot(x,rate)\n",
    "# ax2.set_ylim((0,4))\n",
    "# ax2.set_ylabel('relative growth rate',size = 20)\n",
    "data = total.groupby('time')['total_length_m'].mean()\n",
    "ax2.plot(data,color=\"red\",linewidth=5,label=\"data\")\n",
    "ax2.set_ylabel(\"Total network length (m)\",color='red')\n",
    "ax2.set_xlabel(\"Time (h)\",color='red')\n",
    "ax.set_ylabel(\"Length (arbitrary units)\",color='blue')\n",
    "ax.set_xlabel(\"Time (arbitrary units)\",color='blue')\n",
    "ax.tick_params(axis='y', colors='blue')\n",
    "ax.tick_params(axis='x', colors='blue')\n",
    "ax2.tick_params(axis='x', colors='red')\n",
    "ax.legend()\n",
    "ax2.legend(loc='lower right')\n",
    "plt.tight_layout()\n"
   ]
  },
  {
   "cell_type": "code",
   "execution_count": 7,
   "metadata": {},
   "outputs": [],
   "source": [
    "import pandas as pd\n",
    "import matplotlib.pyplot as plt\n",
    "\n",
    "%matplotlib widget\n",
    "plt.close('all')\n",
    "import numpy as np\n",
    "import os\n",
    "import scipy as sp\n",
    "import scipy.fftpack\n",
    "from scipy.interpolate import interp1d\n",
    "from sklearn.linear_model import LinearRegression\n",
    "from scipy.signal import savgol_filter\n",
    "def autocorr(x):\n",
    "    result = np.correlate(x, x, mode='full')\n",
    "    return result[result.size // 2:]\n",
    "from sklearn.preprocessing import StandardScaler\n",
    "path_save = r\"C:\\Users\\coren\\AMOLF-SHIMIZU Dropbox\\Corentin Bisot\\Applications\\princesync\\data_tables\\time_plate_infos.pick\"\n",
    "time_plate_info = pd.read_pickle(path_save)\n",
    "path_save = r\"C:\\Users\\coren\\AMOLF-SHIMIZU Dropbox\\Corentin Bisot\\Applications\\princesync\\data_tables\\global_hypha_infos.pick\"\n",
    "global_hypha_info = pd.read_pickle(path_save)\n",
    "path_save = r\"C:\\Users\\coren\\AMOLF-SHIMIZU Dropbox\\Corentin Bisot\\Applications\\princesync\\data_tables\\time_hypha_infos.pick\"\n",
    "time_hypha_info = pd.read_pickle(path_save)\n",
    "path_save = r\"C:\\Users\\coren\\AMOLF-SHIMIZU Dropbox\\Corentin Bisot\\Applications\\princesync\\data_tables\\global_plate_infos.pick\"\n",
    "global_plate_info = pd.read_pickle(path_save)\n",
    "plates = time_plate_info['Plate'].unique()\n",
    "plates = [94,102,152,792,76]\n",
    "ind_plate_table= {}\n",
    "for plate in plates:\n",
    "    ind_plate_table[plate]=time_plate_info.loc[time_plate_info['Plate']==plate].copy()\n",
    "time_hypha_table = {}\n",
    "for plate in plates: \n",
    "    select_time_plate = ind_plate_table[plate]\n",
    "    last_time = np.max(select_time_plate.loc[select_time_plate['out_study']==0]['time_since_begin'])\n",
    "    select_time = time_hypha_info.loc[time_hypha_info['Plate']==plate].copy()\n",
    "    select_time = select_time.loc[select_time['has_reached_final_pos']=='False']\n",
    "    select_time = select_time.loc[select_time['distance_final_pos']>200]\n",
    "\n",
    "    select_time['speed'] = select_time['speed'].astype(float)\n",
    "    time_hypha_table[plate] = select_time\n",
    "roundin = 1000\n",
    "ind_hypha_table = {}\n",
    "for plate in plates:\n",
    "    table =global_hypha_info.loc[global_hypha_info['Plate']==plate].copy()\n",
    "    table = table.set_index('hypha')\n",
    "    ind_hypha_table[plate] = table\n",
    "for plate in plates:\n",
    "    table = ind_hypha_table[plate].copy()\n",
    "    table_time = time_hypha_table[plate].copy()\n",
    "    select_time = time_hypha_info.loc[time_hypha_info['Plate']==plate].copy()\n",
    "    speed_at_init = table_time.loc[table_time['time_since_emergence']==0]\n",
    "    table['max_speed'] = table_time.groupby('end')['speed'].max()\n",
    "    table['mean_speed2'] = table_time.groupby('end')['speed'].mean()\n",
    "    table['log_length'] = np.log10((table['tot_length_C']+1).astype(float))\n",
    "    table['growth_lapse'] = table_time.groupby('end')['speed'].count()\n",
    "    table['speed_at_init'] = speed_at_init.groupby('end')['speed'].max()\n",
    "    table['branch_frequ'] = table['num_branch']/(table['tot_growth_C']+1)\n",
    "for plate in plates:\n",
    "    table = ind_plate_table[plate]\n",
    "    table['total_length_m'] = table['tot_length_study']/10**6\n",
    "    table['speed'] = table['tot_length_study'].diff(5)/table['time_since_begin'].diff(5)\n",
    "    table['mean_step'] = np.mean(table['time_since_begin'].diff(1))\n",
    "    table['density'] = table['tot_length_study']/(table['area_sep_comp']+1)\n",
    "    table['ring_density'] = table['tot_length_study'].diff(10)/(table['area_sep_comp'].diff(10)+1)\n",
    "    table['log_length_study'] = np.log2(table['tot_length_study'].astype(float))\n",
    "    table['local_growth_rate'] = np.gradient(table['log_length_study'],table['time_since_begin'])*24\n",
    "    table_hypha = ind_hypha_table[plate]\n"
   ]
  },
  {
   "cell_type": "code",
   "execution_count": 9,
   "metadata": {},
   "outputs": [
    {
     "data": {
      "application/vnd.jupyter.widget-view+json": {
       "model_id": "338dcd214a754887b52d999c9e7a3d7c",
       "version_major": 2,
       "version_minor": 0
      },
      "text/plain": [
       "Canvas(toolbar=Toolbar(toolitems=[('Home', 'Reset original view', 'home', 'home'), ('Back', 'Back to previous …"
      ]
     },
     "metadata": {},
     "output_type": "display_data"
    },
    {
     "name": "stderr",
     "output_type": "stream",
     "text": [
      "No handles with labels found to put in legend.\n"
     ]
    },
    {
     "name": "stdout",
     "output_type": "stream",
     "text": [
      "55.15 94\n"
     ]
    },
    {
     "data": {
      "text/plain": [
       "Text(0.04, 0.5, 'Total network length $( m)$')"
      ]
     },
     "execution_count": 9,
     "metadata": {},
     "output_type": "execute_result"
    }
   ],
   "source": [
    "select_plates = [94]\n",
    "\n",
    "fig, ax = plt.subplots()\n",
    "ax2=ax.twinx()\n",
    "x = 'time_since_begin3'\n",
    "y = 'total_length_m'\n",
    "logy =False\n",
    "# ylim = (100,300)\n",
    "xlim = (-40,100)\n",
    "ylim = None\n",
    "kind = \"scatter\"\n",
    "# fig = plt.figure()\n",
    "# ax = plt.subplot(111)\n",
    "xlabel = 'time (h)'\n",
    "ylabel = r'Total network length $( m)$'\n",
    "num_columns = 2\n",
    "total = pd.DataFrame()\n",
    "for i,plate in enumerate(select_plates):\n",
    "    table = ind_plate_table[plate]\n",
    "    t0 = np.min(table.loc[table[\"area_sep_comp\"]>=800][\"time_since_begin\"])\n",
    "    print(t0,plate)\n",
    "#     ylim = (0,min(np.max(table['speed']),60000))\n",
    "    table['time_since_begin3'] = table['time_since_begin']-t0+40\n",
    "#     table['time_since_begin4'] = table['time_since_begin']-t1s[plate]\n",
    "    in_study = table.loc[table['out_study']==0]\n",
    "    if len(in_study)>0:\n",
    "        ax.scatter(in_study[x],in_study[y],label = plate,alpha=0.5)\n",
    "    ax.set_xlabel(None,fontsize=5)\n",
    "    ax.set_ylabel(None,fontsize=5)\n",
    "    ax.set_yscale('log')\n",
    "    y = 'total_length_m'\n",
    "    f = interp1d(in_study[x], in_study[y],bounds_error=False,fill_value=None)\n",
    "    deb = np.min(in_study[x])\n",
    "    end = np.max(in_study[x])\n",
    "    deb = 1\n",
    "    end = 90\n",
    "    frequ = 1\n",
    "    av_lapse = 311\n",
    "    x0 = np.linspace(deb,end,1000)\n",
    "    resampled = pd.DataFrame({'time':x0,'total_length_m':f(x0)})\n",
    "#     reg = LinearRegression().fit(x0.reshape((-1, 1)), f(x0))\n",
    "#     resampled['total_length_m_smooth']= savgol_filter(resampled['total_length_m'], av_lapse, 2)\n",
    "#     resampled['log_total_length_m_smooth']=np.log2(resampled['total_length_m_smooth'])\n",
    "#     resampled['local_growth_rate'] = resampled['log_total_length_m_smooth'].diff(10)/resampled['time'].diff(10)*24\n",
    "#     ax2.plot(resampled['time'],resampled['local_growth_rate'],label = plate)\n",
    "    data = resampled[['time','total_length_m']]\n",
    "    total = pd.concat((total,data))\n",
    "# plt.tick_params(labelcolor=\"none\", bottom=False, left=False)\n",
    "ax.set_xlim(xlim)  \n",
    "ax2.set_ylim((0,3))  \n",
    "ax2.set_ylabel('relative growth rate (.day-1)',size = 20)\n",
    "plt.legend()\n",
    "# ax2.vlines(0,0,3,color=\"black\")\n",
    "\n",
    "data = total.groupby('time')['total_length_m'].mean()\n",
    "ax.plot(data,color=\"red\",linewidth=5)\n",
    "fig.text(0.5, 0.004, xlabel, ha='center',fontdict = {'size' : 20} )\n",
    "fig.text(0.04, 0.5, ylabel, va='center', rotation='vertical',fontdict = {'size' : 20})"
   ]
  },
  {
   "cell_type": "code",
   "execution_count": 63,
   "metadata": {},
   "outputs": [
    {
     "data": {
      "application/vnd.jupyter.widget-view+json": {
       "model_id": "4be0278738184614a6c25652f93f0d19",
       "version_major": 2,
       "version_minor": 0
      },
      "text/plain": [
       "Canvas(toolbar=Toolbar(toolitems=[('Home', 'Reset original view', 'home', 'home'), ('Back', 'Back to previous …"
      ]
     },
     "metadata": {},
     "output_type": "display_data"
    },
    {
     "name": "stderr",
     "output_type": "stream",
     "text": [
      "C:\\Users\\coren\\anaconda3\\envs\\cleanMsc\\lib\\site-packages\\ipykernel_launcher.py:30: RuntimeWarning: divide by zero encountered in log\n",
      "C:\\Users\\coren\\anaconda3\\envs\\cleanMsc\\lib\\site-packages\\ipykernel_launcher.py:30: RuntimeWarning: divide by zero encountered in log\n",
      "C:\\Users\\coren\\anaconda3\\envs\\cleanMsc\\lib\\site-packages\\ipykernel_launcher.py:30: RuntimeWarning: divide by zero encountered in log\n",
      "C:\\Users\\coren\\anaconda3\\envs\\cleanMsc\\lib\\site-packages\\ipykernel_launcher.py:30: RuntimeWarning: divide by zero encountered in log\n",
      "C:\\Users\\coren\\anaconda3\\envs\\cleanMsc\\lib\\site-packages\\ipykernel_launcher.py:30: RuntimeWarning: divide by zero encountered in log\n"
     ]
    },
    {
     "data": {
      "text/plain": [
       "<matplotlib.legend.Legend at 0x2aa7ba58e88>"
      ]
     },
     "execution_count": 63,
     "metadata": {},
     "output_type": "execute_result"
    }
   ],
   "source": [
    "\n",
    "fig, ax = plt.subplots()\n",
    "ax2=ax.twinx()\n",
    "for c in [1.3,1.5,1.7,2,2.5]:\n",
    "    def model(y,t):\n",
    "        dydt = [(1/(1-c))*y[0]*(1-y[1]),-1/c * y[0]]\n",
    "        return dydt\n",
    "    ind = 0\n",
    "    # initial condition\n",
    "    y0 = [0.0001,0.0001]\n",
    "\n",
    "    # time points\n",
    "    ta = np.linspace(0,20,1000)\n",
    "\n",
    "    # solve ODE\n",
    "    ya = odeint(model,y0,ta)\n",
    "\n",
    "    # plot results\n",
    "    tb = np.linspace(0,-30,1000)\n",
    "\n",
    "    # solve ODE\n",
    "    yb = odeint(model,y0,tb)\n",
    "\n",
    "    x = (30+np.flip(tb))/c\n",
    "    integral = np.array([np.sum(yb[:i,1]) for i in range(1000)])\n",
    "    ax.scatter(x,integral)\n",
    "    ax.set_xlabel('t')\n",
    "    ax.set_ylabel('$\\int_0^{-z}P(z)$',size = 20)\n",
    "    ax.set_yscale('log')\n",
    "    ax.set_ylim((0.001,1000))\n",
    "    log_int = np.log(integral)\n",
    "    rate = np.gradient(log_int,x)\n",
    "    ax2.plot(x,rate,label = f'c = {c}')\n",
    "    ax2.set_ylim((0,5))\n",
    "    ax2.set_ylabel('relative growth rate',size = 20)\n",
    "plt.legend()"
   ]
  },
  {
   "cell_type": "code",
   "execution_count": null,
   "metadata": {},
   "outputs": [],
   "source": [
    "fig, ax = plt.subplots()\n",
    "ax2=ax.twinx()\n",
    "for c in [1.3,1.5,1.7,2,2.5]:\n",
    "    def model(y,t):\n",
    "        dydt = [(1/(1-c))*y[0]*(1-y[1]),-1/c * y[0]]\n",
    "        return dydt\n",
    "    ind = 0\n",
    "    # initial condition\n",
    "    y0 = [0.0001,0.0001]\n",
    "\n",
    "    # time points\n",
    "    ta = np.linspace(0,20,1000)\n",
    "\n",
    "    # solve ODE\n",
    "    ya = odeint(model,y0,ta)\n",
    "\n",
    "    # plot results\n",
    "    tb = np.linspace(0,-30,1000)\n",
    "\n",
    "    # solve ODE\n",
    "    yb = odeint(model,y0,tb)\n",
    "\n",
    "    x = (30+np.flip(tb))/c\n",
    "    integral = np.array([np.sum(yb[:i,1]) for i in range(1000)])\n",
    "    ax.scatter(x,integral)\n",
    "    ax.set_xlabel('t')\n",
    "    ax.set_ylabel('$\\int_0^{-z}P(z)$',size = 20)\n",
    "    ax.set_yscale('log')\n",
    "    ax.set_ylim((0.001,1000))\n",
    "    log_int = np.log(integral)\n",
    "    rate = np.gradient(log_int,x)\n",
    "    ax2.plot(x,rate,label = f'c = {c}')\n",
    "    ax2.set_ylim((0,5))\n",
    "    ax2.set_ylabel('relative growth rate',size = 20)\n",
    "plt.legend()"
   ]
  }
 ],
 "metadata": {
  "kernelspec": {
   "display_name": "Python 3 (ipykernel)",
   "language": "python",
   "name": "python3"
  },
  "language_info": {
   "codemirror_mode": {
    "name": "ipython",
    "version": 3
   },
   "file_extension": ".py",
   "mimetype": "text/x-python",
   "name": "python",
   "nbconvert_exporter": "python",
   "pygments_lexer": "ipython3",
   "version": "3.10.4"
  }
 },
 "nbformat": 4,
 "nbformat_minor": 4
}
