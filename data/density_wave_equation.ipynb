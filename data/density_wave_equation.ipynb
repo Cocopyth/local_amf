{
 "cells": [
  {
   "cell_type": "code",
   "execution_count": 1,
   "metadata": {},
   "outputs": [
    {
     "data": {
      "application/vnd.jupyter.widget-view+json": {
       "model_id": "3f2819a9aa2d46ada630cf25e3a05043",
       "version_major": 2,
       "version_minor": 0
      },
      "text/plain": [
       "Canvas(toolbar=Toolbar(toolitems=[('Home', 'Reset original view', 'home', 'home'), ('Back', 'Back to previous …"
      ]
     },
     "metadata": {},
     "output_type": "display_data"
    },
    {
     "data": {
      "text/plain": [
       "Text(0, 0.5, 'y(t)')"
      ]
     },
     "execution_count": 1,
     "metadata": {},
     "output_type": "execute_result"
    }
   ],
   "source": [
    "import numpy as np\n",
    "from scipy.integrate import odeint\n",
    "import matplotlib.pyplot as plt\n",
    "%matplotlib widget\n",
    "\n",
    "# function that returns dy/dt\n",
    "def model(y,t):\n",
    "    c = 2\n",
    "    dydt = [(1/(1-c))*y[0]*(1-y[1]),-1/c * y[0]]\n",
    "    return dydt\n",
    "fig, ax = plt.subplots()\n",
    "\n",
    "# initial condition\n",
    "y0 = [0.5,0.5]\n",
    "\n",
    "# time points\n",
    "t = np.linspace(0,20)\n",
    "\n",
    "# solve ODE\n",
    "y = odeint(model,y0,t)\n",
    "\n",
    "# plot results\n",
    "ax.plot(t,y[:,0])\n",
    "t = np.linspace(0,-20)\n",
    "\n",
    "# solve ODE\n",
    "y = odeint(model,y0,t)\n",
    "\n",
    "# plot results\n",
    "ax.plot(t,y[:,1])\n",
    "ax.set_xlabel('time')\n",
    "ax.set_ylabel('y(t)')"
   ]
  },
  {
   "cell_type": "code",
   "execution_count": 69,
   "metadata": {},
   "outputs": [
    {
     "data": {
      "application/vnd.jupyter.widget-view+json": {
       "model_id": "e412f652192046b9bd4bf2d11968e76a",
       "version_major": 2,
       "version_minor": 0
      },
      "text/plain": [
       "Canvas(toolbar=Toolbar(toolitems=[('Home', 'Reset original view', 'home', 'home'), ('Back', 'Back to previous …"
      ]
     },
     "metadata": {},
     "output_type": "display_data"
    },
    {
     "data": {
      "text/plain": [
       "<matplotlib.legend.Legend at 0x2aa7ea2ff88>"
      ]
     },
     "execution_count": 69,
     "metadata": {},
     "output_type": "execute_result"
    }
   ],
   "source": [
    "fig, ax = plt.subplots()\n",
    "ind = 1\n",
    "for c in np.linspace(1.1,2,10):\n",
    "    def model(y,t):\n",
    "        dydt = [(1/(1-c))*y[0]*(1-y[1]),-1/c * y[0]]\n",
    "        return dydt\n",
    "\n",
    "    # initial condition\n",
    "    y0 = [0.0001,0.0001]\n",
    "\n",
    "    # time points\n",
    "    ta = np.linspace(0,20,1000)\n",
    "\n",
    "    # solve ODE\n",
    "    ya = odeint(model,y0,ta)\n",
    "\n",
    "    # plot results\n",
    "    tb = np.linspace(0,-20,1000)\n",
    "\n",
    "    # solve ODE\n",
    "    yb = odeint(model,y0,tb)\n",
    "\n",
    "    # plot results\n",
    "    ax.plot(np.concatenate((np.flip(tb),ta)),np.concatenate((np.flip(yb[:,ind]),ya[:,ind])),label=f'c = {int(c*10)/10}')\n",
    "    ax.set_xlabel('z')\n",
    "    ax.set_ylabel('P(z)')\n",
    "plt.legend()"
   ]
  },
  {
   "cell_type": "code",
   "execution_count": 72,
   "metadata": {},
   "outputs": [
    {
     "data": {
      "application/vnd.jupyter.widget-view+json": {
       "model_id": "664aa625cb9f4d7baac7baf8d90d872b",
       "version_major": 2,
       "version_minor": 0
      },
      "text/plain": [
       "Canvas(toolbar=Toolbar(toolitems=[('Home', 'Reset original view', 'home', 'home'), ('Back', 'Back to previous …"
      ]
     },
     "metadata": {},
     "output_type": "display_data"
    },
    {
     "data": {
      "text/plain": [
       "Text(0, 0.5, 'N(z)')"
      ]
     },
     "execution_count": 72,
     "metadata": {},
     "output_type": "execute_result"
    }
   ],
   "source": [
    "fig, ax = plt.subplots()\n",
    "ax2=ax.twinx()\n",
    "c =2.5\n",
    "def model(y,t):\n",
    "    dydt = [(1/(1-c))*y[0]*(1-y[1]),-1/c * y[0]]\n",
    "    return dydt\n",
    "# initial condition\n",
    "y0 = [0.0001,0.0001]\n",
    "\n",
    "# time points\n",
    "ta = np.linspace(0,20,1000)\n",
    "\n",
    "# solve ODE\n",
    "ya = odeint(model,y0,ta)\n",
    "\n",
    "# plot results\n",
    "tb = np.linspace(0,-30,1000)\n",
    "\n",
    "# solve ODE\n",
    "yb = odeint(model,y0,tb)\n",
    "\n",
    "ind = 0\n",
    "# plot results\n",
    "ax2.plot(np.concatenate((np.flip(tb),ta)),np.concatenate((np.flip(yb[:,ind]),ya[:,ind])),label=f'c = {int(c*10)/10}',color = 'red')\n",
    "ind = 1\n",
    "ax.plot(np.concatenate((np.flip(tb),ta)),np.concatenate((np.flip(yb[:,ind]),ya[:,ind])),label=f'c = {int(c*10)/10}')\n",
    "\n",
    "ax.set_xlabel('z')\n",
    "ax.set_ylabel('P(z)')\n",
    "ax2.set_ylabel('N(z)')"
   ]
  },
  {
   "cell_type": "code",
   "execution_count": 43,
   "metadata": {},
   "outputs": [
    {
     "data": {
      "application/vnd.jupyter.widget-view+json": {
       "model_id": "f4975b964b7549bb92076d2ed45267db",
       "version_major": 2,
       "version_minor": 0
      },
      "text/plain": [
       "Canvas(toolbar=Toolbar(toolitems=[('Home', 'Reset original view', 'home', 'home'), ('Back', 'Back to previous …"
      ]
     },
     "metadata": {},
     "output_type": "display_data"
    },
    {
     "data": {
      "text/plain": [
       "Text(0, 0.5, '$\\\\int_0^{-z}P(z)$')"
      ]
     },
     "execution_count": 43,
     "metadata": {},
     "output_type": "execute_result"
    }
   ],
   "source": [
    "fig, ax = plt.subplots()\n",
    "ax.plot(30+np.flip(tb),integral)\n",
    "ax.set_xlabel('z')\n",
    "ax.set_ylabel('$\\int_0^{-z}P(z)$',size = 20)"
   ]
  },
  {
   "cell_type": "code",
   "execution_count": 50,
   "metadata": {},
   "outputs": [
    {
     "data": {
      "application/vnd.jupyter.widget-view+json": {
       "model_id": "f76785c97d64427baedb0731c1e9ded9",
       "version_major": 2,
       "version_minor": 0
      },
      "text/plain": [
       "Canvas(toolbar=Toolbar(toolitems=[('Home', 'Reset original view', 'home', 'home'), ('Back', 'Back to previous …"
      ]
     },
     "metadata": {},
     "output_type": "display_data"
    },
    {
     "name": "stderr",
     "output_type": "stream",
     "text": [
      "C:\\Users\\coren\\anaconda3\\envs\\cleanMsc\\lib\\site-packages\\ipykernel_launcher.py:10: RuntimeWarning: divide by zero encountered in log\n",
      "  # Remove the CWD from sys.path while we load stuff.\n"
     ]
    },
    {
     "data": {
      "text/plain": [
       "Text(0, 0.5, 'relative growth rate')"
      ]
     },
     "execution_count": 50,
     "metadata": {},
     "output_type": "execute_result"
    }
   ],
   "source": [
    "fig, ax = plt.subplots()\n",
    "ax2=ax.twinx()\n",
    "x = (30+np.flip(tb))/c\n",
    "integral = np.array([np.sum(yb[:i,1]) for i in range(1000)])\n",
    "ax.scatter(x,integral)\n",
    "ax.set_xlabel('t')\n",
    "ax.set_ylabel('$\\int_0^{-z}P(z)$',size = 20)\n",
    "ax.set_yscale('log')\n",
    "ax.set_ylim((0.001,1000))\n",
    "log_int = np.log(integral)\n",
    "rate = np.gradient(log_int,x)\n",
    "ax2.plot(x,rate)\n",
    "ax2.set_ylim((0,4))\n",
    "ax2.set_ylabel('relative growth rate',size = 20)\n"
   ]
  },
  {
   "cell_type": "code",
   "execution_count": 63,
   "metadata": {},
   "outputs": [
    {
     "data": {
      "application/vnd.jupyter.widget-view+json": {
       "model_id": "4be0278738184614a6c25652f93f0d19",
       "version_major": 2,
       "version_minor": 0
      },
      "text/plain": [
       "Canvas(toolbar=Toolbar(toolitems=[('Home', 'Reset original view', 'home', 'home'), ('Back', 'Back to previous …"
      ]
     },
     "metadata": {},
     "output_type": "display_data"
    },
    {
     "name": "stderr",
     "output_type": "stream",
     "text": [
      "C:\\Users\\coren\\anaconda3\\envs\\cleanMsc\\lib\\site-packages\\ipykernel_launcher.py:30: RuntimeWarning: divide by zero encountered in log\n",
      "C:\\Users\\coren\\anaconda3\\envs\\cleanMsc\\lib\\site-packages\\ipykernel_launcher.py:30: RuntimeWarning: divide by zero encountered in log\n",
      "C:\\Users\\coren\\anaconda3\\envs\\cleanMsc\\lib\\site-packages\\ipykernel_launcher.py:30: RuntimeWarning: divide by zero encountered in log\n",
      "C:\\Users\\coren\\anaconda3\\envs\\cleanMsc\\lib\\site-packages\\ipykernel_launcher.py:30: RuntimeWarning: divide by zero encountered in log\n",
      "C:\\Users\\coren\\anaconda3\\envs\\cleanMsc\\lib\\site-packages\\ipykernel_launcher.py:30: RuntimeWarning: divide by zero encountered in log\n"
     ]
    },
    {
     "data": {
      "text/plain": [
       "<matplotlib.legend.Legend at 0x2aa7ba58e88>"
      ]
     },
     "execution_count": 63,
     "metadata": {},
     "output_type": "execute_result"
    }
   ],
   "source": [
    "\n",
    "fig, ax = plt.subplots()\n",
    "ax2=ax.twinx()\n",
    "for c in [1.3,1.5,1.7,2,2.5]:\n",
    "    def model(y,t):\n",
    "        dydt = [(1/(1-c))*y[0]*(1-y[1]),-1/c * y[0]]\n",
    "        return dydt\n",
    "    ind = 0\n",
    "    # initial condition\n",
    "    y0 = [0.0001,0.0001]\n",
    "\n",
    "    # time points\n",
    "    ta = np.linspace(0,20,1000)\n",
    "\n",
    "    # solve ODE\n",
    "    ya = odeint(model,y0,ta)\n",
    "\n",
    "    # plot results\n",
    "    tb = np.linspace(0,-30,1000)\n",
    "\n",
    "    # solve ODE\n",
    "    yb = odeint(model,y0,tb)\n",
    "\n",
    "    x = (30+np.flip(tb))/c\n",
    "    integral = np.array([np.sum(yb[:i,1]) for i in range(1000)])\n",
    "    ax.scatter(x,integral)\n",
    "    ax.set_xlabel('t')\n",
    "    ax.set_ylabel('$\\int_0^{-z}P(z)$',size = 20)\n",
    "    ax.set_yscale('log')\n",
    "    ax.set_ylim((0.001,1000))\n",
    "    log_int = np.log(integral)\n",
    "    rate = np.gradient(log_int,x)\n",
    "    ax2.plot(x,rate,label = f'c = {c}')\n",
    "    ax2.set_ylim((0,5))\n",
    "    ax2.set_ylabel('relative growth rate',size = 20)\n",
    "plt.legend()"
   ]
  },
  {
   "cell_type": "code",
   "execution_count": null,
   "metadata": {},
   "outputs": [],
   "source": [
    "fig, ax = plt.subplots()\n",
    "ax2=ax.twinx()\n",
    "for c in [1.3,1.5,1.7,2,2.5]:\n",
    "    def model(y,t):\n",
    "        dydt = [(1/(1-c))*y[0]*(1-y[1]),-1/c * y[0]]\n",
    "        return dydt\n",
    "    ind = 0\n",
    "    # initial condition\n",
    "    y0 = [0.0001,0.0001]\n",
    "\n",
    "    # time points\n",
    "    ta = np.linspace(0,20,1000)\n",
    "\n",
    "    # solve ODE\n",
    "    ya = odeint(model,y0,ta)\n",
    "\n",
    "    # plot results\n",
    "    tb = np.linspace(0,-30,1000)\n",
    "\n",
    "    # solve ODE\n",
    "    yb = odeint(model,y0,tb)\n",
    "\n",
    "    x = (30+np.flip(tb))/c\n",
    "    integral = np.array([np.sum(yb[:i,1]) for i in range(1000)])\n",
    "    ax.scatter(x,integral)\n",
    "    ax.set_xlabel('t')\n",
    "    ax.set_ylabel('$\\int_0^{-z}P(z)$',size = 20)\n",
    "    ax.set_yscale('log')\n",
    "    ax.set_ylim((0.001,1000))\n",
    "    log_int = np.log(integral)\n",
    "    rate = np.gradient(log_int,x)\n",
    "    ax2.plot(x,rate,label = f'c = {c}')\n",
    "    ax2.set_ylim((0,5))\n",
    "    ax2.set_ylabel('relative growth rate',size = 20)\n",
    "plt.legend()"
   ]
  }
 ],
 "metadata": {
  "kernelspec": {
   "display_name": "Python 3",
   "language": "python",
   "name": "python3"
  },
  "language_info": {
   "codemirror_mode": {
    "name": "ipython",
    "version": 3
   },
   "file_extension": ".py",
   "mimetype": "text/x-python",
   "name": "python",
   "nbconvert_exporter": "python",
   "pygments_lexer": "ipython3",
   "version": "3.7.9"
  }
 },
 "nbformat": 4,
 "nbformat_minor": 4
}
