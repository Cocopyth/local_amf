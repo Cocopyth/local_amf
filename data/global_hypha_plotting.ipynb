{
 "cells": [
  {
   "cell_type": "code",
   "execution_count": 1,
   "metadata": {},
   "outputs": [],
   "source": [
    "import pandas as pd\n",
    "import matplotlib.pyplot as plt\n",
    "\n",
    "%matplotlib widget\n",
    "plt.close('all')\n",
    "import numpy as np\n",
    "from sklearn.preprocessing import StandardScaler\n",
    "from random import choice\n"
   ]
  },
  {
   "cell_type": "code",
   "execution_count": 2,
   "metadata": {},
   "outputs": [],
   "source": [
    "global_hypha_info = pd.read_pickle(\"global_hypha_info.pick\")\n",
    "time_plate_info = pd.read_pickle(\"time_plate_infos.pick\")\n",
    "time_hypha_info = pd.read_pickle(\"time_hypha_infos.pick\")"
   ]
  },
  {
   "cell_type": "code",
   "execution_count": 3,
   "metadata": {},
   "outputs": [],
   "source": [
    "plates = time_plate_info['Plate'].unique()\n",
    "ind_plate_table_time = {}\n",
    "for plate in plates:\n",
    "    ind_plate_table_time[plate]=time_plate_info.loc[time_plate_info['Plate']==plate].copy()"
   ]
  },
  {
   "cell_type": "code",
   "execution_count": 6,
   "metadata": {},
   "outputs": [],
   "source": [
    "plates = time_plate_info['Plate'].unique()\n",
    "ind_plate_table = {}\n",
    "for plate in plates:\n",
    "    ind_plate_table[plate]=time_plate_info.loc[time_plate_info['Plate']==plate].copy()\n",
    "    "
   ]
  },
  {
   "cell_type": "code",
   "execution_count": 8,
   "metadata": {},
   "outputs": [],
   "source": [
    "plates = global_hypha_info['Plate'].unique()\n",
    "ind_hypha_table = {}\n",
    "for plate in plates:\n",
    "    table = global_hypha_info.loc[global_hypha_info['Plate']==plate].copy()\n",
    "    table = table.set_index('hypha')\n",
    "    ind_hypha_table[plate]=table"
   ]
  },
  {
   "cell_type": "code",
   "execution_count": 9,
   "metadata": {},
   "outputs": [
    {
     "name": "stderr",
     "output_type": "stream",
     "text": [
      "C:\\Users\\coren\\anaconda3\\envs\\cleanMsc\\lib\\site-packages\\pandas\\core\\series.py:726: RuntimeWarning: divide by zero encountered in log2\n",
      "  result = getattr(ufunc, method)(*inputs, **kwargs)\n"
     ]
    }
   ],
   "source": [
    "for plate in plates:\n",
    "    table = ind_plate_table[plate]\n",
    "    table['total_length_m'] = table['tot_length_study']/10**6\n",
    "    table['speed'] = table['tot_length_study'].diff(5)/table['time_since_begin'].diff(5)\n",
    "    table['mean_step'] = np.mean(table['time_since_begin'].diff(1))\n",
    "    table['density'] = table['tot_length_study']/(table['area_sep_comp']+1)\n",
    "    table['ring_density'] = table['tot_length_study'].diff(10)/(table['area_sep_comp'].diff(10)+1)\n",
    "    table['log_length_study'] = np.log2(table['tot_length_study'].astype(float))\n",
    "    table['local_growth_rate'] = table['log_length_study'].diff(5)/table['time_since_begin'].diff(5)*24\n",
    "    table_hypha = ind_hypha_table[plate]"
   ]
  },
  {
   "cell_type": "code",
   "execution_count": 10,
   "metadata": {},
   "outputs": [],
   "source": [
    "plates = time_hypha_info['Plate'].unique()\n",
    "time_hypha_table = {}\n",
    "for plate in plates: \n",
    "    time_hypha_table[plate]=global_hypha_info.loc[global_hypha_info['Plate']==plate].copy()\n",
    "    select_time_plate = ind_plate_table[plate]\n",
    "    last_time = np.max(select_time_plate.loc[select_time_plate['out_study']==0]['time_since_begin'])\n",
    "    last_time2 = np.max(select_time_plate.loc[select_time_plate['local_growth_rate']>=0.5]['time_since_begin'])\n",
    "    select_time = time_hypha_info.loc[time_hypha_info['Plate']==plate]\n",
    "    select_time = select_time.loc[select_time['speed'].between(40,400)]\n",
    "    select_global = global_hypha_info.loc[global_hypha_info['Plate']==plate]\n",
    "    select_time = select_time.loc[select_time['has_reached_final_pos']=='False']\n",
    "    select_time = select_time.loc[select_time['distance_final_pos']>200]\n",
    "    select_time = select_time.loc[select_time['in_ROI']=='True']\n",
    "    select_time = select_time.loc[select_time['time_since_begin_exp']<=last_time2]\n",
    "    select_time['speed'] = select_time['speed'].astype(float)\n",
    "    time_hypha_table[plate] = select_time"
   ]
  },
  {
   "cell_type": "code",
   "execution_count": 11,
   "metadata": {},
   "outputs": [],
   "source": [
    "plate = 152\n",
    "table = ind_hypha_table[plate]\n",
    "table_time = time_hypha_table[plate]\n",
    "select_time = time_hypha_info.loc[time_hypha_info['Plate']==plate]\n",
    "speed_at_init = table_time.loc[table_time['time_since_emergence']==0]\n",
    "table['max_speed'] = table_time.groupby('end')['speed'].max()\n",
    "table['mean_speed2'] = table_time.groupby('end')['speed'].mean()\n",
    "table['log_length'] = np.log10((table['tot_length_C']+1).astype(float))\n",
    "table['log_growth'] = np.log10((table['tot_growth_C']+1).astype(float))\n",
    "\n",
    "table['growth_lapse'] = table_time.groupby('end')['speed'].count()\n",
    "table['speed_at_init'] = speed_at_init.groupby('end')['speed'].max()\n",
    "table = table.loc[table['max_speed'].notnull()]\n",
    "table = table.loc[table['av_width_final'].between(0,15)]\n",
    "# table = table.loc[table['num_branch']>=0]\n",
    "table = table.loc[table['tot_growth_C']>=200]\n",
    "\n",
    "# table['branch_frequ'] = table['num_branch']/(table['tot_growth_C']+1)\n",
    "# table = table.loc[table['branch_frequ'].between(0,0.003)]\n"
   ]
  },
  {
   "cell_type": "code",
   "execution_count": 13,
   "metadata": {},
   "outputs": [
    {
     "data": {
      "application/vnd.jupyter.widget-view+json": {
       "model_id": "d05bcc5bfe964a8b95a24d777e22341c",
       "version_major": 2,
       "version_minor": 0
      },
      "text/plain": [
       "Canvas(toolbar=Toolbar(toolitems=[('Home', 'Reset original view', 'home', 'home'), ('Back', 'Back to previous …"
      ]
     },
     "metadata": {},
     "output_type": "display_data"
    }
   ],
   "source": [
    "from pandas.plotting import scatter_matrix\n",
    "scatter_matrix(table[['av_width_final','log_length','mean_speed2','max_speed','log_growth']].fillna(0), alpha=0.15, figsize=(6, 6), diagonal=\"kde\",s=70);"
   ]
  },
  {
   "cell_type": "code",
   "execution_count": 27,
   "metadata": {},
   "outputs": [],
   "source": [
    "plate = 94\n",
    "table = ind_hypha_table[plate]\n",
    "table_time = time_hypha_table[plate]\n",
    "select_time = time_hypha_info.loc[time_hypha_info['Plate']==plate]\n",
    "speed_at_init = table_time.loc[table_time['time_since_emergence']==0]\n",
    "table['max_speed'] = table_time.groupby('end')['speed'].max()\n",
    "table['mean_speed2'] = table_time.groupby('end')['speed'].mean()\n",
    "table['log_length'] = np.log10((table['tot_length_C']+1).astype(float))\n",
    "table['growth_lapse'] = table_time.groupby('end')['speed'].count()\n",
    "table['speed_at_init'] = speed_at_init.groupby('end')['speed'].max()\n",
    "table = table.loc[table['max_speed'].notnull()]\n",
    "table = table.loc[table['av_width_final'].between(0,15)]\n",
    "table = table.loc[table['num_branch']>=1]\n",
    "table['branch_frequ'] = table['num_branch']/table['tot_length_C']\n",
    "table = table.loc[table['branch_frequ']<0.003]\n",
    "from sklearn.cluster import KMeans\n",
    "df = table[['av_width_final','log_length','max_speed']].fillna(0)\n",
    "features = ['av_width_final','log_length','max_speed']# Separating out the features\n",
    "# features = ['log_length','mean_speed2']# Separating out the features\n",
    "\n",
    "x = table.loc[:, features].values# Separating out the target\n",
    "# y = table.loc[:,['target']].values# Standardizing the features\n",
    "x = StandardScaler().fit_transform(x)\n",
    "kmeans = KMeans(n_clusters=2).fit(x)\n",
    "centroids = kmeans.cluster_centers_\n",
    "c= kmeans.labels_.astype(float)\n",
    "\n",
    "table['category'] = c\n",
    "table['is_rh'] = (table['category']==table.groupby('category')['max_speed'].mean().idxmax()).astype(int)"
   ]
  },
  {
   "cell_type": "code",
   "execution_count": 28,
   "metadata": {},
   "outputs": [],
   "source": [
    "select_time = time_hypha_info.loc[time_hypha_info['Plate']==plate]\n",
    "RH = table.loc[table['category']==table.groupby('category')['max_speed'].mean().idxmax()]\n",
    "BAS = table.loc[table['category']==table.groupby('category')['max_speed'].mean().idxmin()]\n",
    "rh = choice(RH.index)"
   ]
  },
  {
   "cell_type": "code",
   "execution_count": 242,
   "metadata": {},
   "outputs": [
    {
     "data": {
      "text/plain": [
       "1.0"
      ]
     },
     "execution_count": 242,
     "metadata": {},
     "output_type": "execute_result"
    }
   ],
   "source": []
  },
  {
   "cell_type": "code",
   "execution_count": 216,
   "metadata": {},
   "outputs": [
    {
     "data": {
      "text/plain": [
       "<pandas.core.groupby.generic.SeriesGroupBy object at 0x0000017CB4BC0F88>"
      ]
     },
     "execution_count": 216,
     "metadata": {},
     "output_type": "execute_result"
    }
   ],
   "source": [
    "table_time.groupby('end')['speed']"
   ]
  },
  {
   "cell_type": "code",
   "execution_count": 31,
   "metadata": {},
   "outputs": [
    {
     "data": {
      "application/vnd.jupyter.widget-view+json": {
       "model_id": "fef5ed2d26974c77a3301444b0e0f9b2",
       "version_major": 2,
       "version_minor": 0
      },
      "text/plain": [
       "Canvas(toolbar=Toolbar(toolitems=[('Home', 'Reset original view', 'home', 'home'), ('Back', 'Back to previous …"
      ]
     },
     "metadata": {},
     "output_type": "display_data"
    },
    {
     "data": {
      "text/plain": [
       "Text(0.5, 0, 'log length $(log(\\\\mu m))$')"
      ]
     },
     "execution_count": 31,
     "metadata": {},
     "output_type": "execute_result"
    }
   ],
   "source": [
    "fig, ax = plt.subplots(1, 1, figsize=(6, 6))\n",
    "ylabel = 'average width $(\\mu m)$'\n",
    "# ylabel = 'maximum speed $(\\mu m.s^{-1})$'\n",
    "xlabel = 'log length $(log(\\mu m))$'\n",
    "\n",
    "table.plot('branch_frequ','av_width_final',c='is_rh',kind='scatter',colormap='Dark2',alpha = 0.2,s=200,ax=ax,title = plate,colorbar = False)\n",
    "ax.set_ylabel(ylabel)\n",
    "ax.set_xlabel(xlabel)\n",
    "# ax.set_xlim(2.5,4.5)\n",
    "# ax.set_ylim(50,400)"
   ]
  },
  {
   "cell_type": "code",
   "execution_count": 25,
   "metadata": {},
   "outputs": [
    {
     "data": {
      "text/plain": [
       "707.945784384138"
      ]
     },
     "execution_count": 25,
     "metadata": {},
     "output_type": "execute_result"
    }
   ],
   "source": [
    "10**2.85"
   ]
  },
  {
   "cell_type": "code",
   "execution_count": 30,
   "metadata": {},
   "outputs": [
    {
     "data": {
      "application/vnd.jupyter.widget-view+json": {
       "model_id": "5a79029513b041f69bc909750528d59b",
       "version_major": 2,
       "version_minor": 0
      },
      "text/plain": [
       "Canvas(toolbar=Toolbar(toolitems=[('Home', 'Reset original view', 'home', 'home'), ('Back', 'Back to previous …"
      ]
     },
     "metadata": {},
     "output_type": "display_data"
    },
    {
     "data": {
      "text/plain": [
       "Text(0.5, 0, 'log length $(log(\\\\mu m))$')"
      ]
     },
     "execution_count": 30,
     "metadata": {},
     "output_type": "execute_result"
    }
   ],
   "source": [
    "fig, ax = plt.subplots(1, 1, figsize=(6, 6))\n",
    "ylabel = 'average width $(\\mu m)$'\n",
    "ylabel = 'maximum speed $(\\mu m.s^{-1})$'\n",
    "xlabel = 'log length $(log(\\mu m))$'\n",
    "\n",
    "table.plot('av_width_final','speed_at_init',c='category',kind='scatter',colormap='Dark2',alpha = 0.2,s=100,ax=ax,title = plate,colorbar = False)\n",
    "ax.set_ylabel(ylabel)\n",
    "ax.set_xlabel(xlabel)\n",
    "# ax.set_xlim(2.5,4.5)\n",
    "# ax.set_ylim(50,400)"
   ]
  },
  {
   "cell_type": "code",
   "execution_count": 26,
   "metadata": {},
   "outputs": [
    {
     "data": {
      "application/vnd.jupyter.widget-view+json": {
       "model_id": "d3e79f37127042dd8885e7d42e62d931",
       "version_major": 2,
       "version_minor": 0
      },
      "text/plain": [
       "Canvas(toolbar=Toolbar(toolitems=[('Home', 'Reset original view', 'home', 'home'), ('Back', 'Back to previous …"
      ]
     },
     "metadata": {},
     "output_type": "display_data"
    },
    {
     "data": {
      "text/plain": [
       "Text(0.5, 0, 'init speed $(\\\\mu m.h^{-1})$')"
      ]
     },
     "execution_count": 26,
     "metadata": {},
     "output_type": "execute_result"
    }
   ],
   "source": [
    "fig, ax = plt.subplots(1, 1, figsize=(6, 6))\n",
    "ylabel = 'average width $(\\mu m)$'\n",
    "ylabel = 'maximum speed $(\\mu m.h^{-1})$'\n",
    "xlabel = 'init speed $(\\mu m.h^{-1})$'\n",
    "\n",
    "table.plot('speed_at_init','av_width_final',c='category',kind='scatter',colormap='Dark2',alpha = 0.2,s=100,ax=ax,title = plate,colorbar = False)\n",
    "ax.set_ylabel(ylabel)\n",
    "ax.set_xlabel(xlabel)\n",
    "# ax.set_xlim(2.5,4.5)\n",
    "# ax.set_ylim(50,400)"
   ]
  },
  {
   "cell_type": "code",
   "execution_count": 77,
   "metadata": {
    "collapsed": true,
    "jupyter": {
     "outputs_hidden": true
    }
   },
   "outputs": [
    {
     "data": {
      "application/vnd.jupyter.widget-view+json": {
       "model_id": "d7ad3723c2694a138b4770a720bc7087",
       "version_major": 2,
       "version_minor": 0
      },
      "text/plain": [
       "Canvas(toolbar=Toolbar(toolitems=[('Home', 'Reset original view', 'home', 'home'), ('Back', 'Back to previous …"
      ]
     },
     "metadata": {},
     "output_type": "display_data"
    },
    {
     "data": {
      "text/plain": [
       "(2.5, 4.5)"
      ]
     },
     "execution_count": 77,
     "metadata": {},
     "output_type": "execute_result"
    }
   ],
   "source": [
    "fig, ax = plt.subplots(1, 1, figsize=(6, 6))\n",
    "ylabel = 'average width $(\\mu m)$'\n",
    "ylabel = 'maximum speed $(\\mu m.s^{-1})$'\n",
    "xlabel = 'log length $(log(\\mu m))$'\n",
    "\n",
    "table.plot('log_length','anastomoses',c='category',kind='scatter',colormap='Dark2',alpha = 0.2,s=100,ax=ax,title = plate,colorbar = False)\n",
    "ax.set_ylabel(ylabel)\n",
    "ax.set_xlabel(xlabel)\n",
    "ax.set_ylim(-0.5,1.5)\n",
    "ax.set_xlim(2.5,4.5)\n"
   ]
  },
  {
   "cell_type": "code",
   "execution_count": 222,
   "metadata": {},
   "outputs": [
    {
     "data": {
      "application/vnd.jupyter.widget-view+json": {
       "model_id": "a9a7dce173754fcda28c73493b5e4990",
       "version_major": 2,
       "version_minor": 0
      },
      "text/plain": [
       "Canvas(toolbar=Toolbar(toolitems=[('Home', 'Reset original view', 'home', 'home'), ('Back', 'Back to previous …"
      ]
     },
     "metadata": {},
     "output_type": "display_data"
    },
    {
     "data": {
      "text/plain": [
       "Text(0.5, 0, 'mean speed $(\\\\mu m.s^{-1})$')"
      ]
     },
     "execution_count": 222,
     "metadata": {},
     "output_type": "execute_result"
    }
   ],
   "source": [
    "fig, ax = plt.subplots(1, 1, figsize=(6, 6))\n",
    "ylabel = 'branch frequ $(\\mu m^{-1})$'\n",
    "xlabel = 'mean speed $(\\mu m.s^{-1})$'\n",
    "# xlabel = 'log length $(log(\\mu m))$'\n",
    "select = RH.loc[RH['branch_frequ']>0].copy()\n",
    "select['branch_dist'] = 1/select['branch_frequ'].astype(float)\n",
    "select=select.loc[select['branch_dist'].between(0,2000)]\n",
    "select.plot('mean_speed','branch_dist',c='category',kind='scatter',colormap='Dark2',alpha = 0.2,s=100,ax=ax,title = plate,colorbar = False)\n",
    "d = np.polyfit(select['mean_speed'].astype(float),select['branch_dist'].astype(float),1)\n",
    "f = np.poly1d(d)\n",
    "ax.plot(select['mean_speed'].astype(float),f(select['mean_speed']))\n",
    "ax.set_ylabel(ylabel)\n",
    "ax.set_xlabel(xlabel)\n",
    "# ax.set_ylim(0,0.002)\n",
    "# ax.set_xlim(2.5,4.5)\n"
   ]
  },
  {
   "cell_type": "code",
   "execution_count": 162,
   "metadata": {},
   "outputs": [
    {
     "data": {
      "application/vnd.jupyter.widget-view+json": {
       "model_id": "9627ebaeead04d14a5ab6611483b9c1f",
       "version_major": 2,
       "version_minor": 0
      },
      "text/plain": [
       "Canvas(toolbar=Toolbar(toolitems=[('Home', 'Reset original view', 'home', 'home'), ('Back', 'Back to previous …"
      ]
     },
     "metadata": {},
     "output_type": "display_data"
    },
    {
     "data": {
      "text/plain": [
       "<AxesSubplot:xlabel='time_since_emergence'>"
      ]
     },
     "execution_count": 162,
     "metadata": {},
     "output_type": "execute_result"
    }
   ],
   "source": [
    "trajectory = select_time.loc[select_time['end']==rh]\n",
    "trajectory.plot('time_since_emergence','speed')"
   ]
  },
  {
   "cell_type": "code",
   "execution_count": 149,
   "metadata": {},
   "outputs": [
    {
     "data": {
      "text/html": [
       "<div>\n",
       "<style scoped>\n",
       "    .dataframe tbody tr th:only-of-type {\n",
       "        vertical-align: middle;\n",
       "    }\n",
       "\n",
       "    .dataframe tbody tr th {\n",
       "        vertical-align: top;\n",
       "    }\n",
       "\n",
       "    .dataframe thead th {\n",
       "        text-align: right;\n",
       "    }\n",
       "</style>\n",
       "<table border=\"1\" class=\"dataframe\">\n",
       "  <thead>\n",
       "    <tr style=\"text-align: right;\">\n",
       "      <th></th>\n",
       "      <th>av_width_final</th>\n",
       "      <th>tot_length_C</th>\n",
       "      <th>tot_growth_C</th>\n",
       "      <th>Plate</th>\n",
       "      <th>path_exp</th>\n",
       "      <th>folder_analysis</th>\n",
       "      <th>timestep_anastomosis</th>\n",
       "      <th>tot_length_pp</th>\n",
       "      <th>tot_growth_pp</th>\n",
       "      <th>timestep_stop_growth</th>\n",
       "      <th>...</th>\n",
       "      <th>out_of_ROI</th>\n",
       "      <th>max_speed</th>\n",
       "      <th>mean_speed2</th>\n",
       "      <th>log_length</th>\n",
       "      <th>growth_lapse</th>\n",
       "      <th>log_growth</th>\n",
       "      <th>speed_at_init</th>\n",
       "      <th>branch_frequ</th>\n",
       "      <th>category</th>\n",
       "      <th>is_rh</th>\n",
       "    </tr>\n",
       "    <tr>\n",
       "      <th>hypha</th>\n",
       "      <th></th>\n",
       "      <th></th>\n",
       "      <th></th>\n",
       "      <th></th>\n",
       "      <th></th>\n",
       "      <th></th>\n",
       "      <th></th>\n",
       "      <th></th>\n",
       "      <th></th>\n",
       "      <th></th>\n",
       "      <th></th>\n",
       "      <th></th>\n",
       "      <th></th>\n",
       "      <th></th>\n",
       "      <th></th>\n",
       "      <th></th>\n",
       "      <th></th>\n",
       "      <th></th>\n",
       "      <th></th>\n",
       "      <th></th>\n",
       "      <th></th>\n",
       "    </tr>\n",
       "  </thead>\n",
       "  <tbody>\n",
       "    <tr>\n",
       "      <th>336</th>\n",
       "      <td>14.2341</td>\n",
       "      <td>4102.81</td>\n",
       "      <td>1207.48</td>\n",
       "      <td>152</td>\n",
       "      <td>Analysis_1636111758346200198_0_100_Version9/ex...</td>\n",
       "      <td>Analysis_1636111758346200198_0_100_Version9</td>\n",
       "      <td>None</td>\n",
       "      <td>3951.99</td>\n",
       "      <td>1166.66</td>\n",
       "      <td>6</td>\n",
       "      <td>...</td>\n",
       "      <td>None</td>\n",
       "      <td>175.914415</td>\n",
       "      <td>124.593285</td>\n",
       "      <td>3.613187</td>\n",
       "      <td>3.0</td>\n",
       "      <td>3.082240</td>\n",
       "      <td>72.656641</td>\n",
       "      <td>NaN</td>\n",
       "      <td>0.0</td>\n",
       "      <td>1</td>\n",
       "    </tr>\n",
       "    <tr>\n",
       "      <th>728</th>\n",
       "      <td>12.1165</td>\n",
       "      <td>14932.4</td>\n",
       "      <td>14932.4</td>\n",
       "      <td>152</td>\n",
       "      <td>Analysis_1636111758346200198_0_100_Version9/ex...</td>\n",
       "      <td>Analysis_1636111758346200198_0_100_Version9</td>\n",
       "      <td>None</td>\n",
       "      <td>14725.4</td>\n",
       "      <td>38887.1</td>\n",
       "      <td>66</td>\n",
       "      <td>...</td>\n",
       "      <td>41</td>\n",
       "      <td>285.604338</td>\n",
       "      <td>265.984947</td>\n",
       "      <td>4.174157</td>\n",
       "      <td>11.0</td>\n",
       "      <td>4.174157</td>\n",
       "      <td>NaN</td>\n",
       "      <td>NaN</td>\n",
       "      <td>0.0</td>\n",
       "      <td>1</td>\n",
       "    </tr>\n",
       "    <tr>\n",
       "      <th>734</th>\n",
       "      <td>8.68565</td>\n",
       "      <td>5661.97</td>\n",
       "      <td>5253.62</td>\n",
       "      <td>152</td>\n",
       "      <td>Analysis_1636111758346200198_0_100_Version9/ex...</td>\n",
       "      <td>Analysis_1636111758346200198_0_100_Version9</td>\n",
       "      <td>8</td>\n",
       "      <td>5611.47</td>\n",
       "      <td>5217.65</td>\n",
       "      <td>9</td>\n",
       "      <td>...</td>\n",
       "      <td>None</td>\n",
       "      <td>252.560323</td>\n",
       "      <td>218.661878</td>\n",
       "      <td>3.753044</td>\n",
       "      <td>6.0</td>\n",
       "      <td>3.720541</td>\n",
       "      <td>167.893208</td>\n",
       "      <td>NaN</td>\n",
       "      <td>0.0</td>\n",
       "      <td>1</td>\n",
       "    </tr>\n",
       "    <tr>\n",
       "      <th>736</th>\n",
       "      <td>8.16468</td>\n",
       "      <td>7810.22</td>\n",
       "      <td>6337.36</td>\n",
       "      <td>152</td>\n",
       "      <td>Analysis_1636111758346200198_0_100_Version9/ex...</td>\n",
       "      <td>Analysis_1636111758346200198_0_100_Version9</td>\n",
       "      <td>9</td>\n",
       "      <td>7653.86</td>\n",
       "      <td>6234.75</td>\n",
       "      <td>11</td>\n",
       "      <td>...</td>\n",
       "      <td>None</td>\n",
       "      <td>277.737249</td>\n",
       "      <td>259.969026</td>\n",
       "      <td>3.892719</td>\n",
       "      <td>5.0</td>\n",
       "      <td>3.801977</td>\n",
       "      <td>NaN</td>\n",
       "      <td>NaN</td>\n",
       "      <td>0.0</td>\n",
       "      <td>1</td>\n",
       "    </tr>\n",
       "    <tr>\n",
       "      <th>740</th>\n",
       "      <td>7.42706</td>\n",
       "      <td>3515.89</td>\n",
       "      <td>2762.2</td>\n",
       "      <td>152</td>\n",
       "      <td>Analysis_1636111758346200198_0_100_Version9/ex...</td>\n",
       "      <td>Analysis_1636111758346200198_0_100_Version9</td>\n",
       "      <td>None</td>\n",
       "      <td>3490.92</td>\n",
       "      <td>2752.71</td>\n",
       "      <td>7</td>\n",
       "      <td>...</td>\n",
       "      <td>5</td>\n",
       "      <td>154.688616</td>\n",
       "      <td>154.283373</td>\n",
       "      <td>3.546159</td>\n",
       "      <td>2.0</td>\n",
       "      <td>3.441412</td>\n",
       "      <td>154.688616</td>\n",
       "      <td>NaN</td>\n",
       "      <td>1.0</td>\n",
       "      <td>0</td>\n",
       "    </tr>\n",
       "    <tr>\n",
       "      <th>...</th>\n",
       "      <td>...</td>\n",
       "      <td>...</td>\n",
       "      <td>...</td>\n",
       "      <td>...</td>\n",
       "      <td>...</td>\n",
       "      <td>...</td>\n",
       "      <td>...</td>\n",
       "      <td>...</td>\n",
       "      <td>...</td>\n",
       "      <td>...</td>\n",
       "      <td>...</td>\n",
       "      <td>...</td>\n",
       "      <td>...</td>\n",
       "      <td>...</td>\n",
       "      <td>...</td>\n",
       "      <td>...</td>\n",
       "      <td>...</td>\n",
       "      <td>...</td>\n",
       "      <td>...</td>\n",
       "      <td>...</td>\n",
       "      <td>...</td>\n",
       "    </tr>\n",
       "    <tr>\n",
       "      <th>34483</th>\n",
       "      <td>6.08618</td>\n",
       "      <td>2742.95</td>\n",
       "      <td>2448.72</td>\n",
       "      <td>152</td>\n",
       "      <td>Analysis_1636111758346200198_0_100_Version9/ex...</td>\n",
       "      <td>Analysis_1636111758346200198_0_100_Version9</td>\n",
       "      <td>None</td>\n",
       "      <td>2591.67</td>\n",
       "      <td>2303.95</td>\n",
       "      <td>41</td>\n",
       "      <td>...</td>\n",
       "      <td>None</td>\n",
       "      <td>169.336257</td>\n",
       "      <td>169.336257</td>\n",
       "      <td>3.438376</td>\n",
       "      <td>1.0</td>\n",
       "      <td>3.389116</td>\n",
       "      <td>169.336257</td>\n",
       "      <td>NaN</td>\n",
       "      <td>1.0</td>\n",
       "      <td>0</td>\n",
       "    </tr>\n",
       "    <tr>\n",
       "      <th>34941</th>\n",
       "      <td>5.69935</td>\n",
       "      <td>514.076</td>\n",
       "      <td>383.313</td>\n",
       "      <td>152</td>\n",
       "      <td>Analysis_1636111758346200198_0_100_Version9/ex...</td>\n",
       "      <td>Analysis_1636111758346200198_0_100_Version9</td>\n",
       "      <td>38</td>\n",
       "      <td>489.079</td>\n",
       "      <td>373.82</td>\n",
       "      <td>39</td>\n",
       "      <td>...</td>\n",
       "      <td>None</td>\n",
       "      <td>60.352646</td>\n",
       "      <td>60.352646</td>\n",
       "      <td>2.711871</td>\n",
       "      <td>1.0</td>\n",
       "      <td>2.584685</td>\n",
       "      <td>60.352646</td>\n",
       "      <td>NaN</td>\n",
       "      <td>1.0</td>\n",
       "      <td>0</td>\n",
       "    </tr>\n",
       "    <tr>\n",
       "      <th>34976</th>\n",
       "      <td>8.14816</td>\n",
       "      <td>1085.35</td>\n",
       "      <td>364.916</td>\n",
       "      <td>152</td>\n",
       "      <td>Analysis_1636111758346200198_0_100_Version9/ex...</td>\n",
       "      <td>Analysis_1636111758346200198_0_100_Version9</td>\n",
       "      <td>40</td>\n",
       "      <td>1074.15</td>\n",
       "      <td>431.336</td>\n",
       "      <td>48</td>\n",
       "      <td>...</td>\n",
       "      <td>None</td>\n",
       "      <td>61.040569</td>\n",
       "      <td>61.040569</td>\n",
       "      <td>3.035970</td>\n",
       "      <td>1.0</td>\n",
       "      <td>2.563382</td>\n",
       "      <td>61.040569</td>\n",
       "      <td>NaN</td>\n",
       "      <td>1.0</td>\n",
       "      <td>0</td>\n",
       "    </tr>\n",
       "    <tr>\n",
       "      <th>34978</th>\n",
       "      <td>7.10681</td>\n",
       "      <td>1271.13</td>\n",
       "      <td>285.242</td>\n",
       "      <td>152</td>\n",
       "      <td>Analysis_1636111758346200198_0_100_Version9/ex...</td>\n",
       "      <td>Analysis_1636111758346200198_0_100_Version9</td>\n",
       "      <td>39</td>\n",
       "      <td>1031.97</td>\n",
       "      <td>369.686</td>\n",
       "      <td>62</td>\n",
       "      <td>...</td>\n",
       "      <td>None</td>\n",
       "      <td>65.862565</td>\n",
       "      <td>65.862565</td>\n",
       "      <td>3.104531</td>\n",
       "      <td>1.0</td>\n",
       "      <td>2.456734</td>\n",
       "      <td>65.862565</td>\n",
       "      <td>NaN</td>\n",
       "      <td>1.0</td>\n",
       "      <td>0</td>\n",
       "    </tr>\n",
       "    <tr>\n",
       "      <th>34987</th>\n",
       "      <td>7.14555</td>\n",
       "      <td>1169.59</td>\n",
       "      <td>977.693</td>\n",
       "      <td>152</td>\n",
       "      <td>Analysis_1636111758346200198_0_100_Version9/ex...</td>\n",
       "      <td>Analysis_1636111758346200198_0_100_Version9</td>\n",
       "      <td>None</td>\n",
       "      <td>1122.71</td>\n",
       "      <td>930.722</td>\n",
       "      <td>70</td>\n",
       "      <td>...</td>\n",
       "      <td>None</td>\n",
       "      <td>110.312550</td>\n",
       "      <td>110.312550</td>\n",
       "      <td>3.068406</td>\n",
       "      <td>1.0</td>\n",
       "      <td>2.990646</td>\n",
       "      <td>110.312550</td>\n",
       "      <td>NaN</td>\n",
       "      <td>1.0</td>\n",
       "      <td>0</td>\n",
       "    </tr>\n",
       "  </tbody>\n",
       "</table>\n",
       "<p>533 rows × 26 columns</p>\n",
       "</div>"
      ],
      "text/plain": [
       "      av_width_final tot_length_C tot_growth_C Plate  \\\n",
       "hypha                                                  \n",
       "336          14.2341      4102.81      1207.48   152   \n",
       "728          12.1165      14932.4      14932.4   152   \n",
       "734          8.68565      5661.97      5253.62   152   \n",
       "736          8.16468      7810.22      6337.36   152   \n",
       "740          7.42706      3515.89       2762.2   152   \n",
       "...              ...          ...          ...   ...   \n",
       "34483        6.08618      2742.95      2448.72   152   \n",
       "34941        5.69935      514.076      383.313   152   \n",
       "34976        8.14816      1085.35      364.916   152   \n",
       "34978        7.10681      1271.13      285.242   152   \n",
       "34987        7.14555      1169.59      977.693   152   \n",
       "\n",
       "                                                path_exp  \\\n",
       "hypha                                                      \n",
       "336    Analysis_1636111758346200198_0_100_Version9/ex...   \n",
       "728    Analysis_1636111758346200198_0_100_Version9/ex...   \n",
       "734    Analysis_1636111758346200198_0_100_Version9/ex...   \n",
       "736    Analysis_1636111758346200198_0_100_Version9/ex...   \n",
       "740    Analysis_1636111758346200198_0_100_Version9/ex...   \n",
       "...                                                  ...   \n",
       "34483  Analysis_1636111758346200198_0_100_Version9/ex...   \n",
       "34941  Analysis_1636111758346200198_0_100_Version9/ex...   \n",
       "34976  Analysis_1636111758346200198_0_100_Version9/ex...   \n",
       "34978  Analysis_1636111758346200198_0_100_Version9/ex...   \n",
       "34987  Analysis_1636111758346200198_0_100_Version9/ex...   \n",
       "\n",
       "                                   folder_analysis timestep_anastomosis  \\\n",
       "hypha                                                                     \n",
       "336    Analysis_1636111758346200198_0_100_Version9                 None   \n",
       "728    Analysis_1636111758346200198_0_100_Version9                 None   \n",
       "734    Analysis_1636111758346200198_0_100_Version9                    8   \n",
       "736    Analysis_1636111758346200198_0_100_Version9                    9   \n",
       "740    Analysis_1636111758346200198_0_100_Version9                 None   \n",
       "...                                            ...                  ...   \n",
       "34483  Analysis_1636111758346200198_0_100_Version9                 None   \n",
       "34941  Analysis_1636111758346200198_0_100_Version9                   38   \n",
       "34976  Analysis_1636111758346200198_0_100_Version9                   40   \n",
       "34978  Analysis_1636111758346200198_0_100_Version9                   39   \n",
       "34987  Analysis_1636111758346200198_0_100_Version9                 None   \n",
       "\n",
       "      tot_length_pp tot_growth_pp timestep_stop_growth  ... out_of_ROI  \\\n",
       "hypha                                                   ...              \n",
       "336         3951.99       1166.66                    6  ...       None   \n",
       "728         14725.4       38887.1                   66  ...         41   \n",
       "734         5611.47       5217.65                    9  ...       None   \n",
       "736         7653.86       6234.75                   11  ...       None   \n",
       "740         3490.92       2752.71                    7  ...          5   \n",
       "...             ...           ...                  ...  ...        ...   \n",
       "34483       2591.67       2303.95                   41  ...       None   \n",
       "34941       489.079        373.82                   39  ...       None   \n",
       "34976       1074.15       431.336                   48  ...       None   \n",
       "34978       1031.97       369.686                   62  ...       None   \n",
       "34987       1122.71       930.722                   70  ...       None   \n",
       "\n",
       "        max_speed mean_speed2 log_length growth_lapse log_growth  \\\n",
       "hypha                                                              \n",
       "336    175.914415  124.593285   3.613187          3.0   3.082240   \n",
       "728    285.604338  265.984947   4.174157         11.0   4.174157   \n",
       "734    252.560323  218.661878   3.753044          6.0   3.720541   \n",
       "736    277.737249  259.969026   3.892719          5.0   3.801977   \n",
       "740    154.688616  154.283373   3.546159          2.0   3.441412   \n",
       "...           ...         ...        ...          ...        ...   \n",
       "34483  169.336257  169.336257   3.438376          1.0   3.389116   \n",
       "34941   60.352646   60.352646   2.711871          1.0   2.584685   \n",
       "34976   61.040569   61.040569   3.035970          1.0   2.563382   \n",
       "34978   65.862565   65.862565   3.104531          1.0   2.456734   \n",
       "34987  110.312550  110.312550   3.068406          1.0   2.990646   \n",
       "\n",
       "      speed_at_init  branch_frequ  category  is_rh  \n",
       "hypha                                               \n",
       "336       72.656641           NaN       0.0      1  \n",
       "728             NaN           NaN       0.0      1  \n",
       "734      167.893208           NaN       0.0      1  \n",
       "736             NaN           NaN       0.0      1  \n",
       "740      154.688616           NaN       1.0      0  \n",
       "...             ...           ...       ...    ...  \n",
       "34483    169.336257           NaN       1.0      0  \n",
       "34941     60.352646           NaN       1.0      0  \n",
       "34976     61.040569           NaN       1.0      0  \n",
       "34978     65.862565           NaN       1.0      0  \n",
       "34987    110.312550           NaN       1.0      0  \n",
       "\n",
       "[533 rows x 26 columns]"
      ]
     },
     "execution_count": 149,
     "metadata": {},
     "output_type": "execute_result"
    }
   ],
   "source": [
    "table"
   ]
  },
  {
   "cell_type": "code",
   "execution_count": 148,
   "metadata": {},
   "outputs": [
    {
     "data": {
      "application/vnd.jupyter.widget-view+json": {
       "model_id": "4be18d186bf5407d9931708415bcd353",
       "version_major": 2,
       "version_minor": 0
      },
      "text/plain": [
       "Canvas(toolbar=Toolbar(toolitems=[('Home', 'Reset original view', 'home', 'home'), ('Back', 'Back to previous …"
      ]
     },
     "metadata": {},
     "output_type": "display_data"
    },
    {
     "name": "stdout",
     "output_type": "stream",
     "text": [
      "76\n",
      "94\n",
      "808\n",
      "91\n",
      "88\n",
      "792\n",
      "785\n",
      "799\n",
      "80\n",
      "26\n",
      "785\n",
      "152\n"
     ]
    },
    {
     "data": {
      "text/plain": [
       "Text(0.04, 0.5, 'maximum speed $(\\\\mu m.h^{-1})$')"
      ]
     },
     "execution_count": 148,
     "metadata": {},
     "output_type": "execute_result"
    }
   ],
   "source": [
    "num_columns = 4\n",
    "\n",
    "plates = [76,94,808,91,88,792,785,799,80,26,785,152]\n",
    "# plates = [152]\n",
    "fig, axs = plt.subplots(((len(plates)+1)//num_columns), num_columns)\n",
    "for i,plate in enumerate(plates):\n",
    "    print(plate)\n",
    "    table = ind_hypha_table[plate]\n",
    "    table_time = time_hypha_table[plate]\n",
    "\n",
    "    table['max_speed'] = table_time.groupby('end')['speed'].max()\n",
    "    table['mean_speed2'] = table_time.groupby('end')['speed'].mean()\n",
    "    table['log_length'] = np.log10((table['tot_length_C']+1).astype(float))\n",
    "    table['growth_lapse'] = table_time.groupby('end')['speed'].count()\n",
    "    table = ind_hypha_table[plate]\n",
    "    table_time = time_hypha_table[plate]\n",
    "    select_time = time_hypha_info.loc[time_hypha_info['Plate']==plate]\n",
    "    speed_at_init = table_time.loc[table_time['time_since_emergence']==0]\n",
    "    table['max_speed'] = table_time.groupby('end')['speed'].max()\n",
    "    table['mean_speed2'] = table_time.groupby('end')['speed'].mean()\n",
    "    table['log_length'] = np.log10((table['tot_length_C']+1).astype(float))\n",
    "    table['log_growth'] = np.log10((table['tot_growth_C']+1).astype(float))\n",
    "\n",
    "    table['growth_lapse'] = table_time.groupby('end')['speed'].count()\n",
    "    table['speed_at_init'] = speed_at_init.groupby('end')['speed'].max()\n",
    "    table = table.loc[table['max_speed'].notnull()]\n",
    "    table = table.loc[table['av_width_final'].between(0,15)]\n",
    "#     table = table.loc[table['num_branch']>=0]\n",
    "    table = table.loc[table['tot_growth_C']>=200]\n",
    "\n",
    "    table['branch_frequ'] = table['num_branch']/(table['tot_growth_C']+1)\n",
    "#     table = table.loc[table['branch_frequ'].between(0,0.003)]\n",
    "    from sklearn.cluster import KMeans\n",
    "    df = table[['av_width_final','log_length','max_speed']].fillna(0)\n",
    "    features = ['av_width_final','log_length','max_speed']# Separating out the features\n",
    "    # features = ['log_length','mean_speed2']# Separating out the features\n",
    "\n",
    "    x = table.loc[:, features].values# Separating out the target\n",
    "    # y = table.loc[:,['target']].values# Standardizing the features\n",
    "    x = StandardScaler().fit_transform(x)\n",
    "    kmeans = KMeans(n_clusters=2).fit(x)\n",
    "    centroids = kmeans.cluster_centers_\n",
    "    c= kmeans.labels_.astype(float)\n",
    "\n",
    "    table['category'] = c\n",
    "    table['is_rh'] = (table['category']==table.groupby('category')['max_speed'].mean().idxmax()).astype(int)\n",
    "    ax = axs[i//num_columns,i%num_columns]\n",
    "    xlabel = 'average width $(\\mu m)$'\n",
    "    ylabel = 'maximum speed $(\\mu m.h^{-1})$'\n",
    "#     xlabel = 'log length $(log(\\mu m))$'\n",
    "\n",
    "    table.plot('av_width_final','max_speed',c='is_rh',kind='scatter',colormap='Dark2',alpha = 1/len(table)*20,s=200,ax=ax,title = plate,colorbar = False)\n",
    "    ax.set_xlabel(None,fontsize=5)\n",
    "    ax.set_ylabel(None,fontsize=5)\n",
    "    ax.set_xlim(2.5,12)\n",
    "    ax.set_ylim(50,400)\n",
    "\n",
    "#     ax.set_ylim(50,400)\n",
    "fig.text(0.5, 0.004, xlabel, ha='center',fontdict = {'size' : 20} )\n",
    "fig.text(0.04, 0.5, ylabel, va='center', rotation='vertical',fontdict = {'size' : 20})"
   ]
  },
  {
   "cell_type": "code",
   "execution_count": 43,
   "metadata": {},
   "outputs": [
    {
     "data": {
      "application/vnd.jupyter.widget-view+json": {
       "model_id": "148c5277e6d2424f92e1e3837a412bdd",
       "version_major": 2,
       "version_minor": 0
      },
      "text/plain": [
       "Canvas(toolbar=Toolbar(toolitems=[('Home', 'Reset original view', 'home', 'home'), ('Back', 'Back to previous …"
      ]
     },
     "metadata": {},
     "output_type": "display_data"
    },
    {
     "name": "stdout",
     "output_type": "stream",
     "text": [
      "76\n",
      "94\n",
      "808\n",
      "91\n",
      "792\n",
      "799\n",
      "80\n",
      "26\n"
     ]
    },
    {
     "data": {
      "text/plain": [
       "Text(0.04, 0.5, 'average branching distance$(\\\\mu m)$')"
      ]
     },
     "execution_count": 43,
     "metadata": {},
     "output_type": "execute_result"
    }
   ],
   "source": [
    "num_columns = 4\n",
    "\n",
    "plates = [76,94,808,91,792,799,80,26,]\n",
    "fig, axs = plt.subplots(((len(plates)+1)//num_columns), num_columns)\n",
    "for i,plate in enumerate(plates):\n",
    "    print(plate)\n",
    "    table = ind_hypha_table[plate]\n",
    "    table_time = time_hypha_table[plate]\n",
    "\n",
    "    table['max_speed'] = table_time.groupby('end')['speed'].max()\n",
    "    table['mean_speed2'] = table_time.groupby('end')['speed'].mean()\n",
    "    table['log_length'] = np.log10((table['tot_length_C']+1).astype(float))\n",
    "    table['growth_lapse'] = table_time.groupby('end')['speed'].count()\n",
    "    table = ind_hypha_table[plate]\n",
    "    table_time = time_hypha_table[plate]\n",
    "    select_time = time_hypha_info.loc[time_hypha_info['Plate']==plate]\n",
    "    speed_at_init = table_time.loc[table_time['time_since_emergence']==0]\n",
    "    table['max_speed'] = table_time.groupby('end')['speed'].max()\n",
    "    table['mean_speed2'] = table_time.groupby('end')['speed'].mean()\n",
    "    table['log_length'] = np.log10((table['tot_length_C']+1).astype(float))\n",
    "    table['log_growth'] = np.log10((table['tot_growth_C']+1).astype(float))\n",
    "\n",
    "    table['growth_lapse'] = table_time.groupby('end')['speed'].count()\n",
    "    table['speed_at_init'] = speed_at_init.groupby('end')['speed'].max()\n",
    "    table = table.loc[table['max_speed'].notnull()]\n",
    "    table = table.loc[table['av_width_final'].between(0,15)]\n",
    "    table = table.loc[table['num_branch']>=0]\n",
    "    table = table.loc[table['tot_growth_C']>=200]\n",
    "\n",
    "    table['branch_frequ'] = (table['num_branch']+1)/(table['tot_growth_C']+1)\n",
    "    table = table.loc[table['branch_frequ'].between(0,0.003)]\n",
    "    from sklearn.cluster import KMeans\n",
    "    df = table[['av_width_final','log_length','max_speed']].fillna(0)\n",
    "    features = ['av_width_final','log_length','max_speed']# Separating out the features\n",
    "    # features = ['log_length','mean_speed2']# Separating out the features\n",
    "\n",
    "    x = table.loc[:, features].values# Separating out the target\n",
    "    # y = table.loc[:,['target']].values# Standardizing the features\n",
    "    x = StandardScaler().fit_transform(x)\n",
    "    kmeans = KMeans(n_clusters=2).fit(x)\n",
    "    centroids = kmeans.cluster_centers_\n",
    "    c= kmeans.labels_.astype(float)\n",
    "\n",
    "    table['category'] = c\n",
    "    table['is_rh'] = (table['category']==table.groupby('category')['max_speed'].mean().idxmax()).astype(int)\n",
    "\n",
    "    RH = table.loc[table['is_rh']==1]\n",
    "    BAS = table.loc[table['is_rh']==0]\n",
    "    select = RH.loc[RH['branch_frequ']>0].copy()\n",
    "    select = select.loc[select['num_branch']>=4]\n",
    "    select['branch_dist'] = 1/select['branch_frequ'].astype(float)\n",
    "    select=select.loc[select['branch_dist'].between(200,2000)]\n",
    "    select=select.loc[select['mean_speed2'].between(200,320)]\n",
    "#     select=select.loc[select['mean_speed2'].between(150,350)]\n",
    "    x = select['mean_speed2'].astype(float)\n",
    "    y = select['branch_dist'].astype(float) \n",
    "    d = np.polyfit(x,y,1,w=select['num_branch'].astype(float)**1)\n",
    "    f = np.poly1d(d)\n",
    "    x = np.array(x)\n",
    "    x = x[:,np.newaxis]\n",
    "    a, _, _, _ = np.linalg.lstsq(x, y,rcond=None)\n",
    "\n",
    "    ax = axs[i//num_columns,i%num_columns]\n",
    "    select.plot('mean_speed2','branch_dist',c='is_rh',kind='scatter',colormap='Dark2',alpha = 0.8,s=20,ax=ax,title = plate,colorbar = False)\n",
    "    ax.plot(select['mean_speed2'].astype(float),f(select['mean_speed2']),label =f'y = {round(100*d[0])/100}x+{round(100*d[1])/100}')\n",
    "#     ax.plot(x, a*x, 'r-',label=a)\n",
    "    xlabel = 'average speed $(\\mu m.h^{-1})$'\n",
    "#     ylabel = 'maximum speed $(\\mu m.s^{-1})$'\n",
    "    ylabel = 'average branching distance$(\\mu m)$'\n",
    "\n",
    "#     table.plot('log_length','av_width_final',c='category',kind='scatter',colormap='Dark2',alpha = 0.15,s=100,ax=ax,title = plate,colorbar = False)\n",
    "    ax.set_xlabel(None,fontsize=5)\n",
    "    ax.set_ylabel(None,fontsize=5)\n",
    "    ax.set_xlim(200,320)\n",
    "    ax.set_ylim(100,2000)\n",
    "    ax.legend(fontsize = 10)\n",
    "\n",
    "# #     ax.set_ylim(50,400)\n",
    "fig.text(0.5, 0.004, xlabel, ha='center',fontdict = {'size' : 20} )\n",
    "fig.text(0.04, 0.5, ylabel, va='center', rotation='vertical',fontdict = {'size' : 20})"
   ]
  },
  {
   "cell_type": "code",
   "execution_count": null,
   "metadata": {},
   "outputs": [],
   "source": []
  },
  {
   "cell_type": "code",
   "execution_count": 108,
   "metadata": {},
   "outputs": [
    {
     "data": {
      "text/plain": [
       "array([[308.58646376],\n",
       "       [325.5151731 ],\n",
       "       [216.74382058],\n",
       "       [333.29286752],\n",
       "       [227.16606572],\n",
       "       [234.0782224 ],\n",
       "       [292.2086502 ],\n",
       "       [305.06348057],\n",
       "       [231.0226894 ],\n",
       "       [295.15952704],\n",
       "       [268.94994473],\n",
       "       [292.37066381],\n",
       "       [248.38115347],\n",
       "       [283.20778144],\n",
       "       [247.66994729],\n",
       "       [286.11237057],\n",
       "       [297.88951672],\n",
       "       [327.78966029],\n",
       "       [218.93234926],\n",
       "       [194.2655037 ]])"
      ]
     },
     "execution_count": 108,
     "metadata": {},
     "output_type": "execute_result"
    }
   ],
   "source": [
    "x"
   ]
  },
  {
   "cell_type": "code",
   "execution_count": 93,
   "metadata": {},
   "outputs": [
    {
     "data": {
      "text/plain": [
       "array([  0.86913637, 410.65240685])"
      ]
     },
     "execution_count": 93,
     "metadata": {},
     "output_type": "execute_result"
    }
   ],
   "source": [
    "d"
   ]
  },
  {
   "cell_type": "code",
   "execution_count": 262,
   "metadata": {},
   "outputs": [
    {
     "data": {
      "text/plain": [
       "hypha\n",
       "0         NaN\n",
       "3         NaN\n",
       "5         NaN\n",
       "35        NaN\n",
       "39        NaN\n",
       "         ... \n",
       "310831    NaN\n",
       "310843    NaN\n",
       "310937    NaN\n",
       "310973    NaN\n",
       "311006    NaN\n",
       "Name: num_branch, Length: 11272, dtype: object"
      ]
     },
     "execution_count": 262,
     "metadata": {},
     "output_type": "execute_result"
    }
   ],
   "source": [
    "ind_hypha_table[152]['num_branch']"
   ]
  },
  {
   "cell_type": "code",
   "execution_count": 307,
   "metadata": {},
   "outputs": [
    {
     "data": {
      "application/vnd.jupyter.widget-view+json": {
       "model_id": "3b959ee3458b4de5ae3ee0cf7db6b4a0",
       "version_major": 2,
       "version_minor": 0
      },
      "text/plain": [
       "Canvas(toolbar=Toolbar(toolitems=[('Home', 'Reset original view', 'home', 'home'), ('Back', 'Back to previous …"
      ]
     },
     "metadata": {},
     "output_type": "display_data"
    }
   ],
   "source": [
    "scatter_matrix(table[['av_width_final','log_length','mean_speed2','max_speed']].fillna(0), alpha=0.1, figsize=(6, 6), diagonal=\"kde\",);"
   ]
  },
  {
   "cell_type": "code",
   "execution_count": 118,
   "metadata": {},
   "outputs": [
    {
     "data": {
      "text/plain": [
       "array([[  7.10461214,   2.87616725, 118.84248229],\n",
       "       [  7.79537543,   3.22709095, 228.49994949]])"
      ]
     },
     "execution_count": 118,
     "metadata": {},
     "output_type": "execute_result"
    }
   ],
   "source": [
    "centroids"
   ]
  },
  {
   "cell_type": "code",
   "execution_count": 120,
   "metadata": {},
   "outputs": [
    {
     "data": {
      "text/plain": [
       "array([1., 0., 0., ..., 1., 1., 1.])"
      ]
     },
     "execution_count": 120,
     "metadata": {},
     "output_type": "execute_result"
    }
   ],
   "source": [
    "c= kmeans.labels_.astype(float)\n",
    "c"
   ]
  },
  {
   "cell_type": "code",
   "execution_count": 111,
   "metadata": {},
   "outputs": [],
   "source": [
    "features = ['av_width_final','log_length','mean_speed2']# Separating out the features\n",
    "x = table.loc[:, features].values# Separating out the target\n",
    "# y = table.loc[:,['target']].values# Standardizing the features\n",
    "x = StandardScaler().fit_transform(x)\n",
    "pca = PCA(n_components=2)\n",
    "principalComponents = pca.fit_transform(x)\n",
    "principalDf = pd.DataFrame(data = principalComponents\n",
    "             , columns = ['principal component 1', 'principal component 2'])\n",
    "finalDf = pd.concat([principalDf, df[['target']]], axis = 1)"
   ]
  },
  {
   "cell_type": "code",
   "execution_count": 113,
   "metadata": {},
   "outputs": [
    {
     "data": {
      "application/vnd.jupyter.widget-view+json": {
       "model_id": "e9f46d32d4ae4783a2bf643b3f216231",
       "version_major": 2,
       "version_minor": 0
      },
      "text/plain": [
       "Canvas(toolbar=Toolbar(toolitems=[('Home', 'Reset original view', 'home', 'home'), ('Back', 'Back to previous …"
      ]
     },
     "metadata": {},
     "output_type": "display_data"
    }
   ],
   "source": [
    "fig = plt.figure(figsize = (8,8))\n",
    "ax = fig.add_subplot(1,1,1) \n",
    "ax.set_xlabel('Principal Component 1', fontsize = 15)\n",
    "ax.set_ylabel('Principal Component 2', fontsize = 15)\n",
    "ax.set_title('2 component PCA', fontsize = 20)\n",
    "ax.scatter(finalDf['principal component 1']\n",
    "           , finalDf['principal component 2'],alpha = 0.2,s=20)\n",
    "\n",
    "\n",
    "# ax.legend(targets)\n",
    "ax.grid()"
   ]
  },
  {
   "cell_type": "code",
   "execution_count": 93,
   "metadata": {},
   "outputs": [
    {
     "data": {
      "text/plain": [
       "array([[ 0.44901557,  0.6454717 ,  0.61786026],\n",
       "       [ 0.88439657, -0.22246637, -0.4103065 ]])"
      ]
     },
     "execution_count": 93,
     "metadata": {},
     "output_type": "execute_result"
    }
   ],
   "source": [
    "pca.components_ "
   ]
  },
  {
   "cell_type": "code",
   "execution_count": 75,
   "metadata": {},
   "outputs": [],
   "source": [
    "import pandas as pd\n",
    "url = \"https://archive.ics.uci.edu/ml/machine-learning-databases/iris/iris.data\"# load dataset into Pandas DataFrame\n",
    "df = pd.read_csv(url, names=['sepal length','sepal width','petal length','petal width','target'])"
   ]
  },
  {
   "cell_type": "code",
   "execution_count": 77,
   "metadata": {},
   "outputs": [],
   "source": [
    "features = ['sepal length', 'sepal width', 'petal length', 'petal width']# Separating out the features\n",
    "x = df.loc[:, features].values# Separating out the target\n",
    "y = df.loc[:,['target']].values# Standardizing the features\n",
    "x = StandardScaler().fit_transform(x)"
   ]
  },
  {
   "cell_type": "code",
   "execution_count": 82,
   "metadata": {},
   "outputs": [],
   "source": [
    "from sklearn.decomposition import PCA\n",
    "pca = PCA(n_components=2)\n",
    "principalComponents = pca.fit_transform(x)\n",
    "principalDf = pd.DataFrame(data = principalComponents\n",
    "             , columns = ['principal component 1', 'principal component 2'])\n",
    "finalDf = pd.concat([principalDf, df[['target']]], axis = 1)"
   ]
  },
  {
   "cell_type": "code",
   "execution_count": 83,
   "metadata": {},
   "outputs": [
    {
     "data": {
      "application/vnd.jupyter.widget-view+json": {
       "model_id": "21b60e16615d486890ef9fac436d2c4b",
       "version_major": 2,
       "version_minor": 0
      },
      "text/plain": [
       "Canvas(toolbar=Toolbar(toolitems=[('Home', 'Reset original view', 'home', 'home'), ('Back', 'Back to previous …"
      ]
     },
     "metadata": {},
     "output_type": "display_data"
    }
   ],
   "source": [
    "fig = plt.figure(figsize = (8,8))\n",
    "ax = fig.add_subplot(1,1,1) \n",
    "ax.set_xlabel('Principal Component 1', fontsize = 15)\n",
    "ax.set_ylabel('Principal Component 2', fontsize = 15)\n",
    "ax.set_title('2 component PCA', fontsize = 20)\n",
    "targets = ['Iris-setosa', 'Iris-versicolor', 'Iris-virginica']\n",
    "colors = ['r', 'g', 'b']\n",
    "for target, color in zip(targets,colors):\n",
    "    indicesToKeep = finalDf['target'] == target\n",
    "    ax.scatter(finalDf.loc[indicesToKeep, 'principal component 1']\n",
    "               , finalDf.loc[indicesToKeep, 'principal component 2']\n",
    "               , c = color\n",
    "               , s = 50)\n",
    "ax.legend(targets)\n",
    "ax.grid()"
   ]
  },
  {
   "cell_type": "code",
   "execution_count": 41,
   "metadata": {},
   "outputs": [
    {
     "name": "stderr",
     "output_type": "stream",
     "text": [
      "C:\\Users\\coren\\anaconda3\\envs\\cleanMsc\\lib\\site-packages\\pandas\\core\\series.py:726: RuntimeWarning: divide by zero encountered in log2\n",
      "  result = getattr(ufunc, method)(*inputs, **kwargs)\n"
     ]
    }
   ],
   "source": [
    "for plate in plates:\n",
    "    table = ind_plate_table[plate]\n",
    "    table['speed'] = table['tot_length_study'].diff(5)/table['time_since_begin'].diff(5)\n",
    "    table['density'] = table['tot_length_study']/(table['area_sep_comp']+1)\n",
    "    table['ring_density'] = table['tot_length_study'].diff(10)/(table['area_sep_comp'].diff(10)+1)\n",
    "    table['log_length_study'] = np.log2(table['tot_length_study'].astype(float))\n",
    "    table['local_growth_rate'] = table['log_length_study'].diff(5)/table['time_since_begin'].diff(5)*24"
   ]
  },
  {
   "cell_type": "code",
   "execution_count": 63,
   "metadata": {},
   "outputs": [
    {
     "data": {
      "text/plain": [
       "16"
      ]
     },
     "execution_count": 63,
     "metadata": {},
     "output_type": "execute_result"
    }
   ],
   "source": [
    "1/24**3/3/(np.pi*200**2)"
   ]
  },
  {
   "cell_type": "code",
   "execution_count": 46,
   "metadata": {},
   "outputs": [
    {
     "data": {
      "application/vnd.jupyter.widget-view+json": {
       "model_id": "2943ab04225b45819f8ca2052d5b450d",
       "version_major": 2,
       "version_minor": 0
      },
      "text/plain": [
       "Canvas(toolbar=Toolbar(toolitems=[('Home', 'Reset original view', 'home', 'home'), ('Back', 'Back to previous …"
      ]
     },
     "metadata": {},
     "output_type": "display_data"
    },
    {
     "data": {
      "text/plain": [
       "Text(0.04, 0.5, 'ring density (mm.mm-2)')"
      ]
     },
     "execution_count": 46,
     "metadata": {},
     "output_type": "execute_result"
    }
   ],
   "source": [
    "plt.close('all')\n",
    "x = 'time_since_begin'\n",
    "y = 'ring_density'\n",
    "logy =False\n",
    "ylim = (0,4000)\n",
    "# ylim = None\n",
    "kind = \"scatter\"\n",
    "# fig = plt.figure()\n",
    "# ax = plt.subplot(111)\n",
    "xlabel = 'time (h)'\n",
    "ylabel = 'ring density (mm.mm-2)'\n",
    "num_columns = 4\n",
    "fig, axs = plt.subplots((len(plates)//num_columns), num_columns)\n",
    "for i,plate in enumerate(plates):\n",
    "    table = ind_plate_table[plate]\n",
    "#     ylim = (0,min(np.max(table['speed']),60000))\n",
    "    ax = axs[i//num_columns,i%num_columns]\n",
    "    in_study = table.loc[table['out_study']==0]\n",
    "    out_study = table.loc[table['out_study']==1]\n",
    "    if len(in_study)>0:\n",
    "        in_study.plot(x,y, ax = ax,label = plate,logy=logy,ylim=ylim,kind = kind)\n",
    "        #,)\n",
    "    if len(out_study)>0:\n",
    "        out_study.plot(x,y, ax = ax,title = plate,color = 'red',logy=logy,ylim = ylim,kind=kind)\n",
    "    ax.set_xlabel(None,fontsize=5)\n",
    "    ax.set_ylabel(None,fontsize=5)\n",
    "\n",
    "# plt.tick_params(labelcolor=\"none\", bottom=False, left=False)\n",
    "   \n",
    "fig.text(0.5, 0.004, xlabel, ha='center',fontdict = {'size' : 20} )\n",
    "fig.text(0.04, 0.5, ylabel, va='center', rotation='vertical',fontdict = {'size' : 20})\n",
    "\n",
    "\n",
    "# plt.xlabel(\"Common X-Axis\")\n",
    "\n",
    "# plt.ylabel(\"Common Y-Axis\")\n",
    "# plt.tight_layout(pad=0.)"
   ]
  }
 ],
 "metadata": {
  "kernelspec": {
   "display_name": "Python 3",
   "language": "python",
   "name": "python3"
  },
  "language_info": {
   "codemirror_mode": {
    "name": "ipython",
    "version": 3
   },
   "file_extension": ".py",
   "mimetype": "text/x-python",
   "name": "python",
   "nbconvert_exporter": "python",
   "pygments_lexer": "ipython3",
   "version": "3.7.9"
  }
 },
 "nbformat": 4,
 "nbformat_minor": 4
}
