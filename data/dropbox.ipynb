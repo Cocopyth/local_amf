{
 "cells": [
  {
   "cell_type": "code",
   "execution_count": 1,
   "metadata": {},
   "outputs": [
    {
     "name": "stdout",
     "output_type": "stream",
     "text": [
      "Collecting dropbox\n",
      "  Downloading dropbox-11.25.0-py3-none-any.whl (580 kB)\n",
      "Collecting stone>=2.*\n",
      "  Downloading stone-3.2.1-py3-none-any.whl (160 kB)\n",
      "Requirement already satisfied: six>=1.12.0 in c:\\users\\coren\\anaconda3\\envs\\cleanmsc\\lib\\site-packages (from dropbox) (1.15.0)\n",
      "Requirement already satisfied: requests>=2.16.2 in c:\\users\\coren\\anaconda3\\envs\\cleanmsc\\lib\\site-packages (from dropbox) (2.24.0)\n",
      "Collecting ply>=3.4\n",
      "  Downloading ply-3.11-py2.py3-none-any.whl (49 kB)\n",
      "Requirement already satisfied: idna<3,>=2.5 in c:\\users\\coren\\anaconda3\\envs\\cleanmsc\\lib\\site-packages (from requests>=2.16.2->dropbox) (2.10)\n",
      "Requirement already satisfied: chardet<4,>=3.0.2 in c:\\users\\coren\\anaconda3\\envs\\cleanmsc\\lib\\site-packages (from requests>=2.16.2->dropbox) (3.0.4)\n",
      "Requirement already satisfied: urllib3!=1.25.0,!=1.25.1,<1.26,>=1.21.1 in c:\\users\\coren\\anaconda3\\envs\\cleanmsc\\lib\\site-packages (from requests>=2.16.2->dropbox) (1.25.10)\n",
      "Requirement already satisfied: certifi>=2017.4.17 in c:\\users\\coren\\anaconda3\\envs\\cleanmsc\\lib\\site-packages (from requests>=2.16.2->dropbox) (2020.12.5)\n",
      "Installing collected packages: ply, stone, dropbox\n",
      "Successfully installed dropbox-11.25.0 ply-3.11 stone-3.2.1\n"
     ]
    }
   ],
   "source": [
    "!pip install dropbox"
   ]
  },
  {
   "cell_type": "code",
   "execution_count": 2,
   "metadata": {},
   "outputs": [],
   "source": [
    "import dropbox"
   ]
  },
  {
   "cell_type": "code",
   "execution_count": 31,
   "metadata": {},
   "outputs": [
    {
     "data": {
      "text/plain": [
       "FullAccount(account_id='dbid:AADfTRKm_bsg5hFIUdQahm2eOX1-6jwZRWQ', account_type=AccountType('pro', None), country='NL', disabled=False, email='corentin@bisot.com', email_verified=True, is_paired=False, locale='en-GB', name=Name(abbreviated_name='CB', display_name='Corentin B', familiar_name='Corentin', given_name='Corentin', surname='B'), profile_photo_url=NOT_SET, referral_link='https://www.dropbox.com/referrals/AACV7IMdIBtX1lgvutyjSmWvu_i5tjCk3eU?src=app9-2529073', root_info=UserRootInfo(home_namespace_id='7231413584', root_namespace_id='7231413584'), team=NOT_SET, team_member_id=NOT_SET)"
      ]
     },
     "execution_count": 31,
     "metadata": {},
     "output_type": "execute_result"
    }
   ],
   "source": [
    "API = 'sl.A-OcYaJUcYh8rRsygNkvgCjLKL9bHRfp8vJogrZdbGZx9qRYFO4WyKO6oM6P_pdpQCsSb9ZUIq0OgkNs18Fxi7V2nJU2Pap0RSrP9UcY7_c6yUxPK-O7ngz-8dWLdSybSTLYxwhBw6Ws'\n",
    "dbx = dropbox.Dropbox(API)\n",
    "dbx.users_get_current_account()"
   ]
  },
  {
   "cell_type": "code",
   "execution_count": 35,
   "metadata": {},
   "outputs": [
    {
     "name": "stdout",
     "output_type": "stream",
     "text": [
      "data\n",
      "story.txt\n"
     ]
    }
   ],
   "source": [
    "for entry in dbx.files_list_folder('').entries:\n",
    "    print(entry.name)"
   ]
  },
  {
   "cell_type": "code",
   "execution_count": 33,
   "metadata": {},
   "outputs": [
    {
     "data": {
      "text/plain": [
       "FileMetadata(client_modified=datetime.datetime(2021, 12, 15, 10, 29, 50), content_hash='04586e2d12c5e5895217059320cd1a66a333594aa84fd3da25bcd3f4e9322ea5', export_info=NOT_SET, file_lock_info=NOT_SET, has_explicit_shared_members=NOT_SET, id='id:mcSwhUrTbbAAAAAAAAACZQ', is_downloadable=True, media_info=NOT_SET, name='story.txt', parent_shared_folder_id=NOT_SET, path_display='/story.txt', path_lower='/story.txt', property_groups=NOT_SET, rev='5d32cc92ce47b8b8306a1', server_modified=datetime.datetime(2021, 12, 15, 10, 29, 50), sharing_info=NOT_SET, size=14627, symlink_info=NOT_SET)"
      ]
     },
     "execution_count": 33,
     "metadata": {},
     "output_type": "execute_result"
    }
   ],
   "source": [
    "data = \"Potential headline: Game 5 a nail-biter as Warriors inch out Cavs\"\n",
    "dbx.files_upload(open('TemperatureHumidityPRINCE_20210115_1210.txt','rb').read(), '/story.txt')"
   ]
  },
  {
   "cell_type": "code",
   "execution_count": 38,
   "metadata": {},
   "outputs": [],
   "source": [
    "md, res = dbx.files_download('/story.txt')\n",
    "data = res.content"
   ]
  },
  {
   "cell_type": "code",
   "execution_count": 41,
   "metadata": {},
   "outputs": [
    {
     "data": {
      "text/plain": [
       "14627"
      ]
     },
     "execution_count": 41,
     "metadata": {},
     "output_type": "execute_result"
    }
   ],
   "source": [
    "open('TemperatureHumidityPRINCE_20210115_1210_cop.txt','wb').write(data)"
   ]
  }
 ],
 "metadata": {
  "kernelspec": {
   "display_name": "Python 3",
   "language": "python",
   "name": "python3"
  },
  "language_info": {
   "codemirror_mode": {
    "name": "ipython",
    "version": 3
   },
   "file_extension": ".py",
   "mimetype": "text/x-python",
   "name": "python",
   "nbconvert_exporter": "python",
   "pygments_lexer": "ipython3",
   "version": "3.8.5"
  }
 },
 "nbformat": 4,
 "nbformat_minor": 4
}
