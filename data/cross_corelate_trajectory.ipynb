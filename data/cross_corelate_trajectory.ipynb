{
 "cells": [
  {
   "cell_type": "code",
   "execution_count": 1,
   "metadata": {},
   "outputs": [
    {
     "ename": "ModuleNotFoundError",
     "evalue": "No module named 'pandas'",
     "output_type": "error",
     "traceback": [
      "\u001b[1;31m---------------------------------------------------------------------------\u001b[0m",
      "\u001b[1;31mModuleNotFoundError\u001b[0m                       Traceback (most recent call last)",
      "\u001b[1;32m~\\AppData\\Local\\Temp/ipykernel_25996/4240637856.py\u001b[0m in \u001b[0;36m<module>\u001b[1;34m\u001b[0m\n\u001b[1;32m----> 1\u001b[1;33m \u001b[1;32mimport\u001b[0m \u001b[0mpandas\u001b[0m \u001b[1;32mas\u001b[0m \u001b[0mpd\u001b[0m\u001b[1;33m\u001b[0m\u001b[1;33m\u001b[0m\u001b[0m\n\u001b[0m\u001b[0;32m      2\u001b[0m \u001b[1;32mimport\u001b[0m \u001b[0mmatplotlib\u001b[0m\u001b[1;33m.\u001b[0m\u001b[0mpyplot\u001b[0m \u001b[1;32mas\u001b[0m \u001b[0mplt\u001b[0m\u001b[1;33m\u001b[0m\u001b[1;33m\u001b[0m\u001b[0m\n\u001b[0;32m      3\u001b[0m \u001b[1;33m\u001b[0m\u001b[0m\n\u001b[0;32m      4\u001b[0m \u001b[0mget_ipython\u001b[0m\u001b[1;33m(\u001b[0m\u001b[1;33m)\u001b[0m\u001b[1;33m.\u001b[0m\u001b[0mrun_line_magic\u001b[0m\u001b[1;33m(\u001b[0m\u001b[1;34m'matplotlib'\u001b[0m\u001b[1;33m,\u001b[0m \u001b[1;34m'widget'\u001b[0m\u001b[1;33m)\u001b[0m\u001b[1;33m\u001b[0m\u001b[1;33m\u001b[0m\u001b[0m\n\u001b[0;32m      5\u001b[0m \u001b[0mplt\u001b[0m\u001b[1;33m.\u001b[0m\u001b[0mclose\u001b[0m\u001b[1;33m(\u001b[0m\u001b[1;34m'all'\u001b[0m\u001b[1;33m)\u001b[0m\u001b[1;33m\u001b[0m\u001b[1;33m\u001b[0m\u001b[0m\n",
      "\u001b[1;31mModuleNotFoundError\u001b[0m: No module named 'pandas'"
     ]
    }
   ],
   "source": [
    "import pandas as pd\n",
    "import matplotlib.pyplot as plt\n",
    "\n",
    "%matplotlib widget\n",
    "plt.close('all')\n",
    "import numpy as np\n",
    "from random import choice\n",
    "import os\n",
    "import scipy as sp\n",
    "import scipy.fftpack\n",
    "from scipy.interpolate import interp1d\n",
    "from sklearn.linear_model import LinearRegression\n",
    "from scipy.signal import savgol_filter\n"
   ]
  },
  {
   "cell_type": "code",
   "execution_count": 13,
   "metadata": {},
   "outputs": [
    {
     "data": {
      "text/plain": [
       "(1000.0, 1800.0)"
      ]
     },
     "execution_count": 13,
     "metadata": {},
     "output_type": "execute_result"
    }
   ],
   "source": [
    "import numpy as np\n",
    "D = 1000\n",
    "t = 1000\n",
    "a = 5\n",
    "L = \n",
    "np.sqrt(D*t),1/2*np.sqrt(D/t)*3600"
   ]
  },
  {
   "cell_type": "code",
   "execution_count": 6,
   "metadata": {},
   "outputs": [
    {
     "data": {
      "text/plain": [
       "150.0"
      ]
     },
     "execution_count": 6,
     "metadata": {},
     "output_type": "execute_result"
    }
   ],
   "source": [
    "a = 5 #um\n",
    "D = 1000 #um**2.s-1\n",
    "L = 1000 #um\n",
    "h = 2700 #um\n",
    "L**2*h/(a*D)/3600"
   ]
  },
  {
   "cell_type": "code",
   "execution_count": 2,
   "metadata": {},
   "outputs": [],
   "source": [
    "time_plate_info = pd.read_pickle(\"time_plate_infos.pick\")\n",
    "global_hypha_info = pd.read_pickle(\"global_hypha_info.pick\")\n",
    "time_hypha_info = pd.read_pickle(\"time_hypha_infos.pick\")"
   ]
  },
  {
   "cell_type": "code",
   "execution_count": 19,
   "metadata": {},
   "outputs": [],
   "source": [
    "global_hypha_info['lapse']=global_hypha_info['time_stop_growth']-global_hypha_info['time_init_growth']\n",
    "time_hypha_info['distance_final_pos_smooth'] = time_hypha_info['distance_final_pos'].rolling(window = 5).mean()\n",
    "time_hypha_info['new_branch'] = time_hypha_info.apply(get_branch, axis=1)"
   ]
  },
  {
   "cell_type": "code",
   "execution_count": 13,
   "metadata": {},
   "outputs": [],
   "source": [
    "def get_branch(row):\n",
    "    if row['Plate']==94:\n",
    "        hyph = row['end']\n",
    "        name = f'branches/ts_{hyph}_auto.npy'\n",
    "        if not os.path.isfile(name):\n",
    "            return(None)\n",
    "        else:\n",
    "            t_real = np.load(name)\n",
    "            return(row['time_since_emergence'] in t_real)\n",
    "def autocorr(x):\n",
    "    result = np.correlate(x, x, mode='full')\n",
    "    return result[result.size // 2:]"
   ]
  },
  {
   "cell_type": "code",
   "execution_count": null,
   "metadata": {},
   "outputs": [],
   "source": [
    "actual_list_hyph = list(np.load('actual_list_hyph.npy'))\n",
    "actual_list_hyph.remove(57138)\n",
    "for hyph in actual_list_hyph:\n",
    "    t_real = np.load(f'branches/ts_{hyph}_auto.npy')"
   ]
  },
  {
   "cell_type": "code",
   "execution_count": 213,
   "metadata": {},
   "outputs": [],
   "source": [
    "plate = 792\n",
    "select_time_plate = time_plate_info.loc[time_plate_info['Plate']==plate]\n",
    "last_time = np.max(select_time_plate.loc[select_time_plate['out_study']==0]['time_since_begin'])\n",
    "select_time = time_hypha_info.loc[time_hypha_info['Plate']==plate]\n",
    "select_global = global_hypha_info.loc[global_hypha_info['Plate']==plate]\n",
    "select_global = select_global.loc[select_global['lapse']>40]\n",
    "select_global = select_global.loc[select_global['mean_speed']>60]\n",
    "\n",
    "hyphae_interest= select_global['hypha'].unique()\n",
    "select_time = select_time.loc[select_time['end'].isin(hyphae_interest)]\n",
    "select_time = select_time.loc[select_time['has_reached_final_pos']=='False']\n",
    "select_time = select_time.loc[select_time['speed'].between(100,400)]\n",
    "# select_time = select_time.loc[select_time['distance_final_pos']>100]\n",
    "select_time = select_time.loc[select_time['in_ROI']=='True']\n",
    "# select_time = select_time.loc[select_time['time_since_begin_exp']<=last_time]\n",
    "\n",
    "hyphae_interest = select_time['end'].unique()"
   ]
  },
  {
   "cell_type": "code",
   "execution_count": 73,
   "metadata": {},
   "outputs": [
    {
     "data": {
      "text/plain": [
       "array([950, 1434, 2060, 2701, 3356, 3382, 3597, 3984, 4467, 4654, 5343,\n",
       "       6440, 6671, 7375, 5996, 8107, 8667, 9238, 9514, 10841, 11502,\n",
       "       11511, 12008, 12887, 13203, 13601, 15136, 15611, 16525, 18032,\n",
       "       18318, 18324, 19063, 19244, 22589, 24276, 24694, 26023, 26197,\n",
       "       28210, 30088, 31084, 33022, 42497, 52186, 69585, 77733, 99185,\n",
       "       100086, 126049, 173722, 211522, 204763], dtype=object)"
      ]
     },
     "execution_count": 73,
     "metadata": {},
     "output_type": "execute_result"
    }
   ],
   "source": [
    "hyphae_interest"
   ]
  },
  {
   "cell_type": "code",
   "execution_count": 258,
   "metadata": {},
   "outputs": [],
   "source": [
    "tot = 1\n",
    "hyph_plot = [choice(hyphae_interest) for i in range(tot)]\n",
    "hyph = hyph_plot[0]\n",
    "# hyph = 139\n",
    "to_plot = select_time.loc[(select_time['end']==hyph)]\n",
    "# av_lapse = int(np.mean(to_plot['timedelta'])*15)\n",
    "av_lapse = 49\n",
    "f = interp1d(to_plot['time_since_begin_exp'], to_plot['speed'])\n",
    "deb = np.min(to_plot['time_since_begin_exp'])\n",
    "end = np.max(to_plot['time_since_begin_exp'])\n",
    "frequ = 1\n",
    "x = np.linspace(deb,end,int((end-deb)*frequ)+1)\n",
    "resampled = pd.DataFrame({'time':x,'speed':f(x)})\n",
    "reg = LinearRegression().fit(x.reshape((-1, 1)), f(x))\n",
    "resampled['speed_smooth']=resampled['speed'].rolling(30,center= True).mean()\n",
    "resampled['speed_smooth2']= savgol_filter(resampled['speed'], av_lapse*frequ, 3)\n",
    "\n",
    "resampled['speed_residual'] = resampled['speed']-reg.predict(x.reshape((-1, 1)))\n",
    "resampled['speed_residual2'] = resampled['speed']-resampled['speed_smooth']\n",
    "resampled['speed_residual3'] = resampled['speed']-resampled['speed_smooth2']\n",
    "\n",
    "resampled['speed_residual_ZMUV'] = (resampled['speed_residual']-np.mean(resampled['speed_residual']))/np.std(resampled['speed_residual'])\n",
    "resampled['speed_residual_ZMUV2'] = (resampled['speed_residual2']-np.mean(resampled['speed_residual2']))/np.std(resampled['speed_residual2'])\n",
    "resampled['speed_residual_ZMUV3'] = (resampled['speed_residual3']-np.mean(resampled['speed_residual3']))/np.std(resampled['speed_residual3'])"
   ]
  },
  {
   "cell_type": "code",
   "execution_count": 259,
   "metadata": {},
   "outputs": [
    {
     "data": {
      "application/vnd.jupyter.widget-view+json": {
       "model_id": "c558999e8b51420e88bee9aedaf571c8",
       "version_major": 2,
       "version_minor": 0
      },
      "text/plain": [
       "Canvas(toolbar=Toolbar(toolitems=[('Home', 'Reset original view', 'home', 'home'), ('Back', 'Back to previous …"
      ]
     },
     "metadata": {},
     "output_type": "display_data"
    },
    {
     "data": {
      "text/plain": [
       "Text(0, 0.5, 'speed ($\\\\mu  m.h^{-1})$')"
      ]
     },
     "execution_count": 259,
     "metadata": {},
     "output_type": "execute_result"
    }
   ],
   "source": [
    "fig, ax = plt.subplots(1, 1, figsize=(8, 4))\n",
    "# ax.plot(x,resampled['speed'])\n",
    "# ax.plot(x,reg.predict(x.reshape((-1, 1))))\n",
    "# ax.plot(x,resampled['speed_residual_ZMUV3'])\n",
    "ax.plot(x,resampled['speed'])\n",
    "ax.plot(x,resampled['speed_smooth2'])\n",
    "# ax.plot(x,yhat)\n",
    "ax.set_xlabel('time (h)')\n",
    "ax.set_ylabel('speed ($\\mu  m.h^{-1})$')\n"
   ]
  },
  {
   "cell_type": "code",
   "execution_count": 238,
   "metadata": {},
   "outputs": [
    {
     "data": {
      "application/vnd.jupyter.widget-view+json": {
       "model_id": "eb772be114d3492094260f2841b236c8",
       "version_major": 2,
       "version_minor": 0
      },
      "text/plain": [
       "Canvas(toolbar=Toolbar(toolitems=[('Home', 'Reset original view', 'home', 'home'), ('Back', 'Back to previous …"
      ]
     },
     "metadata": {},
     "output_type": "display_data"
    },
    {
     "data": {
      "text/plain": [
       "[<matplotlib.lines.Line2D at 0x1efccc2b988>]"
      ]
     },
     "execution_count": 238,
     "metadata": {},
     "output_type": "execute_result"
    }
   ],
   "source": [
    "fig, ax = plt.subplots(1, 1, figsize=(8, 4))\n",
    "# ax.plot(x,resampled['speed'])\n",
    "# ax.plot(x,reg.predict(x.reshape((-1, 1))))\n",
    "ax.plot(x,resampled['speed_residual_ZMUV'])\n"
   ]
  },
  {
   "cell_type": "code",
   "execution_count": 253,
   "metadata": {},
   "outputs": [
    {
     "data": {
      "application/vnd.jupyter.widget-view+json": {
       "model_id": "6f78595d1919444aa63efbc399cb7092",
       "version_major": 2,
       "version_minor": 0
      },
      "text/plain": [
       "Canvas(toolbar=Toolbar(toolitems=[('Home', 'Reset original view', 'home', 'home'), ('Back', 'Back to previous …"
      ]
     },
     "metadata": {},
     "output_type": "display_data"
    },
    {
     "data": {
      "text/plain": [
       "Text(0.5, 0, 'lag (h)')"
      ]
     },
     "execution_count": 253,
     "metadata": {},
     "output_type": "execute_result"
    }
   ],
   "source": [
    "plt.close(\"all\")\n",
    "fig, ax = plt.subplots(1, 1, figsize=(8, 4))\n",
    "\n",
    "s = resampled[~np.isnan(resampled['speed_residual_ZMUV'].astype(np.float))]['speed_residual_ZMUV']\n",
    "autoc = autocorr(s)\n",
    "autoc = autoc/autoc.max()\n",
    "ax.plot(autoc,label='linear regression')\n",
    "\n",
    "s = resampled[~np.isnan(resampled['speed_residual_ZMUV3'].astype(np.float))]['speed_residual_ZMUV3']\n",
    "autoc = autocorr(s)\n",
    "autoc = autoc/autoc.max()\n",
    "ax.plot(autoc, label = 'savgol filter')\n",
    "ax.set_xlabel('lag (h)')\n",
    "# plt.legend()"
   ]
  },
  {
   "cell_type": "code",
   "execution_count": 236,
   "metadata": {},
   "outputs": [
    {
     "data": {
      "application/vnd.jupyter.widget-view+json": {
       "model_id": "e1cd5d5af0444f678f525eb5071c6622",
       "version_major": 2,
       "version_minor": 0
      },
      "text/plain": [
       "Canvas(toolbar=Toolbar(toolitems=[('Home', 'Reset original view', 'home', 'home'), ('Back', 'Back to previous …"
      ]
     },
     "metadata": {},
     "output_type": "display_data"
    },
    {
     "data": {
      "text/plain": [
       "Text(0, 0.5, 'PSD (dB)')"
      ]
     },
     "execution_count": 236,
     "metadata": {},
     "output_type": "execute_result"
    }
   ],
   "source": [
    "speed_fft = sp.fftpack.fft(s)\n",
    "speed_psd = np.abs(speed_fft) ** 2\n",
    "fftfreq = sp.fftpack.fftfreq(len(speed_psd))\n",
    "i = fftfreq > 0\n",
    "fig, ax = plt.subplots(1, 1, figsize=(8, 4))\n",
    "ax.plot(fftfreq[i], 10 * np.log10(speed_psd[i]))\n",
    "ax.set_xlabel('Frequency')\n",
    "ax.set_ylabel('PSD (dB)')"
   ]
  },
  {
   "cell_type": "code",
   "execution_count": 240,
   "metadata": {},
   "outputs": [
    {
     "data": {
      "application/vnd.jupyter.widget-view+json": {
       "model_id": "dedeae3f3692461982a8db97040246ea",
       "version_major": 2,
       "version_minor": 0
      },
      "text/plain": [
       "Canvas(toolbar=Toolbar(toolitems=[('Home', 'Reset original view', 'home', 'home'), ('Back', 'Back to previous …"
      ]
     },
     "metadata": {},
     "output_type": "display_data"
    },
    {
     "data": {
      "text/plain": [
       "Text(0, 0.5, 'PSD')"
      ]
     },
     "execution_count": 240,
     "metadata": {},
     "output_type": "execute_result"
    }
   ],
   "source": [
    "speed_fft = sp.fftpack.fft(s)\n",
    "speed_psd = np.abs(speed_fft) ** 2\n",
    "fftfreq = sp.fftpack.fftfreq(len(speed_psd))\n",
    "i = fftfreq > 0\n",
    "fig, ax = plt.subplots(1, 1, figsize=(8, 4))\n",
    "ax.plot(24*frequ*fftfreq[i], speed_psd[i])\n",
    "ax.set_xlabel('Frequency (day-1)')\n",
    "ax.set_ylabel('PSD')"
   ]
  },
  {
   "cell_type": "code",
   "execution_count": 208,
   "metadata": {
    "collapsed": true,
    "jupyter": {
     "outputs_hidden": true
    }
   },
   "outputs": [
    {
     "data": {
      "application/vnd.jupyter.widget-view+json": {
       "model_id": "ca409d60ceea4c04b75111f315df6b5b",
       "version_major": 2,
       "version_minor": 0
      },
      "text/plain": [
       "Canvas(toolbar=Toolbar(toolitems=[('Home', 'Reset original view', 'home', 'home'), ('Back', 'Back to previous …"
      ]
     },
     "metadata": {},
     "output_type": "display_data"
    },
    {
     "name": "stdout",
     "output_type": "stream",
     "text": [
      "1\n",
      "19\n",
      "56\n",
      "139\n",
      "164\n",
      "1663\n",
      "5994\n",
      "6178\n",
      "6992\n",
      "7424\n",
      "9150\n",
      "9418\n",
      "9612\n",
      "10389\n",
      "10617\n",
      "13033\n",
      "15235\n",
      "18054\n",
      "18897\n",
      "22207\n",
      "24489\n",
      "27816\n",
      "31802\n",
      "37105\n"
     ]
    }
   ],
   "source": [
    "average_lapse = 49\n",
    "autocor = pd.DataFrame(columns = ['lag','amp','hyph'])\n",
    "fig, ax = plt.subplots(1, 1, figsize=(8, 4))\n",
    "\n",
    "for hyph in hyphae_interest:\n",
    "# for hyph in actual_list_hyph:\n",
    "    print(hyph)\n",
    "    to_plot = select_time.loc[select_time['end']==hyph]\n",
    "    if len(to_plot)>20:\n",
    "        f = interp1d(to_plot['time_since_begin_exp'], to_plot['speed'])\n",
    "        deb = np.min(to_plot['time_since_begin_exp'])\n",
    "        end = np.max(to_plot['time_since_begin_exp'])\n",
    "        frequ = 1\n",
    "        x = np.linspace(deb,deb+int((end-deb)*frequ),int((end-deb)*frequ)+1)\n",
    "        resampled = pd.DataFrame({'time':x,'speed':f(x)})\n",
    "    #     reg = LinearRegression().fit(x.reshape((-1, 1)), f(x))\n",
    "    #     resampled['speed_smooth']=resampled['speed'].rolling(average_lapse,min_periods=average_lapse//2,center=True).mean()\n",
    "        if len(resampled)>average_lapse+1:\n",
    "            resampled['speed_smooth2']= savgol_filter(resampled['speed'], average_lapse, 3)\n",
    "\n",
    "        #     resampled['speed_residual'] = resampled['speed']-reg.predict(x.reshape((-1, 1)))\n",
    "        #     resampled['speed_residual2'] = resampled['speed']-resampled['speed_smooth']\n",
    "        #     resampled['speed_residual_ZMUV'] = (resampled['speed_residual']-np.mean(resampled['speed_residual']))/np.std(resampled['speed_residual'])\n",
    "            resampled['speed_residual3'] = resampled['speed']-resampled['speed_smooth2']\n",
    "            resampled['speed_residual_ZMUV3'] = (resampled['speed_residual3']-np.mean(resampled['speed_residual3']))/np.std(resampled['speed_residual3'])\n",
    "            s = resampled[~np.isnan(resampled['speed_residual_ZMUV3'].astype(np.float))]['speed_residual_ZMUV3']\n",
    "            s = s[:80]\n",
    "            autoc = autocorr(s)\n",
    "            autoc = autoc/autoc.max()\n",
    "            ax.plot(autoc)\n",
    "            ax.set_xlabel('lag (h)')\n",
    "            data = [{'lag' : lag,'amp' : auto,'hyph' : hyph} for lag,auto in enumerate(autoc)]\n",
    "            autocor=autocor.append(data,ignore_index=True)"
   ]
  },
  {
   "cell_type": "code",
   "execution_count": 209,
   "metadata": {},
   "outputs": [
    {
     "data": {
      "application/vnd.jupyter.widget-view+json": {
       "model_id": "6893c3f297e34b509c6e955c32173bb9",
       "version_major": 2,
       "version_minor": 0
      },
      "text/plain": [
       "Canvas(toolbar=Toolbar(toolitems=[('Home', 'Reset original view', 'home', 'home'), ('Back', 'Back to previous …"
      ]
     },
     "metadata": {},
     "output_type": "display_data"
    },
    {
     "data": {
      "text/plain": [
       "Text(0, 0.5, 'autocor')"
      ]
     },
     "execution_count": 209,
     "metadata": {},
     "output_type": "execute_result"
    }
   ],
   "source": [
    "df = pd.concat([autocor.groupby('lag')['amp'].mean()], axis=1).copy()\n",
    "df = df.sort_index()\n",
    "fig, ax = plt.subplots(1, 1, figsize=(8, 4))\n",
    "ax.plot(df.index,df['amp'])\n",
    "# ax.set_xlim(2, 20)\n",
    "ax.set_xlabel('Period (hour)')\n",
    "ax.set_ylabel('autocor')"
   ]
  },
  {
   "cell_type": "code",
   "execution_count": 248,
   "metadata": {},
   "outputs": [],
   "source": [
    "fourrier = pd.DataFrame(columns = ['frequ','amp','hyph'])\n",
    "average_lapse = 27\n",
    "for average_lapse in [45]:\n",
    "#     for hyph in actual_list_hyph:\n",
    "    for hyph in hyphae_interest:\n",
    "        to_plot = select_time.loc[select_time['end']==hyph]\n",
    "        T = 71\n",
    "        if len(to_plot)>T//4:\n",
    "            f = interp1d(to_plot['time_since_begin_exp'], to_plot['speed'])\n",
    "            deb = np.min(to_plot['time_since_begin_exp'])\n",
    "            end = np.max(to_plot['time_since_begin_exp'])\n",
    "            if end-deb>T:\n",
    "                frequ = 1\n",
    "            #     x = np.linspace(deb,deb+int((end-deb)*frequ),int((end-deb)*frequ)+1)\n",
    "                x = np.linspace(deb,deb+T,T+1)\n",
    "                resampled = pd.DataFrame({'time':x,'speed':f(x)})\n",
    "                reg = LinearRegression().fit(x.reshape((-1, 1)), f(x))\n",
    "                resampled['speed_smooth']=resampled['speed'].rolling(average_lapse,min_periods=average_lapse//2,center=True).mean()\n",
    "                resampled['speed_smooth2']= savgol_filter(resampled['speed'], average_lapse, 3)\n",
    "\n",
    "                resampled['speed_residual'] = resampled['speed']-reg.predict(x.reshape((-1, 1)))\n",
    "                resampled['speed_residual2'] = resampled['speed']-resampled['speed_smooth']\n",
    "                resampled['speed_residual3'] = resampled['speed']-resampled['speed_smooth2']\n",
    "                resampled['speed_residual_ZMUV'] = (resampled['speed_residual']-np.mean(resampled['speed_residual']))/np.std(resampled['speed_residual'])\n",
    "                resampled['speed_residual_ZMUV2'] = (resampled['speed_residual2']-np.mean(resampled['speed_residual2']))/np.std(resampled['speed_residual2'])\n",
    "                resampled['speed_residual_ZMUV3'] = (resampled['speed_residual3']-np.mean(resampled['speed_residual3']))/np.std(resampled['speed_residual3'])\n",
    "                if len(resampled)>average_lapse:\n",
    "                    s = resampled[~np.isnan(resampled['speed_residual_ZMUV3'].astype(np.float))]['speed_residual_ZMUV3']\n",
    "                    if len(s)==T+1:\n",
    "                        speed_fft = sp.fftpack.fft(s)\n",
    "                        speed_psd = np.abs(speed_fft) ** 2\n",
    "                        fftfreq = sp.fftpack.fftfreq(len(speed_psd))\n",
    "                        i = fftfreq > 0\n",
    "                        data = [{'frequ' : fftfreq[j]*frequ,'amp' : speed_psd[j],'hyph' : hyph} for j,v in enumerate(i) if v]\n",
    "                        fourrier=fourrier.append(data,ignore_index=True)"
   ]
  },
  {
   "cell_type": "code",
   "execution_count": 249,
   "metadata": {},
   "outputs": [],
   "source": [
    "df = pd.concat([fourrier.groupby('frequ')['amp'].mean()], axis=1).copy()\n",
    "df = df.sort_index()\n",
    "df['amp_smooth'] = df['amp'].rolling(window=1,min_periods = 1, center=True).mean()"
   ]
  },
  {
   "cell_type": "code",
   "execution_count": 250,
   "metadata": {},
   "outputs": [
    {
     "data": {
      "application/vnd.jupyter.widget-view+json": {
       "model_id": "0161022bb39b47afb0ea8b1e7498919d",
       "version_major": 2,
       "version_minor": 0
      },
      "text/plain": [
       "Canvas(toolbar=Toolbar(toolitems=[('Home', 'Reset original view', 'home', 'home'), ('Back', 'Back to previous …"
      ]
     },
     "metadata": {},
     "output_type": "display_data"
    },
    {
     "data": {
      "text/plain": [
       "Text(0, 0.5, 'PSD')"
      ]
     },
     "execution_count": 250,
     "metadata": {},
     "output_type": "execute_result"
    }
   ],
   "source": [
    "fig, ax = plt.subplots(1, 1, figsize=(8, 4))\n",
    "ax.plot(24*df.index,df['amp'])\n",
    "# ax.set_xlim(0, 1)\n",
    "ax.set_xlabel('Frequency (day-1)')\n",
    "ax.set_ylabel('PSD')"
   ]
  },
  {
   "cell_type": "code",
   "execution_count": 1119,
   "metadata": {},
   "outputs": [
    {
     "data": {
      "application/vnd.jupyter.widget-view+json": {
       "model_id": "6696701670a04cf4bcd0ea73412afed4",
       "version_major": 2,
       "version_minor": 0
      },
      "text/plain": [
       "Canvas(toolbar=Toolbar(toolitems=[('Home', 'Reset original view', 'home', 'home'), ('Back', 'Back to previous …"
      ]
     },
     "metadata": {},
     "output_type": "display_data"
    },
    {
     "data": {
      "text/plain": [
       "Text(0, 0.5, 'PSD (dB)')"
      ]
     },
     "execution_count": 1119,
     "metadata": {},
     "output_type": "execute_result"
    }
   ],
   "source": [
    "fig, ax = plt.subplots(1, 1, figsize=(8, 4))\n",
    "ax.plot(df.index,10*np.log10(df['amp']))\n",
    "# ax.set_xlim(0, 1)\n",
    "ax.set_xlabel('Frequency (h-1)')\n",
    "ax.set_ylabel('PSD (dB)')"
   ]
  },
  {
   "cell_type": "code",
   "execution_count": 788,
   "metadata": {},
   "outputs": [
    {
     "data": {
      "application/vnd.jupyter.widget-view+json": {
       "model_id": "2ccaf4a851624fc99bbd402594df33b5",
       "version_major": 2,
       "version_minor": 0
      },
      "text/plain": [
       "Canvas(toolbar=Toolbar(toolitems=[('Home', 'Reset original view', 'home', 'home'), ('Back', 'Back to previous …"
      ]
     },
     "metadata": {},
     "output_type": "display_data"
    },
    {
     "data": {
      "text/plain": [
       "Text(0, 0.5, 'PSD (dB)')"
      ]
     },
     "execution_count": 788,
     "metadata": {},
     "output_type": "execute_result"
    }
   ],
   "source": [
    "fig, ax = plt.subplots(1, 1, figsize=(8, 4))\n",
    "ax.plot(1/df.index,10*np.log(df['amp_smooth']))\n",
    "# ax.set_xlim(2, 20)\n",
    "ax.set_xlabel('Period (hour)')\n",
    "ax.set_ylabel('PSD (dB)')"
   ]
  },
  {
   "cell_type": "code",
   "execution_count": 741,
   "metadata": {},
   "outputs": [],
   "source": [
    "num = 40\n",
    "window = np.linspace(0,0.5,num)\n",
    "means = []\n",
    "for i in range(num-1):\n",
    "    begin,end = window[i],window[i+1]\n",
    "    select = fourrier.loc[fourrier['frequ'].between(begin,end)]\n",
    "    means.append(10*np.log10(np.mean(select['amp'])))"
   ]
  },
  {
   "cell_type": "code",
   "execution_count": 743,
   "metadata": {},
   "outputs": [
    {
     "data": {
      "application/vnd.jupyter.widget-view+json": {
       "model_id": "85dfe4ddd9a24b08bdc195dcead06d9a",
       "version_major": 2,
       "version_minor": 0
      },
      "text/plain": [
       "Canvas(toolbar=Toolbar(toolitems=[('Home', 'Reset original view', 'home', 'home'), ('Back', 'Back to previous …"
      ]
     },
     "metadata": {},
     "output_type": "display_data"
    },
    {
     "data": {
      "text/plain": [
       "Text(0, 0.5, 'PSD (dB)')"
      ]
     },
     "execution_count": 743,
     "metadata": {},
     "output_type": "execute_result"
    }
   ],
   "source": [
    "fig, ax = plt.subplots(1, 1, figsize=(8, 4))\n",
    "ax.plot(window[:-1],means)\n",
    "# ax.set_xlim(2, 20)\n",
    "ax.set_xlabel('Period (hour)')\n",
    "ax.set_ylabel('PSD (dB)')"
   ]
  },
  {
   "cell_type": "code",
   "execution_count": 698,
   "metadata": {},
   "outputs": [],
   "source": [
    "fourrier = pd.DataFrame(columns = ['frequ','amp','hyph'])\n",
    "speed_fft = sp.fftpack.fft(s)\n",
    "speed_psd = np.abs(speed_fft) ** 2\n",
    "fftfreq = sp.fftpack.fftfreq(len(speed_psd))\n",
    "i = fftfreq > 0\n",
    "data = [{'frequ' : fftfreq[j]*frequ,'amp' : speed_psd[j],'hyph' : hyph} for j,v in enumerate(i) if v]\n",
    "fourrier=fourrier.append(data,ignore_index=True)\n",
    "df = pd.concat([fourrier.groupby('frequ')['amp'].mean()], axis=1).copy()\n",
    "df = df.sort_index()\n",
    "df['amp_smooth'] = df['amp'].rolling(window=20,min_periods = 5, center=True).mean()"
   ]
  },
  {
   "cell_type": "code",
   "execution_count": 699,
   "metadata": {},
   "outputs": [],
   "source": [
    "df = pd.concat([fourrier.groupby('frequ')['amp'].mean()], axis=1).copy()\n",
    "df = df.sort_index()\n",
    "df['amp_smooth'] = df['amp'].rolling(window=1,min_periods = 1, center=True).mean()"
   ]
  },
  {
   "cell_type": "code",
   "execution_count": 700,
   "metadata": {},
   "outputs": [
    {
     "data": {
      "application/vnd.jupyter.widget-view+json": {
       "model_id": "095e260443fd407e87748bb31dd9d33d",
       "version_major": 2,
       "version_minor": 0
      },
      "text/plain": [
       "Canvas(toolbar=Toolbar(toolitems=[('Home', 'Reset original view', 'home', 'home'), ('Back', 'Back to previous …"
      ]
     },
     "metadata": {},
     "output_type": "display_data"
    },
    {
     "data": {
      "text/plain": [
       "Text(0, 0.5, 'PSD (dB)')"
      ]
     },
     "execution_count": 700,
     "metadata": {},
     "output_type": "execute_result"
    }
   ],
   "source": [
    "fig, ax = plt.subplots(1, 1, figsize=(8, 4))\n",
    "ax.plot(10*np.log(df['amp_smooth']))\n",
    "# ax.set_xlim(0, 1)\n",
    "ax.set_xlabel('Frequency (h-1)')\n",
    "ax.set_ylabel('PSD (dB)')"
   ]
  },
  {
   "cell_type": "code",
   "execution_count": 572,
   "metadata": {},
   "outputs": [],
   "source": [
    "df = pd.concat([fourrier.groupby('frequ')['amp'].mean()], axis=1).copy()\n",
    "df = df.sort_index()\n",
    "df['amp_smooth'] = df['amp'].rolling(window=40,min_periods = 10, center=True).mean()"
   ]
  },
  {
   "cell_type": "code",
   "execution_count": 562,
   "metadata": {},
   "outputs": [
    {
     "data": {
      "text/plain": [
       "426"
      ]
     },
     "execution_count": 562,
     "metadata": {},
     "output_type": "execute_result"
    }
   ],
   "source": [
    "len(fourrier['frequ'].unique())"
   ]
  },
  {
   "cell_type": "code",
   "execution_count": 27,
   "metadata": {},
   "outputs": [
    {
     "data": {
      "text/plain": [
       "(array([3.07806691e+07, 1.53380296e+05, 2.33410384e+04, 1.59928264e+04,\n",
       "        1.55283406e+03, 2.69996607e+04, 7.58228152e+03, 1.16144952e+03,\n",
       "        6.49490182e+03, 2.84099624e+03, 1.04307044e+04, 1.04307044e+04,\n",
       "        2.84099624e+03, 6.49490182e+03, 1.16144952e+03, 7.58228152e+03,\n",
       "        2.69996607e+04, 1.55283406e+03, 1.59928264e+04, 2.33410384e+04,\n",
       "        1.53380296e+05]),\n",
       " array([0.04761905, 0.0952381 , 0.14285714, 0.19047619, 0.23809524,\n",
       "        0.28571429, 0.33333333, 0.38095238, 0.42857143, 0.47619048]))"
      ]
     },
     "execution_count": 27,
     "metadata": {},
     "output_type": "execute_result"
    }
   ],
   "source": [
    "speed_psd,fftfreq[i]"
   ]
  },
  {
   "cell_type": "code",
   "execution_count": 112,
   "metadata": {},
   "outputs": [],
   "source": [
    "select_time = time_hypha_info.loc[time_hypha_info['Plate']==plate]\n",
    "select_time = select_time.loc[select_time['distance_final_pos']>100]\n",
    "select_time = select_time.loc[select_time['in_ROI']=='True']\n",
    "select_time = select_time.loc[select_time['speed'].between(100,400)]\n",
    "select_global = global_hypha_info.loc[global_hypha_info['Plate']==plate]\n",
    "select_global = select_global.loc[select_global['lapse']>10]\n",
    "hyphae_interest= select_global['hypha'].unique()"
   ]
  },
  {
   "cell_type": "code",
   "execution_count": 328,
   "metadata": {},
   "outputs": [],
   "source": [
    "fourrier = pd.DataFrame(columns = ['frequ','amp','hyph'])\n",
    "sample_frequ = 1\n",
    "for plate in [94]:\n",
    "    select_time = time_hypha_info.loc[time_hypha_info['Plate']==plate]\n",
    "    select_time = select_time.loc[select_time['distance_final_pos']>100]\n",
    "    select_time = select_time.loc[select_time['in_ROI']=='True']\n",
    "    select_time = select_time.loc[select_time['speed'].between(20,400)]\n",
    "#     select_time = select_time.loc[select_time['timedelta'].between(sample_frequ-0.1,sample_frequ+0.1)]\n",
    "    select_global = global_hypha_info.loc[global_hypha_info['Plate']==plate]\n",
    "    select_global = select_global.loc[select_global['lapse']>10]\n",
    "    hyphae_interest= select_global['hypha'].unique()\n",
    "#     for hyph in hyphae_interest:\n",
    "    for hyph in actual_list_hyph:\n",
    "        to_plot = select_time.loc[(select_time['end']==hyph)&(select_time['Plate']==plate)]\n",
    "        if len(to_plot)>0:\n",
    "            speed_fft = sp.fftpack.fft(to_plot['speed'])\n",
    "            speed_psd = np.abs(speed_fft) ** 2\n",
    "            fftfreq = sp.fftpack.fftfreq(len(speed_psd))\n",
    "            i = fftfreq > 0\n",
    "            data = [{'frequ' : fftfreq[j]/sample_frequ,'amp' : speed_psd[j],'hyph' : hyph} for j,v in enumerate(i) if v]\n",
    "            fourrier=fourrier.append(data,ignore_index=True)"
   ]
  },
  {
   "cell_type": "code",
   "execution_count": 818,
   "metadata": {},
   "outputs": [],
   "source": [
    "df = pd.concat([fourrier.groupby('frequ')['amp'].mean()], axis=1).copy()\n",
    "df = df.sort_index()\n",
    "df['amp_smooth'] = df['amp'].rolling(window=50,min_periods = 20, center=True).mean()"
   ]
  },
  {
   "cell_type": "code",
   "execution_count": 332,
   "metadata": {
    "collapsed": true,
    "jupyter": {
     "outputs_hidden": true
    }
   },
   "outputs": [
    {
     "data": {
      "application/vnd.jupyter.widget-view+json": {
       "model_id": "0ac9fa730a464143a23152528526193c",
       "version_major": 2,
       "version_minor": 0
      },
      "text/plain": [
       "Canvas(toolbar=Toolbar(toolitems=[('Home', 'Reset original view', 'home', 'home'), ('Back', 'Back to previous …"
      ]
     },
     "metadata": {},
     "output_type": "display_data"
    },
    {
     "data": {
      "text/plain": [
       "Text(0, 0.5, 'PSD (dB)')"
      ]
     },
     "execution_count": 332,
     "metadata": {},
     "output_type": "execute_result"
    }
   ],
   "source": [
    "fig, ax = plt.subplots(1, 1, figsize=(8, 4))\n",
    "ax.plot(1/df.index,10*np.log(df['amp_smooth']))\n",
    "ax.set_xlim(2, 20)\n",
    "ax.set_xlabel('Period (hour)')\n",
    "ax.set_ylabel('PSD (dB)')"
   ]
  },
  {
   "cell_type": "code",
   "execution_count": 327,
   "metadata": {
    "collapsed": true,
    "jupyter": {
     "outputs_hidden": true
    }
   },
   "outputs": [
    {
     "data": {
      "application/vnd.jupyter.widget-view+json": {
       "model_id": "9d460a815c5c4be69854e471320f69f4",
       "version_major": 2,
       "version_minor": 0
      },
      "text/plain": [
       "Canvas(toolbar=Toolbar(toolitems=[('Home', 'Reset original view', 'home', 'home'), ('Back', 'Back to previous …"
      ]
     },
     "metadata": {},
     "output_type": "display_data"
    },
    {
     "data": {
      "text/plain": [
       "Text(0, 0.5, 'PSD (dB)')"
      ]
     },
     "execution_count": 327,
     "metadata": {},
     "output_type": "execute_result"
    }
   ],
   "source": [
    "fig, ax = plt.subplots(1, 1, figsize=(8, 4))\n",
    "ax.plot(10*np.log(df['amp_smooth']))\n",
    "# ax.set_xlim(0, 1)\n",
    "ax.set_xlabel('Frequency (h-1)')\n",
    "ax.set_ylabel('PSD (dB)')"
   ]
  },
  {
   "cell_type": "code",
   "execution_count": 173,
   "metadata": {},
   "outputs": [],
   "source": [
    "num = 20\n",
    "window = np.linspace(0,0.5,num)\n",
    "means = []\n",
    "for i in range(num-1):\n",
    "    begin,end = window[i],window[i+1]\n",
    "    select = fourrier.loc[fourrier['frequ'].between(begin,end)]\n",
    "    means.append(10*np.log10(np.mean(select['amp'])))"
   ]
  },
  {
   "cell_type": "code",
   "execution_count": 901,
   "metadata": {},
   "outputs": [
    {
     "data": {
      "application/vnd.jupyter.widget-view+json": {
       "model_id": "2888b202387040d39f141f27a0cdb94a",
       "version_major": 2,
       "version_minor": 0
      },
      "text/plain": [
       "Canvas(toolbar=Toolbar(toolitems=[('Home', 'Reset original view', 'home', 'home'), ('Back', 'Back to previous …"
      ]
     },
     "metadata": {},
     "output_type": "display_data"
    },
    {
     "data": {
      "text/plain": [
       "Text(0, 0.5, 'PSD (dB)')"
      ]
     },
     "execution_count": 901,
     "metadata": {},
     "output_type": "execute_result"
    }
   ],
   "source": [
    "num_sample = 100\n",
    "maxi = 100\n",
    "x = np.linspace(0,maxi,num_sample)\n",
    "frequ = 0.2\n",
    "s = 0*np.sqrt(x)+np.sin(2*frequ*np.pi*x)\n",
    "s+=np.random.normal(0,2,len(x))\n",
    "fig, ax = plt.subplots(1, 1, figsize=(8, 4))\n",
    "ax.plot(x, s)\n",
    "ax.set_xlabel('Frequency (1/year)')\n",
    "ax.set_ylabel('PSD (dB)')"
   ]
  },
  {
   "cell_type": "code",
   "execution_count": 902,
   "metadata": {},
   "outputs": [
    {
     "data": {
      "application/vnd.jupyter.widget-view+json": {
       "model_id": "e9c4dae536984f8c8aca5dbf0fce25e3",
       "version_major": 2,
       "version_minor": 0
      },
      "text/plain": [
       "Canvas(toolbar=Toolbar(toolitems=[('Home', 'Reset original view', 'home', 'home'), ('Back', 'Back to previous …"
      ]
     },
     "metadata": {},
     "output_type": "display_data"
    },
    {
     "data": {
      "text/plain": [
       "Text(0, 0.5, 'PSD (dB)')"
      ]
     },
     "execution_count": 902,
     "metadata": {},
     "output_type": "execute_result"
    }
   ],
   "source": [
    "\n",
    "speed_fft = sp.fftpack.ifft(s)\n",
    "speed_psd = np.abs(speed_fft) ** 2\n",
    "fftfreq = sp.fftpack.fftfreq(len(speed_psd))\n",
    "i = fftfreq > 0\n",
    "fig, ax = plt.subplots(1, 1, figsize=(8, 4))\n",
    "ax.plot(fftfreq[i]*num_sample/maxi, 10 * np.log10(speed_psd[i]))\n",
    "ax.set_xlabel('Frequency')\n",
    "ax.set_ylabel('PSD (dB)')"
   ]
  },
  {
   "cell_type": "code",
   "execution_count": 903,
   "metadata": {},
   "outputs": [
    {
     "data": {
      "application/vnd.jupyter.widget-view+json": {
       "model_id": "941067345076411988fa6362cccfc1d4",
       "version_major": 2,
       "version_minor": 0
      },
      "text/plain": [
       "Canvas(toolbar=Toolbar(toolitems=[('Home', 'Reset original view', 'home', 'home'), ('Back', 'Back to previous …"
      ]
     },
     "metadata": {},
     "output_type": "display_data"
    },
    {
     "data": {
      "text/plain": [
       "Text(0, 0.5, 'PSD (dB)')"
      ]
     },
     "execution_count": 903,
     "metadata": {},
     "output_type": "execute_result"
    }
   ],
   "source": [
    "fig, ax = plt.subplots(1, 1, figsize=(8, 4))\n",
    "ax.plot(fftfreq[i]*num_sample/maxi, speed_psd[i])\n",
    "ax.set_xlabel('Frequency')\n",
    "ax.set_ylabel('PSD (dB)')"
   ]
  },
  {
   "cell_type": "code",
   "execution_count": 904,
   "metadata": {},
   "outputs": [
    {
     "data": {
      "application/vnd.jupyter.widget-view+json": {
       "model_id": "f8af04759e4c4469ad99b5e4d301cc06",
       "version_major": 2,
       "version_minor": 0
      },
      "text/plain": [
       "Canvas(toolbar=Toolbar(toolitems=[('Home', 'Reset original view', 'home', 'home'), ('Back', 'Back to previous …"
      ]
     },
     "metadata": {},
     "output_type": "display_data"
    },
    {
     "data": {
      "text/plain": [
       "[<matplotlib.lines.Line2D at 0x18795d05ac8>]"
      ]
     },
     "execution_count": 904,
     "metadata": {},
     "output_type": "execute_result"
    }
   ],
   "source": [
    "autoc = autocorr(s)\n",
    "autoc = autoc/autoc.max()\n",
    "fig, ax = plt.subplots(1, 1, figsize=(8, 4))\n",
    "ax.plot(autoc)"
   ]
  },
  {
   "cell_type": "code",
   "execution_count": 905,
   "metadata": {},
   "outputs": [
    {
     "data": {
      "application/vnd.jupyter.widget-view+json": {
       "model_id": "de5a3dfc51a847fbac9676c22e277784",
       "version_major": 2,
       "version_minor": 0
      },
      "text/plain": [
       "Canvas(toolbar=Toolbar(toolitems=[('Home', 'Reset original view', 'home', 'home'), ('Back', 'Back to previous …"
      ]
     },
     "metadata": {},
     "output_type": "display_data"
    },
    {
     "data": {
      "text/plain": [
       "[<matplotlib.lines.Line2D at 0x18796d59848>]"
      ]
     },
     "execution_count": 905,
     "metadata": {},
     "output_type": "execute_result"
    }
   ],
   "source": [
    "from scipy import signal\n",
    "f,P = signal.periodogram(s,fs = num_sample/maxi)\n",
    "fig, ax = plt.subplots(1, 1, figsize=(8, 4))\n",
    "ax.plot(f, P)\n"
   ]
  },
  {
   "cell_type": "code",
   "execution_count": 403,
   "metadata": {},
   "outputs": [
    {
     "data": {
      "application/vnd.jupyter.widget-view+json": {
       "model_id": "3055edf91e4b49ab939e093a76cbe37f",
       "version_major": 2,
       "version_minor": 0
      },
      "text/plain": [
       "Canvas(toolbar=Toolbar(toolitems=[('Home', 'Reset original view', 'home', 'home'), ('Back', 'Back to previous …"
      ]
     },
     "metadata": {},
     "output_type": "display_data"
    },
    {
     "name": "stdout",
     "output_type": "stream",
     "text": [
      "1434\n",
      "2060\n",
      "2701\n",
      "3356\n",
      "3382\n",
      "3984\n"
     ]
    }
   ],
   "source": [
    "average_lapse = 25\n",
    "fig, ax = plt.subplots(1, 1, figsize=(8, 4))\n",
    "# for hyph in actual_list_hyph:\n",
    "# for hyph in [1]:\n",
    "for hyph in hyphae_interest:\n",
    "\n",
    "    to_plot = select_time.loc[select_time['end']==hyph]\n",
    "    deb = np.min(to_plot['time_since_begin_exp'])\n",
    "    end = np.max(to_plot['time_since_begin_exp'])\n",
    "    T = 60\n",
    "    if end-deb>T:\n",
    "        f = interp1d(to_plot['time_since_begin_exp'], to_plot['speed'])\n",
    "        frequ = 1\n",
    "    #     x = np.linspace(deb,deb+int((end-deb)*frequ),int((end-deb)*frequ)+1)\n",
    "        x = np.linspace(deb,deb+T,T+1)\n",
    "        resampled = pd.DataFrame({'time':x,'speed':f(x)})\n",
    "    #     reg = LinearRegression().fit(x.reshape((-1, 1)), f(x))\n",
    "#         resampled['speed_smooth']=resampled['speed'].rolling(average_lapse,min_periods=average_lapse//2,center=True).mean()\n",
    "        resampled['speed_smooth2']= savgol_filter(resampled['speed'], average_lapse, 3)\n",
    "\n",
    "    #     resampled['speed_residual'] = resampled['speed']-reg.predict(x.reshape((-1, 1)))\n",
    "#         resampled['speed_residual2'] = resampled['speed']-resampled['speed_smooth']\n",
    "        resampled['speed_residual3'] = resampled['speed']-resampled['speed_smooth2']\n",
    "        #     resampled['speed_residual_ZMUV'] = (resampled['speed_residual']-np.mean(resampled['speed_residual']))/np.std(resampled['speed_residual'])\n",
    "#         resampled['speed_residual_ZMUV2'] = (resampled['speed_residual2']-np.mean(resampled['speed_residual2']))/np.std(resampled['speed_residual2'])\n",
    "        resampled['speed_residual_ZMUV3'] = (resampled['speed_residual3']-np.mean(resampled['speed_residual3']))/np.std(resampled['speed_residual3'])\n",
    "        if len(resampled)>average_lapse:\n",
    "            s = resampled[~np.isnan(resampled['speed_residual_ZMUV3'].astype(np.float))]['speed_residual_ZMUV3']\n",
    "            if len(s)==T+1:\n",
    "                print(hyph)\n",
    "                speed_fft = sp.fftpack.fft(s)\n",
    "                speed_psd = np.abs(speed_fft) ** 2\n",
    "                fftfreq = sp.fftpack.fftfreq(len(speed_psd))\n",
    "                i = fftfreq > 0\n",
    "                ax.plot(24*fftfreq[i], speed_psd[i])\n",
    "                ax.set_xlabel('Frequency (day-1)')\n",
    "                ax.set_ylabel('PSD (dB)')"
   ]
  },
  {
   "cell_type": "code",
   "execution_count": 756,
   "metadata": {},
   "outputs": [
    {
     "data": {
      "application/vnd.jupyter.widget-view+json": {
       "model_id": "240daf06d0284072a07f790eb2e63d50",
       "version_major": 2,
       "version_minor": 0
      },
      "text/plain": [
       "Canvas(toolbar=Toolbar(toolitems=[('Home', 'Reset original view', 'home', 'home'), ('Back', 'Back to previous …"
      ]
     },
     "metadata": {},
     "output_type": "display_data"
    },
    {
     "name": "stdout",
     "output_type": "stream",
     "text": [
      "1\n",
      "139\n",
      "19\n",
      "164\n",
      "1\n",
      "139\n",
      "19\n",
      "164\n",
      "1\n",
      "139\n",
      "19\n",
      "164\n",
      "1\n",
      "139\n",
      "19\n",
      "164\n",
      "1\n",
      "139\n",
      "19\n",
      "164\n",
      "1\n",
      "139\n",
      "19\n",
      "164\n"
     ]
    },
    {
     "data": {
      "text/plain": [
       "<matplotlib.legend.Legend at 0x1ceeb877248>"
      ]
     },
     "execution_count": 756,
     "metadata": {},
     "output_type": "execute_result"
    }
   ],
   "source": [
    "fig, ax = plt.subplots(1, 1, figsize=(8, 4))\n",
    "for average_lapse in [21,27,33,39,45,49]:\n",
    "    fourrier = pd.DataFrame(columns = ['frequ','amp','hyph'])\n",
    "    for hyph in actual_list_hyph:\n",
    "#     for hyph in hyphae_interest:\n",
    "        to_plot = select_time.loc[select_time['end']==hyph]\n",
    "        if len(to_plot)>T//2:\n",
    "            f = interp1d(to_plot['time_since_begin_exp'], to_plot['speed'])\n",
    "            deb = np.min(to_plot['time_since_begin_exp'])\n",
    "            end = np.max(to_plot['time_since_begin_exp'])\n",
    "            T = 60\n",
    "            if end-deb>T:\n",
    "                frequ = 1\n",
    "            #     x = np.linspace(deb,deb+int((end-deb)*frequ),int((end-deb)*frequ)+1)\n",
    "                x = np.linspace(deb,deb+T,T+1)\n",
    "                resampled = pd.DataFrame({'time':x,'speed':f(x)})\n",
    "            #     reg = LinearRegression().fit(x.reshape((-1, 1)), f(x))\n",
    "        #         resampled['speed_smooth']=resampled['speed'].rolling(average_lapse,min_periods=average_lapse//2,center=True).mean()\n",
    "                resampled['speed_smooth2']= savgol_filter(resampled['speed'], average_lapse, 3)\n",
    "\n",
    "            #     resampled['speed_residual'] = resampled['speed']-reg.predict(x.reshape((-1, 1)))\n",
    "        #         resampled['speed_residual2'] = resampled['speed']-resampled['speed_smooth']\n",
    "                resampled['speed_residual3'] = resampled['speed']-resampled['speed_smooth2']\n",
    "                #     resampled['speed_residual_ZMUV'] = (resampled['speed_residual']-np.mean(resampled['speed_residual']))/np.std(resampled['speed_residual'])\n",
    "        #         resampled['speed_residual_ZMUV2'] = (resampled['speed_residual2']-np.mean(resampled['speed_residual2']))/np.std(resampled['speed_residual2'])\n",
    "                resampled['speed_residual_ZMUV3'] = (resampled['speed_residual3']-np.mean(resampled['speed_residual3']))/np.std(resampled['speed_residual3'])\n",
    "                if len(resampled)>average_lapse:\n",
    "                    s = resampled[~np.isnan(resampled['speed_residual_ZMUV3'].astype(np.float))]['speed_residual_ZMUV3']\n",
    "                    if len(s)==T+1:\n",
    "                        print(hyph)\n",
    "                        speed_fft = sp.fftpack.fft(s)\n",
    "                        speed_psd = np.abs(speed_fft) ** 2\n",
    "                        fftfreq = sp.fftpack.fftfreq(len(speed_psd))\n",
    "                        i = fftfreq > 0\n",
    "                        data = [{'frequ' : fftfreq[j]*frequ,'amp' : speed_psd[j],'hyph' : hyph} for j,v in enumerate(i) if v]\n",
    "                        fourrier=fourrier.append(data,ignore_index=True)\n",
    "    df = pd.concat([fourrier.groupby('frequ')['amp'].mean()], axis=1).copy()\n",
    "    df = df.sort_index()\n",
    "    df['amp_smooth'] = df['amp'].rolling(window=1,min_periods = 1, center=True).mean()\n",
    "    ax.plot(24*df.index,df['amp'],label=f'smoothing size {average_lapse}')\n",
    "    # ax.set_xlim(0, 1)\n",
    "    ax.set_xlabel('Frequency (day-1)')\n",
    "    ax.set_ylabel('PSD')\n",
    "plt.legend()"
   ]
  },
  {
   "cell_type": "code",
   "execution_count": 158,
   "metadata": {},
   "outputs": [
    {
     "data": {
      "application/vnd.jupyter.widget-view+json": {
       "model_id": "f4f4b7f98a064671b983cafb3c9fdc86",
       "version_major": 2,
       "version_minor": 0
      },
      "text/plain": [
       "Canvas(toolbar=Toolbar(toolitems=[('Home', 'Reset original view', 'home', 'home'), ('Back', 'Back to previous …"
      ]
     },
     "metadata": {},
     "output_type": "display_data"
    },
    {
     "ename": "NameError",
     "evalue": "name 'actual_list_hyph' is not defined",
     "output_type": "error",
     "traceback": [
      "\u001b[1;31m---------------------------------------------------------------------------\u001b[0m",
      "\u001b[1;31mNameError\u001b[0m                                 Traceback (most recent call last)",
      "\u001b[1;32m<ipython-input-158-00ecf26c4973>\u001b[0m in \u001b[0;36m<module>\u001b[1;34m\u001b[0m\n\u001b[0;32m      4\u001b[0m \u001b[1;32mfor\u001b[0m \u001b[0mplate\u001b[0m \u001b[1;32min\u001b[0m \u001b[1;33m[\u001b[0m\u001b[1;36m94\u001b[0m\u001b[1;33m,\u001b[0m\u001b[1;36m792\u001b[0m\u001b[1;33m,\u001b[0m\u001b[1;36m152\u001b[0m\u001b[1;33m,\u001b[0m\u001b[1;36m88\u001b[0m\u001b[1;33m]\u001b[0m\u001b[1;33m:\u001b[0m\u001b[1;33m\u001b[0m\u001b[1;33m\u001b[0m\u001b[0m\n\u001b[0;32m      5\u001b[0m     \u001b[0mfourrier\u001b[0m \u001b[1;33m=\u001b[0m \u001b[0mpd\u001b[0m\u001b[1;33m.\u001b[0m\u001b[0mDataFrame\u001b[0m\u001b[1;33m(\u001b[0m\u001b[0mcolumns\u001b[0m \u001b[1;33m=\u001b[0m \u001b[1;33m[\u001b[0m\u001b[1;34m'frequ'\u001b[0m\u001b[1;33m,\u001b[0m\u001b[1;34m'amp'\u001b[0m\u001b[1;33m,\u001b[0m\u001b[1;34m'hyph'\u001b[0m\u001b[1;33m]\u001b[0m\u001b[1;33m)\u001b[0m\u001b[1;33m\u001b[0m\u001b[1;33m\u001b[0m\u001b[0m\n\u001b[1;32m----> 6\u001b[1;33m     \u001b[1;32mfor\u001b[0m \u001b[0mhyph\u001b[0m \u001b[1;32min\u001b[0m \u001b[0mactual_list_hyph\u001b[0m\u001b[1;33m:\u001b[0m\u001b[1;33m\u001b[0m\u001b[1;33m\u001b[0m\u001b[0m\n\u001b[0m\u001b[0;32m      7\u001b[0m \u001b[1;31m#     for hyph in hyphae_interest:\u001b[0m\u001b[1;33m\u001b[0m\u001b[1;33m\u001b[0m\u001b[1;33m\u001b[0m\u001b[0m\n\u001b[0;32m      8\u001b[0m         \u001b[0mto_plot\u001b[0m \u001b[1;33m=\u001b[0m \u001b[0mselect_time\u001b[0m\u001b[1;33m.\u001b[0m\u001b[0mloc\u001b[0m\u001b[1;33m[\u001b[0m\u001b[0mselect_time\u001b[0m\u001b[1;33m[\u001b[0m\u001b[1;34m'end'\u001b[0m\u001b[1;33m]\u001b[0m\u001b[1;33m==\u001b[0m\u001b[0mhyph\u001b[0m\u001b[1;33m]\u001b[0m\u001b[1;33m\u001b[0m\u001b[1;33m\u001b[0m\u001b[0m\n",
      "\u001b[1;31mNameError\u001b[0m: name 'actual_list_hyph' is not defined"
     ]
    }
   ],
   "source": [
    "fig, ax = plt.subplots(1, 1, figsize=(8, 4))\n",
    "average_lapse = 45\n",
    "order = 3\n",
    "for plate in [94,792,152,88]:\n",
    "    fourrier = pd.DataFrame(columns = ['frequ','amp','hyph'])\n",
    "#     for hyph in actual_list_hyph:\n",
    "    for hyph in hyphae_interest:\n",
    "        to_plot = select_time.loc[select_time['end']==hyph]\n",
    "        if len(to_plot)>T//2:\n",
    "            f = interp1d(to_plot['time_since_begin_exp'], to_plot['speed'])\n",
    "            deb = np.min(to_plot['time_since_begin_exp'])\n",
    "            end = np.max(to_plot['time_since_begin_exp'])\n",
    "            T = 60\n",
    "            if end-deb>T:\n",
    "                frequ = 1\n",
    "            #     x = np.linspace(deb,deb+int((end-deb)*frequ),int((end-deb)*frequ)+1)\n",
    "                x = np.linspace(deb,deb+T,T+1)\n",
    "                resampled = pd.DataFrame({'time':x,'speed':f(x)})\n",
    "            #     reg = LinearRegression().fit(x.reshape((-1, 1)), f(x))\n",
    "        #         resampled['speed_smooth']=resampled['speed'].rolling(average_lapse,min_periods=average_lapse//2,center=True).mean()\n",
    "                resampled['speed_smooth2']= savgol_filter(resampled['speed'], average_lapse, order)\n",
    "\n",
    "            #     resampled['speed_residual'] = resampled['speed']-reg.predict(x.reshape((-1, 1)))\n",
    "        #         resampled['speed_residual2'] = resampled['speed']-resampled['speed_smooth']\n",
    "                resampled['speed_residual3'] = resampled['speed']-resampled['speed_smooth2']\n",
    "                #     resampled['speed_residual_ZMUV'] = (resampled['speed_residual']-np.mean(resampled['speed_residual']))/np.std(resampled['speed_residual'])\n",
    "        #         resampled['speed_residual_ZMUV2'] = (resampled['speed_residual2']-np.mean(resampled['speed_residual2']))/np.std(resampled['speed_residual2'])\n",
    "                resampled['speed_residual_ZMUV3'] = (resampled['speed_residual3']-np.mean(resampled['speed_residual3']))/np.std(resampled['speed_residual3'])\n",
    "                if len(resampled)>average_lapse:\n",
    "                    s = resampled[~np.isnan(resampled['speed_residual_ZMUV3'].astype(np.float))]['speed_residual_ZMUV3']\n",
    "                    if len(s)==T+1:\n",
    "                        print(hyph)\n",
    "                        speed_fft = sp.fftpack.fft(s)\n",
    "                        speed_psd = np.abs(speed_fft) ** 2\n",
    "                        fftfreq = sp.fftpack.fftfreq(len(speed_psd))\n",
    "                        i = fftfreq > 0\n",
    "                        data = [{'frequ' : fftfreq[j]*frequ,'amp' : speed_psd[j],'hyph' : hyph} for j,v in enumerate(i) if v]\n",
    "                        fourrier=fourrier.append(data,ignore_index=True)\n",
    "    df = pd.concat([fourrier.groupby('frequ')['amp'].mean()], axis=1).copy()\n",
    "    df = df.sort_index()\n",
    "    df['amp_smooth'] = df['amp'].rolling(window=1,min_periods = 1, center=True).mean()\n",
    "    ax.plot(24*df.index,df['amp'],label=plate)\n",
    "    # ax.set_xlim(0, 1)\n",
    "    ax.set_xlabel('Frequency (day-1)')\n",
    "    ax.set_ylabel('PSD')\n",
    "plt.legend()"
   ]
  },
  {
   "cell_type": "code",
   "execution_count": 2,
   "metadata": {
    "collapsed": true,
    "jupyter": {
     "outputs_hidden": true
    }
   },
   "outputs": [
    {
     "name": "stderr",
     "output_type": "stream",
     "text": [
      "C:\\Users\\coren\\anaconda3\\envs\\cleanMsc\\lib\\site-packages\\pandas\\core\\series.py:726: RuntimeWarning: divide by zero encountered in log2\n",
      "  result = getattr(ufunc, method)(*inputs, **kwargs)\n",
      "C:\\Users\\coren\\anaconda3\\envs\\cleanMsc\\lib\\site-packages\\pandas\\core\\series.py:726: RuntimeWarning: divide by zero encountered in log2\n",
      "  result = getattr(ufunc, method)(*inputs, **kwargs)\n",
      "C:\\Users\\coren\\anaconda3\\envs\\cleanMsc\\lib\\site-packages\\pandas\\core\\series.py:726: RuntimeWarning: divide by zero encountered in log2\n",
      "  result = getattr(ufunc, method)(*inputs, **kwargs)\n",
      "C:\\Users\\coren\\anaconda3\\envs\\cleanMsc\\lib\\site-packages\\pandas\\core\\series.py:726: RuntimeWarning: divide by zero encountered in log2\n",
      "  result = getattr(ufunc, method)(*inputs, **kwargs)\n",
      "C:\\Users\\coren\\anaconda3\\envs\\cleanMsc\\lib\\site-packages\\pandas\\core\\series.py:726: RuntimeWarning: divide by zero encountered in log2\n",
      "  result = getattr(ufunc, method)(*inputs, **kwargs)\n",
      "C:\\Users\\coren\\anaconda3\\envs\\cleanMsc\\lib\\site-packages\\pandas\\core\\algorithms.py:1972: RuntimeWarning: invalid value encountered in subtract\n",
      "  out_arr[res_indexer] = arr[res_indexer] - arr[lag_indexer]\n",
      "C:\\Users\\coren\\anaconda3\\envs\\cleanMsc\\lib\\site-packages\\pandas\\core\\series.py:726: RuntimeWarning: divide by zero encountered in log2\n",
      "  result = getattr(ufunc, method)(*inputs, **kwargs)\n",
      "C:\\Users\\coren\\anaconda3\\envs\\cleanMsc\\lib\\site-packages\\pandas\\core\\series.py:726: RuntimeWarning: divide by zero encountered in log2\n",
      "  result = getattr(ufunc, method)(*inputs, **kwargs)\n",
      "C:\\Users\\coren\\anaconda3\\envs\\cleanMsc\\lib\\site-packages\\pandas\\core\\series.py:726: RuntimeWarning: divide by zero encountered in log2\n",
      "  result = getattr(ufunc, method)(*inputs, **kwargs)\n",
      "C:\\Users\\coren\\anaconda3\\envs\\cleanMsc\\lib\\site-packages\\pandas\\core\\algorithms.py:1972: RuntimeWarning: invalid value encountered in subtract\n",
      "  out_arr[res_indexer] = arr[res_indexer] - arr[lag_indexer]\n",
      "C:\\Users\\coren\\anaconda3\\envs\\cleanMsc\\lib\\site-packages\\pandas\\core\\series.py:726: RuntimeWarning: divide by zero encountered in log2\n",
      "  result = getattr(ufunc, method)(*inputs, **kwargs)\n",
      "C:\\Users\\coren\\anaconda3\\envs\\cleanMsc\\lib\\site-packages\\pandas\\core\\series.py:726: RuntimeWarning: divide by zero encountered in log2\n",
      "  result = getattr(ufunc, method)(*inputs, **kwargs)\n",
      "C:\\Users\\coren\\anaconda3\\envs\\cleanMsc\\lib\\site-packages\\pandas\\core\\algorithms.py:1972: RuntimeWarning: invalid value encountered in subtract\n",
      "  out_arr[res_indexer] = arr[res_indexer] - arr[lag_indexer]\n",
      "C:\\Users\\coren\\anaconda3\\envs\\cleanMsc\\lib\\site-packages\\pandas\\core\\series.py:726: RuntimeWarning: divide by zero encountered in log2\n",
      "  result = getattr(ufunc, method)(*inputs, **kwargs)\n",
      "C:\\Users\\coren\\anaconda3\\envs\\cleanMsc\\lib\\site-packages\\pandas\\core\\series.py:726: RuntimeWarning: divide by zero encountered in log2\n",
      "  result = getattr(ufunc, method)(*inputs, **kwargs)\n",
      "C:\\Users\\coren\\anaconda3\\envs\\cleanMsc\\lib\\site-packages\\pandas\\core\\series.py:726: RuntimeWarning: divide by zero encountered in log2\n",
      "  result = getattr(ufunc, method)(*inputs, **kwargs)\n",
      "C:\\Users\\coren\\anaconda3\\envs\\cleanMsc\\lib\\site-packages\\pandas\\core\\series.py:726: RuntimeWarning: divide by zero encountered in log2\n",
      "  result = getattr(ufunc, method)(*inputs, **kwargs)\n",
      "C:\\Users\\coren\\anaconda3\\envs\\cleanMsc\\lib\\site-packages\\pandas\\core\\algorithms.py:1972: RuntimeWarning: invalid value encountered in subtract\n",
      "  out_arr[res_indexer] = arr[res_indexer] - arr[lag_indexer]\n",
      "C:\\Users\\coren\\anaconda3\\envs\\cleanMsc\\lib\\site-packages\\pandas\\core\\series.py:726: RuntimeWarning: divide by zero encountered in log2\n",
      "  result = getattr(ufunc, method)(*inputs, **kwargs)\n",
      "C:\\Users\\coren\\anaconda3\\envs\\cleanMsc\\lib\\site-packages\\pandas\\core\\algorithms.py:1972: RuntimeWarning: invalid value encountered in subtract\n",
      "  out_arr[res_indexer] = arr[res_indexer] - arr[lag_indexer]\n",
      "C:\\Users\\coren\\anaconda3\\envs\\cleanMsc\\lib\\site-packages\\pandas\\core\\series.py:726: RuntimeWarning: divide by zero encountered in log2\n",
      "  result = getattr(ufunc, method)(*inputs, **kwargs)\n",
      "C:\\Users\\coren\\anaconda3\\envs\\cleanMsc\\lib\\site-packages\\pandas\\core\\series.py:726: RuntimeWarning: divide by zero encountered in log2\n",
      "  result = getattr(ufunc, method)(*inputs, **kwargs)\n"
     ]
    }
   ],
   "source": [
    "time_plate_info = pd.read_pickle(\"time_plate_infos.pick\")\n",
    "time_plate_info_agg = pd.read_pickle(\"time_plate_infos_agg.pick\")\n",
    "\n",
    "global_hypha_info = pd.read_pickle(\"global_hypha_info.pick\")\n",
    "time_hypha_info = pd.read_pickle(\"global_hypha_info.pick\")\n",
    "\n",
    "\n",
    "plates = time_plate_info['Plate'].unique()\n",
    "ind_plate_table= {}\n",
    "for plate in plates:\n",
    "    ind_plate_table[plate]=time_plate_info.loc[time_plate_info['Plate']==plate].copy()\n",
    "    \n",
    "\n",
    "plates = global_hypha_info['Plate'].unique()\n",
    "ind_hypha_table = {}\n",
    "for plate in plates:\n",
    "    ind_hypha_table[plate]=global_hypha_info.loc[global_hypha_info['Plate']==plate].copy()\n",
    "\n",
    "for plate in plates:\n",
    "    table = ind_plate_table[plate]\n",
    "\n",
    "for plate in plates:\n",
    "    table = ind_plate_table[plate]\n",
    "    table['total_length_m'] = table['tot_length_study']/10**6\n",
    "    table['speed'] = table['tot_length_study'].diff(5)/table['time_since_begin'].diff(5)\n",
    "    table['mean_step'] = np.mean(table['time_since_begin'].diff(1))\n",
    "    table['density'] = table['tot_length_study']/(table['area_sep_comp']+1)\n",
    "    table['ring_density'] = table['tot_length_study'].diff(10)/(table['area_sep_comp'].diff(10)+1)\n",
    "    table['log_length_study'] = np.log2(table['tot_length_study'].astype(float))\n",
    "    table['local_growth_rate'] = table['log_length_study'].diff(5)/table['time_since_begin'].diff(5)*24\n",
    "    table_hypha = ind_hypha_table[plate]\n",
    "\n",
    "for plate in plates:\n",
    "    table = ind_plate_table[plate]\n",
    "    table['time_since_begin2']=table['time_since_begin']\n",
    "\n",
    "ind_plate_table[91]['time_since_begin2']=ind_plate_table[91]['time_since_begin']-300\n",
    "\n",
    "for plate in plates:\n",
    "    table = ind_plate_table[plate]\n",
    "    table_hypha = ind_hypha_table[plate]\n",
    "    table_hypha['num_branch']=table_hypha['num_branch'].fillna(-1)\n",
    "    table_hypha['tot_growth_C']=table_hypha['tot_growth_C'].fillna(0)\n",
    "    table_hypha['branch_frequ'] = table_hypha['tot_growth_C'].div(table_hypha['num_branch'])/1000\n",
    "    table_hypha['branch_frequ_time']=table_hypha['branch_frequ']*table_hypha['mean_speed']\n",
    "    def get_number_new_branch(row):\n",
    "        time = row['time_since_begin']\n",
    "        growth_num = len(table_hypha.loc[(table_hypha['time_init_growth'] == time) &((table_hypha['time_stop_growth'] != time))])\n",
    "        return(growth_num)\n",
    "    def get_number_stop_growth(row):\n",
    "        time = row['time_since_begin']\n",
    "        growth_num = len(table_hypha.loc[(table_hypha['time_stop_growth'] == time) &((table_hypha['time_init_growth'] != time))&((table_hypha['timestep_stop_growth'] != table_hypha['strop_track']))&(table_hypha['out_of_ROI'].isnull())])\n",
    "        return(growth_num)\n",
    "    def get_mean_length_hyphae(row):\n",
    "        time = row['time_since_begin']\n",
    "        mean_length = np.mean(table_hypha.loc[(table_hypha['time_init_growth'] == time) &((table_hypha['time_stop_growth'] != time))&((table_hypha['timestep_stop_growth'] != table_hypha['strop_track']))&(table_hypha['out_of_ROI'].isnull())]['tot_growth_C'])\n",
    "        return(mean_length)\n",
    "    def get_mean_speed_hyphae(row):\n",
    "        time = row['time_since_begin']\n",
    "        mean_length = np.mean(table_hypha.loc[(table_hypha['time_init_growth'] == time) &((table_hypha['time_stop_growth'] != time))]['mean_speed'])\n",
    "        return(mean_length)\n",
    "    def get_mean_growth_lapse_hyphae(row):\n",
    "        time = row['time_since_begin']\n",
    "        selection = table_hypha.loc[(table_hypha['time_init_growth'] == time) &((table_hypha['time_stop_growth'] != time))&((table_hypha['timestep_stop_growth'] != table_hypha['strop_track']))&(table_hypha['out_of_ROI'].isnull())]\n",
    "        mean_lapse = np.mean(selection['time_stop_growth']-selection['time_init_growth'])/24\n",
    "        return(mean_lapse)\n",
    "    def get_mean_growth_arrest_frequ(row):\n",
    "        time = row['time_since_begin']\n",
    "        selection = table_hypha.loc[(table_hypha['time_init_growth'] == time) &((table_hypha['time_stop_growth'] != time))&((table_hypha['timestep_stop_growth'] != table_hypha['strop_track']))&(table_hypha['out_of_ROI'].isnull())]\n",
    "        mean_lapse = np.mean(1/(selection['time_stop_growth']-selection['time_init_growth']))*24\n",
    "        return(mean_lapse)\n",
    "    def get_branch_frequ_micro(row):\n",
    "        time = row['time_since_begin']\n",
    "        selection = table_hypha.loc[(table_hypha['time_init_growth'] == time) &((table_hypha['time_stop_growth'] != time))&((table_hypha['timestep_stop_growth'] != table_hypha['strop_track']))&(table_hypha['out_of_ROI'].isnull())]\n",
    "        mean_branch_frequ = np.mean(selection.loc[(selection['branch_frequ']>0)& (selection['branch_frequ']<10)]['branch_frequ'])\n",
    "        return(mean_branch_frequ)\n",
    "    def get_branch_frequ_micro_time(row):\n",
    "        time = row['time_since_begin']\n",
    "        selection = table_hypha.loc[(table_hypha['time_init_growth'] == time) &((table_hypha['time_stop_growth'] != time))&((table_hypha['timestep_stop_growth'] != table_hypha['strop_track']))&(table_hypha['out_of_ROI'].isnull())]\n",
    "        mean_branch_frequ = np.mean(selection.loc[(selection['branch_frequ']>0)& (selection['branch_frequ']<10)]['branch_frequ_time'])/1000*24\n",
    "        return(mean_branch_frequ)\n",
    "    window = int(1/table['mean_step'].unique()*20)\n",
    "#     window = 5\n",
    "    table['num_new_tips'] = table.apply (lambda row: get_number_new_branch(row), axis=1)\n",
    "    table['cum_num_new_tips'] = table['num_new_tips'].cumsum()\n",
    "#     table['cum_num_new_tips'] = table['num_tips']\n",
    "    table['branch_frequ'] = table['cum_num_new_tips'].diff(window)/table['tot_length_study'].diff(window)*1000\n",
    "    table['num_tips_arrest'] = table.apply (lambda row: get_number_stop_growth(row), axis=1)\n",
    "    table['mean_length_hyphae'] = table.apply (lambda row: get_mean_length_hyphae(row), axis=1)\n",
    "    table['lapse_tip_arrest'] = table.apply (lambda row: get_mean_growth_lapse_hyphae(row), axis=1)\n",
    "    table['lapse_tip_arrest_smooth'] = table['lapse_tip_arrest'].rolling(window=window,min_periods=1 ).mean()\n",
    "    table['frequ_tip_arrest'] = table.apply (lambda row: get_mean_growth_arrest_frequ(row), axis=1)\n",
    "    table['frequ_tip_arrest_smooth'] = table['frequ_tip_arrest'].rolling(window=window,min_periods=1 ).mean()\n",
    "    table['rate_tip_arrest'] = 1/table['lapse_tip_arrest_smooth']\n",
    "    table['mean_length_hyphae_smooth'] = table['mean_length_hyphae'].rolling(window=window*2,min_periods=1).mean()\n",
    "    table['mean_speed_hyphae'] = table.apply (lambda row: get_mean_speed_hyphae(row), axis=1)\n",
    "    table['mean_speed_hyphae_smooth'] = table['mean_speed_hyphae'].rolling(window=window,min_periods=1).mean()\n",
    "    table['branch_frequ_time'] = table['branch_frequ']/1000*table['mean_speed_hyphae_smooth']*24\n",
    "    table['branch_frequ_micro'] = table.apply (lambda row: get_branch_frequ_micro(row), axis=1)\n",
    "    table['branch_frequ_micro_smooth'] = table['branch_frequ_micro'].rolling(window=window,min_periods=1).mean()\n",
    "    table['branch_frequ_micro_time'] = table.apply (lambda row: get_branch_frequ_micro_time(row), axis=1)\n",
    "    table['branch_frequ_micro_time_smooth'] = table['branch_frequ_micro_time'].rolling(window=window,min_periods=1).mean()\n",
    "    table['cum_num_tips_arrest'] = table['num_tips_arrest'].cumsum()\n",
    "    table['log_cum_num_tips_arrest'] = np.log2(table['cum_num_tips_arrest'].astype(float))\n",
    "    table['local_rate_tip_arrest'] = table['log_cum_num_tips_arrest'].diff(window)/table['time_since_begin'].diff(window)*24\n",
    "    table['tips_arrest_to_new_length_ratio'] = table['cum_num_tips_arrest'].diff(window)/table['tot_length_study'].diff(window)*1000\n",
    "    table['log_cum_num_new_tips'] = np.log2(table['cum_num_new_tips'].astype(float))\n",
    "    table['local_rate_tip_creation'] = table['log_cum_num_new_tips'].diff(window)/table['time_since_begin'].diff(window)*24\n",
    "    table['local_growth_rate_deduced'] = table['local_rate_tip_creation']-table['rate_tip_arrest']\n",
    "    table['local_growth_arrest_deduced'] = table['local_growth_rate']-table['local_rate_tip_creation']\n",
    "    table['alpha_stop'] = table['mean_speed_hyphae_smooth']/table['mean_length_hyphae_smooth']*24\n",
    "    table['alpha_stop2']= 1/table['lapse_tip_arrest_smooth']\n",
    "\n",
    "    table['local_growth_rate_deduced_2'] = table['branch_frequ_time']-table['alpha_stop']"
   ]
  },
  {
   "cell_type": "code",
   "execution_count": 2,
   "metadata": {},
   "outputs": [],
   "source": [
    "import pandas as pd\n",
    "import matplotlib.pyplot as plt\n",
    "\n",
    "%matplotlib widget\n",
    "plt.close('all')\n",
    "import numpy as np\n",
    "from random import choice\n",
    "import os\n",
    "import scipy as sp\n",
    "import scipy.fftpack\n",
    "from scipy.interpolate import interp1d\n",
    "from sklearn.linear_model import LinearRegression\n",
    "from scipy.signal import savgol_filter\n",
    "\n",
    "path_save = r\"C:\\Users\\coren\\Dropbox\\Apps\\Snellius2\\data_tables\\time_plate_infos_agg.pick\"\n",
    "\n",
    "time_plate_info_agg = pd.read_pickle(path_save)"
   ]
  },
  {
   "cell_type": "code",
   "execution_count": 23,
   "metadata": {},
   "outputs": [
    {
     "data": {
      "text/plain": [
       "10     20.000000\n",
       "11     22.000000\n",
       "12     24.000000\n",
       "13     26.000000\n",
       "14     28.000000\n",
       "         ...    \n",
       "74    181.433333\n",
       "75    185.450000\n",
       "76    187.450000\n",
       "77    189.466667\n",
       "78    191.466667\n",
       "Name: time_since_begin, Length: 69, dtype: float64"
      ]
     },
     "execution_count": 23,
     "metadata": {},
     "output_type": "execute_result"
    }
   ],
   "source": [
    "table['time_since_begin']"
   ]
  },
  {
   "cell_type": "code",
   "execution_count": 59,
   "metadata": {},
   "outputs": [
    {
     "name": "stderr",
     "output_type": "stream",
     "text": [
      "C:\\Users\\coren\\anaconda3\\envs\\cleanMsc\\lib\\site-packages\\ipykernel_launcher.py:9: SettingWithCopyWarning: \n",
      "A value is trying to be set on a copy of a slice from a DataFrame.\n",
      "Try using .loc[row_indexer,col_indexer] = value instead\n",
      "\n",
      "See the caveats in the documentation: https://pandas.pydata.org/pandas-docs/stable/user_guide/indexing.html#returning-a-view-versus-a-copy\n",
      "  if __name__ == '__main__':\n"
     ]
    }
   ],
   "source": [
    "from datetime import datetime\n",
    "\n",
    "plate = 758\n",
    "# table = ind_plate_table[plate].loc[ind_plate_table[plate]['out_study']==False]\n",
    "table = time_plate_info_agg.loc[time_plate_info_agg['t'].between(0,78)]\n",
    "# table = ind_plate_table[plate]\n",
    "# table = table.loc[(np.abs(table['total_length_m']-0.5716619403117118)>0.01)&(np.abs(table['total_length_m']-0.954)>0.01)]\n",
    "y = 'total_length_m'\n",
    "table['total_length_m'] = table['tot_length_study']/10**6\n",
    "f = interp1d(table['time_since_begin'], table[y])\n",
    "g= interp1d(table['time_since_begin'], table['datetime'])\n",
    "\n",
    "deb = np.min(table['time_since_begin'])\n",
    "end = np.max(table['time_since_begin'])\n",
    "frequ = 1\n",
    "av_lapse = 67\n",
    "x = np.linspace(deb,end,int((end-deb)*frequ)+1)\n",
    "# x = x[10:]\n",
    "resampled = pd.DataFrame({'time':x,y:f(x)})\n",
    "coefs = np.polyfit(x,resampled[y] ,5)\n",
    "p = np.poly1d(coefs)\n",
    "resampled['total_length_m_smooth']=resampled[y].rolling(40,center= True).mean()\n",
    "resampled['absolute_time']=pd.to_datetime(g(resampled['time']))\n",
    "resampled['time_of_day']=resampled['absolute_time'].dt.hour\n",
    "\n",
    "resampled['total_length_m_smooth2']= savgol_filter(resampled[y], av_lapse*frequ, 3)\n",
    "resampled['total_length_m_smooth3']= p(x)\n",
    "\n",
    "resampled['total_length_m_residual3'] = resampled[y]-resampled['total_length_m_smooth2']\n",
    "resampled['total_length_m_residual4'] = resampled[y]-resampled['total_length_m_smooth3']\n",
    "\n",
    "resampled['total_length_m_residual_ZMUV3'] = (resampled['total_length_m_residual3']-np.mean(resampled['total_length_m_residual3']))/np.std(resampled['total_length_m_residual3'])\n",
    "resampled['total_length_m_residual_ZMUV4'] = (resampled['total_length_m_residual4']-np.mean(resampled['total_length_m_residual4']))/np.std(resampled['total_length_m_residual4'])"
   ]
  },
  {
   "cell_type": "code",
   "execution_count": 60,
   "metadata": {},
   "outputs": [
    {
     "data": {
      "application/vnd.jupyter.widget-view+json": {
       "model_id": "6cd10848e613483d8266b251938c57c1",
       "version_major": 2,
       "version_minor": 0
      },
      "text/plain": [
       "Canvas(toolbar=Toolbar(toolitems=[('Home', 'Reset original view', 'home', 'home'), ('Back', 'Back to previous …"
      ]
     },
     "metadata": {},
     "output_type": "display_data"
    },
    {
     "data": {
      "text/plain": [
       "Text(0, 0.5, 'total length (m)')"
      ]
     },
     "execution_count": 60,
     "metadata": {},
     "output_type": "execute_result"
    }
   ],
   "source": [
    "fig, ax = plt.subplots(1, 1, figsize=(8, 4))\n",
    "# ax.plot(x,resampled['speed'])\n",
    "# ax.plot(x,reg.predict(x.reshape((-1, 1))))\n",
    "# ax.plot(x,resampled['speed_residual_ZMUV3'])\n",
    "ax.plot(resampled['absolute_time'],resampled['total_length_m'])\n",
    "ax.plot(resampled['absolute_time'],resampled['total_length_m_smooth2'])\n",
    "# ax.plot(x,resampled['total_length_m_smooth'])\n",
    "\n",
    "# ax.plot(x,p(x))\n",
    "# ax.plot(x,yhat)\n",
    "ax.set_xlabel('time (h)')\n",
    "ax.set_ylabel('total length ($\\mu  m)$')\n",
    "ax.set_ylabel('total length (m)')"
   ]
  },
  {
   "cell_type": "code",
   "execution_count": 61,
   "metadata": {},
   "outputs": [
    {
     "data": {
      "application/vnd.jupyter.widget-view+json": {
       "model_id": "3b39c4f73e9a43358a465dd24f780a3d",
       "version_major": 2,
       "version_minor": 0
      },
      "text/plain": [
       "Canvas(toolbar=Toolbar(toolitems=[('Home', 'Reset original view', 'home', 'home'), ('Back', 'Back to previous …"
      ]
     },
     "metadata": {},
     "output_type": "display_data"
    }
   ],
   "source": [
    "from matplotlib.dates import DateFormatter\n",
    "import matplotlib.dates as mdates\n",
    "fig, ax = plt.subplots(1, 1, figsize=(8, 4))\n",
    "# ax.plot(x,resampled['speed'])\n",
    "# ax.plot(x,reg.predict(x.reshape((-1, 1))))\n",
    "ax.plot(resampled['absolute_time'],resampled['total_length_m_residual_ZMUV3'])\n",
    "date_form = DateFormatter(\"%m-%d-%H\")\n",
    "ax.xaxis.set_major_formatter(date_form)\n",
    "ax.xaxis.set_major_locator(mdates.DayLocator())"
   ]
  },
  {
   "cell_type": "code",
   "execution_count": 62,
   "metadata": {},
   "outputs": [
    {
     "data": {
      "application/vnd.jupyter.widget-view+json": {
       "model_id": "93caa9e8a4304fcd9e3c2d6e993882d4",
       "version_major": 2,
       "version_minor": 0
      },
      "text/plain": [
       "Canvas(toolbar=Toolbar(toolitems=[('Home', 'Reset original view', 'home', 'home'), ('Back', 'Back to previous …"
      ]
     },
     "metadata": {},
     "output_type": "display_data"
    },
    {
     "data": {
      "text/plain": [
       "Text(0.5, 0, 'time of the day (h)')"
      ]
     },
     "execution_count": 62,
     "metadata": {},
     "output_type": "execute_result"
    }
   ],
   "source": [
    "fig, ax = plt.subplots(1, 1, figsize=(8, 4))\n",
    "# ax.plot(x,resampled['speed'])\n",
    "# ax.plot(x,reg.predict(x.reshape((-1, 1))))\n",
    "averaged = resampled.groupby('time_of_day')['total_length_m_residual_ZMUV3'].mean()\n",
    "ax.scatter(averaged.index,averaged)\n",
    "ax.set_xlabel('time of the day (h)')"
   ]
  },
  {
   "cell_type": "code",
   "execution_count": 63,
   "metadata": {},
   "outputs": [
    {
     "data": {
      "application/vnd.jupyter.widget-view+json": {
       "model_id": "6db714ff5b86484c9e48a2c7164058c1",
       "version_major": 2,
       "version_minor": 0
      },
      "text/plain": [
       "Canvas(toolbar=Toolbar(toolitems=[('Home', 'Reset original view', 'home', 'home'), ('Back', 'Back to previous …"
      ]
     },
     "metadata": {},
     "output_type": "display_data"
    },
    {
     "data": {
      "text/plain": [
       "Text(0.5, 0, 'lag (h)')"
      ]
     },
     "execution_count": 63,
     "metadata": {},
     "output_type": "execute_result"
    }
   ],
   "source": [
    "plt.close(\"all\")\n",
    "s = resampled[~np.isnan(resampled['total_length_m_residual_ZMUV3'].astype(np.float))]['total_length_m_residual_ZMUV3'].values\n",
    "s = s[:72]\n",
    "autoc = autocorr(s)\n",
    "autoc = autoc/autoc.max()\n",
    "fig, ax = plt.subplots(1, 1, figsize=(8, 4))\n",
    "ax.plot(autoc)\n",
    "ax.set_title(f'{plate}')\n",
    "ax.set_xlabel('lag (h)')"
   ]
  },
  {
   "cell_type": "code",
   "execution_count": 64,
   "metadata": {},
   "outputs": [
    {
     "data": {
      "application/vnd.jupyter.widget-view+json": {
       "model_id": "b6ac3cdbccef4c978142fe9707cae8d7",
       "version_major": 2,
       "version_minor": 0
      },
      "text/plain": [
       "Canvas(toolbar=Toolbar(toolitems=[('Home', 'Reset original view', 'home', 'home'), ('Back', 'Back to previous …"
      ]
     },
     "metadata": {},
     "output_type": "display_data"
    },
    {
     "data": {
      "text/plain": [
       "Text(0, 0.5, 'PSD')"
      ]
     },
     "execution_count": 64,
     "metadata": {},
     "output_type": "execute_result"
    }
   ],
   "source": [
    "speed_fft = sp.fftpack.fft(s)\n",
    "speed_psd = np.abs(speed_fft) ** 2\n",
    "fftfreq = sp.fftpack.fftfreq(len(speed_psd))\n",
    "i = fftfreq > 0\n",
    "fig, ax = plt.subplots(1, 1, figsize=(8, 4))\n",
    "ax.plot(24*frequ*fftfreq[i], speed_psd[i])\n",
    "ax.set_xlabel('Frequency (day-1)')\n",
    "ax.set_ylabel('PSD')"
   ]
  },
  {
   "cell_type": "code",
   "execution_count": 14,
   "metadata": {},
   "outputs": [
    {
     "data": {
      "application/vnd.jupyter.widget-view+json": {
       "model_id": "4ae54f9866464e20b9b1bae5f6ed4a1e",
       "version_major": 2,
       "version_minor": 0
      },
      "text/plain": [
       "Canvas(toolbar=Toolbar(toolitems=[('Home', 'Reset original view', 'home', 'home'), ('Back', 'Back to previous …"
      ]
     },
     "metadata": {},
     "output_type": "display_data"
    },
    {
     "data": {
      "text/plain": [
       "Text(0, 0.5, 'PSD (dB)')"
      ]
     },
     "execution_count": 14,
     "metadata": {},
     "output_type": "execute_result"
    }
   ],
   "source": [
    "speed_fft = sp.fftpack.fft(s)\n",
    "speed_psd = np.abs(speed_fft) ** 2\n",
    "fftfreq = sp.fftpack.fftfreq(len(speed_psd))\n",
    "i = fftfreq > 0\n",
    "fig, ax = plt.subplots(1, 1, figsize=(8, 4))\n",
    "ax.plot(fftfreq[i], 10 * np.log10(speed_psd[i]))\n",
    "ax.set_xlabel('Frequency')\n",
    "ax.set_ylabel('PSD (dB)')"
   ]
  },
  {
   "cell_type": "code",
   "execution_count": 153,
   "metadata": {},
   "outputs": [
    {
     "data": {
      "application/vnd.jupyter.widget-view+json": {
       "model_id": "49ba4c15ff1c4a509bf2e2535711fd38",
       "version_major": 2,
       "version_minor": 0
      },
      "text/plain": [
       "Canvas(toolbar=Toolbar(toolitems=[('Home', 'Reset original view', 'home', 'home'), ('Back', 'Back to previous …"
      ]
     },
     "metadata": {},
     "output_type": "display_data"
    },
    {
     "name": "stdout",
     "output_type": "stream",
     "text": [
      "72\n",
      "72\n"
     ]
    },
    {
     "data": {
      "text/plain": [
       "<matplotlib.legend.Legend at 0x1f9bbbb4f08>"
      ]
     },
     "execution_count": 153,
     "metadata": {},
     "output_type": "execute_result"
    }
   ],
   "source": [
    "fig, ax = plt.subplots(1, 1, figsize=(8, 4))\n",
    "labels = ['SG filter','order 5 polynom fit']\n",
    "for index,column in enumerate([\"total_length_m_residual_ZMUV3\",'total_length_m_residual_ZMUV4']):\n",
    "#     table = ind_plate_table[plate].loc[ind_plate_table[plate]['out_study']==False]\n",
    "#     f = interp1d(table['time_since_begin'], table['total_length_m'])\n",
    "#     deb = np.min(table['time_since_begin'])\n",
    "#     end = np.max(table['time_since_begin'])\n",
    "#     frequ = 1\n",
    "#     av_lapse = 49\n",
    "#     x = np.linspace(deb,end,int((end-deb)*frequ)+1)\n",
    "#     resampled = pd.DataFrame({'time':x,'total_length_m':f(x)})\n",
    "#     resampled['total_length_m_smooth2']= savgol_filter(resampled['total_length_m'], av_lapse*frequ, 3)\n",
    "#     resampled['total_length_m_residual3'] = resampled['total_length_m']-resampled['total_length_m_smooth2']\n",
    "#     resampled['total_length_m_residual_ZMUV3'] = (resampled['total_length_m_residual3']-np.mean(resampled['total_length_m_residual3']))/np.std(resampled['total_length_m_residual3'])\n",
    "    s = resampled[~np.isnan(resampled[column].astype(np.float))][column].values\n",
    "    s = s[:72]\n",
    "    print(len(s))\n",
    "    speed_fft = sp.fftpack.fft(s)\n",
    "    speed_psd = np.abs(speed_fft) ** 2\n",
    "    fftfreq = sp.fftpack.fftfreq(len(speed_psd))\n",
    "    i = fftfreq > 0\n",
    "\n",
    "    ax.plot(24*frequ*fftfreq[i], speed_psd[i],label = labels[index])\n",
    "    ax.set_xlabel('Frequency (day-1)')\n",
    "    ax.set_ylabel('PSD')\n",
    "plt.legend()"
   ]
  },
  {
   "cell_type": "code",
   "execution_count": 140,
   "metadata": {},
   "outputs": [
    {
     "data": {
      "application/vnd.jupyter.widget-view+json": {
       "model_id": "cf2d724ab55b46d3a4cc5b367318c301",
       "version_major": 2,
       "version_minor": 0
      },
      "text/plain": [
       "Canvas(toolbar=Toolbar(toolitems=[('Home', 'Reset original view', 'home', 'home'), ('Back', 'Back to previous …"
      ]
     },
     "metadata": {},
     "output_type": "display_data"
    },
    {
     "name": "stdout",
     "output_type": "stream",
     "text": [
      "72\n",
      "72\n",
      "72\n",
      "72\n"
     ]
    },
    {
     "data": {
      "text/plain": [
       "<matplotlib.legend.Legend at 0x1f9ba182408>"
      ]
     },
     "execution_count": 140,
     "metadata": {},
     "output_type": "execute_result"
    }
   ],
   "source": [
    "fig, ax = plt.subplots(1, 1, figsize=(8, 4))\n",
    "for plate in [94,792,152,88]:\n",
    "    table = ind_plate_table[plate].loc[ind_plate_table[plate]['out_study']==False]\n",
    "    f = interp1d(table['time_since_begin'], table['total_length_m'])\n",
    "    deb = np.min(table['time_since_begin'])\n",
    "    end = np.max(table['time_since_begin'])\n",
    "    frequ = 1\n",
    "    av_lapse = 49\n",
    "    x = np.linspace(deb,end,int((end-deb)*frequ)+1)\n",
    "    resampled = pd.DataFrame({'time':x,'total_length_m':f(x)})\n",
    "    resampled['total_length_m_smooth2']= savgol_filter(resampled['total_length_m'], av_lapse*frequ, 3)\n",
    "    resampled['total_length_m_residual3'] = resampled['total_length_m']-resampled['total_length_m_smooth2']\n",
    "    resampled['total_length_m_residual_ZMUV3'] = (resampled['total_length_m_residual3']-np.mean(resampled['total_length_m_residual3']))/np.std(resampled['total_length_m_residual3'])\n",
    "    s = resampled[~np.isnan(resampled['total_length_m_residual_ZMUV3'].astype(np.float))]['total_length_m_residual_ZMUV3'].values\n",
    "    s = s[:72]\n",
    "    print(len(s))\n",
    "    speed_fft = sp.fftpack.fft(s)\n",
    "    speed_psd = np.abs(speed_fft) ** 2\n",
    "    fftfreq = sp.fftpack.fftfreq(len(speed_psd))\n",
    "    i = fftfreq > 0\n",
    "\n",
    "    ax.plot(24*frequ*fftfreq[i], speed_psd[i],label = plate)\n",
    "    ax.set_xlabel('Frequency (day-1)')\n",
    "    ax.set_ylabel('PSD')\n",
    "plt.legend()"
   ]
  },
  {
   "cell_type": "code",
   "execution_count": 211,
   "metadata": {},
   "outputs": [],
   "source": [
    "from datetime import datetime\n",
    "\n",
    "plate = 800\n",
    "table = ind_plate_table[plate].loc[ind_plate_table[plate]['out_study']==False]\n",
    "table = ind_plate_table[plate]\n",
    "\n",
    "y = 'total_length_m'\n",
    "f = interp1d(table['time_since_begin'], table[y])\n",
    "g= interp1d(table['time_since_begin'], table['datetime'])\n",
    "\n",
    "deb = np.min(table['time_since_begin'])\n",
    "end = np.max(table['time_since_begin'])\n",
    "frequ = 1\n",
    "av_lapse = 49\n",
    "x = np.linspace(deb,end,int((end-deb)*frequ)+1)\n",
    "# x = x[10:]\n",
    "resampled = pd.DataFrame({'time':x,y:f(x)})\n",
    "coefs = np.polyfit(x,resampled[y] ,5)\n",
    "p = np.poly1d(coefs)\n",
    "resampled['total_length_m_smooth']=resampled[y].rolling(40,center= True).mean()\n",
    "resampled['absolute_time']=pd.to_datetime(g(resampled['time']))\n",
    "resampled['total_length_m_smooth2']= savgol_filter(resampled[y], av_lapse*frequ, 3)\n",
    "resampled['total_length_m_smooth3']= p(x)\n",
    "\n",
    "resampled['total_length_m_residual3'] = resampled[y]-resampled['total_length_m_smooth2']\n",
    "resampled['total_length_m_residual4'] = resampled[y]-resampled['total_length_m_smooth3']\n",
    "\n",
    "resampled['total_length_m_residual_ZMUV3'] = (resampled['total_length_m_residual3']-np.mean(resampled['total_length_m_residual3']))/np.std(resampled['total_length_m_residual3'])\n",
    "resampled['total_length_m_residual_ZMUV4'] = (resampled['total_length_m_residual4']-np.mean(resampled['total_length_m_residual4']))/np.std(resampled['total_length_m_residual4'])\n",
    "plate = 785\n",
    "table = ind_plate_table[plate].loc[ind_plate_table[plate]['out_study']==False]\n",
    "table = ind_plate_table[plate]\n",
    "\n",
    "y = 'total_length_m'\n",
    "f = interp1d(table['time_since_begin'], table[y])\n",
    "g= interp1d(table['time_since_begin'], table['datetime'])\n",
    "\n",
    "deb = np.min(table['time_since_begin'])\n",
    "end = np.max(table['time_since_begin'])\n",
    "frequ = 1\n",
    "av_lapse = 49\n",
    "x = np.linspace(deb,end,int((end-deb)*frequ)+1)\n",
    "# x = x[10:]\n",
    "resampled2 = pd.DataFrame({'time':x,y:f(x)})\n",
    "coefs = np.polyfit(x,resampled2[y] ,5)\n",
    "p = np.poly1d(coefs)\n",
    "resampled2['total_length_m_smooth']=resampled2[y].rolling(40,center= True).mean()\n",
    "resampled2['absolute_time']=pd.to_datetime(g(resampled2['time']))\n",
    "resampled2['total_length_m_smooth2']= savgol_filter(resampled2[y], av_lapse*frequ, 3)\n",
    "resampled2['total_length_m_smooth3']= p(x)\n",
    "\n",
    "resampled2['total_length_m_residual3'] = resampled2[y]-resampled2['total_length_m_smooth2']\n",
    "resampled2['total_length_m_residual4'] = resampled2[y]-resampled2['total_length_m_smooth3']\n",
    "\n",
    "resampled2['total_length_m_residual_ZMUV3'] = (resampled2['total_length_m_residual3']-np.mean(resampled2['total_length_m_residual3']))/np.std(resampled2['total_length_m_residual3'])\n",
    "resampled2['total_length_m_residual_ZMUV4'] = (resampled2['total_length_m_residual4']-np.mean(resampled2['total_length_m_residual4']))/np.std(resampled2['total_length_m_residual4'])\n",
    "plate = 785\n",
    "table = ind_plate_table[plate].loc[ind_plate_table[plate]['out_study']==False]\n",
    "table = ind_plate_table[plate]\n",
    "\n",
    "y = 'total_length_m'\n",
    "f = interp1d(table['time_since_begin'], table[y])\n",
    "g= interp1d(table['time_since_begin'], table['datetime'])\n",
    "\n",
    "deb = np.min(table['time_since_begin'])\n",
    "end = np.max(table['time_since_begin'])\n",
    "frequ = 1\n",
    "av_lapse = 49\n",
    "x = np.linspace(deb,end,int((end-deb)*frequ)+1)\n",
    "# x = x[10:]\n",
    "resampled2 = pd.DataFrame({'time':x,y:f(x)})\n",
    "coefs = np.polyfit(x,resampled2[y] ,5)\n",
    "p = np.poly1d(coefs)\n",
    "resampled2['total_length_m_smooth']=resampled2[y].rolling(40,center= True).mean()\n",
    "resampled2['absolute_time']=pd.to_datetime(g(resampled2['time']))\n",
    "resampled2['total_length_m_smooth2']= savgol_filter(resampled2[y], av_lapse*frequ, 3)\n",
    "resampled2['total_length_m_smooth3']= p(x)\n",
    "\n",
    "resampled2['total_length_m_residual3'] = resampled2[y]-resampled2['total_length_m_smooth2']\n",
    "resampled2['total_length_m_residual4'] = resampled2[y]-resampled2['total_length_m_smooth3']\n",
    "\n",
    "resampled2['total_length_m_residual_ZMUV3'] = (resampled2['total_length_m_residual3']-np.mean(resampled2['total_length_m_residual3']))/np.std(resampled2['total_length_m_residual3'])\n",
    "resampled2['total_length_m_residual_ZMUV4'] = (resampled2['total_length_m_residual4']-np.mean(resampled2['total_length_m_residual4']))/np.std(resampled2['total_length_m_residual4'])\n",
    "plate = 808\n",
    "# table = ind_plate_table[plate].loc[ind_plate_table[plate]['out_study']==False]\n",
    "table = ind_plate_table[plate]\n",
    "table = table.loc[(np.abs(table['total_length_m']-0.5716619403117118)>0.01)&(np.abs(table['total_length_m']-0.954)>0.01)]\n",
    "y = 'total_length_m'\n",
    "f = interp1d(table['time_since_begin'], table[y])\n",
    "g= interp1d(table['time_since_begin'], table['datetime'])\n",
    "\n",
    "deb = np.min(table['time_since_begin'])\n",
    "end = np.max(table['time_since_begin'])\n",
    "frequ = 1\n",
    "av_lapse = 49\n",
    "x = np.linspace(deb,end,int((end-deb)*frequ)+1)\n",
    "# x = x[10:]\n",
    "resampled3 = pd.DataFrame({'time':x,y:f(x)})\n",
    "coefs = np.polyfit(x,resampled[y] ,5)\n",
    "p = np.poly1d(coefs)\n",
    "resampled3['total_length_m_smooth']=resampled3[y].rolling(40,center= True).mean()\n",
    "resampled3['absolute_time']=pd.to_datetime(g(resampled3['time']))\n",
    "resampled3['total_length_m_smooth2']= savgol_filter(resampled3[y], av_lapse*frequ, 3)\n",
    "resampled3['total_length_m_smooth3']= p(x)\n",
    "\n",
    "resampled3['total_length_m_residual3'] = resampled3[y]-resampled3['total_length_m_smooth2']\n",
    "resampled3['total_length_m_residual4'] = resampled3[y]-resampled3['total_length_m_smooth3']\n",
    "\n",
    "resampled3['total_length_m_residual_ZMUV3'] = (resampled3['total_length_m_residual3']-np.mean(resampled3['total_length_m_residual3']))/np.std(resampled3['total_length_m_residual3'])\n",
    "resampled3['total_length_m_residual_ZMUV4'] = (resampled3['total_length_m_residual4']-np.mean(resampled3['total_length_m_residual4']))/np.std(resampled3['total_length_m_residual4'])"
   ]
  },
  {
   "cell_type": "code",
   "execution_count": 10,
   "metadata": {},
   "outputs": [
    {
     "data": {
      "application/vnd.jupyter.widget-view+json": {
       "model_id": "1cc44228501b47a59c400c89f8ec0c39",
       "version_major": 2,
       "version_minor": 0
      },
      "text/plain": [
       "Canvas(toolbar=Toolbar(toolitems=[('Home', 'Reset original view', 'home', 'home'), ('Back', 'Back to previous …"
      ]
     },
     "metadata": {},
     "output_type": "display_data"
    },
    {
     "ename": "NameError",
     "evalue": "name 'resampled2' is not defined",
     "output_type": "error",
     "traceback": [
      "\u001b[1;31m---------------------------------------------------------------------------\u001b[0m",
      "\u001b[1;31mNameError\u001b[0m                                 Traceback (most recent call last)",
      "\u001b[1;32m<ipython-input-10-d48d609fc405>\u001b[0m in \u001b[0;36m<module>\u001b[1;34m\u001b[0m\n\u001b[0;32m      5\u001b[0m \u001b[1;31m# ax.plot(x,reg.predict(x.reshape((-1, 1))))\u001b[0m\u001b[1;33m\u001b[0m\u001b[1;33m\u001b[0m\u001b[1;33m\u001b[0m\u001b[0m\n\u001b[0;32m      6\u001b[0m \u001b[0max\u001b[0m\u001b[1;33m.\u001b[0m\u001b[0mplot\u001b[0m\u001b[1;33m(\u001b[0m\u001b[0mresampled\u001b[0m\u001b[1;33m[\u001b[0m\u001b[1;34m'absolute_time'\u001b[0m\u001b[1;33m]\u001b[0m\u001b[1;33m,\u001b[0m\u001b[0mresampled\u001b[0m\u001b[1;33m[\u001b[0m\u001b[1;34m'total_length_m_residual_ZMUV3'\u001b[0m\u001b[1;33m]\u001b[0m\u001b[1;33m)\u001b[0m\u001b[1;33m\u001b[0m\u001b[1;33m\u001b[0m\u001b[0m\n\u001b[1;32m----> 7\u001b[1;33m \u001b[0max\u001b[0m\u001b[1;33m.\u001b[0m\u001b[0mplot\u001b[0m\u001b[1;33m(\u001b[0m\u001b[0mresampled2\u001b[0m\u001b[1;33m[\u001b[0m\u001b[1;34m'absolute_time'\u001b[0m\u001b[1;33m]\u001b[0m\u001b[1;33m,\u001b[0m\u001b[0mresampled2\u001b[0m\u001b[1;33m[\u001b[0m\u001b[1;34m'total_length_m_residual_ZMUV3'\u001b[0m\u001b[1;33m]\u001b[0m\u001b[1;33m)\u001b[0m\u001b[1;33m\u001b[0m\u001b[1;33m\u001b[0m\u001b[0m\n\u001b[0m\u001b[0;32m      8\u001b[0m \u001b[0max\u001b[0m\u001b[1;33m.\u001b[0m\u001b[0mplot\u001b[0m\u001b[1;33m(\u001b[0m\u001b[0mresampled3\u001b[0m\u001b[1;33m[\u001b[0m\u001b[1;34m'absolute_time'\u001b[0m\u001b[1;33m]\u001b[0m\u001b[1;33m,\u001b[0m\u001b[0mresampled3\u001b[0m\u001b[1;33m[\u001b[0m\u001b[1;34m'total_length_m_residual_ZMUV3'\u001b[0m\u001b[1;33m]\u001b[0m\u001b[1;33m)\u001b[0m\u001b[1;33m\u001b[0m\u001b[1;33m\u001b[0m\u001b[0m\n\u001b[0;32m      9\u001b[0m \u001b[0mdate_form\u001b[0m \u001b[1;33m=\u001b[0m \u001b[0mDateFormatter\u001b[0m\u001b[1;33m(\u001b[0m\u001b[1;34m\"%m-%d-%HH\"\u001b[0m\u001b[1;33m)\u001b[0m\u001b[1;33m\u001b[0m\u001b[1;33m\u001b[0m\u001b[0m\n",
      "\u001b[1;31mNameError\u001b[0m: name 'resampled2' is not defined"
     ]
    }
   ],
   "source": [
    "from matplotlib.dates import DateFormatter\n",
    "import matplotlib.dates as mdates\n",
    "fig, ax = plt.subplots(1, 1, figsize=(8, 4))\n",
    "# ax.plot(x,resampled['speed'])\n",
    "# ax.plot(x,reg.predict(x.reshape((-1, 1))))\n",
    "ax.plot(resampled['absolute_time'],resampled['total_length_m_residual_ZMUV3'])\n",
    "ax.plot(resampled2['absolute_time'],resampled2['total_length_m_residual_ZMUV3'])\n",
    "ax.plot(resampled3['absolute_time'],resampled3['total_length_m_residual_ZMUV3'])\n",
    "date_form = DateFormatter(\"%m-%d-%HH\")\n",
    "ax.xaxis.set_major_formatter(date_form)\n",
    "ax.xaxis.set_major_locator(mdates.DayLocator())"
   ]
  },
  {
   "cell_type": "code",
   "execution_count": 141,
   "metadata": {},
   "outputs": [
    {
     "data": {
      "application/vnd.jupyter.widget-view+json": {
       "model_id": "46fb634a9d424cd5a9caf0c5e4a62a94",
       "version_major": 2,
       "version_minor": 0
      },
      "text/plain": [
       "Canvas(toolbar=Toolbar(toolitems=[('Home', 'Reset original view', 'home', 'home'), ('Back', 'Back to previous …"
      ]
     },
     "metadata": {},
     "output_type": "display_data"
    },
    {
     "data": {
      "text/plain": [
       "<matplotlib.legend.Legend at 0x13c7247a048>"
      ]
     },
     "execution_count": 141,
     "metadata": {},
     "output_type": "execute_result"
    }
   ],
   "source": [
    "from datetime import datetime\n",
    "fig, ax = plt.subplots(1, 1, figsize=(8, 4))\n",
    "accu = pd.DataFrame(columns = ['time','deviation'])\n",
    "plates = [76,94,102,152,10,88,785,91,80,792]\n",
    "# plates = [88,792]\n",
    "for plate in plates:\n",
    "    table = ind_plate_table[plate].loc[ind_plate_table[plate]['out_study']==False]\n",
    "    # table = ind_plate_table[plate]\n",
    "    # table = table.loc[(np.abs(table['total_length_m']-0.5716619403117118)>0.01)&(np.abs(table['total_length_m']-0.954)>0.01)]\n",
    "    y = 'total_length_m'\n",
    "    f = interp1d(table['time_since_begin'], table[y])\n",
    "    g= interp1d(table['time_since_begin'], table['datetime'])\n",
    "\n",
    "    deb = np.min(table['time_since_begin'])\n",
    "    end = np.max(table['time_since_begin'])\n",
    "    frequ = 1\n",
    "    av_lapse = 49\n",
    "    x = np.linspace(deb,end,int((end-deb)*frequ)+1)\n",
    "    # x = x[10:]\n",
    "    resampled = pd.DataFrame({'time':x,y:f(x)})\n",
    "    coefs = np.polyfit(x,resampled[y] ,5)\n",
    "    p = np.poly1d(coefs)\n",
    "    resampled['total_length_m_smooth']=resampled[y].rolling(40,center= True).mean()\n",
    "    resampled['absolute_time']=pd.to_datetime(g(resampled['time']))\n",
    "    resampled['time_of_day']=resampled['absolute_time'].dt.hour\n",
    "\n",
    "    resampled['total_length_m_smooth2']= savgol_filter(resampled[y], av_lapse*frequ, 3)\n",
    "    resampled['total_length_m_smooth3']= p(x)\n",
    "\n",
    "    resampled['total_length_m_residual3'] = resampled[y]-resampled['total_length_m_smooth2']\n",
    "    resampled['total_length_m_residual4'] = resampled[y]-resampled['total_length_m_smooth3']\n",
    "\n",
    "    resampled['total_length_m_residual_ZMUV3'] = (resampled['total_length_m_residual3']-np.mean(resampled['total_length_m_residual3']))/np.std(resampled['total_length_m_residual3'])\n",
    "    resampled['total_length_m_residual_ZMUV4'] = (resampled['total_length_m_residual4']-np.mean(resampled['total_length_m_residual4']))/np.std(resampled['total_length_m_residual4'])\n",
    "    # ax.plot(x,resampled['speed'])\n",
    "    # ax.plot(x,reg.predict(x.reshape((-1, 1))))\n",
    "    averaged = resampled.groupby('time_of_day')['total_length_m_residual_ZMUV3'].mean()\n",
    "    data = [{'time' : index,'deviation' : average} for index,average in enumerate(averaged)]\n",
    "    accu=accu.append(data,ignore_index=True)\n",
    "    ax.plot(averaged.index,averaged,label = plate,alpha = 0.3)\n",
    "    ax.set_xlabel('time of the day (h)')\n",
    "accu_mean = accu.groupby('time')['deviation'].mean()\n",
    "accu_error = accu.groupby('time')['deviation'].std()/np.sqrt(len(plates))\n",
    "\n",
    "# ax.plot(accu_mean.index,accu_mean,label = 'mean')\n",
    "# ax.plot(accu_mean-accu_error,color='green')\n",
    "# ax.plot(accu_mean+accu_error,color='green')\n",
    "plt.legend()"
   ]
  },
  {
   "cell_type": "code",
   "execution_count": 115,
   "metadata": {},
   "outputs": [
    {
     "data": {
      "application/vnd.jupyter.widget-view+json": {
       "model_id": "2bb7f04a9c6045c599712eb02d950f42",
       "version_major": 2,
       "version_minor": 0
      },
      "text/plain": [
       "Canvas(toolbar=Toolbar(toolitems=[('Home', 'Reset original view', 'home', 'home'), ('Back', 'Back to previous …"
      ]
     },
     "metadata": {},
     "output_type": "display_data"
    },
    {
     "name": "stdout",
     "output_type": "stream",
     "text": [
      "51\n",
      "51\n",
      "51\n",
      "51\n",
      "51\n",
      "51\n",
      "51\n",
      "51\n",
      "51\n",
      "51\n"
     ]
    },
    {
     "data": {
      "text/plain": [
       "<matplotlib.legend.Legend at 0x13c6ed237c8>"
      ]
     },
     "execution_count": 115,
     "metadata": {},
     "output_type": "execute_result"
    }
   ],
   "source": [
    "from datetime import datetime\n",
    "fig, ax = plt.subplots(1, 1, figsize=(8, 4))\n",
    "accu = []\n",
    "for plate in [76,94,102,152,10,88,785,91,80,792]:\n",
    "    table = ind_plate_table[plate].loc[ind_plate_table[plate]['out_study']==False]\n",
    "    # table = ind_plate_table[plate]\n",
    "    # table = table.loc[(np.abs(table['total_length_m']-0.5716619403117118)>0.01)&(np.abs(table['total_length_m']-0.954)>0.01)]\n",
    "    y = 'total_length_m'\n",
    "    f = interp1d(table['time_since_begin'], table[y])\n",
    "    g= interp1d(table['time_since_begin'], table['datetime'])\n",
    "\n",
    "    deb = np.min(table['time_since_begin'])\n",
    "    end = np.max(table['time_since_begin'])\n",
    "    frequ = 1\n",
    "    av_lapse = 51\n",
    "    x = np.linspace(deb,end,int((end-deb)*frequ)+1)\n",
    "    # x = x[10:]\n",
    "    resampled = pd.DataFrame({'time':x,y:f(x)})\n",
    "    coefs = np.polyfit(x,resampled[y] ,5)\n",
    "    p = np.poly1d(coefs)\n",
    "    resampled['total_length_m_smooth']=resampled[y].rolling(40,center= True).mean()\n",
    "    resampled['absolute_time']=pd.to_datetime(g(resampled['time']))\n",
    "    resampled['time_of_day']=resampled['absolute_time'].dt.hour\n",
    "\n",
    "    resampled['total_length_m_smooth2']= savgol_filter(resampled[y], av_lapse*frequ, 3)\n",
    "    resampled['total_length_m_smooth3']= p(x)\n",
    "\n",
    "    resampled['total_length_m_residual3'] = resampled[y]-resampled['total_length_m_smooth2']\n",
    "    resampled['total_length_m_residual4'] = resampled[y]-resampled['total_length_m_smooth3']\n",
    "\n",
    "    resampled['total_length_m_residual_ZMUV3'] = (resampled['total_length_m_residual3']-np.mean(resampled['total_length_m_residual3']))/np.std(resampled['total_length_m_residual3'])\n",
    "    resampled['total_length_m_residual_ZMUV4'] = (resampled['total_length_m_residual4']-np.mean(resampled['total_length_m_residual4']))/np.std(resampled['total_length_m_residual4'])\n",
    "    # ax.plot(x,resampled['speed'])\n",
    "    # ax.plot(x,reg.predict(x.reshape((-1, 1))))\n",
    "    averaged = resampled.groupby('time_of_day')['total_length_m_residual_ZMUV3'].mean()\n",
    "    s = resampled[~np.isnan(resampled['total_length_m_residual_ZMUV3'].astype(np.float))]['total_length_m_residual_ZMUV3'].values\n",
    "    s = s[:51]\n",
    "    print(len(s))\n",
    "    autoc = autocorr(s)\n",
    "    autoc = autoc/autoc.max()\n",
    "    accu.append(autoc.tolist())\n",
    "    ax.plot(autoc,label = plate,alpha = 0.2)\n",
    "mean_autocor = np.mean(np.array(accu),axis=0)\n",
    "std_autocor = np.std(np.array(accu),axis=0)\n",
    "error = std_autocor/np.sqrt(len(plates))\n",
    "\n",
    "ax.plot(mean_autocor,label = 'mean')\n",
    "ax.plot(mean_autocor-error,color='green')\n",
    "ax.plot(mean_autocor+error,color='green')\n",
    "\n",
    "ax.set_xlabel('lag (h)')\n",
    "ax.set_ylabel('autocorrelation')\n",
    "\n",
    "ax.legend()"
   ]
  },
  {
   "cell_type": "code",
   "execution_count": null,
   "metadata": {},
   "outputs": [],
   "source": [
    "fourrier=fourrier.append(data,ignore_index=True)"
   ]
  },
  {
   "cell_type": "code",
   "execution_count": 139,
   "metadata": {},
   "outputs": [
    {
     "data": {
      "application/vnd.jupyter.widget-view+json": {
       "model_id": "66bd882fd93342709cf2fa6a247a644f",
       "version_major": 2,
       "version_minor": 0
      },
      "text/plain": [
       "Canvas(toolbar=Toolbar(toolitems=[('Home', 'Reset original view', 'home', 'home'), ('Back', 'Back to previous …"
      ]
     },
     "metadata": {},
     "output_type": "display_data"
    }
   ],
   "source": [
    "from datetime import datetime\n",
    "\n",
    "plate = 88\n",
    "table = ind_plate_table[plate].loc[ind_plate_table[plate]['out_study']==False]\n",
    "# table = ind_plate_table[plate]\n",
    "\n",
    "y = 'total_length_m'\n",
    "f = interp1d(table['time_since_begin'], table[y])\n",
    "g= interp1d(table['time_since_begin'], table['datetime'])\n",
    "\n",
    "deb = np.min(table['time_since_begin'])\n",
    "end = np.max(table['time_since_begin'])\n",
    "frequ = 1\n",
    "av_lapse = 49\n",
    "x = np.linspace(deb,end,int((end-deb)*frequ)+1)\n",
    "# x = x[10:]\n",
    "resampled = pd.DataFrame({'time':x,y:f(x)})\n",
    "coefs = np.polyfit(x,resampled[y] ,5)\n",
    "p = np.poly1d(coefs)\n",
    "resampled['total_length_m_smooth']=resampled[y].rolling(40,center= True).mean()\n",
    "resampled['absolute_time']=pd.to_datetime(g(resampled['time']))\n",
    "resampled['total_length_m_smooth2']= savgol_filter(resampled[y], av_lapse*frequ, 3)\n",
    "resampled['total_length_m_smooth3']= p(x)\n",
    "\n",
    "resampled['total_length_m_residual3'] = resampled[y]-resampled['total_length_m_smooth2']\n",
    "resampled['total_length_m_residual4'] = resampled[y]-resampled['total_length_m_smooth3']\n",
    "\n",
    "resampled['total_length_m_residual_ZMUV3'] = (resampled['total_length_m_residual3']-np.mean(resampled['total_length_m_residual3']))/np.std(resampled['total_length_m_residual3'])\n",
    "resampled['total_length_m_residual_ZMUV4'] = (resampled['total_length_m_residual4']-np.mean(resampled['total_length_m_residual4']))/np.std(resampled['total_length_m_residual4'])\n",
    "plate = 792\n",
    "table = ind_plate_table[plate].loc[ind_plate_table[plate]['out_study']==False]\n",
    "# table = ind_plate_table[plate]\n",
    "\n",
    "y = 'total_length_m'\n",
    "f = interp1d(table['time_since_begin'], table[y])\n",
    "g= interp1d(table['time_since_begin'], table['datetime'])\n",
    "\n",
    "deb = np.min(table['time_since_begin'])\n",
    "end = np.max(table['time_since_begin'])\n",
    "frequ = 1\n",
    "av_lapse = 49\n",
    "x = np.linspace(deb,end,int((end-deb)*frequ)+1)\n",
    "# x = x[10:]\n",
    "resampled2 = pd.DataFrame({'time':x,y:f(x)})\n",
    "coefs = np.polyfit(x,resampled2[y] ,5)\n",
    "p = np.poly1d(coefs)\n",
    "resampled2['total_length_m_smooth']=resampled2[y].rolling(40,center= True).mean()\n",
    "resampled2['absolute_time']=pd.to_datetime(g(resampled2['time']))\n",
    "resampled2['total_length_m_smooth2']= savgol_filter(resampled2[y], av_lapse*frequ, 3)\n",
    "resampled2['total_length_m_smooth3']= p(x)\n",
    "\n",
    "resampled2['total_length_m_residual3'] = resampled2[y]-resampled2['total_length_m_smooth2']\n",
    "resampled2['total_length_m_residual4'] = resampled2[y]-resampled2['total_length_m_smooth3']\n",
    "\n",
    "resampled2['total_length_m_residual_ZMUV3'] = (resampled2['total_length_m_residual3']-np.mean(resampled2['total_length_m_residual3']))/np.std(resampled2['total_length_m_residual3'])\n",
    "resampled2['total_length_m_residual_ZMUV4'] = (resampled2['total_length_m_residual4']-np.mean(resampled2['total_length_m_residual4']))/np.std(resampled2['total_length_m_residual4'])\n",
    "from matplotlib.dates import DateFormatter\n",
    "import matplotlib.dates as mdates\n",
    "fig, ax = plt.subplots(1, 1, figsize=(8, 4))\n",
    "# ax.plot(x,resampled['speed'])\n",
    "# ax.plot(x,reg.predict(x.reshape((-1, 1))))\n",
    "ax.plot(resampled['absolute_time'],resampled['total_length_m_residual_ZMUV3'])\n",
    "ax.plot(resampled2['absolute_time'],resampled2['total_length_m_residual_ZMUV3'])\n",
    "date_form = DateFormatter(\"%m-%d-%HH\")\n",
    "ax.xaxis.set_major_formatter(date_form)\n",
    "ax.xaxis.set_major_locator(mdates.DayLocator())"
   ]
  }
 ],
 "metadata": {
  "kernelspec": {
   "display_name": "Python 3",
   "language": "python",
   "name": "python3"
  },
  "language_info": {
   "codemirror_mode": {
    "name": "ipython",
    "version": 3
   },
   "file_extension": ".py",
   "mimetype": "text/x-python",
   "name": "python",
   "nbconvert_exporter": "python",
   "pygments_lexer": "ipython3",
   "version": "3.7.9"
  }
 },
 "nbformat": 4,
 "nbformat_minor": 4
}
