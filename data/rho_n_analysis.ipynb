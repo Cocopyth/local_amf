{
 "cells": [
  {
   "cell_type": "code",
   "execution_count": 1,
   "metadata": {},
   "outputs": [],
   "source": [
    "import numpy as np\n",
    "from patsy import dmatrices\n",
    "import pandas as pd\n",
    "import statsmodels.api as sm\n",
    "import matplotlib.pyplot as plt\n",
    "import numpy as np\n",
    "import matplotlib.pyplot as plt\n",
    "import pandas as pd\n",
    "import statsmodels.formula.api as sm# synthetic sample data\n",
    "import seaborn as sns\n",
    "\n",
    "%matplotlib widget"
   ]
  },
  {
   "cell_type": "code",
   "execution_count": 2,
   "metadata": {},
   "outputs": [],
   "source": [
    "path_save = r\"C:\\Users\\coren\\Dropbox\\Apps\\Snellius2\\data_tables\\time_plate_infos.pick\"\n",
    "\n",
    "time_plate_info = pd.read_pickle(path_save)\n"
   ]
  },
  {
   "cell_type": "code",
   "execution_count": 6,
   "metadata": {
    "collapsed": true,
    "jupyter": {
     "outputs_hidden": true
    }
   },
   "outputs": [
    {
     "data": {
      "text/plain": [
       "['t',\n",
       " 'tot_length',\n",
       " 'date',\n",
       " 'Plate',\n",
       " 'path_exp',\n",
       " 'folder_analysis',\n",
       " 'num_trunks',\n",
       " 'area',\n",
       " 'area_sep_comp',\n",
       " 'num_tips',\n",
       " 'num_nodes',\n",
       " 'area_study',\n",
       " 'num_tips_study',\n",
       " 'num_nodes_study',\n",
       " 'tot_length_study',\n",
       " 'out_study',\n",
       " 'ring_density_incr-100_index-0',\n",
       " 'ring_density_incr-100_index-1',\n",
       " 'ring_density_incr-100_index-2',\n",
       " 'ring_density_incr-100_index-3',\n",
       " 'ring_density_incr-100_index-4',\n",
       " 'ring_density_incr-100_index-5',\n",
       " 'ring_density_incr-100_index-6',\n",
       " 'ring_density_incr-100_index-7',\n",
       " 'ring_density_incr-100_index-8',\n",
       " 'ring_density_incr-100_index-9',\n",
       " 'ring_density_incr-100_index-10',\n",
       " 'ring_density_incr-100_index-11',\n",
       " 'ring_density_incr-100_index-12',\n",
       " 'ring_density_incr-100_index-13',\n",
       " 'ring_density_incr-100_index-14',\n",
       " 'ring_density_incr-100_index-15',\n",
       " 'ring_density_incr-100_index-16',\n",
       " 'ring_density_incr-100_index-17',\n",
       " 'ring_density_incr-100_index-18',\n",
       " 'ring_density_incr-100_index-19',\n",
       " 'ring_anas_density_incr-100_index-0',\n",
       " 'ring_anas_density_incr-100_index-1',\n",
       " 'ring_anas_density_incr-100_index-2',\n",
       " 'ring_anas_density_incr-100_index-3',\n",
       " 'ring_anas_density_incr-100_index-4',\n",
       " 'ring_anas_density_incr-100_index-5',\n",
       " 'ring_anas_density_incr-100_index-6',\n",
       " 'ring_anas_density_incr-100_index-7',\n",
       " 'ring_anas_density_incr-100_index-8',\n",
       " 'ring_anas_density_incr-100_index-9',\n",
       " 'ring_anas_density_incr-100_index-10',\n",
       " 'ring_anas_density_incr-100_index-11',\n",
       " 'ring_anas_density_incr-100_index-12',\n",
       " 'ring_anas_density_incr-100_index-13',\n",
       " 'ring_anas_density_incr-100_index-14',\n",
       " 'ring_anas_density_incr-100_index-15',\n",
       " 'ring_anas_density_incr-100_index-16',\n",
       " 'ring_anas_density_incr-100_index-17',\n",
       " 'ring_anas_density_incr-100_index-18',\n",
       " 'ring_anas_density_incr-100_index-19',\n",
       " 'ring_branch_density_incr-100_index-0',\n",
       " 'ring_branch_density_incr-100_index-1',\n",
       " 'ring_branch_density_incr-100_index-2',\n",
       " 'ring_branch_density_incr-100_index-3',\n",
       " 'ring_branch_density_incr-100_index-4',\n",
       " 'ring_branch_density_incr-100_index-5',\n",
       " 'ring_branch_density_incr-100_index-6',\n",
       " 'ring_branch_density_incr-100_index-7',\n",
       " 'ring_branch_density_incr-100_index-8',\n",
       " 'ring_branch_density_incr-100_index-9',\n",
       " 'ring_branch_density_incr-100_index-10',\n",
       " 'ring_branch_density_incr-100_index-11',\n",
       " 'ring_branch_density_incr-100_index-12',\n",
       " 'ring_branch_density_incr-100_index-13',\n",
       " 'ring_branch_density_incr-100_index-14',\n",
       " 'ring_branch_density_incr-100_index-15',\n",
       " 'ring_branch_density_incr-100_index-16',\n",
       " 'ring_branch_density_incr-100_index-17',\n",
       " 'ring_branch_density_incr-100_index-18',\n",
       " 'ring_branch_density_incr-100_index-19',\n",
       " 'ring_stop_density_incr-100_index-0',\n",
       " 'ring_stop_density_incr-100_index-1',\n",
       " 'ring_stop_density_incr-100_index-2',\n",
       " 'ring_stop_density_incr-100_index-3',\n",
       " 'ring_stop_density_incr-100_index-4',\n",
       " 'ring_stop_density_incr-100_index-5',\n",
       " 'ring_stop_density_incr-100_index-6',\n",
       " 'ring_stop_density_incr-100_index-7',\n",
       " 'ring_stop_density_incr-100_index-8',\n",
       " 'ring_stop_density_incr-100_index-9',\n",
       " 'ring_stop_density_incr-100_index-10',\n",
       " 'ring_stop_density_incr-100_index-11',\n",
       " 'ring_stop_density_incr-100_index-12',\n",
       " 'ring_stop_density_incr-100_index-13',\n",
       " 'ring_stop_density_incr-100_index-14',\n",
       " 'ring_stop_density_incr-100_index-15',\n",
       " 'ring_stop_density_incr-100_index-16',\n",
       " 'ring_stop_density_incr-100_index-17',\n",
       " 'ring_stop_density_incr-100_index-18',\n",
       " 'ring_stop_density_incr-100_index-19',\n",
       " 'ring_active_tips_density_incr-100_index-0',\n",
       " 'ring_active_tips_density_incr-100_index-1',\n",
       " 'ring_active_tips_density_incr-100_index-2',\n",
       " 'ring_active_tips_density_incr-100_index-3',\n",
       " 'ring_active_tips_density_incr-100_index-4',\n",
       " 'ring_active_tips_density_incr-100_index-5',\n",
       " 'ring_active_tips_density_incr-100_index-6',\n",
       " 'ring_active_tips_density_incr-100_index-7',\n",
       " 'ring_active_tips_density_incr-100_index-8',\n",
       " 'ring_active_tips_density_incr-100_index-9',\n",
       " 'ring_active_tips_density_incr-100_index-10',\n",
       " 'ring_active_tips_density_incr-100_index-11',\n",
       " 'ring_active_tips_density_incr-100_index-12',\n",
       " 'ring_active_tips_density_incr-100_index-13',\n",
       " 'ring_active_tips_density_incr-100_index-14',\n",
       " 'ring_active_tips_density_incr-100_index-15',\n",
       " 'ring_active_tips_density_incr-100_index-16',\n",
       " 'ring_active_tips_density_incr-100_index-17',\n",
       " 'ring_active_tips_density_incr-100_index-18',\n",
       " 'ring_active_tips_density_incr-100_index-19',\n",
       " 'L_rh',\n",
       " 'L_BAS',\n",
       " 'ring_density_incr-200_index-0',\n",
       " 'ring_density_incr-200_index-1',\n",
       " 'ring_density_incr-200_index-2',\n",
       " 'ring_density_incr-200_index-3',\n",
       " 'ring_density_incr-200_index-4',\n",
       " 'ring_density_incr-200_index-5',\n",
       " 'ring_density_incr-200_index-6',\n",
       " 'ring_density_incr-200_index-7',\n",
       " 'ring_density_incr-200_index-8',\n",
       " 'ring_density_incr-200_index-9',\n",
       " 'ring_bas_density_incr-100_index-0',\n",
       " 'ring_bas_density_incr-100_index-1',\n",
       " 'ring_bas_density_incr-100_index-2',\n",
       " 'ring_bas_density_incr-100_index-3',\n",
       " 'ring_bas_density_incr-100_index-4',\n",
       " 'ring_bas_density_incr-100_index-5',\n",
       " 'ring_bas_density_incr-100_index-6',\n",
       " 'ring_bas_density_incr-100_index-7',\n",
       " 'ring_bas_density_incr-100_index-8',\n",
       " 'ring_bas_density_incr-100_index-9',\n",
       " 'ring_bas_density_incr-100_index-10',\n",
       " 'ring_bas_density_incr-100_index-11',\n",
       " 'ring_bas_density_incr-100_index-12',\n",
       " 'ring_bas_density_incr-100_index-13',\n",
       " 'ring_bas_density_incr-100_index-14',\n",
       " 'ring_bas_density_incr-100_index-15',\n",
       " 'ring_bas_density_incr-100_index-16',\n",
       " 'ring_bas_density_incr-100_index-17',\n",
       " 'ring_bas_density_incr-100_index-18',\n",
       " 'ring_bas_density_incr-100_index-19',\n",
       " 'mean_speed_incr-100_index-0',\n",
       " 'mean_speed_incr-100_index-1',\n",
       " 'mean_speed_incr-100_index-2',\n",
       " 'mean_speed_incr-100_index-3',\n",
       " 'mean_speed_incr-100_index-4',\n",
       " 'mean_speed_incr-100_index-5',\n",
       " 'mean_speed_incr-100_index-6',\n",
       " 'mean_speed_incr-100_index-7',\n",
       " 'mean_speed_incr-100_index-8',\n",
       " 'mean_speed_incr-100_index-9',\n",
       " 'mean_speed_incr-100_index-10',\n",
       " 'mean_speed_incr-100_index-11',\n",
       " 'mean_speed_incr-100_index-12',\n",
       " 'mean_speed_incr-100_index-13',\n",
       " 'mean_speed_incr-100_index-14',\n",
       " 'mean_speed_incr-100_index-15',\n",
       " 'mean_speed_incr-100_index-16',\n",
       " 'mean_speed_incr-100_index-17',\n",
       " 'mean_speed_incr-100_index-18',\n",
       " 'mean_speed_incr-100_index-19',\n",
       " 'ring_active_tips_density_incr-200_index-0',\n",
       " 'ring_active_tips_density_incr-200_index-1',\n",
       " 'ring_active_tips_density_incr-200_index-2',\n",
       " 'ring_active_tips_density_incr-200_index-3',\n",
       " 'ring_active_tips_density_incr-200_index-4',\n",
       " 'ring_active_tips_density_incr-200_index-5',\n",
       " 'ring_active_tips_density_incr-200_index-6',\n",
       " 'ring_active_tips_density_incr-200_index-7',\n",
       " 'ring_active_tips_density_incr-200_index-8',\n",
       " 'ring_active_tips_density_incr-200_index-9',\n",
       " 'ring_active_tips_density_incr-200_index-10',\n",
       " 'ring_active_tips_density_incr-200_index-11',\n",
       " 'ring_active_tips_density_incr-200_index-12',\n",
       " 'ring_active_tips_density_incr-200_index-13',\n",
       " 'ring_active_tips_density_incr-200_index-14',\n",
       " 'ring_active_tips_density_incr-200_index-15',\n",
       " 'ring_active_tips_density_incr-200_index-16',\n",
       " 'ring_active_tips_density_incr-200_index-17',\n",
       " 'ring_active_tips_density_incr-200_index-18',\n",
       " 'ring_active_tips_density_incr-200_index-19',\n",
       " 'datetime',\n",
       " 'time_since_begin']"
      ]
     },
     "execution_count": 6,
     "metadata": {},
     "output_type": "execute_result"
    }
   ],
   "source": [
    "list(table.columns)"
   ]
  },
  {
   "cell_type": "code",
   "execution_count": 3,
   "metadata": {},
   "outputs": [],
   "source": [
    "plates = [76,94,102,152,792,799,800,808,91,80]\n",
    "plates = [76,94,152,792,799,800,91]\n",
    "# plates= [94]\n",
    "# table = time_plate_info.loc[time_plate_info['Plate']==792]\n",
    "table = time_plate_info.loc[time_plate_info['Plate'].isin(plates)]\n",
    "\n",
    "rhos = []\n",
    "ns = []\n",
    "ans_rate = []\n",
    "stop_rate = []\n",
    "branch_rate = []\n",
    "ts = []\n",
    "speeds = []\n",
    "bas_rho = []\n",
    "ROI = []\n",
    "tot_length = []\n",
    "area = []\n",
    "for index in range(1,12):\n",
    "    column = f\"ring_density_incr-100_index-{index}\"\n",
    "    rhos+= list(table[column])\n",
    "    column = f\"ring_active_tips_density_incr-100_index-{index}\"\n",
    "    ns+= list(table[column])\n",
    "    column = f\"ring_anas_density_incr-100_index-{index}\"\n",
    "    ans_rate+= list(table[column])\n",
    "    column = f\"ring_branch_density_incr-100_index-{index}\"\n",
    "    branch_rate+= list(table[column])\n",
    "    column = f\"ring_stop_density_incr-100_index-{index}\"\n",
    "    stop_rate+= list(table[column])\n",
    "    column = f\"t\"\n",
    "    ts+= list(table[column])\n",
    "    column = f\"mean_speed_incr-100_index-{index}\"\n",
    "    speeds+= list(table[column])\n",
    "    column = f\"ring_bas_density_incr-100_index-{index}\"\n",
    "    bas_rho+= list(table[column])\n",
    "    column = f\"out_study\"\n",
    "    ROI+= list(table[column])\n",
    "    column = 'tot_length_study'\n",
    "    tot_length+= list(table[column])\n",
    "    column = 'area_sep_comp'\n",
    "    area+= list(table[column])"
   ]
  },
  {
   "cell_type": "code",
   "execution_count": 4,
   "metadata": {},
   "outputs": [],
   "source": [
    "data = np.array((rhos,ns,ans_rate,stop_rate,branch_rate,ts,speeds,bas_rho,ROI,tot_length,area)).transpose()\n",
    "table_rhos = pd.DataFrame(data,columns=(\"rho\",\"n\",\"anastomosis event density\",\"stop_rate\",'branching event density','ts','mean speed','bas_rho','in_ROI','total colony length',\"area\"))\n",
    "table_rhos['nrho'] = table_rhos['n']*table_rhos['rho']\n",
    "table_rhos = table_rhos.dropna()\n",
    "table_rhos['n2'] = table_rhos['n']**2\n",
    "table_rhos['branching rate'] = table_rhos['branching event density'].astype(float).divide(table_rhos['n'].astype(float))\n",
    "table_rhos['branch_rate'] = table_rhos['branching rate']\n",
    "table_rhos['branch'] = table_rhos['branching event density']\n",
    "\n",
    "table_rhos['rho2'] = table_rhos['rho']**2\n",
    "table_rhos = table_rhos.astype(float)\n",
    "table_rhos = table_rhos.loc[(table_rhos['n']!=0)]\n",
    "table_rhos = table_rhos.loc[(table_rhos['mean speed']<=400)]\n",
    "\n",
    "table_rhos['bin_n'] = (table_rhos['n']*100).astype(int)/100\n",
    "table_rhos['bin_nrho'] = (table_rhos['nrho']/5).astype(int)*5\n",
    "table_rhos['bin_area'] = (table_rhos['area']/200).astype(int)*200\n",
    "table_rhos['bin_area'] = (table_rhos['area']/200).astype(int)*200"
   ]
  },
  {
   "cell_type": "code",
   "execution_count": 36,
   "metadata": {},
   "outputs": [
    {
     "data": {
      "text/plain": [
       "6       0.009156\n",
       "7       0.009156\n",
       "8       0.009156\n",
       "52      0.000000\n",
       "54      0.036624\n",
       "          ...   \n",
       "8779    0.000000\n",
       "8780    0.005304\n",
       "8781    0.000000\n",
       "8783    0.000000\n",
       "8785    0.000000\n",
       "Name: n, Length: 2189, dtype: float64"
      ]
     },
     "execution_count": 36,
     "metadata": {},
     "output_type": "execute_result"
    }
   ],
   "source": [
    "table_rhos['n'].astype(float)"
   ]
  },
  {
   "cell_type": "code",
   "execution_count": 24,
   "metadata": {},
   "outputs": [
    {
     "data": {
      "text/html": [
       "<style  type=\"text/css\" >\n",
       "#T_16a49_row0_col0,#T_16a49_row1_col1,#T_16a49_row2_col2,#T_16a49_row3_col3,#T_16a49_row4_col4,#T_16a49_row5_col5,#T_16a49_row6_col6,#T_16a49_row6_col7,#T_16a49_row7_col6,#T_16a49_row7_col7,#T_16a49_row8_col8{\n",
       "            background-color:  #b40426;\n",
       "            color:  #f1f1f1;\n",
       "        }#T_16a49_row0_col1,#T_16a49_row0_col3,#T_16a49_row0_col4,#T_16a49_row0_col5,#T_16a49_row0_col8,#T_16a49_row1_col0,#T_16a49_row1_col6,#T_16a49_row1_col7,#T_16a49_row5_col2{\n",
       "            background-color:  #3b4cc0;\n",
       "            color:  #f1f1f1;\n",
       "        }#T_16a49_row0_col2,#T_16a49_row6_col8,#T_16a49_row7_col8{\n",
       "            background-color:  #455cce;\n",
       "            color:  #f1f1f1;\n",
       "        }#T_16a49_row0_col6{\n",
       "            background-color:  #ec8165;\n",
       "            color:  #000000;\n",
       "        }#T_16a49_row0_col7{\n",
       "            background-color:  #ed8366;\n",
       "            color:  #000000;\n",
       "        }#T_16a49_row1_col2{\n",
       "            background-color:  #6f92f3;\n",
       "            color:  #000000;\n",
       "        }#T_16a49_row1_col3,#T_16a49_row4_col1{\n",
       "            background-color:  #f08b6e;\n",
       "            color:  #000000;\n",
       "        }#T_16a49_row1_col4{\n",
       "            background-color:  #f7af91;\n",
       "            color:  #000000;\n",
       "        }#T_16a49_row1_col5{\n",
       "            background-color:  #f4c6af;\n",
       "            color:  #000000;\n",
       "        }#T_16a49_row1_col8{\n",
       "            background-color:  #a6c4fe;\n",
       "            color:  #000000;\n",
       "        }#T_16a49_row2_col0{\n",
       "            background-color:  #c6d6f1;\n",
       "            color:  #000000;\n",
       "        }#T_16a49_row2_col1{\n",
       "            background-color:  #dcdddd;\n",
       "            color:  #000000;\n",
       "        }#T_16a49_row2_col3{\n",
       "            background-color:  #b5cdfa;\n",
       "            color:  #000000;\n",
       "        }#T_16a49_row2_col4,#T_16a49_row4_col5{\n",
       "            background-color:  #c3d5f4;\n",
       "            color:  #000000;\n",
       "        }#T_16a49_row2_col5,#T_16a49_row4_col0{\n",
       "            background-color:  #9ebeff;\n",
       "            color:  #000000;\n",
       "        }#T_16a49_row2_col6,#T_16a49_row2_col7{\n",
       "            background-color:  #a7c5fe;\n",
       "            color:  #000000;\n",
       "        }#T_16a49_row2_col8{\n",
       "            background-color:  #6282ea;\n",
       "            color:  #000000;\n",
       "        }#T_16a49_row3_col0,#T_16a49_row5_col6{\n",
       "            background-color:  #6a8bef;\n",
       "            color:  #000000;\n",
       "        }#T_16a49_row3_col1{\n",
       "            background-color:  #ea7b60;\n",
       "            color:  #000000;\n",
       "        }#T_16a49_row3_col2{\n",
       "            background-color:  #5a78e4;\n",
       "            color:  #000000;\n",
       "        }#T_16a49_row3_col4{\n",
       "            background-color:  #cfdaea;\n",
       "            color:  #000000;\n",
       "        }#T_16a49_row3_col5{\n",
       "            background-color:  #dfdbd9;\n",
       "            color:  #000000;\n",
       "        }#T_16a49_row3_col6,#T_16a49_row3_col7{\n",
       "            background-color:  #5d7ce6;\n",
       "            color:  #000000;\n",
       "        }#T_16a49_row3_col8{\n",
       "            background-color:  #f7ac8e;\n",
       "            color:  #000000;\n",
       "        }#T_16a49_row4_col2{\n",
       "            background-color:  #a2c1ff;\n",
       "            color:  #000000;\n",
       "        }#T_16a49_row4_col3,#T_16a49_row8_col1{\n",
       "            background-color:  #e9d5cb;\n",
       "            color:  #000000;\n",
       "        }#T_16a49_row4_col6{\n",
       "            background-color:  #799cf8;\n",
       "            color:  #000000;\n",
       "        }#T_16a49_row4_col7{\n",
       "            background-color:  #7b9ff9;\n",
       "            color:  #000000;\n",
       "        }#T_16a49_row4_col8{\n",
       "            background-color:  #8caffe;\n",
       "            color:  #000000;\n",
       "        }#T_16a49_row5_col0,#T_16a49_row6_col3,#T_16a49_row7_col3{\n",
       "            background-color:  #6687ed;\n",
       "            color:  #000000;\n",
       "        }#T_16a49_row5_col1{\n",
       "            background-color:  #f7b599;\n",
       "            color:  #000000;\n",
       "        }#T_16a49_row5_col3{\n",
       "            background-color:  #dddcdc;\n",
       "            color:  #000000;\n",
       "        }#T_16a49_row5_col4{\n",
       "            background-color:  #94b6ff;\n",
       "            color:  #000000;\n",
       "        }#T_16a49_row5_col7{\n",
       "            background-color:  #6b8df0;\n",
       "            color:  #000000;\n",
       "        }#T_16a49_row5_col8{\n",
       "            background-color:  #89acfd;\n",
       "            color:  #000000;\n",
       "        }#T_16a49_row6_col0,#T_16a49_row7_col0{\n",
       "            background-color:  #e67259;\n",
       "            color:  #000000;\n",
       "        }#T_16a49_row6_col1,#T_16a49_row7_col1{\n",
       "            background-color:  #7295f4;\n",
       "            color:  #000000;\n",
       "        }#T_16a49_row6_col2,#T_16a49_row7_col2{\n",
       "            background-color:  #516ddb;\n",
       "            color:  #000000;\n",
       "        }#T_16a49_row6_col4{\n",
       "            background-color:  #4a63d3;\n",
       "            color:  #f1f1f1;\n",
       "        }#T_16a49_row6_col5{\n",
       "            background-color:  #7699f6;\n",
       "            color:  #000000;\n",
       "        }#T_16a49_row7_col4{\n",
       "            background-color:  #4c66d6;\n",
       "            color:  #000000;\n",
       "        }#T_16a49_row7_col5{\n",
       "            background-color:  #779af7;\n",
       "            color:  #000000;\n",
       "        }#T_16a49_row8_col0{\n",
       "            background-color:  #aac7fd;\n",
       "            color:  #000000;\n",
       "        }#T_16a49_row8_col2{\n",
       "            background-color:  #445acc;\n",
       "            color:  #f1f1f1;\n",
       "        }#T_16a49_row8_col3{\n",
       "            background-color:  #f39475;\n",
       "            color:  #000000;\n",
       "        }#T_16a49_row8_col4{\n",
       "            background-color:  #9abbff;\n",
       "            color:  #000000;\n",
       "        }#T_16a49_row8_col5{\n",
       "            background-color:  #c4d5f3;\n",
       "            color:  #000000;\n",
       "        }#T_16a49_row8_col6{\n",
       "            background-color:  #82a6fb;\n",
       "            color:  #000000;\n",
       "        }#T_16a49_row8_col7{\n",
       "            background-color:  #84a7fc;\n",
       "            color:  #000000;\n",
       "        }</style><table id=\"T_16a49_\" ><thead>    <tr>        <th class=\"blank level0\" ></th>        <th class=\"col_heading level0 col0\" >rho</th>        <th class=\"col_heading level0 col1\" >n</th>        <th class=\"col_heading level0 col2\" >anastomosis event density</th>        <th class=\"col_heading level0 col3\" >branching event density</th>        <th class=\"col_heading level0 col4\" >nrho</th>        <th class=\"col_heading level0 col5\" >mean speed</th>        <th class=\"col_heading level0 col6\" >total colony length</th>        <th class=\"col_heading level0 col7\" >area</th>        <th class=\"col_heading level0 col8\" >branching rate</th>    </tr></thead><tbody>\n",
       "                <tr>\n",
       "                        <th id=\"T_16a49_level0_row0\" class=\"row_heading level0 row0\" >rho</th>\n",
       "                        <td id=\"T_16a49_row0_col0\" class=\"data row0 col0\" >1.000000</td>\n",
       "                        <td id=\"T_16a49_row0_col1\" class=\"data row0 col1\" >-0.753515</td>\n",
       "                        <td id=\"T_16a49_row0_col2\" class=\"data row0 col2\" >-0.017938</td>\n",
       "                        <td id=\"T_16a49_row0_col3\" class=\"data row0 col3\" >-0.493223</td>\n",
       "                        <td id=\"T_16a49_row0_col4\" class=\"data row0 col4\" >-0.230390</td>\n",
       "                        <td id=\"T_16a49_row0_col5\" class=\"data row0 col5\" >-0.510959</td>\n",
       "                        <td id=\"T_16a49_row0_col6\" class=\"data row0 col6\" >0.718115</td>\n",
       "                        <td id=\"T_16a49_row0_col7\" class=\"data row0 col7\" >0.716846</td>\n",
       "                        <td id=\"T_16a49_row0_col8\" class=\"data row0 col8\" >-0.169547</td>\n",
       "            </tr>\n",
       "            <tr>\n",
       "                        <th id=\"T_16a49_level0_row1\" class=\"row_heading level0 row1\" >n</th>\n",
       "                        <td id=\"T_16a49_row1_col0\" class=\"data row1 col0\" >-0.753515</td>\n",
       "                        <td id=\"T_16a49_row1_col1\" class=\"data row1 col1\" >1.000000</td>\n",
       "                        <td id=\"T_16a49_row1_col2\" class=\"data row1 col2\" >0.117506</td>\n",
       "                        <td id=\"T_16a49_row1_col3\" class=\"data row1 col3\" >0.679010</td>\n",
       "                        <td id=\"T_16a49_row1_col4\" class=\"data row1 col4\" >0.622413</td>\n",
       "                        <td id=\"T_16a49_row1_col5\" class=\"data row1 col5\" >0.427072</td>\n",
       "                        <td id=\"T_16a49_row1_col6\" class=\"data row1 col6\" >-0.446825</td>\n",
       "                        <td id=\"T_16a49_row1_col7\" class=\"data row1 col7\" >-0.448488</td>\n",
       "                        <td id=\"T_16a49_row1_col8\" class=\"data row1 col8\" >0.207321</td>\n",
       "            </tr>\n",
       "            <tr>\n",
       "                        <th id=\"T_16a49_level0_row2\" class=\"row_heading level0 row2\" >anastomosis event density</th>\n",
       "                        <td id=\"T_16a49_row2_col0\" class=\"data row2 col0\" >-0.017938</td>\n",
       "                        <td id=\"T_16a49_row2_col1\" class=\"data row2 col1\" >0.117506</td>\n",
       "                        <td id=\"T_16a49_row2_col2\" class=\"data row2 col2\" >1.000000</td>\n",
       "                        <td id=\"T_16a49_row2_col3\" class=\"data row2 col3\" >0.050849</td>\n",
       "                        <td id=\"T_16a49_row2_col4\" class=\"data row2 col4\" >0.271207</td>\n",
       "                        <td id=\"T_16a49_row2_col5\" class=\"data row2 col5\" >-0.057177</td>\n",
       "                        <td id=\"T_16a49_row2_col6\" class=\"data row2 col6\" >0.024238</td>\n",
       "                        <td id=\"T_16a49_row2_col7\" class=\"data row2 col7\" >0.024129</td>\n",
       "                        <td id=\"T_16a49_row2_col8\" class=\"data row2 col8\" >-0.020783</td>\n",
       "            </tr>\n",
       "            <tr>\n",
       "                        <th id=\"T_16a49_level0_row3\" class=\"row_heading level0 row3\" >branching event density</th>\n",
       "                        <td id=\"T_16a49_row3_col0\" class=\"data row3 col0\" >-0.493223</td>\n",
       "                        <td id=\"T_16a49_row3_col1\" class=\"data row3 col1\" >0.679010</td>\n",
       "                        <td id=\"T_16a49_row3_col2\" class=\"data row3 col2\" >0.050849</td>\n",
       "                        <td id=\"T_16a49_row3_col3\" class=\"data row3 col3\" >1.000000</td>\n",
       "                        <td id=\"T_16a49_row3_col4\" class=\"data row3 col4\" >0.325073</td>\n",
       "                        <td id=\"T_16a49_row3_col5\" class=\"data row3 col5\" >0.258756</td>\n",
       "                        <td id=\"T_16a49_row3_col6\" class=\"data row3 col6\" >-0.284442</td>\n",
       "                        <td id=\"T_16a49_row3_col7\" class=\"data row3 col7\" >-0.288243</td>\n",
       "                        <td id=\"T_16a49_row3_col8\" class=\"data row3 col8\" >0.649550</td>\n",
       "            </tr>\n",
       "            <tr>\n",
       "                        <th id=\"T_16a49_level0_row4\" class=\"row_heading level0 row4\" >nrho</th>\n",
       "                        <td id=\"T_16a49_row4_col0\" class=\"data row4 col0\" >-0.230390</td>\n",
       "                        <td id=\"T_16a49_row4_col1\" class=\"data row4 col1\" >0.622413</td>\n",
       "                        <td id=\"T_16a49_row4_col2\" class=\"data row4 col2\" >0.271207</td>\n",
       "                        <td id=\"T_16a49_row4_col3\" class=\"data row4 col3\" >0.325073</td>\n",
       "                        <td id=\"T_16a49_row4_col4\" class=\"data row4 col4\" >1.000000</td>\n",
       "                        <td id=\"T_16a49_row4_col5\" class=\"data row4 col5\" >0.103278</td>\n",
       "                        <td id=\"T_16a49_row4_col6\" class=\"data row4 col6\" >-0.167089</td>\n",
       "                        <td id=\"T_16a49_row4_col7\" class=\"data row4 col7\" >-0.157516</td>\n",
       "                        <td id=\"T_16a49_row4_col8\" class=\"data row4 col8\" >0.121167</td>\n",
       "            </tr>\n",
       "            <tr>\n",
       "                        <th id=\"T_16a49_level0_row5\" class=\"row_heading level0 row5\" >mean speed</th>\n",
       "                        <td id=\"T_16a49_row5_col0\" class=\"data row5 col0\" >-0.510959</td>\n",
       "                        <td id=\"T_16a49_row5_col1\" class=\"data row5 col1\" >0.427072</td>\n",
       "                        <td id=\"T_16a49_row5_col2\" class=\"data row5 col2\" >-0.057177</td>\n",
       "                        <td id=\"T_16a49_row5_col3\" class=\"data row5 col3\" >0.258756</td>\n",
       "                        <td id=\"T_16a49_row5_col4\" class=\"data row5 col4\" >0.103278</td>\n",
       "                        <td id=\"T_16a49_row5_col5\" class=\"data row5 col5\" >1.000000</td>\n",
       "                        <td id=\"T_16a49_row5_col6\" class=\"data row5 col6\" >-0.230935</td>\n",
       "                        <td id=\"T_16a49_row5_col7\" class=\"data row5 col7\" >-0.224844</td>\n",
       "                        <td id=\"T_16a49_row5_col8\" class=\"data row5 col8\" >0.110502</td>\n",
       "            </tr>\n",
       "            <tr>\n",
       "                        <th id=\"T_16a49_level0_row6\" class=\"row_heading level0 row6\" >total colony length</th>\n",
       "                        <td id=\"T_16a49_row6_col0\" class=\"data row6 col0\" >0.718115</td>\n",
       "                        <td id=\"T_16a49_row6_col1\" class=\"data row6 col1\" >-0.446825</td>\n",
       "                        <td id=\"T_16a49_row6_col2\" class=\"data row6 col2\" >0.024238</td>\n",
       "                        <td id=\"T_16a49_row6_col3\" class=\"data row6 col3\" >-0.284442</td>\n",
       "                        <td id=\"T_16a49_row6_col4\" class=\"data row6 col4\" >-0.167089</td>\n",
       "                        <td id=\"T_16a49_row6_col5\" class=\"data row6 col5\" >-0.230935</td>\n",
       "                        <td id=\"T_16a49_row6_col6\" class=\"data row6 col6\" >1.000000</td>\n",
       "                        <td id=\"T_16a49_row6_col7\" class=\"data row6 col7\" >0.996713</td>\n",
       "                        <td id=\"T_16a49_row6_col8\" class=\"data row6 col8\" >-0.125358</td>\n",
       "            </tr>\n",
       "            <tr>\n",
       "                        <th id=\"T_16a49_level0_row7\" class=\"row_heading level0 row7\" >area</th>\n",
       "                        <td id=\"T_16a49_row7_col0\" class=\"data row7 col0\" >0.716846</td>\n",
       "                        <td id=\"T_16a49_row7_col1\" class=\"data row7 col1\" >-0.448488</td>\n",
       "                        <td id=\"T_16a49_row7_col2\" class=\"data row7 col2\" >0.024129</td>\n",
       "                        <td id=\"T_16a49_row7_col3\" class=\"data row7 col3\" >-0.288243</td>\n",
       "                        <td id=\"T_16a49_row7_col4\" class=\"data row7 col4\" >-0.157516</td>\n",
       "                        <td id=\"T_16a49_row7_col5\" class=\"data row7 col5\" >-0.224844</td>\n",
       "                        <td id=\"T_16a49_row7_col6\" class=\"data row7 col6\" >0.996713</td>\n",
       "                        <td id=\"T_16a49_row7_col7\" class=\"data row7 col7\" >1.000000</td>\n",
       "                        <td id=\"T_16a49_row7_col8\" class=\"data row7 col8\" >-0.125257</td>\n",
       "            </tr>\n",
       "            <tr>\n",
       "                        <th id=\"T_16a49_level0_row8\" class=\"row_heading level0 row8\" >branching rate</th>\n",
       "                        <td id=\"T_16a49_row8_col0\" class=\"data row8 col0\" >-0.169547</td>\n",
       "                        <td id=\"T_16a49_row8_col1\" class=\"data row8 col1\" >0.207321</td>\n",
       "                        <td id=\"T_16a49_row8_col2\" class=\"data row8 col2\" >-0.020783</td>\n",
       "                        <td id=\"T_16a49_row8_col3\" class=\"data row8 col3\" >0.649550</td>\n",
       "                        <td id=\"T_16a49_row8_col4\" class=\"data row8 col4\" >0.121167</td>\n",
       "                        <td id=\"T_16a49_row8_col5\" class=\"data row8 col5\" >0.110502</td>\n",
       "                        <td id=\"T_16a49_row8_col6\" class=\"data row8 col6\" >-0.125358</td>\n",
       "                        <td id=\"T_16a49_row8_col7\" class=\"data row8 col7\" >-0.125257</td>\n",
       "                        <td id=\"T_16a49_row8_col8\" class=\"data row8 col8\" >1.000000</td>\n",
       "            </tr>\n",
       "    </tbody></table>"
      ],
      "text/plain": [
       "<pandas.io.formats.style.Styler at 0x2c3e79c41c8>"
      ]
     },
     "execution_count": 24,
     "metadata": {},
     "output_type": "execute_result"
    }
   ],
   "source": [
    "columns = [\"rho\",\"n\",\"anastomosis event density\",'branching event density','nrho','mean speed','total colony length',\"area\",'branching rate']\n",
    "corr = table_rhos[columns].corr()\n",
    "corr.style.background_gradient(cmap='coolwarm')"
   ]
  },
  {
   "cell_type": "code",
   "execution_count": 25,
   "metadata": {},
   "outputs": [
    {
     "data": {
      "application/vnd.jupyter.widget-view+json": {
       "model_id": "c498266429204aa39a26469f4f2a5b90",
       "version_major": 2,
       "version_minor": 0
      },
      "text/plain": [
       "Canvas(toolbar=Toolbar(toolitems=[('Home', 'Reset original view', 'home', 'home'), ('Back', 'Back to previous …"
      ]
     },
     "metadata": {},
     "output_type": "display_data"
    },
    {
     "name": "stderr",
     "output_type": "stream",
     "text": [
      "No handles with labels found to put in legend.\n"
     ]
    },
    {
     "data": {
      "text/plain": [
       "<matplotlib.legend.Legend at 0x2c3e97ff9c8>"
      ]
     },
     "execution_count": 25,
     "metadata": {},
     "output_type": "execute_result"
    }
   ],
   "source": [
    "fig, ax = plt.subplots()\n",
    "table_rhos.plot('area','branching rate',kind =\"scatter\",ax = ax,alpha = 0.3)\n",
    "fit = 0.03\n",
    "# ax.plot(table_rhos['n'],fit*table_rhos['n'],label = f'beta = {fit*24} day-1',color=\"red\")\n",
    "ax.set_ylabel('branching rate ($h^{-1}$)')\n",
    "plt.legend()"
   ]
  },
  {
   "cell_type": "code",
   "execution_count": 68,
   "metadata": {},
   "outputs": [
    {
     "name": "stdout",
     "output_type": "stream",
     "text": [
      "Intercept, x-Slope : Intercept    0.032955\n",
      "area        -0.000007\n",
      "dtype: float64\n"
     ]
    },
    {
     "data": {
      "application/vnd.jupyter.widget-view+json": {
       "model_id": "f6ee5f71c6d34f6e9a5d8cdc8b42749d",
       "version_major": 2,
       "version_minor": 0
      },
      "text/plain": [
       "Canvas(toolbar=Toolbar(toolitems=[('Home', 'Reset original view', 'home', 'home'), ('Back', 'Back to previous …"
      ]
     },
     "metadata": {},
     "output_type": "display_data"
    },
    {
     "data": {
      "text/plain": [
       "(0.0, 0.1)"
      ]
     },
     "execution_count": 68,
     "metadata": {},
     "output_type": "execute_result"
    }
   ],
   "source": [
    "alphas = []\n",
    "boot_interc = []\n",
    "n_boots = 300\n",
    "n_points = len(table_rhos)\n",
    "x = 'area'\n",
    "y = 'branch_rate'\n",
    "# y='v'\n",
    "ols_model = sm.ols(formula = f\"{y} ~ {x}\", data=table_rhos)\n",
    "results = ols_model.fit()# coefficients\n",
    "print('Intercept, x-Slope : {}'.format(results.params))\n",
    "y_pred = ols_model.fit().predict(table_rhos[x].astype(float))# plot results\n",
    "fig, ax = plt.subplots()\n",
    "# for _ in range(n_boots):\n",
    "#     select = table_rhos.loc[table_rhos['area'].between(200,1500)]\n",
    "#     select = select.loc[select['n']>=0.10]\n",
    "    \n",
    "#     # sample the rows, same size, with replacement\n",
    "#     sample_df = select.sample(n=n_points, replace=True)\n",
    "#     # fit a linear regression\n",
    "#     ols_model_temp = sm.ols(formula = f\"{y} ~ {x}\", data=sample_df)\n",
    "#     results_temp = ols_model_temp.fit()\n",
    "\n",
    "#     # append coefficients\n",
    "#     boot_interc.append(results_temp.params[0])\n",
    "#     alphas.append(results_temp.params[1])\n",
    "\n",
    "#     # plot a greyed out line\n",
    "#     y_pred_temp = ols_model_temp.fit().predict(sample_df[x].astype(float))\n",
    "#     ax.plot(sample_df[x], y_pred_temp, color=\"grey\", alpha=0.1)# add data points\n",
    "# ax.scatter(select[x], select[y])\n",
    "# ax.plot(table_rhos[x], y_pred, linewidth=2)\n",
    "data = select.groupby(f'bin_{x}')[y]\n",
    "ax.errorbar(data.mean().index,data.mean(),color = \"red\",yerr=data.std()/np.sqrt(data.count()))\n",
    "ax.grid(True)\n",
    "ax.set_ylabel(\"branching rate ($h^{-1}$)\")\n",
    "ax.set_xlabel(\"area ($mm^{2}$)\")\n",
    "# ax.set_xlim((0,0.125))\n",
    "ax.set_ylim((0,0.10))"
   ]
  },
  {
   "cell_type": "code",
   "execution_count": 65,
   "metadata": {},
   "outputs": [
    {
     "data": {
      "application/vnd.jupyter.widget-view+json": {
       "model_id": "91f14ece12d440378cd2512ff3a27f59",
       "version_major": 2,
       "version_minor": 0
      },
      "text/plain": [
       "Canvas(toolbar=Toolbar(toolitems=[('Home', 'Reset original view', 'home', 'home'), ('Back', 'Back to previous …"
      ]
     },
     "metadata": {},
     "output_type": "display_data"
    }
   ],
   "source": [
    "fig, ax = plt.subplots()\n",
    "dataplot = sns.heatmap(corr, cmap=\"YlGnBu\", annot=True)\n",
    "plt.tight_layout()"
   ]
  },
  {
   "cell_type": "code",
   "execution_count": 44,
   "metadata": {
    "collapsed": true,
    "jupyter": {
     "outputs_hidden": true
    }
   },
   "outputs": [
    {
     "name": "stderr",
     "output_type": "stream",
     "text": [
      "C:\\Users\\coren\\anaconda3\\envs\\cleanMsc\\lib\\site-packages\\ipykernel_launcher.py:1: RuntimeWarning: More than 20 figures have been opened. Figures created through the pyplot interface (`matplotlib.pyplot.figure`) are retained until explicitly closed and may consume too much memory. (To control this warning, see the rcParam `figure.max_open_warning`).\n",
      "  \"\"\"Entry point for launching an IPython kernel.\n"
     ]
    },
    {
     "data": {
      "application/vnd.jupyter.widget-view+json": {
       "model_id": "c3fcbd31bef544329d8c8d64ff3a1c57",
       "version_major": 2,
       "version_minor": 0
      },
      "text/plain": [
       "Canvas(toolbar=Toolbar(toolitems=[('Home', 'Reset original view', 'home', 'home'), ('Back', 'Back to previous …"
      ]
     },
     "metadata": {},
     "output_type": "display_data"
    },
    {
     "ename": "KeyError",
     "evalue": "'mean_speed'",
     "output_type": "error",
     "traceback": [
      "\u001b[1;31m---------------------------------------------------------------------------\u001b[0m",
      "\u001b[1;31mKeyError\u001b[0m                                  Traceback (most recent call last)",
      "\u001b[1;32mC:\\Users\\coren\\anaconda3\\envs\\cleanMsc\\lib\\site-packages\\pandas\\core\\indexes\\base.py\u001b[0m in \u001b[0;36mget_loc\u001b[1;34m(self, key, method, tolerance)\u001b[0m\n\u001b[0;32m   3079\u001b[0m             \u001b[1;32mtry\u001b[0m\u001b[1;33m:\u001b[0m\u001b[1;33m\u001b[0m\u001b[1;33m\u001b[0m\u001b[0m\n\u001b[1;32m-> 3080\u001b[1;33m                 \u001b[1;32mreturn\u001b[0m \u001b[0mself\u001b[0m\u001b[1;33m.\u001b[0m\u001b[0m_engine\u001b[0m\u001b[1;33m.\u001b[0m\u001b[0mget_loc\u001b[0m\u001b[1;33m(\u001b[0m\u001b[0mcasted_key\u001b[0m\u001b[1;33m)\u001b[0m\u001b[1;33m\u001b[0m\u001b[1;33m\u001b[0m\u001b[0m\n\u001b[0m\u001b[0;32m   3081\u001b[0m             \u001b[1;32mexcept\u001b[0m \u001b[0mKeyError\u001b[0m \u001b[1;32mas\u001b[0m \u001b[0merr\u001b[0m\u001b[1;33m:\u001b[0m\u001b[1;33m\u001b[0m\u001b[1;33m\u001b[0m\u001b[0m\n",
      "\u001b[1;32mpandas\\_libs\\index.pyx\u001b[0m in \u001b[0;36mpandas._libs.index.IndexEngine.get_loc\u001b[1;34m()\u001b[0m\n",
      "\u001b[1;32mpandas\\_libs\\index.pyx\u001b[0m in \u001b[0;36mpandas._libs.index.IndexEngine.get_loc\u001b[1;34m()\u001b[0m\n",
      "\u001b[1;32mpandas\\_libs\\hashtable_class_helper.pxi\u001b[0m in \u001b[0;36mpandas._libs.hashtable.PyObjectHashTable.get_item\u001b[1;34m()\u001b[0m\n",
      "\u001b[1;32mpandas\\_libs\\hashtable_class_helper.pxi\u001b[0m in \u001b[0;36mpandas._libs.hashtable.PyObjectHashTable.get_item\u001b[1;34m()\u001b[0m\n",
      "\u001b[1;31mKeyError\u001b[0m: 'mean_speed'",
      "\nThe above exception was the direct cause of the following exception:\n",
      "\u001b[1;31mKeyError\u001b[0m                                  Traceback (most recent call last)",
      "\u001b[1;32m<ipython-input-44-1e20eec102c7>\u001b[0m in \u001b[0;36m<module>\u001b[1;34m\u001b[0m\n\u001b[0;32m      1\u001b[0m \u001b[0mfig\u001b[0m\u001b[1;33m,\u001b[0m \u001b[0max\u001b[0m \u001b[1;33m=\u001b[0m \u001b[0mplt\u001b[0m\u001b[1;33m.\u001b[0m\u001b[0msubplots\u001b[0m\u001b[1;33m(\u001b[0m\u001b[1;33m)\u001b[0m\u001b[1;33m\u001b[0m\u001b[1;33m\u001b[0m\u001b[0m\n\u001b[1;32m----> 2\u001b[1;33m \u001b[0mtable_rhos\u001b[0m\u001b[1;33m.\u001b[0m\u001b[0mplot\u001b[0m\u001b[1;33m(\u001b[0m\u001b[1;34m'n'\u001b[0m\u001b[1;33m,\u001b[0m\u001b[1;34m'mean_speed'\u001b[0m\u001b[1;33m,\u001b[0m\u001b[0mkind\u001b[0m \u001b[1;33m=\u001b[0m\u001b[1;34m\"scatter\"\u001b[0m\u001b[1;33m,\u001b[0m\u001b[0max\u001b[0m \u001b[1;33m=\u001b[0m \u001b[0max\u001b[0m\u001b[1;33m,\u001b[0m\u001b[0malpha\u001b[0m \u001b[1;33m=\u001b[0m \u001b[1;36m0.3\u001b[0m\u001b[1;33m)\u001b[0m\u001b[1;33m\u001b[0m\u001b[1;33m\u001b[0m\u001b[0m\n\u001b[0m\u001b[0;32m      3\u001b[0m \u001b[0mfit\u001b[0m \u001b[1;33m=\u001b[0m \u001b[1;36m0.03\u001b[0m\u001b[1;33m\u001b[0m\u001b[1;33m\u001b[0m\u001b[0m\n\u001b[0;32m      4\u001b[0m \u001b[1;31m# ax.plot(table_rhos['n'],fit*table_rhos['n'],label = f'beta = {fit*24} day-1',color=\"red\")\u001b[0m\u001b[1;33m\u001b[0m\u001b[1;33m\u001b[0m\u001b[1;33m\u001b[0m\u001b[0m\n\u001b[0;32m      5\u001b[0m \u001b[0max\u001b[0m\u001b[1;33m.\u001b[0m\u001b[0mset_ylabel\u001b[0m\u001b[1;33m(\u001b[0m\u001b[1;34m'branching rate ($h^{-1}$)'\u001b[0m\u001b[1;33m)\u001b[0m\u001b[1;33m\u001b[0m\u001b[1;33m\u001b[0m\u001b[0m\n",
      "\u001b[1;32mC:\\Users\\coren\\anaconda3\\envs\\cleanMsc\\lib\\site-packages\\pandas\\plotting\\_core.py\u001b[0m in \u001b[0;36m__call__\u001b[1;34m(self, *args, **kwargs)\u001b[0m\n\u001b[0;32m    898\u001b[0m         \u001b[1;32mif\u001b[0m \u001b[0mkind\u001b[0m \u001b[1;32min\u001b[0m \u001b[0mself\u001b[0m\u001b[1;33m.\u001b[0m\u001b[0m_dataframe_kinds\u001b[0m\u001b[1;33m:\u001b[0m\u001b[1;33m\u001b[0m\u001b[1;33m\u001b[0m\u001b[0m\n\u001b[0;32m    899\u001b[0m             \u001b[1;32mif\u001b[0m \u001b[0misinstance\u001b[0m\u001b[1;33m(\u001b[0m\u001b[0mdata\u001b[0m\u001b[1;33m,\u001b[0m \u001b[0mABCDataFrame\u001b[0m\u001b[1;33m)\u001b[0m\u001b[1;33m:\u001b[0m\u001b[1;33m\u001b[0m\u001b[1;33m\u001b[0m\u001b[0m\n\u001b[1;32m--> 900\u001b[1;33m                 \u001b[1;32mreturn\u001b[0m \u001b[0mplot_backend\u001b[0m\u001b[1;33m.\u001b[0m\u001b[0mplot\u001b[0m\u001b[1;33m(\u001b[0m\u001b[0mdata\u001b[0m\u001b[1;33m,\u001b[0m \u001b[0mx\u001b[0m\u001b[1;33m=\u001b[0m\u001b[0mx\u001b[0m\u001b[1;33m,\u001b[0m \u001b[0my\u001b[0m\u001b[1;33m=\u001b[0m\u001b[0my\u001b[0m\u001b[1;33m,\u001b[0m \u001b[0mkind\u001b[0m\u001b[1;33m=\u001b[0m\u001b[0mkind\u001b[0m\u001b[1;33m,\u001b[0m \u001b[1;33m**\u001b[0m\u001b[0mkwargs\u001b[0m\u001b[1;33m)\u001b[0m\u001b[1;33m\u001b[0m\u001b[1;33m\u001b[0m\u001b[0m\n\u001b[0m\u001b[0;32m    901\u001b[0m             \u001b[1;32melse\u001b[0m\u001b[1;33m:\u001b[0m\u001b[1;33m\u001b[0m\u001b[1;33m\u001b[0m\u001b[0m\n\u001b[0;32m    902\u001b[0m                 \u001b[1;32mraise\u001b[0m \u001b[0mValueError\u001b[0m\u001b[1;33m(\u001b[0m\u001b[1;34mf\"plot kind {kind} can only be used for data frames\"\u001b[0m\u001b[1;33m)\u001b[0m\u001b[1;33m\u001b[0m\u001b[1;33m\u001b[0m\u001b[0m\n",
      "\u001b[1;32mC:\\Users\\coren\\anaconda3\\envs\\cleanMsc\\lib\\site-packages\\pandas\\plotting\\_matplotlib\\__init__.py\u001b[0m in \u001b[0;36mplot\u001b[1;34m(data, kind, **kwargs)\u001b[0m\n\u001b[0;32m     59\u001b[0m             \u001b[0mkwargs\u001b[0m\u001b[1;33m[\u001b[0m\u001b[1;34m\"ax\"\u001b[0m\u001b[1;33m]\u001b[0m \u001b[1;33m=\u001b[0m \u001b[0mgetattr\u001b[0m\u001b[1;33m(\u001b[0m\u001b[0max\u001b[0m\u001b[1;33m,\u001b[0m \u001b[1;34m\"left_ax\"\u001b[0m\u001b[1;33m,\u001b[0m \u001b[0max\u001b[0m\u001b[1;33m)\u001b[0m\u001b[1;33m\u001b[0m\u001b[1;33m\u001b[0m\u001b[0m\n\u001b[0;32m     60\u001b[0m     \u001b[0mplot_obj\u001b[0m \u001b[1;33m=\u001b[0m \u001b[0mPLOT_CLASSES\u001b[0m\u001b[1;33m[\u001b[0m\u001b[0mkind\u001b[0m\u001b[1;33m]\u001b[0m\u001b[1;33m(\u001b[0m\u001b[0mdata\u001b[0m\u001b[1;33m,\u001b[0m \u001b[1;33m**\u001b[0m\u001b[0mkwargs\u001b[0m\u001b[1;33m)\u001b[0m\u001b[1;33m\u001b[0m\u001b[1;33m\u001b[0m\u001b[0m\n\u001b[1;32m---> 61\u001b[1;33m     \u001b[0mplot_obj\u001b[0m\u001b[1;33m.\u001b[0m\u001b[0mgenerate\u001b[0m\u001b[1;33m(\u001b[0m\u001b[1;33m)\u001b[0m\u001b[1;33m\u001b[0m\u001b[1;33m\u001b[0m\u001b[0m\n\u001b[0m\u001b[0;32m     62\u001b[0m     \u001b[0mplot_obj\u001b[0m\u001b[1;33m.\u001b[0m\u001b[0mdraw\u001b[0m\u001b[1;33m(\u001b[0m\u001b[1;33m)\u001b[0m\u001b[1;33m\u001b[0m\u001b[1;33m\u001b[0m\u001b[0m\n\u001b[0;32m     63\u001b[0m     \u001b[1;32mreturn\u001b[0m \u001b[0mplot_obj\u001b[0m\u001b[1;33m.\u001b[0m\u001b[0mresult\u001b[0m\u001b[1;33m\u001b[0m\u001b[1;33m\u001b[0m\u001b[0m\n",
      "\u001b[1;32mC:\\Users\\coren\\anaconda3\\envs\\cleanMsc\\lib\\site-packages\\pandas\\plotting\\_matplotlib\\core.py\u001b[0m in \u001b[0;36mgenerate\u001b[1;34m(self)\u001b[0m\n\u001b[0;32m    278\u001b[0m         \u001b[0mself\u001b[0m\u001b[1;33m.\u001b[0m\u001b[0m_compute_plot_data\u001b[0m\u001b[1;33m(\u001b[0m\u001b[1;33m)\u001b[0m\u001b[1;33m\u001b[0m\u001b[1;33m\u001b[0m\u001b[0m\n\u001b[0;32m    279\u001b[0m         \u001b[0mself\u001b[0m\u001b[1;33m.\u001b[0m\u001b[0m_setup_subplots\u001b[0m\u001b[1;33m(\u001b[0m\u001b[1;33m)\u001b[0m\u001b[1;33m\u001b[0m\u001b[1;33m\u001b[0m\u001b[0m\n\u001b[1;32m--> 280\u001b[1;33m         \u001b[0mself\u001b[0m\u001b[1;33m.\u001b[0m\u001b[0m_make_plot\u001b[0m\u001b[1;33m(\u001b[0m\u001b[1;33m)\u001b[0m\u001b[1;33m\u001b[0m\u001b[1;33m\u001b[0m\u001b[0m\n\u001b[0m\u001b[0;32m    281\u001b[0m         \u001b[0mself\u001b[0m\u001b[1;33m.\u001b[0m\u001b[0m_add_table\u001b[0m\u001b[1;33m(\u001b[0m\u001b[1;33m)\u001b[0m\u001b[1;33m\u001b[0m\u001b[1;33m\u001b[0m\u001b[0m\n\u001b[0;32m    282\u001b[0m         \u001b[0mself\u001b[0m\u001b[1;33m.\u001b[0m\u001b[0m_make_legend\u001b[0m\u001b[1;33m(\u001b[0m\u001b[1;33m)\u001b[0m\u001b[1;33m\u001b[0m\u001b[1;33m\u001b[0m\u001b[0m\n",
      "\u001b[1;32mC:\\Users\\coren\\anaconda3\\envs\\cleanMsc\\lib\\site-packages\\pandas\\plotting\\_matplotlib\\core.py\u001b[0m in \u001b[0;36m_make_plot\u001b[1;34m(self)\u001b[0m\n\u001b[0;32m   1041\u001b[0m         scatter = ax.scatter(\n\u001b[0;32m   1042\u001b[0m             \u001b[0mdata\u001b[0m\u001b[1;33m[\u001b[0m\u001b[0mx\u001b[0m\u001b[1;33m]\u001b[0m\u001b[1;33m.\u001b[0m\u001b[0mvalues\u001b[0m\u001b[1;33m,\u001b[0m\u001b[1;33m\u001b[0m\u001b[1;33m\u001b[0m\u001b[0m\n\u001b[1;32m-> 1043\u001b[1;33m             \u001b[0mdata\u001b[0m\u001b[1;33m[\u001b[0m\u001b[0my\u001b[0m\u001b[1;33m]\u001b[0m\u001b[1;33m.\u001b[0m\u001b[0mvalues\u001b[0m\u001b[1;33m,\u001b[0m\u001b[1;33m\u001b[0m\u001b[1;33m\u001b[0m\u001b[0m\n\u001b[0m\u001b[0;32m   1044\u001b[0m             \u001b[0mc\u001b[0m\u001b[1;33m=\u001b[0m\u001b[0mc_values\u001b[0m\u001b[1;33m,\u001b[0m\u001b[1;33m\u001b[0m\u001b[1;33m\u001b[0m\u001b[0m\n\u001b[0;32m   1045\u001b[0m             \u001b[0mlabel\u001b[0m\u001b[1;33m=\u001b[0m\u001b[0mlabel\u001b[0m\u001b[1;33m,\u001b[0m\u001b[1;33m\u001b[0m\u001b[1;33m\u001b[0m\u001b[0m\n",
      "\u001b[1;32mC:\\Users\\coren\\anaconda3\\envs\\cleanMsc\\lib\\site-packages\\pandas\\core\\frame.py\u001b[0m in \u001b[0;36m__getitem__\u001b[1;34m(self, key)\u001b[0m\n\u001b[0;32m   3022\u001b[0m             \u001b[1;32mif\u001b[0m \u001b[0mself\u001b[0m\u001b[1;33m.\u001b[0m\u001b[0mcolumns\u001b[0m\u001b[1;33m.\u001b[0m\u001b[0mnlevels\u001b[0m \u001b[1;33m>\u001b[0m \u001b[1;36m1\u001b[0m\u001b[1;33m:\u001b[0m\u001b[1;33m\u001b[0m\u001b[1;33m\u001b[0m\u001b[0m\n\u001b[0;32m   3023\u001b[0m                 \u001b[1;32mreturn\u001b[0m \u001b[0mself\u001b[0m\u001b[1;33m.\u001b[0m\u001b[0m_getitem_multilevel\u001b[0m\u001b[1;33m(\u001b[0m\u001b[0mkey\u001b[0m\u001b[1;33m)\u001b[0m\u001b[1;33m\u001b[0m\u001b[1;33m\u001b[0m\u001b[0m\n\u001b[1;32m-> 3024\u001b[1;33m             \u001b[0mindexer\u001b[0m \u001b[1;33m=\u001b[0m \u001b[0mself\u001b[0m\u001b[1;33m.\u001b[0m\u001b[0mcolumns\u001b[0m\u001b[1;33m.\u001b[0m\u001b[0mget_loc\u001b[0m\u001b[1;33m(\u001b[0m\u001b[0mkey\u001b[0m\u001b[1;33m)\u001b[0m\u001b[1;33m\u001b[0m\u001b[1;33m\u001b[0m\u001b[0m\n\u001b[0m\u001b[0;32m   3025\u001b[0m             \u001b[1;32mif\u001b[0m \u001b[0mis_integer\u001b[0m\u001b[1;33m(\u001b[0m\u001b[0mindexer\u001b[0m\u001b[1;33m)\u001b[0m\u001b[1;33m:\u001b[0m\u001b[1;33m\u001b[0m\u001b[1;33m\u001b[0m\u001b[0m\n\u001b[0;32m   3026\u001b[0m                 \u001b[0mindexer\u001b[0m \u001b[1;33m=\u001b[0m \u001b[1;33m[\u001b[0m\u001b[0mindexer\u001b[0m\u001b[1;33m]\u001b[0m\u001b[1;33m\u001b[0m\u001b[1;33m\u001b[0m\u001b[0m\n",
      "\u001b[1;32mC:\\Users\\coren\\anaconda3\\envs\\cleanMsc\\lib\\site-packages\\pandas\\core\\indexes\\base.py\u001b[0m in \u001b[0;36mget_loc\u001b[1;34m(self, key, method, tolerance)\u001b[0m\n\u001b[0;32m   3080\u001b[0m                 \u001b[1;32mreturn\u001b[0m \u001b[0mself\u001b[0m\u001b[1;33m.\u001b[0m\u001b[0m_engine\u001b[0m\u001b[1;33m.\u001b[0m\u001b[0mget_loc\u001b[0m\u001b[1;33m(\u001b[0m\u001b[0mcasted_key\u001b[0m\u001b[1;33m)\u001b[0m\u001b[1;33m\u001b[0m\u001b[1;33m\u001b[0m\u001b[0m\n\u001b[0;32m   3081\u001b[0m             \u001b[1;32mexcept\u001b[0m \u001b[0mKeyError\u001b[0m \u001b[1;32mas\u001b[0m \u001b[0merr\u001b[0m\u001b[1;33m:\u001b[0m\u001b[1;33m\u001b[0m\u001b[1;33m\u001b[0m\u001b[0m\n\u001b[1;32m-> 3082\u001b[1;33m                 \u001b[1;32mraise\u001b[0m \u001b[0mKeyError\u001b[0m\u001b[1;33m(\u001b[0m\u001b[0mkey\u001b[0m\u001b[1;33m)\u001b[0m \u001b[1;32mfrom\u001b[0m \u001b[0merr\u001b[0m\u001b[1;33m\u001b[0m\u001b[1;33m\u001b[0m\u001b[0m\n\u001b[0m\u001b[0;32m   3083\u001b[0m \u001b[1;33m\u001b[0m\u001b[0m\n\u001b[0;32m   3084\u001b[0m         \u001b[1;32mif\u001b[0m \u001b[0mtolerance\u001b[0m \u001b[1;32mis\u001b[0m \u001b[1;32mnot\u001b[0m \u001b[1;32mNone\u001b[0m\u001b[1;33m:\u001b[0m\u001b[1;33m\u001b[0m\u001b[1;33m\u001b[0m\u001b[0m\n",
      "\u001b[1;31mKeyError\u001b[0m: 'mean_speed'"
     ]
    }
   ],
   "source": [
    "fig, ax = plt.subplots()\n",
    "table_rhos.plot('n','mean_speed',kind =\"scatter\",ax = ax,alpha = 0.3)\n",
    "fit = 0.03\n",
    "# ax.plot(table_rhos['n'],fit*table_rhos['n'],label = f'beta = {fit*24} day-1',color=\"red\")\n",
    "ax.set_ylabel('branching rate ($h^{-1}$)')\n",
    "plt.legend()"
   ]
  },
  {
   "cell_type": "code",
   "execution_count": 50,
   "metadata": {},
   "outputs": [
    {
     "name": "stdout",
     "output_type": "stream",
     "text": [
      "Intercept, x-Slope : Intercept   -0.000755\n",
      "n            0.046792\n",
      "dtype: float64\n"
     ]
    },
    {
     "data": {
      "application/vnd.jupyter.widget-view+json": {
       "model_id": "7b100814a7b4489ba4a49f8af7b1809e",
       "version_major": 2,
       "version_minor": 0
      },
      "text/plain": [
       "Canvas(toolbar=Toolbar(toolitems=[('Home', 'Reset original view', 'home', 'home'), ('Back', 'Back to previous …"
      ]
     },
     "metadata": {},
     "output_type": "display_data"
    },
    {
     "data": {
      "text/plain": [
       "Text(0.5, 0, 'density of tips ($mm^{-2}$)')"
      ]
     },
     "execution_count": 50,
     "metadata": {},
     "output_type": "execute_result"
    }
   ],
   "source": [
    "alphas = []\n",
    "boot_interc = []\n",
    "n_boots = 300\n",
    "n_points = len(table_rhos)\n",
    "x = 'n'\n",
    "y = \"branch\"\n",
    "ols_model = sm.ols(formula = f\"{y} ~ {x}\", data=table_rhos)\n",
    "results = ols_model.fit()# coefficients\n",
    "print('Intercept, x-Slope : {}'.format(results.params))\n",
    "y_pred = ols_model.fit().predict(table_rhos[x].astype(float))# plot results\n",
    "fig, ax = plt.subplots()\n",
    "for _ in range(n_boots):\n",
    "    # sample the rows, same size, with replacement\n",
    "    sample_df = table_rhos.sample(n=n_points, replace=True)\n",
    "    # fit a linear regression\n",
    "    ols_model_temp = sm.ols(formula = f\"{y} ~ {x}\", data=sample_df)\n",
    "    results_temp = ols_model_temp.fit()\n",
    "\n",
    "    # append coefficients\n",
    "    boot_interc.append(results_temp.params[0])\n",
    "    alphas.append(results_temp.params[1])\n",
    "\n",
    "    # plot a greyed out line\n",
    "    y_pred_temp = ols_model_temp.fit().predict(sample_df[x].astype(float))\n",
    "    ax.plot(sample_df[x], y_pred_temp, color=\"grey\", alpha=0.1)# add data points\n",
    "ax.scatter(table_rhos[x], table_rhos[y])\n",
    "# ax.plot(table_rhos[x], y_pred, linewidth=2)\n",
    "data = table_rhos.groupby(f'bin_{x}')[y]\n",
    "ax.errorbar(data.mean().index,data.mean(),color = \"red\",yerr=data.std()/np.sqrt(data.count()))\n",
    "ax.grid(True)\n",
    "ax.set_ylabel(\"density of new tips ($h^{-1}.mm^{-2}$)\")\n",
    "ax.set_xlabel(\"density of tips ($mm^{-2}$)\")\n",
    "# ax.set_xlim((0,0.125))\n"
   ]
  },
  {
   "cell_type": "code",
   "execution_count": 51,
   "metadata": {},
   "outputs": [
    {
     "data": {
      "application/vnd.jupyter.widget-view+json": {
       "model_id": "d72ce35248b24934b4cc62c342fc5dfb",
       "version_major": 2,
       "version_minor": 0
      },
      "text/plain": [
       "Canvas(toolbar=Toolbar(toolitems=[('Home', 'Reset original view', 'home', 'home'), ('Back', 'Back to previous …"
      ]
     },
     "metadata": {},
     "output_type": "display_data"
    },
    {
     "data": {
      "text/plain": [
       "<matplotlib.legend.Legend at 0x2c38e7d2288>"
      ]
     },
     "execution_count": 51,
     "metadata": {},
     "output_type": "execute_result"
    }
   ],
   "source": [
    "fig, ax = plt.subplots()\n",
    "\n",
    "plates = [76,94,102,152,792,799,800,808,91,80]\n",
    "# plates = [76,94,102,152,792]\n",
    "\n",
    "for plate in plates:\n",
    "    table = time_plate_info.loc[time_plate_info['Plate']==plate]\n",
    "    rhos = []\n",
    "    ns = []\n",
    "    ans_rate = []\n",
    "    stop_rate = []\n",
    "    branch_rate = []\n",
    "    ts = []\n",
    "    for index in range(1,20):\n",
    "        column = f\"ring_density_incr-100_index-{index}\"\n",
    "        rhos+= list(table[column])\n",
    "        column = f\"ring_active_tips_density_incr-100_index-{index}\"\n",
    "        ns+= list(table[column])\n",
    "        column = f\"ring_anas_density_incr-100_index-{index}\"\n",
    "        ans_rate+= list(table[column])\n",
    "        column = f\"ring_branch_density_incr-100_index-{index}\"\n",
    "        branch_rate+= list(table[column])\n",
    "        column = f\"ring_stop_density_incr-100_index-{index}\"\n",
    "        stop_rate+= list(table[column])\n",
    "        column = f\"t\"\n",
    "        ts+= list(table[column])\n",
    "    data = np.array((rhos,ns,ans_rate,stop_rate,branch_rate,ts)).transpose()\n",
    "    table_rhos = pd.DataFrame(data,columns=(\"rho\",\"n\",\"an_rate\",\"stop\",'branch','ts'))\n",
    "    table_rhos['nrho'] = table_rhos['n']*table_rhos['rho']\n",
    "    table_rhos = table_rhos.dropna()\n",
    "    table_rhos['n2'] = table_rhos['n']**2\n",
    "    table_rhos['rho2'] = table_rhos['rho']**2\n",
    "    table_rhos = table_rhos.astype(float)\n",
    "    table_rhos = table_rhos.loc[(table_rhos['n']!=0)]\n",
    "    table_rhos['bin_n'] = (table_rhos['n']*100).astype(int)/100\n",
    "    table_rhos['bin_nrho'] = (table_rhos['nrho']/5).astype(int)*5\n",
    "    data = table_rhos.groupby('bin_n')['branch'].mean()\n",
    "    ax.errorbar(data.index,data,yerr=table_rhos.groupby('bin_n')['branch'].std()/np.sqrt(table_rhos.groupby('bin_n')['branch'].count()),label = plate)\n",
    "ax.set_ylabel(\"density of new tips ($h^{-1}.mm^{-2}$)\")\n",
    "ax.set_xlabel(\"density of tips ($mm^{-2}$)\")\n",
    "plt.legend()"
   ]
  },
  {
   "cell_type": "code",
   "execution_count": 52,
   "metadata": {},
   "outputs": [
    {
     "data": {
      "application/vnd.jupyter.widget-view+json": {
       "model_id": "bfac68bd2d494ab6ba1dfe793384d5bc",
       "version_major": 2,
       "version_minor": 0
      },
      "text/plain": [
       "Canvas(toolbar=Toolbar(toolitems=[('Home', 'Reset original view', 'home', 'home'), ('Back', 'Back to previous …"
      ]
     },
     "metadata": {},
     "output_type": "display_data"
    },
    {
     "name": "stderr",
     "output_type": "stream",
     "text": [
      "No handles with labels found to put in legend.\n"
     ]
    },
    {
     "data": {
      "text/plain": [
       "<matplotlib.legend.Legend at 0x2c3a6e46dc8>"
      ]
     },
     "execution_count": 52,
     "metadata": {},
     "output_type": "execute_result"
    }
   ],
   "source": [
    "fig, ax = plt.subplots()\n",
    "\n",
    "table = time_plate_info.loc[time_plate_info['Plate'].isin(plates)]\n",
    "rhos = []\n",
    "ns = []\n",
    "ans_rate = []\n",
    "stop_rate = []\n",
    "branch_rate = []\n",
    "ts = []\n",
    "for index in range(1,20):\n",
    "    column = f\"ring_density_incr-100_index-{index}\"\n",
    "    rhos+= list(table[column])\n",
    "    column = f\"ring_active_tips_density_incr-100_index-{index}\"\n",
    "    ns+= list(table[column])\n",
    "    column = f\"ring_anas_density_incr-100_index-{index}\"\n",
    "    ans_rate+= list(table[column])\n",
    "    column = f\"ring_branch_density_incr-100_index-{index}\"\n",
    "    branch_rate+= list(table[column])\n",
    "    column = f\"ring_stop_density_incr-100_index-{index}\"\n",
    "    stop_rate+= list(table[column])\n",
    "    column = f\"t\"\n",
    "    ts+= list(table[column])\n",
    "data = np.array((rhos,ns,ans_rate,stop_rate,branch_rate,ts)).transpose()\n",
    "table_rhos = pd.DataFrame(data,columns=(\"rho\",\"n\",\"an_rate\",\"stop\",'branch','ts'))\n",
    "table_rhos['nrho'] = table_rhos['n']*table_rhos['rho']\n",
    "table_rhos = table_rhos.dropna()\n",
    "table_rhos['n2'] = table_rhos['n']**2\n",
    "table_rhos['rho2'] = table_rhos['rho']**2\n",
    "table_rhos = table_rhos.astype(float)\n",
    "table_rhos = table_rhos.loc[(table_rhos['n']!=0)]\n",
    "table_rhos['bin_n'] = (table_rhos['n']*100).astype(int)/100\n",
    "table_rhos['bin_nrho'] = (table_rhos['nrho']/5).astype(int)*5\n",
    "data = table_rhos.groupby('bin_n')['branch'].mean()\n",
    "ax.errorbar(data.index,data,yerr=table_rhos.groupby('bin_n')['branch'].std()/np.sqrt(table_rhos.groupby('bin_n')['branch'].count()))\n",
    "ax.set_ylabel(\"density of new tips ($h^{-1}.mm^{-2}$)\")\n",
    "ax.set_xlabel(\"density of tips ($mm^{-2}$)\")\n",
    "plt.legend()"
   ]
  },
  {
   "cell_type": "code",
   "execution_count": 19,
   "metadata": {},
   "outputs": [
    {
     "data": {
      "application/vnd.jupyter.widget-view+json": {
       "model_id": "90707c6a906741c28b1dcae0ade4f78c",
       "version_major": 2,
       "version_minor": 0
      },
      "text/plain": [
       "Canvas(toolbar=Toolbar(toolitems=[('Home', 'Reset original view', 'home', 'home'), ('Back', 'Back to previous …"
      ]
     },
     "metadata": {},
     "output_type": "display_data"
    },
    {
     "name": "stderr",
     "output_type": "stream",
     "text": [
      "C:\\Users\\coren\\anaconda3\\envs\\cleanMsc\\lib\\site-packages\\seaborn\\distributions.py:2619: FutureWarning: `distplot` is a deprecated function and will be removed in a future version. Please adapt your code to use either `displot` (a figure-level function with similar flexibility) or `histplot` (an axes-level function for histograms).\n",
      "  warnings.warn(msg, FutureWarning)\n"
     ]
    },
    {
     "data": {
      "text/plain": [
       "<matplotlib.collections.LineCollection at 0x192cc2a8548>"
      ]
     },
     "execution_count": 19,
     "metadata": {},
     "output_type": "execute_result"
    }
   ],
   "source": [
    "import seaborn as sns\n",
    "fig, ax = plt.subplots()\n",
    "\n",
    "sns.distplot(np.array(alphas)*24,ax = ax,axlabel = r\"estimated $\\alpha$ ($day^{-1}$)\")\n",
    "ax.vlines(1.3,0,8,color='red')"
   ]
  },
  {
   "cell_type": "code",
   "execution_count": 13,
   "metadata": {},
   "outputs": [
    {
     "data": {
      "text/plain": [
       "132.0"
      ]
     },
     "execution_count": 13,
     "metadata": {},
     "output_type": "execute_result"
    }
   ],
   "source": [
    "5.5*24"
   ]
  },
  {
   "cell_type": "code",
   "execution_count": 15,
   "metadata": {},
   "outputs": [
    {
     "data": {
      "text/plain": [
       "0.05380457878922196"
      ]
     },
     "execution_count": 15,
     "metadata": {},
     "output_type": "execute_result"
    }
   ],
   "source": [
    "np.std(alphas)*24"
   ]
  },
  {
   "cell_type": "code",
   "execution_count": 53,
   "metadata": {},
   "outputs": [
    {
     "name": "stdout",
     "output_type": "stream",
     "text": [
      "Intercept, x-Slope : Intercept   -0.000039\n",
      "nrho         0.000016\n",
      "dtype: float64\n"
     ]
    },
    {
     "data": {
      "application/vnd.jupyter.widget-view+json": {
       "model_id": "0c7deb45c8b14153af983999e3e1b363",
       "version_major": 2,
       "version_minor": 0
      },
      "text/plain": [
       "Canvas(toolbar=Toolbar(toolitems=[('Home', 'Reset original view', 'home', 'home'), ('Back', 'Back to previous …"
      ]
     },
     "metadata": {},
     "output_type": "display_data"
    },
    {
     "data": {
      "text/plain": [
       "(0.0, 200.0)"
      ]
     },
     "execution_count": 53,
     "metadata": {},
     "output_type": "execute_result"
    }
   ],
   "source": [
    "betas = []\n",
    "boot_interc = []\n",
    "n_boots = 300\n",
    "n_points = len(table_rhos)\n",
    "x = 'nrho'\n",
    "y = \"an_rate\"\n",
    "ols_model = sm.ols(formula = f\"{y} ~ {x}\", data=table_rhos)\n",
    "results = ols_model.fit()# coefficients\n",
    "print('Intercept, x-Slope : {}'.format(results.params))\n",
    "y_pred = ols_model.fit().predict(table_rhos[x].astype(float))# plot results\n",
    "fig, ax = plt.subplots()\n",
    "for _ in range(n_boots):\n",
    "    # sample the rows, same size, with replacement\n",
    "    sample_df = table_rhos.sample(n=n_points, replace=True)\n",
    "    # fit a linear regression\n",
    "    ols_model_temp = sm.ols(formula = f\"{y} ~ {x}\", data=sample_df)\n",
    "    results_temp = ols_model_temp.fit()\n",
    "\n",
    "    # append coefficients\n",
    "    boot_interc.append(results_temp.params[0])\n",
    "    betas.append(results_temp.params[1])\n",
    "\n",
    "    # plot a greyed out line\n",
    "    y_pred_temp = ols_model_temp.fit().predict(sample_df[x].astype(float))\n",
    "    ax.plot(sample_df[x], y_pred_temp, color=\"grey\", alpha=0.1)# add data points\n",
    "ax.scatter(table_rhos[x], table_rhos[y])\n",
    "data = table_rhos.groupby('bin_nrho')['an_rate']\n",
    "\n",
    "ax.errorbar(data.mean().index,data.mean(),color = \"red\",yerr=data.std()/np.sqrt(data.count()))\n",
    "\n",
    "# ax.plot(table_rhos[x], y_pred, linewidth=2)\n",
    "ax.grid(True)\n",
    "ax.set_xlabel(r\"$n \\rho$ ($\\mu m.mm^{-4}$)\")\n",
    "\n",
    "ax.set_ylabel(\"density of anastomosis events ($h^{-1}.mm^{-2}$)\")\n",
    "ax.set_ylim((0,0.008))\n",
    "ax.set_xlim((0,200))"
   ]
  },
  {
   "cell_type": "code",
   "execution_count": 21,
   "metadata": {},
   "outputs": [
    {
     "data": {
      "application/vnd.jupyter.widget-view+json": {
       "model_id": "1c31b15af1484bc5a91ace7404942aba",
       "version_major": 2,
       "version_minor": 0
      },
      "text/plain": [
       "Canvas(toolbar=Toolbar(toolitems=[('Home', 'Reset original view', 'home', 'home'), ('Back', 'Back to previous …"
      ]
     },
     "metadata": {},
     "output_type": "display_data"
    },
    {
     "name": "stderr",
     "output_type": "stream",
     "text": [
      "C:\\Users\\coren\\anaconda3\\envs\\cleanMsc\\lib\\site-packages\\seaborn\\distributions.py:2619: FutureWarning: `distplot` is a deprecated function and will be removed in a future version. Please adapt your code to use either `displot` (a figure-level function with similar flexibility) or `histplot` (an axes-level function for histograms).\n",
      "  warnings.warn(msg, FutureWarning)\n"
     ]
    },
    {
     "data": {
      "text/plain": [
       "<matplotlib.collections.LineCollection at 0x192d96226c8>"
      ]
     },
     "execution_count": 21,
     "metadata": {},
     "output_type": "execute_result"
    }
   ],
   "source": [
    "fig, ax = plt.subplots()\n",
    "\n",
    "sns.distplot(np.array(betas),ax = ax,axlabel = r\"estimated beta ($mm^{2}.\\mu m^{-1}.day^{-1}$)\")\n",
    "ax.vlines(2.1e-5,0,250000,color='red')"
   ]
  },
  {
   "cell_type": "code",
   "execution_count": 21,
   "metadata": {},
   "outputs": [
    {
     "data": {
      "text/plain": [
       "1.5946048523106214e-05"
      ]
     },
     "execution_count": 21,
     "metadata": {},
     "output_type": "execute_result"
    }
   ],
   "source": [
    "np.mean(betas)"
   ]
  },
  {
   "cell_type": "code",
   "execution_count": 62,
   "metadata": {},
   "outputs": [
    {
     "name": "stdout",
     "output_type": "stream",
     "text": [
      "Intercept, x-Slope : Intercept     13.67232\n",
      "n            514.18659\n",
      "dtype: float64\n"
     ]
    },
    {
     "data": {
      "application/vnd.jupyter.widget-view+json": {
       "model_id": "8575c19e1d494707a5c0a66c0de3ddd6",
       "version_major": 2,
       "version_minor": 0
      },
      "text/plain": [
       "Canvas(toolbar=Toolbar(toolitems=[('Home', 'Reset original view', 'home', 'home'), ('Back', 'Back to previous …"
      ]
     },
     "metadata": {},
     "output_type": "display_data"
    },
    {
     "data": {
      "text/plain": [
       "Text(0, 0.5, 'density of stopping events ($h^{-1}.mm^{-2}$)')"
      ]
     },
     "execution_count": 62,
     "metadata": {},
     "output_type": "execute_result"
    }
   ],
   "source": [
    "plt.close(\"all\")\n",
    "betas2 = []\n",
    "boot_interc = []\n",
    "n_boots = 300\n",
    "n_points = len(table_rhos)\n",
    "x = 'n'\n",
    "y = \"an_rate\"\n",
    "ols_model = sm.ols(formula = f\"{y} ~ {x}\", data=table_rhos)\n",
    "results = ols_model.fit()# coefficients\n",
    "print('Intercept, x-Slope : {}'.format(results.params))\n",
    "y_pred = ols_model.fit().predict(table_rhos[x].astype(float))# plot results\n",
    "fig, ax = plt.subplots()\n",
    "for _ in range(n_boots):\n",
    "    # sample the rows, same size, with replacement\n",
    "    sample_df = table_rhos.sample(n=n_points, replace=True)\n",
    "    # fit a linear regression\n",
    "    ols_model_temp = sm.ols(formula = f\"{y} ~ {x}\", data=sample_df)\n",
    "    results_temp = ols_model_temp.fit()\n",
    "\n",
    "    # append coefficients\n",
    "    boot_interc.append(results_temp.params[0])\n",
    "    betas2.append(results_temp.params[1])\n",
    "\n",
    "    # plot a greyed out line\n",
    "    y_pred_temp = ols_model_temp.fit().predict(sample_df[x].astype(float))\n",
    "    ax.plot(sample_df[x], y_pred_temp, color=\"grey\", alpha=0.1)# add data points\n",
    "ax.scatter(table_rhos[x], table_rhos[y])\n",
    "# ax.plot(table_rhos[x], y_pred, linewidth=2)\n",
    "data = table_rhos.groupby(f'bin_{x}')[y]\n",
    "ax.errorbar(data.mean().index,data.mean(),color = \"red\",yerr=data.std()/np.sqrt(data.count()))\n",
    "ax.grid(True)\n",
    "ax.set_xlabel(r\"$n $ ($\\mu m.mm^{-4}$)\")\n",
    "ax.set_ylabel(\"density of stopping events ($h^{-1}.mm^{-2}$)\")\n",
    "ax.set_ylim((0,0.006))\n"
   ]
  },
  {
   "cell_type": "code",
   "execution_count": 22,
   "metadata": {},
   "outputs": [
    {
     "data": {
      "text/plain": [
       "5527.945856303682"
      ]
     },
     "execution_count": 22,
     "metadata": {},
     "output_type": "execute_result"
    }
   ],
   "source": [
    "2*np.mean(alphas)/(np.mean(betas))"
   ]
  },
  {
   "cell_type": "code",
   "execution_count": 63,
   "metadata": {},
   "outputs": [
    {
     "name": "stdout",
     "output_type": "stream",
     "text": [
      "Intercept, x-Slope : Intercept    0.000204\n",
      "n            0.007654\n",
      "dtype: float64\n"
     ]
    },
    {
     "data": {
      "application/vnd.jupyter.widget-view+json": {
       "model_id": "097bde547e0e42bcb679245e2cb50366",
       "version_major": 2,
       "version_minor": 0
      },
      "text/plain": [
       "Canvas(toolbar=Toolbar(toolitems=[('Home', 'Reset original view', 'home', 'home'), ('Back', 'Back to previous …"
      ]
     },
     "metadata": {},
     "output_type": "display_data"
    },
    {
     "name": "stdout",
     "output_type": "stream",
     "text": [
      "Intercept, x-Slope : Intercept   -0.000039\n",
      "nrho         0.000016\n",
      "dtype: float64\n"
     ]
    },
    {
     "data": {
      "text/plain": [
       "Text(0.5, 0, '$n \\\\rho$ ($\\\\mu m.mm^{-4}$)')"
      ]
     },
     "execution_count": 63,
     "metadata": {},
     "output_type": "execute_result"
    }
   ],
   "source": [
    "plt.close(\"all\")\n",
    "betas2 = []\n",
    "boot_interc = []\n",
    "n_boots = 1\n",
    "n_points = len(table_rhos)\n",
    "x = 'n'\n",
    "y = \"an_rate\"\n",
    "ols_model = sm.ols(formula = f\"{y} ~ {x}\", data=table_rhos)\n",
    "results = ols_model.fit()# coefficients\n",
    "print('Intercept, x-Slope : {}'.format(results.params))\n",
    "y_pred = ols_model.fit().predict(table_rhos[x].astype(float))# plot results\n",
    "fig, ax = plt.subplots()\n",
    "for _ in range(n_boots):\n",
    "    # sample the rows, same size, with replacement\n",
    "    sample_df = table_rhos.sample(n=n_points, replace=True)\n",
    "    # fit a linear regression\n",
    "    ols_model_temp = sm.ols(formula = f\"{y} ~ {x}\", data=sample_df)\n",
    "    results_temp = ols_model_temp.fit()\n",
    "\n",
    "    # append coefficients\n",
    "    boot_interc.append(results_temp.params[0])\n",
    "    betas2.append(results_temp.params[1])\n",
    "\n",
    "    # plot a greyed out line\n",
    "    y_pred_temp = ols_model_temp.fit().predict(sample_df[x].astype(float))\n",
    "    ax.plot(sample_df[x], y_pred_temp, color=\"grey\", alpha=0.1)# add data points\n",
    "# ax.scatter(table_rhos[x], table_rhos[y])\n",
    "# ax.plot(table_rhos[x], y_pred, linewidth=2)\n",
    "data = table_rhos.groupby(f'bin_{x}')[y]\n",
    "ax.errorbar(data.mean().index,data.mean(),color = \"red\",yerr=data.std()/np.sqrt(data.count()))\n",
    "ax.grid(True)\n",
    "ax.set_xlabel(r\"$n $ ($\\mu m.mm^{-4}$)\")\n",
    "ax2=ax.twiny()\n",
    "ax.set_ylabel(\"density of stopping events ($h^{-1}.mm^{-2}$)\")\n",
    "ax.set_ylim((0,0.006))\n",
    "betas2 = []\n",
    "boot_interc = []\n",
    "n_points = len(table_rhos)\n",
    "x = 'nrho'\n",
    "y = \"an_rate\"\n",
    "ols_model = sm.ols(formula = f\"{y} ~ {x}\", data=table_rhos)\n",
    "results = ols_model.fit()# coefficients\n",
    "print('Intercept, x-Slope : {}'.format(results.params))\n",
    "y_pred = ols_model.fit().predict(table_rhos[x].astype(float))# plot results\n",
    "for _ in range(n_boots):\n",
    "    # sample the rows, same size, with replacement\n",
    "    sample_df = table_rhos.sample(n=n_points, replace=True)\n",
    "    # fit a linear regression\n",
    "    ols_model_temp = sm.ols(formula = f\"{y} ~ {x}\", data=sample_df)\n",
    "    results_temp = ols_model_temp.fit()\n",
    "\n",
    "    # append coefficients\n",
    "    boot_interc.append(results_temp.params[0])\n",
    "    betas2.append(results_temp.params[1])\n",
    "\n",
    "    # plot a greyed out line\n",
    "    y_pred_temp = ols_model_temp.fit().predict(sample_df[x].astype(float))\n",
    "    ax2.plot(sample_df[x], y_pred_temp, color=\"grey\", alpha=0.1)# add data points\n",
    "# ax2.scatter(table_rhos[x], table_rhos[y])\n",
    "# ax.plot(table_rhos[x], y_pred, linewidth=2)\n",
    "data = table_rhos.groupby(f'bin_{x}')[y]\n",
    "ax2.errorbar(data.mean().index,data.mean(),color = \"green\",yerr=data.std()/np.sqrt(data.count()))\n",
    "ax.set_xlabel(r\"$n $ ($mm^{-2}$)\",color='red')\n",
    "ax2.set_xlabel(r\"$n \\rho$ ($\\mu m.mm^{-4}$)\",color='green')\n"
   ]
  },
  {
   "cell_type": "code",
   "execution_count": 65,
   "metadata": {},
   "outputs": [
    {
     "name": "stdout",
     "output_type": "stream",
     "text": [
      "Intercept, x-Slope : Intercept     13.67232\n",
      "n            514.18659\n",
      "dtype: float64\n"
     ]
    },
    {
     "data": {
      "application/vnd.jupyter.widget-view+json": {
       "model_id": "8a10462683764ced8791f64be23988b2",
       "version_major": 2,
       "version_minor": 0
      },
      "text/plain": [
       "Canvas(toolbar=Toolbar(toolitems=[('Home', 'Reset original view', 'home', 'home'), ('Back', 'Back to previous …"
      ]
     },
     "metadata": {},
     "output_type": "display_data"
    },
    {
     "data": {
      "text/plain": [
       "Text(0, 0.5, '$n \\\\rho $ ($\\\\mu m.mm^{-2}$)')"
      ]
     },
     "execution_count": 65,
     "metadata": {},
     "output_type": "execute_result"
    }
   ],
   "source": [
    "plt.close(\"all\")\n",
    "betas2 = []\n",
    "boot_interc = []\n",
    "n_boots = 1\n",
    "n_points = len(table_rhos)\n",
    "x = 'n'\n",
    "y = \"nrho\"\n",
    "ols_model = sm.ols(formula = f\"{y} ~ {x}\", data=table_rhos)\n",
    "results = ols_model.fit()# coefficients\n",
    "print('Intercept, x-Slope : {}'.format(results.params))\n",
    "y_pred = ols_model.fit().predict(table_rhos[x].astype(float))# plot results\n",
    "fig, ax = plt.subplots()\n",
    "for _ in range(n_boots):\n",
    "    # sample the rows, same size, with replacement\n",
    "    sample_df = table_rhos.sample(n=n_points, replace=True)\n",
    "    # fit a linear regression\n",
    "    ols_model_temp = sm.ols(formula = f\"{y} ~ {x}\", data=sample_df)\n",
    "    results_temp = ols_model_temp.fit()\n",
    "\n",
    "    # append coefficients\n",
    "    boot_interc.append(results_temp.params[0])\n",
    "    betas2.append(results_temp.params[1])\n",
    "\n",
    "    # plot a greyed out line\n",
    "    y_pred_temp = ols_model_temp.fit().predict(sample_df[x].astype(float))\n",
    "#     ax.plot(sample_df[x], y_pred_temp, color=\"grey\", alpha=0.1)# add data points\n",
    "ax.scatter(table_rhos[x], table_rhos[y])\n",
    "# ax.plot(table_rhos[x], y_pred, linewidth=2)\n",
    "data = table_rhos.groupby(f'bin_{x}')[y]\n",
    "ax.errorbar(data.mean().index,data.mean(),color = \"red\",yerr=data.std()/np.sqrt(data.count()))\n",
    "ax.grid(True)\n",
    "ax.set_xlabel(r\"$n $ ($mm^{-2}$)\")\n",
    "ax.set_ylabel(r\"$n \\rho $ ($\\mu m.mm^{-2}$)\")\n",
    "# ax.set_ylim((0,0.006))\n"
   ]
  },
  {
   "cell_type": "code",
   "execution_count": 60,
   "metadata": {},
   "outputs": [
    {
     "data": {
      "application/vnd.jupyter.widget-view+json": {
       "model_id": "91f833b793f240fa91a7b4819d29dc20",
       "version_major": 2,
       "version_minor": 0
      },
      "text/plain": [
       "Canvas(toolbar=Toolbar(toolitems=[('Home', 'Reset original view', 'home', 'home'), ('Back', 'Back to previous …"
      ]
     },
     "metadata": {},
     "output_type": "display_data"
    },
    {
     "data": {
      "text/plain": [
       "<matplotlib.collections.PathCollection at 0x2560f61d8c8>"
      ]
     },
     "execution_count": 60,
     "metadata": {},
     "output_type": "execute_result"
    }
   ],
   "source": [
    "fig, ax = plt.subplots()\n",
    "ax.scatter(table_rhos['bin_n'],table_rhos['rho'],alpha=0.1)"
   ]
  },
  {
   "cell_type": "code",
   "execution_count": 130,
   "metadata": {},
   "outputs": [
    {
     "data": {
      "text/plain": [
       "0.0006201528414848493"
      ]
     },
     "execution_count": 130,
     "metadata": {},
     "output_type": "execute_result"
    }
   ],
   "source": [
    "np.mean(betas)*24"
   ]
  },
  {
   "cell_type": "code",
   "execution_count": 20,
   "metadata": {},
   "outputs": [
    {
     "data": {
      "text/plain": [
       "1150.1854768958208"
      ]
     },
     "execution_count": 20,
     "metadata": {},
     "output_type": "execute_result"
    }
   ],
   "source": [
    "4*np.mean(alphas)/np.mean(betas)*np.sqrt((np.std(alphas)/np.mean(alphas))**2+(np.std(betas)/np.mean(betas))**2)"
   ]
  },
  {
   "cell_type": "code",
   "execution_count": 28,
   "metadata": {
    "collapsed": true,
    "jupyter": {
     "outputs_hidden": true
    }
   },
   "outputs": [
    {
     "data": {
      "application/vnd.jupyter.widget-view+json": {
       "model_id": "c7cd01169a794770aeb6b75de7273da8",
       "version_major": 2,
       "version_minor": 0
      },
      "text/plain": [
       "Canvas(toolbar=Toolbar(toolitems=[('Home', 'Reset original view', 'home', 'home'), ('Back', 'Back to previous …"
      ]
     },
     "metadata": {},
     "output_type": "display_data"
    },
    {
     "name": "stdout",
     "output_type": "stream",
     "text": [
      "Intercept, x-Slope : Intercept   -0.001307\n",
      "n            0.060162\n",
      "dtype: float64\n"
     ]
    },
    {
     "name": "stderr",
     "output_type": "stream",
     "text": [
      "C:\\Users\\coren\\anaconda3\\envs\\cleanMsc\\lib\\site-packages\\seaborn\\distributions.py:2619: FutureWarning: `distplot` is a deprecated function and will be removed in a future version. Please adapt your code to use either `displot` (a figure-level function with similar flexibility) or `histplot` (an axes-level function for histograms).\n",
      "  warnings.warn(msg, FutureWarning)\n"
     ]
    },
    {
     "name": "stdout",
     "output_type": "stream",
     "text": [
      "Intercept, x-Slope : Intercept   -0.000798\n",
      "n            0.046517\n",
      "dtype: float64\n"
     ]
    },
    {
     "name": "stderr",
     "output_type": "stream",
     "text": [
      "C:\\Users\\coren\\anaconda3\\envs\\cleanMsc\\lib\\site-packages\\seaborn\\distributions.py:2619: FutureWarning: `distplot` is a deprecated function and will be removed in a future version. Please adapt your code to use either `displot` (a figure-level function with similar flexibility) or `histplot` (an axes-level function for histograms).\n",
      "  warnings.warn(msg, FutureWarning)\n"
     ]
    },
    {
     "name": "stdout",
     "output_type": "stream",
     "text": [
      "Intercept, x-Slope : Intercept   -0.000005\n",
      "n            0.028616\n",
      "dtype: float64\n"
     ]
    },
    {
     "name": "stderr",
     "output_type": "stream",
     "text": [
      "C:\\Users\\coren\\anaconda3\\envs\\cleanMsc\\lib\\site-packages\\seaborn\\distributions.py:2619: FutureWarning: `distplot` is a deprecated function and will be removed in a future version. Please adapt your code to use either `displot` (a figure-level function with similar flexibility) or `histplot` (an axes-level function for histograms).\n",
      "  warnings.warn(msg, FutureWarning)\n"
     ]
    },
    {
     "name": "stdout",
     "output_type": "stream",
     "text": [
      "Intercept, x-Slope : Intercept   -0.000174\n",
      "n            0.034819\n",
      "dtype: float64\n"
     ]
    },
    {
     "name": "stderr",
     "output_type": "stream",
     "text": [
      "C:\\Users\\coren\\anaconda3\\envs\\cleanMsc\\lib\\site-packages\\seaborn\\distributions.py:2619: FutureWarning: `distplot` is a deprecated function and will be removed in a future version. Please adapt your code to use either `displot` (a figure-level function with similar flexibility) or `histplot` (an axes-level function for histograms).\n",
      "  warnings.warn(msg, FutureWarning)\n"
     ]
    },
    {
     "name": "stdout",
     "output_type": "stream",
     "text": [
      "Intercept, x-Slope : Intercept   -0.000406\n",
      "n            0.041720\n",
      "dtype: float64\n"
     ]
    },
    {
     "name": "stderr",
     "output_type": "stream",
     "text": [
      "C:\\Users\\coren\\anaconda3\\envs\\cleanMsc\\lib\\site-packages\\seaborn\\distributions.py:2619: FutureWarning: `distplot` is a deprecated function and will be removed in a future version. Please adapt your code to use either `displot` (a figure-level function with similar flexibility) or `histplot` (an axes-level function for histograms).\n",
      "  warnings.warn(msg, FutureWarning)\n"
     ]
    },
    {
     "name": "stdout",
     "output_type": "stream",
     "text": [
      "Intercept, x-Slope : Intercept   -0.000803\n",
      "n            0.055181\n",
      "dtype: float64\n"
     ]
    },
    {
     "name": "stderr",
     "output_type": "stream",
     "text": [
      "C:\\Users\\coren\\anaconda3\\envs\\cleanMsc\\lib\\site-packages\\seaborn\\distributions.py:2619: FutureWarning: `distplot` is a deprecated function and will be removed in a future version. Please adapt your code to use either `displot` (a figure-level function with similar flexibility) or `histplot` (an axes-level function for histograms).\n",
      "  warnings.warn(msg, FutureWarning)\n"
     ]
    },
    {
     "name": "stdout",
     "output_type": "stream",
     "text": [
      "Intercept, x-Slope : Intercept   -0.000393\n",
      "n            0.034280\n",
      "dtype: float64\n"
     ]
    },
    {
     "name": "stderr",
     "output_type": "stream",
     "text": [
      "C:\\Users\\coren\\anaconda3\\envs\\cleanMsc\\lib\\site-packages\\seaborn\\distributions.py:2619: FutureWarning: `distplot` is a deprecated function and will be removed in a future version. Please adapt your code to use either `displot` (a figure-level function with similar flexibility) or `histplot` (an axes-level function for histograms).\n",
      "  warnings.warn(msg, FutureWarning)\n"
     ]
    },
    {
     "name": "stdout",
     "output_type": "stream",
     "text": [
      "Intercept, x-Slope : Intercept   -0.000347\n",
      "n            0.037832\n",
      "dtype: float64\n"
     ]
    },
    {
     "name": "stderr",
     "output_type": "stream",
     "text": [
      "C:\\Users\\coren\\anaconda3\\envs\\cleanMsc\\lib\\site-packages\\seaborn\\distributions.py:2619: FutureWarning: `distplot` is a deprecated function and will be removed in a future version. Please adapt your code to use either `displot` (a figure-level function with similar flexibility) or `histplot` (an axes-level function for histograms).\n",
      "  warnings.warn(msg, FutureWarning)\n"
     ]
    },
    {
     "name": "stdout",
     "output_type": "stream",
     "text": [
      "Intercept, x-Slope : Intercept   -0.000447\n",
      "n            0.038817\n",
      "dtype: float64\n"
     ]
    },
    {
     "name": "stderr",
     "output_type": "stream",
     "text": [
      "C:\\Users\\coren\\anaconda3\\envs\\cleanMsc\\lib\\site-packages\\seaborn\\distributions.py:2619: FutureWarning: `distplot` is a deprecated function and will be removed in a future version. Please adapt your code to use either `displot` (a figure-level function with similar flexibility) or `histplot` (an axes-level function for histograms).\n",
      "  warnings.warn(msg, FutureWarning)\n"
     ]
    },
    {
     "name": "stdout",
     "output_type": "stream",
     "text": [
      "Intercept, x-Slope : Intercept   -0.000523\n",
      "n            0.035921\n",
      "dtype: float64\n"
     ]
    },
    {
     "name": "stderr",
     "output_type": "stream",
     "text": [
      "C:\\Users\\coren\\anaconda3\\envs\\cleanMsc\\lib\\site-packages\\seaborn\\distributions.py:2619: FutureWarning: `distplot` is a deprecated function and will be removed in a future version. Please adapt your code to use either `displot` (a figure-level function with similar flexibility) or `histplot` (an axes-level function for histograms).\n",
      "  warnings.warn(msg, FutureWarning)\n"
     ]
    },
    {
     "data": {
      "text/plain": [
       "<matplotlib.legend.Legend at 0x1e352ac2648>"
      ]
     },
     "execution_count": 28,
     "metadata": {},
     "output_type": "execute_result"
    }
   ],
   "source": [
    "fig, ax = plt.subplots()\n",
    "\n",
    "plates = [76,94,102,152,792,799,800,808,91,80]\n",
    "for plate in plates:\n",
    "    table = time_plate_info.loc[time_plate_info['Plate']==plate]\n",
    "    rhos = []\n",
    "    ns = []\n",
    "    ans_rate = []\n",
    "    stop_rate = []\n",
    "    branch_rate = []\n",
    "    ts = []\n",
    "    for index in range(1,20):\n",
    "        column = f\"ring_density_incr-100_index-{index}\"\n",
    "        rhos+= list(table[column])\n",
    "        column = f\"ring_active_tips_density_incr-100_index-{index}\"\n",
    "        ns+= list(table[column])\n",
    "        column = f\"ring_anas_density_incr-100_index-{index}\"\n",
    "        ans_rate+= list(table[column])\n",
    "        column = f\"ring_branch_density_incr-100_index-{index}\"\n",
    "        branch_rate+= list(table[column])\n",
    "        column = f\"ring_stop_density_incr-100_index-{index}\"\n",
    "        stop_rate+= list(table[column])\n",
    "        column = f\"t\"\n",
    "        ts+= list(table[column])\n",
    "    data = np.array((rhos,ns,ans_rate,stop_rate,branch_rate,ts)).transpose()\n",
    "    table_rhos = pd.DataFrame(data,columns=(\"rho\",\"n\",\"an_rate\",\"stop\",'branch','ts'))\n",
    "    table_rhos['nrho'] = table_rhos['n']*table_rhos['rho']\n",
    "    table_rhos = table_rhos.dropna()\n",
    "    table_rhos['n2'] = table_rhos['n']**2\n",
    "    table_rhos['rho2'] = table_rhos['rho']**2\n",
    "    table_rhos = table_rhos.astype(float)\n",
    "    table_rhos = table_rhos.loc[(table_rhos['n']!=0)]\n",
    "    alphas = []\n",
    "    boot_interc = []\n",
    "    n_boots = 300\n",
    "    n_points = 1000\n",
    "    x = 'n'\n",
    "    y = \"branch\"\n",
    "    ols_model = sm.ols(formula = f\"{y} ~ {x}\", data=table_rhos)\n",
    "    results = ols_model.fit()# coefficients\n",
    "    print('Intercept, x-Slope : {}'.format(results.params))\n",
    "    y_pred = ols_model.fit().predict(table_rhos[x].astype(float))# plot results\n",
    "    for _ in range(n_boots):\n",
    "        # sample the rows, same size, with replacement\n",
    "        sample_df = table_rhos.sample(n=n_points, replace=True)\n",
    "        # fit a linear regression\n",
    "        ols_model_temp = sm.ols(formula = f\"{y} ~ {x}\", data=sample_df)\n",
    "        results_temp = ols_model_temp.fit()\n",
    "\n",
    "        # append coefficients\n",
    "        boot_interc.append(results_temp.params[0])\n",
    "        alphas.append(results_temp.params[1])\n",
    "\n",
    "        # plot a greyed out line\n",
    "        y_pred_temp = ols_model_temp.fit().predict(sample_df[x].astype(float))\n",
    "\n",
    "    sns.distplot(np.array(alphas)*24,ax = ax,axlabel = r\"estimated alpha ($day^{-1}$)\",label=plate)\n",
    "ax.set_xlim((0,2))\n",
    "ax.set_ylim((0,6))\n",
    "\n",
    "plt.legend()"
   ]
  },
  {
   "cell_type": "code",
   "execution_count": 179,
   "metadata": {
    "collapsed": true,
    "jupyter": {
     "outputs_hidden": true
    }
   },
   "outputs": [
    {
     "data": {
      "application/vnd.jupyter.widget-view+json": {
       "model_id": "1fae3fcfeb824d44a18fbf890296e75b",
       "version_major": 2,
       "version_minor": 0
      },
      "text/plain": [
       "Canvas(toolbar=Toolbar(toolitems=[('Home', 'Reset original view', 'home', 'home'), ('Back', 'Back to previous …"
      ]
     },
     "metadata": {},
     "output_type": "display_data"
    },
    {
     "name": "stdout",
     "output_type": "stream",
     "text": [
      "Intercept, x-Slope : Intercept   -0.000021\n",
      "nrho         0.000025\n",
      "dtype: float64\n"
     ]
    },
    {
     "name": "stderr",
     "output_type": "stream",
     "text": [
      "C:\\Users\\coren\\anaconda3\\envs\\cleanMsc\\lib\\site-packages\\seaborn\\distributions.py:2619: FutureWarning: `distplot` is a deprecated function and will be removed in a future version. Please adapt your code to use either `displot` (a figure-level function with similar flexibility) or `histplot` (an axes-level function for histograms).\n",
      "  warnings.warn(msg, FutureWarning)\n"
     ]
    },
    {
     "name": "stdout",
     "output_type": "stream",
     "text": [
      "Intercept, x-Slope : Intercept   -0.000027\n",
      "nrho         0.000021\n",
      "dtype: float64\n"
     ]
    },
    {
     "name": "stderr",
     "output_type": "stream",
     "text": [
      "C:\\Users\\coren\\anaconda3\\envs\\cleanMsc\\lib\\site-packages\\seaborn\\distributions.py:2619: FutureWarning: `distplot` is a deprecated function and will be removed in a future version. Please adapt your code to use either `displot` (a figure-level function with similar flexibility) or `histplot` (an axes-level function for histograms).\n",
      "  warnings.warn(msg, FutureWarning)\n"
     ]
    },
    {
     "name": "stdout",
     "output_type": "stream",
     "text": [
      "Intercept, x-Slope : Intercept    0.000045\n",
      "nrho         0.000011\n",
      "dtype: float64\n"
     ]
    },
    {
     "name": "stderr",
     "output_type": "stream",
     "text": [
      "C:\\Users\\coren\\anaconda3\\envs\\cleanMsc\\lib\\site-packages\\seaborn\\distributions.py:2619: FutureWarning: `distplot` is a deprecated function and will be removed in a future version. Please adapt your code to use either `displot` (a figure-level function with similar flexibility) or `histplot` (an axes-level function for histograms).\n",
      "  warnings.warn(msg, FutureWarning)\n"
     ]
    },
    {
     "name": "stdout",
     "output_type": "stream",
     "text": [
      "Intercept, x-Slope : Intercept    0.000029\n",
      "nrho         0.000008\n",
      "dtype: float64\n"
     ]
    },
    {
     "name": "stderr",
     "output_type": "stream",
     "text": [
      "C:\\Users\\coren\\anaconda3\\envs\\cleanMsc\\lib\\site-packages\\seaborn\\distributions.py:2619: FutureWarning: `distplot` is a deprecated function and will be removed in a future version. Please adapt your code to use either `displot` (a figure-level function with similar flexibility) or `histplot` (an axes-level function for histograms).\n",
      "  warnings.warn(msg, FutureWarning)\n"
     ]
    },
    {
     "name": "stdout",
     "output_type": "stream",
     "text": [
      "Intercept, x-Slope : Intercept   -0.000010\n",
      "nrho         0.000014\n",
      "dtype: float64\n"
     ]
    },
    {
     "name": "stderr",
     "output_type": "stream",
     "text": [
      "C:\\Users\\coren\\anaconda3\\envs\\cleanMsc\\lib\\site-packages\\seaborn\\distributions.py:2619: FutureWarning: `distplot` is a deprecated function and will be removed in a future version. Please adapt your code to use either `displot` (a figure-level function with similar flexibility) or `histplot` (an axes-level function for histograms).\n",
      "  warnings.warn(msg, FutureWarning)\n"
     ]
    },
    {
     "name": "stdout",
     "output_type": "stream",
     "text": [
      "Intercept, x-Slope : Intercept    0.000004\n",
      "nrho         0.000021\n",
      "dtype: float64\n"
     ]
    },
    {
     "name": "stderr",
     "output_type": "stream",
     "text": [
      "C:\\Users\\coren\\anaconda3\\envs\\cleanMsc\\lib\\site-packages\\seaborn\\distributions.py:2619: FutureWarning: `distplot` is a deprecated function and will be removed in a future version. Please adapt your code to use either `displot` (a figure-level function with similar flexibility) or `histplot` (an axes-level function for histograms).\n",
      "  warnings.warn(msg, FutureWarning)\n"
     ]
    },
    {
     "name": "stdout",
     "output_type": "stream",
     "text": [
      "Intercept, x-Slope : Intercept    0.000002\n",
      "nrho         0.000016\n",
      "dtype: float64\n"
     ]
    },
    {
     "name": "stderr",
     "output_type": "stream",
     "text": [
      "C:\\Users\\coren\\anaconda3\\envs\\cleanMsc\\lib\\site-packages\\seaborn\\distributions.py:2619: FutureWarning: `distplot` is a deprecated function and will be removed in a future version. Please adapt your code to use either `displot` (a figure-level function with similar flexibility) or `histplot` (an axes-level function for histograms).\n",
      "  warnings.warn(msg, FutureWarning)\n"
     ]
    },
    {
     "name": "stdout",
     "output_type": "stream",
     "text": [
      "Intercept, x-Slope : Intercept   -0.000008\n",
      "nrho         0.000015\n",
      "dtype: float64\n"
     ]
    },
    {
     "name": "stderr",
     "output_type": "stream",
     "text": [
      "C:\\Users\\coren\\anaconda3\\envs\\cleanMsc\\lib\\site-packages\\seaborn\\distributions.py:2619: FutureWarning: `distplot` is a deprecated function and will be removed in a future version. Please adapt your code to use either `displot` (a figure-level function with similar flexibility) or `histplot` (an axes-level function for histograms).\n",
      "  warnings.warn(msg, FutureWarning)\n"
     ]
    },
    {
     "name": "stdout",
     "output_type": "stream",
     "text": [
      "Intercept, x-Slope : Intercept    0.000015\n",
      "nrho         0.000016\n",
      "dtype: float64\n"
     ]
    },
    {
     "name": "stderr",
     "output_type": "stream",
     "text": [
      "C:\\Users\\coren\\anaconda3\\envs\\cleanMsc\\lib\\site-packages\\seaborn\\distributions.py:2619: FutureWarning: `distplot` is a deprecated function and will be removed in a future version. Please adapt your code to use either `displot` (a figure-level function with similar flexibility) or `histplot` (an axes-level function for histograms).\n",
      "  warnings.warn(msg, FutureWarning)\n"
     ]
    },
    {
     "name": "stdout",
     "output_type": "stream",
     "text": [
      "Intercept, x-Slope : Intercept   -0.000006\n",
      "nrho         0.000019\n",
      "dtype: float64\n"
     ]
    },
    {
     "name": "stderr",
     "output_type": "stream",
     "text": [
      "C:\\Users\\coren\\anaconda3\\envs\\cleanMsc\\lib\\site-packages\\seaborn\\distributions.py:2619: FutureWarning: `distplot` is a deprecated function and will be removed in a future version. Please adapt your code to use either `displot` (a figure-level function with similar flexibility) or `histplot` (an axes-level function for histograms).\n",
      "  warnings.warn(msg, FutureWarning)\n"
     ]
    },
    {
     "data": {
      "text/plain": [
       "<matplotlib.legend.Legend at 0x26ac0179848>"
      ]
     },
     "execution_count": 179,
     "metadata": {},
     "output_type": "execute_result"
    }
   ],
   "source": [
    "fig, ax = plt.subplots()\n",
    "\n",
    "plates = [76,94,102,152,792,799,800,808,91,80]\n",
    "for plate in plates:\n",
    "    table = time_plate_info.loc[time_plate_info['Plate']==plate]\n",
    "    rhos = []\n",
    "    ns = []\n",
    "    ans_rate = []\n",
    "    stop_rate = []\n",
    "    branch_rate = []\n",
    "    ts = []\n",
    "    for index in range(1,20):\n",
    "        column = f\"ring_density_incr-100_index-{index}\"\n",
    "        rhos+= list(table[column])\n",
    "        column = f\"ring_active_tips_density_incr-100_index-{index}\"\n",
    "        ns+= list(table[column])\n",
    "        column = f\"ring_anas_density_incr-100_index-{index}\"\n",
    "        ans_rate+= list(table[column])\n",
    "        column = f\"ring_branch_density_incr-100_index-{index}\"\n",
    "        branch_rate+= list(table[column])\n",
    "        column = f\"ring_stop_density_incr-100_index-{index}\"\n",
    "        stop_rate+= list(table[column])\n",
    "        column = f\"t\"\n",
    "        ts+= list(table[column])\n",
    "    data = np.array((rhos,ns,ans_rate,stop_rate,branch_rate,ts)).transpose()\n",
    "    table_rhos = pd.DataFrame(data,columns=(\"rho\",\"n\",\"an_rate\",\"stop\",'branch','ts'))\n",
    "    table_rhos['nrho'] = table_rhos['n']*table_rhos['rho']\n",
    "    table_rhos = table_rhos.dropna()\n",
    "    table_rhos['n2'] = table_rhos['n']**2\n",
    "    table_rhos['rho2'] = table_rhos['rho']**2\n",
    "    table_rhos = table_rhos.astype(float)\n",
    "    table_rhos = table_rhos.loc[(table_rhos['nrho']!=0)]\n",
    "\n",
    "    betas = []\n",
    "    boot_interc = []\n",
    "    n_boots = 300\n",
    "    x = 'nrho'\n",
    "    y = \"an_rate\"\n",
    "    ols_model = sm.ols(formula = f\"{y} ~ {x}\", data=table_rhos)\n",
    "    results = ols_model.fit()# coefficients\n",
    "    print('Intercept, x-Slope : {}'.format(results.params))\n",
    "    y_pred = ols_model.fit().predict(table_rhos[x].astype(float))# plot results\n",
    "    for _ in range(n_boots):\n",
    "        # sample the rows, same size, with replacement\n",
    "        sample_df = table_rhos.sample(n=n_points, replace=True)\n",
    "        # fit a linear regression\n",
    "        ols_model_temp = sm.ols(formula = f\"{y} ~ {x}\", data=sample_df)\n",
    "        results_temp = ols_model_temp.fit()\n",
    "\n",
    "        # append coefficients\n",
    "        boot_interc.append(results_temp.params[0])\n",
    "        betas.append(results_temp.params[1])\n",
    "\n",
    "        # plot a greyed out line\n",
    "        y_pred_temp = ols_model_temp.fit().predict(sample_df[x].astype(float))\n",
    "\n",
    "    sns.distplot(np.array(betas)*24,ax = ax,axlabel = r\"estimated beta ($mm^{2}.\\mu m^{-1}.day^{-1}$)\",label=plate)\n",
    "plt.legend()"
   ]
  },
  {
   "cell_type": "code",
   "execution_count": null,
   "metadata": {},
   "outputs": [],
   "source": [
    "fig, ax = plt.subplots()\n",
    "\n",
    "plates = [76,94,102,152,792,799,800,808,91,80]\n",
    "for plate in plates:\n",
    "    table = time_plate_info.loc[time_plate_info['Plate']==plate]\n",
    "    rhos = []\n",
    "    ns = []\n",
    "    ans_rate = []\n",
    "    stop_rate = []\n",
    "    branch_rate = []\n",
    "    ts = []\n",
    "    for index in range(1,20):\n",
    "        column = f\"ring_density_incr-100_index-{index}\"\n",
    "        rhos+= list(table[column])\n",
    "        column = f\"ring_active_tips_density_incr-100_index-{index}\"\n",
    "        ns+= list(table[column])\n",
    "        column = f\"ring_anas_density_incr-100_index-{index}\"\n",
    "        ans_rate+= list(table[column])\n",
    "        column = f\"ring_branch_density_incr-100_index-{index}\"\n",
    "        branch_rate+= list(table[column])\n",
    "        column = f\"ring_stop_density_incr-100_index-{index}\"\n",
    "        stop_rate+= list(table[column])\n",
    "        column = f\"t\"\n",
    "        ts+= list(table[column])\n",
    "    data = np.array((rhos,ns,ans_rate,stop_rate,branch_rate,ts)).transpose()\n",
    "    table_rhos = pd.DataFrame(data,columns=(\"rho\",\"n\",\"an_rate\",\"stop\",'branch','ts'))\n",
    "    table_rhos['nrho'] = table_rhos['n']*table_rhos['rho']\n",
    "    table_rhos = table_rhos.dropna()\n",
    "    table_rhos['n2'] = table_rhos['n']**2\n",
    "    table_rhos['rho2'] = table_rhos['rho']**2\n",
    "    table_rhos = table_rhos.astype(float)\n",
    "    table_rhos = table_rhos.loc[(table_rhos['n']!=0)]\n",
    "    table_rhos['bin_n'] = (table_rhos['n']*100).astype(int)/100\n",
    "    table_rhos['bin_nrho'] = (table_rhos['nrho']/5).astype(int)*5\n",
    "\n",
    "    betas = []\n",
    "    boot_interc = []\n",
    "    n_boots = 300\n",
    "    x = 'nrho'\n",
    "    y = \"an_rate\"\n",
    "    ols_model = sm.ols(formula = f\"{y} ~ {x}\", data=table_rhos)\n",
    "    results = ols_model.fit()# coefficients\n",
    "    print('Intercept, x-Slope : {}'.format(results.params))\n",
    "    y_pred = ols_model.fit().predict(table_rhos[x].astype(float))# plot results\n",
    "    for _ in range(n_boots):\n",
    "        # sample the rows, same size, with replacement\n",
    "        sample_df = table_rhos.sample(n=n_points, replace=True)\n",
    "        # fit a linear regression\n",
    "        ols_model_temp = sm.ols(formula = f\"{y} ~ {x}\", data=sample_df)\n",
    "        results_temp = ols_model_temp.fit()\n",
    "\n",
    "        # append coefficients\n",
    "        boot_interc.append(results_temp.params[0])\n",
    "        betas.append(results_temp.params[1])\n",
    "\n",
    "        # plot a greyed out line\n",
    "        y_pred_temp = ols_model_temp.fit().predict(sample_df[x].astype(float))\n",
    "\n",
    "    sns.distplot(np.array(betas)*24,ax = ax,axlabel = r\"estimated beta ($mm^{2}.\\mu m^{-1}.day^{-1}$)\",label=plate)"
   ]
  },
  {
   "cell_type": "code",
   "execution_count": 180,
   "metadata": {},
   "outputs": [
    {
     "data": {
      "text/plain": [
       "-4.787780575701489e-06"
      ]
     },
     "execution_count": 180,
     "metadata": {},
     "output_type": "execute_result"
    }
   ],
   "source": [
    "np.mean(boot_interc)"
   ]
  },
  {
   "cell_type": "code",
   "execution_count": 59,
   "metadata": {},
   "outputs": [],
   "source": [
    "y, X = dmatrices('branch ~ n + rho ', data=table_rhos, return_type='dataframe')"
   ]
  },
  {
   "cell_type": "code",
   "execution_count": 60,
   "metadata": {},
   "outputs": [
    {
     "name": "stdout",
     "output_type": "stream",
     "text": [
      "                            OLS Regression Results                            \n",
      "==============================================================================\n",
      "Dep. Variable:                 branch   R-squared:                       0.697\n",
      "Model:                            OLS   Adj. R-squared:                  0.695\n",
      "Method:                 Least Squares   F-statistic:                     327.7\n",
      "Date:                Mon, 10 Jan 2022   Prob (F-statistic):           1.31e-74\n",
      "Time:                        22:37:17   Log-Likelihood:                 1440.8\n",
      "No. Observations:                 288   AIC:                            -2876.\n",
      "Df Residuals:                     285   BIC:                            -2865.\n",
      "Df Model:                           2                                         \n",
      "Covariance Type:            nonrobust                                         \n",
      "==============================================================================\n",
      "                 coef    std err          t      P>|t|      [0.025      0.975]\n",
      "------------------------------------------------------------------------------\n",
      "Intercept     -0.0002      0.000     -1.426      0.155      -0.000    6.84e-05\n",
      "n              0.0523      0.002     25.596      0.000       0.048       0.056\n",
      "rho        -9.362e-08   9.09e-08     -1.030      0.304   -2.72e-07    8.52e-08\n",
      "==============================================================================\n",
      "Omnibus:                       77.327   Durbin-Watson:                   2.065\n",
      "Prob(Omnibus):                  0.000   Jarque-Bera (JB):             2324.465\n",
      "Skew:                           0.231   Prob(JB):                         0.00\n",
      "Kurtosis:                      16.910   Cond. No.                     2.80e+04\n",
      "==============================================================================\n",
      "\n",
      "Notes:\n",
      "[1] Standard Errors assume that the covariance matrix of the errors is correctly specified.\n",
      "[2] The condition number is large, 2.8e+04. This might indicate that there are\n",
      "strong multicollinearity or other numerical problems.\n"
     ]
    }
   ],
   "source": [
    "mod = sm.OLS(y, X)\n",
    "res = mod.fit()\n",
    "print(res.summary())"
   ]
  },
  {
   "cell_type": "code",
   "execution_count": null,
   "metadata": {},
   "outputs": [],
   "source": []
  },
  {
   "cell_type": "code",
   "execution_count": 30,
   "metadata": {},
   "outputs": [
    {
     "name": "stdout",
     "output_type": "stream",
     "text": [
      "                            OLS Regression Results                            \n",
      "==============================================================================\n",
      "Dep. Variable:                an_rate   R-squared:                         nan\n",
      "Model:                            OLS   Adj. R-squared:                    nan\n",
      "Method:                 Least Squares   F-statistic:                       nan\n",
      "Date:                Wed, 05 Jan 2022   Prob (F-statistic):                nan\n",
      "Time:                        16:57:31   Log-Likelihood:                    inf\n",
      "No. Observations:                 288   AIC:                              -inf\n",
      "Df Residuals:                     286   BIC:                              -inf\n",
      "Df Model:                           1                                         \n",
      "Covariance Type:            nonrobust                                         \n",
      "==============================================================================\n",
      "                 coef    std err          t      P>|t|      [0.025      0.975]\n",
      "------------------------------------------------------------------------------\n",
      "Intercept           0          0        nan        nan           0           0\n",
      "nrho                0          0        nan        nan           0           0\n",
      "==============================================================================\n",
      "Omnibus:                      946.789   Durbin-Watson:                     nan\n",
      "Prob(Omnibus):                  0.000   Jarque-Bera (JB):              108.000\n",
      "Skew:                           0.000   Prob(JB):                     3.53e-24\n",
      "Kurtosis:                       0.000   Cond. No.                         45.8\n",
      "==============================================================================\n",
      "\n",
      "Notes:\n",
      "[1] Standard Errors assume that the covariance matrix of the errors is correctly specified.\n"
     ]
    },
    {
     "name": "stderr",
     "output_type": "stream",
     "text": [
      "C:\\Users\\coren\\anaconda3\\envs\\cleanMsc\\lib\\site-packages\\statsmodels\\regression\\linear_model.py:1738: RuntimeWarning: invalid value encountered in double_scalars\n",
      "  return 1 - self.ssr/self.centered_tss\n",
      "C:\\Users\\coren\\anaconda3\\envs\\cleanMsc\\lib\\site-packages\\statsmodels\\regression\\linear_model.py:1827: RuntimeWarning: invalid value encountered in double_scalars\n",
      "  return self.mse_model/self.mse_resid\n",
      "C:\\Users\\coren\\anaconda3\\envs\\cleanMsc\\lib\\site-packages\\statsmodels\\regression\\linear_model.py:926: RuntimeWarning: divide by zero encountered in log\n",
      "  llf = -nobs2*np.log(2*np.pi) - nobs2*np.log(ssr / nobs) - nobs2\n",
      "C:\\Users\\coren\\anaconda3\\envs\\cleanMsc\\lib\\site-packages\\statsmodels\\stats\\stattools.py:50: RuntimeWarning: invalid value encountered in double_scalars\n",
      "  dw = np.sum(diff_resids**2, axis=axis) / np.sum(resids**2, axis=axis)\n"
     ]
    }
   ],
   "source": [
    "y, X = dmatrices('an_rate ~  nrho ', data=table_rhos, return_type='dataframe')\n",
    "mod = sm.OLS(y, X)\n",
    "res = mod.fit()\n",
    "print(res.summary())"
   ]
  },
  {
   "cell_type": "code",
   "execution_count": 34,
   "metadata": {},
   "outputs": [
    {
     "data": {
      "text/plain": [
       "2181.0699588477364"
      ]
     },
     "execution_count": 34,
     "metadata": {},
     "output_type": "execute_result"
    }
   ],
   "source": [
    "0.053/2.43e-5"
   ]
  },
  {
   "cell_type": "code",
   "execution_count": 87,
   "metadata": {},
   "outputs": [
    {
     "name": "stdout",
     "output_type": "stream",
     "text": [
      "                            OLS Regression Results                            \n",
      "==============================================================================\n",
      "Dep. Variable:                an_rate   R-squared:                       0.227\n",
      "Model:                            OLS   Adj. R-squared:                  0.226\n",
      "Method:                 Least Squares   F-statistic:                     463.5\n",
      "Date:                Thu, 30 Dec 2021   Prob (F-statistic):           2.24e-90\n",
      "Time:                        16:31:53   Log-Likelihood:                 8437.0\n",
      "No. Observations:                1584   AIC:                        -1.687e+04\n",
      "Df Residuals:                    1582   BIC:                        -1.686e+04\n",
      "Df Model:                           1                                         \n",
      "Covariance Type:            nonrobust                                         \n",
      "==============================================================================\n",
      "                 coef    std err          t      P>|t|      [0.025      0.975]\n",
      "------------------------------------------------------------------------------\n",
      "Intercept  -1.427e-05   3.25e-05     -0.439      0.661    -7.8e-05    4.95e-05\n",
      "n              0.0207      0.001     21.529      0.000       0.019       0.023\n",
      "==============================================================================\n",
      "Omnibus:                     1587.155   Durbin-Watson:                   1.869\n",
      "Prob(Omnibus):                  0.000   Jarque-Bera (JB):           103732.028\n",
      "Skew:                           4.713   Prob(JB):                         0.00\n",
      "Kurtosis:                      41.508   Cond. No.                         32.5\n",
      "==============================================================================\n",
      "\n",
      "Notes:\n",
      "[1] Standard Errors assume that the covariance matrix of the errors is correctly specified.\n"
     ]
    }
   ],
   "source": [
    "y, X = dmatrices('an_rate ~  n ', data=table_rhos, return_type='dataframe')\n",
    "mod = sm.OLS(y, X)\n",
    "res = mod.fit()\n",
    "print(res.summary())"
   ]
  },
  {
   "cell_type": "code",
   "execution_count": 92,
   "metadata": {},
   "outputs": [
    {
     "name": "stdout",
     "output_type": "stream",
     "text": [
      "                            OLS Regression Results                            \n",
      "==============================================================================\n",
      "Dep. Variable:                an_rate   R-squared:                       0.274\n",
      "Model:                            OLS   Adj. R-squared:                  0.273\n",
      "Method:                 Least Squares   F-statistic:                     298.5\n",
      "Date:                Thu, 30 Dec 2021   Prob (F-statistic):          1.06e-110\n",
      "Time:                        16:34:02   Log-Likelihood:                 8487.2\n",
      "No. Observations:                1584   AIC:                        -1.697e+04\n",
      "Df Residuals:                    1581   BIC:                        -1.695e+04\n",
      "Df Model:                           2                                         \n",
      "Covariance Type:            nonrobust                                         \n",
      "==============================================================================\n",
      "                 coef    std err          t      P>|t|      [0.025      0.975]\n",
      "------------------------------------------------------------------------------\n",
      "Intercept  -7.295e-05    3.2e-05     -2.277      0.023      -0.000   -1.01e-05\n",
      "n              0.0060      0.002      3.489      0.000       0.003       0.009\n",
      "nrho        1.891e-05   1.86e-06     10.170      0.000    1.53e-05    2.26e-05\n",
      "==============================================================================\n",
      "Omnibus:                     1531.202   Durbin-Watson:                   1.942\n",
      "Prob(Omnibus):                  0.000   Jarque-Bera (JB):           104673.758\n",
      "Skew:                           4.408   Prob(JB):                         0.00\n",
      "Kurtosis:                      41.836   Cond. No.                     1.90e+03\n",
      "==============================================================================\n",
      "\n",
      "Notes:\n",
      "[1] Standard Errors assume that the covariance matrix of the errors is correctly specified.\n",
      "[2] The condition number is large, 1.9e+03. This might indicate that there are\n",
      "strong multicollinearity or other numerical problems.\n"
     ]
    }
   ],
   "source": [
    "y, X = dmatrices('an_rate ~  n +  nrho', data=table_rhos, return_type='dataframe')\n",
    "mod = sm.OLS(y, X)\n",
    "res = mod.fit()\n",
    "print(res.summary())"
   ]
  },
  {
   "cell_type": "code",
   "execution_count": 8,
   "metadata": {},
   "outputs": [
    {
     "data": {
      "application/vnd.jupyter.widget-view+json": {
       "model_id": "147e8b7f68ff4427935516ea014257a5",
       "version_major": 2,
       "version_minor": 0
      },
      "text/plain": [
       "Canvas(toolbar=Toolbar(toolitems=[('Home', 'Reset original view', 'home', 'home'), ('Back', 'Back to previous …"
      ]
     },
     "metadata": {},
     "output_type": "display_data"
    },
    {
     "name": "stdout",
     "output_type": "stream",
     "text": [
      "Intercept, x-Slope : Intercept    2.474894\n",
      "x            1.006328\n",
      "dtype: float64\n"
     ]
    },
    {
     "data": {
      "text/plain": [
       "Text(0.5, 1.0, 'x vs y')"
      ]
     },
     "execution_count": 8,
     "metadata": {},
     "output_type": "execute_result"
    }
   ],
   "source": [
    "import numpy as np\n",
    "import matplotlib.pyplot as plt\n",
    "import pandas as pd\n",
    "import statsmodels.formula.api as sm# synthetic sample data\n",
    "fig, ax = plt.subplots()\n",
    "\n",
    "n_points = 1000\n",
    "x = np.linspace(0, 10, n_points)\n",
    "y = x + (np.random.rand(len(x)) * 5)\n",
    "data_df = pd.DataFrame({'x': x, 'y': y})\n",
    "ols_model = sm.ols(formula = 'y ~ x', data=data_df)\n",
    "results = ols_model.fit()# coefficients\n",
    "print('Intercept, x-Slope : {}'.format(results.params))\n",
    "y_pred = ols_model.fit().predict(data_df['x'])# plot results\n",
    "ax.scatter(x, y)\n",
    "ax.plot(x, y_pred, linewidth=2)\n",
    "ax.grid(True)\n",
    "ax.set_xlabel('x')\n",
    "ax.set_ylabel('y')\n",
    "ax.set_title('x vs y')"
   ]
  },
  {
   "cell_type": "code",
   "execution_count": 6,
   "metadata": {},
   "outputs": [
    {
     "data": {
      "application/vnd.jupyter.widget-view+json": {
       "model_id": "4c73b0471ce342efa839a81838181ba2",
       "version_major": 2,
       "version_minor": 0
      },
      "text/plain": [
       "Canvas(toolbar=Toolbar(toolitems=[('Home', 'Reset original view', 'home', 'home'), ('Back', 'Back to previous …"
      ]
     },
     "metadata": {},
     "output_type": "display_data"
    },
    {
     "data": {
      "text/plain": [
       "Text(0.5, 1.0, 'x vs y')"
      ]
     },
     "execution_count": 6,
     "metadata": {},
     "output_type": "execute_result"
    }
   ],
   "source": [
    "# resample with replacement each row\n",
    "boot_slopes = []\n",
    "boot_interc = []\n",
    "n_boots = 100\n",
    "fig, ax = plt.subplots()\n",
    "for _ in range(n_boots):\n",
    "    # sample the rows, same size, with replacement\n",
    "    sample_df = data_df.sample(n=n_points, replace=True)\n",
    "    # fit a linear regression\n",
    "    ols_model_temp = sm.ols(formula = \"y ~ x\", data=sample_df)\n",
    "    results_temp = ols_model_temp.fit()\n",
    "\n",
    "    # append coefficients\n",
    "    boot_interc.append(results_temp.params[0])\n",
    "    boot_slopes.append(results_temp.params[1])\n",
    "\n",
    "    # plot a greyed out line\n",
    "    y_pred_temp = ols_model_temp.fit().predict(sample_df[\"x\"])\n",
    "    ax.plot(sample_df[\"x\"], y_pred_temp, color=\"grey\", alpha=0.2)# add data points\n",
    "ax.scatter(x, y)\n",
    "ax.plot(x, y_pred, linewidth=2)\n",
    "ax.grid(True)\n",
    "ax.set_xlabel(\"x\")\n",
    "ax.set_ylabel(\"x\")\n",
    "ax.set_title(\"x vs y\")\n"
   ]
  },
  {
   "cell_type": "code",
   "execution_count": 17,
   "metadata": {},
   "outputs": [
    {
     "name": "stderr",
     "output_type": "stream",
     "text": [
      "C:\\Users\\coren\\anaconda3\\envs\\cleanMsc\\lib\\site-packages\\seaborn\\distributions.py:2619: FutureWarning: `distplot` is a deprecated function and will be removed in a future version. Please adapt your code to use either `displot` (a figure-level function with similar flexibility) or `histplot` (an axes-level function for histograms).\n",
      "  warnings.warn(msg, FutureWarning)\n"
     ]
    }
   ],
   "source": [
    "import seaborn as sns\n",
    "sns.distplot(boot_slopes)\n",
    "plt.show()"
   ]
  }
 ],
 "metadata": {
  "kernelspec": {
   "display_name": "Python 3",
   "language": "python",
   "name": "python3"
  },
  "language_info": {
   "codemirror_mode": {
    "name": "ipython",
    "version": 3
   },
   "file_extension": ".py",
   "mimetype": "text/x-python",
   "name": "python",
   "nbconvert_exporter": "python",
   "pygments_lexer": "ipython3",
   "version": "3.7.9"
  }
 },
 "nbformat": 4,
 "nbformat_minor": 4
}
