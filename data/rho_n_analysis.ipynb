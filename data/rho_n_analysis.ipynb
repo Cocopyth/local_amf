{
 "cells": [
  {
   "cell_type": "code",
   "execution_count": 1,
   "metadata": {},
   "outputs": [],
   "source": [
    "import numpy as np\n",
    "from patsy import dmatrices\n",
    "import pandas as pd\n",
    "import statsmodels.api as sm\n",
    "import matplotlib.pyplot as plt\n",
    "import numpy as np\n",
    "import matplotlib.pyplot as plt\n",
    "import pandas as pd\n",
    "import statsmodels.formula.api as sm# synthetic sample data\n",
    "import seaborn as sns\n",
    "\n",
    "%matplotlib widget"
   ]
  },
  {
   "cell_type": "code",
   "execution_count": 4,
   "metadata": {},
   "outputs": [],
   "source": [
    "path_save = r\"C:\\Users\\coren\\Dropbox\\Apps\\Snellius2\\data_tables\\time_plate_infos.pick\"\n",
    "\n",
    "time_plate_info = pd.read_pickle(path_save)\n"
   ]
  },
  {
   "cell_type": "code",
   "execution_count": null,
   "metadata": {},
   "outputs": [],
   "source": [
    "table.groupby()"
   ]
  },
  {
   "cell_type": "code",
   "execution_count": 5,
   "metadata": {},
   "outputs": [],
   "source": [
    "plates = [76,94,102,152,792,799,800,808,91,80]\n",
    "\n",
    "# table = time_plate_info.loc[time_plate_info['Plate']==792]\n",
    "table = time_plate_info.loc[time_plate_info['Plate'].isin(plates)]\n",
    "\n",
    "rhos = []\n",
    "ns = []\n",
    "ans_rate = []\n",
    "stop_rate = []\n",
    "branch_rate = []\n",
    "ts = []\n",
    "speeds = []\n",
    "bas_rho = []\n",
    "ROI = []\n",
    "for index in range(1,20):\n",
    "    column = f\"ring_density_incr-100_index-{index}\"\n",
    "    rhos+= list(table[column])\n",
    "    column = f\"ring_active_tips_density_incr-100_index-{index}\"\n",
    "    ns+= list(table[column])\n",
    "    column = f\"ring_anas_density_incr-100_index-{index}\"\n",
    "    ans_rate+= list(table[column])\n",
    "    column = f\"ring_branch_density_incr-100_index-{index}\"\n",
    "    branch_rate+= list(table[column])\n",
    "    column = f\"ring_stop_density_incr-100_index-{index}\"\n",
    "    stop_rate+= list(table[column])\n",
    "    column = f\"t\"\n",
    "    ts+= list(table[column])\n",
    "    column = f\"mean_speed_incr-100_index-{index}\"\n",
    "    speeds+= list(table[column])\n",
    "    column = f\"ring_bas_density_incr-100_index-{index}\"\n",
    "    bas_rho+= list(table[column])\n",
    "    column = f\"out_study\"\n",
    "    ROI+= list(table[column])"
   ]
  },
  {
   "cell_type": "code",
   "execution_count": 15,
   "metadata": {},
   "outputs": [],
   "source": [
    "data = np.array((rhos,ns,ans_rate,stop_rate,branch_rate,ts,speeds,bas_rho,ROI)).transpose()\n",
    "table_rhos = pd.DataFrame(data,columns=(\"rho\",\"n\",\"an_rate\",\"stop\",'branch','ts','mean_speed','bas_rho','in_ROI'))\n",
    "table_rhos['nrho'] = table_rhos['n']*table_rhos['rho']\n",
    "table_rhos = table_rhos.dropna()\n",
    "table_rhos['n2'] = table_rhos['n']**2\n",
    "table_rhos['rho2'] = table_rhos['rho']**2\n",
    "table_rhos = table_rhos.astype(float)\n",
    "table_rhos = table_rhos.loc[(table_rhos['n']!=0)]\n",
    "table_rhos = table_rhos.loc[(table_rhos['mean_speed']<=400)]\n",
    "\n",
    "table_rhos['bin_n'] = (table_rhos['n']*100).astype(int)/100\n",
    "table_rhos['bin_nrho'] = (table_rhos['nrho']/5).astype(int)*5"
   ]
  },
  {
   "cell_type": "code",
   "execution_count": 23,
   "metadata": {},
   "outputs": [
    {
     "ename": "KeyError",
     "evalue": "\"['mean_speed', 'bas_rho'] not in index\"",
     "output_type": "error",
     "traceback": [
      "\u001b[1;31m---------------------------------------------------------------------------\u001b[0m",
      "\u001b[1;31mKeyError\u001b[0m                                  Traceback (most recent call last)",
      "\u001b[1;32m<ipython-input-23-de19a4ed58ee>\u001b[0m in \u001b[0;36m<module>\u001b[1;34m\u001b[0m\n\u001b[0;32m      1\u001b[0m \u001b[0mcolumns\u001b[0m \u001b[1;33m=\u001b[0m \u001b[1;33m[\u001b[0m\u001b[1;34m\"rho\"\u001b[0m\u001b[1;33m,\u001b[0m\u001b[1;34m\"n\"\u001b[0m\u001b[1;33m,\u001b[0m\u001b[1;34m\"an_rate\"\u001b[0m\u001b[1;33m,\u001b[0m\u001b[1;34m\"stop\"\u001b[0m\u001b[1;33m,\u001b[0m\u001b[1;34m'branch'\u001b[0m\u001b[1;33m,\u001b[0m\u001b[1;34m'mean_speed'\u001b[0m\u001b[1;33m,\u001b[0m\u001b[1;34m'bas_rho'\u001b[0m\u001b[1;33m,\u001b[0m\u001b[1;34m'nrho'\u001b[0m\u001b[1;33m]\u001b[0m\u001b[1;33m\u001b[0m\u001b[1;33m\u001b[0m\u001b[0m\n\u001b[1;32m----> 2\u001b[1;33m \u001b[0mcorr\u001b[0m \u001b[1;33m=\u001b[0m \u001b[0mtable_rhos\u001b[0m\u001b[1;33m[\u001b[0m\u001b[0mcolumns\u001b[0m\u001b[1;33m]\u001b[0m\u001b[1;33m.\u001b[0m\u001b[0mcorr\u001b[0m\u001b[1;33m(\u001b[0m\u001b[1;33m)\u001b[0m\u001b[1;33m\u001b[0m\u001b[1;33m\u001b[0m\u001b[0m\n\u001b[0m\u001b[0;32m      3\u001b[0m \u001b[0mcorr\u001b[0m\u001b[1;33m.\u001b[0m\u001b[0mstyle\u001b[0m\u001b[1;33m.\u001b[0m\u001b[0mbackground_gradient\u001b[0m\u001b[1;33m(\u001b[0m\u001b[0mcmap\u001b[0m\u001b[1;33m=\u001b[0m\u001b[1;34m'coolwarm'\u001b[0m\u001b[1;33m)\u001b[0m\u001b[1;33m\u001b[0m\u001b[1;33m\u001b[0m\u001b[0m\n",
      "\u001b[1;32m~\\anaconda3\\envs\\cleanMsc\\lib\\site-packages\\pandas\\core\\frame.py\u001b[0m in \u001b[0;36m__getitem__\u001b[1;34m(self, key)\u001b[0m\n\u001b[0;32m   3028\u001b[0m             \u001b[1;32mif\u001b[0m \u001b[0mis_iterator\u001b[0m\u001b[1;33m(\u001b[0m\u001b[0mkey\u001b[0m\u001b[1;33m)\u001b[0m\u001b[1;33m:\u001b[0m\u001b[1;33m\u001b[0m\u001b[1;33m\u001b[0m\u001b[0m\n\u001b[0;32m   3029\u001b[0m                 \u001b[0mkey\u001b[0m \u001b[1;33m=\u001b[0m \u001b[0mlist\u001b[0m\u001b[1;33m(\u001b[0m\u001b[0mkey\u001b[0m\u001b[1;33m)\u001b[0m\u001b[1;33m\u001b[0m\u001b[1;33m\u001b[0m\u001b[0m\n\u001b[1;32m-> 3030\u001b[1;33m             \u001b[0mindexer\u001b[0m \u001b[1;33m=\u001b[0m \u001b[0mself\u001b[0m\u001b[1;33m.\u001b[0m\u001b[0mloc\u001b[0m\u001b[1;33m.\u001b[0m\u001b[0m_get_listlike_indexer\u001b[0m\u001b[1;33m(\u001b[0m\u001b[0mkey\u001b[0m\u001b[1;33m,\u001b[0m \u001b[0maxis\u001b[0m\u001b[1;33m=\u001b[0m\u001b[1;36m1\u001b[0m\u001b[1;33m,\u001b[0m \u001b[0mraise_missing\u001b[0m\u001b[1;33m=\u001b[0m\u001b[1;32mTrue\u001b[0m\u001b[1;33m)\u001b[0m\u001b[1;33m[\u001b[0m\u001b[1;36m1\u001b[0m\u001b[1;33m]\u001b[0m\u001b[1;33m\u001b[0m\u001b[1;33m\u001b[0m\u001b[0m\n\u001b[0m\u001b[0;32m   3031\u001b[0m \u001b[1;33m\u001b[0m\u001b[0m\n\u001b[0;32m   3032\u001b[0m         \u001b[1;31m# take() does not accept boolean indexers\u001b[0m\u001b[1;33m\u001b[0m\u001b[1;33m\u001b[0m\u001b[1;33m\u001b[0m\u001b[0m\n",
      "\u001b[1;32m~\\anaconda3\\envs\\cleanMsc\\lib\\site-packages\\pandas\\core\\indexing.py\u001b[0m in \u001b[0;36m_get_listlike_indexer\u001b[1;34m(self, key, axis, raise_missing)\u001b[0m\n\u001b[0;32m   1264\u001b[0m             \u001b[0mkeyarr\u001b[0m\u001b[1;33m,\u001b[0m \u001b[0mindexer\u001b[0m\u001b[1;33m,\u001b[0m \u001b[0mnew_indexer\u001b[0m \u001b[1;33m=\u001b[0m \u001b[0max\u001b[0m\u001b[1;33m.\u001b[0m\u001b[0m_reindex_non_unique\u001b[0m\u001b[1;33m(\u001b[0m\u001b[0mkeyarr\u001b[0m\u001b[1;33m)\u001b[0m\u001b[1;33m\u001b[0m\u001b[1;33m\u001b[0m\u001b[0m\n\u001b[0;32m   1265\u001b[0m \u001b[1;33m\u001b[0m\u001b[0m\n\u001b[1;32m-> 1266\u001b[1;33m         \u001b[0mself\u001b[0m\u001b[1;33m.\u001b[0m\u001b[0m_validate_read_indexer\u001b[0m\u001b[1;33m(\u001b[0m\u001b[0mkeyarr\u001b[0m\u001b[1;33m,\u001b[0m \u001b[0mindexer\u001b[0m\u001b[1;33m,\u001b[0m \u001b[0maxis\u001b[0m\u001b[1;33m,\u001b[0m \u001b[0mraise_missing\u001b[0m\u001b[1;33m=\u001b[0m\u001b[0mraise_missing\u001b[0m\u001b[1;33m)\u001b[0m\u001b[1;33m\u001b[0m\u001b[1;33m\u001b[0m\u001b[0m\n\u001b[0m\u001b[0;32m   1267\u001b[0m         \u001b[1;32mreturn\u001b[0m \u001b[0mkeyarr\u001b[0m\u001b[1;33m,\u001b[0m \u001b[0mindexer\u001b[0m\u001b[1;33m\u001b[0m\u001b[1;33m\u001b[0m\u001b[0m\n\u001b[0;32m   1268\u001b[0m \u001b[1;33m\u001b[0m\u001b[0m\n",
      "\u001b[1;32m~\\anaconda3\\envs\\cleanMsc\\lib\\site-packages\\pandas\\core\\indexing.py\u001b[0m in \u001b[0;36m_validate_read_indexer\u001b[1;34m(self, key, indexer, axis, raise_missing)\u001b[0m\n\u001b[0;32m   1314\u001b[0m             \u001b[1;32mif\u001b[0m \u001b[0mraise_missing\u001b[0m\u001b[1;33m:\u001b[0m\u001b[1;33m\u001b[0m\u001b[1;33m\u001b[0m\u001b[0m\n\u001b[0;32m   1315\u001b[0m                 \u001b[0mnot_found\u001b[0m \u001b[1;33m=\u001b[0m \u001b[0mlist\u001b[0m\u001b[1;33m(\u001b[0m\u001b[0mset\u001b[0m\u001b[1;33m(\u001b[0m\u001b[0mkey\u001b[0m\u001b[1;33m)\u001b[0m \u001b[1;33m-\u001b[0m \u001b[0mset\u001b[0m\u001b[1;33m(\u001b[0m\u001b[0max\u001b[0m\u001b[1;33m)\u001b[0m\u001b[1;33m)\u001b[0m\u001b[1;33m\u001b[0m\u001b[1;33m\u001b[0m\u001b[0m\n\u001b[1;32m-> 1316\u001b[1;33m                 \u001b[1;32mraise\u001b[0m \u001b[0mKeyError\u001b[0m\u001b[1;33m(\u001b[0m\u001b[1;34mf\"{not_found} not in index\"\u001b[0m\u001b[1;33m)\u001b[0m\u001b[1;33m\u001b[0m\u001b[1;33m\u001b[0m\u001b[0m\n\u001b[0m\u001b[0;32m   1317\u001b[0m \u001b[1;33m\u001b[0m\u001b[0m\n\u001b[0;32m   1318\u001b[0m             \u001b[0mnot_found\u001b[0m \u001b[1;33m=\u001b[0m \u001b[0mkey\u001b[0m\u001b[1;33m[\u001b[0m\u001b[0mmissing_mask\u001b[0m\u001b[1;33m]\u001b[0m\u001b[1;33m\u001b[0m\u001b[1;33m\u001b[0m\u001b[0m\n",
      "\u001b[1;31mKeyError\u001b[0m: \"['mean_speed', 'bas_rho'] not in index\""
     ]
    }
   ],
   "source": [
    "columns = [\"rho\",\"n\",\"an_rate\",\"stop\",'branch','mean_speed','bas_rho','nrho']\n",
    "corr = table_rhos[columns].corr()\n",
    "corr.style.background_gradient(cmap='coolwarm')"
   ]
  },
  {
   "cell_type": "code",
   "execution_count": 6,
   "metadata": {},
   "outputs": [
    {
     "data": {
      "application/vnd.jupyter.widget-view+json": {
       "model_id": "d7cc79682d2946179135df7d3eeffa33",
       "version_major": 2,
       "version_minor": 0
      },
      "text/plain": [
       "Canvas(toolbar=Toolbar(toolitems=[('Home', 'Reset original view', 'home', 'home'), ('Back', 'Back to previous …"
      ]
     },
     "metadata": {},
     "output_type": "display_data"
    }
   ],
   "source": [
    "fig, ax = plt.subplots()\n",
    "dataplot = sns.heatmap(corr, cmap=\"YlGnBu\", annot=True)"
   ]
  },
  {
   "cell_type": "code",
   "execution_count": 37,
   "metadata": {},
   "outputs": [
    {
     "data": {
      "application/vnd.jupyter.widget-view+json": {
       "model_id": "d84ffd4e8baa444499cc01a7bd3804e1",
       "version_major": 2,
       "version_minor": 0
      },
      "text/plain": [
       "Canvas(toolbar=Toolbar(toolitems=[('Home', 'Reset original view', 'home', 'home'), ('Back', 'Back to previous …"
      ]
     },
     "metadata": {},
     "output_type": "display_data"
    },
    {
     "name": "stderr",
     "output_type": "stream",
     "text": [
      "No handles with labels found to put in legend.\n"
     ]
    },
    {
     "data": {
      "text/plain": [
       "<matplotlib.legend.Legend at 0x23ab81ca788>"
      ]
     },
     "execution_count": 37,
     "metadata": {},
     "output_type": "execute_result"
    }
   ],
   "source": [
    "fig, ax = plt.subplots()\n",
    "table_rhos.plot('n','mean_speed',kind =\"scatter\",ax = ax,alpha = 0.3)\n",
    "fit = 0.03\n",
    "# ax.plot(table_rhos['n'],fit*table_rhos['n'],label = f'beta = {fit*24} day-1',color=\"red\")\n",
    "ax.set_ylabel('branching rate ($h^{-1}$)')\n",
    "plt.legend()"
   ]
  },
  {
   "cell_type": "code",
   "execution_count": 16,
   "metadata": {},
   "outputs": [
    {
     "name": "stdout",
     "output_type": "stream",
     "text": [
      "Intercept, x-Slope : Intercept   -0.000637\n",
      "n            0.044220\n",
      "dtype: float64\n"
     ]
    },
    {
     "data": {
      "application/vnd.jupyter.widget-view+json": {
       "model_id": "76306ea1f35e4ac3a483509aa245ed32",
       "version_major": 2,
       "version_minor": 0
      },
      "text/plain": [
       "Canvas(toolbar=Toolbar(toolitems=[('Home', 'Reset original view', 'home', 'home'), ('Back', 'Back to previous …"
      ]
     },
     "metadata": {},
     "output_type": "display_data"
    },
    {
     "data": {
      "text/plain": [
       "Text(0.5, 0, 'density of tips ($mm^{-2}$)')"
      ]
     },
     "execution_count": 16,
     "metadata": {},
     "output_type": "execute_result"
    }
   ],
   "source": [
    "alphas = []\n",
    "boot_interc = []\n",
    "n_boots = 300\n",
    "n_points = len(table_rhos)\n",
    "x = 'n'\n",
    "y = \"branch\"\n",
    "ols_model = sm.ols(formula = f\"{y} ~ {x}\", data=table_rhos)\n",
    "results = ols_model.fit()# coefficients\n",
    "print('Intercept, x-Slope : {}'.format(results.params))\n",
    "y_pred = ols_model.fit().predict(table_rhos[x].astype(float))# plot results\n",
    "fig, ax = plt.subplots()\n",
    "for _ in range(n_boots):\n",
    "    # sample the rows, same size, with replacement\n",
    "    sample_df = table_rhos.sample(n=n_points, replace=True)\n",
    "    # fit a linear regression\n",
    "    ols_model_temp = sm.ols(formula = f\"{y} ~ {x}\", data=sample_df)\n",
    "    results_temp = ols_model_temp.fit()\n",
    "\n",
    "    # append coefficients\n",
    "    boot_interc.append(results_temp.params[0])\n",
    "    alphas.append(results_temp.params[1])\n",
    "\n",
    "    # plot a greyed out line\n",
    "    y_pred_temp = ols_model_temp.fit().predict(sample_df[x].astype(float))\n",
    "    ax.plot(sample_df[x], y_pred_temp, color=\"grey\", alpha=0.1)# add data points\n",
    "ax.scatter(table_rhos[x], table_rhos[y])\n",
    "# ax.plot(table_rhos[x], y_pred, linewidth=2)\n",
    "data = table_rhos.groupby(f'bin_{x}')[y]\n",
    "ax.errorbar(data.mean().index,data.mean(),color = \"red\",yerr=data.std()/np.sqrt(data.count()))\n",
    "ax.grid(True)\n",
    "ax.set_ylabel(\"density of new tips ($h^{-1}.mm^{-2}$)\")\n",
    "ax.set_xlabel(\"density of tips ($mm^{-2}$)\")\n",
    "# ax.set_xlim((0,0.125))\n"
   ]
  },
  {
   "cell_type": "code",
   "execution_count": 17,
   "metadata": {},
   "outputs": [
    {
     "data": {
      "application/vnd.jupyter.widget-view+json": {
       "model_id": "66024dfdae16489ea7a6f01d134a5e27",
       "version_major": 2,
       "version_minor": 0
      },
      "text/plain": [
       "Canvas(toolbar=Toolbar(toolitems=[('Home', 'Reset original view', 'home', 'home'), ('Back', 'Back to previous …"
      ]
     },
     "metadata": {},
     "output_type": "display_data"
    },
    {
     "data": {
      "text/plain": [
       "<matplotlib.legend.Legend at 0x192ca24b648>"
      ]
     },
     "execution_count": 17,
     "metadata": {},
     "output_type": "execute_result"
    }
   ],
   "source": [
    "fig, ax = plt.subplots()\n",
    "\n",
    "plates = [76,94,102,152,792,799,800,808,91,80]\n",
    "# plates = [76,94,102,152,792]\n",
    "\n",
    "for plate in plates:\n",
    "    table = time_plate_info.loc[time_plate_info['Plate']==plate]\n",
    "    rhos = []\n",
    "    ns = []\n",
    "    ans_rate = []\n",
    "    stop_rate = []\n",
    "    branch_rate = []\n",
    "    ts = []\n",
    "    for index in range(1,20):\n",
    "        column = f\"ring_density_incr-100_index-{index}\"\n",
    "        rhos+= list(table[column])\n",
    "        column = f\"ring_active_tips_density_incr-100_index-{index}\"\n",
    "        ns+= list(table[column])\n",
    "        column = f\"ring_anas_density_incr-100_index-{index}\"\n",
    "        ans_rate+= list(table[column])\n",
    "        column = f\"ring_branch_density_incr-100_index-{index}\"\n",
    "        branch_rate+= list(table[column])\n",
    "        column = f\"ring_stop_density_incr-100_index-{index}\"\n",
    "        stop_rate+= list(table[column])\n",
    "        column = f\"t\"\n",
    "        ts+= list(table[column])\n",
    "    data = np.array((rhos,ns,ans_rate,stop_rate,branch_rate,ts)).transpose()\n",
    "    table_rhos = pd.DataFrame(data,columns=(\"rho\",\"n\",\"an_rate\",\"stop\",'branch','ts'))\n",
    "    table_rhos['nrho'] = table_rhos['n']*table_rhos['rho']\n",
    "    table_rhos = table_rhos.dropna()\n",
    "    table_rhos['n2'] = table_rhos['n']**2\n",
    "    table_rhos['rho2'] = table_rhos['rho']**2\n",
    "    table_rhos = table_rhos.astype(float)\n",
    "    table_rhos = table_rhos.loc[(table_rhos['n']!=0)]\n",
    "    table_rhos['bin_n'] = (table_rhos['n']*100).astype(int)/100\n",
    "    table_rhos['bin_nrho'] = (table_rhos['nrho']/5).astype(int)*5\n",
    "    data = table_rhos.groupby('bin_n')['branch'].mean()\n",
    "    ax.errorbar(data.index,data,yerr=table_rhos.groupby('bin_n')['branch'].std()/np.sqrt(table_rhos.groupby('bin_n')['branch'].count()),label = plate)\n",
    "ax.set_ylabel(\"density of new tips ($h^{-1}.mm^{-2}$)\")\n",
    "ax.set_xlabel(\"density of tips ($mm^{-2}$)\")\n",
    "plt.legend()"
   ]
  },
  {
   "cell_type": "code",
   "execution_count": 18,
   "metadata": {},
   "outputs": [
    {
     "data": {
      "application/vnd.jupyter.widget-view+json": {
       "model_id": "d0bdbf95c81549849ba6f4ed5187917f",
       "version_major": 2,
       "version_minor": 0
      },
      "text/plain": [
       "Canvas(toolbar=Toolbar(toolitems=[('Home', 'Reset original view', 'home', 'home'), ('Back', 'Back to previous …"
      ]
     },
     "metadata": {},
     "output_type": "display_data"
    },
    {
     "name": "stderr",
     "output_type": "stream",
     "text": [
      "No handles with labels found to put in legend.\n"
     ]
    },
    {
     "data": {
      "text/plain": [
       "<matplotlib.legend.Legend at 0x192c9e85b48>"
      ]
     },
     "execution_count": 18,
     "metadata": {},
     "output_type": "execute_result"
    }
   ],
   "source": [
    "fig, ax = plt.subplots()\n",
    "\n",
    "table = time_plate_info.loc[time_plate_info['Plate'].isin(plates)]\n",
    "rhos = []\n",
    "ns = []\n",
    "ans_rate = []\n",
    "stop_rate = []\n",
    "branch_rate = []\n",
    "ts = []\n",
    "for index in range(1,20):\n",
    "    column = f\"ring_density_incr-100_index-{index}\"\n",
    "    rhos+= list(table[column])\n",
    "    column = f\"ring_active_tips_density_incr-100_index-{index}\"\n",
    "    ns+= list(table[column])\n",
    "    column = f\"ring_anas_density_incr-100_index-{index}\"\n",
    "    ans_rate+= list(table[column])\n",
    "    column = f\"ring_branch_density_incr-100_index-{index}\"\n",
    "    branch_rate+= list(table[column])\n",
    "    column = f\"ring_stop_density_incr-100_index-{index}\"\n",
    "    stop_rate+= list(table[column])\n",
    "    column = f\"t\"\n",
    "    ts+= list(table[column])\n",
    "data = np.array((rhos,ns,ans_rate,stop_rate,branch_rate,ts)).transpose()\n",
    "table_rhos = pd.DataFrame(data,columns=(\"rho\",\"n\",\"an_rate\",\"stop\",'branch','ts'))\n",
    "table_rhos['nrho'] = table_rhos['n']*table_rhos['rho']\n",
    "table_rhos = table_rhos.dropna()\n",
    "table_rhos['n2'] = table_rhos['n']**2\n",
    "table_rhos['rho2'] = table_rhos['rho']**2\n",
    "table_rhos = table_rhos.astype(float)\n",
    "table_rhos = table_rhos.loc[(table_rhos['n']!=0)]\n",
    "table_rhos['bin_n'] = (table_rhos['n']*100).astype(int)/100\n",
    "table_rhos['bin_nrho'] = (table_rhos['nrho']/5).astype(int)*5\n",
    "data = table_rhos.groupby('bin_n')['branch'].mean()\n",
    "ax.errorbar(data.index,data,yerr=table_rhos.groupby('bin_n')['branch'].std()/np.sqrt(table_rhos.groupby('bin_n')['branch'].count()))\n",
    "ax.set_ylabel(\"density of new tips ($h^{-1}.mm^{-2}$)\")\n",
    "ax.set_xlabel(\"density of tips ($mm^{-2}$)\")\n",
    "plt.legend()"
   ]
  },
  {
   "cell_type": "code",
   "execution_count": 19,
   "metadata": {},
   "outputs": [
    {
     "data": {
      "application/vnd.jupyter.widget-view+json": {
       "model_id": "90707c6a906741c28b1dcae0ade4f78c",
       "version_major": 2,
       "version_minor": 0
      },
      "text/plain": [
       "Canvas(toolbar=Toolbar(toolitems=[('Home', 'Reset original view', 'home', 'home'), ('Back', 'Back to previous …"
      ]
     },
     "metadata": {},
     "output_type": "display_data"
    },
    {
     "name": "stderr",
     "output_type": "stream",
     "text": [
      "C:\\Users\\coren\\anaconda3\\envs\\cleanMsc\\lib\\site-packages\\seaborn\\distributions.py:2619: FutureWarning: `distplot` is a deprecated function and will be removed in a future version. Please adapt your code to use either `displot` (a figure-level function with similar flexibility) or `histplot` (an axes-level function for histograms).\n",
      "  warnings.warn(msg, FutureWarning)\n"
     ]
    },
    {
     "data": {
      "text/plain": [
       "<matplotlib.collections.LineCollection at 0x192cc2a8548>"
      ]
     },
     "execution_count": 19,
     "metadata": {},
     "output_type": "execute_result"
    }
   ],
   "source": [
    "import seaborn as sns\n",
    "fig, ax = plt.subplots()\n",
    "\n",
    "sns.distplot(np.array(alphas)*24,ax = ax,axlabel = r\"estimated $\\alpha$ ($day^{-1}$)\")\n",
    "ax.vlines(1.3,0,8,color='red')"
   ]
  },
  {
   "cell_type": "code",
   "execution_count": 13,
   "metadata": {},
   "outputs": [
    {
     "data": {
      "text/plain": [
       "132.0"
      ]
     },
     "execution_count": 13,
     "metadata": {},
     "output_type": "execute_result"
    }
   ],
   "source": [
    "5.5*24"
   ]
  },
  {
   "cell_type": "code",
   "execution_count": 15,
   "metadata": {},
   "outputs": [
    {
     "data": {
      "text/plain": [
       "0.05380457878922196"
      ]
     },
     "execution_count": 15,
     "metadata": {},
     "output_type": "execute_result"
    }
   ],
   "source": [
    "np.std(alphas)*24"
   ]
  },
  {
   "cell_type": "code",
   "execution_count": 20,
   "metadata": {},
   "outputs": [
    {
     "name": "stdout",
     "output_type": "stream",
     "text": [
      "Intercept, x-Slope : Intercept   -0.000039\n",
      "nrho         0.000016\n",
      "dtype: float64\n"
     ]
    },
    {
     "data": {
      "application/vnd.jupyter.widget-view+json": {
       "model_id": "8308e926110a48d599fde0b8ed7fe7db",
       "version_major": 2,
       "version_minor": 0
      },
      "text/plain": [
       "Canvas(toolbar=Toolbar(toolitems=[('Home', 'Reset original view', 'home', 'home'), ('Back', 'Back to previous …"
      ]
     },
     "metadata": {},
     "output_type": "display_data"
    },
    {
     "data": {
      "text/plain": [
       "(0.0, 200.0)"
      ]
     },
     "execution_count": 20,
     "metadata": {},
     "output_type": "execute_result"
    }
   ],
   "source": [
    "betas = []\n",
    "boot_interc = []\n",
    "n_boots = 300\n",
    "n_points = len(table_rhos)\n",
    "x = 'nrho'\n",
    "y = \"an_rate\"\n",
    "ols_model = sm.ols(formula = f\"{y} ~ {x}\", data=table_rhos)\n",
    "results = ols_model.fit()# coefficients\n",
    "print('Intercept, x-Slope : {}'.format(results.params))\n",
    "y_pred = ols_model.fit().predict(table_rhos[x].astype(float))# plot results\n",
    "fig, ax = plt.subplots()\n",
    "for _ in range(n_boots):\n",
    "    # sample the rows, same size, with replacement\n",
    "    sample_df = table_rhos.sample(n=n_points, replace=True)\n",
    "    # fit a linear regression\n",
    "    ols_model_temp = sm.ols(formula = f\"{y} ~ {x}\", data=sample_df)\n",
    "    results_temp = ols_model_temp.fit()\n",
    "\n",
    "    # append coefficients\n",
    "    boot_interc.append(results_temp.params[0])\n",
    "    betas.append(results_temp.params[1])\n",
    "\n",
    "    # plot a greyed out line\n",
    "    y_pred_temp = ols_model_temp.fit().predict(sample_df[x].astype(float))\n",
    "    ax.plot(sample_df[x], y_pred_temp, color=\"grey\", alpha=0.1)# add data points\n",
    "ax.scatter(table_rhos[x], table_rhos[y])\n",
    "data = table_rhos.groupby('bin_nrho')['an_rate']\n",
    "\n",
    "ax.errorbar(data.mean().index,data.mean(),color = \"red\",yerr=data.std()/np.sqrt(data.count()))\n",
    "\n",
    "# ax.plot(table_rhos[x], y_pred, linewidth=2)\n",
    "ax.grid(True)\n",
    "ax.set_xlabel(r\"$n \\rho$ ($\\mu m.mm^{-4}$)\")\n",
    "\n",
    "ax.set_ylabel(\"density of anastomosis events ($h^{-1}.mm^{-2}$)\")\n",
    "ax.set_ylim((0,0.008))\n",
    "ax.set_xlim((0,200))"
   ]
  },
  {
   "cell_type": "code",
   "execution_count": 21,
   "metadata": {},
   "outputs": [
    {
     "data": {
      "application/vnd.jupyter.widget-view+json": {
       "model_id": "1c31b15af1484bc5a91ace7404942aba",
       "version_major": 2,
       "version_minor": 0
      },
      "text/plain": [
       "Canvas(toolbar=Toolbar(toolitems=[('Home', 'Reset original view', 'home', 'home'), ('Back', 'Back to previous …"
      ]
     },
     "metadata": {},
     "output_type": "display_data"
    },
    {
     "name": "stderr",
     "output_type": "stream",
     "text": [
      "C:\\Users\\coren\\anaconda3\\envs\\cleanMsc\\lib\\site-packages\\seaborn\\distributions.py:2619: FutureWarning: `distplot` is a deprecated function and will be removed in a future version. Please adapt your code to use either `displot` (a figure-level function with similar flexibility) or `histplot` (an axes-level function for histograms).\n",
      "  warnings.warn(msg, FutureWarning)\n"
     ]
    },
    {
     "data": {
      "text/plain": [
       "<matplotlib.collections.LineCollection at 0x192d96226c8>"
      ]
     },
     "execution_count": 21,
     "metadata": {},
     "output_type": "execute_result"
    }
   ],
   "source": [
    "fig, ax = plt.subplots()\n",
    "\n",
    "sns.distplot(np.array(betas),ax = ax,axlabel = r\"estimated beta ($mm^{2}.\\mu m^{-1}.day^{-1}$)\")\n",
    "ax.vlines(2.1e-5,0,250000,color='red')"
   ]
  },
  {
   "cell_type": "code",
   "execution_count": 21,
   "metadata": {},
   "outputs": [
    {
     "data": {
      "text/plain": [
       "1.5946048523106214e-05"
      ]
     },
     "execution_count": 21,
     "metadata": {},
     "output_type": "execute_result"
    }
   ],
   "source": [
    "np.mean(betas)"
   ]
  },
  {
   "cell_type": "code",
   "execution_count": 62,
   "metadata": {},
   "outputs": [
    {
     "name": "stdout",
     "output_type": "stream",
     "text": [
      "Intercept, x-Slope : Intercept     13.67232\n",
      "n            514.18659\n",
      "dtype: float64\n"
     ]
    },
    {
     "data": {
      "application/vnd.jupyter.widget-view+json": {
       "model_id": "8575c19e1d494707a5c0a66c0de3ddd6",
       "version_major": 2,
       "version_minor": 0
      },
      "text/plain": [
       "Canvas(toolbar=Toolbar(toolitems=[('Home', 'Reset original view', 'home', 'home'), ('Back', 'Back to previous …"
      ]
     },
     "metadata": {},
     "output_type": "display_data"
    },
    {
     "data": {
      "text/plain": [
       "Text(0, 0.5, 'density of stopping events ($h^{-1}.mm^{-2}$)')"
      ]
     },
     "execution_count": 62,
     "metadata": {},
     "output_type": "execute_result"
    }
   ],
   "source": [
    "plt.close(\"all\")\n",
    "betas2 = []\n",
    "boot_interc = []\n",
    "n_boots = 300\n",
    "n_points = len(table_rhos)\n",
    "x = 'n'\n",
    "y = \"an_rate\"\n",
    "ols_model = sm.ols(formula = f\"{y} ~ {x}\", data=table_rhos)\n",
    "results = ols_model.fit()# coefficients\n",
    "print('Intercept, x-Slope : {}'.format(results.params))\n",
    "y_pred = ols_model.fit().predict(table_rhos[x].astype(float))# plot results\n",
    "fig, ax = plt.subplots()\n",
    "for _ in range(n_boots):\n",
    "    # sample the rows, same size, with replacement\n",
    "    sample_df = table_rhos.sample(n=n_points, replace=True)\n",
    "    # fit a linear regression\n",
    "    ols_model_temp = sm.ols(formula = f\"{y} ~ {x}\", data=sample_df)\n",
    "    results_temp = ols_model_temp.fit()\n",
    "\n",
    "    # append coefficients\n",
    "    boot_interc.append(results_temp.params[0])\n",
    "    betas2.append(results_temp.params[1])\n",
    "\n",
    "    # plot a greyed out line\n",
    "    y_pred_temp = ols_model_temp.fit().predict(sample_df[x].astype(float))\n",
    "    ax.plot(sample_df[x], y_pred_temp, color=\"grey\", alpha=0.1)# add data points\n",
    "ax.scatter(table_rhos[x], table_rhos[y])\n",
    "# ax.plot(table_rhos[x], y_pred, linewidth=2)\n",
    "data = table_rhos.groupby(f'bin_{x}')[y]\n",
    "ax.errorbar(data.mean().index,data.mean(),color = \"red\",yerr=data.std()/np.sqrt(data.count()))\n",
    "ax.grid(True)\n",
    "ax.set_xlabel(r\"$n $ ($\\mu m.mm^{-4}$)\")\n",
    "ax.set_ylabel(\"density of stopping events ($h^{-1}.mm^{-2}$)\")\n",
    "ax.set_ylim((0,0.006))\n"
   ]
  },
  {
   "cell_type": "code",
   "execution_count": 22,
   "metadata": {},
   "outputs": [
    {
     "data": {
      "text/plain": [
       "5527.945856303682"
      ]
     },
     "execution_count": 22,
     "metadata": {},
     "output_type": "execute_result"
    }
   ],
   "source": [
    "2*np.mean(alphas)/(np.mean(betas))"
   ]
  },
  {
   "cell_type": "code",
   "execution_count": 63,
   "metadata": {},
   "outputs": [
    {
     "name": "stdout",
     "output_type": "stream",
     "text": [
      "Intercept, x-Slope : Intercept    0.000204\n",
      "n            0.007654\n",
      "dtype: float64\n"
     ]
    },
    {
     "data": {
      "application/vnd.jupyter.widget-view+json": {
       "model_id": "097bde547e0e42bcb679245e2cb50366",
       "version_major": 2,
       "version_minor": 0
      },
      "text/plain": [
       "Canvas(toolbar=Toolbar(toolitems=[('Home', 'Reset original view', 'home', 'home'), ('Back', 'Back to previous …"
      ]
     },
     "metadata": {},
     "output_type": "display_data"
    },
    {
     "name": "stdout",
     "output_type": "stream",
     "text": [
      "Intercept, x-Slope : Intercept   -0.000039\n",
      "nrho         0.000016\n",
      "dtype: float64\n"
     ]
    },
    {
     "data": {
      "text/plain": [
       "Text(0.5, 0, '$n \\\\rho$ ($\\\\mu m.mm^{-4}$)')"
      ]
     },
     "execution_count": 63,
     "metadata": {},
     "output_type": "execute_result"
    }
   ],
   "source": [
    "plt.close(\"all\")\n",
    "betas2 = []\n",
    "boot_interc = []\n",
    "n_boots = 1\n",
    "n_points = len(table_rhos)\n",
    "x = 'n'\n",
    "y = \"an_rate\"\n",
    "ols_model = sm.ols(formula = f\"{y} ~ {x}\", data=table_rhos)\n",
    "results = ols_model.fit()# coefficients\n",
    "print('Intercept, x-Slope : {}'.format(results.params))\n",
    "y_pred = ols_model.fit().predict(table_rhos[x].astype(float))# plot results\n",
    "fig, ax = plt.subplots()\n",
    "for _ in range(n_boots):\n",
    "    # sample the rows, same size, with replacement\n",
    "    sample_df = table_rhos.sample(n=n_points, replace=True)\n",
    "    # fit a linear regression\n",
    "    ols_model_temp = sm.ols(formula = f\"{y} ~ {x}\", data=sample_df)\n",
    "    results_temp = ols_model_temp.fit()\n",
    "\n",
    "    # append coefficients\n",
    "    boot_interc.append(results_temp.params[0])\n",
    "    betas2.append(results_temp.params[1])\n",
    "\n",
    "    # plot a greyed out line\n",
    "    y_pred_temp = ols_model_temp.fit().predict(sample_df[x].astype(float))\n",
    "    ax.plot(sample_df[x], y_pred_temp, color=\"grey\", alpha=0.1)# add data points\n",
    "# ax.scatter(table_rhos[x], table_rhos[y])\n",
    "# ax.plot(table_rhos[x], y_pred, linewidth=2)\n",
    "data = table_rhos.groupby(f'bin_{x}')[y]\n",
    "ax.errorbar(data.mean().index,data.mean(),color = \"red\",yerr=data.std()/np.sqrt(data.count()))\n",
    "ax.grid(True)\n",
    "ax.set_xlabel(r\"$n $ ($\\mu m.mm^{-4}$)\")\n",
    "ax2=ax.twiny()\n",
    "ax.set_ylabel(\"density of stopping events ($h^{-1}.mm^{-2}$)\")\n",
    "ax.set_ylim((0,0.006))\n",
    "betas2 = []\n",
    "boot_interc = []\n",
    "n_points = len(table_rhos)\n",
    "x = 'nrho'\n",
    "y = \"an_rate\"\n",
    "ols_model = sm.ols(formula = f\"{y} ~ {x}\", data=table_rhos)\n",
    "results = ols_model.fit()# coefficients\n",
    "print('Intercept, x-Slope : {}'.format(results.params))\n",
    "y_pred = ols_model.fit().predict(table_rhos[x].astype(float))# plot results\n",
    "for _ in range(n_boots):\n",
    "    # sample the rows, same size, with replacement\n",
    "    sample_df = table_rhos.sample(n=n_points, replace=True)\n",
    "    # fit a linear regression\n",
    "    ols_model_temp = sm.ols(formula = f\"{y} ~ {x}\", data=sample_df)\n",
    "    results_temp = ols_model_temp.fit()\n",
    "\n",
    "    # append coefficients\n",
    "    boot_interc.append(results_temp.params[0])\n",
    "    betas2.append(results_temp.params[1])\n",
    "\n",
    "    # plot a greyed out line\n",
    "    y_pred_temp = ols_model_temp.fit().predict(sample_df[x].astype(float))\n",
    "    ax2.plot(sample_df[x], y_pred_temp, color=\"grey\", alpha=0.1)# add data points\n",
    "# ax2.scatter(table_rhos[x], table_rhos[y])\n",
    "# ax.plot(table_rhos[x], y_pred, linewidth=2)\n",
    "data = table_rhos.groupby(f'bin_{x}')[y]\n",
    "ax2.errorbar(data.mean().index,data.mean(),color = \"green\",yerr=data.std()/np.sqrt(data.count()))\n",
    "ax.set_xlabel(r\"$n $ ($mm^{-2}$)\",color='red')\n",
    "ax2.set_xlabel(r\"$n \\rho$ ($\\mu m.mm^{-4}$)\",color='green')\n"
   ]
  },
  {
   "cell_type": "code",
   "execution_count": 65,
   "metadata": {},
   "outputs": [
    {
     "name": "stdout",
     "output_type": "stream",
     "text": [
      "Intercept, x-Slope : Intercept     13.67232\n",
      "n            514.18659\n",
      "dtype: float64\n"
     ]
    },
    {
     "data": {
      "application/vnd.jupyter.widget-view+json": {
       "model_id": "8a10462683764ced8791f64be23988b2",
       "version_major": 2,
       "version_minor": 0
      },
      "text/plain": [
       "Canvas(toolbar=Toolbar(toolitems=[('Home', 'Reset original view', 'home', 'home'), ('Back', 'Back to previous …"
      ]
     },
     "metadata": {},
     "output_type": "display_data"
    },
    {
     "data": {
      "text/plain": [
       "Text(0, 0.5, '$n \\\\rho $ ($\\\\mu m.mm^{-2}$)')"
      ]
     },
     "execution_count": 65,
     "metadata": {},
     "output_type": "execute_result"
    }
   ],
   "source": [
    "plt.close(\"all\")\n",
    "betas2 = []\n",
    "boot_interc = []\n",
    "n_boots = 1\n",
    "n_points = len(table_rhos)\n",
    "x = 'n'\n",
    "y = \"nrho\"\n",
    "ols_model = sm.ols(formula = f\"{y} ~ {x}\", data=table_rhos)\n",
    "results = ols_model.fit()# coefficients\n",
    "print('Intercept, x-Slope : {}'.format(results.params))\n",
    "y_pred = ols_model.fit().predict(table_rhos[x].astype(float))# plot results\n",
    "fig, ax = plt.subplots()\n",
    "for _ in range(n_boots):\n",
    "    # sample the rows, same size, with replacement\n",
    "    sample_df = table_rhos.sample(n=n_points, replace=True)\n",
    "    # fit a linear regression\n",
    "    ols_model_temp = sm.ols(formula = f\"{y} ~ {x}\", data=sample_df)\n",
    "    results_temp = ols_model_temp.fit()\n",
    "\n",
    "    # append coefficients\n",
    "    boot_interc.append(results_temp.params[0])\n",
    "    betas2.append(results_temp.params[1])\n",
    "\n",
    "    # plot a greyed out line\n",
    "    y_pred_temp = ols_model_temp.fit().predict(sample_df[x].astype(float))\n",
    "#     ax.plot(sample_df[x], y_pred_temp, color=\"grey\", alpha=0.1)# add data points\n",
    "ax.scatter(table_rhos[x], table_rhos[y])\n",
    "# ax.plot(table_rhos[x], y_pred, linewidth=2)\n",
    "data = table_rhos.groupby(f'bin_{x}')[y]\n",
    "ax.errorbar(data.mean().index,data.mean(),color = \"red\",yerr=data.std()/np.sqrt(data.count()))\n",
    "ax.grid(True)\n",
    "ax.set_xlabel(r\"$n $ ($mm^{-2}$)\")\n",
    "ax.set_ylabel(r\"$n \\rho $ ($\\mu m.mm^{-2}$)\")\n",
    "# ax.set_ylim((0,0.006))\n"
   ]
  },
  {
   "cell_type": "code",
   "execution_count": 60,
   "metadata": {},
   "outputs": [
    {
     "data": {
      "application/vnd.jupyter.widget-view+json": {
       "model_id": "91f833b793f240fa91a7b4819d29dc20",
       "version_major": 2,
       "version_minor": 0
      },
      "text/plain": [
       "Canvas(toolbar=Toolbar(toolitems=[('Home', 'Reset original view', 'home', 'home'), ('Back', 'Back to previous …"
      ]
     },
     "metadata": {},
     "output_type": "display_data"
    },
    {
     "data": {
      "text/plain": [
       "<matplotlib.collections.PathCollection at 0x2560f61d8c8>"
      ]
     },
     "execution_count": 60,
     "metadata": {},
     "output_type": "execute_result"
    }
   ],
   "source": [
    "fig, ax = plt.subplots()\n",
    "ax.scatter(table_rhos['bin_n'],table_rhos['rho'],alpha=0.1)"
   ]
  },
  {
   "cell_type": "code",
   "execution_count": 130,
   "metadata": {},
   "outputs": [
    {
     "data": {
      "text/plain": [
       "0.0006201528414848493"
      ]
     },
     "execution_count": 130,
     "metadata": {},
     "output_type": "execute_result"
    }
   ],
   "source": [
    "np.mean(betas)*24"
   ]
  },
  {
   "cell_type": "code",
   "execution_count": 20,
   "metadata": {},
   "outputs": [
    {
     "data": {
      "text/plain": [
       "1150.1854768958208"
      ]
     },
     "execution_count": 20,
     "metadata": {},
     "output_type": "execute_result"
    }
   ],
   "source": [
    "4*np.mean(alphas)/np.mean(betas)*np.sqrt((np.std(alphas)/np.mean(alphas))**2+(np.std(betas)/np.mean(betas))**2)"
   ]
  },
  {
   "cell_type": "code",
   "execution_count": 28,
   "metadata": {
    "collapsed": true,
    "jupyter": {
     "outputs_hidden": true
    }
   },
   "outputs": [
    {
     "data": {
      "application/vnd.jupyter.widget-view+json": {
       "model_id": "c7cd01169a794770aeb6b75de7273da8",
       "version_major": 2,
       "version_minor": 0
      },
      "text/plain": [
       "Canvas(toolbar=Toolbar(toolitems=[('Home', 'Reset original view', 'home', 'home'), ('Back', 'Back to previous …"
      ]
     },
     "metadata": {},
     "output_type": "display_data"
    },
    {
     "name": "stdout",
     "output_type": "stream",
     "text": [
      "Intercept, x-Slope : Intercept   -0.001307\n",
      "n            0.060162\n",
      "dtype: float64\n"
     ]
    },
    {
     "name": "stderr",
     "output_type": "stream",
     "text": [
      "C:\\Users\\coren\\anaconda3\\envs\\cleanMsc\\lib\\site-packages\\seaborn\\distributions.py:2619: FutureWarning: `distplot` is a deprecated function and will be removed in a future version. Please adapt your code to use either `displot` (a figure-level function with similar flexibility) or `histplot` (an axes-level function for histograms).\n",
      "  warnings.warn(msg, FutureWarning)\n"
     ]
    },
    {
     "name": "stdout",
     "output_type": "stream",
     "text": [
      "Intercept, x-Slope : Intercept   -0.000798\n",
      "n            0.046517\n",
      "dtype: float64\n"
     ]
    },
    {
     "name": "stderr",
     "output_type": "stream",
     "text": [
      "C:\\Users\\coren\\anaconda3\\envs\\cleanMsc\\lib\\site-packages\\seaborn\\distributions.py:2619: FutureWarning: `distplot` is a deprecated function and will be removed in a future version. Please adapt your code to use either `displot` (a figure-level function with similar flexibility) or `histplot` (an axes-level function for histograms).\n",
      "  warnings.warn(msg, FutureWarning)\n"
     ]
    },
    {
     "name": "stdout",
     "output_type": "stream",
     "text": [
      "Intercept, x-Slope : Intercept   -0.000005\n",
      "n            0.028616\n",
      "dtype: float64\n"
     ]
    },
    {
     "name": "stderr",
     "output_type": "stream",
     "text": [
      "C:\\Users\\coren\\anaconda3\\envs\\cleanMsc\\lib\\site-packages\\seaborn\\distributions.py:2619: FutureWarning: `distplot` is a deprecated function and will be removed in a future version. Please adapt your code to use either `displot` (a figure-level function with similar flexibility) or `histplot` (an axes-level function for histograms).\n",
      "  warnings.warn(msg, FutureWarning)\n"
     ]
    },
    {
     "name": "stdout",
     "output_type": "stream",
     "text": [
      "Intercept, x-Slope : Intercept   -0.000174\n",
      "n            0.034819\n",
      "dtype: float64\n"
     ]
    },
    {
     "name": "stderr",
     "output_type": "stream",
     "text": [
      "C:\\Users\\coren\\anaconda3\\envs\\cleanMsc\\lib\\site-packages\\seaborn\\distributions.py:2619: FutureWarning: `distplot` is a deprecated function and will be removed in a future version. Please adapt your code to use either `displot` (a figure-level function with similar flexibility) or `histplot` (an axes-level function for histograms).\n",
      "  warnings.warn(msg, FutureWarning)\n"
     ]
    },
    {
     "name": "stdout",
     "output_type": "stream",
     "text": [
      "Intercept, x-Slope : Intercept   -0.000406\n",
      "n            0.041720\n",
      "dtype: float64\n"
     ]
    },
    {
     "name": "stderr",
     "output_type": "stream",
     "text": [
      "C:\\Users\\coren\\anaconda3\\envs\\cleanMsc\\lib\\site-packages\\seaborn\\distributions.py:2619: FutureWarning: `distplot` is a deprecated function and will be removed in a future version. Please adapt your code to use either `displot` (a figure-level function with similar flexibility) or `histplot` (an axes-level function for histograms).\n",
      "  warnings.warn(msg, FutureWarning)\n"
     ]
    },
    {
     "name": "stdout",
     "output_type": "stream",
     "text": [
      "Intercept, x-Slope : Intercept   -0.000803\n",
      "n            0.055181\n",
      "dtype: float64\n"
     ]
    },
    {
     "name": "stderr",
     "output_type": "stream",
     "text": [
      "C:\\Users\\coren\\anaconda3\\envs\\cleanMsc\\lib\\site-packages\\seaborn\\distributions.py:2619: FutureWarning: `distplot` is a deprecated function and will be removed in a future version. Please adapt your code to use either `displot` (a figure-level function with similar flexibility) or `histplot` (an axes-level function for histograms).\n",
      "  warnings.warn(msg, FutureWarning)\n"
     ]
    },
    {
     "name": "stdout",
     "output_type": "stream",
     "text": [
      "Intercept, x-Slope : Intercept   -0.000393\n",
      "n            0.034280\n",
      "dtype: float64\n"
     ]
    },
    {
     "name": "stderr",
     "output_type": "stream",
     "text": [
      "C:\\Users\\coren\\anaconda3\\envs\\cleanMsc\\lib\\site-packages\\seaborn\\distributions.py:2619: FutureWarning: `distplot` is a deprecated function and will be removed in a future version. Please adapt your code to use either `displot` (a figure-level function with similar flexibility) or `histplot` (an axes-level function for histograms).\n",
      "  warnings.warn(msg, FutureWarning)\n"
     ]
    },
    {
     "name": "stdout",
     "output_type": "stream",
     "text": [
      "Intercept, x-Slope : Intercept   -0.000347\n",
      "n            0.037832\n",
      "dtype: float64\n"
     ]
    },
    {
     "name": "stderr",
     "output_type": "stream",
     "text": [
      "C:\\Users\\coren\\anaconda3\\envs\\cleanMsc\\lib\\site-packages\\seaborn\\distributions.py:2619: FutureWarning: `distplot` is a deprecated function and will be removed in a future version. Please adapt your code to use either `displot` (a figure-level function with similar flexibility) or `histplot` (an axes-level function for histograms).\n",
      "  warnings.warn(msg, FutureWarning)\n"
     ]
    },
    {
     "name": "stdout",
     "output_type": "stream",
     "text": [
      "Intercept, x-Slope : Intercept   -0.000447\n",
      "n            0.038817\n",
      "dtype: float64\n"
     ]
    },
    {
     "name": "stderr",
     "output_type": "stream",
     "text": [
      "C:\\Users\\coren\\anaconda3\\envs\\cleanMsc\\lib\\site-packages\\seaborn\\distributions.py:2619: FutureWarning: `distplot` is a deprecated function and will be removed in a future version. Please adapt your code to use either `displot` (a figure-level function with similar flexibility) or `histplot` (an axes-level function for histograms).\n",
      "  warnings.warn(msg, FutureWarning)\n"
     ]
    },
    {
     "name": "stdout",
     "output_type": "stream",
     "text": [
      "Intercept, x-Slope : Intercept   -0.000523\n",
      "n            0.035921\n",
      "dtype: float64\n"
     ]
    },
    {
     "name": "stderr",
     "output_type": "stream",
     "text": [
      "C:\\Users\\coren\\anaconda3\\envs\\cleanMsc\\lib\\site-packages\\seaborn\\distributions.py:2619: FutureWarning: `distplot` is a deprecated function and will be removed in a future version. Please adapt your code to use either `displot` (a figure-level function with similar flexibility) or `histplot` (an axes-level function for histograms).\n",
      "  warnings.warn(msg, FutureWarning)\n"
     ]
    },
    {
     "data": {
      "text/plain": [
       "<matplotlib.legend.Legend at 0x1e352ac2648>"
      ]
     },
     "execution_count": 28,
     "metadata": {},
     "output_type": "execute_result"
    }
   ],
   "source": [
    "fig, ax = plt.subplots()\n",
    "\n",
    "plates = [76,94,102,152,792,799,800,808,91,80]\n",
    "for plate in plates:\n",
    "    table = time_plate_info.loc[time_plate_info['Plate']==plate]\n",
    "    rhos = []\n",
    "    ns = []\n",
    "    ans_rate = []\n",
    "    stop_rate = []\n",
    "    branch_rate = []\n",
    "    ts = []\n",
    "    for index in range(1,20):\n",
    "        column = f\"ring_density_incr-100_index-{index}\"\n",
    "        rhos+= list(table[column])\n",
    "        column = f\"ring_active_tips_density_incr-100_index-{index}\"\n",
    "        ns+= list(table[column])\n",
    "        column = f\"ring_anas_density_incr-100_index-{index}\"\n",
    "        ans_rate+= list(table[column])\n",
    "        column = f\"ring_branch_density_incr-100_index-{index}\"\n",
    "        branch_rate+= list(table[column])\n",
    "        column = f\"ring_stop_density_incr-100_index-{index}\"\n",
    "        stop_rate+= list(table[column])\n",
    "        column = f\"t\"\n",
    "        ts+= list(table[column])\n",
    "    data = np.array((rhos,ns,ans_rate,stop_rate,branch_rate,ts)).transpose()\n",
    "    table_rhos = pd.DataFrame(data,columns=(\"rho\",\"n\",\"an_rate\",\"stop\",'branch','ts'))\n",
    "    table_rhos['nrho'] = table_rhos['n']*table_rhos['rho']\n",
    "    table_rhos = table_rhos.dropna()\n",
    "    table_rhos['n2'] = table_rhos['n']**2\n",
    "    table_rhos['rho2'] = table_rhos['rho']**2\n",
    "    table_rhos = table_rhos.astype(float)\n",
    "    table_rhos = table_rhos.loc[(table_rhos['n']!=0)]\n",
    "    alphas = []\n",
    "    boot_interc = []\n",
    "    n_boots = 300\n",
    "    n_points = 1000\n",
    "    x = 'n'\n",
    "    y = \"branch\"\n",
    "    ols_model = sm.ols(formula = f\"{y} ~ {x}\", data=table_rhos)\n",
    "    results = ols_model.fit()# coefficients\n",
    "    print('Intercept, x-Slope : {}'.format(results.params))\n",
    "    y_pred = ols_model.fit().predict(table_rhos[x].astype(float))# plot results\n",
    "    for _ in range(n_boots):\n",
    "        # sample the rows, same size, with replacement\n",
    "        sample_df = table_rhos.sample(n=n_points, replace=True)\n",
    "        # fit a linear regression\n",
    "        ols_model_temp = sm.ols(formula = f\"{y} ~ {x}\", data=sample_df)\n",
    "        results_temp = ols_model_temp.fit()\n",
    "\n",
    "        # append coefficients\n",
    "        boot_interc.append(results_temp.params[0])\n",
    "        alphas.append(results_temp.params[1])\n",
    "\n",
    "        # plot a greyed out line\n",
    "        y_pred_temp = ols_model_temp.fit().predict(sample_df[x].astype(float))\n",
    "\n",
    "    sns.distplot(np.array(alphas)*24,ax = ax,axlabel = r\"estimated alpha ($day^{-1}$)\",label=plate)\n",
    "ax.set_xlim((0,2))\n",
    "ax.set_ylim((0,6))\n",
    "\n",
    "plt.legend()"
   ]
  },
  {
   "cell_type": "code",
   "execution_count": 179,
   "metadata": {
    "collapsed": true,
    "jupyter": {
     "outputs_hidden": true
    }
   },
   "outputs": [
    {
     "data": {
      "application/vnd.jupyter.widget-view+json": {
       "model_id": "1fae3fcfeb824d44a18fbf890296e75b",
       "version_major": 2,
       "version_minor": 0
      },
      "text/plain": [
       "Canvas(toolbar=Toolbar(toolitems=[('Home', 'Reset original view', 'home', 'home'), ('Back', 'Back to previous …"
      ]
     },
     "metadata": {},
     "output_type": "display_data"
    },
    {
     "name": "stdout",
     "output_type": "stream",
     "text": [
      "Intercept, x-Slope : Intercept   -0.000021\n",
      "nrho         0.000025\n",
      "dtype: float64\n"
     ]
    },
    {
     "name": "stderr",
     "output_type": "stream",
     "text": [
      "C:\\Users\\coren\\anaconda3\\envs\\cleanMsc\\lib\\site-packages\\seaborn\\distributions.py:2619: FutureWarning: `distplot` is a deprecated function and will be removed in a future version. Please adapt your code to use either `displot` (a figure-level function with similar flexibility) or `histplot` (an axes-level function for histograms).\n",
      "  warnings.warn(msg, FutureWarning)\n"
     ]
    },
    {
     "name": "stdout",
     "output_type": "stream",
     "text": [
      "Intercept, x-Slope : Intercept   -0.000027\n",
      "nrho         0.000021\n",
      "dtype: float64\n"
     ]
    },
    {
     "name": "stderr",
     "output_type": "stream",
     "text": [
      "C:\\Users\\coren\\anaconda3\\envs\\cleanMsc\\lib\\site-packages\\seaborn\\distributions.py:2619: FutureWarning: `distplot` is a deprecated function and will be removed in a future version. Please adapt your code to use either `displot` (a figure-level function with similar flexibility) or `histplot` (an axes-level function for histograms).\n",
      "  warnings.warn(msg, FutureWarning)\n"
     ]
    },
    {
     "name": "stdout",
     "output_type": "stream",
     "text": [
      "Intercept, x-Slope : Intercept    0.000045\n",
      "nrho         0.000011\n",
      "dtype: float64\n"
     ]
    },
    {
     "name": "stderr",
     "output_type": "stream",
     "text": [
      "C:\\Users\\coren\\anaconda3\\envs\\cleanMsc\\lib\\site-packages\\seaborn\\distributions.py:2619: FutureWarning: `distplot` is a deprecated function and will be removed in a future version. Please adapt your code to use either `displot` (a figure-level function with similar flexibility) or `histplot` (an axes-level function for histograms).\n",
      "  warnings.warn(msg, FutureWarning)\n"
     ]
    },
    {
     "name": "stdout",
     "output_type": "stream",
     "text": [
      "Intercept, x-Slope : Intercept    0.000029\n",
      "nrho         0.000008\n",
      "dtype: float64\n"
     ]
    },
    {
     "name": "stderr",
     "output_type": "stream",
     "text": [
      "C:\\Users\\coren\\anaconda3\\envs\\cleanMsc\\lib\\site-packages\\seaborn\\distributions.py:2619: FutureWarning: `distplot` is a deprecated function and will be removed in a future version. Please adapt your code to use either `displot` (a figure-level function with similar flexibility) or `histplot` (an axes-level function for histograms).\n",
      "  warnings.warn(msg, FutureWarning)\n"
     ]
    },
    {
     "name": "stdout",
     "output_type": "stream",
     "text": [
      "Intercept, x-Slope : Intercept   -0.000010\n",
      "nrho         0.000014\n",
      "dtype: float64\n"
     ]
    },
    {
     "name": "stderr",
     "output_type": "stream",
     "text": [
      "C:\\Users\\coren\\anaconda3\\envs\\cleanMsc\\lib\\site-packages\\seaborn\\distributions.py:2619: FutureWarning: `distplot` is a deprecated function and will be removed in a future version. Please adapt your code to use either `displot` (a figure-level function with similar flexibility) or `histplot` (an axes-level function for histograms).\n",
      "  warnings.warn(msg, FutureWarning)\n"
     ]
    },
    {
     "name": "stdout",
     "output_type": "stream",
     "text": [
      "Intercept, x-Slope : Intercept    0.000004\n",
      "nrho         0.000021\n",
      "dtype: float64\n"
     ]
    },
    {
     "name": "stderr",
     "output_type": "stream",
     "text": [
      "C:\\Users\\coren\\anaconda3\\envs\\cleanMsc\\lib\\site-packages\\seaborn\\distributions.py:2619: FutureWarning: `distplot` is a deprecated function and will be removed in a future version. Please adapt your code to use either `displot` (a figure-level function with similar flexibility) or `histplot` (an axes-level function for histograms).\n",
      "  warnings.warn(msg, FutureWarning)\n"
     ]
    },
    {
     "name": "stdout",
     "output_type": "stream",
     "text": [
      "Intercept, x-Slope : Intercept    0.000002\n",
      "nrho         0.000016\n",
      "dtype: float64\n"
     ]
    },
    {
     "name": "stderr",
     "output_type": "stream",
     "text": [
      "C:\\Users\\coren\\anaconda3\\envs\\cleanMsc\\lib\\site-packages\\seaborn\\distributions.py:2619: FutureWarning: `distplot` is a deprecated function and will be removed in a future version. Please adapt your code to use either `displot` (a figure-level function with similar flexibility) or `histplot` (an axes-level function for histograms).\n",
      "  warnings.warn(msg, FutureWarning)\n"
     ]
    },
    {
     "name": "stdout",
     "output_type": "stream",
     "text": [
      "Intercept, x-Slope : Intercept   -0.000008\n",
      "nrho         0.000015\n",
      "dtype: float64\n"
     ]
    },
    {
     "name": "stderr",
     "output_type": "stream",
     "text": [
      "C:\\Users\\coren\\anaconda3\\envs\\cleanMsc\\lib\\site-packages\\seaborn\\distributions.py:2619: FutureWarning: `distplot` is a deprecated function and will be removed in a future version. Please adapt your code to use either `displot` (a figure-level function with similar flexibility) or `histplot` (an axes-level function for histograms).\n",
      "  warnings.warn(msg, FutureWarning)\n"
     ]
    },
    {
     "name": "stdout",
     "output_type": "stream",
     "text": [
      "Intercept, x-Slope : Intercept    0.000015\n",
      "nrho         0.000016\n",
      "dtype: float64\n"
     ]
    },
    {
     "name": "stderr",
     "output_type": "stream",
     "text": [
      "C:\\Users\\coren\\anaconda3\\envs\\cleanMsc\\lib\\site-packages\\seaborn\\distributions.py:2619: FutureWarning: `distplot` is a deprecated function and will be removed in a future version. Please adapt your code to use either `displot` (a figure-level function with similar flexibility) or `histplot` (an axes-level function for histograms).\n",
      "  warnings.warn(msg, FutureWarning)\n"
     ]
    },
    {
     "name": "stdout",
     "output_type": "stream",
     "text": [
      "Intercept, x-Slope : Intercept   -0.000006\n",
      "nrho         0.000019\n",
      "dtype: float64\n"
     ]
    },
    {
     "name": "stderr",
     "output_type": "stream",
     "text": [
      "C:\\Users\\coren\\anaconda3\\envs\\cleanMsc\\lib\\site-packages\\seaborn\\distributions.py:2619: FutureWarning: `distplot` is a deprecated function and will be removed in a future version. Please adapt your code to use either `displot` (a figure-level function with similar flexibility) or `histplot` (an axes-level function for histograms).\n",
      "  warnings.warn(msg, FutureWarning)\n"
     ]
    },
    {
     "data": {
      "text/plain": [
       "<matplotlib.legend.Legend at 0x26ac0179848>"
      ]
     },
     "execution_count": 179,
     "metadata": {},
     "output_type": "execute_result"
    }
   ],
   "source": [
    "fig, ax = plt.subplots()\n",
    "\n",
    "plates = [76,94,102,152,792,799,800,808,91,80]\n",
    "for plate in plates:\n",
    "    table = time_plate_info.loc[time_plate_info['Plate']==plate]\n",
    "    rhos = []\n",
    "    ns = []\n",
    "    ans_rate = []\n",
    "    stop_rate = []\n",
    "    branch_rate = []\n",
    "    ts = []\n",
    "    for index in range(1,20):\n",
    "        column = f\"ring_density_incr-100_index-{index}\"\n",
    "        rhos+= list(table[column])\n",
    "        column = f\"ring_active_tips_density_incr-100_index-{index}\"\n",
    "        ns+= list(table[column])\n",
    "        column = f\"ring_anas_density_incr-100_index-{index}\"\n",
    "        ans_rate+= list(table[column])\n",
    "        column = f\"ring_branch_density_incr-100_index-{index}\"\n",
    "        branch_rate+= list(table[column])\n",
    "        column = f\"ring_stop_density_incr-100_index-{index}\"\n",
    "        stop_rate+= list(table[column])\n",
    "        column = f\"t\"\n",
    "        ts+= list(table[column])\n",
    "    data = np.array((rhos,ns,ans_rate,stop_rate,branch_rate,ts)).transpose()\n",
    "    table_rhos = pd.DataFrame(data,columns=(\"rho\",\"n\",\"an_rate\",\"stop\",'branch','ts'))\n",
    "    table_rhos['nrho'] = table_rhos['n']*table_rhos['rho']\n",
    "    table_rhos = table_rhos.dropna()\n",
    "    table_rhos['n2'] = table_rhos['n']**2\n",
    "    table_rhos['rho2'] = table_rhos['rho']**2\n",
    "    table_rhos = table_rhos.astype(float)\n",
    "    table_rhos = table_rhos.loc[(table_rhos['nrho']!=0)]\n",
    "\n",
    "    betas = []\n",
    "    boot_interc = []\n",
    "    n_boots = 300\n",
    "    x = 'nrho'\n",
    "    y = \"an_rate\"\n",
    "    ols_model = sm.ols(formula = f\"{y} ~ {x}\", data=table_rhos)\n",
    "    results = ols_model.fit()# coefficients\n",
    "    print('Intercept, x-Slope : {}'.format(results.params))\n",
    "    y_pred = ols_model.fit().predict(table_rhos[x].astype(float))# plot results\n",
    "    for _ in range(n_boots):\n",
    "        # sample the rows, same size, with replacement\n",
    "        sample_df = table_rhos.sample(n=n_points, replace=True)\n",
    "        # fit a linear regression\n",
    "        ols_model_temp = sm.ols(formula = f\"{y} ~ {x}\", data=sample_df)\n",
    "        results_temp = ols_model_temp.fit()\n",
    "\n",
    "        # append coefficients\n",
    "        boot_interc.append(results_temp.params[0])\n",
    "        betas.append(results_temp.params[1])\n",
    "\n",
    "        # plot a greyed out line\n",
    "        y_pred_temp = ols_model_temp.fit().predict(sample_df[x].astype(float))\n",
    "\n",
    "    sns.distplot(np.array(betas)*24,ax = ax,axlabel = r\"estimated beta ($mm^{2}.\\mu m^{-1}.day^{-1}$)\",label=plate)\n",
    "plt.legend()"
   ]
  },
  {
   "cell_type": "code",
   "execution_count": null,
   "metadata": {},
   "outputs": [],
   "source": [
    "fig, ax = plt.subplots()\n",
    "\n",
    "plates = [76,94,102,152,792,799,800,808,91,80]\n",
    "for plate in plates:\n",
    "    table = time_plate_info.loc[time_plate_info['Plate']==plate]\n",
    "    rhos = []\n",
    "    ns = []\n",
    "    ans_rate = []\n",
    "    stop_rate = []\n",
    "    branch_rate = []\n",
    "    ts = []\n",
    "    for index in range(1,20):\n",
    "        column = f\"ring_density_incr-100_index-{index}\"\n",
    "        rhos+= list(table[column])\n",
    "        column = f\"ring_active_tips_density_incr-100_index-{index}\"\n",
    "        ns+= list(table[column])\n",
    "        column = f\"ring_anas_density_incr-100_index-{index}\"\n",
    "        ans_rate+= list(table[column])\n",
    "        column = f\"ring_branch_density_incr-100_index-{index}\"\n",
    "        branch_rate+= list(table[column])\n",
    "        column = f\"ring_stop_density_incr-100_index-{index}\"\n",
    "        stop_rate+= list(table[column])\n",
    "        column = f\"t\"\n",
    "        ts+= list(table[column])\n",
    "    data = np.array((rhos,ns,ans_rate,stop_rate,branch_rate,ts)).transpose()\n",
    "    table_rhos = pd.DataFrame(data,columns=(\"rho\",\"n\",\"an_rate\",\"stop\",'branch','ts'))\n",
    "    table_rhos['nrho'] = table_rhos['n']*table_rhos['rho']\n",
    "    table_rhos = table_rhos.dropna()\n",
    "    table_rhos['n2'] = table_rhos['n']**2\n",
    "    table_rhos['rho2'] = table_rhos['rho']**2\n",
    "    table_rhos = table_rhos.astype(float)\n",
    "    table_rhos = table_rhos.loc[(table_rhos['n']!=0)]\n",
    "    table_rhos['bin_n'] = (table_rhos['n']*100).astype(int)/100\n",
    "    table_rhos['bin_nrho'] = (table_rhos['nrho']/5).astype(int)*5\n",
    "\n",
    "    betas = []\n",
    "    boot_interc = []\n",
    "    n_boots = 300\n",
    "    x = 'nrho'\n",
    "    y = \"an_rate\"\n",
    "    ols_model = sm.ols(formula = f\"{y} ~ {x}\", data=table_rhos)\n",
    "    results = ols_model.fit()# coefficients\n",
    "    print('Intercept, x-Slope : {}'.format(results.params))\n",
    "    y_pred = ols_model.fit().predict(table_rhos[x].astype(float))# plot results\n",
    "    for _ in range(n_boots):\n",
    "        # sample the rows, same size, with replacement\n",
    "        sample_df = table_rhos.sample(n=n_points, replace=True)\n",
    "        # fit a linear regression\n",
    "        ols_model_temp = sm.ols(formula = f\"{y} ~ {x}\", data=sample_df)\n",
    "        results_temp = ols_model_temp.fit()\n",
    "\n",
    "        # append coefficients\n",
    "        boot_interc.append(results_temp.params[0])\n",
    "        betas.append(results_temp.params[1])\n",
    "\n",
    "        # plot a greyed out line\n",
    "        y_pred_temp = ols_model_temp.fit().predict(sample_df[x].astype(float))\n",
    "\n",
    "    sns.distplot(np.array(betas)*24,ax = ax,axlabel = r\"estimated beta ($mm^{2}.\\mu m^{-1}.day^{-1}$)\",label=plate)"
   ]
  },
  {
   "cell_type": "code",
   "execution_count": 180,
   "metadata": {},
   "outputs": [
    {
     "data": {
      "text/plain": [
       "-4.787780575701489e-06"
      ]
     },
     "execution_count": 180,
     "metadata": {},
     "output_type": "execute_result"
    }
   ],
   "source": [
    "np.mean(boot_interc)"
   ]
  },
  {
   "cell_type": "code",
   "execution_count": 59,
   "metadata": {},
   "outputs": [],
   "source": [
    "y, X = dmatrices('branch ~ n + rho ', data=table_rhos, return_type='dataframe')"
   ]
  },
  {
   "cell_type": "code",
   "execution_count": 60,
   "metadata": {},
   "outputs": [
    {
     "name": "stdout",
     "output_type": "stream",
     "text": [
      "                            OLS Regression Results                            \n",
      "==============================================================================\n",
      "Dep. Variable:                 branch   R-squared:                       0.697\n",
      "Model:                            OLS   Adj. R-squared:                  0.695\n",
      "Method:                 Least Squares   F-statistic:                     327.7\n",
      "Date:                Mon, 10 Jan 2022   Prob (F-statistic):           1.31e-74\n",
      "Time:                        22:37:17   Log-Likelihood:                 1440.8\n",
      "No. Observations:                 288   AIC:                            -2876.\n",
      "Df Residuals:                     285   BIC:                            -2865.\n",
      "Df Model:                           2                                         \n",
      "Covariance Type:            nonrobust                                         \n",
      "==============================================================================\n",
      "                 coef    std err          t      P>|t|      [0.025      0.975]\n",
      "------------------------------------------------------------------------------\n",
      "Intercept     -0.0002      0.000     -1.426      0.155      -0.000    6.84e-05\n",
      "n              0.0523      0.002     25.596      0.000       0.048       0.056\n",
      "rho        -9.362e-08   9.09e-08     -1.030      0.304   -2.72e-07    8.52e-08\n",
      "==============================================================================\n",
      "Omnibus:                       77.327   Durbin-Watson:                   2.065\n",
      "Prob(Omnibus):                  0.000   Jarque-Bera (JB):             2324.465\n",
      "Skew:                           0.231   Prob(JB):                         0.00\n",
      "Kurtosis:                      16.910   Cond. No.                     2.80e+04\n",
      "==============================================================================\n",
      "\n",
      "Notes:\n",
      "[1] Standard Errors assume that the covariance matrix of the errors is correctly specified.\n",
      "[2] The condition number is large, 2.8e+04. This might indicate that there are\n",
      "strong multicollinearity or other numerical problems.\n"
     ]
    }
   ],
   "source": [
    "mod = sm.OLS(y, X)\n",
    "res = mod.fit()\n",
    "print(res.summary())"
   ]
  },
  {
   "cell_type": "code",
   "execution_count": null,
   "metadata": {},
   "outputs": [],
   "source": []
  },
  {
   "cell_type": "code",
   "execution_count": 30,
   "metadata": {},
   "outputs": [
    {
     "name": "stdout",
     "output_type": "stream",
     "text": [
      "                            OLS Regression Results                            \n",
      "==============================================================================\n",
      "Dep. Variable:                an_rate   R-squared:                         nan\n",
      "Model:                            OLS   Adj. R-squared:                    nan\n",
      "Method:                 Least Squares   F-statistic:                       nan\n",
      "Date:                Wed, 05 Jan 2022   Prob (F-statistic):                nan\n",
      "Time:                        16:57:31   Log-Likelihood:                    inf\n",
      "No. Observations:                 288   AIC:                              -inf\n",
      "Df Residuals:                     286   BIC:                              -inf\n",
      "Df Model:                           1                                         \n",
      "Covariance Type:            nonrobust                                         \n",
      "==============================================================================\n",
      "                 coef    std err          t      P>|t|      [0.025      0.975]\n",
      "------------------------------------------------------------------------------\n",
      "Intercept           0          0        nan        nan           0           0\n",
      "nrho                0          0        nan        nan           0           0\n",
      "==============================================================================\n",
      "Omnibus:                      946.789   Durbin-Watson:                     nan\n",
      "Prob(Omnibus):                  0.000   Jarque-Bera (JB):              108.000\n",
      "Skew:                           0.000   Prob(JB):                     3.53e-24\n",
      "Kurtosis:                       0.000   Cond. No.                         45.8\n",
      "==============================================================================\n",
      "\n",
      "Notes:\n",
      "[1] Standard Errors assume that the covariance matrix of the errors is correctly specified.\n"
     ]
    },
    {
     "name": "stderr",
     "output_type": "stream",
     "text": [
      "C:\\Users\\coren\\anaconda3\\envs\\cleanMsc\\lib\\site-packages\\statsmodels\\regression\\linear_model.py:1738: RuntimeWarning: invalid value encountered in double_scalars\n",
      "  return 1 - self.ssr/self.centered_tss\n",
      "C:\\Users\\coren\\anaconda3\\envs\\cleanMsc\\lib\\site-packages\\statsmodels\\regression\\linear_model.py:1827: RuntimeWarning: invalid value encountered in double_scalars\n",
      "  return self.mse_model/self.mse_resid\n",
      "C:\\Users\\coren\\anaconda3\\envs\\cleanMsc\\lib\\site-packages\\statsmodels\\regression\\linear_model.py:926: RuntimeWarning: divide by zero encountered in log\n",
      "  llf = -nobs2*np.log(2*np.pi) - nobs2*np.log(ssr / nobs) - nobs2\n",
      "C:\\Users\\coren\\anaconda3\\envs\\cleanMsc\\lib\\site-packages\\statsmodels\\stats\\stattools.py:50: RuntimeWarning: invalid value encountered in double_scalars\n",
      "  dw = np.sum(diff_resids**2, axis=axis) / np.sum(resids**2, axis=axis)\n"
     ]
    }
   ],
   "source": [
    "y, X = dmatrices('an_rate ~  nrho ', data=table_rhos, return_type='dataframe')\n",
    "mod = sm.OLS(y, X)\n",
    "res = mod.fit()\n",
    "print(res.summary())"
   ]
  },
  {
   "cell_type": "code",
   "execution_count": 34,
   "metadata": {},
   "outputs": [
    {
     "data": {
      "text/plain": [
       "2181.0699588477364"
      ]
     },
     "execution_count": 34,
     "metadata": {},
     "output_type": "execute_result"
    }
   ],
   "source": [
    "0.053/2.43e-5"
   ]
  },
  {
   "cell_type": "code",
   "execution_count": 87,
   "metadata": {},
   "outputs": [
    {
     "name": "stdout",
     "output_type": "stream",
     "text": [
      "                            OLS Regression Results                            \n",
      "==============================================================================\n",
      "Dep. Variable:                an_rate   R-squared:                       0.227\n",
      "Model:                            OLS   Adj. R-squared:                  0.226\n",
      "Method:                 Least Squares   F-statistic:                     463.5\n",
      "Date:                Thu, 30 Dec 2021   Prob (F-statistic):           2.24e-90\n",
      "Time:                        16:31:53   Log-Likelihood:                 8437.0\n",
      "No. Observations:                1584   AIC:                        -1.687e+04\n",
      "Df Residuals:                    1582   BIC:                        -1.686e+04\n",
      "Df Model:                           1                                         \n",
      "Covariance Type:            nonrobust                                         \n",
      "==============================================================================\n",
      "                 coef    std err          t      P>|t|      [0.025      0.975]\n",
      "------------------------------------------------------------------------------\n",
      "Intercept  -1.427e-05   3.25e-05     -0.439      0.661    -7.8e-05    4.95e-05\n",
      "n              0.0207      0.001     21.529      0.000       0.019       0.023\n",
      "==============================================================================\n",
      "Omnibus:                     1587.155   Durbin-Watson:                   1.869\n",
      "Prob(Omnibus):                  0.000   Jarque-Bera (JB):           103732.028\n",
      "Skew:                           4.713   Prob(JB):                         0.00\n",
      "Kurtosis:                      41.508   Cond. No.                         32.5\n",
      "==============================================================================\n",
      "\n",
      "Notes:\n",
      "[1] Standard Errors assume that the covariance matrix of the errors is correctly specified.\n"
     ]
    }
   ],
   "source": [
    "y, X = dmatrices('an_rate ~  n ', data=table_rhos, return_type='dataframe')\n",
    "mod = sm.OLS(y, X)\n",
    "res = mod.fit()\n",
    "print(res.summary())"
   ]
  },
  {
   "cell_type": "code",
   "execution_count": 92,
   "metadata": {},
   "outputs": [
    {
     "name": "stdout",
     "output_type": "stream",
     "text": [
      "                            OLS Regression Results                            \n",
      "==============================================================================\n",
      "Dep. Variable:                an_rate   R-squared:                       0.274\n",
      "Model:                            OLS   Adj. R-squared:                  0.273\n",
      "Method:                 Least Squares   F-statistic:                     298.5\n",
      "Date:                Thu, 30 Dec 2021   Prob (F-statistic):          1.06e-110\n",
      "Time:                        16:34:02   Log-Likelihood:                 8487.2\n",
      "No. Observations:                1584   AIC:                        -1.697e+04\n",
      "Df Residuals:                    1581   BIC:                        -1.695e+04\n",
      "Df Model:                           2                                         \n",
      "Covariance Type:            nonrobust                                         \n",
      "==============================================================================\n",
      "                 coef    std err          t      P>|t|      [0.025      0.975]\n",
      "------------------------------------------------------------------------------\n",
      "Intercept  -7.295e-05    3.2e-05     -2.277      0.023      -0.000   -1.01e-05\n",
      "n              0.0060      0.002      3.489      0.000       0.003       0.009\n",
      "nrho        1.891e-05   1.86e-06     10.170      0.000    1.53e-05    2.26e-05\n",
      "==============================================================================\n",
      "Omnibus:                     1531.202   Durbin-Watson:                   1.942\n",
      "Prob(Omnibus):                  0.000   Jarque-Bera (JB):           104673.758\n",
      "Skew:                           4.408   Prob(JB):                         0.00\n",
      "Kurtosis:                      41.836   Cond. No.                     1.90e+03\n",
      "==============================================================================\n",
      "\n",
      "Notes:\n",
      "[1] Standard Errors assume that the covariance matrix of the errors is correctly specified.\n",
      "[2] The condition number is large, 1.9e+03. This might indicate that there are\n",
      "strong multicollinearity or other numerical problems.\n"
     ]
    }
   ],
   "source": [
    "y, X = dmatrices('an_rate ~  n +  nrho', data=table_rhos, return_type='dataframe')\n",
    "mod = sm.OLS(y, X)\n",
    "res = mod.fit()\n",
    "print(res.summary())"
   ]
  },
  {
   "cell_type": "code",
   "execution_count": 8,
   "metadata": {},
   "outputs": [
    {
     "data": {
      "application/vnd.jupyter.widget-view+json": {
       "model_id": "147e8b7f68ff4427935516ea014257a5",
       "version_major": 2,
       "version_minor": 0
      },
      "text/plain": [
       "Canvas(toolbar=Toolbar(toolitems=[('Home', 'Reset original view', 'home', 'home'), ('Back', 'Back to previous …"
      ]
     },
     "metadata": {},
     "output_type": "display_data"
    },
    {
     "name": "stdout",
     "output_type": "stream",
     "text": [
      "Intercept, x-Slope : Intercept    2.474894\n",
      "x            1.006328\n",
      "dtype: float64\n"
     ]
    },
    {
     "data": {
      "text/plain": [
       "Text(0.5, 1.0, 'x vs y')"
      ]
     },
     "execution_count": 8,
     "metadata": {},
     "output_type": "execute_result"
    }
   ],
   "source": [
    "import numpy as np\n",
    "import matplotlib.pyplot as plt\n",
    "import pandas as pd\n",
    "import statsmodels.formula.api as sm# synthetic sample data\n",
    "fig, ax = plt.subplots()\n",
    "\n",
    "n_points = 1000\n",
    "x = np.linspace(0, 10, n_points)\n",
    "y = x + (np.random.rand(len(x)) * 5)\n",
    "data_df = pd.DataFrame({'x': x, 'y': y})\n",
    "ols_model = sm.ols(formula = 'y ~ x', data=data_df)\n",
    "results = ols_model.fit()# coefficients\n",
    "print('Intercept, x-Slope : {}'.format(results.params))\n",
    "y_pred = ols_model.fit().predict(data_df['x'])# plot results\n",
    "ax.scatter(x, y)\n",
    "ax.plot(x, y_pred, linewidth=2)\n",
    "ax.grid(True)\n",
    "ax.set_xlabel('x')\n",
    "ax.set_ylabel('y')\n",
    "ax.set_title('x vs y')"
   ]
  },
  {
   "cell_type": "code",
   "execution_count": 6,
   "metadata": {},
   "outputs": [
    {
     "data": {
      "application/vnd.jupyter.widget-view+json": {
       "model_id": "4c73b0471ce342efa839a81838181ba2",
       "version_major": 2,
       "version_minor": 0
      },
      "text/plain": [
       "Canvas(toolbar=Toolbar(toolitems=[('Home', 'Reset original view', 'home', 'home'), ('Back', 'Back to previous …"
      ]
     },
     "metadata": {},
     "output_type": "display_data"
    },
    {
     "data": {
      "text/plain": [
       "Text(0.5, 1.0, 'x vs y')"
      ]
     },
     "execution_count": 6,
     "metadata": {},
     "output_type": "execute_result"
    }
   ],
   "source": [
    "# resample with replacement each row\n",
    "boot_slopes = []\n",
    "boot_interc = []\n",
    "n_boots = 100\n",
    "fig, ax = plt.subplots()\n",
    "for _ in range(n_boots):\n",
    "    # sample the rows, same size, with replacement\n",
    "    sample_df = data_df.sample(n=n_points, replace=True)\n",
    "    # fit a linear regression\n",
    "    ols_model_temp = sm.ols(formula = \"y ~ x\", data=sample_df)\n",
    "    results_temp = ols_model_temp.fit()\n",
    "\n",
    "    # append coefficients\n",
    "    boot_interc.append(results_temp.params[0])\n",
    "    boot_slopes.append(results_temp.params[1])\n",
    "\n",
    "    # plot a greyed out line\n",
    "    y_pred_temp = ols_model_temp.fit().predict(sample_df[\"x\"])\n",
    "    ax.plot(sample_df[\"x\"], y_pred_temp, color=\"grey\", alpha=0.2)# add data points\n",
    "ax.scatter(x, y)\n",
    "ax.plot(x, y_pred, linewidth=2)\n",
    "ax.grid(True)\n",
    "ax.set_xlabel(\"x\")\n",
    "ax.set_ylabel(\"x\")\n",
    "ax.set_title(\"x vs y\")\n"
   ]
  },
  {
   "cell_type": "code",
   "execution_count": 17,
   "metadata": {},
   "outputs": [
    {
     "name": "stderr",
     "output_type": "stream",
     "text": [
      "C:\\Users\\coren\\anaconda3\\envs\\cleanMsc\\lib\\site-packages\\seaborn\\distributions.py:2619: FutureWarning: `distplot` is a deprecated function and will be removed in a future version. Please adapt your code to use either `displot` (a figure-level function with similar flexibility) or `histplot` (an axes-level function for histograms).\n",
      "  warnings.warn(msg, FutureWarning)\n"
     ]
    }
   ],
   "source": [
    "import seaborn as sns\n",
    "sns.distplot(boot_slopes)\n",
    "plt.show()"
   ]
  }
 ],
 "metadata": {
  "kernelspec": {
   "display_name": "Python 3",
   "language": "python",
   "name": "python3"
  },
  "language_info": {
   "codemirror_mode": {
    "name": "ipython",
    "version": 3
   },
   "file_extension": ".py",
   "mimetype": "text/x-python",
   "name": "python",
   "nbconvert_exporter": "python",
   "pygments_lexer": "ipython3",
   "version": "3.7.9"
  }
 },
 "nbformat": 4,
 "nbformat_minor": 4
}
