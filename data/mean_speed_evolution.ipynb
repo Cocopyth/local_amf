{
 "cells": [
  {
   "cell_type": "code",
   "execution_count": 1,
   "metadata": {},
   "outputs": [],
   "source": [
    "import pandas as pd\n",
    "import matplotlib.pyplot as plt\n",
    "\n",
    "%matplotlib widget\n",
    "plt.close('all')\n",
    "import numpy as np\n",
    "from random import choice\n",
    "import os\n",
    "import scipy as sp\n",
    "import scipy.fftpack\n",
    "from scipy.interpolate import interp1d\n",
    "from sklearn.linear_model import LinearRegression\n",
    "from scipy.signal import savgol_filter\n"
   ]
  },
  {
   "cell_type": "code",
   "execution_count": 10,
   "metadata": {},
   "outputs": [],
   "source": [
    "path_save = r\"C:\\Users\\coren\\AMOLF-SHIMIZU Dropbox\\Corentin Bisot\\Applications\\princesync\\data_tables\\time_plate_infos.pick\"\n",
    "time_plate_info = pd.read_pickle(path_save)\n",
    "path_save = r\"C:\\Users\\coren\\AMOLF-SHIMIZU Dropbox\\Corentin Bisot\\Applications\\princesync\\data_tables\\global_hypha_infos.pick\"\n",
    "global_hypha_info = pd.read_pickle(path_save)\n",
    "path_save = r\"C:\\Users\\coren\\AMOLF-SHIMIZU Dropbox\\Corentin Bisot\\Applications\\princesync\\data_tables\\time_hypha_infos.pick\"\n",
    "time_hypha_info = pd.read_pickle(path_save)\n",
    "path_save = r\"C:\\Users\\coren\\AMOLF-SHIMIZU Dropbox\\Corentin Bisot\\Applications\\princesync\\data_tables\\global_plate_infos.pick\"\n",
    "global_plate_info = pd.read_pickle(path_save)\n",
    "\n",
    "def get_branch(row):\n",
    "    if row['Plate']==94:\n",
    "        hyph = row['end']\n",
    "        name = f'branches/ts_{hyph}_auto.npy'\n",
    "        if not os.path.isfile(name):\n",
    "            return(None)\n",
    "        else:\n",
    "            t_real = np.load(name)\n",
    "            return(row['time_since_emergence'] in t_real)\n",
    "def autocorr(x):\n",
    "    result = np.correlate(x, x, mode='full')\n",
    "    return result[result.size // 2:]\n",
    "\n",
    "global_hypha_info['lapse']=global_hypha_info['time_stop_growth']-global_hypha_info['time_init_growth']\n",
    "time_hypha_info['distance_final_pos_smooth'] = time_hypha_info['distance_final_pos'].rolling(window = 5).mean()\n",
    "time_hypha_info['new_branch'] = time_hypha_info.apply(get_branch, axis=1)"
   ]
  },
  {
   "cell_type": "code",
   "execution_count": 28,
   "metadata": {},
   "outputs": [],
   "source": [
    "global_hypha_info['hypha_unique'] = global_hypha_info['hypha'].astype(str)+'_'+global_hypha_info['Plate'].astype(str)\n",
    "time_hypha_info['hypha_unique'] = time_hypha_info['end'].astype(str)+'_'+time_hypha_info['Plate'].astype(str)\n",
    "\n",
    "\n",
    "plate = 792\n",
    "roundin = 1000\n",
    "plates = [792]\n",
    "\n",
    "select_global = global_hypha_info.loc[global_hypha_info['Plate'].isin(plates)]\n",
    "\n",
    "select_global = select_global.loc[select_global['lapse']>10]\n",
    "hyphae_interest= select_global['hypha_unique'].unique()\n",
    "last_time = np.max(select_time_plate.loc[select_time_plate['out_study']==0]['time_since_begin'])\n",
    "\n",
    "select_time = time_hypha_info.loc[time_hypha_info['Plate'].isin(plates)]\n",
    "\n",
    "select_time = select_time.loc[select_time['hypha_unique'].isin(hyphae_interest)]\n",
    "\n",
    "select_time = select_time.loc[select_time['speed'].between(50,400)]\n",
    "select_time['speed'] = select_time['speed'].astype(float)\n",
    "select_time = select_time.loc[select_time['distance_final_pos']>400]\n",
    "select_time = select_time.loc[select_time['in_ROI']=='True']\n",
    "hyphae = select_time.groupby(\"hypha_unique\")[\"timestep\"].count()>=15\n",
    "select_time = select_time.set_index(\"hypha_unique\")\n",
    "select_time = select_time.loc[hyphae[select_time.index]]\n",
    "select_time['time_since_begin_exp'] = roundin*select_time['time_since_begin_exp'].astype(int)/roundin \n",
    "aggregate = 8\n",
    "select_time['time_since_begin_exp_round'] = (select_time['time_since_begin_exp'].astype(int))//aggregate*aggregate\n",
    "select_time = select_time.loc[select_time['time_since_begin_exp']<=last_time]\n",
    "\n",
    "hyphae_interest = select_time['end'].unique()"
   ]
  },
  {
   "cell_type": "code",
   "execution_count": 13,
   "metadata": {},
   "outputs": [
    {
     "data": {
      "text/plain": [
       "hypha_unique\n",
       "0_792          0\n",
       "1_792          0\n",
       "7_792          0\n",
       "8_792          0\n",
       "0_792          0\n",
       "            ... \n",
       "68480_792    216\n",
       "68480_792    216\n",
       "68480_792    216\n",
       "68480_792    222\n",
       "68480_792    222\n",
       "Name: time_since_begin_exp_round, Length: 1124, dtype: int32"
      ]
     },
     "execution_count": 13,
     "metadata": {},
     "output_type": "execute_result"
    }
   ],
   "source": [
    "select_time['time_since_begin_exp_round']"
   ]
  },
  {
   "cell_type": "code",
   "execution_count": 29,
   "metadata": {},
   "outputs": [
    {
     "data": {
      "application/vnd.jupyter.widget-view+json": {
       "model_id": "9599715c5e7c46c5ac2ba148813715be",
       "version_major": 2,
       "version_minor": 0
      },
      "text/plain": [
       "Canvas(toolbar=Toolbar(toolitems=[('Home', 'Reset original view', 'home', 'home'), ('Back', 'Back to previous …"
      ]
     },
     "metadata": {},
     "output_type": "display_data"
    }
   ],
   "source": [
    "import joypy\n",
    "from matplotlib import cm\n",
    "\n",
    "fig, axes = joypy.joyplot(select_time,column=\"speed\",by ='time_since_begin_exp_round' ,colormap=cm.autumn_r,title=plate,fade=True,figsize=(6,5))"
   ]
  },
  {
   "cell_type": "code",
   "execution_count": 4,
   "metadata": {},
   "outputs": [],
   "source": [
    "plates = time_hypha_info['Plate'].unique()\n",
    "time_hypha_table = {}\n",
    "for plate in plates: \n",
    "    time_hypha_table[plate]=global_hypha_info.loc[global_hypha_info['Plate']==plate].copy()\n",
    "    select_time_plate = time_plate_info.loc[time_plate_info['Plate']==plate]\n",
    "    last_time = np.max(select_time_plate.loc[select_time_plate['out_study']==0]['time_since_begin'])\n",
    "    select_time = time_hypha_info.loc[time_hypha_info['Plate']==plate]\n",
    "    select_global = global_hypha_info.loc[global_hypha_info['Plate']==plate]\n",
    "    select_global = select_global.loc[select_global['lapse']>40]\n",
    "#     select_global = select_global.loc[select_global['mean_speed']>60]\n",
    "    hyphae_interest= select_global['hypha'].unique()\n",
    "    select_time = select_time.loc[select_time['end'].isin(hyphae_interest)]\n",
    "    select_time = select_time.loc[select_time['has_reached_final_pos']=='False']\n",
    "    select_time = select_time.loc[select_time['speed'].between(40,400)]\n",
    "    select_time = select_time.loc[select_time['distance_final_pos']>100]\n",
    "    select_time = select_time.loc[select_time['in_ROI']=='True']\n",
    "    select_time = select_time.loc[select_time['time_since_begin_exp']<=last_time]\n",
    "    select_time['speed'] = select_time['speed'].astype(float)"
   ]
  },
  {
   "cell_type": "code",
   "execution_count": 5,
   "metadata": {
    "collapsed": true,
    "jupyter": {
     "outputs_hidden": true
    }
   },
   "outputs": [
    {
     "data": {
      "application/vnd.jupyter.widget-view+json": {
       "model_id": "1c643518cf0c41ccbecd7367bba92396",
       "version_major": 2,
       "version_minor": 0
      },
      "text/plain": [
       "Canvas(toolbar=Toolbar(toolitems=[('Home', 'Reset original view', 'home', 'home'), ('Back', 'Back to previous …"
      ]
     },
     "metadata": {},
     "output_type": "display_data"
    },
    {
     "data": {
      "text/plain": [
       "<AxesSubplot:xlabel='time_since_begin_exp', ylabel='speed'>"
      ]
     },
     "execution_count": 5,
     "metadata": {},
     "output_type": "execute_result"
    }
   ],
   "source": [
    "select_time.plot('time_since_begin_exp','speed',kind='scatter')"
   ]
  },
  {
   "cell_type": "code",
   "execution_count": 15,
   "metadata": {},
   "outputs": [
    {
     "data": {
      "application/vnd.jupyter.widget-view+json": {
       "model_id": "20bed8aafb9c43aaaa4d57462297cd52",
       "version_major": 2,
       "version_minor": 0
      },
      "text/plain": [
       "Canvas(toolbar=Toolbar(toolitems=[('Home', 'Reset original view', 'home', 'home'), ('Back', 'Back to previous …"
      ]
     },
     "metadata": {},
     "output_type": "display_data"
    },
    {
     "data": {
      "text/plain": [
       "<AxesSubplot:xlabel='speed', ylabel='time_since_begin_exp_round'>"
      ]
     },
     "execution_count": 15,
     "metadata": {},
     "output_type": "execute_result"
    }
   ],
   "source": [
    "select_time.plot.hexbin(x=\"speed\", y=\"time_since_begin_exp_round\", gridsize=15)"
   ]
  },
  {
   "cell_type": "code",
   "execution_count": 81,
   "metadata": {},
   "outputs": [
    {
     "data": {
      "application/vnd.jupyter.widget-view+json": {
       "model_id": "168da1ac5afa4827afaf4dfebceae886",
       "version_major": 2,
       "version_minor": 0
      },
      "text/plain": [
       "Canvas(toolbar=Toolbar(toolitems=[('Home', 'Reset original view', 'home', 'home'), ('Back', 'Back to previous …"
      ]
     },
     "metadata": {},
     "output_type": "display_data"
    }
   ],
   "source": [
    "import joypy\n",
    "from matplotlib import cm\n",
    "\n",
    "fig, axes = joypy.joyplot(select_time,column=\"speed\",by ='time_since_begin_exp_round' ,ylabels=False, xlabels=False, \n",
    "                          grid=False, fill=False, background='k', linecolor=\"w\", linewidth=1,\n",
    "                          legend=False, overlap=0.5, figsize=(6,5),kind=\"counts\", bins=20)\n",
    "plt.subplots_adjust(left=0, right=1, top=1, bottom=0)\n",
    "for a in axes[:-1]:\n",
    "    a.set_xlim([-200,600])   "
   ]
  },
  {
   "cell_type": "code",
   "execution_count": 6,
   "metadata": {},
   "outputs": [
    {
     "name": "stdout",
     "output_type": "stream",
     "text": [
      "Collecting joypy\n",
      "  Downloading joypy-0.2.5-py2.py3-none-any.whl (8.4 kB)\n",
      "Requirement already satisfied: numpy>=1.16.5 in c:\\users\\coren\\anaconda3\\envs\\cleanmsc\\lib\\site-packages (from joypy) (1.19.1)\n",
      "Requirement already satisfied: pandas>=0.20.0 in c:\\users\\coren\\anaconda3\\envs\\cleanmsc\\lib\\site-packages (from joypy) (1.1.2)\n",
      "Requirement already satisfied: matplotlib in c:\\users\\coren\\anaconda3\\envs\\cleanmsc\\lib\\site-packages (from joypy) (3.3.1)\n",
      "Requirement already satisfied: scipy>=0.11.0 in c:\\users\\coren\\anaconda3\\envs\\cleanmsc\\lib\\site-packages (from joypy) (1.5.2)\n",
      "Requirement already satisfied: pytz>=2017.2 in c:\\users\\coren\\anaconda3\\envs\\cleanmsc\\lib\\site-packages (from pandas>=0.20.0->joypy) (2020.1)\n",
      "Requirement already satisfied: python-dateutil>=2.7.3 in c:\\users\\coren\\anaconda3\\envs\\cleanmsc\\lib\\site-packages (from pandas>=0.20.0->joypy) (2.8.1)\n",
      "Requirement already satisfied: certifi>=2020.06.20 in c:\\users\\coren\\anaconda3\\envs\\cleanmsc\\lib\\site-packages (from matplotlib->joypy) (2020.12.5)\n",
      "Requirement already satisfied: cycler>=0.10 in c:\\users\\coren\\anaconda3\\envs\\cleanmsc\\lib\\site-packages (from matplotlib->joypy) (0.10.0)\n",
      "Requirement already satisfied: pyparsing!=2.0.4,!=2.1.2,!=2.1.6,>=2.0.3 in c:\\users\\coren\\anaconda3\\envs\\cleanmsc\\lib\\site-packages (from matplotlib->joypy) (2.4.7)\n",
      "Requirement already satisfied: pillow>=6.2.0 in c:\\users\\coren\\anaconda3\\envs\\cleanmsc\\lib\\site-packages (from matplotlib->joypy) (7.2.0)\n",
      "Requirement already satisfied: kiwisolver>=1.0.1 in c:\\users\\coren\\anaconda3\\envs\\cleanmsc\\lib\\site-packages (from matplotlib->joypy) (1.2.0)\n",
      "Requirement already satisfied: six>=1.5 in c:\\users\\coren\\anaconda3\\envs\\cleanmsc\\lib\\site-packages (from python-dateutil>=2.7.3->pandas>=0.20.0->joypy) (1.15.0)\n",
      "Installing collected packages: joypy\n",
      "Successfully installed joypy-0.2.5\n"
     ]
    }
   ],
   "source": [
    "!pip install joypy"
   ]
  },
  {
   "cell_type": "code",
   "execution_count": 33,
   "metadata": {},
   "outputs": [
    {
     "data": {
      "application/vnd.jupyter.widget-view+json": {
       "model_id": "c76c68e28f0d47d7846a00c5688656a5",
       "version_major": 2,
       "version_minor": 0
      },
      "text/plain": [
       "Canvas(toolbar=Toolbar(toolitems=[('Home', 'Reset original view', 'home', 'home'), ('Back', 'Back to previous …"
      ]
     },
     "metadata": {},
     "output_type": "display_data"
    },
    {
     "data": {
      "text/plain": [
       "<bound method Artist.set of <AxesSubplot:>>"
      ]
     },
     "execution_count": 33,
     "metadata": {},
     "output_type": "execute_result"
    }
   ],
   "source": [
    "df = pd.concat([select_time.groupby('time_since_begin_exp')['speed'].mean()], axis=1).copy()\n",
    "df = df.sort_index()\n",
    "fig, ax = plt.subplots(1, 1, figsize=(8, 4))\n",
    "ax.plot(df.index,df['speed'],label=plate)\n",
    "ax.set"
   ]
  },
  {
   "cell_type": "code",
   "execution_count": 30,
   "metadata": {},
   "outputs": [
    {
     "data": {
      "text/plain": [
       "time_since_begin_exp\n",
       "0.000000     231.290591\n",
       "1.116667     246.775005\n",
       "2.133333     242.173418\n",
       "3.133333     216.080811\n",
       "4.133333     208.793838\n",
       "                ...    \n",
       "76.266667    291.013586\n",
       "77.266667    268.545814\n",
       "78.266667    270.217940\n",
       "79.266667    272.571430\n",
       "80.266667    262.784631\n",
       "Name: speed, Length: 81, dtype: float64"
      ]
     },
     "execution_count": 30,
     "metadata": {},
     "output_type": "execute_result"
    }
   ],
   "source": [
    "df['speed']"
   ]
  },
  {
   "cell_type": "code",
   "execution_count": 11,
   "metadata": {},
   "outputs": [
    {
     "data": {
      "text/html": [
       "<div>\n",
       "<style scoped>\n",
       "    .dataframe tbody tr th:only-of-type {\n",
       "        vertical-align: middle;\n",
       "    }\n",
       "\n",
       "    .dataframe tbody tr th {\n",
       "        vertical-align: top;\n",
       "    }\n",
       "\n",
       "    .dataframe thead th {\n",
       "        text-align: right;\n",
       "    }\n",
       "</style>\n",
       "<table border=\"1\" class=\"dataframe\">\n",
       "  <thead>\n",
       "    <tr style=\"text-align: right;\">\n",
       "      <th></th>\n",
       "      <th>end</th>\n",
       "      <th>distance_final_pos</th>\n",
       "      <th>timedelta</th>\n",
       "      <th>time_since_emergence</th>\n",
       "      <th>speed</th>\n",
       "      <th>timestep</th>\n",
       "      <th>timestep_init</th>\n",
       "      <th>time_init</th>\n",
       "      <th>degree</th>\n",
       "      <th>width_tip_edge</th>\n",
       "      <th>...</th>\n",
       "      <th>time_since_begin_exp</th>\n",
       "      <th>width_root_edge</th>\n",
       "      <th>Plate</th>\n",
       "      <th>folder</th>\n",
       "      <th>t</th>\n",
       "      <th>density_window500</th>\n",
       "      <th>density_window1000</th>\n",
       "      <th>density_window2000</th>\n",
       "      <th>distance_final_pos_smooth</th>\n",
       "      <th>new_branch</th>\n",
       "    </tr>\n",
       "  </thead>\n",
       "  <tbody>\n",
       "    <tr>\n",
       "      <th>1</th>\n",
       "      <td>1</td>\n",
       "      <td>15976.8</td>\n",
       "      <td>1.11667</td>\n",
       "      <td>0</td>\n",
       "      <td>198.007</td>\n",
       "      <td>0</td>\n",
       "      <td>0</td>\n",
       "      <td>0</td>\n",
       "      <td>1</td>\n",
       "      <td>8.57501</td>\n",
       "      <td>...</td>\n",
       "      <td>0</td>\n",
       "      <td>NaN</td>\n",
       "      <td>94</td>\n",
       "      <td>Analysis_1636046622780809853_0_100_Version9</td>\n",
       "      <td>0</td>\n",
       "      <td>1739.13</td>\n",
       "      <td>NaN</td>\n",
       "      <td>NaN</td>\n",
       "      <td>6281.170265</td>\n",
       "      <td>False</td>\n",
       "    </tr>\n",
       "    <tr>\n",
       "      <th>19</th>\n",
       "      <td>19</td>\n",
       "      <td>17232.6</td>\n",
       "      <td>1.11667</td>\n",
       "      <td>0</td>\n",
       "      <td>296.98</td>\n",
       "      <td>0</td>\n",
       "      <td>0</td>\n",
       "      <td>0</td>\n",
       "      <td>1</td>\n",
       "      <td>7.58277</td>\n",
       "      <td>...</td>\n",
       "      <td>0</td>\n",
       "      <td>NaN</td>\n",
       "      <td>94</td>\n",
       "      <td>Analysis_1636046622780809853_0_100_Version9</td>\n",
       "      <td>0</td>\n",
       "      <td>2374.49</td>\n",
       "      <td>NaN</td>\n",
       "      <td>NaN</td>\n",
       "      <td>3984.035661</td>\n",
       "      <td>False</td>\n",
       "    </tr>\n",
       "    <tr>\n",
       "      <th>56</th>\n",
       "      <td>56</td>\n",
       "      <td>2062.23</td>\n",
       "      <td>1.11667</td>\n",
       "      <td>0</td>\n",
       "      <td>159.966</td>\n",
       "      <td>0</td>\n",
       "      <td>0</td>\n",
       "      <td>0</td>\n",
       "      <td>1</td>\n",
       "      <td>None</td>\n",
       "      <td>...</td>\n",
       "      <td>0</td>\n",
       "      <td>NaN</td>\n",
       "      <td>94</td>\n",
       "      <td>Analysis_1636046622780809853_0_100_Version9</td>\n",
       "      <td>0</td>\n",
       "      <td>3123.48</td>\n",
       "      <td>NaN</td>\n",
       "      <td>NaN</td>\n",
       "      <td>671.261785</td>\n",
       "      <td>False</td>\n",
       "    </tr>\n",
       "    <tr>\n",
       "      <th>139</th>\n",
       "      <td>139</td>\n",
       "      <td>15770.2</td>\n",
       "      <td>1.11667</td>\n",
       "      <td>0</td>\n",
       "      <td>270.209</td>\n",
       "      <td>0</td>\n",
       "      <td>0</td>\n",
       "      <td>0</td>\n",
       "      <td>1</td>\n",
       "      <td>8.93035</td>\n",
       "      <td>...</td>\n",
       "      <td>0</td>\n",
       "      <td>NaN</td>\n",
       "      <td>94</td>\n",
       "      <td>Analysis_1636046622780809853_0_100_Version9</td>\n",
       "      <td>0</td>\n",
       "      <td>1166.38</td>\n",
       "      <td>NaN</td>\n",
       "      <td>NaN</td>\n",
       "      <td>3216.089259</td>\n",
       "      <td>False</td>\n",
       "    </tr>\n",
       "    <tr>\n",
       "      <th>1</th>\n",
       "      <td>1</td>\n",
       "      <td>15852.6</td>\n",
       "      <td>1.01667</td>\n",
       "      <td>1.11667</td>\n",
       "      <td>192.039</td>\n",
       "      <td>1</td>\n",
       "      <td>0</td>\n",
       "      <td>0</td>\n",
       "      <td>1</td>\n",
       "      <td>8.50418</td>\n",
       "      <td>...</td>\n",
       "      <td>1.11667</td>\n",
       "      <td>NaN</td>\n",
       "      <td>94</td>\n",
       "      <td>Analysis_1636046622780809853_0_100_Version9</td>\n",
       "      <td>1</td>\n",
       "      <td>1704.35</td>\n",
       "      <td>NaN</td>\n",
       "      <td>NaN</td>\n",
       "      <td>6209.875340</td>\n",
       "      <td>False</td>\n",
       "    </tr>\n",
       "    <tr>\n",
       "      <th>...</th>\n",
       "      <td>...</td>\n",
       "      <td>...</td>\n",
       "      <td>...</td>\n",
       "      <td>...</td>\n",
       "      <td>...</td>\n",
       "      <td>...</td>\n",
       "      <td>...</td>\n",
       "      <td>...</td>\n",
       "      <td>...</td>\n",
       "      <td>...</td>\n",
       "      <td>...</td>\n",
       "      <td>...</td>\n",
       "      <td>...</td>\n",
       "      <td>...</td>\n",
       "      <td>...</td>\n",
       "      <td>...</td>\n",
       "      <td>...</td>\n",
       "      <td>...</td>\n",
       "      <td>...</td>\n",
       "      <td>...</td>\n",
       "      <td>...</td>\n",
       "    </tr>\n",
       "    <tr>\n",
       "      <th>18054</th>\n",
       "      <td>18054</td>\n",
       "      <td>1948.69</td>\n",
       "      <td>1</td>\n",
       "      <td>37.1167</td>\n",
       "      <td>213.224</td>\n",
       "      <td>80</td>\n",
       "      <td>43</td>\n",
       "      <td>43.15</td>\n",
       "      <td>1</td>\n",
       "      <td>8.4672</td>\n",
       "      <td>...</td>\n",
       "      <td>80.2667</td>\n",
       "      <td>NaN</td>\n",
       "      <td>94</td>\n",
       "      <td>Analysis_1636046622780809853_0_100_Version9</td>\n",
       "      <td>80</td>\n",
       "      <td>2434.78</td>\n",
       "      <td>NaN</td>\n",
       "      <td>NaN</td>\n",
       "      <td>395.750615</td>\n",
       "      <td>False</td>\n",
       "    </tr>\n",
       "    <tr>\n",
       "      <th>18897</th>\n",
       "      <td>18897</td>\n",
       "      <td>3333.32</td>\n",
       "      <td>1</td>\n",
       "      <td>36.1167</td>\n",
       "      <td>288.245</td>\n",
       "      <td>80</td>\n",
       "      <td>44</td>\n",
       "      <td>44.15</td>\n",
       "      <td>1</td>\n",
       "      <td>5.48694</td>\n",
       "      <td>...</td>\n",
       "      <td>80.2667</td>\n",
       "      <td>NaN</td>\n",
       "      <td>94</td>\n",
       "      <td>Analysis_1636046622780809853_0_100_Version9</td>\n",
       "      <td>80</td>\n",
       "      <td>1477.1</td>\n",
       "      <td>NaN</td>\n",
       "      <td>NaN</td>\n",
       "      <td>675.097396</td>\n",
       "      <td>False</td>\n",
       "    </tr>\n",
       "    <tr>\n",
       "      <th>24489</th>\n",
       "      <td>24489</td>\n",
       "      <td>3371.07</td>\n",
       "      <td>1</td>\n",
       "      <td>30.1167</td>\n",
       "      <td>292.301</td>\n",
       "      <td>80</td>\n",
       "      <td>50</td>\n",
       "      <td>50.15</td>\n",
       "      <td>1</td>\n",
       "      <td>9.54535</td>\n",
       "      <td>...</td>\n",
       "      <td>80.2667</td>\n",
       "      <td>NaN</td>\n",
       "      <td>94</td>\n",
       "      <td>Analysis_1636046622780809853_0_100_Version9</td>\n",
       "      <td>80</td>\n",
       "      <td>1168.7</td>\n",
       "      <td>NaN</td>\n",
       "      <td>NaN</td>\n",
       "      <td>754.761693</td>\n",
       "      <td>False</td>\n",
       "    </tr>\n",
       "    <tr>\n",
       "      <th>31802</th>\n",
       "      <td>31802</td>\n",
       "      <td>3035.19</td>\n",
       "      <td>1</td>\n",
       "      <td>24.1167</td>\n",
       "      <td>280.05</td>\n",
       "      <td>80</td>\n",
       "      <td>56</td>\n",
       "      <td>56.15</td>\n",
       "      <td>1</td>\n",
       "      <td>10.4116</td>\n",
       "      <td>...</td>\n",
       "      <td>80.2667</td>\n",
       "      <td>NaN</td>\n",
       "      <td>94</td>\n",
       "      <td>Analysis_1636046622780809853_0_100_Version9</td>\n",
       "      <td>80</td>\n",
       "      <td>1161.74</td>\n",
       "      <td>NaN</td>\n",
       "      <td>NaN</td>\n",
       "      <td>732.984782</td>\n",
       "      <td>False</td>\n",
       "    </tr>\n",
       "    <tr>\n",
       "      <th>37105</th>\n",
       "      <td>37105</td>\n",
       "      <td>2786.1</td>\n",
       "      <td>1</td>\n",
       "      <td>21.1167</td>\n",
       "      <td>242.215</td>\n",
       "      <td>80</td>\n",
       "      <td>59</td>\n",
       "      <td>59.15</td>\n",
       "      <td>1</td>\n",
       "      <td>7.99527</td>\n",
       "      <td>...</td>\n",
       "      <td>80.2667</td>\n",
       "      <td>NaN</td>\n",
       "      <td>94</td>\n",
       "      <td>Analysis_1636046622780809853_0_100_Version9</td>\n",
       "      <td>80</td>\n",
       "      <td>4338.55</td>\n",
       "      <td>NaN</td>\n",
       "      <td>NaN</td>\n",
       "      <td>702.247907</td>\n",
       "      <td>None</td>\n",
       "    </tr>\n",
       "  </tbody>\n",
       "</table>\n",
       "<p>966 rows × 23 columns</p>\n",
       "</div>"
      ],
      "text/plain": [
       "         end distance_final_pos timedelta time_since_emergence    speed  \\\n",
       "1          1            15976.8   1.11667                    0  198.007   \n",
       "19        19            17232.6   1.11667                    0   296.98   \n",
       "56        56            2062.23   1.11667                    0  159.966   \n",
       "139      139            15770.2   1.11667                    0  270.209   \n",
       "1          1            15852.6   1.01667              1.11667  192.039   \n",
       "...      ...                ...       ...                  ...      ...   \n",
       "18054  18054            1948.69         1              37.1167  213.224   \n",
       "18897  18897            3333.32         1              36.1167  288.245   \n",
       "24489  24489            3371.07         1              30.1167  292.301   \n",
       "31802  31802            3035.19         1              24.1167   280.05   \n",
       "37105  37105             2786.1         1              21.1167  242.215   \n",
       "\n",
       "      timestep timestep_init time_init degree width_tip_edge  ...  \\\n",
       "1            0             0         0      1        8.57501  ...   \n",
       "19           0             0         0      1        7.58277  ...   \n",
       "56           0             0         0      1           None  ...   \n",
       "139          0             0         0      1        8.93035  ...   \n",
       "1            1             0         0      1        8.50418  ...   \n",
       "...        ...           ...       ...    ...            ...  ...   \n",
       "18054       80            43     43.15      1         8.4672  ...   \n",
       "18897       80            44     44.15      1        5.48694  ...   \n",
       "24489       80            50     50.15      1        9.54535  ...   \n",
       "31802       80            56     56.15      1        10.4116  ...   \n",
       "37105       80            59     59.15      1        7.99527  ...   \n",
       "\n",
       "      time_since_begin_exp width_root_edge Plate  \\\n",
       "1                        0             NaN    94   \n",
       "19                       0             NaN    94   \n",
       "56                       0             NaN    94   \n",
       "139                      0             NaN    94   \n",
       "1                  1.11667             NaN    94   \n",
       "...                    ...             ...   ...   \n",
       "18054              80.2667             NaN    94   \n",
       "18897              80.2667             NaN    94   \n",
       "24489              80.2667             NaN    94   \n",
       "31802              80.2667             NaN    94   \n",
       "37105              80.2667             NaN    94   \n",
       "\n",
       "                                            folder   t  density_window500  \\\n",
       "1      Analysis_1636046622780809853_0_100_Version9   0            1739.13   \n",
       "19     Analysis_1636046622780809853_0_100_Version9   0            2374.49   \n",
       "56     Analysis_1636046622780809853_0_100_Version9   0            3123.48   \n",
       "139    Analysis_1636046622780809853_0_100_Version9   0            1166.38   \n",
       "1      Analysis_1636046622780809853_0_100_Version9   1            1704.35   \n",
       "...                                            ...  ..                ...   \n",
       "18054  Analysis_1636046622780809853_0_100_Version9  80            2434.78   \n",
       "18897  Analysis_1636046622780809853_0_100_Version9  80             1477.1   \n",
       "24489  Analysis_1636046622780809853_0_100_Version9  80             1168.7   \n",
       "31802  Analysis_1636046622780809853_0_100_Version9  80            1161.74   \n",
       "37105  Analysis_1636046622780809853_0_100_Version9  80            4338.55   \n",
       "\n",
       "      density_window1000  density_window2000 distance_final_pos_smooth  \\\n",
       "1                    NaN                 NaN               6281.170265   \n",
       "19                   NaN                 NaN               3984.035661   \n",
       "56                   NaN                 NaN                671.261785   \n",
       "139                  NaN                 NaN               3216.089259   \n",
       "1                    NaN                 NaN               6209.875340   \n",
       "...                  ...                 ...                       ...   \n",
       "18054                NaN                 NaN                395.750615   \n",
       "18897                NaN                 NaN                675.097396   \n",
       "24489                NaN                 NaN                754.761693   \n",
       "31802                NaN                 NaN                732.984782   \n",
       "37105                NaN                 NaN                702.247907   \n",
       "\n",
       "      new_branch  \n",
       "1          False  \n",
       "19         False  \n",
       "56         False  \n",
       "139        False  \n",
       "1          False  \n",
       "...          ...  \n",
       "18054      False  \n",
       "18897      False  \n",
       "24489      False  \n",
       "31802      False  \n",
       "37105       None  \n",
       "\n",
       "[966 rows x 23 columns]"
      ]
     },
     "execution_count": 11,
     "metadata": {},
     "output_type": "execute_result"
    }
   ],
   "source": [
    "select_time"
   ]
  }
 ],
 "metadata": {
  "kernelspec": {
   "display_name": "Python 3",
   "language": "python",
   "name": "python3"
  },
  "language_info": {
   "codemirror_mode": {
    "name": "ipython",
    "version": 3
   },
   "file_extension": ".py",
   "mimetype": "text/x-python",
   "name": "python",
   "nbconvert_exporter": "python",
   "pygments_lexer": "ipython3",
   "version": "3.7.9"
  }
 },
 "nbformat": 4,
 "nbformat_minor": 4
}
